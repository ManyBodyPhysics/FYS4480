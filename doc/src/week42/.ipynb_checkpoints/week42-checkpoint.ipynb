{
 "cells": [
  {
   "cell_type": "markdown",
   "id": "3caae3c8",
   "metadata": {
    "editable": true
   },
   "source": [
    "<!-- HTML file automatically generated from DocOnce source (https://github.com/doconce/doconce/)\n",
    "doconce format html week42.do.txt --no_mako -->\n",
    "<!-- dom:TITLE: Week 42: Hartree-Fock theory and density functional theory -->"
   ]
  },
  {
   "cell_type": "markdown",
   "id": "3b64d59c",
   "metadata": {
    "editable": true
   },
   "source": [
    "# Week 42: Hartree-Fock theory and density functional theory\n",
    "**Morten Hjorth-Jensen**, Department of Physics and Center for Computing in Science Education, University of Oslo, Norway\n",
    "\n",
    "Date: **October 13-17**\n",
    "\n",
    "<!-- todo: add material about the calculation of the HEG -->"
   ]
  },
  {
   "cell_type": "markdown",
   "id": "6a48a5f2",
   "metadata": {
    "editable": true
   },
   "source": [
    "## Week 42, October 14-18, 2024\n",
    "**Topics to be covered.**\n",
    "\n",
    "**Thursday**:\n",
    "1. The first lecture is about the finalization of the calculation of the ground state energy of the homogeneous electron gas in three dimensions\n",
    "\n",
    "2. Start discussion of density functional theory\n",
    "<!-- * Video of lecture at <https://youtu.be/VbLlyZYRnYg> -->\n",
    "<!-- * Whiteboard notes at <https://github.com/ManyBodyPhysics/FYS4480/blob/master/doc/HandwrittenNotes/2024/NotesOctober17.pdf> -->\n",
    "\n",
    "**Friday**:\n",
    "1. Density functional theory\n",
    "\n",
    "2. Discussions of  first midterm\n",
    "\n",
    "3. Lecture Material: These slides and handwritten notes\n",
    "\n",
    "4. First midterm set at <https://github.com/ManyBodyPhysics/FYS4480/blob/master/doc/Exercises/2025/FirstMidterm2025.pdf>"
   ]
  },
  {
   "cell_type": "markdown",
   "id": "09cfbbf7",
   "metadata": {
    "editable": true
   },
   "source": [
    "## Hartree-Fock ground state energy for the  electron gas in three dimensions\n",
    "\n",
    "We consider a system of electrons in infinite matter, the so-called electron gas. This is a homogeneous system and the one-particle states are given by plane wave function normalized to a volume $V$ \n",
    "for a box with length $L$ (the limit $L\\rightarrow \\infty$ is to be taken after we have computed various expectation values)"
   ]
  },
  {
   "cell_type": "markdown",
   "id": "78dbab0c",
   "metadata": {
    "editable": true
   },
   "source": [
    "$$\n",
    "\\psi_{\\mathbf{k}\\sigma}(\\mathbf{r})= \\frac{1}{\\sqrt{V}}\\exp{(i\\mathbf{kr})}\\xi_{\\sigma}\n",
    "$$"
   ]
  },
  {
   "cell_type": "markdown",
   "id": "6183386d",
   "metadata": {
    "editable": true
   },
   "source": [
    "where $\\mathbf{k}$ is the wave number and  $\\xi_{\\sigma}$ is a spin function for either spin up or down"
   ]
  },
  {
   "cell_type": "markdown",
   "id": "c798b2e0",
   "metadata": {
    "editable": true
   },
   "source": [
    "$$\n",
    "\\xi_{\\sigma=+1/2}=\\left(\\begin{array}{c} 1 \\\\ 0 \\end{array}\\right) \\hspace{0.5cm}\n",
    "\\xi_{\\sigma=-1/2}=\\left(\\begin{array}{c} 0 \\\\ 1 \\end{array}\\right).\n",
    "$$"
   ]
  },
  {
   "cell_type": "markdown",
   "id": "0615fff7",
   "metadata": {
    "editable": true
   },
   "source": [
    "## Periodic boundary conditions\n",
    "\n",
    "We assume that we have periodic boundary conditions which limit the allowed wave numbers to"
   ]
  },
  {
   "cell_type": "markdown",
   "id": "2a244da0",
   "metadata": {
    "editable": true
   },
   "source": [
    "$$\n",
    "k_i=\\frac{2\\pi n_i}{L}\\hspace{0.5cm} i=x,y,z \\hspace{0.5cm} n_i=0,\\pm 1,\\pm 2, \\dots\n",
    "$$"
   ]
  },
  {
   "cell_type": "markdown",
   "id": "82481453",
   "metadata": {
    "editable": true
   },
   "source": [
    "We assume first that the particles interact via a central, symmetric and translationally invariant\n",
    "interaction  $V(r_{12})$ with\n",
    "$r_{12}=|\\mathbf{r}_1-\\mathbf{r}_2|$.  The interaction is spin independent."
   ]
  },
  {
   "cell_type": "markdown",
   "id": "e0aab0f3",
   "metadata": {
    "editable": true
   },
   "source": [
    "## Total Hamiltonian\n",
    "\n",
    "The total Hamiltonian consists then of kinetic and potential energy"
   ]
  },
  {
   "cell_type": "markdown",
   "id": "b203711b",
   "metadata": {
    "editable": true
   },
   "source": [
    "$$\n",
    "\\hat{H} = \\hat{T}+\\hat{V}.\n",
    "$$"
   ]
  },
  {
   "cell_type": "markdown",
   "id": "fbf526f4",
   "metadata": {
    "editable": true
   },
   "source": [
    "The operator for the kinetic energy is given by"
   ]
  },
  {
   "cell_type": "markdown",
   "id": "e0fb9726",
   "metadata": {
    "editable": true
   },
   "source": [
    "$$\n",
    "\\hat{T}=\\sum_{\\mathbf{k}\\sigma}\\frac{\\hbar^2k^2}{2m}a_{\\mathbf{k}\\sigma}^{\\dagger}a_{\\mathbf{k}\\sigma}.\n",
    "$$"
   ]
  },
  {
   "cell_type": "markdown",
   "id": "21b29b19",
   "metadata": {
    "editable": true
   },
   "source": [
    "## Exercise 1: Express interaction using creation and annihilation operators\n",
    "\n",
    "Find the expression for the interaction\n",
    "$\\hat{V}$ expressed with creation and annihilation operators.\n",
    "\n",
    "The expression for the interaction\n",
    "has to be written in  $k$ space, even though $V$ depends only on the relative distance. It means that you need to set up the Fourier transform $\\langle \\mathbf{k}_i\\mathbf{k}_j| V | \\mathbf{k}_m\\mathbf{k}_n\\rangle$.\n",
    "\n",
    "A general two-body interaction element is given by (not using anti-symmetrized matrix elements)"
   ]
  },
  {
   "cell_type": "markdown",
   "id": "8a1a2830",
   "metadata": {
    "editable": true
   },
   "source": [
    "$$\n",
    "\\hat{V} = \\frac{1}{2} \\sum_{pqrs} \\langle pq \\hat{v} \\vert rs\\rangle a_p^\\dagger a_q^\\dagger a_s a_r ,\n",
    "$$"
   ]
  },
  {
   "cell_type": "markdown",
   "id": "bfff0320",
   "metadata": {
    "editable": true
   },
   "source": [
    "where $\\hat{v}$ is assumed to depend only on the relative distance between two interacting particles, that is\n",
    "$\\hat{v} = v(\\vec r_1, \\vec r_2) = v(|\\vec r_1 - \\vec r_2|) = v(r)$, with $r = |\\vec r_1 - \\vec r_2|$)."
   ]
  },
  {
   "cell_type": "markdown",
   "id": "9b9dace2",
   "metadata": {
    "editable": true
   },
   "source": [
    "## With spin degrees of freedom\n",
    "\n",
    "In our case we have, writing out explicitely the spin degrees of freedom as well"
   ]
  },
  {
   "cell_type": "markdown",
   "id": "8e8cf5fd",
   "metadata": {
    "editable": true
   },
   "source": [
    "<!-- Equation labels as ordinary links -->\n",
    "<div id=\"_auto1\"></div>\n",
    "\n",
    "$$\n",
    "\\begin{equation}\n",
    "\\hat{V} = \\frac{1}{2} \\sum_{\\substack{\\sigma_p \\sigma_q \\\\ \\sigma_r \\sigma_s}}\n",
    "\\sum_{\\substack{\\mathbf{k}_p \\mathbf{k}_q \\\\ \\mathbf{k}_r \\mathbf{k}_s}}\n",
    "\\langle \\mathbf{k}_p \\sigma_p, \\mathbf{k}_q \\sigma_2\\vert v \\vert \\mathbf{k}_r \\sigma_3, \\mathbf{k}_s \\sigma_s\\rangle\n",
    "a_{\\mathbf{k}_p \\sigma_p}^\\dagger a_{\\mathbf{k}_q \\sigma_q}^\\dagger a_{\\mathbf{k}_s \\sigma_s} a_{\\mathbf{k}_r \\sigma_r} .\n",
    "\\label{_auto1} \\tag{1}\n",
    "\\end{equation}\n",
    "$$"
   ]
  },
  {
   "cell_type": "markdown",
   "id": "094ee08c",
   "metadata": {
    "editable": true
   },
   "source": [
    "## Plane waves\n",
    "\n",
    "Inserting plane waves as eigenstates we can rewrite the matrix element as"
   ]
  },
  {
   "cell_type": "markdown",
   "id": "359606ef",
   "metadata": {
    "editable": true
   },
   "source": [
    "$$\n",
    "\\langle \\mathbf{k}_p \\sigma_p, \\mathbf{k}_q \\sigma_q\\vert \\hat{v} \\vert \\mathbf{k}_r \\sigma_r, \\mathbf{k}_s \\sigma_s\\rangle =\n",
    "\\frac{1}{V^2} \\delta_{\\sigma_p \\sigma_r} \\delta_{\\sigma_q \\sigma_s}\n",
    "\\int\\int \\exp{-i(\\mathbf{k}_p \\cdot \\mathbf{r}_p)} \\exp{-i( \\mathbf{k}_q \\cdot \\mathbf{r}_q)} \\hat{v}(r) \\exp{i(\\mathbf{k}_r \\cdot \\mathbf{r}_p)} \\exp{i( \\mathbf{k}_s \\cdot \\mathbf{r}_q)} d\\mathbf{r}_p d\\mathbf{r}_q ,\n",
    "$$"
   ]
  },
  {
   "cell_type": "markdown",
   "id": "34eaa146",
   "metadata": {
    "editable": true
   },
   "source": [
    "where we have used the orthogonality properties of the spin functions. We change now the variables of integration\n",
    "by defining $\\mathbf{r} = \\mathbf{r}_p - \\mathbf{r}_q$, which gives $\\mathbf{r}_p = \\mathbf{r} + \\mathbf{r}_q$ and $d^3 \\mathbf{r} = d^3 \\mathbf{r}_p$."
   ]
  },
  {
   "cell_type": "markdown",
   "id": "a2a51926",
   "metadata": {
    "editable": true
   },
   "source": [
    "## Integration limits\n",
    "\n",
    "The limits are not changed since they are from $-\\infty$ to  $\\infty$ for all integrals. This results in"
   ]
  },
  {
   "cell_type": "markdown",
   "id": "4251f560",
   "metadata": {
    "editable": true
   },
   "source": [
    "$$\n",
    "\\begin{align*}\n",
    "\\langle \\mathbf{k}_p \\sigma_p, \\mathbf{k}_q \\sigma_q\\vert \\hat{v} \\vert \\mathbf{k}_r \\sigma_r, \\mathbf{k}_s \\sigma_s\\rangle\n",
    "&= \\frac{1}{V^2} \\delta_{\\sigma_p \\sigma_r} \\delta_{\\sigma_q \\sigma_s} \\int\\exp{i (\\mathbf{k}_s - \\mathbf{k}_q) \\cdot \\mathbf{r}_q} \\int v(r) \\exp{i(\\mathbf{k}_r - \\mathbf{k}_p) \\cdot ( \\mathbf{r} + \\mathbf{r}_q)} d\\mathbf{r} d\\mathbf{r}_q \\\\\n",
    "&= \\frac{1}{V^2} \\delta_{\\sigma_p \\sigma_r} \\delta_{\\sigma_q \\sigma_s} \\int v(r) \\exp{i\\left[(\\mathbf{k}_r - \\mathbf{k}_p) \\cdot \\mathbf{r}\\right]}\n",
    "\\int \\exp{i\\left[(\\mathbf{k}_s - \\mathbf{k}_q + \\mathbf{k}_r - \\mathbf{k}_p) \\cdot \\mathbf{r}_q\\right]} d\\mathbf{r}_q d\\mathbf{r} .\n",
    "\\end{align*}\n",
    "$$"
   ]
  },
  {
   "cell_type": "markdown",
   "id": "55bafc42",
   "metadata": {
    "editable": true
   },
   "source": [
    "## Recognizing integral\n",
    "\n",
    "We recognize the integral over $\\mathbf{r}_q$ as a $\\delta$-function, resulting in"
   ]
  },
  {
   "cell_type": "markdown",
   "id": "39bc0ffb",
   "metadata": {
    "editable": true
   },
   "source": [
    "$$\n",
    "\\langle \\mathbf{k}_p \\sigma_p, \\mathbf{k}_q \\sigma_q\\vert \\hat{v} \\vert \\mathbf{k}_r \\sigma_r, \\mathbf{k}_s \\sigma_s\\rangle =\n",
    "\\frac{1}{V} \\delta_{\\sigma_p \\sigma_r} \\delta_{\\sigma_q \\sigma_s} \\delta_{(\\mathbf{k}_p + \\mathbf{k}_q),(\\mathbf{k}_r + \\mathbf{k}_s)} \\int v(r) \\exp{i\\left[(\\mathbf{k}_r - \\mathbf{k}_p) \\cdot \\mathbf{r}\\right]} d^3r .\n",
    "$$"
   ]
  },
  {
   "cell_type": "markdown",
   "id": "15cdf7da",
   "metadata": {
    "editable": true
   },
   "source": [
    "For this equation to be different from zero, we must have conservation of momenta, we need to satisfy\n",
    "$\\mathbf{k}_p + \\mathbf{k}_q = \\mathbf{k}_r + \\mathbf{k}_s$."
   ]
  },
  {
   "cell_type": "markdown",
   "id": "d5acfd03",
   "metadata": {
    "editable": true
   },
   "source": [
    "## Conservation of momentum\n",
    "\n",
    "We can use the conservation of momenta to remove one of the summation variables resulting in"
   ]
  },
  {
   "cell_type": "markdown",
   "id": "95dfad04",
   "metadata": {
    "editable": true
   },
   "source": [
    "$$\n",
    "\\hat{V} =\n",
    "\\frac{1}{2V} \\sum_{\\sigma \\sigma'} \\sum_{\\mathbf{k}_p \\mathbf{k}_q \\mathbf{k}_r} \\left[ \\int v(r) \\exp{i\\left[(\\mathbf{k}_r - \\mathbf{k}_p) \\cdot \\mathbf{r}\\right]} d^3r \\right]\n",
    "a_{\\mathbf{k}_p \\sigma}^\\dagger a_{\\mathbf{k}_q \\sigma'}^\\dagger a_{\\mathbf{k}_p + \\mathbf{k}_q - \\mathbf{k}_r, \\sigma'} a_{\\mathbf{k}_r \\sigma},\n",
    "$$"
   ]
  },
  {
   "cell_type": "markdown",
   "id": "6f882ecf",
   "metadata": {
    "editable": true
   },
   "source": [
    "which can be rewritten as"
   ]
  },
  {
   "cell_type": "markdown",
   "id": "7e52e834",
   "metadata": {
    "editable": true
   },
   "source": [
    "<!-- Equation labels as ordinary links -->\n",
    "<div id=\"eq:V\"></div>\n",
    "\n",
    "$$\n",
    "\\begin{equation}\n",
    "\\hat{V} =\n",
    "\\frac{1}{2V} \\sum_{\\sigma \\sigma'} \\sum_{\\mathbf{k} \\mathbf{p} \\mathbf{q}} \\left[ \\int v(r) \\exp{-i( \\mathbf{q} \\cdot \\mathbf{r})} d\\mathbf{r} \\right]\n",
    "a_{\\mathbf{k} + \\mathbf{q}, \\sigma}^\\dagger a_{\\mathbf{p} - \\mathbf{q}, \\sigma'}^\\dagger a_{\\mathbf{p} \\sigma'} a_{\\mathbf{k} \\sigma},\n",
    "\\label{eq:V} \\tag{2}\n",
    "\\end{equation}\n",
    "$$"
   ]
  },
  {
   "cell_type": "markdown",
   "id": "f025d739",
   "metadata": {
    "editable": true
   },
   "source": [
    "## Some definitions\n",
    "\n",
    "In the last equation we defined\n",
    "the quantities\n",
    "$\\mathbf{p} = \\mathbf{k}_p + \\mathbf{k}_q - \\mathbf{k}_r$, $\\mathbf{k} = \\mathbf{k}_r$ og $\\mathbf{q} = \\mathbf{k}_p - \\mathbf{k}_r$."
   ]
  },
  {
   "cell_type": "markdown",
   "id": "50703d3e",
   "metadata": {
    "editable": true
   },
   "source": [
    "## Reference energy\n",
    "\n",
    "Let us now compute the expectation value of the reference energy using the expressions for the kinetic energy operator and the interaction.\n",
    "We need to compute $\\langle \\Phi_0\\vert \\hat{H} \\vert \\Phi_0\\rangle = \\langle \\Phi_0\\vert \\hat{T} \\vert \\Phi_0\\rangle + \\langle \\Phi_0\\vert \\hat{V} \\vert \\Phi_0\\rangle$, where $\\vert \\Phi_0\\rangle$ is our reference Slater determinant, constructed from filling all single-particle states up to the Fermi level.\n",
    "Let us start with the kinetic energy first"
   ]
  },
  {
   "cell_type": "markdown",
   "id": "5dd32673",
   "metadata": {
    "editable": true
   },
   "source": [
    "$$\n",
    "\\langle \\Phi_0\\vert \\hat{T} \\vert \\Phi_0\\rangle \n",
    "= \\langle \\Phi_0\\vert \\left( \\sum_{\\mathbf{p} \\sigma} \\frac{\\hbar^2 p^2}{2m} a_{\\mathbf{p} \\sigma}^\\dagger a_{\\mathbf{p} \\sigma} \\right) \\vert \\Phi_0\\rangle\n",
    "= \\sum_{\\mathbf{p} \\sigma} \\frac{\\hbar^2 p^2}{2m} \\langle \\Phi_0\\vert a_{\\mathbf{p} \\sigma}^\\dagger a_{\\mathbf{p} \\sigma} \\vert \\Phi_0\\rangle .\n",
    "$$"
   ]
  },
  {
   "cell_type": "markdown",
   "id": "caa4d98e",
   "metadata": {
    "editable": true
   },
   "source": [
    "## Kinetic  energy\n",
    "\n",
    "From the possible contractions using Wick's theorem, it is straightforward to convince oneself that the expression for the kinetic energy becomes"
   ]
  },
  {
   "cell_type": "markdown",
   "id": "abb956c1",
   "metadata": {
    "editable": true
   },
   "source": [
    "$$\n",
    "\\langle \\Phi_0\\vert \\hat{T} \\vert \\Phi_0\\rangle = \\sum_{\\mathbf{i} \\leq F} \\frac{\\hbar^2 k_i^2}{m} = \\frac{V}{(2\\pi)^3} \\frac{\\hbar^2}{m} \\int_0^{k_F} k^2 d\\mathbf{k}.\n",
    "$$"
   ]
  },
  {
   "cell_type": "markdown",
   "id": "f7b9590f",
   "metadata": {
    "editable": true
   },
   "source": [
    "The sum of the spin degrees of freedom results in  a factor of two only if we deal with identical spin $1/2$ fermions. \n",
    "Changing to spherical coordinates, the integral over the momenta $k$ results in the final expression"
   ]
  },
  {
   "cell_type": "markdown",
   "id": "d10fe153",
   "metadata": {
    "editable": true
   },
   "source": [
    "$$\n",
    "\\langle \\Phi_0\\vert \\hat{T} \\vert \\Phi_0\\rangle = \\frac{V}{(2\\pi)^3} \\left( 4\\pi \\int_0^{k_F} k^4 d\\mathbf{k} \\right) = \\frac{4\\pi V}{(2\\pi)^3} \\frac{1}{5} k_F^5 = \\frac{4\\pi V}{5(2\\pi)^3} k_F^5 = \\frac{\\hbar^2 V}{10\\pi^2 m} k_F^5 .\n",
    "$$"
   ]
  },
  {
   "cell_type": "markdown",
   "id": "5e18f90f",
   "metadata": {
    "editable": true
   },
   "source": [
    "## Density of states\n",
    "\n",
    "The density of states in momentum space is given by $2V/(2\\pi)^3$, where we have included the degeneracy due to the spin degrees of freedom.\n",
    "The volume is given by  $4\\pi k_F^3/3$, and the number of particles becomes"
   ]
  },
  {
   "cell_type": "markdown",
   "id": "1fcb4563",
   "metadata": {
    "editable": true
   },
   "source": [
    "$$\n",
    "N = \\frac{2V}{(2\\pi)^3} \\frac{4}{3} \\pi k_F^3 = \\frac{V}{3\\pi^2} k_F^3 \\quad \\Rightarrow \\quad\n",
    "k_F = \\left( \\frac{3\\pi^2 N}{V} \\right)^{1/3}.\n",
    "$$"
   ]
  },
  {
   "cell_type": "markdown",
   "id": "1b33ebc7",
   "metadata": {
    "editable": true
   },
   "source": [
    "This gives us"
   ]
  },
  {
   "cell_type": "markdown",
   "id": "9443eff5",
   "metadata": {
    "editable": true
   },
   "source": [
    "<!-- Equation labels as ordinary links -->\n",
    "<div id=\"eq:T_forventning\"></div>\n",
    "\n",
    "$$\n",
    "\\begin{equation}\n",
    "\\langle \\Phi_0\\vert \\hat{T} \\vert \\Phi_0\\rangle =\n",
    "\\frac{\\hbar^2 V}{10\\pi^2 m} \\left( \\frac{3\\pi^2 N}{V} \\right)^{5/3} =\n",
    "\\frac{\\hbar^2 (3\\pi^2)^{5/3} N}{10\\pi^2 m} \\rho^{2/3} ,\n",
    "\\label{eq:T_forventning} \\tag{3}\n",
    "\\end{equation}\n",
    "$$"
   ]
  },
  {
   "cell_type": "markdown",
   "id": "abfcd677",
   "metadata": {
    "editable": true
   },
   "source": [
    "## Potential energy\n",
    "\n",
    "We are now ready to calculate the expectation value of the potential energy"
   ]
  },
  {
   "cell_type": "markdown",
   "id": "bf6baa7a",
   "metadata": {
    "editable": true
   },
   "source": [
    "$$\n",
    "\\begin{align*}\n",
    "\\langle \\Phi_0\\vert \\hat{V} \\vert \\Phi_0\\rangle \n",
    "&= \\langle \\Phi_0\\vert \\left( \\frac{1}{2V} \\sum_{\\sigma \\sigma'} \\sum_{\\mathbf{k} \\mathbf{p} \\mathbf{q} } \\left[ \\int v(r) \\exp{-i (\\mathbf{q} \\cdot \\mathbf{r})} d\\mathbf{r} \\right] a_{\\mathbf{k} + \\mathbf{q}, \\sigma}^\\dagger a_{\\mathbf{p} - \\mathbf{q}, \\sigma'}^\\dagger a_{\\mathbf{p} \\sigma'} a_{\\mathbf{k} \\sigma} \\right) \\vert \\Phi_0\\rangle \\\\\n",
    "&= \\frac{1}{2V} \\sum_{\\sigma \\sigma'} \\sum_{\\mathbf{k} \\mathbf{p} \\mathbf{q}} \\left[ \\int v(r) \\exp{-i (\\mathbf{q} \\cdot \\mathbf{r})} d\\mathbf{r} \\right]\\langle \\Phi_0\\vert a_{\\mathbf{k} + \\mathbf{q}, \\sigma}^\\dagger a_{\\mathbf{p} - \\mathbf{q}, \\sigma'}^\\dagger a_{\\mathbf{p} \\sigma'} a_{\\mathbf{k} \\sigma} \\vert \\Phi_0\\rangle .\n",
    "\\end{align*}\n",
    "$$"
   ]
  },
  {
   "cell_type": "markdown",
   "id": "75713c2a",
   "metadata": {
    "editable": true
   },
   "source": [
    "## Non-zero term\n",
    "\n",
    "The only contractions which result in non-zero results are those that involve states below the Fermi level, that is \n",
    "$k \\leq k_F$, $p \\leq k_F$, $|\\mathbf{p} - \\mathbf{q}| < \\mathbf{k}_F$ and $|\\mathbf{k} + \\mathbf{q}| \\leq k_F$. Due to momentum conservation we must also have $\\mathbf{k} + \\mathbf{q} = \\mathbf{p}$, $\\mathbf{p} - \\mathbf{q} = \\mathbf{k}$ and  $\\sigma = \\sigma'$ or  $\\mathbf{k} + \\mathbf{q} = \\mathbf{k}$ and $\\mathbf{p} - \\mathbf{q} = \\mathbf{p}$. \n",
    "Summarizing, we must have"
   ]
  },
  {
   "cell_type": "markdown",
   "id": "627c081b",
   "metadata": {
    "editable": true
   },
   "source": [
    "$$\n",
    "\\mathbf{k} + \\mathbf{q} = \\mathbf{p} \\quad \\text{and} \\quad \\sigma = \\sigma', \\qquad\n",
    "\\text{or} \\qquad\n",
    "\\mathbf{q} = \\mathbf{0} .\n",
    "$$"
   ]
  },
  {
   "cell_type": "markdown",
   "id": "f1a8f5f0",
   "metadata": {
    "editable": true
   },
   "source": [
    "## Direct and exchange terms\n",
    "\n",
    "We obtain then"
   ]
  },
  {
   "cell_type": "markdown",
   "id": "fa8e2180",
   "metadata": {
    "editable": true
   },
   "source": [
    "$$\n",
    "\\langle \\Phi_0\\vert \\hat{V} \\vert \\Phi_0\\rangle =\n",
    "\\frac{1}{2V} \\left( \\sum_{\\sigma \\sigma'} \\sum_{\\mathbf{q} \\mathbf{p} \\leq F} \\left[ \\int v(r) d\\mathbf{r} \\right] - \\sum_{\\sigma}\n",
    "\\sum_{\\mathbf{q} \\mathbf{p} \\leq F} \\left[ \\int v(r) \\exp{-i (\\mathbf{q} \\cdot \\mathbf{r})} d\\mathbf{r} \\right] \\right).\n",
    "$$"
   ]
  },
  {
   "cell_type": "markdown",
   "id": "4769bf60",
   "metadata": {
    "editable": true
   },
   "source": [
    "The first term is the so-called direct term while the second term is the exchange term."
   ]
  },
  {
   "cell_type": "markdown",
   "id": "76970c3e",
   "metadata": {
    "editable": true
   },
   "source": [
    "## Potential energy\n",
    "\n",
    "We can rewrite this equation as (and this applies to any potential which depends only on the relative distance between particles)"
   ]
  },
  {
   "cell_type": "markdown",
   "id": "7ac4d45f",
   "metadata": {
    "editable": true
   },
   "source": [
    "<!-- Equation labels as ordinary links -->\n",
    "<div id=\"eq:V_b\"></div>\n",
    "\n",
    "$$\n",
    "\\begin{equation}\n",
    "\\langle \\Phi_0\\vert \\hat{V} \\vert \\Phi_0\\rangle =\n",
    "\\frac{1}{2V} \\left( N^2 \\left[ \\int v(r) d\\mathbf{r} \\right] - N \\sum_{\\mathbf{q}} \\left[ \\int v(r) \\exp{-i (\\mathbf{q}\\cdot \\mathbf{r})} d\\mathbf{r} \\right] \\right),\n",
    "\\label{eq:V_b} \\tag{4}\n",
    "\\end{equation}\n",
    "$$"
   ]
  },
  {
   "cell_type": "markdown",
   "id": "52d133e0",
   "metadata": {
    "editable": true
   },
   "source": [
    "where we have used the fact that a sum like $\\sum_{\\sigma}\\sum_{\\mathbf{k}}$ equals the number of particles. Using the fact that the density is given by\n",
    "$\\rho = N/V$, with $V$ being our volume, we can rewrite the last equation as"
   ]
  },
  {
   "cell_type": "markdown",
   "id": "27b4d032",
   "metadata": {
    "editable": true
   },
   "source": [
    "$$\n",
    "\\langle \\Phi_0\\vert \\hat{V} \\vert \\Phi_0\\rangle =\n",
    "\\frac{1}{2} \\left( \\rho N \\left[ \\int v(r) d\\mathbf{r} \\right] - \\rho\\sum_{\\mathbf{q}} \\left[ \\int v(r) \\exp{-i (\\mathbf{q}\\cdot \\mathbf{r})} d\\mathbf{r} \\right] \\right).\n",
    "$$"
   ]
  },
  {
   "cell_type": "markdown",
   "id": "4c07ce61",
   "metadata": {
    "editable": true
   },
   "source": [
    "## Interaction part\n",
    "\n",
    "For the electron gas\n",
    "the interaction part of the Hamiltonian operator is given by"
   ]
  },
  {
   "cell_type": "markdown",
   "id": "601f290b",
   "metadata": {
    "editable": true
   },
   "source": [
    "$$\n",
    "\\hat{H}_I=\\hat{H}_{el}+\\hat{H}_{b}+\\hat{H}_{el-b},\n",
    "$$"
   ]
  },
  {
   "cell_type": "markdown",
   "id": "91286083",
   "metadata": {
    "editable": true
   },
   "source": [
    "with the electronic part"
   ]
  },
  {
   "cell_type": "markdown",
   "id": "4f96184e",
   "metadata": {
    "editable": true
   },
   "source": [
    "$$\n",
    "\\hat{H}_{el}=\\sum_{i=1}^N\\frac{p_i^2}{2m}+\\frac{e^2}{2}\\sum_{i\\ne j}\\frac{e^{-\\mu |\\mathbf{r}_i-\\mathbf{r}_j|}}{|\\mathbf{r}_i-\\mathbf{r}_j|},\n",
    "$$"
   ]
  },
  {
   "cell_type": "markdown",
   "id": "368bebc7",
   "metadata": {
    "editable": true
   },
   "source": [
    "where we have introduced an explicit convergence factor\n",
    "(the limit $\\mu\\rightarrow 0$ is performed after having calculated the various integrals)."
   ]
  },
  {
   "cell_type": "markdown",
   "id": "87324e1d",
   "metadata": {
    "editable": true
   },
   "source": [
    "## Positive background\n",
    "\n",
    "Correspondingly, we have"
   ]
  },
  {
   "cell_type": "markdown",
   "id": "0577e405",
   "metadata": {
    "editable": true
   },
   "source": [
    "$$\n",
    "\\hat{H}_{b}=\\frac{e^2}{2}\\int\\int d\\mathbf{r}d\\mathbf{r}'\\frac{n(\\mathbf{r})n(\\mathbf{r}')e^{-\\mu |\\mathbf{r}-\\mathbf{r}'|}}{|\\mathbf{r}-\\mathbf{r}'|},\n",
    "$$"
   ]
  },
  {
   "cell_type": "markdown",
   "id": "8ddee1ab",
   "metadata": {
    "editable": true
   },
   "source": [
    "which is the energy contribution from the positive background charge with density\n",
    "$n(\\mathbf{r})=N/V$. Finally,"
   ]
  },
  {
   "cell_type": "markdown",
   "id": "0cd23d20",
   "metadata": {
    "editable": true
   },
   "source": [
    "$$\n",
    "\\hat{H}_{el-b}=-\\frac{e^2}{2}\\sum_{i=1}^N\\int d\\mathbf{r}\\frac{n(\\mathbf{r})e^{-\\mu |\\mathbf{r}-\\mathbf{x}_i|}}{|\\mathbf{r}-\\mathbf{x}_i|},\n",
    "$$"
   ]
  },
  {
   "cell_type": "markdown",
   "id": "97f2a163",
   "metadata": {
    "editable": true
   },
   "source": [
    "is the interaction between the electrons and the positive background."
   ]
  },
  {
   "cell_type": "markdown",
   "id": "7442c07b",
   "metadata": {
    "editable": true
   },
   "source": [
    "## Positive charge contribution\n",
    "\n",
    "We can show that"
   ]
  },
  {
   "cell_type": "markdown",
   "id": "8d4b8591",
   "metadata": {
    "editable": true
   },
   "source": [
    "$$\n",
    "\\hat{H}_{b}=\\frac{e^2}{2}\\frac{N^2}{V}\\frac{4\\pi}{\\mu^2},\n",
    "$$"
   ]
  },
  {
   "cell_type": "markdown",
   "id": "8a7e34ec",
   "metadata": {
    "editable": true
   },
   "source": [
    "and"
   ]
  },
  {
   "cell_type": "markdown",
   "id": "7f07ded5",
   "metadata": {
    "editable": true
   },
   "source": [
    "$$\n",
    "\\hat{H}_{el-b}=-e^2\\frac{N^2}{V}\\frac{4\\pi}{\\mu^2}.\n",
    "$$"
   ]
  },
  {
   "cell_type": "markdown",
   "id": "f2baee42",
   "metadata": {
    "editable": true
   },
   "source": [
    "## Thermodynamic limit\n",
    "\n",
    "For the electron gas and a Coulomb interaction, these two terms are cancelled (in the thermodynamic limit) by the contribution from the direct term arising\n",
    "from the repulsive electron-electron interaction. What remains then  when computing the reference energy is only the kinetic energy contribution and the contribution from the exchange term.  For other interactions, like nuclear forces with a short range part and no infinite range, we need to compute both the direct term and the exchange term. \n",
    "\n",
    "We can show that the final Hamiltonian can be written as"
   ]
  },
  {
   "cell_type": "markdown",
   "id": "dd001e73",
   "metadata": {
    "editable": true
   },
   "source": [
    "$$\n",
    "H=H_{0}+H_{I},\n",
    "$$"
   ]
  },
  {
   "cell_type": "markdown",
   "id": "74946502",
   "metadata": {
    "editable": true
   },
   "source": [
    "with"
   ]
  },
  {
   "cell_type": "markdown",
   "id": "3ff07871",
   "metadata": {
    "editable": true
   },
   "source": [
    "$$\n",
    "H_{0}={\\displaystyle\\sum_{\\mathbf{k}\\sigma}}\n",
    "\\frac{\\hbar^{2}k^{2}}{2m}a_{\\mathbf{k}\\sigma}^{\\dagger}\n",
    "a_{\\mathbf{k}\\sigma},\n",
    "$$"
   ]
  },
  {
   "cell_type": "markdown",
   "id": "da85314f",
   "metadata": {
    "editable": true
   },
   "source": [
    "and"
   ]
  },
  {
   "cell_type": "markdown",
   "id": "4af8d3bc",
   "metadata": {
    "editable": true
   },
   "source": [
    "$$\n",
    "H_{I}=\\frac{e^{2}}{2V}{\\displaystyle\\sum_{\\sigma_{1}\\sigma_{2}}}{\\displaystyle\\sum_{\\mathbf{q}\\neq 0,\\mathbf{k},\\mathbf{p}}}\\frac{4\\pi}{q^{2}}\n",
    "a_{\\mathbf{k}+\\mathbf{q},\\sigma_{1}}^{\\dagger}\n",
    "a_{\\mathbf{p}-\\mathbf{q},\\sigma_{2}}^{\\dagger}\n",
    "a_{\\mathbf{p}\\sigma_{2}}a_{\\mathbf{k}\\sigma_{1}}.\n",
    "$$"
   ]
  },
  {
   "cell_type": "markdown",
   "id": "5ee19aab",
   "metadata": {
    "editable": true
   },
   "source": [
    "## Ground state energy\n",
    "Calculate $E_0/N=\\langle \\Phi_{0}\\vert H\\vert \\Phi_{0}\\rangle/N$ for for this system to first order in the interaction. Show that, by using"
   ]
  },
  {
   "cell_type": "markdown",
   "id": "4e4561c5",
   "metadata": {
    "editable": true
   },
   "source": [
    "$$\n",
    "\\rho= \\frac{k_F^3}{3\\pi^2}=\\frac{3}{4\\pi r_0^3},\n",
    "$$"
   ]
  },
  {
   "cell_type": "markdown",
   "id": "a4c0dd07",
   "metadata": {
    "editable": true
   },
   "source": [
    "with $\\rho=N/V$, $r_0$\n",
    "being the radius of a sphere representing the volume an electron occupies \n",
    "and the Bohr radius $a_0=\\hbar^2/e^2m$, \n",
    "that the energy per electron can be written as"
   ]
  },
  {
   "cell_type": "markdown",
   "id": "86413188",
   "metadata": {
    "editable": true
   },
   "source": [
    "$$\n",
    "E_0/N=\\frac{e^2}{2a_0}\\left[\\frac{2.21}{r_s^2}-\\frac{0.916}{r_s}\\right].\n",
    "$$"
   ]
  },
  {
   "cell_type": "markdown",
   "id": "7707817f",
   "metadata": {
    "editable": true
   },
   "source": [
    "Here we have defined\n",
    "$r_s=r_0/a_0$ to be a dimensionless quantity."
   ]
  },
  {
   "cell_type": "markdown",
   "id": "5cc9b1a2",
   "metadata": {
    "editable": true
   },
   "source": [
    "## Exercise 2: plot of energy\n",
    "\n",
    "Plot the energy as function of $r_s$. Why is this system stable?\n",
    "Calculate thermodynamical quantities like the pressure, given by"
   ]
  },
  {
   "cell_type": "markdown",
   "id": "2de2eff1",
   "metadata": {
    "editable": true
   },
   "source": [
    "$$\n",
    "P=-\\left(\\frac{\\partial E}{\\partial V}\\right)_N,\n",
    "$$"
   ]
  },
  {
   "cell_type": "markdown",
   "id": "a0bed366",
   "metadata": {
    "editable": true
   },
   "source": [
    "and the bulk modulus"
   ]
  },
  {
   "cell_type": "markdown",
   "id": "bd040761",
   "metadata": {
    "editable": true
   },
   "source": [
    "$$\n",
    "B=-V\\left(\\frac{\\partial P}{\\partial V}\\right)_N,\n",
    "$$"
   ]
  },
  {
   "cell_type": "markdown",
   "id": "d58a5242",
   "metadata": {
    "editable": true
   },
   "source": [
    "and comment your results."
   ]
  },
  {
   "cell_type": "markdown",
   "id": "3b855675",
   "metadata": {
    "editable": true
   },
   "source": [
    "## Density functional theory\n",
    "\n",
    "Hohenberg and Kohn proved that the total energy of a system including\n",
    "that of the many-body effects of electrons (exchange and correlation)\n",
    "in the presence of static external potential (for example, the atomic\n",
    "nuclei) is a unique functional of the charge density. The minimum\n",
    "value of the total energy functional is the ground state energy of the\n",
    "system. The electronic charge density which yields this minimum is\n",
    "then the exact single particle ground state energy."
   ]
  },
  {
   "cell_type": "markdown",
   "id": "40d03884",
   "metadata": {
    "editable": true
   },
   "source": [
    "## Functional of density\n",
    "\n",
    "The electronic energy $E$ is said to be a functional of the\n",
    "electronic density, $E[\\rho]$, in the sense that for a given function\n",
    "$\\rho(r)$, there is a single corresponding energy. The\n",
    "Hohenberg-Kohn theorems (two) confirms that such a functional exists,\n",
    "but does not tell us the form of the functional.\n",
    "\n",
    "Density functional theory has turned out to be a resounding success. A\n",
    "large majority of crystalline materials, many molecules and molecular\n",
    "structures have been explained using DFT. Walter Kohn, involved in\n",
    "both the Hohenberg-Kohn theory and development of the Kohn-Sham\n",
    "equations, received the Nobel Prize in Chemistry for DFT and\n",
    "computational chemistry in 1998.  DFT is used in a broad spectrum of\n",
    "disciplines, including quantum chemistry, materials science, condensed\n",
    "matter physics and low-energy nuclear physics"
   ]
  },
  {
   "cell_type": "markdown",
   "id": "ce086249",
   "metadata": {
    "editable": true
   },
   "source": [
    "## The many-particle equation\n",
    "\n",
    "Any material on earth, whether in crystals, amorphous solids,\n",
    "molecules or yourself, consists of nothing else than a bunch of atoms,\n",
    "ions and electrons bound together by electric forces. All these\n",
    "possible forms of matter can be explained by virtue of one simple\n",
    "equation: the many-particle Schr\\\"{o}dinger equation,"
   ]
  },
  {
   "cell_type": "markdown",
   "id": "0353afe4",
   "metadata": {
    "editable": true
   },
   "source": [
    "<!-- Equation labels as ordinary links -->\n",
    "<div id=\"_auto2\"></div>\n",
    "\n",
    "$$\n",
    "\\begin{equation}\n",
    "\ti \\hbar \\frac{\\partial}{\\partial t} \\Phi( \\boldsymbol{r} ; t) = \n",
    "\t\\left( - \\sum_{i}^N \\frac{\\hbar^2}{2m_i} \\frac{\\partial^2}{\\partial \\boldsymbol{r}_i^2}\n",
    "\t+ \\sum_{i<j}^N \\frac{e^2 Z_i Z_j }{ | \\boldsymbol{r}_i - \\boldsymbol{r}_j| } \\right)  \\Phi( \\boldsymbol{r} ; t).\n",
    "\\label{_auto2} \\tag{5}\n",
    "\\end{equation}\n",
    "$$"
   ]
  },
  {
   "cell_type": "markdown",
   "id": "a91dc937",
   "metadata": {
    "editable": true
   },
   "source": [
    "Here $\\Phi(\\boldsymbol{r} ; t)$ is the many-body wavefunction for $N$ particles, where each particle has its own mass $m_i$, charge $Z_i$ and position $\\boldsymbol{r}_i$. The only interaction is the Coulomb interaction $e^2/r$."
   ]
  },
  {
   "cell_type": "markdown",
   "id": "c0ae7bd4",
   "metadata": {
    "editable": true
   },
   "source": [
    "## Born-Oppenheimer approximation\n",
    "\n",
    "In atomic and molecular physics, materials science and quantum chemsitry, the Born-Oppenheimer  approximation arises from the physical problem we want to\n",
    "study: the ground state of a collection of interacting ions and\n",
    "electrons. Because even the lightest ion is more than a thousand times\n",
    "heavier than an electron, we approximate our Hamiltonian  to not include  the dynamics of the\n",
    "ions all-together. This is known as the **Born-Oppenheimer**\n",
    "approximation."
   ]
  },
  {
   "cell_type": "markdown",
   "id": "a606bc6f",
   "metadata": {
    "editable": true
   },
   "source": [
    "## Time-independent equation\n",
    "\n",
    "We then write the time-independent Schr\\\"{o}dinger\n",
    "equation for a collection of $N$ electrons subject to the\n",
    "electric potential created by the fixed ions, labeled $v_{\\mathrm{ext}}(\\boldsymbol{r})$,"
   ]
  },
  {
   "cell_type": "markdown",
   "id": "5dfb3d9d",
   "metadata": {
    "editable": true
   },
   "source": [
    "$$\n",
    "\\left( \\sum_{i}^N \\left( - \\frac{\\hbar^2}{2m} \\frac{\\partial^2}{\\partial \\boldsymbol{r}_i^2}\n",
    "\t+ v_{\\mathrm{ext}}(\\boldsymbol{r}_i) \\right)\n",
    "\t + \\sum_{i<j}^N \\frac{e^2}{|\\boldsymbol{r}_i - \\boldsymbol{r}_j|} \\right) \\Psi(\\boldsymbol{r}) = E_0  \\Psi( \\boldsymbol{r} ),\n",
    "$$"
   ]
  },
  {
   "cell_type": "markdown",
   "id": "8e74cbc1",
   "metadata": {
    "editable": true
   },
   "source": [
    "where $\\boldsymbol{r}_i$ are the positions of the electrons.\n",
    "\n",
    "We can replace the explicit Coulomb repulsion with a generic two-body interaction"
   ]
  },
  {
   "cell_type": "markdown",
   "id": "927bdde2",
   "metadata": {
    "editable": true
   },
   "source": [
    "$$\n",
    "\\sum_{i}^N \\left( - \\frac{\\hbar^2}{2m} \\frac{\\partial^2}{\\partial \\boldsymbol{r}_i^2}\n",
    "\t+ v_{\\mathrm{ext}}(\\boldsymbol{r}_i) \\right)\n",
    "\t + \\sum_{i<j}^N v(r_{ij})( = E_0  \\Psi( \\boldsymbol{r} ),\n",
    "$$"
   ]
  },
  {
   "cell_type": "markdown",
   "id": "3e4365fc",
   "metadata": {
    "editable": true
   },
   "source": [
    "where $r_{ij}=\\vert \\boldsymbol{r}_i-\\boldsymbol{r}_j\\vert$."
   ]
  },
  {
   "cell_type": "markdown",
   "id": "f73b8726",
   "metadata": {
    "editable": true
   },
   "source": [
    "## Potential term\n",
    "The potential\n",
    "$v_{\\mathrm{ext}}(\\boldsymbol{r}_i)$ is created by the charged ions,"
   ]
  },
  {
   "cell_type": "markdown",
   "id": "4c77fc93",
   "metadata": {
    "editable": true
   },
   "source": [
    "$$\n",
    "v_{\\mathrm{ext}}(\\boldsymbol{r}_i) = - \\sum_j \\frac{e^2 Z_j}{| \\boldsymbol{r}_i - \\boldsymbol{R}_j|}\n",
    "$$"
   ]
  },
  {
   "cell_type": "markdown",
   "id": "8c3f361b",
   "metadata": {
    "editable": true
   },
   "source": [
    "where $\\boldsymbol{R}$ is the (static) positions of the ions and $Z_j$ their\n",
    "charge."
   ]
  },
  {
   "cell_type": "markdown",
   "id": "e72ac2e1",
   "metadata": {
    "editable": true
   },
   "source": [
    "## The one-body density\n",
    "The one-body reduced density matrix of a many-body system at zero\n",
    "temperature gives direct access to many observables, such as the charge density,\n",
    "kinetic energy and occupation numbers. In a coordinate representation it is defined as\n",
    "as the expectation value of the number operator"
   ]
  },
  {
   "cell_type": "markdown",
   "id": "a5f10f2e",
   "metadata": {
    "editable": true
   },
   "source": [
    "$$\n",
    "\\hat{n}(\\boldsymbol{r})=\\sum_{i=1}^N\\delta(\\boldsymbol{r}-\\boldsymbol{r}_i),\n",
    "$$"
   ]
  },
  {
   "cell_type": "markdown",
   "id": "73f0f6b2",
   "metadata": {
    "editable": true
   },
   "source": [
    "resulting in"
   ]
  },
  {
   "cell_type": "markdown",
   "id": "74b1cf90",
   "metadata": {
    "editable": true
   },
   "source": [
    "$$\n",
    "n(\\boldsymbol{r})=\\frac{\\langle \\Psi \\vert \\hat{n}(\\boldsymbol{r}) \\vert \\Psi \\rangle}{\\langle \\Psi\\vert \\Psi \\rangle}.\n",
    "$$"
   ]
  },
  {
   "cell_type": "markdown",
   "id": "45932cef",
   "metadata": {
    "editable": true
   },
   "source": [
    "Here $\\Psi$ can be any state. In the equations that follow we assume it has been normalized properly."
   ]
  },
  {
   "cell_type": "markdown",
   "id": "6932172d",
   "metadata": {
    "editable": true
   },
   "source": [
    "## One-body density\n",
    "\n",
    "The one-body or just electronic density here, is thus obtained by integrating out all electron\n",
    "degrees of freedom except one, that is (setting $\\boldsymbol{r}=\\boldsymbol{r}_1$)"
   ]
  },
  {
   "cell_type": "markdown",
   "id": "5a9b1c96",
   "metadata": {
    "editable": true
   },
   "source": [
    "$$\n",
    "n(\\boldsymbol{r})=n(\\boldsymbol{r}_1) = \\int d^3 \\boldsymbol{r}_2 \\cdots d^3 \\boldsymbol{r}_N\n",
    "\t\t\\left| \\Psi (\\boldsymbol{r}_1 \\cdots \\boldsymbol{r}_n) \\right|^2.\n",
    "$$"
   ]
  },
  {
   "cell_type": "markdown",
   "id": "d92799dc",
   "metadata": {
    "editable": true
   },
   "source": [
    "If $\\Psi$ is a single reference Slater determinant defined in terms of the single-particle functions $\\psi_i$, then we have"
   ]
  },
  {
   "cell_type": "markdown",
   "id": "64871c3e",
   "metadata": {
    "editable": true
   },
   "source": [
    "$$\n",
    "n(\\boldsymbol{r})=\\sum_{i=1}^N\\vert \\psi_i(\\boldsymbol{r})\\vert^2,\n",
    "$$"
   ]
  },
  {
   "cell_type": "markdown",
   "id": "30c76f68",
   "metadata": {
    "editable": true
   },
   "source": [
    "as derived earlier."
   ]
  },
  {
   "cell_type": "markdown",
   "id": "69b1ee4f",
   "metadata": {
    "editable": true
   },
   "source": [
    "## Energy as function of the density\n",
    "\n",
    "Text to come here."
   ]
  },
  {
   "cell_type": "markdown",
   "id": "fa0717d6",
   "metadata": {
    "editable": true
   },
   "source": [
    "## Hohenberg-Kohn theory\n",
    "\n",
    "Assume we found a solution for the Hamiltonian from the Born-Oppenheimer approximation, with\n",
    "ground state energy $E_0$ and a certain electronic density\n",
    "$n(\\boldsymbol{r})$. The strength of the Coulomb interaction and the mass of an\n",
    "electron are constants of nature, so the only input that can possibly\n",
    "influence the electronic density $n(\\boldsymbol{r})$ and the energy $E_0$ of our\n",
    "ground state is our choice of potential $v_{\\mathrm{ext}}(\\boldsymbol{r})$. In other words, the\n",
    "ground state energy is a {\\em functional} of the input potential,"
   ]
  },
  {
   "cell_type": "markdown",
   "id": "c2fedc8b",
   "metadata": {
    "editable": true
   },
   "source": [
    "$$\n",
    "E_0 [v_{\\mathrm{ext}}(\\boldsymbol{r})] = \\mathcal{F}_E[ v_{\\mathrm{ext}}(\\boldsymbol{r}) ]\n",
    "$$"
   ]
  },
  {
   "cell_type": "markdown",
   "id": "a5ea364f",
   "metadata": {
    "editable": true
   },
   "source": [
    "## Energy functional\n",
    "A functional is nothing else than a function whose input is another\n",
    "function; in this case the functional $\\mathcal{F}$ takes as input the\n",
    "electric potential generated by the ions and outputs the ground state\n",
    "energy based on thr Born-Oppenheimer approximation.\n",
    "\n",
    "At first this results seems counterintuitive. After all, the ground\n",
    "state energy clearly contains the kinetic energy $T$, the interaction\n",
    "energy $U$ and the potential energy. Only the latter term \n",
    "explicitly depends on the potential. We can thus write the ground\n",
    "state energy in terms of a separate functional for the kinetic and\n",
    "interaction energy, and the potential energy"
   ]
  },
  {
   "cell_type": "markdown",
   "id": "3022272b",
   "metadata": {
    "editable": true
   },
   "source": [
    "## How to find the functional\n",
    "Knowing this functional, for any given potential $V(\\boldsymbol{r})$ we minimize\n",
    "the right hand side by checking all possible electronic density\n",
    "distributions.\n",
    "\n",
    "There are only two minor problems. We don't know what this functional\n",
    "looks like. And even if we did, we don't know how to find the right\n",
    "electronic density."
   ]
  },
  {
   "cell_type": "markdown",
   "id": "58ad7d97",
   "metadata": {
    "editable": true
   },
   "source": [
    "## Approximating the functional\n",
    "\n",
    "The unknown functional $\\mathcal{F}[n(\\boldsymbol{r})]$ should describe the\n",
    "kinetic and interaction energy of a system described by\n",
    "for example the Born-Oppenheimer approximation. Even though we cannot find its exact\n",
    "shape, we can look at its shape in some limiting cases that we can\n",
    "solve.\n",
    "\n",
    "We know that a free homogeneous electron gas (HEG) with density $n$ has a\n",
    "ground state energy of"
   ]
  },
  {
   "cell_type": "markdown",
   "id": "2c1c13c4",
   "metadata": {
    "editable": true
   },
   "source": [
    "$$\n",
    "E_0 = \\frac{3 \\hbar^2 \\left( 3 \\pi^2 \\right)^{2/3}}{10 m} n_0^{5/3}.\n",
    "$$"
   ]
  },
  {
   "cell_type": "markdown",
   "id": "93832226",
   "metadata": {
    "editable": true
   },
   "source": [
    "## Using the results from the HEG\n",
    "\n",
    "For a slowly varying electronic density, we can approximate the\n",
    "kinetic energy contribution to the full functional\n",
    "$\\mathcal{F}[n(\\boldsymbol{r})]$ as the energy evaluated\n",
    "at each point separately,"
   ]
  },
  {
   "cell_type": "markdown",
   "id": "70341732",
   "metadata": {
    "editable": true
   },
   "source": [
    "$$\n",
    "\\mathcal{T}_0 [n(\\boldsymbol{r})] =\n",
    "\t \\frac{3 \\hbar^2 \\left( 3 \\pi^2 \\right)^{2/3}}{10 m} \\int  d^3\\boldsymbol{r} ( n(\\boldsymbol{r}) )^{5/3}.\n",
    "$$"
   ]
  },
  {
   "cell_type": "markdown",
   "id": "70582796",
   "metadata": {
    "editable": true
   },
   "source": [
    "## Hartree term to the energy\n",
    "\n",
    "We have also earlier derived that the simplest \n",
    "energy contribution from Coulomb interactions is given by the Hartree\n",
    "term"
   ]
  },
  {
   "cell_type": "markdown",
   "id": "589597d7",
   "metadata": {
    "editable": true
   },
   "source": [
    "$$\n",
    "\\mathcal{U}_{\\mathrm{H}} [n(\\boldsymbol{r})] = \n",
    "\t\t\\frac{e^2}{2} \\int d^3\\boldsymbol{r} d^3\\boldsymbol{r}' \\, \\frac{n(\\boldsymbol{r}) n(\\boldsymbol{r}')}{|\\boldsymbol{r} - \\boldsymbol{r}'|}.\n",
    "$$"
   ]
  },
  {
   "cell_type": "markdown",
   "id": "89dadf3b",
   "metadata": {
    "editable": true
   },
   "source": [
    "## Final functional\n",
    "\n",
    "It is natural to write out the full functional as containing the\n",
    "homogeneous electron gas term and the Hartree term. The remaining\n",
    "terms, though still unknown, should be small. This unknown part is\n",
    "conventionally called the {\\em exchange-correlation potential}\n",
    "$E_{xc}[n(\\boldsymbol{r})]$. The full Hohenberg-Kohn functional, including the\n",
    "potential energy, is thus"
   ]
  },
  {
   "cell_type": "markdown",
   "id": "b46df719",
   "metadata": {
    "editable": true
   },
   "source": [
    "$$\n",
    "\\mathcal{E}_{\\mathrm{HK}}[n(\\boldsymbol{r})] = \n",
    "\t\t\\mathcal{T}_0 [n(\\boldsymbol{r})]\n",
    "\t\t + \\int d^3 \\boldsymbol{r} v_{\\mathrm{ext}}(r) n(\\boldsymbol{r})\n",
    "\t\t + \\mathcal{U}_{\\mathrm{H}} [n(\\boldsymbol{r})]\n",
    "\t\t + E_{xc} [ n(\\boldsymbol{r})].\n",
    "$$"
   ]
  },
  {
   "cell_type": "markdown",
   "id": "260f4806",
   "metadata": {
    "editable": true
   },
   "source": [
    "## Kohn-Sham equation\n",
    "\n",
    "We replaced an intractable problem with the task of minimizing an unknown\n",
    "functional $\\mathcal{F}[n(\\boldsymbol{r})]$ over infinitely many possible\n",
    "electronic densities $n(\\boldsymbol{r})$. In the previous section we already gave\n",
    "some first suggestions for the functional. But once we found it, how\n",
    "to find the right electronic density $n(\\boldsymbol{r})$?\n",
    "\n",
    "Because the correct density minimizes the functional, we can find the\n",
    "functional by setting it's derivative to zero,"
   ]
  },
  {
   "cell_type": "markdown",
   "id": "0865735f",
   "metadata": {
    "editable": true
   },
   "source": [
    "$$\n",
    "\\frac{\\delta \\mathcal{F}[n(\\boldsymbol{r})] }{\\delta n(\\boldsymbol{r})} = 0.\n",
    "$$"
   ]
  },
  {
   "cell_type": "markdown",
   "id": "74d7fc5e",
   "metadata": {
    "editable": true
   },
   "source": [
    "## Kohn-Sham equations\n",
    "Using the functional Eq(insert), we write\n",
    "out\n",
    "\n",
    "<!-- \\footnote{There is a small subtlety included in this equation: the -->\n",
    "<!-- kinetic component of the functional $\\mathcal{T} [n(\\boldsymbol{r})]$ should not -->\n",
    "<!-- be the one obtained for the free homogeneous noninteracting electron -->\n",
    "<!-- gas, but the one for a noninteracting gas subject -->\n",
    "<!-- to the Kohn-Sham potential.} -->"
   ]
  },
  {
   "cell_type": "markdown",
   "id": "f201ae29",
   "metadata": {
    "editable": true
   },
   "source": [
    "$$\n",
    "\\frac{\\delta \\mathcal{T}[n(\\boldsymbol{r})] }{\\delta n(\\boldsymbol{r})}\n",
    "\t+ v_{\\mathrm{ext}}(\\boldsymbol{r})\n",
    "\t+ \\int \\frac{n(\\boldsymbol{r}')}{|\\boldsymbol{r}-\\boldsymbol{r}'|}d^3 \\boldsymbol{r}'\n",
    "\t+ \\frac{\\delta E_{xc} [n(\\boldsymbol{r})] }{\\delta n(\\boldsymbol{r})}\n",
    "\t=0.\n",
    "$$"
   ]
  },
  {
   "cell_type": "markdown",
   "id": "d692975b",
   "metadata": {
    "editable": true
   },
   "source": [
    "## The equations\n",
    "The idea of Kohn and Sham was to treat this as if it\n",
    "is a single-particle problem. The first term represents the\n",
    "kinetic energy, and the remaining terms form the Kohn-Sham potential"
   ]
  },
  {
   "cell_type": "markdown",
   "id": "28c55f0f",
   "metadata": {
    "editable": true
   },
   "source": [
    "$$\n",
    "V_{\\mathrm{KS}}(\\boldsymbol{r}) = V(\\boldsymbol{r})\n",
    "\t+ \\int \\frac{n(\\boldsymbol{r}')}{|\\boldsymbol{r}-\\boldsymbol{r}'|}d^3 \\boldsymbol{r}'\n",
    "\t+ \\frac{\\delta E_{xc} [n(\\boldsymbol{r})] }{\\delta n(\\boldsymbol{r})}.\n",
    "$$"
   ]
  },
  {
   "cell_type": "markdown",
   "id": "d00ef45e",
   "metadata": {
    "editable": true
   },
   "source": [
    "The Kohn-Sham equation is the single-particle Schr\\\"{o}dinger\n",
    "equation with the potential given by the last equation,"
   ]
  },
  {
   "cell_type": "markdown",
   "id": "7c0fd6eb",
   "metadata": {
    "editable": true
   },
   "source": [
    "$$\n",
    "\\left( - \\frac{\\hbar^2}{2m} \\frac{\\partial^2}{\\partial \\boldsymbol{r}^2} + V_{\\mathrm{KS}}(\\boldsymbol{r}) \\right) \\psi_i(\\boldsymbol{r}) = \\epsilon_i \\psi_i (\\boldsymbol{r}).\n",
    "$$"
   ]
  },
  {
   "cell_type": "markdown",
   "id": "e6ce5af0",
   "metadata": {
    "editable": true
   },
   "source": [
    "## Numerical solution\n",
    "\n",
    "The Kohn-Sham equations have to be solved numerically. As with our\n",
    "discussions of Hartree-Fock theory, this is tractable because the\n",
    "equations are just given by a set of coupled differential\n",
    "equation. The electronic density is obtained by occupying the $N$\n",
    "solutions $\\psi_i(\\boldsymbol{r})$ with the lowest energy,"
   ]
  },
  {
   "cell_type": "markdown",
   "id": "cc265fc3",
   "metadata": {
    "editable": true
   },
   "source": [
    "$$\n",
    "n(\\boldsymbol{r}) = \\sum_{i=1}^N |\\psi_i (\\boldsymbol{r}) |^2.\n",
    "$$"
   ]
  },
  {
   "cell_type": "markdown",
   "id": "1538c1e4",
   "metadata": {
    "editable": true
   },
   "source": [
    "Now the electronic density obtained this way can be used to calculate\n",
    "a new Kohn-Sham potential. We\n",
    "continue this iterative procedure until we reach convergence."
   ]
  },
  {
   "cell_type": "markdown",
   "id": "5f3f08f6",
   "metadata": {
    "editable": true
   },
   "source": [
    "## Many-Electron Problem & Hohenberg–Kohn Theorems\n",
    "\n",
    "**Theorem I (HK1):** For any many-electron system in an external potential $V_{\\rm ext}(\\mathbf{r})$, the potential is uniquely determined (up to an additive constant) by the ground-state electron density $n(\\mathbf{r})$. Equivalently, the mapping $V_{\\rm ext}(\\mathbf{r}) \\mapsto n(\\mathbf{r})$ is one-to-one (for non-degenerate ground states) . This means no two different external potentials can yield the same ground-state density. As a corollary, the ground-state density $n(\\mathbf{r})$ uniquely determines the full Hamiltonian (up to constant shift in energy) and thus all properties of the system .\n",
    "\n",
    "**Theorem II (HK2):** There exists a universal functional $F[n]$ such that for any $N$-electron density $n(\\mathbf{r})$, the energy can be written as"
   ]
  },
  {
   "cell_type": "markdown",
   "id": "8ce2ae58",
   "metadata": {
    "editable": true
   },
   "source": [
    "$$\n",
    "E[n] = F[n] + \\int d^3r\\,V_{\\rm ext}(\\mathbf{r})\\,n(\\mathbf{r}),\n",
    "$$"
   ]
  },
  {
   "cell_type": "markdown",
   "id": "f1d323be",
   "metadata": {
    "editable": true
   },
   "source": [
    "and the true ground-state density minimizes this energy functional. In other words,"
   ]
  },
  {
   "cell_type": "markdown",
   "id": "8ca13b0a",
   "metadata": {
    "editable": true
   },
   "source": [
    "$$\n",
    "F[n] = T[n] + V_{\\rm int}[n],\n",
    "$$"
   ]
  },
  {
   "cell_type": "markdown",
   "id": "2e9584e0",
   "metadata": {
    "editable": true
   },
   "source": [
    "is a universal functional (the same for all systems, independent of $V_{\\rm ext}$), and for the correct ground-state density $n_0(\\mathbf{r})$, $E[n_0]$ is the global minimum of $E[n]$ . The minimum value equals the ground-state energy $E_0$.\n",
    "\n",
    "**Corollary:** The functional $E[n]$ is sufficient to obtain the exact ground-state energy and density . Excited states, however, are not obtained from this ground-state functional and must be accessed by other means (e.g. time-dependent DFT or other methods)."
   ]
  },
  {
   "cell_type": "markdown",
   "id": "56b247a1",
   "metadata": {
    "editable": true
   },
   "source": [
    "## Discussion: Consequences of HK Theorems\n",
    "\n",
    "DFT exists in principle: HK1 establishes that the ground-state density is as fundamental as the wavefunction – it encapsulates all the information needed to determine the system’s Hamiltonian and thus all ground-state observables. This is a remarkable reduction: instead of a complicated wavefunction $\\Psi$, we can work with $n(\\mathbf{r})$.\n",
    "Energy as a functional of density: HK2 guarantees an energy functional $E[n]$ exists. However, the theorems themselves do not provide an explicit form for $F[n] = T[n] + V_{\\rm int}[n]$. They are existence theorems. The challenge of DFT (and much of this course) is how to approximate $F[n]$ in practice, especially the many-body terms hidden in it.\n",
    "Variational principle: Given HK2, one can variationally obtain the ground state: if we had the exact $E[n]$ functional, minimizing $E[n]$ with respect to $n(\\mathbf{r})$ (subject to $\\int n(\\mathbf{r}) d^3r = N$) yields the true ground-state density and energy. In formal terms, $\\delta {E[n] - \\mu(\\int n - N)} / \\delta n(\\mathbf{r}) = 0$ leads to a condition $\\frac{\\delta E[n]}{\\delta n(\\mathbf{r})}\\big|_{n=n_0} = \\mu$ (constant Fermi level $\\mu$ for the ground state).\n",
    "Proof sketch of HK Theorem I: It’s instructive to see why two different potentials cannot give the same density. Suppose $V_{\\rm ext}^{(1)}(\\mathbf{r})$ and $V_{\\rm ext}^{(2)}(\\mathbf{r})$ yield the same ground-state density $n(\\mathbf{r})$ but different ground-state wavefunctions $\\Psi^{(1)}$ and $\\Psi^{(2)}$. Let $E^{(1)}$ and $E^{(2)}$ be their ground-state energies. Without loss of generality, assume $E^{(1)} < E^{(2)}$. Then, using $\\Psi^{(2)}$ in Hamiltonian 1: $E^{(1)} < \\langle \\Psi^{(2)}|\\hat{H}^{(1)}|\\Psi^{(2)}\\rangle = \\langle \\Psi^{(2)}|\\hat{H}^{(2)}|\\Psi^{(2)}\\rangle + \\int [V_{\\rm ext}^{(1)}(\\mathbf{r})-V_{\\rm ext}^{(2)}(\\mathbf{r})],n(\\mathbf{r}),d^3r = E^{(2)} + \\int [V_{\\rm ext}^{(1)}-V_{\\rm ext}^{(2)}] n(\\mathbf{r})$ . Similarly, exchanging 1↔2 leads to $E^{(2)} < E^{(1)} + \\int [V_{\\rm ext}^{(2)}-V_{\\rm ext}^{(1)}] n(\\mathbf{r})$ . Adding these two inequalities yields $E^{(1)} + E^{(2)} < E^{(1)} + E^{(2)}$, a contradiction. Thus $V_{\\rm ext}^{(1)}$ and $V_{\\rm ext}^{(2)}$ cannot produce the same $n(\\mathbf{r})$. This proves the uniqueness (HK1).\n",
    "Domain and $v$-representability: Not every arbitrary $n(\\mathbf{r})$ is a valid ground-state density of some physical $V_{\\rm ext}$ (this is the issue of $v$-representability). HK theorems assume $n(\\mathbf{r})$ comes from some ground state of a Hamiltonian. Modern proofs (Levy–Lieb constrained search) circumvent some $v$-representability issues by considering minimization over all wavefunctions yielding a density $n$.\n",
    "Implications: The ground-state energy can be obtained in principle by minimizing $E[n]$. However, without an expression for $F[n]$, one cannot perform this minimization in practice. Enter the Kohn–Sham approach (see below), which provides a clever way to approximate $F[n]$ using orbitals."
   ]
  },
  {
   "cell_type": "markdown",
   "id": "44828955",
   "metadata": {
    "editable": true
   },
   "source": [
    "## Example: Thomas–Fermi Approximation (Historical Perspective)\n",
    "\n",
    "Before rigorous DFT, the Thomas–Fermi (TF) model (1927) was an early density-based theory. It modeled the kinetic energy of electrons in a homogeneous way:\n",
    "T_{\\rm TF}[n] = \\frac{3}{10}(3\\pi^2)^{2/3} \\int n^{5/3}(\\mathbf{r})\\,d^3r\\,,\n",
    "and the electron–electron interaction via a Hartree term $E_{\\rm H}[n] = \\frac{e^2}{2}\\int d^3r,d^3r’ ,\\frac{n(\\mathbf{r}),n(\\mathbf{r}’)}{|\\mathbf{r}-\\mathbf{r}’|}$. The total TF energy functional:\n",
    "E_{\\rm TF}[n] = T_{\\rm TF}[n] + E_{\\rm H}[n] + \\int V_{\\rm ext} n(\\mathbf{r})\\,d^3r\\,.\n",
    "Minimizing $E_{\\rm TF}[n]$ for atoms gives a rough electron density profile. However, TF theory neglects shell structure and chemical bonding entirely (no exchange or true fermionic kinetic energy oscillations).\n",
    "Significance: TF theory does not produce bound molecules (it predicts atoms just barely unbound) , indicating that the simplistic functional misses important physics (exchange and quantum oscillations). Nonetheless, it was a foundation that showed the promise of using $n(\\mathbf{r})$ and inspired the development of DFT.\n",
    "Modern DFT vs. TF: The Kohn–Sham method can be viewed as incorporating the missing quantum effects by using an effective single-particle approach (coming next). In effect, Kohn–Sham splits $F[n]$ into a large known part (non-interacting kinetic energy + Hartree) and a smaller unknown remainder (exchange-correlation) that can be approximated.\n",
    "Preview of next lecture: How can we find the correct density without knowing the exact $F[n]$? The answer is the Kohn–Sham scheme, which introduces a fictitious non-interacting system that reproduces the same density. This yields tractable equations for orbitals, which, when solved self-consistently, give the ground-state density and energy."
   ]
  },
  {
   "cell_type": "markdown",
   "id": "e69305b5",
   "metadata": {
    "editable": true
   },
   "source": [
    "## Kohn–Sham Formalism, the ansatz\n",
    "\n",
    "Challenge: The HK theorems ensure an energy functional exists but don’t tell us its form. Direct use of $E[n]$ is impractical without approximations for $F[n] = T[n] + V_{\\rm int}[n]$. Early attempts (like Thomas–Fermi) were too crude. We need a more accurate scheme to handle the kinetic and interaction energies.\n",
    "Kohn–Sham idea (1965): Instead of trying to directly approximate the many-body kinetic energy $T[n]$ for interacting electrons, Kohn and Sham proposed to replace the real interacting system by an auxiliary non-interacting system of electrons that yields the same density $n(\\mathbf{r})$ as the true system  . This fictitious system is easier to solve (since non-interacting electrons just occupy orbitals).\n",
    "We introduce $N$ single-particle orbitals ${\\psi_i(\\mathbf{r})}$ (for $i=1,\\dots,N$ for a spin-unpolarized system; we will generalize to spin later) such that\n",
    "n(\\mathbf{r}) = \\sum_{i=1}^N |\\psi_i(\\mathbf{r})|^2\\,,\n",
    "where each $\\psi_i(\\mathbf{r})$ is an orbital in the auxiliary system  . We assume these $N$ orbitals can be chosen as orthonormal and occupy the lowest $N$ energy levels of some effective single-particle Hamiltonian.\n",
    "Non-interacting kinetic energy: We can exactly compute a kinetic energy for these orbitals:\n",
    "T_s[n] \\equiv T_{\\rm eff}[n] = -\\frac{\\hbar^2}{2m} \\sum_{i=1}^N \\int \\psi_i^*(\\mathbf{r})\\,\\nabla^2\\,\\psi_i(\\mathbf{r})\\,d^3r\\,,\n",
    "which is the kinetic energy of non-interacting electrons with density $n(\\mathbf{r})$ . $T_s[n]$ is generally not equal to the true kinetic energy $T[n]$ of the interacting system, but it will be the major part of it.\n",
    "Decomposing the energy functional: We then write the total energy functional as\n",
    "E[n] = T_s[n] + E_{\\rm H}[n] + E_{\\rm xc}[n] + \\int V_{\\rm ext}(\\mathbf{r})\\,n(\\mathbf{r})\\,d^3r\\,.\n",
    "Here $E_{\\rm H}[n] = \\frac{1}{2}\\int!\\int \\frac{n(\\mathbf{r}),n(\\mathbf{r’})}{|\\mathbf{r}-\\mathbf{r’}|} d^3r,d^3r’$ is the classical Hartree (Coulomb) energy of the electron distribution, and $E_{\\rm xc}[n]$ is defined as the exchange–correlation energy, which by construction includes all the many-body effects not captured by $T_s$ and $E_{\\rm H}$【28†match】 (see below for formal definition).\n",
    "Essentially, $E_{\\rm xc}[n]$ is a correction term:\n",
    "E_{\\rm xc}[n] \\equiv (T[n] - T_s[n]) + (V_{\\rm int}[n] - E_{\\rm H}[n])\\,,\n",
    "i.e. it contains the difference between the true kinetic energy and the non-interacting kinetic energy plus the difference between the true electron–electron interaction energy and the simple Hartree term . In this way, if $E_{\\rm xc}[n]$ were known exactly, DFT would be exact. All approximation difficulty is shoved into $E_{\\rm xc}$."
   ]
  },
  {
   "cell_type": "markdown",
   "id": "e75578d8",
   "metadata": {
    "editable": true
   },
   "source": [
    "## Derivation of the Kohn–Sham Equations (Variational Method)\n",
    "\n",
    "We now minimize the energy functional $E[n]$ with respect to the orbitals $\\psi_i(\\mathbf{r})$, subject to the constraint that $\\int |\\psi_i|^2 = 1$ (orthonormality for different $i$). This is equivalent to minimizing w.r.t. $n(\\mathbf{r})$ but using the orbital representation ensures $n(\\mathbf{r})$ is $v$-representable by some non-interacting system.\n",
    "The Kohn–Sham energy functional (including all terms) can be written as:\n",
    "E[n] = T_s[n] + \\int V_{\\rm ext}(r)\\,n(r)\\,dr + E_{\\rm H}[n] + E_{\\rm xc}[n]\\,,\n",
    "where we treat $E_{\\rm H}$ and $E_{\\rm xc}$ as explicit functionals of $n$ (and thus implicit of ${\\psi_i}$). For brevity, denote\n",
    "E_{\\rm other}[n] \\equiv \\int V_{\\rm ext} n\\,dr + E_{\\rm H}[n] + E_{\\rm xc}[n]\\,.\n",
    "We impose orthonormality via Lagrange multipliers $\\epsilon_j$ (which will turn out to be the orbital energies). The Euler–Lagrange equation for minimizing $E[{\\psi_i}] = T_s[{\\psi_i}] + E_{\\rm other}[n]$ is:\n",
    "\\frac{\\delta}{\\delta \\psi_i^(r)} \\Big\\{ T_s[\\{\\psi\\}] + E_{\\rm other}[n] - \\sum_{j}\\epsilon_j (\\langle\\psi_j|\\psi_j\\rangle - 1)\\Big\\} = 0\\,,\n",
    "for each $i$. Varying $\\psi_i^$ yields:\n",
    "\\frac{\\delta T_s}{\\delta \\psi_i^(r)} + \\int d^3r’\\, \\frac{\\delta E_{\\rm other}}{\\delta n(r’)} \\frac{\\delta n(r’)}{\\delta \\psi_i^(r)} = \\epsilon_i\\,\\psi_i(r)\\,.\n",
    "Now, $\\delta T_s/\\delta \\psi_i^* = -\\frac{\\hbar^2}{2m}\\nabla^2 \\psi_i(r)$ (like a kinetic operator acting on $\\psi_i$), and $\\frac{\\delta E_{\\rm other}}{\\delta n(r’)} = V_{\\rm ext}(r’) + \\frac{\\delta E_{\\rm H}}{\\delta n(r’)} + \\frac{\\delta E_{\\rm xc}}{\\delta n(r’)}$.\n",
    "Note $\\frac{\\delta E_{\\rm H}}{\\delta n(r’)} = \\int d^3r’’, \\frac{n(r’’)}{|r’-r’’|} = V_{\\rm H}(r’)$, the Hartree potential, and by definition $\\frac{\\delta E_{\\rm xc}}{\\delta n(r’)} = V_{\\rm xc}(r’)$, the exchange–correlation potential. Also, $\\frac{\\delta n(r’)}{\\delta \\psi_i^*(r)} = \\psi_i(r)\\delta(r-r’)$ (since $n = \\sum_j |\\psi_j|^2$). So the variational equation becomes:\n",
    "-\\frac{\\hbar^2}{2m}\\nabla^2\\psi_i(r) + \\Big[V_{\\rm ext}(r) + V_{\\rm H}(r) + V_{\\rm xc}(r)\\Big]\\psi_i(r) = \\epsilon_i\\, \\psi_i(r)\\,.\n",
    "This is the Kohn–Sham equation  , which has the form of a one-particle Schrödinger equation:\n",
    "\\hat{H}{\\rm KS}\\psi_i(r) = \\epsilon_i \\psi_i(r)\\,,\n",
    "where $\\hat{H}{\\rm KS} = -\\frac{\\hbar^2}{2m}\\nabla^2 + V_{\\rm eff}(r)$ and\n",
    "V_{\\rm eff}(r) = V_{\\rm ext}(r) + V_{\\rm H}n + V_{\\rm xc}n\\,.\n",
    "This effective potential $V_{\\rm eff}(r)$ depends on the density $n(r)$ through $V_{\\rm H}$ and $V_{\\rm xc}$ .\n",
    "We have obtained a set of $N$ coupled one-particle equations. The couplings are implicit: all orbitals $\\psi_i$ feel the same $V_{\\rm eff}[n]$, and $V_{\\rm eff}$ in turn depends on all $\\psi_i$ via $n(r) = \\sum_{j}|\\psi_j|^2$. Thus, the KS equations must be solved self-consistently."
   ]
  },
  {
   "cell_type": "markdown",
   "id": "a87fdd11",
   "metadata": {
    "editable": true
   },
   "source": [
    "## Interpreting the Kohn–Sham Equations\n",
    "\n",
    "Self-consistent field (SCF): The KS equations $(-\\frac{\\hbar^2}{2m}\\nabla^2 + V_{\\rm eff}n)\\psi_i = \\epsilon_i\\psi_i$ look like independent-particle Schrödinger equations. However, $V_{\\rm eff}(r)$ depends on $n(r)$, which in turn depends on all ${\\psi_i}$. Solving them requires a self-consistent cycle: guess a density (or orbitals) $\\rightarrow$ compute $V_{\\rm eff}$ $\\rightarrow$ solve for new $\\psi_i$ $\\rightarrow$ update $n(r)$ $\\rightarrow$ repeat until convergence. (We will detail this algorithm in Lecture 4.)\n",
    "Exchange–correlation potential: $V_{\\rm xc}(r) = \\delta E_{\\rm xc}/\\delta n(r)$ plays a central role. It includes all many-body effects such as exchange (Pauli exclusion) and electron correlation. In practice, $E_{\\rm xc}[n]$ must be approximated. But if $E_{\\rm xc}$ were known exactly, $V_{\\rm xc}(r)$ ensures that the KS orbitals yield the correct $n(r)$ and energy.\n",
    "Total energy expression: Once the KS equations are solved for the orbitals and eigenvalues, one can compute the total energy as\n",
    "E[n] = \\sum_{i=1}^N \\epsilon_i \\;-\\; \\frac{1}{2}\\int d^3r\\, V_{\\rm H}(r)\\,n(r)\\;+\\; E_{\\rm xc}[n] \\;-\\; \\int d^3r\\, n(r)\\,V_{\\rm xc}(r)\\,.\n",
    "This formula corrects for the fact that $\\sum_i \\epsilon_i$ counts the Hartree energy and $E_{\\rm xc}$ contributions in a non-double-counting way . It can be derived from the variation result and ensures adding $V_{\\rm xc}$ term did not overcount those energies.\n",
    "Physical meaning of $\\epsilon_i$: The KS eigenvalues $\\epsilon_i$ do not strictly equal the true excitation energies of the system (except in special cases). They are Lagrange multipliers to enforce orbital orthonormality. However, the highest occupied KS eigenvalue $\\epsilon_{\\rm HOMO}$ (for exact XC) equals the negative of the ionization energy by Janak’s theorem and the Koopmans’ theorem analogue in DFT. Also, differences $\\epsilon_{i}-\\epsilon_{j}$ often resemble quantum excitation energies (and in practice KS band structures often qualitatively match measured band structures, with notable systematic errors like band gap underestimation – more in Lecture 5).\n",
    "Spin-generalization: Real systems have electron spin. Spin-DFT (or LSDA) extends KS to two densities: $n_\\uparrow(r)$ and $n_\\downarrow(r)$ for spin-up and spin-down electrons. The HK theorems generalize to spin densities, and one defines $E[n_\\uparrow,n_\\downarrow]$ with exchange-correlation functional $E_{\\rm xc}[n_\\uparrow,n_\\downarrow]$. In practice, one often uses local spin-density approximation (LSDA) where $E_{\\rm xc}$ depends on $n_\\uparrow$ and $n_\\downarrow$ locally. The KS equations split for each spin channel with their own $V_{\\rm xc}^\\uparrow$ and $V_{\\rm xc}^\\downarrow$. Exchange energy, for example, is computed separately for each spin as it involves like-spin correlations .\n",
    "Summary: The Kohn–Sham formulation reduces the interacting $N$-electron problem to $N$ one-electron equations, provided we have a good approximation for $E_{\\rm xc}[n]$. This was a monumental shift – it allows using basis sets and algorithms from one-particle quantum mechanics (like plane waves, etc.) to handle many-electron systems with reasonable cost."
   ]
  },
  {
   "cell_type": "markdown",
   "id": "6992eca8",
   "metadata": {
    "editable": true
   },
   "source": [
    "## Example: Hydrogen and Helium in Kohn–Sham DFT\n",
    "\n",
    "One-electron system (H atom): Consider a single hydrogen atom (one electron in the Coulomb potential of a proton). In this case, the KS approach is exact: if $N=1$, there is no electron–electron repulsion. The KS equation becomes $[-\\frac{\\hbar^2}{2m}\\nabla^2 + V_{\\rm ext}(r)]\\psi_1 = \\epsilon_1 \\psi_1$, which is just the real Schrödinger equation for hydrogen. The ground-state density is $n(r)=|\\psi_{1s}(r)|^2$. Here, $V_{\\rm H}=0$ (no two electrons) and the exact $E_{\\rm xc}$ for one electron is zero (no exchange or correlation needed for a single electron). Indeed, $V_{\\rm xc}(r)=0$ in this case. The KS orbital $\\psi_{1s}(r)$ is the true 1s orbital, and $\\epsilon_{1s} = -13.6$ eV equals the ionization energy. This illustrates that for one-electron cases, DFT can be made exact with trivial XC functional.\n",
    "Two-electron system (He atom): The helium atom (two electrons in 1s orbital) is a simple case with electron–electron interaction. The exact ground-state energy of He is about $-79.0$ eV. A Hartree–Fock calculation (which includes exchange exactly but no true correlation) yields about $-77.5$ eV (missing the small correlation energy). Kohn–Sham DFT with a reasonable approximation (like the simplest LSDA) typically gives an energy around $-79$ eV, very close to the exact, illustrating that DFT can capture correlation effects efficiently through the XC functional. The KS orbitals in He end up similar to the HF 1s orbital; $V_{\\rm xc}(r)$ for helium (within LDA) is a negative potential in the shell region that effectively mimics the inter-electron repulsion reduction.\n",
    "Molecule example (H$_2$): In the H$_2$ molecule, two electrons form a covalent bond. KS DFT at the LDA or GGA level can predict a reasonable H–H bond length and binding energy (with small errors, e.g. LDA often slightly overbinds). The two 1s electrons are put into KS orbitals (bonding and anti-bonding). The KS HOMO–LUMO gap is not exactly the true H$_2$ excitation energy but is related. We will revisit how different functionals perform for molecules in Lecture 5.\n",
    "These simple examples show that Kohn–Sham’s division of the energy (and inclusion of an approximate $E_{\\rm xc}$) can recover a large portion of the missing many-body effects. The accuracy depends on the quality of $E_{\\rm xc}[n]$. We now turn to exploring common choices for $E_{\\rm xc}$ in the next lecture."
   ]
  },
  {
   "cell_type": "markdown",
   "id": "ae573c42",
   "metadata": {
    "editable": true
   },
   "source": [
    "## Exercises: Kohn–Sham Derivations and Concepts\n",
    "\n",
    "Derive the KS Equations: Starting from the energy functional $E[{\\psi_i}] = T_s[{\\psi}] + \\int V_{\\rm ext} n,dr + E_{\\rm H}[n] + E_{\\rm xc}[n]$ with the constraint $\\langle \\psi_i|\\psi_j\\rangle = \\delta_{ij}$, perform the functional derivative with respect to $\\psi_i^*(r)$ and show all steps leading to the Kohn–Sham eigenvalue equation\n",
    "\\Big(-\\frac{\\hbar^2}{2m}\\nabla^2 + V_{\\rm ext}(r) + \\int \\frac{n(r’)}{|r-r’|}dr’ + V_{\\rm xc}(r)\\Big)\\psi_i(r) = \\epsilon_i\\,\\psi_i(r)\\,.\n",
    "(Hint: Treat $E_{\\rm xc}$ as an unknown functional but its functional derivative is $V_{\\rm xc}$.)\n",
    "Single Electron Case: For an $N=1$ electron system, argue why $E_{\\rm H}=0$ and $E_{\\rm xc}=0$ for the exact functional. Verify that the KS equation then reduces to the single-particle Schrödinger equation. What does this imply about the KS potential $V_{\\rm eff}(r)$ relative to $V_{\\rm ext}(r)$ for one electron?\n",
    "KS Orbitals vs. Real Orbitals: Kohn–Sham orbitals are often similar to Hartree–Fock orbitals. Conceptually, how would you explain the difference between a KS orbital and the true many-body wavefunction? Why can we often interpret KS orbitals as “orbitals” of the system even though they are fictitious? (Think about how the charge density and qualitative shape of orbitals reflect real electron distributions.)\n",
    "Spin DFT: How would you modify the KS equations for a spin-polarized system? Write down the separate KS equations for spin-up and spin-down electrons, and define the spin-dependent $V_{\\rm xc}^\\uparrow$, $V_{\\rm xc}^\\downarrow$ in terms of the functional $E_{\\rm xc}[n_\\uparrow, n_\\downarrow]$. (No detailed derivation needed, just the final form.)"
   ]
  },
  {
   "cell_type": "markdown",
   "id": "7b25cd37",
   "metadata": {
    "editable": true
   },
   "source": [
    "## The Exchange–Correlation Functional $E_{\\xc}[n]$\n",
    "\n",
    "$E_{\\xc}[n]$ is the heart of DFT approximations. It encodes all the many-body quantum effects beyond the simple Hartree picture and non-interacting kinetic energy. By definition:\n",
    "\\[\n",
    "E_{\\xc}[n] = (T[n] - T_s[n]) + (V_{\\rm int}[n] - E_{\\rm H}[n])\\,,\n",
    "\\]\n",
    "which includes:\n",
    "– Exchange energy $E_x[n]$: the part arising from Pauli exclusion (present even in Hartree–Fock).\n",
    "– Correlation energy $E_c[n]$: the remaining part due to electron-electron dynamical correlations (not captured by a single Slater determinant).\n",
    "The exact $E_{\\xc}[n]$ is unknown except for simple model systems. We rely on approximate forms. Despite the word “exchange-correlation”, standard DFT approximations do not treat exchange and correlation separately; rather $E_{\\xc}$ is an integrated functional typically constructed with certain properties in mind (sum rules, known limits, etc.).\n",
    "Key properties of $E_{\\xc}[n]$ (exact functional):\n",
    "\n",
    "$E_{\\xc}$ is typically negative (exchange is negative, lowering energy; correlation usually negative as well for bound systems).\n",
    "It has a corresponding potential $V_{\\xc}(\\mathbf{r}) = \\delta E_{\\xc}/\\delta n(\\mathbf{r})$. This $V_{\\xc}$ ensures the KS orbitals yield the correct $n(\\mathbf{r})$.\n",
    "$E_{\\xc}$ accounts for things like the exchange hole (the reduced probability of finding another electron near a given electron due to Pauli principle) and the correlation hole (avoidance due to Coulomb repulsion).\n",
    "There is an important sum rule: the exchange hole integrated over space gives $-1$ electron (each electron excludes one charge of same-spin density around it).\n",
    "\n",
    "Because the exact functional is intractable, we build approximations in a systematic way (sometimes called “Jacob’s ladder” of DFT approximations, from simplest to more complex forms)."
   ]
  },
  {
   "cell_type": "markdown",
   "id": "e919a009",
   "metadata": {
    "editable": true
   },
   "source": [
    "## Local Density Approximation (LDA)\n",
    "\n",
    "LDA formulation: The local density approximation is the first and simplest rung of approximations. In LDA, one assumes the XC energy at point $\\mathbf{r}$ depends only on the local density $n(\\mathbf{r})$. Specifically,\n",
    "\\[\n",
    "E_{\\xc}^{\\rm LDA}[n] = \\int d^3r\\, n(\\mathbf{r})\\, \\varepsilon_{\\xc}\\!\\big(n(\\mathbf{r})\\big)\\,,\n",
    "\\]\n",
    "where $\\varepsilon_{\\xc}(n)$ is the XC energy per electron of a uniform electron gas of density $n$. So essentially, LDA treats each point in the material as if it were part of a homogeneous electron gas with that local density.\n",
    "Origin: The homogeneous electron gas (HEG) is one of the rare many-body systems we can solve (with quantum Monte Carlo, etc.). For a given uniform density $n$, the exchange energy per electron is known analytically (Dirac, 1930):\n",
    "\\varepsilon_x(n) = -\\frac{3}{4}\\left(\\frac{3}{\\pi}\\right)^{1/3} \\frac{e^2 n^{1/3}}{4\\pi\\epsilon_0} \\quad \\text{(in SI units, or = $-0.458\\, r_s^{-1}$ Ry in atomic units)}.\n",
    "The correlation energy per electron $\\varepsilon_c(n)$ was tabulated via Monte Carlo by Ceperley and Alder (1980) and fit by Perdew–Zunger (1981) – providing a practical formula for $\\varepsilon_c(n)$ for all densities.\n",
    "Successes of LDA: In the 1970s–80s, LDA proved surprisingly successful for solids and simple metals. It tends to give reasonably good electron densities and total energies, often canceling errors between exchange and correlation. For many solids, LDA predicts lattice constants within a few percent of experiment and bulk modulus within ~10%. For example, LDA for silicon gives a lattice constant slightly smaller than experiment (overbinding), but within ~1-2% .\n",
    "Systematic errors: LDA, however, is not very accurate for molecules (it overbinds molecules by about 1 eV per bond on average ). It also underestimates bond lengths (making them too short) and overestimates vibrational frequencies. In extended systems, LDA typically underestimates band gaps of semiconductors (often giving 30-50% smaller gaps or even falsely predicting a metallic state for some insulators).\n",
    "Why LDA works or fails: LDA has no knowledge of density gradients or molecule-specific effects. It works best when the system’s density varies slowly or is close to homogeneous (like simple metals). It fails when density is highly inhomogeneous or when delicate bonding/angle preferences occur (where gradients matter) or in systems where long-range correlation (van der Waals) is important, since a uniform-gas approximation can’t capture those."
   ]
  },
  {
   "cell_type": "markdown",
   "id": "373e4e17",
   "metadata": {
    "editable": true
   },
   "source": [
    "## Generalized Gradient Approximation (GGA)\n",
    "\n",
    "Inclusion of density gradients: The next rung beyond LDA are GGA functionals. These include dependence not only on $n(\\mathbf{r})$ but also on its gradient $\\nabla n(\\mathbf{r})$. The general form is:\n",
    "\\[\n",
    "E_{\\xc}^{\\rm GGA}[n] = \\int f\\big(n(\\mathbf{r}), \\nabla n(\\mathbf{r})\\big)\\, d^3r\\,,\n",
    "\\]\n",
    "where $f$ is some chosen function designed to satisfy known physical constraints. GGAs effectively recognize that the electron density varies in space and attempt to correct LDA by including gradient information (e.g., regions where density is rapidly changing like in molecular bonds or surfaces).\n",
    "Popular GGA functionals: One prominent example is the Perdew–Burke–Ernzerhof (PBE) GGA (1996) which is a non-empirical functional built to satisfy certain exact constraints and known limits. Others include BLYP (Becke exchange + Lee-Yang-Parr correlation) which is popular in quantum chemistry, PW91 (an earlier Perdew–Wang 1991 GGA), etc. In GGA, the exchange energy density is modified from the LDA form by a factor depending on the gradient $ = |\\nabla n|/(2k_F n)$ (reduced gradient), and similarly correlation gets a gradient correction.\n",
    "Improvements with GGA: GGAs generally improve upon LDA for molecules and complex materials:\n",
    "\n",
    "Molecular bonds: GGA (like PBE or BLYP) typically gives better bond energies and lengths than LDA. For example, LDA’s overbinding is reduced; GGAs give bond lengths usually within 1$\\%$ of experiment and correct the overbinding by a significant amount . Hydrogen bonds and weak interactions are still not perfect, but better than LDA .\n",
    "Solids: GGA often over-corrects LDA’s tendencies: if LDA lattice constant was too small, GGA gives a slightly too large lattice constant. It’s observed that experimental lattice constants often lie between LDA (too low) and GGA (too high) . Bulk moduli are slightly underestimated in GGA (since the volume is larger).\n",
    "Cohesive energies: GGA improves cohesive energy calculations for molecules and solids; LDA might overestimate cohesive energies (overbinding) while GGA brings them closer to experiment .\n",
    "\n",
    "GGA limitations:\n",
    "\n",
    "They still miss long-range van der Waals forces (since those arise from non-local correlation, not captured by a semilocal functional). GGAs can err badly for systems like layered materials (graphite) or molecular crystals where dispersion is key.\n",
    "They often still underestimate band gaps (though sometimes marginally better than LDA by a small amount).\n",
    "Strongly correlated electron systems (e.g. Mott insulators, some transition metal oxides) are still poorly described (GGA often predicts them metallic unless an empirical $U$ correction is added).\n",
    "\n",
    "Spin in LDA/GGA: In spin-polarized cases, one uses LSDA or GGA that are functions of $n_\\uparrow, n_\\downarrow$ (often constructed by applying LDA/GGA for each spin channel). This allows treatment of magnetism. For example, LSDA correctly predicts an exchange splitting in iron and a ferromagnetic ground state, though it may overestimate the magnetic moments slightly."
   ]
  },
  {
   "cell_type": "markdown",
   "id": "aa0fd3c9",
   "metadata": {
    "editable": true
   },
   "source": [
    "## Beyond GGA: Meta-GGA and Hybrid Functionals\n",
    "\n",
    "Meta-GGAs: These are functionals that include second derivatives or kinetic energy densities. For instance, a meta-GGA may use $n(\\mathbf{r})$, $\\nabla n$, and also the KS kinetic energy density $\\tau(\\mathbf{r}) = \\sum_i \\frac{\\hbar^2}{2m}|\\nabla \\psi_i|^2$ or $\\nabla^2 n$. Including $\\tau$ helps the functional distinguish regions like bond versus slowly varying electron gas more effectively. An example is the SCAN functional (Strongly Constrained and Appropriately Normed, 2015) which is a meta-GGA that satisfies many known constraints and often achieves higher accuracy across diverse systems than typical GGA.\n",
    "Hybrid functionals: These functionals mix a portion of exact exchange (from Hartree–Fock theory) with GGA exchange-correlation. The rationale is to mitigate the self-interaction error and correct the underestimated repulsion in LDA/GGA exchange. A general form:\n",
    "\\[\n",
    "E_{\\xc}^{\\rm hybrid} = E_{\\xc}^{\\rm GGA} + a \\,(E_x^{\\rm HF} - E_x^{\\rm GGA})\\,,\n",
    "\\]\n",
    "where $E_x^{\\rm HF}$ is the exact exchange energy from the KS orbitals (non-local), and $a$ is a mixing coefficient (commonly 20-2$5\\%$). B3LYP is a famous hybrid in chemistry (with $a\\approx 0.2$ plus some empirical parameters in correlation), and PBE0 is a hybrid with $a=0.25$ (25$\\%$ exact exchange) based on PBE. Hybrids significantly improve molecular properties: they give much better reaction energy barriers, atomization energies, and often better equilibrium structures.\n",
    "Why hybrids help: By adding exact exchange, hybrids correct the tendency of LDA/GGA to over-stabilize electron-rich regions. They also open up band gaps for insulators/semiconductors compared to LDA/GGA. For example, PBE (a GGA) predicts Si band gap ~0.6 eV while experiment is 1.1 eV; a hybrid like HSE (screened hybrid) or PBE0 might predict ~0.9–1.2 eV, much closer . In fact, the popular B3LYP functional was one reason DFT became widely used in quantum chemistry – it achieves “chemical accuracy” (~0.1 eV error) for many thermochemical properties  .\n",
    "Cost of hybrids: The inclusion of exact exchange makes calculations more expensive (scaling roughly like Hartree–Fock, $O(N^4)$ with system size, rather than $O(N^3)$ for pure DFT). In extended systems (3D solids), exact exchange is particularly costly, though screened hybrids (like HSE06) make it more tractable by damping long-range exchange.\n",
    "Empirical vs non-empirical: Some functionals (like B3LYP) had parameters fit to a training set of molecules, whereas PBE, SCAN, etc., are “non-empirical” (built from known physical constraints). Both approaches exist; empirical functionals can sometimes be very accurate for the types of systems they were fit to but might be less transferable.\n",
    "Functional performance: Over the decades, improvement is incremental. For instance, GGA significantly improved over LDA by late 1980s ; hybrids in the 1990s improved further. Yet some problems remain challenging (van der Waals, strong correlation). Many newer functionals aim at specialized fixes (like DFT-D for dispersion, DFT+U for correlations – to be discussed below)."
   ]
  },
  {
   "cell_type": "markdown",
   "id": "7ee8a2e3",
   "metadata": {
    "editable": true
   },
   "source": [
    "## Exchange-Correlation Functional Theory\n",
    "\n",
    "Functional Derivative Practice: Suppose an approximate XC functional is given by\n",
    "\\[\n",
    "E_{\\xc}[n] = \\int d^3r\\, A\\,[n(\\mathbf{r})]^\\alpha\\,,\n",
    "\\]\n",
    "where $A$ and $\\alpha$ are constants. Derive an expression for the exchange-correlation potential $V_{\\xc}(r) = \\delta E_{\\xc}/\\delta n(r)$. (Check: for $E_x$ of a uniform gas, $\\alpha = 4/3$ and $A$ is negative, yielding $V_x(r) \\propto n^{1/3}(r)$.)\n",
    "LDA vs GGA Trends: Give one example of a material or property where LDA is known to significantly over-bind or under-bind (or otherwise fail), and describe qualitatively how GGA addresses this. For instance, consider the binding energy of the graphite layers (interlayer cohesion in graphite) or the dissociation of the $\\text{H}_2$ molecule at large separation. Why is LDA inadequate in your chosen case?\n",
    "Exchange Hole Visualization: (Conceptual) The exchange-correlation hole $n_{\\xc}(\\mathbf{r}, \\mathbf{r}’)$ represents the deficit of probability of finding an electron at $\\mathbf{r}’$ given one at $\\mathbf{r}$. For a uniform electron gas, this hole is spherical. Explain how LDA uses the exchange hole concept in an averaged way. Why is it reasonable to use the homogeneous electron gas as a reference for solids but less so for, say, a sparse molecule?\n",
    "Hybrid Functional Effect: Hybrid functionals incorporate a fraction of exact exchange. Consider a small gap semiconductor or an atom where self-interaction error is significant. How does adding exact exchange improve the description? What is one drawback of using hybrid functionals in large systems?"
   ]
  },
  {
   "cell_type": "markdown",
   "id": "09576605",
   "metadata": {
    "editable": true
   },
   "source": [
    "## Basis Sets for Solving the Kohn–Sham Equations\n",
    "\n",
    "Why a basis? The KS equations are differential equations that generally have no closed-form solution except for the simplest systems. To solve them on a computer, we choose a basis set to expand the KS orbitals $\\psi_i(\\mathbf{r})$. Common basis choices:\n",
    "\n",
    "Plane-wave basis: $\\displaystyle \\psi_i(\\mathbf{r}) = \\sum_{\\mathbf{G}} c_{i,\\mathbf{G}}, e^{i\\mathbf{G}\\cdot \\mathbf{r}}$. Here $\\mathbf{G}$ are reciprocal lattice vectors (for a periodic system, plane waves naturally incorporate Bloch’s theorem). We use plane waves especially in solid-state calculations with periodic boundary conditions. Plane waves are an unbiased, orthonormal basis covering the whole space  . A plane-wave basis doesn’t depend on atomic positions (no basis set superposition error), and forces can be computed easily using Hellmann–Feynman (no Pulay forces) . We include all plane waves up to a kinetic energy cutoff $E_{\\rm cut} = \\frac{\\hbar^2}{2m}|\\mathbf{G}|^2_{\\max}$. This single parameter controls basis completeness .\n",
    "Atomic-like orbitals: e.g. Gaussian functions or numerical atomic orbitals centered on atoms. Common in quantum chemistry, e.g. Gaussian-type orbitals (GTOs) – basis functions of form $\\chi_{\\mu}(\\mathbf{r}) = x^l y^m z^n e^{-\\alpha r^2}$, which are localized around atoms. These are efficient for molecules (fewer basis functions than plane waves for isolated systems) but require careful choice (basis sets of increasing size: double-zeta, triple-zeta, etc. to approach completeness).\n",
    "Augmented / others: Augmented plane waves (APW, LAPW), wavelets, real-space grids, etc. Linearized APW+lo and similar methods mix local functions with plane waves for better convergence on all-electron problems.\n",
    "\n",
    "All-electron vs. valence-only: Plane waves are poorly suited to representing the rapid oscillations of core electron wavefunctions near nuclei (would require extremely high $E_{\\rm cut}$). Similarly, including core states in molecular calculations can be unnecessary (they don’t participate in bonding significantly). This leads to the use of pseudopotentials or effective core potentials to remove core electrons from consideration.\n",
    "Basis set convergence: In any method, we must converge results with respect to basis size. Plane waves have a clear parameter $E_{\\rm cut}$ to increase; atomic orbitals have to go to higher zeta levels and include polarization/diffuse functions. An incomplete basis can introduce errors (variational principle ensures energy is above true minimum for exact functional). For plane waves, completeness is systematically improvable by raising $E_{\\rm cut}$ .\n",
    "Comparison: Plane waves treat periodic systems uniformly and are convenient for solids. Local orbitals are very efficient for molecules (much fewer basis functions required typically). Plane waves plus pseudopotentials have become the standard in materials science due to ease of achieving convergence and automating calculations."
   ]
  },
  {
   "cell_type": "markdown",
   "id": "b6bb3bd8",
   "metadata": {
    "editable": true
   },
   "source": [
    "## Pseudopotentials and Treating Core Electrons\n",
    "\n",
    "Purpose of pseudopotentials: In a heavy atom, core electrons occupy small, tightly bound orbitals with many nodes (oscillations). Including them in a plane-wave calculation would demand an extremely high cutoff to resolve those oscillations  . Yet core electrons hardly affect chemical bonding (they’re essentially inert, providing just an effective nuclear charge for valence). Pseudopotentials allow us to replace the strong nuclear + core potential with a gentler effective potential that acts on valence electrons:\n",
    "\n",
    "Removes core electrons: They are not explicitly included; one uses a frozen core approximation. The number of electrons $N$ in the KS equations is then just the valence count.\n",
    "Smooths valence wavefunctions: The valence orbitals are forced to have no radial nodes inside a chosen cutoff radius. The pseudopotential is constructed so that outside the core radius, the pseudo-wavefunction matches the real all-electron wavefunction .\n",
    "\n",
    "How it’s done: A pseudopotential $V_{\\rm PS}(r)$ is generated (often by solving an atomic all-electron problem, then smoothing the potential inside). It typically comes in forms:\n",
    "\n",
    "Norm-conserving pseudopotentials: ensure that the integrated charge of pseudo vs all-electron wavefunction matches inside the cutoff radius. These require higher cutoffs for first-row elements and transition metals often.\n",
    "Ultrasoft pseudopotentials: allow partial norm violation but include correction terms; this permits even softer (lower cutoff) potentials.\n",
    "Projector Augmented Wave (PAW) method: a modern approach that is effectively an all-electron + pseudopotential hybrid. PAW reconstructs the all-electron wavefunction via linear combination of smooth partial waves and atom-centered corrections.\n",
    "\n",
    "Benefits: Using pseudopotentials drastically reduces the plane-wave basis size required . For example, a carbon atom with all-electron 1s core needs maybe 1000 eV plane-wave cutoff to capture 1s oscillation, but with a pseudopotential, one can use ~400 eV and omit the 1s entirely. It also simplifies the Hamiltonian by removing core-core interactions (which just become a constant reference energy).\n",
    "Transferability: A good pseudopotential reproduces scattering properties of the true potential for valence electrons in different environments. Pseudopotentials are tested on isolated atoms and sometimes fitted slightly to known properties (non-empirical ones are derived to match atomic spectra).\n",
    "In practice: Codes like VASP, Quantum ESPRESSO, ABINIT, etc., rely on plane-wave + pseudopotential. Chemistry codes (Gaussian, ORCA) typically use all-electron atomic bases for lighter elements, but for very heavy elements might use effective core potentials (ECPs, similar concept to pseudopotential).\n",
    "Example: For Si (with core [Ne]), a typical norm-conserving pseudopotential treats 4 valence electrons (3s²3p²) explicitly. The 1s, 2s, 2p are frozen in the potential. This yields excellent accuracy for bonding in silicon while using a moderate basis. If one tried all-electron with plane waves, it would be extremely inefficient."
   ]
  },
  {
   "cell_type": "markdown",
   "id": "372f2ba0",
   "metadata": {
    "editable": true
   },
   "source": [
    "## Self-Consistent Field (SCF) Procedure\n",
    "\n",
    "Solving KS equations requires a self-consistent field approach because $V_{\\rm eff}[n]$ depends on $n$. The standard SCF loop:\n",
    "\n",
    "Initial guess: Start with an initial electron density $n^{(0)}(\\mathbf{r})$. This could be a superposition of atomic densities or uniform electron gas or even random (in practice, educated guesses help convergence).\n",
    "Build Hamiltonian: Compute $V_{\\rm H}n^{(k)}$ from the current density (solve Poisson’s equation) and $V_{\\xc}n^{(k)}$ from the chosen functional. Form the effective potential $V_{\\rm eff}^{(k)}(r) = V_{\\rm ext}(r) + V_{\\rm H}^{(k)}(r) + V_{\\xc}^{(k)}(r)$.\n",
    "Solve KS equations: Solve $\\big(-\\frac{\\hbar^2}{2m}\\nabla^2 + V_{\\rm eff}^{(k)}(r)\\big)\\psi_i^{(k)}(r) = \\epsilon_i^{(k)} \\psi_i^{(k)}(r)$ for the orbitals. In practice, this means diagonalizing the Hamiltonian matrix in the chosen basis (e.g. plane-wave basis yields a matrix eigenvalue problem). Obtain a new set of orbitals ${\\psi_i^{(k)}}$.\n",
    "Update density: Compute new density $n^{(k+1)}(r) = \\sum_{i \\in \\text{occupied}} |\\psi_i^{(k)}(r)|^2$. For zero-temperature calculations, we fill the lowest $N$ orbitals (or use Fermi-Dirac occupation if metals/finite-$T$).\n",
    "Mixing: The new density $n^{(k+1)}$ might not be used directly; typically one mixes it with the old density to damp oscillations:\n",
    "n^{(k+1)} \\leftarrow n^{(k)} + \\alpha\\big(n_{\\text{new}}^{(k+1)} - n^{(k)}\\big)\\,,\n",
    "where $\\alpha$ is a mixing parameter (e.g. 0.2). More sophisticated schemes (Pulay’s DIIS method, Broyden mixing) construct an optimized mix of several previous iterations to accelerate convergence  .\n",
    "Convergence check: Compare $n^{(k+1)}(r)$ with $n^{(k)}(r)$ (or total energies or potentials). If the change (error) is below a set threshold (e.g. $10^{-5}$), the SCF cycle has converged to self-consistency. If not, go back to step 2 with $k \\leftarrow k+1$.\n",
    "\n",
    "Convergence behavior: SCF is essentially a fixed-point iteration for $n = D[V(n)]$, where $D$ is the operation “solve KS and get new $n$” . Convergence is not always trivial: for insulating systems it’s usually straightforward, for metals or problematic cases one may need small $\\alpha$ or special mixing (because of charge sloshing or near-instabilities). Mathematically, the mixing scheme seeks to ensure the error $e_{n+1} = e_n - \\alpha P^{-1}(D(V(n)) - n)$ gets smaller  , where $P$ is a preconditioner (e.g. weighting Fourier components of density to damp low-frequency oscillations that cause charge sloshing).\n",
    "SCF algorithms: Common methods include simple linear mixing (as above), Anderson mixing (Pulay’s method) which builds a linear combination of past updates that minimizes residual, and more advanced ones like convergence acceleration by damping high-frequency components or using Kerker preconditioning for plane waves (which addresses the divergence of Coulomb interaction at $q\\to0$ for metals).\n",
    "Output of SCF: Once converged, we have the self-consistent $n(r)$ and $V_{\\rm eff}(r)$. We then compute the final energy $E_{\\rm KS}[n]$, and we can also compute forces on atoms via the Hellmann–Feynman theorem (with corrections if basis not exactly complete, like Pulay forces for incomplete basis sets)."
   ]
  },
  {
   "cell_type": "markdown",
   "id": "98f8969b",
   "metadata": {
    "editable": true
   },
   "source": [
    "## Computational Scaling and Practical Considerations\n",
    "\n",
    "Scaling with system size: The main cost is solving for eigenstates of the Hamiltonian. If we have $M$ basis functions (size of Hamiltonian matrix), diagonalization naïvely costs $O(M^3)$ operations. In plane-wave codes, $M$ grows roughly linearly with volume and as the cube of the cutoff (for 3D), and linearly with number of $k$-points (for Brillouin zone sampling). Modern methods like iterative diagonalization (Davidson or Lanczos) target only the lowest $N$ eigenstates and exploit sparsity or FFTs for applying $H$. Still, overall solving KS scales ~ $O(N \\cdot M^2)$ or so in practice, which is typically $O(N^3)$ scaling with number of electrons $N$ if $M \\propto N$.\n",
    "Memory and parallelization: Plane-wave codes use FFTs to switch between real-space (to apply $V_{\\rm eff}(r)$ multiplication) and reciprocal space (to apply $-\\nabla^2$ easily as multiplication by $-|\\mathbf{G}|^2$). These FFTs and linear algebra (BLAS/LAPACK) operations parallelize well. Large-scale DFT can handle hundreds to thousands of atoms using supercomputers, but memory and CPU time can become limiting for extremely large cells.\n",
    "Integral evaluation in localized basis: In all-electron codes (Gaussian basis), the bottleneck is often computing two-electron integrals and Fock matrix formation, which can scale $O(N^4)$ with naive algorithms (though density fitting and other tricks can reduce this). KS-DFT in Gaussian basis is usually faster than HF because we avoid the $N^4$ exchange integral calculation by using density functionals (which scale as $N^2$ or $N^3$).\n",
    "Accuracy vs speed: One often must choose convergence parameters carefully:\n",
    "\n",
    "Plane-wave cutoff: choose high enough that total energy is converged to say < meV/atom. For ultrasoft pseudopotentials or PAW, one may also need an augmentation charge grid.\n",
    "$k$-point sampling: for periodic solids, integrate over Brillouin zone; metals need finer $k$ meshes or smearing of occupations (Methfessel-Paxton, Gaussian smearing) to achieve SCF convergence and accurate partial occupancies.\n",
    "Basis set superposition error (BSSE): in local basis, ghost atom functions can cause overbinding errors in molecules (can be corrected with counterpoise method if needed). Plane waves don’t have BSSE by construction.\n",
    "\n",
    "Force and stress calculations: Once SCF converged, forces $-dE/d\\mathbf{R}$ are computed. With complete basis or with Pulay corrections for incomplete basis, one can relax atomic positions. The stress tensor can be computed for variable-cell relaxation (important for finding equilibrium lattice parameters).\n",
    "DFT software examples: VASP, Quantum ESPRESSO, ABINIT (plane-wave + pseudopotential), WIEN2k (APW all-electron), Gaussian, ORCA, NWChem (molecular Gaussian basis all-electron), SIESTA, OpenMX (localized numerical orbitals + pseudopotentials), CP2K (mixed Gaussian & plane-wave), etc. All implement the SCF loop and differ mainly in how they represent orbitals and handle integrals."
   ]
  },
  {
   "cell_type": "markdown",
   "id": "4f099258",
   "metadata": {
    "editable": true
   },
   "source": [
    "## Summary of Applications\n",
    "\n",
    "We have seen:\n",
    " DFT for materials: predicting lattice constants,\n",
    "cohesive energies, and band structures (as in Si), as well as phase\n",
    "stability. DFT is crucial in designing new alloys, semiconductors,\n",
    "etc., thanks to its reliability in ground-state energies.  DFT for\n",
    "strongly correlated materials (with extensions): NiO showed the need\n",
    "for beyond-PBE approaches like DFT+U or hybrids to handle\n",
    "correlation. Modern DFT workflows for materials often include turning\n",
    "on a +U for specific correlated orbitals if standard DFT fails\n",
    "(e.g. for $f$-electron systems like CeO$_2$, or Fe oxides).  DFT in\n",
    "chemistry: for reaction thermodynamics, transition states, and\n",
    "molecular spectroscopy. The ammonia example highlights geometry and\n",
    "barrier predictions. DFT has enabled computational catalysis and\n",
    "enzyme mechanism studies by providing reasonably accurate potential\n",
    "energy surfaces for reactions.  Limits of DFT: Each example also\n",
    "highlighted limitations – band gap underestimation (and how hybrids/GW\n",
    "fix it), missing correlation in NiO (fixed by +U or DMFT), and missing\n",
    "dispersion or static correlation in molecules (sometimes fixed by\n",
    "adding dispersion corrections or multi-reference methods).\n",
    "\n",
    "DFT results vs experiment: Often, DFT can be viewed as providing about\n",
    "5-10$\\%$ accuracy in structural properties, 0.1–0.2 eV accuracy in\n",
    "energy differences for well-behaved systems with proper functionals\n",
    ". However, “chemical accuracy” (1 kcal/mol = 0.043 eV) is a stretch\n",
    "for standard GGA in complex cases – hybrids or specialized functionals\n",
    "are needed.  Example of success: The 1998 Nobel Prize cited Kohn for\n",
    "DFT and Pople for computational quantum chemistry. Today, tens of\n",
    "thousands of papers annually use DFT . DFT was instrumental, for\n",
    "instance, in the discovery of new battery materials and catalysts by\n",
    "screening many compounds in silico.  Verification and calibration:\n",
    "It’s standard practice to compare different functionals and, if\n",
    "possible, benchmark small models with higher-level methods. For\n",
    "example, a chemist might compare DFT reaction energies with\n",
    "coupled-cluster results for a small molecule to ensure the functional\n",
    "is adequate. In materials, one might compare DFT prediction of a new\n",
    "phase’s stability with whatever experimental data exists or known\n",
    "similar systems.  In summary, DFT, when applied knowledgeably\n",
    "(choosing the right functional, basis, etc.), provides a powerful lens\n",
    "to examine both quantitative and qualitative aspects of electronic\n",
    "structure in materials and molecules."
   ]
  },
  {
   "cell_type": "markdown",
   "id": "1be025f2",
   "metadata": {
    "editable": true
   },
   "source": [
    "## Time-Dependent DFT (TDDFT) – Excited States and Dynamics\n",
    "\n",
    "Motivation: Ground-state DFT (HK theorem) handles only ground-state properties. To study optical excitations, electron dynamics, or excited states, we turn to Time-Dependent DFT. TDDFT extends DFT to the time domain for evolving an interacting system in a time-dependent potential $V_{\\rm ext}(\\mathbf{r}, t)$.\n",
    "Runge–Gross Theorem (1984): The TDDFT analog of HK: For a given initial many-body state $\\Psi_0$ at $t=0$, the time-dependent density $n(\\mathbf{r},t)$ uniquely determines the time-dependent external potential $V_{\\rm ext}(\\mathbf{r},t)$ (up to an additive purely time-dependent function) . This means all time-dependent observables are functionals of $n(\\mathbf{r},t)$. It establishes existence of a map $n(\\mathbf{r},t) \\to \\Psi(t)$ in principle.\n",
    "Kohn–Sham TDDFT: Similar spirit to ground-state, we use a fictitious non-interacting system of orbitals ${\\phi_i(\\mathbf{r},t)}$ that reproduce the time-dependent density $n(\\mathbf{r},t) = \\sum_i |\\phi_i(r,t)|^2$. These obey TD Kohn–Sham equations:\n",
    "\\[\n",
    "i\\hbar \\frac{\\partial}{\\partial t}\\phi_i(\\mathbf{r},t) = \\Big(-\\frac{\\hbar^2}{2m}\\nabla^2 + V_{\\rm ext}(r,t) + V_{\\rm H}n + V_{\\xc}n\\Big)\\phi_i(\\mathbf{r},t)\\,.\n",
    "\\]\n",
    "Here $V_{\\xc}n$ is the time-dependent XC potential, which must be approximated (with memory of past densities in general).\n",
    "Linear response and excitation energies: The most common use of TDDFT is linear response theory to compute excitation spectra. One perturbs the system with a small time-dependent field and finds how $n(\\mathbf{r},t)$ responds. This leads to the Casida equations for excitation energies: basically an eigenvalue equation in the space of orbital transitions:\n",
    "(E_{j} - E_{i})\\delta_{ij} + 2\\sqrt{(f_i - f_j)(f_a - f_b)} K_{ij,ab} X_{ab} = \\Omega X_{ij}\\,,\n",
    "where $\\Omega$ is an excitation energy (eigenvalue) and $K$ includes derivatives of $V_{\\xc}$ (the XC kernel). Practically, codes take Kohn–Sham single-particle transitions (differences of KS orbital energies) and correct them via the electron–hole interaction mediated by the Hartree + XC kernel to get true excitation energies.\n",
    "\n",
    "Successes: TDDFT (with common approximations like adiabatic LDA/GGA\n",
    "kernel) does well for many systems’ optical spectra, especially for\n",
    "valence excitations in molecules – often within 0.2–0.3 eV of\n",
    "high-level methods for lowest excited states. It’s much cheaper than,\n",
    "say, CI or equation-of-motion coupled cluster, scaling similar to\n",
    "ground-state DFT plus solving a matrix of size\n",
    "$O(N_{\\text{transitions}})$.  Limitations: The approximate XC kernels\n",
    "used (like ALDA) lack frequency dependence and multi-excitation\n",
    "effects. So TDDFT can struggle with:\n",
    "\n",
    "Charge-transfer excitations: tends to underestimate their energy\n",
    "because semilocal XC has wrong long-range behavior.  Double\n",
    "excitations: standard TDDFT can’t properly capture states where two\n",
    "electrons are simultaneously excited, because adiabatic approximations\n",
    "don’t include that physics.  Strong field dynamics: If the system is\n",
    "driven far from ground state, the validity of simple approximations is\n",
    "tested; memory dependence may matter.\n",
    "\n",
    "Nonetheless, TDDFT has become a go-to for electronic absorption\n",
    "spectra of complex systems, excited-state potential energy surfaces\n",
    "(for photochemistry), and even real-time electron dynamics (like\n",
    "electrons in strong laser fields). Real-time propagation TDDFT can\n",
    "simulate femtosecond charge dynamics in large systems (with thousands\n",
    "of atoms in linear-scaling implementations)."
   ]
  },
  {
   "cell_type": "markdown",
   "id": "7a6d2f88",
   "metadata": {
    "editable": true
   },
   "source": [
    "## Beyond Standard DFT: Advanced Functionals and Methods\n",
    "\n",
    "Limitations of LDA/GGA/Hybrid: As highlighted, standard functionals\n",
    "have known problems: e.g., no van der Waals, self-interaction errors,\n",
    "failure in strongly correlated systems, etc. The community\n",
    "continuously develops new functionals:\n",
    " Van der Waals DFT: Incorporate\n",
    "dispersion forces. One approach: add an empirical $-C_6/R^6$ pairwise\n",
    "correction (Grimme DFT-D schemes). Another: use nonlocal correlation\n",
    "functionals, e.g. vdW-DF by Dion et al., which adds a term $E_c^{\\rm\n",
    "  nl}[n]$ that is a double integral over $n(\\mathbf{r})$ and\n",
    "$n(\\mathbf{r’})$ with a kernel that decays as a function of\n",
    "$|\\mathbf{r}-\\mathbf{r’}|$. These allow DFT to capture bonding in\n",
    "rare-gas crystals, layered materials (like graphite) and organic\n",
    "molecular crystals.  Meta-GGAs: SCAN (2015) was mentioned: it is a\n",
    "meta-GGA that has shown broad accuracy improvement (often reaching\n",
    "chemical accuracy in diverse data sets, better handling of\n",
    "intermediate-range correlation and diverse bond types).\n",
    "Self-interaction correction (SIC): Approaches that explicitly remove\n",
    "the spurious interaction of an electron with itself in approximate\n",
    "functionals (e.g., Perdew-Zunger SIC). These can improve properties\n",
    "like Rydberg state energies and dissociation of charged systems.\n",
    "Orbital functionals: Instead of explicit $E_{\\xc}[n]$, some methods\n",
    "make $E_{\\xc}$ depend explicitly on orbitals (like HF does). Examples:\n",
    "OOT (Optimized Effective Potential) methods or meta-functionals that\n",
    "include exact exchange fully (called EXX or OEP). These can be\n",
    "computationally heavier.\n",
    "\n",
    "DFT + Many-Body Techniques: In strongly correlated electron systems,\n",
    "one strategy is combining DFT with beyond-DFT:\n",
    " DFT+U: We discussed –\n",
    "a simple additive correction for localized orbitals.  DFT+DMFT:\n",
    "Dynamical Mean-Field Theory combined with DFT. DFT provides the band\n",
    "structure, DMFT adds frequency-dependent self-energy for correlated\n",
    "orbitals to treat local quantum fluctuations. This has been very\n",
    "successful for materials like Plutonium, transition metal oxides’\n",
    "finite-temperature properties, etc., capturing Mott transitions and\n",
    "Kondo physics.  GW and beyond: The $GW$ approximation (from many-body\n",
    "perturbation theory) computes the self-energy $\\Sigma = G W$\n",
    "(convolution of Green’s function $G$ and screened Coulomb $W$) to\n",
    "correct particle energies. A common practice: do a DFT (usually PBE)\n",
    "calculation, then apply a single-shot $G_0W_0$ correction to band\n",
    "energies. $GW$ often yields band gaps within ~0.1 eV of experiment for\n",
    "many semiconductors where DFT was off by 30-50$\\%$. It’s more\n",
    "expensive than DFT (scales $N^4$ or $N^3$ with better algorithms, and\n",
    "with a large prefactor) but still feasible for moderately sized cells.\n",
    "BSE (Bethe-Salpeter Equation): On top of $GW$, BSE treats\n",
    "electron-hole interactions to yield optical spectra (including exciton\n",
    "binding energies in insulators, which plain DFT misses). BSE can\n",
    "accurately predict optical absorption peaks in solids and molecules,\n",
    "at significant computational cost.\n",
    "\n",
    "Machine-learning in DFT: A cutting-edge frontier is to use ML to\n",
    "create new density functionals or to bypass solving KS\n",
    "equations. E.g., neural network potentials trained on DFT data (like\n",
    "ANI, or Gaussian approximation potentials) allow near DFT accuracy at\n",
    "much lower cost for large molecular systems (though those are\n",
    "effectively force fields, not directly density functionals). Another\n",
    "approach: use ML to fit the functional form $E_{\\xc}[n]$ by training\n",
    "on high-level quantum data – aiming to systematically improve on\n",
    "human-designed functional forms.  Relativistic DFT: For heavy elements\n",
    "(where electrons move fast), one uses scalar-relativistic Hamiltonians\n",
    "or fully relativistic 4-component DFT (including spin-orbit\n",
    "coupling). This is vital for elements like gold or uranium where\n",
    "spin-orbit splitting significantly affects chemistry.\n",
    "\n",
    "Open challenges: Despite immense success, DFT still cannot solve\n",
    "everything. For example, describing multi-reference systems (like bond\n",
    "breaking, transition states of some reactions) is tricky. How to\n",
    "include missing physics systematically (like double excitations in\n",
    "TDDFT, or long-range correlation) is an ongoing research. And bridging\n",
    "finite-temperature DFT (Mermin functional for electrons at nonzero T)\n",
    "with classical molecular dynamics allows for ab initio molecular\n",
    "dynamics (AIMD), but the cost and accuracy trade-offs are active\n",
    "topics (especially for deep potential energy surfaces)."
   ]
  },
  {
   "cell_type": "markdown",
   "id": "0170d648",
   "metadata": {
    "editable": true
   },
   "source": [
    "## Example: van der Waals Complex and Machine-Learned Functional\n",
    "\n",
    "van der Waals complex: Consider the interaction of two benzene molecules (π–π stacking). LDA or PBE will predict almost no binding (it might even show a very slight repulsion) because they miss dispersion. However, an approach like DFT-D (PBE+D3 by Grimme) adds empirical $C_6/r^6$ terms and yields a binding energy ~2 kcal/mol at a certain separation, roughly in line with high-level calculations. Nonlocal vdW-DF functionals (like vdW-DF2) also predict a binding, though often bond lengths and energies can be off by 10-20$\\%$. Still, this was a huge step forward to treat, e.g., layered materials: using vdW-DF, one can get the correct layer separation of graphite, whereas PBE would predict the layers unbound or much too far apart.\n",
    "SCAN functional performance: SCAN meta-GGA has been shown to improve a lot of energetic and structural predictions: e.g., it can simultaneously give good lattice constants (like PBE level) and good atomization energies (like hybrid level) for molecules, and even handle intermediate spin states better. For water, SCAN yields more accurate hydrogen bond strengths than PBE, improving the structure of liquid water in molecular dynamics. However, meta-GGAs can be sensitive (convergence issues) and sometimes overfit certain cases (some crystalline phase diagrams show slight anomalies with SCAN).\n",
    "Machine-learned functional (example): Recently, functionals like DeepMind’s DM21 combine a neural network with physical constraints to approximate $E_{\\xc}$. They train on a database of molecular energies including difficult cases (like stretched bonds). Preliminary results show improvement in challenging cases (like getting correct dissociation curves where standard DFT fails). Another example is Delta-learning: starting from a baseline functional and having ML predict the correction to energies. These functionals are just emerging, and while promising, need broad testing to ensure they don’t break known exact constraints or behave erratically outside the training set.\n",
    "Quantum computing and DFT: A speculative frontier – using quantum computers to solve for the electron density or for parts of the problem. There’s research into quantum algorithms for linear response of DFT or embedding a small strongly-correlated part on a quantum device (quantum-classical hybrid).\n",
    "Summary of Lecture Series: We began with the theoretical bedrock (HK theorems, KS scheme), moved through practical approximations (LDA, GGA, etc.), learned how calculations are set up and run (basis, SCF), and saw examples of DFT’s power and pitfalls. Finally, we see DFT is not static – it’s an evolving field. Improvements in functional design and integrations with other methods continue to extend the reach of DFT, tackling new problems and increasing accuracy for the challenging ones. Armed with this knowledge, one can critically use DFT in research, understanding when it will likely succeed and when caution or beyond-DFT methods are required."
   ]
  },
  {
   "cell_type": "markdown",
   "id": "1e3e814b",
   "metadata": {
    "editable": true
   },
   "source": [
    "## References and Further Reading\n",
    "\n",
    "1. P. Hohenberg and W. Kohn, “Inhomogeneous Electron Gas,” Phys. Rev. 136, B864 (1964). (Foundational paper proving the Hohenberg–Kohn theorems of DFT)\n",
    "\n",
    "2. W. Kohn and L. J. Sham, “Self-Consistent Equations Including Exchange and Correlation Effects,” Phys. Rev. 140, A1133 (1965). (Derives the Kohn–Sham equations and introduces the KS formalism)\n",
    "\n",
    "3. R. M. Dreizler and E. K. U. Gross, Density Functional Theory, Springer (1990). (Advanced textbook covering formal theory of DFT and extensions)\n",
    "\n",
    "4. R. O. Jones, “Density functional theory: Its origins, rise to prominence, and future,” Rev. Mod. Phys. 87, 897 (2015). (A review of the history and status of DFT, accessible overview)\n",
    "\n",
    "5. K. Burke, “Perspective on density functional theory,” J. Chem. Phys. 136, 150901 (2012) – A readable perspective on DFT’s successes, failures, and challenges  .\n",
    "\n",
    "6. J. P. Perdew, “Jacob’s ladder of density functional approximations for the exchange-correlation energy,” in AIP Conference Proceedings 577, 1 (2001). (Conceptual article describing systematic improvement of functionals from LDA upwards)\n",
    "\n",
    "7. E. Runge and E. K. U. Gross, “Density Functional Theory for Time-Dependent Systems,” Phys. Rev. Lett. 52, 997 (1984). (Runge–Gross theorem establishing TDDFT formalism)\n",
    "\n",
    "8. G. Onida, L. Reining, and A. Rubio, “Electronic excitations: density-functional versus many-body Green’s-function approaches,” Rev. Mod. Phys. 74, 601 (2002). (Review on excited-state methods including TDDFT and GW/BSE)\n",
    "\n",
    "9. Selected software manuals: VASP (plane-wave DFT), Quantum ESPRESSO (plane-wave DFT), NWChem (Gaussian-basis DFT) – for practical aspects of implementations."
   ]
  }
 ],
 "metadata": {},
 "nbformat": 4,
 "nbformat_minor": 5
}
