{
 "cells": [
  {
   "cell_type": "markdown",
   "id": "76209b4a",
   "metadata": {
    "editable": true
   },
   "source": [
    "<!-- HTML file automatically generated from DocOnce source (https://github.com/doconce/doconce/)\n",
    "doconce format html cc.do.txt  -->"
   ]
  },
  {
   "cell_type": "markdown",
   "id": "6caec319",
   "metadata": {
    "editable": true
   },
   "source": [
    "# The Coupled Cluster Method"
   ]
  },
  {
   "cell_type": "markdown",
   "id": "58d80708",
   "metadata": {
    "editable": true
   },
   "source": [
    "## Introduction\n",
    "\n",
    "The coupled-cluster method is an efficient tool to compute atomic\n",
    "nuclei with an effort that grows polynomial with system size. While\n",
    "this might still be expensive, it is now possible to compute nuclei\n",
    "with mass numbers about $A\\approx 100$ with this method. Recall that\n",
    "full configuration interaction (FCI) such as the no-core shell model\n",
    "exhibits an exponential cost and is therefore limited to light nuclei.\n",
    "\n",
    "<!-- dom:FIGURE: [figslides/Explosion.png, width=400 frac=0.8] Realistic computations of atomic nuclei with interactions from chiral EFT. The slow increase prior to 2015 is based on quantum Monte Carlo and the no-core shell model. These methods are exponentially expensive (in mass number $A$) and meet with exponentially increasing computer power (Moore's law), thus leading to a progress that is linear in time. Methods such as coupled clusters and in-medium SRG carry a polynomial cost in mass number are transforming the field. <div id=\"fig-explosion\"></div> -->\n",
    "<!-- begin figure -->\n",
    "<div id=\"fig-explosion\"></div>\n",
    "\n",
    "<img src=\"figslides/Explosion.png\" width=\"400\"><p style=\"font-size: 0.9em\"><i>Figure 1: Realistic computations of atomic nuclei with interactions from chiral EFT. The slow increase prior to 2015 is based on quantum Monte Carlo and the no-core shell model. These methods are exponentially expensive (in mass number $A$) and meet with exponentially increasing computer power (Moore's law), thus leading to a progress that is linear in time. Methods such as coupled clusters and in-medium SRG carry a polynomial cost in mass number are transforming the field.</i></p>\n",
    "<!-- end figure -->"
   ]
  },
  {
   "cell_type": "markdown",
   "id": "6b252167",
   "metadata": {
    "editable": true
   },
   "source": [
    "## The normal-ordered Hamiltonian\n",
    "\n",
    "We start from the reference state"
   ]
  },
  {
   "cell_type": "markdown",
   "id": "c3a56308",
   "metadata": {
    "editable": true
   },
   "source": [
    "<!-- Equation labels as ordinary links -->\n",
    "<div id=\"HFref\"></div>\n",
    "\n",
    "$$\n",
    "\\begin{equation}\n",
    "\\label{HFref} \\tag{1}\n",
    "\\vert\\Phi_0\\rangle = \\prod_{i=1}^A a^\\dagger_i \\vert 0\\rangle \n",
    "\\end{equation}\n",
    "$$"
   ]
  },
  {
   "cell_type": "markdown",
   "id": "d07432ff",
   "metadata": {
    "editable": true
   },
   "source": [
    "for the description of a nucleus with mass number $A$.  Usually, this\n",
    "reference is the Hartree-Fock state, but that is not necessary. In the\n",
    "shell-model picture, it could also be a product state where the lowest\n",
    "$A$ harmonic oscillator states are occupied.  Here and in what\n",
    "follows, the indices $i,j,k,\\ldots$ run over hole states,\n",
    "i.e. orbitals occupied in the reference state ([1](#HFref)), while\n",
    "$a,b,c,\\ldots$ run over particle states, i.e. unoccupied\n",
    "orbitals. Indices $p,q,r,s$ can identify any orbital.  Let $n_u$ be\n",
    "the number of unoccupied states, and $A$ is of course the number of\n",
    "occupied states. We consider the Hamiltonian"
   ]
  },
  {
   "cell_type": "markdown",
   "id": "5f09d387",
   "metadata": {
    "editable": true
   },
   "source": [
    "<!-- Equation labels as ordinary links -->\n",
    "<div id=\"Ham\"></div>\n",
    "\n",
    "$$\n",
    "\\begin{equation}\n",
    "\\label{Ham} \\tag{2} H =\n",
    "\\sum_{pq} \\varepsilon^p_q a^\\dagger_p a_q +\n",
    "\\frac{1}{4}\\sum_{pqrs}\\langle pq\\vert V\\vert rs\\rangle\n",
    "a^\\dagger_pa^\\dagger_q a_sa_r\n",
    "\\end{equation}\n",
    "$$"
   ]
  },
  {
   "cell_type": "markdown",
   "id": "4a93005d",
   "metadata": {
    "editable": true
   },
   "source": [
    "The reference state ([1](#HFref)) is a non-trivial vacuum of our theory. \n",
    "We normal order this Hamiltonian with respect to the nontrivial vacuum\n",
    "state given by the Hartree-Fock reference and obtain the\n",
    "normal-ordered Hamiltonian"
   ]
  },
  {
   "cell_type": "markdown",
   "id": "d90a5a4b",
   "metadata": {
    "editable": true
   },
   "source": [
    "<!-- Equation labels as ordinary links -->\n",
    "<div id=\"HN\"></div>\n",
    "\n",
    "$$\n",
    "\\begin{equation}\n",
    "\\label{HN} \\tag{3}\n",
    "H_N = \\sum_{pq} f_{pq} \\left\\{a^\\dagger_p a_q\\right\\} + \\frac{1}{4}\\sum_{pqrs}\\langle pq\\vert V\\vert rs\\rangle \\left\\{a^\\dagger_pa^\\dagger_q a_sa_r\\right\\}.\n",
    "\\end{equation}\n",
    "$$"
   ]
  },
  {
   "cell_type": "markdown",
   "id": "dedbd144",
   "metadata": {
    "editable": true
   },
   "source": [
    "Here,"
   ]
  },
  {
   "cell_type": "markdown",
   "id": "62bf14c7",
   "metadata": {
    "editable": true
   },
   "source": [
    "<!-- Equation labels as ordinary links -->\n",
    "<div id=\"Fock\"></div>\n",
    "\n",
    "$$\n",
    "\\begin{equation}\n",
    "\\label{Fock} \\tag{4}\n",
    "f^p_q = \\varepsilon^p_q + \\sum_i \\langle pi\\vert V\\vert qi\\rangle\n",
    "\\end{equation}\n",
    "$$"
   ]
  },
  {
   "cell_type": "markdown",
   "id": "ac0e61ed",
   "metadata": {
    "editable": true
   },
   "source": [
    "is the Fock matrix. We note that the Fock matrix is diagonal in the\n",
    "Hartree-Fock basis. The brackets $\\{\\cdots\\}$ in Eq. ([3](#HN)) denote\n",
    "normal ordering, i.e. all operators that annihilate the nontrivial\n",
    "vaccum ([1](#HFref)) are to the right of those operators that create\n",
    "with respect to that vaccum. Normal ordering implies that $\\langle\n",
    "\\Phi_0\\vert H_N\\vert \\Phi_0\\rangle = 0$."
   ]
  },
  {
   "cell_type": "markdown",
   "id": "2f190fe8",
   "metadata": {
    "editable": true
   },
   "source": [
    "## Exercise 1: Practice in normal ordering\n",
    "<div id=\"ex-1\"></div>\n",
    "\n",
    "Normal order the expression $\\sum\\limits_{pq}\\varepsilon_q^p a^\\dagger_p a_q$.\n",
    "\n",
    "<!-- --- begin hint in exercise --- -->\n",
    "\n",
    "**Hint.**"
   ]
  },
  {
   "cell_type": "markdown",
   "id": "4745f095",
   "metadata": {
    "editable": true
   },
   "source": [
    "<!-- Equation labels as ordinary links -->\n",
    "<div id=\"_auto1\"></div>\n",
    "\n",
    "$$\n",
    "\\begin{equation}\n",
    "\\sum_{pq}\\varepsilon_q^p a^\\dagger_p a_q\n",
    "=\\sum_{ab}\\varepsilon_b^a a^\\dagger_a a_b\n",
    "+\\sum_{ai}\\varepsilon_i^a a^\\dagger_a a_i\n",
    "+\\sum_{ai}\\varepsilon_a^i a^\\dagger_i a_a   \n",
    "+\\sum_{ij}\\varepsilon_j^i a^\\dagger_i a_j\n",
    "\\label{_auto1} \\tag{5}\n",
    "\\end{equation}\n",
    "$$"
   ]
  },
  {
   "cell_type": "markdown",
   "id": "1a01eeff",
   "metadata": {
    "editable": true
   },
   "source": [
    "<!-- --- end hint in exercise --- -->\n",
    "\n",
    "<!-- --- begin answer of exercise --- -->\n",
    "**Answer.**\n",
    "We have to move all operators that annihilate the reference state to the right of those that create on the reference state. Thus,"
   ]
  },
  {
   "cell_type": "markdown",
   "id": "5bfbb388",
   "metadata": {
    "editable": true
   },
   "source": [
    "<!-- Equation labels as ordinary links -->\n",
    "<div id=\"_auto2\"></div>\n",
    "\n",
    "$$\n",
    "\\begin{equation}\n",
    "\\sum_{pq}\\varepsilon_q^p a^\\dagger_p a_q\n",
    "=\\sum_{ab}\\varepsilon_b^a a^\\dagger_a a_b\n",
    "+\\sum_{ai}\\varepsilon_i^a a^\\dagger_a a_i\n",
    "+\\sum_{ai}\\varepsilon_a^i a^\\dagger_i a_a\n",
    "+\\sum_{ij}\\varepsilon_j^i a^\\dagger_i a_j\n",
    "\\label{_auto2} \\tag{6}\n",
    "\\end{equation}\n",
    "$$"
   ]
  },
  {
   "cell_type": "markdown",
   "id": "4bc1ad24",
   "metadata": {
    "editable": true
   },
   "source": [
    "<!-- Equation labels as ordinary links -->\n",
    "<div id=\"_auto3\"></div>\n",
    "\n",
    "$$\n",
    "\\begin{equation} \n",
    "=\\sum_{ab}\\varepsilon_b^a a^\\dagger_a a_b\n",
    "+\\sum_{ai}\\varepsilon_i^a a^\\dagger_a a_i\n",
    "+\\sum_{ai}\\varepsilon_a^i a^\\dagger_i a_a\n",
    "+\\sum_{ij}\\varepsilon_j^i \\left(-a_ja^\\dagger_i +\\delta_i^j\\right)\n",
    "\\label{_auto3} \\tag{7}\n",
    "\\end{equation}\n",
    "$$"
   ]
  },
  {
   "cell_type": "markdown",
   "id": "55dfb80a",
   "metadata": {
    "editable": true
   },
   "source": [
    "<!-- Equation labels as ordinary links -->\n",
    "<div id=\"_auto4\"></div>\n",
    "\n",
    "$$\n",
    "\\begin{equation} \n",
    "=\\sum_{ab}\\varepsilon_b^a a^\\dagger_a a_b\n",
    "+\\sum_{ai}\\varepsilon_i^a a^\\dagger_a a_i\n",
    "+\\sum_{ai}\\varepsilon_a^i a^\\dagger_i a_a\n",
    "-\\sum_{ij}\\varepsilon_j^i a_ja^\\dagger_i +\\sum_i \\varepsilon_i^i\n",
    "\\label{_auto4} \\tag{8}\n",
    "\\end{equation}\n",
    "$$"
   ]
  },
  {
   "cell_type": "markdown",
   "id": "f099fe79",
   "metadata": {
    "editable": true
   },
   "source": [
    "<!-- Equation labels as ordinary links -->\n",
    "<div id=\"_auto5\"></div>\n",
    "\n",
    "$$\n",
    "\\begin{equation} \n",
    "=\\sum_{pq}\\varepsilon_q^p \\left\\{a^\\dagger_p a_q\\right\\} +\\sum_i \\varepsilon_i^i\n",
    "\\label{_auto5} \\tag{9}\n",
    "\\end{equation}\n",
    "$$"
   ]
  },
  {
   "cell_type": "markdown",
   "id": "3143cdae",
   "metadata": {
    "editable": true
   },
   "source": [
    "<!-- --- end answer of exercise --- -->\n",
    "\n",
    "===== =====\n",
    "\n",
    "We note that $H = E_{HF} + H_N$, where"
   ]
  },
  {
   "cell_type": "markdown",
   "id": "1d4ff33a",
   "metadata": {
    "editable": true
   },
   "source": [
    "<!-- Equation labels as ordinary links -->\n",
    "<div id=\"_auto6\"></div>\n",
    "\n",
    "$$\n",
    "\\begin{equation}\n",
    "E_{HF} \\equiv \\langle\\Phi_0\\vert H\\vert \\Phi_0\\rangle = \\sum_{i} \\varepsilon^i_i +\\frac{1}{2}\\sum_{ij}\\langle ij\\vert V\\vert ij\\rangle\n",
    "\\label{_auto6} \\tag{10}\n",
    "\\end{equation}\n",
    "$$"
   ]
  },
  {
   "cell_type": "markdown",
   "id": "664433fd",
   "metadata": {
    "editable": true
   },
   "source": [
    "is the Hartree-Fock energy.\n",
    "The coupled-cluster method is a very efficient tool to compute nuclei\n",
    "when a \"good\" reference state is available. Let us assume that the\n",
    "reference state results from a Hartree-Fock calculation."
   ]
  },
  {
   "cell_type": "markdown",
   "id": "544a9b7f",
   "metadata": {
    "editable": true
   },
   "source": [
    "## Exercise 2: What does \"good\" mean?\n",
    "<div id=\"ex-2\"></div>\n",
    "\n",
    "How do you know whether a Hartree-Fock state is a \"good\" reference?\n",
    "Which results of the Hartree-Fock computation will inform you?\n",
    "\n",
    "<!-- --- begin answer of exercise --- -->\n",
    "**Answer.**\n",
    "Once the Hartree-Fock equations are solved, the Fock matrix\n",
    "([4](#Fock)) becomes diagonal, and its diagonal elements can be viewed\n",
    "as single-particle energies. Hopefully, there is a clear gap in the\n",
    "single-particle spectrum at the Fermi surface, i.e. after $A$ orbitals\n",
    "are filled.\n",
    "\n",
    "<!-- --- end answer of exercise --- -->\n",
    "\n",
    "===== =====\n",
    "\n",
    "If symmetry-restricted Hartree-Fock is used, one is limited to compute\n",
    "nuclei with closed subshells for neutrons and for protons. On a first\n",
    "view, this might seem as a severe limitation. But is it?"
   ]
  },
  {
   "cell_type": "markdown",
   "id": "bcdb654b",
   "metadata": {
    "editable": true
   },
   "source": [
    "## Exercise 3: How many nuclei are accessible with the coupled cluster method based on spherical mean fields?\n",
    "<div id=\"ex-3\"></div>\n",
    "\n",
    "If one limits oneself to nuclei with mass number up to\n",
    "mass number $A=60$, how many nuclei can potentially be described with\n",
    "the coupled-cluster method? Which of these nuclei are potentially\n",
    "interesting? Why?\n",
    "\n",
    "<!-- --- begin answer of exercise --- -->\n",
    "**Answer.**\n",
    "Nuclear shell closures are at $N,Z=2,8,20,28,50,82,126$, and subshell\n",
    "closures at $N,Z=2,6,8,14,16,20,28,32,34,40,50,\\ldots$. \n",
    "\n",
    "In the physics of nuclei, the evolution of nuclear structure as\n",
    "neutrons are added (or removed) from an isotope is a key\n",
    "<!-- interest. Examples are the rare isotopes of helium ($^{8,10}$ He) -->\n",
    "<!-- oxygen ($^{22,24,28}$ O), calcium ($^{52,54,60}$ Ca), nickel ($^{78}$ -->\n",
    "<!-- Ni) and tin ($^{100,132}$ Sn). The coupled-cluster method has the -->\n",
    "interest. Examples are the rare isotopes of helium (He-8,10)\n",
    "oxygen (O-22,24,28), calcium (Ca-52,54,60), nickel (Ni-78) and tin\n",
    "(Sn-100,132). The coupled-cluster method has the\n",
    "potential to address questions regarding these nuclei, and in a\n",
    "several cases was used to make predictions before experimental data\n",
    "was available. In addition, the method can be used to compute\n",
    "neighbors of nuclei with closed subshells.\n",
    "\n",
    "<!-- --- end answer of exercise --- -->\n",
    "\n",
    "===== ====="
   ]
  },
  {
   "cell_type": "markdown",
   "id": "821b2144",
   "metadata": {
    "editable": true
   },
   "source": [
    "## The similarity transformed Hamiltonian\n",
    "\n",
    "There are several ways to view and understand the coupled-cluster\n",
    "method. A first simple view of coupled-cluster theory is that the\n",
    "method induces correlations into the reference state by expressing a\n",
    "correlated state as"
   ]
  },
  {
   "cell_type": "markdown",
   "id": "52803873",
   "metadata": {
    "editable": true
   },
   "source": [
    "<!-- Equation labels as ordinary links -->\n",
    "<div id=\"psi\"></div>\n",
    "\n",
    "$$\n",
    "\\begin{equation}\n",
    "\\label{psi} \\tag{11}\n",
    "\\vert\\Psi\\rangle = e^T \\vert\\Phi_0\\rangle ,\n",
    "\\end{equation}\n",
    "$$"
   ]
  },
  {
   "cell_type": "markdown",
   "id": "f4b6f015",
   "metadata": {
    "editable": true
   },
   "source": [
    "Here, $T$ is an operator that induces correlations. We can now demand\n",
    "that the correlate state ([11](#psi)) becomes and eigenstate of the\n",
    "Hamiltonian $H_N$, i.e.  $H_N\\vert \\Psi\\rangle = E\\vert \\Psi\\rangle$. This view,\n",
    "while correct, is not the most productive one.  Instead, we\n",
    "left-multiply the Schroedinger equation with $e^{-T}$ and find"
   ]
  },
  {
   "cell_type": "markdown",
   "id": "1033f411",
   "metadata": {
    "editable": true
   },
   "source": [
    "<!-- Equation labels as ordinary links -->\n",
    "<div id=\"Schroedinger\"></div>\n",
    "\n",
    "$$\n",
    "\\begin{equation}\n",
    "\\label{Schroedinger} \\tag{12}\n",
    "\\overline{H_N}\\vert \\Phi_0\\rangle = E_c \\vert \\Phi_0\\rangle . \n",
    "\\end{equation}\n",
    "$$"
   ]
  },
  {
   "cell_type": "markdown",
   "id": "c2c17f01",
   "metadata": {
    "editable": true
   },
   "source": [
    "Here, $E_c$ is the correlation energy, and the total energy is\n",
    "$E=E_c+E_{HF}$.  The similarity-transformed Hamiltonian is defined as"
   ]
  },
  {
   "cell_type": "markdown",
   "id": "b4ab2899",
   "metadata": {
    "editable": true
   },
   "source": [
    "<!-- Equation labels as ordinary links -->\n",
    "<div id=\"Hsim\"></div>\n",
    "\n",
    "$$\n",
    "\\begin{equation}\n",
    "\\label{Hsim} \\tag{13}\n",
    "\\overline{H_N} \\equiv e^{-T} H_N e^T .\n",
    "\\end{equation}\n",
    "$$"
   ]
  },
  {
   "cell_type": "markdown",
   "id": "191d413d",
   "metadata": {
    "editable": true
   },
   "source": [
    "A more productive view on coupled-cluster theory thus emerges: This\n",
    "method seeks a similarity transformation such that the uncorrelated\n",
    "reference state ([1](#HFref)) becomes an exact eigenstate of the\n",
    "similarity-transformed Hamiltonian ([13](#Hsim))."
   ]
  },
  {
   "cell_type": "markdown",
   "id": "3f761d9f",
   "metadata": {
    "editable": true
   },
   "source": [
    "## Exercise 4: What $T$ leads to Hermitian $\\overline{H_N}$ ?\n",
    "<div id=\"ex-4\"></div>\n",
    "\n",
    "What are the conditions on $T$ such that $\\overline{H_N}$ is Hermitian?\n",
    "\n",
    "<!-- --- begin answer of exercise --- -->\n",
    "**Answer.**\n",
    "For a Hermitian $\\overline{H_N}$, we need a unitary $e^T$, i.e. an\n",
    "anti-Hermitian $T$ with $T = -T^\\dagger$\n",
    "\n",
    "<!-- --- end answer of exercise --- -->\n",
    "\n",
    "===== =====\n",
    "\n",
    "As we will see below, coupld-cluster theory employs a non-Hermitian Hamiltonian."
   ]
  },
  {
   "cell_type": "markdown",
   "id": "2a0bd898",
   "metadata": {
    "editable": true
   },
   "source": [
    "## Exercise 5: Understanding (non-unitary) similarity transformations\n",
    "<div id=\"ex-5\"></div>\n",
    "\n",
    "Show that $\\overline{H_N}$ has the same eigenvalues as $H_N$ for\n",
    "arbitrary $T$. What is the spectral decomposition of a non-Hermitian\n",
    "$\\overline{H_N}$ ?\n",
    "\n",
    "<!-- --- begin answer of exercise --- -->\n",
    "**Answer.**\n",
    "Let $H_N\\vert E\\rangle = E\\vert E\\rangle$. Thus"
   ]
  },
  {
   "cell_type": "markdown",
   "id": "fe606c5e",
   "metadata": {
    "editable": true
   },
   "source": [
    "$$\n",
    "\\begin{align*}\n",
    "H_N e^{T} e^{-T} \\vert E\\rangle &= E\\vert E\\rangle , \\\\\n",
    "\\left(e^{-T} H_N e^T\\right) e^{-T} \\vert E\\rangle &= Ee^{-T} \\vert E\\rangle , \\\\\n",
    "\\overline{H_N} e^{-T} \\vert E\\rangle &= E e^{-T}\\vert E\\rangle .\n",
    "\\end{align*}\n",
    "$$"
   ]
  },
  {
   "cell_type": "markdown",
   "id": "79877ce0",
   "metadata": {
    "editable": true
   },
   "source": [
    "Thus, if $\\vert E\\rangle$ is an eigenstate of $H_N$ with eigenvalue $E$,\n",
    "then $e^{-T}\\vert E\\rangle$ is eigenstate of $\\overline{H_N}$ with the same\n",
    "eigenvalue.\n",
    "\n",
    "A non-Hermitian $\\overline{H_N}$ has eigenvalues $E_\\alpha$\n",
    "corresponding to left $\\langle L_\\alpha\\vert $ and right $\\vert R_\\alpha\n",
    "\\rangle$ eigenstates. Thus"
   ]
  },
  {
   "cell_type": "markdown",
   "id": "cf6e121b",
   "metadata": {
    "editable": true
   },
   "source": [
    "<!-- Equation labels as ordinary links -->\n",
    "<div id=\"_auto7\"></div>\n",
    "\n",
    "$$\n",
    "\\begin{equation}\n",
    "\\overline{H_N} = \\sum_\\alpha \\vert R_\\alpha\\rangle E_\\alpha \\langle L_\\alpha \\vert \n",
    "\\label{_auto7} \\tag{14}\n",
    "\\end{equation}\n",
    "$$"
   ]
  },
  {
   "cell_type": "markdown",
   "id": "5c4faddd",
   "metadata": {
    "editable": true
   },
   "source": [
    "with bi-orthonormal $\\langle L_\\alpha\\vert R_\\beta\\rangle = \\delta_\\alpha^\\beta$.\n",
    "\n",
    "<!-- --- end answer of exercise --- -->\n",
    "\n",
    "===== =====\n",
    "\n",
    "To make progress, we have to specify the cluster operator $T$. In\n",
    "coupled cluster theory, this operator is"
   ]
  },
  {
   "cell_type": "markdown",
   "id": "4b0faeab",
   "metadata": {
    "editable": true
   },
   "source": [
    "<!-- Equation labels as ordinary links -->\n",
    "<div id=\"Top\"></div>\n",
    "\n",
    "$$\n",
    "\\begin{equation}\n",
    "\\label{Top} \\tag{15}\n",
    "T \\equiv \\sum_{ia} t_i^a a^\\dagger_a a_i + \\frac{1}{4}\\sum_{ijab}t_{ij}^{ab}\n",
    "a^\\dagger_aa^\\dagger_ba_ja_i + \\cdots\n",
    "+ \\frac{1}{(A!)^2}\\sum_{i_1\\ldots i_A a_1 \\ldots a_A}\n",
    "t_{i_1\\ldots i_A}^{a_1\\ldots a_A} a^\\dagger_{a_1}\\cdots a^\\dagger_{a_A} a_{i_A}\\cdots a_{i_1} .\n",
    "\\end{equation}\n",
    "$$"
   ]
  },
  {
   "cell_type": "markdown",
   "id": "195d1120",
   "metadata": {
    "editable": true
   },
   "source": [
    "Thus, the operator ([15](#Top)) induces particle-hole (p-h)\n",
    "excitations with respect to the reference. In general, $T$ generates\n",
    "up to $Ap-Ah$ excitations, and the unknown parameters are the cluster amplitides\n",
    "$t_i^a$, $t_{ij}^{ab}$, ..., $t_{i_1,\\ldots,i_A}^{a_1,\\ldots,a_A}$."
   ]
  },
  {
   "cell_type": "markdown",
   "id": "2ced120f",
   "metadata": {
    "editable": true
   },
   "source": [
    "## Exercise 6: How many unknowns?\n",
    "<div id=\"ex-6\"></div>\n",
    "\n",
    "Show that the number of unknowns is as large as the FCI dimension of\n",
    "the problem, using the numbers $A$ and $n_u$.\n",
    "\n",
    "<!-- --- begin answer of exercise --- -->\n",
    "**Answer.**\n",
    "We have to sum up all $np-nh$ excitations, and there are\n",
    "$\\binom{n_u}{n}$ particle states and $\\binom{A}{A-n}$ hole states for\n",
    "each $n$. Thus, we have for the total number"
   ]
  },
  {
   "cell_type": "markdown",
   "id": "7561b2bd",
   "metadata": {
    "editable": true
   },
   "source": [
    "<!-- Equation labels as ordinary links -->\n",
    "<div id=\"_auto8\"></div>\n",
    "\n",
    "$$\n",
    "\\begin{equation}\n",
    "\\sum_{n=0}^A \\binom{n_u}{n} \\binom{A}{A-n}= \\binom{A+n_u}{A} .\n",
    "\\label{_auto8} \\tag{16}\n",
    "\\end{equation}\n",
    "$$"
   ]
  },
  {
   "cell_type": "markdown",
   "id": "d148988c",
   "metadata": {
    "editable": true
   },
   "source": [
    "The right hand side are obviously all ways to distribute $A$ fermions over $n_0+A$ orbitals.\n",
    "\n",
    "<!-- --- end answer of exercise --- -->\n",
    "\n",
    "===== =====\n",
    "\n",
    "Thus, the coupled-cluster method with the full cluster operator\n",
    "([15](#Top)) is exponentially expensive, just as FCI. To make progress,\n",
    "we need to make an approximation by truncating the operator. Here, we\n",
    "will use the CCSD (coupled clusters singles doubles) approximation,\n",
    "where"
   ]
  },
  {
   "cell_type": "markdown",
   "id": "51bbd04b",
   "metadata": {
    "editable": true
   },
   "source": [
    "<!-- Equation labels as ordinary links -->\n",
    "<div id=\"Tccsd\"></div>\n",
    "\n",
    "$$\n",
    "\\begin{equation}\n",
    "\\label{Tccsd} \\tag{17}\n",
    "T \\equiv \\sum_{ia} t_i^a a^\\dagger_a a_i + \\frac{1}{4}\\sum_{ijab}t_{ij}^{ab}\n",
    "a^\\dagger_aa^\\dagger_ba_ja_i .\n",
    "\\end{equation}\n",
    "$$"
   ]
  },
  {
   "cell_type": "markdown",
   "id": "b8deda97",
   "metadata": {
    "editable": true
   },
   "source": [
    "We need to determine the unknown cluster amplitudes that enter in CCSD. Let"
   ]
  },
  {
   "cell_type": "markdown",
   "id": "12aa6207",
   "metadata": {
    "editable": true
   },
   "source": [
    "<!-- Equation labels as ordinary links -->\n",
    "<div id=\"_auto9\"></div>\n",
    "\n",
    "$$\n",
    "\\begin{equation}\n",
    "\\vert\\Phi_i^a\\rangle = a^\\dagger_a a_i \\vert \\Phi_0\\rangle , \n",
    "\\label{_auto9} \\tag{18}\n",
    "\\end{equation}\n",
    "$$"
   ]
  },
  {
   "cell_type": "markdown",
   "id": "66f2ae9c",
   "metadata": {
    "editable": true
   },
   "source": [
    "<!-- Equation labels as ordinary links -->\n",
    "<div id=\"_auto10\"></div>\n",
    "\n",
    "$$\n",
    "\\begin{equation} \n",
    "\\vert\\Phi_{ij}^{ab}\\rangle = a^\\dagger_a a^\\dagger_b a_j a_i \\vert \\Phi_0\\rangle\n",
    "\\label{_auto10} \\tag{19}\n",
    "\\end{equation}\n",
    "$$"
   ]
  },
  {
   "cell_type": "markdown",
   "id": "7d6df503",
   "metadata": {
    "editable": true
   },
   "source": [
    "be 1p-1h and 2p-2h excitations of the reference. Computing matrix\n",
    "elements of the Schroedinger Equation ([12](#Schroedinger)) yields"
   ]
  },
  {
   "cell_type": "markdown",
   "id": "92d0bca1",
   "metadata": {
    "editable": true
   },
   "source": [
    "<!-- Equation labels as ordinary links -->\n",
    "<div id=\"ccsd\"></div>\n",
    "\n",
    "$$\n",
    "\\begin{equation}\n",
    "\\label{ccsd} \\tag{20}\n",
    "\\langle \\Phi_0\\vert \\overline{H_N}\\vert \\Phi_0\\rangle = E_c , \n",
    "\\end{equation}\n",
    "$$"
   ]
  },
  {
   "cell_type": "markdown",
   "id": "a96488bc",
   "metadata": {
    "editable": true
   },
   "source": [
    "<!-- Equation labels as ordinary links -->\n",
    "<div id=\"_auto11\"></div>\n",
    "\n",
    "$$\n",
    "\\begin{equation} \n",
    "\\langle \\Phi_i^a\\vert \\overline{H_N}\\vert \\Phi_0\\rangle = 0 , \n",
    "\\label{_auto11} \\tag{21}\n",
    "\\end{equation}\n",
    "$$"
   ]
  },
  {
   "cell_type": "markdown",
   "id": "e3feb129",
   "metadata": {
    "editable": true
   },
   "source": [
    "<!-- Equation labels as ordinary links -->\n",
    "<div id=\"_auto12\"></div>\n",
    "\n",
    "$$\n",
    "\\begin{equation} \n",
    "\\langle \\Phi_{ij}^{ab}\\vert \\overline{H_N}\\vert \\Phi_0\\rangle = 0 .\n",
    "\\label{_auto12} \\tag{22}\n",
    "\\end{equation}\n",
    "$$"
   ]
  },
  {
   "cell_type": "markdown",
   "id": "2718894c",
   "metadata": {
    "editable": true
   },
   "source": [
    "The first equation states that the coupled-cluster correlation energy\n",
    "is an expectation value of the similarity-transformed Hamiltonian. The\n",
    "second and third equations state that the similarity-transformed\n",
    "Hamiltonian exhibits no 1p-1h and no 2p-2h excitations. These\n",
    "equations have to be solved to find the unknown amplitudes $t_i^a$ and\n",
    "$t_{ij}^{ab}$. Then one can use these amplitudes and compute the\n",
    "correlation energy from the first line of Eq. ([20](#ccsd)).\n",
    "\n",
    "We note that in the CCSD approximation the reference state is not an\n",
    "exact eigenstates. Rather, it is decoupled from simple states but\n",
    "$\\overline{H}$ still connects this state to 3p-3h, and 4p-4h states\n",
    "etc.\n",
    "\n",
    "At this point, it is important to recall that we assumed starting from\n",
    "a \"good\" reference state. In such a case, we might reasonably expect\n",
    "that the inclusion of 1p-1h and 2p-2h excitations could result in an\n",
    "accurate approximation. Indeed, empirically one finds that CCSD\n",
    "accounts for about 90% of the corelation energy, i.e. of the\n",
    "difference between the exact energy and the Hartree-Fock energy. The\n",
    "inclusion of triples (3p-3h excitations) typically yields 99% of the\n",
    "correlation energy.\n",
    "\n",
    "We see that the coupled-cluster method in its CCSD approximation\n",
    "yields a similarity-transformed Hamiltonian that is of a two-body\n",
    "structure with respect to a non-trivial vacuum. When viewed in this\n",
    "light, the coupled-cluster method \"transforms\" an $A$-body problem\n",
    "(in CCSD) into a two-body problem, albeit with respect to a nontrivial\n",
    "vacuum."
   ]
  },
  {
   "cell_type": "markdown",
   "id": "f6063818",
   "metadata": {
    "editable": true
   },
   "source": [
    "## Exercise 7: Why is CCD not exact?\n",
    "<div id=\"ex-6b\"></div>\n",
    "\n",
    "Above we argued that a similarity transformation preserves all eigenvalues. Nevertheless, the CCD correlation energy is not the exact correlation energy. Explain!\n",
    "\n",
    "<!-- --- begin answer of exercise --- -->\n",
    "**Answer.**\n",
    "The CCD approximation does not make $\\vert\\Phi_0\\rangle$ an exact\n",
    "eigenstate of $\\overline{H_N}$; it is only an eigenstate when the\n",
    "similarity-transformed Hamiltonian is truncated to at most 2p-2h\n",
    "states. The full $\\overline{H_N}$, with $T=T_2$, would involve\n",
    "six-body terms (do you understand this?), and this full Hamiltonian\n",
    "would reproduce the exact correlation energy. Thus CCD is a similarity\n",
    "transformation plus a truncation, which decouples the ground state only\n",
    "from 2p-2h states.\n",
    "\n",
    "<!-- --- end answer of exercise --- -->\n",
    "\n",
    "===== ====="
   ]
  },
  {
   "cell_type": "markdown",
   "id": "320a7763",
   "metadata": {
    "editable": true
   },
   "source": [
    "## Computing the similarity-transformed Hamiltonian\n",
    "\n",
    "The solution of the CCSD equations, i.e. the second and third line of\n",
    "Eq. ([20](#ccsd)), and the computation of the correlation energy\n",
    "requires us to compute matrix elements of the similarity-transformed\n",
    "Hamiltonian ([13](#Hsim)). This can be done with the\n",
    "Baker-Campbell-Hausdorff expansion"
   ]
  },
  {
   "cell_type": "markdown",
   "id": "424209fb",
   "metadata": {
    "editable": true
   },
   "source": [
    "<!-- Equation labels as ordinary links -->\n",
    "<div id=\"BCH\"></div>\n",
    "\n",
    "$$\n",
    "\\begin{equation}\n",
    "\\label{BCH} \\tag{23}\n",
    "\\overline{H_N} = e^{-T} H_N e^T \n",
    "\\end{equation}\n",
    "$$"
   ]
  },
  {
   "cell_type": "markdown",
   "id": "00b629b7",
   "metadata": {
    "editable": true
   },
   "source": [
    "<!-- Equation labels as ordinary links -->\n",
    "<div id=\"_auto13\"></div>\n",
    "\n",
    "$$\n",
    "\\begin{equation} \n",
    "=H_N + \\left[ H_N, T\\right]+ \\frac{1}{2!}\\left[ \\left[ H_N, T\\right], T\\right]\n",
    "+ \\frac{1}{3!}\\left[\\left[ \\left[ H_N, T\\right], T\\right], T\\right] +\\ldots .\n",
    "\\label{_auto13} \\tag{24}\n",
    "\\end{equation}\n",
    "$$"
   ]
  },
  {
   "cell_type": "markdown",
   "id": "471f7533",
   "metadata": {
    "editable": true
   },
   "source": [
    "We now come to a key element of coupled-cluster theory: the cluster\n",
    "operator ([15](#Top)) consists of sums of terms that consist of particle\n",
    "creation and hole annihilation operators (but no particle annihilation\n",
    "or hole creation operators). Thus, all terms that enter $T$ commute\n",
    "with each other. This means that the commutators in the\n",
    "Baker-Campbell-Hausdorff expansion ([23](#BCH)) can only be non-zero\n",
    "because each $T$ must connect to $H_N$ (but no $T$ with another\n",
    "$T$). Thus, the expansion is finite."
   ]
  },
  {
   "cell_type": "markdown",
   "id": "e9687637",
   "metadata": {
    "editable": true
   },
   "source": [
    "## Exercise 8: When does CCSD truncate?\n",
    "<div id=\"ex-7\"></div>\n",
    "\n",
    "In CCSD and for two-body Hamiltonians, how many nested\n",
    "commutators yield nonzero results? Where does the\n",
    "Baker-Campbell-Hausdorff expansion terminate? What is the (many-body) rank of the resulting $\\overline{H_N}$?\n",
    "\n",
    "<!-- --- begin answer of exercise --- -->\n",
    "**Answer.**\n",
    "CCSD truncates for two-body operators at four-fold nested commutators,\n",
    "because each of the four annihilation and creation operators in\n",
    "$\\overline{H_N}$ can be knocked out with one term of $T$.\n",
    "\n",
    "<!-- --- end answer of exercise --- -->\n",
    "\n",
    "===== =====\n",
    "\n",
    "We see that the (disadvantage of having a) non-Hermitian Hamiltonian\n",
    "$\\overline{H_N}$ leads to the advantage that the\n",
    "Baker-Campbell-Hausdorff expansion is finite, thus leading to the\n",
    "possibility to compute $\\overline{H_N}$ exactly. In contrast, the\n",
    "IMSRG deals with a Hermitian Hamiltonian throughout, and the infinite\n",
    "Baker-Campbell-Hausdorff expansion is truncated at a high order when\n",
    "terms become very small.\n",
    "\n",
    "We write the similarity-transformed Hamiltonian as"
   ]
  },
  {
   "cell_type": "markdown",
   "id": "2cd76b6b",
   "metadata": {
    "editable": true
   },
   "source": [
    "<!-- Equation labels as ordinary links -->\n",
    "<div id=\"_auto14\"></div>\n",
    "\n",
    "$$\n",
    "\\begin{equation}\n",
    "\\overline{H_N}=\\sum_{pq} \\overline{H}^p_q a^\\dagger_q a_p + {1\\over 4} \\sum_{pqrs} \\overline{H}^{pq}_{rs} a^\\dagger_p a^\\dagger_q a_s a_r + \\ldots\n",
    "\\label{_auto14} \\tag{25}\n",
    "\\end{equation}\n",
    "$$"
   ]
  },
  {
   "cell_type": "markdown",
   "id": "a5509a42",
   "metadata": {
    "editable": true
   },
   "source": [
    "with"
   ]
  },
  {
   "cell_type": "markdown",
   "id": "5c7d3b57",
   "metadata": {
    "editable": true
   },
   "source": [
    "<!-- Equation labels as ordinary links -->\n",
    "<div id=\"_auto15\"></div>\n",
    "\n",
    "$$\n",
    "\\begin{equation}\n",
    "\\overline{H}^p_q \\equiv \\langle p\\vert \\overline{H_N}\\vert q\\rangle , \n",
    "\\label{_auto15} \\tag{26}\n",
    "\\end{equation}\n",
    "$$"
   ]
  },
  {
   "cell_type": "markdown",
   "id": "ef5c4a9c",
   "metadata": {
    "editable": true
   },
   "source": [
    "<!-- Equation labels as ordinary links -->\n",
    "<div id=\"_auto16\"></div>\n",
    "\n",
    "$$\n",
    "\\begin{equation} \n",
    "\\overline{H}^{pq}_{rs} \\equiv \\langle pq\\vert \\overline{H_N}\\vert rs\\rangle .\n",
    "\\label{_auto16} \\tag{27}\n",
    "\\end{equation}\n",
    "$$"
   ]
  },
  {
   "cell_type": "markdown",
   "id": "b6418144",
   "metadata": {
    "editable": true
   },
   "source": [
    "Thus, the CCSD Eqs. ([20](#ccsd)) for the amplitudes can be written as\n",
    "$\\overline{H}_i^a = 0$ and $\\overline{H}_{ij}^{ab}=0$."
   ]
  },
  {
   "cell_type": "markdown",
   "id": "4c042a31",
   "metadata": {
    "editable": true
   },
   "source": [
    "## Exercise 9: Compute the matrix element $\\overline{H}_{ab}^{ij}\\equiv \\langle ij\\vert \\overline{H_N}\\vert ab\\rangle$\n",
    "<div id=\"ex-8\"></div>\n",
    "\n",
    "<!-- --- begin answer of exercise --- -->\n",
    "**Answer.**\n",
    "This is a simple task. This matrix element is part of the operator\n",
    "$\\overline{H}_{ab}^{ij}a^\\dagger_ia^\\dagger_ja_ba_a$, i.e. particles\n",
    "are annihilated and holes are created. Thus, no contraction of the\n",
    "Hamiltonian $H$ with any cluster operator $T$ (remember that $T$\n",
    "annihilates holes and creates particles) can happen, and we simply\n",
    "have $\\overline{H}_{ab}^{ij} = \\langle ij\\vert V\\vert ab\\rangle$.\n",
    "\n",
    "<!-- --- end answer of exercise --- -->\n",
    "\n",
    "===== =====\n",
    "\n",
    "We need to work out the similarity-transformed Hamiltonian of\n",
    "Eq. ([23](#BCH)). To do this, we write $T=T_1 +T_2$ and $H_N= F +V$,\n",
    "where $T_1$ and $F$ are one-body operators, and $T_2$ and $V$ are\n",
    "two-body operators."
   ]
  },
  {
   "cell_type": "markdown",
   "id": "535709ba",
   "metadata": {
    "editable": true
   },
   "source": [
    "## Example: The contribution of $[F, T_2]$ to $\\overline{H_N}$\n",
    "<div id=\"ex-9\"></div>\n",
    "\n",
    "The commutator $[F, T_2]$ consists of two-body and one-body terms. Let\n",
    "us compute first the two-body term, as it results from a single\n",
    "contraction (i.e. a single application of $[a_p, a^\\dagger_q] =\n",
    "\\delta_p^q$). We denote this as $[F, T_2]_{2b}$ and find"
   ]
  },
  {
   "cell_type": "markdown",
   "id": "48970a6b",
   "metadata": {
    "editable": true
   },
   "source": [
    "$$\n",
    "\\begin{align*}\n",
    "[F, T_2]_{2b} &= \\frac{1}{4}\\sum_{pq}\\sum_{rsuv} f_p^q t_{ij}^{ab}\\left[a^\\dagger_q a_p, a^\\dagger_a a^\\dagger_b a_j a_i \\right]_{2b} \\\\\n",
    "&= \\frac{1}{4}\\sum_{pq}\\sum_{abij} f_p^q t_{ij}^{ab}\\delta_p^a a^\\dagger_q a^\\dagger_b a_j a_i  \\\\\n",
    "&- \\frac{1}{4}\\sum_{pq}\\sum_{abij} f_p^q t_{ij}^{ab}\\delta_p^b a^\\dagger_q a^\\dagger_a a_j a_i  \\\\\n",
    "&- \\frac{1}{4}\\sum_{pq}\\sum_{abij} f_p^q t_{ij}^{ab}\\delta_q^j a^\\dagger_a a^\\dagger_b a_p a_i  \\\\\n",
    "&+ \\frac{1}{4}\\sum_{pq}\\sum_{abij} f_p^q t_{ij}^{ab}\\delta_q^i a^\\dagger_a a^\\dagger_b a_p a_j  \\\\\n",
    "&= \\frac{1}{4}\\sum_{qbij}\\left(\\sum_{a} f_a^q t_{ij}^{ab}\\right)a^\\dagger_q a^\\dagger_b a_j a_i  \\\\\n",
    "&- \\frac{1}{4}\\sum_{qaij}\\left(\\sum_{b} f_b^q t_{ij}^{ab}\\right)a^\\dagger_q a^\\dagger_a a_j a_i  \\\\\n",
    "&- \\frac{1}{4}\\sum_{pabi}\\left(\\sum_{j} f_p^j t_{ij}^{ab}\\right)a^\\dagger_a a^\\dagger_b a_p a_i  \\\\\n",
    "&+ \\frac{1}{4}\\sum_{pabj}\\left(\\sum_{i} f_p^i t_{ij}^{ab}\\right)a^\\dagger_a a^\\dagger_b a_p a_j  \\\\\n",
    "&= \\frac{1}{2}\\sum_{qbij}\\left(\\sum_{a} f_a^q t_{ij}^{ab}\\right)a^\\dagger_q a^\\dagger_b a_j a_i  \\\\\n",
    "&- \\frac{1}{2}\\sum_{pabi}\\left(\\sum_{j} f_p^j t_{ij}^{ab}\\right)a^\\dagger_a a^\\dagger_b a_p a_i  .\n",
    "\\end{align*}\n",
    "$$"
   ]
  },
  {
   "cell_type": "markdown",
   "id": "55105fd0",
   "metadata": {
    "editable": true
   },
   "source": [
    "Here we exploited the antisymmetry $t_{ij}^{ab} = -t_{ji}^{ab} =\n",
    "-t_{ij}^{ba} = t_{ji}^{ba}$ in the last step. Using $a^\\dagger_q a^\\dagger_b a_j a_i = -a^\\dagger_b a^\\dagger_q a_j a_i $ and $a^\\dagger_a a^\\dagger_b a_p a_i = a^\\dagger_a a^\\dagger_b a_i a_p$, we can make the expression \n",
    "manifest antisymmetric, i.e."
   ]
  },
  {
   "cell_type": "markdown",
   "id": "6eb8db50",
   "metadata": {
    "editable": true
   },
   "source": [
    "$$\n",
    "\\begin{align*}\n",
    "[F, T_2]_{2b}\n",
    "&= \\frac{1}{4}\\sum_{qbij}\\left[\\sum_{a} \\left(f_a^q t_{ij}^{ab}-f_a^b t_{ij}^{qa}\\right)\\right]a^\\dagger_q a^\\dagger_b a_j a_i  \\\\\n",
    "&- \\frac{1}{4}\\sum_{pabi}\\left[\\sum_{j} \\left(f_p^j t_{ij}^{ab}-f_i^j t_{pj}^{ab}\\right)\\right]a^\\dagger_a a^\\dagger_b a_p a_i  .\n",
    "\\end{align*}\n",
    "$$"
   ]
  },
  {
   "cell_type": "markdown",
   "id": "52f22cca",
   "metadata": {
    "editable": true
   },
   "source": [
    "Thus, the contribution of $[F, T_2]_{2b}$ to the matrix element $\\overline{H}_{ij}^{ab}$ is"
   ]
  },
  {
   "cell_type": "markdown",
   "id": "8a97305a",
   "metadata": {
    "editable": true
   },
   "source": [
    "$$\n",
    "\\begin{align*}\n",
    "\\overline{H}_{ij}^{ab} \\leftarrow  \\sum_{c} \\left(f_c^a t_{ij}^{cb}-f_c^b t_{ij}^{ac}\\right) - \\sum_{k} \\left(f_j^k t_{ik}^{ab}-f_i^k t_{jk}^{ab}\\right)\n",
    "\\end{align*}\n",
    "$$"
   ]
  },
  {
   "cell_type": "markdown",
   "id": "525e00ae",
   "metadata": {
    "editable": true
   },
   "source": [
    "Here we used an arrow to indicate that this is just one contribution\n",
    "to this matrix element.  We see that the derivation straight forward,\n",
    "but somewhat tedious. As no one likes to commute too much (neither in\n",
    "this example nor when going to and from work), and so we need a better\n",
    "approach. This is where diagramms come in handy.\n",
    "\n",
    "===== ====="
   ]
  },
  {
   "cell_type": "markdown",
   "id": "fd21c748",
   "metadata": {
    "editable": true
   },
   "source": [
    "### Diagrams\n",
    "\n",
    "The pictures in this Subsection are taken from Crawford and Schaefer.\n",
    "\n",
    "By convention, hole lines (labels $i, j, k,\\ldots$) are pointing down. \n",
    "<!-- dom:FIGURE: [figslides/Diagram-i.png, height=120 frac=0.8] This is a hole line. <div id=\"fig-i\"></div> -->\n",
    "<!-- begin figure -->\n",
    "<div id=\"fig-i\"></div>\n",
    "\n",
    "<img src=\"figslides/Diagram-i.png\" height=\"120\"><p style=\"font-size: 0.9em\"><i>Figure 2: This is a hole line.</i></p>\n",
    "<!-- end figure -->\n",
    "\n",
    "By convention, particle lines (labels $a, b, c,\\ldots$) are pointing up. \n",
    "<!-- dom:FIGURE: [figslides/Diagram-a.png, height=120 frac=0.8] This is a particle line. <div id=\"fig-a\"></div> -->\n",
    "<!-- begin figure -->\n",
    "<div id=\"fig-a\"></div>\n",
    "\n",
    "<img src=\"figslides/Diagram-a.png\" height=\"120\"><p style=\"font-size: 0.9em\"><i>Figure 3: This is a particle line.</i></p>\n",
    "<!-- end figure -->\n",
    "\n",
    "Let us look at the one-body operator of the normal-ordered Hamiltonian, i.e. Fock matrix. Its diagrams are as follows.\n",
    "\n",
    "<!-- dom:FIGURE: [figslides/Diagram-fab.png, height=120 frac=0.8] The diagrams corresponding to $f_a^b$. The dashed line with the 'X' denotes the interaction $F$ between the incoming and outgoing lines. The labels $a$ and $b$ are not denoted, but you should label the outgoing and incoming lines accordingly. <div id=\"fig-fab\"></div> -->\n",
    "<!-- begin figure -->\n",
    "<div id=\"fig-fab\"></div>\n",
    "\n",
    "<img src=\"figslides/Diagram-fab.png\" height=\"120\"><p style=\"font-size: 0.9em\"><i>Figure 4: The diagrams corresponding to $f_a^b$. The dashed line with the 'X' denotes the interaction $F$ between the incoming and outgoing lines. The labels $a$ and $b$ are not denoted, but you should label the outgoing and incoming lines accordingly.</i></p>\n",
    "<!-- end figure -->\n",
    "\n",
    "<!-- dom:FIGURE: [figslides/Diagram-fij.png, height=120 frac=0.8] The diagrams corresponding to $f_i^j$. The dashed line with the 'X' denotes the interaction $F$ between the incoming and outgoing lines. <div id=\"fig-fij\"></div> -->\n",
    "<!-- begin figure -->\n",
    "<div id=\"fig-fij\"></div>\n",
    "\n",
    "<img src=\"figslides/Diagram-fij.png\" height=\"120\"><p style=\"font-size: 0.9em\"><i>Figure 5: The diagrams corresponding to $f_i^j$. The dashed line with the 'X' denotes the interaction $F$ between the incoming and outgoing lines.</i></p>\n",
    "<!-- end figure -->\n",
    "\n",
    "<!-- dom:FIGURE: [figslides/Diagram-fia.png, height=120 frac=0.8] The diagrams corresponding to $f_a^i$. The dashed line with the 'X' denotes the interaction $F$ between the incoming and outgoing lines. <div id=\"fig-fia\"></div> -->\n",
    "<!-- begin figure -->\n",
    "<div id=\"fig-fia\"></div>\n",
    "\n",
    "<img src=\"figslides/Diagram-fia.png\" height=\"120\"><p style=\"font-size: 0.9em\"><i>Figure 6: The diagrams corresponding to $f_a^i$. The dashed line with the 'X' denotes the interaction $F$ between the incoming and outgoing lines.</i></p>\n",
    "<!-- end figure -->\n",
    "\n",
    "<!-- dom:FIGURE: [figslides/Diagram-fai.png, height=120 frac=0.8] The diagrams corresponding to $f_i^a$. The dashed line with the 'X' denotes the interaction $F$ between the incoming and outgoing lines. <div id=\"fig-fai\"></div> -->\n",
    "<!-- begin figure -->\n",
    "<div id=\"fig-fai\"></div>\n",
    "\n",
    "<img src=\"figslides/Diagram-fai.png\" height=\"120\"><p style=\"font-size: 0.9em\"><i>Figure 7: The diagrams corresponding to $f_i^a$. The dashed line with the 'X' denotes the interaction $F$ between the incoming and outgoing lines.</i></p>\n",
    "<!-- end figure -->\n",
    "\n",
    "We now turn to the two-body interaction. It is denoted as a horizontal\n",
    "dashed line with incoming and outgoing lines attached to it. We start\n",
    "by noting that the following diagrams of the interaction are all\n",
    "related by permutation symmetry.\n",
    "\n",
    "<!-- dom:FIGURE: [figslides/Diagrams-symmetry.png, width=400 frac=0.8] The diagrams corresponding to $\\langle ai\\vert V\\vert jb \\rangle = - \\langle ai\\vert V\\vert bj \\rangle = -\\langle ia\\vert V\\vert jb \\rangle = \\langle ia\\vert V\\vert bj\\rangle$. <div id=\"fig-symmetry\"></div> -->\n",
    "<!-- begin figure -->\n",
    "<div id=\"fig-symmetry\"></div>\n",
    "\n",
    "<img src=\"figslides/Diagrams-symmetry.png\" width=\"400\"><p style=\"font-size: 0.9em\"><i>Figure 8: The diagrams corresponding to $\\langle ai\\vert V\\vert jb \\rangle = - \\langle ai\\vert V\\vert bj \\rangle = -\\langle ia\\vert V\\vert jb \\rangle = \\langle ia\\vert V\\vert bj\\rangle$.</i></p>\n",
    "<!-- end figure -->"
   ]
  },
  {
   "cell_type": "markdown",
   "id": "87f04f3c",
   "metadata": {
    "editable": true
   },
   "source": [
    "## Exercise 10: Assign the correct matrix element $\\langle pq\\vert V\\vert rs\\rangle$ to each of the following diagrams of the interaction\n",
    "<div id=\"ex-10\"></div>\n",
    "\n",
    "Remember: $\\langle\\rm{left-out, right-out}\\vert V\\vert \\rm{left-in, right-in}\\rangle$."
   ]
  },
  {
   "cell_type": "markdown",
   "id": "35755acd",
   "metadata": {
    "editable": true
   },
   "source": [
    "**a)**\n",
    "<!-- dom:FIGURE: [figslides/Diagrams-V1.png, width=400 frac=0.8] -->\n",
    "<!-- begin figure -->\n",
    "\n",
    "<img src=\"figslides/Diagrams-V1.png\" width=\"400\"><p style=\"font-size: 0.9em\"><i>Figure 9: </i></p>\n",
    "<!-- end figure -->\n",
    "\n",
    "<!-- --- begin answer of exercise --- -->\n",
    "**Answer.**\n",
    "$\\langle ab\\vert V\\vert cd\\rangle + \\langle ij\\vert V\\vert kl\\rangle + \\langle ia\\vert V\\vert bj\\rangle$\n",
    "<!-- --- end answer of exercise --- -->"
   ]
  },
  {
   "cell_type": "markdown",
   "id": "1d72bd9b",
   "metadata": {
    "editable": true
   },
   "source": [
    "**b)**\n",
    "<!-- dom:FIGURE: [figslides/Diagrams-V2.png, width=400 frac=0.8] -->\n",
    "<!-- begin figure -->\n",
    "\n",
    "<img src=\"figslides/Diagrams-V2.png\" width=\"400\"><p style=\"font-size: 0.9em\"><i>Figure 9: </i></p>\n",
    "<!-- end figure -->\n",
    "\n",
    "<!-- --- begin answer of exercise --- -->\n",
    "**Answer.**\n",
    "$\\langle ai\\vert V\\vert bc\\rangle + \\langle ij\\vert V\\vert ka\\rangle + \\langle ab\\vert V\\vert ci\\rangle$\n",
    "<!-- --- end answer of exercise --- -->"
   ]
  },
  {
   "cell_type": "markdown",
   "id": "cb8d9e9e",
   "metadata": {
    "editable": true
   },
   "source": [
    "**c)**\n",
    "<!-- dom:FIGURE: [figslides/Diagrams-V3.png, width=400 frac=0.8] -->\n",
    "<!-- begin figure -->\n",
    "\n",
    "<img src=\"figslides/Diagrams-V3.png\" width=\"400\"><p style=\"font-size: 0.9em\"><i>Figure 9: </i></p>\n",
    "<!-- end figure -->\n",
    "\n",
    "<!-- --- begin answer of exercise --- -->\n",
    "**Answer.**\n",
    "$\\langle ia\\vert V\\vert jk\\rangle + \\langle ab\\vert V\\vert ij\\rangle + \\langle ij\\vert V\\vert ab\\rangle$\n",
    "<!-- --- end answer of exercise --- -->\n",
    "\n",
    "===== =====\n",
    "\n",
    "Finally, we have the following diagrams for the $T_1$ and $T_2$ amplitudes.\n",
    "<!-- dom:FIGURE: [figslides/Diagrams-T.png, width=400 frac=0.8] The horizontal full line is the cluster amplitude with incoming hole lines and outgoing particle lines as indicated. <div id=\"fig-T\"></div> -->\n",
    "<!-- begin figure -->\n",
    "<div id=\"fig-T\"></div>\n",
    "\n",
    "<img src=\"figslides/Diagrams-T.png\" width=\"400\"><p style=\"font-size: 0.9em\"><i>Figure 9: The horizontal full line is the cluster amplitude with incoming hole lines and outgoing particle lines as indicated.</i></p>\n",
    "<!-- end figure -->\n",
    "\n",
    "We are now in the position to construct the diagrams of the\n",
    "similarity-transformed Hamiltonian, keeping in mind that these\n",
    "diagrams correspond to matrix elements of $\\overline{H_N}$. The rules\n",
    "are as follows.\n",
    "\n",
    "1. Write down all *topologically different* diagrams corresponding to the desired matrix element. Topologically different diagrams differ in the number and type of lines (particle or hole) that connect the Fock matrix $F$ or the interaction $V$ to the cluster amplitudes $T$, but not whether these connections are left or right (as those are related by antisymmetry). As an example, all diagrams in Fig. [fig-symmetry](#fig-symmetry) are topologically identical, because they consist of incoming particle and hole lines and of outgoing particle and hole lines. \n",
    "\n",
    "2. Write down the matrix elements that enter the diagram, and sum over all internal lines. \n",
    "\n",
    "3. The overall sign is $(-1)$ to the power of [(number of hole lines) - (number of loops)].\n",
    "\n",
    "4. Symmetry factor: For each pair of equivalent lines (i.e. lines that connect the same two operators) multiply with a factor $1/2$. For $n$ identical vertices, multiply the algebraic expression by the symmery factor $1/n!$ to account properly for the number of ways the diagram can be constructed.   \n",
    "\n",
    "5. Antisymmetrize the outgoing and incoming lines as necessary.\n",
    "\n",
    "Please note that this really works. You could derive these rules for\n",
    "yourself from the commutations and factors that enter the\n",
    "Baker-Campbell-Hausdorff expansion. The sign comes obviously from the\n",
    "arrangement of creation and annilhilation operators, while the\n",
    "symmetry factor stems from all the different ways, one can contract\n",
    "the cluster operator with the normal-ordered Hamiltonian."
   ]
  },
  {
   "cell_type": "markdown",
   "id": "af8abf09",
   "metadata": {
    "editable": true
   },
   "source": [
    "## Example: CCSD correlation energy\n",
    "<div id=\"ex-11\"></div>\n",
    "The CCSD correlation energy, $E_c= \\langle\n",
    "\\Phi_0\\vert \\overline{H_N}\\vert \\Phi_0\\rangle$, is the first of the CCSD\n",
    "equations ([20](#ccsd)). It is a vacuum expectation value and thus\n",
    "consists of all diagrams with no external legs. There are three such diagrams:\n",
    "\n",
    "<!-- dom:FIGURE: [figslides/Diagrams-E0.png, width=400 frac=0.8] Three diagrams enter for the CCSD correlation energy, i.e. all diagrams that leave no external legs. <div id=\"fig-E0\"></div> -->\n",
    "<!-- begin figure -->\n",
    "<div id=\"fig-E0\"></div>\n",
    "\n",
    "<img src=\"figslides/Diagrams-E0.png\" width=\"400\"><p style=\"font-size: 0.9em\"><i>Figure 10: Three diagrams enter for the CCSD correlation energy, i.e. all diagrams that leave no external legs.</i></p>\n",
    "<!-- end figure -->\n",
    "\n",
    "The correponding algebraic expression is $E_c=\\sum_{ia}f^i_a t_i^a +{1\\over 4}\\sum_{ijab} \\langle ij\\vert V\\vert ab\\rangle t_{ij}^{ab} + {1\\over 2} \\sum_{ijab} \\langle ij\\vert V\\vert ab\\rangle t_i^a t_j^b$.\n",
    "\n",
    "The first algebraic expression is clear. We have one hole line and one\n",
    "loop, giving it a positive sign. There are no equivalent lines or\n",
    "vertices, giving it no symmetry factor. The second diagram has two\n",
    "loops and two hole lines, again leading to a positive sign. We have a\n",
    "pair of equivalent hole lines and a pair of equivalent particle lines,\n",
    "each giving a symmetry factor of $1/2$. The third diagram has two\n",
    "loops and two hole lines, again leading to a positive sign. We have\n",
    "two indentical vertices (each connecting to a $T_1$ in the same way)\n",
    "and thus a symmetry factor $1/2$.\n",
    "\n",
    "===== ====="
   ]
  },
  {
   "cell_type": "markdown",
   "id": "57634f5d",
   "metadata": {
    "editable": true
   },
   "source": [
    "## CCD Approximation\n",
    "\n",
    "In what follows, we will consider the coupled cluster doubles (CCD)\n",
    "approximation. This approximation is valid in cases where the system\n",
    "cannot exhibit any particle-hole excitations (such as nuclear matter\n",
    "when formulated on a momentum-space grid) or for the pairing model (as\n",
    "the pairing interactions only excites pairs of particles). In this\n",
    "case $t_i^a=0$ for all $i, a$, and $\\overline{H}_i^a=0$. The CCD\n",
    "approximation is also of some sort of leading order approximation in\n",
    "the Hartree-Fock basis (as the Hartree-Fock Hamiltonian exhibits no\n",
    "particle-hole excitations)."
   ]
  },
  {
   "cell_type": "markdown",
   "id": "e8ec22e2",
   "metadata": {
    "editable": true
   },
   "source": [
    "## Exercise 11: Derive the CCD equations!\n",
    "<div id=\"ex-12\"></div>\n",
    "\n",
    "Let us consider the matrix element $\\overline{H}_{ij}^{ab}$. Clearly,\n",
    "it consists of all diagrams (i.e. all combinations of $T_2$, and a\n",
    "single $F$ or $V$ that have two incoming hole lines and two outgoing\n",
    "particle lines. Write down all these diagrams.\n",
    "\n",
    "<!-- --- begin hint in exercise --- -->\n",
    "\n",
    "**Hint.**\n",
    "Start systematically! Consider all combinations of $F$ and $V$ diagrams with 0, 1, and 2 cluster amplitudes $T_2$.\n",
    "\n",
    "<!-- --- end hint in exercise --- -->\n",
    "\n",
    "<!-- --- begin answer of exercise --- -->\n",
    "**Answer.**\n",
    "<!-- dom:FIGURE: [figslides/Diagrams-CCD.png, width=400 frac=0.8] The diagrams for the $T_2$ equation, i.e. the matrix elements of $\\overline{H}_{ij}^{ab}$. Taken from Baardsen et al (2013). <div id=\"fig-ccd\"></div> -->\n",
    "<!-- begin figure -->\n",
    "<div id=\"fig-ccd\"></div>\n",
    "\n",
    "<img src=\"figslides/Diagrams-CCD.png\" width=\"400\"><p style=\"font-size: 0.9em\"><i>Figure 11: The diagrams for the $T_2$ equation, i.e. the matrix elements of $\\overline{H}_{ij}^{ab}$. Taken from Baardsen et al (2013).</i></p>\n",
    "<!-- end figure -->\n",
    "\n",
    "The corresponding algebraic expression is"
   ]
  },
  {
   "cell_type": "markdown",
   "id": "24cc0475",
   "metadata": {
    "editable": true
   },
   "source": [
    "$$\n",
    "\\begin{align*}\n",
    "\\overline{H}_{ij}^{ab} &= \\langle ab\\vert V\\vert ij\\rangle + P(ab)\\sum_c f_c^bt_{ij}^{ac} - P(ij)\\sum_k f_j^k t_{ik}^{ab} \\\\\n",
    "&+ {1\\over 2} \\sum_{cd} \\langle ab\\vert V\\vert cd\\rangle t_{ij}^{cd}+ {1\\over 2} \\sum_{kl} \\langle kl\\vert V\\vert ij\\rangle t_{kl}^{ab} + P(ab)P(ij)\\sum_{kc} \\langle kb\\vert V\\vert cj \\rangle t_{ik}^{ac} \\\\\n",
    "&+ {1\\over 2} P(ij)P(ab)\\sum_{kcld} \\langle kl\\vert V\\vert cd\\rangle t_{ik}^{ac}t_{lj}^{db} \n",
    "+ {1\\over 2} P(ij)\\sum_{kcld} \\langle kl\\vert V\\vert cd\\rangle t_{ik}^{cd}t_{lj}^{ab}\\\\\n",
    "&+ {1\\over 2} P(ab)\\sum_{kcld} \\langle kl\\vert V\\vert cd\\rangle t_{kl}^{ac}t_{ij}^{db}\n",
    "+ {1\\over 4} \\sum_{kcld} \\langle kl\\vert V\\vert cd\\rangle t_{ij}^{cd}t_{kl}^{ab} . \n",
    "\\end{align*}\n",
    "$$"
   ]
  },
  {
   "cell_type": "markdown",
   "id": "985ff169",
   "metadata": {
    "editable": true
   },
   "source": [
    "<!-- --- end answer of exercise --- -->\n",
    "\n",
    "===== =====\n",
    "\n",
    "Let us now turn to the computational cost of a CCD computation."
   ]
  },
  {
   "cell_type": "markdown",
   "id": "3181aaf5",
   "metadata": {
    "editable": true
   },
   "source": [
    "## Exercise 12: Computational scaling of CCD\n",
    "<div id=\"ex-13\"></div>\n",
    "\n",
    "For each of the diagrams in Fig. [fig-ccd](#fig-ccd) write down the\n",
    "computational cost in terms of the number of occupied $A$ and the\n",
    "number of unoccupied $n_u$ orbitals.\n",
    "\n",
    "<!-- --- begin answer of exercise --- -->\n",
    "**Answer.**\n",
    "The cost is $A^2 n_u^2$, $A^2 n_u^3$, $A^3 n_u^2$,\n",
    "$A^2 n_u^4$, $A^4 n_u^2$, $A^3 n_u^3$,\n",
    "$A^4 n_u^4$, $A^4 n_u^4$,\n",
    "$A^4 n_u^4$, and $A^4 n_u^4$ for the respective diagrams.\n",
    "\n",
    "<!-- --- end answer of exercise --- -->\n",
    "\n",
    "===== =====\n",
    "\n",
    "Note that $n_u\\gg A$ in general. In textbooks, one reads that CCD (and\n",
    "CCSD) cost only $A^2n_u^4$. Our most expensive diagrams, however are\n",
    "$A^4n_u^4$. What is going on?\n",
    "\n",
    "To understand this puzzle, let us consider the last diagram of\n",
    "Fig. [fig-ccd](#fig-ccd). We break up the computation into two steps,\n",
    "computing first the intermediate"
   ]
  },
  {
   "cell_type": "markdown",
   "id": "0eacdf69",
   "metadata": {
    "editable": true
   },
   "source": [
    "<!-- Equation labels as ordinary links -->\n",
    "<div id=\"_auto17\"></div>\n",
    "\n",
    "$$\n",
    "\\begin{equation}\n",
    "\\chi_{ij}^{kl}\\equiv {1\\over 2} \\sum_{cd} \\langle kl\\vert V\\vert cd\\rangle t_{ij}^{cd}\n",
    "\\label{_auto17} \\tag{28}\n",
    "\\end{equation}\n",
    "$$"
   ]
  },
  {
   "cell_type": "markdown",
   "id": "271a1dcb",
   "metadata": {
    "editable": true
   },
   "source": [
    "at a cost of $A^4n_u^2$, and then"
   ]
  },
  {
   "cell_type": "markdown",
   "id": "785751fa",
   "metadata": {
    "editable": true
   },
   "source": [
    "<!-- Equation labels as ordinary links -->\n",
    "<div id=\"_auto18\"></div>\n",
    "\n",
    "$$\n",
    "\\begin{equation}\n",
    "{1\\over 2} \\sum_{kl} \\chi_{ij}^{kl} t_{kl}^{ab}  \n",
    "\\label{_auto18} \\tag{29}\n",
    "\\end{equation}\n",
    "$$"
   ]
  },
  {
   "cell_type": "markdown",
   "id": "8a84da76",
   "metadata": {
    "editable": true
   },
   "source": [
    "at a cost of $A^4n_u^2$. This is affordable. The price to pay is the\n",
    "storage of the intermediate $\\chi_{ij}^{kl}$, i.e. we traded\n",
    "memory for computational cycles. This trick is known as\n",
    "\"factorization.\""
   ]
  },
  {
   "cell_type": "markdown",
   "id": "babaf479",
   "metadata": {
    "editable": true
   },
   "source": [
    "## Exercise 13: Factorize the remaining diagrams of the CCD equation\n",
    "<div id=\"ex-14\"></div>\n",
    "\n",
    "Diagrams 7, 8, and 9 of Fig. [fig-ccd](#fig-ccd) also need to be factorized.\n",
    "\n",
    "<!-- --- begin answer of exercise --- -->\n",
    "**Answer.**\n",
    "For diagram number 7, we compute"
   ]
  },
  {
   "cell_type": "markdown",
   "id": "02f75622",
   "metadata": {
    "editable": true
   },
   "source": [
    "<!-- Equation labels as ordinary links -->\n",
    "<div id=\"_auto19\"></div>\n",
    "\n",
    "$$\n",
    "\\begin{equation}\n",
    "\\chi_{id}^{al}\\equiv\\sum_{kc} \\langle kl\\vert V\\vert cd\\rangle t_{ik}^{ac}\n",
    "\\label{_auto19} \\tag{30}\n",
    "\\end{equation}\n",
    "$$"
   ]
  },
  {
   "cell_type": "markdown",
   "id": "e6984b19",
   "metadata": {
    "editable": true
   },
   "source": [
    "at a cost of $A^3 n_u^3$ and then compute"
   ]
  },
  {
   "cell_type": "markdown",
   "id": "6d1e28f9",
   "metadata": {
    "editable": true
   },
   "source": [
    "<!-- Equation labels as ordinary links -->\n",
    "<div id=\"_auto20\"></div>\n",
    "\n",
    "$$\n",
    "\\begin{equation}\n",
    "{1\\over 2} P(ij)P(ab) \\sum_{ld} \\chi_{id}^{al} t_{lj}^{db} \n",
    "\\label{_auto20} \\tag{31}\n",
    "\\end{equation}\n",
    "$$"
   ]
  },
  {
   "cell_type": "markdown",
   "id": "6834167c",
   "metadata": {
    "editable": true
   },
   "source": [
    "at the cost of $A^3 n_u^3$.\n",
    "\n",
    "For diagram number 8, we compute"
   ]
  },
  {
   "cell_type": "markdown",
   "id": "80f03b58",
   "metadata": {
    "editable": true
   },
   "source": [
    "<!-- Equation labels as ordinary links -->\n",
    "<div id=\"_auto21\"></div>\n",
    "\n",
    "$$\n",
    "\\begin{equation}\n",
    "\\chi_{i}^{l}\\equiv -{1\\over 2} \\sum_{kcd} \\langle kl\\vert V\\vert cd\\rangle t_{ik}^{cd}\n",
    "\\label{_auto21} \\tag{32}\n",
    "\\end{equation}\n",
    "$$"
   ]
  },
  {
   "cell_type": "markdown",
   "id": "f2f9e1cc",
   "metadata": {
    "editable": true
   },
   "source": [
    "at a cost of $A^3 n_u^2$, and then compute"
   ]
  },
  {
   "cell_type": "markdown",
   "id": "c285d568",
   "metadata": {
    "editable": true
   },
   "source": [
    "<!-- Equation labels as ordinary links -->\n",
    "<div id=\"_auto22\"></div>\n",
    "\n",
    "$$\n",
    "\\begin{equation}\n",
    "-P(ij) \\sum_l \\chi_i^l t_{lj}^{ab}\n",
    "\\label{_auto22} \\tag{33}\n",
    "\\end{equation}\n",
    "$$"
   ]
  },
  {
   "cell_type": "markdown",
   "id": "c02ba7a9",
   "metadata": {
    "editable": true
   },
   "source": [
    "at the cost of $A^3 n_u^2$.\n",
    "\n",
    "For diagram number 9, we compute"
   ]
  },
  {
   "cell_type": "markdown",
   "id": "7b652707",
   "metadata": {
    "editable": true
   },
   "source": [
    "<!-- Equation labels as ordinary links -->\n",
    "<div id=\"_auto23\"></div>\n",
    "\n",
    "$$\n",
    "\\begin{equation}\n",
    "\\chi_d^a\\equiv{1\\over 2} \\sum_{kcl} \\langle kl\\vert V\\vert cd\\rangle t_{kl}^{ac}\n",
    "\\label{_auto23} \\tag{34}\n",
    "\\end{equation}\n",
    "$$"
   ]
  },
  {
   "cell_type": "markdown",
   "id": "a3d4223f",
   "metadata": {
    "editable": true
   },
   "source": [
    "at a cost of $A^2 n_u^3$ and then compute"
   ]
  },
  {
   "cell_type": "markdown",
   "id": "5d3b559b",
   "metadata": {
    "editable": true
   },
   "source": [
    "<!-- Equation labels as ordinary links -->\n",
    "<div id=\"_auto24\"></div>\n",
    "\n",
    "$$\n",
    "\\begin{equation}\n",
    "P(ab)\\sum_d \\chi_d^a t_{ij}^{db}\n",
    "\\label{_auto24} \\tag{35}\n",
    "\\end{equation}\n",
    "$$"
   ]
  },
  {
   "cell_type": "markdown",
   "id": "f41d44f2",
   "metadata": {
    "editable": true
   },
   "source": [
    "at the cost of $A^3 n_u^3$.\n",
    "\n",
    "<!-- --- end answer of exercise --- -->\n",
    "\n",
    "===== =====\n",
    "\n",
    "We are now ready, to derive the full CCSD equations, i.e. the matrix\n",
    "elements of $\\overline{H}_i^a$ and $\\overline{H}_{ij}^{ab}$."
   ]
  },
  {
   "cell_type": "markdown",
   "id": "d5ff225f",
   "metadata": {
    "editable": true
   },
   "source": [
    "## Project 14: (Optional) Derive the CCSD equations!\n",
    "<div id=\"ex-15\"></div>"
   ]
  },
  {
   "cell_type": "markdown",
   "id": "6544ea7b",
   "metadata": {
    "editable": true
   },
   "source": [
    "**a)**\n",
    "Let us consider the matrix element $\\overline{H}_i^a$ first. Clearly, it consists of all diagrams (i.e. all combinations of $T_1$, $T_2$, and a single $F$ or $V$ that have an incoming hole line and an outgoing particle line. Write down all these diagrams.\n",
    "\n",
    "<!-- --- begin answer of exercise --- -->\n",
    "**Answer.**\n",
    "<!-- dom:FIGURE: [figslides/Diagrams-CCSD1.png, width=800 frac=0.8] The diagrams for the $T_1$ equation, i.e. the matrix elements of $\\overline{H}_i^a$. Taken from Crawford and Schaefer. Here $\\langle pq\\vert \\vert rs\\rangle \\equiv \\langle pq\\vert V\\vert rs\\rangle$ and $f_{pq}\\equiv f^p_q$. <div id=\"fig-CCSD1\"></div> -->\n",
    "<!-- begin figure -->\n",
    "<div id=\"fig-CCSD1\"></div>\n",
    "\n",
    "<img src=\"figslides/Diagrams-CCSD1.png\" width=\"800\"><p style=\"font-size: 0.9em\"><i>Figure 12: The diagrams for the $T_1$ equation, i.e. the matrix elements of $\\overline{H}_i^a$. Taken from Crawford and Schaefer. Here $\\langle pq\\vert \\vert rs\\rangle \\equiv \\langle pq\\vert V\\vert rs\\rangle$ and $f_{pq}\\equiv f^p_q$.</i></p>\n",
    "<!-- end figure -->\n",
    "\n",
    "<!-- --- end answer of exercise --- -->"
   ]
  },
  {
   "cell_type": "markdown",
   "id": "bb8f8e21",
   "metadata": {
    "editable": true
   },
   "source": [
    "**b)**\n",
    "Let us now consider the matrix element $\\overline{H}_{ij}^{ab}$. Clearly, it consists of all diagrams (i.e. all combinations of $T_1$, $T_2$, and a single $F$ or $V$ that have two incoming hole lines and two outgoing particle lines. Write down all these diagrams and corresponding algebraic expressions.\n",
    "\n",
    "<!-- --- begin answer of exercise --- -->\n",
    "**Answer.**\n",
    "<!-- dom:FIGURE: [figslides/Diagrams-CCSD2.png, width=800 frac=0.8] The diagrams for the $T_2$ equation, i.e. the matrix elements of $\\overline{H}_{ij}^{ab}$. Taken from Crawford and Schaefer. Here $\\langle pq\\vert \\vert rs\\rangle \\equiv \\langle pq\\vert V\\vert rs\\rangle$, $f_{pq}\\equiv f^p_q$, and $P(ab) = 1 - (a\\leftrightarrow b)$ antisymmetrizes. <div id=\"fig-CCSD2\"></div> -->\n",
    "<!-- begin figure -->\n",
    "<div id=\"fig-CCSD2\"></div>\n",
    "\n",
    "<img src=\"figslides/Diagrams-CCSD2.png\" width=\"800\"><p style=\"font-size: 0.9em\"><i>Figure 13: The diagrams for the $T_2$ equation, i.e. the matrix elements of $\\overline{H}_{ij}^{ab}$. Taken from Crawford and Schaefer. Here $\\langle pq\\vert \\vert rs\\rangle \\equiv \\langle pq\\vert V\\vert rs\\rangle$, $f_{pq}\\equiv f^p_q$, and $P(ab) = 1 - (a\\leftrightarrow b)$ antisymmetrizes.</i></p>\n",
    "<!-- end figure -->\n",
    "\n",
    "<!-- --- end answer of exercise --- -->\n",
    "\n",
    "===== =====\n",
    "\n",
    "We can now turn to the solution of the coupled-cluster equations."
   ]
  },
  {
   "cell_type": "markdown",
   "id": "6753b109",
   "metadata": {
    "editable": true
   },
   "source": [
    "## Solving the CCD equations\n",
    "\n",
    "The CCD equations, depicted in Fig. [fig-ccd](#fig-ccd), are nonlinear in the\n",
    "cluster amplitudes. How do we solve $\\overline{H}_{ij}^{ab}=0$? We\n",
    "subtract $(f_a^a +f_b^b -f_i^i -f_j^j)t_{ij}^{ab}$ from both sides of\n",
    "$\\overline{H}_{ij}^{ab}=0$ (because this term is contained in\n",
    "$\\overline{H}_{ij}^{ab}$) and find"
   ]
  },
  {
   "cell_type": "markdown",
   "id": "14fded3f",
   "metadata": {
    "editable": true
   },
   "source": [
    "$$\n",
    "\\begin{align*}\n",
    "(f_i^i +f_j^j -f_a^a -f_b^b)t_{ij}^{ab} &= (f_i^i +f_j^j -f_a^a -f_b^b)t_{ij}^{ab} +\\overline{H}_{ij}^{ab}\n",
    "\\end{align*}\n",
    "$$"
   ]
  },
  {
   "cell_type": "markdown",
   "id": "b865e40c",
   "metadata": {
    "editable": true
   },
   "source": [
    "Dividing by $(f_i^i +f_j^j -f_a^a -f_b^b)$ yields"
   ]
  },
  {
   "cell_type": "markdown",
   "id": "9129e428",
   "metadata": {
    "editable": true
   },
   "source": [
    "<!-- Equation labels as ordinary links -->\n",
    "<div id=\"iter\"></div>\n",
    "\n",
    "$$\n",
    "\\begin{equation}\n",
    "t_{ij}^{ab} = t_{ij}^{ab} + \\frac{\\overline{H}_{ij}^{ab}}{f_i^i +f_j^j -f_a^a -f_b^b}\n",
    "\\label{iter} \\tag{36}\n",
    "\\end{equation}\n",
    "$$"
   ]
  },
  {
   "cell_type": "markdown",
   "id": "713a051e",
   "metadata": {
    "editable": true
   },
   "source": [
    "This equation is of the type $t=f(t)$, and we solve it by iteration,\n",
    "i.e. we start with a guess $t_0$ and iterate $t_{n+1}=f(t_n)$, and\n",
    "hope that this will converge to a solution. We take the perturbative result"
   ]
  },
  {
   "cell_type": "markdown",
   "id": "cf23b682",
   "metadata": {
    "editable": true
   },
   "source": [
    "<!-- Equation labels as ordinary links -->\n",
    "<div id=\"pert\"></div>\n",
    "\n",
    "$$\n",
    "\\begin{equation}\n",
    "\\label{pert} \\tag{37}\n",
    "\\left(t_{ij}^{ab}\\right)_0 = \\frac{\\langle ab\\vert V\\vert ij\\rangle}{f_i^i +f_j^j -f_a^a -f_b^b}\n",
    "\\end{equation}\n",
    "$$"
   ]
  },
  {
   "cell_type": "markdown",
   "id": "1d9e1c9b",
   "metadata": {
    "editable": true
   },
   "source": [
    "as a starting point, compute $\\overline{H}_{ij}^{ab}$, and find a new\n",
    "$t_{ij}^{ab}$ from the right-hand side of Eq. ([36](#iter)). We repeat\n",
    "this process until the amplitudes (or the CCD energy) converge."
   ]
  },
  {
   "cell_type": "markdown",
   "id": "b75de6a8",
   "metadata": {
    "editable": true
   },
   "source": [
    "## CCD for the pairing Hamiltonian\n",
    "\n",
    "You learned about the pairing Hamiltonian earlier in this\n",
    "school. Convince yourself that this Hamiltonian does not induce any\n",
    "1p-1h excitations. Let us solve the CCD equations for this\n",
    "problem. This consists of the following steps\n",
    "\n",
    "1. Write a function that compute the potential, i.e. it returns a four-indexed array (or tensor). We need $\\langle ab\\vert V\\vert cd\\rangle$, $\\langle ij\\vert V\\vert kl\\rangle$, and $\\langle ab\\vert V\\vert ij\\rangle$. Why is there no $\\langle ab\\vert V\\vert id\\rangle$ or $\\langle ai\\vert V\\vert jb\\rangle$ ?\n",
    "\n",
    "2. Write a function that computes the Fock matrix, i.e. a two-indexed array. We only need $f_a^b$ and $f_i^j$. Why? \n",
    "\n",
    "3. Initialize the cluster amplitudes according to Eq. ([37](#pert)), and solve Eq. ([36](#iter)) by iteration. The cluster amplitudes $T_1$ and $T_2$ are two- and four-indexed arrays, respectively.\n",
    "\n",
    "Please note that the contraction of tensors (i.e. the summation over\n",
    "common indices in products of tensors) is very user friendly and\n",
    "elegant in python when `numpy.einsum` is used."
   ]
  },
  {
   "cell_type": "markdown",
   "id": "2217d139",
   "metadata": {
    "editable": true
   },
   "source": [
    "## Project 15: Solve the CCD equations for the pairing problem\n",
    "<div id=\"ex-16\"></div>\n",
    "\n",
    "The Hamiltonian is"
   ]
  },
  {
   "cell_type": "markdown",
   "id": "15ccb507",
   "metadata": {
    "editable": true
   },
   "source": [
    "<!-- Equation labels as ordinary links -->\n",
    "<div id=\"_auto25\"></div>\n",
    "\n",
    "$$\n",
    "\\begin{equation}\n",
    "H = \\delta \\sum_{p=1}^\\Omega (p-1)\\left(a^\\dagger_{p+}a_{p+} + a^\\dagger_{p-}a_{p-}\\right)\n",
    "-{g \\over 2} \\sum_{p, q=1}^\\Omega a^\\dagger_{p+}a^\\dagger_{p-} a_{q-} a_{q+} .\n",
    "\\label{_auto25} \\tag{38}\n",
    "\\end{equation}\n",
    "$$"
   ]
  },
  {
   "cell_type": "markdown",
   "id": "f5ad5362",
   "metadata": {
    "editable": true
   },
   "source": [
    "Check your results and reproduce Fig 8.5 and Table 8.12 from Lecture Notes in Physics 936.\n",
    "\n",
    "<!-- --- begin answer of exercise --- -->\n",
    "**Answer.**\n",
    "[Click for IPython notebook for FCI and CCD solutions](https://github.com/NuclearTalent/ManyBody2018/tree/master/doc/Programs/Python/PairingModel)"
   ]
  },
  {
   "cell_type": "code",
   "execution_count": 1,
   "id": "8bbc57e9",
   "metadata": {
    "collapsed": false,
    "editable": true
   },
   "outputs": [
    {
     "name": "stdout",
     "output_type": "stream",
     "text": [
      "parameters\n",
      "delta = 1.0 , g = 0.5\n",
      "MBPT2 energy = -0.2640986494237767 , compared to exact: -0.062393162393162394\n",
      "iter= 0 erg= -0.36354426495308473 myeps= 1.0\n"
     ]
    },
    {
     "name": "stdout",
     "output_type": "stream",
     "text": [
      "iter= 1 erg= -0.37575624444298944 myeps= 0.03249973798308371\n",
      "iter= 2 erg= -0.38585587217916006 myeps= 0.02617461198434523\n"
     ]
    },
    {
     "name": "stdout",
     "output_type": "stream",
     "text": [
      "iter= 3 erg= -0.3942075030185592 myeps= 0.021185874889362435\n",
      "iter= 4 erg= -0.4011132425677644 myeps= 0.0172164337058469\n"
     ]
    },
    {
     "name": "stdout",
     "output_type": "stream",
     "text": [
      "iter= 5 erg= -0.40682329513318677 myeps= 0.014035706985640954\n",
      "iter= 6 erg= -0.41154472066379555 myeps= 0.011472448299162774\n"
     ]
    },
    {
     "name": "stdout",
     "output_type": "stream",
     "text": [
      "iter= 7 erg= -0.415448787715655 myeps= 0.00939722817179461\n",
      "iter= 8 erg= -0.41867711472018154 myeps= 0.007710779717883887\n"
     ]
    },
    {
     "name": "stdout",
     "output_type": "stream",
     "text": [
      "iter= 9 erg= -0.4213467805437514 myeps= 0.006336029956428388\n",
      "iter= 10 erg= -0.4235545667262582 myeps= 0.005212518895903349\n"
     ]
    },
    {
     "name": "stdout",
     "output_type": "stream",
     "text": [
      "iter= 11 erg= -0.4253804729664931 myeps= 0.004292407283064816\n",
      "iter= 12 erg= -0.42689062703898156 myeps= 0.003537566713430196\n"
     ]
    },
    {
     "name": "stdout",
     "output_type": "stream",
     "text": [
      "iter= 13 erg= -0.4281396916442187 myeps= 0.002917423050500827\n",
      "iter= 14 erg= -0.4291728542011779 myeps= 0.0024073343568810036\n"
     ]
    },
    {
     "name": "stdout",
     "output_type": "stream",
     "text": [
      "iter= 15 erg= -0.4300274713630842 myeps= 0.0019873548059555165\n",
      "iter= 16 erg= -0.4307344279442794 myeps= 0.0016412818092326651\n"
     ]
    },
    {
     "name": "stdout",
     "output_type": "stream",
     "text": [
      "iter= 17 erg= -0.4313192597672807 myeps= 0.0013559140004942823\n",
      "iter= 18 erg= -0.43180308142773266 myeps= 0.001120468290435161\n"
     ]
    },
    {
     "name": "stdout",
     "output_type": "stream",
     "text": [
      "iter= 19 erg= -0.4322033528891356 myeps= 0.00092611836240335\n",
      "iter= 20 erg= -0.43253451293787193 myeps= 0.0007656268779271082\n"
     ]
    },
    {
     "name": "stdout",
     "output_type": "stream",
     "text": [
      "iter= 21 erg= -0.43280850265722925 myeps= 0.0006330506856384872\n",
      "iter= 22 erg= -0.4330351980489746 myeps= 0.0005235033844055304\n"
     ]
    },
    {
     "name": "stdout",
     "output_type": "stream",
     "text": [
      "iter= 23 erg= -0.4332227676000893 myeps= 0.00043296328157862334\n",
      "iter= 24 erg= -0.4333779678407642 myeps= 0.0003581175144831452\n"
     ]
    },
    {
     "name": "stdout",
     "output_type": "stream",
     "text": [
      "iter= 25 erg= -0.4335063876676202 myeps= 0.00029623514326258533\n",
      "iter= 26 erg= -0.4336126503302039 myeps= 0.0002450635665329708\n"
     ]
    },
    {
     "name": "stdout",
     "output_type": "stream",
     "text": [
      "iter= 27 erg= -0.43370058043009574 myeps= 0.00020274379113034994\n",
      "iter= 28 erg= -0.4337733420034005 myeps= 0.0001677409980261048\n"
     ]
    },
    {
     "name": "stdout",
     "output_type": "stream",
     "text": [
      "iter= 29 erg= -0.43383355270178803 myeps= 0.00013878755576313752\n",
      "iter= 30 erg= -0.4338833782156424 myeps= 0.00011483618952922357\n",
      "iter= 31 erg= -0.43392461036313534 myeps= 9.50214542071232e-05\n"
     ]
    },
    {
     "name": "stdout",
     "output_type": "stream",
     "text": [
      "iter= 32 erg= -0.4339587316746199 myeps= 7.862800997893603e-05\n",
      "iter= 33 erg= -0.43398696881076043 myeps= 6.506447928127211e-05\n"
     ]
    },
    {
     "name": "stdout",
     "output_type": "stream",
     "text": [
      "iter= 34 erg= -0.43401033674723327 myeps= 5.384188922313506e-05\n",
      "iter= 35 erg= -0.4340296753237455 myeps= 4.455588548820297e-05\n"
     ]
    },
    {
     "name": "stdout",
     "output_type": "stream",
     "text": [
      "iter= 36 erg= -0.43404567947824346 myeps= 3.6872051156509844e-05\n",
      "iter= 37 erg= -0.4340589242583793 myeps= 3.0513783718287337e-05\n"
     ]
    },
    {
     "name": "stdout",
     "output_type": "stream",
     "text": [
      "iter= 38 erg= -0.434069885513208 myeps= 2.525228124449486e-05\n",
      "iter= 39 erg= -0.43407895701178667 myeps= 2.08982684650241e-05\n"
     ]
    },
    {
     "name": "stdout",
     "output_type": "stream",
     "text": [
      "iter= 40 erg= -0.43408646460614353 myeps= 1.729515884276886e-05\n",
      "iter= 41 erg= -0.4340926779492775 myeps= 1.4313402297628368e-05\n"
     ]
    },
    {
     "name": "stdout",
     "output_type": "stream",
     "text": [
      "iter= 42 erg= -0.4340978201905307 myeps= 1.1845812197343312e-05\n",
      "iter= 43 erg= -0.43410207599766415 myeps= 9.803701407424543e-06\n"
     ]
    },
    {
     "name": "stdout",
     "output_type": "stream",
     "text": [
      "iter= 44 erg= -0.4341055981945805 myeps= 8.113686925482528e-06\n",
      "iter= 45 erg= -0.43410851325371014 myeps= 6.715047138304284e-06\n"
     ]
    },
    {
     "name": "stdout",
     "output_type": "stream",
     "text": [
      "iter= 46 erg= -0.43411092584077954 myeps= 5.557535933304656e-06\n",
      "iter= 47 erg= -0.4341129225755269 myeps= 4.5995745427982914e-06\n"
     ]
    },
    {
     "name": "stdout",
     "output_type": "stream",
     "text": [
      "iter= 48 erg= -0.43411457514368107 myeps= 3.8067557478495853e-06\n",
      "iter= 49 erg= -0.43411594287215505 myeps= 3.150606413873383e-06\n",
      "iter= 50 erg= -0.4341170748600758 myeps= 2.607563687969726e-06\n"
     ]
    },
    {
     "name": "stdout",
     "output_type": "stream",
     "text": [
      "iter= 51 erg= -0.4341180117422817 myeps= 2.158127929698868e-06\n",
      "iter= 52 erg= -0.4341187871486943 myeps= 1.7861618421804902e-06\n",
      "iter= 53 erg= -0.4341194289120248 myeps= 1.478310547265082e-06\n"
     ]
    },
    {
     "name": "stdout",
     "output_type": "stream",
     "text": [
      "iter= 54 erg= -0.4341199600672291 myeps= 1.2235217292978426e-06\n",
      "iter= 55 erg= -0.4341203996786241 myeps= 1.012648554028702e-06\n"
     ]
    },
    {
     "name": "stdout",
     "output_type": "stream",
     "text": [
      "iter= 56 erg= -0.43412076352439366 myeps= 8.381210947268386e-07\n",
      "iter= 57 erg= -0.4341210646630742 myeps= 6.936744264669387e-07\n"
     ]
    },
    {
     "name": "stdout",
     "output_type": "stream",
     "text": [
      "iter= 58 erg= -0.43412131390237374 myeps= 5.741236183312693e-07\n",
      "iter= 59 erg= -0.43412152018716577 myeps= 4.75177530791271e-07\n"
     ]
    },
    {
     "name": "stdout",
     "output_type": "stream",
     "text": [
      "iter= 60 erg= -0.43412169092059416 myeps= 3.9328472169422255e-07\n",
      "iter= 61 erg= -0.43412183222982187 myeps= 3.2550592303140516e-07\n"
     ]
    },
    {
     "name": "stdout",
     "output_type": "stream",
     "text": [
      "iter= 62 erg= -0.43412194918596947 myeps= 2.6940851025684355e-07\n",
      "iter= 63 erg= -0.43412204598613835 myeps= 2.2297915937601343e-07\n"
     ]
    },
    {
     "name": "stdout",
     "output_type": "stream",
     "text": [
      "iter= 64 erg= -0.43412212610405826 myeps= 1.8455156991990885e-07\n",
      "iter= 65 erg= -0.43412219241476757 myeps= 1.5274664707545314e-07\n"
     ]
    },
    {
     "name": "stdout",
     "output_type": "stream",
     "text": [
      "iter= 66 erg= -0.4341222472978008 myeps= 1.2642299161312937e-07\n",
      "iter= 67 erg= -0.4341222927225912 myeps= 1.0463593124585968e-07\n"
     ]
    },
    {
     "name": "stdout",
     "output_type": "stream",
     "text": [
      "iter= 68 erg= -0.43412233031915237 myeps= 8.660361048457761e-08\n",
      "iter= 69 erg= -0.4341223614365778 myeps= 7.16789278285526e-08\n"
     ]
    },
    {
     "name": "stdout",
     "output_type": "stream",
     "text": [
      "iter= 70 erg= -0.43412238719145646 myeps= 5.9326308511289724e-08\n",
      "iter= 71 erg= -0.4341224085079444 myeps= 4.910248249319024e-08\n"
     ]
    },
    {
     "name": "stdout",
     "output_type": "stream",
     "text": [
      "iter= 72 erg= -0.4341224261509296 myeps= 4.064057537950126e-08\n",
      "iter= 73 erg= -0.43412244075348105 myeps= 3.3636942196453457e-08\n"
     ]
    },
    {
     "name": "stdout",
     "output_type": "stream",
     "text": [
      "iter= 74 erg= -0.4341224528395664 myeps= 2.7840267822341936e-08\n",
      "iter= 75 erg= -0.43412246284285466 myeps= 2.304254930229631e-08\n"
     ]
    },
    {
     "name": "stdout",
     "output_type": "stream",
     "text": [
      "iter= 76 erg= -0.43412247112227875 myeps= 1.9071632181026577e-08\n",
      "iter= 77 erg= -0.4341224779749146 myeps= 1.578502886931811e-08\n"
     ]
    },
    {
     "name": "stdout",
     "output_type": "stream",
     "text": [
      "iter= 78 erg= -0.43412248364664213 myeps= 1.306480946214148e-08\n",
      "iter= 79 erg= -0.434122488340968 myeps= 1.0813367191382213e-08\n"
     ]
    },
    {
     "name": "stdout",
     "output_type": "stream",
     "text": [
      "Energy =  -0.4341224922263279\n"
     ]
    }
   ],
   "source": [
    "## Coupled clusters in CCD approximation\n",
    "## Implemented for the pairing model of Lecture Notes in Physics 936, Chapter 8.\n",
    "## Thomas Papenbrock, June 2018\n",
    "\n",
    "import numpy as np\n",
    "\n",
    "\n",
    "def init_pairing_v(g,pnum,hnum):\n",
    "    \"\"\"\n",
    "    returns potential matrices of the pairing model in three relevant channels\n",
    "    \n",
    "    param g: strength of the pairing interaction, as in Eq. (8.42)\n",
    "    param pnum: number of particle states\n",
    "    param hnum: number of hole states\n",
    "    \n",
    "    return v_pppp, v_pphh, v_hhhh: np.array(pnum,pnum,pnum,pnum), \n",
    "                                   np.array(pnum,pnum,hnum,hnum), \n",
    "                                   np.array(hnum,hnum,hnum,hnum), \n",
    "                                   The interaction as a 4-indexed tensor in three channels.\n",
    "    \"\"\"\n",
    "    v_pppp=np.zeros((pnum,pnum,pnum,pnum))\n",
    "    v_pphh=np.zeros((pnum,pnum,hnum,hnum))\n",
    "    v_hhhh=np.zeros((hnum,hnum,hnum,hnum))\n",
    "    \n",
    "    gval=-0.5*g\n",
    "    for a in range(0,pnum,2):\n",
    "        for b in range(0,pnum,2):\n",
    "            v_pppp[a,a+1,b,b+1]=gval\n",
    "            v_pppp[a+1,a,b,b+1]=-gval\n",
    "            v_pppp[a,a+1,b+1,b]=-gval\n",
    "            v_pppp[a+1,a,b+1,b]=gval\n",
    "            \n",
    "    for a in range(0,pnum,2):\n",
    "        for i in range(0,hnum,2):\n",
    "            v_pphh[a,a+1,i,i+1]=gval\n",
    "            v_pphh[a+1,a,i,i+1]=-gval\n",
    "            v_pphh[a,a+1,i+1,i]=-gval\n",
    "            v_pphh[a+1,a,i+1,i]=gval\n",
    "    \n",
    "    for j in range(0,hnum,2):\n",
    "        for i in range(0,hnum,2):\n",
    "            v_hhhh[j,j+1,i,i+1]=gval\n",
    "            v_hhhh[j+1,j,i,i+1]=-gval\n",
    "            v_hhhh[j,j+1,i+1,i]=-gval\n",
    "            v_hhhh[j+1,j,i+1,i]=gval\n",
    "        \n",
    "    return v_pppp, v_pphh, v_hhhh\n",
    "    \n",
    "    \n",
    "def init_pairing_fock(delta,g,pnum,hnum):\n",
    "    \"\"\"\n",
    "    initializes the Fock matrix of the pairing model\n",
    "    \n",
    "    param delta: Single-particle spacing, as in Eq. (8.41)\n",
    "    param g: pairing strength, as in eq. (8.42)\n",
    "    param pnum: number of particle states\n",
    "    param hnum: number of hole states\n",
    "    \n",
    "    return f_pp, f_hh: The Fock matrix in two channels as numpy arrays np.array(pnum,pnum), np.array(hnum,hnum). \n",
    "    \"\"\"\n",
    "# the Fock matrix for the pairing model. No f_ph needed, because we are in Hartree-Fock basis \n",
    "    deltaval=0.5*delta\n",
    "    gval=-0.5*g\n",
    "    f_pp = np.zeros((pnum,pnum))\n",
    "    f_hh = np.zeros((hnum,hnum))\n",
    "\n",
    "    for i in range(0,hnum,2):\n",
    "        f_hh[i  ,i  ] = deltaval*i+gval\n",
    "        f_hh[i+1,i+1] = deltaval*i+gval\n",
    "        \n",
    "    for a in range(0,pnum,2):\n",
    "        f_pp[a  ,a  ] = deltaval*(hnum+a)\n",
    "        f_pp[a+1,a+1] = deltaval*(hnum+a)\n",
    "    \n",
    "    return f_pp, f_hh\n",
    "\n",
    "\n",
    "def init_t2(v_pphh,f_pp,f_hh):\n",
    "    \"\"\"\n",
    "    Initializes t2 amlitudes as in MBPT2, see first equation on page 345\n",
    "    \n",
    "    param v_pphh: pairing tensor in pphh channel\n",
    "    param f_pp:   Fock matrix in pp channel\n",
    "    param f_hh:   Fock matrix in hh channel\n",
    "    \n",
    "    return t2: numpy array in pphh format, 4-indices tensor\n",
    "    \"\"\"\n",
    "    pnum = len(f_pp)\n",
    "    hnum = len(f_hh)\n",
    "    t2_new = np.zeros((pnum,pnum,hnum,hnum))\n",
    "    for i in range(hnum):\n",
    "        for j in range(hnum):\n",
    "            for a in range(pnum):\n",
    "                for b in range(pnum):\n",
    "                    t2_new[a,b,i,j] = v_pphh[a,b,i,j] / (f_hh[i,i]+f_hh[j,j]-f_pp[a,a]-f_pp[b,b])\n",
    "    return t2_new\n",
    "\n",
    "\n",
    "# CCD equations. Note that the \"->abij\" assignment is redundant, because indices are ordered alphabetically.\n",
    "# Nevertheless, we retain it for transparency.\n",
    "def ccd_iter(v_pppp,v_pphh,v_hhhh,f_pp,f_hh,t2):\n",
    "    \"\"\"\n",
    "    Performs one iteration of the CCD equations (8.34), using also intermediates for the nonliniar terms\n",
    "    \n",
    "    param v_pppp: pppp-channel pairing tensor, numpy array\n",
    "    param v_pphh: pphh-channel pairing tensor, numpy array\n",
    "    param v_hhhh: hhhh-channel pairing tensor, numpy array\n",
    "    param f_pp: Fock matrix in pp channel\n",
    "    param f_hh: Fock matrix in hh channel\n",
    "    param t2: Initial t2 amplitude, tensor in form of pphh channel\n",
    "    \n",
    "    return t2_new: new t2 amplitude, tensor in form of pphh channel\n",
    "    \"\"\"\n",
    "    pnum = len(f_pp)\n",
    "    hnum = len(f_hh)\n",
    "    Hbar_pphh = (  v_pphh \n",
    "                 + np.einsum('bc,acij->abij',f_pp,t2) \n",
    "                 - np.einsum('ac,bcij->abij',f_pp,t2) \n",
    "                 - np.einsum('abik,kj->abij',t2,f_hh)\n",
    "                 + np.einsum('abjk,ki->abij',t2,f_hh)\n",
    "                 + 0.5*np.einsum('abcd,cdij->abij',v_pppp,t2) \n",
    "                 + 0.5*np.einsum('abkl,klij->abij',t2,v_hhhh)\n",
    "                )\n",
    "\n",
    "    # hh intermediate, see (8.47)\n",
    "    chi_hh = 0.5* np.einsum('cdkl,cdjl->kj',v_pphh,t2)\n",
    "\n",
    "    Hbar_pphh = Hbar_pphh - (  np.einsum('abik,kj->abij',t2,chi_hh) \n",
    "                             - np.einsum('abik,kj->abji',t2,chi_hh) )\n",
    "\n",
    "    # pp intermediate, see (8.46)\n",
    "    chi_pp = -0.5* np.einsum('cdkl,bdkl->cb',v_pphh,t2)\n",
    "\n",
    "    Hbar_pphh = Hbar_pphh + (  np.einsum('acij,cb->abij',t2,chi_pp) \n",
    "                             - np.einsum('acij,cb->baij',t2,chi_pp) )\n",
    "\n",
    "    # hhhh intermediate, see (8.48)\n",
    "    chi_hhhh = 0.5 * np.einsum('cdkl,cdij->klij',v_pphh,t2)\n",
    "\n",
    "    Hbar_pphh = Hbar_pphh + 0.5 * np.einsum('abkl,klij->abij',t2,chi_hhhh)\n",
    "\n",
    "    # phph intermediate, see (8.49)\n",
    "    chi_phph= + 0.5 * np.einsum('cdkl,dblj->bkcj',v_pphh,t2)\n",
    "\n",
    "\n",
    "    Hbar_pphh = Hbar_pphh + (  np.einsum('bkcj,acik->abij',chi_phph,t2)\n",
    "                             - np.einsum('bkcj,acik->baij',chi_phph,t2)\n",
    "                             - np.einsum('bkcj,acik->abji',chi_phph,t2)\n",
    "                             + np.einsum('bkcj,acik->baji',chi_phph,t2) )\n",
    "                 \n",
    "    t2_new=np.zeros((pnum,pnum,hnum,hnum))\n",
    "    for i in range(hnum):\n",
    "        for j in range(hnum):\n",
    "            for a in range(pnum):\n",
    "                for b in range(pnum):\n",
    "                    t2_new[a,b,i,j] = (  t2[a,b,i,j] \n",
    "                                       + Hbar_pphh[a,b,i,j] / (f_hh[i,i]+f_hh[j,j]-f_pp[a,a]-f_pp[b,b]) )\n",
    "\n",
    "    return t2_new\n",
    "\n",
    "\n",
    "def ccd_energy(v_pphh,t2):\n",
    "    \"\"\"\n",
    "    Computes CCD energy. Call as \n",
    "    energy = ccd_energy(v_pphh,t2)\n",
    "    \n",
    "    param v_pphh: pphh-channel pairing tensor, numpy array\n",
    "    param t2: t2 amplitude, tensor in form of pphh channel\n",
    "    \n",
    "    return energy: CCD correlation energy\n",
    "    \"\"\"\n",
    "    erg = 0.25*np.einsum('abij,abij',v_pphh,t2)\n",
    "    return erg\n",
    "\n",
    "###############################\n",
    "######## Main Program\n",
    "\n",
    "# set parameters as for model\n",
    "pnum = 20 # number of particle states\n",
    "hnum = 10 # number of hole states\n",
    "delta = 1.0\n",
    "\n",
    "g = 0.5\n",
    "\n",
    "print(\"parameters\")\n",
    "print(\"delta =\", delta, \", g =\", g)\n",
    "\n",
    "\n",
    "# Initialize pairing matrix elements and Fock matrix\n",
    "v_pppp, v_pphh, v_hhhh = init_pairing_v(g,pnum,hnum)\n",
    "f_pp, f_hh = init_pairing_fock(delta,g,pnum,hnum)\n",
    "\n",
    "# Initialize T2 amplitudes from MBPT2\n",
    "t2 = init_t2(v_pphh,f_pp,f_hh)\n",
    "erg = ccd_energy(v_pphh,t2)\n",
    "\n",
    "# Exact MBPT2 for comparison, see last equation on page 365 \n",
    "exact_mbpt2 = -0.25*g**2*(1.0/(2.0+g) + 2.0/(4.0+g) + 1.0/(6.0+g))\n",
    "print(\"MBPT2 energy =\", erg, \", compared to exact:\", exact_mbpt2)\n",
    "    \n",
    "    \n",
    "# iterate CCD equations niter times\n",
    "niter=200\n",
    "mix=0.3\n",
    "erg_old=0.0\n",
    "eps=1.e-8\n",
    "for iter in range(niter):\n",
    "    t2_new = ccd_iter(v_pppp,v_pphh,v_hhhh,f_pp,f_hh,t2)\n",
    "    erg = ccd_energy(v_pphh,t2_new)\n",
    "    myeps = abs(erg-erg_old)/abs(erg)\n",
    "    if myeps < eps: break\n",
    "    erg_old=erg\n",
    "    print(\"iter=\", iter, \"erg=\", erg, \"myeps=\", myeps)\n",
    "    t2 = mix*t2_new + (1.0-mix)*t2 \n",
    "    \n",
    "print(\"Energy = \", erg)"
   ]
  },
  {
   "cell_type": "markdown",
   "id": "b6ae2d3a",
   "metadata": {
    "editable": true
   },
   "source": [
    "<!-- --- end answer of exercise --- -->"
   ]
  },
  {
   "cell_type": "markdown",
   "id": "ddde0eb7",
   "metadata": {
    "editable": true
   },
   "source": [
    "# Nucleonic Matter\n",
    "\n",
    "We want to compute nucleonic matter using coupled cluster or IMSRG\n",
    "methods, and start with considering the relevant symmetries."
   ]
  },
  {
   "cell_type": "markdown",
   "id": "e2f95c4b",
   "metadata": {
    "editable": true
   },
   "source": [
    "## Exercise 16: Which symmetries are relevant for nuclear matter?\n",
    "<div id=\"ex-17\"></div>"
   ]
  },
  {
   "cell_type": "markdown",
   "id": "a6087b45",
   "metadata": {
    "editable": true
   },
   "source": [
    "**a)**\n",
    "Enumerate continuous and discrete symmetries of nuclear matter.\n",
    "\n",
    "<!-- --- begin answer of exercise --- -->\n",
    "**Answer.**\n",
    "The symmetries are the same as for nuclei.  Continuous symmetries:\n",
    "translational and rotational invariance. Discrete symmetries: Parity\n",
    "and time reversal invariance.\n",
    "<!-- --- end answer of exercise --- -->"
   ]
  },
  {
   "cell_type": "markdown",
   "id": "80e94532",
   "metadata": {
    "editable": true
   },
   "source": [
    "**b)**\n",
    "What basis should we use to implement these symmetries? Why do we have to make a choice between the two continuous symmetries? Which basis is most convenient and why?\n",
    "\n",
    "<!-- --- begin answer of exercise --- -->\n",
    "**Answer.**\n",
    "Angular momentum and momentum do not commute. Thus, there is no basis\n",
    "that respects both symmetries simultaneously. If we choose the\n",
    "spherical basis, we are computing a spherical blob of nuclear matter\n",
    "and have to contend with surface effects, i.e. with finite size\n",
    "effects. We also need a partial-wave decomposition of the nuclear\n",
    "interaction. This approach has been done followed in\n",
    "[\"Coupled-cluster studies of infinite nuclear matter, \" G. Baardsen,\n",
    "A. Ekström, G. Hagen, M. Hjorth-Jensen, arXiv:1306.5681, Phys. Rev. C\n",
    "88, 054312 (2013)]. If we choose a basis of discrete momentum states,\n",
    "translational invariance can be respected. This also facilitates the\n",
    "implementetation of modern nuclear interactions (which are often\n",
    "formulated in momentum space in effective field theories). However, we\n",
    "have to think about the finite size effects imposed by periodic\n",
    "boundary conditions (or generalized Bloch waves). This approch was\n",
    "implemented in [\"Coupled-cluster calculations of nucleonic matter,\"\n",
    "G. Hagen, T. Papenbrock, A. Ekström, K. A. Wendt, G. Baardsen,\n",
    "S. Gandolfi, M. Hjorth-Jensen, C. J. Horowitz, arXiv:1311.2925,\n",
    "Phys. Rev. C 89, 014319 (2014)].\n",
    "<!-- --- end answer of exercise --- -->\n",
    "\n",
    "===== ====="
   ]
  },
  {
   "cell_type": "markdown",
   "id": "35189756",
   "metadata": {
    "editable": true
   },
   "source": [
    "## Basis states\n",
    "\n",
    "In what follows, we employ a basis made from discrete momentum states,\n",
    "i.e. those states $\\vert k_x, k_y, k_z\\rangle$ in a cubic box of size $L$ that\n",
    "exhibit periodic boundary conditions, i.e. $\\psi_k(x+L) =\\psi_k(x)$."
   ]
  },
  {
   "cell_type": "markdown",
   "id": "18b69216",
   "metadata": {
    "editable": true
   },
   "source": [
    "## Exercise 17: Determine the basis states\n",
    "<div id=\"ex-18\"></div>\n",
    "\n",
    "What are the discrete values of momenta admissable in $(k_x, k_y, k_z)$?\n",
    "\n",
    "<!-- --- begin answer of exercise --- -->\n",
    "**Answer.**\n",
    "In 1D position space $\\psi_k(x) \\propto e^{i k x}$ with $k =\n",
    "{2\\pi n\\over L}$ and $n=0, \\pm 1, \\pm 2, \\ldots$ fulfill $\\psi_k(x+L)\n",
    "= \\psi_k(x)$.\n",
    "\n",
    "<!-- --- end answer of exercise --- -->\n",
    "\n",
    "===== =====\n",
    "\n",
    "Thus, we use a cubic lattice in momentum space.  Note that the\n",
    "momentum states $e^{i k x}$ are not invariant under time reversal\n",
    "(i.e. under $k\\to -k$), and also do not exhibit good parity ($x\\to\n",
    "-x$). The former implies that the Hamiltonian matrix will in general\n",
    "be complex Hermitian and that the cluster amplitudes will in general\n",
    "be complex."
   ]
  },
  {
   "cell_type": "markdown",
   "id": "440b1cfe",
   "metadata": {
    "editable": true
   },
   "source": [
    "## Exercise 18: How large should the basis be?\n",
    "<div id=\"ex-19\"></div>\n",
    "\n",
    "What values should be chosen for the box size $L$ and for the maximum number $n_{\\rm max}$ , i.e.\n",
    "for the discrete momenta $k = {2\\pi n\\over L}$ and $n=0, \\pm 1,\\\n",
    " \\pm 2, \\ldots, \\pm n_{\\rm max}$?\n",
    "\n",
    "<!-- --- begin answer of exercise --- -->\n",
    "**Answer.**\n",
    "Usually $n_{\\rm max}$ is fixed by computational cost, because we have\n",
    "$(2n_{\\rm max}+1)^3$ basis states. We have used $n_{\\rm max}=4$ or up\n",
    "to $n_{\\rm max}=6$ in actual calculations to get converged results.\n",
    "\n",
    "The maximum momentum must fulfill $k_{n_{\\rm max}}> \\Lambda$, where\n",
    "$\\Lambda$ is the momemtum cutoff of the interaction. This then fixes\n",
    "$L$ for a given $n_{\\rm max}$.\n",
    "\n",
    "<!-- --- end answer of exercise --- -->\n",
    "\n",
    "===== =====\n",
    "\n",
    "Coupled cluster and IMSRG start from a Hartree-Fock reference state,\n",
    "and we need to think about this next. What are the magic numbers of a\n",
    "cubic lattice for neutron matter?"
   ]
  },
  {
   "cell_type": "markdown",
   "id": "cc407cd4",
   "metadata": {
    "editable": true
   },
   "source": [
    "## Exercise 19: Determine the lowest few magic numbers for a cubic lattice.\n",
    "<div id=\"ex-20\"></div>\n",
    "\n",
    "<!-- --- begin answer of exercise --- -->\n",
    "**Answer.**\n",
    "As the spin-degeneracy is $g_s=2$, we have the magic numbers $g_s N$\n",
    "with $N=1, 7, 19, 27, 33, 57, 66, \\ldots$ for neutrons.\n",
    "\n",
    "<!-- --- end answer of exercise --- -->\n",
    "\n",
    "===== =====\n",
    "\n",
    "Given $n_{\\rm max}$ and $L$ for the basis parameters, we can choose a\n",
    "magic neutron number $N$. Clearly, the density of the system is then\n",
    "$\\rho=N/L^3$. This summarizes the requirements for the basis. We\n",
    "choose $n_{\\rm max}$ as large as possible, i.e. as large as\n",
    "computationally feasible. Then $L$ and $N$ are constrained by the UV\n",
    "cutoff and density of the system."
   ]
  },
  {
   "cell_type": "markdown",
   "id": "d60fa994",
   "metadata": {
    "editable": true
   },
   "source": [
    "## Finite size effects\n",
    "We could also have considered the case of a more generalized boundary\n",
    "condition, i.e.  $\\psi_k(x+L) =e^{i\\theta}\\psi_k(x)$.  Admissable\n",
    "momenta that fulfill such a boundary condition are $k_n(\\theta) = {2\\pi n\n",
    "+\\theta \\over L}$. Avering over the \"twist\" angle $\\theta$ removes\n",
    "finite size effects, because the discrete momenta are really drawn\n",
    "form a continuum.  In three dimensions, there are three possible twist\n",
    "angles, and averaging over twist angles implies summing over many\n",
    "results corresponding to different angles. Thus, the removal of\n",
    "finite-size effects significantly increases the numerical expense.\n",
    "An example\n",
    "is shown in [Figure 14](#fig-finite), where we compute the kinetic\n",
    "energy per particle"
   ]
  },
  {
   "cell_type": "markdown",
   "id": "d2e4dabd",
   "metadata": {
    "editable": true
   },
   "source": [
    "<!-- Equation labels as ordinary links -->\n",
    "<div id=\"_auto26\"></div>\n",
    "\n",
    "$$\n",
    "\\begin{equation}\n",
    "T_N(\\theta_x,\\theta_y,\\theta_z)=g_s\\sum_{n_x, n_y, n_z \\in N} {\\hbar^2 \\left( k_{n_x}^2(\\theta_x) +k_{n_y}^2(\\theta_y) +k_{n_z}^2(\\theta_z)\\right)\\over 2m}\n",
    "\\label{_auto26} \\tag{39}\n",
    "\\end{equation}\n",
    "$$"
   ]
  },
  {
   "cell_type": "markdown",
   "id": "8e51db61",
   "metadata": {
    "editable": true
   },
   "source": [
    "and compare with the infinite result $T_{\\rm inf} = {3\\over 10} \n",
    "{\\hbar^2 k_F^2\\over m} N$ valid for the free Fermi gas. We clearly see\n",
    "strong shell effects (blue dashed line) and that averaging over the twist angles\n",
    "(red full line) very much reduces the shell oscillations. We also note that\n",
    "the neutron number 66 is quite attractive as it exhibits smaller\n",
    "finite size effects than other of the accessible magic numbers.\n",
    "\n",
    "<!-- dom:FIGURE: [figslides/fig-finite.png, width=600 frac=0.8] Relative finite-size corrections for the kinetic energy in pure neutron matter at the Fermi momentum $k_F = 1.6795 {\\rm fm}^{-1}$ versus the neutron number A. TABC10 are twist-averaged boundary conditions with 10 Gauss-Legendre points in each spatial direction. <div id=\"fig-finite\"></div> -->\n",
    "<!-- begin figure -->\n",
    "<div id=\"fig-finite\"></div>\n",
    "\n",
    "<img src=\"figslides/fig-finite.png\" width=\"600\"><p style=\"font-size: 0.9em\"><i>Figure 14: Relative finite-size corrections for the kinetic energy in pure neutron matter at the Fermi momentum $k_F = 1.6795 {\\rm fm}^{-1}$ versus the neutron number A. TABC10 are twist-averaged boundary conditions with 10 Gauss-Legendre points in each spatial direction.</i></p>\n",
    "<!-- end figure -->"
   ]
  },
  {
   "cell_type": "markdown",
   "id": "8bade9bb",
   "metadata": {
    "editable": true
   },
   "source": [
    "## Channel structure of Hamiltonian and cluster amplitudes\n",
    "\n",
    "Good quantum numbers for the nuclear interaction (i.e. operators that\n",
    "commute with the Hamiltonian and with each other) are total momentum,\n",
    "and the number of neutrons and protons, and - for simple interactions\n",
    "%s\n",
    "  :   \n",
    "  also the spin (this is really spin, not orbital anular momentum or\n",
    "\n",
    "total angular momentum, as the latter two do not commute with\n",
    "momentum). Thus the Hamiltonian (and the cluster amplitudes) will\n",
    "consist of blocks, one for each set of quantum numbers. We call the\n",
    "set of quantum numbers that label each such block as a \"channel.\"\n",
    "As the interaction is block diagonal, a numerically efficient\n",
    "implementation of nuclear matter has to take advantage of this channel\n",
    "structure. In fact, neutron matter cannot be computed in a numerically\n",
    "converged way (i.e. for large enough $n_{\\rm max}$) if one does not\n",
    "exploit the channel structure.\n",
    "\n",
    "The Hamiltonian is of the structure"
   ]
  },
  {
   "cell_type": "markdown",
   "id": "007308bd",
   "metadata": {
    "editable": true
   },
   "source": [
    "<!-- Equation labels as ordinary links -->\n",
    "<div id=\"HQ\"></div>\n",
    "\n",
    "$$\n",
    "\\begin{equation}\n",
    "\\label{HQ} \\tag{40}\n",
    "H = \\sum_{\\vec{k}, \\sigma} \\varepsilon_{\\vec{k}, \\sigma}^{\\vec{k}, \\sigma} a^\\dagger_{\\vec{k}, \\sigma}a_{\\vec{k}, \\sigma}\n",
    "+ \\sum_{\\vec{Q},\\vec{p},\\vec{k},\\sigma_s} V_{\\sigma_1\\sigma_2}^{\\sigma_3\\sigma_4}(\\vec{p},\\vec{k}) a^\\dagger_{\\vec{Q/2}+\\vec{p}, \\sigma_3}a^\\dagger_{\\vec{Q/2}-\\vec{p}, \\sigma_4} a_{\\vec{Q/2}-\\vec{k}, \\sigma_2}a_{\\vec{Q/2}+\\vec{k}, \\sigma_1}\n",
    "\\end{equation}\n",
    "$$"
   ]
  },
  {
   "cell_type": "markdown",
   "id": "c3847e35",
   "metadata": {
    "editable": true
   },
   "source": [
    "with $\\varepsilon_{\\vec{k}, \\sigma}^{\\vec{k}, \\sigma} = {k^2\\over\n",
    "2m}$.  In Eq. ([40](#HQ)) we expressed the single-particle momenta in\n",
    "terms of center-of-mass momentum $\\vec{Q}$ and relative momenta\n",
    "$(\\vec{k},\\vec{p})$, i.e. the incoming momenta $(\\vec{k}_1,\n",
    "\\vec{k}_2)$ and outgoing momenta $(\\vec{k}_3, \\vec{k}_3)$ are"
   ]
  },
  {
   "cell_type": "markdown",
   "id": "9858f9bc",
   "metadata": {
    "editable": true
   },
   "source": [
    "<!-- Equation labels as ordinary links -->\n",
    "<div id=\"CoM\"></div>\n",
    "\n",
    "$$\n",
    "\\begin{equation}\n",
    "\\label{CoM} \\tag{41}\n",
    "\\vec{k}_1 = \\vec{Q}/2 +\\vec{k} ,\n",
    "\\end{equation}\n",
    "$$"
   ]
  },
  {
   "cell_type": "markdown",
   "id": "7441d860",
   "metadata": {
    "editable": true
   },
   "source": [
    "<!-- Equation labels as ordinary links -->\n",
    "<div id=\"_auto27\"></div>\n",
    "\n",
    "$$\n",
    "\\begin{equation} \n",
    "\\vec{k}_2 = \\vec{Q}/2 -\\vec{k} ,\n",
    "\\label{_auto27} \\tag{42}\n",
    "\\end{equation}\n",
    "$$"
   ]
  },
  {
   "cell_type": "markdown",
   "id": "0fed308e",
   "metadata": {
    "editable": true
   },
   "source": [
    "<!-- Equation labels as ordinary links -->\n",
    "<div id=\"_auto28\"></div>\n",
    "\n",
    "$$\n",
    "\\begin{equation} \n",
    "\\vec{k}_3 = \\vec{Q}/2 +\\vec{p} ,\n",
    "\\label{_auto28} \\tag{43}\n",
    "\\end{equation}\n",
    "$$"
   ]
  },
  {
   "cell_type": "markdown",
   "id": "d94a2279",
   "metadata": {
    "editable": true
   },
   "source": [
    "<!-- Equation labels as ordinary links -->\n",
    "<div id=\"_auto29\"></div>\n",
    "\n",
    "$$\n",
    "\\begin{equation} \n",
    "\\vec{k}_4 = \\vec{Q}/2 -\\vec{p} .\n",
    "\\label{_auto29} \\tag{44}\n",
    "\\end{equation}\n",
    "$$"
   ]
  },
  {
   "cell_type": "markdown",
   "id": "b4dbf378",
   "metadata": {
    "editable": true
   },
   "source": [
    "The conservation of momentum is obvious in the two-body interaction as\n",
    "both the annihilation operators and the creation operators depend on\n",
    "the same center-of-mass momentum $\\vec{Q}$. We note that the two-body\n",
    "interaction $V$ depends only on the relative momenta\n",
    "$(\\vec{k},\\vec{p})$ but not on the center-of-mass momentum. We also\n",
    "note that a local interaction (i.e. an interaction that is\n",
    "multiplicative in position space) depends only on the momentum\n",
    "transfer $\\vec{k}-\\vec{p}$. The spin projections $\\pm 1/2$ are denoted\n",
    "as $\\sigma$.\n",
    "\n",
    "Thus, the $T_2$ operator is"
   ]
  },
  {
   "cell_type": "markdown",
   "id": "82affd25",
   "metadata": {
    "editable": true
   },
   "source": [
    "<!-- Equation labels as ordinary links -->\n",
    "<div id=\"t2Q\"></div>\n",
    "\n",
    "$$\n",
    "\\begin{equation}\n",
    "\\label{t2Q} \\tag{45}\n",
    "T_2 = {1\\over 4} \\sum_{\\vec{Q},\\vec{p},\\vec{k},\\sigma_s} t_{\\sigma_1\\sigma_2}^{\\sigma_3\\sigma_4}(Q; \\vec{p},\\vec{k}) a^\\dagger_{\\vec{Q/2}+\\vec{p}, \\sigma_3}a^\\dagger_{\\vec{Q/2}-\\vec{p}, \\sigma_4} a_{\\vec{Q/2}-\\vec{k}, \\sigma_2}a_{\\vec{Q/2}+\\vec{k}, \\sigma_1} . \n",
    "\\end{equation}\n",
    "$$"
   ]
  },
  {
   "cell_type": "markdown",
   "id": "3e71c240",
   "metadata": {
    "editable": true
   },
   "source": [
    "We note that the amplitude $t_{\\sigma_1\\sigma_2}^{\\sigma_3\\sigma_4}(Q;\n",
    "\\vec{p},\\vec{k})$ depends on the center-of-mass momentum $\\vec{Q}$, in\n",
    "contrast to the potential matrix element\n",
    "$V_{\\sigma_1\\sigma_2}^{\\sigma_3\\sigma_4}(\\vec{p},\\vec{k})$.\n",
    "\n",
    "In the expressions ([40](#HQ)) and ([45](#t2Q)) we supressed that\n",
    "$\\sigma_1+\\sigma_2 = \\sigma_3+\\sigma_4$. So, a channel is defined by\n",
    "$\\vec{Q}$ and total spin projection $\\sigma_1+\\sigma_2$.\n",
    "\n",
    "Because of this channel structure, the simple solution we implemented\n",
    "for the pairing problem cannot be really re-used when computing\n",
    "neutron matter.  Let us take a look at the Minnesota potential"
   ]
  },
  {
   "cell_type": "markdown",
   "id": "49475cca",
   "metadata": {
    "editable": true
   },
   "source": [
    "<!-- Equation labels as ordinary links -->\n",
    "<div id=\"_auto30\"></div>\n",
    "\n",
    "$$\n",
    "\\begin{equation}\n",
    "V(r) = \\left( V_R(r)  + {1\\over 2}(1+P_{12}^\\sigma)V_T(r) + {1\\over 2}(1-P_{12}^\\sigma)V_S(r)\\right) {1\\over 2}(1-P_{12}^\\sigma P_{12}^\\tau). \n",
    "\\label{_auto30} \\tag{46}\n",
    "\\end{equation}\n",
    "$$"
   ]
  },
  {
   "cell_type": "markdown",
   "id": "fc17368f",
   "metadata": {
    "editable": true
   },
   "source": [
    "Here,"
   ]
  },
  {
   "cell_type": "markdown",
   "id": "051d1ee3",
   "metadata": {
    "editable": true
   },
   "source": [
    "$$\n",
    "P^\\sigma_{12}= {1\\over 2}(1+\\vec{\\sigma}_1\\cdot\\vec{\\sigma}_2) , \\nonumber\n",
    "$$"
   ]
  },
  {
   "cell_type": "markdown",
   "id": "d2ba27b3",
   "metadata": {
    "editable": true
   },
   "source": [
    "<!-- Equation labels as ordinary links -->\n",
    "<div id=\"_auto31\"></div>\n",
    "\n",
    "$$\n",
    "\\begin{equation} \n",
    "P^\\tau_{12} = {1\\over 2}(1+\\vec{\\tau}_1\\cdot\\vec{\\tau}_2) \n",
    "\\label{_auto31} \\tag{47}\n",
    "\\end{equation}\n",
    "$$"
   ]
  },
  {
   "cell_type": "markdown",
   "id": "0449efdc",
   "metadata": {
    "editable": true
   },
   "source": [
    "are spin and isospin exchange operators, respectively, and\n",
    "$\\vec{\\sigma}$ and $\\vec{\\tau}$ are vectors of Pauli matrices in spin\n",
    "and isospin space, respectively. Thus,"
   ]
  },
  {
   "cell_type": "markdown",
   "id": "d3e5c205",
   "metadata": {
    "editable": true
   },
   "source": [
    "<!-- Equation labels as ordinary links -->\n",
    "<div id=\"_auto32\"></div>\n",
    "\n",
    "$$\n",
    "\\begin{equation}\n",
    "{1\\over 2}(1-P_{12}^\\sigma P_{12}^\\tau)  = \\vert\n",
    "S_{12}=0, T_{12}=1\\rangle\\langle S_{12}=0,T_{12}=1\\vert + \\vert\n",
    "S_{12}=1, T_{12}=0\\rangle\\langle S_{12}=1,T_{12}=0\\vert\n",
    "\\label{_auto32} \\tag{48}\n",
    "\\end{equation}\n",
    "$$"
   ]
  },
  {
   "cell_type": "markdown",
   "id": "5cd6cffd",
   "metadata": {
    "editable": true
   },
   "source": [
    "projects onto two-particle spin-isospin states as indicated, while"
   ]
  },
  {
   "cell_type": "markdown",
   "id": "90ea69c7",
   "metadata": {
    "editable": true
   },
   "source": [
    "<!-- Equation labels as ordinary links -->\n",
    "<div id=\"_auto33\"></div>\n",
    "\n",
    "$$\n",
    "\\begin{equation}\n",
    "{1\\over 2}(1-P_{12}^\\sigma)  = \\vert\n",
    "S_{12}=0\\rangle\\langle S_{12}=0\\vert , \n",
    "\\label{_auto33} \\tag{49}\n",
    "\\end{equation}\n",
    "$$"
   ]
  },
  {
   "cell_type": "markdown",
   "id": "dd5aee4d",
   "metadata": {
    "editable": true
   },
   "source": [
    "<!-- Equation labels as ordinary links -->\n",
    "<div id=\"_auto34\"></div>\n",
    "\n",
    "$$\n",
    "\\begin{equation}  {1\\over 2}(1+P_{12}^\\sigma)\n",
    " = \\vert S_{12}=1\\rangle\\langle S_{12}=1\\vert\n",
    "\\label{_auto34} \\tag{50}\n",
    "\\end{equation}\n",
    "$$"
   ]
  },
  {
   "cell_type": "markdown",
   "id": "6366cf3b",
   "metadata": {
    "editable": true
   },
   "source": [
    "project onto spin singlet and spin triplet combinations,\n",
    "respectively. For neutron matter, two-neutron states have isospin\n",
    "$T_{12}=1$, and the Minnesota potential has no triplet term $V_T$.\n",
    "For the spin-exchange operator (and spins $s_1, s_2=\\pm 1/2$), we have\n",
    "$P_{12}^\\sigma\\vert s_1s_2\\rangle= \\vert s_2s_1\\rangle$.  For neutron\n",
    "matter, $P_{12}^\\tau=1$, because the states are symmetric under exchange of\n",
    "isospin. Thus, the Minnesota potential simplifies significantly for\n",
    "neutron matter as $V_T$ does not contribute.\n",
    "\n",
    "We note that the spin operator has matrix elements"
   ]
  },
  {
   "cell_type": "markdown",
   "id": "3665c715",
   "metadata": {
    "editable": true
   },
   "source": [
    "<!-- Equation labels as ordinary links -->\n",
    "<div id=\"_auto35\"></div>\n",
    "\n",
    "$$\n",
    "\\begin{equation}\n",
    "\\langle s_1' s_2'\\vert {1\\over 2}(1-P_{12}^{\\sigma})\\vert s_1 s_2\\rangle\n",
    "= {1\\over 2} \\left(\n",
    " \\delta_{s_1}^{s_1'}\\delta_{s_2}^{s_2'}\n",
    "-\\delta_{s_1}^{s_2'}\\delta_{s_2}^{s_1'}\\right) . \n",
    "\\label{_auto35} \\tag{51}\n",
    "\\end{equation}\n",
    "$$"
   ]
  },
  {
   "cell_type": "markdown",
   "id": "939bf476",
   "metadata": {
    "editable": true
   },
   "source": [
    "The radial functions are"
   ]
  },
  {
   "cell_type": "markdown",
   "id": "164ca70f",
   "metadata": {
    "editable": true
   },
   "source": [
    "<!-- Equation labels as ordinary links -->\n",
    "<div id=\"_auto36\"></div>\n",
    "\n",
    "$$\n",
    "\\begin{equation}\n",
    "V_R(r) =V_R e^{-\\kappa_R r^2} , \n",
    "\\label{_auto36} \\tag{52}\n",
    "\\end{equation}\n",
    "$$"
   ]
  },
  {
   "cell_type": "markdown",
   "id": "3ad115fd",
   "metadata": {
    "editable": true
   },
   "source": [
    "<!-- Equation labels as ordinary links -->\n",
    "<div id=\"_auto37\"></div>\n",
    "\n",
    "$$\n",
    "\\begin{equation} \n",
    "V_S(r) =V_S e^{-\\kappa_S r^2} , \n",
    "\\label{_auto37} \\tag{53}\n",
    "\\end{equation}\n",
    "$$"
   ]
  },
  {
   "cell_type": "markdown",
   "id": "ba38f4d7",
   "metadata": {
    "editable": true
   },
   "source": [
    "<!-- Equation labels as ordinary links -->\n",
    "<div id=\"_auto38\"></div>\n",
    "\n",
    "$$\n",
    "\\begin{equation} \n",
    "V_T(r) =V_T e^{-\\kappa_T r^2} , \n",
    "\\label{_auto38} \\tag{54}\n",
    "\\end{equation}\n",
    "$$"
   ]
  },
  {
   "cell_type": "markdown",
   "id": "8687a3c1",
   "metadata": {
    "editable": true
   },
   "source": [
    "<!-- Equation labels as ordinary links -->\n",
    "<div id=\"_auto39\"></div>\n",
    "\n",
    "$$\n",
    "\\begin{equation} \n",
    "\\label{_auto39} \\tag{55}\n",
    "\\end{equation}\n",
    "$$"
   ]
  },
  {
   "cell_type": "markdown",
   "id": "30305f09",
   "metadata": {
    "editable": true
   },
   "source": [
    "and the parameters are as follows\n",
    "\n",
    "<table class=\"dotable\" border=\"1\">\n",
    "<thead>\n",
    "<tr><th align=\"center\">$\\alpha$</th> <th align=\"center\">$V_\\alpha$</th> <th align=\"center\">$\\kappa_\\alpha$ </th> </tr>\n",
    "</thead>\n",
    "<tbody>\n",
    "<tr><td align=\"center\">   $R$         </td> <td align=\"right\">   +200 MeV      </td> <td align=\"center\">   1.487 fm $^{-2}$    </td> </tr>\n",
    "<tr><td align=\"center\">   $S$         </td> <td align=\"right\">   -91.85 MeV    </td> <td align=\"center\">   0.465 fm $^{-2}$    </td> </tr>\n",
    "<tr><td align=\"center\">   $T$         </td> <td align=\"right\">   -178 MeV      </td> <td align=\"center\">   0.639 fm $^{-2}$    </td> </tr>\n",
    "</tbody>\n",
    "</table>\n",
    "\n",
    "Note that $\\kappa_\\alpha^{1/2}$ sets the momentum scale of the\n",
    "Minnesota potential. We see that we deal with a short-ranged repulsive\n",
    "core (the $V_R$ term) and longer ranged attractive terms in the\n",
    "singlet (the term $V_S$) and triplet (the term $V_T$) channels.\n",
    "\n",
    "A Fourier transform (in the finite cube of length $L$) yields the momentum-space form of the potential"
   ]
  },
  {
   "cell_type": "markdown",
   "id": "3b2fd7e2",
   "metadata": {
    "editable": true
   },
   "source": [
    "<!-- Equation labels as ordinary links -->\n",
    "<div id=\"_auto40\"></div>\n",
    "\n",
    "$$\n",
    "\\begin{equation}\n",
    "\\langle k_p k_q \\vert V_\\alpha\\vert k_r k_s \\rangle = {V_\\alpha\\over L^3} \\left({\\pi\\over\\kappa_\\alpha}\\right)^{3/2}\n",
    "e^{- {q^2 \\over 4\\kappa_\\alpha}} \\delta_{k_p+k_q}^{k_r+k_s} . \n",
    "\\label{_auto40} \\tag{56}\n",
    "\\end{equation}\n",
    "$$"
   ]
  },
  {
   "cell_type": "markdown",
   "id": "6d1a522f",
   "metadata": {
    "editable": true
   },
   "source": [
    "Here, $q\\equiv {1\\over 2}(k_p-k_q-k_r+k_s)$ is the momentum transfer,\n",
    "and the momentum conservation $k_p+k_q=k_r+k_s$ is explicit.\n",
    "\n",
    "As we are dealing only with neutrons, the potential matrix elements\n",
    "(including spin) are for $\\alpha = R, S$"
   ]
  },
  {
   "cell_type": "markdown",
   "id": "612fec47",
   "metadata": {
    "editable": true
   },
   "source": [
    "<!-- Equation labels as ordinary links -->\n",
    "<div id=\"ME_of_V\"></div>\n",
    "\n",
    "$$\n",
    "\\begin{equation}\n",
    "\\label{ME_of_V} \\tag{57}\n",
    "\\langle\tk_p s_p k_q s_q\\vert V_\\alpha\\vert k_r s_r k_s s_s\\rangle = \\langle\tk_p k_q \\vert V_\\alpha\\vert k_r k_s \\rangle\n",
    "{1\\over 2}\\left(\\delta_{s_p}^{s_r}\\delta_{s_q}^{s_s} - \\delta_{s_p}^{s_s}\\delta_{s_q}^{s_r}\\right) , \n",
    "\\end{equation}\n",
    "$$"
   ]
  },
  {
   "cell_type": "markdown",
   "id": "5decb0fd",
   "metadata": {
    "editable": true
   },
   "source": [
    "and it is understood that there is no contribution from $V_T$. Please note that the matrix elements ([57](#ME_of_V)) are not yet antisymmetric under exchange, but $\\langle k_p s_p k_q s_q\\vert V_\\alpha\\vert k_r s_r k_s s_s\\rangle -\n",
    "\\langle k_p s_p k_q s_q\\vert V_\\alpha\\vert k_s s_s k_r s_r\\rangle$ is."
   ]
  },
  {
   "cell_type": "markdown",
   "id": "ef9dcf14",
   "metadata": {
    "editable": true
   },
   "source": [
    "## Example: Channel structure and its usage\n",
    "<div id=\"ex-21\"></div>\n",
    "\n",
    "We have single-particle states with momentum and spin, namely"
   ]
  },
  {
   "cell_type": "markdown",
   "id": "33f6d5ef",
   "metadata": {
    "editable": true
   },
   "source": [
    "<!-- Equation labels as ordinary links -->\n",
    "<div id=\"_auto41\"></div>\n",
    "\n",
    "$$\n",
    "\\begin{equation}\n",
    "\\vert r\\rangle \\equiv \\vert k_r s_r\\rangle .\n",
    "\\label{_auto41} \\tag{58}\n",
    "\\end{equation}\n",
    "$$"
   ]
  },
  {
   "cell_type": "markdown",
   "id": "cea344c1",
   "metadata": {
    "editable": true
   },
   "source": [
    "Naively, two-body states are then"
   ]
  },
  {
   "cell_type": "markdown",
   "id": "bc05cbae",
   "metadata": {
    "editable": true
   },
   "source": [
    "<!-- Equation labels as ordinary links -->\n",
    "<div id=\"_auto42\"></div>\n",
    "\n",
    "$$\n",
    "\\begin{equation}\n",
    "\\vert r s \\rangle \\equiv \\vert k_r s_r k_s s_s\\rangle ,\n",
    "\\label{_auto42} \\tag{59}\n",
    "\\end{equation}\n",
    "$$"
   ]
  },
  {
   "cell_type": "markdown",
   "id": "787d1fa0",
   "metadata": {
    "editable": true
   },
   "source": [
    "but using the center-of-mass transformation ([41](#CoM)) we can rewrite"
   ]
  },
  {
   "cell_type": "markdown",
   "id": "0a5f4ac1",
   "metadata": {
    "editable": true
   },
   "source": [
    "<!-- Equation labels as ordinary links -->\n",
    "<div id=\"_auto43\"></div>\n",
    "\n",
    "$$\n",
    "\\begin{equation}\n",
    "\\vert r s \\rangle \\equiv \\vert P_{rs} k_{rs} s_r s_s\\rangle ,\n",
    "\\label{_auto43} \\tag{60}\n",
    "\\end{equation}\n",
    "$$"
   ]
  },
  {
   "cell_type": "markdown",
   "id": "995087fa",
   "metadata": {
    "editable": true
   },
   "source": [
    "where $P_{rs} = k_r +k_s$ is the total momentum and\n",
    "$k_{rs}=(k_r-k_s)/2$ is the relative momentum. This representation of\n",
    "two-body states is well adapated to our problem, because the\n",
    "interaction and the $T_2$ amplitudes preserve the total momentum.\n",
    "Thus, we store the cluster amplitudes $t_{ij}^{ab}$ as matrices"
   ]
  },
  {
   "cell_type": "markdown",
   "id": "df8e147c",
   "metadata": {
    "editable": true
   },
   "source": [
    "<!-- Equation labels as ordinary links -->\n",
    "<div id=\"_auto44\"></div>\n",
    "\n",
    "$$\n",
    "\\begin{equation}\n",
    "t_{ij}^{ab} \\to \\left[t(P_{ij})\\right]_{\\vert k_{ij} s_i s_j\\rangle}^{\\vert k_{ab} s_a s_b\\rangle}\n",
    "\\equiv t_{\\vert P_{ij} k_{ij} s_i s_j\\rangle}^{\\vert P_{ij} k_{ab} s_a s_b\\rangle} , \n",
    "\\label{_auto44} \\tag{61}\n",
    "\\end{equation}\n",
    "$$"
   ]
  },
  {
   "cell_type": "markdown",
   "id": "7c93201f",
   "metadata": {
    "editable": true
   },
   "source": [
    "and the conservation of total momentum is explicit.\n",
    "\n",
    "Likewise, the pppp, pphh, and hhhh parts of the interaction can be written in this form, namely"
   ]
  },
  {
   "cell_type": "markdown",
   "id": "967313bf",
   "metadata": {
    "editable": true
   },
   "source": [
    "<!-- Equation labels as ordinary links -->\n",
    "<div id=\"_auto45\"></div>\n",
    "\n",
    "$$\n",
    "\\begin{equation}\n",
    "V_{cd}^{ab} \\to \\left[V(P_{ab})\\right]_{\\vert k_{cd} s_c s_d\\rangle}^{\\vert k_{ab} s_a s_b\\rangle}\n",
    "\\equiv V_{\\vert P_{ab} k_{cd} s_c s_d\\rangle}^{\\vert P_{ab} k_{ab} s_a s_b\\rangle} , \n",
    "\\label{_auto45} \\tag{62}\n",
    "\\end{equation}\n",
    "$$"
   ]
  },
  {
   "cell_type": "markdown",
   "id": "e80ae1d3",
   "metadata": {
    "editable": true
   },
   "source": [
    "<!-- Equation labels as ordinary links -->\n",
    "<div id=\"_auto46\"></div>\n",
    "\n",
    "$$\n",
    "\\begin{equation} \n",
    "V_{ij}^{ab} \\to \\left[V(P_{ij})\\right]_{\\vert k_{ij} s_i s_j\\rangle}^{\\vert k_{ab} s_a s_b\\rangle}\n",
    "\\equiv V_{\\vert P_{ij} k_{ij} s_i s_j\\rangle}^{\\vert P_{ij} k_{ab} s_a s_b\\rangle} , \n",
    "\\label{_auto46} \\tag{63}\n",
    "\\end{equation}\n",
    "$$"
   ]
  },
  {
   "cell_type": "markdown",
   "id": "e34c8505",
   "metadata": {
    "editable": true
   },
   "source": [
    "<!-- Equation labels as ordinary links -->\n",
    "<div id=\"_auto47\"></div>\n",
    "\n",
    "$$\n",
    "\\begin{equation}  \n",
    "V_{ij}^{kl} \\to \\left[V(P_{ij})\\right]_{\\vert k_{ij} s_i s_j\\rangle}^{\\vert k_{kl} s_k s_l\\rangle}\n",
    "\\equiv V_{\\vert P_{ij} k_{ij} s_i s_j\\rangle}^{\\vert P_{ij} k_{kl} s_k s_l\\rangle} , \n",
    "\\label{_auto47} \\tag{64}\n",
    "\\end{equation}\n",
    "$$"
   ]
  },
  {
   "cell_type": "markdown",
   "id": "d3ec7c66",
   "metadata": {
    "editable": true
   },
   "source": [
    "and we also have"
   ]
  },
  {
   "cell_type": "markdown",
   "id": "49286154",
   "metadata": {
    "editable": true
   },
   "source": [
    "<!-- Equation labels as ordinary links -->\n",
    "<div id=\"_auto48\"></div>\n",
    "\n",
    "$$\n",
    "\\begin{equation}\n",
    "\\overline{H}_{ij}^{ab} \\to \\left[\\overline{H}(P_{ij})\\right]_{\\vert k_{ij} s_i s_j\\rangle}^{\\vert k_{ab} s_a s_b\\rangle}\n",
    "\\equiv \\overline{H}_{\\vert P_{ij} k_{ij} s_i s_j\\rangle}^{\\vert P_{ij} k_{ab} s_a s_b\\rangle} , \n",
    "\\label{_auto48} \\tag{65}\n",
    "\\end{equation}\n",
    "$$"
   ]
  },
  {
   "cell_type": "markdown",
   "id": "d3bd4fec",
   "metadata": {
    "editable": true
   },
   "source": [
    "Using these objects, diagrams (1), (4), and (5) of [Figure 11](#fig-ccd) can be done for each block of momentum $P_{ij}$ as a\n",
    "copy and matrix-matrix multiplications, respectively"
   ]
  },
  {
   "cell_type": "markdown",
   "id": "c860596a",
   "metadata": {
    "editable": true
   },
   "source": [
    "<!-- Equation labels as ordinary links -->\n",
    "<div id=\"_auto49\"></div>\n",
    "\n",
    "$$\n",
    "\\begin{equation}\n",
    "\\left[\\overline{H}(P_{ij})\\right]_{\\vert k_{ij} s_i s_j\\rangle}^{\\vert k_{ab} s_a s_b\\rangle} =\n",
    "\\left[V(P_{ij})\\right]_{\\vert k_{ij} s_i s_j\\rangle}^{\\vert k_{ab} s_a s_b\\rangle} \n",
    "\\label{_auto49} \\tag{66}\n",
    "\\end{equation}\n",
    "$$"
   ]
  },
  {
   "cell_type": "markdown",
   "id": "ef399eee",
   "metadata": {
    "editable": true
   },
   "source": [
    "<!-- Equation labels as ordinary links -->\n",
    "<div id=\"_auto50\"></div>\n",
    "\n",
    "$$\n",
    "\\begin{equation} \n",
    "+ {1\\over 2} \\sum_{\\vert k_{kl} s_k s_l\\rangle}\n",
    "\\left[t(P_{ij})\\right]_{\\vert k_{kl} s_k s_l\\rangle}^{\\vert k_{ab} s_a s_b\\rangle}\n",
    "\\left[V(P_{ij})\\right]_{\\vert k_{ij} s_i s_j\\rangle}^{\\vert k_{kl} s_k s_l\\rangle} \n",
    "\\label{_auto50} \\tag{67}\n",
    "\\end{equation}\n",
    "$$"
   ]
  },
  {
   "cell_type": "markdown",
   "id": "6fa9dc74",
   "metadata": {
    "editable": true
   },
   "source": [
    "<!-- Equation labels as ordinary links -->\n",
    "<div id=\"_auto51\"></div>\n",
    "\n",
    "$$\n",
    "\\begin{equation} \n",
    "+ {1\\over 2} \\sum_{\\vert k_{cd} s_c s_d\\rangle}\n",
    "\\left[V(P_{ij})\\right]_{\\vert k_{cd} s_c s_d\\rangle}^{\\vert k_{ab} s_a s_b\\rangle}\n",
    "\\left[t(P_{ij})\\right]_{\\vert k_{ij} s_i s_j\\rangle}^{\\vert k_{cd} s_c s_d\\rangle} .\n",
    "\\label{_auto51} \\tag{68}\n",
    "\\end{equation}\n",
    "$$"
   ]
  },
  {
   "cell_type": "markdown",
   "id": "7377e89a",
   "metadata": {
    "editable": true
   },
   "source": [
    "Similarly, the CCD correlation energy results from"
   ]
  },
  {
   "cell_type": "markdown",
   "id": "be9d1dc0",
   "metadata": {
    "editable": true
   },
   "source": [
    "<!-- Equation labels as ordinary links -->\n",
    "<div id=\"_auto52\"></div>\n",
    "\n",
    "$$\n",
    "\\begin{equation}\n",
    "E_c = {1\\over 4} \\sum_{P_{ij}} \\sum_{\\vert k_{ij} s_i s_j\\rangle}\\sum_{\\vert k_{ab} s_a s_b\\rangle }\n",
    "\\left[t(P_{ij})\\right]_{\\vert k_{ij} s_i s_j\\rangle}^{\\vert k_{ab} s_a s_b\\rangle}\n",
    "\\left[V(P_{ij})\\right]_{\\vert k_{ij} s_i s_j\\rangle}^{\\vert k_{ab} s_a s_b\\rangle}\n",
    "\\label{_auto52} \\tag{69}\n",
    "\\end{equation}\n",
    "$$"
   ]
  },
  {
   "cell_type": "markdown",
   "id": "be2b62a3",
   "metadata": {
    "editable": true
   },
   "source": [
    "These efficiences cannot be used for the sixth diagram of [Figure 11](#fig-ccd). One could either change to a ph formulation, noting that\n",
    "$k_a-k_i = k_k -k_c$ is also a preserved quantity in $t_{ik}^{ac}$ and\n",
    "that $k_k-k_c = k_j-k_b$ is preserved in $V_{cj}^{kb}$. Thus\n",
    "$\\sum_{kc} t_{ik}^{ac}V_{cj}^{kb}$ has a conserved quantity $k_k-k_c$\n",
    "in the loop, and we can again use matrix-matrix multiplications for\n",
    "this diagram. This requires us to store the $T_2$ amplitude in a phhp\n",
    "and in the usual pphh formulation. Alternatively, we could simply code\n",
    "this diagram with the loops over single-particle states. If this seems\n",
    "too tedious, one can also limit CCD to the first five diagrams in\n",
    "[Figure 11](#fig-ccd) (these are the pp and hh ladders), which gives a\n",
    "good description for neutron matter, see the comparison between this\n",
    "and full CCD in [\"Coupled-cluster calculations of nucleonic matter,\"\n",
    "G. Hagen, T. Papenbrock, A. Ekström, K. A. Wendt, G. Baardsen,\n",
    "S. Gandolfi, M. Hjorth-Jensen, C. J. Horowitz, arXiv:1311.2925,\n",
    "Phys. Rev. C 89, 014319 (2014)].\n",
    "\n",
    "===== ====="
   ]
  },
  {
   "cell_type": "markdown",
   "id": "35d60b9e",
   "metadata": {
    "editable": true
   },
   "source": [
    "The steps towards the solution of the CCD equations for neutron matter are as follows\n",
    "\n",
    "1. For a given density and UV cutoff, set up the lattice, i.e. determine the single-particle basis.\n",
    "\n",
    "2. Determine the channels allowed by the (Minnesota) interaction, i.e. sets of two-body states that are connected by the interaction.\n",
    "\n",
    "3. Exploit this channel structure when computing the diagrams.\n",
    "\n",
    "4. Solve the coupled-cluster equations. Here we start first with the pp and hh ladders, i.e. using only  the first five diagrams of [Figure 11](#fig-ccd)."
   ]
  },
  {
   "cell_type": "markdown",
   "id": "54cd1261",
   "metadata": {
    "editable": true
   },
   "source": [
    "## Exercise 20: Write a CCD code for neutron matter, focusing first on ladder approximation, i.e. including the first five diagrams in [Figure 11](#fig-ccd).\n",
    "<div id=\"ex-30\"></div>\n",
    "\n",
    "<!-- --- begin answer of exercise --- -->\n",
    "**Answer.**\n",
    "[Click for IPython notebook](https://github.com/NuclearTalent/ManyBody2018/tree/master/doc/Programs/Python/NeutronMatter)"
   ]
  },
  {
   "cell_type": "code",
   "execution_count": 2,
   "id": "533fb918",
   "metadata": {
    "collapsed": false,
    "editable": true
   },
   "outputs": [
    {
     "name": "stdout",
     "output_type": "stream",
     "text": [
      "chosen N = 14\n",
      "magic numbers [2, 14, 38]\n",
      "number of s.p. states: 54\n"
     ]
    },
    {
     "name": "stderr",
     "output_type": "stream",
     "text": [
      "/var/folders/td/3yk470mj5p931p9dtkk0y6jw0000gn/T/ipykernel_80746/2479038418.py:309: NumbaWarning: \u001b[1m\n",
      "Compilation is falling back to object mode WITH looplifting enabled because Function \"compute_total_Tkin\" failed type inference due to: \u001b[1m\u001b[1m\u001b[1mNo implementation of function Function(<built-in function array>) found for signature:\n",
      " \n",
      " >>> array(array(int64, 1d, C))\n",
      " \n",
      "There are 4 candidate implementations:\n",
      "\u001b[1m  - Of which 4 did not match due to:\n",
      "  Overload in function '_OverloadWrapper._build.<locals>.ol_generated': File: numba/core/overload_glue.py: Line 131.\n",
      "    With argument(s): '(array(int64, 1d, C))':\u001b[0m\n",
      "\u001b[1m   Rejected as the implementation raised a specific error:\n",
      "     TypingError: Failed in nopython mode pipeline (step: nopython frontend)\n",
      "   \u001b[1m\u001b[1m\u001b[1mNo implementation of function Function(<intrinsic stub>) found for signature:\n",
      "    \n",
      "    >>> stub(array(int64, 1d, C))\n",
      "    \n",
      "   There are 2 candidate implementations:\n",
      "   \u001b[1m  - Of which 2 did not match due to:\n",
      "     Intrinsic in function 'stub': File: numba/core/overload_glue.py: Line 35.\n",
      "       With argument(s): '(array(int64, 1d, C))':\u001b[0m\n",
      "   \u001b[1m   Rejected as the implementation raised a specific error:\n",
      "        TypingError: \u001b[1marray(int64, 1d, C) not allowed in a homogeneous sequence\u001b[0m\u001b[0m\n",
      "     raised from /Users/mhjensen/miniforge3/lib/python3.9/site-packages/numba/core/typing/npydecl.py:487\n",
      "   \u001b[0m\n",
      "   \u001b[0m\u001b[1mDuring: resolving callee type: Function(<intrinsic stub>)\u001b[0m\n",
      "   \u001b[0m\u001b[1mDuring: typing of call at <string> (3)\n",
      "   \u001b[0m\n",
      "   \u001b[1m\n",
      "   File \"<string>\", line 3:\u001b[0m\n",
      "   \u001b[1m<source missing, REPL/exec in use?>\u001b[0m\n",
      "\u001b[0m\n",
      "  raised from /Users/mhjensen/miniforge3/lib/python3.9/site-packages/numba/core/typeinfer.py:1086\n",
      "\u001b[0m\n",
      "\u001b[0m\u001b[1mDuring: resolving callee type: Function(<built-in function array>)\u001b[0m\n",
      "\u001b[0m\u001b[1mDuring: typing of call at /var/folders/td/3yk470mj5p931p9dtkk0y6jw0000gn/T/ipykernel_80746/2479038418.py (319)\n",
      "\u001b[0m\n",
      "\u001b[1m\n",
      "File \"../../../../../../var/folders/td/3yk470mj5p931p9dtkk0y6jw0000gn/T/ipykernel_80746/2479038418.py\", line 319:\u001b[0m\n",
      "\u001b[1m<source missing, REPL/exec in use?>\u001b[0m\n",
      "\u001b[0m\n",
      "  @jit\n",
      "/var/folders/td/3yk470mj5p931p9dtkk0y6jw0000gn/T/ipykernel_80746/2479038418.py:309: NumbaWarning: \u001b[1m\n",
      "Compilation is falling back to object mode WITHOUT looplifting enabled because Function \"compute_total_Tkin\" failed type inference due to: \u001b[1m\u001b[1mCannot determine Numba type of <class 'numba.core.dispatcher.LiftedLoop'>\u001b[0m\n",
      "\u001b[1m\n",
      "File \"../../../../../../var/folders/td/3yk470mj5p931p9dtkk0y6jw0000gn/T/ipykernel_80746/2479038418.py\", line 317:\u001b[0m\n",
      "\u001b[1m<source missing, REPL/exec in use?>\u001b[0m\n",
      "\u001b[0m\u001b[0m\n",
      "  @jit\n",
      "/Users/mhjensen/miniforge3/lib/python3.9/site-packages/numba/core/object_mode_passes.py:151: NumbaWarning: \u001b[1mFunction \"compute_total_Tkin\" was compiled in object mode without forceobj=True, but has lifted loops.\n",
      "\u001b[1m\n",
      "File \"../../../../../../var/folders/td/3yk470mj5p931p9dtkk0y6jw0000gn/T/ipykernel_80746/2479038418.py\", line 316:\u001b[0m\n",
      "\u001b[1m<source missing, REPL/exec in use?>\u001b[0m\n",
      "\u001b[0m\n",
      "  warnings.warn(errors.NumbaWarning(warn_msg,\n",
      "/Users/mhjensen/miniforge3/lib/python3.9/site-packages/numba/core/object_mode_passes.py:161: NumbaDeprecationWarning: \u001b[1m\n",
      "Fall-back from the nopython compilation path to the object mode compilation path has been detected, this is deprecated behaviour.\n",
      "\n",
      "For more information visit https://numba.readthedocs.io/en/stable/reference/deprecation.html#deprecation-of-object-mode-fall-back-behaviour-when-using-jit\n",
      "\u001b[1m\n",
      "File \"../../../../../../var/folders/td/3yk470mj5p931p9dtkk0y6jw0000gn/T/ipykernel_80746/2479038418.py\", line 316:\u001b[0m\n",
      "\u001b[1m<source missing, REPL/exec in use?>\u001b[0m\n",
      "\u001b[0m\n",
      "  warnings.warn(errors.NumbaDeprecationWarning(msg,\n",
      "/var/folders/td/3yk470mj5p931p9dtkk0y6jw0000gn/T/ipykernel_80746/2479038418.py:309: NumbaWarning: \u001b[1m\n",
      "Compilation is falling back to object mode WITHOUT looplifting enabled because Function \"compute_total_Tkin\" failed type inference due to: \u001b[1m\u001b[1m\u001b[1mNo implementation of function Function(<built-in function array>) found for signature:\n",
      " \n",
      " >>> array(array(int64, 1d, C))\n",
      " \n",
      "There are 4 candidate implementations:\n",
      "\u001b[1m    - Of which 4 did not match due to:\n",
      "    Overload in function '_OverloadWrapper._build.<locals>.ol_generated': File: numba/core/overload_glue.py: Line 131.\n",
      "      With argument(s): '(array(int64, 1d, C))':\u001b[0m\n",
      "\u001b[1m     Rejected as the implementation raised a specific error:\n",
      "       TypingError: Failed in nopython mode pipeline (step: nopython frontend)\n",
      "     \u001b[1m\u001b[1m\u001b[1mNo implementation of function Function(<intrinsic stub>) found for signature:\n",
      "      \n",
      "      >>> stub(array(int64, 1d, C))\n",
      "      \n",
      "     There are 2 candidate implementations:\n",
      "     \u001b[1m  - Of which 2 did not match due to:\n",
      "       Intrinsic in function 'stub': File: numba/core/overload_glue.py: Line 35.\n",
      "         With argument(s): '(array(int64, 1d, C))':\u001b[0m\n",
      "     \u001b[1m   Rejected as the implementation raised a specific error:\n",
      "          TypingError: \u001b[1marray(int64, 1d, C) not allowed in a homogeneous sequence\u001b[0m\u001b[0m\n",
      "       raised from /Users/mhjensen/miniforge3/lib/python3.9/site-packages/numba/core/typing/npydecl.py:487\n",
      "     \u001b[0m\n",
      "     \u001b[0m\u001b[1mDuring: resolving callee type: Function(<intrinsic stub>)\u001b[0m\n",
      "     \u001b[0m\u001b[1mDuring: typing of call at <string> (3)\n",
      "     \u001b[0m\n",
      "     \u001b[1m\n",
      "     File \"<string>\", line 3:\u001b[0m\n",
      "     \u001b[1m<source missing, REPL/exec in use?>\u001b[0m\n",
      "\u001b[0m\n",
      "  raised from /Users/mhjensen/miniforge3/lib/python3.9/site-packages/numba/core/typeinfer.py:1086\n",
      "\u001b[0m\n",
      "\u001b[0m\u001b[1mDuring: resolving callee type: Function(<built-in function array>)\u001b[0m\n",
      "\u001b[0m\u001b[1mDuring: typing of call at /var/folders/td/3yk470mj5p931p9dtkk0y6jw0000gn/T/ipykernel_80746/2479038418.py (319)\n",
      "\u001b[0m\n",
      "\u001b[1m\n",
      "File \"../../../../../../var/folders/td/3yk470mj5p931p9dtkk0y6jw0000gn/T/ipykernel_80746/2479038418.py\", line 319:\u001b[0m\n",
      "\u001b[1m<source missing, REPL/exec in use?>\u001b[0m\n",
      "\u001b[0m\n",
      "  @jit\n",
      "/Users/mhjensen/miniforge3/lib/python3.9/site-packages/numba/core/object_mode_passes.py:151: NumbaWarning: \u001b[1mFunction \"compute_total_Tkin\" was compiled in object mode without forceobj=True.\n",
      "\u001b[1m\n",
      "File \"../../../../../../var/folders/td/3yk470mj5p931p9dtkk0y6jw0000gn/T/ipykernel_80746/2479038418.py\", line 317:\u001b[0m\n",
      "\u001b[1m<source missing, REPL/exec in use?>\u001b[0m\n",
      "\u001b[0m\n",
      "  warnings.warn(errors.NumbaWarning(warn_msg,\n",
      "/Users/mhjensen/miniforge3/lib/python3.9/site-packages/numba/core/object_mode_passes.py:161: NumbaDeprecationWarning: \u001b[1m\n",
      "Fall-back from the nopython compilation path to the object mode compilation path has been detected, this is deprecated behaviour.\n",
      "\n",
      "For more information visit https://numba.readthedocs.io/en/stable/reference/deprecation.html#deprecation-of-object-mode-fall-back-behaviour-when-using-jit\n",
      "\u001b[1m\n",
      "File \"../../../../../../var/folders/td/3yk470mj5p931p9dtkk0y6jw0000gn/T/ipykernel_80746/2479038418.py\", line 317:\u001b[0m\n",
      "\u001b[1m<source missing, REPL/exec in use?>\u001b[0m\n",
      "\u001b[0m\n",
      "  warnings.warn(errors.NumbaDeprecationWarning(msg,\n"
     ]
    },
    {
     "name": "stdout",
     "output_type": "stream",
     "text": [
      "total Tkin per particle = 22.42755311959275\n",
      "Fermi momentum = 1.3330210137859975\n",
      "Energy per neutron of infinite free Fermi gas 22.10817470276664\n"
     ]
    },
    {
     "name": "stdout",
     "output_type": "stream",
     "text": [
      "HF energy per neutron = 10.349801450196432\n",
      "hh channels= 25\n",
      "pp channels= 25\n",
      "hh number of total combinations 182\n",
      "pp number of total combinations 656\n",
      "get v_hhhh, v_pphh, v_pppp\n",
      "what a hog! 0.05580191600000006 seconds\n",
      "compute energy denominator\n"
     ]
    },
    {
     "name": "stderr",
     "output_type": "stream",
     "text": [
      "/Users/mhjensen/miniforge3/lib/python3.9/site-packages/numba/core/ir_utils.py:2152: NumbaPendingDeprecationWarning: \u001b[1m\n",
      "Encountered the use of a type that is scheduled for deprecation: type 'reflected list' found for argument 'sp_basis' of function 'Fock'.\n",
      "\n",
      "For more information visit https://numba.readthedocs.io/en/stable/reference/deprecation.html#deprecation-of-reflection-for-list-and-set-types\n",
      "\u001b[1m\n",
      "File \"../../../../../../var/folders/td/3yk470mj5p931p9dtkk0y6jw0000gn/T/ipykernel_80746/2479038418.py\", line 326:\u001b[0m\n",
      "\u001b[1m<source missing, REPL/exec in use?>\u001b[0m\n",
      "\u001b[0m\n",
      "  warnings.warn(NumbaPendingDeprecationWarning(msg, loc=loc))\n",
      "/var/folders/td/3yk470mj5p931p9dtkk0y6jw0000gn/T/ipykernel_80746/2479038418.py:511: NumbaWarning: \u001b[1m\n",
      "Compilation is falling back to object mode WITH looplifting enabled because Function \"make_diagram\" failed type inference due to: \u001b[1m\u001b[1mUse of unsupported NumPy function 'numpy.matmul' or unsupported use of the function.\n",
      "\u001b[1m\n",
      "File \"../../../../../../var/folders/td/3yk470mj5p931p9dtkk0y6jw0000gn/T/ipykernel_80746/2479038418.py\", line 521:\u001b[0m\n",
      "\u001b[1m<source missing, REPL/exec in use?>\u001b[0m\n",
      "\u001b[0m\n",
      "\u001b[0m\u001b[1mDuring: typing of get attribute at /var/folders/td/3yk470mj5p931p9dtkk0y6jw0000gn/T/ipykernel_80746/2479038418.py (521)\u001b[0m\n",
      "\u001b[1m\n",
      "File \"../../../../../../var/folders/td/3yk470mj5p931p9dtkk0y6jw0000gn/T/ipykernel_80746/2479038418.py\", line 521:\u001b[0m\n",
      "\u001b[1m<source missing, REPL/exec in use?>\u001b[0m\n",
      "\u001b[0m\n",
      "  @jit\n",
      "/var/folders/td/3yk470mj5p931p9dtkk0y6jw0000gn/T/ipykernel_80746/2479038418.py:511: NumbaWarning: \u001b[1m\n",
      "Compilation is falling back to object mode WITHOUT looplifting enabled because Function \"make_diagram\" failed type inference due to: \u001b[1m\u001b[1mCannot determine Numba type of <class 'numba.core.dispatcher.LiftedLoop'>\u001b[0m\n",
      "\u001b[1m\n",
      "File \"../../../../../../var/folders/td/3yk470mj5p931p9dtkk0y6jw0000gn/T/ipykernel_80746/2479038418.py\", line 518:\u001b[0m\n",
      "\u001b[1m<source missing, REPL/exec in use?>\u001b[0m\n",
      "\u001b[0m\u001b[0m\n",
      "  @jit\n"
     ]
    },
    {
     "name": "stdout",
     "output_type": "stream",
     "text": [
      "that's faster 0.19491841600000015 seconds\n",
      "Initialize T2 from MBPT2\n",
      "MBPT2 correlation energy per neutron = -0.17553785744804082\n",
      "start CCD iterations ...\n",
      "time of making Hbar: 0.18174174999999693 seconds\n",
      "iter= 0 Correlation energy per neutron= -0.20550292085394894 , epsilon= 1.0\n",
      "time of making Hbar: 0.00025100000000222167 seconds\n",
      "iter= 1 Correlation energy per neutron= -0.2107009003533346 , epsilon= 0.024669944412524628\n",
      "time of making Hbar: 0.00023187500000076966 seconds\n",
      "iter= 2 Correlation energy per neutron= -0.2116672343138936 , epsilon= 0.004565345050646539\n",
      "time of making Hbar: 0.0002522920000025408 seconds\n",
      "iter= 3 Correlation energy per neutron= -0.21184820867906343 , epsilon= 0.0008542643164097731\n",
      "time of making Hbar: 0.00022399999999933584 seconds\n",
      "iter= 4 Correlation energy per neutron= -0.21188227228364806 , epsilon= 0.00016076665696240967\n",
      "time of making Hbar: 0.00024608400000047936 seconds\n",
      "iter= 5 Correlation energy per neutron= -0.21188870821702438 , epsilon= 3.0374121539822725e-05\n",
      "time of making Hbar: 0.00022750000000115733 seconds\n",
      "iter= 6 Correlation energy per neutron= -0.21188992798649683 , epsilon= 5.756618467265144e-06\n",
      "time of making Hbar: 0.0002214999999985423 seconds\n",
      "iter= 7 Correlation energy per neutron= -0.211890159780636 , epsilon= 1.093935364400894e-06\n",
      "time of making Hbar: 0.00021787500000058913 seconds\n",
      "iter= 8 Correlation energy per neutron= -0.21189020393325292 , epsilon= 2.0837497962657972e-07\n",
      "time of making Hbar: 0.0002133750000012924 seconds\n",
      "iter= 9 Correlation energy per neutron= -0.21189021236156144 , epsilon= 3.9776771344709894e-08\n",
      "time of making Hbar: 0.00022970799999910696 seconds\n",
      "Correlation energy per neutron=  -0.2118902139735854\n",
      "total time in seconds 4.962556207999999\n"
     ]
    },
    {
     "name": "stderr",
     "output_type": "stream",
     "text": [
      "/Users/mhjensen/miniforge3/lib/python3.9/site-packages/numba/core/object_mode_passes.py:151: NumbaWarning: \u001b[1mFunction \"make_diagram\" was compiled in object mode without forceobj=True, but has lifted loops.\n",
      "\u001b[1m\n",
      "File \"../../../../../../var/folders/td/3yk470mj5p931p9dtkk0y6jw0000gn/T/ipykernel_80746/2479038418.py\", line 516:\u001b[0m\n",
      "\u001b[1m<source missing, REPL/exec in use?>\u001b[0m\n",
      "\u001b[0m\n",
      "  warnings.warn(errors.NumbaWarning(warn_msg,\n",
      "/Users/mhjensen/miniforge3/lib/python3.9/site-packages/numba/core/object_mode_passes.py:161: NumbaDeprecationWarning: \u001b[1m\n",
      "Fall-back from the nopython compilation path to the object mode compilation path has been detected, this is deprecated behaviour.\n",
      "\n",
      "For more information visit https://numba.readthedocs.io/en/stable/reference/deprecation.html#deprecation-of-object-mode-fall-back-behaviour-when-using-jit\n",
      "\u001b[1m\n",
      "File \"../../../../../../var/folders/td/3yk470mj5p931p9dtkk0y6jw0000gn/T/ipykernel_80746/2479038418.py\", line 516:\u001b[0m\n",
      "\u001b[1m<source missing, REPL/exec in use?>\u001b[0m\n",
      "\u001b[0m\n",
      "  warnings.warn(errors.NumbaDeprecationWarning(msg,\n",
      "/var/folders/td/3yk470mj5p931p9dtkk0y6jw0000gn/T/ipykernel_80746/2479038418.py:511: NumbaWarning: \u001b[1m\n",
      "Compilation is falling back to object mode WITHOUT looplifting enabled because Function \"make_diagram\" failed type inference due to: \u001b[1m\u001b[1mnon-precise type pyobject\u001b[0m\n",
      "\u001b[0m\u001b[1mDuring: typing of argument at /var/folders/td/3yk470mj5p931p9dtkk0y6jw0000gn/T/ipykernel_80746/2479038418.py (518)\u001b[0m\n",
      "\u001b[1m\n",
      "File \"../../../../../../var/folders/td/3yk470mj5p931p9dtkk0y6jw0000gn/T/ipykernel_80746/2479038418.py\", line 518:\u001b[0m\n",
      "\u001b[1m<source missing, REPL/exec in use?>\u001b[0m\n",
      "\u001b[0m\n",
      "  @jit\n",
      "/Users/mhjensen/miniforge3/lib/python3.9/site-packages/numba/core/object_mode_passes.py:151: NumbaWarning: \u001b[1mFunction \"make_diagram\" was compiled in object mode without forceobj=True.\n",
      "\u001b[1m\n",
      "File \"../../../../../../var/folders/td/3yk470mj5p931p9dtkk0y6jw0000gn/T/ipykernel_80746/2479038418.py\", line 518:\u001b[0m\n",
      "\u001b[1m<source missing, REPL/exec in use?>\u001b[0m\n",
      "\u001b[0m\n",
      "  warnings.warn(errors.NumbaWarning(warn_msg,\n",
      "/Users/mhjensen/miniforge3/lib/python3.9/site-packages/numba/core/object_mode_passes.py:161: NumbaDeprecationWarning: \u001b[1m\n",
      "Fall-back from the nopython compilation path to the object mode compilation path has been detected, this is deprecated behaviour.\n",
      "\n",
      "For more information visit https://numba.readthedocs.io/en/stable/reference/deprecation.html#deprecation-of-object-mode-fall-back-behaviour-when-using-jit\n",
      "\u001b[1m\n",
      "File \"../../../../../../var/folders/td/3yk470mj5p931p9dtkk0y6jw0000gn/T/ipykernel_80746/2479038418.py\", line 518:\u001b[0m\n",
      "\u001b[1m<source missing, REPL/exec in use?>\u001b[0m\n",
      "\u001b[0m\n",
      "  warnings.warn(errors.NumbaDeprecationWarning(msg,\n"
     ]
    }
   ],
   "source": [
    "import numpy as np\n",
    "\n",
    "##############################################################\n",
    "# CCD Program for neutron matter with the Minnesota potential.\n",
    "#\n",
    "# Thomas Papenbrock, July/August 2018\n",
    "#\n",
    "# License: Free Software following Version 3 of GNU General Public License, \n",
    "# see https://www.gnu.org/licenses/gpl.html\n",
    "#######\n",
    "\n",
    "\n",
    "##########################\n",
    "# Class for neutron matter \n",
    "#######\n",
    "\n",
    "class MomSpaceBasis:\n",
    "    \"\"\"\n",
    "    momentum-space basis class\n",
    "    The constructor has the form\n",
    "    \n",
    "    MomSpaceBasis(Nmax,kmax)\n",
    "    \n",
    "    param Nmax: Number of lattice points in positive kx-direction\n",
    "    param kmax: Highest lattice momentum (in 1/fm)\n",
    "    \n",
    "    return: MomSpaceBasis as a single-partcle basis. \n",
    "    attributes of MomSpaceBasis are\n",
    "    \n",
    "    dk : lattice spacing in 1/fm\n",
    "    Lbox : linear dimension (in fm) of cubic box\n",
    "    nvec : lattice vectors (integers)\n",
    "    kvec : lattice momentum vectors (floats, in 1/fm)\n",
    "    ngrid : total number of lattice points \n",
    "    \"\"\"\n",
    "    def __init__(self,Nmax,kmax,ordered=True):\n",
    "        \"\"\"\n",
    "        the constructor\n",
    "        \n",
    "        Generates a cubic lattice in momentum space\n",
    "        param Nmax: Number of lattice points in positive kx-direction\n",
    "        param kmax: Highest lattice momentum (in 1/fm)\n",
    "        param ordered: Optional parameter, True by default, will order lattice points by kinetic energy\n",
    "        \n",
    "        return MomSpaceBasis\n",
    "        \"\"\"\n",
    "        self.Nmax = Nmax\n",
    "        self.dim = 0\n",
    "        self.ngrid = 0\n",
    "        self._kvec=[]\n",
    "        self._nvec=[]\n",
    "\n",
    "        dk = kmax / Nmax\n",
    "        self.dk = dk\n",
    "        self.Lbox = 2.0*np.pi/dk\n",
    "        \n",
    "        nx=[]\n",
    "        nvec=[]\n",
    "        for i in range(-Nmax,Nmax+1):\n",
    "            self.dim=self.dim+1\n",
    "            nx.append(i)\n",
    "        \n",
    "        #print('nx=',nx)\n",
    "        \n",
    "        for i in nx:\n",
    "            for j in nx:\n",
    "                for k in nx:\n",
    "                    nvec.append(np.array([i,j,k], dtype=int))\n",
    "                    \n",
    "        #print('nvec=',nvec)\n",
    "        self.ngrid=len(nvec)\n",
    "        \n",
    "        if ordered:\n",
    "            #print(\"ordered\")\n",
    "            norm=np.zeros(self.ngrid,dtype=int)\n",
    "            for i, vec in enumerate(nvec):\n",
    "                npvec=np.array(vec,dtype=int)\n",
    "                norm[i]=np.dot(npvec,npvec)\n",
    "               # print(i, vec, norm[i])\n",
    "        \n",
    "            index=np.argsort(norm)\n",
    "            #print(index)\n",
    "            self._nvec=[]\n",
    "            for i, ind in enumerate(index):\n",
    "                #print(i, ind, nvec[ind])\n",
    "                self._nvec.append(nvec[ind])\n",
    "                \n",
    "        else: \n",
    "            self._nvec=nvec  # a list\n",
    "            \n",
    "        self._kvec = np.array(self._nvec)*dk # a numpy array\n",
    "\n",
    "    \n",
    "    def kvec(self,indx=-1):\n",
    "        \"\"\"\n",
    "        MomSpaceBasis.kvec(i) returns ith momentum vector\n",
    "        MomSpaceBasis.kvec() returns all momentum vectors\n",
    "        \n",
    "        param indx: index of k-vector to be returned, optional\n",
    "        return 3-vector (if index non-negative), or all vectors if no index specified\n",
    "        \"\"\"\n",
    "        if indx == -1:\n",
    "            return self._kvec\n",
    "        else:\n",
    "            return self._kvec[indx]\n",
    "        \n",
    "    def nvec(self,indx=-1):\n",
    "        \"\"\"\n",
    "        MomSpaceBasis.nvec(i) returns ith lattice vector\n",
    "        MomSpaceBasis.nvec() returns all lattice vectors\n",
    "        \n",
    "        param indx: index of lattice vector to be returned, optional\n",
    "        return 3-vector (if index non-negative), or all lattice vectors if no index specified\n",
    "        \"\"\"\n",
    "        if indx == -1:\n",
    "            return self._nvec\n",
    "        else:\n",
    "            return self._nvec[indx]\n",
    "        \n",
    "    def dens(self,num):\n",
    "        \"\"\"\n",
    "        returns density of system if num particles are present\n",
    "        param num: int, number of particles\n",
    "        return dens: float\n",
    "        \"\"\"\n",
    "        return num/(self.Lbox)**3\n",
    "    \n",
    "    def update(self,dk):\n",
    "        \"\"\"\n",
    "        Uses dk as new lattice spacing and rescales existing lattice\n",
    "        param dk: in 1/fm lattice spacing in momentum space\n",
    "        \"\"\"\n",
    "        self.Lbox=2.0*np.pi/dk\n",
    "        self._kvec = np.array(self._nvec)*dk\n",
    "    \n",
    "    def __len__(self):\n",
    "        \"\"\"\n",
    "        overloading of the 'len' function\n",
    "        \"\"\"\n",
    "        return self.ngrid\n",
    "    \n",
    "    \n",
    "############\n",
    "# useful functions\n",
    "\n",
    "def magic_numbers(basis):\n",
    "    \"\"\"\n",
    "    param basis: MomSpaceBasis object\n",
    "    return magic: array of magic numbers\n",
    "    \"\"\"\n",
    "    nvecs = basis.nvec()\n",
    "    vec=np.array(nvecs[0],dtype=int)\n",
    "    norm = np.dot(vec,vec)\n",
    "    magic=[]\n",
    "    for i in range(1,len(nvecs)):\n",
    "        vec=np.array(nvecs[i],dtype=int)\n",
    "        norm2 = np.dot(vec,vec)\n",
    "        if norm2 > norm: \n",
    "            magic.append(2*i)\n",
    "            norm=norm2\n",
    "    return magic\n",
    "\n",
    "\n",
    "def get_dk(rho,Num):\n",
    "    \"\"\"\n",
    "    param rho: desired density\n",
    "    param Num: magic number of particles\n",
    "    return dk: grid spacing in momentum space (in 1/fm)\n",
    "    \"\"\"\n",
    "    Lbox = (Num/rho)**(1.0/3.0)\n",
    "    dk = 2.0*np.pi/Lbox\n",
    "    return dk\n",
    "\n",
    "def spbasis_from_MomSpaceBasis(lattice_vecs,st_degen):\n",
    "    \"\"\"\n",
    "    converts a lattice to a single particle basis for spin-isospin degeneracy st_degen\n",
    "    param lattice_vecs: list of lattice vectors for 1st particle\n",
    "    param st_degen: spin-isospin degeneracy\n",
    "    return: basis as a list of momenta\n",
    "    \"\"\"\n",
    "    if st_degen != 2: # for now only neutron matter\n",
    "        print(\"Unexpected parameter st_degen\")\n",
    "        return lattice_vecs\n",
    "    \n",
    "    basis=[]\n",
    "    for vec in lattice_vecs:\n",
    "        for st in range(st_degen):\n",
    "            basis.append(np.array(vec,dtype=int))\n",
    "            \n",
    "    return basis\n",
    "\n",
    "\n",
    "\n",
    "#########################################################\n",
    "# Functions for comparisons with infinite free Fermi gas\n",
    "                         \n",
    "def kF_from_density(rho,st_degen=2):\n",
    "    \"\"\"\n",
    "    Computes Fermi momentum for given density and spin/isospin degeneracy.\n",
    "    \n",
    "    param rho: density in inverse fm cubed\n",
    "    param st_degen: spin-isospin degeneracy; default 2\n",
    "    return: Fermi momentum in inverse fm\n",
    "    \"\"\"\n",
    "    res = (6.0*(np.pi)**2*rho/st_degen)**(1.0/3.0)\n",
    "    return res\n",
    "\n",
    "def EnergyDensity_FermiGas(kF,st_degen=2):\n",
    "    \"\"\"\n",
    "    Computes energy density of free Fermi gas at Fermi momentum and spin/isospin degeneracy\n",
    "    param kF: Fermi momentum in inverse fm\n",
    "    param st_degen: spin-isospin degeneracy; default 2\n",
    "    return: Energy density in MeV/fm**3\n",
    "    \"\"\"\n",
    "    pvec = np.array([kF,0.0,0.0])\n",
    "    erg = (st_degen*kF**3/(10.0*np.pi**2)) * Tkin(pvec)\n",
    "    return erg\n",
    "\n",
    "\n",
    "########################################################################################\n",
    "# Functions for CCD of neutron matter\n",
    "# Implementation uses only pp and hh ladders\n",
    "# \n",
    "########################################################################################\n",
    "\n",
    "\n",
    "from numba import jit  \n",
    "# compile a few functions to gain speed; should probably done in Fortran or C++, \n",
    "# and called from Python\n",
    "\n",
    "@jit(nopython=True)\n",
    "def minnesota_nn(p_out,s1_out,s2_out,p_in,s1_in,s2_in,Lbox):\n",
    "    \"\"\"\n",
    "    The Minnesota potential between two neutrons, not yet anti-symmetrized \n",
    "    param p_out: relative out momentum\n",
    "    param p_in : relative in momentum\n",
    "    param s1_out, s2_out: spin projections of out particles 1 and 2\n",
    "    param s1_in, s2_in  : spin projections of in particles 1 and 2\n",
    "    Lbox : size of momentum box\n",
    "    return: value of potential in MeV; not anti-symmetrized!\n",
    "    \"\"\"\n",
    "    # parameters. VT is not active between two neutrons (no triplet)\n",
    "    VR = 200.0\n",
    "    VS = -91.85  # sign typo in Lecture Notes Physics 936, Chap. 8\n",
    "    kappaR = 1.487\n",
    "    kappaS = 0.465\n",
    "    \n",
    "    qvec=p_out-p_in\n",
    "    q2=np.dot(qvec,qvec)\n",
    "    \n",
    "    s1_i =spin2spinor(s1_in)\n",
    "    s2_i =spin2spinor(s2_in)\n",
    "    s1_o =spin2spinor(s1_out)\n",
    "    s2_o =spin2spinor(s2_out)\n",
    "    \n",
    "    spin_part = 0.5 * ( np.dot(s1_i,s1_o)*np.dot(s2_i,s2_o)\n",
    "                       -np.dot(s1_i,s2_o)*np.dot(s2_i,s1_o) )\n",
    "    \n",
    "    \n",
    "    pot = spin_part * (  VR*np.exp(-0.25*q2/kappaR) / (Lbox*np.sqrt(kappaR))**3 \n",
    "                       + VS*np.exp(-0.25*q2/kappaS) / (Lbox*np.sqrt(kappaS))**3 )\n",
    "    \n",
    "    pot = pot*(np.sqrt(np.pi))**3 \n",
    "\n",
    "    \n",
    "    return pot\n",
    "\n",
    "@jit\n",
    "def spin_of_index(i):\n",
    "    \"\"\"\n",
    "    Even indices of the lattive have spin up, odds have spin down\n",
    "    param i: index of sp_basis\n",
    "    return: spin as +/- 1\n",
    "    \"\"\"\n",
    "    spin = 1-2*np.remainder(i,2)\n",
    "    return spin\n",
    "\n",
    "@jit\n",
    "def spin2spinor(s):\n",
    "    \"\"\"\n",
    "    Makes a two-component spinor of an integer s\n",
    "    param s: spin = +/- 1\n",
    "    return: two-component numpy array [1,0] for up and [0,1] for down\n",
    "    \"\"\"\n",
    "    up  =np.array([1.0,0.0])\n",
    "    down=np.array([0.0,1.0])\n",
    "    if s == 1:\n",
    "        return up\n",
    "    else:\n",
    "        return down\n",
    "\n",
    "@jit\n",
    "def Tkin(pvec):\n",
    "    \"\"\"\n",
    "    Kinetic energy for a momentum vector\n",
    "    param pvec: 3-component numpy array in inverse fm\n",
    "    return: kinetic energy of that momentum in MeV\n",
    "    \"\"\"\n",
    "    nucleon_mass = 938.92\n",
    "    hbarc = 197.33\n",
    "# More precise numbers for neutron mass and hbar follow.\n",
    "# For N=14, this yields E_HF = 10.3337 MeV per nucleon in HF. Benchmarked with Ragnar Stroberg.\n",
    "#     nucleon_mass = 939.56563\n",
    "#     hbarc = 197.3269718\n",
    "    p2 = np.dot(pvec,pvec)\n",
    "    res = 0.5*hbarc**2*p2/nucleon_mass\n",
    "    return res\n",
    "    \n",
    "@jit\n",
    "def compute_total_Tkin(Nocc,sp_basis,dk):\n",
    "    \"\"\"\n",
    "    Computes total kinetic energy of reference state\n",
    "    param Nocc, sp_basis, dk: particle number, integer s.p. lattice, delta k \n",
    "    return: total kinetic energy\n",
    "    \"\"\"\n",
    "    erg=0.0\n",
    "    for i in range(Nocc):\n",
    "        mom_vec = sp_basis[i]\n",
    "        vec=np.array(mom_vec)*dk\n",
    "        erg=erg+Tkin(vec)\n",
    "        \n",
    "    return erg\n",
    "\n",
    "\n",
    "\n",
    "@jit\n",
    "def Fock(pvec,s,sp_basis,Nocc,dk,Lbox):\n",
    "    \"\"\"\n",
    "    Fock matrix of momentum pvec in hh space\n",
    "    param pvec: 3-component numpy array in inverse fm\n",
    "    param s: spin as +/- 1 of state\n",
    "    param_sp_basis, Nocc, dk, Lbox : parameters of s.p. basis and system\n",
    "    \n",
    "    return: Fock matrix element = kinetic energy of that momentum in MeV\n",
    "    \"\"\"\n",
    "    res = Tkin(pvec)\n",
    "    \n",
    "    dum=0.0\n",
    "    for i in range(Nocc):\n",
    "        vec=sp_basis[i]*dk\n",
    "        si=spin_of_index(i)\n",
    "        p_in = 0.5*(vec-pvec)\n",
    "        p_out= p_in\n",
    "        dum = dum + ( minnesota_nn(p_out,s,si, p_in, s,si,Lbox) \n",
    "                     -minnesota_nn(p_out,s,si,-p_in,si, s,Lbox) )  #antisymmetrized Minnesota\n",
    "        \n",
    "    res = res+dum\n",
    "    return res\n",
    "\n",
    "def compute_E_HF_simple(Nocc,sp_basis,dk):\n",
    "    \"\"\"\n",
    "    Computes HF energy of reference state\n",
    "    param Nocc, sp_basis, dk: particle number, integer s.p. lattice, delta k \n",
    "    return: total HF energy\n",
    "    \"\"\"\n",
    "    erg=compute_total_Tkin(Nocc,sp_basis,dk)\n",
    "\n",
    "    pot=0.0\n",
    "    for i in range(Nocc):\n",
    "        momi=sp_basis[i]*dk\n",
    "        si = spin_of_index(i)\n",
    "        for j in range(Nocc):\n",
    "            momj=sp_basis[j]*dk\n",
    "            sj = spin_of_index(j)\n",
    "            p_rel = 0.5*(momi-momj)\n",
    "            pot = pot + 0.5* (  minnesota_nn(p_rel,si,sj, p_rel,si,sj,Lbox)\n",
    "                                - minnesota_nn(p_rel,si,sj,-p_rel,sj,si,Lbox) )\n",
    "            \n",
    "    erg = erg+pot\n",
    "    return erg\n",
    "\n",
    "\n",
    "def get_channels(sp_basis,start1,end1,start2,end2,identical,other_channels=None):\n",
    "    \"\"\"\n",
    "    Returns channels for coupled cluster based on Minnesota potential\n",
    "    param sp_Basis: A single-particle basis\n",
    "    param start1: index to start for particle 1\n",
    "    param end1: index to end for particle 1\n",
    "    param start2: index to start for particle 2\n",
    "    param end2: index to end for particle 2\n",
    "    param identical: True for hh or pp, False for hp\n",
    "    param other_channels: list of other channels to compare with\n",
    "    return: channels, p_rel, t2amp. channels is a list of p12, where p12 is a momentum vector; \n",
    "            p_rel is a nested list with relative momenta and spins for each channel\n",
    "    \"\"\"\n",
    "    channel=[]\n",
    "    p_rel=[]\n",
    "    for i, mom_vecs1 in enumerate(sp_basis[start1:end1]):\n",
    "        #vec1=np.array(mom_vecs1,dtype=int)\n",
    "        vec1=mom_vecs1\n",
    "        spin1=spin_of_index(i)\n",
    "            \n",
    "        for j, mom_vecs2 in enumerate(sp_basis[start2:end2]):\n",
    "            if identical and i==j: continue  #Fortran cycle\n",
    "            #vec2=np.array(mom_vecs2,dtype=int)\n",
    "            vec2=mom_vecs2\n",
    "            spin2=spin_of_index(j)\n",
    "                \n",
    "            p12 = vec1+vec2\n",
    "            prel= vec1-vec2\n",
    "            spins=np.array([spin1,spin2],dtype=int)\n",
    "            ps=[prel,spins]\n",
    "\n",
    "            new=True\n",
    "            needed=True\n",
    "            if other_channels is not None: #check whether we need this channel\n",
    "                needed=False\n",
    "                for chan_o in other_channels:\n",
    "                    if (chan_o==p12).all(): \n",
    "                        needed=True\n",
    "                        break\n",
    "            if needed: #check whether this channel exists already\n",
    "                for ipos, chan in enumerate(channel):\n",
    "                    if (chan==p12).all(): \n",
    "                        new=False\n",
    "                        break\n",
    "                    \n",
    "            if needed and new: \n",
    "                channel.append(p12)\n",
    "                p_rel.append([ps])\n",
    "                \n",
    "            if needed and not new:\n",
    "                p_rel[ipos].append(ps)\n",
    "                \n",
    "    return channel, p_rel \n",
    "    \n",
    "\n",
    "    \n",
    "def setup_T2_amplitudes(sp_basis,NN,st_degen):\n",
    "    \"\"\"\n",
    "    returns the t2 amplitudes and t2 channels\n",
    "    param sp_basis: a sp_basis\n",
    "    param NN: neutron number\n",
    "    param st_degen: 2 for the moment, spin-isospin degeneracy\n",
    "    return: hh_channels, pp_channels, p_rel_hh, p_rel_pp, t2amp\n",
    "            these are the hh and pp channels of T2, lists of the relative momenta, \n",
    "            and t2amps as a list of numpy arrays set to zero \n",
    "    \"\"\"\n",
    "    num_states = len(sp_basis)\n",
    "    \n",
    "    hh_channels, p_rel_hh = get_channels(sp_basis,0,NN,0,NN,True)\n",
    "    print('hh channels=', len(hh_channels))\n",
    "\n",
    "    pp_channels, p_rel_pp = get_channels(sp_basis,NN,num_states,NN,num_states,True,hh_channels)\n",
    "    print('pp channels=', len(pp_channels))\n",
    "    \n",
    "    if len(pp_channels) != len(hh_channels): print('pp and hh channels do not match')\n",
    "     \n",
    "\n",
    "    ordered_pp_channel=[]\n",
    "    ordered_p_rel_pp=[]\n",
    "    for i, chanhh in enumerate(hh_channels):\n",
    "        for j, chanpp in enumerate(pp_channels):\n",
    "            if (chanpp==chanhh).all():\n",
    "                ordered_pp_channel.append(chanpp)\n",
    "                ordered_p_rel_pp.append(p_rel_pp[j])    \n",
    "                break\n",
    "                \n",
    "    pp_channels = ordered_pp_channel\n",
    "    p_rel_pp = ordered_p_rel_pp\n",
    "            \n",
    "    # set t2 amplitudes to zero in each channel\n",
    "    t2amp = fill_pot(Lbox, dk, pp_channels, hh_channels, p_rel_pp, p_rel_hh, True)\n",
    "        \n",
    "    return hh_channels, pp_channels, p_rel_hh, p_rel_pp, t2amp\n",
    "\n",
    "def fill_pot(Lbox, dk, channels_out, channels_in, p_rel_out, p_rel_in, T2amp=False):\n",
    "    \"\"\"\n",
    "    Fills lists of matrices such as Vhhhh, Vpphh, Vpppp, t2_pphh\n",
    "    param Lbox: Lbox\n",
    "    param dk: dk\n",
    "    param channels_out, channels_in: the channels we have\n",
    "    param p_rel_out, p_rel_in: the list of [prel, [s1,s2]]\n",
    "    param T2amp=False: Set to True if t2_pphh needs to be computed\n",
    "    return: The object of desire as a list of numpy matrices. \n",
    "            Contain matrix elements for potentials, zeros if T2amp=True is requested. \n",
    "    \"\"\"\n",
    "    Vpot=[]\n",
    "    for i, chan_in in enumerate(channels_in):\n",
    "        dim_in = len(p_rel_in[i])\n",
    "        dim_out= len(p_rel_out[i])\n",
    "        Vpot_chan=np.zeros((dim_out,dim_in))\n",
    "        if not T2amp: \n",
    "            for ii, ps_i in enumerate(p_rel_in[i]):\n",
    "                [pii, [s1, s2]] = ps_i\n",
    "                pii = pii*dk*0.5\n",
    "                for jj, ps_j in enumerate(p_rel_out[i]):\n",
    "                    if dim_in == dim_out and jj > ii: continue\n",
    "                    [pjj, [ss1, ss2]] = ps_j\n",
    "                    pjj = pjj*dk*0.5\n",
    "                    Vpot_chan[jj,ii] = ( minnesota_nn( pjj,ss1,ss2, pii,s1,s2,Lbox)\n",
    "                                        -minnesota_nn(-pjj,ss2,ss1, pii,s1,s2,Lbox) )\n",
    "                    if dim_in == dim_out : Vpot_chan[ii,jj] = Vpot_chan[jj,ii]\n",
    "        \n",
    "        Vpot.append(Vpot_chan)\n",
    "    return Vpot\n",
    "\n",
    "\n",
    "def init_V(Lbox, dk, hhchannels, ppchannels, p_relhh, p_relpp,zeros=False):\n",
    "    \"\"\"\n",
    "    Sets up Vhhhh, Vpphh, and Vpppp. \n",
    "    \n",
    "    return: Vhhhh, Vpphh, Vpppp as a lists of numpy arrays\n",
    "    \"\"\"\n",
    "    Vhhhh = fill_pot(Lbox, dk, hhchannels, hhchannels, p_relhh, p_relhh,zeros)\n",
    "    Vpphh = fill_pot(Lbox, dk, ppchannels, hhchannels, p_relpp, p_relhh,zeros)\n",
    "    Vpppp = fill_pot(Lbox, dk, ppchannels, ppchannels, p_relpp, p_relpp,zeros)\n",
    "    \n",
    "    return Vhhhh, Vpphh, Vpppp  \n",
    "            \n",
    "@jit\n",
    "def make_diagram(obj1,obj2,fac):\n",
    "    \"\"\"\n",
    "    Makes diagrams for pp or hh ladders as matrix-matrix multiplications\n",
    "    \"\"\"\n",
    "    hbar_pphh=[]\n",
    "    dim1=len(obj1)\n",
    "    for chan in range(dim1):\n",
    "        mat1 = obj1[chan]\n",
    "        mat2 = obj2[chan]\n",
    "        hbar_pphh.append( fac*np.matmul(mat1,mat2) )\n",
    "        \n",
    "    return hbar_pphh\n",
    "\n",
    "\n",
    "def make_diagrams2_3(t2_pphh,fabij):\n",
    "    hbar_pphh=[]\n",
    "    for i, t2_mat in enumerate(t2_pphh):\n",
    "        f_mat = fabij[i]\n",
    "        hbar_mat = t2_mat*f_mat\n",
    "        hbar_pphh.append(hbar_mat)\n",
    "    return hbar_pphh\n",
    "\n",
    "\n",
    "def compute_hbar(v_pppp,v_pphh,v_hhhh,t2_pphh,fabij):\n",
    "    diagram1 = v_pphh.copy()\n",
    "    diagram23 = make_diagrams2_3(t2_pphh, fabij)\n",
    "    diagram4 = make_diagram(v_pppp,t2_pphh,0.5)\n",
    "    diagram5 = make_diagram(t2_pphh,v_hhhh,0.5)\n",
    "    \n",
    "    hbar_pphh=[]\n",
    "    for i in range(len(t2_pphh)):\n",
    "        mat = (  diagram1[i]\n",
    "               + diagram23[i]\n",
    "               + diagram4[i]\n",
    "               + diagram5[i]  )\n",
    "        hbar_pphh.append(mat)\n",
    "    \n",
    "    return hbar_pphh\n",
    "    \n",
    "def get_energy_denominator(hh_channels,p_rel_pp,p_rel_hh,sp_basis,Nocc,dk,Lbox):\n",
    "    res=[]\n",
    "    fabij=[]\n",
    "    for i, Ptot in enumerate(hh_channels):\n",
    "        dimhh=len(p_rel_hh[i])\n",
    "        dimpp=len(p_rel_pp[i])\n",
    "        res_mat = np.zeros((dimpp,dimhh))\n",
    "        f_mat   = np.zeros((dimpp,dimhh))\n",
    "        for ii, psh_rel in enumerate(p_rel_hh[i]):\n",
    "            [pij, [si, sj]] = psh_rel  \n",
    "            p_i = (Ptot+pij)//2\n",
    "            p_i = p_i + np.array([Nmax,Nmax,Nmax],dtype=int)\n",
    "            p_j = (Ptot-pij)//2\n",
    "            p_j = p_j + np.array([Nmax,Nmax,Nmax],dtype=int)\n",
    "            ssi = (1-si)//2\n",
    "            ssj = (1-sj)//2\n",
    "            fii = fock_mtx4[p_i[0],p_i[1],p_i[2],ssi]\n",
    "            fjj = fock_mtx4[p_j[0],p_j[1],p_j[2],ssj]\n",
    "            for jj, psp_rel in enumerate(p_rel_pp[i]):\n",
    "                [pab, [sa, sb]] = psp_rel\n",
    "                p_a = (Ptot+pab)//2\n",
    "                p_a = p_a + np.array([Nmax,Nmax,Nmax],dtype=int)\n",
    "                p_b = (Ptot-pab)//2\n",
    "                p_b = p_b + np.array([Nmax,Nmax,Nmax],dtype=int)\n",
    "                ssa = (1-sa)//2\n",
    "                ssb = (1-sb)//2\n",
    "                faa = fock_mtx4[p_a[0],p_a[1],p_a[2],ssa]\n",
    "                fbb = fock_mtx4[p_b[0],p_b[1],p_b[2],ssb]\n",
    "                \n",
    "                res_mat[jj,ii] = 1.0 / (fii + fjj - faa - fbb) \n",
    "                f_mat[jj,ii] = faa + fbb - fii - fjj\n",
    "        res.append(res_mat)\n",
    "        fabij.append(f_mat)\n",
    "    return res, fabij\n",
    "\n",
    "\n",
    "def get_t2_from_mbpt(Vpphh,denom):\n",
    "    \"\"\"\n",
    "    param Vpphh: Vpphh\n",
    "    param denom: energy denominator in pphh format\n",
    "    return t2: quotient of both, element for element \n",
    "    \"\"\"\n",
    "    res = []\n",
    "    for i, vv in enumerate(Vpphh):\n",
    "        dd = denom[i]\n",
    "        res_mat = vv*dd  #how simple in python; element by element multiply\n",
    "        res.append(res_mat)\n",
    "    return res\n",
    "\n",
    "\n",
    "def compute_E_CCD(Vpphh,T2pphh):\n",
    "    erg=0.0\n",
    "#     erg2=0.0\n",
    "    for i, t2mat in enumerate(T2pphh):\n",
    "        vmat  = Vpphh[i]\n",
    "        erg = erg + 0.25*np.sum(vmat*t2mat)\n",
    "    return erg\n",
    "\n",
    "\n",
    "def compute_Fock_4(sp_basis,Nocc,dk,Lbox,Nmax):\n",
    "    fock_mtx4=np.zeros(shape=(2*Nmax+1, 2*Nmax+1, 2*Nmax+1, 2))\n",
    "    for i, vec in enumerate(sp_basis):\n",
    "        pvec=vec*dk\n",
    "        spin=spin_of_index(i)\n",
    "        si = (1 - spin)//2\n",
    "        px=vec[0]+Nmax\n",
    "        py=vec[1]+Nmax\n",
    "        pz=vec[2]+Nmax\n",
    "        fock_mtx4[px,py,pz,si] = Fock(pvec,spin,sp_basis,Nocc,dk,Lbox)\n",
    "    return fock_mtx4\n",
    "\n",
    "#####################################\n",
    "########### Main Program starts here    \n",
    "\n",
    "from timeit import default_timer as timer\n",
    "# for timing purposes\n",
    "\n",
    "progstart=timer()\n",
    "\n",
    "Nmax=1\n",
    "kmax=1.0\n",
    "mbase = MomSpaceBasis(Nmax,kmax)\n",
    "lattice=mbase.nvec()\n",
    "\n",
    "## set particle number\n",
    "NN=14\n",
    "st_degen=2  # spin up and down\n",
    "print(\"chosen N =\", NN)\n",
    "print(\"magic numbers\", magic_numbers(mbase))\n",
    "\n",
    "## set density\n",
    "rho=0.08\n",
    "\n",
    "dk = get_dk(rho,NN)\n",
    "\n",
    "mbase.update(dk)\n",
    "Lbox = mbase.Lbox\n",
    "\n",
    "\n",
    "## get single particle basis\n",
    "\n",
    "sp_basis = spbasis_from_MomSpaceBasis(lattice,st_degen)\n",
    "num_states = len(sp_basis)\n",
    "\n",
    "print('number of s.p. states:', num_states)\n",
    "\n",
    "# print out a few facts of the reference state\n",
    "total_Tkin = compute_total_Tkin(NN,sp_basis,dk)\n",
    "print('total Tkin per particle =', total_Tkin/NN )\n",
    "\n",
    "k_fermi = kF_from_density(rho)\n",
    "\n",
    "print(\"Fermi momentum =\", k_fermi)\n",
    "\n",
    "E_gas = EnergyDensity_FermiGas(k_fermi)\n",
    "\n",
    "print(\"Energy per neutron of infinite free Fermi gas\", E_gas/rho)\n",
    "\n",
    "E_HF = compute_E_HF_simple(NN,sp_basis,dk)\n",
    "E_HF = E_HF/NN\n",
    "print(\"HF energy per neutron =\", E_HF)\n",
    "\n",
    "## now we start our business ...\n",
    "## get all channels and two-body states within those channels; set T2 to zero\n",
    "hh_channels, pp_channels, p_rel_hh, p_rel_pp, t2_pphh = setup_T2_amplitudes(sp_basis,NN,st_degen)\n",
    "\n",
    "# get some insight in how big this all is\n",
    "count=0\n",
    "for i, channel in enumerate(p_rel_hh):\n",
    "    dim=len(p_rel_hh[i])\n",
    "    count=count+dim\n",
    "\n",
    "print('hh number of total combinations', count)\n",
    "\n",
    "count=0\n",
    "for i, channel in enumerate(p_rel_pp):\n",
    "    dim=len(p_rel_pp[i])\n",
    "    count=count+dim\n",
    "    \n",
    "print('pp number of total combinations', count)\n",
    "\n",
    "\n",
    "print(\"get v_hhhh, v_pphh, v_pppp\")\n",
    "start = timer()\n",
    "v_hhhh, v_pphh, v_pppp = init_V(Lbox, dk, hh_channels, pp_channels, p_rel_hh, p_rel_pp)\n",
    "end = timer()\n",
    "print(\"what a hog!\", end-start, 'seconds')\n",
    "\n",
    "\n",
    "print(\"compute energy denominator\")\n",
    "start = timer()\n",
    "fock_mtx4 = compute_Fock_4(sp_basis,NN,dk,Lbox,Nmax)\n",
    "denom_pphh, f_abij = get_energy_denominator(pp_channels,p_rel_pp,p_rel_hh,sp_basis,NN,dk,Lbox)\n",
    "end = timer()\n",
    "print(\"that's faster\", end-start, 'seconds')\n",
    "\n",
    "print(\"Initialize T2 from MBPT2\")\n",
    "t2_pphh = get_t2_from_mbpt(v_pphh,denom_pphh)\n",
    "\n",
    "erg = compute_E_CCD(v_pphh,t2_pphh)\n",
    "print('MBPT2 correlation energy per neutron =', erg/NN)\n",
    "\n",
    "\n",
    "print(\"start CCD iterations ...\")\n",
    "\n",
    "niter=200\n",
    "mix=0.99\n",
    "erg_old=0.0\n",
    "eps=1.e-8\n",
    "for iter in range(niter):\n",
    "    \n",
    "    start = timer()\n",
    "    hbar_pphh = compute_hbar(v_pppp,v_pphh,v_hhhh,t2_pphh,f_abij)\n",
    "    end = timer()\n",
    "    print(\"time of making Hbar:\", end-start, 'seconds')\n",
    "    \n",
    "    t2_new = get_t2_from_mbpt(hbar_pphh,denom_pphh)\n",
    "    \n",
    "    for i in range(len(t2_new)):\n",
    "        t2_new[i] = t2_pphh[i] + t2_new[i]\n",
    "    \n",
    "    erg = compute_E_CCD(v_pphh,t2_new)\n",
    "    \n",
    "    myeps = abs(erg-erg_old)/abs(erg)\n",
    "    if myeps < eps: break\n",
    "    erg_old=erg\n",
    "\n",
    "    print(\"iter=\", iter, \"Correlation energy per neutron=\", erg/NN, \", epsilon=\", myeps)\n",
    "    \n",
    "    for i in range(len(t2_pphh)):\n",
    "        t2_pphh[i] = mix*t2_new[i] + (1.0-mix)*t2_pphh[i]\n",
    "    \n",
    "print(\"Correlation energy per neutron= \", erg/NN)\n",
    "\n",
    "progend=timer()\n",
    "print('total time in seconds', progend-progstart)"
   ]
  },
  {
   "cell_type": "markdown",
   "id": "b6c39769",
   "metadata": {
    "editable": true
   },
   "source": [
    "<!-- --- end answer of exercise --- -->\n",
    "\n",
    "===== ====="
   ]
  },
  {
   "cell_type": "markdown",
   "id": "8b1e5d25",
   "metadata": {
    "editable": true
   },
   "source": [
    "## Benchmarks with the Minnesota potential\n",
    "\n",
    "For the benchmarks, let us use a nucleon mass $m=938.92$ MeV, $\\hbar =\n",
    "197.33$ MeV fm, and $c=1$. For $N=14$ neutrons at a density $\\rho=0.08\n",
    "{\\rm fm}^{-3}$ one finds $T_{\\rm kin}(\\vert\\phi_0\\rangle)/N =\n",
    "22.427553$ MeV, and $E_{HF}/N = 10.3498$ MeV. In model spaces with\n",
    "$N_{\\rm max}=1$ and $N_{\\rm max}=2$, and using only the first five diagrams\n",
    "of [Figure 11](#fig-ccd) for the CCD calculation, yields the correlation\n",
    "energies per particle of $E_{c}/N =-0.2118$ MeV and $E_{c}/N =-0.6923$\n",
    "MeV, respectively."
   ]
  },
  {
   "cell_type": "markdown",
   "id": "98f21dfb",
   "metadata": {
    "editable": true
   },
   "source": [
    "# From Structure to Reactions\n",
    "\n",
    "Nuclear coupled-cluster theory has also been used to describe aspects\n",
    "of nuclear reactions, namely photo reactions and computations of\n",
    "optical potentials. In what follows, we want to discuss these approaches."
   ]
  },
  {
   "cell_type": "markdown",
   "id": "45927ef7",
   "metadata": {
    "editable": true
   },
   "source": [
    "## Electroweak reactions\n",
    "\n",
    "Let us assume we probe a nucleus with an electroweak probe (e.g. via\n",
    "photon or $Z$-boson exchange). The corresponding operator\n",
    "$\\hat{\\Theta}$ introduces transitions in the nucleus. For photo\n",
    "reactions, the relevant operator is the dipole operator"
   ]
  },
  {
   "cell_type": "markdown",
   "id": "992011fd",
   "metadata": {
    "editable": true
   },
   "source": [
    "<!-- Equation labels as ordinary links -->\n",
    "<div id=\"_auto53\"></div>\n",
    "\n",
    "$$\n",
    "\\begin{equation}\n",
    "\\hat{\\Theta} = \\sum_{1=1}^A q_i (\\vec{r}_i - \\vec{R}_{CoM}) .\n",
    "\\label{_auto53} \\tag{70}\n",
    "\\end{equation}\n",
    "$$"
   ]
  },
  {
   "cell_type": "markdown",
   "id": "f0535195",
   "metadata": {
    "editable": true
   },
   "source": [
    "Here $q_i$ is the charge of nucleon $i$, and $\\vec{R}_{CoM}$ is the\n",
    "position of the center of mass. The structure function or response\n",
    "function describing the reaction is"
   ]
  },
  {
   "cell_type": "markdown",
   "id": "1ac758d1",
   "metadata": {
    "editable": true
   },
   "source": [
    "<!-- Equation labels as ordinary links -->\n",
    "<div id=\"_auto54\"></div>\n",
    "\n",
    "$$\n",
    "\\begin{equation}\n",
    "S(\\omega) \\equiv \\sum_f \\langle\\psi_0|\\hat{\\Theta}^\\dagger|\\psi_f\\rangle\\langle \\psi_f |\\hat{\\Theta}|\\psi_0\\rangle \\delta(E_f-E_0-\\omega).\n",
    "\\label{_auto54} \\tag{71}\n",
    "\\end{equation}\n",
    "$$"
   ]
  },
  {
   "cell_type": "markdown",
   "id": "190b42a5",
   "metadata": {
    "editable": true
   },
   "source": [
    "Here, the sum is over all final states. The structure function is\n",
    "difficult to compute because the sum is over (infinitely many)\n",
    "continuum states, and we seek a simpler formulation. The key idea is\n",
    "that the Lorentz integral transform (LIT) of the structure function"
   ]
  },
  {
   "cell_type": "markdown",
   "id": "e54fcabc",
   "metadata": {
    "editable": true
   },
   "source": [
    "<!-- Equation labels as ordinary links -->\n",
    "<div id=\"LIT\"></div>\n",
    "\n",
    "$$\n",
    "\\begin{equation}\n",
    "\\label{LIT} \\tag{72}\n",
    "L(\\omega_0,\\Gamma) \\equiv {\\Gamma\\over\\pi} \\int d\\omega \\frac{S(\\omega)}{(\\omega-\\omega_0)^2+\\Gamma^2} \n",
    "\\end{equation}\n",
    "$$"
   ]
  },
  {
   "cell_type": "markdown",
   "id": "fc837232",
   "metadata": {
    "editable": true
   },
   "source": [
    "$$\n",
    "= {\\Gamma\\over\\pi}\\langle\\psi_0|\\hat{\\Theta}^\\dagger {1\\over H-E_0-\\omega_0+i\\Gamma} {1\\over H-E_0-\\omega_0-i\\Gamma}\\hat{\\Theta}|\\psi_0\\rangle \\nonumber.\n",
    "$$"
   ]
  },
  {
   "cell_type": "markdown",
   "id": "288209d8",
   "metadata": {
    "editable": true
   },
   "source": [
    "We note that the LIT $L(\\omega_0,\\Gamma)$ of the structure function is\n",
    "a ground-state expectation value and thus much easier to compute than\n",
    "the structure function itself. We also note that the LIT is not\n",
    "invertible (mathematically speaking), but making some assumptions\n",
    "about the structure function, and imposing a finite resolution\n",
    "$\\Gamma$ alleviates this problem in practical computation.\n",
    "\n",
    "We next rewrite the LIT for coupled cluster using the shorthand\n",
    "$z\\equiv E_0+\\omega_0+i\\Gamma$ as"
   ]
  },
  {
   "cell_type": "markdown",
   "id": "a2ee3bc3",
   "metadata": {
    "editable": true
   },
   "source": [
    "<!-- Equation labels as ordinary links -->\n",
    "<div id=\"_auto55\"></div>\n",
    "\n",
    "$$\n",
    "\\begin{equation}\n",
    "L(\\omega_0,\\Gamma) \\equiv {\\Gamma\\over\\pi} \\langle\\tilde{\\psi}_L(z^*) \\vert \\tilde{\\psi}_R(z)\\rangle , \n",
    "\\label{_auto55} \\tag{73}\n",
    "\\end{equation}\n",
    "$$"
   ]
  },
  {
   "cell_type": "markdown",
   "id": "8d0bf901",
   "metadata": {
    "editable": true
   },
   "source": [
    "with $\\vert\\tilde{\\psi}_R(z)\\rangle$ and $\\langle\\tilde{\\psi}_L(z^*)\\vert$ fulfilling"
   ]
  },
  {
   "cell_type": "markdown",
   "id": "084bce31",
   "metadata": {
    "editable": true
   },
   "source": [
    "<!-- Equation labels as ordinary links -->\n",
    "<div id=\"keyLR\"></div>\n",
    "\n",
    "$$\n",
    "\\begin{equation}\n",
    "\\label{keyLR} \\tag{74}\n",
    "\\left(\\overline{H}-z\\right) \\vert\\tilde{\\psi}_R(z)\\rangle = \\overline{\\Theta} \\vert\\phi_0\\rangle , \n",
    "\\end{equation}\n",
    "$$"
   ]
  },
  {
   "cell_type": "markdown",
   "id": "b56287b6",
   "metadata": {
    "editable": true
   },
   "source": [
    "<!-- Equation labels as ordinary links -->\n",
    "<div id=\"_auto56\"></div>\n",
    "\n",
    "$$\n",
    "\\begin{equation} \n",
    "\\langle\\tilde{\\psi}_L(z^*)\\vert \\left(\\overline{H}-z^*\\right) = \\langle \\phi_L\\vert .\n",
    "\\label{_auto56} \\tag{75}\n",
    "\\end{equation}\n",
    "$$"
   ]
  },
  {
   "cell_type": "markdown",
   "id": "46cd9692",
   "metadata": {
    "editable": true
   },
   "source": [
    "Here, $\\langle \\phi_L\\vert$ is the left ground state, i.e. the left\n",
    "eigenstate of the similarity-transformed Hamiltonian. Note that in the\n",
    "coupled-cluster formulation we have distinguished between left and\n",
    "right states (as these are not adjoints of each other), and replaced\n",
    "all operators by their similarity transformations. Making the ansatz"
   ]
  },
  {
   "cell_type": "markdown",
   "id": "0614ea52",
   "metadata": {
    "editable": true
   },
   "source": [
    "<!-- Equation labels as ordinary links -->\n",
    "<div id=\"ansatzR\"></div>\n",
    "\n",
    "$$\n",
    "\\begin{equation}\n",
    "\\label{ansatzR} \\tag{76}\n",
    "\\vert\\tilde{\\psi}_R(z)\\rangle = \\hat{R}\\vert\\phi_0\\rangle \n",
    "\\end{equation}\n",
    "$$"
   ]
  },
  {
   "cell_type": "markdown",
   "id": "b36d0e16",
   "metadata": {
    "editable": true
   },
   "source": [
    "$$\n",
    "= \\left( r_0(z) + \\sum_{ia} r_i^a(z) a_a^\\dagger a_i + {1\\over 4} \\sum_{ijab} r_{ij}^{ab}(z) a_a^\\dagger a^\\dagger_b a_j a_i +\\cdots\\right)\\vert\\phi_0\\rangle  \\nonumber\n",
    "$$"
   ]
  },
  {
   "cell_type": "markdown",
   "id": "d75e6a7a",
   "metadata": {
    "editable": true
   },
   "source": [
    "for the right state, and"
   ]
  },
  {
   "cell_type": "markdown",
   "id": "0b7e99f5",
   "metadata": {
    "editable": true
   },
   "source": [
    "<!-- Equation labels as ordinary links -->\n",
    "<div id=\"ansatzL\"></div>\n",
    "\n",
    "$$\n",
    "\\begin{equation}\n",
    "\\label{ansatzL} \\tag{77}\n",
    "\\langle\\tilde{\\psi}_L(z^*)\\vert= \\langle\\phi_L\\vert \\hat{L} \n",
    "\\end{equation}\n",
    "$$"
   ]
  },
  {
   "cell_type": "markdown",
   "id": "9850efbc",
   "metadata": {
    "editable": true
   },
   "source": [
    "$$\n",
    "= \\langle \\phi_L\\vert \\left( l_0(z) +  \\sum_{ia} l^i_a(z) a_i^\\dagger a_a + {1\\over 4} \\sum_{ijab} l^{ij}_{ab}(z) a_i^\\dagger a^\\dagger_j a_b a_a +\\cdots\\right)  \\nonumber\n",
    "$$"
   ]
  },
  {
   "cell_type": "markdown",
   "id": "40e651fa",
   "metadata": {
    "editable": true
   },
   "source": [
    "for the left state, make the Eq. ([74](#keyLR)) linear systems of\n",
    "equations that can be solved for the parameters $r_0, r_i^a,\n",
    "r_{ij}^{ab}$ and $l_0, l_a^i, l_{ab}^{ij}$ for each value of $z$. The LIT then becomes"
   ]
  },
  {
   "cell_type": "markdown",
   "id": "ad43421b",
   "metadata": {
    "editable": true
   },
   "source": [
    "<!-- Equation labels as ordinary links -->\n",
    "<div id=\"_auto57\"></div>\n",
    "\n",
    "$$\n",
    "\\begin{equation}\n",
    "L(z) = l_0(z) r_0(z) + \\sum_{ia} l_a^i(z) r_i^a(z) +{1\\over 4} l_{ab}^{ij}(z) r_{ij}^{ab}(z) \n",
    "\\label{_auto57} \\tag{78}\n",
    "\\end{equation}\n",
    "$$"
   ]
  },
  {
   "cell_type": "markdown",
   "id": "450fdd0c",
   "metadata": {
    "editable": true
   },
   "source": [
    "in the CCSD approximation. For details, please see [\"Giant and pigmy dipole resonances in 4He, 16,22O, and 40Ca from chiral nucleon-nucleon interactions,\" S. Bacca, N. Barnea, G. Hagen, M. Miorelli, G. Orlandini, and T. Papenbrock,\n",
    "Phys. Rev. C 90, 064619 (2014)]."
   ]
  },
  {
   "cell_type": "markdown",
   "id": "75869e89",
   "metadata": {
    "editable": true
   },
   "source": [
    "## Computing optical potentials from microscopic input\n",
    "\n",
    "The single-particle Green's function"
   ]
  },
  {
   "cell_type": "markdown",
   "id": "ce561ffe",
   "metadata": {
    "editable": true
   },
   "source": [
    "<!-- Equation labels as ordinary links -->\n",
    "<div id=\"Green\"></div>\n",
    "\n",
    "$$\n",
    "\\begin{equation}\n",
    "\\label{Green} \\tag{79}\n",
    "G(\\alpha, \\beta, E) \\equiv \\langle\\psi_0\\vert a_\\alpha {1\\over E-(H-E_0)+i\\eta}a^\\dagger_\\beta\\vert\\psi_0\\rangle\n",
    "+ \\langle\\psi_0\\vert a_\\beta^\\dagger {1\\over E-(H-E_0)-i\\eta}a_\\alpha\\vert\\psi_0\\rangle  \n",
    "\\end{equation}\n",
    "$$"
   ]
  },
  {
   "cell_type": "markdown",
   "id": "4a872e54",
   "metadata": {
    "editable": true
   },
   "source": [
    "describes the propagation of particles and holes in the nucleus with a\n",
    "ground state $\\vert\\psi_0\\rangle$ and energy $E_0$. The Green's function fulfills the Dyson equation"
   ]
  },
  {
   "cell_type": "markdown",
   "id": "34160972",
   "metadata": {
    "editable": true
   },
   "source": [
    "<!-- Equation labels as ordinary links -->\n",
    "<div id=\"Dyson\"></div>\n",
    "\n",
    "$$\n",
    "\\begin{equation}\n",
    "\\label{Dyson} \\tag{80}\n",
    "G = G^{(0)} +G^{(0)} \\Sigma^* G , \n",
    "\\end{equation}\n",
    "$$"
   ]
  },
  {
   "cell_type": "markdown",
   "id": "3d6793e6",
   "metadata": {
    "editable": true
   },
   "source": [
    "where $\\Sigma^*$ is the self energy and $G^{(0)}$ is the Hartree-Fock Green's function"
   ]
  },
  {
   "cell_type": "markdown",
   "id": "a07ec938",
   "metadata": {
    "editable": true
   },
   "source": [
    "<!-- Equation labels as ordinary links -->\n",
    "<div id=\"HFGreen\"></div>\n",
    "\n",
    "$$\n",
    "\\begin{equation}\n",
    "\\label{HFGreen} \\tag{81}\n",
    "G^{(0)}(\\alpha, \\beta, E) \\equiv \\langle\\phi_0\\vert a_\\alpha {1\\over E-(H_{HF}-E_{HF})+i\\eta}a^\\dagger_\\beta\\vert\\phi_0\\rangle\n",
    "+ \\langle\\phi_0\\vert a_\\beta^\\dagger {1\\over E-(H_{HF}-E_{HF})-i\\eta}a_\\alpha\\vert\\phi_0\\rangle \n",
    "\\end{equation}\n",
    "$$"
   ]
  },
  {
   "cell_type": "markdown",
   "id": "df2cb6ca",
   "metadata": {
    "editable": true
   },
   "source": [
    "$$\n",
    "= \\delta_\\alpha^\\beta \\left({\\Theta(\\alpha-F) \\over E-\\varepsilon_\\alpha +i\\eta} + {\\Theta(F-\\alpha) \\over E-\\varepsilon_\\alpha -i\\eta} \\right) \\nonumber.\n",
    "$$"
   ]
  },
  {
   "cell_type": "markdown",
   "id": "6ae0ca4b",
   "metadata": {
    "editable": true
   },
   "source": [
    "Here, $\\Theta()$ denotes the unit step function and $F$ labels the\n",
    "index of the Fermi surface. The key point is now that the optical\n",
    "potential $\\Sigma'$ (which describes the reaction of a single nucleon with the\n",
    "nucleus) is related to the self energy and the Hartree-Fock potential\n",
    "$U_{HF}$ by [F. Capuzzi and C. Mahaux, \"Projection operator approach to the\n",
    "self-energy,\" Ann. Phys. (NY) 245, 147 (1996)]"
   ]
  },
  {
   "cell_type": "markdown",
   "id": "c0c95eb6",
   "metadata": {
    "editable": true
   },
   "source": [
    "<!-- Equation labels as ordinary links -->\n",
    "<div id=\"_auto58\"></div>\n",
    "\n",
    "$$\n",
    "\\begin{equation}\n",
    "\\Sigma' \\equiv \\Sigma^* +U_{HF} .\n",
    "\\label{_auto58} \\tag{82}\n",
    "\\end{equation}\n",
    "$$"
   ]
  },
  {
   "cell_type": "markdown",
   "id": "aaf802b6",
   "metadata": {
    "editable": true
   },
   "source": [
    "The idea is thus as follows. Starting from a Hartree-Fock calculations\n",
    "enables us to compute the Hartree-Fock potential $U_{HF}$ and the\n",
    "Hartree-Fock Green's function ([81](#HFGreen)). Computing the Green's\n",
    "function ([79](#Green)) in coupled clusters, and inverting the Dyson\n",
    "equation ([80](#Dyson)) using"
   ]
  },
  {
   "cell_type": "markdown",
   "id": "f9bfc433",
   "metadata": {
    "editable": true
   },
   "source": [
    "<!-- Equation labels as ordinary links -->\n",
    "<div id=\"_auto59\"></div>\n",
    "\n",
    "$$\n",
    "\\begin{equation}\n",
    "\\Sigma^* = \\left(G^{(0)}\\right)^{-1} - G^{-1}\n",
    "\\label{_auto59} \\tag{83}\n",
    "\\end{equation}\n",
    "$$"
   ]
  },
  {
   "cell_type": "markdown",
   "id": "59a214b2",
   "metadata": {
    "editable": true
   },
   "source": [
    "thus allows us to compute the optical potential. We note that the\n",
    "Green's function ([79](#Green)) resembles in its structure the LIT\n",
    "([72](#LIT)), and we will indeed use a similar approach to compute this\n",
    "object with the coupled-cluster method. Indeed, we compute"
   ]
  },
  {
   "cell_type": "markdown",
   "id": "656951c3",
   "metadata": {
    "editable": true
   },
   "source": [
    "<!-- Equation labels as ordinary links -->\n",
    "<div id=\"_auto60\"></div>\n",
    "\n",
    "$$\n",
    "\\begin{equation}\n",
    "\\left(E-(\\overline{H}-E_0)+ i\\eta\\right) \\vert\\tilde{\\psi}_R\\rangle = \\overline{a^\\dagger_\\beta} \\vert\\phi_0\\rangle , \n",
    "\\label{_auto60} \\tag{84}\n",
    "\\end{equation}\n",
    "$$"
   ]
  },
  {
   "cell_type": "markdown",
   "id": "3dbaf629",
   "metadata": {
    "editable": true
   },
   "source": [
    "<!-- Equation labels as ordinary links -->\n",
    "<div id=\"_auto61\"></div>\n",
    "\n",
    "$$\n",
    "\\begin{equation} \n",
    "\\langle\\tilde{\\psi}_L\\vert \\left(E-(E_0-\\overline{H})-i\\eta\\right) = \\langle \\phi_L\\vert \\overline{a_\\beta^\\dagger} , \n",
    "\\label{_auto61} \\tag{85}\n",
    "\\end{equation}\n",
    "$$"
   ]
  },
  {
   "cell_type": "markdown",
   "id": "3716d48c",
   "metadata": {
    "editable": true
   },
   "source": [
    "by making the ansatz ([76](#ansatzR)) and ([77](#ansatzL)) for the right\n",
    "and left states, respectively, solve the resulting linear systems, and\n",
    "then compute $G(\\alpha,\\beta,E) = \\langle\\phi_L\\vert\n",
    "\\overline{a_\\alpha} \\vert\\tilde{\\psi}_R\\rangle + \\langle\n",
    "\\tilde{\\psi}_L\\vert \\overline{a_\\alpha}\\vert\\phi_0\\rangle$.\n",
    "\n",
    "We note that a high quality optical potential can only be obtained if\n",
    "the structure of the nucleus is computed with a good accuracy, i.e. in\n",
    "good agreement to data on binding and separation energies, and charge\n",
    "and matter radii. For details, please see [\"Optical potential from\n",
    "first principles,\" J. Rotureau, P. Danielewicz, G. Hagen, F. Nunes,\n",
    "and T. Papenbrock, Phys. Rev. C 95, 024315 (2017); arXiv:1611.04554].\n",
    "We also note that this procedure must be repeated for any nucleus of\n",
    "interest, because the optical potential depends on the nucleus under\n",
    "consideration. Once the optical potential $\\Sigma'$ is computed, the\n",
    "single-particle Schroedinger equation"
   ]
  },
  {
   "cell_type": "markdown",
   "id": "4df14056",
   "metadata": {
    "editable": true
   },
   "source": [
    "<!-- Equation labels as ordinary links -->\n",
    "<div id=\"_auto62\"></div>\n",
    "\n",
    "$$\n",
    "\\begin{equation}\n",
    "\\left( -{\\hbar^2\\Delta\\over 2m} +\\Sigma'\\right)\\xi = E\\xi \n",
    "\\label{_auto62} \\tag{86}\n",
    "\\end{equation}\n",
    "$$"
   ]
  },
  {
   "cell_type": "markdown",
   "id": "fcccd657",
   "metadata": {
    "editable": true
   },
   "source": [
    "describes the interaction of a single nucleon (and wave function\n",
    "$\\xi$) with the nucleus.\n",
    "\n",
    "Finally, we note that this approach does not depend on solving the\n",
    "nucleus $A$ with the coupled-cluster method. Alternatives, such as the\n",
    "IMSRG or Self-Consistent Green's Function methods could also be used."
   ]
  }
 ],
 "metadata": {
  "language_info": {
   "codemirror_mode": {
    "name": "ipython",
    "version": 3
   },
   "file_extension": ".py",
   "mimetype": "text/x-python",
   "name": "python",
   "nbconvert_exporter": "python",
   "pygments_lexer": "ipython3",
   "version": "3.9.18"
  }
 },
 "nbformat": 4,
 "nbformat_minor": 5
}