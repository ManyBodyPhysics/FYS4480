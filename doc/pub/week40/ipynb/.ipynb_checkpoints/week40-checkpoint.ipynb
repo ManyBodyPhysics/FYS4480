{
 "cells": [
  {
   "cell_type": "markdown",
   "id": "3961627e",
   "metadata": {},
   "source": [
    "<!-- HTML file automatically generated from DocOnce source (https://github.com/doconce/doconce/)\n",
    "doconce format html week40.do.txt --no_mako -->\n",
    "<!-- dom:TITLE: Week 40: Mean-field theories, stability of Hartree-Fock equations and the homogeneous electron gas -->"
   ]
  },
  {
   "cell_type": "markdown",
   "id": "e46eb733",
   "metadata": {},
   "source": [
    "# Week 40: Mean-field theories, stability of Hartree-Fock equations and the homogeneous electron gas\n",
    "**Morten Hjorth-Jensen**, Department of Physics and Center for Computing in Science Education, University of Oslo, Norway and Department of Physics and Astronomy and Facility for Rare Isotope Beams, Michigan State University, USA\n",
    "\n",
    "Date: **Week 40, September 30-October 4**"
   ]
  },
  {
   "cell_type": "markdown",
   "id": "0c4e5381",
   "metadata": {},
   "source": [
    "## Week 40, September 30-October 4, 2024\n",
    "1. Topics to be covered\n",
    "\n",
    "a. Thursday:\n",
    "\n",
    "1. Efficient ways of implementing the Hartree-Fock algorithm, \n",
    "\n",
    "2. Thouless' theorem and stability of Hartree-Fock equations\n",
    "<!-- o [Video of lecture TBA](https://youtu.be/) -->\n",
    "\n",
    "c. Friday: \n",
    "\n",
    "1. Stability of Hartree-Fock equations and Thouless' theorem\n",
    "\n",
    "2. The homogeneous electron gas in three dimensions\n",
    "<!-- o [Video of lecture TBA](https://youtu.be/) -->\n",
    "\n",
    "3. Lecture Material: These slides and Szabo and Ostlund, sections 3.1-3.4\n",
    "\n",
    "4. Seventh exercise set at <https://github.com/ManyBodyPhysics/FYS4480/blob/master/doc/Exercises/2024/ExercisesWeek40.pdf>"
   ]
  },
  {
   "cell_type": "markdown",
   "id": "aff301ab",
   "metadata": {},
   "source": [
    "## Hartree-Fock by varying the coefficients of a wave function expansion\n",
    "\n",
    "Another possibility is to expand the single-particle functions in a\n",
    "known basis and vary the coefficients, that is, the new\n",
    "single-particle wave function is written as a linear expansion in\n",
    "terms of a fixed chosen orthogonal basis (for example the well-known\n",
    "harmonic oscillator functions or the hydrogen-like functions etc).  We\n",
    "define our new Hartree-Fock single-particle basis by performing a\n",
    "unitary transformation on our previous basis (labelled with greek\n",
    "indices) as"
   ]
  },
  {
   "cell_type": "markdown",
   "id": "cca71231",
   "metadata": {},
   "source": [
    "<!-- Equation labels as ordinary links -->\n",
    "<div id=\"eq:newbasis\"></div>\n",
    "\n",
    "$$\n",
    "\\begin{equation}\n",
    "\\psi_p^{HF}  = \\sum_{\\lambda} C_{p\\lambda}\\phi_{\\lambda}. \\label{eq:newbasis} \\tag{1}\n",
    "\\end{equation}\n",
    "$$"
   ]
  },
  {
   "cell_type": "markdown",
   "id": "deade4c6",
   "metadata": {},
   "source": [
    "In this case we vary the coefficients $C_{p\\lambda}$. If the basis has infinitely many solutions, we need\n",
    "to truncate the above sum.  We assume that the basis $\\phi_{\\lambda}$ is orthogonal."
   ]
  },
  {
   "cell_type": "markdown",
   "id": "7b242e62",
   "metadata": {},
   "source": [
    "## Hartree-Fock by varying the coefficients of a wave function expansion\n",
    "\n",
    "It is normal to choose a single-particle basis defined as the eigenfunctions\n",
    "of parts of the full Hamiltonian. The typical situation consists of the solutions of the one-body part of the Hamiltonian, that is we have"
   ]
  },
  {
   "cell_type": "markdown",
   "id": "1ad25d15",
   "metadata": {},
   "source": [
    "$$\n",
    "\\hat{h}_0\\phi_{\\lambda}=\\epsilon_{\\lambda}\\phi_{\\lambda}.\n",
    "$$"
   ]
  },
  {
   "cell_type": "markdown",
   "id": "800a385e",
   "metadata": {},
   "source": [
    "The single-particle wave functions $\\phi_{\\lambda}(\\mathbf{r})$, defined by the quantum numbers $\\lambda$ and $\\mathbf{r}$\n",
    "are defined as the overlap"
   ]
  },
  {
   "cell_type": "markdown",
   "id": "0a9656d9",
   "metadata": {},
   "source": [
    "$$\n",
    "\\phi_{\\lambda}(\\mathbf{r})  = \\langle \\mathbf{r} | \\lambda \\rangle .\n",
    "$$"
   ]
  },
  {
   "cell_type": "markdown",
   "id": "360ae422",
   "metadata": {},
   "source": [
    "## Hartree-Fock by varying the coefficients of a wave function expansion\n",
    "\n",
    "In deriving the Hartree-Fock equations, we will expand the\n",
    "single-particle functions in a known basis and vary the coefficients,\n",
    "that is, the new single-particle wave function is written as a linear\n",
    "expansion in terms of a fixed chosen orthogonal basis (for example the\n",
    "well-known harmonic oscillator functions or the hydrogen-like\n",
    "functions etc).\n",
    "\n",
    "We stated that a unitary transformation keeps the orthogonality. To see this consider first a basis of vectors $\\mathbf{v}_i$,"
   ]
  },
  {
   "cell_type": "markdown",
   "id": "a50de1dd",
   "metadata": {},
   "source": [
    "$$\n",
    "\\mathbf{v}_i = \\begin{bmatrix} v_{i1} \\\\ \\dots \\\\ \\dots \\\\v_{in} \\end{bmatrix}\n",
    "$$"
   ]
  },
  {
   "cell_type": "markdown",
   "id": "81fa324a",
   "metadata": {},
   "source": [
    "## Hartree-Fock by varying the coefficients of a wave function expansion\n",
    "\n",
    "We assume that the basis is orthogonal, that is"
   ]
  },
  {
   "cell_type": "markdown",
   "id": "62a48206",
   "metadata": {},
   "source": [
    "$$\n",
    "\\mathbf{v}_j^T\\mathbf{v}_i = \\delta_{ij}.\n",
    "$$"
   ]
  },
  {
   "cell_type": "markdown",
   "id": "35586bb8",
   "metadata": {},
   "source": [
    "An orthogonal or unitary transformation"
   ]
  },
  {
   "cell_type": "markdown",
   "id": "d2a4caaa",
   "metadata": {},
   "source": [
    "$$\n",
    "\\mathbf{w}_i=\\mathbf{U}\\mathbf{v}_i,\n",
    "$$"
   ]
  },
  {
   "cell_type": "markdown",
   "id": "68948900",
   "metadata": {},
   "source": [
    "preserves the dot product and orthogonality since"
   ]
  },
  {
   "cell_type": "markdown",
   "id": "93ea87be",
   "metadata": {},
   "source": [
    "$$\n",
    "\\mathbf{w}_j^T\\mathbf{w}_i=(\\mathbf{U}\\mathbf{v}_j)^T\\mathbf{U}\\mathbf{v}_i=\\mathbf{v}_j^T\\mathbf{U}^T\\mathbf{U}\\mathbf{v}_i= \\mathbf{v}_j^T\\mathbf{v}_i = \\delta_{ij}.\n",
    "$$"
   ]
  },
  {
   "cell_type": "markdown",
   "id": "fc6d504c",
   "metadata": {},
   "source": [
    "## Hartree-Fock by varying the coefficients of a wave function expansion\n",
    "\n",
    "This means that if the coefficients $C_{p\\lambda}$ belong to a unitary or orthogonal trasformation (using the Dirac bra-ket notation)"
   ]
  },
  {
   "cell_type": "markdown",
   "id": "f3ac8b72",
   "metadata": {},
   "source": [
    "$$\n",
    "\\vert p\\rangle  = \\sum_{\\lambda} C_{p\\lambda}\\vert\\lambda\\rangle,\n",
    "$$"
   ]
  },
  {
   "cell_type": "markdown",
   "id": "cafb9637",
   "metadata": {},
   "source": [
    "orthogonality is preserved, that is $\\langle \\alpha \\vert \\beta\\rangle = \\delta_{\\alpha\\beta}$\n",
    "and $\\langle p \\vert q\\rangle = \\delta_{pq}$. \n",
    "\n",
    "This propertry is extremely useful when we build up a basis of many-body Stater determinant based states. \n",
    "\n",
    "**Note also that although a basis $\\vert \\alpha\\rangle$ contains an infinity of states, for practical calculations we have always to make some truncations.**"
   ]
  },
  {
   "cell_type": "markdown",
   "id": "a078b37d",
   "metadata": {},
   "source": [
    "## Hartree-Fock by varying the coefficients of a wave function expansion\n",
    "\n",
    "Before we develop the Hartree-Fock equations, there is another very\n",
    "useful property of determinants that we will use both in connection\n",
    "with Hartree-Fock calculations. This applies also to our previous\n",
    "discussion on full configuration interaction theory.\n",
    "\n",
    "Consider the following determinant"
   ]
  },
  {
   "cell_type": "markdown",
   "id": "1f82cd84",
   "metadata": {},
   "source": [
    "$$\n",
    "\\left| \\begin{array}{cc} \\alpha_1b_{11}+\\alpha_2sb_{12}& a_{12}\\\\\n",
    "                         \\alpha_1b_{21}+\\alpha_2b_{22}&a_{22}\\end{array} \\right|=\\alpha_1\\left|\\begin{array}{cc} b_{11}& a_{12}\\\\\n",
    "                         b_{21}&a_{22}\\end{array} \\right|+\\alpha_2\\left| \\begin{array}{cc} b_{12}& a_{12}\\\\b_{22}&a_{22}\\end{array} \\right|\n",
    "$$"
   ]
  },
  {
   "cell_type": "markdown",
   "id": "d1c66c91",
   "metadata": {},
   "source": [
    "## Hartree-Fock by varying the coefficients of a wave function expansion\n",
    "\n",
    "We can generalize this to  an $n\\times n$ matrix and have"
   ]
  },
  {
   "cell_type": "markdown",
   "id": "8871cbc4",
   "metadata": {},
   "source": [
    "$$\n",
    "\\left| \\begin{array}{cccccc} a_{11}& a_{12} & \\dots & \\sum_{k=1}^n c_k b_{1k} &\\dots & a_{1n}\\\\\n",
    "a_{21}& a_{22} & \\dots & \\sum_{k=1}^n c_k b_{2k} &\\dots & a_{2n}\\\\\n",
    "\\dots & \\dots & \\dots & \\dots & \\dots & \\dots \\\\\n",
    "\\dots & \\dots & \\dots & \\dots & \\dots & \\dots \\\\\n",
    "a_{n1}& a_{n2} & \\dots & \\sum_{k=1}^n c_k b_{nk} &\\dots & a_{nn}\\end{array} \\right|=\n",
    "\\sum_{k=1}^n c_k\\left| \\begin{array}{cccccc} a_{11}& a_{12} & \\dots &  b_{1k} &\\dots & a_{1n}\\\\\n",
    "a_{21}& a_{22} & \\dots &  b_{2k} &\\dots & a_{2n}\\\\\n",
    "\\dots & \\dots & \\dots & \\dots & \\dots & \\dots\\\\\n",
    "\\dots & \\dots & \\dots & \\dots & \\dots & \\dots\\\\\n",
    "a_{n1}& a_{n2} & \\dots &  b_{nk} &\\dots & a_{nn}\\end{array} \\right| .\n",
    "$$"
   ]
  },
  {
   "cell_type": "markdown",
   "id": "1ac94087",
   "metadata": {},
   "source": [
    "This is a property we will use in our Hartree-Fock discussions."
   ]
  },
  {
   "cell_type": "markdown",
   "id": "40259886",
   "metadata": {},
   "source": [
    "## Hartree-Fock by varying the coefficients of a wave function expansion\n",
    "\n",
    "We can generalize the previous results, now \n",
    "with all elements $a_{ij}$  being given as functions of \n",
    "linear combinations  of various coefficients $c$ and elements $b_{ij}$,"
   ]
  },
  {
   "cell_type": "markdown",
   "id": "4db92ecc",
   "metadata": {},
   "source": [
    "$$\n",
    "\\left| \\begin{array}{cccccc} \\sum_{k=1}^n b_{1k}c_{k1}& \\sum_{k=1}^n b_{1k}c_{k2} & \\dots & \\sum_{k=1}^n b_{1k}c_{kj}  &\\dots & \\sum_{k=1}^n b_{1k}c_{kn}\\\\\n",
    "\\sum_{k=1}^n b_{2k}c_{k1}& \\sum_{k=1}^n b_{2k}c_{k2} & \\dots & \\sum_{k=1}^n b_{2k}c_{kj} &\\dots & \\sum_{k=1}^n b_{2k}c_{kn}\\\\\n",
    "\\dots & \\dots & \\dots & \\dots & \\dots & \\dots \\\\\n",
    "\\dots & \\dots & \\dots & \\dots & \\dots &\\dots \\\\\n",
    "\\sum_{k=1}^n b_{nk}c_{k1}& \\sum_{k=1}^n b_{nk}c_{k2} & \\dots & \\sum_{k=1}^n b_{nk}c_{kj} &\\dots & \\sum_{k=1}^n b_{nk}c_{kn}\\end{array} \\right|=det(\\mathbf{C})det(\\mathbf{B}),\n",
    "$$"
   ]
  },
  {
   "cell_type": "markdown",
   "id": "d59b0afa",
   "metadata": {},
   "source": [
    "where $det(\\mathbf{C})$ and $det(\\mathbf{B})$ are the determinants of $n\\times n$ matrices\n",
    "with elements $c_{ij}$ and $b_{ij}$ respectively.  \n",
    "This is a property we will use in our Hartree-Fock discussions. Convince yourself about the correctness of the above expression by setting $n=2$."
   ]
  },
  {
   "cell_type": "markdown",
   "id": "56a30608",
   "metadata": {},
   "source": [
    "## Hartree-Fock by varying the coefficients of a wave function expansion\n",
    "\n",
    "With our definition of the new basis in terms of an orthogonal basis we have"
   ]
  },
  {
   "cell_type": "markdown",
   "id": "e1e05dbc",
   "metadata": {},
   "source": [
    "$$\n",
    "\\psi_p(x)  = \\sum_{\\lambda} C_{p\\lambda}\\phi_{\\lambda}(x).\n",
    "$$"
   ]
  },
  {
   "cell_type": "markdown",
   "id": "2def49d1",
   "metadata": {},
   "source": [
    "If the coefficients $C_{p\\lambda}$ belong to an orthogonal or unitary matrix, the new basis\n",
    "is also orthogonal. \n",
    "Our Slater determinant in the new basis $\\psi_p(x)$ is written as"
   ]
  },
  {
   "cell_type": "markdown",
   "id": "d5dbbd38",
   "metadata": {},
   "source": [
    "$$\n",
    "\\frac{1}{\\sqrt{N!}}\n",
    "\\left| \\begin{array}{ccccc} \\psi_{p}(x_1)& \\psi_{p}(x_2)& \\dots & \\dots & \\psi_{p}(x_N)\\\\\n",
    "                            \\psi_{q}(x_1)&\\psi_{q}(x_2)& \\dots & \\dots & \\psi_{q}(x_N)\\\\  \n",
    "                            \\dots & \\dots & \\dots & \\dots & \\dots \\\\\n",
    "                            \\dots & \\dots & \\dots & \\dots & \\dots \\\\\n",
    "                     \\psi_{t}(x_1)&\\psi_{t}(x_2)& \\dots & \\dots & \\psi_{t}(x_N)\\end{array} \\right|=\\frac{1}{\\sqrt{N!}}\n",
    "\\left| \\begin{array}{ccccc} \\sum_{\\lambda} C_{p\\lambda}\\phi_{\\lambda}(x_1)& \\sum_{\\lambda} C_{p\\lambda}\\phi_{\\lambda}(x_2)& \\dots & \\dots & \\sum_{\\lambda} C_{p\\lambda}\\phi_{\\lambda}(x_N)\\\\\n",
    "                            \\sum_{\\lambda} C_{q\\lambda}\\phi_{\\lambda}(x_1)&\\sum_{\\lambda} C_{q\\lambda}\\phi_{\\lambda}(x_2)& \\dots & \\dots & \\sum_{\\lambda} C_{q\\lambda}\\phi_{\\lambda}(x_N)\\\\  \n",
    "                            \\dots & \\dots & \\dots & \\dots & \\dots \\\\\n",
    "                            \\dots & \\dots & \\dots & \\dots & \\dots \\\\\n",
    "                     \\sum_{\\lambda} C_{t\\lambda}\\phi_{\\lambda}(x_1)&\\sum_{\\lambda} C_{t\\lambda}\\phi_{\\lambda}(x_2)& \\dots & \\dots & \\sum_{\\lambda} C_{t\\lambda}\\phi_{\\lambda}(x_N)\\end{array} \\right|,\n",
    "$$"
   ]
  },
  {
   "cell_type": "markdown",
   "id": "ae57f6d2",
   "metadata": {},
   "source": [
    "which is nothing but $det(\\mathbf{C})det(\\Phi)$, with $det(\\Phi)$ being the determinant given by the basis functions $\\phi_{\\lambda}(x)$."
   ]
  },
  {
   "cell_type": "markdown",
   "id": "aa552a37",
   "metadata": {},
   "source": [
    "## Hartree-Fock by varying the coefficients of a wave function expansion\n",
    "\n",
    "In our discussions hereafter we will use our definitions of single-particle states above and below the Fermi ($F$) level given by the labels\n",
    "$ijkl\\dots \\le F$ for so-called single-hole states and $abcd\\dots > F$ for so-called particle states.\n",
    "For general single-particle states we employ the labels $pqrs\\dots$. \n",
    "\n",
    "We have"
   ]
  },
  {
   "cell_type": "markdown",
   "id": "acdb4811",
   "metadata": {},
   "source": [
    "$$\n",
    "E[\\Phi] \n",
    "  = \\sum_{\\mu=1}^N \\langle \\mu | h | \\mu \\rangle +\n",
    "  \\frac{1}{2}\\sum_{{\\mu}=1}^N\\sum_{{\\nu}=1}^N \\langle \\mu\\nu|\\hat{v}|\\mu\\nu\\rangle_{AS},\n",
    "$$"
   ]
  },
  {
   "cell_type": "markdown",
   "id": "d378c05f",
   "metadata": {},
   "source": [
    "we found the expression for the energy functional in terms of the basis function $\\phi_{\\lambda}(\\mathbf{r})$. We then  varied the above energy functional with respect to the basis functions $|\\mu \\rangle$."
   ]
  },
  {
   "cell_type": "markdown",
   "id": "cfd85d13",
   "metadata": {},
   "source": [
    "## Hartree-Fock by varying the coefficients of a wave function expansion\n",
    "\n",
    "Now we are interested in defining a new basis defined in terms of\n",
    "a chosen basis as defined in Eq. ([1](#eq:newbasis)). We can then rewrite the energy functional as"
   ]
  },
  {
   "cell_type": "markdown",
   "id": "473d805f",
   "metadata": {},
   "source": [
    "<!-- Equation labels as ordinary links -->\n",
    "<div id=\"FunctionalEPhi2\"></div>\n",
    "\n",
    "$$\n",
    "\\begin{equation}\n",
    "  E[\\Phi^{HF}] \n",
    "  = \\sum_{i=1}^N \\langle i | h | i \\rangle +\n",
    "  \\frac{1}{2}\\sum_{ij=1}^N\\langle ij|\\hat{v}|ij\\rangle_{AS}, \\label{FunctionalEPhi2} \\tag{2}\n",
    "\\end{equation}\n",
    "$$"
   ]
  },
  {
   "cell_type": "markdown",
   "id": "759673a3",
   "metadata": {},
   "source": [
    "where $\\Phi^{HF}$ is the new Slater determinant defined by the new basis of Eq. ([1](#eq:newbasis))."
   ]
  },
  {
   "cell_type": "markdown",
   "id": "ad8ab76d",
   "metadata": {},
   "source": [
    "## Hartree-Fock by varying the coefficients of a wave function expansion\n",
    "\n",
    "Using Eq. ([1](#eq:newbasis)) we can rewrite Eq. ([2](#FunctionalEPhi2)) as"
   ]
  },
  {
   "cell_type": "markdown",
   "id": "4dd6e27d",
   "metadata": {},
   "source": [
    "<!-- Equation labels as ordinary links -->\n",
    "<div id=\"FunctionalEPhi3\"></div>\n",
    "\n",
    "$$\n",
    "\\begin{equation}\n",
    "  E[\\Psi] \n",
    "  = \\sum_{i=1}^N \\sum_{\\alpha\\beta} C^*_{i\\alpha}C_{i\\beta}\\langle \\alpha | h | \\beta \\rangle +\n",
    "  \\frac{1}{2}\\sum_{ij=1}^N\\sum_{{\\alpha\\beta\\gamma\\delta}} C^*_{i\\alpha}C^*_{j\\beta}C_{i\\gamma}C_{j\\delta}\\langle \\alpha\\beta|\\hat{v}|\\gamma\\delta\\rangle_{AS}. \\label{FunctionalEPhi3} \\tag{3}\n",
    "\\end{equation}\n",
    "$$"
   ]
  },
  {
   "cell_type": "markdown",
   "id": "54215357",
   "metadata": {},
   "source": [
    "## Hartree-Fock by varying the coefficients of a wave function expansion\n",
    "\n",
    "We wish now to minimize the above functional. We introduce again a set of Lagrange multipliers, noting that\n",
    "since $\\langle i | j \\rangle = \\delta_{i,j}$ and $\\langle \\alpha | \\beta \\rangle = \\delta_{\\alpha,\\beta}$, \n",
    "the coefficients $C_{i\\gamma}$ obey the relation"
   ]
  },
  {
   "cell_type": "markdown",
   "id": "78c5adf4",
   "metadata": {},
   "source": [
    "$$\n",
    "\\langle i | j \\rangle=\\delta_{i,j}=\\sum_{\\alpha\\beta} C^*_{i\\alpha}C_{i\\beta}\\langle \\alpha | \\beta \\rangle=\n",
    "\\sum_{\\alpha} C^*_{i\\alpha}C_{i\\alpha},\n",
    "$$"
   ]
  },
  {
   "cell_type": "markdown",
   "id": "23075ac8",
   "metadata": {},
   "source": [
    "which allows us to define a functional to be minimized that reads"
   ]
  },
  {
   "cell_type": "markdown",
   "id": "259f111a",
   "metadata": {},
   "source": [
    "<!-- Equation labels as ordinary links -->\n",
    "<div id=\"_auto1\"></div>\n",
    "\n",
    "$$\n",
    "\\begin{equation}\n",
    "  F[\\Phi^{HF}]=E[\\Phi^{HF}] - \\sum_{i=1}^N\\epsilon_i\\sum_{\\alpha} C^*_{i\\alpha}C_{i\\alpha}.\n",
    "\\label{_auto1} \\tag{4}\n",
    "\\end{equation}\n",
    "$$"
   ]
  },
  {
   "cell_type": "markdown",
   "id": "b3723ad8",
   "metadata": {},
   "source": [
    "## Hartree-Fock by varying the coefficients of a wave function expansion\n",
    "\n",
    "Minimizing with respect to $C^*_{i\\alpha}$, remembering that the equations for $C^*_{i\\alpha}$ and $C_{i\\alpha}$\n",
    "can be written as two  independent equations, we obtain"
   ]
  },
  {
   "cell_type": "markdown",
   "id": "78ed4419",
   "metadata": {},
   "source": [
    "$$\n",
    "\\frac{d}{dC^*_{i\\alpha}}\\left[  E[\\Phi^{HF}] - \\sum_{j}\\epsilon_j\\sum_{\\alpha} C^*_{j\\alpha}C_{j\\alpha}\\right]=0,\n",
    "$$"
   ]
  },
  {
   "cell_type": "markdown",
   "id": "ea5347b0",
   "metadata": {},
   "source": [
    "which yields for every single-particle state $i$ and index $\\alpha$ (recalling that the coefficients $C_{i\\alpha}$ are matrix elements of a unitary (or orthogonal for a real symmetric matrix) matrix)\n",
    "the following Hartree-Fock equations"
   ]
  },
  {
   "cell_type": "markdown",
   "id": "2e95c1be",
   "metadata": {},
   "source": [
    "$$\n",
    "\\sum_{\\beta} C_{i\\beta}\\langle \\alpha | h | \\beta \\rangle+\n",
    "\\sum_{j=1}^N\\sum_{\\beta\\gamma\\delta} C^*_{j\\beta}C_{j\\delta}C_{i\\gamma}\\langle \\alpha\\beta|\\hat{v}|\\gamma\\delta\\rangle_{AS}=\\epsilon_i^{HF}C_{i\\alpha}.\n",
    "$$"
   ]
  },
  {
   "cell_type": "markdown",
   "id": "a5f313f5",
   "metadata": {},
   "source": [
    "## Hartree-Fock by varying the coefficients of a wave function expansion\n",
    "\n",
    "We can rewrite this equation as (changing dummy variables)"
   ]
  },
  {
   "cell_type": "markdown",
   "id": "83b24c94",
   "metadata": {},
   "source": [
    "$$\n",
    "\\sum_{\\beta} \\left\\{\\langle \\alpha | h | \\beta \\rangle+\n",
    "\\sum_{j}^N\\sum_{\\gamma\\delta} C^*_{j\\gamma}C_{j\\delta}\\langle \\alpha\\gamma|\\hat{v}|\\beta\\delta\\rangle_{AS}\\right\\}C_{i\\beta}=\\epsilon_i^{HF}C_{i\\alpha}.\n",
    "$$"
   ]
  },
  {
   "cell_type": "markdown",
   "id": "e8dfb773",
   "metadata": {},
   "source": [
    "Note that the sums over greek indices run over the number of basis set functions (in principle an infinite number)."
   ]
  },
  {
   "cell_type": "markdown",
   "id": "459cbd29",
   "metadata": {},
   "source": [
    "## Hartree-Fock by varying the coefficients of a wave function expansion\n",
    "\n",
    "Defining"
   ]
  },
  {
   "cell_type": "markdown",
   "id": "533715fb",
   "metadata": {},
   "source": [
    "$$\n",
    "h_{\\alpha\\beta}^{HF}=\\langle \\alpha | h | \\beta \\rangle+\n",
    "\\sum_{j=1}^N\\sum_{\\gamma\\delta} C^*_{j\\gamma}C_{j\\delta}\\langle \\alpha\\gamma|\\hat{v}|\\beta\\delta\\rangle_{AS},\n",
    "$$"
   ]
  },
  {
   "cell_type": "markdown",
   "id": "1d5da7de",
   "metadata": {},
   "source": [
    "we can rewrite the new equations as"
   ]
  },
  {
   "cell_type": "markdown",
   "id": "42c0b125",
   "metadata": {},
   "source": [
    "<!-- Equation labels as ordinary links -->\n",
    "<div id=\"eq:newhf\"></div>\n",
    "\n",
    "$$\n",
    "\\begin{equation}\n",
    "\\sum_{\\beta}h_{\\alpha\\beta}^{HF}C_{i\\beta}=\\epsilon_i^{HF}C_{i\\alpha}. \\label{eq:newhf} \\tag{5}\n",
    "\\end{equation}\n",
    "$$"
   ]
  },
  {
   "cell_type": "markdown",
   "id": "9177e49c",
   "metadata": {},
   "source": [
    "The latter is nothing but a standard eigenvalue problem. \n",
    "\n",
    "We see that we do not need to compute any integrals in an iterative\n",
    "procedure for solving the equations.  It suffices to tabulate the\n",
    "matrix elements $\\langle \\alpha | h | \\beta \\rangle$ and $\\langle\n",
    "\\alpha\\gamma|\\hat{v}|\\beta\\delta\\rangle_{AS}$ once and for\n",
    "all. Successive iterations require thus only a look-up in tables over\n",
    "one-body and two-body matrix elements. These details will be discussed\n",
    "below when we solve the Hartree-Fock equations numerical."
   ]
  },
  {
   "cell_type": "markdown",
   "id": "92451188",
   "metadata": {},
   "source": [
    "## Hartree-Fock algorithm\n",
    "\n",
    "Our Hartree-Fock matrix  is thus"
   ]
  },
  {
   "cell_type": "markdown",
   "id": "2afb806a",
   "metadata": {},
   "source": [
    "$$\n",
    "\\hat{h}_{\\alpha\\beta}^{HF}=\\langle \\alpha | \\hat{h}_0 | \\beta \\rangle+\n",
    "\\sum_{j=1}^N\\sum_{\\gamma\\delta} C^*_{j\\gamma}C_{j\\delta}\\langle \\alpha\\gamma|\\hat{v}|\\beta\\delta\\rangle_{AS}.\n",
    "$$"
   ]
  },
  {
   "cell_type": "markdown",
   "id": "2b10fa31",
   "metadata": {},
   "source": [
    "The Hartree-Fock equations are solved in an iterative waym starting with a guess for the coefficients $C_{j\\gamma}=\\delta_{j,\\gamma}$ and solving the equations by diagonalization till the new single-particle energies\n",
    "$\\epsilon_i^{\\mathrm{HF}}$ do not change anymore by a prefixed quantity."
   ]
  },
  {
   "cell_type": "markdown",
   "id": "a1dc99d4",
   "metadata": {},
   "source": [
    "## Hartree-Fock by varying the coefficients of a wave function expansion\n",
    "\n",
    "Normally we assume that the single-particle basis $|\\beta\\rangle$ forms an eigenbasis for the operator\n",
    "$\\hat{h}_0$, meaning that the Hartree-Fock matrix becomes"
   ]
  },
  {
   "cell_type": "markdown",
   "id": "857974bc",
   "metadata": {},
   "source": [
    "$$\n",
    "\\hat{h}_{\\alpha\\beta}^{HF}=\\epsilon_{\\alpha}\\delta_{\\alpha,\\beta}+\n",
    "\\sum_{j=1}^N\\sum_{\\gamma\\delta} C^*_{j\\gamma}C_{j\\delta}\\langle \\alpha\\gamma|\\hat{v}|\\beta\\delta\\rangle_{AS}.\n",
    "$$"
   ]
  },
  {
   "cell_type": "markdown",
   "id": "bc100d83",
   "metadata": {},
   "source": [
    "The Hartree-Fock eigenvalue problem"
   ]
  },
  {
   "cell_type": "markdown",
   "id": "5c025abf",
   "metadata": {},
   "source": [
    "$$\n",
    "\\sum_{\\beta}\\hat{h}_{\\alpha\\beta}^{HF}C_{i\\beta}=\\epsilon_i^{\\mathrm{HF}}C_{i\\alpha},\n",
    "$$"
   ]
  },
  {
   "cell_type": "markdown",
   "id": "ea2a861a",
   "metadata": {},
   "source": [
    "can be written out in a more compact form as"
   ]
  },
  {
   "cell_type": "markdown",
   "id": "b04cdb3e",
   "metadata": {},
   "source": [
    "$$\n",
    "\\hat{h}^{HF}\\hat{C}=\\epsilon^{\\mathrm{HF}}\\hat{C}.\n",
    "$$"
   ]
  },
  {
   "cell_type": "markdown",
   "id": "a764d358",
   "metadata": {},
   "source": [
    "## Hartree-Fock by varying the coefficients of a wave function expansion\n",
    "\n",
    "The Hartree-Fock equations are, in their simplest form, solved in an\n",
    "iterative way, starting with a guess for the coefficients\n",
    "$C_{i\\alpha}$. We label the coefficients as $C_{i\\alpha}^{(n)}$, where\n",
    "the subscript $n$ stands for iteration $n$.  To set up the algorithm\n",
    "we can proceed as follows:\n",
    "\n",
    " * We start with a guess $C_{i\\alpha}^{(0)}=\\delta_{i,\\alpha}$. Alternatively, we could have used random starting values as long as the vectors are normalized. Another possibility is to give states below the Fermi level a larger weight.\n",
    "\n",
    " * The Hartree-Fock matrix simplifies then to (assuming that the coefficients $C_{i\\alpha} $  are real)"
   ]
  },
  {
   "cell_type": "markdown",
   "id": "560c40b5",
   "metadata": {},
   "source": [
    "$$\n",
    "\\hat{h}_{\\alpha\\beta}^{HF}=\\epsilon_{\\alpha}\\delta_{\\alpha,\\beta}+\n",
    "\\sum_{j = 1}^N\\sum_{\\gamma\\delta} C_{j\\gamma}^{(0)}C_{j\\delta}^{(0)}\\langle \\alpha\\gamma|\\hat{v}|\\beta\\delta\\rangle_{AS}.\n",
    "$$"
   ]
  },
  {
   "cell_type": "markdown",
   "id": "a4d313bc",
   "metadata": {},
   "source": [
    "## Hartree-Fock by varying the coefficients of a wave function expansion\n",
    "\n",
    "Solving the Hartree-Fock eigenvalue problem yields then new eigenvectors $C_{i\\alpha}^{(1)}$ and eigenvalues\n",
    "$\\epsilon_i^{HF(1)}$. \n",
    " * With the new eigenvalues we can set up a new Hartree-Fock potential"
   ]
  },
  {
   "cell_type": "markdown",
   "id": "cb9608ca",
   "metadata": {},
   "source": [
    "$$\n",
    "\\sum_{j = 1}^N\\sum_{\\gamma\\delta} C_{j\\gamma}^{(1)}C_{j\\delta}^{(1)}\\langle \\alpha\\gamma|\\hat{v}|\\beta\\delta\\rangle_{AS}.\n",
    "$$"
   ]
  },
  {
   "cell_type": "markdown",
   "id": "6cee6d1e",
   "metadata": {},
   "source": [
    "The diagonalization with the new Hartree-Fock potential yields new eigenvectors and eigenvalues.\n",
    "This process is continued till for example"
   ]
  },
  {
   "cell_type": "markdown",
   "id": "374b4c95",
   "metadata": {},
   "source": [
    "$$\n",
    "\\frac{\\sum_{p} |\\epsilon_i^{(n)}-\\epsilon_i^{(n-1)}|}{m} \\le \\lambda,\n",
    "$$"
   ]
  },
  {
   "cell_type": "markdown",
   "id": "dfb39cc5",
   "metadata": {},
   "source": [
    "where $\\lambda$ is a user prefixed quantity ($\\lambda \\sim 10^{-8}$ or smaller) and $p$ runs over all calculated single-particle\n",
    "energies and $m$ is the number of single-particle states."
   ]
  },
  {
   "cell_type": "markdown",
   "id": "962a516a",
   "metadata": {},
   "source": [
    "## Using the density matrix\n",
    "\n",
    "The equations are often rewritten in terms of a so-called density matrix,\n",
    "which is defined as"
   ]
  },
  {
   "cell_type": "markdown",
   "id": "740f7c30",
   "metadata": {},
   "source": [
    "<!-- Equation labels as ordinary links -->\n",
    "<div id=\"_auto2\"></div>\n",
    "\n",
    "$$\n",
    "\\begin{equation}\n",
    "\\rho_{\\gamma\\delta}=\\sum_{i=1}^{N}\\langle\\gamma|i\\rangle\\langle i|\\delta\\rangle = \\sum_{i=1}^{N}C_{i\\gamma}C^*_{i\\delta}.\n",
    "\\label{_auto2} \\tag{6}\n",
    "\\end{equation}\n",
    "$$"
   ]
  },
  {
   "cell_type": "markdown",
   "id": "373392e1",
   "metadata": {},
   "source": [
    "It means that we can rewrite the Hartree-Fock Hamiltonian as"
   ]
  },
  {
   "cell_type": "markdown",
   "id": "c945c64a",
   "metadata": {},
   "source": [
    "$$\n",
    "\\hat{h}_{\\alpha\\beta}^{HF}=\\epsilon_{\\alpha}\\delta_{\\alpha,\\beta}+\n",
    "\\sum_{\\gamma\\delta} \\rho_{\\gamma\\delta}\\langle \\alpha\\gamma|V|\\beta\\delta\\rangle_{AS}.\n",
    "$$"
   ]
  },
  {
   "cell_type": "markdown",
   "id": "b1e1645d",
   "metadata": {},
   "source": [
    "It is convenient to use the density matrix since we can precalculate in every iteration the product of two eigenvector components $C$."
   ]
  },
  {
   "cell_type": "markdown",
   "id": "3c60a6fc",
   "metadata": {},
   "source": [
    "## Code example"
   ]
  },
  {
   "cell_type": "code",
   "execution_count": 1,
   "id": "f40585af",
   "metadata": {},
   "outputs": [],
   "source": [
    "import numpy as np\n",
    "class HartreeFock:\n",
    "    def __init__(self, num_electrons, num_orbitals):\n",
    "        self.num_electrons = num_electrons\n",
    "        self.num_orbitals = num_orbitals\n",
    "\t# You would need to replace these by proper integrals\n",
    "        self.h = np.random.rand(num_orbitals, num_orbitals)  # One-electron integrals\n",
    "        self.coulomb = np.random.rand(num_orbitals, num_orbitals, num_orbitals, num_orbitals)  # Two-electron integrals\n",
    "    def build_fock_matrix(self, density_matrix):\n",
    "        fock_matrix = self.h.copy()\n",
    "        for i in range(self.num_orbitals):\n",
    "            for j in range(self.num_orbitals):\n",
    "                fock_matrix[i, j] += np.sum(density_matrix * self.coulomb[i, j])\n",
    "        return fock_matrix\n",
    "    def build_density_matrix(self, coefficients):\n",
    "        density_matrix = np.zeros((self.num_orbitals, self.num_orbitals))\n",
    "        for i in range(self.num_electrons):\n",
    "            density_matrix += np.outer(coefficients[:, i], coefficients[:, i])\n",
    "        return density_matrix\n",
    "    def diagonalize(self, fock_matrix):\n",
    "        energy, coefficients = np.linalg.eigh(fock_matrix)\n",
    "        return energy, coefficients\n",
    "    def run(self, max_iter=100, tol=1e-6):\n",
    "        coeffs = np.zeros((self.num_orbitals, self.num_electrons))\n",
    "        density_matrix = np.zeros((self.num_orbitals, self.num_orbitals))\n",
    "        for iteration in range(max_iter):\n",
    "            fock_matrix = self.build_fock_matrix(density_matrix)\n",
    "            energies, coeffs = self.diagonalize(fock_matrix)\n",
    "            \n",
    "            new_density_matrix = self.build_density_matrix(coeffs)\n",
    "            if np.linalg.norm(new_density_matrix - density_matrix) < tol:\n",
    "                print(f\"Converged in {iteration} iterations\")\n",
    "                break\n",
    "            density_matrix = new_density_matrix\n",
    "        return energies, coeffs\n",
    "# Example usage\n",
    "if __name__ == \"__main__\":\n",
    "    num_electrons = 2\n",
    "    num_orbitals = 4\n",
    "    hf = HartreeFock(num_electrons, num_orbitals)\n",
    "    energies, coefficients = hf.run()\n",
    "    print(\"Final energies:\", energies)\n",
    "    print(\"Final coefficients:\", coefficients)"
   ]
  },
  {
   "cell_type": "markdown",
   "id": "ca5a5b08",
   "metadata": {},
   "source": [
    "## Hartree-Fock in second quantization and stability of HF solution\n",
    "\n",
    "We wish now to derive the Hartree-Fock equations using our second-quantized formalism and study the stability of the equations. \n",
    "Our ansatz for the ground state of the system is approximated as (this is our representation of a Slater determinant in second quantization)"
   ]
  },
  {
   "cell_type": "markdown",
   "id": "f9366208",
   "metadata": {},
   "source": [
    "$$\n",
    "|\\Phi_0\\rangle = |c\\rangle = a^{\\dagger}_i a^{\\dagger}_j \\dots a^{\\dagger}_l|0\\rangle.\n",
    "$$"
   ]
  },
  {
   "cell_type": "markdown",
   "id": "3d905986",
   "metadata": {},
   "source": [
    "We wish to determine $\\hat{u}^{HF}$ so that \n",
    "$E_0^{HF}= \\langle c|\\hat{H}| c\\rangle$ becomes a local minimum. \n",
    "\n",
    "In our analysis here we will need Thouless' theorem, which states that\n",
    "an arbitrary Slater determinant $|c'\\rangle$ which is not orthogonal to a determinant\n",
    "$| c\\rangle ={\\displaystyle\\prod_{i=1}^{n}}\n",
    "a_{\\alpha_{i}}^{\\dagger}|0\\rangle$, can be written as"
   ]
  },
  {
   "cell_type": "markdown",
   "id": "a39e5a65",
   "metadata": {},
   "source": [
    "$$\n",
    "|c'\\rangle=exp\\left\\{\\sum_{a>F}\\sum_{i\\le F}C_{ai}a_{a}^{\\dagger}a_{i}\\right\\}| c\\rangle\n",
    "$$"
   ]
  },
  {
   "cell_type": "markdown",
   "id": "aeca0b14",
   "metadata": {},
   "source": [
    "## Thouless' theorem\n",
    "\n",
    "Let us give a simple proof of Thouless' theorem. The theorem states that we can make a linear combination av particle-hole excitations  with respect to a given reference state $\\vert c\\rangle$. With this linear combination, we can make a new Slater determinant $\\vert c'\\rangle $ which is not orthogonal to \n",
    "$\\vert c\\rangle$, that is"
   ]
  },
  {
   "cell_type": "markdown",
   "id": "1122b1a5",
   "metadata": {},
   "source": [
    "$$\n",
    "\\langle c|c'\\rangle \\ne 0.\n",
    "$$"
   ]
  },
  {
   "cell_type": "markdown",
   "id": "647355b5",
   "metadata": {},
   "source": [
    "To show this we need some intermediate steps. The exponential product of two operators  $\\exp{\\hat{A}}\\times\\exp{\\hat{B}}$ is equal to $\\exp{(\\hat{A}+\\hat{B})}$ only if the two operators commute, that is"
   ]
  },
  {
   "cell_type": "markdown",
   "id": "f7bdd53d",
   "metadata": {},
   "source": [
    "$$\n",
    "[\\hat{A},\\hat{B}] = 0.\n",
    "$$"
   ]
  },
  {
   "cell_type": "markdown",
   "id": "058b72fc",
   "metadata": {},
   "source": [
    "## Thouless' theorem\n",
    "\n",
    "If the operators do not commute, we need to resort to the [Baker-Campbell-Hauersdorf](http://www.encyclopediaofmath.org/index.php/Campbell%E2%80%93Hausdorff_formula). This relation states that"
   ]
  },
  {
   "cell_type": "markdown",
   "id": "99632acf",
   "metadata": {},
   "source": [
    "$$\n",
    "\\exp{\\hat{C}}=\\exp{\\hat{A}}\\exp{\\hat{B}},\n",
    "$$"
   ]
  },
  {
   "cell_type": "markdown",
   "id": "dc1ab502",
   "metadata": {},
   "source": [
    "with"
   ]
  },
  {
   "cell_type": "markdown",
   "id": "ad0a0b67",
   "metadata": {},
   "source": [
    "$$\n",
    "\\hat{C}=\\hat{A}+\\hat{B}+\\frac{1}{2}[\\hat{A},\\hat{B}]+\\frac{1}{12}[[\\hat{A},\\hat{B}],\\hat{B}]-\\frac{1}{12}[[\\hat{A},\\hat{B}],\\hat{A}]+\\dots\n",
    "$$"
   ]
  },
  {
   "cell_type": "markdown",
   "id": "d1a2f11a",
   "metadata": {},
   "source": [
    "## Thouless' theorem\n",
    "\n",
    "From these relations, we note that \n",
    "in our expression  for $|c'\\rangle$ we have commutators of the type"
   ]
  },
  {
   "cell_type": "markdown",
   "id": "3cfd0d8f",
   "metadata": {},
   "source": [
    "$$\n",
    "[a_{a}^{\\dagger}a_{i},a_{b}^{\\dagger}a_{j}],\n",
    "$$"
   ]
  },
  {
   "cell_type": "markdown",
   "id": "83cc1993",
   "metadata": {},
   "source": [
    "and it is easy to convince oneself that these commutators, or higher powers thereof, are all zero. This means that we can write out our new representation of a Slater determinant as"
   ]
  },
  {
   "cell_type": "markdown",
   "id": "538b303e",
   "metadata": {},
   "source": [
    "$$\n",
    "|c'\\rangle=exp\\left\\{\\sum_{a>F}\\sum_{i\\le F}C_{ai}a_{a}^{\\dagger}a_{i}\\right\\}| c\\rangle=\\prod_{i}\\left\\{1+\\sum_{a>F}C_{ai}a_{a}^{\\dagger}a_{i}+\\left(\\sum_{a>F}C_{ai}a_{a}^{\\dagger}a_{i}\\right)^2+\\dots\\right\\}| c\\rangle\n",
    "$$"
   ]
  },
  {
   "cell_type": "markdown",
   "id": "de55d54e",
   "metadata": {},
   "source": [
    "## Thouless' theorem\n",
    "\n",
    "We note that"
   ]
  },
  {
   "cell_type": "markdown",
   "id": "c0eb4a95",
   "metadata": {},
   "source": [
    "$$\n",
    "\\prod_{i}\\sum_{a>F}C_{ai}a_{a}^{\\dagger}a_{i}\\sum_{b>F}C_{bi}a_{b}^{\\dagger}a_{i}| c\\rangle =0,\n",
    "$$"
   ]
  },
  {
   "cell_type": "markdown",
   "id": "97cd3fae",
   "metadata": {},
   "source": [
    "and all higher-order powers of these combinations of creation and annihilation operators disappear \n",
    "due to the fact that $(a_i)^n| c\\rangle =0$ when $n > 1$. This allows us to rewrite the expression for $|c'\\rangle $ as"
   ]
  },
  {
   "cell_type": "markdown",
   "id": "c90cfc23",
   "metadata": {},
   "source": [
    "$$\n",
    "|c'\\rangle=\\prod_{i}\\left\\{1+\\sum_{a>F}C_{ai}a_{a}^{\\dagger}a_{i}\\right\\}| c\\rangle,\n",
    "$$"
   ]
  },
  {
   "cell_type": "markdown",
   "id": "fd7f0382",
   "metadata": {},
   "source": [
    "which we can rewrite as"
   ]
  },
  {
   "cell_type": "markdown",
   "id": "817a7558",
   "metadata": {},
   "source": [
    "$$\n",
    "|c'\\rangle=\\prod_{i}\\left\\{1+\\sum_{a>F}C_{ai}a_{a}^{\\dagger}a_{i}\\right\\}| a^{\\dagger}_{i_1} a^{\\dagger}_{i_2} \\dots a^{\\dagger}_{i_n}|0\\rangle.\n",
    "$$"
   ]
  },
  {
   "cell_type": "markdown",
   "id": "40d17a31",
   "metadata": {},
   "source": [
    "## Thouless' theorem\n",
    "\n",
    "The last equation can be written as"
   ]
  },
  {
   "cell_type": "markdown",
   "id": "d195079e",
   "metadata": {},
   "source": [
    "<!-- Equation labels as ordinary links -->\n",
    "<div id=\"_auto3\"></div>\n",
    "\n",
    "$$\n",
    "\\begin{equation}\n",
    "|c'\\rangle=\\prod_{i}\\left\\{1+\\sum_{a>F}C_{ai}a_{a}^{\\dagger}a_{i}\\right\\}| a^{\\dagger}_{i_1} a^{\\dagger}_{i_2} \\dots a^{\\dagger}_{i_n}|0\\rangle=\\left(1+\\sum_{a>F}C_{ai_1}a_{a}^{\\dagger}a_{i_1}\\right)a^{\\dagger}_{i_1} \n",
    "\\label{_auto3} \\tag{7}\n",
    "\\end{equation}\n",
    "$$"
   ]
  },
  {
   "cell_type": "markdown",
   "id": "a4805b7d",
   "metadata": {},
   "source": [
    "<!-- Equation labels as ordinary links -->\n",
    "<div id=\"_auto4\"></div>\n",
    "\n",
    "$$\n",
    "\\begin{equation} \n",
    " \\times\\left(1+\\sum_{a>F}C_{ai_2}a_{a}^{\\dagger}a_{i_2}\\right)a^{\\dagger}_{i_2} \\dots |0\\rangle=\\prod_{i}\\left(a^{\\dagger}_{i}+\\sum_{a>F}C_{ai}a_{a}^{\\dagger}\\right)|0\\rangle.\n",
    "\\label{_auto4} \\tag{8}\n",
    "\\end{equation}\n",
    "$$"
   ]
  },
  {
   "cell_type": "markdown",
   "id": "fa89e170",
   "metadata": {},
   "source": [
    "## New operators\n",
    "\n",
    "If we define a new creation operator"
   ]
  },
  {
   "cell_type": "markdown",
   "id": "8058dc34",
   "metadata": {},
   "source": [
    "<!-- Equation labels as ordinary links -->\n",
    "<div id=\"eq:newb\"></div>\n",
    "\n",
    "$$\n",
    "\\begin{equation}\n",
    "b^{\\dagger}_{i}=a^{\\dagger}_{i}+\\sum_{a>F}C_{ai}a_{a}^{\\dagger}, \\label{eq:newb} \\tag{9}\n",
    "\\end{equation}\n",
    "$$"
   ]
  },
  {
   "cell_type": "markdown",
   "id": "b45c69c6",
   "metadata": {},
   "source": [
    "we have"
   ]
  },
  {
   "cell_type": "markdown",
   "id": "c290c95f",
   "metadata": {},
   "source": [
    "$$\n",
    "|c'\\rangle=\\prod_{i}b^{\\dagger}_{i}|0\\rangle=\\prod_{i}\\left(a^{\\dagger}_{i}+\\sum_{a>F}C_{ai}a_{a}^{\\dagger}\\right)|0\\rangle,\n",
    "$$"
   ]
  },
  {
   "cell_type": "markdown",
   "id": "35be0d43",
   "metadata": {},
   "source": [
    "meaning that the new representation of the Slater determinant in second quantization, $|c'\\rangle$, looks like our previous ones. However, this representation is not general enough since we have a restriction on the sum over single-particle states in Eq. ([9](#eq:newb)). The single-particle states have all to be above the Fermi level."
   ]
  },
  {
   "cell_type": "markdown",
   "id": "e0521bb4",
   "metadata": {},
   "source": [
    "## Thouless' theorem\n",
    "\n",
    "The question then is whether we can construct a general representation of a Slater determinant with a creation operator"
   ]
  },
  {
   "cell_type": "markdown",
   "id": "af4a860e",
   "metadata": {},
   "source": [
    "$$\n",
    "\\tilde{b}^{\\dagger}_{i}=\\sum_{p}f_{ip}a_{p}^{\\dagger},\n",
    "$$"
   ]
  },
  {
   "cell_type": "markdown",
   "id": "6e4d6b36",
   "metadata": {},
   "source": [
    "where $f_{ip}$ is a matrix element of a unitary matrix which transforms our creation and annihilation operators\n",
    "$a^{\\dagger}$ and $a$ to $\\tilde{b}^{\\dagger}$ and $\\tilde{b}$. These new operators define a new representation of a Slater determinant as"
   ]
  },
  {
   "cell_type": "markdown",
   "id": "b76d0f52",
   "metadata": {},
   "source": [
    "$$\n",
    "|\\tilde{c}\\rangle=\\prod_{i}\\tilde{b}^{\\dagger}_{i}|0\\rangle.\n",
    "$$"
   ]
  },
  {
   "cell_type": "markdown",
   "id": "bf7d5d91",
   "metadata": {},
   "source": [
    "## Showing that $|\\tilde{c}\\rangle= |c'\\rangle$\n",
    "\n",
    "We need to show that $|\\tilde{c}\\rangle= |c'\\rangle$. We need also to assume that the new state\n",
    "is not orthogonal to $|c\\rangle$, that is $\\langle c| \\tilde{c}\\rangle \\ne 0$. From this it follows that"
   ]
  },
  {
   "cell_type": "markdown",
   "id": "58efd707",
   "metadata": {},
   "source": [
    "$$\n",
    "\\langle c| \\tilde{c}\\rangle=\\langle 0| a_{i_n}\\dots a_{i_1}\\left(\\sum_{p=i_1}^{i_n}f_{i_1p}a_{p}^{\\dagger} \\right)\\left(\\sum_{q=i_1}^{i_n}f_{i_2q}a_{q}^{\\dagger} \\right)\\dots \\left(\\sum_{t=i_1}^{i_n}f_{i_nt}a_{t}^{\\dagger} \\right)|0\\rangle,\n",
    "$$"
   ]
  },
  {
   "cell_type": "markdown",
   "id": "d1437288",
   "metadata": {},
   "source": [
    "which is nothing but the determinant $det(f_{ip})$ which we can, using the intermediate normalization condition, \n",
    "normalize to one, that is"
   ]
  },
  {
   "cell_type": "markdown",
   "id": "94cad915",
   "metadata": {},
   "source": [
    "$$\n",
    "det(f_{ip})=1,\n",
    "$$"
   ]
  },
  {
   "cell_type": "markdown",
   "id": "ae487079",
   "metadata": {},
   "source": [
    "meaning that $f$ has an inverse defined as (since we are dealing with orthogonal, and in our case unitary as well, transformations)"
   ]
  },
  {
   "cell_type": "markdown",
   "id": "faf0931a",
   "metadata": {},
   "source": [
    "$$\n",
    "\\sum_{k} f_{ik}f^{-1}_{kj} = \\delta_{ij},\n",
    "$$"
   ]
  },
  {
   "cell_type": "markdown",
   "id": "c9145b1f",
   "metadata": {},
   "source": [
    "and"
   ]
  },
  {
   "cell_type": "markdown",
   "id": "bf8845a9",
   "metadata": {},
   "source": [
    "$$\n",
    "\\sum_{j} f^{-1}_{ij}f_{jk} = \\delta_{ik}.\n",
    "$$"
   ]
  },
  {
   "cell_type": "markdown",
   "id": "f3072e8f",
   "metadata": {},
   "source": [
    "## Thouless' theorem\n",
    "\n",
    "Using these relations we can then define the linear combination of creation (and annihilation as well) \n",
    "operators as"
   ]
  },
  {
   "cell_type": "markdown",
   "id": "2348c36d",
   "metadata": {},
   "source": [
    "$$\n",
    "\\sum_{i}f^{-1}_{ki}\\tilde{b}^{\\dagger}_{i}=\\sum_{i}f^{-1}_{ki}\\sum_{p=i_1}^{\\infty}f_{ip}a_{p}^{\\dagger}=a_{k}^{\\dagger}+\\sum_{i}\\sum_{p=i_{n+1}}^{\\infty}f^{-1}_{ki}f_{ip}a_{p}^{\\dagger}.\n",
    "$$"
   ]
  },
  {
   "cell_type": "markdown",
   "id": "194164f6",
   "metadata": {},
   "source": [
    "Defining"
   ]
  },
  {
   "cell_type": "markdown",
   "id": "1415f766",
   "metadata": {},
   "source": [
    "$$\n",
    "c_{kp}=\\sum_{i \\le F}f^{-1}_{ki}f_{ip},\n",
    "$$"
   ]
  },
  {
   "cell_type": "markdown",
   "id": "d5994cbd",
   "metadata": {},
   "source": [
    "we can redefine"
   ]
  },
  {
   "cell_type": "markdown",
   "id": "c402e982",
   "metadata": {},
   "source": [
    "$$\n",
    "a_{k}^{\\dagger}+\\sum_{i}\\sum_{p=i_{n+1}}^{\\infty}f^{-1}_{ki}f_{ip}a_{p}^{\\dagger}=a_{k}^{\\dagger}+\\sum_{p=i_{n+1}}^{\\infty}c_{kp}a_{p}^{\\dagger}=b_k^{\\dagger},\n",
    "$$"
   ]
  },
  {
   "cell_type": "markdown",
   "id": "10a90e11",
   "metadata": {},
   "source": [
    "our starting point."
   ]
  },
  {
   "cell_type": "markdown",
   "id": "61279159",
   "metadata": {},
   "source": [
    "## Thouless' theorem\n",
    "\n",
    "We have shown that our general representation of a Slater determinant"
   ]
  },
  {
   "cell_type": "markdown",
   "id": "92378985",
   "metadata": {},
   "source": [
    "$$\n",
    "|\\tilde{c}\\rangle=\\prod_{i}\\tilde{b}^{\\dagger}_{i}|0\\rangle=|c'\\rangle=\\prod_{i}b^{\\dagger}_{i}|0\\rangle,\n",
    "$$"
   ]
  },
  {
   "cell_type": "markdown",
   "id": "3572a746",
   "metadata": {},
   "source": [
    "with"
   ]
  },
  {
   "cell_type": "markdown",
   "id": "3f810245",
   "metadata": {},
   "source": [
    "$$\n",
    "b_k^{\\dagger}=a_{k}^{\\dagger}+\\sum_{p=i_{n+1}}^{\\infty}c_{kp}a_{p}^{\\dagger}.\n",
    "$$"
   ]
  },
  {
   "cell_type": "markdown",
   "id": "2eb0b5b0",
   "metadata": {},
   "source": [
    "## Thouless' theorem\n",
    "\n",
    "This means that we can actually write an ansatz for the ground state of the system as a linear combination of\n",
    "terms which contain the ansatz itself $|c\\rangle$ with  an admixture from an infinity of one-particle-one-hole states. The latter has important consequences when we wish to interpret the Hartree-Fock equations and their stability. We can rewrite the new representation as"
   ]
  },
  {
   "cell_type": "markdown",
   "id": "9a59d9bf",
   "metadata": {},
   "source": [
    "$$\n",
    "|c'\\rangle = |c\\rangle+|\\delta c\\rangle,\n",
    "$$"
   ]
  },
  {
   "cell_type": "markdown",
   "id": "b7b9f043",
   "metadata": {},
   "source": [
    "where $|\\delta c\\rangle$ can now be interpreted as a small variation. If we approximate this term with \n",
    "contributions from one-particle-one-hole (*1p-1h*) states only, we arrive at"
   ]
  },
  {
   "cell_type": "markdown",
   "id": "0c14210c",
   "metadata": {},
   "source": [
    "$$\n",
    "|c'\\rangle = \\left(1+\\sum_{ai}\\delta C_{ai}a_{a}^{\\dagger}a_i\\right)|c\\rangle.\n",
    "$$"
   ]
  },
  {
   "cell_type": "markdown",
   "id": "49eae75b",
   "metadata": {},
   "source": [
    "## Thouless' theorem\n",
    "\n",
    "In our derivation of the Hartree-Fock equations we have shown that"
   ]
  },
  {
   "cell_type": "markdown",
   "id": "0a86331e",
   "metadata": {},
   "source": [
    "$$\n",
    "\\langle \\delta c| \\hat{H} | c\\rangle =0,\n",
    "$$"
   ]
  },
  {
   "cell_type": "markdown",
   "id": "59a9cdbd",
   "metadata": {},
   "source": [
    "which means that we have to satisfy"
   ]
  },
  {
   "cell_type": "markdown",
   "id": "989e1bfd",
   "metadata": {},
   "source": [
    "$$\n",
    "\\langle c|\\sum_{ai}\\delta C_{ai}\\left\\{a_{a}^{\\dagger}a_i\\right\\} \\hat{H} | c\\rangle =0.\n",
    "$$"
   ]
  },
  {
   "cell_type": "markdown",
   "id": "2c4f2a5d",
   "metadata": {},
   "source": [
    "With this as a background, we are now ready to study the stability of the Hartree-Fock equations.\n",
    "This is the topic for week 40."
   ]
  },
  {
   "cell_type": "markdown",
   "id": "e5339e8d",
   "metadata": {},
   "source": [
    "## Hartree-Fock in second quantization and stability of HF solution\n",
    "\n",
    "The variational condition for deriving the Hartree-Fock equations\n",
    "guarantees only that the expectation value $\\langle c | \\hat{H} | c\n",
    "\\rangle$ has an extreme value, not necessarily a minimum. To figure\n",
    "out whether the extreme value we have found is a minimum, we can use\n",
    "second quantization to analyze our results and find a criterion for\n",
    "the above expectation value to a local minimum. We will use Thouless'\n",
    "theorem and show that"
   ]
  },
  {
   "cell_type": "markdown",
   "id": "c0fa3e56",
   "metadata": {},
   "source": [
    "$$\n",
    "\\frac{\\langle c' |\\hat{H} | c'\\rangle}{\\langle c' |c'\\rangle} \\ge \\langle c |\\hat{H} | c\\rangle= E_0,\n",
    "$$"
   ]
  },
  {
   "cell_type": "markdown",
   "id": "2f9e7a6f",
   "metadata": {},
   "source": [
    "with"
   ]
  },
  {
   "cell_type": "markdown",
   "id": "b3671bbd",
   "metadata": {},
   "source": [
    "$$\n",
    "{|c'\\rangle} = {|c\\rangle + |\\delta c\\rangle}.\n",
    "$$"
   ]
  },
  {
   "cell_type": "markdown",
   "id": "e061b37f",
   "metadata": {},
   "source": [
    "Using Thouless' theorem we can write out $|c'\\rangle$ as"
   ]
  },
  {
   "cell_type": "markdown",
   "id": "faad81f9",
   "metadata": {},
   "source": [
    "<!-- Equation labels as ordinary links -->\n",
    "<div id=\"_auto5\"></div>\n",
    "\n",
    "$$\n",
    "\\begin{equation}\n",
    " {|c'\\rangle}=\\exp\\left\\{\\sum_{a > F}\\sum_{i \\le F}\\delta C_{ai}a_{a}^{\\dagger}a_{i}\\right\\}| c\\rangle\n",
    "\\label{_auto5} \\tag{10}\n",
    "\\end{equation}\n",
    "$$"
   ]
  },
  {
   "cell_type": "markdown",
   "id": "dcf21e77",
   "metadata": {},
   "source": [
    "<!-- Equation labels as ordinary links -->\n",
    "<div id=\"_auto6\"></div>\n",
    "\n",
    "$$\n",
    "\\begin{equation}  \n",
    "=\\left\\{1+\\sum_{a > F}\\sum_{i \\le F}\\delta C_{ai}a_{a}^{\\dagger}\n",
    "a_{i}+\\frac{1}{2!}\\sum_{ab > F}\\sum_{ij \\le F}\\delta C_{ai}\\delta C_{bj}a_{a}^{\\dagger}a_{i}a_{b}^{\\dagger}a_{j}+\\dots\\right\\}\n",
    "\\label{_auto6} \\tag{11}\n",
    "\\end{equation}\n",
    "$$"
   ]
  },
  {
   "cell_type": "markdown",
   "id": "70f2e9ca",
   "metadata": {},
   "source": [
    "where the amplitudes $\\delta C$ are small.\n",
    "\n",
    "The norm of $|c'\\rangle$ is given by (using the intermediate normalization condition $\\langle c' |c\\rangle=1$)"
   ]
  },
  {
   "cell_type": "markdown",
   "id": "ccd01542",
   "metadata": {},
   "source": [
    "$$\n",
    "\\langle c' | c'\\rangle = 1+\\sum_{a>F}\n",
    "\\sum_{i\\le F}|\\delta C_{ai}|^2+O(\\delta C_{ai}^3).\n",
    "$$"
   ]
  },
  {
   "cell_type": "markdown",
   "id": "59c6d80a",
   "metadata": {},
   "source": [
    "The expectation value for the energy is now given by (using the Hartree-Fock condition)"
   ]
  },
  {
   "cell_type": "markdown",
   "id": "b52cb97c",
   "metadata": {},
   "source": [
    "$$\n",
    "\\langle c' |\\hat{H} | c'\\rangle=\\langle c |\\hat{H} | c\\rangle +\n",
    "\\sum_{ab>F}\n",
    "\\sum_{ij\\le F}\\delta C_{ai}^*\\delta C_{bj}\\langle c |a_{i}^{\\dagger}a_{a}\\hat{H}a_{b}^{\\dagger}a_{j}|c\\rangle+\n",
    "$$"
   ]
  },
  {
   "cell_type": "markdown",
   "id": "06770c64",
   "metadata": {},
   "source": [
    "$$\n",
    "\\frac{1}{2!}\\sum_{ab>F}\n",
    "\\sum_{ij\\le F}\\delta C_{ai}\\delta C_{bj}\\langle c |\\hat{H}a_{a}^{\\dagger}a_{i}a_{b}^{\\dagger}a_{j}|c\\rangle+\\frac{1}{2!}\\sum_{ab>F}\n",
    "\\sum_{ij\\le F}\\delta C_{ai}^*\\delta C_{bj}^*\\langle c|a_{j}^{\\dagger}a_{b}a_{i}^{\\dagger}a_{a}\\hat{H}|c\\rangle\n",
    "+\\dots\n",
    "$$"
   ]
  },
  {
   "cell_type": "markdown",
   "id": "35f6724b",
   "metadata": {},
   "source": [
    "We have already calculated the second term on the right-hand side of the previous equation"
   ]
  },
  {
   "cell_type": "markdown",
   "id": "985fa577",
   "metadata": {},
   "source": [
    "<!-- Equation labels as ordinary links -->\n",
    "<div id=\"_auto7\"></div>\n",
    "\n",
    "$$\n",
    "\\begin{equation}\n",
    "\\langle c | \\left(\\{a^\\dagger_i a_a\\} \\hat{H} \\{a^\\dagger_b a_j\\} \\right) | c\\rangle=\\sum_{pq} \\sum_{ijab}\\delta C_{ai}^*\\delta C_{bj} \\langle p|\\hat{h}_0 |q\\rangle \n",
    "            \\langle c | \\left(\\{a^{\\dagger}_i a_a\\}\\{a^{\\dagger}_pa_q\\} \n",
    "             \\{a^{\\dagger}_b a_j\\} \\right)| c\\rangle\n",
    "\\label{_auto7} \\tag{12}\n",
    "\\end{equation}\n",
    "$$"
   ]
  },
  {
   "cell_type": "markdown",
   "id": "62bc9288",
   "metadata": {},
   "source": [
    "<!-- Equation labels as ordinary links -->\n",
    "<div id=\"_auto8\"></div>\n",
    "\n",
    "$$\n",
    "\\begin{equation} \n",
    " +\\frac{1}{4} \\sum_{pqrs} \\sum_{ijab}\\delta C_{ai}^*\\delta C_{bj} \\langle pq| \\hat{v}|rs\\rangle \n",
    "            \\langle c | \\left(\\{a^\\dagger_i a_a\\}\\{a^{\\dagger}_p a^{\\dagger}_q a_s  a_r\\} \\{a^{\\dagger}_b a_j\\} \\right)| c\\rangle ,\n",
    "\\label{_auto8} \\tag{13}\n",
    "\\end{equation}\n",
    "$$"
   ]
  },
  {
   "cell_type": "markdown",
   "id": "638772ce",
   "metadata": {},
   "source": [
    "resulting in"
   ]
  },
  {
   "cell_type": "markdown",
   "id": "2bb5e6c7",
   "metadata": {},
   "source": [
    "$$\n",
    "E_0\\sum_{ai}|\\delta C_{ai}|^2+\\sum_{ai}|\\delta C_{ai}|^2(\\varepsilon_a-\\varepsilon_i)-\\sum_{ijab} \\langle aj|\\hat{v}| bi\\rangle \\delta C_{ai}^*\\delta C_{bj}.\n",
    "$$"
   ]
  },
  {
   "cell_type": "markdown",
   "id": "1e0b7ab5",
   "metadata": {},
   "source": [
    "$$\n",
    "\\frac{1}{2!}\\langle c |\\left(\\{a^\\dagger_j a_b\\} \\{a^\\dagger_i a_a\\} \\hat{V}_N  \\right) | c\\rangle  = \n",
    "\\frac{1}{2!}\\langle c |\\left( \\hat{V}_N \\{a^\\dagger_a a_i\\} \\{a^\\dagger_b a_j\\} \\right)^{\\dagger} | c\\rangle\n",
    "$$"
   ]
  },
  {
   "cell_type": "markdown",
   "id": "f5fb21db",
   "metadata": {},
   "source": [
    "which is nothing but"
   ]
  },
  {
   "cell_type": "markdown",
   "id": "0e4c4d42",
   "metadata": {},
   "source": [
    "$$\n",
    "\\frac{1}{2!}\\langle c |  \\left( \\hat{V}_N \\{a^\\dagger_a a_i\\} \\{a^\\dagger_b a_j\\} \\right) | c\\rangle^*\n",
    "=\\frac{1}{2} \\sum_{ijab} (\\langle ij|\\hat{v}|ab\\rangle)^*\\delta C_{ai}^*\\delta C_{bj}^*\n",
    "$$"
   ]
  },
  {
   "cell_type": "markdown",
   "id": "d8403b00",
   "metadata": {},
   "source": [
    "or"
   ]
  },
  {
   "cell_type": "markdown",
   "id": "a700cbaf",
   "metadata": {},
   "source": [
    "$$\n",
    "\\frac{1}{2} \\sum_{ijab} (\\langle ab|\\hat{v}|ij\\rangle)\\delta C_{ai}^*\\delta C_{bj}^*\n",
    "$$"
   ]
  },
  {
   "cell_type": "markdown",
   "id": "5b85c584",
   "metadata": {},
   "source": [
    "where we have used the relation"
   ]
  },
  {
   "cell_type": "markdown",
   "id": "fb1c8ffa",
   "metadata": {},
   "source": [
    "$$\n",
    "\\langle a |\\hat{A} | b\\rangle =  (\\langle b |\\hat{A}^{\\dagger} | a\\rangle)^*\n",
    "$$"
   ]
  },
  {
   "cell_type": "markdown",
   "id": "967b83f3",
   "metadata": {},
   "source": [
    "due to the hermiticity of $\\hat{H}$ and $\\hat{V}$.\n",
    "\n",
    "We define two matrix elements"
   ]
  },
  {
   "cell_type": "markdown",
   "id": "78af0c1d",
   "metadata": {},
   "source": [
    "$$\n",
    "A_{ai,bj}=-\\langle aj|\\hat{v} bi\\rangle\n",
    "$$"
   ]
  },
  {
   "cell_type": "markdown",
   "id": "68953fa5",
   "metadata": {},
   "source": [
    "and"
   ]
  },
  {
   "cell_type": "markdown",
   "id": "dc3652a0",
   "metadata": {},
   "source": [
    "$$\n",
    "B_{ai,bj}=\\langle ab|\\hat{v}|ij\\rangle\n",
    "$$"
   ]
  },
  {
   "cell_type": "markdown",
   "id": "229bf6b5",
   "metadata": {},
   "source": [
    "both being anti-symmetrized.\n",
    "\n",
    "With these definitions we write out the energy as"
   ]
  },
  {
   "cell_type": "markdown",
   "id": "d445a97e",
   "metadata": {},
   "source": [
    "<!-- Equation labels as ordinary links -->\n",
    "<div id=\"_auto9\"></div>\n",
    "\n",
    "$$\n",
    "\\begin{equation}\n",
    "\\langle c'|H|c'\\rangle = \\left(1+\\sum_{ai}|\\delta C_{ai}|^2\\right)\\langle c |H|c\\rangle+\\sum_{ai}|\\delta C_{ai}|^2(\\varepsilon_a^{HF}-\\varepsilon_i^{HF})+\\sum_{ijab}A_{ai,bj}\\delta C_{ai}^*\\delta C_{bj}+\n",
    "\\label{_auto9} \\tag{14}\n",
    "\\end{equation}\n",
    "$$"
   ]
  },
  {
   "cell_type": "markdown",
   "id": "a13ceb74",
   "metadata": {},
   "source": [
    "<!-- Equation labels as ordinary links -->\n",
    "<div id=\"_auto10\"></div>\n",
    "\n",
    "$$\n",
    "\\begin{equation} \n",
    "\\frac{1}{2} \\sum_{ijab} B_{ai,bj}^*\\delta C_{ai}\\delta C_{bj}+\\frac{1}{2} \\sum_{ijab} B_{ai,bj}\\delta C_{ai}^*\\delta C_{bj}^*\n",
    "+O(\\delta C_{ai}^3),\n",
    "\\label{_auto10} \\tag{15}\n",
    "\\end{equation}\n",
    "$$"
   ]
  },
  {
   "cell_type": "markdown",
   "id": "82c8cfcf",
   "metadata": {},
   "source": [
    "which can be rewritten as"
   ]
  },
  {
   "cell_type": "markdown",
   "id": "9203177b",
   "metadata": {},
   "source": [
    "$$\n",
    "\\langle c'|H|c'\\rangle = \\left(1+\\sum_{ai}|\\delta C_{ai}|^2\\right)\\langle c |H|c\\rangle+\\Delta E+O(\\delta C_{ai}^3),\n",
    "$$"
   ]
  },
  {
   "cell_type": "markdown",
   "id": "e5556213",
   "metadata": {},
   "source": [
    "and skipping higher-order terms we arrived"
   ]
  },
  {
   "cell_type": "markdown",
   "id": "5fca4e3d",
   "metadata": {},
   "source": [
    "$$\n",
    "\\frac{\\langle c' |\\hat{H} | c'\\rangle}{\\langle c' |c'\\rangle} =E_0+\\frac{\\Delta E}{\\left(1+\\sum_{ai}|\\delta C_{ai}|^2\\right)}.\n",
    "$$"
   ]
  },
  {
   "cell_type": "markdown",
   "id": "19d42c98",
   "metadata": {},
   "source": [
    "We have defined"
   ]
  },
  {
   "cell_type": "markdown",
   "id": "3adf91b5",
   "metadata": {},
   "source": [
    "$$\n",
    "\\Delta E = \\frac{1}{2} \\langle \\chi | \\hat{M}| \\chi \\rangle\n",
    "$$"
   ]
  },
  {
   "cell_type": "markdown",
   "id": "144151b7",
   "metadata": {},
   "source": [
    "with the vectors"
   ]
  },
  {
   "cell_type": "markdown",
   "id": "210d15b5",
   "metadata": {},
   "source": [
    "$$\n",
    "\\chi = \\left[ \\delta C\\hspace{0.2cm} \\delta C^*\\right]^T\n",
    "$$"
   ]
  },
  {
   "cell_type": "markdown",
   "id": "e02f3c13",
   "metadata": {},
   "source": [
    "and the matrix"
   ]
  },
  {
   "cell_type": "markdown",
   "id": "357d6222",
   "metadata": {},
   "source": [
    "$$\n",
    "\\hat{M}=\\left(\\begin{array}{cc} \\Delta + A & B \\\\ B^* & \\Delta + A^*\\end{array}\\right),\n",
    "$$"
   ]
  },
  {
   "cell_type": "markdown",
   "id": "d85b3a83",
   "metadata": {},
   "source": [
    "with $\\Delta_{ai,bj} = (\\varepsilon_a-\\varepsilon_i)\\delta_{ab}\\delta_{ij}$.\n",
    "\n",
    "The condition"
   ]
  },
  {
   "cell_type": "markdown",
   "id": "4f00d8f9",
   "metadata": {},
   "source": [
    "$$\n",
    "\\Delta E = \\frac{1}{2} \\langle \\chi | \\hat{M}| \\chi \\rangle \\ge 0\n",
    "$$"
   ]
  },
  {
   "cell_type": "markdown",
   "id": "abcbe04a",
   "metadata": {},
   "source": [
    "for an arbitrary  vector"
   ]
  },
  {
   "cell_type": "markdown",
   "id": "9baa9bc9",
   "metadata": {},
   "source": [
    "$$\n",
    "\\chi = \\left[ \\delta C\\hspace{0.2cm} \\delta C^*\\right]^T\n",
    "$$"
   ]
  },
  {
   "cell_type": "markdown",
   "id": "b8c6b65a",
   "metadata": {},
   "source": [
    "means that all eigenvalues of the matrix have to be larger than or equal zero. \n",
    "A necessary (but no sufficient) condition is that the matrix elements (for all $ai$ )"
   ]
  },
  {
   "cell_type": "markdown",
   "id": "3f2ea690",
   "metadata": {},
   "source": [
    "$$\n",
    "(\\varepsilon_a-\\varepsilon_i)\\delta_{ab}\\delta_{ij}+A_{ai,bj} \\ge 0.\n",
    "$$"
   ]
  },
  {
   "cell_type": "markdown",
   "id": "66c1d8f0",
   "metadata": {},
   "source": [
    "This equation can be used as a first test of the stability of the Hartree-Fock equation."
   ]
  }
 ],
 "metadata": {
  "kernelspec": {
   "display_name": "Python 3 (ipykernel)",
   "language": "python",
   "name": "python3"
  },
  "language_info": {
   "codemirror_mode": {
    "name": "ipython",
    "version": 3
   },
   "file_extension": ".py",
   "mimetype": "text/x-python",
   "name": "python",
   "nbconvert_exporter": "python",
   "pygments_lexer": "ipython3",
   "version": "3.9.18"
  }
 },
 "nbformat": 4,
 "nbformat_minor": 5
}
