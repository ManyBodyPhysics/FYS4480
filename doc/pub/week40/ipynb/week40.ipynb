{
 "cells": [
  {
   "cell_type": "markdown",
   "id": "8ebd5983",
   "metadata": {
    "editable": true
   },
   "source": [
    "<!-- HTML file automatically generated from DocOnce source (https://github.com/doconce/doconce/)\n",
    "doconce format html week40.do.txt --no_mako -->\n",
    "<!-- dom:TITLE: Week 40: Mean-field theories -->"
   ]
  },
  {
   "cell_type": "markdown",
   "id": "ceed8a9c",
   "metadata": {
    "editable": true
   },
   "source": [
    "# Week 40: Mean-field theories\n",
    "**Morten Hjorth-Jensen**, Department of Physics and Center for Computing in Science Education, University of Oslo, Norway and Department of Physics and Astronomy and Facility for Rare Isotope Beams, Michigan State University, USA\n",
    "\n",
    "Date: **Week 40, October 2-6**"
   ]
  },
  {
   "cell_type": "markdown",
   "id": "916e7385",
   "metadata": {
    "editable": true
   },
   "source": [
    "## Week 40, October 2-6, 2023\n",
    "* Topics to be covered\n",
    "\n",
    "a. Thursday:\n",
    "\n",
    "    * Repetition  of Full Configuration Interaction theory\n",
    "\n",
    "    * Start Hartree-Fock theory\n",
    "\n",
    "    * [Video of lecture](https://youtu.be/)\n",
    "\n",
    "b. Friday: \n",
    "\n",
    "    * Hartree-Fock theory and stability of equations\n",
    "\n",
    "    * [Video of lecture](https://youtu.be/)\n",
    "\n",
    "* Lecture Material: These slides, handwritten notes and Szabo and Ostlund, sections 3.1-3.4\n",
    "\n",
    "* Sixth exercise set at <https://github.com/ManyBodyPhysics/FYS4480/blob/master/doc/Exercises/2023/ExercisesWeek40.pdf>"
   ]
  },
  {
   "cell_type": "markdown",
   "id": "c906b6ac",
   "metadata": {
    "editable": true
   },
   "source": [
    "## Why Hartree-Fock? Derivation of Hartree-Fock equations in coordinate space\n",
    "\n",
    "Hartree-Fock (HF) theory is an algorithm for finding an approximative expression for the ground state of a given Hamiltonian. The basic ingredients are\n",
    "  * Define a single-particle basis $\\{\\psi_{\\alpha}\\}$ so that"
   ]
  },
  {
   "cell_type": "markdown",
   "id": "8f8f546f",
   "metadata": {
    "editable": true
   },
   "source": [
    "$$\n",
    "\\hat{h}^{\\mathrm{HF}}\\psi_{\\alpha} = \\varepsilon_{\\alpha}\\psi_{\\alpha}\n",
    "$$"
   ]
  },
  {
   "cell_type": "markdown",
   "id": "2704e5ab",
   "metadata": {
    "editable": true
   },
   "source": [
    "with the Hartree-Fock Hamiltonian defined as"
   ]
  },
  {
   "cell_type": "markdown",
   "id": "37f4cff3",
   "metadata": {
    "editable": true
   },
   "source": [
    "$$\n",
    "\\hat{h}^{\\mathrm{HF}}=\\hat{t}+\\hat{u}_{\\mathrm{ext}}+\\hat{u}^{\\mathrm{HF}}\n",
    "$$"
   ]
  },
  {
   "cell_type": "markdown",
   "id": "f4d1288d",
   "metadata": {
    "editable": true
   },
   "source": [
    "* The term  $\\hat{u}^{\\mathrm{HF}}$ is a single-particle potential to be determined by the HF algorithm.\n",
    "\n",
    "  * The HF algorithm means to choose $\\hat{u}^{\\mathrm{HF}}$ in order to have"
   ]
  },
  {
   "cell_type": "markdown",
   "id": "9de06a96",
   "metadata": {
    "editable": true
   },
   "source": [
    "$$\n",
    "\\langle \\hat{H} \\rangle = E^{\\mathrm{HF}}= \\langle \\Phi_0 | \\hat{H}|\\Phi_0 \\rangle\n",
    "$$"
   ]
  },
  {
   "cell_type": "markdown",
   "id": "15f9a1dc",
   "metadata": {
    "editable": true
   },
   "source": [
    "that is to find a local minimum with a Slater determinant $\\Phi_0$ being the ansatz for the ground state. \n",
    "  * The variational principle ensures that $E^{\\mathrm{HF}} \\ge E_0$, with $E_0$ the exact ground state energy.\n",
    "\n",
    "We will show that the Hartree-Fock Hamiltonian $\\hat{h}^{\\mathrm{HF}}$ equals our definition of the operator $\\hat{f}$ discussed in connection with the new definition of the normal-ordered Hamiltonian (see later lectures), that is we have, for a specific matrix element"
   ]
  },
  {
   "cell_type": "markdown",
   "id": "079e06ff",
   "metadata": {
    "editable": true
   },
   "source": [
    "$$\n",
    "\\langle p |\\hat{h}^{\\mathrm{HF}}| q \\rangle =\\langle p |\\hat{f}| q \\rangle=\\langle p|\\hat{t}+\\hat{u}_{\\mathrm{ext}}|q \\rangle +\\sum_{i\\le F} \\langle pi | \\hat{V} | qi\\rangle_{AS},\n",
    "$$"
   ]
  },
  {
   "cell_type": "markdown",
   "id": "7df28e13",
   "metadata": {
    "editable": true
   },
   "source": [
    "meaning that"
   ]
  },
  {
   "cell_type": "markdown",
   "id": "62ac7182",
   "metadata": {
    "editable": true
   },
   "source": [
    "$$\n",
    "\\langle p|\\hat{u}^{\\mathrm{HF}}|q\\rangle = \\sum_{i\\le F} \\langle pi | \\hat{V} | qi\\rangle_{AS}.\n",
    "$$"
   ]
  },
  {
   "cell_type": "markdown",
   "id": "3c1cf6b3",
   "metadata": {
    "editable": true
   },
   "source": [
    "The so-called Hartree-Fock potential $\\hat{u}^{\\mathrm{HF}}$ brings an explicit medium dependence due to the summation over all single-particle states below the Fermi level $F$. It brings also in an explicit dependence on the two-body interaction (in nuclear physics we can also have complicated three- or higher-body forces). The two-body interaction, with its contribution from the other bystanding fermions, creates an effective mean field in which a given fermion moves, in addition to the external potential $\\hat{u}_{\\mathrm{ext}}$ which confines the motion of the fermion. For systems like nuclei, there is no external confining potential. Nuclei are examples of self-bound systems, where the binding arises due to the intrinsic nature of the strong force. For nuclear systems thus, there would be no external one-body potential in the Hartree-Fock Hamiltonian."
   ]
  },
  {
   "cell_type": "markdown",
   "id": "4c66c132",
   "metadata": {
    "editable": true
   },
   "source": [
    "## Variational Calculus and Lagrangian Multipliers\n",
    "\n",
    "The calculus of variations involves \n",
    "problems where the quantity to be minimized or maximized is an integral. \n",
    "\n",
    "In the general case we have an integral of the type"
   ]
  },
  {
   "cell_type": "markdown",
   "id": "08d2b08f",
   "metadata": {
    "editable": true
   },
   "source": [
    "$$\n",
    "E[\\Phi]= \\int_a^b f(\\Phi(x),\\frac{\\partial \\Phi}{\\partial x},x)dx,\n",
    "$$"
   ]
  },
  {
   "cell_type": "markdown",
   "id": "bc7ef402",
   "metadata": {
    "editable": true
   },
   "source": [
    "where $E$ is the quantity which is sought minimized or maximized.\n",
    "The problem is that although $f$ is a function of the variables $\\Phi$, $\\partial \\Phi/\\partial x$ and $x$, the exact dependence of\n",
    "$\\Phi$ on $x$ is not known.  This means again that even though the integral has fixed limits $a$ and $b$, the path of integration is\n",
    "not known. In our case the unknown quantities are the single-particle wave functions and we wish to choose an integration path which makes\n",
    "the functional $E[\\Phi]$ stationary. This means that we want to find minima, or maxima or saddle points. In physics we search normally for minima.\n",
    "Our task is therefore to find the minimum of $E[\\Phi]$ so that its variation $\\delta E$ is zero  subject to specific\n",
    "constraints. In our case the constraints appear as the integral which expresses the orthogonality of the  single-particle wave functions.\n",
    "The constraints can be treated via the technique of Lagrangian multipliers\n",
    "\n",
    "Let us specialize to the expectation value of the energy for one particle in three-dimensions.\n",
    "This expectation value reads"
   ]
  },
  {
   "cell_type": "markdown",
   "id": "ed55af35",
   "metadata": {
    "editable": true
   },
   "source": [
    "$$\n",
    "E=\\int dxdydz \\psi^*(x,y,z) \\hat{H} \\psi(x,y,z),\n",
    "$$"
   ]
  },
  {
   "cell_type": "markdown",
   "id": "b01abe83",
   "metadata": {
    "editable": true
   },
   "source": [
    "with the constraint"
   ]
  },
  {
   "cell_type": "markdown",
   "id": "fd4f1e90",
   "metadata": {
    "editable": true
   },
   "source": [
    "$$\n",
    "\\int dxdydz \\psi^*(x,y,z) \\psi(x,y,z)=1,\n",
    "$$"
   ]
  },
  {
   "cell_type": "markdown",
   "id": "cf8ad226",
   "metadata": {
    "editable": true
   },
   "source": [
    "and a Hamiltonian"
   ]
  },
  {
   "cell_type": "markdown",
   "id": "cc640b31",
   "metadata": {
    "editable": true
   },
   "source": [
    "$$\n",
    "\\hat{H}=-\\frac{1}{2}\\nabla^2+V(x,y,z).\n",
    "$$"
   ]
  },
  {
   "cell_type": "markdown",
   "id": "842e22ae",
   "metadata": {
    "editable": true
   },
   "source": [
    "We will, for the sake of notational convenience,  skip the variables $x,y,z$ below, and write for example $V(x,y,z)=V$.\n",
    "\n",
    "The integral involving the kinetic energy can be written as, with the function $\\psi$ vanishing\n",
    "strongly for large values of $x,y,z$ (given here by the limits $a$ and $b$),"
   ]
  },
  {
   "cell_type": "markdown",
   "id": "160b23be",
   "metadata": {
    "editable": true
   },
   "source": [
    "$$\n",
    "\\int_a^b dxdydz \\psi^* \\left(-\\frac{1}{2}\\nabla^2\\right) \\psi dxdydz = \\psi^*\\nabla\\psi|_a^b+\\int_a^b dxdydz\\frac{1}{2}\\nabla\\psi^*\\nabla\\psi.\n",
    "$$"
   ]
  },
  {
   "cell_type": "markdown",
   "id": "1e1d8595",
   "metadata": {
    "editable": true
   },
   "source": [
    "We will drop the limits $a$ and $b$ in the remaining discussion. \n",
    "Inserting this expression into the expectation value for the energy and taking the variational minimum  we obtain"
   ]
  },
  {
   "cell_type": "markdown",
   "id": "eae4d2fa",
   "metadata": {
    "editable": true
   },
   "source": [
    "$$\n",
    "\\delta E = \\delta \\left\\{\\int dxdydz\\left( \\frac{1}{2}\\nabla\\psi^*\\nabla\\psi+V\\psi^*\\psi\\right)\\right\\} = 0.\n",
    "$$"
   ]
  },
  {
   "cell_type": "markdown",
   "id": "84c269b0",
   "metadata": {
    "editable": true
   },
   "source": [
    "The constraint appears in integral form as"
   ]
  },
  {
   "cell_type": "markdown",
   "id": "10970f0a",
   "metadata": {
    "editable": true
   },
   "source": [
    "$$\n",
    "\\int dxdydz \\psi^* \\psi=\\mathrm{constant},\n",
    "$$"
   ]
  },
  {
   "cell_type": "markdown",
   "id": "46c8b94c",
   "metadata": {
    "editable": true
   },
   "source": [
    "and multiplying with a Lagrangian multiplier $\\lambda$ and taking the variational minimum we obtain the final variational equation"
   ]
  },
  {
   "cell_type": "markdown",
   "id": "8d0bdf38",
   "metadata": {
    "editable": true
   },
   "source": [
    "$$\n",
    "\\delta \\left\\{\\int dxdydz\\left( \\frac{1}{2}\\nabla\\psi^*\\nabla\\psi+V\\psi^*\\psi-\\lambda\\psi^*\\psi\\right)\\right\\} = 0.\n",
    "$$"
   ]
  },
  {
   "cell_type": "markdown",
   "id": "85e6c0c7",
   "metadata": {
    "editable": true
   },
   "source": [
    "We introduce the function  $f$"
   ]
  },
  {
   "cell_type": "markdown",
   "id": "2edbfe00",
   "metadata": {
    "editable": true
   },
   "source": [
    "$$\n",
    "f =  \\frac{1}{2}\\nabla\\psi^*\\nabla\\psi+V\\psi^*\\psi-\\lambda\\psi^*\\psi=\n",
    "\\frac{1}{2}(\\psi^*_x\\psi_x+\\psi^*_y\\psi_y+\\psi^*_z\\psi_z)+V\\psi^*\\psi-\\lambda\\psi^*\\psi,\n",
    "$$"
   ]
  },
  {
   "cell_type": "markdown",
   "id": "a2d44015",
   "metadata": {
    "editable": true
   },
   "source": [
    "where we have skipped the dependence on $x,y,z$ and introduced the shorthand $\\psi_x$, $\\psi_y$ and $\\psi_z$  for the various derivatives.\n",
    "\n",
    "For $\\psi^*$ the Euler-Lagrange  equations yield"
   ]
  },
  {
   "cell_type": "markdown",
   "id": "6a347404",
   "metadata": {
    "editable": true
   },
   "source": [
    "$$\n",
    "\\frac{\\partial f}{\\partial \\psi^*}- \\frac{\\partial }{\\partial x}\\frac{\\partial f}{\\partial \\psi^*_x}-\\frac{\\partial }{\\partial y}\\frac{\\partial f}{\\partial \\psi^*_y}-\\frac{\\partial }{\\partial z}\\frac{\\partial f}{\\partial \\psi^*_z}=0,\n",
    "$$"
   ]
  },
  {
   "cell_type": "markdown",
   "id": "aefc44c0",
   "metadata": {
    "editable": true
   },
   "source": [
    "which results in"
   ]
  },
  {
   "cell_type": "markdown",
   "id": "6747b9f1",
   "metadata": {
    "editable": true
   },
   "source": [
    "$$\n",
    "-\\frac{1}{2}(\\psi_{xx}+\\psi_{yy}+\\psi_{zz})+V\\psi=\\lambda \\psi.\n",
    "$$"
   ]
  },
  {
   "cell_type": "markdown",
   "id": "5e171acf",
   "metadata": {
    "editable": true
   },
   "source": [
    "We can then identify the  Lagrangian multiplier as the energy of the system. The last equation is \n",
    "nothing but the standard \n",
    "Schroedinger equation and the variational  approach discussed here provides \n",
    "a powerful method for obtaining approximate solutions of the wave function."
   ]
  },
  {
   "cell_type": "markdown",
   "id": "41804255",
   "metadata": {
    "editable": true
   },
   "source": [
    "## Derivation of Hartree-Fock equations in coordinate space\n",
    "\n",
    "Let us denote the ground state energy by $E_0$. According to the\n",
    "variational principle we have"
   ]
  },
  {
   "cell_type": "markdown",
   "id": "57fd2563",
   "metadata": {
    "editable": true
   },
   "source": [
    "$$\n",
    "E_0 \\le E[\\Phi] = \\int \\Phi^*\\hat{H}\\Phi d\\mathbf{\\tau}\n",
    "$$"
   ]
  },
  {
   "cell_type": "markdown",
   "id": "955719cf",
   "metadata": {
    "editable": true
   },
   "source": [
    "where $\\Phi$ is a trial function which we assume to be normalized"
   ]
  },
  {
   "cell_type": "markdown",
   "id": "8d1c7b3a",
   "metadata": {
    "editable": true
   },
   "source": [
    "$$\n",
    "\\int \\Phi^*\\Phi d\\mathbf{\\tau} = 1,\n",
    "$$"
   ]
  },
  {
   "cell_type": "markdown",
   "id": "71f0a535",
   "metadata": {
    "editable": true
   },
   "source": [
    "where we have used the shorthand $d\\mathbf{\\tau}=dx_1dx_2\\dots dx_N$.\n",
    "\n",
    "In the Hartree-Fock method the trial function is a Slater\n",
    "determinant which can be rewritten as"
   ]
  },
  {
   "cell_type": "markdown",
   "id": "6bc5a835",
   "metadata": {
    "editable": true
   },
   "source": [
    "$$\n",
    "\\Psi(x_1,x_2,\\dots,x_N,\\alpha,\\beta,\\dots,\\nu) = \\frac{1}{\\sqrt{N!}}\\sum_{P} (-)^PP\\psi_{\\alpha}(x_1)\n",
    "    \\psi_{\\beta}(x_2)\\dots\\psi_{\\nu}(x_N)=\\sqrt{N!}\\hat{A}\\Phi_H,\n",
    "$$"
   ]
  },
  {
   "cell_type": "markdown",
   "id": "31fffecd",
   "metadata": {
    "editable": true
   },
   "source": [
    "where we have introduced the anti-symmetrization operator $\\hat{A}$ defined by the \n",
    "summation over all possible permutations *p* of two fermions.\n",
    "It is defined as"
   ]
  },
  {
   "cell_type": "markdown",
   "id": "3d884992",
   "metadata": {
    "editable": true
   },
   "source": [
    "$$\n",
    "\\hat{A} = \\frac{1}{N!}\\sum_{p} (-)^p\\hat{P},\n",
    "$$"
   ]
  },
  {
   "cell_type": "markdown",
   "id": "2bf26b86",
   "metadata": {
    "editable": true
   },
   "source": [
    "with the the Hartree-function given by the simple product of all possible single-particle function"
   ]
  },
  {
   "cell_type": "markdown",
   "id": "2e035527",
   "metadata": {
    "editable": true
   },
   "source": [
    "$$\n",
    "\\Phi_H(x_1,x_2,\\dots,x_N,\\alpha,\\beta,\\dots,\\nu) =\n",
    "  \\psi_{\\alpha}(x_1)\n",
    "    \\psi_{\\beta}(x_2)\\dots\\psi_{\\nu}(x_N).\n",
    "$$"
   ]
  },
  {
   "cell_type": "markdown",
   "id": "1b5a04df",
   "metadata": {
    "editable": true
   },
   "source": [
    "Our functional is written as"
   ]
  },
  {
   "cell_type": "markdown",
   "id": "73ab29df",
   "metadata": {
    "editable": true
   },
   "source": [
    "$$\n",
    "E[\\Phi] = \\sum_{\\mu=1}^N \\int \\psi_{\\mu}^*(x_i)\\hat{h}_0(x_i)\\psi_{\\mu}(x_i) dx_i \n",
    "  + \\frac{1}{2}\\sum_{\\mu=1}^N\\sum_{\\nu=1}^N\n",
    "   \\left[ \\int \\psi_{\\mu}^*(x_i)\\psi_{\\nu}^*(x_j)\\hat{v}(r_{ij})\\psi_{\\mu}(x_i)\\psi_{\\nu}(x_j)dx_idx_j- \\int \\psi_{\\mu}^*(x_i)\\psi_{\\nu}^*(x_j)\n",
    " \\hat{v}(r_{ij})\\psi_{\\nu}(x_i)\\psi_{\\mu}(x_j)dx_idx_j\\right]\n",
    "$$"
   ]
  },
  {
   "cell_type": "markdown",
   "id": "f7799a14",
   "metadata": {
    "editable": true
   },
   "source": [
    "The more compact version reads"
   ]
  },
  {
   "cell_type": "markdown",
   "id": "5d2af08e",
   "metadata": {
    "editable": true
   },
   "source": [
    "$$\n",
    "E[\\Phi] \n",
    "  = \\sum_{\\mu}^N \\langle \\mu | \\hat{h}_0 | \\mu\\rangle+ \\frac{1}{2}\\sum_{\\mu\\nu}^N\\left[\\langle \\mu\\nu |\\hat{v}|\\mu\\nu\\rangle-\\langle \\nu\\mu |\\hat{v}|\\mu\\nu\\rangle\\right].\n",
    "$$"
   ]
  },
  {
   "cell_type": "markdown",
   "id": "c0812f2f",
   "metadata": {
    "editable": true
   },
   "source": [
    "Since the interaction is invariant under the interchange of two particles it means for example that we have"
   ]
  },
  {
   "cell_type": "markdown",
   "id": "ab7512b5",
   "metadata": {
    "editable": true
   },
   "source": [
    "$$\n",
    "\\langle \\mu\\nu|\\hat{v}|\\mu\\nu\\rangle =  \\langle \\nu\\mu|\\hat{v}|\\nu\\mu\\rangle,\n",
    "$$"
   ]
  },
  {
   "cell_type": "markdown",
   "id": "6693148a",
   "metadata": {
    "editable": true
   },
   "source": [
    "or in the more general case"
   ]
  },
  {
   "cell_type": "markdown",
   "id": "18dd6c1b",
   "metadata": {
    "editable": true
   },
   "source": [
    "$$\n",
    "\\langle \\mu\\nu|\\hat{v}|\\sigma\\tau\\rangle =  \\langle \\nu\\mu|\\hat{v}|\\tau\\sigma\\rangle.\n",
    "$$"
   ]
  },
  {
   "cell_type": "markdown",
   "id": "c8f3fb77",
   "metadata": {
    "editable": true
   },
   "source": [
    "The direct and exchange matrix elements can be  brought together if we define the antisymmetrized matrix element"
   ]
  },
  {
   "cell_type": "markdown",
   "id": "81a6c9d9",
   "metadata": {
    "editable": true
   },
   "source": [
    "$$\n",
    "\\langle \\mu\\nu|\\hat{v}|\\mu\\nu\\rangle_{AS}= \\langle \\mu\\nu|\\hat{v}|\\mu\\nu\\rangle-\\langle \\mu\\nu|\\hat{v}|\\nu\\mu\\rangle,\n",
    "$$"
   ]
  },
  {
   "cell_type": "markdown",
   "id": "bcd1a17d",
   "metadata": {
    "editable": true
   },
   "source": [
    "or for a general matrix element"
   ]
  },
  {
   "cell_type": "markdown",
   "id": "3ce57390",
   "metadata": {
    "editable": true
   },
   "source": [
    "$$\n",
    "\\langle \\mu\\nu|\\hat{v}|\\sigma\\tau\\rangle_{AS}= \\langle \\mu\\nu|\\hat{v}|\\sigma\\tau\\rangle-\\langle \\mu\\nu|\\hat{v}|\\tau\\sigma\\rangle.\n",
    "$$"
   ]
  },
  {
   "cell_type": "markdown",
   "id": "79c91555",
   "metadata": {
    "editable": true
   },
   "source": [
    "It has the symmetry property"
   ]
  },
  {
   "cell_type": "markdown",
   "id": "53e1399a",
   "metadata": {
    "editable": true
   },
   "source": [
    "$$\n",
    "\\langle \\mu\\nu|\\hat{v}|\\sigma\\tau\\rangle_{AS}= -\\langle \\mu\\nu|\\hat{v}|\\tau\\sigma\\rangle_{AS}=-\\langle \\nu\\mu|\\hat{v}|\\sigma\\tau\\rangle_{AS}.\n",
    "$$"
   ]
  },
  {
   "cell_type": "markdown",
   "id": "674d51f6",
   "metadata": {
    "editable": true
   },
   "source": [
    "The antisymmetric matrix element is also hermitian, implying"
   ]
  },
  {
   "cell_type": "markdown",
   "id": "d5b30c1f",
   "metadata": {
    "editable": true
   },
   "source": [
    "$$\n",
    "\\langle \\mu\\nu|\\hat{v}|\\sigma\\tau\\rangle_{AS}= \\langle \\sigma\\tau|\\hat{v}|\\mu\\nu\\rangle_{AS}.\n",
    "$$"
   ]
  },
  {
   "cell_type": "markdown",
   "id": "6c962dff",
   "metadata": {
    "editable": true
   },
   "source": [
    "With these notations we rewrite the Hartree-Fock functional as"
   ]
  },
  {
   "cell_type": "markdown",
   "id": "4e524bad",
   "metadata": {
    "editable": true
   },
   "source": [
    "<!-- Equation labels as ordinary links -->\n",
    "<div id=\"H2Expectation2\"></div>\n",
    "\n",
    "$$\n",
    "\\begin{equation}\n",
    "  \\int \\Phi^*\\hat{H_I}\\Phi d\\mathbf{\\tau} \n",
    "  = \\frac{1}{2}\\sum_{\\mu=1}^N\\sum_{\\nu=1}^N \\langle \\mu\\nu|\\hat{v}|\\mu\\nu\\rangle_{AS}. \\label{H2Expectation2} \\tag{1}\n",
    "\\end{equation}\n",
    "$$"
   ]
  },
  {
   "cell_type": "markdown",
   "id": "fb470276",
   "metadata": {
    "editable": true
   },
   "source": [
    "Adding the contribution from the one-body operator $\\hat{H}_0$ to\n",
    "([1](#H2Expectation2)) we obtain the energy functional"
   ]
  },
  {
   "cell_type": "markdown",
   "id": "a4292000",
   "metadata": {
    "editable": true
   },
   "source": [
    "<!-- Equation labels as ordinary links -->\n",
    "<div id=\"FunctionalEPhi\"></div>\n",
    "\n",
    "$$\n",
    "\\begin{equation}\n",
    "  E[\\Phi] \n",
    "  = \\sum_{\\mu=1}^N \\langle \\mu | h | \\mu \\rangle +\n",
    "  \\frac{1}{2}\\sum_{{\\mu}=1}^N\\sum_{{\\nu}=1}^N \\langle \\mu\\nu|\\hat{v}|\\mu\\nu\\rangle_{AS}. \\label{FunctionalEPhi} \\tag{2}\n",
    "\\end{equation}\n",
    "$$"
   ]
  },
  {
   "cell_type": "markdown",
   "id": "73835e57",
   "metadata": {
    "editable": true
   },
   "source": [
    "In our coordinate space derivations below we will spell out the Hartree-Fock equations in terms of their integrals.\n",
    "\n",
    "If we generalize the Euler-Lagrange equations to more variables \n",
    "and introduce $N^2$ Lagrange multipliers which we denote by \n",
    "$\\epsilon_{\\mu\\nu}$, we can write the variational equation for the functional of $E$"
   ]
  },
  {
   "cell_type": "markdown",
   "id": "ad1b6e9e",
   "metadata": {
    "editable": true
   },
   "source": [
    "$$\n",
    "\\delta E - \\sum_{\\mu\\nu}^N \\epsilon_{\\mu\\nu} \\delta\n",
    "  \\int \\psi_{\\mu}^* \\psi_{\\nu} = 0.\n",
    "$$"
   ]
  },
  {
   "cell_type": "markdown",
   "id": "8019d3f8",
   "metadata": {
    "editable": true
   },
   "source": [
    "For the orthogonal wave functions $\\psi_{i}$ this reduces to"
   ]
  },
  {
   "cell_type": "markdown",
   "id": "a5ed4f4e",
   "metadata": {
    "editable": true
   },
   "source": [
    "$$\n",
    "\\delta E - \\sum_{\\mu=1}^N \\epsilon_{\\mu} \\delta\n",
    "  \\int \\psi_{\\mu}^* \\psi_{\\mu} = 0.\n",
    "$$"
   ]
  },
  {
   "cell_type": "markdown",
   "id": "eecd79b8",
   "metadata": {
    "editable": true
   },
   "source": [
    "Variation with respect to the single-particle wave functions $\\psi_{\\mu}$ yields then"
   ]
  },
  {
   "cell_type": "markdown",
   "id": "87689dbd",
   "metadata": {
    "editable": true
   },
   "source": [
    "$$\n",
    "\\sum_{\\mu=1}^N \\int \\delta\\psi_{\\mu}^*\\hat{h_0}(x_i)\\psi_{\\mu}\n",
    "  dx_i  \n",
    "  + \\frac{1}{2}\\sum_{{\\mu}=1}^N\\sum_{{\\nu}=1}^N \\left[ \\int\n",
    "  \\delta\\psi_{\\mu}^*\\psi_{\\nu}^*\\hat{v}(r_{ij})\\psi_{\\mu}\\psi_{\\nu} dx_idx_j- \\int\n",
    "  \\delta\\psi_{\\mu}^*\\psi_{\\nu}^*\\hat{v}(r_{ij})\\psi_{\\nu}\\psi_{\\mu}\n",
    "  dx_idx_j \\right]+\n",
    "$$"
   ]
  },
  {
   "cell_type": "markdown",
   "id": "f8e4b00e",
   "metadata": {
    "editable": true
   },
   "source": [
    "$$\n",
    "\\sum_{\\mu=1}^N \\int \\psi_{\\mu}^*\\hat{h_0}(x_i)\\delta\\psi_{\\mu}\n",
    "  dx_i \n",
    "  + \\frac{1}{2}\\sum_{{\\mu}=1}^N\\sum_{{\\nu}=1}^N \\left[ \\int\n",
    "  \\psi_{\\mu}^*\\psi_{\\nu}^*\\hat{v}(r_{ij})\\delta\\psi_{\\mu}\\psi_{\\nu} dx_idx_j- \\int\n",
    "  \\psi_{\\mu}^*\\psi_{\\nu}^*\\hat{v}(r_{ij})\\psi_{\\nu}\\delta\\psi_{\\mu}\n",
    "  dx_idx_j \\right]-  \\sum_{{\\mu}=1}^N E_{\\mu} \\int \\delta\\psi_{\\mu}^*\n",
    "  \\psi_{\\mu}dx_i\n",
    "  -  \\sum_{{\\mu}=1}^N E_{\\mu} \\int \\psi_{\\mu}^*\n",
    "  \\delta\\psi_{\\mu}dx_i = 0.\n",
    "$$"
   ]
  },
  {
   "cell_type": "markdown",
   "id": "2a4bd47c",
   "metadata": {
    "editable": true
   },
   "source": [
    "Although the variations $\\delta\\psi$ and $\\delta\\psi^*$ are not\n",
    "independent, they may in fact be treated as such, so that the \n",
    "terms dependent on either $\\delta\\psi$ and $\\delta\\psi^*$ individually \n",
    "may be set equal to zero. To see this, simply \n",
    "replace the arbitrary variation $\\delta\\psi$ by $i\\delta\\psi$, so that\n",
    "$\\delta\\psi^*$ is replaced by $-i\\delta\\psi^*$, and combine the two\n",
    "equations. We thus arrive at the Hartree-Fock equations"
   ]
  },
  {
   "cell_type": "markdown",
   "id": "6365e0fb",
   "metadata": {
    "editable": true
   },
   "source": [
    "<!-- Equation labels as ordinary links -->\n",
    "<div id=\"eq:hartreefockcoordinatespace\"></div>\n",
    "\n",
    "$$\n",
    "\\begin{equation}\n",
    "\\left[ -\\frac{1}{2}\\nabla_i^2+ \\sum_{\\nu=1}^N\\int \\psi_{\\nu}^*(x_j)\\hat{v}(r_{ij})\\psi_{\\nu}(x_j)dx_j \\right]\\psi_{\\mu}(x_i) - \\left[ \\sum_{{\\nu}=1}^N \\int\\psi_{\\nu}^*(x_j)\\hat{v}(r_{ij})\\psi_{\\mu}(x_j) dx_j\\right] \\psi_{\\nu}(x_i) = \\epsilon_{\\mu} \\psi_{\\mu}(x_i).  \\label{eq:hartreefockcoordinatespace} \\tag{3}\n",
    "\\end{equation}\n",
    "$$"
   ]
  },
  {
   "cell_type": "markdown",
   "id": "d724dced",
   "metadata": {
    "editable": true
   },
   "source": [
    "Notice that the integration $\\int dx_j$ implies an\n",
    "integration over the spatial coordinates $\\mathbf{r_j}$ and a summation\n",
    "over the spin-coordinate of fermion $j$. We note that the factor of $1/2$ in front of the sum involving the two-body interaction, has been removed. This is due to the fact that we need to vary both $\\delta\\psi_{\\mu}^*$ and\n",
    "$\\delta\\psi_{\\nu}^*$. Using the symmetry properties of the two-body interaction and interchanging $\\mu$ and $\\nu$\n",
    "as summation indices, we obtain two identical terms. \n",
    "\n",
    "The two first terms in the last equation are the one-body kinetic energy and the\n",
    "electron-nucleus potential. The third or *direct* term is the averaged electronic repulsion of the other\n",
    "electrons. As written, the\n",
    "term includes the *self-interaction* of \n",
    "electrons when $\\mu=\\nu$. The self-interaction is cancelled in the fourth\n",
    "term, or the *exchange* term. The exchange term results from our\n",
    "inclusion of the Pauli principle and the assumed determinantal form of\n",
    "the wave-function. Equation ([3](#eq:hartreefockcoordinatespace)), in addition to the kinetic energy and the attraction from the atomic nucleus that confines the motion of a single electron,   represents now the motion of a single-particle modified by the two-body interaction. The additional contribution to the Schroedinger equation due to the two-body interaction, represents a mean field set up by all the other bystanding electrons, the latter given by the sum over all single-particle states occupied by $N$ electrons. \n",
    "\n",
    "The Hartree-Fock equation is an example of an integro-differential equation. These equations involve repeated calculations of integrals, in addition to the solution of a set of coupled differential equations. \n",
    "The Hartree-Fock equations can also be rewritten in terms of an eigenvalue problem. The solution of an eigenvalue problem represents often a more practical algorithm and the  solution of  coupled  integro-differential equations.\n",
    "This alternative derivation of the Hartree-Fock equations is given below."
   ]
  },
  {
   "cell_type": "markdown",
   "id": "9405450c",
   "metadata": {
    "editable": true
   },
   "source": [
    "## Analysis of Hartree-Fock equations in coordinate space\n",
    "\n",
    "  A theoretically convenient form of the\n",
    "Hartree-Fock equation is to regard the direct and exchange operator\n",
    "defined through"
   ]
  },
  {
   "cell_type": "markdown",
   "id": "73de4be5",
   "metadata": {
    "editable": true
   },
   "source": [
    "$$\n",
    "V_{\\mu}^{d}(x_i) = \\int \\psi_{\\mu}^*(x_j) \n",
    " \\hat{v}(r_{ij})\\psi_{\\mu}(x_j) dx_j\n",
    "$$"
   ]
  },
  {
   "cell_type": "markdown",
   "id": "7e5ee8d2",
   "metadata": {
    "editable": true
   },
   "source": [
    "and"
   ]
  },
  {
   "cell_type": "markdown",
   "id": "80758d4e",
   "metadata": {
    "editable": true
   },
   "source": [
    "$$\n",
    "V_{\\mu}^{ex}(x_i) g(x_i) \n",
    "  = \\left(\\int \\psi_{\\mu}^*(x_j) \n",
    " \\hat{v}(r_{ij})g(x_j) dx_j\n",
    "  \\right)\\psi_{\\mu}(x_i),\n",
    "$$"
   ]
  },
  {
   "cell_type": "markdown",
   "id": "39b71dac",
   "metadata": {
    "editable": true
   },
   "source": [
    "respectively. \n",
    "\n",
    "The function $g(x_i)$ is an arbitrary function,\n",
    "and by the substitution $g(x_i) = \\psi_{\\nu}(x_i)$\n",
    "we get"
   ]
  },
  {
   "cell_type": "markdown",
   "id": "49cba253",
   "metadata": {
    "editable": true
   },
   "source": [
    "$$\n",
    "V_{\\mu}^{ex}(x_i) \\psi_{\\nu}(x_i) \n",
    "  = \\left(\\int \\psi_{\\mu}^*(x_j) \n",
    " \\hat{v}(r_{ij})\\psi_{\\nu}(x_j)\n",
    "  dx_j\\right)\\psi_{\\mu}(x_i).\n",
    "$$"
   ]
  },
  {
   "cell_type": "markdown",
   "id": "6c1ab089",
   "metadata": {
    "editable": true
   },
   "source": [
    "We may then rewrite the Hartree-Fock equations as"
   ]
  },
  {
   "cell_type": "markdown",
   "id": "6e43d582",
   "metadata": {
    "editable": true
   },
   "source": [
    "$$\n",
    "\\hat{h}^{HF}(x_i) \\psi_{\\nu}(x_i) = \\epsilon_{\\nu}\\psi_{\\nu}(x_i),\n",
    "$$"
   ]
  },
  {
   "cell_type": "markdown",
   "id": "605f0baf",
   "metadata": {
    "editable": true
   },
   "source": [
    "with"
   ]
  },
  {
   "cell_type": "markdown",
   "id": "8ccdbd05",
   "metadata": {
    "editable": true
   },
   "source": [
    "$$\n",
    "\\hat{h}^{HF}(x_i)= \\hat{h}_0(x_i) + \\sum_{\\mu=1}^NV_{\\mu}^{d}(x_i) -\n",
    "  \\sum_{\\mu=1}^NV_{\\mu}^{ex}(x_i),\n",
    "$$"
   ]
  },
  {
   "cell_type": "markdown",
   "id": "1b133a3b",
   "metadata": {
    "editable": true
   },
   "source": [
    "and where $\\hat{h}_0(i)$ is the one-body part. The latter is normally chosen as a part which yields solutions in closed form. The harmonic oscilltor is a classical problem thereof.\n",
    "We normally rewrite the last equation as"
   ]
  },
  {
   "cell_type": "markdown",
   "id": "1bdb77b8",
   "metadata": {
    "editable": true
   },
   "source": [
    "$$\n",
    "\\hat{h}^{HF}(x_i)= \\hat{h}_0(x_i) + \\hat{u}^{HF}(x_i).\n",
    "$$"
   ]
  },
  {
   "cell_type": "markdown",
   "id": "f6153d8b",
   "metadata": {
    "editable": true
   },
   "source": [
    "## Hartree-Fock by varying the coefficients of a wave function expansion\n",
    "\n",
    "Another possibility is to expand the single-particle functions in a known basis  and vary the coefficients, \n",
    "that is, the new single-particle wave function is written as a linear expansion\n",
    "in terms of a fixed chosen orthogonal basis (for example the well-known harmonic oscillator functions or the hydrogen-like functions etc).\n",
    "We define our new Hartree-Fock single-particle basis by performing a unitary transformation \n",
    "on our previous basis (labelled with greek indices) as"
   ]
  },
  {
   "cell_type": "markdown",
   "id": "53b8af78",
   "metadata": {
    "editable": true
   },
   "source": [
    "<!-- Equation labels as ordinary links -->\n",
    "<div id=\"eq:newbasis\"></div>\n",
    "\n",
    "$$\n",
    "\\begin{equation}\n",
    "\\psi_p^{HF}  = \\sum_{\\lambda} C_{p\\lambda}\\phi_{\\lambda}. \\label{eq:newbasis} \\tag{4}\n",
    "\\end{equation}\n",
    "$$"
   ]
  },
  {
   "cell_type": "markdown",
   "id": "783f1d77",
   "metadata": {
    "editable": true
   },
   "source": [
    "In this case we vary the coefficients $C_{p\\lambda}$. If the basis has infinitely many solutions, we need\n",
    "to truncate the above sum.  We assume that the basis $\\phi_{\\lambda}$ is orthogonal.\n",
    "\n",
    "It is normal to choose a single-particle basis defined as the eigenfunctions\n",
    "of parts of the full Hamiltonian. The typical situation consists of the solutions of the one-body part of the Hamiltonian, that is we have"
   ]
  },
  {
   "cell_type": "markdown",
   "id": "2a8b1409",
   "metadata": {
    "editable": true
   },
   "source": [
    "$$\n",
    "\\hat{h}_0\\phi_{\\lambda}=\\epsilon_{\\lambda}\\phi_{\\lambda}.\n",
    "$$"
   ]
  },
  {
   "cell_type": "markdown",
   "id": "68dd21e2",
   "metadata": {
    "editable": true
   },
   "source": [
    "The single-particle wave functions $\\phi_{\\lambda}(\\mathbf{r})$, defined by the quantum numbers $\\lambda$ and $\\mathbf{r}$\n",
    "are defined as the overlap"
   ]
  },
  {
   "cell_type": "markdown",
   "id": "e89414a8",
   "metadata": {
    "editable": true
   },
   "source": [
    "$$\n",
    "\\phi_{\\lambda}(\\mathbf{r})  = \\langle \\mathbf{r} | \\lambda \\rangle .\n",
    "$$"
   ]
  },
  {
   "cell_type": "markdown",
   "id": "fb88e2db",
   "metadata": {
    "editable": true
   },
   "source": [
    "In deriving the Hartree-Fock equations, we  will expand the single-particle functions in a known basis  and vary the coefficients, \n",
    "that is, the new single-particle wave function is written as a linear expansion\n",
    "in terms of a fixed chosen orthogonal basis (for example the well-known harmonic oscillator functions or the hydrogen-like functions etc).\n",
    "\n",
    "We stated that a unitary transformation keeps the orthogonality. To see this consider first a basis of vectors $\\mathbf{v}_i$,"
   ]
  },
  {
   "cell_type": "markdown",
   "id": "324f403e",
   "metadata": {
    "editable": true
   },
   "source": [
    "$$\n",
    "\\mathbf{v}_i = \\begin{bmatrix} v_{i1} \\\\ \\dots \\\\ \\dots \\\\v_{in} \\end{bmatrix}\n",
    "$$"
   ]
  },
  {
   "cell_type": "markdown",
   "id": "25ba5449",
   "metadata": {
    "editable": true
   },
   "source": [
    "We assume that the basis is orthogonal, that is"
   ]
  },
  {
   "cell_type": "markdown",
   "id": "e720a75a",
   "metadata": {
    "editable": true
   },
   "source": [
    "$$\n",
    "\\mathbf{v}_j^T\\mathbf{v}_i = \\delta_{ij}.\n",
    "$$"
   ]
  },
  {
   "cell_type": "markdown",
   "id": "0c8edbe3",
   "metadata": {
    "editable": true
   },
   "source": [
    "An orthogonal or unitary transformation"
   ]
  },
  {
   "cell_type": "markdown",
   "id": "daa724e1",
   "metadata": {
    "editable": true
   },
   "source": [
    "$$\n",
    "\\mathbf{w}_i=\\mathbf{U}\\mathbf{v}_i,\n",
    "$$"
   ]
  },
  {
   "cell_type": "markdown",
   "id": "e2e48611",
   "metadata": {
    "editable": true
   },
   "source": [
    "preserves the dot product and orthogonality since"
   ]
  },
  {
   "cell_type": "markdown",
   "id": "c8a9c16f",
   "metadata": {
    "editable": true
   },
   "source": [
    "$$\n",
    "\\mathbf{w}_j^T\\mathbf{w}_i=(\\mathbf{U}\\mathbf{v}_j)^T\\mathbf{U}\\mathbf{v}_i=\\mathbf{v}_j^T\\mathbf{U}^T\\mathbf{U}\\mathbf{v}_i= \\mathbf{v}_j^T\\mathbf{v}_i = \\delta_{ij}.\n",
    "$$"
   ]
  },
  {
   "cell_type": "markdown",
   "id": "e1a096d7",
   "metadata": {
    "editable": true
   },
   "source": [
    "This means that if the coefficients $C_{p\\lambda}$ belong to a unitary or orthogonal trasformation (using the Dirac bra-ket notation)"
   ]
  },
  {
   "cell_type": "markdown",
   "id": "e17e854a",
   "metadata": {
    "editable": true
   },
   "source": [
    "$$\n",
    "\\vert p\\rangle  = \\sum_{\\lambda} C_{p\\lambda}\\vert\\lambda\\rangle,\n",
    "$$"
   ]
  },
  {
   "cell_type": "markdown",
   "id": "cdc35b1a",
   "metadata": {
    "editable": true
   },
   "source": [
    "orthogonality is preserved, that is $\\langle \\alpha \\vert \\beta\\rangle = \\delta_{\\alpha\\beta}$\n",
    "and $\\langle p \\vert q\\rangle = \\delta_{pq}$. \n",
    "\n",
    "This propertry is extremely useful when we build up a basis of many-body Stater determinant based states. \n",
    "\n",
    "**Note also that although a basis $\\vert \\alpha\\rangle$ contains an infinity of states, for practical calculations we have always to make some truncations.** \n",
    "\n",
    "Before we develop the Hartree-Fock equations, there is another very useful property of determinants that we will use both in connection with Hartree-Fock calculations. This applies also to our previous discussion on full configuration interaction theory.  \n",
    "\n",
    "Consider the following determinant"
   ]
  },
  {
   "cell_type": "markdown",
   "id": "67f29112",
   "metadata": {
    "editable": true
   },
   "source": [
    "$$\n",
    "\\left| \\begin{array}{cc} \\alpha_1b_{11}+\\alpha_2sb_{12}& a_{12}\\\\\n",
    "                         \\alpha_1b_{21}+\\alpha_2b_{22}&a_{22}\\end{array} \\right|=\\alpha_1\\left|\\begin{array}{cc} b_{11}& a_{12}\\\\\n",
    "                         b_{21}&a_{22}\\end{array} \\right|+\\alpha_2\\left| \\begin{array}{cc} b_{12}& a_{12}\\\\b_{22}&a_{22}\\end{array} \\right|\n",
    "$$"
   ]
  },
  {
   "cell_type": "markdown",
   "id": "ac126f8c",
   "metadata": {
    "editable": true
   },
   "source": [
    "We can generalize this to  an $n\\times n$ matrix and have"
   ]
  },
  {
   "cell_type": "markdown",
   "id": "ae1da08e",
   "metadata": {
    "editable": true
   },
   "source": [
    "$$\n",
    "\\left| \\begin{array}{cccccc} a_{11}& a_{12} & \\dots & \\sum_{k=1}^n c_k b_{1k} &\\dots & a_{1n}\\\\\n",
    "a_{21}& a_{22} & \\dots & \\sum_{k=1}^n c_k b_{2k} &\\dots & a_{2n}\\\\\n",
    "\\dots & \\dots & \\dots & \\dots & \\dots & \\dots \\\\\n",
    "\\dots & \\dots & \\dots & \\dots & \\dots & \\dots \\\\\n",
    "a_{n1}& a_{n2} & \\dots & \\sum_{k=1}^n c_k b_{nk} &\\dots & a_{nn}\\end{array} \\right|=\n",
    "\\sum_{k=1}^n c_k\\left| \\begin{array}{cccccc} a_{11}& a_{12} & \\dots &  b_{1k} &\\dots & a_{1n}\\\\\n",
    "a_{21}& a_{22} & \\dots &  b_{2k} &\\dots & a_{2n}\\\\\n",
    "\\dots & \\dots & \\dots & \\dots & \\dots & \\dots\\\\\n",
    "\\dots & \\dots & \\dots & \\dots & \\dots & \\dots\\\\\n",
    "a_{n1}& a_{n2} & \\dots &  b_{nk} &\\dots & a_{nn}\\end{array} \\right| .\n",
    "$$"
   ]
  },
  {
   "cell_type": "markdown",
   "id": "41d98327",
   "metadata": {
    "editable": true
   },
   "source": [
    "This is a property we will use in our Hartree-Fock discussions. \n",
    "\n",
    "We can generalize the previous results, now \n",
    "with all elements $a_{ij}$  being given as functions of \n",
    "linear combinations  of various coefficients $c$ and elements $b_{ij}$,"
   ]
  },
  {
   "cell_type": "markdown",
   "id": "94edad98",
   "metadata": {
    "editable": true
   },
   "source": [
    "$$\n",
    "\\left| \\begin{array}{cccccc} \\sum_{k=1}^n b_{1k}c_{k1}& \\sum_{k=1}^n b_{1k}c_{k2} & \\dots & \\sum_{k=1}^n b_{1k}c_{kj}  &\\dots & \\sum_{k=1}^n b_{1k}c_{kn}\\\\\n",
    "\\sum_{k=1}^n b_{2k}c_{k1}& \\sum_{k=1}^n b_{2k}c_{k2} & \\dots & \\sum_{k=1}^n b_{2k}c_{kj} &\\dots & \\sum_{k=1}^n b_{2k}c_{kn}\\\\\n",
    "\\dots & \\dots & \\dots & \\dots & \\dots & \\dots \\\\\n",
    "\\dots & \\dots & \\dots & \\dots & \\dots &\\dots \\\\\n",
    "\\sum_{k=1}^n b_{nk}c_{k1}& \\sum_{k=1}^n b_{nk}c_{k2} & \\dots & \\sum_{k=1}^n b_{nk}c_{kj} &\\dots & \\sum_{k=1}^n b_{nk}c_{kn}\\end{array} \\right|=det(\\mathbf{C})det(\\mathbf{B}),\n",
    "$$"
   ]
  },
  {
   "cell_type": "markdown",
   "id": "c0fb796b",
   "metadata": {
    "editable": true
   },
   "source": [
    "where $det(\\mathbf{C})$ and $det(\\mathbf{B})$ are the determinants of $n\\times n$ matrices\n",
    "with elements $c_{ij}$ and $b_{ij}$ respectively.  \n",
    "This is a property we will use in our Hartree-Fock discussions. Convince yourself about the correctness of the above expression by setting $n=2$. \n",
    "\n",
    "With our definition of the new basis in terms of an orthogonal basis we have"
   ]
  },
  {
   "cell_type": "markdown",
   "id": "32700865",
   "metadata": {
    "editable": true
   },
   "source": [
    "$$\n",
    "\\psi_p(x)  = \\sum_{\\lambda} C_{p\\lambda}\\phi_{\\lambda}(x).\n",
    "$$"
   ]
  },
  {
   "cell_type": "markdown",
   "id": "00f9019e",
   "metadata": {
    "editable": true
   },
   "source": [
    "If the coefficients $C_{p\\lambda}$ belong to an orthogonal or unitary matrix, the new basis\n",
    "is also orthogonal. \n",
    "Our Slater determinant in the new basis $\\psi_p(x)$ is written as"
   ]
  },
  {
   "cell_type": "markdown",
   "id": "950d16fa",
   "metadata": {
    "editable": true
   },
   "source": [
    "$$\n",
    "\\frac{1}{\\sqrt{N!}}\n",
    "\\left| \\begin{array}{ccccc} \\psi_{p}(x_1)& \\psi_{p}(x_2)& \\dots & \\dots & \\psi_{p}(x_N)\\\\\n",
    "                            \\psi_{q}(x_1)&\\psi_{q}(x_2)& \\dots & \\dots & \\psi_{q}(x_N)\\\\  \n",
    "                            \\dots & \\dots & \\dots & \\dots & \\dots \\\\\n",
    "                            \\dots & \\dots & \\dots & \\dots & \\dots \\\\\n",
    "                     \\psi_{t}(x_1)&\\psi_{t}(x_2)& \\dots & \\dots & \\psi_{t}(x_N)\\end{array} \\right|=\\frac{1}{\\sqrt{N!}}\n",
    "\\left| \\begin{array}{ccccc} \\sum_{\\lambda} C_{p\\lambda}\\phi_{\\lambda}(x_1)& \\sum_{\\lambda} C_{p\\lambda}\\phi_{\\lambda}(x_2)& \\dots & \\dots & \\sum_{\\lambda} C_{p\\lambda}\\phi_{\\lambda}(x_N)\\\\\n",
    "                            \\sum_{\\lambda} C_{q\\lambda}\\phi_{\\lambda}(x_1)&\\sum_{\\lambda} C_{q\\lambda}\\phi_{\\lambda}(x_2)& \\dots & \\dots & \\sum_{\\lambda} C_{q\\lambda}\\phi_{\\lambda}(x_N)\\\\  \n",
    "                            \\dots & \\dots & \\dots & \\dots & \\dots \\\\\n",
    "                            \\dots & \\dots & \\dots & \\dots & \\dots \\\\\n",
    "                     \\sum_{\\lambda} C_{t\\lambda}\\phi_{\\lambda}(x_1)&\\sum_{\\lambda} C_{t\\lambda}\\phi_{\\lambda}(x_2)& \\dots & \\dots & \\sum_{\\lambda} C_{t\\lambda}\\phi_{\\lambda}(x_N)\\end{array} \\right|,\n",
    "$$"
   ]
  },
  {
   "cell_type": "markdown",
   "id": "9c4c1a7d",
   "metadata": {
    "editable": true
   },
   "source": [
    "which is nothing but $det(\\mathbf{C})det(\\Phi)$, with $det(\\Phi)$ being the determinant given by the basis functions $\\phi_{\\lambda}(x)$. \n",
    "\n",
    "In our discussions hereafter we will use our definitions of single-particle states above and below the Fermi ($F$) level given by the labels\n",
    "$ijkl\\dots \\le F$ for so-called single-hole states and $abcd\\dots > F$ for so-called particle states.\n",
    "For general single-particle states we employ the labels $pqrs\\dots$. \n",
    "\n",
    "In Eq. ([2](#FunctionalEPhi)), restated here"
   ]
  },
  {
   "cell_type": "markdown",
   "id": "b34b8dc3",
   "metadata": {
    "editable": true
   },
   "source": [
    "$$\n",
    "E[\\Phi] \n",
    "  = \\sum_{\\mu=1}^N \\langle \\mu | h | \\mu \\rangle +\n",
    "  \\frac{1}{2}\\sum_{{\\mu}=1}^N\\sum_{{\\nu}=1}^N \\langle \\mu\\nu|\\hat{v}|\\mu\\nu\\rangle_{AS},\n",
    "$$"
   ]
  },
  {
   "cell_type": "markdown",
   "id": "98d41972",
   "metadata": {
    "editable": true
   },
   "source": [
    "we found the expression for the energy functional in terms of the basis function $\\phi_{\\lambda}(\\mathbf{r})$. We then  varied the above energy functional with respect to the basis functions $|\\mu \\rangle$. \n",
    "Now we are interested in defining a new basis defined in terms of\n",
    "a chosen basis as defined in Eq. ([4](#eq:newbasis)). We can then rewrite the energy functional as"
   ]
  },
  {
   "cell_type": "markdown",
   "id": "ba108ff1",
   "metadata": {
    "editable": true
   },
   "source": [
    "<!-- Equation labels as ordinary links -->\n",
    "<div id=\"FunctionalEPhi2\"></div>\n",
    "\n",
    "$$\n",
    "\\begin{equation}\n",
    "  E[\\Phi^{HF}] \n",
    "  = \\sum_{i=1}^N \\langle i | h | i \\rangle +\n",
    "  \\frac{1}{2}\\sum_{ij=1}^N\\langle ij|\\hat{v}|ij\\rangle_{AS}, \\label{FunctionalEPhi2} \\tag{5}\n",
    "\\end{equation}\n",
    "$$"
   ]
  },
  {
   "cell_type": "markdown",
   "id": "4d437c6c",
   "metadata": {
    "editable": true
   },
   "source": [
    "where $\\Phi^{HF}$ is the new Slater determinant defined by the new basis of Eq. ([4](#eq:newbasis)). \n",
    "\n",
    "Using Eq. ([4](#eq:newbasis)) we can rewrite Eq. ([5](#FunctionalEPhi2)) as"
   ]
  },
  {
   "cell_type": "markdown",
   "id": "79a176c9",
   "metadata": {
    "editable": true
   },
   "source": [
    "<!-- Equation labels as ordinary links -->\n",
    "<div id=\"FunctionalEPhi3\"></div>\n",
    "\n",
    "$$\n",
    "\\begin{equation}\n",
    "  E[\\Psi] \n",
    "  = \\sum_{i=1}^N \\sum_{\\alpha\\beta} C^*_{i\\alpha}C_{i\\beta}\\langle \\alpha | h | \\beta \\rangle +\n",
    "  \\frac{1}{2}\\sum_{ij=1}^N\\sum_{{\\alpha\\beta\\gamma\\delta}} C^*_{i\\alpha}C^*_{j\\beta}C_{i\\gamma}C_{j\\delta}\\langle \\alpha\\beta|\\hat{v}|\\gamma\\delta\\rangle_{AS}. \\label{FunctionalEPhi3} \\tag{6}\n",
    "\\end{equation}\n",
    "$$"
   ]
  },
  {
   "cell_type": "markdown",
   "id": "775d0584",
   "metadata": {
    "editable": true
   },
   "source": [
    "We wish now to minimize the above functional. We introduce again a set of Lagrange multipliers, noting that\n",
    "since $\\langle i | j \\rangle = \\delta_{i,j}$ and $\\langle \\alpha | \\beta \\rangle = \\delta_{\\alpha,\\beta}$, \n",
    "the coefficients $C_{i\\gamma}$ obey the relation"
   ]
  },
  {
   "cell_type": "markdown",
   "id": "e05f6e25",
   "metadata": {
    "editable": true
   },
   "source": [
    "$$\n",
    "\\langle i | j \\rangle=\\delta_{i,j}=\\sum_{\\alpha\\beta} C^*_{i\\alpha}C_{i\\beta}\\langle \\alpha | \\beta \\rangle=\n",
    "\\sum_{\\alpha} C^*_{i\\alpha}C_{i\\alpha},\n",
    "$$"
   ]
  },
  {
   "cell_type": "markdown",
   "id": "e37ded9b",
   "metadata": {
    "editable": true
   },
   "source": [
    "which allows us to define a functional to be minimized that reads"
   ]
  },
  {
   "cell_type": "markdown",
   "id": "8a835ee1",
   "metadata": {
    "editable": true
   },
   "source": [
    "<!-- Equation labels as ordinary links -->\n",
    "<div id=\"_auto1\"></div>\n",
    "\n",
    "$$\n",
    "\\begin{equation}\n",
    "  F[\\Phi^{HF}]=E[\\Phi^{HF}] - \\sum_{i=1}^N\\epsilon_i\\sum_{\\alpha} C^*_{i\\alpha}C_{i\\alpha}.\n",
    "\\label{_auto1} \\tag{7}\n",
    "\\end{equation}\n",
    "$$"
   ]
  },
  {
   "cell_type": "markdown",
   "id": "5182dd4a",
   "metadata": {
    "editable": true
   },
   "source": [
    "Minimizing with respect to $C^*_{i\\alpha}$, remembering that the equations for $C^*_{i\\alpha}$ and $C_{i\\alpha}$\n",
    "can be written as two  independent equations, we obtain"
   ]
  },
  {
   "cell_type": "markdown",
   "id": "ae109d9f",
   "metadata": {
    "editable": true
   },
   "source": [
    "$$\n",
    "\\frac{d}{dC^*_{i\\alpha}}\\left[  E[\\Phi^{HF}] - \\sum_{j}\\epsilon_j\\sum_{\\alpha} C^*_{j\\alpha}C_{j\\alpha}\\right]=0,\n",
    "$$"
   ]
  },
  {
   "cell_type": "markdown",
   "id": "d76ea0a0",
   "metadata": {
    "editable": true
   },
   "source": [
    "which yields for every single-particle state $i$ and index $\\alpha$ (recalling that the coefficients $C_{i\\alpha}$ are matrix elements of a unitary (or orthogonal for a real symmetric matrix) matrix)\n",
    "the following Hartree-Fock equations"
   ]
  },
  {
   "cell_type": "markdown",
   "id": "07b4c7a4",
   "metadata": {
    "editable": true
   },
   "source": [
    "$$\n",
    "\\sum_{\\beta} C_{i\\beta}\\langle \\alpha | h | \\beta \\rangle+\n",
    "\\sum_{j=1}^N\\sum_{\\beta\\gamma\\delta} C^*_{j\\beta}C_{j\\delta}C_{i\\gamma}\\langle \\alpha\\beta|\\hat{v}|\\gamma\\delta\\rangle_{AS}=\\epsilon_i^{HF}C_{i\\alpha}.\n",
    "$$"
   ]
  },
  {
   "cell_type": "markdown",
   "id": "7a8eb7f5",
   "metadata": {
    "editable": true
   },
   "source": [
    "We can rewrite this equation as (changing dummy variables)"
   ]
  },
  {
   "cell_type": "markdown",
   "id": "df174c48",
   "metadata": {
    "editable": true
   },
   "source": [
    "$$\n",
    "\\sum_{\\beta} \\left\\{\\langle \\alpha | h | \\beta \\rangle+\n",
    "\\sum_{j}^N\\sum_{\\gamma\\delta} C^*_{j\\gamma}C_{j\\delta}\\langle \\alpha\\gamma|\\hat{v}|\\beta\\delta\\rangle_{AS}\\right\\}C_{i\\beta}=\\epsilon_i^{HF}C_{i\\alpha}.\n",
    "$$"
   ]
  },
  {
   "cell_type": "markdown",
   "id": "a011effd",
   "metadata": {
    "editable": true
   },
   "source": [
    "Note that the sums over greek indices run over the number of basis set functions (in principle an infinite number).\n",
    "\n",
    "Defining"
   ]
  },
  {
   "cell_type": "markdown",
   "id": "4ad3beea",
   "metadata": {
    "editable": true
   },
   "source": [
    "$$\n",
    "h_{\\alpha\\beta}^{HF}=\\langle \\alpha | h | \\beta \\rangle+\n",
    "\\sum_{j=1}^N\\sum_{\\gamma\\delta} C^*_{j\\gamma}C_{j\\delta}\\langle \\alpha\\gamma|\\hat{v}|\\beta\\delta\\rangle_{AS},\n",
    "$$"
   ]
  },
  {
   "cell_type": "markdown",
   "id": "d4313bff",
   "metadata": {
    "editable": true
   },
   "source": [
    "we can rewrite the new equations as"
   ]
  },
  {
   "cell_type": "markdown",
   "id": "a9b6d1c0",
   "metadata": {
    "editable": true
   },
   "source": [
    "<!-- Equation labels as ordinary links -->\n",
    "<div id=\"eq:newhf\"></div>\n",
    "\n",
    "$$\n",
    "\\begin{equation}\n",
    "\\sum_{\\beta}h_{\\alpha\\beta}^{HF}C_{i\\beta}=\\epsilon_i^{HF}C_{i\\alpha}. \\label{eq:newhf} \\tag{8}\n",
    "\\end{equation}\n",
    "$$"
   ]
  },
  {
   "cell_type": "markdown",
   "id": "16731346",
   "metadata": {
    "editable": true
   },
   "source": [
    "The latter is nothing but a standard eigenvalue problem. Compared with Eq. ([3](#eq:hartreefockcoordinatespace)),\n",
    "we see that we do not need to compute any integrals in an iterative procedure for solving the equations.\n",
    "It suffices to tabulate the matrix elements $\\langle \\alpha | h | \\beta \\rangle$ and $\\langle \\alpha\\gamma|\\hat{v}|\\beta\\delta\\rangle_{AS}$ once and for all. Successive iterations require thus only a look-up in tables over one-body and two-body matrix elements. These details will be discussed below when we solve the Hartree-Fock equations numerical."
   ]
  },
  {
   "cell_type": "markdown",
   "id": "f9409520",
   "metadata": {
    "editable": true
   },
   "source": [
    "## Hartree-Fock algorithm\n",
    "\n",
    "Our Hartree-Fock matrix  is thus"
   ]
  },
  {
   "cell_type": "markdown",
   "id": "55a7a831",
   "metadata": {
    "editable": true
   },
   "source": [
    "$$\n",
    "\\hat{h}_{\\alpha\\beta}^{HF}=\\langle \\alpha | \\hat{h}_0 | \\beta \\rangle+\n",
    "\\sum_{j=1}^N\\sum_{\\gamma\\delta} C^*_{j\\gamma}C_{j\\delta}\\langle \\alpha\\gamma|\\hat{v}|\\beta\\delta\\rangle_{AS}.\n",
    "$$"
   ]
  },
  {
   "cell_type": "markdown",
   "id": "2d0358a7",
   "metadata": {
    "editable": true
   },
   "source": [
    "The Hartree-Fock equations are solved in an iterative waym starting with a guess for the coefficients $C_{j\\gamma}=\\delta_{j,\\gamma}$ and solving the equations by diagonalization till the new single-particle energies\n",
    "$\\epsilon_i^{\\mathrm{HF}}$ do not change anymore by a prefixed quantity. \n",
    "\n",
    "Normally we assume that the single-particle basis $|\\beta\\rangle$ forms an eigenbasis for the operator\n",
    "$\\hat{h}_0$, meaning that the Hartree-Fock matrix becomes"
   ]
  },
  {
   "cell_type": "markdown",
   "id": "f411eab3",
   "metadata": {
    "editable": true
   },
   "source": [
    "$$\n",
    "\\hat{h}_{\\alpha\\beta}^{HF}=\\epsilon_{\\alpha}\\delta_{\\alpha,\\beta}+\n",
    "\\sum_{j=1}^N\\sum_{\\gamma\\delta} C^*_{j\\gamma}C_{j\\delta}\\langle \\alpha\\gamma|\\hat{v}|\\beta\\delta\\rangle_{AS}.\n",
    "$$"
   ]
  },
  {
   "cell_type": "markdown",
   "id": "cf023c39",
   "metadata": {
    "editable": true
   },
   "source": [
    "The Hartree-Fock eigenvalue problem"
   ]
  },
  {
   "cell_type": "markdown",
   "id": "e4676ce0",
   "metadata": {
    "editable": true
   },
   "source": [
    "$$\n",
    "\\sum_{\\beta}\\hat{h}_{\\alpha\\beta}^{HF}C_{i\\beta}=\\epsilon_i^{\\mathrm{HF}}C_{i\\alpha},\n",
    "$$"
   ]
  },
  {
   "cell_type": "markdown",
   "id": "23a83d64",
   "metadata": {
    "editable": true
   },
   "source": [
    "can be written out in a more compact form as"
   ]
  },
  {
   "cell_type": "markdown",
   "id": "06e8f1c8",
   "metadata": {
    "editable": true
   },
   "source": [
    "$$\n",
    "\\hat{h}^{HF}\\hat{C}=\\epsilon^{\\mathrm{HF}}\\hat{C}.\n",
    "$$"
   ]
  },
  {
   "cell_type": "markdown",
   "id": "398eac41",
   "metadata": {
    "editable": true
   },
   "source": [
    "The Hartree-Fock equations are, in their simplest form, solved in an iterative way, starting with a guess for the\n",
    "coefficients $C_{i\\alpha}$. We label the coefficients as $C_{i\\alpha}^{(n)}$, where the subscript $n$ stands for iteration $n$.\n",
    "To set up the algorithm we can proceed as follows:\n",
    "\n",
    " * We start with a guess $C_{i\\alpha}^{(0)}=\\delta_{i,\\alpha}$. Alternatively, we could have used random starting values as long as the vectors are normalized. Another possibility is to give states below the Fermi level a larger weight.\n",
    "\n",
    " * The Hartree-Fock matrix simplifies then to (assuming that the coefficients $C_{i\\alpha} $  are real)"
   ]
  },
  {
   "cell_type": "markdown",
   "id": "4196d1b6",
   "metadata": {
    "editable": true
   },
   "source": [
    "$$\n",
    "\\hat{h}_{\\alpha\\beta}^{HF}=\\epsilon_{\\alpha}\\delta_{\\alpha,\\beta}+\n",
    "\\sum_{j = 1}^N\\sum_{\\gamma\\delta} C_{j\\gamma}^{(0)}C_{j\\delta}^{(0)}\\langle \\alpha\\gamma|\\hat{v}|\\beta\\delta\\rangle_{AS}.\n",
    "$$"
   ]
  },
  {
   "cell_type": "markdown",
   "id": "bdc213c3",
   "metadata": {
    "editable": true
   },
   "source": [
    "Solving the Hartree-Fock eigenvalue problem yields then new eigenvectors $C_{i\\alpha}^{(1)}$ and eigenvalues\n",
    "$\\epsilon_i^{HF(1)}$. \n",
    " * With the new eigenvalues we can set up a new Hartree-Fock potential"
   ]
  },
  {
   "cell_type": "markdown",
   "id": "63e0939c",
   "metadata": {
    "editable": true
   },
   "source": [
    "$$\n",
    "\\sum_{j = 1}^N\\sum_{\\gamma\\delta} C_{j\\gamma}^{(1)}C_{j\\delta}^{(1)}\\langle \\alpha\\gamma|\\hat{v}|\\beta\\delta\\rangle_{AS}.\n",
    "$$"
   ]
  },
  {
   "cell_type": "markdown",
   "id": "e895c288",
   "metadata": {
    "editable": true
   },
   "source": [
    "The diagonalization with the new Hartree-Fock potential yields new eigenvectors and eigenvalues.\n",
    "This process is continued till for example"
   ]
  },
  {
   "cell_type": "markdown",
   "id": "e694a1b2",
   "metadata": {
    "editable": true
   },
   "source": [
    "$$\n",
    "\\frac{\\sum_{p} |\\epsilon_i^{(n)}-\\epsilon_i^{(n-1)}|}{m} \\le \\lambda,\n",
    "$$"
   ]
  },
  {
   "cell_type": "markdown",
   "id": "03de56b5",
   "metadata": {
    "editable": true
   },
   "source": [
    "where $\\lambda$ is a user prefixed quantity ($\\lambda \\sim 10^{-8}$ or smaller) and $p$ runs over all calculated single-particle\n",
    "energies and $m$ is the number of single-particle states."
   ]
  }
 ],
 "metadata": {},
 "nbformat": 4,
 "nbformat_minor": 5
}
