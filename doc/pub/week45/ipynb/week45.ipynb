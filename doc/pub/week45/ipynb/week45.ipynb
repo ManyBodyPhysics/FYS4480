{
 "cells": [
  {
   "cell_type": "markdown",
   "id": "280566ee",
   "metadata": {
    "editable": true
   },
   "source": [
    "<!-- HTML file automatically generated from DocOnce source (https://github.com/doconce/doconce/)\n",
    "doconce format html week45.do.txt --no_mako -->\n",
    "<!-- dom:TITLE: Week 45: Many-body perturbation theory and Coupled Cluster theory\t -->"
   ]
  },
  {
   "cell_type": "markdown",
   "id": "c7badbbe",
   "metadata": {
    "editable": true
   },
   "source": [
    "# Week 45: Many-body perturbation theory and Coupled Cluster theory\t\n",
    "**Morten Hjorth-Jensen**, Department of Physics and Center for Computing in Science Education, University of Oslo, Norway and Department of Physics and Astronomy and Facility for Rare Isotope Beams, Michigan State University, USA\n",
    "\n",
    "Date: **Week 45, November 7-11**"
   ]
  },
  {
   "cell_type": "markdown",
   "id": "7e660a69",
   "metadata": {
    "editable": true
   },
   "source": [
    "## Week 45, November 7-11, 2022\n",
    "* Topics to be covered\n",
    "\n",
    "  * Thursday:\n",
    "\n",
    "1. Adiabatic\thypothesis and linked diagram theorem. Slides at <https://github.com/ManyBodyPhysics/FYS4480/blob/master/doc/pub/week45/pdf/slidesweek45.pdf>\n",
    "\n",
    "2. Examples of diagrams and discussion of Pauli violating diagrams. Handwritten notes and discussion of exercise 1, week 45\n",
    "\n",
    "3. Video of lecture\t\n",
    "\n",
    "  * Friday:\n",
    "\n",
    "1. Summary of perturbation theory and start discussion of Coupled Cluster theory\n",
    "\n",
    "2. Video of lecture at\n",
    "\n",
    "* Lecture Material: Slides at <https://github.com/ManyBodyPhysics/FYS4480/blob/master/doc/pub/week45/pdf/slidesweek45.pdf>, handwritten notes and Shavitt and Bartlett chapter 4-6\n",
    "\n",
    "* Ninth exercise set at <https://github.com/ManyBodyPhysics/FYS4480/blob/master/doc/Exercises/2022/ExercisesWeek45.pdf>"
   ]
  }
 ],
 "metadata": {},
 "nbformat": 4,
 "nbformat_minor": 5
}
