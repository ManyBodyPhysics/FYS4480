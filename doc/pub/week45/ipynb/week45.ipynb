{
 "cells": [
  {
   "cell_type": "markdown",
   "id": "f73e43a6",
   "metadata": {
    "editable": true
   },
   "source": [
    "<!-- HTML file automatically generated from DocOnce source (https://github.com/doconce/doconce/)\n",
    "doconce format html week45.do.txt --no_mako -->\n",
    "<!-- dom:TITLE: Week 45: Many-body perturbation theory -->"
   ]
  },
  {
   "cell_type": "markdown",
   "id": "dc4aab18",
   "metadata": {
    "editable": true
   },
   "source": [
    "# Week 45: Many-body perturbation theory\n",
    "**Morten Hjorth-Jensen**, Department of Physics and Center for Computing in Science Education, University of Oslo, Norway and Department of Physics and Astronomy and Facility for Rare Isotope Beams, Michigan State University, USA\n",
    "\n",
    "Date: **Week 45, November 4-8**"
   ]
  },
  {
   "cell_type": "markdown",
   "id": "1815d33c",
   "metadata": {
    "editable": true
   },
   "source": [
    "## Week 45, November 4-8, 2024\n",
    "* Topics to be covered\n",
    "\n",
    "  * Thursday:\n",
    "\n",
    "1. Many-body perturbation theory, discussion of contributions and diagrammatic representation\n",
    "\n",
    "2. Diagram rules (whiteboard notes)\n",
    "\n",
    "3. [Video of lecture to be added](https://youtu.be/)\n",
    "\n",
    "  * Friday:\n",
    "\n",
    "1. Examples of diagrams and discussion of Pauli violating diagrams\n",
    "\n",
    "2. Time-dependent perturbation theory, definitions of Schroedinger, Heisenberg and interaction picture, see slides at <https://github.com/ManyBodyPhysics/FYS4480/blob/master/doc/src/week45/LatexSlides/pictures.pdf>\n",
    "\n",
    "3. [Video of lecture to be added](https://youtu.be/)\n",
    "\n",
    "* Lecture Material: Slides at <https://github.com/ManyBodyPhysics/FYS4480/blob/master/doc/pub/week45/pdf/slidesweek45.pdf>, handwritten notes and Shavitt and Bartlett chapter 4-6\n",
    "\n",
    "* Ninth exercise set at <https://github.com/ManyBodyPhysics/FYS4480/blob/master/doc/Exercises/2023/ExercisesWeek45.pdf>"
   ]
  }
 ],
 "metadata": {},
 "nbformat": 4,
 "nbformat_minor": 5
}
