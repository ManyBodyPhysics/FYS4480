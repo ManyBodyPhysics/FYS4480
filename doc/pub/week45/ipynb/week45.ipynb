{
 "cells": [
  {
   "cell_type": "markdown",
   "id": "c8d2b3d3",
   "metadata": {
    "editable": true
   },
   "source": [
    "<!-- HTML file automatically generated from DocOnce source (https://github.com/doconce/doconce/)\n",
    "doconce format html week45.do.txt --no_mako -->\n",
    "<!-- dom:TITLE: Week 45: Many-body perturbation theory -->"
   ]
  },
  {
   "cell_type": "markdown",
   "id": "f1ad8d92",
   "metadata": {
    "editable": true
   },
   "source": [
    "# Week 45: Many-body perturbation theory\n",
    "**Morten Hjorth-Jensen**, Department of Physics and Center for Computing in Science Education, University of Oslo, Norway and Department of Physics and Astronomy and Facility for Rare Isotope Beams, Michigan State University, USA\n",
    "\n",
    "Date: **Week 45, November 4-8**"
   ]
  },
  {
   "cell_type": "markdown",
   "id": "a9187232",
   "metadata": {
    "editable": true
   },
   "source": [
    "## Week 45, November 4-8, 2024\n",
    "Topics to be covered\n",
    "1. Thursday:\n",
    "\n",
    "a. Continuation of examples from week 45\n",
    "\n",
    "b. Many-body perturbation theory, discussion of diagrammatic representation\n",
    "\n",
    "c. Diagram rules\n",
    "\n",
    "d. Linked and unlinked diagrams\n",
    "<!-- o [Video of lecture to be added](https://youtu.be/) -->\n",
    "\n",
    "5. Friday:\n",
    "\n",
    "a. Examples of diagrams and discussion of Pauli violating diagrams (exclusion principle violating diagrams)\n",
    "\n",
    "b. Linked diagram theorem\n",
    "<!-- o Time-dependent perturbation theory, definitions of Schroedinger, Heisenberg and interaction picture, see slides at <https://github.com/ManyBodyPhysics/FYS4480/blob/master/doc/src/week45/LatexSlides/pictures.pdf> -->\n",
    "<!-- o [Video of lecture to be added](https://youtu.be/) -->\n",
    "\n",
    "* Second midterm at <https://github.com/ManyBodyPhysics/FYS4480/blob/master/doc/Exercises/2024/SecondMidterm.pdf>\n",
    "\n",
    "* Lecture Material: Slides and Shavitt and Bartlett chapter 5-7"
   ]
  }
 ],
 "metadata": {},
 "nbformat": 4,
 "nbformat_minor": 5
}
