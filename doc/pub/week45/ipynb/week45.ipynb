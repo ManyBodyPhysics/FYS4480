{
 "cells": [
  {
   "cell_type": "markdown",
   "id": "3655951f",
   "metadata": {
    "editable": true
   },
   "source": [
    "<!-- HTML file automatically generated from DocOnce source (https://github.com/doconce/doconce/)\n",
    "doconce format html week45.do.txt --no_mako -->\n",
    "<!-- dom:TITLE: Week 45: Many-body perturbation theory -->"
   ]
  },
  {
   "cell_type": "markdown",
   "id": "18294a0e",
   "metadata": {
    "editable": true
   },
   "source": [
    "# Week 45: Many-body perturbation theory\n",
    "**Morten Hjorth-Jensen**, Department of Physics and Center for Computing in Science Education, University of Oslo, Norway and Department of Physics and Astronomy and Facility for Rare Isotope Beams, Michigan State University, USA\n",
    "\n",
    "Date: **Week 45, November 4-8**"
   ]
  },
  {
   "cell_type": "markdown",
   "id": "059edf59",
   "metadata": {
    "editable": true
   },
   "source": [
    "## Week 45, November 4-8, 2024\n",
    "Topics to be covered\n",
    "1. Thursday:\n",
    "\n",
    "a. Continuation of examples from week 45\n",
    "\n",
    "b. Many-body perturbation theory, discussion of diagrammatic representation\n",
    "\n",
    "c. Diagram rules\n",
    "\n",
    "d. Video of lecture at <https://youtu.be/4L6Yhl9SIUI>\n",
    "\n",
    "e. Whiteboard notes at <https://github.com/ManyBodyPhysics/FYS4480/blob/master/doc/HandwrittenNotes/2024/NotesNovember7.pdf>     \n",
    "\n",
    "6. Friday:\n",
    "\n",
    "a. Diagram examples\n",
    "\n",
    "b. Discussion of second midterm\n",
    "\n",
    "c. Video of lecture at URL\":\"https://youtu.be/VlMWXEPpoAA\"\n",
    "\n",
    "d. Whiteboard notes at <https://github.com/ManyBodyPhysics/FYS4480/blob/master/doc/HandwrittenNotes/2024/NotesNovember8.pdf>\n",
    "\n",
    "* Second midterm at <https://github.com/ManyBodyPhysics/FYS4480/blob/master/doc/Exercises/2024/SecondMidterm.pdf>\n",
    "\n",
    "* Lecture Material: Whiteboard notes (see above)  and Shavitt and Bartlett chapters 5-7"
   ]
  },
  {
   "cell_type": "markdown",
   "id": "040dcc3c",
   "metadata": {
    "editable": true
   },
   "source": [
    "## Diagram rules, topological distinct diagrams\n",
    "\n",
    "Draw all topologically distinct diagrams by linking up particle and\n",
    "hole lines with various interaction vertices. Two diagrams can be made\n",
    "topologically equivalent by deformation of fermion lines under the\n",
    "restriction that the ordering of the vertices is not changed and\n",
    "particle lines and hole lines remain particle and\\ hole lines.\n",
    "\n",
    "For the explicit evaluation of a diagram: Sum freely over all internal indices and label all lines."
   ]
  },
  {
   "cell_type": "markdown",
   "id": "4b487d6c",
   "metadata": {
    "editable": true
   },
   "source": [
    "## Diagram rules: matrix elements\n",
    "Extract matrix elements for the one-body operators (if present) as\n",
    "$\\langle \\mathrm{out} |\\hat{f}| \\mathrm{in}\\rangle$ and for the\n",
    "two-body operator (if \\ present) as\n",
    "$\\bra{\\mathrm{left\\hspace{0.1cm}out,\n",
    "right\\hspace{0.1cm}out}}|\\hat{v}|\\ket{\\mathrm{left\\hspace{0.1cm}in,\n",
    "right\\hspace{0.1cm}in}}$."
   ]
  },
  {
   "cell_type": "markdown",
   "id": "5cab47ff",
   "metadata": {
    "editable": true
   },
   "source": [
    "## Diagram rules: phase factors\n",
    "Calculate the phase factor: $(-1)^{\\mathrm{holelines} + \\mathrm{loops}}$"
   ]
  },
  {
   "cell_type": "markdown",
   "id": "7ff0eca8",
   "metadata": {
    "editable": true
   },
   "source": [
    "## Diagram rules: equivalent pairs\n",
    "Multiply by a factor of $\\frac{1}{2}$ for each equivalent pair of\n",
    "lines (particle lines or hole lines) that begin at the same\n",
    "interaction vertex and end at the same (yet different from the\n",
    "first) interaction vertex."
   ]
  },
  {
   "cell_type": "markdown",
   "id": "7cbc55da",
   "metadata": {
    "editable": true
   },
   "source": [
    "## Diagram rules: energy denominators\n",
    "For each interval between successive interaction vertices with minimum\n",
    "one single-particle state above the Fermi level with $n$ hole states\n",
    "and $m$ particle stat\\ es there is a factor !\n",
    "\n",
    "bt\n",
    "\\[\n",
    "\\frac{1}{\\sum_i^n\\epsilon_i-\\sum_a^m\\epsilon_a}.\n",
    "\\]\n",
    "!et"
   ]
  }
 ],
 "metadata": {},
 "nbformat": 4,
 "nbformat_minor": 5
}
