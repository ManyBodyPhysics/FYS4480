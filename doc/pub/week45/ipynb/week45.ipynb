{
 "cells": [
  {
   "cell_type": "markdown",
   "id": "469c30fa",
   "metadata": {
    "editable": true
   },
   "source": [
    "<!-- HTML file automatically generated from DocOnce source (https://github.com/doconce/doconce/)\n",
    "doconce format html week45.do.txt --no_mako -->\n",
    "<!-- dom:TITLE: Week 45: Many-body perturbation theory -->"
   ]
  },
  {
   "cell_type": "markdown",
   "id": "f2624b16",
   "metadata": {
    "editable": true
   },
   "source": [
    "# Week 45: Many-body perturbation theory\n",
    "**Morten Hjorth-Jensen**, Department of Physics and Center for Computing in Science Education, University of Oslo, Norway and Department of Physics and Astronomy and Facility for Rare Isotope Beams, Michigan State University, USA\n",
    "\n",
    "Date: **Week 45, November 4-8**"
   ]
  },
  {
   "cell_type": "markdown",
   "id": "cb032aa0",
   "metadata": {
    "editable": true
   },
   "source": [
    "## Week 45, November 4-8, 2024\n",
    "Topics to be covered\n",
    "1. Thursday:\n",
    "\n",
    "a. Continuation of examples from week 45\n",
    "\n",
    "b. Many-body perturbation theory, discussion of diagrammatic representation\n",
    "\n",
    "c. Diagram rules\n",
    "\n",
    "d. Video of lecture at <https://youtu.be/4L6Yhl9SIUI>\n",
    "\n",
    "e. Whiteboard notes at <https://github.com/ManyBodyPhysics/FYS4480/blob/master/doc/HandwrittenNotes/2024/NotesNovember7.pdf>     \n",
    "\n",
    "6. Friday:\n",
    "\n",
    "a. Diagram examples\n",
    "\n",
    "b. Discussion of second midterm\n",
    "\n",
    "c. Video of lecture at URL\":\"https://youtu.be/VlMWXEPpoAA\"\n",
    "\n",
    "d. Whiteboard notes at <https://github.com/ManyBodyPhysics/FYS4480/blob/master/doc/HandwrittenNotes/2024/NotesNovember8.pdf>\n",
    "\n",
    "* Second midterm at <https://github.com/ManyBodyPhysics/FYS4480/blob/master/doc/Exercises/2024/SecondMidterm.pdf>\n",
    "\n",
    "* Lecture Material: Slides and Shavitt and Bartlett chapter 5-7"
   ]
  }
 ],
 "metadata": {},
 "nbformat": 4,
 "nbformat_minor": 5
}
