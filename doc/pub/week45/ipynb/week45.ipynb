{
 "cells": [
  {
   "cell_type": "markdown",
   "id": "bba4fc0a",
   "metadata": {
    "editable": true
   },
   "source": [
    "<!-- HTML file automatically generated from DocOnce source (https://github.com/doconce/doconce/)\n",
    "doconce format html week45.do.txt --no_mako -->\n",
    "<!-- dom:TITLE: Week 45: Many-body perturbation theory -->"
   ]
  },
  {
   "cell_type": "markdown",
   "id": "b41c746c",
   "metadata": {
    "editable": true
   },
   "source": [
    "# Week 45: Many-body perturbation theory\n",
    "**Morten Hjorth-Jensen**, Department of Physics and Center for Computing in Science Education, University of Oslo, Norway and Department of Physics and Astronomy and Facility for Rare Isotope Beams, Michigan State University, USA\n",
    "\n",
    "Date: **Week 45, November 4-8**"
   ]
  },
  {
   "cell_type": "markdown",
   "id": "2af7d0fb",
   "metadata": {
    "editable": true
   },
   "source": [
    "## Week 45, November 4-8, 2024\n",
    "Topics to be covered\n",
    "1. Thursday:\n",
    "\n",
    "a. Continuation of examples from week 45\n",
    "\n",
    "b. Many-body perturbation theory, discussion of diagrammatic representation\n",
    "\n",
    "c. Diagram rules\n",
    "<!-- o [Video of lecture to be added](https://youtu.be/) -->\n",
    "\n",
    "4. Friday:\n",
    "\n",
    "a. Examples of diagrams and discussion of Pauli violating diagrams\n",
    "\n",
    "b. Time-dependent perturbation theory, definitions of Schroedinger, Heisenberg and interaction picture, see slides at <https://github.com/ManyBodyPhysics/FYS4480/blob/master/doc/src/week45/LatexSlides/pictures.pdf>\n",
    "<!-- o [Video of lecture to be added](https://youtu.be/) -->\n",
    "\n",
    "* Lecture Material: Slides and Shavitt and Bartlett chapter 4-6\n",
    "\n",
    "* Ninth exercise set at <https://github.com/ManyBodyPhysics/FYS4480/blob/master/doc/Exercises/2023/ExercisesWeek45.pdf>"
   ]
  }
 ],
 "metadata": {},
 "nbformat": 4,
 "nbformat_minor": 5
}
