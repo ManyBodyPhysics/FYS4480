{
 "cells": [
  {
   "cell_type": "markdown",
   "id": "51e98f9a",
   "metadata": {
    "editable": true
   },
   "source": [
    "<!-- HTML file automatically generated from DocOnce source (https://github.com/doconce/doconce/)\n",
    "doconce format html week39.do.txt --no_mako -->\n",
    "<!-- dom:TITLE: Week 39: Full configuration interaction theory -->"
   ]
  },
  {
   "cell_type": "markdown",
   "id": "c7f89be3",
   "metadata": {
    "editable": true
   },
   "source": [
    "# Week 39: Full configuration interaction theory\n",
    "**Morten Hjorth-Jensen**, Department of Physics and Center for Computing in Science Education, University of Oslo, Norway and Department of Physics and Astronomy and Facility for Rare Isotope Beams, Michigan State University, USA\n",
    "\n",
    "Date: **Week 39, September 223-27**"
   ]
  },
  {
   "cell_type": "markdown",
   "id": "4bd03437",
   "metadata": {
    "editable": true
   },
   "source": [
    "## Week 39, September 23-27, 2024\n",
    "\n",
    "* Topics to be covered\n",
    "\n",
    "a. Thursday:\n",
    "\n",
    "    * Full configuration interaction (FCI) theory\n",
    "\n",
    "    * Diagrammatic representation\n",
    "\n",
    "    * Lipkin model as an example of applications of FCI theory    \n",
    "<!-- * [Video of lecture](https://youtu.be/AnAbRonMqPc) -->\n",
    "<!-- * [Whiteboard notes](https://github.com/ManyBodyPhysics/FYS4480/blob/master/doc/HandwrittenNotes/2023/LectureSeptember28.pdf) -->\n",
    "\n",
    "2. Friday: \n",
    "\n",
    "    * Hartree-Fock theory and mean field theories\n",
    "<!-- * [Video of lecture](https://youtu.be/fqWAeBiZ_zg) -->\n",
    "<!-- * [Whiteboard notes](https://github.com/ManyBodyPhysics/FYS4480/blob/master/doc/HandwrittenNotes/2023/LectureSeptember29.pdf) -->\n",
    "\n",
    "* Lecture Material: These slides, handwritten notes\n",
    "\n",
    "* Sixth exercise set at <https://github.com/ManyBodyPhysics/FYS4480/blob/master/doc/Exercises/2024/ExercisesWeek39.pdf>"
   ]
  },
  {
   "cell_type": "markdown",
   "id": "e8b578df",
   "metadata": {
    "editable": true
   },
   "source": [
    "## Full Configuration Interaction Theory\n",
    "\n",
    "We have defined the ansatz for the ground state as"
   ]
  },
  {
   "cell_type": "markdown",
   "id": "c8dac042",
   "metadata": {
    "editable": true
   },
   "source": [
    "$$\n",
    "|\\Phi_0\\rangle = \\left(\\prod_{i\\le F}\\hat{a}_{i}^{\\dagger}\\right)|0\\rangle,\n",
    "$$"
   ]
  },
  {
   "cell_type": "markdown",
   "id": "4ed61292",
   "metadata": {
    "editable": true
   },
   "source": [
    "where the index $i$ defines different single-particle states up to the Fermi level. We have assumed that we have $N$ fermions."
   ]
  },
  {
   "cell_type": "markdown",
   "id": "73f8d9b7",
   "metadata": {
    "editable": true
   },
   "source": [
    "## One-particle-one-hole state\n",
    "\n",
    "A given one-particle-one-hole ($1p1h$) state can be written as"
   ]
  },
  {
   "cell_type": "markdown",
   "id": "5e7de0d4",
   "metadata": {
    "editable": true
   },
   "source": [
    "$$\n",
    "|\\Phi_i^a\\rangle = \\hat{a}_{a}^{\\dagger}\\hat{a}_i|\\Phi_0\\rangle,\n",
    "$$"
   ]
  },
  {
   "cell_type": "markdown",
   "id": "5f7181bc",
   "metadata": {
    "editable": true
   },
   "source": [
    "while a $2p2h$ state can be written as"
   ]
  },
  {
   "cell_type": "markdown",
   "id": "1e4d5155",
   "metadata": {
    "editable": true
   },
   "source": [
    "$$\n",
    "|\\Phi_{ij}^{ab}\\rangle = \\hat{a}_{a}^{\\dagger}\\hat{a}_{b}^{\\dagger}\\hat{a}_j\\hat{a}_i|\\Phi_0\\rangle,\n",
    "$$"
   ]
  },
  {
   "cell_type": "markdown",
   "id": "3439838c",
   "metadata": {
    "editable": true
   },
   "source": [
    "and a general $NpNh$ state as"
   ]
  },
  {
   "cell_type": "markdown",
   "id": "a55c1229",
   "metadata": {
    "editable": true
   },
   "source": [
    "$$\n",
    "|\\Phi_{ijk\\dots}^{abc\\dots}\\rangle = \\hat{a}_{a}^{\\dagger}\\hat{a}_{b}^{\\dagger}\\hat{a}_{c}^{\\dagger}\\dots\\hat{a}_k\\hat{a}_j\\hat{a}_i|\\Phi_0\\rangle.\n",
    "$$"
   ]
  },
  {
   "cell_type": "markdown",
   "id": "1741def6",
   "metadata": {
    "editable": true
   },
   "source": [
    "## Full Configuration Interaction Theory\n",
    "\n",
    "We can then expand our exact state function for the ground state \n",
    "as"
   ]
  },
  {
   "cell_type": "markdown",
   "id": "49ffab59",
   "metadata": {
    "editable": true
   },
   "source": [
    "$$\n",
    "|\\Psi_0\\rangle=C_0|\\Phi_0\\rangle+\\sum_{ai}C_i^a|\\Phi_i^a\\rangle+\\sum_{abij}C_{ij}^{ab}|\\Phi_{ij}^{ab}\\rangle+\\dots\n",
    "=(C_0+\\hat{C})|\\Phi_0\\rangle,\n",
    "$$"
   ]
  },
  {
   "cell_type": "markdown",
   "id": "d5a56228",
   "metadata": {
    "editable": true
   },
   "source": [
    "where we have introduced the so-called correlation operator"
   ]
  },
  {
   "cell_type": "markdown",
   "id": "6abba1f8",
   "metadata": {
    "editable": true
   },
   "source": [
    "$$\n",
    "\\hat{C}=\\sum_{ai}C_i^a\\hat{a}_{a}^{\\dagger}\\hat{a}_i  +\\sum_{abij}C_{ij}^{ab}\\hat{a}_{a}^{\\dagger}\\hat{a}_{b}^{\\dagger}\\hat{a}_j\\hat{a}_i+\\dots\n",
    "$$"
   ]
  },
  {
   "cell_type": "markdown",
   "id": "4d71ca2d",
   "metadata": {
    "editable": true
   },
   "source": [
    "## Intermediate normalization\n",
    "Since the normalization of $\\Psi_0$ is at our disposal and since $C_0$ is by hypothesis non-zero, we may arbitrarily set $C_0=1$ with \n",
    "corresponding proportional changes in all other coefficients. Using this so-called intermediate normalization we have"
   ]
  },
  {
   "cell_type": "markdown",
   "id": "274d45d9",
   "metadata": {
    "editable": true
   },
   "source": [
    "$$\n",
    "\\langle \\Psi_0 | \\Phi_0 \\rangle = \\langle \\Phi_0 | \\Phi_0 \\rangle = 1,\n",
    "$$"
   ]
  },
  {
   "cell_type": "markdown",
   "id": "35d729a9",
   "metadata": {
    "editable": true
   },
   "source": [
    "resulting in"
   ]
  },
  {
   "cell_type": "markdown",
   "id": "34ae80d4",
   "metadata": {
    "editable": true
   },
   "source": [
    "$$\n",
    "|\\Psi_0\\rangle=(1+\\hat{C})|\\Phi_0\\rangle.\n",
    "$$"
   ]
  },
  {
   "cell_type": "markdown",
   "id": "6b53c6cf",
   "metadata": {
    "editable": true
   },
   "source": [
    "## Full Configuration Interaction Theory\n",
    "\n",
    "We rewrite"
   ]
  },
  {
   "cell_type": "markdown",
   "id": "8f4ca918",
   "metadata": {
    "editable": true
   },
   "source": [
    "$$\n",
    "|\\Psi_0\\rangle=C_0|\\Phi_0\\rangle+\\sum_{ai}C_i^a|\\Phi_i^a\\rangle+\\sum_{abij}C_{ij}^{ab}|\\Phi_{ij}^{ab}\\rangle+\\dots,\n",
    "$$"
   ]
  },
  {
   "cell_type": "markdown",
   "id": "d7656861",
   "metadata": {
    "editable": true
   },
   "source": [
    "in a more compact form as"
   ]
  },
  {
   "cell_type": "markdown",
   "id": "1006934e",
   "metadata": {
    "editable": true
   },
   "source": [
    "$$\n",
    "|\\Psi_0\\rangle=\\sum_{PH}C_H^P\\Phi_H^P=\\left(\\sum_{PH}C_H^P\\hat{A}_H^P\\right)|\\Phi_0\\rangle,\n",
    "$$"
   ]
  },
  {
   "cell_type": "markdown",
   "id": "b1e195dd",
   "metadata": {
    "editable": true
   },
   "source": [
    "where $H$ stands for $0,1,\\dots,n$ hole states and $P$ for $0,1,\\dots,n$ particle states."
   ]
  },
  {
   "cell_type": "markdown",
   "id": "7b30308f",
   "metadata": {
    "editable": true
   },
   "source": [
    "## Compact expression of correlated part\n",
    "\n",
    "We have introduced the operator $\\hat{A}_H^P$ which contains an equal number of creation and annihilation operators.\n",
    "\n",
    "Our requirement of unit normalization gives"
   ]
  },
  {
   "cell_type": "markdown",
   "id": "e557b844",
   "metadata": {
    "editable": true
   },
   "source": [
    "$$\n",
    "\\langle \\Psi_0 | \\Phi_0 \\rangle = \\sum_{PH}|C_H^P|^2= 1,\n",
    "$$"
   ]
  },
  {
   "cell_type": "markdown",
   "id": "e0b1a7d4",
   "metadata": {
    "editable": true
   },
   "source": [
    "and the energy can be written as"
   ]
  },
  {
   "cell_type": "markdown",
   "id": "38a75270",
   "metadata": {
    "editable": true
   },
   "source": [
    "$$\n",
    "E= \\langle \\Psi_0 | \\hat{H} |\\Psi_0 \\rangle= \\sum_{PP'HH'}C_H^{*P}\\langle \\Phi_H^P | \\hat{H} |\\Phi_{H'}^{P'} \\rangle C_{H'}^{P'}.\n",
    "$$"
   ]
  },
  {
   "cell_type": "markdown",
   "id": "051f34b4",
   "metadata": {
    "editable": true
   },
   "source": [
    "## Full Configuration Interaction Theory\n",
    "\n",
    "Normally"
   ]
  },
  {
   "cell_type": "markdown",
   "id": "1f7aa70f",
   "metadata": {
    "editable": true
   },
   "source": [
    "$$\n",
    "E= \\langle \\Psi_0 | \\hat{H} |\\Psi_0 \\rangle= \\sum_{PP'HH'}C_H^{*P}\\langle \\Phi_H^P | \\hat{H} |\\Phi_{H'}^{P'} \\rangle C_{H'}^{P'},\n",
    "$$"
   ]
  },
  {
   "cell_type": "markdown",
   "id": "5475cf2e",
   "metadata": {
    "editable": true
   },
   "source": [
    "is solved by diagonalization setting up the Hamiltonian matrix defined by the basis of all possible Slater determinants. A diagonalization\n",
    "<!-- to do: add text about Rayleigh-Ritz -->\n",
    "is equivalent to finding the variational minimum   of"
   ]
  },
  {
   "cell_type": "markdown",
   "id": "01dc7038",
   "metadata": {
    "editable": true
   },
   "source": [
    "$$\n",
    "\\langle \\Psi_0 | \\hat{H} |\\Psi_0 \\rangle-\\lambda \\langle \\Psi_0 |\\Psi_0 \\rangle,\n",
    "$$"
   ]
  },
  {
   "cell_type": "markdown",
   "id": "ef72d789",
   "metadata": {
    "editable": true
   },
   "source": [
    "where $\\lambda$ is a variational multiplier to be identified with the energy of the system."
   ]
  },
  {
   "cell_type": "markdown",
   "id": "070fcec9",
   "metadata": {
    "editable": true
   },
   "source": [
    "## Minimization\n",
    "\n",
    "The minimization process results in"
   ]
  },
  {
   "cell_type": "markdown",
   "id": "24decfe4",
   "metadata": {
    "editable": true
   },
   "source": [
    "$$\n",
    "\\delta\\left[ \\langle \\Psi_0 | \\hat{H} |\\Psi_0 \\rangle-\\lambda \\langle \\Psi_0 |\\Psi_0 \\rangle\\right]=0,\n",
    "$$"
   ]
  },
  {
   "cell_type": "markdown",
   "id": "ff8f41dd",
   "metadata": {
    "editable": true
   },
   "source": [
    "and since the coefficients $\\delta[C_H^{*P}]$ and $\\delta[C_{H'}^{P'}]$ are complex conjugates it is necessary and sufficient to require the quantities that multiply with $\\delta[C_H^{*P}]$ to vanish.  Varying the latter coefficients we have then"
   ]
  },
  {
   "cell_type": "markdown",
   "id": "c1fb454a",
   "metadata": {
    "editable": true
   },
   "source": [
    "$$\n",
    "\\sum_{P'H'}\\left\\{\\delta[C_H^{*P}]\\langle \\Phi_H^P | \\hat{H} |\\Phi_{H'}^{P'} \\rangle C_{H'}^{P'}-\n",
    "\\lambda( \\delta[C_H^{*P}]C_{H'}^{P'}]\\right\\} = 0.\n",
    "$$"
   ]
  },
  {
   "cell_type": "markdown",
   "id": "c97c78f9",
   "metadata": {
    "editable": true
   },
   "source": [
    "## Full Configuration Interaction Theory\n",
    "This leads to"
   ]
  },
  {
   "cell_type": "markdown",
   "id": "ab9e3b7b",
   "metadata": {
    "editable": true
   },
   "source": [
    "$$\n",
    "\\sum_{P'H'}\\langle \\Phi_H^P | \\hat{H} |\\Phi_{H'}^{P'} \\rangle C_{H'}^{P'}-\\lambda C_H^{P}=0,\n",
    "$$"
   ]
  },
  {
   "cell_type": "markdown",
   "id": "6f4bb9f7",
   "metadata": {
    "editable": true
   },
   "source": [
    "for all sets of $P$ and $H$.\n",
    "\n",
    "If we then multiply by the corresponding $C_H^{*P}$ and sum over $PH$ we obtain"
   ]
  },
  {
   "cell_type": "markdown",
   "id": "a378ed59",
   "metadata": {
    "editable": true
   },
   "source": [
    "$$\n",
    "\\sum_{PP'HH'}C_H^{*P}\\langle \\Phi_H^P | \\hat{H} |\\Phi_{H'}^{P'} \\rangle C_{H'}^{P'}-\\lambda\\sum_{PH}|C_H^P|^2=0,\n",
    "$$"
   ]
  },
  {
   "cell_type": "markdown",
   "id": "ddafed02",
   "metadata": {
    "editable": true
   },
   "source": [
    "leading to the identification $\\lambda = E$."
   ]
  },
  {
   "cell_type": "markdown",
   "id": "3a147562",
   "metadata": {
    "editable": true
   },
   "source": [
    "## Full Configuration Interaction Theory\n",
    "\n",
    "An alternative way to derive the last equation is to start from"
   ]
  },
  {
   "cell_type": "markdown",
   "id": "435a8193",
   "metadata": {
    "editable": true
   },
   "source": [
    "$$\n",
    "(\\hat{H} -E)|\\Psi_0\\rangle = (\\hat{H} -E)\\sum_{P'H'}C_{H'}^{P'}|\\Phi_{H'}^{P'} \\rangle=0,\n",
    "$$"
   ]
  },
  {
   "cell_type": "markdown",
   "id": "cdb2b87e",
   "metadata": {
    "editable": true
   },
   "source": [
    "and if this equation is successively projected against all $\\Phi_H^P$ in the expansion of $\\Psi$, then the last equation on the previous slide\n",
    "results.   As stated previously, one solves this equation normally by diagonalization. If we are able to solve this equation exactly (that is\n",
    "numerically exactly) in a large Hilbert space (it will be truncated in terms of the number of single-particle states included in the definition\n",
    "of Slater determinants), it can then serve as a benchmark for other many-body methods which approximate the correlation operator\n",
    "$\\hat{C}$."
   ]
  },
  {
   "cell_type": "markdown",
   "id": "3f502fbd",
   "metadata": {
    "editable": true
   },
   "source": [
    "## FCI and the exponential growth\n",
    "\n",
    "Full configuration interaction theory calculations provide in principle, if we can diagonalize numerically, all states of interest. The dimensionality of the problem explodes however quickly.\n",
    "\n",
    "The total number of Slater determinants which can be built with say $N$ neutrons distributed among $n$ single particle states is"
   ]
  },
  {
   "cell_type": "markdown",
   "id": "4aa3ba39",
   "metadata": {
    "editable": true
   },
   "source": [
    "$$\n",
    "\\left (\\begin{array}{c} n \\\\ N\\end{array} \\right) =\\frac{n!}{(n-N)!N!}.\n",
    "$$"
   ]
  },
  {
   "cell_type": "markdown",
   "id": "df7f2402",
   "metadata": {
    "editable": true
   },
   "source": [
    "For a model space which comprises the first for major shells only $0s$, $0p$, $1s0d$ and $1p0f$ we have $40$ single particle states for neutrons and protons.  For the eight neutrons of oxygen-16 we would then have"
   ]
  },
  {
   "cell_type": "markdown",
   "id": "4b79cac2",
   "metadata": {
    "editable": true
   },
   "source": [
    "$$\n",
    "\\left (\\begin{array}{c} 40 \\\\ 8\\end{array} \\right) =\\frac{40!}{(32)!8!}\\sim 10^{9},\n",
    "$$"
   ]
  },
  {
   "cell_type": "markdown",
   "id": "892468b1",
   "metadata": {
    "editable": true
   },
   "source": [
    "and multiplying this with the number of proton Slater determinants we end up with approximately with a dimensionality $d$ of $d\\sim 10^{18}$."
   ]
  },
  {
   "cell_type": "markdown",
   "id": "8d11f30a",
   "metadata": {
    "editable": true
   },
   "source": [
    "## Exponential wall\n",
    "This number can be reduced if we look at specific symmetries only. However, the dimensionality explodes quickly!\n",
    "\n",
    "* For Hamiltonian matrices of dimensionalities  which are smaller than $d\\sim 10^5$, we would use so-called direct methods for diagonalizing the Hamiltonian matrix\n",
    "\n",
    "* For larger dimensionalities iterative eigenvalue solvers like Lanczos' method are used. The most efficient codes at present can handle matrices of $d\\sim 10^{10}$."
   ]
  },
  {
   "cell_type": "markdown",
   "id": "875f44ca",
   "metadata": {
    "editable": true
   },
   "source": [
    "## A non-practical way of solving the eigenvalue problem\n",
    "\n",
    "To see this, we look at the contributions arising from"
   ]
  },
  {
   "cell_type": "markdown",
   "id": "ce69f537",
   "metadata": {
    "editable": true
   },
   "source": [
    "$$\n",
    "\\langle \\Phi_H^P | = \\langle \\Phi_0|,\n",
    "$$"
   ]
  },
  {
   "cell_type": "markdown",
   "id": "3750ab3f",
   "metadata": {
    "editable": true
   },
   "source": [
    "that is we multiply with $\\langle \\Phi_0 |$\n",
    "from the left in"
   ]
  },
  {
   "cell_type": "markdown",
   "id": "62947c69",
   "metadata": {
    "editable": true
   },
   "source": [
    "$$\n",
    "(\\hat{H} -E)\\sum_{P'H'}C_{H'}^{P'}|\\Phi_{H'}^{P'} \\rangle=0.\n",
    "$$"
   ]
  },
  {
   "cell_type": "markdown",
   "id": "ad81d264",
   "metadata": {
    "editable": true
   },
   "source": [
    "## Using the Condon-Slater rule\n",
    "If we assume that we have a two-body operator at most, using the Condon-Slater rule gives then an equation for the \n",
    "correlation energy in terms of $C_i^a$ and $C_{ij}^{ab}$ only.  We get then"
   ]
  },
  {
   "cell_type": "markdown",
   "id": "ee919862",
   "metadata": {
    "editable": true
   },
   "source": [
    "$$\n",
    "\\langle \\Phi_0 | \\hat{H} -E| \\Phi_0\\rangle + \\sum_{ai}\\langle \\Phi_0 | \\hat{H} -E|\\Phi_{i}^{a} \\rangle C_{i}^{a}+\n",
    "\\sum_{abij}\\langle \\Phi_0 | \\hat{H} -E|\\Phi_{ij}^{ab} \\rangle C_{ij}^{ab}=0,\n",
    "$$"
   ]
  },
  {
   "cell_type": "markdown",
   "id": "73b9d4e2",
   "metadata": {
    "editable": true
   },
   "source": [
    "or"
   ]
  },
  {
   "cell_type": "markdown",
   "id": "0d77d82e",
   "metadata": {
    "editable": true
   },
   "source": [
    "$$\n",
    "E-E_0 =\\Delta E=\\sum_{ai}\\langle \\Phi_0 | \\hat{H}|\\Phi_{i}^{a} \\rangle C_{i}^{a}+\n",
    "\\sum_{abij}\\langle \\Phi_0 | \\hat{H}|\\Phi_{ij}^{ab} \\rangle C_{ij}^{ab},\n",
    "$$"
   ]
  },
  {
   "cell_type": "markdown",
   "id": "0d51a676",
   "metadata": {
    "editable": true
   },
   "source": [
    "where the energy $E_0$ is the reference energy and $\\Delta E$ defines the so-called correlation energy.\n",
    "The single-particle basis functions  could be the results of a Hartree-Fock calculation or just the eigenstates of the non-interacting part of the Hamiltonian."
   ]
  },
  {
   "cell_type": "markdown",
   "id": "c75b37f0",
   "metadata": {
    "editable": true
   },
   "source": [
    "## A non-practical way of solving the eigenvalue problem\n",
    "\n",
    "To see this, we look at the contributions arising from"
   ]
  },
  {
   "cell_type": "markdown",
   "id": "743f03cb",
   "metadata": {
    "editable": true
   },
   "source": [
    "$$\n",
    "\\langle \\Phi_H^P | = \\langle \\Phi_0|,\n",
    "$$"
   ]
  },
  {
   "cell_type": "markdown",
   "id": "6e67be24",
   "metadata": {
    "editable": true
   },
   "source": [
    "that is we multiply with $\\langle \\Phi_0 |$\n",
    "from the left in"
   ]
  },
  {
   "cell_type": "markdown",
   "id": "58172d32",
   "metadata": {
    "editable": true
   },
   "source": [
    "$$\n",
    "(\\hat{H} -E)\\sum_{P'H'}C_{H'}^{P'}|\\Phi_{H'}^{P'} \\rangle=0.\n",
    "$$"
   ]
  },
  {
   "cell_type": "markdown",
   "id": "2bd1fe67",
   "metadata": {
    "editable": true
   },
   "source": [
    "## A non-practical way of solving the eigenvalue problem\n",
    "\n",
    "If we assume that we have a two-body operator at most, Slater's rule gives then an equation for the \n",
    "correlation energy in terms of $C_i^a$ and $C_{ij}^{ab}$ only.  We get then"
   ]
  },
  {
   "cell_type": "markdown",
   "id": "766f1734",
   "metadata": {
    "editable": true
   },
   "source": [
    "$$\n",
    "\\langle \\Phi_0 | \\hat{H} -E| \\Phi_0\\rangle + \\sum_{ai}\\langle \\Phi_0 | \\hat{H} -E|\\Phi_{i}^{a} \\rangle C_{i}^{a}+\n",
    "\\sum_{abij}\\langle \\Phi_0 | \\hat{H} -E|\\Phi_{ij}^{ab} \\rangle C_{ij}^{ab}=0.\n",
    "$$"
   ]
  },
  {
   "cell_type": "markdown",
   "id": "87011027",
   "metadata": {
    "editable": true
   },
   "source": [
    "## Slight rewrite\n",
    "\n",
    "Which we can rewrite"
   ]
  },
  {
   "cell_type": "markdown",
   "id": "8b2085f2",
   "metadata": {
    "editable": true
   },
   "source": [
    "$$\n",
    "E-E_0 =\\Delta E=\\sum_{ai}\\langle \\Phi_0 | \\hat{H}|\\Phi_{i}^{a} \\rangle C_{i}^{a}+\n",
    "\\sum_{abij}\\langle \\Phi_0 | \\hat{H}|\\Phi_{ij}^{ab} \\rangle C_{ij}^{ab},\n",
    "$$"
   ]
  },
  {
   "cell_type": "markdown",
   "id": "6d00ae99",
   "metadata": {
    "editable": true
   },
   "source": [
    "where the energy $E_0$ is the reference energy and $\\Delta E$ defines the so-called correlation energy.\n",
    "The single-particle basis functions  could be the results of a Hartree-Fock calculation or just the eigenstates of the non-interacting part of the Hamiltonian."
   ]
  },
  {
   "cell_type": "markdown",
   "id": "1ec5ae29",
   "metadata": {
    "editable": true
   },
   "source": [
    "## Rewriting the FCI equation\n",
    "In our discussions  of the  Hartree-Fock method planned for week 39, \n",
    "we are going to compute the elements $\\langle \\Phi_0 | \\hat{H}|\\Phi_{i}^{a}\\rangle $ and $\\langle \\Phi_0 | \\hat{H}|\\Phi_{ij}^{ab}\\rangle$.  If we are using a Hartree-Fock basis, then these quantities result in\n",
    "$\\langle \\Phi_0 | \\hat{H}|\\Phi_{i}^{a}\\rangle=0$ and we are left with a *correlation energy* given by"
   ]
  },
  {
   "cell_type": "markdown",
   "id": "a6277055",
   "metadata": {
    "editable": true
   },
   "source": [
    "$$\n",
    "E-E_0 =\\Delta E^{HF}=\\sum_{abij}\\langle \\Phi_0 | \\hat{H}|\\Phi_{ij}^{ab} \\rangle C_{ij}^{ab}.\n",
    "$$"
   ]
  },
  {
   "cell_type": "markdown",
   "id": "aca2e847",
   "metadata": {
    "editable": true
   },
   "source": [
    "## Rewriting the FCI equation\n",
    "Inserting the various matrix elements we can rewrite the previous equation as"
   ]
  },
  {
   "cell_type": "markdown",
   "id": "af809eae",
   "metadata": {
    "editable": true
   },
   "source": [
    "$$\n",
    "\\Delta E=\\sum_{ai}\\langle i| \\hat{f}|a \\rangle C_{i}^{a}+\n",
    "\\sum_{abij}\\langle ij | \\hat{v}| ab \\rangle C_{ij}^{ab}.\n",
    "$$"
   ]
  },
  {
   "cell_type": "markdown",
   "id": "1f192729",
   "metadata": {
    "editable": true
   },
   "source": [
    "This equation determines the correlation energy but not the coefficients $C$."
   ]
  },
  {
   "cell_type": "markdown",
   "id": "e0e2c46e",
   "metadata": {
    "editable": true
   },
   "source": [
    "## Rewriting the FCI equation, does not stop here\n",
    "\n",
    "We need more equations. Our next step is to set up"
   ]
  },
  {
   "cell_type": "markdown",
   "id": "150b9853",
   "metadata": {
    "editable": true
   },
   "source": [
    "$$\n",
    "\\langle \\Phi_i^a | \\hat{H} -E| \\Phi_0\\rangle + \\sum_{bj}\\langle \\Phi_i^a | \\hat{H} -E|\\Phi_{j}^{b} \\rangle C_{j}^{b}+\n",
    "\\sum_{bcjk}\\langle \\Phi_i^a | \\hat{H} -E|\\Phi_{jk}^{bc} \\rangle C_{jk}^{bc}+\n",
    "\\sum_{bcdjkl}\\langle \\Phi_i^a | \\hat{H} -E|\\Phi_{jkl}^{bcd} \\rangle C_{jkl}^{bcd}=0.\n",
    "$$"
   ]
  },
  {
   "cell_type": "markdown",
   "id": "6e7164a1",
   "metadata": {
    "editable": true
   },
   "source": [
    "## Finding the coefficients\n",
    "This equation will allow us to find an expression for the coefficents $C_i^a$ since we can rewrite this equation as"
   ]
  },
  {
   "cell_type": "markdown",
   "id": "a2965866",
   "metadata": {
    "editable": true
   },
   "source": [
    "$$\n",
    "\\langle i | \\hat{f}| a\\rangle +\\langle \\Phi_i^a | \\hat{H}|\\Phi_{i}^{a} \\rangle C_{i}^{a}+ \\sum_{bj\\ne ai}\\langle \\Phi_i^a | \\hat{H}|\\Phi_{j}^{b} \\rangle C_{j}^{b}+\n",
    "\\sum_{bcjk}\\langle \\Phi_i^a | \\hat{H}|\\Phi_{jk}^{bc} \\rangle C_{jk}^{bc}+\n",
    "\\sum_{bcdjkl}\\langle \\Phi_i^a | \\hat{H}|\\Phi_{jkl}^{bcd} \\rangle C_{jkl}^{bcd}=EC_i^a.\n",
    "$$"
   ]
  },
  {
   "cell_type": "markdown",
   "id": "2de1de3c",
   "metadata": {
    "editable": true
   },
   "source": [
    "## Rewriting the FCI equation\n",
    "We see that on the right-hand side we have the energy $E$. This leads to a non-linear equation in the unknown coefficients. \n",
    "These equations are normally solved iteratively ( that is we can start with a guess for the coefficients $C_i^a$). A common choice is to use perturbation theory for the first guess, setting thereby"
   ]
  },
  {
   "cell_type": "markdown",
   "id": "2d69f428",
   "metadata": {
    "editable": true
   },
   "source": [
    "$$\n",
    "C_{i}^{a}=\\frac{\\langle i | \\hat{f}| a\\rangle}{\\epsilon_i-\\epsilon_a}.\n",
    "$$"
   ]
  },
  {
   "cell_type": "markdown",
   "id": "439c2a2f",
   "metadata": {
    "editable": true
   },
   "source": [
    "## Rewriting the FCI equation, more to add\n",
    "The observant reader will however see that we need an equation for $C_{jk}^{bc}$ and $C_{jkl}^{bcd}$ as well.\n",
    "To find equations for these coefficients we need then to continue our multiplications from the left with the various\n",
    "$\\Phi_{H}^P$ terms. \n",
    "\n",
    "For $C_{jk}^{bc}$ we need then"
   ]
  },
  {
   "cell_type": "markdown",
   "id": "5127d0dd",
   "metadata": {
    "editable": true
   },
   "source": [
    "$$\n",
    "\\langle \\Phi_{ij}^{ab} | \\hat{H} -E| \\Phi_0\\rangle + \\sum_{kc}\\langle \\Phi_{ij}^{ab} | \\hat{H} -E|\\Phi_{k}^{c} \\rangle C_{k}^{c}+\n",
    "$$"
   ]
  },
  {
   "cell_type": "markdown",
   "id": "66c1dfd9",
   "metadata": {
    "editable": true
   },
   "source": [
    "$$\n",
    "\\sum_{cdkl}\\langle \\Phi_{ij}^{ab} | \\hat{H} -E|\\Phi_{kl}^{cd} \\rangle C_{kl}^{cd}+\\sum_{cdeklm}\\langle \\Phi_{ij}^{ab} | \\hat{H} -E|\\Phi_{klm}^{cde} \\rangle C_{klm}^{cde}+\\sum_{cdefklmn}\\langle \\Phi_{ij}^{ab} | \\hat{H} -E|\\Phi_{klmn}^{cdef} \\rangle C_{klmn}^{cdef}=0,\n",
    "$$"
   ]
  },
  {
   "cell_type": "markdown",
   "id": "50942e02",
   "metadata": {
    "editable": true
   },
   "source": [
    "and we can isolate the coefficients $C_{kl}^{cd}$ in a similar way as we did for the coefficients $C_{i}^{a}$."
   ]
  },
  {
   "cell_type": "markdown",
   "id": "726eaa4c",
   "metadata": {
    "editable": true
   },
   "source": [
    "## Rewriting the FCI equation, more to add\n",
    "A standard choice for the first iteration is to set"
   ]
  },
  {
   "cell_type": "markdown",
   "id": "4ba714db",
   "metadata": {
    "editable": true
   },
   "source": [
    "$$\n",
    "C_{ij}^{ab} =\\frac{\\langle ij \\vert \\hat{v} \\vert ab \\rangle}{\\epsilon_i+\\epsilon_j-\\epsilon_a-\\epsilon_b}.\n",
    "$$"
   ]
  },
  {
   "cell_type": "markdown",
   "id": "29a214b9",
   "metadata": {
    "editable": true
   },
   "source": [
    "At the end we can rewrite our solution of the Schroedinger equation in terms of $n$ coupled equations for the coefficients $C_H^P$.\n",
    "This is a very cumbersome way of solving the equation. However, by using this iterative scheme we can illustrate how we can compute the\n",
    "various terms in the wave operator or correlation operator $\\hat{C}$. We will later identify the calculation of the various terms $C_H^P$\n",
    "as parts of different many-body approximations to full CI. In particular, we can  relate this non-linear scheme with Coupled Cluster theory and\n",
    "many-body perturbation theory."
   ]
  },
  {
   "cell_type": "markdown",
   "id": "5984d4d5",
   "metadata": {
    "editable": true
   },
   "source": [
    "## Summarizing FCI and bringing in approximative methods\n",
    "\n",
    "If we can diagonalize large matrices, FCI is the method of choice since:\n",
    "* It gives all eigenvalues, ground state and excited states\n",
    "\n",
    "* The eigenvectors are obtained directly from the coefficients $C_H^P$ which result from the diagonalization\n",
    "\n",
    "* We can compute easily expectation values of other operators, as well as transition probabilities\n",
    "\n",
    "* Correlations are easy to understand in terms of contributions to a given operator beyond the Hartree-Fock contribution."
   ]
  },
  {
   "cell_type": "markdown",
   "id": "b4c3d69a",
   "metadata": {
    "editable": true
   },
   "source": [
    "## Definition of the correlation energy\n",
    "\n",
    "The correlation energy is defined as, with a two-body Hamiltonian,"
   ]
  },
  {
   "cell_type": "markdown",
   "id": "6d63cfd1",
   "metadata": {
    "editable": true
   },
   "source": [
    "$$\n",
    "\\Delta E=\\sum_{ai}\\langle i| \\hat{f}|a \\rangle C_{i}^{a}+\n",
    "\\sum_{abij}\\langle ij | \\hat{v}| ab \\rangle C_{ij}^{ab}.\n",
    "$$"
   ]
  },
  {
   "cell_type": "markdown",
   "id": "31382d5e",
   "metadata": {
    "editable": true
   },
   "source": [
    "The coefficients $C$ result from the solution of the eigenvalue problem."
   ]
  },
  {
   "cell_type": "markdown",
   "id": "5a36028a",
   "metadata": {
    "editable": true
   },
   "source": [
    "## Ground state energy\n",
    "The energy of say the ground state is then"
   ]
  },
  {
   "cell_type": "markdown",
   "id": "66a8c57c",
   "metadata": {
    "editable": true
   },
   "source": [
    "$$\n",
    "E=E_{ref}+\\Delta E,\n",
    "$$"
   ]
  },
  {
   "cell_type": "markdown",
   "id": "49f9fdee",
   "metadata": {
    "editable": true
   },
   "source": [
    "where the so-called reference energy is the energy we obtain from a Hartree-Fock calculation, that is"
   ]
  },
  {
   "cell_type": "markdown",
   "id": "22c3f611",
   "metadata": {
    "editable": true
   },
   "source": [
    "$$\n",
    "E_{ref}=\\langle \\Phi_0 \\vert \\hat{H} \\vert \\Phi_0 \\rangle.\n",
    "$$"
   ]
  },
  {
   "cell_type": "markdown",
   "id": "e28611e9",
   "metadata": {
    "editable": true
   },
   "source": [
    "## Why Hartree-Fock? Derivation of Hartree-Fock equations in coordinate space\n",
    "\n",
    "Hartree-Fock (HF) theory is an algorithm for finding an approximative expression for the ground state of a given Hamiltonian. The basic ingredients are\n",
    "  * Define a single-particle basis $\\{\\psi_{\\alpha}\\}$ so that"
   ]
  },
  {
   "cell_type": "markdown",
   "id": "7162e56f",
   "metadata": {
    "editable": true
   },
   "source": [
    "$$\n",
    "\\hat{h}^{\\mathrm{HF}}\\psi_{\\alpha} = \\varepsilon_{\\alpha}\\psi_{\\alpha}\n",
    "$$"
   ]
  },
  {
   "cell_type": "markdown",
   "id": "2728607d",
   "metadata": {
    "editable": true
   },
   "source": [
    "with the Hartree-Fock Hamiltonian defined as"
   ]
  },
  {
   "cell_type": "markdown",
   "id": "0d2d62f0",
   "metadata": {
    "editable": true
   },
   "source": [
    "$$\n",
    "\\hat{h}^{\\mathrm{HF}}=\\hat{t}+\\hat{u}_{\\mathrm{ext}}+\\hat{u}^{\\mathrm{HF}}\n",
    "$$"
   ]
  },
  {
   "cell_type": "markdown",
   "id": "88152b3f",
   "metadata": {
    "editable": true
   },
   "source": [
    "* The term  $\\hat{u}^{\\mathrm{HF}}$ is a single-particle potential to be determined by the HF algorithm.\n",
    "\n",
    "  * The HF algorithm means to choose $\\hat{u}^{\\mathrm{HF}}$ in order to have"
   ]
  },
  {
   "cell_type": "markdown",
   "id": "aa783b4e",
   "metadata": {
    "editable": true
   },
   "source": [
    "$$\n",
    "\\langle \\hat{H} \\rangle = E^{\\mathrm{HF}}= \\langle \\Phi_0 | \\hat{H}|\\Phi_0 \\rangle\n",
    "$$"
   ]
  },
  {
   "cell_type": "markdown",
   "id": "9c84f338",
   "metadata": {
    "editable": true
   },
   "source": [
    "that is to find a local minimum with a Slater determinant $\\Phi_0$ being the ansatz for the ground state. \n",
    "  * The variational principle ensures that $E^{\\mathrm{HF}} \\ge E_0$, with $E_0$ the exact ground state energy."
   ]
  },
  {
   "cell_type": "markdown",
   "id": "755ecc69",
   "metadata": {
    "editable": true
   },
   "source": [
    "## Why Hartree-Fock theory\n",
    "\n",
    "We will show that the Hartree-Fock Hamiltonian $\\hat{h}^{\\mathrm{HF}}$ equals our definition of the operator $\\hat{f}$ discussed in connection with the new definition of the normal-ordered Hamiltonian (see later lectures), that is we have, for a specific matrix element"
   ]
  },
  {
   "cell_type": "markdown",
   "id": "fb7af6b5",
   "metadata": {
    "editable": true
   },
   "source": [
    "$$\n",
    "\\langle p |\\hat{h}^{\\mathrm{HF}}| q \\rangle =\\langle p |\\hat{f}| q \\rangle=\\langle p|\\hat{t}+\\hat{u}_{\\mathrm{ext}}|q \\rangle +\\sum_{i\\le F} \\langle pi | \\hat{V} | qi\\rangle_{AS},\n",
    "$$"
   ]
  },
  {
   "cell_type": "markdown",
   "id": "d0363a86",
   "metadata": {
    "editable": true
   },
   "source": [
    "meaning that"
   ]
  },
  {
   "cell_type": "markdown",
   "id": "8d9bd38b",
   "metadata": {
    "editable": true
   },
   "source": [
    "$$\n",
    "\\langle p|\\hat{u}^{\\mathrm{HF}}|q\\rangle = \\sum_{i\\le F} \\langle pi | \\hat{V} | qi\\rangle_{AS}.\n",
    "$$"
   ]
  },
  {
   "cell_type": "markdown",
   "id": "21381be7",
   "metadata": {
    "editable": true
   },
   "source": [
    "## Why Hartree-Fock theory\n",
    "\n",
    "The so-called Hartree-Fock potential $\\hat{u}^{\\mathrm{HF}}$ brings an\n",
    "explicit medium dependence due to the summation over all\n",
    "single-particle states below the Fermi level $F$. It brings also in an\n",
    "explicit dependence on the two-body interaction (in nuclear physics we\n",
    "can also have complicated three- or higher-body forces). The two-body\n",
    "interaction, with its contribution from the other bystanding fermions,\n",
    "creates an effective mean field in which a given fermion moves, in\n",
    "addition to the external potential $\\hat{u}_{\\mathrm{ext}}$ which\n",
    "confines the motion of the fermion. For systems like nuclei, there is\n",
    "no external confining potential. Nuclei are examples of self-bound\n",
    "systems, where the binding arises due to the intrinsic nature of the\n",
    "strong force. For nuclear systems thus, there would be no external\n",
    "one-body potential in the Hartree-Fock Hamiltonian."
   ]
  },
  {
   "cell_type": "markdown",
   "id": "03e19563",
   "metadata": {
    "editable": true
   },
   "source": [
    "## Variational Calculus and Lagrangian Multipliers\n",
    "\n",
    "The calculus of variations involves \n",
    "problems where the quantity to be minimized or maximized is an integral. \n",
    "\n",
    "In the general case we have an integral of the type"
   ]
  },
  {
   "cell_type": "markdown",
   "id": "102a8bca",
   "metadata": {
    "editable": true
   },
   "source": [
    "$$\n",
    "E[\\Phi]= \\int_a^b f(\\Phi(x),\\frac{\\partial \\Phi}{\\partial x},x)dx,\n",
    "$$"
   ]
  },
  {
   "cell_type": "markdown",
   "id": "3e1d96e6",
   "metadata": {
    "editable": true
   },
   "source": [
    "where $E$ is the quantity which is sought minimized or maximized."
   ]
  },
  {
   "cell_type": "markdown",
   "id": "3185c224",
   "metadata": {
    "editable": true
   },
   "source": [
    "## Variational Calculus and Lagrangian Multipliers\n",
    "\n",
    "The problem is that although $f$ is a function of the variables\n",
    "$\\Phi$, $\\partial \\Phi/\\partial x$ and $x$, the exact dependence of\n",
    "$\\Phi$ on $x$ is not known.  This means again that even though the\n",
    "integral has fixed limits $a$ and $b$, the path of integration is not\n",
    "known. In our case the unknown quantities are the single-particle wave\n",
    "functions and we wish to choose an integration path which makes the\n",
    "functional $E[\\Phi]$ stationary. This means that we want to find\n",
    "minima, or maxima or saddle points. In physics we search normally for\n",
    "minima.  Our task is therefore to find the minimum of $E[\\Phi]$ so\n",
    "that its variation $\\delta E$ is zero subject to specific\n",
    "constraints. In our case the constraints appear as the integral which\n",
    "expresses the orthogonality of the single-particle wave functions.\n",
    "The constraints can be treated via the technique of Lagrangian\n",
    "multipliers"
   ]
  },
  {
   "cell_type": "markdown",
   "id": "d83f496a",
   "metadata": {
    "editable": true
   },
   "source": [
    "## Variational Calculus and Lagrangian Multipliers\n",
    "\n",
    "Let us specialize to the expectation value of the energy for one particle in three-dimensions.\n",
    "This expectation value reads"
   ]
  },
  {
   "cell_type": "markdown",
   "id": "7079e433",
   "metadata": {
    "editable": true
   },
   "source": [
    "$$\n",
    "E=\\int dxdydz \\psi^*(x,y,z) \\hat{H} \\psi(x,y,z),\n",
    "$$"
   ]
  },
  {
   "cell_type": "markdown",
   "id": "4ffa1295",
   "metadata": {
    "editable": true
   },
   "source": [
    "with the constraint"
   ]
  },
  {
   "cell_type": "markdown",
   "id": "692d196e",
   "metadata": {
    "editable": true
   },
   "source": [
    "$$\n",
    "\\int dxdydz \\psi^*(x,y,z) \\psi(x,y,z)=1,\n",
    "$$"
   ]
  },
  {
   "cell_type": "markdown",
   "id": "9006e22d",
   "metadata": {
    "editable": true
   },
   "source": [
    "and a Hamiltonian"
   ]
  },
  {
   "cell_type": "markdown",
   "id": "42516765",
   "metadata": {
    "editable": true
   },
   "source": [
    "$$\n",
    "\\hat{H}=-\\frac{1}{2}\\nabla^2+V(x,y,z).\n",
    "$$"
   ]
  },
  {
   "cell_type": "markdown",
   "id": "000e5aea",
   "metadata": {
    "editable": true
   },
   "source": [
    "## Variational Calculus and Lagrangian Multipliers\n",
    "\n",
    "We will, for the sake of notational convenience,  skip the variables $x,y,z$ below, and write for example $V(x,y,z)=V$.\n",
    "\n",
    "The integral involving the kinetic energy can be written as, with the function $\\psi$ vanishing\n",
    "strongly for large values of $x,y,z$ (given here by the limits $a$ and $b$),"
   ]
  },
  {
   "cell_type": "markdown",
   "id": "c5af3136",
   "metadata": {
    "editable": true
   },
   "source": [
    "$$\n",
    "\\int_a^b dxdydz \\psi^* \\left(-\\frac{1}{2}\\nabla^2\\right) \\psi dxdydz = \\psi^*\\nabla\\psi|_a^b+\\int_a^b dxdydz\\frac{1}{2}\\nabla\\psi^*\\nabla\\psi.\n",
    "$$"
   ]
  },
  {
   "cell_type": "markdown",
   "id": "a09909f4",
   "metadata": {
    "editable": true
   },
   "source": [
    "We will drop the limits $a$ and $b$ in the remaining discussion. \n",
    "Inserting this expression into the expectation value for the energy and taking the variational minimum  we obtain"
   ]
  },
  {
   "cell_type": "markdown",
   "id": "e8a28939",
   "metadata": {
    "editable": true
   },
   "source": [
    "$$\n",
    "\\delta E = \\delta \\left\\{\\int dxdydz\\left( \\frac{1}{2}\\nabla\\psi^*\\nabla\\psi+V\\psi^*\\psi\\right)\\right\\} = 0.\n",
    "$$"
   ]
  },
  {
   "cell_type": "markdown",
   "id": "a34610ee",
   "metadata": {
    "editable": true
   },
   "source": [
    "## Variational Calculus and Lagrangian Multipliers\n",
    "\n",
    "The constraint appears in integral form as"
   ]
  },
  {
   "cell_type": "markdown",
   "id": "f48dea44",
   "metadata": {
    "editable": true
   },
   "source": [
    "$$\n",
    "\\int dxdydz \\psi^* \\psi=\\mathrm{constant},\n",
    "$$"
   ]
  },
  {
   "cell_type": "markdown",
   "id": "e8e2335c",
   "metadata": {
    "editable": true
   },
   "source": [
    "and multiplying with a Lagrangian multiplier $\\lambda$ and taking the variational minimum we obtain the final variational equation"
   ]
  },
  {
   "cell_type": "markdown",
   "id": "90bb25d8",
   "metadata": {
    "editable": true
   },
   "source": [
    "$$\n",
    "\\delta \\left\\{\\int dxdydz\\left( \\frac{1}{2}\\nabla\\psi^*\\nabla\\psi+V\\psi^*\\psi-\\lambda\\psi^*\\psi\\right)\\right\\} = 0.\n",
    "$$"
   ]
  },
  {
   "cell_type": "markdown",
   "id": "d60eac83",
   "metadata": {
    "editable": true
   },
   "source": [
    "## Variational Calculus and Lagrangian Multipliers\n",
    "\n",
    "We introduce the function  $f$"
   ]
  },
  {
   "cell_type": "markdown",
   "id": "69e5ed62",
   "metadata": {
    "editable": true
   },
   "source": [
    "$$\n",
    "f =  \\frac{1}{2}\\nabla\\psi^*\\nabla\\psi+V\\psi^*\\psi-\\lambda\\psi^*\\psi=\n",
    "\\frac{1}{2}(\\psi^*_x\\psi_x+\\psi^*_y\\psi_y+\\psi^*_z\\psi_z)+V\\psi^*\\psi-\\lambda\\psi^*\\psi,\n",
    "$$"
   ]
  },
  {
   "cell_type": "markdown",
   "id": "f11c6fda",
   "metadata": {
    "editable": true
   },
   "source": [
    "where we have skipped the dependence on $x,y,z$ and introduced the shorthand $\\psi_x$, $\\psi_y$ and $\\psi_z$  for the various derivatives.\n",
    "\n",
    "For $\\psi^*$ the Euler-Lagrange  equations yield"
   ]
  },
  {
   "cell_type": "markdown",
   "id": "c160ab1c",
   "metadata": {
    "editable": true
   },
   "source": [
    "$$\n",
    "\\frac{\\partial f}{\\partial \\psi^*}- \\frac{\\partial }{\\partial x}\\frac{\\partial f}{\\partial \\psi^*_x}-\\frac{\\partial }{\\partial y}\\frac{\\partial f}{\\partial \\psi^*_y}-\\frac{\\partial }{\\partial z}\\frac{\\partial f}{\\partial \\psi^*_z}=0,\n",
    "$$"
   ]
  },
  {
   "cell_type": "markdown",
   "id": "70b65e48",
   "metadata": {
    "editable": true
   },
   "source": [
    "which results in"
   ]
  },
  {
   "cell_type": "markdown",
   "id": "f5882862",
   "metadata": {
    "editable": true
   },
   "source": [
    "$$\n",
    "-\\frac{1}{2}(\\psi_{xx}+\\psi_{yy}+\\psi_{zz})+V\\psi=\\lambda \\psi.\n",
    "$$"
   ]
  },
  {
   "cell_type": "markdown",
   "id": "ea0e194a",
   "metadata": {
    "editable": true
   },
   "source": [
    "## Variational Calculus and Lagrangian Multipliers\n",
    "\n",
    "We can then identify the  Lagrangian multiplier as the energy of the system. The last equation is \n",
    "nothing but the standard \n",
    "Schroedinger equation and the variational  approach discussed here provides \n",
    "a powerful method for obtaining approximate solutions of the wave function."
   ]
  },
  {
   "cell_type": "markdown",
   "id": "51fc776c",
   "metadata": {
    "editable": true
   },
   "source": [
    "## Derivation of Hartree-Fock equations in coordinate space\n",
    "\n",
    "Let us denote the ground state energy by $E_0$. According to the\n",
    "variational principle we have"
   ]
  },
  {
   "cell_type": "markdown",
   "id": "21493727",
   "metadata": {
    "editable": true
   },
   "source": [
    "$$\n",
    "E_0 \\le E[\\Phi] = \\int \\Phi^*\\hat{H}\\Phi d\\mathbf{\\tau}\n",
    "$$"
   ]
  },
  {
   "cell_type": "markdown",
   "id": "f6c2c449",
   "metadata": {
    "editable": true
   },
   "source": [
    "where $\\Phi$ is a trial function which we assume to be normalized"
   ]
  },
  {
   "cell_type": "markdown",
   "id": "15112dce",
   "metadata": {
    "editable": true
   },
   "source": [
    "$$\n",
    "\\int \\Phi^*\\Phi d\\mathbf{\\tau} = 1,\n",
    "$$"
   ]
  },
  {
   "cell_type": "markdown",
   "id": "3529150a",
   "metadata": {
    "editable": true
   },
   "source": [
    "where we have used the shorthand $d\\mathbf{\\tau}=dx_1dx_2\\dots dx_N$."
   ]
  },
  {
   "cell_type": "markdown",
   "id": "70a05e0e",
   "metadata": {
    "editable": true
   },
   "source": [
    "## Derivation of Hartree-Fock equations in coordinate space\n",
    "\n",
    "In the Hartree-Fock method the trial function is a Slater\n",
    "determinant which can be rewritten as"
   ]
  },
  {
   "cell_type": "markdown",
   "id": "66806bc5",
   "metadata": {
    "editable": true
   },
   "source": [
    "$$\n",
    "\\Psi(x_1,x_2,\\dots,x_N,\\alpha,\\beta,\\dots,\\nu) = \\frac{1}{\\sqrt{N!}}\\sum_{P} (-)^PP\\psi_{\\alpha}(x_1)\n",
    "    \\psi_{\\beta}(x_2)\\dots\\psi_{\\nu}(x_N)=\\sqrt{N!}\\hat{A}\\Phi_H,\n",
    "$$"
   ]
  },
  {
   "cell_type": "markdown",
   "id": "1227da7c",
   "metadata": {
    "editable": true
   },
   "source": [
    "where we have introduced the anti-symmetrization operator $\\hat{A}$ defined by the \n",
    "summation over all possible permutations *p* of two fermions."
   ]
  },
  {
   "cell_type": "markdown",
   "id": "b0f9d0aa",
   "metadata": {
    "editable": true
   },
   "source": [
    "## Derivation of Hartree-Fock equations in coordinate space\n",
    "\n",
    "It is defined as"
   ]
  },
  {
   "cell_type": "markdown",
   "id": "73748cf0",
   "metadata": {
    "editable": true
   },
   "source": [
    "$$\n",
    "\\hat{A} = \\frac{1}{N!}\\sum_{p} (-)^p\\hat{P},\n",
    "$$"
   ]
  },
  {
   "cell_type": "markdown",
   "id": "f65c1b55",
   "metadata": {
    "editable": true
   },
   "source": [
    "with the the Hartree-function given by the simple product of all possible single-particle function"
   ]
  },
  {
   "cell_type": "markdown",
   "id": "6c050ed0",
   "metadata": {
    "editable": true
   },
   "source": [
    "$$\n",
    "\\Phi_H(x_1,x_2,\\dots,x_N,\\alpha,\\beta,\\dots,\\nu) =\n",
    "  \\psi_{\\alpha}(x_1)\n",
    "    \\psi_{\\beta}(x_2)\\dots\\psi_{\\nu}(x_N).\n",
    "$$"
   ]
  },
  {
   "cell_type": "markdown",
   "id": "bced6f33",
   "metadata": {
    "editable": true
   },
   "source": [
    "## Derivation of Hartree-Fock equations in coordinate space\n",
    "\n",
    "Our functional is written as"
   ]
  },
  {
   "cell_type": "markdown",
   "id": "fbe4e55c",
   "metadata": {
    "editable": true
   },
   "source": [
    "$$\n",
    "E[\\Phi] = \\sum_{\\mu=1}^N \\int \\psi_{\\mu}^*(x_i)\\hat{h}_0(x_i)\\psi_{\\mu}(x_i) dx_i \n",
    "  + \\frac{1}{2}\\sum_{\\mu=1}^N\\sum_{\\nu=1}^N\n",
    "   \\left[ \\int \\psi_{\\mu}^*(x_i)\\psi_{\\nu}^*(x_j)\\hat{v}(r_{ij})\\psi_{\\mu}(x_i)\\psi_{\\nu}(x_j)dx_idx_j- \\int \\psi_{\\mu}^*(x_i)\\psi_{\\nu}^*(x_j)\n",
    " \\hat{v}(r_{ij})\\psi_{\\nu}(x_i)\\psi_{\\mu}(x_j)dx_idx_j\\right]\n",
    "$$"
   ]
  },
  {
   "cell_type": "markdown",
   "id": "8f4d87c8",
   "metadata": {
    "editable": true
   },
   "source": [
    "The more compact version reads"
   ]
  },
  {
   "cell_type": "markdown",
   "id": "41d76dee",
   "metadata": {
    "editable": true
   },
   "source": [
    "$$\n",
    "E[\\Phi] \n",
    "  = \\sum_{\\mu}^N \\langle \\mu | \\hat{h}_0 | \\mu\\rangle+ \\frac{1}{2}\\sum_{\\mu\\nu}^N\\left[\\langle \\mu\\nu |\\hat{v}|\\mu\\nu\\rangle-\\langle \\nu\\mu |\\hat{v}|\\mu\\nu\\rangle\\right].\n",
    "$$"
   ]
  },
  {
   "cell_type": "markdown",
   "id": "17364469",
   "metadata": {
    "editable": true
   },
   "source": [
    "## Derivation of Hartree-Fock equations in coordinate space\n",
    "\n",
    "Since the interaction is invariant under the interchange of two particles it means for example that we have"
   ]
  },
  {
   "cell_type": "markdown",
   "id": "7296d6e7",
   "metadata": {
    "editable": true
   },
   "source": [
    "$$\n",
    "\\langle \\mu\\nu|\\hat{v}|\\mu\\nu\\rangle =  \\langle \\nu\\mu|\\hat{v}|\\nu\\mu\\rangle,\n",
    "$$"
   ]
  },
  {
   "cell_type": "markdown",
   "id": "a703aabd",
   "metadata": {
    "editable": true
   },
   "source": [
    "or in the more general case"
   ]
  },
  {
   "cell_type": "markdown",
   "id": "7d71c62e",
   "metadata": {
    "editable": true
   },
   "source": [
    "$$\n",
    "\\langle \\mu\\nu|\\hat{v}|\\sigma\\tau\\rangle =  \\langle \\nu\\mu|\\hat{v}|\\tau\\sigma\\rangle.\n",
    "$$"
   ]
  },
  {
   "cell_type": "markdown",
   "id": "7dd973c5",
   "metadata": {
    "editable": true
   },
   "source": [
    "## Derivation of Hartree-Fock equations in coordinate space\n",
    "\n",
    "The direct and exchange matrix elements can be  brought together if we define the antisymmetrized matrix element"
   ]
  },
  {
   "cell_type": "markdown",
   "id": "91c8a431",
   "metadata": {
    "editable": true
   },
   "source": [
    "$$\n",
    "\\langle \\mu\\nu|\\hat{v}|\\mu\\nu\\rangle_{AS}= \\langle \\mu\\nu|\\hat{v}|\\mu\\nu\\rangle-\\langle \\mu\\nu|\\hat{v}|\\nu\\mu\\rangle,\n",
    "$$"
   ]
  },
  {
   "cell_type": "markdown",
   "id": "b65e9648",
   "metadata": {
    "editable": true
   },
   "source": [
    "or for a general matrix element"
   ]
  },
  {
   "cell_type": "markdown",
   "id": "a3f78a15",
   "metadata": {
    "editable": true
   },
   "source": [
    "$$\n",
    "\\langle \\mu\\nu|\\hat{v}|\\sigma\\tau\\rangle_{AS}= \\langle \\mu\\nu|\\hat{v}|\\sigma\\tau\\rangle-\\langle \\mu\\nu|\\hat{v}|\\tau\\sigma\\rangle.\n",
    "$$"
   ]
  },
  {
   "cell_type": "markdown",
   "id": "9a380411",
   "metadata": {
    "editable": true
   },
   "source": [
    "## Derivation of Hartree-Fock equations in coordinate space\n",
    "\n",
    "It has the symmetry property"
   ]
  },
  {
   "cell_type": "markdown",
   "id": "0e914708",
   "metadata": {
    "editable": true
   },
   "source": [
    "$$\n",
    "\\langle \\mu\\nu|\\hat{v}|\\sigma\\tau\\rangle_{AS}= -\\langle \\mu\\nu|\\hat{v}|\\tau\\sigma\\rangle_{AS}=-\\langle \\nu\\mu|\\hat{v}|\\sigma\\tau\\rangle_{AS}.\n",
    "$$"
   ]
  },
  {
   "cell_type": "markdown",
   "id": "a5646615",
   "metadata": {
    "editable": true
   },
   "source": [
    "The antisymmetric matrix element is also hermitian, implying"
   ]
  },
  {
   "cell_type": "markdown",
   "id": "ea1d23d3",
   "metadata": {
    "editable": true
   },
   "source": [
    "$$\n",
    "\\langle \\mu\\nu|\\hat{v}|\\sigma\\tau\\rangle_{AS}= \\langle \\sigma\\tau|\\hat{v}|\\mu\\nu\\rangle_{AS}.\n",
    "$$"
   ]
  },
  {
   "cell_type": "markdown",
   "id": "684d7c57",
   "metadata": {
    "editable": true
   },
   "source": [
    "## Derivation of Hartree-Fock equations in coordinate space\n",
    "\n",
    "With these notations we rewrite the Hartree-Fock functional as"
   ]
  },
  {
   "cell_type": "markdown",
   "id": "d2289ab4",
   "metadata": {
    "editable": true
   },
   "source": [
    "<!-- Equation labels as ordinary links -->\n",
    "<div id=\"H2Expectation2\"></div>\n",
    "\n",
    "$$\n",
    "\\begin{equation}\n",
    "  \\int \\Phi^*\\hat{H_I}\\Phi d\\mathbf{\\tau} \n",
    "  = \\frac{1}{2}\\sum_{\\mu=1}^N\\sum_{\\nu=1}^N \\langle \\mu\\nu|\\hat{v}|\\mu\\nu\\rangle_{AS}. \\label{H2Expectation2} \\tag{1}\n",
    "\\end{equation}\n",
    "$$"
   ]
  },
  {
   "cell_type": "markdown",
   "id": "d11525c2",
   "metadata": {
    "editable": true
   },
   "source": [
    "Adding the contribution from the one-body operator $\\hat{H}_0$ to\n",
    "([1](#H2Expectation2)) we obtain the energy functional"
   ]
  },
  {
   "cell_type": "markdown",
   "id": "bb667e01",
   "metadata": {
    "editable": true
   },
   "source": [
    "<!-- Equation labels as ordinary links -->\n",
    "<div id=\"FunctionalEPhi\"></div>\n",
    "\n",
    "$$\n",
    "\\begin{equation}\n",
    "  E[\\Phi] \n",
    "  = \\sum_{\\mu=1}^N \\langle \\mu | h | \\mu \\rangle +\n",
    "  \\frac{1}{2}\\sum_{{\\mu}=1}^N\\sum_{{\\nu}=1}^N \\langle \\mu\\nu|\\hat{v}|\\mu\\nu\\rangle_{AS}. \\label{FunctionalEPhi} \\tag{2}\n",
    "\\end{equation}\n",
    "$$"
   ]
  },
  {
   "cell_type": "markdown",
   "id": "cb01679a",
   "metadata": {
    "editable": true
   },
   "source": [
    "## Derivation of Hartree-Fock equations in coordinate space\n",
    "\n",
    "In our coordinate space derivations below we will spell out the Hartree-Fock equations in terms of their integrals.\n",
    "\n",
    "If we generalize the Euler-Lagrange equations to more variables \n",
    "and introduce $N^2$ Lagrange multipliers which we denote by \n",
    "$\\epsilon_{\\mu\\nu}$, we can write the variational equation for the functional of $E$"
   ]
  },
  {
   "cell_type": "markdown",
   "id": "d48ad54b",
   "metadata": {
    "editable": true
   },
   "source": [
    "$$\n",
    "\\delta E - \\sum_{\\mu\\nu}^N \\epsilon_{\\mu\\nu} \\delta\n",
    "  \\int \\psi_{\\mu}^* \\psi_{\\nu} = 0.\n",
    "$$"
   ]
  },
  {
   "cell_type": "markdown",
   "id": "5d1abeeb",
   "metadata": {
    "editable": true
   },
   "source": [
    "For the orthogonal wave functions $\\psi_{i}$ this reduces to"
   ]
  },
  {
   "cell_type": "markdown",
   "id": "f266ab24",
   "metadata": {
    "editable": true
   },
   "source": [
    "$$\n",
    "\\delta E - \\sum_{\\mu=1}^N \\epsilon_{\\mu} \\delta\n",
    "  \\int \\psi_{\\mu}^* \\psi_{\\mu} = 0.\n",
    "$$"
   ]
  },
  {
   "cell_type": "markdown",
   "id": "259417f4",
   "metadata": {
    "editable": true
   },
   "source": [
    "## Derivation of Hartree-Fock equations in coordinate space\n",
    "\n",
    "Variation with respect to the single-particle wave functions $\\psi_{\\mu}$ yields then"
   ]
  },
  {
   "cell_type": "markdown",
   "id": "a5f000bb",
   "metadata": {
    "editable": true
   },
   "source": [
    "$$\n",
    "\\sum_{\\mu=1}^N \\int \\delta\\psi_{\\mu}^*\\hat{h_0}(x_i)\\psi_{\\mu}\n",
    "  dx_i  \n",
    "  + \\frac{1}{2}\\sum_{{\\mu}=1}^N\\sum_{{\\nu}=1}^N \\left[ \\int\n",
    "  \\delta\\psi_{\\mu}^*\\psi_{\\nu}^*\\hat{v}(r_{ij})\\psi_{\\mu}\\psi_{\\nu} dx_idx_j- \\int\n",
    "  \\delta\\psi_{\\mu}^*\\psi_{\\nu}^*\\hat{v}(r_{ij})\\psi_{\\nu}\\psi_{\\mu}\n",
    "  dx_idx_j \\right]+\n",
    "$$"
   ]
  },
  {
   "cell_type": "markdown",
   "id": "ad59a0fd",
   "metadata": {
    "editable": true
   },
   "source": [
    "$$\n",
    "\\sum_{\\mu=1}^N \\int \\psi_{\\mu}^*\\hat{h_0}(x_i)\\delta\\psi_{\\mu}\n",
    "  dx_i \n",
    "  + \\frac{1}{2}\\sum_{{\\mu}=1}^N\\sum_{{\\nu}=1}^N \\left[ \\int\n",
    "  \\psi_{\\mu}^*\\psi_{\\nu}^*\\hat{v}(r_{ij})\\delta\\psi_{\\mu}\\psi_{\\nu} dx_idx_j- \\int\n",
    "  \\psi_{\\mu}^*\\psi_{\\nu}^*\\hat{v}(r_{ij})\\psi_{\\nu}\\delta\\psi_{\\mu}\n",
    "  dx_idx_j \\right]-  \\sum_{{\\mu}=1}^N E_{\\mu} \\int \\delta\\psi_{\\mu}^*\n",
    "  \\psi_{\\mu}dx_i\n",
    "  -  \\sum_{{\\mu}=1}^N E_{\\mu} \\int \\psi_{\\mu}^*\n",
    "  \\delta\\psi_{\\mu}dx_i = 0.\n",
    "$$"
   ]
  },
  {
   "cell_type": "markdown",
   "id": "5dc6f9b3",
   "metadata": {
    "editable": true
   },
   "source": [
    "## Derivation of Hartree-Fock equations in coordinate space\n",
    "\n",
    "Although the variations $\\delta\\psi$ and $\\delta\\psi^*$ are not\n",
    "independent, they may in fact be treated as such, so that the \n",
    "terms dependent on either $\\delta\\psi$ and $\\delta\\psi^*$ individually \n",
    "may be set equal to zero. To see this, simply \n",
    "replace the arbitrary variation $\\delta\\psi$ by $i\\delta\\psi$, so that\n",
    "$\\delta\\psi^*$ is replaced by $-i\\delta\\psi^*$, and combine the two\n",
    "equations. We thus arrive at the Hartree-Fock equations"
   ]
  },
  {
   "cell_type": "markdown",
   "id": "155f6cad",
   "metadata": {
    "editable": true
   },
   "source": [
    "<!-- Equation labels as ordinary links -->\n",
    "<div id=\"eq:hartreefockcoordinatespace\"></div>\n",
    "\n",
    "$$\n",
    "\\begin{equation}\n",
    "\\left[ -\\frac{1}{2}\\nabla_i^2+ \\sum_{\\nu=1}^N\\int \\psi_{\\nu}^*(x_j)\\hat{v}(r_{ij})\\psi_{\\nu}(x_j)dx_j \\right]\\psi_{\\mu}(x_i) - \\left[ \\sum_{{\\nu}=1}^N \\int\\psi_{\\nu}^*(x_j)\\hat{v}(r_{ij})\\psi_{\\mu}(x_j) dx_j\\right] \\psi_{\\nu}(x_i) = \\epsilon_{\\mu} \\psi_{\\mu}(x_i).  \\label{eq:hartreefockcoordinatespace} \\tag{3}\n",
    "\\end{equation}\n",
    "$$"
   ]
  },
  {
   "cell_type": "markdown",
   "id": "6c851a4c",
   "metadata": {
    "editable": true
   },
   "source": [
    "## Derivation of Hartree-Fock equations in coordinate space\n",
    "\n",
    "Notice that the integration $\\int dx_j$ implies an\n",
    "integration over the spatial coordinates $\\mathbf{r_j}$ and a summation\n",
    "over the spin-coordinate of fermion $j$. We note that the factor of $1/2$ in front of the sum involving the two-body interaction, has been removed. This is due to the fact that we need to vary both $\\delta\\psi_{\\mu}^*$ and\n",
    "$\\delta\\psi_{\\nu}^*$. Using the symmetry properties of the two-body interaction and interchanging $\\mu$ and $\\nu$\n",
    "as summation indices, we obtain two identical terms."
   ]
  },
  {
   "cell_type": "markdown",
   "id": "bec7b9c7",
   "metadata": {
    "editable": true
   },
   "source": [
    "## Derivation of Hartree-Fock equations in coordinate space\n",
    "\n",
    "The two first terms in the last equation are the one-body kinetic\n",
    "energy and the electron-nucleus potential. The third or *direct* term\n",
    "is the averaged electronic repulsion of the other electrons. As\n",
    "written, the term includes the *self-interaction* of electrons when\n",
    "$\\mu=\\nu$. The self-interaction is cancelled in the fourth term, or\n",
    "the *exchange* term. The exchange term results from our inclusion of\n",
    "the Pauli principle and the assumed determinantal form of the\n",
    "wave-function. Equation ([3](#eq:hartreefockcoordinatespace)), in\n",
    "addition to the kinetic energy and the attraction from the atomic\n",
    "nucleus that confines the motion of a single electron, represents now\n",
    "the motion of a single-particle modified by the two-body\n",
    "interaction. The additional contribution to the Schroedinger equation\n",
    "due to the two-body interaction, represents a mean field set up by all\n",
    "the other bystanding electrons, the latter given by the sum over all\n",
    "single-particle states occupied by $N$ electrons."
   ]
  },
  {
   "cell_type": "markdown",
   "id": "2fb0bd89",
   "metadata": {
    "editable": true
   },
   "source": [
    "## Derivation of Hartree-Fock equations in coordinate space\n",
    "\n",
    "The Hartree-Fock equation is an example of an integro-differential\n",
    "equation. These equations involve repeated calculations of integrals,\n",
    "in addition to the solution of a set of coupled differential\n",
    "equations.  The Hartree-Fock equations can also be rewritten in terms\n",
    "of an eigenvalue problem. The solution of an eigenvalue problem\n",
    "represents often a more practical algorithm and the solution of\n",
    "coupled integro-differential equations.  This alternative derivation\n",
    "of the Hartree-Fock equations is given below."
   ]
  },
  {
   "cell_type": "markdown",
   "id": "342f001f",
   "metadata": {
    "editable": true
   },
   "source": [
    "## Analysis of Hartree-Fock equations in coordinate space\n",
    "\n",
    "  A theoretically convenient form of the\n",
    "Hartree-Fock equation is to regard the direct and exchange operator\n",
    "defined through"
   ]
  },
  {
   "cell_type": "markdown",
   "id": "1a4c9abe",
   "metadata": {
    "editable": true
   },
   "source": [
    "$$\n",
    "V_{\\mu}^{d}(x_i) = \\int \\psi_{\\mu}^*(x_j) \n",
    " \\hat{v}(r_{ij})\\psi_{\\mu}(x_j) dx_j\n",
    "$$"
   ]
  },
  {
   "cell_type": "markdown",
   "id": "f830bc60",
   "metadata": {
    "editable": true
   },
   "source": [
    "and"
   ]
  },
  {
   "cell_type": "markdown",
   "id": "7319d6d4",
   "metadata": {
    "editable": true
   },
   "source": [
    "$$\n",
    "V_{\\mu}^{ex}(x_i) g(x_i) \n",
    "  = \\left(\\int \\psi_{\\mu}^*(x_j) \n",
    " \\hat{v}(r_{ij})g(x_j) dx_j\n",
    "  \\right)\\psi_{\\mu}(x_i),\n",
    "$$"
   ]
  },
  {
   "cell_type": "markdown",
   "id": "c44badac",
   "metadata": {
    "editable": true
   },
   "source": [
    "respectively."
   ]
  },
  {
   "cell_type": "markdown",
   "id": "679273d5",
   "metadata": {
    "editable": true
   },
   "source": [
    "## Analysis of Hartree-Fock equations in coordinate space\n",
    "\n",
    "The function $g(x_i)$ is an arbitrary function,\n",
    "and by the substitution $g(x_i) = \\psi_{\\nu}(x_i)$\n",
    "we get"
   ]
  },
  {
   "cell_type": "markdown",
   "id": "5f10bcaf",
   "metadata": {
    "editable": true
   },
   "source": [
    "$$\n",
    "V_{\\mu}^{ex}(x_i) \\psi_{\\nu}(x_i) \n",
    "  = \\left(\\int \\psi_{\\mu}^*(x_j) \n",
    " \\hat{v}(r_{ij})\\psi_{\\nu}(x_j)\n",
    "  dx_j\\right)\\psi_{\\mu}(x_i).\n",
    "$$"
   ]
  },
  {
   "cell_type": "markdown",
   "id": "77197f9b",
   "metadata": {
    "editable": true
   },
   "source": [
    "## Analysis of Hartree-Fock equations in coordinate space\n",
    "\n",
    "We may then rewrite the Hartree-Fock equations as"
   ]
  },
  {
   "cell_type": "markdown",
   "id": "cd147b0b",
   "metadata": {
    "editable": true
   },
   "source": [
    "$$\n",
    "\\hat{h}^{HF}(x_i) \\psi_{\\nu}(x_i) = \\epsilon_{\\nu}\\psi_{\\nu}(x_i),\n",
    "$$"
   ]
  },
  {
   "cell_type": "markdown",
   "id": "2a3c03ca",
   "metadata": {
    "editable": true
   },
   "source": [
    "with"
   ]
  },
  {
   "cell_type": "markdown",
   "id": "59da3eec",
   "metadata": {
    "editable": true
   },
   "source": [
    "$$\n",
    "\\hat{h}^{HF}(x_i)= \\hat{h}_0(x_i) + \\sum_{\\mu=1}^NV_{\\mu}^{d}(x_i) -\n",
    "  \\sum_{\\mu=1}^NV_{\\mu}^{ex}(x_i),\n",
    "$$"
   ]
  },
  {
   "cell_type": "markdown",
   "id": "d377d4f1",
   "metadata": {
    "editable": true
   },
   "source": [
    "and where $\\hat{h}_0(i)$ is the one-body part. The latter is normally chosen as a part which yields solutions in closed form. The harmonic oscilltor is a classical problem thereof.\n",
    "We normally rewrite the last equation as"
   ]
  },
  {
   "cell_type": "markdown",
   "id": "ac28d23a",
   "metadata": {
    "editable": true
   },
   "source": [
    "$$\n",
    "\\hat{h}^{HF}(x_i)= \\hat{h}_0(x_i) + \\hat{u}^{HF}(x_i).\n",
    "$$"
   ]
  },
  {
   "cell_type": "markdown",
   "id": "cccb4b46",
   "metadata": {
    "editable": true
   },
   "source": [
    "## Hartree-Fock by varying the coefficients of a wave function expansion\n",
    "\n",
    "Another possibility is to expand the single-particle functions in a\n",
    "known basis and vary the coefficients, that is, the new\n",
    "single-particle wave function is written as a linear expansion in\n",
    "terms of a fixed chosen orthogonal basis (for example the well-known\n",
    "harmonic oscillator functions or the hydrogen-like functions etc).  We\n",
    "define our new Hartree-Fock single-particle basis by performing a\n",
    "unitary transformation on our previous basis (labelled with greek\n",
    "indices) as"
   ]
  },
  {
   "cell_type": "markdown",
   "id": "52022fa0",
   "metadata": {
    "editable": true
   },
   "source": [
    "<!-- Equation labels as ordinary links -->\n",
    "<div id=\"eq:newbasis\"></div>\n",
    "\n",
    "$$\n",
    "\\begin{equation}\n",
    "\\psi_p^{HF}  = \\sum_{\\lambda} C_{p\\lambda}\\phi_{\\lambda}. \\label{eq:newbasis} \\tag{4}\n",
    "\\end{equation}\n",
    "$$"
   ]
  },
  {
   "cell_type": "markdown",
   "id": "a3d49f76",
   "metadata": {
    "editable": true
   },
   "source": [
    "In this case we vary the coefficients $C_{p\\lambda}$. If the basis has infinitely many solutions, we need\n",
    "to truncate the above sum.  We assume that the basis $\\phi_{\\lambda}$ is orthogonal."
   ]
  },
  {
   "cell_type": "markdown",
   "id": "8b70f3b2",
   "metadata": {
    "editable": true
   },
   "source": [
    "## Hartree-Fock by varying the coefficients of a wave function expansion\n",
    "\n",
    "It is normal to choose a single-particle basis defined as the eigenfunctions\n",
    "of parts of the full Hamiltonian. The typical situation consists of the solutions of the one-body part of the Hamiltonian, that is we have"
   ]
  },
  {
   "cell_type": "markdown",
   "id": "221f8cdb",
   "metadata": {
    "editable": true
   },
   "source": [
    "$$\n",
    "\\hat{h}_0\\phi_{\\lambda}=\\epsilon_{\\lambda}\\phi_{\\lambda}.\n",
    "$$"
   ]
  },
  {
   "cell_type": "markdown",
   "id": "97ea0014",
   "metadata": {
    "editable": true
   },
   "source": [
    "The single-particle wave functions $\\phi_{\\lambda}(\\mathbf{r})$, defined by the quantum numbers $\\lambda$ and $\\mathbf{r}$\n",
    "are defined as the overlap"
   ]
  },
  {
   "cell_type": "markdown",
   "id": "3d400e3c",
   "metadata": {
    "editable": true
   },
   "source": [
    "$$\n",
    "\\phi_{\\lambda}(\\mathbf{r})  = \\langle \\mathbf{r} | \\lambda \\rangle .\n",
    "$$"
   ]
  },
  {
   "cell_type": "markdown",
   "id": "2df68a4e",
   "metadata": {
    "editable": true
   },
   "source": [
    "## Hartree-Fock by varying the coefficients of a wave function expansion\n",
    "\n",
    "In deriving the Hartree-Fock equations, we will expand the\n",
    "single-particle functions in a known basis and vary the coefficients,\n",
    "that is, the new single-particle wave function is written as a linear\n",
    "expansion in terms of a fixed chosen orthogonal basis (for example the\n",
    "well-known harmonic oscillator functions or the hydrogen-like\n",
    "functions etc).\n",
    "\n",
    "We stated that a unitary transformation keeps the orthogonality. To see this consider first a basis of vectors $\\mathbf{v}_i$,"
   ]
  },
  {
   "cell_type": "markdown",
   "id": "a15b4cf5",
   "metadata": {
    "editable": true
   },
   "source": [
    "$$\n",
    "\\mathbf{v}_i = \\begin{bmatrix} v_{i1} \\\\ \\dots \\\\ \\dots \\\\v_{in} \\end{bmatrix}\n",
    "$$"
   ]
  },
  {
   "cell_type": "markdown",
   "id": "4605362f",
   "metadata": {
    "editable": true
   },
   "source": [
    "## Hartree-Fock by varying the coefficients of a wave function expansion\n",
    "\n",
    "We assume that the basis is orthogonal, that is"
   ]
  },
  {
   "cell_type": "markdown",
   "id": "ad0f3ec0",
   "metadata": {
    "editable": true
   },
   "source": [
    "$$\n",
    "\\mathbf{v}_j^T\\mathbf{v}_i = \\delta_{ij}.\n",
    "$$"
   ]
  },
  {
   "cell_type": "markdown",
   "id": "48d955fc",
   "metadata": {
    "editable": true
   },
   "source": [
    "An orthogonal or unitary transformation"
   ]
  },
  {
   "cell_type": "markdown",
   "id": "b5df409e",
   "metadata": {
    "editable": true
   },
   "source": [
    "$$\n",
    "\\mathbf{w}_i=\\mathbf{U}\\mathbf{v}_i,\n",
    "$$"
   ]
  },
  {
   "cell_type": "markdown",
   "id": "7d675998",
   "metadata": {
    "editable": true
   },
   "source": [
    "preserves the dot product and orthogonality since"
   ]
  },
  {
   "cell_type": "markdown",
   "id": "0f8d266d",
   "metadata": {
    "editable": true
   },
   "source": [
    "$$\n",
    "\\mathbf{w}_j^T\\mathbf{w}_i=(\\mathbf{U}\\mathbf{v}_j)^T\\mathbf{U}\\mathbf{v}_i=\\mathbf{v}_j^T\\mathbf{U}^T\\mathbf{U}\\mathbf{v}_i= \\mathbf{v}_j^T\\mathbf{v}_i = \\delta_{ij}.\n",
    "$$"
   ]
  },
  {
   "cell_type": "markdown",
   "id": "6fec705d",
   "metadata": {
    "editable": true
   },
   "source": [
    "## Hartree-Fock by varying the coefficients of a wave function expansion\n",
    "\n",
    "This means that if the coefficients $C_{p\\lambda}$ belong to a unitary or orthogonal trasformation (using the Dirac bra-ket notation)"
   ]
  },
  {
   "cell_type": "markdown",
   "id": "27de7c3c",
   "metadata": {
    "editable": true
   },
   "source": [
    "$$\n",
    "\\vert p\\rangle  = \\sum_{\\lambda} C_{p\\lambda}\\vert\\lambda\\rangle,\n",
    "$$"
   ]
  },
  {
   "cell_type": "markdown",
   "id": "23377fb9",
   "metadata": {
    "editable": true
   },
   "source": [
    "orthogonality is preserved, that is $\\langle \\alpha \\vert \\beta\\rangle = \\delta_{\\alpha\\beta}$\n",
    "and $\\langle p \\vert q\\rangle = \\delta_{pq}$. \n",
    "\n",
    "This propertry is extremely useful when we build up a basis of many-body Stater determinant based states. \n",
    "\n",
    "**Note also that although a basis $\\vert \\alpha\\rangle$ contains an infinity of states, for practical calculations we have always to make some truncations.**"
   ]
  },
  {
   "cell_type": "markdown",
   "id": "7a4e608f",
   "metadata": {
    "editable": true
   },
   "source": [
    "## Hartree-Fock by varying the coefficients of a wave function expansion\n",
    "\n",
    "Before we develop the Hartree-Fock equations, there is another very\n",
    "useful property of determinants that we will use both in connection\n",
    "with Hartree-Fock calculations. This applies also to our previous\n",
    "discussion on full configuration interaction theory.\n",
    "\n",
    "Consider the following determinant"
   ]
  },
  {
   "cell_type": "markdown",
   "id": "59d98b10",
   "metadata": {
    "editable": true
   },
   "source": [
    "$$\n",
    "\\left| \\begin{array}{cc} \\alpha_1b_{11}+\\alpha_2sb_{12}& a_{12}\\\\\n",
    "                         \\alpha_1b_{21}+\\alpha_2b_{22}&a_{22}\\end{array} \\right|=\\alpha_1\\left|\\begin{array}{cc} b_{11}& a_{12}\\\\\n",
    "                         b_{21}&a_{22}\\end{array} \\right|+\\alpha_2\\left| \\begin{array}{cc} b_{12}& a_{12}\\\\b_{22}&a_{22}\\end{array} \\right|\n",
    "$$"
   ]
  },
  {
   "cell_type": "markdown",
   "id": "0aad413c",
   "metadata": {
    "editable": true
   },
   "source": [
    "## Hartree-Fock by varying the coefficients of a wave function expansion\n",
    "\n",
    "We can generalize this to  an $n\\times n$ matrix and have"
   ]
  },
  {
   "cell_type": "markdown",
   "id": "785a315a",
   "metadata": {
    "editable": true
   },
   "source": [
    "$$\n",
    "\\left| \\begin{array}{cccccc} a_{11}& a_{12} & \\dots & \\sum_{k=1}^n c_k b_{1k} &\\dots & a_{1n}\\\\\n",
    "a_{21}& a_{22} & \\dots & \\sum_{k=1}^n c_k b_{2k} &\\dots & a_{2n}\\\\\n",
    "\\dots & \\dots & \\dots & \\dots & \\dots & \\dots \\\\\n",
    "\\dots & \\dots & \\dots & \\dots & \\dots & \\dots \\\\\n",
    "a_{n1}& a_{n2} & \\dots & \\sum_{k=1}^n c_k b_{nk} &\\dots & a_{nn}\\end{array} \\right|=\n",
    "\\sum_{k=1}^n c_k\\left| \\begin{array}{cccccc} a_{11}& a_{12} & \\dots &  b_{1k} &\\dots & a_{1n}\\\\\n",
    "a_{21}& a_{22} & \\dots &  b_{2k} &\\dots & a_{2n}\\\\\n",
    "\\dots & \\dots & \\dots & \\dots & \\dots & \\dots\\\\\n",
    "\\dots & \\dots & \\dots & \\dots & \\dots & \\dots\\\\\n",
    "a_{n1}& a_{n2} & \\dots &  b_{nk} &\\dots & a_{nn}\\end{array} \\right| .\n",
    "$$"
   ]
  },
  {
   "cell_type": "markdown",
   "id": "c2f3f610",
   "metadata": {
    "editable": true
   },
   "source": [
    "This is a property we will use in our Hartree-Fock discussions."
   ]
  },
  {
   "cell_type": "markdown",
   "id": "7520274f",
   "metadata": {
    "editable": true
   },
   "source": [
    "## Hartree-Fock by varying the coefficients of a wave function expansion\n",
    "\n",
    "We can generalize the previous results, now \n",
    "with all elements $a_{ij}$  being given as functions of \n",
    "linear combinations  of various coefficients $c$ and elements $b_{ij}$,"
   ]
  },
  {
   "cell_type": "markdown",
   "id": "7d153f50",
   "metadata": {
    "editable": true
   },
   "source": [
    "$$\n",
    "\\left| \\begin{array}{cccccc} \\sum_{k=1}^n b_{1k}c_{k1}& \\sum_{k=1}^n b_{1k}c_{k2} & \\dots & \\sum_{k=1}^n b_{1k}c_{kj}  &\\dots & \\sum_{k=1}^n b_{1k}c_{kn}\\\\\n",
    "\\sum_{k=1}^n b_{2k}c_{k1}& \\sum_{k=1}^n b_{2k}c_{k2} & \\dots & \\sum_{k=1}^n b_{2k}c_{kj} &\\dots & \\sum_{k=1}^n b_{2k}c_{kn}\\\\\n",
    "\\dots & \\dots & \\dots & \\dots & \\dots & \\dots \\\\\n",
    "\\dots & \\dots & \\dots & \\dots & \\dots &\\dots \\\\\n",
    "\\sum_{k=1}^n b_{nk}c_{k1}& \\sum_{k=1}^n b_{nk}c_{k2} & \\dots & \\sum_{k=1}^n b_{nk}c_{kj} &\\dots & \\sum_{k=1}^n b_{nk}c_{kn}\\end{array} \\right|=det(\\mathbf{C})det(\\mathbf{B}),\n",
    "$$"
   ]
  },
  {
   "cell_type": "markdown",
   "id": "e6398a52",
   "metadata": {
    "editable": true
   },
   "source": [
    "where $det(\\mathbf{C})$ and $det(\\mathbf{B})$ are the determinants of $n\\times n$ matrices\n",
    "with elements $c_{ij}$ and $b_{ij}$ respectively.  \n",
    "This is a property we will use in our Hartree-Fock discussions. Convince yourself about the correctness of the above expression by setting $n=2$."
   ]
  },
  {
   "cell_type": "markdown",
   "id": "454c3983",
   "metadata": {
    "editable": true
   },
   "source": [
    "## Hartree-Fock by varying the coefficients of a wave function expansion\n",
    "\n",
    "With our definition of the new basis in terms of an orthogonal basis we have"
   ]
  },
  {
   "cell_type": "markdown",
   "id": "19dcd9d0",
   "metadata": {
    "editable": true
   },
   "source": [
    "$$\n",
    "\\psi_p(x)  = \\sum_{\\lambda} C_{p\\lambda}\\phi_{\\lambda}(x).\n",
    "$$"
   ]
  },
  {
   "cell_type": "markdown",
   "id": "f6bbcfed",
   "metadata": {
    "editable": true
   },
   "source": [
    "If the coefficients $C_{p\\lambda}$ belong to an orthogonal or unitary matrix, the new basis\n",
    "is also orthogonal. \n",
    "Our Slater determinant in the new basis $\\psi_p(x)$ is written as"
   ]
  },
  {
   "cell_type": "markdown",
   "id": "240c6ff0",
   "metadata": {
    "editable": true
   },
   "source": [
    "$$\n",
    "\\frac{1}{\\sqrt{N!}}\n",
    "\\left| \\begin{array}{ccccc} \\psi_{p}(x_1)& \\psi_{p}(x_2)& \\dots & \\dots & \\psi_{p}(x_N)\\\\\n",
    "                            \\psi_{q}(x_1)&\\psi_{q}(x_2)& \\dots & \\dots & \\psi_{q}(x_N)\\\\  \n",
    "                            \\dots & \\dots & \\dots & \\dots & \\dots \\\\\n",
    "                            \\dots & \\dots & \\dots & \\dots & \\dots \\\\\n",
    "                     \\psi_{t}(x_1)&\\psi_{t}(x_2)& \\dots & \\dots & \\psi_{t}(x_N)\\end{array} \\right|=\\frac{1}{\\sqrt{N!}}\n",
    "\\left| \\begin{array}{ccccc} \\sum_{\\lambda} C_{p\\lambda}\\phi_{\\lambda}(x_1)& \\sum_{\\lambda} C_{p\\lambda}\\phi_{\\lambda}(x_2)& \\dots & \\dots & \\sum_{\\lambda} C_{p\\lambda}\\phi_{\\lambda}(x_N)\\\\\n",
    "                            \\sum_{\\lambda} C_{q\\lambda}\\phi_{\\lambda}(x_1)&\\sum_{\\lambda} C_{q\\lambda}\\phi_{\\lambda}(x_2)& \\dots & \\dots & \\sum_{\\lambda} C_{q\\lambda}\\phi_{\\lambda}(x_N)\\\\  \n",
    "                            \\dots & \\dots & \\dots & \\dots & \\dots \\\\\n",
    "                            \\dots & \\dots & \\dots & \\dots & \\dots \\\\\n",
    "                     \\sum_{\\lambda} C_{t\\lambda}\\phi_{\\lambda}(x_1)&\\sum_{\\lambda} C_{t\\lambda}\\phi_{\\lambda}(x_2)& \\dots & \\dots & \\sum_{\\lambda} C_{t\\lambda}\\phi_{\\lambda}(x_N)\\end{array} \\right|,\n",
    "$$"
   ]
  },
  {
   "cell_type": "markdown",
   "id": "a1b3eddb",
   "metadata": {
    "editable": true
   },
   "source": [
    "which is nothing but $det(\\mathbf{C})det(\\Phi)$, with $det(\\Phi)$ being the determinant given by the basis functions $\\phi_{\\lambda}(x)$."
   ]
  },
  {
   "cell_type": "markdown",
   "id": "078b5800",
   "metadata": {
    "editable": true
   },
   "source": [
    "## Hartree-Fock by varying the coefficients of a wave function expansion\n",
    "\n",
    "In our discussions hereafter we will use our definitions of single-particle states above and below the Fermi ($F$) level given by the labels\n",
    "$ijkl\\dots \\le F$ for so-called single-hole states and $abcd\\dots > F$ for so-called particle states.\n",
    "For general single-particle states we employ the labels $pqrs\\dots$. \n",
    "\n",
    "In Eq. ([2](#FunctionalEPhi)), restated here"
   ]
  },
  {
   "cell_type": "markdown",
   "id": "c230d282",
   "metadata": {
    "editable": true
   },
   "source": [
    "$$\n",
    "E[\\Phi] \n",
    "  = \\sum_{\\mu=1}^N \\langle \\mu | h | \\mu \\rangle +\n",
    "  \\frac{1}{2}\\sum_{{\\mu}=1}^N\\sum_{{\\nu}=1}^N \\langle \\mu\\nu|\\hat{v}|\\mu\\nu\\rangle_{AS},\n",
    "$$"
   ]
  },
  {
   "cell_type": "markdown",
   "id": "b8c025c2",
   "metadata": {
    "editable": true
   },
   "source": [
    "we found the expression for the energy functional in terms of the basis function $\\phi_{\\lambda}(\\mathbf{r})$. We then  varied the above energy functional with respect to the basis functions $|\\mu \\rangle$."
   ]
  },
  {
   "cell_type": "markdown",
   "id": "81e3b4a3",
   "metadata": {
    "editable": true
   },
   "source": [
    "## Hartree-Fock by varying the coefficients of a wave function expansion\n",
    "\n",
    "Now we are interested in defining a new basis defined in terms of\n",
    "a chosen basis as defined in Eq. ([4](#eq:newbasis)). We can then rewrite the energy functional as"
   ]
  },
  {
   "cell_type": "markdown",
   "id": "8fe7466b",
   "metadata": {
    "editable": true
   },
   "source": [
    "<!-- Equation labels as ordinary links -->\n",
    "<div id=\"FunctionalEPhi2\"></div>\n",
    "\n",
    "$$\n",
    "\\begin{equation}\n",
    "  E[\\Phi^{HF}] \n",
    "  = \\sum_{i=1}^N \\langle i | h | i \\rangle +\n",
    "  \\frac{1}{2}\\sum_{ij=1}^N\\langle ij|\\hat{v}|ij\\rangle_{AS}, \\label{FunctionalEPhi2} \\tag{5}\n",
    "\\end{equation}\n",
    "$$"
   ]
  },
  {
   "cell_type": "markdown",
   "id": "20e53d7d",
   "metadata": {
    "editable": true
   },
   "source": [
    "where $\\Phi^{HF}$ is the new Slater determinant defined by the new basis of Eq. ([4](#eq:newbasis))."
   ]
  },
  {
   "cell_type": "markdown",
   "id": "ae40dde5",
   "metadata": {
    "editable": true
   },
   "source": [
    "## Hartree-Fock by varying the coefficients of a wave function expansion\n",
    "\n",
    "Using Eq. ([4](#eq:newbasis)) we can rewrite Eq. ([5](#FunctionalEPhi2)) as"
   ]
  },
  {
   "cell_type": "markdown",
   "id": "8d0689a9",
   "metadata": {
    "editable": true
   },
   "source": [
    "<!-- Equation labels as ordinary links -->\n",
    "<div id=\"FunctionalEPhi3\"></div>\n",
    "\n",
    "$$\n",
    "\\begin{equation}\n",
    "  E[\\Psi] \n",
    "  = \\sum_{i=1}^N \\sum_{\\alpha\\beta} C^*_{i\\alpha}C_{i\\beta}\\langle \\alpha | h | \\beta \\rangle +\n",
    "  \\frac{1}{2}\\sum_{ij=1}^N\\sum_{{\\alpha\\beta\\gamma\\delta}} C^*_{i\\alpha}C^*_{j\\beta}C_{i\\gamma}C_{j\\delta}\\langle \\alpha\\beta|\\hat{v}|\\gamma\\delta\\rangle_{AS}. \\label{FunctionalEPhi3} \\tag{6}\n",
    "\\end{equation}\n",
    "$$"
   ]
  },
  {
   "cell_type": "markdown",
   "id": "988049a4",
   "metadata": {
    "editable": true
   },
   "source": [
    "## Hartree-Fock by varying the coefficients of a wave function expansion\n",
    "\n",
    "We wish now to minimize the above functional. We introduce again a set of Lagrange multipliers, noting that\n",
    "since $\\langle i | j \\rangle = \\delta_{i,j}$ and $\\langle \\alpha | \\beta \\rangle = \\delta_{\\alpha,\\beta}$, \n",
    "the coefficients $C_{i\\gamma}$ obey the relation"
   ]
  },
  {
   "cell_type": "markdown",
   "id": "b42225f0",
   "metadata": {
    "editable": true
   },
   "source": [
    "$$\n",
    "\\langle i | j \\rangle=\\delta_{i,j}=\\sum_{\\alpha\\beta} C^*_{i\\alpha}C_{i\\beta}\\langle \\alpha | \\beta \\rangle=\n",
    "\\sum_{\\alpha} C^*_{i\\alpha}C_{i\\alpha},\n",
    "$$"
   ]
  },
  {
   "cell_type": "markdown",
   "id": "37df6c26",
   "metadata": {
    "editable": true
   },
   "source": [
    "which allows us to define a functional to be minimized that reads"
   ]
  },
  {
   "cell_type": "markdown",
   "id": "c6338ae9",
   "metadata": {
    "editable": true
   },
   "source": [
    "<!-- Equation labels as ordinary links -->\n",
    "<div id=\"_auto1\"></div>\n",
    "\n",
    "$$\n",
    "\\begin{equation}\n",
    "  F[\\Phi^{HF}]=E[\\Phi^{HF}] - \\sum_{i=1}^N\\epsilon_i\\sum_{\\alpha} C^*_{i\\alpha}C_{i\\alpha}.\n",
    "\\label{_auto1} \\tag{7}\n",
    "\\end{equation}\n",
    "$$"
   ]
  },
  {
   "cell_type": "markdown",
   "id": "4d17abe1",
   "metadata": {
    "editable": true
   },
   "source": [
    "## Hartree-Fock by varying the coefficients of a wave function expansion\n",
    "\n",
    "Minimizing with respect to $C^*_{i\\alpha}$, remembering that the equations for $C^*_{i\\alpha}$ and $C_{i\\alpha}$\n",
    "can be written as two  independent equations, we obtain"
   ]
  },
  {
   "cell_type": "markdown",
   "id": "c9ad0b6e",
   "metadata": {
    "editable": true
   },
   "source": [
    "$$\n",
    "\\frac{d}{dC^*_{i\\alpha}}\\left[  E[\\Phi^{HF}] - \\sum_{j}\\epsilon_j\\sum_{\\alpha} C^*_{j\\alpha}C_{j\\alpha}\\right]=0,\n",
    "$$"
   ]
  },
  {
   "cell_type": "markdown",
   "id": "5f9f7243",
   "metadata": {
    "editable": true
   },
   "source": [
    "which yields for every single-particle state $i$ and index $\\alpha$ (recalling that the coefficients $C_{i\\alpha}$ are matrix elements of a unitary (or orthogonal for a real symmetric matrix) matrix)\n",
    "the following Hartree-Fock equations"
   ]
  },
  {
   "cell_type": "markdown",
   "id": "144c030d",
   "metadata": {
    "editable": true
   },
   "source": [
    "$$\n",
    "\\sum_{\\beta} C_{i\\beta}\\langle \\alpha | h | \\beta \\rangle+\n",
    "\\sum_{j=1}^N\\sum_{\\beta\\gamma\\delta} C^*_{j\\beta}C_{j\\delta}C_{i\\gamma}\\langle \\alpha\\beta|\\hat{v}|\\gamma\\delta\\rangle_{AS}=\\epsilon_i^{HF}C_{i\\alpha}.\n",
    "$$"
   ]
  },
  {
   "cell_type": "markdown",
   "id": "b9c06cf3",
   "metadata": {
    "editable": true
   },
   "source": [
    "## Hartree-Fock by varying the coefficients of a wave function expansion\n",
    "\n",
    "We can rewrite this equation as (changing dummy variables)"
   ]
  },
  {
   "cell_type": "markdown",
   "id": "fb564114",
   "metadata": {
    "editable": true
   },
   "source": [
    "$$\n",
    "\\sum_{\\beta} \\left\\{\\langle \\alpha | h | \\beta \\rangle+\n",
    "\\sum_{j}^N\\sum_{\\gamma\\delta} C^*_{j\\gamma}C_{j\\delta}\\langle \\alpha\\gamma|\\hat{v}|\\beta\\delta\\rangle_{AS}\\right\\}C_{i\\beta}=\\epsilon_i^{HF}C_{i\\alpha}.\n",
    "$$"
   ]
  },
  {
   "cell_type": "markdown",
   "id": "b64eb916",
   "metadata": {
    "editable": true
   },
   "source": [
    "Note that the sums over greek indices run over the number of basis set functions (in principle an infinite number)."
   ]
  },
  {
   "cell_type": "markdown",
   "id": "e9c90d2a",
   "metadata": {
    "editable": true
   },
   "source": [
    "## Hartree-Fock by varying the coefficients of a wave function expansion\n",
    "\n",
    "Defining"
   ]
  },
  {
   "cell_type": "markdown",
   "id": "46fec21c",
   "metadata": {
    "editable": true
   },
   "source": [
    "$$\n",
    "h_{\\alpha\\beta}^{HF}=\\langle \\alpha | h | \\beta \\rangle+\n",
    "\\sum_{j=1}^N\\sum_{\\gamma\\delta} C^*_{j\\gamma}C_{j\\delta}\\langle \\alpha\\gamma|\\hat{v}|\\beta\\delta\\rangle_{AS},\n",
    "$$"
   ]
  },
  {
   "cell_type": "markdown",
   "id": "1d7f0524",
   "metadata": {
    "editable": true
   },
   "source": [
    "we can rewrite the new equations as"
   ]
  },
  {
   "cell_type": "markdown",
   "id": "958ca5e0",
   "metadata": {
    "editable": true
   },
   "source": [
    "<!-- Equation labels as ordinary links -->\n",
    "<div id=\"eq:newhf\"></div>\n",
    "\n",
    "$$\n",
    "\\begin{equation}\n",
    "\\sum_{\\beta}h_{\\alpha\\beta}^{HF}C_{i\\beta}=\\epsilon_i^{HF}C_{i\\alpha}. \\label{eq:newhf} \\tag{8}\n",
    "\\end{equation}\n",
    "$$"
   ]
  },
  {
   "cell_type": "markdown",
   "id": "3c49aa38",
   "metadata": {
    "editable": true
   },
   "source": [
    "The latter is nothing but a standard eigenvalue problem. Compared with Eq. ([3](#eq:hartreefockcoordinatespace)),\n",
    "we see that we do not need to compute any integrals in an iterative procedure for solving the equations.\n",
    "It suffices to tabulate the matrix elements $\\langle \\alpha | h | \\beta \\rangle$ and $\\langle \\alpha\\gamma|\\hat{v}|\\beta\\delta\\rangle_{AS}$ once and for all. Successive iterations require thus only a look-up in tables over one-body and two-body matrix elements. These details will be discussed below when we solve the Hartree-Fock equations numerical."
   ]
  },
  {
   "cell_type": "markdown",
   "id": "41f2e8c9",
   "metadata": {
    "editable": true
   },
   "source": [
    "## Hartree-Fock algorithm\n",
    "\n",
    "Our Hartree-Fock matrix  is thus"
   ]
  },
  {
   "cell_type": "markdown",
   "id": "ef89c094",
   "metadata": {
    "editable": true
   },
   "source": [
    "$$\n",
    "\\hat{h}_{\\alpha\\beta}^{HF}=\\langle \\alpha | \\hat{h}_0 | \\beta \\rangle+\n",
    "\\sum_{j=1}^N\\sum_{\\gamma\\delta} C^*_{j\\gamma}C_{j\\delta}\\langle \\alpha\\gamma|\\hat{v}|\\beta\\delta\\rangle_{AS}.\n",
    "$$"
   ]
  },
  {
   "cell_type": "markdown",
   "id": "a20bf893",
   "metadata": {
    "editable": true
   },
   "source": [
    "The Hartree-Fock equations are solved in an iterative waym starting with a guess for the coefficients $C_{j\\gamma}=\\delta_{j,\\gamma}$ and solving the equations by diagonalization till the new single-particle energies\n",
    "$\\epsilon_i^{\\mathrm{HF}}$ do not change anymore by a prefixed quantity."
   ]
  },
  {
   "cell_type": "markdown",
   "id": "9d2788b0",
   "metadata": {
    "editable": true
   },
   "source": [
    "## Hartree-Fock by varying the coefficients of a wave function expansion\n",
    "\n",
    "Normally we assume that the single-particle basis $|\\beta\\rangle$ forms an eigenbasis for the operator\n",
    "$\\hat{h}_0$, meaning that the Hartree-Fock matrix becomes"
   ]
  },
  {
   "cell_type": "markdown",
   "id": "eb3f91cf",
   "metadata": {
    "editable": true
   },
   "source": [
    "$$\n",
    "\\hat{h}_{\\alpha\\beta}^{HF}=\\epsilon_{\\alpha}\\delta_{\\alpha,\\beta}+\n",
    "\\sum_{j=1}^N\\sum_{\\gamma\\delta} C^*_{j\\gamma}C_{j\\delta}\\langle \\alpha\\gamma|\\hat{v}|\\beta\\delta\\rangle_{AS}.\n",
    "$$"
   ]
  },
  {
   "cell_type": "markdown",
   "id": "9468e78f",
   "metadata": {
    "editable": true
   },
   "source": [
    "The Hartree-Fock eigenvalue problem"
   ]
  },
  {
   "cell_type": "markdown",
   "id": "bcf5c515",
   "metadata": {
    "editable": true
   },
   "source": [
    "$$\n",
    "\\sum_{\\beta}\\hat{h}_{\\alpha\\beta}^{HF}C_{i\\beta}=\\epsilon_i^{\\mathrm{HF}}C_{i\\alpha},\n",
    "$$"
   ]
  },
  {
   "cell_type": "markdown",
   "id": "4ee7656c",
   "metadata": {
    "editable": true
   },
   "source": [
    "can be written out in a more compact form as"
   ]
  },
  {
   "cell_type": "markdown",
   "id": "4ead2bd8",
   "metadata": {
    "editable": true
   },
   "source": [
    "$$\n",
    "\\hat{h}^{HF}\\hat{C}=\\epsilon^{\\mathrm{HF}}\\hat{C}.\n",
    "$$"
   ]
  },
  {
   "cell_type": "markdown",
   "id": "8289869d",
   "metadata": {
    "editable": true
   },
   "source": [
    "## Hartree-Fock by varying the coefficients of a wave function expansion\n",
    "\n",
    "The Hartree-Fock equations are, in their simplest form, solved in an\n",
    "iterative way, starting with a guess for the coefficients\n",
    "$C_{i\\alpha}$. We label the coefficients as $C_{i\\alpha}^{(n)}$, where\n",
    "the subscript $n$ stands for iteration $n$.  To set up the algorithm\n",
    "we can proceed as follows:\n",
    "\n",
    " * We start with a guess $C_{i\\alpha}^{(0)}=\\delta_{i,\\alpha}$. Alternatively, we could have used random starting values as long as the vectors are normalized. Another possibility is to give states below the Fermi level a larger weight.\n",
    "\n",
    " * The Hartree-Fock matrix simplifies then to (assuming that the coefficients $C_{i\\alpha} $  are real)"
   ]
  },
  {
   "cell_type": "markdown",
   "id": "1b5c61f1",
   "metadata": {
    "editable": true
   },
   "source": [
    "$$\n",
    "\\hat{h}_{\\alpha\\beta}^{HF}=\\epsilon_{\\alpha}\\delta_{\\alpha,\\beta}+\n",
    "\\sum_{j = 1}^N\\sum_{\\gamma\\delta} C_{j\\gamma}^{(0)}C_{j\\delta}^{(0)}\\langle \\alpha\\gamma|\\hat{v}|\\beta\\delta\\rangle_{AS}.\n",
    "$$"
   ]
  },
  {
   "cell_type": "markdown",
   "id": "3c6a7b6d",
   "metadata": {
    "editable": true
   },
   "source": [
    "## Hartree-Fock by varying the coefficients of a wave function expansion\n",
    "\n",
    "Solving the Hartree-Fock eigenvalue problem yields then new eigenvectors $C_{i\\alpha}^{(1)}$ and eigenvalues\n",
    "$\\epsilon_i^{HF(1)}$. \n",
    " * With the new eigenvalues we can set up a new Hartree-Fock potential"
   ]
  },
  {
   "cell_type": "markdown",
   "id": "8093af2c",
   "metadata": {
    "editable": true
   },
   "source": [
    "$$\n",
    "\\sum_{j = 1}^N\\sum_{\\gamma\\delta} C_{j\\gamma}^{(1)}C_{j\\delta}^{(1)}\\langle \\alpha\\gamma|\\hat{v}|\\beta\\delta\\rangle_{AS}.\n",
    "$$"
   ]
  },
  {
   "cell_type": "markdown",
   "id": "afe99438",
   "metadata": {
    "editable": true
   },
   "source": [
    "The diagonalization with the new Hartree-Fock potential yields new eigenvectors and eigenvalues.\n",
    "This process is continued till for example"
   ]
  },
  {
   "cell_type": "markdown",
   "id": "62751c10",
   "metadata": {
    "editable": true
   },
   "source": [
    "$$\n",
    "\\frac{\\sum_{p} |\\epsilon_i^{(n)}-\\epsilon_i^{(n-1)}|}{m} \\le \\lambda,\n",
    "$$"
   ]
  },
  {
   "cell_type": "markdown",
   "id": "f553eac7",
   "metadata": {
    "editable": true
   },
   "source": [
    "where $\\lambda$ is a user prefixed quantity ($\\lambda \\sim 10^{-8}$ or smaller) and $p$ runs over all calculated single-particle\n",
    "energies and $m$ is the number of single-particle states."
   ]
  }
 ],
 "metadata": {},
 "nbformat": 4,
 "nbformat_minor": 5
}
