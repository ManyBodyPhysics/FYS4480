{
 "cells": [
  {
   "cell_type": "markdown",
   "id": "dff9c96e",
   "metadata": {
    "editable": true
   },
   "source": [
    "<!-- HTML file automatically generated from DocOnce source (https://github.com/doconce/doconce/)\n",
    "doconce format html week39.do.txt --no_mako -->\n",
    "<!-- dom:TITLE: Week 39: Full configuration interaction theory -->"
   ]
  },
  {
   "cell_type": "markdown",
   "id": "7988794c",
   "metadata": {
    "editable": true
   },
   "source": [
    "# Week 39: Full configuration interaction theory\n",
    "**Morten Hjorth-Jensen**, Department of Physics and Center for Computing in Science Education, University of Oslo, Norway\n",
    "\n",
    "Date: **Week 39, September 22-26**"
   ]
  },
  {
   "cell_type": "markdown",
   "id": "bca0ed3f",
   "metadata": {
    "editable": true
   },
   "source": [
    "## Week 39, September 22-26, 2025\n",
    "\n",
    "Topics to be covered\n",
    "1. Thursday:\n",
    "\n",
    "a. Full configuration interaction (FCI) theory\n",
    "\n",
    "b. Diagrammatic representation\n",
    "\n",
    "c. Lipkin model as an example of applications of FCI theory, see solutions to exercises from week 37\n",
    "\n",
    "d. [Video of lecture](https://youtu.be/Lw9rytXlteE)\n",
    "\n",
    "e. [Whiteboard notes](https://github.com/ManyBodyPhysics/FYS4480/blob/master/doc/HandwrittenNotes/2025/FYS4480September25.pdf)\n",
    "\n",
    "6. Friday: \n",
    "\n",
    "a. Start discussion of Hartree-Fock theory and mean field theories\n",
    "\n",
    "b. [Video of lecture](https://youtu.be/5ipsWM-QUjs)\n",
    "\n",
    "c. [Whiteboard notes](https://github.com/ManyBodyPhysics/FYS4480/blob/master/doc/HandwrittenNotes/2025/FYS4480September26.pdf)\n",
    "\n",
    "4. Lecture Material: These slides, handwritten notes\n",
    "\n",
    "5. Sixth exercise set at <https://github.com/ManyBodyPhysics/FYS4480/blob/master/doc/Exercises/2025/ExercisesWeek39.pdf>"
   ]
  },
  {
   "cell_type": "markdown",
   "id": "7afb4657",
   "metadata": {
    "editable": true
   },
   "source": [
    "## Full Configuration Interaction Theory\n",
    "\n",
    "We have defined the ansatz for the ground state as"
   ]
  },
  {
   "cell_type": "markdown",
   "id": "fb4e839c",
   "metadata": {
    "editable": true
   },
   "source": [
    "$$\n",
    "|\\Phi_0\\rangle = \\left(\\prod_{i\\le F}\\hat{a}_{i}^{\\dagger}\\right)|0\\rangle,\n",
    "$$"
   ]
  },
  {
   "cell_type": "markdown",
   "id": "a561a901",
   "metadata": {
    "editable": true
   },
   "source": [
    "where the index $i$ defines different single-particle states up to the Fermi level. We have assumed that we have $N$ fermions."
   ]
  },
  {
   "cell_type": "markdown",
   "id": "25e24a4d",
   "metadata": {
    "editable": true
   },
   "source": [
    "## One-particle-one-hole state\n",
    "\n",
    "A given one-particle-one-hole ($1p1h$) state can be written as"
   ]
  },
  {
   "cell_type": "markdown",
   "id": "acecfd6a",
   "metadata": {
    "editable": true
   },
   "source": [
    "$$\n",
    "|\\Phi_i^a\\rangle = \\hat{a}_{a}^{\\dagger}\\hat{a}_i|\\Phi_0\\rangle,\n",
    "$$"
   ]
  },
  {
   "cell_type": "markdown",
   "id": "58c53ceb",
   "metadata": {
    "editable": true
   },
   "source": [
    "while a $2p2h$ state can be written as"
   ]
  },
  {
   "cell_type": "markdown",
   "id": "2681288a",
   "metadata": {
    "editable": true
   },
   "source": [
    "$$\n",
    "|\\Phi_{ij}^{ab}\\rangle = \\hat{a}_{a}^{\\dagger}\\hat{a}_{b}^{\\dagger}\\hat{a}_j\\hat{a}_i|\\Phi_0\\rangle,\n",
    "$$"
   ]
  },
  {
   "cell_type": "markdown",
   "id": "bfbb2b1c",
   "metadata": {
    "editable": true
   },
   "source": [
    "and a general $NpNh$ state as"
   ]
  },
  {
   "cell_type": "markdown",
   "id": "f57fa1dc",
   "metadata": {
    "editable": true
   },
   "source": [
    "$$\n",
    "|\\Phi_{ijk\\dots}^{abc\\dots}\\rangle = \\hat{a}_{a}^{\\dagger}\\hat{a}_{b}^{\\dagger}\\hat{a}_{c}^{\\dagger}\\dots\\hat{a}_k\\hat{a}_j\\hat{a}_i|\\Phi_0\\rangle.\n",
    "$$"
   ]
  },
  {
   "cell_type": "markdown",
   "id": "edfc4e4c",
   "metadata": {
    "editable": true
   },
   "source": [
    "## Full Configuration Interaction Theory\n",
    "\n",
    "We can then expand our exact state function for the ground state \n",
    "as"
   ]
  },
  {
   "cell_type": "markdown",
   "id": "963e4bf3",
   "metadata": {
    "editable": true
   },
   "source": [
    "$$\n",
    "|\\Psi_0\\rangle=C_0|\\Phi_0\\rangle+\\sum_{ai}C_i^a|\\Phi_i^a\\rangle+\\sum_{abij}C_{ij}^{ab}|\\Phi_{ij}^{ab}\\rangle+\\dots\n",
    "=(C_0+\\hat{C})|\\Phi_0\\rangle,\n",
    "$$"
   ]
  },
  {
   "cell_type": "markdown",
   "id": "ba33af4a",
   "metadata": {
    "editable": true
   },
   "source": [
    "where we have introduced the so-called correlation operator"
   ]
  },
  {
   "cell_type": "markdown",
   "id": "632d12ad",
   "metadata": {
    "editable": true
   },
   "source": [
    "$$\n",
    "\\hat{C}=\\sum_{ai}C_i^a\\hat{a}_{a}^{\\dagger}\\hat{a}_i  +\\sum_{abij}C_{ij}^{ab}\\hat{a}_{a}^{\\dagger}\\hat{a}_{b}^{\\dagger}\\hat{a}_j\\hat{a}_i+\\dots\n",
    "$$"
   ]
  },
  {
   "cell_type": "markdown",
   "id": "08cff470",
   "metadata": {
    "editable": true
   },
   "source": [
    "## Intermediate normalization\n",
    "Since the normalization of $\\Psi_0$ is at our disposal and since $C_0$ is by hypothesis non-zero, we may arbitrarily set $C_0=1$ with \n",
    "corresponding proportional changes in all other coefficients. Using this so-called intermediate normalization we have"
   ]
  },
  {
   "cell_type": "markdown",
   "id": "14cd01f2",
   "metadata": {
    "editable": true
   },
   "source": [
    "$$\n",
    "\\langle \\Psi_0 | \\Phi_0 \\rangle = \\langle \\Phi_0 | \\Phi_0 \\rangle = 1,\n",
    "$$"
   ]
  },
  {
   "cell_type": "markdown",
   "id": "7ad792f5",
   "metadata": {
    "editable": true
   },
   "source": [
    "resulting in"
   ]
  },
  {
   "cell_type": "markdown",
   "id": "0b8f0d05",
   "metadata": {
    "editable": true
   },
   "source": [
    "$$\n",
    "|\\Psi_0\\rangle=(1+\\hat{C})|\\Phi_0\\rangle.\n",
    "$$"
   ]
  },
  {
   "cell_type": "markdown",
   "id": "29d893c8",
   "metadata": {
    "editable": true
   },
   "source": [
    "## Full Configuration Interaction Theory\n",
    "\n",
    "We rewrite"
   ]
  },
  {
   "cell_type": "markdown",
   "id": "f46fb37b",
   "metadata": {
    "editable": true
   },
   "source": [
    "$$\n",
    "|\\Psi_0\\rangle=C_0|\\Phi_0\\rangle+\\sum_{ai}C_i^a|\\Phi_i^a\\rangle+\\sum_{abij}C_{ij}^{ab}|\\Phi_{ij}^{ab}\\rangle+\\dots,\n",
    "$$"
   ]
  },
  {
   "cell_type": "markdown",
   "id": "09aa13c0",
   "metadata": {
    "editable": true
   },
   "source": [
    "in a more compact form as"
   ]
  },
  {
   "cell_type": "markdown",
   "id": "f3d91cdd",
   "metadata": {
    "editable": true
   },
   "source": [
    "$$\n",
    "|\\Psi_0\\rangle=\\sum_{PH}C_H^P\\Phi_H^P=\\left(\\sum_{PH}C_H^P\\hat{A}_H^P\\right)|\\Phi_0\\rangle,\n",
    "$$"
   ]
  },
  {
   "cell_type": "markdown",
   "id": "5a02a8ff",
   "metadata": {
    "editable": true
   },
   "source": [
    "where $H$ stands for $0,1,\\dots,n$ hole states and $P$ for $0,1,\\dots,n$ particle states."
   ]
  },
  {
   "cell_type": "markdown",
   "id": "e2912937",
   "metadata": {
    "editable": true
   },
   "source": [
    "## Compact expression of correlated part\n",
    "\n",
    "We have introduced the operator $\\hat{A}_H^P$ which contains an equal number of creation and annihilation operators.\n",
    "\n",
    "Our requirement of unit normalization gives"
   ]
  },
  {
   "cell_type": "markdown",
   "id": "71e3965f",
   "metadata": {
    "editable": true
   },
   "source": [
    "$$\n",
    "\\langle \\Psi_0 | \\Phi_0 \\rangle = \\sum_{PH}|C_H^P|^2= 1,\n",
    "$$"
   ]
  },
  {
   "cell_type": "markdown",
   "id": "9f59b70f",
   "metadata": {
    "editable": true
   },
   "source": [
    "and the energy can be written as"
   ]
  },
  {
   "cell_type": "markdown",
   "id": "6c61b0e9",
   "metadata": {
    "editable": true
   },
   "source": [
    "$$\n",
    "E= \\langle \\Psi_0 | \\hat{H} |\\Psi_0 \\rangle= \\sum_{PP'HH'}C_H^{*P}\\langle \\Phi_H^P | \\hat{H} |\\Phi_{H'}^{P'} \\rangle C_{H'}^{P'}.\n",
    "$$"
   ]
  },
  {
   "cell_type": "markdown",
   "id": "72ee82c1",
   "metadata": {
    "editable": true
   },
   "source": [
    "## Full Configuration Interaction Theory\n",
    "\n",
    "Normally"
   ]
  },
  {
   "cell_type": "markdown",
   "id": "e59dd588",
   "metadata": {
    "editable": true
   },
   "source": [
    "$$\n",
    "E= \\langle \\Psi_0 | \\hat{H} |\\Psi_0 \\rangle= \\sum_{PP'HH'}C_H^{*P}\\langle \\Phi_H^P | \\hat{H} |\\Phi_{H'}^{P'} \\rangle C_{H'}^{P'},\n",
    "$$"
   ]
  },
  {
   "cell_type": "markdown",
   "id": "029a8ca1",
   "metadata": {
    "editable": true
   },
   "source": [
    "is solved by diagonalization setting up the Hamiltonian matrix defined by the basis of all possible Slater determinants. A diagonalization\n",
    "<!-- to do: add text about Rayleigh-Ritz -->\n",
    "is equivalent to finding the variational minimum   of"
   ]
  },
  {
   "cell_type": "markdown",
   "id": "c232c7e2",
   "metadata": {
    "editable": true
   },
   "source": [
    "$$\n",
    "\\langle \\Psi_0 | \\hat{H} |\\Psi_0 \\rangle-\\lambda \\langle \\Psi_0 |\\Psi_0 \\rangle,\n",
    "$$"
   ]
  },
  {
   "cell_type": "markdown",
   "id": "f70045a1",
   "metadata": {
    "editable": true
   },
   "source": [
    "where $\\lambda$ is a variational multiplier to be identified with the energy of the system."
   ]
  },
  {
   "cell_type": "markdown",
   "id": "d31a7e8a",
   "metadata": {
    "editable": true
   },
   "source": [
    "## Minimization\n",
    "\n",
    "The minimization process results in"
   ]
  },
  {
   "cell_type": "markdown",
   "id": "c3c7ab2c",
   "metadata": {
    "editable": true
   },
   "source": [
    "$$\n",
    "\\delta\\left[ \\langle \\Psi_0 | \\hat{H} |\\Psi_0 \\rangle-\\lambda \\langle \\Psi_0 |\\Psi_0 \\rangle\\right]=0,\n",
    "$$"
   ]
  },
  {
   "cell_type": "markdown",
   "id": "a4ab9dd6",
   "metadata": {
    "editable": true
   },
   "source": [
    "and since the coefficients $\\delta[C_H^{*P}]$ and $\\delta[C_{H'}^{P'}]$ are complex conjugates it is necessary and sufficient to require the quantities that multiply with $\\delta[C_H^{*P}]$ to vanish.  Varying the latter coefficients we have then"
   ]
  },
  {
   "cell_type": "markdown",
   "id": "9b72b0d9",
   "metadata": {
    "editable": true
   },
   "source": [
    "$$\n",
    "\\sum_{P'H'}\\left\\{\\delta[C_H^{*P}]\\langle \\Phi_H^P | \\hat{H} |\\Phi_{H'}^{P'} \\rangle C_{H'}^{P'}-\n",
    "\\lambda( \\delta[C_H^{*P}]C_{H'}^{P'}]\\right\\} = 0.\n",
    "$$"
   ]
  },
  {
   "cell_type": "markdown",
   "id": "d4324bcb",
   "metadata": {
    "editable": true
   },
   "source": [
    "## Full Configuration Interaction Theory\n",
    "This leads to"
   ]
  },
  {
   "cell_type": "markdown",
   "id": "47b549e6",
   "metadata": {
    "editable": true
   },
   "source": [
    "$$\n",
    "\\sum_{P'H'}\\langle \\Phi_H^P | \\hat{H} |\\Phi_{H'}^{P'} \\rangle C_{H'}^{P'}-\\lambda C_H^{P}=0,\n",
    "$$"
   ]
  },
  {
   "cell_type": "markdown",
   "id": "f72ca525",
   "metadata": {
    "editable": true
   },
   "source": [
    "for all sets of $P$ and $H$.\n",
    "\n",
    "If we then multiply by the corresponding $C_H^{*P}$ and sum over $PH$ we obtain"
   ]
  },
  {
   "cell_type": "markdown",
   "id": "6ea47677",
   "metadata": {
    "editable": true
   },
   "source": [
    "$$\n",
    "\\sum_{PP'HH'}C_H^{*P}\\langle \\Phi_H^P | \\hat{H} |\\Phi_{H'}^{P'} \\rangle C_{H'}^{P'}-\\lambda\\sum_{PH}|C_H^P|^2=0,\n",
    "$$"
   ]
  },
  {
   "cell_type": "markdown",
   "id": "99bbca09",
   "metadata": {
    "editable": true
   },
   "source": [
    "leading to the identification $\\lambda = E$."
   ]
  },
  {
   "cell_type": "markdown",
   "id": "5574f782",
   "metadata": {
    "editable": true
   },
   "source": [
    "## Full Configuration Interaction Theory\n",
    "\n",
    "An alternative way to derive the last equation is to start from"
   ]
  },
  {
   "cell_type": "markdown",
   "id": "1b4c96a7",
   "metadata": {
    "editable": true
   },
   "source": [
    "$$\n",
    "(\\hat{H} -E)|\\Psi_0\\rangle = (\\hat{H} -E)\\sum_{P'H'}C_{H'}^{P'}|\\Phi_{H'}^{P'} \\rangle=0,\n",
    "$$"
   ]
  },
  {
   "cell_type": "markdown",
   "id": "b4ed8a39",
   "metadata": {
    "editable": true
   },
   "source": [
    "and if this equation is successively projected against all $\\Phi_H^P$ in the expansion of $\\Psi$, then the last equation on the previous slide\n",
    "results.   As stated previously, one solves this equation normally by diagonalization. If we are able to solve this equation exactly (that is\n",
    "numerically exactly) in a large Hilbert space (it will be truncated in terms of the number of single-particle states included in the definition\n",
    "of Slater determinants), it can then serve as a benchmark for other many-body methods which approximate the correlation operator\n",
    "$\\hat{C}$."
   ]
  },
  {
   "cell_type": "markdown",
   "id": "a9f4e517",
   "metadata": {
    "editable": true
   },
   "source": [
    "## FCI and the exponential growth\n",
    "\n",
    "Full configuration interaction theory calculations provide in principle, if we can diagonalize numerically, all states of interest. The dimensionality of the problem explodes however quickly.\n",
    "\n",
    "The total number of Slater determinants which can be built with say $N$ neutrons distributed among $n$ single particle states is"
   ]
  },
  {
   "cell_type": "markdown",
   "id": "fc2f8147",
   "metadata": {
    "editable": true
   },
   "source": [
    "$$\n",
    "\\left (\\begin{array}{c} n \\\\ N\\end{array} \\right) =\\frac{n!}{(n-N)!N!}.\n",
    "$$"
   ]
  },
  {
   "cell_type": "markdown",
   "id": "b31412c8",
   "metadata": {
    "editable": true
   },
   "source": [
    "For a model space which comprises the first for major shells only $0s$, $0p$, $1s0d$ and $1p0f$ we have $40$ single particle states for neutrons and protons.  For the eight neutrons of oxygen-16 we would then have"
   ]
  },
  {
   "cell_type": "markdown",
   "id": "404f160b",
   "metadata": {
    "editable": true
   },
   "source": [
    "$$\n",
    "\\left (\\begin{array}{c} 40 \\\\ 8\\end{array} \\right) =\\frac{40!}{(32)!8!}\\sim 10^{9},\n",
    "$$"
   ]
  },
  {
   "cell_type": "markdown",
   "id": "a3a667d9",
   "metadata": {
    "editable": true
   },
   "source": [
    "and multiplying this with the number of proton Slater determinants we end up with approximately with a dimensionality $d$ of $d\\sim 10^{18}$."
   ]
  },
  {
   "cell_type": "markdown",
   "id": "39838400",
   "metadata": {
    "editable": true
   },
   "source": [
    "## Exponential wall\n",
    "This number can be reduced if we look at specific symmetries only. However, the dimensionality explodes quickly!\n",
    "\n",
    "* For Hamiltonian matrices of dimensionalities  which are smaller than $d\\sim 10^5$, we would use so-called direct methods for diagonalizing the Hamiltonian matrix\n",
    "\n",
    "* For larger dimensionalities iterative eigenvalue solvers like Lanczos' method are used. The most efficient codes at present can handle matrices of $d\\sim 10^{10}$."
   ]
  },
  {
   "cell_type": "markdown",
   "id": "06291a6e",
   "metadata": {
    "editable": true
   },
   "source": [
    "## A non-practical way of solving the eigenvalue problem\n",
    "\n",
    "To see this, we look at the contributions arising from"
   ]
  },
  {
   "cell_type": "markdown",
   "id": "c0b3d198",
   "metadata": {
    "editable": true
   },
   "source": [
    "$$\n",
    "\\langle \\Phi_H^P | = \\langle \\Phi_0|,\n",
    "$$"
   ]
  },
  {
   "cell_type": "markdown",
   "id": "6bf0c1a8",
   "metadata": {
    "editable": true
   },
   "source": [
    "that is we multiply with $\\langle \\Phi_0 |$\n",
    "from the left in"
   ]
  },
  {
   "cell_type": "markdown",
   "id": "60dfaca4",
   "metadata": {
    "editable": true
   },
   "source": [
    "$$\n",
    "(\\hat{H} -E)\\sum_{P'H'}C_{H'}^{P'}|\\Phi_{H'}^{P'} \\rangle=0.\n",
    "$$"
   ]
  },
  {
   "cell_type": "markdown",
   "id": "3e453d6f",
   "metadata": {
    "editable": true
   },
   "source": [
    "## Using the Condon-Slater rule\n",
    "If we assume that we have a two-body operator at most, using the Condon-Slater rule gives then an equation for the \n",
    "correlation energy in terms of $C_i^a$ and $C_{ij}^{ab}$ only.  We get then"
   ]
  },
  {
   "cell_type": "markdown",
   "id": "e43437e9",
   "metadata": {
    "editable": true
   },
   "source": [
    "$$\n",
    "\\langle \\Phi_0 | \\hat{H} -E| \\Phi_0\\rangle + \\sum_{ai}\\langle \\Phi_0 | \\hat{H} -E|\\Phi_{i}^{a} \\rangle C_{i}^{a}+\n",
    "\\sum_{abij}\\langle \\Phi_0 | \\hat{H} -E|\\Phi_{ij}^{ab} \\rangle C_{ij}^{ab}=0,\n",
    "$$"
   ]
  },
  {
   "cell_type": "markdown",
   "id": "a8dfb42d",
   "metadata": {
    "editable": true
   },
   "source": [
    "or"
   ]
  },
  {
   "cell_type": "markdown",
   "id": "47e30180",
   "metadata": {
    "editable": true
   },
   "source": [
    "$$\n",
    "E-E_0 =\\Delta E=\\sum_{ai}\\langle \\Phi_0 | \\hat{H}|\\Phi_{i}^{a} \\rangle C_{i}^{a}+\n",
    "\\sum_{abij}\\langle \\Phi_0 | \\hat{H}|\\Phi_{ij}^{ab} \\rangle C_{ij}^{ab},\n",
    "$$"
   ]
  },
  {
   "cell_type": "markdown",
   "id": "af4a646d",
   "metadata": {
    "editable": true
   },
   "source": [
    "where the energy $E_0$ is the reference energy and $\\Delta E$ defines the so-called correlation energy.\n",
    "The single-particle basis functions  could be the results of a Hartree-Fock calculation or just the eigenstates of the non-interacting part of the Hamiltonian."
   ]
  },
  {
   "cell_type": "markdown",
   "id": "7bf9ae6d",
   "metadata": {
    "editable": true
   },
   "source": [
    "## A non-practical way of solving the eigenvalue problem\n",
    "\n",
    "To see this, we look at the contributions arising from"
   ]
  },
  {
   "cell_type": "markdown",
   "id": "63e04d61",
   "metadata": {
    "editable": true
   },
   "source": [
    "$$\n",
    "\\langle \\Phi_H^P | = \\langle \\Phi_0|,\n",
    "$$"
   ]
  },
  {
   "cell_type": "markdown",
   "id": "c21a8530",
   "metadata": {
    "editable": true
   },
   "source": [
    "that is we multiply with $\\langle \\Phi_0 |$\n",
    "from the left in"
   ]
  },
  {
   "cell_type": "markdown",
   "id": "050ec1c9",
   "metadata": {
    "editable": true
   },
   "source": [
    "$$\n",
    "(\\hat{H} -E)\\sum_{P'H'}C_{H'}^{P'}|\\Phi_{H'}^{P'} \\rangle=0.\n",
    "$$"
   ]
  },
  {
   "cell_type": "markdown",
   "id": "ad488bd4",
   "metadata": {
    "editable": true
   },
   "source": [
    "## A non-practical way of solving the eigenvalue problem\n",
    "\n",
    "If we assume that we have a two-body operator at most, Slater's rule gives then an equation for the \n",
    "correlation energy in terms of $C_i^a$ and $C_{ij}^{ab}$ only.  We get then"
   ]
  },
  {
   "cell_type": "markdown",
   "id": "3ffe101d",
   "metadata": {
    "editable": true
   },
   "source": [
    "$$\n",
    "\\langle \\Phi_0 | \\hat{H} -E| \\Phi_0\\rangle + \\sum_{ai}\\langle \\Phi_0 | \\hat{H} -E|\\Phi_{i}^{a} \\rangle C_{i}^{a}+\n",
    "\\sum_{abij}\\langle \\Phi_0 | \\hat{H} -E|\\Phi_{ij}^{ab} \\rangle C_{ij}^{ab}=0.\n",
    "$$"
   ]
  },
  {
   "cell_type": "markdown",
   "id": "40121b61",
   "metadata": {
    "editable": true
   },
   "source": [
    "## Slight rewrite\n",
    "\n",
    "Which we can rewrite"
   ]
  },
  {
   "cell_type": "markdown",
   "id": "12bf26aa",
   "metadata": {
    "editable": true
   },
   "source": [
    "$$\n",
    "E-E_0 =\\Delta E=\\sum_{ai}\\langle \\Phi_0 | \\hat{H}|\\Phi_{i}^{a} \\rangle C_{i}^{a}+\n",
    "\\sum_{abij}\\langle \\Phi_0 | \\hat{H}|\\Phi_{ij}^{ab} \\rangle C_{ij}^{ab},\n",
    "$$"
   ]
  },
  {
   "cell_type": "markdown",
   "id": "77c0ea8d",
   "metadata": {
    "editable": true
   },
   "source": [
    "where the energy $E_0$ is the reference energy and $\\Delta E$ defines the so-called correlation energy.\n",
    "The single-particle basis functions  could be the results of a Hartree-Fock calculation or just the eigenstates of the non-interacting part of the Hamiltonian."
   ]
  },
  {
   "cell_type": "markdown",
   "id": "e051eeaf",
   "metadata": {
    "editable": true
   },
   "source": [
    "## Rewriting the FCI equation\n",
    "In our discussions  of the  Hartree-Fock method planned for week 39, \n",
    "we are going to compute the elements $\\langle \\Phi_0 | \\hat{H}|\\Phi_{i}^{a}\\rangle $ and $\\langle \\Phi_0 | \\hat{H}|\\Phi_{ij}^{ab}\\rangle$.  If we are using a Hartree-Fock basis, then these quantities result in\n",
    "$\\langle \\Phi_0 | \\hat{H}|\\Phi_{i}^{a}\\rangle=0$ and we are left with a *correlation energy* given by"
   ]
  },
  {
   "cell_type": "markdown",
   "id": "b1792e28",
   "metadata": {
    "editable": true
   },
   "source": [
    "$$\n",
    "E-E_0 =\\Delta E^{HF}=\\sum_{abij}\\langle \\Phi_0 | \\hat{H}|\\Phi_{ij}^{ab} \\rangle C_{ij}^{ab}.\n",
    "$$"
   ]
  },
  {
   "cell_type": "markdown",
   "id": "64c5431e",
   "metadata": {
    "editable": true
   },
   "source": [
    "## Rewriting the FCI equation\n",
    "Inserting the various matrix elements we can rewrite the previous equation as"
   ]
  },
  {
   "cell_type": "markdown",
   "id": "531ccab1",
   "metadata": {
    "editable": true
   },
   "source": [
    "$$\n",
    "\\Delta E=\\sum_{ai}\\langle i| \\hat{f}|a \\rangle C_{i}^{a}+\n",
    "\\sum_{abij}\\langle ij | \\hat{v}| ab \\rangle C_{ij}^{ab}.\n",
    "$$"
   ]
  },
  {
   "cell_type": "markdown",
   "id": "4797f172",
   "metadata": {
    "editable": true
   },
   "source": [
    "This equation determines the correlation energy but not the coefficients $C$."
   ]
  },
  {
   "cell_type": "markdown",
   "id": "54fcd31d",
   "metadata": {
    "editable": true
   },
   "source": [
    "## Rewriting the FCI equation, does not stop here\n",
    "\n",
    "We need more equations. Our next step is to set up"
   ]
  },
  {
   "cell_type": "markdown",
   "id": "d029644e",
   "metadata": {
    "editable": true
   },
   "source": [
    "$$\n",
    "\\langle \\Phi_i^a | \\hat{H} -E| \\Phi_0\\rangle + \\sum_{bj}\\langle \\Phi_i^a | \\hat{H} -E|\\Phi_{j}^{b} \\rangle C_{j}^{b}+\n",
    "\\sum_{bcjk}\\langle \\Phi_i^a | \\hat{H} -E|\\Phi_{jk}^{bc} \\rangle C_{jk}^{bc}+\n",
    "\\sum_{bcdjkl}\\langle \\Phi_i^a | \\hat{H} -E|\\Phi_{jkl}^{bcd} \\rangle C_{jkl}^{bcd}=0.\n",
    "$$"
   ]
  },
  {
   "cell_type": "markdown",
   "id": "22814db1",
   "metadata": {
    "editable": true
   },
   "source": [
    "## Finding the coefficients\n",
    "This equation will allow us to find an expression for the coefficents $C_i^a$ since we can rewrite this equation as"
   ]
  },
  {
   "cell_type": "markdown",
   "id": "24a3ab8d",
   "metadata": {
    "editable": true
   },
   "source": [
    "$$\n",
    "\\langle i | \\hat{f}| a\\rangle +\\langle \\Phi_i^a | \\hat{H}|\\Phi_{i}^{a} \\rangle C_{i}^{a}+ \\sum_{bj\\ne ai}\\langle \\Phi_i^a | \\hat{H}|\\Phi_{j}^{b} \\rangle C_{j}^{b}+\n",
    "\\sum_{bcjk}\\langle \\Phi_i^a | \\hat{H}|\\Phi_{jk}^{bc} \\rangle C_{jk}^{bc}+\n",
    "\\sum_{bcdjkl}\\langle \\Phi_i^a | \\hat{H}|\\Phi_{jkl}^{bcd} \\rangle C_{jkl}^{bcd}=EC_i^a.\n",
    "$$"
   ]
  },
  {
   "cell_type": "markdown",
   "id": "09b105e2",
   "metadata": {
    "editable": true
   },
   "source": [
    "## Rewriting the FCI equation\n",
    "We see that on the right-hand side we have the energy $E$. This leads to a non-linear equation in the unknown coefficients. \n",
    "These equations are normally solved iteratively ( that is we can start with a guess for the coefficients $C_i^a$). A common choice is to use perturbation theory for the first guess, setting thereby"
   ]
  },
  {
   "cell_type": "markdown",
   "id": "2f75b33a",
   "metadata": {
    "editable": true
   },
   "source": [
    "$$\n",
    "C_{i}^{a}=\\frac{\\langle i | \\hat{f}| a\\rangle}{\\epsilon_i-\\epsilon_a}.\n",
    "$$"
   ]
  },
  {
   "cell_type": "markdown",
   "id": "4c9f4523",
   "metadata": {
    "editable": true
   },
   "source": [
    "## Rewriting the FCI equation, more to add\n",
    "The observant reader will however see that we need an equation for $C_{jk}^{bc}$ and $C_{jkl}^{bcd}$ as well.\n",
    "To find equations for these coefficients we need then to continue our multiplications from the left with the various\n",
    "$\\Phi_{H}^P$ terms. \n",
    "\n",
    "For $C_{jk}^{bc}$ we need then"
   ]
  },
  {
   "cell_type": "markdown",
   "id": "eff31a59",
   "metadata": {
    "editable": true
   },
   "source": [
    "$$\n",
    "\\langle \\Phi_{ij}^{ab} | \\hat{H} -E| \\Phi_0\\rangle + \\sum_{kc}\\langle \\Phi_{ij}^{ab} | \\hat{H} -E|\\Phi_{k}^{c} \\rangle C_{k}^{c}+\n",
    "$$"
   ]
  },
  {
   "cell_type": "markdown",
   "id": "5f08f40d",
   "metadata": {
    "editable": true
   },
   "source": [
    "$$\n",
    "\\sum_{cdkl}\\langle \\Phi_{ij}^{ab} | \\hat{H} -E|\\Phi_{kl}^{cd} \\rangle C_{kl}^{cd}+\\sum_{cdeklm}\\langle \\Phi_{ij}^{ab} | \\hat{H} -E|\\Phi_{klm}^{cde} \\rangle C_{klm}^{cde}+\\sum_{cdefklmn}\\langle \\Phi_{ij}^{ab} | \\hat{H} -E|\\Phi_{klmn}^{cdef} \\rangle C_{klmn}^{cdef}=0,\n",
    "$$"
   ]
  },
  {
   "cell_type": "markdown",
   "id": "f5c88600",
   "metadata": {
    "editable": true
   },
   "source": [
    "and we can isolate the coefficients $C_{kl}^{cd}$ in a similar way as we did for the coefficients $C_{i}^{a}$."
   ]
  },
  {
   "cell_type": "markdown",
   "id": "6d51ff0a",
   "metadata": {
    "editable": true
   },
   "source": [
    "## Rewriting the FCI equation, more to add\n",
    "A standard choice for the first iteration is to set"
   ]
  },
  {
   "cell_type": "markdown",
   "id": "54492d5d",
   "metadata": {
    "editable": true
   },
   "source": [
    "$$\n",
    "C_{ij}^{ab} =\\frac{\\langle ij \\vert \\hat{v} \\vert ab \\rangle}{\\epsilon_i+\\epsilon_j-\\epsilon_a-\\epsilon_b}.\n",
    "$$"
   ]
  },
  {
   "cell_type": "markdown",
   "id": "8e0f31af",
   "metadata": {
    "editable": true
   },
   "source": [
    "At the end we can rewrite our solution of the Schroedinger equation in terms of $n$ coupled equations for the coefficients $C_H^P$.\n",
    "This is a very cumbersome way of solving the equation. However, by using this iterative scheme we can illustrate how we can compute the\n",
    "various terms in the wave operator or correlation operator $\\hat{C}$. We will later identify the calculation of the various terms $C_H^P$\n",
    "as parts of different many-body approximations to full CI. In particular, we can  relate this non-linear scheme with Coupled Cluster theory and\n",
    "many-body perturbation theory."
   ]
  },
  {
   "cell_type": "markdown",
   "id": "d427eedb",
   "metadata": {
    "editable": true
   },
   "source": [
    "## Summarizing FCI and bringing in approximative methods\n",
    "\n",
    "If we can diagonalize large matrices, FCI is the method of choice since:\n",
    "* It gives all eigenvalues, ground state and excited states\n",
    "\n",
    "* The eigenvectors are obtained directly from the coefficients $C_H^P$ which result from the diagonalization\n",
    "\n",
    "* We can compute easily expectation values of other operators, as well as transition probabilities\n",
    "\n",
    "* Correlations are easy to understand in terms of contributions to a given operator beyond the Hartree-Fock contribution."
   ]
  },
  {
   "cell_type": "markdown",
   "id": "0cc7c690",
   "metadata": {
    "editable": true
   },
   "source": [
    "## Definition of the correlation energy\n",
    "\n",
    "The correlation energy is defined as, with a two-body Hamiltonian,"
   ]
  },
  {
   "cell_type": "markdown",
   "id": "433fef12",
   "metadata": {
    "editable": true
   },
   "source": [
    "$$\n",
    "\\Delta E=\\sum_{ai}\\langle i| \\hat{f}|a \\rangle C_{i}^{a}+\n",
    "\\sum_{abij}\\langle ij | \\hat{v}| ab \\rangle C_{ij}^{ab}.\n",
    "$$"
   ]
  },
  {
   "cell_type": "markdown",
   "id": "bfbb96f4",
   "metadata": {
    "editable": true
   },
   "source": [
    "The coefficients $C$ result from the solution of the eigenvalue problem."
   ]
  },
  {
   "cell_type": "markdown",
   "id": "eab1201f",
   "metadata": {
    "editable": true
   },
   "source": [
    "## Ground state energy\n",
    "The energy of say the ground state is then"
   ]
  },
  {
   "cell_type": "markdown",
   "id": "4fe8ed92",
   "metadata": {
    "editable": true
   },
   "source": [
    "$$\n",
    "E=E_{ref}+\\Delta E,\n",
    "$$"
   ]
  },
  {
   "cell_type": "markdown",
   "id": "a9722f54",
   "metadata": {
    "editable": true
   },
   "source": [
    "where the so-called reference energy is the energy we obtain from a Hartree-Fock calculation, that is"
   ]
  },
  {
   "cell_type": "markdown",
   "id": "a5921c94",
   "metadata": {
    "editable": true
   },
   "source": [
    "$$\n",
    "E_{ref}=\\langle \\Phi_0 \\vert \\hat{H} \\vert \\Phi_0 \\rangle.\n",
    "$$"
   ]
  },
  {
   "cell_type": "markdown",
   "id": "215c4264",
   "metadata": {
    "editable": true
   },
   "source": [
    "## Why Hartree-Fock?\n",
    "\n",
    "Hartree-Fock (HF) theory is an algorithm for finding an approximative expression for the ground state of a given Hamiltonian. The basic ingredients are\n",
    "  * Define a single-particle basis $\\{\\psi_{\\alpha}\\}$ so that"
   ]
  },
  {
   "cell_type": "markdown",
   "id": "f8be6930",
   "metadata": {
    "editable": true
   },
   "source": [
    "$$\n",
    "\\hat{h}^{\\mathrm{HF}}\\psi_{\\alpha} = \\varepsilon_{\\alpha}\\psi_{\\alpha}\n",
    "$$"
   ]
  },
  {
   "cell_type": "markdown",
   "id": "f9f235ad",
   "metadata": {
    "editable": true
   },
   "source": [
    "with the Hartree-Fock Hamiltonian defined as"
   ]
  },
  {
   "cell_type": "markdown",
   "id": "ee88d703",
   "metadata": {
    "editable": true
   },
   "source": [
    "$$\n",
    "\\hat{h}^{\\mathrm{HF}}=\\hat{t}+\\hat{u}_{\\mathrm{ext}}+\\hat{u}^{\\mathrm{HF}}\n",
    "$$"
   ]
  },
  {
   "cell_type": "markdown",
   "id": "f4beae31",
   "metadata": {
    "editable": true
   },
   "source": [
    "## Why Hartree-Fock?\n",
    "\n",
    "1. The term  $\\hat{u}^{\\mathrm{HF}}$ is a single-particle potential to be determined by the HF algorithm.\n",
    "\n",
    "2. The HF algorithm means to choose $\\hat{u}^{\\mathrm{HF}}$ in order to have"
   ]
  },
  {
   "cell_type": "markdown",
   "id": "4106e748",
   "metadata": {
    "editable": true
   },
   "source": [
    "$$\n",
    "\\langle \\hat{H} \\rangle = E^{\\mathrm{HF}}= \\langle \\Phi_0 | \\hat{H}|\\Phi_0 \\rangle\n",
    "$$"
   ]
  },
  {
   "cell_type": "markdown",
   "id": "85785123",
   "metadata": {
    "editable": true
   },
   "source": [
    "that is to find a local minimum with a Slater determinant $\\Phi_0$ being the ansatz for the ground state. \n",
    "1. The variational principle ensures that $E^{\\mathrm{HF}} \\ge E_0$, with $E_0$ the exact ground state energy."
   ]
  },
  {
   "cell_type": "markdown",
   "id": "bfa6a2d5",
   "metadata": {
    "editable": true
   },
   "source": [
    "## Why Hartree-Fock theory\n",
    "\n",
    "We will show that the Hartree-Fock Hamiltonian $\\hat{h}^{\\mathrm{HF}}$ equals our definition of the operator $\\hat{f}$ discussed in connection with the new definition of the normal-ordered Hamiltonian (see later lectures), that is we have, for a specific matrix element"
   ]
  },
  {
   "cell_type": "markdown",
   "id": "a00505fc",
   "metadata": {
    "editable": true
   },
   "source": [
    "$$\n",
    "\\langle p |\\hat{h}^{\\mathrm{HF}}| q \\rangle =\\langle p |\\hat{f}| q \\rangle=\\langle p|\\hat{t}+\\hat{u}_{\\mathrm{ext}}|q \\rangle +\\sum_{i\\le F} \\langle pi | \\hat{V} | qi\\rangle_{AS},\n",
    "$$"
   ]
  },
  {
   "cell_type": "markdown",
   "id": "66806db5",
   "metadata": {
    "editable": true
   },
   "source": [
    "meaning that"
   ]
  },
  {
   "cell_type": "markdown",
   "id": "dadd4d2c",
   "metadata": {
    "editable": true
   },
   "source": [
    "$$\n",
    "\\langle p|\\hat{u}^{\\mathrm{HF}}|q\\rangle = \\sum_{i\\le F} \\langle pi | \\hat{V} | qi\\rangle_{AS}.\n",
    "$$"
   ]
  },
  {
   "cell_type": "markdown",
   "id": "1ad8b3cf",
   "metadata": {
    "editable": true
   },
   "source": [
    "## Why Hartree-Fock theory\n",
    "\n",
    "The so-called Hartree-Fock potential $\\hat{u}^{\\mathrm{HF}}$ brings an\n",
    "explicit medium dependence due to the summation over all\n",
    "single-particle states below the Fermi level $F$. It brings also in an\n",
    "explicit dependence on the two-body interaction (in nuclear physics we\n",
    "can also have complicated three- or higher-body forces). The two-body\n",
    "interaction, with its contribution from the other bystanding fermions,\n",
    "creates an effective mean field in which a given fermion moves, in\n",
    "addition to the external potential $\\hat{u}_{\\mathrm{ext}}$ which\n",
    "confines the motion of the fermion. For systems like nuclei, there is\n",
    "no external confining potential. Nuclei are examples of self-bound\n",
    "systems, where the binding arises due to the intrinsic nature of the\n",
    "strong force. For nuclear systems thus, there would be no external\n",
    "one-body potential in the Hartree-Fock Hamiltonian."
   ]
  },
  {
   "cell_type": "markdown",
   "id": "4a3d662d",
   "metadata": {
    "editable": true
   },
   "source": [
    "## Variational Calculus and Lagrangian Multipliers\n",
    "\n",
    "The calculus of variations involves \n",
    "problems where the quantity to be minimized or maximized is an integral. \n",
    "\n",
    "In the general case we have an integral of the type"
   ]
  },
  {
   "cell_type": "markdown",
   "id": "8ed1357a",
   "metadata": {
    "editable": true
   },
   "source": [
    "$$\n",
    "E[\\Phi]= \\int_a^b f(\\Phi(x),\\frac{\\partial \\Phi}{\\partial x},x)dx,\n",
    "$$"
   ]
  },
  {
   "cell_type": "markdown",
   "id": "08a72d79",
   "metadata": {
    "editable": true
   },
   "source": [
    "where $E$ is the quantity which is sought minimized or maximized."
   ]
  },
  {
   "cell_type": "markdown",
   "id": "dd93fad6",
   "metadata": {
    "editable": true
   },
   "source": [
    "## Variational Calculus and Lagrangian Multipliers\n",
    "\n",
    "The problem is that although $f$ is a function of the variables\n",
    "$\\Phi$, $\\partial \\Phi/\\partial x$ and $x$, the exact dependence of\n",
    "$\\Phi$ on $x$ is not known.  This means again that even though the\n",
    "integral has fixed limits $a$ and $b$, the path of integration is not\n",
    "known. In our case the unknown quantities are the single-particle wave\n",
    "functions and we wish to choose an integration path which makes the\n",
    "functional $E[\\Phi]$ stationary. This means that we want to find\n",
    "minima, or maxima or saddle points. In physics we search normally for\n",
    "minima.  Our task is therefore to find the minimum of $E[\\Phi]$ so\n",
    "that its variation $\\delta E$ is zero subject to specific\n",
    "constraints. In our case the constraints appear as the integral which\n",
    "expresses the orthogonality of the single-particle wave functions.\n",
    "The constraints can be treated via the technique of Lagrangian\n",
    "multipliers"
   ]
  },
  {
   "cell_type": "markdown",
   "id": "96093027",
   "metadata": {
    "editable": true
   },
   "source": [
    "## Variational Calculus and Lagrangian Multipliers\n",
    "\n",
    "Let us specialize to the expectation value of the energy for one particle in three-dimensions.\n",
    "This expectation value reads"
   ]
  },
  {
   "cell_type": "markdown",
   "id": "8d629ffd",
   "metadata": {
    "editable": true
   },
   "source": [
    "$$\n",
    "E=\\int dxdydz \\psi^*(x,y,z) \\hat{H} \\psi(x,y,z),\n",
    "$$"
   ]
  },
  {
   "cell_type": "markdown",
   "id": "56be714a",
   "metadata": {
    "editable": true
   },
   "source": [
    "with the constraint"
   ]
  },
  {
   "cell_type": "markdown",
   "id": "8a686e02",
   "metadata": {
    "editable": true
   },
   "source": [
    "$$\n",
    "\\int dxdydz \\psi^*(x,y,z) \\psi(x,y,z)=1,\n",
    "$$"
   ]
  },
  {
   "cell_type": "markdown",
   "id": "db47c3cb",
   "metadata": {
    "editable": true
   },
   "source": [
    "and a Hamiltonian"
   ]
  },
  {
   "cell_type": "markdown",
   "id": "ce3698f1",
   "metadata": {
    "editable": true
   },
   "source": [
    "$$\n",
    "\\hat{H}=-\\frac{1}{2}\\nabla^2+V(x,y,z).\n",
    "$$"
   ]
  },
  {
   "cell_type": "markdown",
   "id": "ccc93810",
   "metadata": {
    "editable": true
   },
   "source": [
    "## Variational Calculus and Lagrangian Multipliers\n",
    "\n",
    "We will, for the sake of notational convenience,  skip the variables $x,y,z$ below, and write for example $V(x,y,z)=V$.\n",
    "\n",
    "The integral involving the kinetic energy can be written as, with the function $\\psi$ vanishing\n",
    "strongly for large values of $x,y,z$ (given here by the limits $a$ and $b$),"
   ]
  },
  {
   "cell_type": "markdown",
   "id": "852c8513",
   "metadata": {
    "editable": true
   },
   "source": [
    "$$\n",
    "\\int_a^b dxdydz \\psi^* \\left(-\\frac{1}{2}\\nabla^2\\right) \\psi dxdydz = \\psi^*\\nabla\\psi|_a^b+\\int_a^b dxdydz\\frac{1}{2}\\nabla\\psi^*\\nabla\\psi.\n",
    "$$"
   ]
  },
  {
   "cell_type": "markdown",
   "id": "66cb5ffa",
   "metadata": {
    "editable": true
   },
   "source": [
    "We will drop the limits $a$ and $b$ in the remaining discussion. \n",
    "Inserting this expression into the expectation value for the energy and taking the variational minimum  we obtain"
   ]
  },
  {
   "cell_type": "markdown",
   "id": "7f88894c",
   "metadata": {
    "editable": true
   },
   "source": [
    "$$\n",
    "\\delta E = \\delta \\left\\{\\int dxdydz\\left( \\frac{1}{2}\\nabla\\psi^*\\nabla\\psi+V\\psi^*\\psi\\right)\\right\\} = 0.\n",
    "$$"
   ]
  },
  {
   "cell_type": "markdown",
   "id": "3e33e580",
   "metadata": {
    "editable": true
   },
   "source": [
    "## Variational Calculus and Lagrangian Multipliers\n",
    "\n",
    "The constraint appears in integral form as"
   ]
  },
  {
   "cell_type": "markdown",
   "id": "cd4a14e4",
   "metadata": {
    "editable": true
   },
   "source": [
    "$$\n",
    "\\int dxdydz \\psi^* \\psi=\\mathrm{constant},\n",
    "$$"
   ]
  },
  {
   "cell_type": "markdown",
   "id": "086d06f2",
   "metadata": {
    "editable": true
   },
   "source": [
    "and multiplying with a Lagrangian multiplier $\\lambda$ and taking the variational minimum we obtain the final variational equation"
   ]
  },
  {
   "cell_type": "markdown",
   "id": "e01dfc5a",
   "metadata": {
    "editable": true
   },
   "source": [
    "$$\n",
    "\\delta \\left\\{\\int dxdydz\\left( \\frac{1}{2}\\nabla\\psi^*\\nabla\\psi+V\\psi^*\\psi-\\lambda\\psi^*\\psi\\right)\\right\\} = 0.\n",
    "$$"
   ]
  },
  {
   "cell_type": "markdown",
   "id": "438f5509",
   "metadata": {
    "editable": true
   },
   "source": [
    "## Variational Calculus and Lagrangian Multipliers\n",
    "\n",
    "We introduce the function  $f$"
   ]
  },
  {
   "cell_type": "markdown",
   "id": "042c12fe",
   "metadata": {
    "editable": true
   },
   "source": [
    "$$\n",
    "f =  \\frac{1}{2}\\nabla\\psi^*\\nabla\\psi+V\\psi^*\\psi-\\lambda\\psi^*\\psi=\n",
    "\\frac{1}{2}(\\psi^*_x\\psi_x+\\psi^*_y\\psi_y+\\psi^*_z\\psi_z)+V\\psi^*\\psi-\\lambda\\psi^*\\psi,\n",
    "$$"
   ]
  },
  {
   "cell_type": "markdown",
   "id": "78955e25",
   "metadata": {
    "editable": true
   },
   "source": [
    "where we have skipped the dependence on $x,y,z$ and introduced the shorthand $\\psi_x$, $\\psi_y$ and $\\psi_z$  for the various derivatives.\n",
    "\n",
    "For $\\psi^*$ the Euler-Lagrange  equations yield"
   ]
  },
  {
   "cell_type": "markdown",
   "id": "951d098b",
   "metadata": {
    "editable": true
   },
   "source": [
    "$$\n",
    "\\frac{\\partial f}{\\partial \\psi^*}- \\frac{\\partial }{\\partial x}\\frac{\\partial f}{\\partial \\psi^*_x}-\\frac{\\partial }{\\partial y}\\frac{\\partial f}{\\partial \\psi^*_y}-\\frac{\\partial }{\\partial z}\\frac{\\partial f}{\\partial \\psi^*_z}=0,\n",
    "$$"
   ]
  },
  {
   "cell_type": "markdown",
   "id": "83c0ec6a",
   "metadata": {
    "editable": true
   },
   "source": [
    "which results in"
   ]
  },
  {
   "cell_type": "markdown",
   "id": "2c90404e",
   "metadata": {
    "editable": true
   },
   "source": [
    "$$\n",
    "-\\frac{1}{2}(\\psi_{xx}+\\psi_{yy}+\\psi_{zz})+V\\psi=\\lambda \\psi.\n",
    "$$"
   ]
  },
  {
   "cell_type": "markdown",
   "id": "755b57f6",
   "metadata": {
    "editable": true
   },
   "source": [
    "## Variational Calculus and Lagrangian Multipliers\n",
    "\n",
    "We can then identify the  Lagrangian multiplier as the energy of the system. The last equation is \n",
    "nothing but the standard \n",
    "Schroedinger equation and the variational  approach discussed here provides \n",
    "a powerful method for obtaining approximate solutions of the wave function."
   ]
  },
  {
   "cell_type": "markdown",
   "id": "1c723b98",
   "metadata": {
    "editable": true
   },
   "source": [
    "## Derivation of Hartree-Fock equations in coordinate space\n",
    "\n",
    "Let us denote the ground state energy by $E_0$. According to the\n",
    "variational principle we have"
   ]
  },
  {
   "cell_type": "markdown",
   "id": "4a12d9d1",
   "metadata": {
    "editable": true
   },
   "source": [
    "$$\n",
    "E_0 \\le E[\\Phi] = \\int \\Phi^*\\hat{H}\\Phi d\\mathbf{\\tau}\n",
    "$$"
   ]
  },
  {
   "cell_type": "markdown",
   "id": "51bbac21",
   "metadata": {
    "editable": true
   },
   "source": [
    "where $\\Phi$ is a trial function which we assume to be normalized"
   ]
  },
  {
   "cell_type": "markdown",
   "id": "04cd1f18",
   "metadata": {
    "editable": true
   },
   "source": [
    "$$\n",
    "\\int \\Phi^*\\Phi d\\mathbf{\\tau} = 1,\n",
    "$$"
   ]
  },
  {
   "cell_type": "markdown",
   "id": "2115e08b",
   "metadata": {
    "editable": true
   },
   "source": [
    "where we have used the shorthand $d\\mathbf{\\tau}=dx_1dx_2\\dots dx_N$."
   ]
  },
  {
   "cell_type": "markdown",
   "id": "5bedd7ee",
   "metadata": {
    "editable": true
   },
   "source": [
    "## Derivation of Hartree-Fock equations in coordinate space\n",
    "\n",
    "In the Hartree-Fock method the trial function is a Slater\n",
    "determinant which can be rewritten as"
   ]
  },
  {
   "cell_type": "markdown",
   "id": "73a37ebc",
   "metadata": {
    "editable": true
   },
   "source": [
    "$$\n",
    "\\Psi(x_1,x_2,\\dots,x_N,\\alpha,\\beta,\\dots,\\nu) = \\frac{1}{\\sqrt{N!}}\\sum_{P} (-)^PP\\psi_{\\alpha}(x_1)\n",
    "    \\psi_{\\beta}(x_2)\\dots\\psi_{\\nu}(x_N)=\\sqrt{N!}\\hat{A}\\Phi_H,\n",
    "$$"
   ]
  },
  {
   "cell_type": "markdown",
   "id": "500882d6",
   "metadata": {
    "editable": true
   },
   "source": [
    "where we have introduced the anti-symmetrization operator $\\hat{A}$ defined by the \n",
    "summation over all possible permutations *p* of two fermions."
   ]
  },
  {
   "cell_type": "markdown",
   "id": "f4abfc46",
   "metadata": {
    "editable": true
   },
   "source": [
    "## Derivation of Hartree-Fock equations in coordinate space\n",
    "\n",
    "It is defined as"
   ]
  },
  {
   "cell_type": "markdown",
   "id": "bd4e08dc",
   "metadata": {
    "editable": true
   },
   "source": [
    "$$\n",
    "\\hat{A} = \\frac{1}{N!}\\sum_{p} (-)^p\\hat{P},\n",
    "$$"
   ]
  },
  {
   "cell_type": "markdown",
   "id": "a66ed98b",
   "metadata": {
    "editable": true
   },
   "source": [
    "with the the Hartree-function given by the simple product of all possible single-particle function"
   ]
  },
  {
   "cell_type": "markdown",
   "id": "d39fa218",
   "metadata": {
    "editable": true
   },
   "source": [
    "$$\n",
    "\\Phi_H(x_1,x_2,\\dots,x_N,\\alpha,\\beta,\\dots,\\nu) =\n",
    "  \\psi_{\\alpha}(x_1)\n",
    "    \\psi_{\\beta}(x_2)\\dots\\psi_{\\nu}(x_N).\n",
    "$$"
   ]
  },
  {
   "cell_type": "markdown",
   "id": "b67eba09",
   "metadata": {
    "editable": true
   },
   "source": [
    "## Derivation of Hartree-Fock equations in coordinate space\n",
    "\n",
    "Our functional is written as"
   ]
  },
  {
   "cell_type": "markdown",
   "id": "ff0345af",
   "metadata": {
    "editable": true
   },
   "source": [
    "$$\n",
    "E[\\Phi] = \\sum_{\\mu=1}^N \\int \\psi_{\\mu}^*(x_i)\\hat{h}_0(x_i)\\psi_{\\mu}(x_i) dx_i \n",
    "  + \\frac{1}{2}\\sum_{\\mu=1}^N\\sum_{\\nu=1}^N\n",
    "   \\left[ \\int \\psi_{\\mu}^*(x_i)\\psi_{\\nu}^*(x_j)\\hat{v}(r_{ij})\\psi_{\\mu}(x_i)\\psi_{\\nu}(x_j)dx_idx_j- \\int \\psi_{\\mu}^*(x_i)\\psi_{\\nu}^*(x_j)\n",
    " \\hat{v}(r_{ij})\\psi_{\\nu}(x_i)\\psi_{\\mu}(x_j)dx_idx_j\\right]\n",
    "$$"
   ]
  },
  {
   "cell_type": "markdown",
   "id": "394b30db",
   "metadata": {
    "editable": true
   },
   "source": [
    "The more compact version reads"
   ]
  },
  {
   "cell_type": "markdown",
   "id": "982d01ab",
   "metadata": {
    "editable": true
   },
   "source": [
    "$$\n",
    "E[\\Phi] \n",
    "  = \\sum_{\\mu}^N \\langle \\mu | \\hat{h}_0 | \\mu\\rangle+ \\frac{1}{2}\\sum_{\\mu\\nu}^N\\left[\\langle \\mu\\nu |\\hat{v}|\\mu\\nu\\rangle-\\langle \\nu\\mu |\\hat{v}|\\mu\\nu\\rangle\\right].\n",
    "$$"
   ]
  },
  {
   "cell_type": "markdown",
   "id": "5d8eeedb",
   "metadata": {
    "editable": true
   },
   "source": [
    "## Derivation of Hartree-Fock equations in coordinate space\n",
    "\n",
    "Since the interaction is invariant under the interchange of two particles it means for example that we have"
   ]
  },
  {
   "cell_type": "markdown",
   "id": "33a0beae",
   "metadata": {
    "editable": true
   },
   "source": [
    "$$\n",
    "\\langle \\mu\\nu|\\hat{v}|\\mu\\nu\\rangle =  \\langle \\nu\\mu|\\hat{v}|\\nu\\mu\\rangle,\n",
    "$$"
   ]
  },
  {
   "cell_type": "markdown",
   "id": "d9135e97",
   "metadata": {
    "editable": true
   },
   "source": [
    "or in the more general case"
   ]
  },
  {
   "cell_type": "markdown",
   "id": "64c35cb5",
   "metadata": {
    "editable": true
   },
   "source": [
    "$$\n",
    "\\langle \\mu\\nu|\\hat{v}|\\sigma\\tau\\rangle =  \\langle \\nu\\mu|\\hat{v}|\\tau\\sigma\\rangle.\n",
    "$$"
   ]
  },
  {
   "cell_type": "markdown",
   "id": "c7375747",
   "metadata": {
    "editable": true
   },
   "source": [
    "## Derivation of Hartree-Fock equations in coordinate space\n",
    "\n",
    "The direct and exchange matrix elements can be  brought together if we define the antisymmetrized matrix element"
   ]
  },
  {
   "cell_type": "markdown",
   "id": "1642a242",
   "metadata": {
    "editable": true
   },
   "source": [
    "$$\n",
    "\\langle \\mu\\nu|\\hat{v}|\\mu\\nu\\rangle_{AS}= \\langle \\mu\\nu|\\hat{v}|\\mu\\nu\\rangle-\\langle \\mu\\nu|\\hat{v}|\\nu\\mu\\rangle,\n",
    "$$"
   ]
  },
  {
   "cell_type": "markdown",
   "id": "8247e507",
   "metadata": {
    "editable": true
   },
   "source": [
    "or for a general matrix element"
   ]
  },
  {
   "cell_type": "markdown",
   "id": "cc95be05",
   "metadata": {
    "editable": true
   },
   "source": [
    "$$\n",
    "\\langle \\mu\\nu|\\hat{v}|\\sigma\\tau\\rangle_{AS}= \\langle \\mu\\nu|\\hat{v}|\\sigma\\tau\\rangle-\\langle \\mu\\nu|\\hat{v}|\\tau\\sigma\\rangle.\n",
    "$$"
   ]
  },
  {
   "cell_type": "markdown",
   "id": "5621629e",
   "metadata": {
    "editable": true
   },
   "source": [
    "## Derivation of Hartree-Fock equations in coordinate space\n",
    "\n",
    "It has the symmetry property"
   ]
  },
  {
   "cell_type": "markdown",
   "id": "fab8b01f",
   "metadata": {
    "editable": true
   },
   "source": [
    "$$\n",
    "\\langle \\mu\\nu|\\hat{v}|\\sigma\\tau\\rangle_{AS}= -\\langle \\mu\\nu|\\hat{v}|\\tau\\sigma\\rangle_{AS}=-\\langle \\nu\\mu|\\hat{v}|\\sigma\\tau\\rangle_{AS}.\n",
    "$$"
   ]
  },
  {
   "cell_type": "markdown",
   "id": "627f86e4",
   "metadata": {
    "editable": true
   },
   "source": [
    "The antisymmetric matrix element is also hermitian, implying"
   ]
  },
  {
   "cell_type": "markdown",
   "id": "89c12566",
   "metadata": {
    "editable": true
   },
   "source": [
    "$$\n",
    "\\langle \\mu\\nu|\\hat{v}|\\sigma\\tau\\rangle_{AS}= \\langle \\sigma\\tau|\\hat{v}|\\mu\\nu\\rangle_{AS}.\n",
    "$$"
   ]
  },
  {
   "cell_type": "markdown",
   "id": "e9487e4d",
   "metadata": {
    "editable": true
   },
   "source": [
    "## Derivation of Hartree-Fock equations in coordinate space\n",
    "\n",
    "With these notations we rewrite the Hartree-Fock functional as"
   ]
  },
  {
   "cell_type": "markdown",
   "id": "baa9b02f",
   "metadata": {
    "editable": true
   },
   "source": [
    "<!-- Equation labels as ordinary links -->\n",
    "<div id=\"H2Expectation2\"></div>\n",
    "\n",
    "$$\n",
    "\\begin{equation}\n",
    "  \\int \\Phi^*\\hat{H_I}\\Phi d\\mathbf{\\tau} \n",
    "  = \\frac{1}{2}\\sum_{\\mu=1}^N\\sum_{\\nu=1}^N \\langle \\mu\\nu|\\hat{v}|\\mu\\nu\\rangle_{AS}. \\label{H2Expectation2} \\tag{1}\n",
    "\\end{equation}\n",
    "$$"
   ]
  },
  {
   "cell_type": "markdown",
   "id": "1ed757cd",
   "metadata": {
    "editable": true
   },
   "source": [
    "Adding the contribution from the one-body operator $\\hat{H}_0$ to\n",
    "([1](#H2Expectation2)) we obtain the energy functional"
   ]
  },
  {
   "cell_type": "markdown",
   "id": "3110f630",
   "metadata": {
    "editable": true
   },
   "source": [
    "<!-- Equation labels as ordinary links -->\n",
    "<div id=\"FunctionalEPhi\"></div>\n",
    "\n",
    "$$\n",
    "\\begin{equation}\n",
    "  E[\\Phi] \n",
    "  = \\sum_{\\mu=1}^N \\langle \\mu | h | \\mu \\rangle +\n",
    "  \\frac{1}{2}\\sum_{{\\mu}=1}^N\\sum_{{\\nu}=1}^N \\langle \\mu\\nu|\\hat{v}|\\mu\\nu\\rangle_{AS}. \\label{FunctionalEPhi} \\tag{2}\n",
    "\\end{equation}\n",
    "$$"
   ]
  },
  {
   "cell_type": "markdown",
   "id": "b354e4fb",
   "metadata": {
    "editable": true
   },
   "source": [
    "## Derivation of Hartree-Fock equations in coordinate space\n",
    "\n",
    "In our coordinate space derivations below we will spell out the Hartree-Fock equations in terms of their integrals.\n",
    "\n",
    "If we generalize the Euler-Lagrange equations to more variables \n",
    "and introduce $N^2$ Lagrange multipliers which we denote by \n",
    "$\\epsilon_{\\mu\\nu}$, we can write the variational equation for the functional of $E$"
   ]
  },
  {
   "cell_type": "markdown",
   "id": "9dfb8091",
   "metadata": {
    "editable": true
   },
   "source": [
    "$$\n",
    "\\delta E - \\sum_{\\mu\\nu}^N \\epsilon_{\\mu\\nu} \\delta\n",
    "  \\int \\psi_{\\mu}^* \\psi_{\\nu} = 0.\n",
    "$$"
   ]
  },
  {
   "cell_type": "markdown",
   "id": "08243957",
   "metadata": {
    "editable": true
   },
   "source": [
    "For the orthogonal wave functions $\\psi_{i}$ this reduces to"
   ]
  },
  {
   "cell_type": "markdown",
   "id": "c7913a8c",
   "metadata": {
    "editable": true
   },
   "source": [
    "$$\n",
    "\\delta E - \\sum_{\\mu=1}^N \\epsilon_{\\mu} \\delta\n",
    "  \\int \\psi_{\\mu}^* \\psi_{\\mu} = 0.\n",
    "$$"
   ]
  },
  {
   "cell_type": "markdown",
   "id": "d0dd3f7b",
   "metadata": {
    "editable": true
   },
   "source": [
    "## Derivation of Hartree-Fock equations in coordinate space\n",
    "\n",
    "Variation with respect to the single-particle wave functions $\\psi_{\\mu}$ yields then"
   ]
  },
  {
   "cell_type": "markdown",
   "id": "71dd89a0",
   "metadata": {
    "editable": true
   },
   "source": [
    "$$\n",
    "\\sum_{\\mu=1}^N \\int \\delta\\psi_{\\mu}^*\\hat{h_0}(x_i)\\psi_{\\mu}\n",
    "  dx_i  \n",
    "  + \\frac{1}{2}\\sum_{{\\mu}=1}^N\\sum_{{\\nu}=1}^N \\left[ \\int\n",
    "  \\delta\\psi_{\\mu}^*\\psi_{\\nu}^*\\hat{v}(r_{ij})\\psi_{\\mu}\\psi_{\\nu} dx_idx_j- \\int\n",
    "  \\delta\\psi_{\\mu}^*\\psi_{\\nu}^*\\hat{v}(r_{ij})\\psi_{\\nu}\\psi_{\\mu}\n",
    "  dx_idx_j \\right]+\n",
    "$$"
   ]
  },
  {
   "cell_type": "markdown",
   "id": "895d53dd",
   "metadata": {
    "editable": true
   },
   "source": [
    "$$\n",
    "\\sum_{\\mu=1}^N \\int \\psi_{\\mu}^*\\hat{h_0}(x_i)\\delta\\psi_{\\mu}\n",
    "  dx_i \n",
    "  + \\frac{1}{2}\\sum_{{\\mu}=1}^N\\sum_{{\\nu}=1}^N \\left[ \\int\n",
    "  \\psi_{\\mu}^*\\psi_{\\nu}^*\\hat{v}(r_{ij})\\delta\\psi_{\\mu}\\psi_{\\nu} dx_idx_j- \\int\n",
    "  \\psi_{\\mu}^*\\psi_{\\nu}^*\\hat{v}(r_{ij})\\psi_{\\nu}\\delta\\psi_{\\mu}\n",
    "  dx_idx_j \\right]-  \\sum_{{\\mu}=1}^N E_{\\mu} \\int \\delta\\psi_{\\mu}^*\n",
    "  \\psi_{\\mu}dx_i\n",
    "  -  \\sum_{{\\mu}=1}^N E_{\\mu} \\int \\psi_{\\mu}^*\n",
    "  \\delta\\psi_{\\mu}dx_i = 0.\n",
    "$$"
   ]
  },
  {
   "cell_type": "markdown",
   "id": "2b0f548d",
   "metadata": {
    "editable": true
   },
   "source": [
    "## Derivation of Hartree-Fock equations in coordinate space\n",
    "\n",
    "Although the variations $\\delta\\psi$ and $\\delta\\psi^*$ are not\n",
    "independent, they may in fact be treated as such, so that the \n",
    "terms dependent on either $\\delta\\psi$ and $\\delta\\psi^*$ individually \n",
    "may be set equal to zero. To see this, simply \n",
    "replace the arbitrary variation $\\delta\\psi$ by $i\\delta\\psi$, so that\n",
    "$\\delta\\psi^*$ is replaced by $-i\\delta\\psi^*$, and combine the two\n",
    "equations. We thus arrive at the Hartree-Fock equations"
   ]
  },
  {
   "cell_type": "markdown",
   "id": "093995a6",
   "metadata": {
    "editable": true
   },
   "source": [
    "<!-- Equation labels as ordinary links -->\n",
    "<div id=\"eq:hartreefockcoordinatespace\"></div>\n",
    "\n",
    "$$\n",
    "\\begin{equation}\n",
    "\\left[ -\\frac{1}{2}\\nabla_i^2+ \\sum_{\\nu=1}^N\\int \\psi_{\\nu}^*(x_j)\\hat{v}(r_{ij})\\psi_{\\nu}(x_j)dx_j \\right]\\psi_{\\mu}(x_i) - \\left[ \\sum_{{\\nu}=1}^N \\int\\psi_{\\nu}^*(x_j)\\hat{v}(r_{ij})\\psi_{\\mu}(x_j) dx_j\\right] \\psi_{\\nu}(x_i) = \\epsilon_{\\mu} \\psi_{\\mu}(x_i).  \\label{eq:hartreefockcoordinatespace} \\tag{3}\n",
    "\\end{equation}\n",
    "$$"
   ]
  },
  {
   "cell_type": "markdown",
   "id": "531e294f",
   "metadata": {
    "editable": true
   },
   "source": [
    "## Derivation of Hartree-Fock equations in coordinate space\n",
    "\n",
    "Notice that the integration $\\int dx_j$ implies an\n",
    "integration over the spatial coordinates $\\mathbf{r_j}$ and a summation\n",
    "over the spin-coordinate of fermion $j$. We note that the factor of $1/2$ in front of the sum involving the two-body interaction, has been removed. This is due to the fact that we need to vary both $\\delta\\psi_{\\mu}^*$ and\n",
    "$\\delta\\psi_{\\nu}^*$. Using the symmetry properties of the two-body interaction and interchanging $\\mu$ and $\\nu$\n",
    "as summation indices, we obtain two identical terms."
   ]
  },
  {
   "cell_type": "markdown",
   "id": "22d11cf3",
   "metadata": {
    "editable": true
   },
   "source": [
    "## Derivation of Hartree-Fock equations in coordinate space\n",
    "\n",
    "The two first terms in the last equation are the one-body kinetic\n",
    "energy and the electron-nucleus potential. The third or *direct* term\n",
    "is the averaged electronic repulsion of the other electrons. As\n",
    "written, the term includes the *self-interaction* of electrons when\n",
    "$\\mu=\\nu$. The self-interaction is cancelled in the fourth term, or\n",
    "the *exchange* term. The exchange term results from our inclusion of\n",
    "the Pauli principle and the assumed determinantal form of the\n",
    "wave-function. Equation ([3](#eq:hartreefockcoordinatespace)), in\n",
    "addition to the kinetic energy and the attraction from the atomic\n",
    "nucleus that confines the motion of a single electron, represents now\n",
    "the motion of a single-particle modified by the two-body\n",
    "interaction. The additional contribution to the Schroedinger equation\n",
    "due to the two-body interaction, represents a mean field set up by all\n",
    "the other bystanding electrons, the latter given by the sum over all\n",
    "single-particle states occupied by $N$ electrons."
   ]
  },
  {
   "cell_type": "markdown",
   "id": "b217cc3a",
   "metadata": {
    "editable": true
   },
   "source": [
    "## Derivation of Hartree-Fock equations in coordinate space\n",
    "\n",
    "The Hartree-Fock equation is an example of an integro-differential\n",
    "equation. These equations involve repeated calculations of integrals,\n",
    "in addition to the solution of a set of coupled differential\n",
    "equations.  The Hartree-Fock equations can also be rewritten in terms\n",
    "of an eigenvalue problem. The solution of an eigenvalue problem\n",
    "represents often a more practical algorithm and the solution of\n",
    "coupled integro-differential equations.  This alternative derivation\n",
    "of the Hartree-Fock equations is given below."
   ]
  },
  {
   "cell_type": "markdown",
   "id": "5a127e36",
   "metadata": {
    "editable": true
   },
   "source": [
    "## Analysis of Hartree-Fock equations in coordinate space\n",
    "\n",
    "  A theoretically convenient form of the\n",
    "Hartree-Fock equation is to regard the direct and exchange operator\n",
    "defined through"
   ]
  },
  {
   "cell_type": "markdown",
   "id": "371ea6d4",
   "metadata": {
    "editable": true
   },
   "source": [
    "$$\n",
    "V_{\\mu}^{d}(x_i) = \\int \\psi_{\\mu}^*(x_j) \n",
    " \\hat{v}(r_{ij})\\psi_{\\mu}(x_j) dx_j\n",
    "$$"
   ]
  },
  {
   "cell_type": "markdown",
   "id": "8f1788a2",
   "metadata": {
    "editable": true
   },
   "source": [
    "and"
   ]
  },
  {
   "cell_type": "markdown",
   "id": "d0689d1c",
   "metadata": {
    "editable": true
   },
   "source": [
    "$$\n",
    "V_{\\mu}^{ex}(x_i) g(x_i) \n",
    "  = \\left(\\int \\psi_{\\mu}^*(x_j) \n",
    " \\hat{v}(r_{ij})g(x_j) dx_j\n",
    "  \\right)\\psi_{\\mu}(x_i),\n",
    "$$"
   ]
  },
  {
   "cell_type": "markdown",
   "id": "6545783d",
   "metadata": {
    "editable": true
   },
   "source": [
    "respectively."
   ]
  },
  {
   "cell_type": "markdown",
   "id": "454301aa",
   "metadata": {
    "editable": true
   },
   "source": [
    "## Analysis of Hartree-Fock equations in coordinate space\n",
    "\n",
    "The function $g(x_i)$ is an arbitrary function,\n",
    "and by the substitution $g(x_i) = \\psi_{\\nu}(x_i)$\n",
    "we get"
   ]
  },
  {
   "cell_type": "markdown",
   "id": "74350fd4",
   "metadata": {
    "editable": true
   },
   "source": [
    "$$\n",
    "V_{\\mu}^{ex}(x_i) \\psi_{\\nu}(x_i) \n",
    "  = \\left(\\int \\psi_{\\mu}^*(x_j) \n",
    " \\hat{v}(r_{ij})\\psi_{\\nu}(x_j)\n",
    "  dx_j\\right)\\psi_{\\mu}(x_i).\n",
    "$$"
   ]
  },
  {
   "cell_type": "markdown",
   "id": "0b005868",
   "metadata": {
    "editable": true
   },
   "source": [
    "## Analysis of Hartree-Fock equations in coordinate space\n",
    "\n",
    "We may then rewrite the Hartree-Fock equations as"
   ]
  },
  {
   "cell_type": "markdown",
   "id": "61306e92",
   "metadata": {
    "editable": true
   },
   "source": [
    "$$\n",
    "\\hat{h}^{HF}(x_i) \\psi_{\\nu}(x_i) = \\epsilon_{\\nu}\\psi_{\\nu}(x_i),\n",
    "$$"
   ]
  },
  {
   "cell_type": "markdown",
   "id": "c399ca9e",
   "metadata": {
    "editable": true
   },
   "source": [
    "with"
   ]
  },
  {
   "cell_type": "markdown",
   "id": "f025bc89",
   "metadata": {
    "editable": true
   },
   "source": [
    "$$\n",
    "\\hat{h}^{HF}(x_i)= \\hat{h}_0(x_i) + \\sum_{\\mu=1}^NV_{\\mu}^{d}(x_i) -\n",
    "  \\sum_{\\mu=1}^NV_{\\mu}^{ex}(x_i),\n",
    "$$"
   ]
  },
  {
   "cell_type": "markdown",
   "id": "90ac6dfa",
   "metadata": {
    "editable": true
   },
   "source": [
    "and where $\\hat{h}_0(i)$ is the one-body part. The latter is normally chosen as a part which yields solutions in closed form. The harmonic oscilltor is a classical problem thereof.\n",
    "We normally rewrite the last equation as"
   ]
  },
  {
   "cell_type": "markdown",
   "id": "4dac0080",
   "metadata": {
    "editable": true
   },
   "source": [
    "$$\n",
    "\\hat{h}^{HF}(x_i)= \\hat{h}_0(x_i) + \\hat{u}^{HF}(x_i).\n",
    "$$"
   ]
  },
  {
   "cell_type": "markdown",
   "id": "29d6e212",
   "metadata": {
    "editable": true
   },
   "source": [
    "## Hartree-Fock by varying the coefficients of a wave function expansion\n",
    "\n",
    "Another possibility is to expand the single-particle functions in a\n",
    "known basis and vary the coefficients, that is, the new\n",
    "single-particle wave function is written as a linear expansion in\n",
    "terms of a fixed chosen orthogonal basis (for example the well-known\n",
    "harmonic oscillator functions or the hydrogen-like functions etc).  We\n",
    "define our new Hartree-Fock single-particle basis by performing a\n",
    "unitary transformation on our previous basis (labelled with greek\n",
    "indices) as"
   ]
  },
  {
   "cell_type": "markdown",
   "id": "0ab3346b",
   "metadata": {
    "editable": true
   },
   "source": [
    "<!-- Equation labels as ordinary links -->\n",
    "<div id=\"eq:newbasis\"></div>\n",
    "\n",
    "$$\n",
    "\\begin{equation}\n",
    "\\psi_p^{HF}  = \\sum_{\\lambda} C_{p\\lambda}\\phi_{\\lambda}. \\label{eq:newbasis} \\tag{4}\n",
    "\\end{equation}\n",
    "$$"
   ]
  },
  {
   "cell_type": "markdown",
   "id": "10443c4d",
   "metadata": {
    "editable": true
   },
   "source": [
    "In this case we vary the coefficients $C_{p\\lambda}$. If the basis has infinitely many solutions, we need\n",
    "to truncate the above sum.  We assume that the basis $\\phi_{\\lambda}$ is orthogonal."
   ]
  },
  {
   "cell_type": "markdown",
   "id": "40655f65",
   "metadata": {
    "editable": true
   },
   "source": [
    "## Hartree-Fock by varying the coefficients of a wave function expansion\n",
    "\n",
    "It is normal to choose a single-particle basis defined as the eigenfunctions\n",
    "of parts of the full Hamiltonian. The typical situation consists of the solutions of the one-body part of the Hamiltonian, that is we have"
   ]
  },
  {
   "cell_type": "markdown",
   "id": "b3f1cac5",
   "metadata": {
    "editable": true
   },
   "source": [
    "$$\n",
    "\\hat{h}_0\\phi_{\\lambda}=\\epsilon_{\\lambda}\\phi_{\\lambda}.\n",
    "$$"
   ]
  },
  {
   "cell_type": "markdown",
   "id": "d23ae650",
   "metadata": {
    "editable": true
   },
   "source": [
    "The single-particle wave functions $\\phi_{\\lambda}(\\mathbf{r})$, defined by the quantum numbers $\\lambda$ and $\\mathbf{r}$\n",
    "are defined as the overlap"
   ]
  },
  {
   "cell_type": "markdown",
   "id": "eba93809",
   "metadata": {
    "editable": true
   },
   "source": [
    "$$\n",
    "\\phi_{\\lambda}(\\mathbf{r})  = \\langle \\mathbf{r} | \\lambda \\rangle .\n",
    "$$"
   ]
  },
  {
   "cell_type": "markdown",
   "id": "995c3e5f",
   "metadata": {
    "editable": true
   },
   "source": [
    "## Hartree-Fock by varying the coefficients of a wave function expansion\n",
    "\n",
    "In deriving the Hartree-Fock equations, we will expand the\n",
    "single-particle functions in a known basis and vary the coefficients,\n",
    "that is, the new single-particle wave function is written as a linear\n",
    "expansion in terms of a fixed chosen orthogonal basis (for example the\n",
    "well-known harmonic oscillator functions or the hydrogen-like\n",
    "functions etc).\n",
    "\n",
    "We stated that a unitary transformation keeps the orthogonality. To see this consider first a basis of vectors $\\mathbf{v}_i$,"
   ]
  },
  {
   "cell_type": "markdown",
   "id": "3bb89c5f",
   "metadata": {
    "editable": true
   },
   "source": [
    "$$\n",
    "\\mathbf{v}_i = \\begin{bmatrix} v_{i1} \\\\ \\dots \\\\ \\dots \\\\v_{in} \\end{bmatrix}\n",
    "$$"
   ]
  },
  {
   "cell_type": "markdown",
   "id": "3eb8bb46",
   "metadata": {
    "editable": true
   },
   "source": [
    "## Hartree-Fock by varying the coefficients of a wave function expansion\n",
    "\n",
    "We assume that the basis is orthogonal, that is"
   ]
  },
  {
   "cell_type": "markdown",
   "id": "30adba1f",
   "metadata": {
    "editable": true
   },
   "source": [
    "$$\n",
    "\\mathbf{v}_j^T\\mathbf{v}_i = \\delta_{ij}.\n",
    "$$"
   ]
  },
  {
   "cell_type": "markdown",
   "id": "7ce7d9be",
   "metadata": {
    "editable": true
   },
   "source": [
    "An orthogonal or unitary transformation"
   ]
  },
  {
   "cell_type": "markdown",
   "id": "033307f7",
   "metadata": {
    "editable": true
   },
   "source": [
    "$$\n",
    "\\mathbf{w}_i=\\mathbf{U}\\mathbf{v}_i,\n",
    "$$"
   ]
  },
  {
   "cell_type": "markdown",
   "id": "5a7a8918",
   "metadata": {
    "editable": true
   },
   "source": [
    "preserves the dot product and orthogonality since"
   ]
  },
  {
   "cell_type": "markdown",
   "id": "9bc270ab",
   "metadata": {
    "editable": true
   },
   "source": [
    "$$\n",
    "\\mathbf{w}_j^T\\mathbf{w}_i=(\\mathbf{U}\\mathbf{v}_j)^T\\mathbf{U}\\mathbf{v}_i=\\mathbf{v}_j^T\\mathbf{U}^T\\mathbf{U}\\mathbf{v}_i= \\mathbf{v}_j^T\\mathbf{v}_i = \\delta_{ij}.\n",
    "$$"
   ]
  },
  {
   "cell_type": "markdown",
   "id": "81b3d0ea",
   "metadata": {
    "editable": true
   },
   "source": [
    "## Hartree-Fock by varying the coefficients of a wave function expansion\n",
    "\n",
    "This means that if the coefficients $C_{p\\lambda}$ belong to a unitary or orthogonal trasformation (using the Dirac bra-ket notation)"
   ]
  },
  {
   "cell_type": "markdown",
   "id": "472e8bb4",
   "metadata": {
    "editable": true
   },
   "source": [
    "$$\n",
    "\\vert p\\rangle  = \\sum_{\\lambda} C_{p\\lambda}\\vert\\lambda\\rangle,\n",
    "$$"
   ]
  },
  {
   "cell_type": "markdown",
   "id": "30283056",
   "metadata": {
    "editable": true
   },
   "source": [
    "orthogonality is preserved, that is $\\langle \\alpha \\vert \\beta\\rangle = \\delta_{\\alpha\\beta}$\n",
    "and $\\langle p \\vert q\\rangle = \\delta_{pq}$. \n",
    "\n",
    "This propertry is extremely useful when we build up a basis of many-body Stater determinant based states. \n",
    "\n",
    "**Note also that although a basis $\\vert \\alpha\\rangle$ contains an infinity of states, for practical calculations we have always to make some truncations.**"
   ]
  },
  {
   "cell_type": "markdown",
   "id": "21663a16",
   "metadata": {
    "editable": true
   },
   "source": [
    "## Hartree-Fock by varying the coefficients of a wave function expansion\n",
    "\n",
    "Before we develop the Hartree-Fock equations, there is another very\n",
    "useful property of determinants that we will use both in connection\n",
    "with Hartree-Fock calculations. This applies also to our previous\n",
    "discussion on full configuration interaction theory.\n",
    "\n",
    "Consider the following determinant"
   ]
  },
  {
   "cell_type": "markdown",
   "id": "6acd729e",
   "metadata": {
    "editable": true
   },
   "source": [
    "$$\n",
    "\\left| \\begin{array}{cc} \\alpha_1b_{11}+\\alpha_2sb_{12}& a_{12}\\\\\n",
    "                         \\alpha_1b_{21}+\\alpha_2b_{22}&a_{22}\\end{array} \\right|=\\alpha_1\\left|\\begin{array}{cc} b_{11}& a_{12}\\\\\n",
    "                         b_{21}&a_{22}\\end{array} \\right|+\\alpha_2\\left| \\begin{array}{cc} b_{12}& a_{12}\\\\b_{22}&a_{22}\\end{array} \\right|\n",
    "$$"
   ]
  },
  {
   "cell_type": "markdown",
   "id": "57cc0505",
   "metadata": {
    "editable": true
   },
   "source": [
    "## Hartree-Fock by varying the coefficients of a wave function expansion\n",
    "\n",
    "We can generalize this to  an $n\\times n$ matrix and have"
   ]
  },
  {
   "cell_type": "markdown",
   "id": "40e91824",
   "metadata": {
    "editable": true
   },
   "source": [
    "$$\n",
    "\\left| \\begin{array}{cccccc} a_{11}& a_{12} & \\dots & \\sum_{k=1}^n c_k b_{1k} &\\dots & a_{1n}\\\\\n",
    "a_{21}& a_{22} & \\dots & \\sum_{k=1}^n c_k b_{2k} &\\dots & a_{2n}\\\\\n",
    "\\dots & \\dots & \\dots & \\dots & \\dots & \\dots \\\\\n",
    "\\dots & \\dots & \\dots & \\dots & \\dots & \\dots \\\\\n",
    "a_{n1}& a_{n2} & \\dots & \\sum_{k=1}^n c_k b_{nk} &\\dots & a_{nn}\\end{array} \\right|=\n",
    "\\sum_{k=1}^n c_k\\left| \\begin{array}{cccccc} a_{11}& a_{12} & \\dots &  b_{1k} &\\dots & a_{1n}\\\\\n",
    "a_{21}& a_{22} & \\dots &  b_{2k} &\\dots & a_{2n}\\\\\n",
    "\\dots & \\dots & \\dots & \\dots & \\dots & \\dots\\\\\n",
    "\\dots & \\dots & \\dots & \\dots & \\dots & \\dots\\\\\n",
    "a_{n1}& a_{n2} & \\dots &  b_{nk} &\\dots & a_{nn}\\end{array} \\right| .\n",
    "$$"
   ]
  },
  {
   "cell_type": "markdown",
   "id": "71ca5442",
   "metadata": {
    "editable": true
   },
   "source": [
    "This is a property we will use in our Hartree-Fock discussions."
   ]
  },
  {
   "cell_type": "markdown",
   "id": "8b3f01c8",
   "metadata": {
    "editable": true
   },
   "source": [
    "## Hartree-Fock by varying the coefficients of a wave function expansion\n",
    "\n",
    "We can generalize the previous results, now \n",
    "with all elements $a_{ij}$  being given as functions of \n",
    "linear combinations  of various coefficients $c$ and elements $b_{ij}$,"
   ]
  },
  {
   "cell_type": "markdown",
   "id": "d1832c15",
   "metadata": {
    "editable": true
   },
   "source": [
    "$$\n",
    "\\left| \\begin{array}{cccccc} \\sum_{k=1}^n b_{1k}c_{k1}& \\sum_{k=1}^n b_{1k}c_{k2} & \\dots & \\sum_{k=1}^n b_{1k}c_{kj}  &\\dots & \\sum_{k=1}^n b_{1k}c_{kn}\\\\\n",
    "\\sum_{k=1}^n b_{2k}c_{k1}& \\sum_{k=1}^n b_{2k}c_{k2} & \\dots & \\sum_{k=1}^n b_{2k}c_{kj} &\\dots & \\sum_{k=1}^n b_{2k}c_{kn}\\\\\n",
    "\\dots & \\dots & \\dots & \\dots & \\dots & \\dots \\\\\n",
    "\\dots & \\dots & \\dots & \\dots & \\dots &\\dots \\\\\n",
    "\\sum_{k=1}^n b_{nk}c_{k1}& \\sum_{k=1}^n b_{nk}c_{k2} & \\dots & \\sum_{k=1}^n b_{nk}c_{kj} &\\dots & \\sum_{k=1}^n b_{nk}c_{kn}\\end{array} \\right|=det(\\mathbf{C})det(\\mathbf{B}),\n",
    "$$"
   ]
  },
  {
   "cell_type": "markdown",
   "id": "471f8e29",
   "metadata": {
    "editable": true
   },
   "source": [
    "where $det(\\mathbf{C})$ and $det(\\mathbf{B})$ are the determinants of $n\\times n$ matrices\n",
    "with elements $c_{ij}$ and $b_{ij}$ respectively.  \n",
    "This is a property we will use in our Hartree-Fock discussions. Convince yourself about the correctness of the above expression by setting $n=2$."
   ]
  },
  {
   "cell_type": "markdown",
   "id": "c9b7043d",
   "metadata": {
    "editable": true
   },
   "source": [
    "## Hartree-Fock by varying the coefficients of a wave function expansion\n",
    "\n",
    "With our definition of the new basis in terms of an orthogonal basis we have"
   ]
  },
  {
   "cell_type": "markdown",
   "id": "70a856f2",
   "metadata": {
    "editable": true
   },
   "source": [
    "$$\n",
    "\\psi_p(x)  = \\sum_{\\lambda} C_{p\\lambda}\\phi_{\\lambda}(x).\n",
    "$$"
   ]
  },
  {
   "cell_type": "markdown",
   "id": "022b6b54",
   "metadata": {
    "editable": true
   },
   "source": [
    "If the coefficients $C_{p\\lambda}$ belong to an orthogonal or unitary matrix, the new basis\n",
    "is also orthogonal. \n",
    "Our Slater determinant in the new basis $\\psi_p(x)$ is written as"
   ]
  },
  {
   "cell_type": "markdown",
   "id": "8332e69f",
   "metadata": {
    "editable": true
   },
   "source": [
    "$$\n",
    "\\frac{1}{\\sqrt{N!}}\n",
    "\\left| \\begin{array}{ccccc} \\psi_{p}(x_1)& \\psi_{p}(x_2)& \\dots & \\dots & \\psi_{p}(x_N)\\\\\n",
    "                            \\psi_{q}(x_1)&\\psi_{q}(x_2)& \\dots & \\dots & \\psi_{q}(x_N)\\\\  \n",
    "                            \\dots & \\dots & \\dots & \\dots & \\dots \\\\\n",
    "                            \\dots & \\dots & \\dots & \\dots & \\dots \\\\\n",
    "                     \\psi_{t}(x_1)&\\psi_{t}(x_2)& \\dots & \\dots & \\psi_{t}(x_N)\\end{array} \\right|=\\frac{1}{\\sqrt{N!}}\n",
    "\\left| \\begin{array}{ccccc} \\sum_{\\lambda} C_{p\\lambda}\\phi_{\\lambda}(x_1)& \\sum_{\\lambda} C_{p\\lambda}\\phi_{\\lambda}(x_2)& \\dots & \\dots & \\sum_{\\lambda} C_{p\\lambda}\\phi_{\\lambda}(x_N)\\\\\n",
    "                            \\sum_{\\lambda} C_{q\\lambda}\\phi_{\\lambda}(x_1)&\\sum_{\\lambda} C_{q\\lambda}\\phi_{\\lambda}(x_2)& \\dots & \\dots & \\sum_{\\lambda} C_{q\\lambda}\\phi_{\\lambda}(x_N)\\\\  \n",
    "                            \\dots & \\dots & \\dots & \\dots & \\dots \\\\\n",
    "                            \\dots & \\dots & \\dots & \\dots & \\dots \\\\\n",
    "                     \\sum_{\\lambda} C_{t\\lambda}\\phi_{\\lambda}(x_1)&\\sum_{\\lambda} C_{t\\lambda}\\phi_{\\lambda}(x_2)& \\dots & \\dots & \\sum_{\\lambda} C_{t\\lambda}\\phi_{\\lambda}(x_N)\\end{array} \\right|,\n",
    "$$"
   ]
  },
  {
   "cell_type": "markdown",
   "id": "19848647",
   "metadata": {
    "editable": true
   },
   "source": [
    "which is nothing but $det(\\mathbf{C})det(\\Phi)$, with $det(\\Phi)$ being the determinant given by the basis functions $\\phi_{\\lambda}(x)$."
   ]
  },
  {
   "cell_type": "markdown",
   "id": "1558b203",
   "metadata": {
    "editable": true
   },
   "source": [
    "## Hartree-Fock by varying the coefficients of a wave function expansion\n",
    "\n",
    "In our discussions hereafter we will use our definitions of single-particle states above and below the Fermi ($F$) level given by the labels\n",
    "$ijkl\\dots \\le F$ for so-called single-hole states and $abcd\\dots > F$ for so-called particle states.\n",
    "For general single-particle states we employ the labels $pqrs\\dots$. \n",
    "\n",
    "In Eq. ([2](#FunctionalEPhi)), restated here"
   ]
  },
  {
   "cell_type": "markdown",
   "id": "935ea4e2",
   "metadata": {
    "editable": true
   },
   "source": [
    "$$\n",
    "E[\\Phi] \n",
    "  = \\sum_{\\mu=1}^N \\langle \\mu | h | \\mu \\rangle +\n",
    "  \\frac{1}{2}\\sum_{{\\mu}=1}^N\\sum_{{\\nu}=1}^N \\langle \\mu\\nu|\\hat{v}|\\mu\\nu\\rangle_{AS},\n",
    "$$"
   ]
  },
  {
   "cell_type": "markdown",
   "id": "1cc5591a",
   "metadata": {
    "editable": true
   },
   "source": [
    "we found the expression for the energy functional in terms of the basis function $\\phi_{\\lambda}(\\mathbf{r})$. We then  varied the above energy functional with respect to the basis functions $|\\mu \\rangle$."
   ]
  },
  {
   "cell_type": "markdown",
   "id": "57a3418f",
   "metadata": {
    "editable": true
   },
   "source": [
    "## Hartree-Fock by varying the coefficients of a wave function expansion\n",
    "\n",
    "Now we are interested in defining a new basis defined in terms of\n",
    "a chosen basis as defined in Eq. ([4](#eq:newbasis)). We can then rewrite the energy functional as"
   ]
  },
  {
   "cell_type": "markdown",
   "id": "26ba814a",
   "metadata": {
    "editable": true
   },
   "source": [
    "<!-- Equation labels as ordinary links -->\n",
    "<div id=\"FunctionalEPhi2\"></div>\n",
    "\n",
    "$$\n",
    "\\begin{equation}\n",
    "  E[\\Phi^{HF}] \n",
    "  = \\sum_{i=1}^N \\langle i | h | i \\rangle +\n",
    "  \\frac{1}{2}\\sum_{ij=1}^N\\langle ij|\\hat{v}|ij\\rangle_{AS}, \\label{FunctionalEPhi2} \\tag{5}\n",
    "\\end{equation}\n",
    "$$"
   ]
  },
  {
   "cell_type": "markdown",
   "id": "68054559",
   "metadata": {
    "editable": true
   },
   "source": [
    "where $\\Phi^{HF}$ is the new Slater determinant defined by the new basis of Eq. ([4](#eq:newbasis))."
   ]
  },
  {
   "cell_type": "markdown",
   "id": "8e1a1249",
   "metadata": {
    "editable": true
   },
   "source": [
    "## Hartree-Fock by varying the coefficients of a wave function expansion\n",
    "\n",
    "Using Eq. ([4](#eq:newbasis)) we can rewrite Eq. ([5](#FunctionalEPhi2)) as"
   ]
  },
  {
   "cell_type": "markdown",
   "id": "23b44cde",
   "metadata": {
    "editable": true
   },
   "source": [
    "<!-- Equation labels as ordinary links -->\n",
    "<div id=\"FunctionalEPhi3\"></div>\n",
    "\n",
    "$$\n",
    "\\begin{equation}\n",
    "  E[\\Psi] \n",
    "  = \\sum_{i=1}^N \\sum_{\\alpha\\beta} C^*_{i\\alpha}C_{i\\beta}\\langle \\alpha | h | \\beta \\rangle +\n",
    "  \\frac{1}{2}\\sum_{ij=1}^N\\sum_{{\\alpha\\beta\\gamma\\delta}} C^*_{i\\alpha}C^*_{j\\beta}C_{i\\gamma}C_{j\\delta}\\langle \\alpha\\beta|\\hat{v}|\\gamma\\delta\\rangle_{AS}. \\label{FunctionalEPhi3} \\tag{6}\n",
    "\\end{equation}\n",
    "$$"
   ]
  },
  {
   "cell_type": "markdown",
   "id": "a45930b4",
   "metadata": {
    "editable": true
   },
   "source": [
    "## Hartree-Fock by varying the coefficients of a wave function expansion\n",
    "\n",
    "We wish now to minimize the above functional. We introduce again a set of Lagrange multipliers, noting that\n",
    "since $\\langle i | j \\rangle = \\delta_{i,j}$ and $\\langle \\alpha | \\beta \\rangle = \\delta_{\\alpha,\\beta}$, \n",
    "the coefficients $C_{i\\gamma}$ obey the relation"
   ]
  },
  {
   "cell_type": "markdown",
   "id": "23bba961",
   "metadata": {
    "editable": true
   },
   "source": [
    "$$\n",
    "\\langle i | j \\rangle=\\delta_{i,j}=\\sum_{\\alpha\\beta} C^*_{i\\alpha}C_{i\\beta}\\langle \\alpha | \\beta \\rangle=\n",
    "\\sum_{\\alpha} C^*_{i\\alpha}C_{i\\alpha},\n",
    "$$"
   ]
  },
  {
   "cell_type": "markdown",
   "id": "cdb569e1",
   "metadata": {
    "editable": true
   },
   "source": [
    "which allows us to define a functional to be minimized that reads"
   ]
  },
  {
   "cell_type": "markdown",
   "id": "bbeddaeb",
   "metadata": {
    "editable": true
   },
   "source": [
    "<!-- Equation labels as ordinary links -->\n",
    "<div id=\"_auto1\"></div>\n",
    "\n",
    "$$\n",
    "\\begin{equation}\n",
    "  F[\\Phi^{HF}]=E[\\Phi^{HF}] - \\sum_{i=1}^N\\epsilon_i\\sum_{\\alpha} C^*_{i\\alpha}C_{i\\alpha}.\n",
    "\\label{_auto1} \\tag{7}\n",
    "\\end{equation}\n",
    "$$"
   ]
  },
  {
   "cell_type": "markdown",
   "id": "2be11b65",
   "metadata": {
    "editable": true
   },
   "source": [
    "## Hartree-Fock by varying the coefficients of a wave function expansion\n",
    "\n",
    "Minimizing with respect to $C^*_{i\\alpha}$, remembering that the equations for $C^*_{i\\alpha}$ and $C_{i\\alpha}$\n",
    "can be written as two  independent equations, we obtain"
   ]
  },
  {
   "cell_type": "markdown",
   "id": "af7114b8",
   "metadata": {
    "editable": true
   },
   "source": [
    "$$\n",
    "\\frac{d}{dC^*_{i\\alpha}}\\left[  E[\\Phi^{HF}] - \\sum_{j}\\epsilon_j\\sum_{\\alpha} C^*_{j\\alpha}C_{j\\alpha}\\right]=0,\n",
    "$$"
   ]
  },
  {
   "cell_type": "markdown",
   "id": "f7191e07",
   "metadata": {
    "editable": true
   },
   "source": [
    "which yields for every single-particle state $i$ and index $\\alpha$ (recalling that the coefficients $C_{i\\alpha}$ are matrix elements of a unitary (or orthogonal for a real symmetric matrix) matrix)\n",
    "the following Hartree-Fock equations"
   ]
  },
  {
   "cell_type": "markdown",
   "id": "f63328c8",
   "metadata": {
    "editable": true
   },
   "source": [
    "$$\n",
    "\\sum_{\\beta} C_{i\\beta}\\langle \\alpha | h | \\beta \\rangle+\n",
    "\\sum_{j=1}^N\\sum_{\\beta\\gamma\\delta} C^*_{j\\beta}C_{j\\delta}C_{i\\gamma}\\langle \\alpha\\beta|\\hat{v}|\\gamma\\delta\\rangle_{AS}=\\epsilon_i^{HF}C_{i\\alpha}.\n",
    "$$"
   ]
  },
  {
   "cell_type": "markdown",
   "id": "3d97b75c",
   "metadata": {
    "editable": true
   },
   "source": [
    "## Hartree-Fock by varying the coefficients of a wave function expansion\n",
    "\n",
    "We can rewrite this equation as (changing dummy variables)"
   ]
  },
  {
   "cell_type": "markdown",
   "id": "121ff7a5",
   "metadata": {
    "editable": true
   },
   "source": [
    "$$\n",
    "\\sum_{\\beta} \\left\\{\\langle \\alpha | h | \\beta \\rangle+\n",
    "\\sum_{j}^N\\sum_{\\gamma\\delta} C^*_{j\\gamma}C_{j\\delta}\\langle \\alpha\\gamma|\\hat{v}|\\beta\\delta\\rangle_{AS}\\right\\}C_{i\\beta}=\\epsilon_i^{HF}C_{i\\alpha}.\n",
    "$$"
   ]
  },
  {
   "cell_type": "markdown",
   "id": "b299b7d2",
   "metadata": {
    "editable": true
   },
   "source": [
    "Note that the sums over greek indices run over the number of basis set functions (in principle an infinite number)."
   ]
  },
  {
   "cell_type": "markdown",
   "id": "1cdece26",
   "metadata": {
    "editable": true
   },
   "source": [
    "## Hartree-Fock by varying the coefficients of a wave function expansion\n",
    "\n",
    "Defining"
   ]
  },
  {
   "cell_type": "markdown",
   "id": "be385df3",
   "metadata": {
    "editable": true
   },
   "source": [
    "$$\n",
    "h_{\\alpha\\beta}^{HF}=\\langle \\alpha | h | \\beta \\rangle+\n",
    "\\sum_{j=1}^N\\sum_{\\gamma\\delta} C^*_{j\\gamma}C_{j\\delta}\\langle \\alpha\\gamma|\\hat{v}|\\beta\\delta\\rangle_{AS},\n",
    "$$"
   ]
  },
  {
   "cell_type": "markdown",
   "id": "e08bb982",
   "metadata": {
    "editable": true
   },
   "source": [
    "we can rewrite the new equations as"
   ]
  },
  {
   "cell_type": "markdown",
   "id": "0bb150d6",
   "metadata": {
    "editable": true
   },
   "source": [
    "<!-- Equation labels as ordinary links -->\n",
    "<div id=\"eq:newhf\"></div>\n",
    "\n",
    "$$\n",
    "\\begin{equation}\n",
    "\\sum_{\\beta}h_{\\alpha\\beta}^{HF}C_{i\\beta}=\\epsilon_i^{HF}C_{i\\alpha}. \\label{eq:newhf} \\tag{8}\n",
    "\\end{equation}\n",
    "$$"
   ]
  },
  {
   "cell_type": "markdown",
   "id": "0be3186b",
   "metadata": {
    "editable": true
   },
   "source": [
    "The latter is nothing but a standard eigenvalue problem. Compared with Eq. ([3](#eq:hartreefockcoordinatespace)),\n",
    "we see that we do not need to compute any integrals in an iterative procedure for solving the equations.\n",
    "It suffices to tabulate the matrix elements $\\langle \\alpha | h | \\beta \\rangle$ and $\\langle \\alpha\\gamma|\\hat{v}|\\beta\\delta\\rangle_{AS}$ once and for all. Successive iterations require thus only a look-up in tables over one-body and two-body matrix elements. These details will be discussed below when we solve the Hartree-Fock equations numerical."
   ]
  },
  {
   "cell_type": "markdown",
   "id": "9966da71",
   "metadata": {
    "editable": true
   },
   "source": [
    "## Hartree-Fock algorithm\n",
    "\n",
    "Our Hartree-Fock matrix  is thus"
   ]
  },
  {
   "cell_type": "markdown",
   "id": "2f054de2",
   "metadata": {
    "editable": true
   },
   "source": [
    "$$\n",
    "\\hat{h}_{\\alpha\\beta}^{HF}=\\langle \\alpha | \\hat{h}_0 | \\beta \\rangle+\n",
    "\\sum_{j=1}^N\\sum_{\\gamma\\delta} C^*_{j\\gamma}C_{j\\delta}\\langle \\alpha\\gamma|\\hat{v}|\\beta\\delta\\rangle_{AS}.\n",
    "$$"
   ]
  },
  {
   "cell_type": "markdown",
   "id": "b0b62a67",
   "metadata": {
    "editable": true
   },
   "source": [
    "The Hartree-Fock equations are solved in an iterative waym starting with a guess for the coefficients $C_{j\\gamma}=\\delta_{j,\\gamma}$ and solving the equations by diagonalization till the new single-particle energies\n",
    "$\\epsilon_i^{\\mathrm{HF}}$ do not change anymore by a prefixed quantity."
   ]
  },
  {
   "cell_type": "markdown",
   "id": "c294c829",
   "metadata": {
    "editable": true
   },
   "source": [
    "## Hartree-Fock by varying the coefficients of a wave function expansion\n",
    "\n",
    "Normally we assume that the single-particle basis $|\\beta\\rangle$ forms an eigenbasis for the operator\n",
    "$\\hat{h}_0$, meaning that the Hartree-Fock matrix becomes"
   ]
  },
  {
   "cell_type": "markdown",
   "id": "5cf1eb00",
   "metadata": {
    "editable": true
   },
   "source": [
    "$$\n",
    "\\hat{h}_{\\alpha\\beta}^{HF}=\\epsilon_{\\alpha}\\delta_{\\alpha,\\beta}+\n",
    "\\sum_{j=1}^N\\sum_{\\gamma\\delta} C^*_{j\\gamma}C_{j\\delta}\\langle \\alpha\\gamma|\\hat{v}|\\beta\\delta\\rangle_{AS}.\n",
    "$$"
   ]
  },
  {
   "cell_type": "markdown",
   "id": "81263acf",
   "metadata": {
    "editable": true
   },
   "source": [
    "The Hartree-Fock eigenvalue problem"
   ]
  },
  {
   "cell_type": "markdown",
   "id": "1df98be1",
   "metadata": {
    "editable": true
   },
   "source": [
    "$$\n",
    "\\sum_{\\beta}\\hat{h}_{\\alpha\\beta}^{HF}C_{i\\beta}=\\epsilon_i^{\\mathrm{HF}}C_{i\\alpha},\n",
    "$$"
   ]
  },
  {
   "cell_type": "markdown",
   "id": "d5e43440",
   "metadata": {
    "editable": true
   },
   "source": [
    "can be written out in a more compact form as"
   ]
  },
  {
   "cell_type": "markdown",
   "id": "dd6a2e73",
   "metadata": {
    "editable": true
   },
   "source": [
    "$$\n",
    "\\hat{h}^{HF}\\hat{C}=\\epsilon^{\\mathrm{HF}}\\hat{C}.\n",
    "$$"
   ]
  },
  {
   "cell_type": "markdown",
   "id": "d4a3082a",
   "metadata": {
    "editable": true
   },
   "source": [
    "## Hartree-Fock by varying the coefficients of a wave function expansion\n",
    "\n",
    "The Hartree-Fock equations are, in their simplest form, solved in an\n",
    "iterative way, starting with a guess for the coefficients\n",
    "$C_{i\\alpha}$. We label the coefficients as $C_{i\\alpha}^{(n)}$, where\n",
    "the subscript $n$ stands for iteration $n$.  To set up the algorithm\n",
    "we can proceed as follows:\n",
    "\n",
    " * We start with a guess $C_{i\\alpha}^{(0)}=\\delta_{i,\\alpha}$. Alternatively, we could have used random starting values as long as the vectors are normalized. Another possibility is to give states below the Fermi level a larger weight.\n",
    "\n",
    " * The Hartree-Fock matrix simplifies then to (assuming that the coefficients $C_{i\\alpha} $  are real)"
   ]
  },
  {
   "cell_type": "markdown",
   "id": "ef9da9ca",
   "metadata": {
    "editable": true
   },
   "source": [
    "$$\n",
    "\\hat{h}_{\\alpha\\beta}^{HF}=\\epsilon_{\\alpha}\\delta_{\\alpha,\\beta}+\n",
    "\\sum_{j = 1}^N\\sum_{\\gamma\\delta} C_{j\\gamma}^{(0)}C_{j\\delta}^{(0)}\\langle \\alpha\\gamma|\\hat{v}|\\beta\\delta\\rangle_{AS}.\n",
    "$$"
   ]
  },
  {
   "cell_type": "markdown",
   "id": "fb336606",
   "metadata": {
    "editable": true
   },
   "source": [
    "## Hartree-Fock by varying the coefficients of a wave function expansion\n",
    "\n",
    "Solving the Hartree-Fock eigenvalue problem yields then new eigenvectors $C_{i\\alpha}^{(1)}$ and eigenvalues\n",
    "$\\epsilon_i^{HF(1)}$. \n",
    " * With the new eigenvalues we can set up a new Hartree-Fock potential"
   ]
  },
  {
   "cell_type": "markdown",
   "id": "db839d6f",
   "metadata": {
    "editable": true
   },
   "source": [
    "$$\n",
    "\\sum_{j = 1}^N\\sum_{\\gamma\\delta} C_{j\\gamma}^{(1)}C_{j\\delta}^{(1)}\\langle \\alpha\\gamma|\\hat{v}|\\beta\\delta\\rangle_{AS}.\n",
    "$$"
   ]
  },
  {
   "cell_type": "markdown",
   "id": "a47d91a2",
   "metadata": {
    "editable": true
   },
   "source": [
    "The diagonalization with the new Hartree-Fock potential yields new eigenvectors and eigenvalues.\n",
    "This process is continued till for example"
   ]
  },
  {
   "cell_type": "markdown",
   "id": "76c8c1be",
   "metadata": {
    "editable": true
   },
   "source": [
    "$$\n",
    "\\frac{\\sum_{p} |\\epsilon_i^{(n)}-\\epsilon_i^{(n-1)}|}{m} \\le \\lambda,\n",
    "$$"
   ]
  },
  {
   "cell_type": "markdown",
   "id": "0e0d7774",
   "metadata": {
    "editable": true
   },
   "source": [
    "where $\\lambda$ is a user prefixed quantity ($\\lambda \\sim 10^{-8}$ or smaller) and $p$ runs over all calculated single-particle\n",
    "energies and $m$ is the number of single-particle states."
   ]
  },
  {
   "cell_type": "markdown",
   "id": "5310edea",
   "metadata": {
    "editable": true
   },
   "source": [
    "## Using the density matrix\n",
    "\n",
    "The equations are often rewritten in terms of a so-called density matrix,\n",
    "which is defined as"
   ]
  },
  {
   "cell_type": "markdown",
   "id": "0b71a21f",
   "metadata": {
    "editable": true
   },
   "source": [
    "<!-- Equation labels as ordinary links -->\n",
    "<div id=\"_auto2\"></div>\n",
    "\n",
    "$$\n",
    "\\begin{equation}\n",
    "\\rho_{\\gamma\\delta}=\\sum_{i=1}^{N}\\langle\\gamma|i\\rangle\\langle i|\\delta\\rangle = \\sum_{i=1}^{N}C_{i\\gamma}C^*_{i\\delta}.\n",
    "\\label{_auto2} \\tag{9}\n",
    "\\end{equation}\n",
    "$$"
   ]
  },
  {
   "cell_type": "markdown",
   "id": "ff88c002",
   "metadata": {
    "editable": true
   },
   "source": [
    "It means that we can rewrite the Hartree-Fock Hamiltonian as"
   ]
  },
  {
   "cell_type": "markdown",
   "id": "84e38116",
   "metadata": {
    "editable": true
   },
   "source": [
    "$$\n",
    "\\hat{h}_{\\alpha\\beta}^{HF}=\\epsilon_{\\alpha}\\delta_{\\alpha,\\beta}+\n",
    "\\sum_{\\gamma\\delta} \\rho_{\\gamma\\delta}\\langle \\alpha\\gamma|V|\\beta\\delta\\rangle_{AS}.\n",
    "$$"
   ]
  },
  {
   "cell_type": "markdown",
   "id": "10d90dae",
   "metadata": {
    "editable": true
   },
   "source": [
    "It is convenient to use the density matrix since we can precalculate in every iteration the product of two eigenvector components $C$."
   ]
  },
  {
   "cell_type": "markdown",
   "id": "483bf000",
   "metadata": {
    "editable": true
   },
   "source": [
    "## Code example"
   ]
  },
  {
   "cell_type": "code",
   "execution_count": 1,
   "id": "3f51dace",
   "metadata": {
    "collapsed": false,
    "editable": true
   },
   "outputs": [],
   "source": [
    "import numpy as np\n",
    "class HartreeFock:\n",
    "    def __init__(self, num_electrons, num_orbitals):\n",
    "        self.num_electrons = num_electrons\n",
    "        self.num_orbitals = num_orbitals\n",
    "\t# You would need to replace these by proper integrals\n",
    "        self.h = np.random.rand(num_orbitals, num_orbitals)  # One-electron integrals\n",
    "        self.coulomb = np.random.rand(num_orbitals, num_orbitals, num_orbitals, num_orbitals)  # Two-electron integrals\n",
    "    def build_fock_matrix(self, density_matrix):\n",
    "        fock_matrix = self.h.copy()\n",
    "        for i in range(self.num_orbitals):\n",
    "            for j in range(self.num_orbitals):\n",
    "                fock_matrix[i, j] += np.sum(density_matrix * self.coulomb[i, j])\n",
    "        return fock_matrix\n",
    "    def build_density_matrix(self, coefficients):\n",
    "        density_matrix = np.zeros((self.num_orbitals, self.num_orbitals))\n",
    "        for i in range(self.num_electrons):\n",
    "            density_matrix += np.outer(coefficients[:, i], coefficients[:, i])\n",
    "        return density_matrix\n",
    "    def diagonalize(self, fock_matrix):\n",
    "        energy, coefficients = np.linalg.eigh(fock_matrix)\n",
    "        return energy, coefficients\n",
    "    def run(self, max_iter=100, tol=1e-6):\n",
    "        coeffs = np.zeros((self.num_orbitals, self.num_electrons))\n",
    "        density_matrix = np.zeros((self.num_orbitals, self.num_orbitals))\n",
    "        for iteration in range(max_iter):\n",
    "            fock_matrix = self.build_fock_matrix(density_matrix)\n",
    "            energies, coeffs = self.diagonalize(fock_matrix)\n",
    "            \n",
    "            new_density_matrix = self.build_density_matrix(coeffs)\n",
    "            if np.linalg.norm(new_density_matrix - density_matrix) < tol:\n",
    "                print(f\"Converged in {iteration} iterations\")\n",
    "                break\n",
    "            density_matrix = new_density_matrix\n",
    "        return energies, coeffs\n",
    "# Example usage\n",
    "if __name__ == \"__main__\":\n",
    "    num_electrons = 2\n",
    "    num_orbitals = 4\n",
    "    hf = HartreeFock(num_electrons, num_orbitals)\n",
    "    energies, coefficients = hf.run()\n",
    "    print(\"Final energies:\", energies)\n",
    "    print(\"Final coefficients:\", coefficients)"
   ]
  },
  {
   "cell_type": "markdown",
   "id": "d8d05222",
   "metadata": {
    "editable": true
   },
   "source": [
    "## Analysis of Hartree-Fock equations and Koopman's theorem\n",
    "We can rewrite the ground state energy by adding and subtracting $\\hat{u}^{HF}(x_i)$"
   ]
  },
  {
   "cell_type": "markdown",
   "id": "24a787fa",
   "metadata": {
    "editable": true
   },
   "source": [
    "$$\n",
    "E_0^{HF} =\\langle \\Phi_0 | \\hat{H} | \\Phi_0\\rangle = \n",
    "\\sum_{i\\le F} \\langle i | \\hat{h}_0 +\\hat{u}^{HF}| j\\rangle+ \\frac{1}{2}\\sum_{i\\le F}\\sum_{j \\le F}\\left[\\langle ij |\\hat{v}|ij \\rangle-\\langle ij|\\hat{v}|ji\\rangle\\right]-\\sum_{i\\le F} \\langle i |\\hat{u}^{HF}| i\\rangle,\n",
    "$$"
   ]
  },
  {
   "cell_type": "markdown",
   "id": "61cf4d8d",
   "metadata": {
    "editable": true
   },
   "source": [
    "which results in"
   ]
  },
  {
   "cell_type": "markdown",
   "id": "18a0b582",
   "metadata": {
    "editable": true
   },
   "source": [
    "$$\n",
    "E_0^{HF}\n",
    "  = \\sum_{i\\le F} \\varepsilon_i^{HF} + \\frac{1}{2}\\sum_{i\\le F}\\sum_{j \\le F}\\left[\\langle ij |\\hat{v}|ij \\rangle-\\langle ij|\\hat{v}|ji\\rangle\\right]-\\sum_{i\\le F} \\langle i |\\hat{u}^{HF}| i\\rangle.\n",
    "$$"
   ]
  },
  {
   "cell_type": "markdown",
   "id": "5585e3fe",
   "metadata": {
    "editable": true
   },
   "source": [
    "Our single-particle states $ijk\\dots$ are now single-particle states obtained from the solution of the Hartree-Fock equations."
   ]
  },
  {
   "cell_type": "markdown",
   "id": "848e52c5",
   "metadata": {
    "editable": true
   },
   "source": [
    "## Analysis of Hartree-Fock equations and Koopman's theorem\n",
    "Using our definition of the Hartree-Fock single-particle energies we obtain then the following expression for the total ground-state energy"
   ]
  },
  {
   "cell_type": "markdown",
   "id": "532b9be0",
   "metadata": {
    "editable": true
   },
   "source": [
    "$$\n",
    "E_0^{HF}\n",
    "  = \\sum_{i\\le F} \\varepsilon_i - \\frac{1}{2}\\sum_{i\\le F}\\sum_{j \\le F}\\left[\\langle ij |\\hat{v}|ij \\rangle-\\langle ij|\\hat{v}|ji\\rangle\\right].\n",
    "$$"
   ]
  },
  {
   "cell_type": "markdown",
   "id": "6910e20f",
   "metadata": {
    "editable": true
   },
   "source": [
    "This form will be used in our discussion of Koopman's theorem."
   ]
  },
  {
   "cell_type": "markdown",
   "id": "31dd0c26",
   "metadata": {
    "editable": true
   },
   "source": [
    "## Analysis of Hartree-Fock equations and Koopman's theorem\n",
    "**Atomic physics case.**\n",
    "\n",
    "We have"
   ]
  },
  {
   "cell_type": "markdown",
   "id": "e7c82508",
   "metadata": {
    "editable": true
   },
   "source": [
    "$$\n",
    "E[\\Phi^{\\mathrm{HF}}(N)] \n",
    "  = \\sum_{i=1}^H \\langle i | \\hat{h}_0 | i \\rangle +\n",
    "  \\frac{1}{2}\\sum_{ij=1}^N\\langle ij|\\hat{v}|ij\\rangle_{AS},\n",
    "$$"
   ]
  },
  {
   "cell_type": "markdown",
   "id": "68a912ae",
   "metadata": {
    "editable": true
   },
   "source": [
    "where $\\Phi^{\\mathrm{HF}}(N)$ is the new Slater determinant defined by the new basis of Eq. ([4](#eq:newbasis))\n",
    "for $N$ electrons (same $Z$).  If we assume that the single-particle wave functions in the new basis do not change \n",
    "when we remove one electron or add one electron, we can then define the corresponding energy for the $N-1$ systems as"
   ]
  },
  {
   "cell_type": "markdown",
   "id": "ade91e36",
   "metadata": {
    "editable": true
   },
   "source": [
    "$$\n",
    "E[\\Phi^{\\mathrm{HF}}(N-1)] \n",
    "  = \\sum_{i=1; i\\ne k}^N \\langle i | \\hat{h}_0 | i \\rangle +\n",
    "  \\frac{1}{2}\\sum_{ij=1;i,j\\ne k}^N\\langle ij|\\hat{v}|ij\\rangle_{AS},\n",
    "$$"
   ]
  },
  {
   "cell_type": "markdown",
   "id": "4e1d07f1",
   "metadata": {
    "editable": true
   },
   "source": [
    "where we have removed a single-particle state $k\\le F$, that is a state below the Fermi level."
   ]
  },
  {
   "cell_type": "markdown",
   "id": "83b0a09e",
   "metadata": {
    "editable": true
   },
   "source": [
    "## Analysis of Hartree-Fock equations and Koopman's theorem\n",
    "Calculating the difference"
   ]
  },
  {
   "cell_type": "markdown",
   "id": "33eea7cd",
   "metadata": {
    "editable": true
   },
   "source": [
    "$$\n",
    "E[\\Phi^{\\mathrm{HF}}(N)]-   E[\\Phi^{\\mathrm{HF}}(N-1)] = \\langle k | \\hat{h}_0 | k \\rangle +\n",
    "  \\frac{1}{2}\\sum_{i=1;i\\ne k}^N\\langle ik|\\hat{v}|ik\\rangle_{AS}  \\frac{1}{2}\\sum_{j=1;j\\ne k}^N\\langle kj|\\hat{v}|kj\\rangle_{AS},\n",
    "$$"
   ]
  },
  {
   "cell_type": "markdown",
   "id": "4504aa6d",
   "metadata": {
    "editable": true
   },
   "source": [
    "we obtain"
   ]
  },
  {
   "cell_type": "markdown",
   "id": "d66d19a0",
   "metadata": {
    "editable": true
   },
   "source": [
    "$$\n",
    "E[\\Phi^{\\mathrm{HF}}(N)]-   E[\\Phi^{\\mathrm{HF}}(N-1)] = \\langle k | \\hat{h}_0 | k \\rangle +\n",
    "  \\frac{1}{2}\\sum_{j=1}^N\\langle kj|\\hat{v}|kj\\rangle_{AS}\n",
    "$$"
   ]
  },
  {
   "cell_type": "markdown",
   "id": "cc02f167",
   "metadata": {
    "editable": true
   },
   "source": [
    "which is just our definition of the Hartree-Fock single-particle energy"
   ]
  },
  {
   "cell_type": "markdown",
   "id": "50c9f7d5",
   "metadata": {
    "editable": true
   },
   "source": [
    "$$\n",
    "E[\\Phi^{\\mathrm{HF}}(N)]-   E[\\Phi^{\\mathrm{HF}}(N-1)] = \\epsilon_k^{\\mathrm{HF}}\n",
    "$$"
   ]
  },
  {
   "cell_type": "markdown",
   "id": "52e31881",
   "metadata": {
    "editable": true
   },
   "source": [
    "## Analysis of Hartree-Fock equations and Koopman's theorem\n",
    "Similarly, we can now compute the difference (we label the single-particle states above the Fermi level as $abcd > F$)"
   ]
  },
  {
   "cell_type": "markdown",
   "id": "b0fee0ba",
   "metadata": {
    "editable": true
   },
   "source": [
    "$$\n",
    "E[\\Phi^{\\mathrm{HF}}(N+1)]-   E[\\Phi^{\\mathrm{HF}}(N)]= \\epsilon_a^{\\mathrm{HF}}.\n",
    "$$"
   ]
  },
  {
   "cell_type": "markdown",
   "id": "444e4d9a",
   "metadata": {
    "editable": true
   },
   "source": [
    "These two equations can thus be used to the electron affinity or ionization energies, respectively. \n",
    "Koopman's theorem states that for example the ionization energy of a closed-shell system is given by the energy of the highest occupied single-particle state.  If we assume that changing the number of electrons from $N$ to $N+1$ does not change the Hartree-Fock single-particle energies and eigenfunctions, then Koopman's theorem simply states that the ionization energy of an atom is given by the single-particle energy of the last bound state. In a similar way, we can also define the electron affinities."
   ]
  },
  {
   "cell_type": "markdown",
   "id": "3a6d0bfb",
   "metadata": {
    "editable": true
   },
   "source": [
    "## Analysis of Hartree-Fock equations and Koopman's theorem\n",
    "As an example, consider a simple model for atomic sodium, Na. Neutral sodium has eleven electrons, \n",
    "with the weakest bound one being confined the $3s$ single-particle quantum numbers. The energy needed to remove an electron from neutral sodium is rather small, 5.1391 eV, a feature which pertains to all alkali metals.\n",
    "Having performed a  Hartree-Fock calculation for neutral sodium would then allows us to compute the\n",
    "ionization energy by using the single-particle energy for the $3s$ states, namely $\\epsilon_{3s}^{\\mathrm{HF}}$. \n",
    "\n",
    "From these considerations, we see that Hartree-Fock theory allows us to make a connection between experimental \n",
    "observables (here ionization and affinity energies) and the underlying interactions between particles.  \n",
    "In this sense, we are now linking the dynamics and structure of a many-body system with the laws of motion which govern the system. Our approach is a reductionistic one, meaning that we want to understand the laws of motion \n",
    "in terms of the particles or degrees of freedom which we believe are the fundamental ones. Our Slater determinant, being constructed as the product of various single-particle functions, follows this philosophy."
   ]
  },
  {
   "cell_type": "markdown",
   "id": "cb0e1e14",
   "metadata": {
    "editable": true
   },
   "source": [
    "## Analysis of Hartree-Fock equations, Koopman's theorem\n",
    "With similar arguments as in atomic physics, we can now use Hartree-Fock theory to make a link\n",
    "between nuclear forces and separation energies. Changing to nuclear system, we define"
   ]
  },
  {
   "cell_type": "markdown",
   "id": "62a47721",
   "metadata": {
    "editable": true
   },
   "source": [
    "$$\n",
    "E[\\Phi^{\\mathrm{HF}}(A)] \n",
    "  = \\sum_{i=1} \\langle i | \\hat{h}_0 | i \\rangle +\n",
    "  \\frac{1}{2}\\sum_{ij=1}\\langle ij|\\hat{v}|ij\\rangle_{AS},\n",
    "$$"
   ]
  },
  {
   "cell_type": "markdown",
   "id": "e2519565",
   "metadata": {
    "editable": true
   },
   "source": [
    "where $\\Phi^{\\mathrm{HF}}(A)$ is the new Slater determinant defined by the new basis of Eq. ([4](#eq:newbasis))\n",
    "for $A$ nucleons, where $A=N+Z$, with $N$ now being the number of neutrons and $Z$ the number of protons.  If we assume again that the single-particle wave functions in the new basis do not change from a nucleus with $A$ nucleons to a nucleus with $A-1$  nucleons, we can then define the corresponding energy for the $A-1$ systems as"
   ]
  },
  {
   "cell_type": "markdown",
   "id": "4486c5e8",
   "metadata": {
    "editable": true
   },
   "source": [
    "$$\n",
    "E[\\Phi^{\\mathrm{HF}}(A-1)] \n",
    "  = \\sum_{i=1; i\\ne k} \\langle i | \\hat{h}_0 | i \\rangle +\n",
    "  \\frac{1}{2}\\sum_{ij=1;i,j\\ne k}\\langle ij|\\hat{v}|ij\\rangle_{AS},\n",
    "$$"
   ]
  },
  {
   "cell_type": "markdown",
   "id": "580c3328",
   "metadata": {
    "editable": true
   },
   "source": [
    "where we have removed a single-particle state $k\\le F$, that is a state below the Fermi level."
   ]
  },
  {
   "cell_type": "markdown",
   "id": "b3b23846",
   "metadata": {
    "editable": true
   },
   "source": [
    "## Analysis of Hartree-Fock equations and Koopman's theorem\n",
    "Calculating the difference"
   ]
  },
  {
   "cell_type": "markdown",
   "id": "e909c3f5",
   "metadata": {
    "editable": true
   },
   "source": [
    "$$\n",
    "E[\\Phi^{\\mathrm{HF}}(A)]-   E[\\Phi^{\\mathrm{HF}}(A-1)] \n",
    "  = \\langle k | \\hat{h}_0 | k \\rangle +\n",
    "  \\frac{1}{2}\\sum_{i=1;i\\ne k}\\langle ik|\\hat{v}|ik\\rangle_{AS}  \\frac{1}{2}\\sum_{j=1;j\\ne k}\\langle kj|\\hat{v}|kj\\rangle_{AS},\n",
    "$$"
   ]
  },
  {
   "cell_type": "markdown",
   "id": "798a4052",
   "metadata": {
    "editable": true
   },
   "source": [
    "which becomes"
   ]
  },
  {
   "cell_type": "markdown",
   "id": "94001b65",
   "metadata": {
    "editable": true
   },
   "source": [
    "$$\n",
    "E[\\Phi^{\\mathrm{HF}}(A)]-   E[\\Phi^{\\mathrm{HF}}(A-1)] \n",
    "  = \\langle k | \\hat{h}_0 | k \\rangle +\n",
    "  \\frac{1}{2}\\sum_{j=1}\\langle kj|\\hat{v}|kj\\rangle_{AS}\n",
    "$$"
   ]
  },
  {
   "cell_type": "markdown",
   "id": "96f07894",
   "metadata": {
    "editable": true
   },
   "source": [
    "which is just our definition of the Hartree-Fock single-particle energy"
   ]
  },
  {
   "cell_type": "markdown",
   "id": "0f963bef",
   "metadata": {
    "editable": true
   },
   "source": [
    "$$\n",
    "E[\\Phi^{\\mathrm{HF}}(A)]-   E[\\Phi^{\\mathrm{HF}}(A-1)] \n",
    "  = \\epsilon_k^{\\mathrm{HF}}\n",
    "$$"
   ]
  },
  {
   "cell_type": "markdown",
   "id": "5cf88810",
   "metadata": {
    "editable": true
   },
   "source": [
    "## Analysis of Hartree-Fock equations and Koopman's theorem\n",
    "Similarly, we can now compute the difference (recall that the single-particle states $abcd > F$)"
   ]
  },
  {
   "cell_type": "markdown",
   "id": "1d066042",
   "metadata": {
    "editable": true
   },
   "source": [
    "$$\n",
    "E[\\Phi^{\\mathrm{HF}}(A+1)]-   E[\\Phi^{\\mathrm{HF}}(A)]= \\epsilon_a^{\\mathrm{HF}}.\n",
    "$$"
   ]
  },
  {
   "cell_type": "markdown",
   "id": "537220af",
   "metadata": {
    "editable": true
   },
   "source": [
    "If we then recall that the binding energy differences"
   ]
  },
  {
   "cell_type": "markdown",
   "id": "02b6fd3d",
   "metadata": {
    "editable": true
   },
   "source": [
    "$$\n",
    "BE(A)-BE(A-1) \\hspace{0.5cm} \\mathrm{and} \\hspace{0.5cm} BE(A+1)-BE(A),\n",
    "$$"
   ]
  },
  {
   "cell_type": "markdown",
   "id": "ddb40d8c",
   "metadata": {
    "editable": true
   },
   "source": [
    "define the separation energies, we see that the Hartree-Fock single-particle energies can be used to\n",
    "define separation energies. We have thus our first link between nuclear forces (included in the potential energy term) and an observable quantity defined by differences in binding energies."
   ]
  },
  {
   "cell_type": "markdown",
   "id": "ec321af4",
   "metadata": {
    "editable": true
   },
   "source": [
    "## Analysis of Hartree-Fock equations and Koopman's theorem\n",
    "We have thus the following interpretations (if the single-particle field do not change)"
   ]
  },
  {
   "cell_type": "markdown",
   "id": "6e35c0d8",
   "metadata": {
    "editable": true
   },
   "source": [
    "$$\n",
    "BE(A)-BE(A-1)\\approx  E[\\Phi^{\\mathrm{HF}}(A)]-   E[\\Phi^{\\mathrm{HF}}(A-1)] \n",
    "  = \\epsilon_k^{\\mathrm{HF}},\n",
    "$$"
   ]
  },
  {
   "cell_type": "markdown",
   "id": "6d7cc060",
   "metadata": {
    "editable": true
   },
   "source": [
    "and"
   ]
  },
  {
   "cell_type": "markdown",
   "id": "37a11ac3",
   "metadata": {
    "editable": true
   },
   "source": [
    "$$\n",
    "BE(A+1)-BE(A)\\approx  E[\\Phi^{\\mathrm{HF}}(A+1)]-   E[\\Phi^{\\mathrm{HF}}(A)] =  \\epsilon_a^{\\mathrm{HF}}.\n",
    "$$"
   ]
  },
  {
   "cell_type": "markdown",
   "id": "ea6db37c",
   "metadata": {
    "editable": true
   },
   "source": [
    "If  we use ${}^{16}\\mbox{O}$ as our closed-shell nucleus, we could then interpret the separation energy"
   ]
  },
  {
   "cell_type": "markdown",
   "id": "a9ec594e",
   "metadata": {
    "editable": true
   },
   "source": [
    "$$\n",
    "BE(^{16}\\mathrm{O})-BE(^{15}\\mathrm{O})\\approx \\epsilon_{0p^{\\nu}_{1/2}}^{\\mathrm{HF}},\n",
    "$$"
   ]
  },
  {
   "cell_type": "markdown",
   "id": "40c83fa0",
   "metadata": {
    "editable": true
   },
   "source": [
    "and"
   ]
  },
  {
   "cell_type": "markdown",
   "id": "2be5129e",
   "metadata": {
    "editable": true
   },
   "source": [
    "$$\n",
    "BE(^{16}\\mathrm{O})-BE(^{15}\\mathrm{N})\\approx \\epsilon_{0p^{\\pi}_{1/2}}^{\\mathrm{HF}}.\n",
    "$$"
   ]
  },
  {
   "cell_type": "markdown",
   "id": "23ecc31f",
   "metadata": {
    "editable": true
   },
   "source": [
    "## Analysis of Hartree-Fock equations and Koopman's theorem\n",
    "Similalry, we could interpret"
   ]
  },
  {
   "cell_type": "markdown",
   "id": "f86a31b9",
   "metadata": {
    "editable": true
   },
   "source": [
    "$$\n",
    "BE(^{17}\\mathrm{O})-BE(^{16}\\mathrm{O})\\approx \\epsilon_{0d^{\\nu}_{5/2}}^{\\mathrm{HF}},\n",
    "$$"
   ]
  },
  {
   "cell_type": "markdown",
   "id": "fa424a2d",
   "metadata": {
    "editable": true
   },
   "source": [
    "and"
   ]
  },
  {
   "cell_type": "markdown",
   "id": "40d5ede7",
   "metadata": {
    "editable": true
   },
   "source": [
    "$$\n",
    "BE(^{17}\\mathrm{F})-BE(^{16}\\mathrm{O})\\approx\\epsilon_{0d^{\\pi}_{5/2}}^{\\mathrm{HF}}.\n",
    "$$"
   ]
  },
  {
   "cell_type": "markdown",
   "id": "f5170fed",
   "metadata": {
    "editable": true
   },
   "source": [
    "We can continue like this for all $A\\pm 1$ nuclei where $A$ is a good closed-shell (or subshell closure)\n",
    "nucleus. Examples are ${}^{22}\\mbox{O}$, ${}^{24}\\mbox{O}$, ${}^{40}\\mbox{Ca}$, ${}^{48}\\mbox{Ca}$, ${}^{52}\\mbox{Ca}$, ${}^{54}\\mbox{Ca}$, ${}^{56}\\mbox{Ni}$, \n",
    "${}^{68}\\mbox{Ni}$, ${}^{78}\\mbox{Ni}$, ${}^{90}\\mbox{Zr}$, ${}^{88}\\mbox{Sr}$, ${}^{100}\\mbox{Sn}$, ${}^{132}\\mbox{Sn}$ and ${}^{208}\\mbox{Pb}$, to mention some possile cases."
   ]
  },
  {
   "cell_type": "markdown",
   "id": "d9a9d90e",
   "metadata": {
    "editable": true
   },
   "source": [
    "## Analysis of Hartree-Fock equations and Koopman's theorem\n",
    "We can thus make our first interpretation of the separation energies in terms of the simplest\n",
    "possible many-body theory. \n",
    "If we also recall that the so-called energy gap for neutrons (or protons) is defined as"
   ]
  },
  {
   "cell_type": "markdown",
   "id": "7b93bc2a",
   "metadata": {
    "editable": true
   },
   "source": [
    "$$\n",
    "\\Delta S_n= 2BE(N,Z)-BE(N-1,Z)-BE(N+1,Z),\n",
    "$$"
   ]
  },
  {
   "cell_type": "markdown",
   "id": "5becc41a",
   "metadata": {
    "editable": true
   },
   "source": [
    "for neutrons and the corresponding gap for protons"
   ]
  },
  {
   "cell_type": "markdown",
   "id": "c8ac0f9f",
   "metadata": {
    "editable": true
   },
   "source": [
    "$$\n",
    "\\Delta S_p= 2BE(N,Z)-BE(N,Z-1)-BE(N,Z+1),\n",
    "$$"
   ]
  },
  {
   "cell_type": "markdown",
   "id": "5f30551f",
   "metadata": {
    "editable": true
   },
   "source": [
    "we can define the neutron and proton energy gaps for ${}^{16}\\mbox{O}$ as"
   ]
  },
  {
   "cell_type": "markdown",
   "id": "c8ca20f8",
   "metadata": {
    "editable": true
   },
   "source": [
    "$$\n",
    "\\Delta S_{\\nu}=\\epsilon_{0d^{\\nu}_{5/2}}^{\\mathrm{HF}}-\\epsilon_{0p^{\\nu}_{1/2}}^{\\mathrm{HF}},\n",
    "$$"
   ]
  },
  {
   "cell_type": "markdown",
   "id": "c9000d5c",
   "metadata": {
    "editable": true
   },
   "source": [
    "and"
   ]
  },
  {
   "cell_type": "markdown",
   "id": "a26e3598",
   "metadata": {
    "editable": true
   },
   "source": [
    "$$\n",
    "\\Delta S_{\\pi}=\\epsilon_{0d^{\\pi}_{5/2}}^{\\mathrm{HF}}-\\epsilon_{0p^{\\pi}_{1/2}}^{\\mathrm{HF}}.\n",
    "$$"
   ]
  }
 ],
 "metadata": {},
 "nbformat": 4,
 "nbformat_minor": 5
}
