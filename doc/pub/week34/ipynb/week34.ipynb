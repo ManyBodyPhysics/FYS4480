{
 "cells": [
  {
   "cell_type": "markdown",
   "id": "7ae79c01",
   "metadata": {
    "editable": true
   },
   "source": [
    "<!-- HTML file automatically generated from DocOnce source (https://github.com/doconce/doconce/)\n",
    "doconce format html week34.do.txt --no_mako -->\n",
    "<!-- dom:TITLE: Many-body Physics; Introduction to the course, notations and definitions -->"
   ]
  },
  {
   "cell_type": "markdown",
   "id": "2ded4bef",
   "metadata": {
    "editable": true
   },
   "source": [
    "# Many-body Physics; Introduction to the course, notations and definitions\n",
    "**Morten Hjorth-Jensen**, Department of Physics and Center for Computing in Science Education, University of Oslo, Norway\n",
    "\n",
    "Date: **Week 34, August 19-23, 2024**"
   ]
  },
  {
   "cell_type": "markdown",
   "id": "86719928",
   "metadata": {
    "editable": true
   },
   "source": [
    "## Week 34\n",
    "* Topics to be covered\n",
    "\n",
    "a. Thursday: Introduction to many-body physics, notations, definitions and plans for the semester\n",
    "\n",
    "    * Linear algebra reminder and basic mathematical background\n",
    "\n",
    "    * Hamiltonians and basis sets\n",
    "\n",
    "b. Video of lecture at <https://youtu.be/AIbnm_sBtqA>\n",
    "\n",
    "c. Friday: Fermions and bosons, basis sets and quantum mechanical expectation values\n",
    "\n",
    "    * Exercise session, see exercise set for week 34 at <https://github.com/ManyBodyPhysics/FYS4480/tree/master/doc/Exercises/2024>\n",
    "\n",
    "d. Video of lecture TBA at <https://youtu.be>\n",
    "\n",
    "* Lecture Material: These slides and Sazbo and Ostlund chapters 1 and 2."
   ]
  },
  {
   "cell_type": "markdown",
   "id": "ede60c60",
   "metadata": {
    "editable": true
   },
   "source": [
    "## Introduction to the course\n",
    "\n",
    "These lecture aim at giving an introduction to the quantum mechanics\n",
    "of many-body systems and the methods relevant for many-body problems\n",
    "in such diverse areas as atomic, molecular, solid-state and nuclear\n",
    "physics, chemistry and materials science. A theoretical understanding\n",
    "of the behavior of quantum-mechanical many-body systems, that is,\n",
    "systems containing many interacting particles, is a considerable\n",
    "challenge in that, normally, no exact solution can be found.  Instead,\n",
    "reliable methods are needed for approximate but accurate simulations\n",
    "of such systems."
   ]
  },
  {
   "cell_type": "markdown",
   "id": "87b9fcd5",
   "metadata": {
    "editable": true
   },
   "source": [
    "## Content for many-body lecture notes, intro\n",
    "\n",
    "* Intro chapter with basic definitions and simple examples and mathematics of many-body functions\n",
    "\n",
    "     * Definitions of SDs etc, permutation operators,linear algebra reminder including reminder about determinants, vector and mtx algebra, tensor products, representations, unitary transformations, link to quantities like\n",
    "\n",
    "     * one-body and two-body densities, rms radii etc. Discuss ansatze for wave functions and more.\n",
    "\n",
    "     * Ansaztes for wave functions"
   ]
  },
  {
   "cell_type": "markdown",
   "id": "51708b26",
   "metadata": {
    "editable": true
   },
   "source": [
    "## Content for many-body lecture notes, 2nd quantization\n",
    "\n",
    "* 2nd quantization for bosons and fermions and more\n",
    "\n",
    "     * Commutation rules and definition of creation and annihilation operators\n",
    "\n",
    "     * Proof of wick's theorem\n",
    "\n",
    "     * Discuss Wick's generalized theorem\n",
    "\n",
    "     * particle-hole picture\n",
    "\n",
    "     * interaction, Schroedinger and Heisenberg pictures, pros and cons\n",
    "\n",
    "     * time dependent wick's theorem\n",
    "\n",
    "     * Gell-Man and Low's theorem\n",
    "\n",
    "     * Adiabatic switching\n",
    "\n",
    "     * Derivation of expressions for different parts of Hamiltonians, 1b, 2b, 3b etc\n",
    "\n",
    "     * Wigner-Jordan transformation and 2nd quantization\n",
    "\n",
    "     * Baker-Campbell-Hausdorf (BCH)\n",
    "\n",
    "     * Suzuki-Trotter as an approximation to BCH"
   ]
  },
  {
   "cell_type": "markdown",
   "id": "37fa9824",
   "metadata": {
    "editable": true
   },
   "source": [
    "## Content for many-body lecture notes, FCI\n",
    "\n",
    "* FCI and diagrams and particle-hole representations\n",
    "\n",
    "     * Basics of FCI\n",
    "\n",
    "     * Rewriting in terms of a particle-hole picture\n",
    "\n",
    "     * Discuss slater determinants and similarity transformations and algorithms for solving eigenvalue problems\n",
    "\n",
    "     * Eigenvector continuation\n",
    "\n",
    "     * Introduce a diagrammatic representation"
   ]
  },
  {
   "cell_type": "markdown",
   "id": "bc4c6ddd",
   "metadata": {
    "editable": true
   },
   "source": [
    "## Content for many-body lecture notes, Mean-filed theories\n",
    "\n",
    "* Mean-field theories\n",
    "\n",
    "     * Hartree-Fock in coordinate space and 2nd quantization\n",
    "\n",
    "     * Thouless theorem\n",
    "\n",
    "     * Slater dets in HF theory\n",
    "\n",
    "     * DFT links\n",
    "\n",
    "     * The electron gas as example\n",
    "\n",
    "     * FCI and HF, diagrammatic representations and critical discussions"
   ]
  },
  {
   "cell_type": "markdown",
   "id": "6c4142f6",
   "metadata": {
    "editable": true
   },
   "source": [
    "## Content for many-body lecture notes, perturbation theory\n",
    "\n",
    "* Many-body perturbation theory\n",
    "\n",
    "     * Time dependent and time-independent representation\n",
    "\n",
    "     * Brillouin-Wigner and Rayleigh-Schrødinger pert theory\n",
    "\n",
    "     * Diagrammatic representation\n",
    "\n",
    "     * Linked-diagram theorem based on time-dependent theory"
   ]
  },
  {
   "cell_type": "markdown",
   "id": "acb7b1e1",
   "metadata": {
    "editable": true
   },
   "source": [
    "## Content for many-body lecture notes, Coupled Cluster theory\n",
    "* Coupled cluster theories, standard and unitary\n",
    "\n",
    "     * Derivation of equations for singles and doubles, reminder on unitary transformations\n",
    "\n",
    "     * non-hermiticity\n",
    "\n",
    "     * Specialize to CCD case and compare with FCI and MBPT"
   ]
  },
  {
   "cell_type": "markdown",
   "id": "87119efe",
   "metadata": {
    "editable": true
   },
   "source": [
    "## Content for many-body lecture notes, Green's function theory and other methods\n",
    "1. Green's function theory and parquet theory\n",
    "\n",
    "2. Monte Carlo methods\n",
    "\n",
    "     * Covered by FYS4411\n",
    "\n",
    "3. Quantum computing\n",
    "\n",
    "     * VQE and unitary CC, also covered by FYS5419\n",
    "\n",
    "4. Time-dependent many-body theory\n",
    "\n",
    "5. Applications to different systems like the electron gas, Lipkin model, Pairing model, infinite nuclear matter, and more"
   ]
  },
  {
   "cell_type": "markdown",
   "id": "715d3631",
   "metadata": {
    "editable": true
   },
   "source": [
    "## Recommended textbooks\n",
    "\n",
    "In the folder <https://github.com/ManyBodyPhysics/FYS4480/tree/master/doc/Literature> you will find the textbooks we will be following.\n",
    "Weekly reading assignments based on these texts will be sent before each week.\n",
    "In particular we recommend the texts by\n",
    "1. [Szabo and Ostlund](https://www.amazon.com/Modern-Quantum-Chemistry-Introduction-Electronic/dp/0486691861?asin=0486691861&revisionId=&format=4&depth=1)\n",
    "\n",
    "2. [Shavitt and Bartlett](https://www.cambridge.org/core/books/manybody-methods-in-chemistry-and-physics/D12027E4DAF75CE8214671D842C6B80C)"
   ]
  },
  {
   "cell_type": "markdown",
   "id": "9ef5f237",
   "metadata": {
    "editable": true
   },
   "source": [
    "## Teaching mode\n",
    "\n",
    "This course will be delivered in a hybrid mode, with online and on\n",
    "site lectures and on site exercise sessions. Only lectures are\n",
    "recorded.\n",
    "\n",
    "1. Four  lectures per week, fall semester, 10 ECTS. The lectures will be recorded and linked to this site and the official University of Oslo website for the course;\n",
    "\n",
    "2. Two hours of exercise sessions for work on projects and exercises;\n",
    "\n",
    "3. Two projects which are graded and count 30%  each of the final grade;\n",
    "\n",
    "4. A final oral exam which counts 40% of the final grade\n",
    "\n",
    "5. The course is offered as  FYS4480 (Master of Science level) and as FYS9480 (PhD level);\n",
    "\n",
    "a. Videos of teaching material and Weekly emails with summary of activities will be mailed to all participants;"
   ]
  },
  {
   "cell_type": "markdown",
   "id": "3d86e939",
   "metadata": {
    "editable": true
   },
   "source": [
    "## Notations and definitions\n",
    "\n",
    "Vectors, matrices and higher-order tensors are always boldfaced, with vectors\n",
    "given by lower case letter letters and matrices and higher-order tensors given by upper case letters.\n",
    "\n",
    "Unless otherwise stated, the elements $v_i$ of a vector $\\boldsymbol{v}$ are assumed to be real. That is a vector of length $n$ is defined as\n",
    "$\\boldsymbol{x}\\in \\mathbb{R}^{n}$ and if we have a complex vector we have $\\boldsymbol{x}\\in \\mathbb{C}^{n}$.\n",
    "\n",
    "For a matrix of dimension $n\\times n$ we have \n",
    "$\\boldsymbol{A}\\in \\mathbb{R}^{n\\times n}$ and the first matrix element starts with row element (row-wise ordering) zero and column element zero."
   ]
  },
  {
   "cell_type": "markdown",
   "id": "ff10fe98",
   "metadata": {
    "editable": true
   },
   "source": [
    "## Some  mathematical notations\n",
    "1. For all/any  $\\forall$\n",
    "\n",
    "2. Implies $\\implies$\n",
    "\n",
    "3. Equivalent $\\equiv$\n",
    "\n",
    "4. Real variable $\\mathbb{R}$\n",
    "\n",
    "5. Integer variable $\\mathbb{I}$\n",
    "\n",
    "6. Complex  variable $\\mathbb{C}$"
   ]
  },
  {
   "cell_type": "markdown",
   "id": "390696e5",
   "metadata": {
    "editable": true
   },
   "source": [
    "## Vectors\n",
    "\n",
    "We start by defining a vector $\\boldsymbol{x}$  with $n$ components, with $x_0$ as our first element, as"
   ]
  },
  {
   "cell_type": "markdown",
   "id": "856ff4eb",
   "metadata": {
    "editable": true
   },
   "source": [
    "$$\n",
    "\\boldsymbol{x} = \\begin{bmatrix} x_0\\\\ x_1 \\\\ x_2 \\\\ \\dots \\\\ \\dots \\\\ x_{n-1} \\end{bmatrix}.\n",
    "$$"
   ]
  },
  {
   "cell_type": "markdown",
   "id": "d404f383",
   "metadata": {
    "editable": true
   },
   "source": [
    "and its transpose"
   ]
  },
  {
   "cell_type": "markdown",
   "id": "903c1da5",
   "metadata": {
    "editable": true
   },
   "source": [
    "$$\n",
    "\\boldsymbol{x}^{T} = \\begin{bmatrix} x_0 & x_1 & x_2 & \\dots & \\dots & x_{n-1} \\end{bmatrix},\n",
    "$$"
   ]
  },
  {
   "cell_type": "markdown",
   "id": "6e4e1155",
   "metadata": {
    "editable": true
   },
   "source": [
    "In case we have a complex vector we define the hermitian conjugate"
   ]
  },
  {
   "cell_type": "markdown",
   "id": "75292d88",
   "metadata": {
    "editable": true
   },
   "source": [
    "$$\n",
    "\\boldsymbol{x}^{\\dagger} = \\begin{bmatrix} x_0^* & x_1^* & x_2^* & \\dots & \\dots & x_{n-1}^* \\end{bmatrix},\n",
    "$$"
   ]
  },
  {
   "cell_type": "markdown",
   "id": "52fb16b7",
   "metadata": {
    "editable": true
   },
   "source": [
    "With a given vector $\\boldsymbol{x}$, we define the inner product as"
   ]
  },
  {
   "cell_type": "markdown",
   "id": "49ae8adf",
   "metadata": {
    "editable": true
   },
   "source": [
    "$$\n",
    "\\boldsymbol{x}^T \\boldsymbol{x} = \\sum_{i=0}^{n-1} x_ix_i=x_0^2+x_1^2+\\dots + x_{n-1}^2.\n",
    "$$"
   ]
  },
  {
   "cell_type": "markdown",
   "id": "fce1a87f",
   "metadata": {
    "editable": true
   },
   "source": [
    "## Hermitian conjugate\n",
    "\n",
    "The hermitian conjugate of a matrix is obtained by taking the complex\n",
    "conjugate of each element and then taking the transpose of the\n",
    "resulting matrix. Often we will just say the transpose or just the\n",
    "conjugate, it should be clear from the context that we will mainly\n",
    "deal with hermitian quantities and our matrices will in most cases be square matrices.\n",
    "\n",
    "Unitarity, as we will see below, plays also a central role in this course."
   ]
  },
  {
   "cell_type": "markdown",
   "id": "77bd6521",
   "metadata": {
    "editable": true
   },
   "source": [
    "## Outer products\n",
    "\n",
    "In addition to inner products between vectors/states, the outer\n",
    "product plays a central role in many applications. It is\n",
    "defined as"
   ]
  },
  {
   "cell_type": "markdown",
   "id": "8a5499ff",
   "metadata": {
    "editable": true
   },
   "source": [
    "$$\n",
    "\\boldsymbol{x}\\boldsymbol{y}^T = \\begin{bmatrix}\n",
    "               x_0y_0 & x_0y_1 & x_0y_2 & \\dots & \\dots & x_0y_{n-2} & x_0y_{n-1} \\\\\n",
    "\t       x_1y_0 & x_1y_1 & x_1y_2 & \\dots & \\dots & x_1y_{n-2} & x_1y_{n-1} \\\\\n",
    "\t       x_2y_0 & x_2y_1 & x_2y_2 & \\dots & \\dots & x_2y_{n-2} & x_2y_{n-1} \\\\\t       \n",
    "               \\dots &   \\dots   & \\dots  & \\dots & \\dots & \\dots & \\dots \\\\\n",
    "               \\dots &   \\dots   & \\dots  & \\dots & \\dots & \\dots & \\dots \\\\\t       \n",
    "\t       x_{n-2}y_0 & x_{n-2}y_1 & x_{n-2}y_2 & \\dots & \\dots & x_{n-2}y_{n-2} & x_{n-2}y_{n-1} \\\\\n",
    "\t       x_{n-1}y_0 & x_{n-1}y_1 & x_{n-1}y_2 & \\dots & \\dots & x_{n-1}y_{n-2} & x_{n-1}y_{n-1} \\end{bmatrix}\n",
    "$$"
   ]
  },
  {
   "cell_type": "markdown",
   "id": "0045abd1",
   "metadata": {
    "editable": true
   },
   "source": [
    "The latter defines also our basic matrix layout."
   ]
  },
  {
   "cell_type": "markdown",
   "id": "ff1de4f4",
   "metadata": {
    "editable": true
   },
   "source": [
    "## Basic Matrix Features\n",
    "\n",
    "A general $n\\times n$ matrix is given by"
   ]
  },
  {
   "cell_type": "markdown",
   "id": "fa367751",
   "metadata": {
    "editable": true
   },
   "source": [
    "$$\n",
    "\\boldsymbol{A} =\n",
    "\\begin{bmatrix}\n",
    "               a_{00} & a_{01} & a_{02} & \\dots & \\dots & a_{0n-2} & a_{0n-1} \\\\\n",
    "               a_{10} & a_{11} & a_{12} & \\dots & \\dots & a_{1n-2} & a_{1n-1} \\\\\n",
    "               \\dots &   \\dots   & \\dots  & \\dots & \\dots & \\dots & \\dots \\\\\n",
    "               \\dots &   \\dots   & \\dots  & \\dots & \\dots & \\dots & \\dots \\\\\t       \n",
    "               a_{n-20} & a_{n-21} & a_{n-22} & \\dots & \\dots & a_{n-2n-2} & a_{n-2n-1} \\\\\n",
    "               a_{n-10} & a_{n-11} & a_{n-12} & \\dots & \\dots & a_{n-1n-2} & a_{n-1n-1} \\end{bmatrix},\n",
    "$$"
   ]
  },
  {
   "cell_type": "markdown",
   "id": "ea6d5f4c",
   "metadata": {
    "editable": true
   },
   "source": [
    "or in terms of its column vectors $\\boldsymbol{a}_i$ as"
   ]
  },
  {
   "cell_type": "markdown",
   "id": "5ce265f2",
   "metadata": {
    "editable": true
   },
   "source": [
    "$$\n",
    "\\boldsymbol{A} =\n",
    "\\begin{bmatrix}\\boldsymbol{a}_{0} & \\boldsymbol{a}_{1} & \\boldsymbol{a}_{2} & \\dots & \\dots & \\boldsymbol{a}_{n-2} & \\boldsymbol{a}_{n-1}\\end{bmatrix}.\n",
    "$$"
   ]
  },
  {
   "cell_type": "markdown",
   "id": "f69c3c1d",
   "metadata": {
    "editable": true
   },
   "source": [
    "We can think of a matrix as a diagram of in general $n$ rowns and $m$ columns. In the example here we have a square matrix."
   ]
  },
  {
   "cell_type": "markdown",
   "id": "91cabd79",
   "metadata": {
    "editable": true
   },
   "source": [
    "## The inverse of a matrix\n",
    "The inverse of a square matrix (if it exists) is defined by"
   ]
  },
  {
   "cell_type": "markdown",
   "id": "3f91fe50",
   "metadata": {
    "editable": true
   },
   "source": [
    "$$\n",
    "\\boldsymbol{A}^{-1} \\cdot \\boldsymbol{A} = I,\n",
    "$$"
   ]
  },
  {
   "cell_type": "markdown",
   "id": "8bad92c8",
   "metadata": {
    "editable": true
   },
   "source": [
    "where $\\boldsymbol{I}$ is the unit matrix."
   ]
  },
  {
   "cell_type": "markdown",
   "id": "23195855",
   "metadata": {
    "editable": true
   },
   "source": [
    "## Selected Matrix Features\n",
    "\n",
    "<table class=\"dotable\" border=\"1\">\n",
    "<thead>\n",
    "<tr><th align=\"center\">                           Relations                            </th> <th align=\"center\">      Name     </th> <th align=\"center\">                            matrix elements                            </th> </tr>\n",
    "</thead>\n",
    "<tbody>\n",
    "<tr><td align=\"center\">   $\\boldsymbol{A} = \\boldsymbol{A}^{T}$                               </td> <td align=\"center\">   symmetric          </td> <td align=\"center\">   $a_{ij} = a_{ji}$                                                          </td> </tr>\n",
    "<tr><td align=\"center\">   $\\boldsymbol{A} = \\left (\\boldsymbol{A}^{T} \\right )^{-1}$          </td> <td align=\"center\">   real orthogonal    </td> <td align=\"center\">   $\\sum_k a_{ik} a_{jk} = \\sum_k a_{ki} a_{kj} = \\delta_{ij}$                </td> </tr>\n",
    "<tr><td align=\"center\">   $\\boldsymbol{A} = \\boldsymbol{A}^{ * }$                             </td> <td align=\"center\">   real matrix        </td> <td align=\"center\">   $a_{ij} = a_{ij}^{ * }$                                                    </td> </tr>\n",
    "<tr><td align=\"center\">   $\\boldsymbol{A} = \\boldsymbol{A}^{\\dagger}$                         </td> <td align=\"center\">   hermitian          </td> <td align=\"center\">   $a_{ij} = a_{ji}^{ * }$                                                    </td> </tr>\n",
    "<tr><td align=\"center\">   $\\boldsymbol{A} = \\left (\\boldsymbol{A}^{\\dagger} \\right )^{-1}$    </td> <td align=\"center\">   unitary            </td> <td align=\"center\">   $\\sum_k a_{ik} a_{jk}^{ * } = \\sum_k a_{ki}^{ * } a_{kj} = \\delta_{ij}$    </td> </tr>\n",
    "</tbody>\n",
    "</table>"
   ]
  },
  {
   "cell_type": "markdown",
   "id": "f295aacd",
   "metadata": {
    "editable": true
   },
   "source": [
    "## Some famous Matrices\n",
    "\n",
    "  * Diagonal if $a_{ij}=0$ for $i\\ne j$\n",
    "\n",
    "  * Upper triangular if $a_{ij}=0$ for $i > j$\n",
    "\n",
    "  * Lower triangular if $a_{ij}=0$ for $i < j$\n",
    "\n",
    "  * Upper Hessenberg if $a_{ij}=0$ for $i > j+1$\n",
    "\n",
    "  * Lower Hessenberg if $a_{ij}=0$ for $i < j+1$\n",
    "\n",
    "  * Tridiagonal if $a_{ij}=0$ for $|i -j| > 1$\n",
    "\n",
    "  * Lower banded with bandwidth $p$: $a_{ij}=0$ for $i > j+p$\n",
    "\n",
    "  * Upper banded with bandwidth $p$: $a_{ij}=0$ for $i < j+p$\n",
    "\n",
    "  * Banded, block upper triangular, block lower triangular...."
   ]
  },
  {
   "cell_type": "markdown",
   "id": "6de6b49e",
   "metadata": {
    "editable": true
   },
   "source": [
    "## Matrix Features\n",
    "\n",
    "**Some equivalent statements for square matrices.**\n",
    "\n",
    "For an $n\\times n$ matrix  $\\boldsymbol{A}$ the following properties are all equivalent\n",
    "\n",
    "  * If the inverse of $\\boldsymbol{A}$ exists, $\\boldsymbol{A}$ is nonsingular.\n",
    "\n",
    "  * The equation $\\boldsymbol{Ax}=0$ implies $\\boldsymbol{x}=0$.\n",
    "\n",
    "  * The rows of $\\boldsymbol{A}$ form a basis of $\\mathbb{C}^{n}$.\n",
    "\n",
    "  * The columns of $\\boldsymbol{A}$ form a basis of $\\mathbb{C}^{n}$.\n",
    "\n",
    "  * $\\boldsymbol{A}$ is a product of elementary matrices. Can you name one example?\n",
    "\n",
    "  * $0$ is not an eigenvalue of $\\boldsymbol{A}$."
   ]
  },
  {
   "cell_type": "markdown",
   "id": "3d4e108d",
   "metadata": {
    "editable": true
   },
   "source": [
    "## Important Mathematical Operations\n",
    "\n",
    "The basic matrix operations that we will deal with are addition and subtraction"
   ]
  },
  {
   "cell_type": "markdown",
   "id": "74a28a70",
   "metadata": {
    "editable": true
   },
   "source": [
    "$$\n",
    "\\boldsymbol{A}= \\boldsymbol{B}\\pm\\boldsymbol{C}  \\Longrightarrow a_{ij} = b_{ij}\\pm c_{ij},\n",
    "$$"
   ]
  },
  {
   "cell_type": "markdown",
   "id": "e3dbd7c6",
   "metadata": {
    "editable": true
   },
   "source": [
    "and scalar-matrix multiplication"
   ]
  },
  {
   "cell_type": "markdown",
   "id": "2ecd3dcc",
   "metadata": {
    "editable": true
   },
   "source": [
    "$$\n",
    "\\boldsymbol{A}= \\gamma\\boldsymbol{B}  \\Longrightarrow a_{ij} = \\gamma b_{ij}.\n",
    "$$"
   ]
  },
  {
   "cell_type": "markdown",
   "id": "46cb6b1b",
   "metadata": {
    "editable": true
   },
   "source": [
    "## Vector-matrix and Matrix-matrix multiplication\n",
    "\n",
    "We have also vector-matrix multiplications"
   ]
  },
  {
   "cell_type": "markdown",
   "id": "7a58e4be",
   "metadata": {
    "editable": true
   },
   "source": [
    "$$\n",
    "\\boldsymbol{y}=\\boldsymbol{Ax}   \\Longrightarrow y_{i} = \\sum_{j=0}^{n-1} a_{ij}x_j,\n",
    "$$"
   ]
  },
  {
   "cell_type": "markdown",
   "id": "506b5e86",
   "metadata": {
    "editable": true
   },
   "source": [
    "and matrix-matrix multiplications"
   ]
  },
  {
   "cell_type": "markdown",
   "id": "c6e14615",
   "metadata": {
    "editable": true
   },
   "source": [
    "$$\n",
    "\\boldsymbol{A}=\\boldsymbol{BC}   \\Longrightarrow a_{ij} = \\sum_{k=0}^{n-1} b_{ik}c_{kj},\n",
    "$$"
   ]
  },
  {
   "cell_type": "markdown",
   "id": "4c4cedcc",
   "metadata": {
    "editable": true
   },
   "source": [
    "and transpositions of a matrix"
   ]
  },
  {
   "cell_type": "markdown",
   "id": "c3f410a6",
   "metadata": {
    "editable": true
   },
   "source": [
    "$$\n",
    "\\boldsymbol{A}=\\boldsymbol{B}^T   \\Longrightarrow a_{ij} = b_{ji}.\n",
    "$$"
   ]
  },
  {
   "cell_type": "markdown",
   "id": "7d4068fd",
   "metadata": {
    "editable": true
   },
   "source": [
    "## Important Mathematical Operations\n",
    "\n",
    "Similarly, important vector operations that we will deal with are addition and subtraction"
   ]
  },
  {
   "cell_type": "markdown",
   "id": "f9cf291a",
   "metadata": {
    "editable": true
   },
   "source": [
    "$$\n",
    "\\boldsymbol{x}= \\boldsymbol{y}\\pm\\boldsymbol{z}  \\Longrightarrow x_{i} = y_{i}\\pm z_{i},\n",
    "$$"
   ]
  },
  {
   "cell_type": "markdown",
   "id": "113e2485",
   "metadata": {
    "editable": true
   },
   "source": [
    "scalar-vector multiplication"
   ]
  },
  {
   "cell_type": "markdown",
   "id": "6722dcb1",
   "metadata": {
    "editable": true
   },
   "source": [
    "$$\n",
    "\\boldsymbol{x}= \\gamma\\boldsymbol{y}  \\Longrightarrow x_{i} = \\gamma y_{i},\n",
    "$$"
   ]
  },
  {
   "cell_type": "markdown",
   "id": "0e2d7359",
   "metadata": {
    "editable": true
   },
   "source": [
    "## Other important mathematical operations\n",
    "and vector-vector multiplication (called Hadamard multiplication)"
   ]
  },
  {
   "cell_type": "markdown",
   "id": "ff4cdd8c",
   "metadata": {
    "editable": true
   },
   "source": [
    "$$\n",
    "\\boldsymbol{x}=\\boldsymbol{yz}   \\Longrightarrow x_{i} = y_{i}z_i.\n",
    "$$"
   ]
  },
  {
   "cell_type": "markdown",
   "id": "c7ae4645",
   "metadata": {
    "editable": true
   },
   "source": [
    "Finally, as already metnioned, the inner or so-called dot product  resulting in a constant"
   ]
  },
  {
   "cell_type": "markdown",
   "id": "88e5c3e8",
   "metadata": {
    "editable": true
   },
   "source": [
    "$$\n",
    "x=\\boldsymbol{y}^T\\boldsymbol{z}   \\Longrightarrow x = \\sum_{j=0}^{n-1} y_{j}z_{j},\n",
    "$$"
   ]
  },
  {
   "cell_type": "markdown",
   "id": "100bc5bd",
   "metadata": {
    "editable": true
   },
   "source": [
    "and the outer product, which yields a matrix,"
   ]
  },
  {
   "cell_type": "markdown",
   "id": "bb9d53fa",
   "metadata": {
    "editable": true
   },
   "source": [
    "$$\n",
    "\\boldsymbol{A}=  \\boldsymbol{y}\\boldsymbol{z}^T \\Longrightarrow  a_{ij} = y_{i}z_{j},\n",
    "$$"
   ]
  },
  {
   "cell_type": "markdown",
   "id": "4aac7c15",
   "metadata": {
    "editable": true
   },
   "source": [
    "## Defining basis states and quantum mechanical operators\n",
    "\n",
    "We extend now to quantum mechanics our definitions of vectors, matrices and more.\n",
    "\n",
    "We start by defining a state vector $\\boldsymbol{x}$ (meant to represent\n",
    "various quantum mechanical degrees of freedom) with $n$ components as"
   ]
  },
  {
   "cell_type": "markdown",
   "id": "42775484",
   "metadata": {
    "editable": true
   },
   "source": [
    "$$\n",
    "\\boldsymbol{x} = \\begin{bmatrix} x_0\\\\ x_1 \\\\ x_2 \\\\ \\dots \\\\ \\dots \\\\ x_{n-1} \\end{bmatrix}.\n",
    "$$"
   ]
  },
  {
   "cell_type": "markdown",
   "id": "cc5dd5fb",
   "metadata": {
    "editable": true
   },
   "source": [
    "## Dirac notation\n",
    "\n",
    "Throughout these notes we will use the so-called Dirac **bra-ket**\n",
    "formalism and we will replace the above standard boldfaced notation\n",
    "for a vector with"
   ]
  },
  {
   "cell_type": "markdown",
   "id": "5761cd08",
   "metadata": {
    "editable": true
   },
   "source": [
    "$$\n",
    "\\boldsymbol{x} = \\vert x \\rangle = \\begin{bmatrix} x_0\\\\ x_1 \\\\ x_2 \\\\ \\dots \\\\ \\dots \\\\ x_{n-1} \\end{bmatrix},\n",
    "$$"
   ]
  },
  {
   "cell_type": "markdown",
   "id": "5a52623b",
   "metadata": {
    "editable": true
   },
   "source": [
    "and"
   ]
  },
  {
   "cell_type": "markdown",
   "id": "be031b95",
   "metadata": {
    "editable": true
   },
   "source": [
    "$$\n",
    "\\boldsymbol{x}^{\\dagger} = \\langle x \\vert = \\begin{bmatrix} x_0^* & x_1^* & x_2^* & \\dots & \\dots & x_{n-1}^* \\end{bmatrix},\n",
    "$$"
   ]
  },
  {
   "cell_type": "markdown",
   "id": "29ff3b6f",
   "metadata": {
    "editable": true
   },
   "source": [
    "## Inner product in Dirac notation\n",
    "\n",
    "With a given vector $\\vert x \\rangle$, we define the inner product as"
   ]
  },
  {
   "cell_type": "markdown",
   "id": "b47ae016",
   "metadata": {
    "editable": true
   },
   "source": [
    "$$\n",
    "\\langle x \\vert x\\rangle = \\sum_{i=0}^{n-1} x_i^*x_i=x_0^2+x_1^2+\\dots + x_{n-1}^2.\n",
    "$$"
   ]
  },
  {
   "cell_type": "markdown",
   "id": "28fa67c6",
   "metadata": {
    "editable": true
   },
   "source": [
    "For two arbitrary vectors $\\vert x\\rangle$ and $\\vert y\\rangle$ with the same length, we have the\n",
    "general expression"
   ]
  },
  {
   "cell_type": "markdown",
   "id": "2f8ede7c",
   "metadata": {
    "editable": true
   },
   "source": [
    "$$\n",
    "\\langle y \\vert x\\rangle = \\sum_{i=0}^{n-1} y_i^*x_i=y_0^*x_0+y_1^*x_1+\\dots + y_{n-1}^*x_{n-1}.\n",
    "$$"
   ]
  },
  {
   "cell_type": "markdown",
   "id": "8ad40ebc",
   "metadata": {
    "editable": true
   },
   "source": [
    "## The inner product is a real number\n",
    "\n",
    "Note well that the inner product $\\langle x \\vert x\\rangle$ is always a real number while for a two different vectors $\\langle y \\vert x\\rangle$ is in general not equal to\n",
    "$\\langle x \\vert y\\rangle$, as can be seen from the example in the next slide.\n",
    "\n",
    "We note in bypassing that $\\vert x\\rangle^{\\dagger}=\\langle x \\vert$,\n",
    "$\\langle x\\vert^{\\dagger}=\\vert x\\rangle$ and $(\\vert\n",
    "x\\rangle^{\\dagger})^{\\dagger}=\\vert x \\rangle$."
   ]
  },
  {
   "cell_type": "markdown",
   "id": "37f3bf13",
   "metadata": {
    "editable": true
   },
   "source": [
    "## Examples\n",
    "\n",
    "Let us assume that $\\vert x \\rangle$ is given by"
   ]
  },
  {
   "cell_type": "markdown",
   "id": "f84cf552",
   "metadata": {
    "editable": true
   },
   "source": [
    "$$\n",
    "\\vert x \\rangle = \\begin{bmatrix} 1-\\imath \\\\ 2+\\imath \\end{bmatrix}.\n",
    "$$"
   ]
  },
  {
   "cell_type": "markdown",
   "id": "0686300c",
   "metadata": {
    "editable": true
   },
   "source": [
    "The inner product gives us"
   ]
  },
  {
   "cell_type": "markdown",
   "id": "ccbeec92",
   "metadata": {
    "editable": true
   },
   "source": [
    "$$\n",
    "\\langle x\\vert x \\rangle = (1+\\imath)(1-\\imath)+(2-\\imath)(2+\\imath)=7,\n",
    "$$"
   ]
  },
  {
   "cell_type": "markdown",
   "id": "994de3a9",
   "metadata": {
    "editable": true
   },
   "source": [
    "a real number."
   ]
  },
  {
   "cell_type": "markdown",
   "id": "7d29f5f6",
   "metadata": {
    "editable": true
   },
   "source": [
    "## Norm\n",
    "We can use the norm/inner product to normalize the vector $\\vert x \\rangle$ and obtain"
   ]
  },
  {
   "cell_type": "markdown",
   "id": "c25ba946",
   "metadata": {
    "editable": true
   },
   "source": [
    "$$\n",
    "\\vert x \\rangle = \\frac{1}{\\sqrt{7}}\\begin{bmatrix} 1-\\imath \\\\ 2+\\imath \\end{bmatrix}.\n",
    "$$"
   ]
  },
  {
   "cell_type": "markdown",
   "id": "ac8dbd27",
   "metadata": {
    "editable": true
   },
   "source": [
    "As another example, consider the two vectors"
   ]
  },
  {
   "cell_type": "markdown",
   "id": "65632a66",
   "metadata": {
    "editable": true
   },
   "source": [
    "$$\n",
    "\\vert x \\rangle = \\begin{bmatrix} -1 \\\\ 2\\imath \\\\ 1\\end{bmatrix},\n",
    "$$"
   ]
  },
  {
   "cell_type": "markdown",
   "id": "d848241d",
   "metadata": {
    "editable": true
   },
   "source": [
    "and"
   ]
  },
  {
   "cell_type": "markdown",
   "id": "f2e674fb",
   "metadata": {
    "editable": true
   },
   "source": [
    "$$\n",
    "\\vert y \\rangle = \\begin{bmatrix} 1 \\\\ 0\\imath \\\\ \\imath\\end{bmatrix}.\n",
    "$$"
   ]
  },
  {
   "cell_type": "markdown",
   "id": "be130a99",
   "metadata": {
    "editable": true
   },
   "source": [
    "We see that the inner products $\\langle x\\vert y \\rangle = -1+\\imath$, which is not the same as\n",
    "$\\langle y\\vert x \\rangle = -1-\\imath$. This leads to the important rule"
   ]
  },
  {
   "cell_type": "markdown",
   "id": "71e4064e",
   "metadata": {
    "editable": true
   },
   "source": [
    "$$\n",
    "\\langle x\\vert y\\rangle^* = \\langle y \\vert x\\rangle.\n",
    "$$"
   ]
  },
  {
   "cell_type": "markdown",
   "id": "f140142b",
   "metadata": {
    "editable": true
   },
   "source": [
    "## Outer products\n",
    "\n",
    "In addition to inner products between vectors/states, the outer\n",
    "product plays a central role in all of quantum mechanics. It is\n",
    "defined as"
   ]
  },
  {
   "cell_type": "markdown",
   "id": "0e078b06",
   "metadata": {
    "editable": true
   },
   "source": [
    "$$\n",
    "\\vert x\\rangle \\langle y \\vert = \\begin{bmatrix}\n",
    "               x_0y_0^* & x_0y_1^* & x_0y_2^* & \\dots & \\dots & x_0y_{n-2}^* & x_0y_{n-1}^* \\\\\n",
    "\t       x_1y_0^* & x_1y_1^* & x_1y_2^* & \\dots & \\dots & x_1y_{n-2}^* & x_1y_{n-1}^* \\\\\n",
    "\t       x_2y_0^* & x_2y_1^* & x_2y_2^* & \\dots & \\dots & x_2y_{n-2}^* & x_2y_{n-1}^* \\\\\t       \n",
    "               \\dots &   \\dots   & \\dots  & \\dots & \\dots & \\dots & \\dots \\\\\n",
    "               \\dots &   \\dots   & \\dots  & \\dots & \\dots & \\dots & \\dots \\\\\t       \n",
    "\t       x_{n-2}y_0^* & x_{n-2}y_1^* & x_{n-2}y_2^* & \\dots & \\dots & x_{n-2}y_{n-2}^* & x_{n-2}y_{n-1}^* \\\\\n",
    "\t       x_{n-1}y_0^* & x_{n-1}y_1^* & x_{n-1}y_2^* & \\dots & \\dots & x_{n-1}y_{n-2}^* & x_{n-1}y_{n-1}^* \\end{bmatrix}\n",
    "$$"
   ]
  },
  {
   "cell_type": "markdown",
   "id": "aa686144",
   "metadata": {
    "editable": true
   },
   "source": [
    "## Other examples\n",
    "<!-- to do: make figures with examples of basis states, hydrogen like systems, harmonic oscillator -->\n",
    "Assume we have a two-level system where the two states are represented\n",
    "by the state vectors $\\vert \\phi_0\\rangle$ and $\\vert \\phi_1\\rangle$,\n",
    "respectively. These states could represent selected or effective\n",
    "degrees of freedom for either a single particle (fermion or boson) or\n",
    "they could represent effective many-body degrees of freedon.\n",
    "\n",
    "In actual\n",
    "realizations of for example quantum computing we search often for candidate\n",
    "systems where we can use some low-lying states as computational basis\n",
    "states. When doing\n",
    "many-body physics, due to the exploding degrees of freedom, we\n",
    "normally search after effective ways by which we can reduce the\n",
    "involved dimensionalities to a number of degrees of freedom we can\n",
    "handle by a given many-body method."
   ]
  },
  {
   "cell_type": "markdown",
   "id": "dd1fcc87",
   "metadata": {
    "editable": true
   },
   "source": [
    "<!-- ===== Examples: Hydrogen like states and the harmonic oscillator in one, two and three dimensions ===== -->"
   ]
  },
  {
   "cell_type": "markdown",
   "id": "79e9e63a",
   "metadata": {
    "editable": true
   },
   "source": [
    "## Projection operators\n",
    "\n",
    "We will now relabel the above two states as two orthogonal and normalized basis (ONB) states"
   ]
  },
  {
   "cell_type": "markdown",
   "id": "a12e31d6",
   "metadata": {
    "editable": true
   },
   "source": [
    "$$\n",
    "\\vert \\phi_0 \\rangle = \\vert 0 \\rangle = \\begin{bmatrix} 1 \\\\ 0 \\end{bmatrix},\n",
    "$$"
   ]
  },
  {
   "cell_type": "markdown",
   "id": "0c1a3bed",
   "metadata": {
    "editable": true
   },
   "source": [
    "and"
   ]
  },
  {
   "cell_type": "markdown",
   "id": "e2735407",
   "metadata": {
    "editable": true
   },
   "source": [
    "$$\n",
    "\\vert \\phi_1 \\rangle = \\vert 1 \\rangle = \\begin{bmatrix} 0 \\\\ 1 \\end{bmatrix}.\n",
    "$$"
   ]
  },
  {
   "cell_type": "markdown",
   "id": "3dda2d8b",
   "metadata": {
    "editable": true
   },
   "source": [
    "## More on these operators\n",
    "\n",
    "It is straight forward to see that $\\langle 1 \\vert 0\\rangle=0$. With these two states we can define the identity operator $\\boldsymbol{I}$ as the sum of the outer products of these two states, namely"
   ]
  },
  {
   "cell_type": "markdown",
   "id": "6b1b6751",
   "metadata": {
    "editable": true
   },
   "source": [
    "$$\n",
    "\\boldsymbol{I} = \\sum_{i=0}^{i=1}\\vert i\\rangle \\langle i\\vert = \\begin{bmatrix} 1 & 0 \\\\ 0 & 0 \\end{bmatrix} +\\begin{bmatrix} 0 & 0 \\\\ 0 & 1 \\end{bmatrix}=\\begin{bmatrix} 1 & 0 \\\\ 0 & 1 \\end{bmatrix}.\n",
    "$$"
   ]
  },
  {
   "cell_type": "markdown",
   "id": "0df18ae0",
   "metadata": {
    "editable": true
   },
   "source": [
    "We can further define the projection operators"
   ]
  },
  {
   "cell_type": "markdown",
   "id": "d6128d2f",
   "metadata": {
    "editable": true
   },
   "source": [
    "$$\n",
    "\\boldsymbol{P} = \\vert 0\\rangle \\langle 0\\vert = \\begin{bmatrix} 1 & 0 \\\\ 0 & 0 \\end{bmatrix},\n",
    "$$"
   ]
  },
  {
   "cell_type": "markdown",
   "id": "e74e1094",
   "metadata": {
    "editable": true
   },
   "source": [
    "and"
   ]
  },
  {
   "cell_type": "markdown",
   "id": "5d9c8964",
   "metadata": {
    "editable": true
   },
   "source": [
    "$$\n",
    "\\boldsymbol{Q} = \\vert 1\\rangle \\langle 1\\vert = \\begin{bmatrix} 0 & 0 \\\\ 0 & 1 \\end{bmatrix}.\n",
    "$$"
   ]
  },
  {
   "cell_type": "markdown",
   "id": "a95042bf",
   "metadata": {
    "editable": true
   },
   "source": [
    "## Properties of idempotent operators\n",
    "\n",
    "We note that $P^2=P$, $Q^2=Q$ (the operators are idempotent) and that\n",
    "their determinants are zero, meaning in turn that we cannot use these\n",
    "operators for unitary/orthogonal transformations. However, they play\n",
    "important roles in defining effective Hilbert spaces for many-body\n",
    "studies. Finally, before proceeding we note also that the two matrices\n",
    "commute and we have $\\boldsymbol{P}\\boldsymbol{Q}=0$ and $\\left[ \\boldsymbol{P},\\boldsymbol{Q}\\right]=0$."
   ]
  },
  {
   "cell_type": "markdown",
   "id": "e8ac9cc7",
   "metadata": {
    "editable": true
   },
   "source": [
    "## Different operators\n",
    "\n",
    "The so-called Pauli matrices, and other simple\n",
    "$2\\times 2$ matrices, play an important role, ranging from the setup\n",
    "of quantum gates in quantum computing to a rewrite of creation and annihilation operators\n",
    "and other quantum mechanical operators. Let us start with the familiar\n",
    "Pauli matrices and remind ourselves of some of their basic properties.\n",
    "\n",
    "The Pauli matrices are defined as"
   ]
  },
  {
   "cell_type": "markdown",
   "id": "b21de4b5",
   "metadata": {
    "editable": true
   },
   "source": [
    "$$\n",
    "\\sigma_x = \\begin{bmatrix} 0 & 1 \\\\ 1 & 0 \\end{bmatrix},\n",
    "$$"
   ]
  },
  {
   "cell_type": "markdown",
   "id": "ad712e7c",
   "metadata": {
    "editable": true
   },
   "source": [
    "$$\n",
    "\\sigma_y = \\begin{bmatrix} 0 & -\\imath \\\\ \\imath & 0 \\end{bmatrix},\n",
    "$$"
   ]
  },
  {
   "cell_type": "markdown",
   "id": "882805a6",
   "metadata": {
    "editable": true
   },
   "source": [
    "and"
   ]
  },
  {
   "cell_type": "markdown",
   "id": "6a79815a",
   "metadata": {
    "editable": true
   },
   "source": [
    "$$\n",
    "\\sigma_z = \\begin{bmatrix} 1 & 0 \\\\ 0 & -1 \\end{bmatrix}.\n",
    "$$"
   ]
  },
  {
   "cell_type": "markdown",
   "id": "82460e0c",
   "metadata": {
    "editable": true
   },
   "source": [
    "## Properties of Pauli matrices\n",
    "\n",
    "It is easy to show that the matrices obey the properties (being involutory)"
   ]
  },
  {
   "cell_type": "markdown",
   "id": "672ee565",
   "metadata": {
    "editable": true
   },
   "source": [
    "$$\n",
    "\\sigma_x\\sigma_x = \\sigma_y\\sigma_y=\\sigma_z\\sigma_z = I=\\begin{bmatrix} 1 & 0 \\\\ 0 & 1\\end{bmatrix},\n",
    "$$"
   ]
  },
  {
   "cell_type": "markdown",
   "id": "6f45569e",
   "metadata": {
    "editable": true
   },
   "source": [
    "that is their products with themselves result in the identity matrix\n",
    "$\\boldsymbol{I}$.  Furthermore, the Pauli matrices are unitary matrices\n",
    "meaning that their inverses are equal to their hermitian conjugated\n",
    "matrices. The determinants of the Pauli matrices are all equal to $-1$,\n",
    "as can be easily verified."
   ]
  },
  {
   "cell_type": "markdown",
   "id": "89559663",
   "metadata": {
    "editable": true
   },
   "source": [
    "## Commutation relations\n",
    "\n",
    "The Pauli matrices obey also the following commutation rules"
   ]
  },
  {
   "cell_type": "markdown",
   "id": "100445a3",
   "metadata": {
    "editable": true
   },
   "source": [
    "$$\n",
    "\\left[\\sigma_x,\\sigma_y\\right] = 2\\imath \\sigma_z.\n",
    "$$"
   ]
  },
  {
   "cell_type": "markdown",
   "id": "c7fcd698",
   "metadata": {
    "editable": true
   },
   "source": [
    "Before we proceed with other matrices and how they can be used to\n",
    "operate on various quantum mechanical states, let us try to define\n",
    "various basis sets and their pertinent notations. We will often refer\n",
    "to these basis states as our computational basis."
   ]
  },
  {
   "cell_type": "markdown",
   "id": "4a5b7e99",
   "metadata": {
    "editable": true
   },
   "source": [
    "## Superposition and more\n",
    "\n",
    "Using the properties of ONBs we can expand a new state in terms of the\n",
    "above states. These states could also form  a basis which is an\n",
    "eigenbasis of a selected Hamiltonian (more of this below).\n",
    "\n",
    "We define now a new state which is a linear expansion in terms of\n",
    "these computational basis states"
   ]
  },
  {
   "cell_type": "markdown",
   "id": "5197b077",
   "metadata": {
    "editable": true
   },
   "source": [
    "$$\n",
    "\\vert \\psi \\rangle = \\alpha \\vert 0 \\rangle + \\beta\\vert 1 \\rangle,\n",
    "$$"
   ]
  },
  {
   "cell_type": "markdown",
   "id": "99e238be",
   "metadata": {
    "editable": true
   },
   "source": [
    "where the coefficients $\\alpha = \\langle 0 \\vert \\psi \\rangle$ and\n",
    "$\\beta =\\langle 1 \\vert \\psi\\rangle$ reresent the overlaps between the\n",
    "computational basis states and the state $\\vert \\psi\\rangle$. In quantum speech, we say the state is in a superposition of the states $\\vert 0\\rangle$ and $\\vert 1\\rangle$."
   ]
  },
  {
   "cell_type": "markdown",
   "id": "8d4bb3a2",
   "metadata": {
    "editable": true
   },
   "source": [
    "## Inner products\n",
    "\n",
    "Computing the inner product of $\\vert \\psi \\rangle$ we obtain"
   ]
  },
  {
   "cell_type": "markdown",
   "id": "85ab4b72",
   "metadata": {
    "editable": true
   },
   "source": [
    "$$\n",
    "\\langle \\psi \\vert \\psi \\rangle = \\vert \\alpha \\vert ^2\\langle 0\\vert 0\\rangle + \\vert \\beta \\vert ^2\\langle 1\\vert 1\\rangle = \\vert \\alpha \\vert ^2 + \\vert \\beta \\vert ^2 = 1,\n",
    "$$"
   ]
  },
  {
   "cell_type": "markdown",
   "id": "d61b22dd",
   "metadata": {
    "editable": true
   },
   "source": [
    "since the new basis, which is defined in terms of a unitary/orthogonal\n",
    "transformation, preserves the orthogonality and norm of the original\n",
    "computational basis $\\vert 0\\rangle$ and $\\vert 1\\rangle$. To see\n",
    "this, consider the unitary transformation (show derivation of\n",
    "preserving orthogonality)."
   ]
  },
  {
   "cell_type": "markdown",
   "id": "33239b23",
   "metadata": {
    "editable": true
   },
   "source": [
    "## Acting with projection operators\n",
    "\n",
    "If we now act with the projection operators $\\boldsymbol{P}$ and $\\boldsymbol{Q}$ on\n",
    "the state $\\vert \\psi\\rangle$ we get"
   ]
  },
  {
   "cell_type": "markdown",
   "id": "9c350c6f",
   "metadata": {
    "editable": true
   },
   "source": [
    "$$\n",
    "\\boldsymbol{P}\\vert \\psi \\rangle = \\vert 0 \\rangle\\langle 0\\vert (\\alpha \\vert 0 \\rangle + \\beta\\vert 1 \\rangle)=\\alpha \\vert 0\\rangle,\n",
    "$$"
   ]
  },
  {
   "cell_type": "markdown",
   "id": "1ecba155",
   "metadata": {
    "editable": true
   },
   "source": [
    "that is we **project** out the $\\vert 0\\rangle$ component of the state\n",
    "$\\vert \\psi\\rangle$ with the coefficient $\\alpha$ while $\\boldsymbol{Q}$\n",
    "projects out the $\\vert 1\\rangle$ component with coefficient $\\beta$\n",
    "as seen from"
   ]
  },
  {
   "cell_type": "markdown",
   "id": "f3db40f5",
   "metadata": {
    "editable": true
   },
   "source": [
    "$$\n",
    "\\boldsymbol{Q}\\vert \\psi \\rangle = \\vert 1 \\rangle\\langle 1\\vert (\\alpha \\vert 0 \\rangle + \\beta\\vert 1 \\rangle)=\\beta \\vert 1\\rangle.\n",
    "$$"
   ]
  },
  {
   "cell_type": "markdown",
   "id": "1db0e503",
   "metadata": {
    "editable": true
   },
   "source": [
    "The above results can easily be derived by multiplying the pertinent\n",
    "matrices with the vectors $\\vert 0\\rangle$ and $\\vert 1\\rangle$,\n",
    "respectively."
   ]
  },
  {
   "cell_type": "markdown",
   "id": "775c3095",
   "metadata": {
    "editable": true
   },
   "source": [
    "## Density matrix\n",
    "\n",
    "Using the above linear expansion we can now define the density matrix of the state $\\vert \\psi\\rangle$ as the outer product"
   ]
  },
  {
   "cell_type": "markdown",
   "id": "5cb2d1f7",
   "metadata": {
    "editable": true
   },
   "source": [
    "$$\n",
    "\\boldsymbol{\\rho}=\\vert \\psi \\rangle\\langle \\psi \\vert = \\alpha\\alpha^* \\vert 0 \\rangle\\langle 0\\vert+\\alpha\\beta^* \\vert 0 \\rangle\\langle 1\\vert+\\beta\\alpha^* \\vert 1 \\rangle\\langle 0\\vert+\\beta\\beta^* \\vert 1 \\rangle\\langle 1\\vert,\n",
    "$$"
   ]
  },
  {
   "cell_type": "markdown",
   "id": "02631164",
   "metadata": {
    "editable": true
   },
   "source": [
    "which leads to"
   ]
  },
  {
   "cell_type": "markdown",
   "id": "480ee775",
   "metadata": {
    "editable": true
   },
   "source": [
    "$$\n",
    "\\boldsymbol{\\rho}=\\begin{bmatrix} \\alpha\\alpha^* & \\alpha\\beta^*\\\\ \\beta\\alpha^* & \\beta\\beta^*\\end{bmatrix}.\n",
    "$$"
   ]
  },
  {
   "cell_type": "markdown",
   "id": "8363489d",
   "metadata": {
    "editable": true
   },
   "source": [
    "Finally, we note that the trace of the density matrix is simply given by unity"
   ]
  },
  {
   "cell_type": "markdown",
   "id": "d4867a5c",
   "metadata": {
    "editable": true
   },
   "source": [
    "$$\n",
    "\\mathrm{tr}\\boldsymbol{\\rho}=\\alpha\\alpha^* +\\beta\\beta^*=1.\n",
    "$$"
   ]
  },
  {
   "cell_type": "markdown",
   "id": "e40c349a",
   "metadata": {
    "editable": true
   },
   "source": [
    "## Tensor products\n",
    "\n",
    "Consider now two vectors with length $n=2$, with elements"
   ]
  },
  {
   "cell_type": "markdown",
   "id": "b9a083d7",
   "metadata": {
    "editable": true
   },
   "source": [
    "$$\n",
    "\\vert x \\rangle = \\begin{bmatrix} x_0 \\\\ x_1 \\end{bmatrix},\n",
    "$$"
   ]
  },
  {
   "cell_type": "markdown",
   "id": "b2e7e15d",
   "metadata": {
    "editable": true
   },
   "source": [
    "and"
   ]
  },
  {
   "cell_type": "markdown",
   "id": "85cfa8fb",
   "metadata": {
    "editable": true
   },
   "source": [
    "$$\n",
    "\\vert y \\rangle = \\begin{bmatrix} y_0 \\\\ y_1 \\end{bmatrix}.\n",
    "$$"
   ]
  },
  {
   "cell_type": "markdown",
   "id": "2dd8c69e",
   "metadata": {
    "editable": true
   },
   "source": [
    "The tensor product of these two vectors is defined as"
   ]
  },
  {
   "cell_type": "markdown",
   "id": "836fa2b1",
   "metadata": {
    "editable": true
   },
   "source": [
    "$$\n",
    "\\vert x \\rangle \\otimes \\vert y \\rangle = \\vert xy \\rangle  = \\begin{bmatrix} x_0y_0 \\\\ x_0y_1 \\\\ x_1y_0 \\\\ x_1y_1 \\end{bmatrix},\n",
    "$$"
   ]
  },
  {
   "cell_type": "markdown",
   "id": "5b0e5acf",
   "metadata": {
    "editable": true
   },
   "source": [
    "which is now a vector of length $4$."
   ]
  },
  {
   "cell_type": "markdown",
   "id": "bacc448a",
   "metadata": {
    "editable": true
   },
   "source": [
    "## Examples of tensor products\n",
    "If we now go back to our original two basis states, we can form teh following tensor products"
   ]
  },
  {
   "cell_type": "markdown",
   "id": "3f95a4fd",
   "metadata": {
    "editable": true
   },
   "source": [
    "$$\n",
    "\\vert 0 \\rangle \\otimes \\vert 0 \\rangle = \\begin{bmatrix} 1 \\\\ 0\\end{bmatrix} \\otimes \\begin{bmatrix} 1 \\\\ 0\\end{bmatrix} =\\begin{bmatrix} 1 \\\\ 0 \\\\ 0 \\\\ 0 \\end{bmatrix}=\\vert 00 \\rangle,\n",
    "$$"
   ]
  },
  {
   "cell_type": "markdown",
   "id": "b88f8ab3",
   "metadata": {
    "editable": true
   },
   "source": [
    "$$\n",
    "\\vert 0 \\rangle \\otimes \\vert 1 \\rangle = \\begin{bmatrix} 1 \\\\ 0\\end{bmatrix} \\otimes \\begin{bmatrix} 0 \\\\ 1\\end{bmatrix} =\\begin{bmatrix} 0 \\\\ 1 \\\\ 0 \\\\ 0 \\end{bmatrix}=\\vert 01 \\rangle.\n",
    "$$"
   ]
  },
  {
   "cell_type": "markdown",
   "id": "33690534",
   "metadata": {
    "editable": true
   },
   "source": [
    "## More states"
   ]
  },
  {
   "cell_type": "markdown",
   "id": "ae98fdb2",
   "metadata": {
    "editable": true
   },
   "source": [
    "$$\n",
    "\\vert 1 \\rangle \\otimes \\vert 0 \\rangle = \\begin{bmatrix} 0 \\\\ 1\\end{bmatrix} \\otimes \\begin{bmatrix} 1 \\\\ 0\\end{bmatrix} =\\begin{bmatrix} 0 \\\\ 0 \\\\ 1 \\\\ 0 \\end{bmatrix}=\\vert 10 \\rangle,\n",
    "$$"
   ]
  },
  {
   "cell_type": "markdown",
   "id": "c61ecff2",
   "metadata": {
    "editable": true
   },
   "source": [
    "and finally"
   ]
  },
  {
   "cell_type": "markdown",
   "id": "edcdd0b4",
   "metadata": {
    "editable": true
   },
   "source": [
    "$$\n",
    "\\vert 1 \\rangle \\otimes \\vert 1 \\rangle = \\begin{bmatrix} 0 \\\\ 1\\end{bmatrix} \\otimes \\begin{bmatrix} 0 \\\\ 1\\end{bmatrix} =\\begin{bmatrix} 0 \\\\ 0 \\\\ 0 \\\\ 1 \\end{bmatrix}=\\vert 11 \\rangle.\n",
    "$$"
   ]
  },
  {
   "cell_type": "markdown",
   "id": "facaa06b",
   "metadata": {
    "editable": true
   },
   "source": [
    "## Measurements\n",
    "\n",
    "The probability of a measurement on a quantum system giving a certain\n",
    "result is determined by the weight of the relevant basis state in the\n",
    "state vector. After the measurement, the system is in a state that\n",
    "corresponds to the result of the measurement. The operators and\n",
    "gates discussed below are examples of operations we can perform on\n",
    "specific states.\n",
    "\n",
    "We  consider the state"
   ]
  },
  {
   "cell_type": "markdown",
   "id": "44e5b054",
   "metadata": {
    "editable": true
   },
   "source": [
    "$$\n",
    "\\vert \\psi\\rangle = \\alpha \\vert 0 \\rangle +\\beta \\vert 1 \\rangle\n",
    "$$"
   ]
  },
  {
   "cell_type": "markdown",
   "id": "f8bcc142",
   "metadata": {
    "editable": true
   },
   "source": [
    "## Definitions of measurements\n",
    "\n",
    "1. A measurement can yield only one of the above states, either $\\vert 0\\rangle$ or $\\vert 1\\rangle$.\n",
    "\n",
    "2. The probability of a measurement resulting in $\\vert 0\\rangle$ is $\\alpha^*\\alpha = \\vert \\alpha \\vert^2$.\n",
    "\n",
    "3. The probability of a measurement resulting in $\\vert 1\\rangle$ is $\\beta^*\\beta = \\vert \\beta \\vert^2$.\n",
    "\n",
    "4. And we note that the sum of the outcomes gives $\\alpha^*\\alpha+\\beta^*\\beta=1$ since the two states are normalized.\n",
    "\n",
    "After the measurement, the state of the system is the state associated with the result of the measurement.\n",
    "\n",
    "We have already encountered the projection operators $P$ and $Q$."
   ]
  },
  {
   "cell_type": "markdown",
   "id": "14a1c8da",
   "metadata": {
    "editable": true
   },
   "source": [
    "## Unitarity\n",
    "\n",
    "Essentially all matrices we introduced here are so-called unitary matrices. This\n",
    "is an important element in quantum mechanics since the evolution of a\n",
    "closed quantum system is described by operations involving unitary\n",
    "operations only.\n",
    "\n",
    "We have defined a new state $\\vert \\psi_p\\rangle$ as a linear expansion in terms of an orthogonal and normalized basis (our computational basis) $\\phi_{\\lambda}$"
   ]
  },
  {
   "cell_type": "markdown",
   "id": "d9ac0157",
   "metadata": {
    "editable": true
   },
   "source": [
    "<!-- Equation labels as ordinary links -->\n",
    "<div id=\"_auto1\"></div>\n",
    "\n",
    "$$\n",
    "\\begin{equation}\n",
    "\\vert \\psi_i\\rangle = \\sum_{j} u_{ij}\\vert \\phi_{j}\\rangle.\n",
    "\\label{_auto1} \\tag{1}\n",
    "\\end{equation}\n",
    "$$"
   ]
  },
  {
   "cell_type": "markdown",
   "id": "eed2e654",
   "metadata": {
    "editable": true
   },
   "source": [
    "## Hamiltonians and basis functions\n",
    "\n",
    "It is normal to choose a basis defined as the eigenfunctions of parts\n",
    "of the full Hamiltonian. The typical situation consists of the\n",
    "solutions of the one-body part of the Hamiltonian, that is we have"
   ]
  },
  {
   "cell_type": "markdown",
   "id": "21f2f0f1",
   "metadata": {
    "editable": true
   },
   "source": [
    "$$\n",
    "\\hat{h}_0\\vert \\phi_{i}\\rangle=\\epsilon_{i}\\vert \\phi_{i}\\rangle.\n",
    "$$"
   ]
  },
  {
   "cell_type": "markdown",
   "id": "43890f69",
   "metadata": {
    "editable": true
   },
   "source": [
    "This is normally referred to as a single-particle basis $\\vert\\phi_{i}(\\mathbf{r})\\rangle$,\n",
    "defined by the quantum numbers $i$ and $\\mathbf{r}$."
   ]
  },
  {
   "cell_type": "markdown",
   "id": "e927175b",
   "metadata": {
    "editable": true
   },
   "source": [
    "## Unitary transformations\n",
    "A unitary transformation is important since it keeps the orthogonality.\n",
    "To see this consider first a basis of vectors $\\mathbf{v}_i$,"
   ]
  },
  {
   "cell_type": "markdown",
   "id": "3be35d0b",
   "metadata": {
    "editable": true
   },
   "source": [
    "$$\n",
    "\\mathbf{v}_i = \\begin{bmatrix} v_{i1} \\\\ \\dots \\\\ \\dots \\\\v_{in} \\end{bmatrix}\n",
    "$$"
   ]
  },
  {
   "cell_type": "markdown",
   "id": "fe0fbc0f",
   "metadata": {
    "editable": true
   },
   "source": [
    "We assume that the basis is orthogonal, that is"
   ]
  },
  {
   "cell_type": "markdown",
   "id": "8176aa28",
   "metadata": {
    "editable": true
   },
   "source": [
    "$$\n",
    "\\mathbf{v}_j^T\\mathbf{v}_i = \\delta_{ij}.\n",
    "$$"
   ]
  },
  {
   "cell_type": "markdown",
   "id": "acbec87f",
   "metadata": {
    "editable": true
   },
   "source": [
    "An orthogonal or unitary transformation"
   ]
  },
  {
   "cell_type": "markdown",
   "id": "7bc2c791",
   "metadata": {
    "editable": true
   },
   "source": [
    "$$\n",
    "\\mathbf{w}_i=\\mathbf{U}\\mathbf{v}_i,\n",
    "$$"
   ]
  },
  {
   "cell_type": "markdown",
   "id": "20eada1d",
   "metadata": {
    "editable": true
   },
   "source": [
    "preserves the dot product and orthogonality since"
   ]
  },
  {
   "cell_type": "markdown",
   "id": "2b0360f4",
   "metadata": {
    "editable": true
   },
   "source": [
    "$$\n",
    "\\mathbf{w}_j^T\\mathbf{w}_i=(\\mathbf{U}\\mathbf{v}_j)^T\\mathbf{U}\\mathbf{v}_i=\\mathbf{v}_j^T\\mathbf{U}^T\\mathbf{U}\\mathbf{v}_i= \\mathbf{v}_j^T\\mathbf{v}_i = \\delta_{ij}.\n",
    "$$"
   ]
  },
  {
   "cell_type": "markdown",
   "id": "145c38e1",
   "metadata": {
    "editable": true
   },
   "source": [
    "## Orthogonality preserved\n",
    "\n",
    "This means that if the coefficients $u_{p\\lambda}$ belong to a unitary\n",
    "or orthogonal transformation (using the Dirac bra-ket notation)"
   ]
  },
  {
   "cell_type": "markdown",
   "id": "c00a119b",
   "metadata": {
    "editable": true
   },
   "source": [
    "$$\n",
    "\\vert \\psi_i\\rangle = \\sum_{j} u_{ij}\\vert \\phi_{j}\\rangle.\n",
    "$$"
   ]
  },
  {
   "cell_type": "markdown",
   "id": "d1d367ac",
   "metadata": {
    "editable": true
   },
   "source": [
    "orthogonality is preserved.\n",
    "\n",
    "This property is extremely useful when we build up a basis of\n",
    "many-body determinant based states.\n",
    "\n",
    "Note also that although a basis $\\left\\{\\vert \\phi_i \\rangle\\right\\}$ contains an infinity of states, for practical calculations we have always to make some truncations."
   ]
  },
  {
   "cell_type": "markdown",
   "id": "fcc1a264",
   "metadata": {
    "editable": true
   },
   "source": [
    "## Example\n",
    "\n",
    "Assume we have two  states represented by"
   ]
  },
  {
   "cell_type": "markdown",
   "id": "9792757d",
   "metadata": {
    "editable": true
   },
   "source": [
    "$$\n",
    "\\vert \\psi \\rangle = \\alpha \\vert 0 \\rangle + \\beta \\vert 1\\rangle=\\begin{bmatrix}\\alpha \\\\ \\beta \\end{bmatrix},\n",
    "$$"
   ]
  },
  {
   "cell_type": "markdown",
   "id": "399ee174",
   "metadata": {
    "editable": true
   },
   "source": [
    "and"
   ]
  },
  {
   "cell_type": "markdown",
   "id": "fb1a3cea",
   "metadata": {
    "editable": true
   },
   "source": [
    "$$\n",
    "\\vert \\phi \\rangle = \\gamma \\vert 0 \\rangle + \\delta \\vert 1\\rangle=\\begin{bmatrix}\\gamma \\\\ \\delta \\end{bmatrix}.\n",
    "$$"
   ]
  },
  {
   "cell_type": "markdown",
   "id": "9ff348c3",
   "metadata": {
    "editable": true
   },
   "source": [
    "We assume that the state $\\vert \\phi \\rangle$ is obtained through a\n",
    "unitary transformation of $\\vert \\psi \\rangle$ through a matrix\n",
    "$\\boldsymbol{U}$ with its hermitian conjugate $\\boldsymbol{U}^{\\dagger}$ with matrix\n",
    "elements $u_{ij}^{\\dagger}=u_{ji}^*$ and\n",
    "$\\boldsymbol{I}=\\boldsymbol{U}\\boldsymbol{U}^{\\dagger}=\\boldsymbol{U}^{\\dagger}\\boldsymbol{U}$."
   ]
  },
  {
   "cell_type": "markdown",
   "id": "92833136",
   "metadata": {
    "editable": true
   },
   "source": [
    "## Inverse of unitary matrices\n",
    "\n",
    "Note that this means that the hermitian conjugate of a unitary matrix\n",
    "is equal to its inverse. This has important consequences for what is\n",
    "called reversibility. We say quantum mechanics is a theory which is\n",
    "reversible with a probabilistic determinism. Classical mechanics on\n",
    "the other is reversible in a deterministic way, that is, knowing all\n",
    "initial conditions we can in principle determine the future motion of\n",
    "an object which obey the laws of motion of classical mechanics.\n",
    "\n",
    "We have then"
   ]
  },
  {
   "cell_type": "markdown",
   "id": "a8293d92",
   "metadata": {
    "editable": true
   },
   "source": [
    "$$\n",
    "\\begin{bmatrix}\\gamma \\\\ \\delta \\end{bmatrix}=\\begin{bmatrix}u_{00} & u_{01} \\\\ u_{10} & u_{11} \\end{bmatrix}\\begin{bmatrix}\\alpha \\\\ \\beta \\end{bmatrix}.\n",
    "$$"
   ]
  },
  {
   "cell_type": "markdown",
   "id": "2f756bc0",
   "metadata": {
    "editable": true
   },
   "source": [
    "## New basis is also orthogonal\n",
    "\n",
    "Since our original basis $\\vert \\psi\\rangle$ is orthogonal and normalized with $\\vert\\alpha\\vert^2+\\vert\\beta\\vert^2=1$, the new basis is also orthogonal and normalized, as we can see below here.\n",
    "\n",
    "Since the inverse of a hermitian matrix is equal to its hermitian\n",
    "conjugate/adjoint), unitary transformations are always reversible.\n",
    "\n",
    "Why are only unitary transformations allowed? The key lies in the way the inner product tranforms.\n",
    "\n",
    "To see this we rewrite the new basis from the previous example in its two components as"
   ]
  },
  {
   "cell_type": "markdown",
   "id": "8666fff2",
   "metadata": {
    "editable": true
   },
   "source": [
    "$$\n",
    "\\vert \\phi\\rangle_i=\\sum_{j}u_{ij}\\vert \\psi\\rangle_j,\n",
    "$$"
   ]
  },
  {
   "cell_type": "markdown",
   "id": "e5f3971f",
   "metadata": {
    "editable": true
   },
   "source": [
    "or in terms of a matrix-vector notatio we have"
   ]
  },
  {
   "cell_type": "markdown",
   "id": "eb497f8c",
   "metadata": {
    "editable": true
   },
   "source": [
    "$$\n",
    "\\vert \\phi\\rangle=\\boldsymbol{U}\\vert \\psi\\rangle,\n",
    "$$"
   ]
  },
  {
   "cell_type": "markdown",
   "id": "5976fdbd",
   "metadata": {
    "editable": true
   },
   "source": [
    "## More on orthogonality\n",
    "\n",
    "We have already assumed that $\\langle \\psi \\vert \\psi \\rangle = \\vert\\alpha\\vert^2+\\vert\\beta\\vert^2=1$.\n",
    "\n",
    "We have that"
   ]
  },
  {
   "cell_type": "markdown",
   "id": "1eb69e33",
   "metadata": {
    "editable": true
   },
   "source": [
    "$$\n",
    "\\langle \\phi\\vert_i=\\sum_{j}u_{ij}^*\\langle \\psi\\vert_j,\n",
    "$$"
   ]
  },
  {
   "cell_type": "markdown",
   "id": "a852ebb7",
   "metadata": {
    "editable": true
   },
   "source": [
    "or in terms of a matrix-vector notation we have"
   ]
  },
  {
   "cell_type": "markdown",
   "id": "60d0d153",
   "metadata": {
    "editable": true
   },
   "source": [
    "$$\n",
    "\\langle \\phi\\vert=\\langle \\psi\\vert\\boldsymbol{U}^{\\dagger}.\n",
    "$$"
   ]
  },
  {
   "cell_type": "markdown",
   "id": "76c94d43",
   "metadata": {
    "editable": true
   },
   "source": [
    "Note that the two vectors are row vectors now.\n",
    "\n",
    "If we stay with this notation we have"
   ]
  },
  {
   "cell_type": "markdown",
   "id": "93866a64",
   "metadata": {
    "editable": true
   },
   "source": [
    "$$\n",
    "\\langle \\phi\\vert\\phi\\rangle = \\langle \\psi \\boldsymbol{U}^{\\dagger}\\boldsymbol{U}\\vert \\psi\\rangle = \\langle \\psi\\vert \\psi\\rangle=1!\n",
    "$$"
   ]
  },
  {
   "cell_type": "markdown",
   "id": "757b1146",
   "metadata": {
    "editable": true
   },
   "source": [
    "Unitary transformations are rotations in state space which preserve the\n",
    "length (the square root of the inner product) of the state vector."
   ]
  },
  {
   "cell_type": "markdown",
   "id": "4a76abd2",
   "metadata": {
    "editable": true
   },
   "source": [
    "## Hamiltonian and more definition\n",
    "\n",
    "Before we proceed we need several definitions.  Throughout these\n",
    "lectures we will assume that the interacting part of the Hamiltonian\n",
    "can be approximated by a two-body interaction.  This means that our\n",
    "Hamiltonian can be written as the sum of a onebody part, which\n",
    "includes kinetic energy and an eventual external field, and a twobody\n",
    "interaction"
   ]
  },
  {
   "cell_type": "markdown",
   "id": "2b2a68fe",
   "metadata": {
    "editable": true
   },
   "source": [
    "## Hamiltonian\n",
    "\n",
    "This means that our Hamiltonian is written as the sum of some onebody part and a twobody part"
   ]
  },
  {
   "cell_type": "markdown",
   "id": "75b2c986",
   "metadata": {
    "editable": true
   },
   "source": [
    "<!-- Equation labels as ordinary links -->\n",
    "<div id=\"Hnuclei\"></div>\n",
    "\n",
    "$$\n",
    "\\begin{equation}\n",
    "    \\hat{H} = \\hat{H}_0 + \\hat{H}_I \n",
    "    = \\sum_{i=1}^N \\hat{h}_0(x_i) + \\sum_{i < j}^N \\hat{v}(r_{ij}),\n",
    "\\label{Hnuclei} \\tag{2}\n",
    "\\end{equation}\n",
    "$$"
   ]
  },
  {
   "cell_type": "markdown",
   "id": "7b6c57ff",
   "metadata": {
    "editable": true
   },
   "source": [
    "with"
   ]
  },
  {
   "cell_type": "markdown",
   "id": "465c19e2",
   "metadata": {
    "editable": true
   },
   "source": [
    "<!-- Equation labels as ordinary links -->\n",
    "<div id=\"hinuclei\"></div>\n",
    "\n",
    "$$\n",
    "\\begin{equation}\n",
    "  H_0=\\sum_{i=1}^N \\hat{h}_0(x_i).\n",
    "\\label{hinuclei} \\tag{3}\n",
    "\\end{equation}\n",
    "$$"
   ]
  },
  {
   "cell_type": "markdown",
   "id": "b2da830f",
   "metadata": {
    "editable": true
   },
   "source": [
    "The onebody part $u_{\\mathrm{ext}}(x_i)$ is normally approximated by a harmonic oscillator potential or the Coulomb interaction an electron feels from the nucleus. However, other potentials are fully possible, such as \n",
    "one derived from the self-consistent solution of the Hartree-Fock equations to be discussed here."
   ]
  },
  {
   "cell_type": "markdown",
   "id": "9107b514",
   "metadata": {
    "editable": true
   },
   "source": [
    "## Hamiltonian is invariant\n",
    "\n",
    "Our Hamiltonian is invariant under the permutation (interchange) of two particles.\n",
    "Since we mainly will deal with fermions however, the total wave function is antisymmetric.\n",
    "Let $\\hat{P}$ be an operator which interchanges two particles.\n",
    "Due to the symmetries we have ascribed to our Hamiltonian, this operator commutes with the total Hamiltonian,"
   ]
  },
  {
   "cell_type": "markdown",
   "id": "8c7a9a98",
   "metadata": {
    "editable": true
   },
   "source": [
    "$$\n",
    "[\\hat{H},\\hat{P}] = 0,\n",
    "$$"
   ]
  },
  {
   "cell_type": "markdown",
   "id": "50170bed",
   "metadata": {
    "editable": true
   },
   "source": [
    "meaning that $\\Psi_{\\lambda}(x_1, x_2, \\dots , x_N)$ is an eigenfunction of \n",
    "$\\hat{P}$ as well, that is"
   ]
  },
  {
   "cell_type": "markdown",
   "id": "2352ee68",
   "metadata": {
    "editable": true
   },
   "source": [
    "$$\n",
    "\\hat{P}_{ij}\\Psi_{\\lambda}(x_1, x_2, \\dots,x_i,\\dots,x_j,\\dots,x_N)=\n",
    "\\beta\\Psi_{\\lambda}(x_1, x_2, \\dots,x_i,\\dots,x_j,\\dots,x_N),\n",
    "$$"
   ]
  },
  {
   "cell_type": "markdown",
   "id": "26676cad",
   "metadata": {
    "editable": true
   },
   "source": [
    "where $\\beta$ is the eigenvalue of $\\hat{P}$. We have introduced the suffix $ij$ in order to indicate that we permute particles $i$ and $j$."
   ]
  },
  {
   "cell_type": "markdown",
   "id": "0eb1863d",
   "metadata": {
    "editable": true
   },
   "source": [
    "## Pauli principle\n",
    "\n",
    "The Pauli principle tells us that the total wave function for a system of fermions\n",
    "has to be antisymmetric, resulting in the eigenvalue $\\beta = -1$.   \n",
    "\n",
    "In our case we assume that  we can approximate the exact eigenfunction with a **so-called** [Slater determinant](https://chem.libretexts.org/Courses/Pacific_Union_College/Quantum_Chemistry/08%3A_Multielectron_Atoms/8.06%3A_Antisymmetric_Wavefunctions_can_be_Represented_by_Slater_Determinants)."
   ]
  },
  {
   "cell_type": "markdown",
   "id": "aed1fb47",
   "metadata": {
    "editable": true
   },
   "source": [
    "## Slater determinant\n",
    "\n",
    "The state function $   \\Phi(x_1, x_2,\\dots ,x_N,\\alpha,\\beta,\\dots, \\sigma)$ is given by"
   ]
  },
  {
   "cell_type": "markdown",
   "id": "b1c471d4",
   "metadata": {
    "editable": true
   },
   "source": [
    "<!-- Equation labels as ordinary links -->\n",
    "<div id=\"eq:HartreeFockDet\"></div>\n",
    "\n",
    "$$\n",
    "\\begin{equation}\n",
    "\\frac{1}{\\sqrt{N!}}\\left| \\begin{array}{ccccc} \\psi_{\\alpha}(x_1)& \\psi_{\\alpha}(x_2)& \\dots & \\dots & \\psi_{\\alpha}(x_N)\\\\\n",
    "                            \\psi_{\\beta}(x_1)&\\psi_{\\beta}(x_2)& \\dots & \\dots & \\psi_{\\beta}(x_N)\\\\  \n",
    "                            \\dots & \\dots & \\dots & \\dots & \\dots \\\\\n",
    "                            \\dots & \\dots & \\dots & \\dots & \\dots \\\\\n",
    "                     \\psi_{\\sigma}(x_1)&\\psi_{\\sigma}(x_2)& \\dots & \\dots & \\psi_{\\sigma}(x_N)\\end{array} \\right|, \\label{eq:HartreeFockDet} \\tag{4}\n",
    "\\end{equation}\n",
    "$$"
   ]
  },
  {
   "cell_type": "markdown",
   "id": "5414ae40",
   "metadata": {
    "editable": true
   },
   "source": [
    "where  $x_i$  stand for the coordinates and spin values of a particle $i$ and $\\alpha,\\beta,\\dots, \\gamma$ \n",
    "are quantum numbers needed to describe remaining quantum numbers."
   ]
  },
  {
   "cell_type": "markdown",
   "id": "d7f7d9b3",
   "metadata": {
    "editable": true
   },
   "source": [
    "## Determinant algebra\n",
    "\n",
    "Since we will mainly deal with Fermions (identical and indistinguishable particles) we will \n",
    "form an ansatz for a given state in terms of so-called Slater determinants determined\n",
    "by a chosen basis of single-particle functions. \n",
    "\n",
    "For a given $n\\times n$ matrix $\\mathbf{A}$ we can write its determinant"
   ]
  },
  {
   "cell_type": "markdown",
   "id": "bd2701b1",
   "metadata": {
    "editable": true
   },
   "source": [
    "$$\n",
    "det(\\mathbf{A})=|\\mathbf{A}|=\n",
    "\\left| \\begin{array}{ccccc} a_{11}& a_{12}& \\dots & \\dots & a_{1n}\\\\\n",
    "                            a_{21}&a_{22}& \\dots & \\dots & a_{2n}\\\\  \n",
    "                            \\dots & \\dots & \\dots & \\dots & \\dots \\\\\n",
    "                            \\dots & \\dots & \\dots & \\dots & \\dots \\\\\n",
    "                            a_{n1}& a_{n2}& \\dots & \\dots & a_{nn}\\end{array} \\right|,\n",
    "$$"
   ]
  },
  {
   "cell_type": "markdown",
   "id": "39e54454",
   "metadata": {
    "editable": true
   },
   "source": [
    "in a more compact form as"
   ]
  },
  {
   "cell_type": "markdown",
   "id": "926b3931",
   "metadata": {
    "editable": true
   },
   "source": [
    "$$\n",
    "|\\mathbf{A}|= \\sum_{i=1}^{n!}(-1)^{p_i}\\hat{P}_i a_{11}a_{22}\\dots a_{nn},\n",
    "$$"
   ]
  },
  {
   "cell_type": "markdown",
   "id": "63c22ee6",
   "metadata": {
    "editable": true
   },
   "source": [
    "where $\\hat{P}_i$ is a permutation operator which permutes the column indices $1,2,3,\\dots,n$\n",
    "and the sum runs over all $n!$ permutations.  The quantity $p_i$ represents the number of transpositions of column indices that are needed in order to bring a given permutation back to its initial ordering, in our case given by $a_{11}a_{22}\\dots a_{nn}$ here."
   ]
  },
  {
   "cell_type": "markdown",
   "id": "e61886e1",
   "metadata": {
    "editable": true
   },
   "source": [
    "## Simple determinant example\n",
    "\n",
    "A simple $2\\times 2$ determinant illustrates this. We have"
   ]
  },
  {
   "cell_type": "markdown",
   "id": "2126af88",
   "metadata": {
    "editable": true
   },
   "source": [
    "$$\n",
    "det(\\mathbf{A})=\n",
    "\\left| \\begin{array}{cc} a_{11}& a_{12}\\\\\n",
    "                            a_{21}&a_{22}\\end{array} \\right|= (-1)^0a_{11}a_{22}+(-1)^1a_{12}a_{21},\n",
    "$$"
   ]
  },
  {
   "cell_type": "markdown",
   "id": "b05023bc",
   "metadata": {
    "editable": true
   },
   "source": [
    "where in the last term we have interchanged the column indices $1$ and $2$. The natural ordering we have chosen is $a_{11}a_{22}$."
   ]
  },
  {
   "cell_type": "markdown",
   "id": "c2d1c4b8",
   "metadata": {
    "editable": true
   },
   "source": [
    "## Back to the derivation of the energy\n",
    "\n",
    "The single-particle function $\\psi_{\\alpha}(x_i)$  are eigenfunctions of the onebody\n",
    "Hamiltonian $h_i$, that is"
   ]
  },
  {
   "cell_type": "markdown",
   "id": "e0c8019a",
   "metadata": {
    "editable": true
   },
   "source": [
    "$$\n",
    "\\hat{h}_0(x_i)=\\hat{t}(x_i) + \\hat{u}_{\\mathrm{ext}}(x_i),\n",
    "$$"
   ]
  },
  {
   "cell_type": "markdown",
   "id": "fa40bc57",
   "metadata": {
    "editable": true
   },
   "source": [
    "with eigenvalues"
   ]
  },
  {
   "cell_type": "markdown",
   "id": "cbd70eb1",
   "metadata": {
    "editable": true
   },
   "source": [
    "$$\n",
    "\\hat{h}_0(x_i) \\psi_{\\alpha}(x_i)=\\left(\\hat{t}(x_i) + \\hat{u}_{\\mathrm{ext}}(x_i)\\right)\\psi_{\\alpha}(x_i)=\\varepsilon_{\\alpha}\\psi_{\\alpha}(x_i).\n",
    "$$"
   ]
  },
  {
   "cell_type": "markdown",
   "id": "da2f289d",
   "metadata": {
    "editable": true
   },
   "source": [
    "## Non-interacting system\n",
    "\n",
    "The energies $\\varepsilon_{\\alpha}$ are the so-called non-interacting single-particle energies, or unperturbed energies. \n",
    "The total energy is in this case the sum over all  single-particle energies, if no two-body or more complicated\n",
    "many-body interactions are present."
   ]
  },
  {
   "cell_type": "markdown",
   "id": "f002e5df",
   "metadata": {
    "editable": true
   },
   "source": [
    "## Ground state energy\n",
    "\n",
    "Let us denote the ground state energy by $E_0$. According to the\n",
    "variational principle we have"
   ]
  },
  {
   "cell_type": "markdown",
   "id": "37b87da2",
   "metadata": {
    "editable": true
   },
   "source": [
    "$$\n",
    "E_0 \\le E[\\Phi] = \\int \\Phi^*\\hat{H}\\Phi d\\mathbf{\\tau}\n",
    "$$"
   ]
  },
  {
   "cell_type": "markdown",
   "id": "dc50e3ea",
   "metadata": {
    "editable": true
   },
   "source": [
    "where $\\Phi$ is a trial function which we assume to be normalized"
   ]
  },
  {
   "cell_type": "markdown",
   "id": "5acfbfde",
   "metadata": {
    "editable": true
   },
   "source": [
    "$$\n",
    "\\int \\Phi^*\\Phi d\\mathbf{\\tau} = 1,\n",
    "$$"
   ]
  },
  {
   "cell_type": "markdown",
   "id": "220ca506",
   "metadata": {
    "editable": true
   },
   "source": [
    "where we have used the shorthand $d\\mathbf{\\tau}=dx_1dr_2\\dots dr_N$."
   ]
  },
  {
   "cell_type": "markdown",
   "id": "a080cc5d",
   "metadata": {
    "editable": true
   },
   "source": [
    "## Ground state energy and links with material to be covered\n",
    "\n",
    "In the Hartree-Fock method the trial function is the Slater\n",
    "determinant of Eq. ([4](#eq:HartreeFockDet)) which can be rewritten as"
   ]
  },
  {
   "cell_type": "markdown",
   "id": "47290e86",
   "metadata": {
    "editable": true
   },
   "source": [
    "$$\n",
    "\\Phi(x_1,x_2,\\dots,x_N,\\alpha,\\beta,\\dots,\\nu) = \\frac{1}{\\sqrt{N!}}\\sum_{P} (-)^P\\hat{P}\\psi_{\\alpha}(x_1)\n",
    "    \\psi_{\\beta}(x_2)\\dots\\psi_{\\nu}(x_N)=\\sqrt{N!}\\hat{A}\\Phi_H,\n",
    "$$"
   ]
  },
  {
   "cell_type": "markdown",
   "id": "799ce747",
   "metadata": {
    "editable": true
   },
   "source": [
    "where we have introduced the antisymmetrization operator $\\hat{A}$ defined by the \n",
    "summation over all possible permutations of two particles."
   ]
  },
  {
   "cell_type": "markdown",
   "id": "a60509f9",
   "metadata": {
    "editable": true
   },
   "source": [
    "## Using expansions\n",
    "\n",
    "It is defined as"
   ]
  },
  {
   "cell_type": "markdown",
   "id": "1e19116f",
   "metadata": {
    "editable": true
   },
   "source": [
    "<!-- Equation labels as ordinary links -->\n",
    "<div id=\"antiSymmetryOperator\"></div>\n",
    "\n",
    "$$\n",
    "\\begin{equation}\n",
    "  \\hat{A} = \\frac{1}{N!}\\sum_{p} (-)^p\\hat{P},\n",
    "\\label{antiSymmetryOperator} \\tag{5}\n",
    "\\end{equation}\n",
    "$$"
   ]
  },
  {
   "cell_type": "markdown",
   "id": "8eadf0d6",
   "metadata": {
    "editable": true
   },
   "source": [
    "with $p$ standing for the number of permutations. We have introduced for later use the so-called\n",
    "Hartree-function, defined by the simple product of all possible single-particle functions"
   ]
  },
  {
   "cell_type": "markdown",
   "id": "5fee02aa",
   "metadata": {
    "editable": true
   },
   "source": [
    "$$\n",
    "\\Phi_H(x_1,x_2,\\dots,x_N,\\alpha,\\beta,\\dots,\\nu) =\n",
    "  \\psi_{\\alpha}(x_1)\n",
    "    \\psi_{\\beta}(x_2)\\dots\\psi_{\\nu}(x_N).\n",
    "$$"
   ]
  },
  {
   "cell_type": "markdown",
   "id": "e68ec439",
   "metadata": {
    "editable": true
   },
   "source": [
    "## Using invariance\n",
    "\n",
    "Both $\\hat{H}_0$ and $\\hat{H}_I$ are invariant under all possible permutations of any two particles\n",
    "and hence commute with $\\hat{A}$"
   ]
  },
  {
   "cell_type": "markdown",
   "id": "21f4f8a3",
   "metadata": {
    "editable": true
   },
   "source": [
    "<!-- Equation labels as ordinary links -->\n",
    "<div id=\"commutionAntiSym\"></div>\n",
    "\n",
    "$$\n",
    "\\begin{equation}\n",
    "  [H_0,\\hat{A}] = [H_I,\\hat{A}] = 0. \\label{commutionAntiSym} \\tag{6}\n",
    "\\end{equation}\n",
    "$$"
   ]
  },
  {
   "cell_type": "markdown",
   "id": "5770a065",
   "metadata": {
    "editable": true
   },
   "source": [
    "Furthermore, $\\hat{A}$ satisfies"
   ]
  },
  {
   "cell_type": "markdown",
   "id": "7746b742",
   "metadata": {
    "editable": true
   },
   "source": [
    "<!-- Equation labels as ordinary links -->\n",
    "<div id=\"AntiSymSquared\"></div>\n",
    "\n",
    "$$\n",
    "\\begin{equation}\n",
    "  \\hat{A}^2 = \\hat{A},  \\label{AntiSymSquared} \\tag{7}\n",
    "\\end{equation}\n",
    "$$"
   ]
  },
  {
   "cell_type": "markdown",
   "id": "af58aa99",
   "metadata": {
    "editable": true
   },
   "source": [
    "since every permutation of the Slater\n",
    "determinant reproduces it."
   ]
  },
  {
   "cell_type": "markdown",
   "id": "eba7d26e",
   "metadata": {
    "editable": true
   },
   "source": [
    "## Expectation value\n",
    "\n",
    "The expectation value of $\\hat{H}_0$"
   ]
  },
  {
   "cell_type": "markdown",
   "id": "24f50516",
   "metadata": {
    "editable": true
   },
   "source": [
    "$$\n",
    "\\int \\Phi^*\\hat{H}_0\\Phi d\\mathbf{\\tau} \n",
    "  = N! \\int \\Phi_H^*\\hat{A}\\hat{H}_0\\hat{A}\\Phi_H d\\mathbf{\\tau}\n",
    "$$"
   ]
  },
  {
   "cell_type": "markdown",
   "id": "c955fff3",
   "metadata": {
    "editable": true
   },
   "source": [
    "is readily reduced to"
   ]
  },
  {
   "cell_type": "markdown",
   "id": "50ee3da5",
   "metadata": {
    "editable": true
   },
   "source": [
    "$$\n",
    "\\int \\Phi^*\\hat{H}_0\\Phi d\\mathbf{\\tau} \n",
    "  = N! \\int \\Phi_H^*\\hat{H}_0\\hat{A}\\Phi_H d\\mathbf{\\tau},\n",
    "$$"
   ]
  },
  {
   "cell_type": "markdown",
   "id": "ec5dbc84",
   "metadata": {
    "editable": true
   },
   "source": [
    "where we have used Eqs. ([6](#commutionAntiSym)) and\n",
    "([7](#AntiSymSquared)). The next step is to replace the antisymmetrization\n",
    "operator by its definition and to\n",
    "replace $\\hat{H}_0$ with the sum of one-body operators"
   ]
  },
  {
   "cell_type": "markdown",
   "id": "879a8ed0",
   "metadata": {
    "editable": true
   },
   "source": [
    "$$\n",
    "\\int \\Phi^*\\hat{H}_0\\Phi  d\\mathbf{\\tau}\n",
    "  = \\sum_{i=1}^N \\sum_{p} (-)^p\\int \n",
    "  \\Phi_H^*\\hat{h}_0\\hat{P}\\Phi_H d\\mathbf{\\tau}.\n",
    "$$"
   ]
  },
  {
   "cell_type": "markdown",
   "id": "e045e39b",
   "metadata": {
    "editable": true
   },
   "source": [
    "## Vanishing terms\n",
    "\n",
    "The integral vanishes if two or more particles are permuted in only one\n",
    "of the Hartree-functions $\\Phi_H$ because the individual single-particle wave functions are\n",
    "orthogonal. We obtain then"
   ]
  },
  {
   "cell_type": "markdown",
   "id": "6b9c4ed3",
   "metadata": {
    "editable": true
   },
   "source": [
    "$$\n",
    "\\int \\Phi^*\\hat{H}_0\\Phi  d\\mathbf{\\tau}= \\sum_{i=1}^N \\int \\Phi_H^*\\hat{h}_0\\Phi_H  d\\mathbf{\\tau}.\n",
    "$$"
   ]
  },
  {
   "cell_type": "markdown",
   "id": "f5e6cf20",
   "metadata": {
    "editable": true
   },
   "source": [
    "Orthogonality of the single-particle functions allows us to further simplify the integral, and we\n",
    "arrive at the following expression for the expectation values of the\n",
    "sum of one-body Hamiltonians"
   ]
  },
  {
   "cell_type": "markdown",
   "id": "3089f013",
   "metadata": {
    "editable": true
   },
   "source": [
    "<!-- Equation labels as ordinary links -->\n",
    "<div id=\"H1Expectation\"></div>\n",
    "\n",
    "$$\n",
    "\\begin{equation}\n",
    "  \\int \\Phi^*\\hat{H}_0\\Phi  d\\mathbf{\\tau}\n",
    "  = \\sum_{\\mu=1}^N \\int \\psi_{\\mu}^*(x)\\hat{h}_0\\psi_{\\mu}(x)dx\n",
    "  d\\mathbf{r}.\n",
    "\\label{H1Expectation} \\tag{8}\n",
    "\\end{equation}\n",
    "$$"
   ]
  },
  {
   "cell_type": "markdown",
   "id": "0cca5c73",
   "metadata": {
    "editable": true
   },
   "source": [
    "## Shorthand notation\n",
    "\n",
    "We introduce the following shorthand for the above integral"
   ]
  },
  {
   "cell_type": "markdown",
   "id": "4486ea45",
   "metadata": {
    "editable": true
   },
   "source": [
    "$$\n",
    "\\langle \\mu | \\hat{h}_0 | \\mu \\rangle = \\int \\psi_{\\mu}^*(x)\\hat{h}_0\\psi_{\\mu}(x)dx,\n",
    "$$"
   ]
  },
  {
   "cell_type": "markdown",
   "id": "1a99d1bc",
   "metadata": {
    "editable": true
   },
   "source": [
    "and rewrite Eq. ([8](#H1Expectation)) as"
   ]
  },
  {
   "cell_type": "markdown",
   "id": "22dca368",
   "metadata": {
    "editable": true
   },
   "source": [
    "<!-- Equation labels as ordinary links -->\n",
    "<div id=\"H1Expectation1\"></div>\n",
    "\n",
    "$$\n",
    "\\begin{equation}\n",
    "  \\int \\Phi^*\\hat{H}_0\\Phi  d\\tau\n",
    "  = \\sum_{\\mu=1}^N \\langle \\mu | \\hat{h}_0 | \\mu \\rangle.\n",
    "\\label{H1Expectation1} \\tag{9}\n",
    "\\end{equation}\n",
    "$$"
   ]
  },
  {
   "cell_type": "markdown",
   "id": "b1872047",
   "metadata": {
    "editable": true
   },
   "source": [
    "## Expectation value for two-body operator\n",
    "\n",
    "The expectation value of the two-body part of the Hamiltonian is obtained in a\n",
    "similar manner. We have"
   ]
  },
  {
   "cell_type": "markdown",
   "id": "3665ce11",
   "metadata": {
    "editable": true
   },
   "source": [
    "$$\n",
    "\\int \\Phi^*\\hat{H}_I\\Phi d\\mathbf{\\tau} \n",
    "  = N! \\int \\Phi_H^*\\hat{A}\\hat{H}_I\\hat{A}\\Phi_H d\\mathbf{\\tau},\n",
    "$$"
   ]
  },
  {
   "cell_type": "markdown",
   "id": "c0fcf3d4",
   "metadata": {
    "editable": true
   },
   "source": [
    "which reduces to"
   ]
  },
  {
   "cell_type": "markdown",
   "id": "ee56458f",
   "metadata": {
    "editable": true
   },
   "source": [
    "$$\n",
    "\\int \\Phi^*\\hat{H}_I\\Phi d\\mathbf{\\tau} \n",
    "  = \\sum_{i\\le j=1}^N \\sum_{p} (-)^p\\int \n",
    "  \\Phi_H^*\\hat{v}(r_{ij})\\hat{P}\\Phi_H d\\mathbf{\\tau},\n",
    "$$"
   ]
  },
  {
   "cell_type": "markdown",
   "id": "3a5e9921",
   "metadata": {
    "editable": true
   },
   "source": [
    "by following the same arguments as for the one-body\n",
    "Hamiltonian."
   ]
  },
  {
   "cell_type": "markdown",
   "id": "3ea580e9",
   "metadata": {
    "editable": true
   },
   "source": [
    "## Final expressions\n",
    "\n",
    "Because of the dependence on the inter-particle distance $r_{ij}$,  permutations of\n",
    "any two particles no longer vanish, and we get"
   ]
  },
  {
   "cell_type": "markdown",
   "id": "ac1010a3",
   "metadata": {
    "editable": true
   },
   "source": [
    "$$\n",
    "\\int \\Phi^*\\hat{H}_I\\Phi d\\mathbf{\\tau} \n",
    "  = \\sum_{i < j=1}^N \\int  \n",
    "  \\Phi_H^*\\hat{v}(r_{ij})(1-P_{ij})\\Phi_H d\\mathbf{\\tau}.\n",
    "$$"
   ]
  },
  {
   "cell_type": "markdown",
   "id": "e5f9134a",
   "metadata": {
    "editable": true
   },
   "source": [
    "where $P_{ij}$ is the permutation operator that interchanges\n",
    "particle $i$ and particle $j$. Again we use the assumption that the single-particle wave functions\n",
    "are orthogonal."
   ]
  },
  {
   "cell_type": "markdown",
   "id": "0f588e9e",
   "metadata": {
    "editable": true
   },
   "source": [
    "## Final expressions\n",
    "\n",
    "We obtain"
   ]
  },
  {
   "cell_type": "markdown",
   "id": "5e4b223f",
   "metadata": {
    "editable": true
   },
   "source": [
    "<!-- Equation labels as ordinary links -->\n",
    "<div id=\"_auto2\"></div>\n",
    "\n",
    "$$\n",
    "\\begin{equation}\n",
    "  \\int \\Phi^*\\hat{H}_I\\Phi d\\mathbf{\\tau} \n",
    "  = \\frac{1}{2}\\sum_{\\mu=1}^N\\sum_{\\nu=1}^N\n",
    "    \\left[ \\int \\psi_{\\mu}^*(x_i)\\psi_{\\nu}^*(x_j)\\hat{v}(r_{ij})\\psi_{\\mu}(x_i)\\psi_{\\nu}(x_j)\n",
    "    dx_idx_j \\right.\n",
    "\\label{_auto2} \\tag{10}\n",
    "\\end{equation}\n",
    "$$"
   ]
  },
  {
   "cell_type": "markdown",
   "id": "5d9893c7",
   "metadata": {
    "editable": true
   },
   "source": [
    "<!-- Equation labels as ordinary links -->\n",
    "<div id=\"H2Expectation\"></div>\n",
    "\n",
    "$$\n",
    "\\begin{equation} \n",
    "  \\left.\n",
    "  - \\int \\psi_{\\mu}^*(x_i)\\psi_{\\nu}^*(x_j)\n",
    "  \\hat{v}(r_{ij})\\psi_{\\nu}(x_i)\\psi_{\\mu}(x_j)\n",
    "  dx_idx_j\n",
    "  \\right]. \\label{H2Expectation} \\tag{11}\n",
    "\\end{equation}\n",
    "$$"
   ]
  },
  {
   "cell_type": "markdown",
   "id": "da4c1818",
   "metadata": {
    "editable": true
   },
   "source": [
    "The first term is the so-called direct term. It is frequently also called the  Hartree term, \n",
    "while the second is due to the Pauli principle and is called\n",
    "the exchange term or just the Fock term.\n",
    "The factor  $1/2$ is introduced because we now run over\n",
    "all pairs twice."
   ]
  },
  {
   "cell_type": "markdown",
   "id": "734867f1",
   "metadata": {
    "editable": true
   },
   "source": [
    "## Some additional definitions\n",
    "\n",
    "The last equation allows us to  introduce some further definitions.  \n",
    "The single-particle wave functions $\\psi_{\\mu}(x)$, defined by the quantum numbers $\\mu$ and $x$\n",
    "are defined as the overlap"
   ]
  },
  {
   "cell_type": "markdown",
   "id": "7e996684",
   "metadata": {
    "editable": true
   },
   "source": [
    "$$\n",
    "\\psi_{\\alpha}(x)  = \\langle x | \\alpha \\rangle .\n",
    "$$"
   ]
  },
  {
   "cell_type": "markdown",
   "id": "f352fd2a",
   "metadata": {
    "editable": true
   },
   "source": [
    "## Additional  expressions\n",
    "\n",
    "We introduce the following shorthands for the above two integrals"
   ]
  },
  {
   "cell_type": "markdown",
   "id": "2757b34c",
   "metadata": {
    "editable": true
   },
   "source": [
    "$$\n",
    "\\langle \\mu\\nu|\\hat{v}|\\mu\\nu\\rangle =  \\int \\psi_{\\mu}^*(x_i)\\psi_{\\nu}^*(x_j)\\hat{v}(r_{ij})\\psi_{\\mu}(x_i)\\psi_{\\nu}(x_j)\n",
    "    dx_idx_j,\n",
    "$$"
   ]
  },
  {
   "cell_type": "markdown",
   "id": "a56218e8",
   "metadata": {
    "editable": true
   },
   "source": [
    "and"
   ]
  },
  {
   "cell_type": "markdown",
   "id": "4ab79906",
   "metadata": {
    "editable": true
   },
   "source": [
    "$$\n",
    "\\langle \\mu\\nu|\\hat{v}|\\nu\\mu\\rangle = \\int \\psi_{\\mu}^*(x_i)\\psi_{\\nu}^*(x_j)\n",
    "  \\hat{v}(r_{ij})\\psi_{\\nu}(x_i)\\psi_{\\mu}(x_j)\n",
    "  dx_idx_j.\n",
    "$$"
   ]
  },
  {
   "cell_type": "markdown",
   "id": "79cba3ac",
   "metadata": {
    "editable": true
   },
   "source": [
    "## Preparing for later studies: varying the coefficients of a wave function expansion and orthogonal transformations\n",
    "\n",
    "It is common to  expand the single-particle functions in a known basis  and vary the coefficients, \n",
    "that is, the new single-particle wave function is written as a linear expansion\n",
    "in terms of a fixed chosen orthogonal basis (for example the well-known harmonic oscillator functions or the hydrogen-like functions etc).\n",
    "We define our new single-particle basis (this is a normal approach for Hartree-Fock theory) by performing a unitary transformation \n",
    "on our previous basis (labelled with greek indices) as"
   ]
  },
  {
   "cell_type": "markdown",
   "id": "60ae38ee",
   "metadata": {
    "editable": true
   },
   "source": [
    "<!-- Equation labels as ordinary links -->\n",
    "<div id=\"eq:newbasis\"></div>\n",
    "\n",
    "$$\n",
    "\\begin{equation}\n",
    "\\psi_p^{new}  = \\sum_{\\lambda} C_{p\\lambda}\\phi_{\\lambda}. \\label{eq:newbasis} \\tag{12}\n",
    "\\end{equation}\n",
    "$$"
   ]
  },
  {
   "cell_type": "markdown",
   "id": "b59e152a",
   "metadata": {
    "editable": true
   },
   "source": [
    "In this case we vary the coefficients $C_{p\\lambda}$. If the basis has infinitely many solutions, we need\n",
    "to truncate the above sum.  We assume that the basis $\\phi_{\\lambda}$ is orthogonal.\n",
    "\n",
    "It is normal to choose a single-particle basis defined as the eigenfunctions\n",
    "of parts of the full Hamiltonian. The typical situation consists of the solutions of the one-body part of the Hamiltonian, that is we have"
   ]
  },
  {
   "cell_type": "markdown",
   "id": "7975578e",
   "metadata": {
    "editable": true
   },
   "source": [
    "$$\n",
    "\\hat{h}_0\\phi_{\\lambda}=\\epsilon_{\\lambda}\\phi_{\\lambda}.\n",
    "$$"
   ]
  },
  {
   "cell_type": "markdown",
   "id": "7ff20f9b",
   "metadata": {
    "editable": true
   },
   "source": [
    "The single-particle wave functions $\\phi_{\\lambda}(\\mathbf{r})$, defined by the quantum numbers $\\lambda$ and $\\mathbf{r}$\n",
    "are defined as the overlap"
   ]
  },
  {
   "cell_type": "markdown",
   "id": "0e93bf5d",
   "metadata": {
    "editable": true
   },
   "source": [
    "$$\n",
    "\\phi_{\\lambda}(\\mathbf{r})  = \\langle \\mathbf{r} | \\lambda \\rangle .\n",
    "$$"
   ]
  },
  {
   "cell_type": "markdown",
   "id": "73a1bee3",
   "metadata": {
    "editable": true
   },
   "source": [
    "In deriving the Hartree-Fock equations, we  will expand the single-particle functions in a known basis  and vary the coefficients, \n",
    "that is, the new single-particle wave function is written as a linear expansion\n",
    "in terms of a fixed chosen orthogonal basis (for example the well-known harmonic oscillator functions or the hydrogen-like functions etc).\n",
    "\n",
    "We stated that a unitary transformation keeps the orthogonality. To see this consider first a basis of vectors $\\mathbf{v}_i$,"
   ]
  },
  {
   "cell_type": "markdown",
   "id": "5a1eb77d",
   "metadata": {
    "editable": true
   },
   "source": [
    "$$\n",
    "\\mathbf{v}_i = \\begin{bmatrix} v_{i1} \\\\ \\dots \\\\ \\dots \\\\v_{in} \\end{bmatrix}\n",
    "$$"
   ]
  },
  {
   "cell_type": "markdown",
   "id": "3534e626",
   "metadata": {
    "editable": true
   },
   "source": [
    "We assume that the basis is orthogonal, that is"
   ]
  },
  {
   "cell_type": "markdown",
   "id": "d79971b6",
   "metadata": {
    "editable": true
   },
   "source": [
    "$$\n",
    "\\mathbf{v}_j^T\\mathbf{v}_i = \\delta_{ij}.\n",
    "$$"
   ]
  },
  {
   "cell_type": "markdown",
   "id": "04c18b12",
   "metadata": {
    "editable": true
   },
   "source": [
    "An orthogonal or unitary transformation"
   ]
  },
  {
   "cell_type": "markdown",
   "id": "e955edb7",
   "metadata": {
    "editable": true
   },
   "source": [
    "$$\n",
    "\\mathbf{w}_i=\\mathbf{U}\\mathbf{v}_i,\n",
    "$$"
   ]
  },
  {
   "cell_type": "markdown",
   "id": "255b1cfc",
   "metadata": {
    "editable": true
   },
   "source": [
    "preserves the dot product and orthogonality since"
   ]
  },
  {
   "cell_type": "markdown",
   "id": "cd7fcb3b",
   "metadata": {
    "editable": true
   },
   "source": [
    "$$\n",
    "\\mathbf{w}_j^T\\mathbf{w}_i=(\\mathbf{U}\\mathbf{v}_j)^T\\mathbf{U}\\mathbf{v}_i=\\mathbf{v}_j^T\\mathbf{U}^T\\mathbf{U}\\mathbf{v}_i= \\mathbf{v}_j^T\\mathbf{v}_i = \\delta_{ij}.\n",
    "$$"
   ]
  },
  {
   "cell_type": "markdown",
   "id": "15032484",
   "metadata": {
    "editable": true
   },
   "source": [
    "This means that if the coefficients $C_{p\\lambda}$ belong to a unitary or orthogonal trasformation (using the Dirac bra-ket notation)"
   ]
  },
  {
   "cell_type": "markdown",
   "id": "5be59ab6",
   "metadata": {
    "editable": true
   },
   "source": [
    "$$\n",
    "\\vert p\\rangle  = \\sum_{\\lambda} C_{p\\lambda}\\vert\\lambda\\rangle,\n",
    "$$"
   ]
  },
  {
   "cell_type": "markdown",
   "id": "fe467654",
   "metadata": {
    "editable": true
   },
   "source": [
    "orthogonality is preserved, that is $\\langle \\alpha \\vert \\beta\\rangle = \\delta_{\\alpha\\beta}$\n",
    "and $\\langle p \\vert q\\rangle = \\delta_{pq}$. \n",
    "\n",
    "This propertry is extremely useful when we build up a basis of many-body Stater determinant based states. \n",
    "\n",
    "**Note also that although a basis $\\vert \\alpha\\rangle$ contains an infinity of states, for practical calculations we have always to make some truncations.** \n",
    "\n",
    "Before we develop for example the Hartree-Fock equations, there is another very useful property of determinants that we will use both in connection with Hartree-Fock calculations and later shell-model calculations.  \n",
    "\n",
    "Consider the following determinant"
   ]
  },
  {
   "cell_type": "markdown",
   "id": "eb3ef2dd",
   "metadata": {
    "editable": true
   },
   "source": [
    "$$\n",
    "\\left| \\begin{array}{cc} \\alpha_1b_{11}+\\alpha_2sb_{12}& a_{12}\\\\\n",
    "                         \\alpha_1b_{21}+\\alpha_2b_{22}&a_{22}\\end{array} \\right|=\\alpha_1\\left|\\begin{array}{cc} b_{11}& a_{12}\\\\\n",
    "                         b_{21}&a_{22}\\end{array} \\right|+\\alpha_2\\left| \\begin{array}{cc} b_{12}& a_{12}\\\\b_{22}&a_{22}\\end{array} \\right|\n",
    "$$"
   ]
  },
  {
   "cell_type": "markdown",
   "id": "0e9e0abe",
   "metadata": {
    "editable": true
   },
   "source": [
    "We can generalize this to  an $n\\times n$ matrix and have"
   ]
  },
  {
   "cell_type": "markdown",
   "id": "4d1c1f17",
   "metadata": {
    "editable": true
   },
   "source": [
    "$$\n",
    "\\left| \\begin{array}{cccccc} a_{11}& a_{12} & \\dots & \\sum_{k=1}^n c_k b_{1k} &\\dots & a_{1n}\\\\\n",
    "a_{21}& a_{22} & \\dots & \\sum_{k=1}^n c_k b_{2k} &\\dots & a_{2n}\\\\\n",
    "\\dots & \\dots & \\dots & \\dots & \\dots & \\dots \\\\\n",
    "\\dots & \\dots & \\dots & \\dots & \\dots & \\dots \\\\\n",
    "a_{n1}& a_{n2} & \\dots & \\sum_{k=1}^n c_k b_{nk} &\\dots & a_{nn}\\end{array} \\right|=\n",
    "\\sum_{k=1}^n c_k\\left| \\begin{array}{cccccc} a_{11}& a_{12} & \\dots &  b_{1k} &\\dots & a_{1n}\\\\\n",
    "a_{21}& a_{22} & \\dots &  b_{2k} &\\dots & a_{2n}\\\\\n",
    "\\dots & \\dots & \\dots & \\dots & \\dots & \\dots\\\\\n",
    "\\dots & \\dots & \\dots & \\dots & \\dots & \\dots\\\\\n",
    "a_{n1}& a_{n2} & \\dots &  b_{nk} &\\dots & a_{nn}\\end{array} \\right| .\n",
    "$$"
   ]
  },
  {
   "cell_type": "markdown",
   "id": "499bfa01",
   "metadata": {
    "editable": true
   },
   "source": [
    "This is a property we will use in our Hartree-Fock discussions. \n",
    "\n",
    "We can generalize the previous results, now \n",
    "with all elements $a_{ij}$  being given as functions of \n",
    "linear combinations  of various coefficients $c$ and elements $b_{ij}$,"
   ]
  },
  {
   "cell_type": "markdown",
   "id": "5d9ea0c9",
   "metadata": {
    "editable": true
   },
   "source": [
    "$$\n",
    "\\left| \\begin{array}{cccccc} \\sum_{k=1}^n b_{1k}c_{k1}& \\sum_{k=1}^n b_{1k}c_{k2} & \\dots & \\sum_{k=1}^n b_{1k}c_{kj}  &\\dots & \\sum_{k=1}^n b_{1k}c_{kn}\\\\\n",
    "\\sum_{k=1}^n b_{2k}c_{k1}& \\sum_{k=1}^n b_{2k}c_{k2} & \\dots & \\sum_{k=1}^n b_{2k}c_{kj} &\\dots & \\sum_{k=1}^n b_{2k}c_{kn}\\\\\n",
    "\\dots & \\dots & \\dots & \\dots & \\dots & \\dots \\\\\n",
    "\\dots & \\dots & \\dots & \\dots & \\dots &\\dots \\\\\n",
    "\\sum_{k=1}^n b_{nk}c_{k1}& \\sum_{k=1}^n b_{nk}c_{k2} & \\dots & \\sum_{k=1}^n b_{nk}c_{kj} &\\dots & \\sum_{k=1}^n b_{nk}c_{kn}\\end{array} \\right|=det(\\mathbf{C})det(\\mathbf{B}),\n",
    "$$"
   ]
  },
  {
   "cell_type": "markdown",
   "id": "13ec78e7",
   "metadata": {
    "editable": true
   },
   "source": [
    "where $det(\\mathbf{C})$ and $det(\\mathbf{B})$ are the determinants of $n\\times n$ matrices\n",
    "with elements $c_{ij}$ and $b_{ij}$ respectively.  \n",
    "This is a property we will use in our Hartree-Fock discussions. Convince yourself about the correctness of the above expression by setting $n=2$. \n",
    "\n",
    "With our definition of the new basis in terms of an orthogonal basis we have"
   ]
  },
  {
   "cell_type": "markdown",
   "id": "31e0d6dc",
   "metadata": {
    "editable": true
   },
   "source": [
    "$$\n",
    "\\psi_p(x)  = \\sum_{\\lambda} C_{p\\lambda}\\phi_{\\lambda}(x).\n",
    "$$"
   ]
  },
  {
   "cell_type": "markdown",
   "id": "c371c319",
   "metadata": {
    "editable": true
   },
   "source": [
    "If the coefficients $C_{p\\lambda}$ belong to an orthogonal or unitary matrix, the new basis\n",
    "is also orthogonal. \n",
    "Our Slater determinant in the new basis $\\psi_p(x)$ is written as"
   ]
  },
  {
   "cell_type": "markdown",
   "id": "170da0c2",
   "metadata": {
    "editable": true
   },
   "source": [
    "$$\n",
    "\\frac{1}{\\sqrt{N!}}\n",
    "\\left| \\begin{array}{ccccc} \\psi_{p}(x_1)& \\psi_{p}(x_2)& \\dots & \\dots & \\psi_{p}(x_N)\\\\\n",
    "                            \\psi_{q}(x_1)&\\psi_{q}(x_2)& \\dots & \\dots & \\psi_{q}(x_N)\\\\  \n",
    "                            \\dots & \\dots & \\dots & \\dots & \\dots \\\\\n",
    "                            \\dots & \\dots & \\dots & \\dots & \\dots \\\\\n",
    "                     \\psi_{t}(x_1)&\\psi_{t}(x_2)& \\dots & \\dots & \\psi_{t}(x_N)\\end{array} \\right|=\\frac{1}{\\sqrt{N!}}\n",
    "\\left| \\begin{array}{ccccc} \\sum_{\\lambda} C_{p\\lambda}\\phi_{\\lambda}(x_1)& \\sum_{\\lambda} C_{p\\lambda}\\phi_{\\lambda}(x_2)& \\dots & \\dots & \\sum_{\\lambda} C_{p\\lambda}\\phi_{\\lambda}(x_N)\\\\\n",
    "                            \\sum_{\\lambda} C_{q\\lambda}\\phi_{\\lambda}(x_1)&\\sum_{\\lambda} C_{q\\lambda}\\phi_{\\lambda}(x_2)& \\dots & \\dots & \\sum_{\\lambda} C_{q\\lambda}\\phi_{\\lambda}(x_N)\\\\  \n",
    "                            \\dots & \\dots & \\dots & \\dots & \\dots \\\\\n",
    "                            \\dots & \\dots & \\dots & \\dots & \\dots \\\\\n",
    "                     \\sum_{\\lambda} C_{t\\lambda}\\phi_{\\lambda}(x_1)&\\sum_{\\lambda} C_{t\\lambda}\\phi_{\\lambda}(x_2)& \\dots & \\dots & \\sum_{\\lambda} C_{t\\lambda}\\phi_{\\lambda}(x_N)\\end{array} \\right|,\n",
    "$$"
   ]
  },
  {
   "cell_type": "markdown",
   "id": "46d7c099",
   "metadata": {
    "editable": true
   },
   "source": [
    "which is nothing but $det(\\mathbf{C})det(\\Phi)$, with $det(\\Phi)$ being the determinant given by the basis functions $\\phi_{\\lambda}(x)$. \n",
    "\n",
    "In our discussions hereafter we will use our definitions of single-particle states above and below the Fermi ($F$) level given by the labels\n",
    "$ijkl\\dots \\le F$ for so-called single-hole states and $abcd\\dots > F$ for so-called particle states.\n",
    "For general single-particle states we employ the labels $pqrs\\dots$. \n",
    "\n",
    "The energy functional is"
   ]
  },
  {
   "cell_type": "markdown",
   "id": "6462a887",
   "metadata": {
    "editable": true
   },
   "source": [
    "$$\n",
    "E[\\Phi] \n",
    "  = \\sum_{\\mu=1}^N \\langle \\mu | h | \\mu \\rangle +\n",
    "  \\frac{1}{2}\\sum_{{\\mu}=1}^N\\sum_{{\\nu}=1}^N \\langle \\mu\\nu|\\hat{v}|\\mu\\nu\\rangle_{AS},\n",
    "$$"
   ]
  },
  {
   "cell_type": "markdown",
   "id": "23404014",
   "metadata": {
    "editable": true
   },
   "source": [
    "we found the expression for the energy functional in terms of the basis function $\\phi_{\\lambda}(\\mathbf{r})$. We then  varied the above energy functional with respect to the basis functions $|\\mu \\rangle$. \n",
    "Now we are interested in defining a new basis defined in terms of\n",
    "a chosen basis as defined in Eq. ([12](#eq:newbasis)). We can then rewrite the energy functional as"
   ]
  },
  {
   "cell_type": "markdown",
   "id": "adf778e2",
   "metadata": {
    "editable": true
   },
   "source": [
    "<!-- Equation labels as ordinary links -->\n",
    "<div id=\"FunctionalEPhi2\"></div>\n",
    "\n",
    "$$\n",
    "\\begin{equation}\n",
    "  E[\\Phi^{New}] \n",
    "  = \\sum_{i=1}^N \\langle i | h | i \\rangle +\n",
    "  \\frac{1}{2}\\sum_{ij=1}^N\\langle ij|\\hat{v}|ij\\rangle_{AS}, \\label{FunctionalEPhi2} \\tag{13}\n",
    "\\end{equation}\n",
    "$$"
   ]
  },
  {
   "cell_type": "markdown",
   "id": "56366389",
   "metadata": {
    "editable": true
   },
   "source": [
    "where $\\Phi^{New}$ is the new Slater determinant defined by the new basis of Eq. ([12](#eq:newbasis)). \n",
    "\n",
    "Using Eq. ([12](#eq:newbasis)) we can rewrite Eq. ([13](#FunctionalEPhi2)) as"
   ]
  },
  {
   "cell_type": "markdown",
   "id": "9536ee29",
   "metadata": {
    "editable": true
   },
   "source": [
    "<!-- Equation labels as ordinary links -->\n",
    "<div id=\"FunctionalEPhi3\"></div>\n",
    "\n",
    "$$\n",
    "\\begin{equation}\n",
    "  E[\\Psi] \n",
    "  = \\sum_{i=1}^N \\sum_{\\alpha\\beta} C^*_{i\\alpha}C_{i\\beta}\\langle \\alpha | h | \\beta \\rangle +\n",
    "  \\frac{1}{2}\\sum_{ij=1}^N\\sum_{{\\alpha\\beta\\gamma\\delta}} C^*_{i\\alpha}C^*_{j\\beta}C_{i\\gamma}C_{j\\delta}\\langle \\alpha\\beta|\\hat{v}|\\gamma\\delta\\rangle_{AS}. \\label{FunctionalEPhi3} \\tag{14}\n",
    "\\end{equation}\n",
    "$$"
   ]
  }
 ],
 "metadata": {},
 "nbformat": 4,
 "nbformat_minor": 5
}
