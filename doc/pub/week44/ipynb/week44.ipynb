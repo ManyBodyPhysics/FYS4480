{
 "cells": [
  {
   "cell_type": "markdown",
   "id": "a9b20d74",
   "metadata": {
    "editable": true
   },
   "source": [
    "<!-- HTML file automatically generated from DocOnce source (https://github.com/doconce/doconce/)\n",
    "doconce format html week44.do.txt --no_mako -->\n",
    "<!-- dom:TITLE: Week 44: Many-body perturbation theory -->"
   ]
  },
  {
   "cell_type": "markdown",
   "id": "3e757283",
   "metadata": {
    "editable": true
   },
   "source": [
    "# Week 44: Many-body perturbation theory\n",
    "**Morten Hjorth-Jensen**, Department of Physics and Center for Computing in Science Education, University of Oslo, Norway and Department of Physics and Astronomy and Facility for Rare Isotope Beams, Michigan State University, USA\n",
    "\n",
    "Date: **Week 44, October 30-November 3**"
   ]
  },
  {
   "cell_type": "markdown",
   "id": "70418dcc",
   "metadata": {
    "editable": true
   },
   "source": [
    "## Week 44, October 30-November 3\n",
    "* Topics to be covered\n",
    "\n",
    "  * Thursday:\n",
    "\n",
    "    * Linking FCI and Hartree-Fock theory with many-body perturbation theory\n",
    "\n",
    "    * Time-independent perturbation theory\n",
    "\n",
    "    * Examples of contributions to perturbation theory (whiteboard notes)\n",
    "\n",
    "    * [Video of lecture to be added](https://youtu.be/)\n",
    "\n",
    "  * Friday:\n",
    "\n",
    "    * Examples of contributions to perturbation theory and diagrammatic representation (whiteboard notes)\n",
    "\n",
    "    * [Video of lecture to be added](https://youtu.be/)\n",
    "\n",
    "* Lecture Material: Handwritten notes and Shavitt and Bartlett chapter 4-6\n",
    "\n",
    "* [Eight exercise set at](https://github.com/ManyBodyPhysics/FYS4480/blob/master/doc/Exercises/2023/ExercisesWeek44.pdf)"
   ]
  },
  {
   "cell_type": "markdown",
   "id": "2fa6ce06",
   "metadata": {
    "editable": true
   },
   "source": [
    "## Many-body perturbation theory\n",
    "\n",
    "We assume here that we are only interested in the ground state of the system and \n",
    "expand the exact wave function in term of a series of Slater determinants"
   ]
  },
  {
   "cell_type": "markdown",
   "id": "a2c66a4b",
   "metadata": {
    "editable": true
   },
   "source": [
    "$$\n",
    "\\vert \\Psi_0\\rangle = \\vert \\Phi_0\\rangle + \\sum_{m=1}^{\\infty}C_m\\vert \\Phi_m\\rangle,\n",
    "$$"
   ]
  },
  {
   "cell_type": "markdown",
   "id": "32a2b345",
   "metadata": {
    "editable": true
   },
   "source": [
    "where we have assumed that the true ground state is dominated by the \n",
    "solution of the unperturbed problem, that is"
   ]
  },
  {
   "cell_type": "markdown",
   "id": "8cebd1db",
   "metadata": {
    "editable": true
   },
   "source": [
    "$$\n",
    "\\hat{H}_0\\vert \\Phi_0\\rangle= W_0\\vert \\Phi_0\\rangle.\n",
    "$$"
   ]
  },
  {
   "cell_type": "markdown",
   "id": "9804292d",
   "metadata": {
    "editable": true
   },
   "source": [
    "The state $\\vert \\Psi_0\\rangle$ is not normalized, rather we have used an intermediate \n",
    "normalization $\\langle \\Phi_0 \\vert \\Psi_0\\rangle=1$ since we have $\\langle \\Phi_0\\vert \\Phi_0\\rangle=1$. \n",
    "\n",
    "The Schroedinger equation is"
   ]
  },
  {
   "cell_type": "markdown",
   "id": "25e9d77f",
   "metadata": {
    "editable": true
   },
   "source": [
    "$$\n",
    "\\hat{H}\\vert \\Psi_0\\rangle = E\\vert \\Psi_0\\rangle,\n",
    "$$"
   ]
  },
  {
   "cell_type": "markdown",
   "id": "b0be28d7",
   "metadata": {
    "editable": true
   },
   "source": [
    "and multiplying the latter from the left with $\\langle \\Phi_0\\vert $ gives"
   ]
  },
  {
   "cell_type": "markdown",
   "id": "e10a7f4b",
   "metadata": {
    "editable": true
   },
   "source": [
    "$$\n",
    "\\langle \\Phi_0\\vert \\hat{H}\\vert \\Psi_0\\rangle = E\\langle \\Phi_0\\vert \\Psi_0\\rangle=E,\n",
    "$$"
   ]
  },
  {
   "cell_type": "markdown",
   "id": "534a4257",
   "metadata": {
    "editable": true
   },
   "source": [
    "and subtracting from this equation"
   ]
  },
  {
   "cell_type": "markdown",
   "id": "c2e2f912",
   "metadata": {
    "editable": true
   },
   "source": [
    "$$\n",
    "\\langle \\Psi_0\\vert \\hat{H}_0\\vert \\Phi_0\\rangle= W_0\\langle \\Psi_0\\vert \\Phi_0\\rangle=W_0,\n",
    "$$"
   ]
  },
  {
   "cell_type": "markdown",
   "id": "f43a363f",
   "metadata": {
    "editable": true
   },
   "source": [
    "and using the fact that the both operators $\\hat{H}$ and $\\hat{H}_0$ are hermitian \n",
    "results in"
   ]
  },
  {
   "cell_type": "markdown",
   "id": "c4c792a9",
   "metadata": {
    "editable": true
   },
   "source": [
    "$$\n",
    "\\Delta E=E-W_0=\\langle \\Phi_0\\vert \\hat{H}_I\\vert \\Psi_0\\rangle,\n",
    "$$"
   ]
  },
  {
   "cell_type": "markdown",
   "id": "0e1d51bf",
   "metadata": {
    "editable": true
   },
   "source": [
    "which is an exact result. We call this quantity the correlation energy.\n",
    "\n",
    "This equation forms the starting point for all perturbative derivations. However,\n",
    "as it stands it represents nothing but a mere formal rewriting of Schroedinger's equation and is not of much practical use. The exact wave function $\\vert \\Psi_0\\rangle$ is unknown. In order to obtain a perturbative expansion, we need to expand the exact wave function in terms of the interaction $\\hat{H}_I$. \n",
    "\n",
    "Here we have assumed that our model space defined by the operator $\\hat{P}$ is one-dimensional, meaning that"
   ]
  },
  {
   "cell_type": "markdown",
   "id": "99b8e219",
   "metadata": {
    "editable": true
   },
   "source": [
    "$$\n",
    "\\hat{P}= \\vert \\Phi_0\\rangle \\langle \\Phi_0\\vert ,\n",
    "$$"
   ]
  },
  {
   "cell_type": "markdown",
   "id": "9b814494",
   "metadata": {
    "editable": true
   },
   "source": [
    "and"
   ]
  },
  {
   "cell_type": "markdown",
   "id": "6570c83b",
   "metadata": {
    "editable": true
   },
   "source": [
    "$$\n",
    "\\hat{Q}=\\sum_{m=1}^{\\infty}\\vert \\Phi_m\\rangle \\langle \\Phi_m\\vert .\n",
    "$$"
   ]
  },
  {
   "cell_type": "markdown",
   "id": "336f76f6",
   "metadata": {
    "editable": true
   },
   "source": [
    "We can thus rewrite the exact wave function as"
   ]
  },
  {
   "cell_type": "markdown",
   "id": "6f061a96",
   "metadata": {
    "editable": true
   },
   "source": [
    "$$\n",
    "\\vert \\Psi_0\\rangle= (\\hat{P}+\\hat{Q})\\vert \\Psi_0\\rangle=\\vert \\Phi_0\\rangle+\\hat{Q}\\vert \\Psi_0\\rangle.\n",
    "$$"
   ]
  },
  {
   "cell_type": "markdown",
   "id": "150434da",
   "metadata": {
    "editable": true
   },
   "source": [
    "Going back to the Schr\\\"odinger equation, we can rewrite it as, adding and a subtracting a term $\\omega \\vert \\Psi_0\\rangle$ as"
   ]
  },
  {
   "cell_type": "markdown",
   "id": "9780d6a4",
   "metadata": {
    "editable": true
   },
   "source": [
    "$$\n",
    "\\left(\\omega-\\hat{H}_0\\right)\\vert \\Psi_0\\rangle=\\left(\\omega-E+\\hat{H}_I\\right)\\vert \\Psi_0\\rangle,\n",
    "$$"
   ]
  },
  {
   "cell_type": "markdown",
   "id": "880355e1",
   "metadata": {
    "editable": true
   },
   "source": [
    "where $\\omega$ is an energy variable to be specified later. \n",
    "\n",
    "We assume also that the resolvent of $\\left(\\omega-\\hat{H}_0\\right)$ exits, that is\n",
    "it has an inverse which defined the unperturbed Green's function as"
   ]
  },
  {
   "cell_type": "markdown",
   "id": "eafa8b6c",
   "metadata": {
    "editable": true
   },
   "source": [
    "$$\n",
    "\\left(\\omega-\\hat{H}_0\\right)^{-1}=\\frac{1}{\\left(\\omega-\\hat{H}_0\\right)}.\n",
    "$$"
   ]
  },
  {
   "cell_type": "markdown",
   "id": "a3231c26",
   "metadata": {
    "editable": true
   },
   "source": [
    "We can rewrite Schroedinger's equation as"
   ]
  },
  {
   "cell_type": "markdown",
   "id": "3916955c",
   "metadata": {
    "editable": true
   },
   "source": [
    "$$\n",
    "\\vert \\Psi_0\\rangle=\\frac{1}{\\omega-\\hat{H}_0}\\left(\\omega-E+\\hat{H}_I\\right)\\vert \\Psi_0\\rangle,\n",
    "$$"
   ]
  },
  {
   "cell_type": "markdown",
   "id": "299af591",
   "metadata": {
    "editable": true
   },
   "source": [
    "and multiplying from the left with $\\hat{Q}$ results in"
   ]
  },
  {
   "cell_type": "markdown",
   "id": "b1d7f883",
   "metadata": {
    "editable": true
   },
   "source": [
    "$$\n",
    "\\hat{Q}\\vert \\Psi_0\\rangle=\\frac{\\hat{Q}}{\\omega-\\hat{H}_0}\\left(\\omega-E+\\hat{H}_I\\right)\\vert \\Psi_0\\rangle,\n",
    "$$"
   ]
  },
  {
   "cell_type": "markdown",
   "id": "a55e78f7",
   "metadata": {
    "editable": true
   },
   "source": [
    "which is possible since we have defined the operator $\\hat{Q}$ in terms of the eigenfunctions of $\\hat{H}$.\n",
    "\n",
    "These operators commute meaning that"
   ]
  },
  {
   "cell_type": "markdown",
   "id": "fd49fe65",
   "metadata": {
    "editable": true
   },
   "source": [
    "$$\n",
    "\\hat{Q}\\frac{1}{\\left(\\omega-\\hat{H}_0\\right)}\\hat{Q}=\\hat{Q}\\frac{1}{\\left(\\omega-\\hat{H}_0\\right)}=\\frac{\\hat{Q}}{\\left(\\omega-\\hat{H}_0\\right)}.\n",
    "$$"
   ]
  },
  {
   "cell_type": "markdown",
   "id": "f2778c89",
   "metadata": {
    "editable": true
   },
   "source": [
    "With these definitions we can in turn define the wave function as"
   ]
  },
  {
   "cell_type": "markdown",
   "id": "1493d075",
   "metadata": {
    "editable": true
   },
   "source": [
    "$$\n",
    "\\vert \\Psi_0\\rangle=\\vert \\Phi_0\\rangle+\\frac{\\hat{Q}}{\\omega-\\hat{H}_0}\\left(\\omega-E+\\hat{H}_I\\right)\\vert \\Psi_0\\rangle.\n",
    "$$"
   ]
  },
  {
   "cell_type": "markdown",
   "id": "2bd9a7d5",
   "metadata": {
    "editable": true
   },
   "source": [
    "This equation is again nothing but a formal rewrite of Schr\\\"odinger's equation\n",
    "and does not represent a practical calculational scheme.  \n",
    "It is a non-linear equation in two unknown quantities, the energy $E$ and the exact\n",
    "wave function $\\vert \\Psi_0\\rangle$. We can however start with a guess for $\\vert \\Psi_0\\rangle$ on the right hand side of the last equation.\n",
    "\n",
    " The most common choice is to start with the function which is expected to exhibit the largest overlap with the wave function we are searching after, namely $\\vert \\Phi_0\\rangle$. This can again be inserted in the solution for $\\vert \\Psi_0\\rangle$ in an iterative fashion and if we continue along these lines we end up with"
   ]
  },
  {
   "cell_type": "markdown",
   "id": "e44607fb",
   "metadata": {
    "editable": true
   },
   "source": [
    "$$\n",
    "\\vert \\Psi_0\\rangle=\\sum_{i=0}^{\\infty}\\left\\{\\frac{\\hat{Q}}{\\omega-\\hat{H}_0}\\left(\\omega-E+\\hat{H}_I\\right)\\right\\}^i\\vert \\Phi_0\\rangle,\n",
    "$$"
   ]
  },
  {
   "cell_type": "markdown",
   "id": "9086e52f",
   "metadata": {
    "editable": true
   },
   "source": [
    "for the wave function and"
   ]
  },
  {
   "cell_type": "markdown",
   "id": "0e34a795",
   "metadata": {
    "editable": true
   },
   "source": [
    "$$\n",
    "\\Delta E=\\sum_{i=0}^{\\infty}\\langle \\Phi_0\\vert \\hat{H}_I\\left\\{\\frac{\\hat{Q}}{\\omega-\\hat{H}_0}\\left(\\omega-E+\\hat{H}_I\\right)\\right\\}^i\\vert \\Phi_0\\rangle,\n",
    "$$"
   ]
  },
  {
   "cell_type": "markdown",
   "id": "f6d47d8b",
   "metadata": {
    "editable": true
   },
   "source": [
    "which is now  a perturbative expansion of the exact energy in terms of the interaction\n",
    "$\\hat{H}_I$ and the unperturbed wave function $\\vert \\Psi_0\\rangle$.\n",
    "\n",
    "In our equations for $\\vert \\Psi_0\\rangle$ and $\\Delta E$ in terms of the unperturbed\n",
    "solutions $\\vert \\Phi_i\\rangle$  we have still an undetermined parameter $\\omega$\n",
    "and a dependecy on the exact energy $E$. Not much has been gained thus from a practical computational point of view. \n",
    "\n",
    "In Brilluoin-Wigner perturbation theory it is customary to set $\\omega=E$. This results in the following perturbative expansion for the energy $\\Delta E$"
   ]
  },
  {
   "cell_type": "markdown",
   "id": "e5ee0dd2",
   "metadata": {
    "editable": true
   },
   "source": [
    "$$\n",
    "\\Delta E=\\sum_{i=0}^{\\infty}\\langle \\Phi_0\\vert \\hat{H}_I\\left\\{\\frac{\\hat{Q}}{\\omega-\\hat{H}_0}\\left(\\omega-E+\\hat{H}_I\\right)\\right\\}^i\\vert \\Phi_0\\rangle=\n",
    "$$"
   ]
  },
  {
   "cell_type": "markdown",
   "id": "92350128",
   "metadata": {
    "editable": true
   },
   "source": [
    "$$\n",
    "\\langle \\Phi_0\\vert \\left(\\hat{H}_I+\\hat{H}_I\\frac{\\hat{Q}}{E-\\hat{H}_0}\\hat{H}_I+\n",
    "\\hat{H}_I\\frac{\\hat{Q}}{E-\\hat{H}_0}\\hat{H}_I\\frac{\\hat{Q}}{E-\\hat{H}_0}\\hat{H}_I+\\dots\\right)\\vert \\Phi_0\\rangle.\n",
    "$$"
   ]
  },
  {
   "cell_type": "markdown",
   "id": "704c7ce4",
   "metadata": {
    "editable": true
   },
   "source": [
    "$$\n",
    "\\Delta E=\\sum_{i=0}^{\\infty}\\langle \\Phi_0\\vert \\hat{H}_I\\left\\{\\frac{\\hat{Q}}{\\omega-\\hat{H}_0}\\left(\\omega-E+\\hat{H}_I\\right)\\right\\}^i\\vert \\Phi_0\\rangle=\n",
    "$$"
   ]
  },
  {
   "cell_type": "markdown",
   "id": "47d2d537",
   "metadata": {
    "editable": true
   },
   "source": [
    "$$\n",
    "\\langle \\Phi_0\\vert \\left(\\hat{H}_I+\\hat{H}_I\\frac{\\hat{Q}}{E-\\hat{H}_0}\\hat{H}_I+\n",
    "\\hat{H}_I\\frac{\\hat{Q}}{E-\\hat{H}_0}\\hat{H}_I\\frac{\\hat{Q}}{E-\\hat{H}_0}\\hat{H}_I+\\dots\\right)\\vert \\Phi_0\\rangle.\n",
    "$$"
   ]
  },
  {
   "cell_type": "markdown",
   "id": "cf850136",
   "metadata": {
    "editable": true
   },
   "source": [
    "This expression depends however on the exact energy $E$ and is again not very convenient from a practical point of view. It can obviously be solved iteratively, by starting with a guess for  $E$ and then solve till some kind of self-consistency criterion has been reached. \n",
    "\n",
    "Actually, the above expression is nothing but a rewrite again of the full Schr\\\"odinger equation. \n",
    "\n",
    "Defining $e=E-\\hat{H}_0$ and recalling that $\\hat{H}_0$ commutes with \n",
    "$\\hat{Q}$ by construction and that $\\hat{Q}$ is an idempotent operator\n",
    "$\\hat{Q}^2=\\hat{Q}$. \n",
    "Using this equation in the above expansion for $\\Delta E$ we can write the denominator"
   ]
  },
  {
   "cell_type": "markdown",
   "id": "f6cc6287",
   "metadata": {
    "editable": true
   },
   "source": [
    "$$\n",
    "\\hat{Q}\\frac{1}{\\hat{e}-\\hat{Q}\\hat{H}_I\\hat{Q}}=\n",
    "$$"
   ]
  },
  {
   "cell_type": "markdown",
   "id": "7e019c1a",
   "metadata": {
    "editable": true
   },
   "source": [
    "$$\n",
    "\\hat{Q}\\left[\\frac{1}{\\hat{e}}+\\frac{1}{\\hat{e}}\\hat{Q}\\hat{H}_I\\hat{Q}\n",
    "\\frac{1}{\\hat{e}}+\\frac{1}{\\hat{e}}\\hat{Q}\\hat{H}_I\\hat{Q}\n",
    "\\frac{1}{\\hat{e}}\\hat{Q}\\hat{H}_I\\hat{Q}\\frac{1}{\\hat{e}}+\\dots\\right]\\hat{Q}.\n",
    "$$"
   ]
  },
  {
   "cell_type": "markdown",
   "id": "a33a7a38",
   "metadata": {
    "editable": true
   },
   "source": [
    "Inserted in the expression for $\\Delta E$ leads to"
   ]
  },
  {
   "cell_type": "markdown",
   "id": "46f7418f",
   "metadata": {
    "editable": true
   },
   "source": [
    "$$\n",
    "\\Delta E=\n",
    "\\langle \\Phi_0\\vert \\hat{H}_I+\\hat{H}_I\\hat{Q}\\frac{1}{E-\\hat{H}_0-\\hat{Q}\\hat{H}_I\\hat{Q}}\\hat{Q}\\hat{H}_I\\vert \\Phi_0\\rangle.\n",
    "$$"
   ]
  },
  {
   "cell_type": "markdown",
   "id": "273dc35d",
   "metadata": {
    "editable": true
   },
   "source": [
    "In RS perturbation theory we set $\\omega = W_0$ and obtain the following expression for the energy difference"
   ]
  },
  {
   "cell_type": "markdown",
   "id": "b1964e59",
   "metadata": {
    "editable": true
   },
   "source": [
    "$$\n",
    "\\Delta E=\\sum_{i=0}^{\\infty}\\langle \\Phi_0\\vert \\hat{H}_I\\left\\{\\frac{\\hat{Q}}{W_0-\\hat{H}_0}\\left(\\hat{H}_I-\\Delta E\\right)\\right\\}^i\\vert \\Phi_0\\rangle=\n",
    "$$"
   ]
  },
  {
   "cell_type": "markdown",
   "id": "5e2a30cd",
   "metadata": {
    "editable": true
   },
   "source": [
    "$$\n",
    "\\langle \\Phi_0\\vert \\left(\\hat{H}_I+\\hat{H}_I\\frac{\\hat{Q}}{W_0-\\hat{H}_0}(\\hat{H}_I-\\Delta E)+\n",
    "\\hat{H}_I\\frac{\\hat{Q}}{W_0-\\hat{H}_0}(\\hat{H}_I-\\Delta E)\\frac{\\hat{Q}}{W_0-\\hat{H}_0}(\\hat{H}_I-\\Delta E)+\\dots\\right)\\vert \\Phi_0\\rangle.\n",
    "$$"
   ]
  },
  {
   "cell_type": "markdown",
   "id": "ccce1d41",
   "metadata": {
    "editable": true
   },
   "source": [
    "Recalling that $\\hat{Q}$ commutes with $\\hat{H_0}$ and since $\\Delta E$ is a constant we obtain that"
   ]
  },
  {
   "cell_type": "markdown",
   "id": "e8fc1eb9",
   "metadata": {
    "editable": true
   },
   "source": [
    "$$\n",
    "\\hat{Q}\\Delta E\\vert \\Phi_0\\rangle = \\hat{Q}\\Delta E\\vert \\hat{Q}\\Phi_0\\rangle = 0.\n",
    "$$"
   ]
  },
  {
   "cell_type": "markdown",
   "id": "12f230bb",
   "metadata": {
    "editable": true
   },
   "source": [
    "Inserting this results in the expression for the energy results in"
   ]
  },
  {
   "cell_type": "markdown",
   "id": "6bfab730",
   "metadata": {
    "editable": true
   },
   "source": [
    "$$\n",
    "\\Delta E=\\langle \\Phi_0\\vert \\left(\\hat{H}_I+\\hat{H}_I\\frac{\\hat{Q}}{W_0-\\hat{H}_0}\\hat{H}_I+\n",
    "\\hat{H}_I\\frac{\\hat{Q}}{W_0-\\hat{H}_0}(\\hat{H}_I-\\Delta E)\\frac{\\hat{Q}}{W_0-\\hat{H}_0}\\hat{H}_I+\\dots\\right)\\vert \\Phi_0\\rangle.\n",
    "$$"
   ]
  },
  {
   "cell_type": "markdown",
   "id": "2cc748dc",
   "metadata": {
    "editable": true
   },
   "source": [
    "We can now this expression in terms of a perturbative expression in terms\n",
    "of $\\hat{H}_I$ where we iterate the last expression in terms of $\\Delta E$"
   ]
  },
  {
   "cell_type": "markdown",
   "id": "d98c541a",
   "metadata": {
    "editable": true
   },
   "source": [
    "$$\n",
    "\\Delta E=\\sum_{i=1}^{\\infty}\\Delta E^{(i)}.\n",
    "$$"
   ]
  },
  {
   "cell_type": "markdown",
   "id": "f5923e23",
   "metadata": {
    "editable": true
   },
   "source": [
    "We get the following expression for $\\Delta E^{(i)}$"
   ]
  },
  {
   "cell_type": "markdown",
   "id": "877c11c8",
   "metadata": {
    "editable": true
   },
   "source": [
    "$$\n",
    "\\Delta E^{(1)}=\\langle \\Phi_0\\vert \\hat{H}_I\\vert \\Phi_0\\rangle,\n",
    "$$"
   ]
  },
  {
   "cell_type": "markdown",
   "id": "5b5a3b11",
   "metadata": {
    "editable": true
   },
   "source": [
    "which is just the contribution to first order in perturbation theory,"
   ]
  },
  {
   "cell_type": "markdown",
   "id": "b9af46d5",
   "metadata": {
    "editable": true
   },
   "source": [
    "$$\n",
    "\\Delta E^{(2)}=\\langle\\Phi_0\\vert \\hat{H}_I\\frac{\\hat{Q}}{W_0-\\hat{H}_0}\\hat{H}_I\\vert \\Phi_0\\rangle,\n",
    "$$"
   ]
  },
  {
   "cell_type": "markdown",
   "id": "36c19542",
   "metadata": {
    "editable": true
   },
   "source": [
    "which is the contribution to second order."
   ]
  },
  {
   "cell_type": "markdown",
   "id": "94173599",
   "metadata": {
    "editable": true
   },
   "source": [
    "$$\n",
    "\\Delta E^{(3)}=\\langle \\Phi_0\\vert \\hat{H}_I\\frac{\\hat{Q}}{W_0-\\hat{H}_0}\\hat{H}_I\\frac{\\hat{Q}}{W_0-\\hat{H}_0}\\hat{H}_I\\Phi_0\\rangle-\n",
    "\\langle\\Phi_0\\vert \\hat{H}_I\\frac{\\hat{Q}}{W_0-\\hat{H}_0}\\langle \\Phi_0\\vert \\hat{H}_I\\vert \\Phi_0\\rangle\\frac{\\hat{Q}}{W_0-\\hat{H}_0}\\hat{H}_I\\vert \\Phi_0\\rangle,\n",
    "$$"
   ]
  },
  {
   "cell_type": "markdown",
   "id": "60aa82aa",
   "metadata": {
    "editable": true
   },
   "source": [
    "being the third-order contribution."
   ]
  },
  {
   "cell_type": "markdown",
   "id": "6b07d50a",
   "metadata": {
    "editable": true
   },
   "source": [
    "## Interpreting the correlation energy and the wave operator\n",
    "\n",
    "In the shell-model lectures we showed that we could rewrite the exact state function for say the ground state, as a linear expansion in terms of all possible Slater determinants. That is, we \n",
    "define the ansatz for the ground state as"
   ]
  },
  {
   "cell_type": "markdown",
   "id": "0db78ad0",
   "metadata": {
    "editable": true
   },
   "source": [
    "$$\n",
    "|\\Phi_0\\rangle = \\left(\\prod_{i\\le F}\\hat{a}_{i}^{\\dagger}\\right)|0\\rangle,\n",
    "$$"
   ]
  },
  {
   "cell_type": "markdown",
   "id": "7ca5cf67",
   "metadata": {
    "editable": true
   },
   "source": [
    "where the index $i$ defines different single-particle states up to the Fermi level. We have assumed that we have $N$ fermions. \n",
    "A given one-particle-one-hole ($1p1h$) state can be written as"
   ]
  },
  {
   "cell_type": "markdown",
   "id": "93ff7546",
   "metadata": {
    "editable": true
   },
   "source": [
    "$$\n",
    "|\\Phi_i^a\\rangle = \\hat{a}_{a}^{\\dagger}\\hat{a}_i|\\Phi_0\\rangle,\n",
    "$$"
   ]
  },
  {
   "cell_type": "markdown",
   "id": "025cc28e",
   "metadata": {
    "editable": true
   },
   "source": [
    "while a $2p2h$ state can be written as"
   ]
  },
  {
   "cell_type": "markdown",
   "id": "94424e94",
   "metadata": {
    "editable": true
   },
   "source": [
    "$$\n",
    "|\\Phi_{ij}^{ab}\\rangle = \\hat{a}_{a}^{\\dagger}\\hat{a}_{b}^{\\dagger}\\hat{a}_j\\hat{a}_i|\\Phi_0\\rangle,\n",
    "$$"
   ]
  },
  {
   "cell_type": "markdown",
   "id": "e9acb7fe",
   "metadata": {
    "editable": true
   },
   "source": [
    "and a general $ApAh$ state as"
   ]
  },
  {
   "cell_type": "markdown",
   "id": "7e7ad479",
   "metadata": {
    "editable": true
   },
   "source": [
    "$$\n",
    "|\\Phi_{ijk\\dots}^{abc\\dots}\\rangle = \\hat{a}_{a}^{\\dagger}\\hat{a}_{b}^{\\dagger}\\hat{a}_{c}^{\\dagger}\\dots\\hat{a}_k\\hat{a}_j\\hat{a}_i|\\Phi_0\\rangle.\n",
    "$$"
   ]
  },
  {
   "cell_type": "markdown",
   "id": "24912591",
   "metadata": {
    "editable": true
   },
   "source": [
    "We use letters $ijkl\\dots$ for states below the Fermi level and $abcd\\dots$ for states above the Fermi level. A general single-particle state is given by letters $pqrs\\dots$.\n",
    "\n",
    "We can then expand our exact state function for the ground state \n",
    "as"
   ]
  },
  {
   "cell_type": "markdown",
   "id": "c9eb1bd3",
   "metadata": {
    "editable": true
   },
   "source": [
    "$$\n",
    "|\\Psi_0\\rangle=C_0|\\Phi_0\\rangle+\\sum_{ai}C_i^a|\\Phi_i^a\\rangle+\\sum_{abij}C_{ij}^{ab}|\\Phi_{ij}^{ab}\\rangle+\\dots\n",
    "=(C_0+\\hat{C})|\\Phi_0\\rangle,\n",
    "$$"
   ]
  },
  {
   "cell_type": "markdown",
   "id": "4b74f0bb",
   "metadata": {
    "editable": true
   },
   "source": [
    "where we have introduced the so-called correlation operator"
   ]
  },
  {
   "cell_type": "markdown",
   "id": "dd7989db",
   "metadata": {
    "editable": true
   },
   "source": [
    "$$\n",
    "\\hat{C}=\\sum_{ai}C_i^a\\hat{a}_{a}^{\\dagger}\\hat{a}_i  +\\sum_{abij}C_{ij}^{ab}\\hat{a}_{a}^{\\dagger}\\hat{a}_{b}^{\\dagger}\\hat{a}_j\\hat{a}_i+\\dots\n",
    "$$"
   ]
  },
  {
   "cell_type": "markdown",
   "id": "2082b4f9",
   "metadata": {
    "editable": true
   },
   "source": [
    "Since the normalization of $\\Psi_0$ is at our disposal and since $C_0$ is by hypothesis non-zero, we may arbitrarily set $C_0=1$ with \n",
    "corresponding proportional changes in all other coefficients. Using this so-called intermediate normalization we have"
   ]
  },
  {
   "cell_type": "markdown",
   "id": "d6e16d14",
   "metadata": {
    "editable": true
   },
   "source": [
    "$$\n",
    "\\langle \\Psi_0 | \\Phi_0 \\rangle = \\langle \\Phi_0 | \\Phi_0 \\rangle = 1,\n",
    "$$"
   ]
  },
  {
   "cell_type": "markdown",
   "id": "38403ed1",
   "metadata": {
    "editable": true
   },
   "source": [
    "resulting in"
   ]
  },
  {
   "cell_type": "markdown",
   "id": "0f8f449a",
   "metadata": {
    "editable": true
   },
   "source": [
    "$$\n",
    "|\\Psi_0\\rangle=(1+\\hat{C})|\\Phi_0\\rangle.\n",
    "$$"
   ]
  },
  {
   "cell_type": "markdown",
   "id": "088eb9f2",
   "metadata": {
    "editable": true
   },
   "source": [
    "In a shell-model calculation, the unknown coefficients in $\\hat{C}$ are the \n",
    "eigenvectors which result from the diagonalization of the Hamiltonian matrix.\n",
    "\n",
    "How can we use perturbation theory to determine the same coefficients? Let us study the contributions to second order in the interaction, namely"
   ]
  },
  {
   "cell_type": "markdown",
   "id": "02e309d6",
   "metadata": {
    "editable": true
   },
   "source": [
    "$$\n",
    "\\Delta E^{(2)}=\\langle\\Phi_0\\vert \\hat{H}_I\\frac{\\hat{Q}}{W_0-\\hat{H}_0}\\hat{H}_I\\vert \\Phi_0\\rangle.\n",
    "$$"
   ]
  },
  {
   "cell_type": "markdown",
   "id": "3178a256",
   "metadata": {
    "editable": true
   },
   "source": [
    "The intermediate states given by $\\hat{Q}$ can at most be of a $2p-2h$ nature if we have a two-body Hamiltonian. This means that second order in the perturbation theory can have $1p-1h$ and $2p-2h$ at most as intermediate states. When we diagonalize, these contributions are included to infinite order. This means that higher-orders in perturbation theory bring in more complicated correlations. \n",
    "\n",
    "If we limit the attention to a Hartree-Fock basis, then we have that\n",
    "$\\langle\\Phi_0\\vert \\hat{H}_I \\vert 2p-2h\\rangle$ is the only contribution and the contribution to the energy reduces to"
   ]
  },
  {
   "cell_type": "markdown",
   "id": "b3006db9",
   "metadata": {
    "editable": true
   },
   "source": [
    "$$\n",
    "\\Delta E^{(2)}=\\frac{1}{4}\\sum_{abij}\\langle ij\\vert \\hat{v}\\vert ab\\rangle \\frac{\\langle ab\\vert \\hat{v}\\vert ij\\rangle}{\\epsilon_i+\\epsilon_j-\\epsilon_a-\\epsilon_b}.\n",
    "$$"
   ]
  },
  {
   "cell_type": "markdown",
   "id": "0e93fdd9",
   "metadata": {
    "editable": true
   },
   "source": [
    "If we compare this to the correlation energy obtained from full configuration interaction theory with a Hartree-Fock basis, we found that"
   ]
  },
  {
   "cell_type": "markdown",
   "id": "1413b66f",
   "metadata": {
    "editable": true
   },
   "source": [
    "$$\n",
    "E-E_0 =\\Delta E=\n",
    "\\sum_{abij}\\langle ij | \\hat{v}| ab \\rangle C_{ij}^{ab},\n",
    "$$"
   ]
  },
  {
   "cell_type": "markdown",
   "id": "7d3c53b0",
   "metadata": {
    "editable": true
   },
   "source": [
    "where the energy $E_0$ is the reference energy and $\\Delta E$ defines the so-called correlation energy.\n",
    "\n",
    "We see that if we set"
   ]
  },
  {
   "cell_type": "markdown",
   "id": "d1286b6a",
   "metadata": {
    "editable": true
   },
   "source": [
    "$$\n",
    "C_{ij}^{ab} =\\frac{1}{4}\\frac{\\langle ab \\vert \\hat{v} \\vert ij \\rangle}{\\epsilon_i+\\epsilon_j-\\epsilon_a-\\epsilon_b},\n",
    "$$"
   ]
  },
  {
   "cell_type": "markdown",
   "id": "0fca132e",
   "metadata": {
    "editable": true
   },
   "source": [
    "we have a perfect agreement between FCI and MBPT. However, FCI includes such $2p-2h$ correlations to infinite order. In order to make a meaningful comparison we would at least need to sum such correlations to infinite order in perturbation theory. \n",
    "\n",
    "Summing up, we can see that\n",
    "* MBPT introduces order-by-order specific correlations and we make comparisons with exact calculations like FCI\n",
    "\n",
    "* At every order, we can calculate all contributions since they are well-known and either tabulated or calculated on the fly.\n",
    "\n",
    "* MBPT is a non-variational theory and there is no guarantee that higher orders will improve the convergence. \n",
    "\n",
    "* However, since FCI calculations are limited by the size of the Hamiltonian matrices to diagonalize (today's most efficient codes can attach dimensionalities of ten billion basis states, MBPT can function as an approximative method which gives a straightforward (but tedious) calculation recipe. \n",
    "\n",
    "* MBPT has been widely used to compute effective interactions for the nuclear shell-model.\n",
    "\n",
    "* But there are better methods which sum to infinite order important correlations. Coupled cluster theory is one of these methods."
   ]
  }
 ],
 "metadata": {},
 "nbformat": 4,
 "nbformat_minor": 5
}
