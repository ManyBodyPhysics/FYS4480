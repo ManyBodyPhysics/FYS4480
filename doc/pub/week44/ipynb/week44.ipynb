{
 "cells": [
  {
   "cell_type": "markdown",
   "id": "0760b464",
   "metadata": {
    "editable": true
   },
   "source": [
    "<!-- HTML file automatically generated from DocOnce source (https://github.com/doconce/doconce/)\n",
    "doconce format html week44.do.txt --no_mako -->\n",
    "<!-- dom:TITLE: Week 44: Many-body perturbation theory -->"
   ]
  },
  {
   "cell_type": "markdown",
   "id": "59a43f28",
   "metadata": {
    "editable": true
   },
   "source": [
    "# Week 44: Many-body perturbation theory\n",
    "**Morten Hjorth-Jensen**, Department of Physics and Center for Computing in Science Education, University of Oslo, Norway and Department of Physics and Astronomy and Facility for Rare Isotope Beams, Michigan State University, USA\n",
    "\n",
    "Date: **Week 44, October 31-November 4**"
   ]
  },
  {
   "cell_type": "markdown",
   "id": "8c9b327c",
   "metadata": {
    "editable": true
   },
   "source": [
    "## Week 44, October 31-November 4\n",
    "* Topics to be covered\n",
    "\n",
    "  * Thursday:\n",
    "\n",
    "1. Time-independent perturbation theory and diagrammatic representation\n",
    "\n",
    "2. Examples of contributions to perturbation theory\n",
    "\n",
    "3. [Video of lecture](https://youtu.be/_1NfvhoeumA)\n",
    "\n",
    "  * Friday:\n",
    "\n",
    "1. Discussion of the\tHeisenberg, Schroedinger and Interaction pictures\n",
    "\n",
    "2. Time-dependent perturbation theory and diagrammatic representation, Pauli-violating diagrams\n",
    "\n",
    "3. Linked-diagram theorem\n",
    "\n",
    "4. [Video of lecture](https://youtu.be/tRyLceaRJRk)\n",
    "\n",
    "* Lecture Material: Handwritten notes and Shavitt and Bartlett chapter 4-6\n",
    "\n",
    "* [Eight exercise set at](https://github.com/ManyBodyPhysics/FYS4480/blob/master/doc/Exercises/2022/ExercisesWeek44.pdf)"
   ]
  }
 ],
 "metadata": {},
 "nbformat": 4,
 "nbformat_minor": 5
}
