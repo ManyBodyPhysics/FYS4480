{
 "cells": [
  {
   "cell_type": "markdown",
   "id": "44b2d5ea",
   "metadata": {
    "editable": true
   },
   "source": [
    "<!-- HTML file automatically generated from DocOnce source (https://github.com/doconce/doconce/)\n",
    "doconce format html week35.do.txt --no_mako -->\n",
    "<!-- dom:TITLE: Week 35: Ansatzes for fermions and bosons and second quantization -->"
   ]
  },
  {
   "cell_type": "markdown",
   "id": "4411bc9e",
   "metadata": {
    "editable": true
   },
   "source": [
    "# Week 35: Ansatzes for fermions and bosons and second quantization\n",
    "**Morten Hjorth-Jensen**, Department of Physics and Center for Computing in Science Education, University of Oslo, Norway\n",
    "\n",
    "Date: **Week 35, August 25-29**"
   ]
  },
  {
   "cell_type": "markdown",
   "id": "427a0a2c",
   "metadata": {
    "editable": true
   },
   "source": [
    "## Week 35\n",
    "\n",
    "* Topics to be covered\n",
    "\n",
    "a. Thursday: Fermion and Boson state functions and computation of expectation values in first quantization, continuation from last week\n",
    "<!-- o Video of lecture at <https://youtu.be/y6XYhZnRxnc> -->\n",
    "<!-- o Whiteboard notes at <https://github.com/ManyBodyPhysics/FYS4480/blob/master/doc/HandwrittenNotes/2024/NotesAugust29.pdf> -->\n",
    "\n",
    "b. Friday: Second quantization\n",
    "<!-- o Video of lecture at TBA <https://youtu.be/qOTrTLAy6KU> -->\n",
    "<!-- o Whiteboard notes at <https://github.com/ManyBodyPhysics/FYS4480/blob/master/doc/HandwrittenNotes/2024/NotesAugust30.pdf> -->\n",
    "\n",
    "* Lecture Material: These slides, slides from week 34  and Szabo and Ostlund chapters 1 and 2.\n",
    "\n",
    "* [Second exercise set](https://github.com/ManyBodyPhysics/FYS4480/blob/master/doc/Exercises/2024/ExercisesWeek35.pdf)"
   ]
  },
  {
   "cell_type": "markdown",
   "id": "bd6e3111",
   "metadata": {
    "editable": true
   },
   "source": [
    "## Definitions and second quantization\n",
    "\n",
    "We introduce the time-independent  operators\n",
    "$a_\\alpha^{\\dagger}$ and $a_\\alpha$   which create and annihilate, respectively, a particle \n",
    "in the single-particle state \n",
    "$\\varphi_\\alpha$. \n",
    "We define the fermion creation operator\n",
    "$a_\\alpha^{\\dagger}$"
   ]
  },
  {
   "cell_type": "markdown",
   "id": "15ab444e",
   "metadata": {
    "editable": true
   },
   "source": [
    "<!-- Equation labels as ordinary links -->\n",
    "<div id=\"eq:2-1a\"></div>\n",
    "\n",
    "$$\n",
    "\\begin{equation}\n",
    "\ta_\\alpha^{\\dagger}|0\\rangle \\equiv  |\\alpha\\rangle  \\label{eq:2-1a} \\tag{1},\n",
    "\\end{equation}\n",
    "$$"
   ]
  },
  {
   "cell_type": "markdown",
   "id": "29aef89d",
   "metadata": {
    "editable": true
   },
   "source": [
    "and"
   ]
  },
  {
   "cell_type": "markdown",
   "id": "85df8cf4",
   "metadata": {
    "editable": true
   },
   "source": [
    "<!-- Equation labels as ordinary links -->\n",
    "<div id=\"eq:2-1b\"></div>\n",
    "\n",
    "$$\n",
    "\\begin{equation}\n",
    "\ta_\\alpha^{\\dagger}|\\alpha_1\\dots \\alpha_n\\rangle_{\\mathrm{AS}} \\equiv  |\\alpha\\alpha_1\\dots \\alpha_n\\rangle_{\\mathrm{AS}} \\label{eq:2-1b} \\tag{2}\n",
    "\\end{equation}\n",
    "$$"
   ]
  },
  {
   "cell_type": "markdown",
   "id": "adea8399",
   "metadata": {
    "editable": true
   },
   "source": [
    "## Second quantization\n",
    "\n",
    "In Eq. ([1](#eq:2-1a)) \n",
    "the operator  $a_\\alpha^{\\dagger}$  acts on the vacuum state \n",
    "$|0\\rangle$, which does not contain any particles. Alternatively, we could define  a closed-shell nucleus or atom as our new vacuum, but then\n",
    "we need to introduce the particle-hole  formalism, see the discussion to come. \n",
    "\n",
    "In Eq. ([2](#eq:2-1b)) $a_\\alpha^{\\dagger}$ acts on an antisymmetric $n$-particle state and \n",
    "creates an antisymmetric $(n+1)$-particle state, where the one-body state \n",
    "$\\varphi_\\alpha$ is occupied, under the condition that\n",
    "$\\alpha \\ne \\alpha_1, \\alpha_2, \\dots, \\alpha_n$. \n",
    "It follows that we can express an antisymmetric state as the product of the creation\n",
    "operators acting on the vacuum state."
   ]
  },
  {
   "cell_type": "markdown",
   "id": "a3647939",
   "metadata": {
    "editable": true
   },
   "source": [
    "<!-- Equation labels as ordinary links -->\n",
    "<div id=\"eq:2-2\"></div>\n",
    "\n",
    "$$\n",
    "\\begin{equation}\n",
    "\t|\\alpha_1\\dots \\alpha_n\\rangle_{\\mathrm{AS}} = a_{\\alpha_1}^{\\dagger} a_{\\alpha_2}^{\\dagger} \\dots a_{\\alpha_n}^{\\dagger} |0\\rangle \\label{eq:2-2} \\tag{3}\n",
    "\\end{equation}\n",
    "$$"
   ]
  },
  {
   "cell_type": "markdown",
   "id": "135fbf7a",
   "metadata": {
    "editable": true
   },
   "source": [
    "## Commutation rules\n",
    "\n",
    "It is easy to derive the commutation and anticommutation rules  for the fermionic creation operators \n",
    "$a_\\alpha^{\\dagger}$. Using the antisymmetry of the states \n",
    "([3](#eq:2-2))"
   ]
  },
  {
   "cell_type": "markdown",
   "id": "fba64bab",
   "metadata": {
    "editable": true
   },
   "source": [
    "<!-- Equation labels as ordinary links -->\n",
    "<div id=\"eq:2-3a\"></div>\n",
    "\n",
    "$$\n",
    "\\begin{equation}\n",
    "\t|\\alpha_1\\dots \\alpha_i\\dots \\alpha_k\\dots \\alpha_n\\rangle_{\\mathrm{AS}} = \n",
    "\t\t- |\\alpha_1\\dots \\alpha_k\\dots \\alpha_i\\dots \\alpha_n\\rangle_{\\mathrm{AS}} \\label{eq:2-3a} \\tag{4}\n",
    "\\end{equation}\n",
    "$$"
   ]
  },
  {
   "cell_type": "markdown",
   "id": "4fffb973",
   "metadata": {
    "editable": true
   },
   "source": [
    "we obtain"
   ]
  },
  {
   "cell_type": "markdown",
   "id": "c3168467",
   "metadata": {
    "editable": true
   },
   "source": [
    "<!-- Equation labels as ordinary links -->\n",
    "<div id=\"eq:2-3b\"></div>\n",
    "\n",
    "$$\n",
    "\\begin{equation}\n",
    "\t a_{\\alpha_i}^{\\dagger}  a_{\\alpha_k}^{\\dagger} = - a_{\\alpha_k}^{\\dagger} a_{\\alpha_i}^{\\dagger} \\label{eq:2-3b} \\tag{5}\n",
    "\\end{equation}\n",
    "$$"
   ]
  },
  {
   "cell_type": "markdown",
   "id": "c4d716cd",
   "metadata": {
    "editable": true
   },
   "source": [
    "## More on commutation rules\n",
    "\n",
    "Using the Pauli principle"
   ]
  },
  {
   "cell_type": "markdown",
   "id": "e339b267",
   "metadata": {
    "editable": true
   },
   "source": [
    "<!-- Equation labels as ordinary links -->\n",
    "<div id=\"eq:2-4a\"></div>\n",
    "\n",
    "$$\n",
    "\\begin{equation}\n",
    "\t|\\alpha_1\\dots \\alpha_i\\dots \\alpha_i\\dots \\alpha_n\\rangle_{\\mathrm{AS}} = 0 \\label{eq:2-4a} \\tag{6}\n",
    "\\end{equation}\n",
    "$$"
   ]
  },
  {
   "cell_type": "markdown",
   "id": "ab4b470b",
   "metadata": {
    "editable": true
   },
   "source": [
    "it follows that"
   ]
  },
  {
   "cell_type": "markdown",
   "id": "3364c5cc",
   "metadata": {
    "editable": true
   },
   "source": [
    "<!-- Equation labels as ordinary links -->\n",
    "<div id=\"eq:2-4b\"></div>\n",
    "\n",
    "$$\n",
    "\\begin{equation}\n",
    "\ta_{\\alpha_i}^{\\dagger}  a_{\\alpha_i}^{\\dagger} = 0. \\label{eq:2-4b} \\tag{7}\n",
    "\\end{equation}\n",
    "$$"
   ]
  },
  {
   "cell_type": "markdown",
   "id": "b3be32e1",
   "metadata": {
    "editable": true
   },
   "source": [
    "If we combine Eqs. ([5](#eq:2-3b)) and ([7](#eq:2-4b)), we obtain the well-known anti-commutation rule"
   ]
  },
  {
   "cell_type": "markdown",
   "id": "f9663af6",
   "metadata": {
    "editable": true
   },
   "source": [
    "<!-- Equation labels as ordinary links -->\n",
    "<div id=\"eq:2-5\"></div>\n",
    "\n",
    "$$\n",
    "\\begin{equation}\n",
    "\ta_{\\alpha}^{\\dagger}  a_{\\beta}^{\\dagger} + a_{\\beta}^{\\dagger}  a_{\\alpha}^{\\dagger} \\equiv \n",
    "\t\t\\{a_{\\alpha}^{\\dagger},a_{\\beta}^{\\dagger}\\} = 0 \\label{eq:2-5} \\tag{8}\n",
    "\\end{equation}\n",
    "$$"
   ]
  },
  {
   "cell_type": "markdown",
   "id": "50d4d2cf",
   "metadata": {
    "editable": true
   },
   "source": [
    "## Hermitian conjugate\n",
    "\n",
    "The hermitian conjugate  of $a_\\alpha^{\\dagger}$ is"
   ]
  },
  {
   "cell_type": "markdown",
   "id": "198f691a",
   "metadata": {
    "editable": true
   },
   "source": [
    "<!-- Equation labels as ordinary links -->\n",
    "<div id=\"eq:2-6\"></div>\n",
    "\n",
    "$$\n",
    "\\begin{equation}\n",
    "\ta_{\\alpha} = ( a_{\\alpha}^{\\dagger} )^{\\dagger} \\label{eq:2-6} \\tag{9}\n",
    "\\end{equation}\n",
    "$$"
   ]
  },
  {
   "cell_type": "markdown",
   "id": "e33fb984",
   "metadata": {
    "editable": true
   },
   "source": [
    "If we take the hermitian conjugate of Eq. ([8](#eq:2-5)), we arrive at"
   ]
  },
  {
   "cell_type": "markdown",
   "id": "781fa0a9",
   "metadata": {
    "editable": true
   },
   "source": [
    "<!-- Equation labels as ordinary links -->\n",
    "<div id=\"eq:2-7\"></div>\n",
    "\n",
    "$$\n",
    "\\begin{equation}\n",
    "\t\\{a_{\\alpha},a_{\\beta}\\} = 0 \\label{eq:2-7} \\tag{10}\n",
    "\\end{equation}\n",
    "$$"
   ]
  },
  {
   "cell_type": "markdown",
   "id": "f39aefa0",
   "metadata": {
    "editable": true
   },
   "source": [
    "## Physical interpretation\n",
    "\n",
    "What is the physical interpretation of the operator $a_\\alpha$ and what is the effect of \n",
    "$a_\\alpha$ on a given state $|\\alpha_1\\alpha_2\\dots\\alpha_n\\rangle_{\\mathrm{AS}}$? \n",
    "Consider the following matrix element"
   ]
  },
  {
   "cell_type": "markdown",
   "id": "ebfdd13f",
   "metadata": {
    "editable": true
   },
   "source": [
    "<!-- Equation labels as ordinary links -->\n",
    "<div id=\"eq:2-8\"></div>\n",
    "\n",
    "$$\n",
    "\\begin{equation}\n",
    "\t\\langle\\alpha_1\\alpha_2 \\dots \\alpha_n|a_\\alpha|\\alpha_1'\\alpha_2' \\dots \\alpha_m'\\rangle \\label{eq:2-8} \\tag{11}\n",
    "\\end{equation}\n",
    "$$"
   ]
  },
  {
   "cell_type": "markdown",
   "id": "ddb12b1a",
   "metadata": {
    "editable": true
   },
   "source": [
    "where both sides are antisymmetric."
   ]
  },
  {
   "cell_type": "markdown",
   "id": "a96ad53d",
   "metadata": {
    "editable": true
   },
   "source": [
    "## Two specific cases\n",
    "We  distinguish between two cases. The first (1) is when\n",
    "$\\alpha \\in \\{\\alpha_i\\}$. Using the Pauli principle of Eq. ([6](#eq:2-4a)) it follows"
   ]
  },
  {
   "cell_type": "markdown",
   "id": "6796f945",
   "metadata": {
    "editable": true
   },
   "source": [
    "<!-- Equation labels as ordinary links -->\n",
    "<div id=\"eq:2-9a\"></div>\n",
    "\n",
    "$$\n",
    "\\begin{equation}\n",
    "\t\t\\langle\\alpha_1\\alpha_2 \\dots \\alpha_n|a_\\alpha = 0 \\label{eq:2-9a} \\tag{12}\n",
    "\\end{equation}\n",
    "$$"
   ]
  },
  {
   "cell_type": "markdown",
   "id": "ab64c100",
   "metadata": {
    "editable": true
   },
   "source": [
    "The second (2) case is when $\\alpha \\notin \\{\\alpha_i\\}$. It follows that an hermitian conjugation"
   ]
  },
  {
   "cell_type": "markdown",
   "id": "1a1693fa",
   "metadata": {
    "editable": true
   },
   "source": [
    "<!-- Equation labels as ordinary links -->\n",
    "<div id=\"eq:2-9b\"></div>\n",
    "\n",
    "$$\n",
    "\\begin{equation}\n",
    "\t\t\\langle \\alpha_1\\alpha_2 \\dots \\alpha_n|a_\\alpha = \\langle\\alpha\\alpha_1\\alpha_2 \\dots \\alpha_n|  \\label{eq:2-9b} \\tag{13}\n",
    "\\end{equation}\n",
    "$$"
   ]
  },
  {
   "cell_type": "markdown",
   "id": "e9151a2e",
   "metadata": {
    "editable": true
   },
   "source": [
    "## More derivations\n",
    "Eq. ([13](#eq:2-9b)) holds for case (1) since the lefthand side is zero due to the Pauli principle. We write\n",
    "Eq. ([11](#eq:2-8)) as"
   ]
  },
  {
   "cell_type": "markdown",
   "id": "aa241aa1",
   "metadata": {
    "editable": true
   },
   "source": [
    "<!-- Equation labels as ordinary links -->\n",
    "<div id=\"eq:2-10\"></div>\n",
    "\n",
    "$$\n",
    "\\begin{equation}\n",
    "\t\\langle\\alpha_1\\alpha_2 \\dots \\alpha_n|a_\\alpha|\\alpha_1'\\alpha_2' \\dots \\alpha_m'\\rangle = \n",
    "\t\\langle \\alpha_1\\alpha_2 \\dots \\alpha_n|\\alpha\\alpha_1'\\alpha_2' \\dots \\alpha_m'\\rangle \\label{eq:2-10} \\tag{14}\n",
    "\\end{equation}\n",
    "$$"
   ]
  },
  {
   "cell_type": "markdown",
   "id": "ba086ea5",
   "metadata": {
    "editable": true
   },
   "source": [
    "Here we must have $m = n+1$ if Eq. ([14](#eq:2-10)) has to be trivially different from zero."
   ]
  },
  {
   "cell_type": "markdown",
   "id": "45f98ffb",
   "metadata": {
    "editable": true
   },
   "source": [
    "## Even and odd permutations\n",
    "\n",
    "For the last case, the minus and plus signs apply when the sequence \n",
    "$\\alpha ,\\alpha_1, \\alpha_2, \\dots, \\alpha_n$ and \n",
    "$\\alpha_1', \\alpha_2', \\dots, \\alpha_{n+1}'$ are related to each other via even and odd permutations.\n",
    "If we assume that  $\\alpha \\notin \\{\\alpha_i\\}$ we obtain"
   ]
  },
  {
   "cell_type": "markdown",
   "id": "e0bec7c8",
   "metadata": {
    "editable": true
   },
   "source": [
    "<!-- Equation labels as ordinary links -->\n",
    "<div id=\"eq:2-12\"></div>\n",
    "\n",
    "$$\n",
    "\\begin{equation}\n",
    "\t\\langle\\alpha_1\\alpha_2 \\dots \\alpha_n|a_\\alpha|\\alpha_1'\\alpha_2' \\dots \\alpha_{n+1}'\\rangle = 0 \\label{eq:2-12} \\tag{15}\n",
    "\\end{equation}\n",
    "$$"
   ]
  },
  {
   "cell_type": "markdown",
   "id": "768a38d8",
   "metadata": {
    "editable": true
   },
   "source": [
    "when $\\alpha \\in \\{\\alpha_i'\\}$. If $\\alpha \\notin \\{\\alpha_i'\\}$, we obtain"
   ]
  },
  {
   "cell_type": "markdown",
   "id": "a7b746ff",
   "metadata": {
    "editable": true
   },
   "source": [
    "<!-- Equation labels as ordinary links -->\n",
    "<div id=\"eq:2-13a\"></div>\n",
    "\n",
    "$$\n",
    "\\begin{equation}\n",
    "\ta_\\alpha\\underbrace{|\\alpha_1'\\alpha_2' \\dots \\alpha_{n+1}'}\\rangle_{\\neq \\alpha} = 0 \\label{eq:2-13a} \\tag{16}\n",
    "\\end{equation}\n",
    "$$"
   ]
  },
  {
   "cell_type": "markdown",
   "id": "554864f8",
   "metadata": {
    "editable": true
   },
   "source": [
    "and in particular"
   ]
  },
  {
   "cell_type": "markdown",
   "id": "0c0f23ef",
   "metadata": {
    "editable": true
   },
   "source": [
    "<!-- Equation labels as ordinary links -->\n",
    "<div id=\"eq:2-13b\"></div>\n",
    "\n",
    "$$\n",
    "\\begin{equation}\n",
    "\ta_\\alpha |0\\rangle = 0 \\label{eq:2-13b} \\tag{17}\n",
    "\\end{equation}\n",
    "$$"
   ]
  },
  {
   "cell_type": "markdown",
   "id": "72656603",
   "metadata": {
    "editable": true
   },
   "source": [
    "## Even and odd permutations\n",
    "\n",
    "If $\\{\\alpha\\alpha_i\\} = \\{\\alpha_i'\\}$, performing the right permutations, the sequence\n",
    "$\\alpha ,\\alpha_1, \\alpha_2, \\dots, \\alpha_n$ is identical with the sequence\n",
    "$\\alpha_1', \\alpha_2', \\dots, \\alpha_{n+1}'$. This results in"
   ]
  },
  {
   "cell_type": "markdown",
   "id": "c2c35c31",
   "metadata": {
    "editable": true
   },
   "source": [
    "<!-- Equation labels as ordinary links -->\n",
    "<div id=\"eq:2-14\"></div>\n",
    "\n",
    "$$\n",
    "\\begin{equation}\n",
    "\t\\langle\\alpha_1\\alpha_2 \\dots \\alpha_n|a_\\alpha|\\alpha\\alpha_1\\alpha_2 \\dots \\alpha_{n}\\rangle = 1 \\label{eq:2-14} \\tag{18}\n",
    "\\end{equation}\n",
    "$$"
   ]
  },
  {
   "cell_type": "markdown",
   "id": "ca2f980d",
   "metadata": {
    "editable": true
   },
   "source": [
    "and thus"
   ]
  },
  {
   "cell_type": "markdown",
   "id": "a89bf76d",
   "metadata": {
    "editable": true
   },
   "source": [
    "<!-- Equation labels as ordinary links -->\n",
    "<div id=\"eq:2-15\"></div>\n",
    "\n",
    "$$\n",
    "\\begin{equation}\n",
    "\ta_\\alpha |\\alpha\\alpha_1\\alpha_2 \\dots \\alpha_{n}\\rangle = |\\alpha_1\\alpha_2 \\dots \\alpha_{n}\\rangle \\label{eq:2-15} \\tag{19}\n",
    "\\end{equation}\n",
    "$$"
   ]
  },
  {
   "cell_type": "markdown",
   "id": "313ea3d6",
   "metadata": {
    "editable": true
   },
   "source": [
    "## Annihilation operators\n",
    "\n",
    "The action of the operator \n",
    "$a_\\alpha$ from the left on a state vector  is to to remove  one particle in the state\n",
    "$\\alpha$. \n",
    "If the state vector does not contain the single-particle state $\\alpha$, the outcome of the operation is zero.\n",
    "The operator  $a_\\alpha$ is normally called for a destruction or annihilation operator.\n",
    "\n",
    "The next step is to establish the  commutator algebra of $a_\\alpha^{\\dagger}$ and\n",
    "$a_\\beta$."
   ]
  },
  {
   "cell_type": "markdown",
   "id": "074e81f8",
   "metadata": {
    "editable": true
   },
   "source": [
    "## Action of anti-commutator\n",
    "\n",
    "The action of the anti-commutator \n",
    "$\\{a_\\alpha^{\\dagger}$,$a_\\alpha\\}$ on a given $n$-particle state is"
   ]
  },
  {
   "cell_type": "markdown",
   "id": "3d3daa96",
   "metadata": {
    "editable": true
   },
   "source": [
    "$$\n",
    "a_\\alpha^{\\dagger} a_\\alpha \\underbrace{|\\alpha_1\\alpha_2 \\dots \\alpha_{n}\\rangle}_{\\neq \\alpha} = 0 \\nonumber\n",
    "$$"
   ]
  },
  {
   "cell_type": "markdown",
   "id": "888db5cb",
   "metadata": {
    "editable": true
   },
   "source": [
    "<!-- Equation labels as ordinary links -->\n",
    "<div id=\"eq:2-16a\"></div>\n",
    "\n",
    "$$\n",
    "\\begin{equation} \n",
    "\ta_\\alpha a_\\alpha^{\\dagger} \\underbrace{|\\alpha_1\\alpha_2 \\dots \\alpha_{n}\\rangle}_{\\neq \\alpha} =\n",
    "\ta_\\alpha \\underbrace{|\\alpha \\alpha_1\\alpha_2 \\dots \\alpha_{n}\\rangle}_{\\neq \\alpha} = \n",
    "\t\\underbrace{|\\alpha_1\\alpha_2 \\dots \\alpha_{n}\\rangle}_{\\neq \\alpha} \\label{eq:2-16a} \\tag{20}\n",
    "\\end{equation}\n",
    "$$"
   ]
  },
  {
   "cell_type": "markdown",
   "id": "e3056900",
   "metadata": {
    "editable": true
   },
   "source": [
    "if the single-particle state $\\alpha$ is not contained in the state."
   ]
  },
  {
   "cell_type": "markdown",
   "id": "437bb182",
   "metadata": {
    "editable": true
   },
   "source": [
    "## Anti-commutation rule for Fermions\n",
    "\n",
    " If it is present\n",
    "we arrive at"
   ]
  },
  {
   "cell_type": "markdown",
   "id": "d2c8c74f",
   "metadata": {
    "editable": true
   },
   "source": [
    "$$\n",
    "a_\\alpha^{\\dagger} a_\\alpha |\\alpha_1\\alpha_2 \\dots \\alpha_{k}\\alpha \\alpha_{k+1} \\dots \\alpha_{n-1}\\rangle =\n",
    "\ta_\\alpha^{\\dagger} a_\\alpha (-1)^k |\\alpha \\alpha_1\\alpha_2 \\dots \\alpha_{n-1}\\rangle \\nonumber\n",
    "$$"
   ]
  },
  {
   "cell_type": "markdown",
   "id": "d646749a",
   "metadata": {
    "editable": true
   },
   "source": [
    "$$\n",
    "= (-1)^k |\\alpha \\alpha_1\\alpha_2 \\dots \\alpha_{n-1}\\rangle =\n",
    "\t|\\alpha_1\\alpha_2 \\dots \\alpha_{k}\\alpha \\alpha_{k+1} \\dots \\alpha_{n-1}\\rangle \\nonumber\n",
    "$$"
   ]
  },
  {
   "cell_type": "markdown",
   "id": "2eef8d8f",
   "metadata": {
    "editable": true
   },
   "source": [
    "<!-- Equation labels as ordinary links -->\n",
    "<div id=\"eq:2-16b\"></div>\n",
    "\n",
    "$$\n",
    "\\begin{equation} \n",
    "\ta_\\alpha a_\\alpha^{\\dagger}|\\alpha_1\\alpha_2 \\dots \\alpha_{k}\\alpha \\alpha_{k+1} \\dots \\alpha_{n-1}\\rangle = 0 \\label{eq:2-16b} \\tag{21}\n",
    "\\end{equation}\n",
    "$$"
   ]
  },
  {
   "cell_type": "markdown",
   "id": "66f6840c",
   "metadata": {
    "editable": true
   },
   "source": [
    "From Eqs. ([20](#eq:2-16a)) and  ([21](#eq:2-16b)) we arrive at"
   ]
  },
  {
   "cell_type": "markdown",
   "id": "9460b6ce",
   "metadata": {
    "editable": true
   },
   "source": [
    "<!-- Equation labels as ordinary links -->\n",
    "<div id=\"eq:2-17\"></div>\n",
    "\n",
    "$$\n",
    "\\begin{equation}\n",
    "\t\\{a_\\alpha^{\\dagger} , a_\\alpha \\} = a_\\alpha^{\\dagger} a_\\alpha + a_\\alpha a_\\alpha^{\\dagger} = 1 \\label{eq:2-17} \\tag{22}\n",
    "\\end{equation}\n",
    "$$"
   ]
  },
  {
   "cell_type": "markdown",
   "id": "2a8dc04a",
   "metadata": {
    "editable": true
   },
   "source": [
    "## Three possible outcomes\n",
    "\n",
    "The action of $\\left\\{a_\\alpha^{\\dagger}, a_\\beta\\right\\}$, with \n",
    "$\\alpha \\ne \\beta$ on a given state yields three possibilities. \n",
    "The first case is a state vector which contains both $\\alpha$ and $\\beta$, then either \n",
    "$\\alpha$ or $\\beta$ and finally none of them.\n",
    "\n",
    "The first case results in"
   ]
  },
  {
   "cell_type": "markdown",
   "id": "eed5058b",
   "metadata": {
    "editable": true
   },
   "source": [
    "$$\n",
    "a_\\alpha^{\\dagger} a_\\beta |\\alpha\\beta\\alpha_1\\alpha_2 \\dots \\alpha_{n-2}\\rangle = 0 \\nonumber\n",
    "$$"
   ]
  },
  {
   "cell_type": "markdown",
   "id": "a503ae1c",
   "metadata": {
    "editable": true
   },
   "source": [
    "<!-- Equation labels as ordinary links -->\n",
    "<div id=\"eq:2-18a\"></div>\n",
    "\n",
    "$$\n",
    "\\begin{equation} \n",
    "\ta_\\beta a_\\alpha^{\\dagger} |\\alpha\\beta\\alpha_1\\alpha_2 \\dots \\alpha_{n-2}\\rangle = 0 \\label{eq:2-18a} \\tag{23}\n",
    "\\end{equation}\n",
    "$$"
   ]
  },
  {
   "cell_type": "markdown",
   "id": "dee0e93d",
   "metadata": {
    "editable": true
   },
   "source": [
    "## Second case\n",
    "The second case gives"
   ]
  },
  {
   "cell_type": "markdown",
   "id": "99b30965",
   "metadata": {
    "editable": true
   },
   "source": [
    "$$\n",
    "a_\\alpha^{\\dagger} a_\\beta |\\beta \\underbrace{\\alpha_1\\alpha_2 \\dots \\alpha_{n-1}}_{\\neq \\alpha}\\rangle = \n",
    "\t \t|\\alpha \\underbrace{\\alpha_1\\alpha_2 \\dots \\alpha_{n-1}}_{\\neq  \\alpha}\\rangle \\nonumber\n",
    "$$"
   ]
  },
  {
   "cell_type": "markdown",
   "id": "d2bc864a",
   "metadata": {
    "editable": true
   },
   "source": [
    "$$\n",
    "a_\\beta a_\\alpha^{\\dagger} |\\beta \\underbrace{\\alpha_1\\alpha_2 \\dots \\alpha_{n-1}}_{\\neq \\alpha}\\rangle =\n",
    "\t\ta_\\beta |\\alpha\\beta\\underbrace{\\beta \\alpha_1\\alpha_2 \\dots \\alpha_{n-1}}_{\\neq \\alpha}\\rangle \\nonumber\n",
    "$$"
   ]
  },
  {
   "cell_type": "markdown",
   "id": "be7b4a05",
   "metadata": {
    "editable": true
   },
   "source": [
    "<!-- Equation labels as ordinary links -->\n",
    "<div id=\"eq:2-18b\"></div>\n",
    "\n",
    "$$\n",
    "\\begin{equation} \n",
    "\t= - |\\alpha\\underbrace{\\alpha_1\\alpha_2 \\dots \\alpha_{n-1}}_{\\neq \\alpha}\\rangle \\label{eq:2-18b} \\tag{24}\n",
    "\\end{equation}\n",
    "$$"
   ]
  },
  {
   "cell_type": "markdown",
   "id": "d93cd91f",
   "metadata": {
    "editable": true
   },
   "source": [
    "## Third case\n",
    "\n",
    "Finally if the state vector does not contain $\\alpha$ and $\\beta$"
   ]
  },
  {
   "cell_type": "markdown",
   "id": "c7d616e9",
   "metadata": {
    "editable": true
   },
   "source": [
    "$$\n",
    "a_\\alpha^{\\dagger} a_\\beta |\\underbrace{\\alpha_1\\alpha_2 \\dots \\alpha_{n}}_{\\neq \\alpha,\\beta}\\rangle = 0 \\nonumber\n",
    "$$"
   ]
  },
  {
   "cell_type": "markdown",
   "id": "516cb720",
   "metadata": {
    "editable": true
   },
   "source": [
    "<!-- Equation labels as ordinary links -->\n",
    "<div id=\"eq:2-18c\"></div>\n",
    "\n",
    "$$\n",
    "\\begin{equation} \n",
    "\ta_\\beta a_\\alpha^{\\dagger} |\\underbrace{\\alpha_1\\alpha_2 \\dots \\alpha_{n}}_{\\neq \\alpha,\\beta}\\rangle = \n",
    "\t\ta_\\beta |\\alpha \\underbrace{\\alpha_1\\alpha_2 \\dots \\alpha_{n}}_{\\neq \\alpha,\\beta}\\rangle = 0 \\label{eq:2-18c} \\tag{25}\n",
    "\\end{equation}\n",
    "$$"
   ]
  },
  {
   "cell_type": "markdown",
   "id": "8c9cf98f",
   "metadata": {
    "editable": true
   },
   "source": [
    "For all three cases we have"
   ]
  },
  {
   "cell_type": "markdown",
   "id": "f19d86d3",
   "metadata": {
    "editable": true
   },
   "source": [
    "<!-- Equation labels as ordinary links -->\n",
    "<div id=\"eq:2-19\"></div>\n",
    "\n",
    "$$\n",
    "\\begin{equation}\n",
    "\t\\{a_\\alpha^{\\dagger},a_\\beta \\} = a_\\alpha^{\\dagger} a_\\beta + a_\\beta a_\\alpha^{\\dagger} = 0, \\quad \\alpha \\neq \\beta \\label{eq:2-19} \\tag{26}\n",
    "\\end{equation}\n",
    "$$"
   ]
  },
  {
   "cell_type": "markdown",
   "id": "72920dd7",
   "metadata": {
    "editable": true
   },
   "source": [
    "## Summarizing\n",
    "\n",
    "We can summarize  our findings in Eqs. ([22](#eq:2-17)) and ([26](#eq:2-19)) as"
   ]
  },
  {
   "cell_type": "markdown",
   "id": "65dea3a2",
   "metadata": {
    "editable": true
   },
   "source": [
    "<!-- Equation labels as ordinary links -->\n",
    "<div id=\"eq:2-20\"></div>\n",
    "\n",
    "$$\n",
    "\\begin{equation}\n",
    "\t\\{a_\\alpha^{\\dagger},a_\\beta \\} = \\delta_{\\alpha\\beta} \\label{eq:2-20} \\tag{27}\n",
    "\\end{equation}\n",
    "$$"
   ]
  },
  {
   "cell_type": "markdown",
   "id": "ad24b749",
   "metadata": {
    "editable": true
   },
   "source": [
    "with  $\\delta_{\\alpha\\beta}$ is the Kroenecker $\\delta$-symbol."
   ]
  },
  {
   "cell_type": "markdown",
   "id": "80e714ab",
   "metadata": {
    "editable": true
   },
   "source": [
    "## Properties of creation and annihilation operators\n",
    "\n",
    "The properties of the creation and annihilation operators can be summarized as (for fermions)"
   ]
  },
  {
   "cell_type": "markdown",
   "id": "80739a0a",
   "metadata": {
    "editable": true
   },
   "source": [
    "$$\n",
    "a_\\alpha^{\\dagger}|0\\rangle \\equiv  |\\alpha\\rangle,\n",
    "$$"
   ]
  },
  {
   "cell_type": "markdown",
   "id": "b2283ed8",
   "metadata": {
    "editable": true
   },
   "source": [
    "and"
   ]
  },
  {
   "cell_type": "markdown",
   "id": "4fd493d3",
   "metadata": {
    "editable": true
   },
   "source": [
    "$$\n",
    "a_\\alpha^{\\dagger}|\\alpha_1\\dots \\alpha_n\\rangle_{\\mathrm{AS}} \\equiv  |\\alpha\\alpha_1\\dots \\alpha_n\\rangle_{\\mathrm{AS}}.\n",
    "$$"
   ]
  },
  {
   "cell_type": "markdown",
   "id": "23b11497",
   "metadata": {
    "editable": true
   },
   "source": [
    "from which follows"
   ]
  },
  {
   "cell_type": "markdown",
   "id": "d610f88d",
   "metadata": {
    "editable": true
   },
   "source": [
    "$$\n",
    "|\\alpha_1\\dots \\alpha_n\\rangle_{\\mathrm{AS}} = a_{\\alpha_1}^{\\dagger} a_{\\alpha_2}^{\\dagger} \\dots a_{\\alpha_n}^{\\dagger} |0\\rangle.\n",
    "$$"
   ]
  },
  {
   "cell_type": "markdown",
   "id": "6c4f2ac9",
   "metadata": {
    "editable": true
   },
   "source": [
    "## Hermitian conjugate or just adjoint\n",
    "\n",
    "The hermitian conjugate has the folowing properties"
   ]
  },
  {
   "cell_type": "markdown",
   "id": "a6797f65",
   "metadata": {
    "editable": true
   },
   "source": [
    "$$\n",
    "a_{\\alpha} = ( a_{\\alpha}^{\\dagger} )^{\\dagger}.\n",
    "$$"
   ]
  },
  {
   "cell_type": "markdown",
   "id": "685f4bef",
   "metadata": {
    "editable": true
   },
   "source": [
    "Finally we found"
   ]
  },
  {
   "cell_type": "markdown",
   "id": "4dd3b1f3",
   "metadata": {
    "editable": true
   },
   "source": [
    "$$\n",
    "a_\\alpha\\underbrace{|\\alpha_1'\\alpha_2' \\dots \\alpha_{n+1}'}\\rangle_{\\neq \\alpha} = 0, \\quad\n",
    "\t\t\\textrm{in particular } a_\\alpha |0\\rangle = 0,\n",
    "$$"
   ]
  },
  {
   "cell_type": "markdown",
   "id": "acfa8224",
   "metadata": {
    "editable": true
   },
   "source": [
    "and"
   ]
  },
  {
   "cell_type": "markdown",
   "id": "8c763b29",
   "metadata": {
    "editable": true
   },
   "source": [
    "$$\n",
    "a_\\alpha |\\alpha\\alpha_1\\alpha_2 \\dots \\alpha_{n}\\rangle = |\\alpha_1\\alpha_2 \\dots \\alpha_{n}\\rangle,\n",
    "$$"
   ]
  },
  {
   "cell_type": "markdown",
   "id": "373b2540",
   "metadata": {
    "editable": true
   },
   "source": [
    "and the corresponding commutator algebra"
   ]
  },
  {
   "cell_type": "markdown",
   "id": "e15dcdad",
   "metadata": {
    "editable": true
   },
   "source": [
    "$$\n",
    "\\{a_{\\alpha}^{\\dagger},a_{\\beta}^{\\dagger}\\} = \\{a_{\\alpha},a_{\\beta}\\} = 0 \\hspace{0.5cm} \n",
    "\\{a_\\alpha^{\\dagger},a_\\beta \\} = \\delta_{\\alpha\\beta}.\n",
    "$$"
   ]
  }
 ],
 "metadata": {},
 "nbformat": 4,
 "nbformat_minor": 5
}
