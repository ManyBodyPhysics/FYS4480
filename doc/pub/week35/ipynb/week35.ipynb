{
 "cells": [
  {
   "cell_type": "markdown",
   "id": "49a6f391",
   "metadata": {
    "editable": true
   },
   "source": [
    "<!-- HTML file automatically generated from DocOnce source (https://github.com/doconce/doconce/)\n",
    "doconce format html week35.do.txt --no_mako -->\n",
    "<!-- dom:TITLE: Week 35: Ansatzes for fermions and bosons and second quantization -->"
   ]
  },
  {
   "cell_type": "markdown",
   "id": "3beafba5",
   "metadata": {
    "editable": true
   },
   "source": [
    "# Week 35: Ansatzes for fermions and bosons and second quantization\n",
    "**Morten Hjorth-Jensen**, Department of Physics and Center for Computing in Science Education, University of Oslo, Norway and Department of Physics and Astronomy and Facility for Rare Isotope Beams, Michigan State University, USA\n",
    "\n",
    "Date: **Week 35, August 26-30**"
   ]
  },
  {
   "cell_type": "markdown",
   "id": "ad3bf5c2",
   "metadata": {
    "editable": true
   },
   "source": [
    "## Week 35\n",
    "\n",
    "* Topics to be covered\n",
    "\n",
    "a. Thursday: Fermion state functions and computation of expectation values in first quantization, continuation from last week, see slides from week 34\n",
    "\n",
    "b. Video of lecture TBA at <https://youtu.be/>\n",
    "\n",
    "c. Friday: Introduction to second quantization\n",
    "\n",
    "d. Video of lecture at TBA <https://youtu.be/3aqZKgA4E4c>\n",
    "\n",
    "* Lecture Material: These slides and Szabo and Ostlund chapters 1 and 2.\n",
    "\n",
    "* [First exercise set](https://github.com/ManyBodyPhysics/FYS4480/blob/master/doc/Exercises/2024/ExercisesWeek35.pdf)"
   ]
  },
  {
   "cell_type": "markdown",
   "id": "1e92d816",
   "metadata": {
    "editable": true
   },
   "source": [
    "## Definitions and Second quantization\n",
    "\n",
    "We introduce the time-independent  operators\n",
    "$a_\\alpha^{\\dagger}$ and $a_\\alpha$   which create and annihilate, respectively, a particle \n",
    "in the single-particle state \n",
    "$\\varphi_\\alpha$. \n",
    "We define the fermion creation operator\n",
    "$a_\\alpha^{\\dagger}$"
   ]
  },
  {
   "cell_type": "markdown",
   "id": "4aeab662",
   "metadata": {
    "editable": true
   },
   "source": [
    "<!-- Equation labels as ordinary links -->\n",
    "<div id=\"eq:2-1a\"></div>\n",
    "\n",
    "$$\n",
    "\\begin{equation}\n",
    "\ta_\\alpha^{\\dagger}|0\\rangle \\equiv  |\\alpha\\rangle  \\label{eq:2-1a} \\tag{1},\n",
    "\\end{equation}\n",
    "$$"
   ]
  },
  {
   "cell_type": "markdown",
   "id": "ce9c3ad5",
   "metadata": {
    "editable": true
   },
   "source": [
    "and"
   ]
  },
  {
   "cell_type": "markdown",
   "id": "db6a50dc",
   "metadata": {
    "editable": true
   },
   "source": [
    "<!-- Equation labels as ordinary links -->\n",
    "<div id=\"eq:2-1b\"></div>\n",
    "\n",
    "$$\n",
    "\\begin{equation}\n",
    "\ta_\\alpha^{\\dagger}|\\alpha_1\\dots \\alpha_n\\rangle_{\\mathrm{AS}} \\equiv  |\\alpha\\alpha_1\\dots \\alpha_n\\rangle_{\\mathrm{AS}} \\label{eq:2-1b} \\tag{2}\n",
    "\\end{equation}\n",
    "$$"
   ]
  },
  {
   "cell_type": "markdown",
   "id": "5b12c1dc",
   "metadata": {
    "editable": true
   },
   "source": [
    "In Eq. ([1](#eq:2-1a)) \n",
    "the operator  $a_\\alpha^{\\dagger}$  acts on the vacuum state \n",
    "$|0\\rangle$, which does not contain any particles. Alternatively, we could define  a closed-shell nucleus or atom as our new vacuum, but then\n",
    "we need to introduce the particle-hole  formalism, see the discussion to come. \n",
    "\n",
    "In Eq. ([2](#eq:2-1b)) $a_\\alpha^{\\dagger}$ acts on an antisymmetric $n$-particle state and \n",
    "creates an antisymmetric $(n+1)$-particle state, where the one-body state \n",
    "$\\varphi_\\alpha$ is occupied, under the condition that\n",
    "$\\alpha \\ne \\alpha_1, \\alpha_2, \\dots, \\alpha_n$. \n",
    "It follows that we can express an antisymmetric state as the product of the creation\n",
    "operators acting on the vacuum state."
   ]
  },
  {
   "cell_type": "markdown",
   "id": "6d02c119",
   "metadata": {
    "editable": true
   },
   "source": [
    "<!-- Equation labels as ordinary links -->\n",
    "<div id=\"eq:2-2\"></div>\n",
    "\n",
    "$$\n",
    "\\begin{equation}\n",
    "\t|\\alpha_1\\dots \\alpha_n\\rangle_{\\mathrm{AS}} = a_{\\alpha_1}^{\\dagger} a_{\\alpha_2}^{\\dagger} \\dots a_{\\alpha_n}^{\\dagger} |0\\rangle \\label{eq:2-2} \\tag{3}\n",
    "\\end{equation}\n",
    "$$"
   ]
  },
  {
   "cell_type": "markdown",
   "id": "99fbf019",
   "metadata": {
    "editable": true
   },
   "source": [
    "It is easy to derive the commutation and anticommutation rules  for the fermionic creation operators \n",
    "$a_\\alpha^{\\dagger}$. Using the antisymmetry of the states \n",
    "([3](#eq:2-2))"
   ]
  },
  {
   "cell_type": "markdown",
   "id": "4d3785fa",
   "metadata": {
    "editable": true
   },
   "source": [
    "<!-- Equation labels as ordinary links -->\n",
    "<div id=\"eq:2-3a\"></div>\n",
    "\n",
    "$$\n",
    "\\begin{equation}\n",
    "\t|\\alpha_1\\dots \\alpha_i\\dots \\alpha_k\\dots \\alpha_n\\rangle_{\\mathrm{AS}} = \n",
    "\t\t- |\\alpha_1\\dots \\alpha_k\\dots \\alpha_i\\dots \\alpha_n\\rangle_{\\mathrm{AS}} \\label{eq:2-3a} \\tag{4}\n",
    "\\end{equation}\n",
    "$$"
   ]
  },
  {
   "cell_type": "markdown",
   "id": "3b081c6a",
   "metadata": {
    "editable": true
   },
   "source": [
    "we obtain"
   ]
  },
  {
   "cell_type": "markdown",
   "id": "674eceec",
   "metadata": {
    "editable": true
   },
   "source": [
    "<!-- Equation labels as ordinary links -->\n",
    "<div id=\"eq:2-3b\"></div>\n",
    "\n",
    "$$\n",
    "\\begin{equation}\n",
    "\t a_{\\alpha_i}^{\\dagger}  a_{\\alpha_k}^{\\dagger} = - a_{\\alpha_k}^{\\dagger} a_{\\alpha_i}^{\\dagger} \\label{eq:2-3b} \\tag{5}\n",
    "\\end{equation}\n",
    "$$"
   ]
  },
  {
   "cell_type": "markdown",
   "id": "64e72d4a",
   "metadata": {
    "editable": true
   },
   "source": [
    "Using the Pauli principle"
   ]
  },
  {
   "cell_type": "markdown",
   "id": "7d9f25e4",
   "metadata": {
    "editable": true
   },
   "source": [
    "<!-- Equation labels as ordinary links -->\n",
    "<div id=\"eq:2-4a\"></div>\n",
    "\n",
    "$$\n",
    "\\begin{equation}\n",
    "\t|\\alpha_1\\dots \\alpha_i\\dots \\alpha_i\\dots \\alpha_n\\rangle_{\\mathrm{AS}} = 0 \\label{eq:2-4a} \\tag{6}\n",
    "\\end{equation}\n",
    "$$"
   ]
  },
  {
   "cell_type": "markdown",
   "id": "4537ec6f",
   "metadata": {
    "editable": true
   },
   "source": [
    "it follows that"
   ]
  },
  {
   "cell_type": "markdown",
   "id": "aab80245",
   "metadata": {
    "editable": true
   },
   "source": [
    "<!-- Equation labels as ordinary links -->\n",
    "<div id=\"eq:2-4b\"></div>\n",
    "\n",
    "$$\n",
    "\\begin{equation}\n",
    "\ta_{\\alpha_i}^{\\dagger}  a_{\\alpha_i}^{\\dagger} = 0. \\label{eq:2-4b} \\tag{7}\n",
    "\\end{equation}\n",
    "$$"
   ]
  },
  {
   "cell_type": "markdown",
   "id": "701cf3c6",
   "metadata": {
    "editable": true
   },
   "source": [
    "If we combine Eqs. ([5](#eq:2-3b)) and ([7](#eq:2-4b)), we obtain the well-known anti-commutation rule"
   ]
  },
  {
   "cell_type": "markdown",
   "id": "b0923e62",
   "metadata": {
    "editable": true
   },
   "source": [
    "<!-- Equation labels as ordinary links -->\n",
    "<div id=\"eq:2-5\"></div>\n",
    "\n",
    "$$\n",
    "\\begin{equation}\n",
    "\ta_{\\alpha}^{\\dagger}  a_{\\beta}^{\\dagger} + a_{\\beta}^{\\dagger}  a_{\\alpha}^{\\dagger} \\equiv \n",
    "\t\t\\{a_{\\alpha}^{\\dagger},a_{\\beta}^{\\dagger}\\} = 0 \\label{eq:2-5} \\tag{8}\n",
    "\\end{equation}\n",
    "$$"
   ]
  },
  {
   "cell_type": "markdown",
   "id": "a977e214",
   "metadata": {
    "editable": true
   },
   "source": [
    "The hermitian conjugate  of $a_\\alpha^{\\dagger}$ is"
   ]
  },
  {
   "cell_type": "markdown",
   "id": "b42abc84",
   "metadata": {
    "editable": true
   },
   "source": [
    "<!-- Equation labels as ordinary links -->\n",
    "<div id=\"eq:2-6\"></div>\n",
    "\n",
    "$$\n",
    "\\begin{equation}\n",
    "\ta_{\\alpha} = ( a_{\\alpha}^{\\dagger} )^{\\dagger} \\label{eq:2-6} \\tag{9}\n",
    "\\end{equation}\n",
    "$$"
   ]
  },
  {
   "cell_type": "markdown",
   "id": "1ad0288a",
   "metadata": {
    "editable": true
   },
   "source": [
    "If we take the hermitian conjugate of Eq. ([8](#eq:2-5)), we arrive at"
   ]
  },
  {
   "cell_type": "markdown",
   "id": "d3d84bf8",
   "metadata": {
    "editable": true
   },
   "source": [
    "<!-- Equation labels as ordinary links -->\n",
    "<div id=\"eq:2-7\"></div>\n",
    "\n",
    "$$\n",
    "\\begin{equation}\n",
    "\t\\{a_{\\alpha},a_{\\beta}\\} = 0 \\label{eq:2-7} \\tag{10}\n",
    "\\end{equation}\n",
    "$$"
   ]
  },
  {
   "cell_type": "markdown",
   "id": "db61a47c",
   "metadata": {
    "editable": true
   },
   "source": [
    "What is the physical interpretation of the operator $a_\\alpha$ and what is the effect of \n",
    "$a_\\alpha$ on a given state $|\\alpha_1\\alpha_2\\dots\\alpha_n\\rangle_{\\mathrm{AS}}$? \n",
    "Consider the following matrix element"
   ]
  },
  {
   "cell_type": "markdown",
   "id": "d4e025e8",
   "metadata": {
    "editable": true
   },
   "source": [
    "<!-- Equation labels as ordinary links -->\n",
    "<div id=\"eq:2-8\"></div>\n",
    "\n",
    "$$\n",
    "\\begin{equation}\n",
    "\t\\langle\\alpha_1\\alpha_2 \\dots \\alpha_n|a_\\alpha|\\alpha_1'\\alpha_2' \\dots \\alpha_m'\\rangle \\label{eq:2-8} \\tag{11}\n",
    "\\end{equation}\n",
    "$$"
   ]
  },
  {
   "cell_type": "markdown",
   "id": "e80e6340",
   "metadata": {
    "editable": true
   },
   "source": [
    "where both sides are antisymmetric. We  distinguish between two cases. The first (1) is when\n",
    "$\\alpha \\in \\{\\alpha_i\\}$. Using the Pauli principle of Eq. ([6](#eq:2-4a)) it follows"
   ]
  },
  {
   "cell_type": "markdown",
   "id": "01d4efc7",
   "metadata": {
    "editable": true
   },
   "source": [
    "<!-- Equation labels as ordinary links -->\n",
    "<div id=\"eq:2-9a\"></div>\n",
    "\n",
    "$$\n",
    "\\begin{equation}\n",
    "\t\t\\langle\\alpha_1\\alpha_2 \\dots \\alpha_n|a_\\alpha = 0 \\label{eq:2-9a} \\tag{12}\n",
    "\\end{equation}\n",
    "$$"
   ]
  },
  {
   "cell_type": "markdown",
   "id": "cdf774e7",
   "metadata": {
    "editable": true
   },
   "source": [
    "The second (2) case is when $\\alpha \\notin \\{\\alpha_i\\}$. It follows that an hermitian conjugation"
   ]
  },
  {
   "cell_type": "markdown",
   "id": "f6951dbd",
   "metadata": {
    "editable": true
   },
   "source": [
    "<!-- Equation labels as ordinary links -->\n",
    "<div id=\"eq:2-9b\"></div>\n",
    "\n",
    "$$\n",
    "\\begin{equation}\n",
    "\t\t\\langle \\alpha_1\\alpha_2 \\dots \\alpha_n|a_\\alpha = \\langle\\alpha\\alpha_1\\alpha_2 \\dots \\alpha_n|  \\label{eq:2-9b} \\tag{13}\n",
    "\\end{equation}\n",
    "$$"
   ]
  },
  {
   "cell_type": "markdown",
   "id": "a22551b2",
   "metadata": {
    "editable": true
   },
   "source": [
    "Eq. ([13](#eq:2-9b)) holds for case (1) since the lefthand side is zero due to the Pauli principle. We write\n",
    "Eq. ([11](#eq:2-8)) as"
   ]
  },
  {
   "cell_type": "markdown",
   "id": "21b6d8d7",
   "metadata": {
    "editable": true
   },
   "source": [
    "<!-- Equation labels as ordinary links -->\n",
    "<div id=\"eq:2-10\"></div>\n",
    "\n",
    "$$\n",
    "\\begin{equation}\n",
    "\t\\langle\\alpha_1\\alpha_2 \\dots \\alpha_n|a_\\alpha|\\alpha_1'\\alpha_2' \\dots \\alpha_m'\\rangle = \n",
    "\t\\langle \\alpha_1\\alpha_2 \\dots \\alpha_n|\\alpha\\alpha_1'\\alpha_2' \\dots \\alpha_m'\\rangle \\label{eq:2-10} \\tag{14}\n",
    "\\end{equation}\n",
    "$$"
   ]
  },
  {
   "cell_type": "markdown",
   "id": "f90f49fe",
   "metadata": {
    "editable": true
   },
   "source": [
    "Here we must have $m = n+1$ if Eq. ([14](#eq:2-10)) has to be trivially different from zero.\n",
    "\n",
    "For the last case, the minus and plus signs apply when the sequence \n",
    "$\\alpha ,\\alpha_1, \\alpha_2, \\dots, \\alpha_n$ and \n",
    "$\\alpha_1', \\alpha_2', \\dots, \\alpha_{n+1}'$ are related to each other via even and odd permutations.\n",
    "If we assume that  $\\alpha \\notin \\{\\alpha_i\\}$ we obtain"
   ]
  },
  {
   "cell_type": "markdown",
   "id": "0cf5562d",
   "metadata": {
    "editable": true
   },
   "source": [
    "<!-- Equation labels as ordinary links -->\n",
    "<div id=\"eq:2-12\"></div>\n",
    "\n",
    "$$\n",
    "\\begin{equation}\n",
    "\t\\langle\\alpha_1\\alpha_2 \\dots \\alpha_n|a_\\alpha|\\alpha_1'\\alpha_2' \\dots \\alpha_{n+1}'\\rangle = 0 \\label{eq:2-12} \\tag{15}\n",
    "\\end{equation}\n",
    "$$"
   ]
  },
  {
   "cell_type": "markdown",
   "id": "2ccf4564",
   "metadata": {
    "editable": true
   },
   "source": [
    "when $\\alpha \\in \\{\\alpha_i'\\}$. If $\\alpha \\notin \\{\\alpha_i'\\}$, we obtain"
   ]
  },
  {
   "cell_type": "markdown",
   "id": "97eec0f6",
   "metadata": {
    "editable": true
   },
   "source": [
    "<!-- Equation labels as ordinary links -->\n",
    "<div id=\"eq:2-13a\"></div>\n",
    "\n",
    "$$\n",
    "\\begin{equation}\n",
    "\ta_\\alpha\\underbrace{|\\alpha_1'\\alpha_2' \\dots \\alpha_{n+1}'}\\rangle_{\\neq \\alpha} = 0 \\label{eq:2-13a} \\tag{16}\n",
    "\\end{equation}\n",
    "$$"
   ]
  },
  {
   "cell_type": "markdown",
   "id": "3dcdc59d",
   "metadata": {
    "editable": true
   },
   "source": [
    "and in particular"
   ]
  },
  {
   "cell_type": "markdown",
   "id": "2fb1414a",
   "metadata": {
    "editable": true
   },
   "source": [
    "<!-- Equation labels as ordinary links -->\n",
    "<div id=\"eq:2-13b\"></div>\n",
    "\n",
    "$$\n",
    "\\begin{equation}\n",
    "\ta_\\alpha |0\\rangle = 0 \\label{eq:2-13b} \\tag{17}\n",
    "\\end{equation}\n",
    "$$"
   ]
  },
  {
   "cell_type": "markdown",
   "id": "e636e817",
   "metadata": {
    "editable": true
   },
   "source": [
    "If $\\{\\alpha\\alpha_i\\} = \\{\\alpha_i'\\}$, performing the right permutations, the sequence\n",
    "$\\alpha ,\\alpha_1, \\alpha_2, \\dots, \\alpha_n$ is identical with the sequence\n",
    "$\\alpha_1', \\alpha_2', \\dots, \\alpha_{n+1}'$. This results in"
   ]
  },
  {
   "cell_type": "markdown",
   "id": "16d8b0a8",
   "metadata": {
    "editable": true
   },
   "source": [
    "<!-- Equation labels as ordinary links -->\n",
    "<div id=\"eq:2-14\"></div>\n",
    "\n",
    "$$\n",
    "\\begin{equation}\n",
    "\t\\langle\\alpha_1\\alpha_2 \\dots \\alpha_n|a_\\alpha|\\alpha\\alpha_1\\alpha_2 \\dots \\alpha_{n}\\rangle = 1 \\label{eq:2-14} \\tag{18}\n",
    "\\end{equation}\n",
    "$$"
   ]
  },
  {
   "cell_type": "markdown",
   "id": "f222029e",
   "metadata": {
    "editable": true
   },
   "source": [
    "and thus"
   ]
  },
  {
   "cell_type": "markdown",
   "id": "15402a65",
   "metadata": {
    "editable": true
   },
   "source": [
    "<!-- Equation labels as ordinary links -->\n",
    "<div id=\"eq:2-15\"></div>\n",
    "\n",
    "$$\n",
    "\\begin{equation}\n",
    "\ta_\\alpha |\\alpha\\alpha_1\\alpha_2 \\dots \\alpha_{n}\\rangle = |\\alpha_1\\alpha_2 \\dots \\alpha_{n}\\rangle \\label{eq:2-15} \\tag{19}\n",
    "\\end{equation}\n",
    "$$"
   ]
  },
  {
   "cell_type": "markdown",
   "id": "f228606d",
   "metadata": {
    "editable": true
   },
   "source": [
    "The action of the operator \n",
    "$a_\\alpha$ from the left on a state vector  is to to remove  one particle in the state\n",
    "$\\alpha$. \n",
    "If the state vector does not contain the single-particle state $\\alpha$, the outcome of the operation is zero.\n",
    "The operator  $a_\\alpha$ is normally called for a destruction or annihilation operator.\n",
    "\n",
    "The next step is to establish the  commutator algebra of $a_\\alpha^{\\dagger}$ and\n",
    "$a_\\beta$. \n",
    "\n",
    "The action of the anti-commutator \n",
    "$\\{a_\\alpha^{\\dagger}$,$a_\\alpha\\}$ on a given $n$-particle state is"
   ]
  },
  {
   "cell_type": "markdown",
   "id": "537181c6",
   "metadata": {
    "editable": true
   },
   "source": [
    "$$\n",
    "a_\\alpha^{\\dagger} a_\\alpha \\underbrace{|\\alpha_1\\alpha_2 \\dots \\alpha_{n}\\rangle}_{\\neq \\alpha} = 0 \\nonumber\n",
    "$$"
   ]
  },
  {
   "cell_type": "markdown",
   "id": "6b396c51",
   "metadata": {
    "editable": true
   },
   "source": [
    "<!-- Equation labels as ordinary links -->\n",
    "<div id=\"eq:2-16a\"></div>\n",
    "\n",
    "$$\n",
    "\\begin{equation} \n",
    "\ta_\\alpha a_\\alpha^{\\dagger} \\underbrace{|\\alpha_1\\alpha_2 \\dots \\alpha_{n}\\rangle}_{\\neq \\alpha} =\n",
    "\ta_\\alpha \\underbrace{|\\alpha \\alpha_1\\alpha_2 \\dots \\alpha_{n}\\rangle}_{\\neq \\alpha} = \n",
    "\t\\underbrace{|\\alpha_1\\alpha_2 \\dots \\alpha_{n}\\rangle}_{\\neq \\alpha} \\label{eq:2-16a} \\tag{20}\n",
    "\\end{equation}\n",
    "$$"
   ]
  },
  {
   "cell_type": "markdown",
   "id": "27654c71",
   "metadata": {
    "editable": true
   },
   "source": [
    "if the single-particle state $\\alpha$ is not contained in the state.\n",
    "\n",
    " If it is present\n",
    "we arrive at"
   ]
  },
  {
   "cell_type": "markdown",
   "id": "05ca13ca",
   "metadata": {
    "editable": true
   },
   "source": [
    "$$\n",
    "a_\\alpha^{\\dagger} a_\\alpha |\\alpha_1\\alpha_2 \\dots \\alpha_{k}\\alpha \\alpha_{k+1} \\dots \\alpha_{n-1}\\rangle =\n",
    "\ta_\\alpha^{\\dagger} a_\\alpha (-1)^k |\\alpha \\alpha_1\\alpha_2 \\dots \\alpha_{n-1}\\rangle \\nonumber\n",
    "$$"
   ]
  },
  {
   "cell_type": "markdown",
   "id": "0e4a88e7",
   "metadata": {
    "editable": true
   },
   "source": [
    "$$\n",
    "= (-1)^k |\\alpha \\alpha_1\\alpha_2 \\dots \\alpha_{n-1}\\rangle =\n",
    "\t|\\alpha_1\\alpha_2 \\dots \\alpha_{k}\\alpha \\alpha_{k+1} \\dots \\alpha_{n-1}\\rangle \\nonumber\n",
    "$$"
   ]
  },
  {
   "cell_type": "markdown",
   "id": "073d6f0d",
   "metadata": {
    "editable": true
   },
   "source": [
    "<!-- Equation labels as ordinary links -->\n",
    "<div id=\"eq:2-16b\"></div>\n",
    "\n",
    "$$\n",
    "\\begin{equation} \n",
    "\ta_\\alpha a_\\alpha^{\\dagger}|\\alpha_1\\alpha_2 \\dots \\alpha_{k}\\alpha \\alpha_{k+1} \\dots \\alpha_{n-1}\\rangle = 0 \\label{eq:2-16b} \\tag{21}\n",
    "\\end{equation}\n",
    "$$"
   ]
  },
  {
   "cell_type": "markdown",
   "id": "1b310982",
   "metadata": {
    "editable": true
   },
   "source": [
    "From Eqs. ([20](#eq:2-16a)) and  ([21](#eq:2-16b)) we arrive at"
   ]
  },
  {
   "cell_type": "markdown",
   "id": "07ef21a8",
   "metadata": {
    "editable": true
   },
   "source": [
    "<!-- Equation labels as ordinary links -->\n",
    "<div id=\"eq:2-17\"></div>\n",
    "\n",
    "$$\n",
    "\\begin{equation}\n",
    "\t\\{a_\\alpha^{\\dagger} , a_\\alpha \\} = a_\\alpha^{\\dagger} a_\\alpha + a_\\alpha a_\\alpha^{\\dagger} = 1 \\label{eq:2-17} \\tag{22}\n",
    "\\end{equation}\n",
    "$$"
   ]
  },
  {
   "cell_type": "markdown",
   "id": "0feda314",
   "metadata": {
    "editable": true
   },
   "source": [
    "The action of $\\left\\{a_\\alpha^{\\dagger}, a_\\beta\\right\\}$, with \n",
    "$\\alpha \\ne \\beta$ on a given state yields three possibilities. \n",
    "The first case is a state vector which contains both $\\alpha$ and $\\beta$, then either \n",
    "$\\alpha$ or $\\beta$ and finally none of them.\n",
    "\n",
    "The first case results in"
   ]
  },
  {
   "cell_type": "markdown",
   "id": "dbf02f7f",
   "metadata": {
    "editable": true
   },
   "source": [
    "$$\n",
    "a_\\alpha^{\\dagger} a_\\beta |\\alpha\\beta\\alpha_1\\alpha_2 \\dots \\alpha_{n-2}\\rangle = 0 \\nonumber\n",
    "$$"
   ]
  },
  {
   "cell_type": "markdown",
   "id": "d3989109",
   "metadata": {
    "editable": true
   },
   "source": [
    "<!-- Equation labels as ordinary links -->\n",
    "<div id=\"eq:2-18a\"></div>\n",
    "\n",
    "$$\n",
    "\\begin{equation} \n",
    "\ta_\\beta a_\\alpha^{\\dagger} |\\alpha\\beta\\alpha_1\\alpha_2 \\dots \\alpha_{n-2}\\rangle = 0 \\label{eq:2-18a} \\tag{23}\n",
    "\\end{equation}\n",
    "$$"
   ]
  },
  {
   "cell_type": "markdown",
   "id": "df175e89",
   "metadata": {
    "editable": true
   },
   "source": [
    "while the second case gives"
   ]
  },
  {
   "cell_type": "markdown",
   "id": "77159ce9",
   "metadata": {
    "editable": true
   },
   "source": [
    "$$\n",
    "a_\\alpha^{\\dagger} a_\\beta |\\beta \\underbrace{\\alpha_1\\alpha_2 \\dots \\alpha_{n-1}}_{\\neq \\alpha}\\rangle = \n",
    "\t \t|\\alpha \\underbrace{\\alpha_1\\alpha_2 \\dots \\alpha_{n-1}}_{\\neq  \\alpha}\\rangle \\nonumber\n",
    "$$"
   ]
  },
  {
   "cell_type": "markdown",
   "id": "9b443be1",
   "metadata": {
    "editable": true
   },
   "source": [
    "$$\n",
    "a_\\beta a_\\alpha^{\\dagger} |\\beta \\underbrace{\\alpha_1\\alpha_2 \\dots \\alpha_{n-1}}_{\\neq \\alpha}\\rangle =\n",
    "\t\ta_\\beta |\\alpha\\beta\\underbrace{\\beta \\alpha_1\\alpha_2 \\dots \\alpha_{n-1}}_{\\neq \\alpha}\\rangle \\nonumber\n",
    "$$"
   ]
  },
  {
   "cell_type": "markdown",
   "id": "ef99cc76",
   "metadata": {
    "editable": true
   },
   "source": [
    "<!-- Equation labels as ordinary links -->\n",
    "<div id=\"eq:2-18b\"></div>\n",
    "\n",
    "$$\n",
    "\\begin{equation} \n",
    "\t= - |\\alpha\\underbrace{\\alpha_1\\alpha_2 \\dots \\alpha_{n-1}}_{\\neq \\alpha}\\rangle \\label{eq:2-18b} \\tag{24}\n",
    "\\end{equation}\n",
    "$$"
   ]
  },
  {
   "cell_type": "markdown",
   "id": "af8b8c50",
   "metadata": {
    "editable": true
   },
   "source": [
    "Finally if the state vector does not contain $\\alpha$ and $\\beta$"
   ]
  },
  {
   "cell_type": "markdown",
   "id": "a64ff99f",
   "metadata": {
    "editable": true
   },
   "source": [
    "$$\n",
    "a_\\alpha^{\\dagger} a_\\beta |\\underbrace{\\alpha_1\\alpha_2 \\dots \\alpha_{n}}_{\\neq \\alpha,\\beta}\\rangle = 0 \\nonumber\n",
    "$$"
   ]
  },
  {
   "cell_type": "markdown",
   "id": "1d6367bd",
   "metadata": {
    "editable": true
   },
   "source": [
    "<!-- Equation labels as ordinary links -->\n",
    "<div id=\"eq:2-18c\"></div>\n",
    "\n",
    "$$\n",
    "\\begin{equation} \n",
    "\ta_\\beta a_\\alpha^{\\dagger} |\\underbrace{\\alpha_1\\alpha_2 \\dots \\alpha_{n}}_{\\neq \\alpha,\\beta}\\rangle = \n",
    "\t\ta_\\beta |\\alpha \\underbrace{\\alpha_1\\alpha_2 \\dots \\alpha_{n}}_{\\neq \\alpha,\\beta}\\rangle = 0 \\label{eq:2-18c} \\tag{25}\n",
    "\\end{equation}\n",
    "$$"
   ]
  },
  {
   "cell_type": "markdown",
   "id": "0492ac0a",
   "metadata": {
    "editable": true
   },
   "source": [
    "For all three cases we have"
   ]
  },
  {
   "cell_type": "markdown",
   "id": "75c99042",
   "metadata": {
    "editable": true
   },
   "source": [
    "<!-- Equation labels as ordinary links -->\n",
    "<div id=\"eq:2-19\"></div>\n",
    "\n",
    "$$\n",
    "\\begin{equation}\n",
    "\t\\{a_\\alpha^{\\dagger},a_\\beta \\} = a_\\alpha^{\\dagger} a_\\beta + a_\\beta a_\\alpha^{\\dagger} = 0, \\quad \\alpha \\neq \\beta \\label{eq:2-19} \\tag{26}\n",
    "\\end{equation}\n",
    "$$"
   ]
  },
  {
   "cell_type": "markdown",
   "id": "9b118785",
   "metadata": {
    "editable": true
   },
   "source": [
    "We can summarize  our findings in Eqs. ([22](#eq:2-17)) and ([26](#eq:2-19)) as"
   ]
  },
  {
   "cell_type": "markdown",
   "id": "65c39538",
   "metadata": {
    "editable": true
   },
   "source": [
    "<!-- Equation labels as ordinary links -->\n",
    "<div id=\"eq:2-20\"></div>\n",
    "\n",
    "$$\n",
    "\\begin{equation}\n",
    "\t\\{a_\\alpha^{\\dagger},a_\\beta \\} = \\delta_{\\alpha\\beta} \\label{eq:2-20} \\tag{27}\n",
    "\\end{equation}\n",
    "$$"
   ]
  },
  {
   "cell_type": "markdown",
   "id": "8c1bd676",
   "metadata": {
    "editable": true
   },
   "source": [
    "with  $\\delta_{\\alpha\\beta}$ is the Kroenecker $\\delta$-symbol.\n",
    "\n",
    "The properties of the creation and annihilation operators can be summarized as (for fermions)"
   ]
  },
  {
   "cell_type": "markdown",
   "id": "b535b332",
   "metadata": {
    "editable": true
   },
   "source": [
    "$$\n",
    "a_\\alpha^{\\dagger}|0\\rangle \\equiv  |\\alpha\\rangle,\n",
    "$$"
   ]
  },
  {
   "cell_type": "markdown",
   "id": "acc19eaa",
   "metadata": {
    "editable": true
   },
   "source": [
    "and"
   ]
  },
  {
   "cell_type": "markdown",
   "id": "5349fd36",
   "metadata": {
    "editable": true
   },
   "source": [
    "$$\n",
    "a_\\alpha^{\\dagger}|\\alpha_1\\dots \\alpha_n\\rangle_{\\mathrm{AS}} \\equiv  |\\alpha\\alpha_1\\dots \\alpha_n\\rangle_{\\mathrm{AS}}.\n",
    "$$"
   ]
  },
  {
   "cell_type": "markdown",
   "id": "30f94462",
   "metadata": {
    "editable": true
   },
   "source": [
    "from which follows"
   ]
  },
  {
   "cell_type": "markdown",
   "id": "b885f144",
   "metadata": {
    "editable": true
   },
   "source": [
    "$$\n",
    "|\\alpha_1\\dots \\alpha_n\\rangle_{\\mathrm{AS}} = a_{\\alpha_1}^{\\dagger} a_{\\alpha_2}^{\\dagger} \\dots a_{\\alpha_n}^{\\dagger} |0\\rangle.\n",
    "$$"
   ]
  },
  {
   "cell_type": "markdown",
   "id": "0eea2d2f",
   "metadata": {
    "editable": true
   },
   "source": [
    "The hermitian conjugate has the folowing properties"
   ]
  },
  {
   "cell_type": "markdown",
   "id": "a7927927",
   "metadata": {
    "editable": true
   },
   "source": [
    "$$\n",
    "a_{\\alpha} = ( a_{\\alpha}^{\\dagger} )^{\\dagger}.\n",
    "$$"
   ]
  },
  {
   "cell_type": "markdown",
   "id": "ee2f1f0b",
   "metadata": {
    "editable": true
   },
   "source": [
    "Finally we found"
   ]
  },
  {
   "cell_type": "markdown",
   "id": "cdfda638",
   "metadata": {
    "editable": true
   },
   "source": [
    "$$\n",
    "a_\\alpha\\underbrace{|\\alpha_1'\\alpha_2' \\dots \\alpha_{n+1}'}\\rangle_{\\neq \\alpha} = 0, \\quad\n",
    "\t\t\\textrm{in particular } a_\\alpha |0\\rangle = 0,\n",
    "$$"
   ]
  },
  {
   "cell_type": "markdown",
   "id": "7a12168a",
   "metadata": {
    "editable": true
   },
   "source": [
    "and"
   ]
  },
  {
   "cell_type": "markdown",
   "id": "a643c95a",
   "metadata": {
    "editable": true
   },
   "source": [
    "$$\n",
    "a_\\alpha |\\alpha\\alpha_1\\alpha_2 \\dots \\alpha_{n}\\rangle = |\\alpha_1\\alpha_2 \\dots \\alpha_{n}\\rangle,\n",
    "$$"
   ]
  },
  {
   "cell_type": "markdown",
   "id": "c939459c",
   "metadata": {
    "editable": true
   },
   "source": [
    "and the corresponding commutator algebra"
   ]
  },
  {
   "cell_type": "markdown",
   "id": "e6d5e648",
   "metadata": {
    "editable": true
   },
   "source": [
    "$$\n",
    "\\{a_{\\alpha}^{\\dagger},a_{\\beta}^{\\dagger}\\} = \\{a_{\\alpha},a_{\\beta}\\} = 0 \\hspace{0.5cm} \n",
    "\\{a_\\alpha^{\\dagger},a_\\beta \\} = \\delta_{\\alpha\\beta}.\n",
    "$$"
   ]
  },
  {
   "cell_type": "markdown",
   "id": "aed052bd",
   "metadata": {
    "editable": true
   },
   "source": [
    "## Exercise 1: Expectation values and wave function Ansatzes\n",
    "\n",
    "Consider the fermion Slater determinant as ansatz for a quantum mechanical state function,"
   ]
  },
  {
   "cell_type": "markdown",
   "id": "ce9a0b42",
   "metadata": {
    "editable": true
   },
   "source": [
    "$$\n",
    "\\Phi_{\\lambda}^{AS}(x_{1}x_{2}\\dots x_{N};\\alpha_{1}\\alpha_{2}\\dots\\alpha_{N})=\\frac{1}{\\sqrt{N!}}\\sum_{p}(-)^{p}P\\prod_{i=1}^{N}\\psi_{\\alpha_{i}}(x_{i}).\n",
    "$$"
   ]
  },
  {
   "cell_type": "markdown",
   "id": "4b94633a",
   "metadata": {
    "editable": true
   },
   "source": [
    "where $P$ is an operator which permutes the coordinates of two\n",
    "particles. It acts on pairs of particles. We have assumed here that\n",
    "the number of particles is the same as the number of available\n",
    "single-particle states, represented by the greek letters\n",
    "$\\alpha_{1}\\alpha_{2}\\dots\\alpha_{N}$.  We assume that the\n",
    "single-particle basis $\\psi_{\\alpha_{i}}(x_{i})$ is a so-called\n",
    "orthonormal basis."
   ]
  },
  {
   "cell_type": "markdown",
   "id": "805d04f0",
   "metadata": {
    "editable": true
   },
   "source": [
    "**a)**\n",
    "Write  out $\\Phi^{AS}$ for $N=3$."
   ]
  },
  {
   "cell_type": "markdown",
   "id": "359503fa",
   "metadata": {
    "editable": true
   },
   "source": [
    "**b)**\n",
    "Show that"
   ]
  },
  {
   "cell_type": "markdown",
   "id": "3650d182",
   "metadata": {
    "editable": true
   },
   "source": [
    "$$\n",
    "\\int dx_{1}dx_{2}\\dots dx_{N}\\left\\vert\n",
    "\\Phi_{\\lambda}^{AS}(x_{1}x_{2}\\dots x_{N};\\alpha_{1}\\alpha_{2}\\dots\\alpha_{N})\\right\\vert^{2} = 1.\n",
    "$$"
   ]
  },
  {
   "cell_type": "markdown",
   "id": "9562d995",
   "metadata": {
    "editable": true
   },
   "source": [
    "**c)**\n",
    "Define a general onebody operator $\\hat{F} = \\sum_{i}^N\\hat{f}(x_{i})$ and a general \n",
    "twobody operator $\\hat{G}=\\sum_{i>j}^N\\hat{g}(x_{i},x_{j})$\n",
    "with $g$ being invariant under the interchange of the coordinates of particles $i$ and $j$.\n",
    "Calculate the matrix elements for a two-particle Slater determinant"
   ]
  },
  {
   "cell_type": "markdown",
   "id": "d68e5e02",
   "metadata": {
    "editable": true
   },
   "source": [
    "$$\n",
    "\\bra{\\Phi_{\\alpha_{1}\\alpha_{2}}^{AS}}\\hat{F}\\ket{\\Phi_{\\alpha_{1}\\alpha_{2}}^{AS}},\n",
    "$$"
   ]
  },
  {
   "cell_type": "markdown",
   "id": "1d4493c6",
   "metadata": {
    "editable": true
   },
   "source": [
    "and"
   ]
  },
  {
   "cell_type": "markdown",
   "id": "a277d4bf",
   "metadata": {
    "editable": true
   },
   "source": [
    "$$\n",
    "\\bra{\\Phi_{\\alpha_{1}\\alpha_{2}}^{AS}}\\hat{G}\\ket{\\Phi_{\\alpha_{1}\\alpha_{2}}^{AS}}.\n",
    "$$"
   ]
  },
  {
   "cell_type": "markdown",
   "id": "716a4ea3",
   "metadata": {
    "editable": true
   },
   "source": [
    "Which properties do you expect these operators to have in addition to an eventual permutation\n",
    "symmetry?"
   ]
  },
  {
   "cell_type": "markdown",
   "id": "781a2fef",
   "metadata": {
    "editable": true
   },
   "source": [
    "## Exercise 2: first many-body example\n",
    "\n",
    "We will now consider a simple three-level problem, depicted in the\n",
    "figure below. This is our first and very simple model of a possible\n",
    "many-fermion problem and what we later will call full configuration\n",
    "interaction theory (dubbed FCI).  We will assume the particles are\n",
    "fermions.  The single-particle states are labelled by the quantum\n",
    "number $p$ and can accomodate up to two single particles, viz., every\n",
    "single-particle state is doubly degenerate (you could think of this as\n",
    "one state having spin up and the other spin down).  We let the spacing\n",
    "between the doubly degenerate single-particle states be constant, with\n",
    "value $d$.  The first state has energy $d$. There are only three\n",
    "available single-particle states, $p=1$, $p=2$ and $p=3$, as\n",
    "illustrated in the figure."
   ]
  },
  {
   "cell_type": "markdown",
   "id": "a1d3bfe8",
   "metadata": {
    "editable": true
   },
   "source": [
    "**a)**\n",
    "How many two-particle Slater determinants can we construct in this space?"
   ]
  },
  {
   "cell_type": "markdown",
   "id": "342a5cf6",
   "metadata": {
    "editable": true
   },
   "source": [
    "**b)**\n",
    "We limit ourselves to a system with only the two lowest single-particle orbits and two particles, $p=1$ and $p=2$."
   ]
  },
  {
   "cell_type": "markdown",
   "id": "dd67dc9d",
   "metadata": {
    "editable": true
   },
   "source": [
    "**c)**\n",
    "We assume that we can write the Hamiltonian as"
   ]
  },
  {
   "cell_type": "markdown",
   "id": "fd6f0a0f",
   "metadata": {
    "editable": true
   },
   "source": [
    "$$\n",
    "\\hat{H}=\\hat{H}_0+\\hat{H}_I,\n",
    "$$"
   ]
  },
  {
   "cell_type": "markdown",
   "id": "9be216ce",
   "metadata": {
    "editable": true
   },
   "source": [
    "and that the onebody part of the Hamiltonian with single-particle operator $\\hat{h}_0$ has the property"
   ]
  },
  {
   "cell_type": "markdown",
   "id": "55a22e78",
   "metadata": {
    "editable": true
   },
   "source": [
    "$$\n",
    "\\hat{h}_0\\psi_{p\\sigma} = p\\times d \\psi_{p\\sigma},\n",
    "$$"
   ]
  },
  {
   "cell_type": "markdown",
   "id": "118ce175",
   "metadata": {
    "editable": true
   },
   "source": [
    "where we have added a spin quantum number $\\sigma$. \n",
    "We assume also that the only two-particle states that can exist are those where two particles are in the \n",
    "same state $p$, as shown by the two possibilities to the left in the figure.\n",
    "The two-particle matrix elements of $\\hat{H}_I$ have all a constant value, $-g$.\n",
    "Show then that the Hamiltonian matrix can be written as"
   ]
  },
  {
   "cell_type": "markdown",
   "id": "9b82adc4",
   "metadata": {
    "editable": true
   },
   "source": [
    "$$\n",
    "\\left(\\begin{array}{cc}2d-g &-g \\\\\n",
    "-g &4d-g \\end{array}\\right),\n",
    "$$"
   ]
  },
  {
   "cell_type": "markdown",
   "id": "50da29fd",
   "metadata": {
    "editable": true
   },
   "source": [
    "and find the eigenvalues and eigenvectors.  What is the mixing of the state with two particles in $p=2$ \n",
    "to the wave function with two-particles in $p=1$? Discuss your results in terms of a linear combination\n",
    "of Slater determinants.\n",
    "\n",
    "Add the possibility that the two particles can be in the state with\n",
    "$p=3$ as well and find the Hamiltonian matrix, the eigenvalues and the\n",
    "eigenvectors. We still insist that we only have two-particle states\n",
    "composed of two particles being in the same level $p$. You can\n",
    "diagonalize numerically your $3\\times 3$ matrix.\n",
    "\n",
    "This\n",
    "simple model catches several birds with a stone. It demonstrates how\n",
    "we can build linear combinations of Slater determinants and interpret\n",
    "these as different admixtures to a given state. It represents also the\n",
    "way we are going to interpret these contributions.  The two-particle\n",
    "states above $p=1$ will be interpreted as excitations from the ground\n",
    "state configuration, $p=1$ here.  The reliability of this ansatz for\n",
    "the ground state, with two particles in $p=1$, depends on the strength\n",
    "of the interaction $g$ and the single-particle spacing $d$.  Finally,\n",
    "this model is a simple schematic ansatz for studies of pairing\n",
    "correlations and thereby superfluidity/superconductivity in fermionic\n",
    "systems."
   ]
  }
 ],
 "metadata": {},
 "nbformat": 4,
 "nbformat_minor": 5
}
