{
 "cells": [
  {
   "cell_type": "markdown",
   "id": "f7cdc789",
   "metadata": {
    "editable": true
   },
   "source": [
    "<!-- HTML file automatically generated from DocOnce source (https://github.com/doconce/doconce/)\n",
    "doconce format html week35.do.txt --no_mako -->\n",
    "<!-- dom:TITLE: Week 35: Ansatzes for fermions and bosons and second quantization -->"
   ]
  },
  {
   "cell_type": "markdown",
   "id": "61867425",
   "metadata": {
    "editable": true
   },
   "source": [
    "# Week 35: Ansatzes for fermions and bosons and second quantization\n",
    "**Morten Hjorth-Jensen**, Department of Physics and Center for Computing in Science Education, University of Oslo, Norway\n",
    "\n",
    "Date: **Week 35, August 25-29**"
   ]
  },
  {
   "cell_type": "markdown",
   "id": "31c63e35",
   "metadata": {
    "editable": true
   },
   "source": [
    "## Week 35\n",
    "\n",
    "* Topics to be covered\n",
    "\n",
    "a. Thursday: Fermion and Boson state functions and computation of expectation values in first quantization, continuation from last week (see slides from last week)\n",
    "\n",
    "b. Video of lecture at <https://youtu.be/ND3nkwTq_w0>\n",
    "\n",
    "c. Whiteboard notes at <https://github.com/ManyBodyPhysics/FYS4480/blob/master/doc/HandwrittenNotes/2025/FYS4480August29.pdf>\n",
    "\n",
    "d. Friday: Second quantization\n",
    "<!-- o Video of lecture at TBA <https://youtu.be/qOTrTLAy6KU> -->\n",
    "<!-- o Whiteboard notes at <https://github.com/ManyBodyPhysics/FYS4480/blob/master/doc/HandwrittenNotes/2024/NotesAugust30.pdf> -->\n",
    "\n",
    "* Lecture Material: These slides, slides from week 34  and Szabo and Ostlund chapters 1 and 2.\n",
    "\n",
    "* [Second exercise set](https://github.com/ManyBodyPhysics/FYS4480/blob/master/doc/Exercises/2025/ExercisesWeek35.pdf)"
   ]
  },
  {
   "cell_type": "markdown",
   "id": "55e272c2",
   "metadata": {
    "editable": true
   },
   "source": [
    "## Definitions and second quantization\n",
    "\n",
    "We introduce the time-independent  operators\n",
    "$a_\\alpha^{\\dagger}$ and $a_\\alpha$   which create and annihilate, respectively, a particle \n",
    "in the single-particle state \n",
    "$\\varphi_\\alpha$. \n",
    "We define the fermion creation operator\n",
    "$a_\\alpha^{\\dagger}$"
   ]
  },
  {
   "cell_type": "markdown",
   "id": "653d4a6d",
   "metadata": {
    "editable": true
   },
   "source": [
    "<!-- Equation labels as ordinary links -->\n",
    "<div id=\"eq:2-1a\"></div>\n",
    "\n",
    "$$\n",
    "\\begin{equation}\n",
    "\ta_\\alpha^{\\dagger}|0\\rangle \\equiv  |\\alpha\\rangle  \\label{eq:2-1a} \\tag{1},\n",
    "\\end{equation}\n",
    "$$"
   ]
  },
  {
   "cell_type": "markdown",
   "id": "bdae9e31",
   "metadata": {
    "editable": true
   },
   "source": [
    "and"
   ]
  },
  {
   "cell_type": "markdown",
   "id": "4443f70c",
   "metadata": {
    "editable": true
   },
   "source": [
    "<!-- Equation labels as ordinary links -->\n",
    "<div id=\"eq:2-1b\"></div>\n",
    "\n",
    "$$\n",
    "\\begin{equation}\n",
    "\ta_\\alpha^{\\dagger}|\\alpha_1\\dots \\alpha_n\\rangle_{\\mathrm{AS}} \\equiv  |\\alpha\\alpha_1\\dots \\alpha_n\\rangle_{\\mathrm{AS}} \\label{eq:2-1b} \\tag{2}\n",
    "\\end{equation}\n",
    "$$"
   ]
  },
  {
   "cell_type": "markdown",
   "id": "e01c9eb9",
   "metadata": {
    "editable": true
   },
   "source": [
    "## Second quantization\n",
    "\n",
    "In Eq. ([1](#eq:2-1a)) \n",
    "the operator  $a_\\alpha^{\\dagger}$  acts on the vacuum state \n",
    "$|0\\rangle$, which does not contain any particles. Alternatively, we could define  a closed-shell nucleus or atom as our new vacuum, but then\n",
    "we need to introduce the particle-hole  formalism, see the discussion to come. \n",
    "\n",
    "In Eq. ([2](#eq:2-1b)) $a_\\alpha^{\\dagger}$ acts on an antisymmetric $n$-particle state and \n",
    "creates an antisymmetric $(n+1)$-particle state, where the one-body state \n",
    "$\\varphi_\\alpha$ is occupied, under the condition that\n",
    "$\\alpha \\ne \\alpha_1, \\alpha_2, \\dots, \\alpha_n$. \n",
    "It follows that we can express an antisymmetric state as the product of the creation\n",
    "operators acting on the vacuum state."
   ]
  },
  {
   "cell_type": "markdown",
   "id": "fa4a49b0",
   "metadata": {
    "editable": true
   },
   "source": [
    "<!-- Equation labels as ordinary links -->\n",
    "<div id=\"eq:2-2\"></div>\n",
    "\n",
    "$$\n",
    "\\begin{equation}\n",
    "\t|\\alpha_1\\dots \\alpha_n\\rangle_{\\mathrm{AS}} = a_{\\alpha_1}^{\\dagger} a_{\\alpha_2}^{\\dagger} \\dots a_{\\alpha_n}^{\\dagger} |0\\rangle \\label{eq:2-2} \\tag{3}\n",
    "\\end{equation}\n",
    "$$"
   ]
  },
  {
   "cell_type": "markdown",
   "id": "4dfdfb99",
   "metadata": {
    "editable": true
   },
   "source": [
    "## Commutation rules\n",
    "\n",
    "It is easy to derive the commutation and anticommutation rules  for the fermionic creation operators \n",
    "$a_\\alpha^{\\dagger}$. Using the antisymmetry of the states \n",
    "([3](#eq:2-2))"
   ]
  },
  {
   "cell_type": "markdown",
   "id": "a2531833",
   "metadata": {
    "editable": true
   },
   "source": [
    "<!-- Equation labels as ordinary links -->\n",
    "<div id=\"eq:2-3a\"></div>\n",
    "\n",
    "$$\n",
    "\\begin{equation}\n",
    "\t|\\alpha_1\\dots \\alpha_i\\dots \\alpha_k\\dots \\alpha_n\\rangle_{\\mathrm{AS}} = \n",
    "\t\t- |\\alpha_1\\dots \\alpha_k\\dots \\alpha_i\\dots \\alpha_n\\rangle_{\\mathrm{AS}} \\label{eq:2-3a} \\tag{4}\n",
    "\\end{equation}\n",
    "$$"
   ]
  },
  {
   "cell_type": "markdown",
   "id": "9829af60",
   "metadata": {
    "editable": true
   },
   "source": [
    "we obtain"
   ]
  },
  {
   "cell_type": "markdown",
   "id": "f247e26c",
   "metadata": {
    "editable": true
   },
   "source": [
    "<!-- Equation labels as ordinary links -->\n",
    "<div id=\"eq:2-3b\"></div>\n",
    "\n",
    "$$\n",
    "\\begin{equation}\n",
    "\t a_{\\alpha_i}^{\\dagger}  a_{\\alpha_k}^{\\dagger} = - a_{\\alpha_k}^{\\dagger} a_{\\alpha_i}^{\\dagger} \\label{eq:2-3b} \\tag{5}\n",
    "\\end{equation}\n",
    "$$"
   ]
  },
  {
   "cell_type": "markdown",
   "id": "394b8bdb",
   "metadata": {
    "editable": true
   },
   "source": [
    "## More on commutation rules\n",
    "\n",
    "Using the Pauli principle"
   ]
  },
  {
   "cell_type": "markdown",
   "id": "0c9912b6",
   "metadata": {
    "editable": true
   },
   "source": [
    "<!-- Equation labels as ordinary links -->\n",
    "<div id=\"eq:2-4a\"></div>\n",
    "\n",
    "$$\n",
    "\\begin{equation}\n",
    "\t|\\alpha_1\\dots \\alpha_i\\dots \\alpha_i\\dots \\alpha_n\\rangle_{\\mathrm{AS}} = 0 \\label{eq:2-4a} \\tag{6}\n",
    "\\end{equation}\n",
    "$$"
   ]
  },
  {
   "cell_type": "markdown",
   "id": "c4092727",
   "metadata": {
    "editable": true
   },
   "source": [
    "it follows that"
   ]
  },
  {
   "cell_type": "markdown",
   "id": "2e02dca1",
   "metadata": {
    "editable": true
   },
   "source": [
    "<!-- Equation labels as ordinary links -->\n",
    "<div id=\"eq:2-4b\"></div>\n",
    "\n",
    "$$\n",
    "\\begin{equation}\n",
    "\ta_{\\alpha_i}^{\\dagger}  a_{\\alpha_i}^{\\dagger} = 0. \\label{eq:2-4b} \\tag{7}\n",
    "\\end{equation}\n",
    "$$"
   ]
  },
  {
   "cell_type": "markdown",
   "id": "87375680",
   "metadata": {
    "editable": true
   },
   "source": [
    "If we combine Eqs. ([5](#eq:2-3b)) and ([7](#eq:2-4b)), we obtain the well-known anti-commutation rule"
   ]
  },
  {
   "cell_type": "markdown",
   "id": "7de4074e",
   "metadata": {
    "editable": true
   },
   "source": [
    "<!-- Equation labels as ordinary links -->\n",
    "<div id=\"eq:2-5\"></div>\n",
    "\n",
    "$$\n",
    "\\begin{equation}\n",
    "\ta_{\\alpha}^{\\dagger}  a_{\\beta}^{\\dagger} + a_{\\beta}^{\\dagger}  a_{\\alpha}^{\\dagger} \\equiv \n",
    "\t\t\\{a_{\\alpha}^{\\dagger},a_{\\beta}^{\\dagger}\\} = 0 \\label{eq:2-5} \\tag{8}\n",
    "\\end{equation}\n",
    "$$"
   ]
  },
  {
   "cell_type": "markdown",
   "id": "a1e326a8",
   "metadata": {
    "editable": true
   },
   "source": [
    "## Hermitian conjugate\n",
    "\n",
    "The hermitian conjugate  of $a_\\alpha^{\\dagger}$ is"
   ]
  },
  {
   "cell_type": "markdown",
   "id": "dd3a8f8e",
   "metadata": {
    "editable": true
   },
   "source": [
    "<!-- Equation labels as ordinary links -->\n",
    "<div id=\"eq:2-6\"></div>\n",
    "\n",
    "$$\n",
    "\\begin{equation}\n",
    "\ta_{\\alpha} = ( a_{\\alpha}^{\\dagger} )^{\\dagger} \\label{eq:2-6} \\tag{9}\n",
    "\\end{equation}\n",
    "$$"
   ]
  },
  {
   "cell_type": "markdown",
   "id": "d4b6aa46",
   "metadata": {
    "editable": true
   },
   "source": [
    "If we take the hermitian conjugate of Eq. ([8](#eq:2-5)), we arrive at"
   ]
  },
  {
   "cell_type": "markdown",
   "id": "e0b6dc70",
   "metadata": {
    "editable": true
   },
   "source": [
    "<!-- Equation labels as ordinary links -->\n",
    "<div id=\"eq:2-7\"></div>\n",
    "\n",
    "$$\n",
    "\\begin{equation}\n",
    "\t\\{a_{\\alpha},a_{\\beta}\\} = 0 \\label{eq:2-7} \\tag{10}\n",
    "\\end{equation}\n",
    "$$"
   ]
  },
  {
   "cell_type": "markdown",
   "id": "7a593345",
   "metadata": {
    "editable": true
   },
   "source": [
    "## Physical interpretation\n",
    "\n",
    "What is the physical interpretation of the operator $a_\\alpha$ and what is the effect of \n",
    "$a_\\alpha$ on a given state $|\\alpha_1\\alpha_2\\dots\\alpha_n\\rangle_{\\mathrm{AS}}$? \n",
    "Consider the following matrix element"
   ]
  },
  {
   "cell_type": "markdown",
   "id": "be2b0a92",
   "metadata": {
    "editable": true
   },
   "source": [
    "<!-- Equation labels as ordinary links -->\n",
    "<div id=\"eq:2-8\"></div>\n",
    "\n",
    "$$\n",
    "\\begin{equation}\n",
    "\t\\langle\\alpha_1\\alpha_2 \\dots \\alpha_n|a_\\alpha|\\alpha_1'\\alpha_2' \\dots \\alpha_m'\\rangle \\label{eq:2-8} \\tag{11}\n",
    "\\end{equation}\n",
    "$$"
   ]
  },
  {
   "cell_type": "markdown",
   "id": "48f5f759",
   "metadata": {
    "editable": true
   },
   "source": [
    "where both sides are antisymmetric."
   ]
  },
  {
   "cell_type": "markdown",
   "id": "030a01e9",
   "metadata": {
    "editable": true
   },
   "source": [
    "## Two specific cases\n",
    "We  distinguish between two cases. The first (1) is when\n",
    "$\\alpha \\in \\{\\alpha_i\\}$. Using the Pauli principle of Eq. ([6](#eq:2-4a)) it follows"
   ]
  },
  {
   "cell_type": "markdown",
   "id": "8d03ff40",
   "metadata": {
    "editable": true
   },
   "source": [
    "<!-- Equation labels as ordinary links -->\n",
    "<div id=\"eq:2-9a\"></div>\n",
    "\n",
    "$$\n",
    "\\begin{equation}\n",
    "\t\t\\langle\\alpha_1\\alpha_2 \\dots \\alpha_n|a_\\alpha = 0 \\label{eq:2-9a} \\tag{12}\n",
    "\\end{equation}\n",
    "$$"
   ]
  },
  {
   "cell_type": "markdown",
   "id": "c9c5bc58",
   "metadata": {
    "editable": true
   },
   "source": [
    "The second (2) case is when $\\alpha \\notin \\{\\alpha_i\\}$. It follows that an hermitian conjugation"
   ]
  },
  {
   "cell_type": "markdown",
   "id": "29bdea1c",
   "metadata": {
    "editable": true
   },
   "source": [
    "<!-- Equation labels as ordinary links -->\n",
    "<div id=\"eq:2-9b\"></div>\n",
    "\n",
    "$$\n",
    "\\begin{equation}\n",
    "\t\t\\langle \\alpha_1\\alpha_2 \\dots \\alpha_n|a_\\alpha = \\langle\\alpha\\alpha_1\\alpha_2 \\dots \\alpha_n|  \\label{eq:2-9b} \\tag{13}\n",
    "\\end{equation}\n",
    "$$"
   ]
  },
  {
   "cell_type": "markdown",
   "id": "3734604e",
   "metadata": {
    "editable": true
   },
   "source": [
    "## More derivations\n",
    "Eq. ([13](#eq:2-9b)) holds for case (1) since the lefthand side is zero due to the Pauli principle. We write\n",
    "Eq. ([11](#eq:2-8)) as"
   ]
  },
  {
   "cell_type": "markdown",
   "id": "99031530",
   "metadata": {
    "editable": true
   },
   "source": [
    "<!-- Equation labels as ordinary links -->\n",
    "<div id=\"eq:2-10\"></div>\n",
    "\n",
    "$$\n",
    "\\begin{equation}\n",
    "\t\\langle\\alpha_1\\alpha_2 \\dots \\alpha_n|a_\\alpha|\\alpha_1'\\alpha_2' \\dots \\alpha_m'\\rangle = \n",
    "\t\\langle \\alpha_1\\alpha_2 \\dots \\alpha_n|\\alpha\\alpha_1'\\alpha_2' \\dots \\alpha_m'\\rangle \\label{eq:2-10} \\tag{14}\n",
    "\\end{equation}\n",
    "$$"
   ]
  },
  {
   "cell_type": "markdown",
   "id": "ec2323b2",
   "metadata": {
    "editable": true
   },
   "source": [
    "Here we must have $m = n+1$ if Eq. ([14](#eq:2-10)) has to be trivially different from zero."
   ]
  },
  {
   "cell_type": "markdown",
   "id": "5ed7f176",
   "metadata": {
    "editable": true
   },
   "source": [
    "## Even and odd permutations\n",
    "\n",
    "For the last case, the minus and plus signs apply when the sequence \n",
    "$\\alpha ,\\alpha_1, \\alpha_2, \\dots, \\alpha_n$ and \n",
    "$\\alpha_1', \\alpha_2', \\dots, \\alpha_{n+1}'$ are related to each other via even and odd permutations.\n",
    "If we assume that  $\\alpha \\notin \\{\\alpha_i\\}$ we obtain"
   ]
  },
  {
   "cell_type": "markdown",
   "id": "3dd8e54f",
   "metadata": {
    "editable": true
   },
   "source": [
    "<!-- Equation labels as ordinary links -->\n",
    "<div id=\"eq:2-12\"></div>\n",
    "\n",
    "$$\n",
    "\\begin{equation}\n",
    "\t\\langle\\alpha_1\\alpha_2 \\dots \\alpha_n|a_\\alpha|\\alpha_1'\\alpha_2' \\dots \\alpha_{n+1}'\\rangle = 0 \\label{eq:2-12} \\tag{15}\n",
    "\\end{equation}\n",
    "$$"
   ]
  },
  {
   "cell_type": "markdown",
   "id": "8ce73349",
   "metadata": {
    "editable": true
   },
   "source": [
    "when $\\alpha \\in \\{\\alpha_i'\\}$. If $\\alpha \\notin \\{\\alpha_i'\\}$, we obtain"
   ]
  },
  {
   "cell_type": "markdown",
   "id": "010be610",
   "metadata": {
    "editable": true
   },
   "source": [
    "<!-- Equation labels as ordinary links -->\n",
    "<div id=\"eq:2-13a\"></div>\n",
    "\n",
    "$$\n",
    "\\begin{equation}\n",
    "\ta_\\alpha\\underbrace{|\\alpha_1'\\alpha_2' \\dots \\alpha_{n+1}'}\\rangle_{\\neq \\alpha} = 0 \\label{eq:2-13a} \\tag{16}\n",
    "\\end{equation}\n",
    "$$"
   ]
  },
  {
   "cell_type": "markdown",
   "id": "06c94cf1",
   "metadata": {
    "editable": true
   },
   "source": [
    "and in particular"
   ]
  },
  {
   "cell_type": "markdown",
   "id": "5311b28f",
   "metadata": {
    "editable": true
   },
   "source": [
    "<!-- Equation labels as ordinary links -->\n",
    "<div id=\"eq:2-13b\"></div>\n",
    "\n",
    "$$\n",
    "\\begin{equation}\n",
    "\ta_\\alpha |0\\rangle = 0 \\label{eq:2-13b} \\tag{17}\n",
    "\\end{equation}\n",
    "$$"
   ]
  },
  {
   "cell_type": "markdown",
   "id": "fde599da",
   "metadata": {
    "editable": true
   },
   "source": [
    "## Even and odd permutations\n",
    "\n",
    "If $\\{\\alpha\\alpha_i\\} = \\{\\alpha_i'\\}$, performing the right permutations, the sequence\n",
    "$\\alpha ,\\alpha_1, \\alpha_2, \\dots, \\alpha_n$ is identical with the sequence\n",
    "$\\alpha_1', \\alpha_2', \\dots, \\alpha_{n+1}'$. This results in"
   ]
  },
  {
   "cell_type": "markdown",
   "id": "0cb3013e",
   "metadata": {
    "editable": true
   },
   "source": [
    "<!-- Equation labels as ordinary links -->\n",
    "<div id=\"eq:2-14\"></div>\n",
    "\n",
    "$$\n",
    "\\begin{equation}\n",
    "\t\\langle\\alpha_1\\alpha_2 \\dots \\alpha_n|a_\\alpha|\\alpha\\alpha_1\\alpha_2 \\dots \\alpha_{n}\\rangle = 1 \\label{eq:2-14} \\tag{18}\n",
    "\\end{equation}\n",
    "$$"
   ]
  },
  {
   "cell_type": "markdown",
   "id": "7ca46efb",
   "metadata": {
    "editable": true
   },
   "source": [
    "and thus"
   ]
  },
  {
   "cell_type": "markdown",
   "id": "a026af23",
   "metadata": {
    "editable": true
   },
   "source": [
    "<!-- Equation labels as ordinary links -->\n",
    "<div id=\"eq:2-15\"></div>\n",
    "\n",
    "$$\n",
    "\\begin{equation}\n",
    "\ta_\\alpha |\\alpha\\alpha_1\\alpha_2 \\dots \\alpha_{n}\\rangle = |\\alpha_1\\alpha_2 \\dots \\alpha_{n}\\rangle \\label{eq:2-15} \\tag{19}\n",
    "\\end{equation}\n",
    "$$"
   ]
  },
  {
   "cell_type": "markdown",
   "id": "0df913a3",
   "metadata": {
    "editable": true
   },
   "source": [
    "## Annihilation operators\n",
    "\n",
    "The action of the operator \n",
    "$a_\\alpha$ from the left on a state vector  is to to remove  one particle in the state\n",
    "$\\alpha$. \n",
    "If the state vector does not contain the single-particle state $\\alpha$, the outcome of the operation is zero.\n",
    "The operator  $a_\\alpha$ is normally called for a destruction or annihilation operator.\n",
    "\n",
    "The next step is to establish the  commutator algebra of $a_\\alpha^{\\dagger}$ and\n",
    "$a_\\beta$."
   ]
  },
  {
   "cell_type": "markdown",
   "id": "5e9c8a1f",
   "metadata": {
    "editable": true
   },
   "source": [
    "## Action of anti-commutator\n",
    "\n",
    "The action of the anti-commutator \n",
    "$\\{a_\\alpha^{\\dagger}$,$a_\\alpha\\}$ on a given $n$-particle state is"
   ]
  },
  {
   "cell_type": "markdown",
   "id": "46aecb04",
   "metadata": {
    "editable": true
   },
   "source": [
    "$$\n",
    "a_\\alpha^{\\dagger} a_\\alpha \\underbrace{|\\alpha_1\\alpha_2 \\dots \\alpha_{n}\\rangle}_{\\neq \\alpha} = 0 \\nonumber\n",
    "$$"
   ]
  },
  {
   "cell_type": "markdown",
   "id": "418446c7",
   "metadata": {
    "editable": true
   },
   "source": [
    "<!-- Equation labels as ordinary links -->\n",
    "<div id=\"eq:2-16a\"></div>\n",
    "\n",
    "$$\n",
    "\\begin{equation} \n",
    "\ta_\\alpha a_\\alpha^{\\dagger} \\underbrace{|\\alpha_1\\alpha_2 \\dots \\alpha_{n}\\rangle}_{\\neq \\alpha} =\n",
    "\ta_\\alpha \\underbrace{|\\alpha \\alpha_1\\alpha_2 \\dots \\alpha_{n}\\rangle}_{\\neq \\alpha} = \n",
    "\t\\underbrace{|\\alpha_1\\alpha_2 \\dots \\alpha_{n}\\rangle}_{\\neq \\alpha} \\label{eq:2-16a} \\tag{20}\n",
    "\\end{equation}\n",
    "$$"
   ]
  },
  {
   "cell_type": "markdown",
   "id": "8f93bd73",
   "metadata": {
    "editable": true
   },
   "source": [
    "if the single-particle state $\\alpha$ is not contained in the state."
   ]
  },
  {
   "cell_type": "markdown",
   "id": "140ac9cd",
   "metadata": {
    "editable": true
   },
   "source": [
    "## Anti-commutation rule for Fermions\n",
    "\n",
    " If it is present\n",
    "we arrive at"
   ]
  },
  {
   "cell_type": "markdown",
   "id": "a44843b1",
   "metadata": {
    "editable": true
   },
   "source": [
    "$$\n",
    "a_\\alpha^{\\dagger} a_\\alpha |\\alpha_1\\alpha_2 \\dots \\alpha_{k}\\alpha \\alpha_{k+1} \\dots \\alpha_{n-1}\\rangle =\n",
    "\ta_\\alpha^{\\dagger} a_\\alpha (-1)^k |\\alpha \\alpha_1\\alpha_2 \\dots \\alpha_{n-1}\\rangle \\nonumber\n",
    "$$"
   ]
  },
  {
   "cell_type": "markdown",
   "id": "bfe7bae0",
   "metadata": {
    "editable": true
   },
   "source": [
    "$$\n",
    "= (-1)^k |\\alpha \\alpha_1\\alpha_2 \\dots \\alpha_{n-1}\\rangle =\n",
    "\t|\\alpha_1\\alpha_2 \\dots \\alpha_{k}\\alpha \\alpha_{k+1} \\dots \\alpha_{n-1}\\rangle \\nonumber\n",
    "$$"
   ]
  },
  {
   "cell_type": "markdown",
   "id": "308f0603",
   "metadata": {
    "editable": true
   },
   "source": [
    "<!-- Equation labels as ordinary links -->\n",
    "<div id=\"eq:2-16b\"></div>\n",
    "\n",
    "$$\n",
    "\\begin{equation} \n",
    "\ta_\\alpha a_\\alpha^{\\dagger}|\\alpha_1\\alpha_2 \\dots \\alpha_{k}\\alpha \\alpha_{k+1} \\dots \\alpha_{n-1}\\rangle = 0 \\label{eq:2-16b} \\tag{21}\n",
    "\\end{equation}\n",
    "$$"
   ]
  },
  {
   "cell_type": "markdown",
   "id": "d742b207",
   "metadata": {
    "editable": true
   },
   "source": [
    "From Eqs. ([20](#eq:2-16a)) and  ([21](#eq:2-16b)) we arrive at"
   ]
  },
  {
   "cell_type": "markdown",
   "id": "336a4c2d",
   "metadata": {
    "editable": true
   },
   "source": [
    "<!-- Equation labels as ordinary links -->\n",
    "<div id=\"eq:2-17\"></div>\n",
    "\n",
    "$$\n",
    "\\begin{equation}\n",
    "\t\\{a_\\alpha^{\\dagger} , a_\\alpha \\} = a_\\alpha^{\\dagger} a_\\alpha + a_\\alpha a_\\alpha^{\\dagger} = 1 \\label{eq:2-17} \\tag{22}\n",
    "\\end{equation}\n",
    "$$"
   ]
  },
  {
   "cell_type": "markdown",
   "id": "4b686046",
   "metadata": {
    "editable": true
   },
   "source": [
    "## Three possible outcomes\n",
    "\n",
    "The action of $\\left\\{a_\\alpha^{\\dagger}, a_\\beta\\right\\}$, with \n",
    "$\\alpha \\ne \\beta$ on a given state yields three possibilities. \n",
    "The first case is a state vector which contains both $\\alpha$ and $\\beta$, then either \n",
    "$\\alpha$ or $\\beta$ and finally none of them.\n",
    "\n",
    "The first case results in"
   ]
  },
  {
   "cell_type": "markdown",
   "id": "78126aae",
   "metadata": {
    "editable": true
   },
   "source": [
    "$$\n",
    "a_\\alpha^{\\dagger} a_\\beta |\\alpha\\beta\\alpha_1\\alpha_2 \\dots \\alpha_{n-2}\\rangle = 0 \\nonumber\n",
    "$$"
   ]
  },
  {
   "cell_type": "markdown",
   "id": "7c15d85c",
   "metadata": {
    "editable": true
   },
   "source": [
    "<!-- Equation labels as ordinary links -->\n",
    "<div id=\"eq:2-18a\"></div>\n",
    "\n",
    "$$\n",
    "\\begin{equation} \n",
    "\ta_\\beta a_\\alpha^{\\dagger} |\\alpha\\beta\\alpha_1\\alpha_2 \\dots \\alpha_{n-2}\\rangle = 0 \\label{eq:2-18a} \\tag{23}\n",
    "\\end{equation}\n",
    "$$"
   ]
  },
  {
   "cell_type": "markdown",
   "id": "d7209cce",
   "metadata": {
    "editable": true
   },
   "source": [
    "## Second case\n",
    "The second case gives"
   ]
  },
  {
   "cell_type": "markdown",
   "id": "922b237d",
   "metadata": {
    "editable": true
   },
   "source": [
    "$$\n",
    "a_\\alpha^{\\dagger} a_\\beta |\\beta \\underbrace{\\alpha_1\\alpha_2 \\dots \\alpha_{n-1}}_{\\neq \\alpha}\\rangle = \n",
    "\t \t|\\alpha \\underbrace{\\alpha_1\\alpha_2 \\dots \\alpha_{n-1}}_{\\neq  \\alpha}\\rangle \\nonumber\n",
    "$$"
   ]
  },
  {
   "cell_type": "markdown",
   "id": "d9c0133b",
   "metadata": {
    "editable": true
   },
   "source": [
    "$$\n",
    "a_\\beta a_\\alpha^{\\dagger} |\\beta \\underbrace{\\alpha_1\\alpha_2 \\dots \\alpha_{n-1}}_{\\neq \\alpha}\\rangle =\n",
    "\t\ta_\\beta |\\alpha\\beta\\underbrace{\\beta \\alpha_1\\alpha_2 \\dots \\alpha_{n-1}}_{\\neq \\alpha}\\rangle \\nonumber\n",
    "$$"
   ]
  },
  {
   "cell_type": "markdown",
   "id": "085ee5bf",
   "metadata": {
    "editable": true
   },
   "source": [
    "<!-- Equation labels as ordinary links -->\n",
    "<div id=\"eq:2-18b\"></div>\n",
    "\n",
    "$$\n",
    "\\begin{equation} \n",
    "\t= - |\\alpha\\underbrace{\\alpha_1\\alpha_2 \\dots \\alpha_{n-1}}_{\\neq \\alpha}\\rangle \\label{eq:2-18b} \\tag{24}\n",
    "\\end{equation}\n",
    "$$"
   ]
  },
  {
   "cell_type": "markdown",
   "id": "03e567a4",
   "metadata": {
    "editable": true
   },
   "source": [
    "## Third case\n",
    "\n",
    "Finally if the state vector does not contain $\\alpha$ and $\\beta$"
   ]
  },
  {
   "cell_type": "markdown",
   "id": "f805236d",
   "metadata": {
    "editable": true
   },
   "source": [
    "$$\n",
    "a_\\alpha^{\\dagger} a_\\beta |\\underbrace{\\alpha_1\\alpha_2 \\dots \\alpha_{n}}_{\\neq \\alpha,\\beta}\\rangle = 0 \\nonumber\n",
    "$$"
   ]
  },
  {
   "cell_type": "markdown",
   "id": "5ee1617b",
   "metadata": {
    "editable": true
   },
   "source": [
    "<!-- Equation labels as ordinary links -->\n",
    "<div id=\"eq:2-18c\"></div>\n",
    "\n",
    "$$\n",
    "\\begin{equation} \n",
    "\ta_\\beta a_\\alpha^{\\dagger} |\\underbrace{\\alpha_1\\alpha_2 \\dots \\alpha_{n}}_{\\neq \\alpha,\\beta}\\rangle = \n",
    "\t\ta_\\beta |\\alpha \\underbrace{\\alpha_1\\alpha_2 \\dots \\alpha_{n}}_{\\neq \\alpha,\\beta}\\rangle = 0 \\label{eq:2-18c} \\tag{25}\n",
    "\\end{equation}\n",
    "$$"
   ]
  },
  {
   "cell_type": "markdown",
   "id": "331656d9",
   "metadata": {
    "editable": true
   },
   "source": [
    "For all three cases we have"
   ]
  },
  {
   "cell_type": "markdown",
   "id": "fa130f2a",
   "metadata": {
    "editable": true
   },
   "source": [
    "<!-- Equation labels as ordinary links -->\n",
    "<div id=\"eq:2-19\"></div>\n",
    "\n",
    "$$\n",
    "\\begin{equation}\n",
    "\t\\{a_\\alpha^{\\dagger},a_\\beta \\} = a_\\alpha^{\\dagger} a_\\beta + a_\\beta a_\\alpha^{\\dagger} = 0, \\quad \\alpha \\neq \\beta \\label{eq:2-19} \\tag{26}\n",
    "\\end{equation}\n",
    "$$"
   ]
  },
  {
   "cell_type": "markdown",
   "id": "ed67445c",
   "metadata": {
    "editable": true
   },
   "source": [
    "## Summarizing\n",
    "\n",
    "We can summarize  our findings in Eqs. ([22](#eq:2-17)) and ([26](#eq:2-19)) as"
   ]
  },
  {
   "cell_type": "markdown",
   "id": "d6b5cb96",
   "metadata": {
    "editable": true
   },
   "source": [
    "<!-- Equation labels as ordinary links -->\n",
    "<div id=\"eq:2-20\"></div>\n",
    "\n",
    "$$\n",
    "\\begin{equation}\n",
    "\t\\{a_\\alpha^{\\dagger},a_\\beta \\} = \\delta_{\\alpha\\beta} \\label{eq:2-20} \\tag{27}\n",
    "\\end{equation}\n",
    "$$"
   ]
  },
  {
   "cell_type": "markdown",
   "id": "7b02232d",
   "metadata": {
    "editable": true
   },
   "source": [
    "with  $\\delta_{\\alpha\\beta}$ is the Kroenecker $\\delta$-symbol."
   ]
  },
  {
   "cell_type": "markdown",
   "id": "7670c6ef",
   "metadata": {
    "editable": true
   },
   "source": [
    "## Properties of creation and annihilation operators\n",
    "\n",
    "The properties of the creation and annihilation operators can be summarized as (for fermions)"
   ]
  },
  {
   "cell_type": "markdown",
   "id": "62e6b4f6",
   "metadata": {
    "editable": true
   },
   "source": [
    "$$\n",
    "a_\\alpha^{\\dagger}|0\\rangle \\equiv  |\\alpha\\rangle,\n",
    "$$"
   ]
  },
  {
   "cell_type": "markdown",
   "id": "4fe670b2",
   "metadata": {
    "editable": true
   },
   "source": [
    "and"
   ]
  },
  {
   "cell_type": "markdown",
   "id": "82338839",
   "metadata": {
    "editable": true
   },
   "source": [
    "$$\n",
    "a_\\alpha^{\\dagger}|\\alpha_1\\dots \\alpha_n\\rangle_{\\mathrm{AS}} \\equiv  |\\alpha\\alpha_1\\dots \\alpha_n\\rangle_{\\mathrm{AS}}.\n",
    "$$"
   ]
  },
  {
   "cell_type": "markdown",
   "id": "59022f1d",
   "metadata": {
    "editable": true
   },
   "source": [
    "from which follows"
   ]
  },
  {
   "cell_type": "markdown",
   "id": "bbdab10d",
   "metadata": {
    "editable": true
   },
   "source": [
    "$$\n",
    "|\\alpha_1\\dots \\alpha_n\\rangle_{\\mathrm{AS}} = a_{\\alpha_1}^{\\dagger} a_{\\alpha_2}^{\\dagger} \\dots a_{\\alpha_n}^{\\dagger} |0\\rangle.\n",
    "$$"
   ]
  },
  {
   "cell_type": "markdown",
   "id": "0fd9f51a",
   "metadata": {
    "editable": true
   },
   "source": [
    "## Hermitian conjugate or just adjoint\n",
    "\n",
    "The hermitian conjugate has the folowing properties"
   ]
  },
  {
   "cell_type": "markdown",
   "id": "5c21e51e",
   "metadata": {
    "editable": true
   },
   "source": [
    "$$\n",
    "a_{\\alpha} = ( a_{\\alpha}^{\\dagger} )^{\\dagger}.\n",
    "$$"
   ]
  },
  {
   "cell_type": "markdown",
   "id": "7b6ddeaa",
   "metadata": {
    "editable": true
   },
   "source": [
    "Finally we found"
   ]
  },
  {
   "cell_type": "markdown",
   "id": "b685fc0a",
   "metadata": {
    "editable": true
   },
   "source": [
    "$$\n",
    "a_\\alpha\\underbrace{|\\alpha_1'\\alpha_2' \\dots \\alpha_{n+1}'}\\rangle_{\\neq \\alpha} = 0, \\quad\n",
    "\t\t\\textrm{in particular } a_\\alpha |0\\rangle = 0,\n",
    "$$"
   ]
  },
  {
   "cell_type": "markdown",
   "id": "d6b277c5",
   "metadata": {
    "editable": true
   },
   "source": [
    "and"
   ]
  },
  {
   "cell_type": "markdown",
   "id": "9dde036e",
   "metadata": {
    "editable": true
   },
   "source": [
    "$$\n",
    "a_\\alpha |\\alpha\\alpha_1\\alpha_2 \\dots \\alpha_{n}\\rangle = |\\alpha_1\\alpha_2 \\dots \\alpha_{n}\\rangle,\n",
    "$$"
   ]
  },
  {
   "cell_type": "markdown",
   "id": "7f1ab104",
   "metadata": {
    "editable": true
   },
   "source": [
    "and the corresponding commutator algebra"
   ]
  },
  {
   "cell_type": "markdown",
   "id": "630d3e8d",
   "metadata": {
    "editable": true
   },
   "source": [
    "$$\n",
    "\\{a_{\\alpha}^{\\dagger},a_{\\beta}^{\\dagger}\\} = \\{a_{\\alpha},a_{\\beta}\\} = 0 \\hspace{0.5cm} \n",
    "\\{a_\\alpha^{\\dagger},a_\\beta \\} = \\delta_{\\alpha\\beta}.\n",
    "$$"
   ]
  }
 ],
 "metadata": {},
 "nbformat": 4,
 "nbformat_minor": 5
}
