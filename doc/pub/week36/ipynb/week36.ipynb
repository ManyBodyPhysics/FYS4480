{
 "cells": [
  {
   "cell_type": "markdown",
   "id": "e01ceb85",
   "metadata": {
    "editable": true
   },
   "source": [
    "<!-- HTML file automatically generated from DocOnce source (https://github.com/doconce/doconce/)\n",
    "doconce format html week36.do.txt --no_mako -->\n",
    "<!-- dom:TITLE: Week 36: Operators in second quantization, computation of expectation values and Wick's theorem -->"
   ]
  },
  {
   "cell_type": "markdown",
   "id": "6acc11a0",
   "metadata": {
    "editable": true
   },
   "source": [
    "# Week 36: Operators in second quantization, computation of expectation values and Wick's theorem\n",
    "**Morten Hjorth-Jensen**, Department of Physics and Center for Computing in Science Education, University of Oslo, Norway\n",
    "\n",
    "Date: **Week 36, September 1-5, 2025**"
   ]
  },
  {
   "cell_type": "markdown",
   "id": "cb05c94d",
   "metadata": {
    "editable": true
   },
   "source": [
    "## Week 36\n",
    "\n",
    "* Topics to be covered\n",
    "\n",
    "a. Thursday: Second quantization, operators in second quantization and diagrammatic representation\n",
    "<!-- o [Video of lecture](https://youtu.be/KDzugYQabuY) -->\n",
    "<!-- o [Whiteboard notes](https://github.com/ManyBodyPhysics/FYS4480/blob/master/doc/HandwrittenNotes/2024/NotesSeptember5.pdf) -->\n",
    "\n",
    "b. Friday: Second quantization and Wick's theorem\n",
    "<!-- o [Video of lecture, part 1](https://youtu.be/Nnz2awN4elY) -->\n",
    "<!-- o [Whiteboard  notes](https://github.com/ManyBodyPhysics/FYS4480/blob/master/doc/HandwrittenNotes/2024/NotesSeptember6.pdf) -->\n",
    "\n",
    "* Lecture Material: These slides, handwritten notes and\tSzabo and Ostlund sections 2.3 and 2.4.\n",
    "\n",
    "* [Third exercise set](https://github.com/ManyBodyPhysics/FYS4480/blob/master/doc/Exercises/2025/ExercisesWeek36.pdf)"
   ]
  },
  {
   "cell_type": "markdown",
   "id": "fb4d0536",
   "metadata": {
    "editable": true
   },
   "source": [
    "## Second quantization, brief summary from week 35\n",
    "\n",
    "We can summarize  our findings from last week as"
   ]
  },
  {
   "cell_type": "markdown",
   "id": "c341a34d",
   "metadata": {
    "editable": true
   },
   "source": [
    "<!-- Equation labels as ordinary links -->\n",
    "<div id=\"eq:2-20\"></div>\n",
    "\n",
    "$$\n",
    "\\begin{equation}\n",
    "\t\\{a_\\alpha^{\\dagger},a_\\beta \\} = \\delta_{\\alpha\\beta} \\label{eq:2-20} \\tag{1}\n",
    "\\end{equation}\n",
    "$$"
   ]
  },
  {
   "cell_type": "markdown",
   "id": "30d9a77a",
   "metadata": {
    "editable": true
   },
   "source": [
    "with  $\\delta_{\\alpha\\beta}$ is the Kroenecker $\\delta$-symbol."
   ]
  },
  {
   "cell_type": "markdown",
   "id": "ee53cf57",
   "metadata": {
    "editable": true
   },
   "source": [
    "## Properties of operators\n",
    "The properties of the creation and annihilation operators can be summarized as (for fermions)"
   ]
  },
  {
   "cell_type": "markdown",
   "id": "ccafd472",
   "metadata": {
    "editable": true
   },
   "source": [
    "$$\n",
    "a_\\alpha^{\\dagger}|0\\rangle \\equiv  |\\alpha\\rangle,\n",
    "$$"
   ]
  },
  {
   "cell_type": "markdown",
   "id": "9e0f5fee",
   "metadata": {
    "editable": true
   },
   "source": [
    "and"
   ]
  },
  {
   "cell_type": "markdown",
   "id": "aeccd92c",
   "metadata": {
    "editable": true
   },
   "source": [
    "$$\n",
    "a_\\alpha^{\\dagger}|\\alpha_1\\dots \\alpha_n\\rangle_{\\mathrm{AS}} \\equiv  |\\alpha\\alpha_1\\dots \\alpha_n\\rangle_{\\mathrm{AS}}.\n",
    "$$"
   ]
  },
  {
   "cell_type": "markdown",
   "id": "c5e724ac",
   "metadata": {
    "editable": true
   },
   "source": [
    "from which follows"
   ]
  },
  {
   "cell_type": "markdown",
   "id": "a5d71b71",
   "metadata": {
    "editable": true
   },
   "source": [
    "$$\n",
    "|\\alpha_1\\dots \\alpha_n\\rangle_{\\mathrm{AS}} = a_{\\alpha_1}^{\\dagger} a_{\\alpha_2}^{\\dagger} \\dots a_{\\alpha_n}^{\\dagger} |0\\rangle.\n",
    "$$"
   ]
  },
  {
   "cell_type": "markdown",
   "id": "25349cb8",
   "metadata": {
    "editable": true
   },
   "source": [
    "## Hermitian conjugate\n",
    "The hermitian conjugate has the folowing properties"
   ]
  },
  {
   "cell_type": "markdown",
   "id": "caf6a59b",
   "metadata": {
    "editable": true
   },
   "source": [
    "$$\n",
    "a_{\\alpha} = ( a_{\\alpha}^{\\dagger} )^{\\dagger}.\n",
    "$$"
   ]
  },
  {
   "cell_type": "markdown",
   "id": "2595ec7d",
   "metadata": {
    "editable": true
   },
   "source": [
    "Finally we found"
   ]
  },
  {
   "cell_type": "markdown",
   "id": "50db71c2",
   "metadata": {
    "editable": true
   },
   "source": [
    "$$\n",
    "a_\\alpha\\underbrace{|\\alpha_1'\\alpha_2' \\dots \\alpha_{n+1}'}\\rangle_{\\neq \\alpha} = 0, \\quad\n",
    "\t\t\\textrm{in particular } a_\\alpha |0\\rangle = 0,\n",
    "$$"
   ]
  },
  {
   "cell_type": "markdown",
   "id": "7939b880",
   "metadata": {
    "editable": true
   },
   "source": [
    "and"
   ]
  },
  {
   "cell_type": "markdown",
   "id": "879521ef",
   "metadata": {
    "editable": true
   },
   "source": [
    "$$\n",
    "a_\\alpha |\\alpha\\alpha_1\\alpha_2 \\dots \\alpha_{n}\\rangle = |\\alpha_1\\alpha_2 \\dots \\alpha_{n}\\rangle,\n",
    "$$"
   ]
  },
  {
   "cell_type": "markdown",
   "id": "11a8fc3c",
   "metadata": {
    "editable": true
   },
   "source": [
    "and the corresponding commutator algebra"
   ]
  },
  {
   "cell_type": "markdown",
   "id": "bf6b24ab",
   "metadata": {
    "editable": true
   },
   "source": [
    "$$\n",
    "\\{a_{\\alpha}^{\\dagger},a_{\\beta}^{\\dagger}\\} = \\{a_{\\alpha},a_{\\beta}\\} = 0 \\hspace{0.5cm} \n",
    "\\{a_\\alpha^{\\dagger},a_\\beta \\} = \\delta_{\\alpha\\beta}.\n",
    "$$"
   ]
  },
  {
   "cell_type": "markdown",
   "id": "c265f551",
   "metadata": {
    "editable": true
   },
   "source": [
    "## One-body operators in second quantization\n",
    "\n",
    "A very useful operator is the so-called number-operator.  Most physics\n",
    "cases we will study in this text conserve the total number of\n",
    "particles.  The number operator is therefore a useful quantity which\n",
    "allows us to test that our many-body formalism conserves the number of\n",
    "particles.  In for example $(d,p)$ or $(p,d)$ reactions it is\n",
    "important to be able to describe quantum mechanical states where\n",
    "particles get added or removed.  A creation operator\n",
    "$a_\\alpha^{\\dagger}$ adds one particle to the single-particle state\n",
    "$\\alpha$ of a give many-body state vector, while an annihilation\n",
    "operator $a_\\alpha$ removes a particle from a single-particle state\n",
    "$\\alpha$."
   ]
  },
  {
   "cell_type": "markdown",
   "id": "f3f4608f",
   "metadata": {
    "editable": true
   },
   "source": [
    "## Getting started\n",
    "Let us consider an operator proportional with $a_\\alpha^{\\dagger} a_\\beta$ and \n",
    "$\\alpha=\\beta$. It acts on an $n$-particle state \n",
    "resulting in"
   ]
  },
  {
   "cell_type": "markdown",
   "id": "21dc2a84",
   "metadata": {
    "editable": true
   },
   "source": [
    "<!-- Equation labels as ordinary links -->\n",
    "<div id=\"_auto1\"></div>\n",
    "\n",
    "$$\n",
    "\\begin{equation}\n",
    "\ta_\\alpha^{\\dagger} a_\\alpha |\\alpha_1\\alpha_2 \\dots \\alpha_{n}\\rangle = \n",
    "\t\\begin{cases}\n",
    "\t\t0  &\\alpha \\notin \\{\\alpha_i\\} \\\\\n",
    "\t\t\\\\\n",
    "\t\t|\\alpha_1\\alpha_2 \\dots \\alpha_{n}\\rangle & \\alpha \\in \\{\\alpha_i\\}\n",
    "\t\\end{cases}\n",
    "\\label{_auto1} \\tag{2}\n",
    "\\end{equation}\n",
    "$$"
   ]
  },
  {
   "cell_type": "markdown",
   "id": "ff9ae7fb",
   "metadata": {
    "editable": true
   },
   "source": [
    "Summing over all possible one-particle states we arrive at"
   ]
  },
  {
   "cell_type": "markdown",
   "id": "8d5e716c",
   "metadata": {
    "editable": true
   },
   "source": [
    "<!-- Equation labels as ordinary links -->\n",
    "<div id=\"eq:2-21\"></div>\n",
    "\n",
    "$$\n",
    "\\begin{equation}\n",
    "\t\\left( \\sum_\\alpha a_\\alpha^{\\dagger} a_\\alpha \\right) |\\alpha_1\\alpha_2 \\dots \\alpha_{n}\\rangle = \n",
    "\tn |\\alpha_1\\alpha_2 \\dots \\alpha_{n}\\rangle \\label{eq:2-21} \\tag{3}\n",
    "\\end{equation}\n",
    "$$"
   ]
  },
  {
   "cell_type": "markdown",
   "id": "fd79fe88",
   "metadata": {
    "editable": true
   },
   "source": [
    "## The number operator\n",
    "\n",
    "The operator"
   ]
  },
  {
   "cell_type": "markdown",
   "id": "887e124a",
   "metadata": {
    "editable": true
   },
   "source": [
    "<!-- Equation labels as ordinary links -->\n",
    "<div id=\"eq:2-22\"></div>\n",
    "\n",
    "$$\n",
    "\\begin{equation}\n",
    "\t\\hat{N} = \\sum_\\alpha a_\\alpha^{\\dagger} a_\\alpha \\label{eq:2-22} \\tag{4}\n",
    "\\end{equation}\n",
    "$$"
   ]
  },
  {
   "cell_type": "markdown",
   "id": "7b377d48",
   "metadata": {
    "editable": true
   },
   "source": [
    "is called the number operator since it counts the number of particles in a give state vector when it acts \n",
    "on the different single-particle states.  It acts on one single-particle state at the time and falls \n",
    "therefore under category one-body operators.\n",
    "Next we look at another important one-body operator, namely $\\hat{H}_0$ and study its operator form in the \n",
    "occupation number representation."
   ]
  },
  {
   "cell_type": "markdown",
   "id": "e0a6c0d6",
   "metadata": {
    "editable": true
   },
   "source": [
    "## Preserving the number of particles\n",
    "We want to obtain an expression for a one-body operator which conserves the number of particles.\n",
    "Here we study the one-body operator for the kinetic energy plus an eventual external one-body potential.\n",
    "The action of this operator on a particular $n$-body state with its pertinent expectation value has already\n",
    "been studied in coordinate  space.\n",
    "In coordinate space the operator reads"
   ]
  },
  {
   "cell_type": "markdown",
   "id": "69282268",
   "metadata": {
    "editable": true
   },
   "source": [
    "<!-- Equation labels as ordinary links -->\n",
    "<div id=\"eq:2-23\"></div>\n",
    "\n",
    "$$\n",
    "\\begin{equation}\n",
    "\t\\hat{H}_0 = \\sum_i \\hat{h}_0(x_i) \\label{eq:2-23} \\tag{5}\n",
    "\\end{equation}\n",
    "$$"
   ]
  },
  {
   "cell_type": "markdown",
   "id": "de06fa3e",
   "metadata": {
    "editable": true
   },
   "source": [
    "and the anti-symmetric $n$-particle Slater determinant is defined as"
   ]
  },
  {
   "cell_type": "markdown",
   "id": "48d52091",
   "metadata": {
    "editable": true
   },
   "source": [
    "$$\n",
    "\\Phi(x_1, x_2,\\dots ,x_n,\\alpha_1,\\alpha_2,\\dots, \\alpha_n)= \\frac{1}{\\sqrt{n!}} \\sum_p (-1)^p\\hat{P}\\psi_{\\alpha_1}(x_1)\\psi_{\\alpha_2}(x_2) \\dots \\psi_{\\alpha_n}(x_n).\n",
    "$$"
   ]
  },
  {
   "cell_type": "markdown",
   "id": "b49984c3",
   "metadata": {
    "editable": true
   },
   "source": [
    "## One-body operator in second quantitazion\n",
    "Defining"
   ]
  },
  {
   "cell_type": "markdown",
   "id": "227a044f",
   "metadata": {
    "editable": true
   },
   "source": [
    "<!-- Equation labels as ordinary links -->\n",
    "<div id=\"eq:2-25\"></div>\n",
    "\n",
    "$$\n",
    "\\begin{equation}\n",
    "\t\\hat{h}_0(x_i) \\psi_{\\alpha_i}(x_i) = \\sum_{\\alpha_k'} \\psi_{\\alpha_k'}(x_i) \\langle\\alpha_k'|\\hat{h}_0|\\alpha_k\\rangle \\label{eq:2-25} \\tag{6}\n",
    "\\end{equation}\n",
    "$$"
   ]
  },
  {
   "cell_type": "markdown",
   "id": "458f9621",
   "metadata": {
    "editable": true
   },
   "source": [
    "we can easily  evaluate the action of $\\hat{H}_0$ on each product of one-particle functions in Slater determinant.\n",
    "From Eq. ([6](#eq:2-25))  we obtain the following result without  permuting any particle pair"
   ]
  },
  {
   "cell_type": "markdown",
   "id": "f6b01258",
   "metadata": {
    "editable": true
   },
   "source": [
    "$$\n",
    "\\left( \\sum_i \\hat{h}_0(x_i) \\right) \\psi_{\\alpha_1}(x_1)\\psi_{\\alpha_2}(x_2) \\dots \\psi_{\\alpha_n}(x_n) \\nonumber\n",
    "$$"
   ]
  },
  {
   "cell_type": "markdown",
   "id": "6121c551",
   "metadata": {
    "editable": true
   },
   "source": [
    "$$\n",
    "=\\sum_{\\alpha_1'} \\langle \\alpha_1'|\\hat{h}_0|\\alpha_1\\rangle \n",
    "\t\t\\psi_{\\alpha_1'}(x_1)\\psi_{\\alpha_2}(x_2) \\dots \\psi_{\\alpha_n}(x_n) \\nonumber\n",
    "$$"
   ]
  },
  {
   "cell_type": "markdown",
   "id": "b9769e96",
   "metadata": {
    "editable": true
   },
   "source": [
    "$$\n",
    "+\\sum_{\\alpha_2'} \\langle \\alpha_2'|\\hat{h}_0|\\alpha_2\\rangle\n",
    "\t\t\\psi_{\\alpha_1}(x_1)\\psi_{\\alpha_2'}(x_2) \\dots \\psi_{\\alpha_n}(x_n) \\nonumber\n",
    "$$"
   ]
  },
  {
   "cell_type": "markdown",
   "id": "d80c3ecb",
   "metadata": {
    "editable": true
   },
   "source": [
    "$$\n",
    "+ \\dots \\nonumber\n",
    "$$"
   ]
  },
  {
   "cell_type": "markdown",
   "id": "2a38203d",
   "metadata": {
    "editable": true
   },
   "source": [
    "<!-- Equation labels as ordinary links -->\n",
    "<div id=\"eq:2-26\"></div>\n",
    "\n",
    "$$\n",
    "\\begin{equation} \n",
    "\t+\\sum_{\\alpha_n'} \\langle \\alpha_n'|\\hat{h}_0|\\alpha_n\\rangle\n",
    "\t\t\\psi_{\\alpha_1}(x_1)\\psi_{\\alpha_2}(x_2) \\dots \\psi_{\\alpha_n'}(x_n) \\label{eq:2-26} \\tag{7}\n",
    "\\end{equation}\n",
    "$$"
   ]
  },
  {
   "cell_type": "markdown",
   "id": "8e730fed",
   "metadata": {
    "editable": true
   },
   "source": [
    "## Interchange particles $1$ and $2$\n",
    "\n",
    "If we interchange particles $1$ and $2$  we obtain"
   ]
  },
  {
   "cell_type": "markdown",
   "id": "22ea54cf",
   "metadata": {
    "editable": true
   },
   "source": [
    "$$\n",
    "\\left( \\sum_i \\hat{h}_0(x_i) \\right) \\psi_{\\alpha_1}(x_2)\\psi_{\\alpha_1}(x_2) \\dots \\psi_{\\alpha_n}(x_n) \\nonumber\n",
    "$$"
   ]
  },
  {
   "cell_type": "markdown",
   "id": "0153e343",
   "metadata": {
    "editable": true
   },
   "source": [
    "$$\n",
    "=\\sum_{\\alpha_2'} \\langle \\alpha_2'|\\hat{h}_0|\\alpha_2\\rangle \n",
    "\t\t\\psi_{\\alpha_1}(x_2)\\psi_{\\alpha_2'}(x_1) \\dots \\psi_{\\alpha_n}(x_n) \\nonumber\n",
    "$$"
   ]
  },
  {
   "cell_type": "markdown",
   "id": "0c00e88c",
   "metadata": {
    "editable": true
   },
   "source": [
    "$$\n",
    "+\\sum_{\\alpha_1'} \\langle \\alpha_1'|\\hat{h}_0|\\alpha_1\\rangle\n",
    "\t\t\\psi_{\\alpha_1'}(x_2)\\psi_{\\alpha_2}(x_1) \\dots \\psi_{\\alpha_n}(x_n) \\nonumber\n",
    "$$"
   ]
  },
  {
   "cell_type": "markdown",
   "id": "4dd89bdd",
   "metadata": {
    "editable": true
   },
   "source": [
    "$$\n",
    "+ \\dots \\nonumber\n",
    "$$"
   ]
  },
  {
   "cell_type": "markdown",
   "id": "8c172ca2",
   "metadata": {
    "editable": true
   },
   "source": [
    "<!-- Equation labels as ordinary links -->\n",
    "<div id=\"eq:2-27\"></div>\n",
    "\n",
    "$$\n",
    "\\begin{equation} \n",
    "\t+\\sum_{\\alpha_n'} \\langle \\alpha_n'|\\hat{h}_0|\\alpha_n\\rangle\n",
    "\t\t\\psi_{\\alpha_1}(x_2)\\psi_{\\alpha_1}(x_2) \\dots \\psi_{\\alpha_n'}(x_n) \\label{eq:2-27} \\tag{8}\n",
    "\\end{equation}\n",
    "$$"
   ]
  },
  {
   "cell_type": "markdown",
   "id": "aa7ef9fe",
   "metadata": {
    "editable": true
   },
   "source": [
    "## Including all possible permutations\n",
    "\n",
    "We can continue by computing all possible permutations. \n",
    "We rewrite also our Slater determinant in its second quantized form and skip the dependence on the quantum numbers $x_i.$\n",
    "Summing up all contributions and taking care of all phases\n",
    "$(-1)^p$ we arrive at"
   ]
  },
  {
   "cell_type": "markdown",
   "id": "ef478fb8",
   "metadata": {
    "editable": true
   },
   "source": [
    "$$\n",
    "\\hat{H}_0|\\alpha_1,\\alpha_2,\\dots, \\alpha_n\\rangle = \\sum_{\\alpha_1'}\\langle \\alpha_1'|\\hat{h}_0|\\alpha_1\\rangle\n",
    "\t\t|\\alpha_1'\\alpha_2 \\dots \\alpha_{n}\\rangle \\nonumber\n",
    "$$"
   ]
  },
  {
   "cell_type": "markdown",
   "id": "31394ba1",
   "metadata": {
    "editable": true
   },
   "source": [
    "$$\n",
    "+ \\sum_{\\alpha_2'} \\langle \\alpha_2'|\\hat{h}_0|\\alpha_2\\rangle\n",
    "\t\t|\\alpha_1\\alpha_2' \\dots \\alpha_{n}\\rangle \\nonumber\n",
    "$$"
   ]
  },
  {
   "cell_type": "markdown",
   "id": "5c3159f2",
   "metadata": {
    "editable": true
   },
   "source": [
    "$$\n",
    "+ \\dots \\nonumber\n",
    "$$"
   ]
  },
  {
   "cell_type": "markdown",
   "id": "dd418170",
   "metadata": {
    "editable": true
   },
   "source": [
    "<!-- Equation labels as ordinary links -->\n",
    "<div id=\"eq:2-28\"></div>\n",
    "\n",
    "$$\n",
    "\\begin{equation} \n",
    "\t+ \\sum_{\\alpha_n'} \\langle \\alpha_n'|\\hat{h}_0|\\alpha_n\\rangle\n",
    "\t\t|\\alpha_1\\alpha_2 \\dots \\alpha_{n}'\\rangle \\label{eq:2-28} \\tag{9}\n",
    "\\end{equation}\n",
    "$$"
   ]
  },
  {
   "cell_type": "markdown",
   "id": "ffbd5550",
   "metadata": {
    "editable": true
   },
   "source": [
    "## More operations\n",
    "In Eq. ([9](#eq:2-28)) \n",
    "we have expressed the action of the one-body operator\n",
    "of Eq. ([5](#eq:2-23)) on the  $n$-body state in its second quantized form.\n",
    "This equation can be further manipulated if we use the properties of the creation and annihilation operator\n",
    "on each primed quantum number, that is"
   ]
  },
  {
   "cell_type": "markdown",
   "id": "f7d0b127",
   "metadata": {
    "editable": true
   },
   "source": [
    "<!-- Equation labels as ordinary links -->\n",
    "<div id=\"eq:2-29\"></div>\n",
    "\n",
    "$$\n",
    "\\begin{equation}\n",
    "\t|\\alpha_1\\alpha_2 \\dots \\alpha_k' \\dots \\alpha_{n}\\rangle = \n",
    "\t\ta_{\\alpha_k'}^{\\dagger}  a_{\\alpha_k} |\\alpha_1\\alpha_2 \\dots \\alpha_k \\dots \\alpha_{n}\\rangle \\label{eq:2-29} \\tag{10}\n",
    "\\end{equation}\n",
    "$$"
   ]
  },
  {
   "cell_type": "markdown",
   "id": "3eb1add5",
   "metadata": {
    "editable": true
   },
   "source": [
    "Inserting this in the right-hand side of Eq. ([9](#eq:2-28)) results in"
   ]
  },
  {
   "cell_type": "markdown",
   "id": "58f74e7a",
   "metadata": {
    "editable": true
   },
   "source": [
    "$$\n",
    "\\hat{H}_0|\\alpha_1\\alpha_2 \\dots \\alpha_{n}\\rangle = \\sum_{\\alpha_1'}\\langle \\alpha_1'|\\hat{h}_0|\\alpha_1\\rangle\n",
    "\t\ta_{\\alpha_1'}^{\\dagger}  a_{\\alpha_1} |\\alpha_1\\alpha_2 \\dots \\alpha_{n}\\rangle \\nonumber\n",
    "$$"
   ]
  },
  {
   "cell_type": "markdown",
   "id": "8f5d3293",
   "metadata": {
    "editable": true
   },
   "source": [
    "$$\n",
    "+ \\sum_{\\alpha_2'} \\langle \\alpha_2'|\\hat{h}_0|\\alpha_2\\rangle\n",
    "\t\ta_{\\alpha_2'}^{\\dagger}  a_{\\alpha_2} |\\alpha_1\\alpha_2 \\dots \\alpha_{n}\\rangle \\nonumber\n",
    "$$"
   ]
  },
  {
   "cell_type": "markdown",
   "id": "39a0006b",
   "metadata": {
    "editable": true
   },
   "source": [
    "$$\n",
    "+ \\dots \\nonumber\n",
    "$$"
   ]
  },
  {
   "cell_type": "markdown",
   "id": "244d05e6",
   "metadata": {
    "editable": true
   },
   "source": [
    "$$\n",
    "+ \\sum_{\\alpha_n'} \\langle \\alpha_n'|\\hat{h}_0|\\alpha_n\\rangle\n",
    "\t\ta_{\\alpha_n'}^{\\dagger}  a_{\\alpha_n} |\\alpha_1\\alpha_2 \\dots \\alpha_{n}\\rangle \\nonumber\n",
    "$$"
   ]
  },
  {
   "cell_type": "markdown",
   "id": "51728b6c",
   "metadata": {
    "editable": true
   },
   "source": [
    "<!-- Equation labels as ordinary links -->\n",
    "<div id=\"eq:2-30a\"></div>\n",
    "\n",
    "$$\n",
    "\\begin{equation} \n",
    "\t= \\sum_{\\alpha, \\beta} \\langle \\alpha|\\hat{h}_0|\\beta\\rangle a_\\alpha^{\\dagger} a_\\beta \n",
    "\t\t|\\alpha_1\\alpha_2 \\dots \\alpha_{n}\\rangle \\label{eq:2-30a} \\tag{11}\n",
    "\\end{equation}\n",
    "$$"
   ]
  },
  {
   "cell_type": "markdown",
   "id": "670ebced",
   "metadata": {
    "editable": true
   },
   "source": [
    "## Final expression for the one-body operator\n",
    "In the number occupation representation or second quantization we get the following expression for a one-body \n",
    "operator which conserves the number of particles"
   ]
  },
  {
   "cell_type": "markdown",
   "id": "440de51f",
   "metadata": {
    "editable": true
   },
   "source": [
    "<!-- Equation labels as ordinary links -->\n",
    "<div id=\"eq:2-30b\"></div>\n",
    "\n",
    "$$\n",
    "\\begin{equation}\n",
    "\t\\hat{H}_0 = \\sum_{\\alpha\\beta} \\langle \\alpha|\\hat{h}_0|\\beta\\rangle a_\\alpha^{\\dagger} a_\\beta \\label{eq:2-30b} \\tag{12}\n",
    "\\end{equation}\n",
    "$$"
   ]
  },
  {
   "cell_type": "markdown",
   "id": "9e8badb6",
   "metadata": {
    "editable": true
   },
   "source": [
    "Obviously, $\\hat{H}_0$ can be replaced by any other one-body  operator which preserved the number\n",
    "of particles. The stucture of the operator is therefore not limited to say the kinetic or single-particle energy only.\n",
    "\n",
    "The opearator $\\hat{H}_0$ takes a particle from the single-particle state $\\beta$  to the single-particle state $\\alpha$ \n",
    "with a probability for the transition given by the expectation value $\\langle \\alpha|\\hat{h}_0|\\beta\\rangle$."
   ]
  },
  {
   "cell_type": "markdown",
   "id": "f27aaf64",
   "metadata": {
    "editable": true
   },
   "source": [
    "## Applying the new expression\n",
    "It is instructive to verify Eq. ([12](#eq:2-30b)) by computing the expectation value of $\\hat{H}_0$ \n",
    "between two single-particle states"
   ]
  },
  {
   "cell_type": "markdown",
   "id": "1406137f",
   "metadata": {
    "editable": true
   },
   "source": [
    "<!-- Equation labels as ordinary links -->\n",
    "<div id=\"eq:2-30c\"></div>\n",
    "\n",
    "$$\n",
    "\\begin{equation}\n",
    "\t\\langle \\alpha_1|\\hat{h}_0|\\alpha_2\\rangle = \\sum_{\\alpha\\beta} \\langle \\alpha|\\hat{h}_0|\\beta\\rangle\n",
    "\t\t\\langle 0|a_{\\alpha_1}a_\\alpha^{\\dagger} a_\\beta a_{\\alpha_2}^{\\dagger}|0\\rangle \\label{eq:2-30c} \\tag{13}\n",
    "\\end{equation}\n",
    "$$"
   ]
  },
  {
   "cell_type": "markdown",
   "id": "045e7905",
   "metadata": {
    "editable": true
   },
   "source": [
    "## Explicit results\n",
    "Using the commutation relations for the creation and annihilation operators we have"
   ]
  },
  {
   "cell_type": "markdown",
   "id": "e4fa3823",
   "metadata": {
    "editable": true
   },
   "source": [
    "<!-- Equation labels as ordinary links -->\n",
    "<div id=\"eq:2-30d\"></div>\n",
    "\n",
    "$$\n",
    "\\begin{equation}\n",
    "a_{\\alpha_1}a_\\alpha^{\\dagger} a_\\beta a_{\\alpha_2}^{\\dagger} = (\\delta_{\\alpha \\alpha_1} - a_\\alpha^{\\dagger} a_{\\alpha_1} )(\\delta_{\\beta \\alpha_2} - a_{\\alpha_2}^{\\dagger} a_{\\beta} ), \\label{eq:2-30d} \\tag{14}\n",
    "\\end{equation}\n",
    "$$"
   ]
  },
  {
   "cell_type": "markdown",
   "id": "b410ca71",
   "metadata": {
    "editable": true
   },
   "source": [
    "which results in"
   ]
  },
  {
   "cell_type": "markdown",
   "id": "10a0e6d3",
   "metadata": {
    "editable": true
   },
   "source": [
    "<!-- Equation labels as ordinary links -->\n",
    "<div id=\"eq:2-30e\"></div>\n",
    "\n",
    "$$\n",
    "\\begin{equation}\n",
    "\\langle 0|a_{\\alpha_1}a_\\alpha^{\\dagger} a_\\beta a_{\\alpha_2}^{\\dagger}|0\\rangle = \\delta_{\\alpha \\alpha_1} \\delta_{\\beta \\alpha_2} \\label{eq:2-30e} \\tag{15}\n",
    "\\end{equation}\n",
    "$$"
   ]
  },
  {
   "cell_type": "markdown",
   "id": "7482ed1d",
   "metadata": {
    "editable": true
   },
   "source": [
    "and"
   ]
  },
  {
   "cell_type": "markdown",
   "id": "468fe039",
   "metadata": {
    "editable": true
   },
   "source": [
    "<!-- Equation labels as ordinary links -->\n",
    "<div id=\"eq:2-30f\"></div>\n",
    "\n",
    "$$\n",
    "\\begin{equation}\n",
    "\\langle \\alpha_1|\\hat{h}_0|\\alpha_2\\rangle = \\sum_{\\alpha\\beta} \\langle \\alpha|\\hat{h}_0|\\beta\\rangle\\delta_{\\alpha \\alpha_1} \\delta_{\\beta \\alpha_2} = \\langle \\alpha_1|\\hat{h}_0|\\alpha_2\\rangle \\label{eq:2-30f} \\tag{16}\n",
    "\\end{equation}\n",
    "$$"
   ]
  },
  {
   "cell_type": "markdown",
   "id": "c21f37f1",
   "metadata": {
    "editable": true
   },
   "source": [
    "## Two-body operators in second quantization\n",
    "\n",
    "Let us now derive the expression for our two-body interaction part, which also conserves the number of particles.\n",
    "We can proceed in exactly the same way as for the one-body operator. In the coordinate representation our\n",
    "two-body interaction part takes the following expression"
   ]
  },
  {
   "cell_type": "markdown",
   "id": "15335c31",
   "metadata": {
    "editable": true
   },
   "source": [
    "<!-- Equation labels as ordinary links -->\n",
    "<div id=\"eq:2-31\"></div>\n",
    "\n",
    "$$\n",
    "\\begin{equation}\n",
    "\t\\hat{H}_I = \\sum_{i < j} V(x_i,x_j) \\label{eq:2-31} \\tag{17}\n",
    "\\end{equation}\n",
    "$$"
   ]
  },
  {
   "cell_type": "markdown",
   "id": "6a705b28",
   "metadata": {
    "editable": true
   },
   "source": [
    "where the summation runs over distinct pairs. The term $V$ can be an interaction model for the nucleon-nucleon interaction\n",
    "or the interaction between two electrons. It can also include additional two-body interaction terms. \n",
    "\n",
    "The action of this operator on a product of \n",
    "two single-particle functions is defined as"
   ]
  },
  {
   "cell_type": "markdown",
   "id": "8baea926",
   "metadata": {
    "editable": true
   },
   "source": [
    "<!-- Equation labels as ordinary links -->\n",
    "<div id=\"eq:2-32\"></div>\n",
    "\n",
    "$$\n",
    "\\begin{equation}\n",
    "\tV(x_i,x_j) \\psi_{\\alpha_k}(x_i) \\psi_{\\alpha_l}(x_j) = \\sum_{\\alpha_k'\\alpha_l'} \n",
    "\t\t\\psi_{\\alpha_k}'(x_i)\\psi_{\\alpha_l}'(x_j) \n",
    "\t\t\\langle \\alpha_k'\\alpha_l'|\\hat{v}|\\alpha_k\\alpha_l\\rangle \\label{eq:2-32} \\tag{18}\n",
    "\\end{equation}\n",
    "$$"
   ]
  },
  {
   "cell_type": "markdown",
   "id": "22c4ab32",
   "metadata": {
    "editable": true
   },
   "source": [
    "## More operations\n",
    "\n",
    "We can now let $\\hat{H}_I$ act on all terms in the linear combination for $|\\alpha_1\\alpha_2\\dots\\alpha_n\\rangle$. Without any permutations we have"
   ]
  },
  {
   "cell_type": "markdown",
   "id": "302ff62e",
   "metadata": {
    "editable": true
   },
   "source": [
    "$$\n",
    "\\left( \\sum_{i < j} V(x_i,x_j) \\right) \\psi_{\\alpha_1}(x_1)\\psi_{\\alpha_2}(x_2)\\dots \\psi_{\\alpha_n}(x_n) \\nonumber\n",
    "$$"
   ]
  },
  {
   "cell_type": "markdown",
   "id": "03041f5e",
   "metadata": {
    "editable": true
   },
   "source": [
    "$$\n",
    "= \\sum_{\\alpha_1'\\alpha_2'} \\langle \\alpha_1'\\alpha_2'|\\hat{v}|\\alpha_1\\alpha_2\\rangle\n",
    "\t\t\\psi_{\\alpha_1}'(x_1)\\psi_{\\alpha_2}'(x_2)\\dots \\psi_{\\alpha_n}(x_n) \\nonumber\n",
    "$$"
   ]
  },
  {
   "cell_type": "markdown",
   "id": "98fd17f7",
   "metadata": {
    "editable": true
   },
   "source": [
    "$$\n",
    "+ \\dots \\nonumber\n",
    "$$"
   ]
  },
  {
   "cell_type": "markdown",
   "id": "08e7146d",
   "metadata": {
    "editable": true
   },
   "source": [
    "$$\n",
    "+ \\sum_{\\alpha_1'\\alpha_n'} \\langle \\alpha_1'\\alpha_n'|\\hat{v}|\\alpha_1\\alpha_n\\rangle\n",
    "\t\t\\psi_{\\alpha_1}'(x_1)\\psi_{\\alpha_2}(x_2)\\dots \\psi_{\\alpha_n}'(x_n) \\nonumber\n",
    "$$"
   ]
  },
  {
   "cell_type": "markdown",
   "id": "1a667c00",
   "metadata": {
    "editable": true
   },
   "source": [
    "$$\n",
    "+ \\dots \\nonumber\n",
    "$$"
   ]
  },
  {
   "cell_type": "markdown",
   "id": "a702ebf6",
   "metadata": {
    "editable": true
   },
   "source": [
    "$$\n",
    "+ \\sum_{\\alpha_2'\\alpha_n'} \\langle \\alpha_2'\\alpha_n'|\\hat{v}|\\alpha_2\\alpha_n\\rangle\n",
    "\t\t\\psi_{\\alpha_1}(x_1)\\psi_{\\alpha_2}'(x_2)\\dots \\psi_{\\alpha_n}'(x_n) \\nonumber\n",
    "$$"
   ]
  },
  {
   "cell_type": "markdown",
   "id": "05fdd223",
   "metadata": {
    "editable": true
   },
   "source": [
    "<!-- Equation labels as ordinary links -->\n",
    "<div id=\"eq:2-33\"></div>\n",
    "\n",
    "$$\n",
    "\\begin{equation} \n",
    "\t  + \\dots \\label{eq:2-33} \\tag{19}\n",
    "\\end{equation}\n",
    "$$"
   ]
  },
  {
   "cell_type": "markdown",
   "id": "42d1a6dc",
   "metadata": {
    "editable": true
   },
   "source": [
    "where on the rhs we have a term for each distinct pairs."
   ]
  },
  {
   "cell_type": "markdown",
   "id": "6d459047",
   "metadata": {
    "editable": true
   },
   "source": [
    "## Summing over all terms\n",
    "For the other terms on the rhs we obtain similar expressions  and summing over all terms we obtain"
   ]
  },
  {
   "cell_type": "markdown",
   "id": "cb93ad4b",
   "metadata": {
    "editable": true
   },
   "source": [
    "$$\n",
    "H_I |\\alpha_1\\alpha_2\\dots\\alpha_n\\rangle = \\sum_{\\alpha_1', \\alpha_2'} \\langle \\alpha_1'\\alpha_2'|\\hat{v}|\\alpha_1\\alpha_2\\rangle\n",
    "\t\t|\\alpha_1'\\alpha_2'\\dots\\alpha_n\\rangle \\nonumber\n",
    "$$"
   ]
  },
  {
   "cell_type": "markdown",
   "id": "8a6b3425",
   "metadata": {
    "editable": true
   },
   "source": [
    "$$\n",
    "+ \\dots \\nonumber\n",
    "$$"
   ]
  },
  {
   "cell_type": "markdown",
   "id": "02f42472",
   "metadata": {
    "editable": true
   },
   "source": [
    "$$\n",
    "+ \\sum_{\\alpha_1', \\alpha_n'} \\langle \\alpha_1'\\alpha_n'|\\hat{v}|\\alpha_1\\alpha_n\\rangle\n",
    "\t\t|\\alpha_1'\\alpha_2\\dots\\alpha_n'\\rangle \\nonumber\n",
    "$$"
   ]
  },
  {
   "cell_type": "markdown",
   "id": "52a740ca",
   "metadata": {
    "editable": true
   },
   "source": [
    "$$\n",
    "+ \\dots \\nonumber\n",
    "$$"
   ]
  },
  {
   "cell_type": "markdown",
   "id": "6f730873",
   "metadata": {
    "editable": true
   },
   "source": [
    "$$\n",
    "+ \\sum_{\\alpha_2', \\alpha_n'} \\langle \\alpha_2'\\alpha_n'|\\hat{v}|\\alpha_2\\alpha_n\\rangle\n",
    "\t\t|\\alpha_1\\alpha_2'\\dots\\alpha_n'\\rangle \\nonumber\n",
    "$$"
   ]
  },
  {
   "cell_type": "markdown",
   "id": "76f577fa",
   "metadata": {
    "editable": true
   },
   "source": [
    "<!-- Equation labels as ordinary links -->\n",
    "<div id=\"eq:2-34\"></div>\n",
    "\n",
    "$$\n",
    "\\begin{equation} \n",
    "\t + \\dots \\label{eq:2-34} \\tag{20}\n",
    "\\end{equation}\n",
    "$$"
   ]
  },
  {
   "cell_type": "markdown",
   "id": "79e8d487",
   "metadata": {
    "editable": true
   },
   "source": [
    "## Introducing second quantization\n",
    "\n",
    "We introduce second quantization via the relation"
   ]
  },
  {
   "cell_type": "markdown",
   "id": "34ee5dfd",
   "metadata": {
    "editable": true
   },
   "source": [
    "$$\n",
    "a_{\\alpha_k'}^{\\dagger} a_{\\alpha_l'}^{\\dagger} a_{\\alpha_l} a_{\\alpha_k} \n",
    "\t\t|\\alpha_1\\alpha_2\\dots\\alpha_k\\dots\\alpha_l\\dots\\alpha_n\\rangle \\nonumber\n",
    "$$"
   ]
  },
  {
   "cell_type": "markdown",
   "id": "fcc04e07",
   "metadata": {
    "editable": true
   },
   "source": [
    "$$\n",
    "= (-1)^{k-1} (-1)^{l-2} a_{\\alpha_k'}^{\\dagger} a_{\\alpha_l'}^{\\dagger} a_{\\alpha_l} a_{\\alpha_k}\n",
    "\t\t|\\alpha_k\\alpha_l \\underbrace{\\alpha_1\\alpha_2\\dots\\alpha_n}_{\\neq \\alpha_k,\\alpha_l}\\rangle \\nonumber\n",
    "$$"
   ]
  },
  {
   "cell_type": "markdown",
   "id": "23ec01b8",
   "metadata": {
    "editable": true
   },
   "source": [
    "$$\n",
    "= (-1)^{k-1} (-1)^{l-2} \n",
    "\t|\\alpha_k'\\alpha_l' \\underbrace{\\alpha_1\\alpha_2\\dots\\alpha_n}_{\\neq \\alpha_k',\\alpha_l'}\\rangle \\nonumber\n",
    "$$"
   ]
  },
  {
   "cell_type": "markdown",
   "id": "a9ee6c28",
   "metadata": {
    "editable": true
   },
   "source": [
    "<!-- Equation labels as ordinary links -->\n",
    "<div id=\"eq:2-35\"></div>\n",
    "\n",
    "$$\n",
    "\\begin{equation} \n",
    "\t= |\\alpha_1\\alpha_2\\dots\\alpha_k'\\dots\\alpha_l'\\dots\\alpha_n\\rangle \\label{eq:2-35} \\tag{21}\n",
    "\\end{equation}\n",
    "$$"
   ]
  },
  {
   "cell_type": "markdown",
   "id": "5894ac2d",
   "metadata": {
    "editable": true
   },
   "source": [
    "## Inserting back\n",
    "\n",
    "Inserting this in ([20](#eq:2-34)) gives"
   ]
  },
  {
   "cell_type": "markdown",
   "id": "7661191a",
   "metadata": {
    "editable": true
   },
   "source": [
    "$$\n",
    "H_I |\\alpha_1\\alpha_2\\dots\\alpha_n\\rangle\n",
    "\t= \\sum_{\\alpha_1', \\alpha_2'} \\langle \\alpha_1'\\alpha_2'|\\hat{v}|\\alpha_1\\alpha_2\\rangle\n",
    "\t\ta_{\\alpha_1'}^{\\dagger} a_{\\alpha_2'}^{\\dagger} a_{\\alpha_2} a_{\\alpha_1}\n",
    "\t\t|\\alpha_1\\alpha_2\\dots\\alpha_n\\rangle \\nonumber\n",
    "$$"
   ]
  },
  {
   "cell_type": "markdown",
   "id": "3e1da49d",
   "metadata": {
    "editable": true
   },
   "source": [
    "$$\n",
    "+ \\dots \\nonumber\n",
    "$$"
   ]
  },
  {
   "cell_type": "markdown",
   "id": "5ffa1b6c",
   "metadata": {
    "editable": true
   },
   "source": [
    "$$\n",
    "= \\sum_{\\alpha_1', \\alpha_n'} \\langle \\alpha_1'\\alpha_n'|\\hat{v}|\\alpha_1\\alpha_n\\rangle\n",
    "\t\ta_{\\alpha_1'}^{\\dagger} a_{\\alpha_n'}^{\\dagger} a_{\\alpha_n} a_{\\alpha_1}\n",
    "\t\t|\\alpha_1\\alpha_2\\dots\\alpha_n\\rangle \\nonumber\n",
    "$$"
   ]
  },
  {
   "cell_type": "markdown",
   "id": "c004d89a",
   "metadata": {
    "editable": true
   },
   "source": [
    "$$\n",
    "+ \\dots \\nonumber\n",
    "$$"
   ]
  },
  {
   "cell_type": "markdown",
   "id": "99b6eebe",
   "metadata": {
    "editable": true
   },
   "source": [
    "$$\n",
    "= \\sum_{\\alpha_2', \\alpha_n'} \\langle \\alpha_2'\\alpha_n'|\\hat{v}|\\alpha_2\\alpha_n\\rangle\n",
    "\t\ta_{\\alpha_2'}^{\\dagger} a_{\\alpha_n'}^{\\dagger} a_{\\alpha_n} a_{\\alpha_2}\n",
    "\t\t|\\alpha_1\\alpha_2\\dots\\alpha_n\\rangle \\nonumber\n",
    "$$"
   ]
  },
  {
   "cell_type": "markdown",
   "id": "a99b2c77",
   "metadata": {
    "editable": true
   },
   "source": [
    "$$\n",
    "+ \\dots \\nonumber\n",
    "$$"
   ]
  },
  {
   "cell_type": "markdown",
   "id": "3c835bfc",
   "metadata": {
    "editable": true
   },
   "source": [
    "<!-- Equation labels as ordinary links -->\n",
    "<div id=\"eq:2-36\"></div>\n",
    "\n",
    "$$\n",
    "\\begin{equation} \n",
    "\t= \\sum_{\\alpha, \\beta, \\gamma, \\delta} ' \\langle \\alpha\\beta|\\hat{v}|\\gamma\\delta\\rangle\n",
    "\t\ta^{\\dagger}_\\alpha a^{\\dagger}_\\beta a_\\delta a_\\gamma\n",
    "\t\t|\\alpha_1\\alpha_2\\dots\\alpha_n\\rangle \\label{eq:2-36} \\tag{22}\n",
    "\\end{equation}\n",
    "$$"
   ]
  },
  {
   "cell_type": "markdown",
   "id": "9823fc18",
   "metadata": {
    "editable": true
   },
   "source": [
    "## Removing restrictions\n",
    "\n",
    "Here we let $\\sum'$ indicate that the sums running over $\\alpha$ and $\\beta$ run over all\n",
    "single-particle states, while the summations  $\\gamma$ and $\\delta$ \n",
    "run over all pairs of single-particle states. We wish to remove this restriction and since"
   ]
  },
  {
   "cell_type": "markdown",
   "id": "5b557a09",
   "metadata": {
    "editable": true
   },
   "source": [
    "<!-- Equation labels as ordinary links -->\n",
    "<div id=\"eq:2-37\"></div>\n",
    "\n",
    "$$\n",
    "\\begin{equation}\n",
    "\t\\langle \\alpha\\beta|\\hat{v}|\\gamma\\delta\\rangle = \\langle \\beta\\alpha|\\hat{v}|\\delta\\gamma\\rangle \\label{eq:2-37} \\tag{23}\n",
    "\\end{equation}\n",
    "$$"
   ]
  },
  {
   "cell_type": "markdown",
   "id": "176f602f",
   "metadata": {
    "editable": true
   },
   "source": [
    "we get"
   ]
  },
  {
   "cell_type": "markdown",
   "id": "4e077689",
   "metadata": {
    "editable": true
   },
   "source": [
    "<!-- Equation labels as ordinary links -->\n",
    "<div id=\"eq:2-38a\"></div>\n",
    "\n",
    "$$\n",
    "\\begin{equation}\n",
    "\t\\sum_{\\alpha\\beta} \\langle \\alpha\\beta|\\hat{v}|\\gamma\\delta\\rangle a^{\\dagger}_\\alpha a^{\\dagger}_\\beta a_\\delta a_\\gamma = \n",
    "\t\t\\sum_{\\alpha\\beta} \\langle \\beta\\alpha|\\hat{v}|\\delta\\gamma\\rangle \n",
    "\t\ta^{\\dagger}_\\alpha a^{\\dagger}_\\beta a_\\delta a_\\gamma \\label{eq:2-38a} \\tag{24} \n",
    "\\end{equation}\n",
    "$$"
   ]
  },
  {
   "cell_type": "markdown",
   "id": "327b677b",
   "metadata": {
    "editable": true
   },
   "source": [
    "<!-- Equation labels as ordinary links -->\n",
    "<div id=\"eq:2-38b\"></div>\n",
    "\n",
    "$$\n",
    "\\begin{equation} \n",
    "\t= \\sum_{\\alpha\\beta}\\langle \\beta\\alpha|\\hat{v}|\\delta\\gamma\\rangle\n",
    "\t\ta^{\\dagger}_\\beta a^{\\dagger}_\\alpha a_\\gamma a_\\delta \\label{eq:2-38b} \\tag{25}\n",
    "\\end{equation}\n",
    "$$"
   ]
  },
  {
   "cell_type": "markdown",
   "id": "ad449fe5",
   "metadata": {
    "editable": true
   },
   "source": [
    "where we  have used the anti-commutation rules."
   ]
  },
  {
   "cell_type": "markdown",
   "id": "ff4b0aa9",
   "metadata": {
    "editable": true
   },
   "source": [
    "## Changing summation indices\n",
    "\n",
    "Changing the summation indices \n",
    "$\\alpha$ and $\\beta$ in ([25](#eq:2-38b)) we obtain"
   ]
  },
  {
   "cell_type": "markdown",
   "id": "0a6add32",
   "metadata": {
    "editable": true
   },
   "source": [
    "<!-- Equation labels as ordinary links -->\n",
    "<div id=\"eq:2-38c\"></div>\n",
    "\n",
    "$$\n",
    "\\begin{equation}\n",
    "\t\\sum_{\\alpha\\beta} \\langle \\alpha\\beta|\\hat{v}|\\gamma\\delta\\rangle a^{\\dagger}_\\alpha a^{\\dagger}_\\beta a_\\delta a_\\gamma =\n",
    "\t\t \\sum_{\\alpha\\beta} \\langle \\alpha\\beta|\\hat{v}|\\delta\\gamma\\rangle \n",
    "\t\t  a^{\\dagger}_\\alpha a^{\\dagger}_\\beta  a_\\gamma a_\\delta \\label{eq:2-38c} \\tag{26}\n",
    "\\end{equation}\n",
    "$$"
   ]
  },
  {
   "cell_type": "markdown",
   "id": "8a015b41",
   "metadata": {
    "editable": true
   },
   "source": [
    "From this it follows that the restriction on the summation over $\\gamma$ and $\\delta$ can be removed if we multiply with a factor $\\frac{1}{2}$, resulting in"
   ]
  },
  {
   "cell_type": "markdown",
   "id": "7eecff68",
   "metadata": {
    "editable": true
   },
   "source": [
    "<!-- Equation labels as ordinary links -->\n",
    "<div id=\"eq:2-39\"></div>\n",
    "\n",
    "$$\n",
    "\\begin{equation}\n",
    "\t\\hat{H}_I = \\frac{1}{2} \\sum_{\\alpha\\beta\\gamma\\delta} \\langle \\alpha\\beta|\\hat{v}|\\gamma\\delta\\rangle\n",
    "\t\ta^{\\dagger}_\\alpha a^{\\dagger}_\\beta a_\\delta a_\\gamma \\label{eq:2-39} \\tag{27}\n",
    "\\end{equation}\n",
    "$$"
   ]
  },
  {
   "cell_type": "markdown",
   "id": "e89b6cd9",
   "metadata": {
    "editable": true
   },
   "source": [
    "where we sum freely over all single-particle states $\\alpha$, \n",
    "$\\beta$, $\\gamma$ og $\\delta$."
   ]
  },
  {
   "cell_type": "markdown",
   "id": "993ae55f",
   "metadata": {
    "editable": true
   },
   "source": [
    "## Using the new operator expressions\n",
    "\n",
    "With this expression we can now verify that the second quantization form of $\\hat{H}_I$ in Eq. ([27](#eq:2-39)) \n",
    "results in the same matrix between two anti-symmetrized two-particle states as its corresponding coordinate\n",
    "space representation. We have"
   ]
  },
  {
   "cell_type": "markdown",
   "id": "4c8600b8",
   "metadata": {
    "editable": true
   },
   "source": [
    "<!-- Equation labels as ordinary links -->\n",
    "<div id=\"eq:2-40\"></div>\n",
    "\n",
    "$$\n",
    "\\begin{equation}\n",
    "\t\\langle \\alpha_1 \\alpha_2|\\hat{H}_I|\\beta_1 \\beta_2\\rangle =\n",
    "\t\t\\frac{1}{2} \\sum_{\\alpha\\beta\\gamma\\delta}\n",
    "\t\t\t\\langle \\alpha\\beta|\\hat{v}|\\gamma\\delta\\rangle \\langle 0|a_{\\alpha_2} a_{\\alpha_1} \n",
    "\t\t\t a^{\\dagger}_\\alpha a^{\\dagger}_\\beta a_\\delta a_\\gamma \n",
    "\t\t\t a_{\\beta_1}^{\\dagger} a_{\\beta_2}^{\\dagger}|0\\rangle. \\label{eq:2-40} \\tag{28}\n",
    "\\end{equation}\n",
    "$$"
   ]
  },
  {
   "cell_type": "markdown",
   "id": "94ebe18e",
   "metadata": {
    "editable": true
   },
   "source": [
    "## Two-body state\n",
    "\n",
    "Using the commutation relations we get"
   ]
  },
  {
   "cell_type": "markdown",
   "id": "46efe2c6",
   "metadata": {
    "editable": true
   },
   "source": [
    "$$\n",
    "a_{\\alpha_2} a_{\\alpha_1}a^{\\dagger}_\\alpha a^{\\dagger}_\\beta \n",
    "\t\ta_\\delta a_\\gamma a_{\\beta_1}^{\\dagger} a_{\\beta_2}^{\\dagger} \\nonumber\n",
    "$$"
   ]
  },
  {
   "cell_type": "markdown",
   "id": "d4657c96",
   "metadata": {
    "editable": true
   },
   "source": [
    "$$\n",
    "= a_{\\alpha_2} a_{\\alpha_1}a^{\\dagger}_\\alpha a^{\\dagger}_\\beta \n",
    "\t\t( a_\\delta \\delta_{\\gamma \\beta_1} a_{\\beta_2}^{\\dagger} - \n",
    "\t\ta_\\delta  a_{\\beta_1}^{\\dagger} a_\\gamma a_{\\beta_2}^{\\dagger} ) \\nonumber\n",
    "$$"
   ]
  },
  {
   "cell_type": "markdown",
   "id": "3564b9b3",
   "metadata": {
    "editable": true
   },
   "source": [
    "$$\n",
    "= a_{\\alpha_2} a_{\\alpha_1}a^{\\dagger}_\\alpha a^{\\dagger}_\\beta \n",
    "\t\t(\\delta_{\\gamma \\beta_1} \\delta_{\\delta \\beta_2} - \\delta_{\\gamma \\beta_1} a_{\\beta_2}^{\\dagger} a_\\delta -\n",
    "\t\ta_\\delta a_{\\beta_1}^{\\dagger}\\delta_{\\gamma \\beta_2} +\n",
    "\t\ta_\\delta a_{\\beta_1}^{\\dagger} a_{\\beta_2}^{\\dagger} a_\\gamma ) \\nonumber\n",
    "$$"
   ]
  },
  {
   "cell_type": "markdown",
   "id": "57846cf7",
   "metadata": {
    "editable": true
   },
   "source": [
    "$$\n",
    "= a_{\\alpha_2} a_{\\alpha_1}a^{\\dagger}_\\alpha a^{\\dagger}_\\beta \n",
    "\t\t(\\delta_{\\gamma \\beta_1} \\delta_{\\delta \\beta_2} - \\delta_{\\gamma \\beta_1} a_{\\beta_2}^{\\dagger} a_\\delta \\nonumber\n",
    "$$"
   ]
  },
  {
   "cell_type": "markdown",
   "id": "ffed24ba",
   "metadata": {
    "editable": true
   },
   "source": [
    "<!-- Equation labels as ordinary links -->\n",
    "<div id=\"eq:2-41\"></div>\n",
    "\n",
    "$$\n",
    "\\begin{equation} \n",
    "\t\t \\qquad - \\delta_{\\delta \\beta_1} \\delta_{\\gamma \\beta_2} + \\delta_{\\gamma \\beta_2} a_{\\beta_1}^{\\dagger} a_\\delta\n",
    "\t\t+ a_\\delta a_{\\beta_1}^{\\dagger} a_{\\beta_2}^{\\dagger} a_\\gamma ) \\label{eq:2-41} \\tag{29}\n",
    "\\end{equation}\n",
    "$$"
   ]
  },
  {
   "cell_type": "markdown",
   "id": "4a31c5f7",
   "metadata": {
    "editable": true
   },
   "source": [
    "## Expectation value\n",
    "\n",
    "The vacuum expectation value of this product of operators becomes"
   ]
  },
  {
   "cell_type": "markdown",
   "id": "c51d8e52",
   "metadata": {
    "editable": true
   },
   "source": [
    "$$\n",
    "\\langle 0|a_{\\alpha_2} a_{\\alpha_1} a^{\\dagger}_\\alpha a^{\\dagger}_\\beta a_\\delta a_\\gamma \n",
    "\t\ta_{\\beta_1}^{\\dagger} a_{\\beta_2}^{\\dagger}|0\\rangle \\nonumber\n",
    "$$"
   ]
  },
  {
   "cell_type": "markdown",
   "id": "d97a8f09",
   "metadata": {
    "editable": true
   },
   "source": [
    "$$\n",
    "= (\\delta_{\\gamma \\beta_1} \\delta_{\\delta \\beta_2} -\n",
    "\t\t\\delta_{\\delta \\beta_1} \\delta_{\\gamma \\beta_2} ) \n",
    "\t\t\\langle 0|a_{\\alpha_2} a_{\\alpha_1}a^{\\dagger}_\\alpha a^{\\dagger}_\\beta|0\\rangle \\nonumber\n",
    "$$"
   ]
  },
  {
   "cell_type": "markdown",
   "id": "469cf8b2",
   "metadata": {
    "editable": true
   },
   "source": [
    "<!-- Equation labels as ordinary links -->\n",
    "<div id=\"eq:2-42b\"></div>\n",
    "\n",
    "$$\n",
    "\\begin{equation} \n",
    "\t= (\\delta_{\\gamma \\beta_1} \\delta_{\\delta \\beta_2} -\\delta_{\\delta \\beta_1} \\delta_{\\gamma \\beta_2} )\n",
    "\t(\\delta_{\\alpha \\alpha_1} \\delta_{\\beta \\alpha_2} -\\delta_{\\beta \\alpha_1} \\delta_{\\alpha \\alpha_2} ) \\label{eq:2-42b} \\tag{30}\n",
    "\\end{equation}\n",
    "$$"
   ]
  },
  {
   "cell_type": "markdown",
   "id": "ec9af0c2",
   "metadata": {
    "editable": true
   },
   "source": [
    "## Final expression\n",
    "\n",
    "Insertion of \n",
    "Eq. ([30](#eq:2-42b)) in Eq. ([28](#eq:2-40)) results in"
   ]
  },
  {
   "cell_type": "markdown",
   "id": "4c2dbdf1",
   "metadata": {
    "editable": true
   },
   "source": [
    "$$\n",
    "\\langle \\alpha_1\\alpha_2|\\hat{H}_I|\\beta_1\\beta_2\\rangle = \\frac{1}{2} \\big[ \n",
    "\t\t\\langle \\alpha_1\\alpha_2|\\hat{v}|\\beta_1\\beta_2\\rangle- \\langle \\alpha_1\\alpha_2|\\hat{v}|\\beta_2\\beta_1\\rangle \\nonumber\n",
    "$$"
   ]
  },
  {
   "cell_type": "markdown",
   "id": "c17be931",
   "metadata": {
    "editable": true
   },
   "source": [
    "$$\n",
    "- \\langle \\alpha_2\\alpha_1|\\hat{v}|\\beta_1\\beta_2\\rangle + \\langle \\alpha_2\\alpha_1|\\hat{v}|\\beta_2\\beta_1\\rangle \\big] \\nonumber\n",
    "$$"
   ]
  },
  {
   "cell_type": "markdown",
   "id": "70787467",
   "metadata": {
    "editable": true
   },
   "source": [
    "$$\n",
    "= \\langle \\alpha_1\\alpha_2|\\hat{v}|\\beta_1\\beta_2\\rangle - \\langle \\alpha_1\\alpha_2|\\hat{v}|\\beta_2\\beta_1\\rangle \\nonumber\n",
    "$$"
   ]
  },
  {
   "cell_type": "markdown",
   "id": "52dedb9f",
   "metadata": {
    "editable": true
   },
   "source": [
    "<!-- Equation labels as ordinary links -->\n",
    "<div id=\"eq:2-43b\"></div>\n",
    "\n",
    "$$\n",
    "\\begin{equation} \n",
    "\t= \\langle \\alpha_1\\alpha_2|\\hat{v}|\\beta_1\\beta_2\\rangle_{\\mathrm{AS}}. \\label{eq:2-43b} \\tag{31}\n",
    "\\end{equation}\n",
    "$$"
   ]
  },
  {
   "cell_type": "markdown",
   "id": "8b64a524",
   "metadata": {
    "editable": true
   },
   "source": [
    "## Rewriting the two-body operator\n",
    "\n",
    "The two-body operator can also be expressed in terms of the anti-symmetrized matrix elements we discussed previously as"
   ]
  },
  {
   "cell_type": "markdown",
   "id": "bbfe2419",
   "metadata": {
    "editable": true
   },
   "source": [
    "$$\n",
    "\\hat{H}_I = \\frac{1}{2} \\sum_{\\alpha\\beta\\gamma\\delta}  \\langle \\alpha \\beta|\\hat{v}|\\gamma \\delta\\rangle\n",
    "\t\ta_\\alpha^{\\dagger} a_\\beta^{\\dagger} a_\\delta a_\\gamma \\nonumber\n",
    "$$"
   ]
  },
  {
   "cell_type": "markdown",
   "id": "fda8377f",
   "metadata": {
    "editable": true
   },
   "source": [
    "$$\n",
    "= \\frac{1}{4} \\sum_{\\alpha\\beta\\gamma\\delta} \\left[ \\langle \\alpha \\beta|\\hat{v}|\\gamma \\delta\\rangle -\n",
    "\t\t\\langle \\alpha \\beta|\\hat{v}|\\delta\\gamma \\rangle \\right] \n",
    "\t\ta_\\alpha^{\\dagger} a_\\beta^{\\dagger} a_\\delta a_\\gamma \\nonumber\n",
    "$$"
   ]
  },
  {
   "cell_type": "markdown",
   "id": "33a5419e",
   "metadata": {
    "editable": true
   },
   "source": [
    "<!-- Equation labels as ordinary links -->\n",
    "<div id=\"eq:2-45\"></div>\n",
    "\n",
    "$$\n",
    "\\begin{equation} \n",
    "\t= \\frac{1}{4} \\sum_{\\alpha\\beta\\gamma\\delta} \\langle \\alpha \\beta|\\hat{v}|\\gamma \\delta\\rangle_{\\mathrm{AS}}\n",
    "\t\ta_\\alpha^{\\dagger} a_\\beta^{\\dagger} a_\\delta a_\\gamma \\label{eq:2-45} \\tag{32}\n",
    "\\end{equation}\n",
    "$$"
   ]
  },
  {
   "cell_type": "markdown",
   "id": "b651c55a",
   "metadata": {
    "editable": true
   },
   "source": [
    "## Antisymmetrized matrix elements\n",
    "\n",
    "The factors in front of the operator, either  $\\frac{1}{4}$ or \n",
    "$\\frac{1}{2}$ tells whether we use antisymmetrized matrix elements or not. \n",
    "\n",
    "We can now express the Hamiltonian operator for a many-fermion system  in the occupation basis representation\n",
    "as"
   ]
  },
  {
   "cell_type": "markdown",
   "id": "729aa614",
   "metadata": {
    "editable": true
   },
   "source": [
    "<!-- Equation labels as ordinary links -->\n",
    "<div id=\"eq:2-46b\"></div>\n",
    "\n",
    "$$\n",
    "\\begin{equation}\n",
    "\tH = \\sum_{\\alpha, \\beta} \\langle \\alpha|\\hat{t}+\\hat{u}_{\\mathrm{ext}}|\\beta\\rangle a_\\alpha^{\\dagger} a_\\beta + \\frac{1}{4} \\sum_{\\alpha\\beta\\gamma\\delta}\n",
    "\t\t\\langle \\alpha \\beta|\\hat{v}|\\gamma \\delta\\rangle a_\\alpha^{\\dagger} a_\\beta^{\\dagger} a_\\delta a_\\gamma. \\label{eq:2-46b} \\tag{33}\n",
    "\\end{equation}\n",
    "$$"
   ]
  },
  {
   "cell_type": "markdown",
   "id": "8c062890",
   "metadata": {
    "editable": true
   },
   "source": [
    "This is the form we will use in the rest of these lectures, assuming that we work with anti-symmetrized two-body matrix elements."
   ]
  },
  {
   "cell_type": "markdown",
   "id": "096d946e",
   "metadata": {
    "editable": true
   },
   "source": [
    "## Wick's theorem\n",
    "The proof and derivation will be given by the whiteboard notes for week 36"
   ]
  }
 ],
 "metadata": {},
 "nbformat": 4,
 "nbformat_minor": 5
}
