{
 "cells": [
  {
   "cell_type": "markdown",
   "id": "7daec281",
   "metadata": {
    "editable": true
   },
   "source": [
    "<!-- HTML file automatically generated from DocOnce source (https://github.com/doconce/doconce/)\n",
    "doconce format html week36.do.txt --no_mako -->\n",
    "<!-- dom:TITLE: Week 36: Operators in second quantization, computation of expectation values and Wick's theorem -->"
   ]
  },
  {
   "cell_type": "markdown",
   "id": "28e662fc",
   "metadata": {
    "editable": true
   },
   "source": [
    "# Week 36: Operators in second quantization, computation of expectation values and Wick's theorem\n",
    "**Morten Hjorth-Jensen**, Department of Physics and Center for Computing in Science Education, University of Oslo, Norway and Department of Physics and Astronomy and Facility for Rare Isotope Beams, Michigan State University, USA\n",
    "\n",
    "Date: **Week 36, September 4-8, 2023**"
   ]
  },
  {
   "cell_type": "markdown",
   "id": "e6315b83",
   "metadata": {
    "editable": true
   },
   "source": [
    "## Week 36\n",
    "\n",
    "* Topics to be covered\n",
    "\n",
    "a. Thursday: Second quantization, operators in second quantization and diagrammatic representation\n",
    "\n",
    "b. [Video of lecture](https://youtu.be/CQQ6DIuw0R8)\n",
    "\n",
    "c. [Whiteboard notes](https://github.com/ManyBodyPhysics/FYS4480/blob/master/doc/HandwrittenNotes/2023/LectureSeptember7.pdf)\n",
    "\n",
    "d. Friday: Second quantization and Wick's theorem\n",
    "\n",
    "e. [Video of lecture](https://youtu.be/agI_pf7-iTY)\n",
    "\n",
    "f. [Whiteboard  notes](https://github.com/ManyBodyPhysics/FYS4480/blob/master/doc/HandwrittenNotes/2023/LectureSeptember8.pdf)\n",
    "\n",
    "* Lecture Material: These slides, handwritten notes and\tSzabo and Ostlund sections 2.3 and 2.4.\n",
    "\n",
    "* [Second exercise set](https://github.com/ManyBodyPhysics/FYS4480/blob/master/doc/Exercises/2023/ExercisesWeek36.pdf)"
   ]
  },
  {
   "cell_type": "markdown",
   "id": "0bed00f7",
   "metadata": {
    "editable": true
   },
   "source": [
    "## Second quantization, brief summary from week 35\n",
    "\n",
    "We can summarize  our findings from last week as"
   ]
  },
  {
   "cell_type": "markdown",
   "id": "c9fe3e97",
   "metadata": {
    "editable": true
   },
   "source": [
    "<!-- Equation labels as ordinary links -->\n",
    "<div id=\"eq:2-20\"></div>\n",
    "\n",
    "$$\n",
    "\\begin{equation}\n",
    "\t\\{a_\\alpha^{\\dagger},a_\\beta \\} = \\delta_{\\alpha\\beta} \\label{eq:2-20} \\tag{1}\n",
    "\\end{equation}\n",
    "$$"
   ]
  },
  {
   "cell_type": "markdown",
   "id": "17fbae2b",
   "metadata": {
    "editable": true
   },
   "source": [
    "with  $\\delta_{\\alpha\\beta}$ is the Kroenecker $\\delta$-symbol.\n",
    "\n",
    "The properties of the creation and annihilation operators can be summarized as (for fermions)"
   ]
  },
  {
   "cell_type": "markdown",
   "id": "8a2356f1",
   "metadata": {
    "editable": true
   },
   "source": [
    "$$\n",
    "a_\\alpha^{\\dagger}|0\\rangle \\equiv  |\\alpha\\rangle,\n",
    "$$"
   ]
  },
  {
   "cell_type": "markdown",
   "id": "c30886f8",
   "metadata": {
    "editable": true
   },
   "source": [
    "and"
   ]
  },
  {
   "cell_type": "markdown",
   "id": "55a42fee",
   "metadata": {
    "editable": true
   },
   "source": [
    "$$\n",
    "a_\\alpha^{\\dagger}|\\alpha_1\\dots \\alpha_n\\rangle_{\\mathrm{AS}} \\equiv  |\\alpha\\alpha_1\\dots \\alpha_n\\rangle_{\\mathrm{AS}}.\n",
    "$$"
   ]
  },
  {
   "cell_type": "markdown",
   "id": "4b1c03fb",
   "metadata": {
    "editable": true
   },
   "source": [
    "from which follows"
   ]
  },
  {
   "cell_type": "markdown",
   "id": "abd3dd58",
   "metadata": {
    "editable": true
   },
   "source": [
    "$$\n",
    "|\\alpha_1\\dots \\alpha_n\\rangle_{\\mathrm{AS}} = a_{\\alpha_1}^{\\dagger} a_{\\alpha_2}^{\\dagger} \\dots a_{\\alpha_n}^{\\dagger} |0\\rangle.\n",
    "$$"
   ]
  },
  {
   "cell_type": "markdown",
   "id": "b9911a89",
   "metadata": {
    "editable": true
   },
   "source": [
    "The hermitian conjugate has the folowing properties"
   ]
  },
  {
   "cell_type": "markdown",
   "id": "88147341",
   "metadata": {
    "editable": true
   },
   "source": [
    "$$\n",
    "a_{\\alpha} = ( a_{\\alpha}^{\\dagger} )^{\\dagger}.\n",
    "$$"
   ]
  },
  {
   "cell_type": "markdown",
   "id": "ff654ec0",
   "metadata": {
    "editable": true
   },
   "source": [
    "Finally we found"
   ]
  },
  {
   "cell_type": "markdown",
   "id": "95211012",
   "metadata": {
    "editable": true
   },
   "source": [
    "$$\n",
    "a_\\alpha\\underbrace{|\\alpha_1'\\alpha_2' \\dots \\alpha_{n+1}'}\\rangle_{\\neq \\alpha} = 0, \\quad\n",
    "\t\t\\textrm{in particular } a_\\alpha |0\\rangle = 0,\n",
    "$$"
   ]
  },
  {
   "cell_type": "markdown",
   "id": "006897f2",
   "metadata": {
    "editable": true
   },
   "source": [
    "and"
   ]
  },
  {
   "cell_type": "markdown",
   "id": "6dfbeef0",
   "metadata": {
    "editable": true
   },
   "source": [
    "$$\n",
    "a_\\alpha |\\alpha\\alpha_1\\alpha_2 \\dots \\alpha_{n}\\rangle = |\\alpha_1\\alpha_2 \\dots \\alpha_{n}\\rangle,\n",
    "$$"
   ]
  },
  {
   "cell_type": "markdown",
   "id": "b8ee7970",
   "metadata": {
    "editable": true
   },
   "source": [
    "and the corresponding commutator algebra"
   ]
  },
  {
   "cell_type": "markdown",
   "id": "f12d007a",
   "metadata": {
    "editable": true
   },
   "source": [
    "$$\n",
    "\\{a_{\\alpha}^{\\dagger},a_{\\beta}^{\\dagger}\\} = \\{a_{\\alpha},a_{\\beta}\\} = 0 \\hspace{0.5cm} \n",
    "\\{a_\\alpha^{\\dagger},a_\\beta \\} = \\delta_{\\alpha\\beta}.\n",
    "$$"
   ]
  },
  {
   "cell_type": "markdown",
   "id": "c2179dae",
   "metadata": {
    "editable": true
   },
   "source": [
    "## One-body operators in second quantization\n",
    "\n",
    "A very useful operator is the so-called number-operator.  Most physics\n",
    "cases we will study in this text conserve the total number of\n",
    "particles.  The number operator is therefore a useful quantity which\n",
    "allows us to test that our many-body formalism conserves the number of\n",
    "particles.  In for example $(d,p)$ or $(p,d)$ reactions it is\n",
    "important to be able to describe quantum mechanical states where\n",
    "particles get added or removed.  A creation operator\n",
    "$a_\\alpha^{\\dagger}$ adds one particle to the single-particle state\n",
    "$\\alpha$ of a give many-body state vector, while an annihilation\n",
    "operator $a_\\alpha$ removes a particle from a single-particle state\n",
    "$\\alpha$.\n",
    "\n",
    "Let us consider an operator proportional with $a_\\alpha^{\\dagger} a_\\beta$ and \n",
    "$\\alpha=\\beta$. It acts on an $n$-particle state \n",
    "resulting in"
   ]
  },
  {
   "cell_type": "markdown",
   "id": "7cc36652",
   "metadata": {
    "editable": true
   },
   "source": [
    "<!-- Equation labels as ordinary links -->\n",
    "<div id=\"_auto1\"></div>\n",
    "\n",
    "$$\n",
    "\\begin{equation}\n",
    "\ta_\\alpha^{\\dagger} a_\\alpha |\\alpha_1\\alpha_2 \\dots \\alpha_{n}\\rangle = \n",
    "\t\\begin{cases}\n",
    "\t\t0  &\\alpha \\notin \\{\\alpha_i\\} \\\\\n",
    "\t\t\\\\\n",
    "\t\t|\\alpha_1\\alpha_2 \\dots \\alpha_{n}\\rangle & \\alpha \\in \\{\\alpha_i\\}\n",
    "\t\\end{cases}\n",
    "\\label{_auto1} \\tag{2}\n",
    "\\end{equation}\n",
    "$$"
   ]
  },
  {
   "cell_type": "markdown",
   "id": "3f682330",
   "metadata": {
    "editable": true
   },
   "source": [
    "Summing over all possible one-particle states we arrive at"
   ]
  },
  {
   "cell_type": "markdown",
   "id": "94528e12",
   "metadata": {
    "editable": true
   },
   "source": [
    "<!-- Equation labels as ordinary links -->\n",
    "<div id=\"eq:2-21\"></div>\n",
    "\n",
    "$$\n",
    "\\begin{equation}\n",
    "\t\\left( \\sum_\\alpha a_\\alpha^{\\dagger} a_\\alpha \\right) |\\alpha_1\\alpha_2 \\dots \\alpha_{n}\\rangle = \n",
    "\tn |\\alpha_1\\alpha_2 \\dots \\alpha_{n}\\rangle \\label{eq:2-21} \\tag{3}\n",
    "\\end{equation}\n",
    "$$"
   ]
  },
  {
   "cell_type": "markdown",
   "id": "c22481d7",
   "metadata": {
    "editable": true
   },
   "source": [
    "The operator"
   ]
  },
  {
   "cell_type": "markdown",
   "id": "7c566317",
   "metadata": {
    "editable": true
   },
   "source": [
    "<!-- Equation labels as ordinary links -->\n",
    "<div id=\"eq:2-22\"></div>\n",
    "\n",
    "$$\n",
    "\\begin{equation}\n",
    "\t\\hat{N} = \\sum_\\alpha a_\\alpha^{\\dagger} a_\\alpha \\label{eq:2-22} \\tag{4}\n",
    "\\end{equation}\n",
    "$$"
   ]
  },
  {
   "cell_type": "markdown",
   "id": "59f52049",
   "metadata": {
    "editable": true
   },
   "source": [
    "is called the number operator since it counts the number of particles in a give state vector when it acts \n",
    "on the different single-particle states.  It acts on one single-particle state at the time and falls \n",
    "therefore under category one-body operators.\n",
    "Next we look at another important one-body operator, namely $\\hat{H}_0$ and study its operator form in the \n",
    "occupation number representation.\n",
    "\n",
    "We want to obtain an expression for a one-body operator which conserves the number of particles.\n",
    "Here we study the one-body operator for the kinetic energy plus an eventual external one-body potential.\n",
    "The action of this operator on a particular $n$-body state with its pertinent expectation value has already\n",
    "been studied in coordinate  space.\n",
    "In coordinate space the operator reads"
   ]
  },
  {
   "cell_type": "markdown",
   "id": "ac841ea8",
   "metadata": {
    "editable": true
   },
   "source": [
    "<!-- Equation labels as ordinary links -->\n",
    "<div id=\"eq:2-23\"></div>\n",
    "\n",
    "$$\n",
    "\\begin{equation}\n",
    "\t\\hat{H}_0 = \\sum_i \\hat{h}_0(x_i) \\label{eq:2-23} \\tag{5}\n",
    "\\end{equation}\n",
    "$$"
   ]
  },
  {
   "cell_type": "markdown",
   "id": "d5e073bb",
   "metadata": {
    "editable": true
   },
   "source": [
    "and the anti-symmetric $n$-particle Slater determinant is defined as"
   ]
  },
  {
   "cell_type": "markdown",
   "id": "07ef3461",
   "metadata": {
    "editable": true
   },
   "source": [
    "$$\n",
    "\\Phi(x_1, x_2,\\dots ,x_n,\\alpha_1,\\alpha_2,\\dots, \\alpha_n)= \\frac{1}{\\sqrt{n!}} \\sum_p (-1)^p\\hat{P}\\psi_{\\alpha_1}(x_1)\\psi_{\\alpha_2}(x_2) \\dots \\psi_{\\alpha_n}(x_n).\n",
    "$$"
   ]
  },
  {
   "cell_type": "markdown",
   "id": "1fe62b57",
   "metadata": {
    "editable": true
   },
   "source": [
    "Defining"
   ]
  },
  {
   "cell_type": "markdown",
   "id": "d51f6b28",
   "metadata": {
    "editable": true
   },
   "source": [
    "<!-- Equation labels as ordinary links -->\n",
    "<div id=\"eq:2-25\"></div>\n",
    "\n",
    "$$\n",
    "\\begin{equation}\n",
    "\t\\hat{h}_0(x_i) \\psi_{\\alpha_i}(x_i) = \\sum_{\\alpha_k'} \\psi_{\\alpha_k'}(x_i) \\langle\\alpha_k'|\\hat{h}_0|\\alpha_k\\rangle \\label{eq:2-25} \\tag{6}\n",
    "\\end{equation}\n",
    "$$"
   ]
  },
  {
   "cell_type": "markdown",
   "id": "4afe82d5",
   "metadata": {
    "editable": true
   },
   "source": [
    "we can easily  evaluate the action of $\\hat{H}_0$ on each product of one-particle functions in Slater determinant.\n",
    "From Eq. ([6](#eq:2-25))  we obtain the following result without  permuting any particle pair"
   ]
  },
  {
   "cell_type": "markdown",
   "id": "65594ee4",
   "metadata": {
    "editable": true
   },
   "source": [
    "$$\n",
    "\\left( \\sum_i \\hat{h}_0(x_i) \\right) \\psi_{\\alpha_1}(x_1)\\psi_{\\alpha_2}(x_2) \\dots \\psi_{\\alpha_n}(x_n) \\nonumber\n",
    "$$"
   ]
  },
  {
   "cell_type": "markdown",
   "id": "d512c463",
   "metadata": {
    "editable": true
   },
   "source": [
    "$$\n",
    "=\\sum_{\\alpha_1'} \\langle \\alpha_1'|\\hat{h}_0|\\alpha_1\\rangle \n",
    "\t\t\\psi_{\\alpha_1'}(x_1)\\psi_{\\alpha_2}(x_2) \\dots \\psi_{\\alpha_n}(x_n) \\nonumber\n",
    "$$"
   ]
  },
  {
   "cell_type": "markdown",
   "id": "1670a577",
   "metadata": {
    "editable": true
   },
   "source": [
    "$$\n",
    "+\\sum_{\\alpha_2'} \\langle \\alpha_2'|\\hat{h}_0|\\alpha_2\\rangle\n",
    "\t\t\\psi_{\\alpha_1}(x_1)\\psi_{\\alpha_2'}(x_2) \\dots \\psi_{\\alpha_n}(x_n) \\nonumber\n",
    "$$"
   ]
  },
  {
   "cell_type": "markdown",
   "id": "34975331",
   "metadata": {
    "editable": true
   },
   "source": [
    "$$\n",
    "+ \\dots \\nonumber\n",
    "$$"
   ]
  },
  {
   "cell_type": "markdown",
   "id": "679abf71",
   "metadata": {
    "editable": true
   },
   "source": [
    "<!-- Equation labels as ordinary links -->\n",
    "<div id=\"eq:2-26\"></div>\n",
    "\n",
    "$$\n",
    "\\begin{equation} \n",
    "\t+\\sum_{\\alpha_n'} \\langle \\alpha_n'|\\hat{h}_0|\\alpha_n\\rangle\n",
    "\t\t\\psi_{\\alpha_1}(x_1)\\psi_{\\alpha_2}(x_2) \\dots \\psi_{\\alpha_n'}(x_n) \\label{eq:2-26} \\tag{7}\n",
    "\\end{equation}\n",
    "$$"
   ]
  },
  {
   "cell_type": "markdown",
   "id": "758e3e4a",
   "metadata": {
    "editable": true
   },
   "source": [
    "If we interchange particles $1$ and $2$  we obtain"
   ]
  },
  {
   "cell_type": "markdown",
   "id": "f968e9b4",
   "metadata": {
    "editable": true
   },
   "source": [
    "$$\n",
    "\\left( \\sum_i \\hat{h}_0(x_i) \\right) \\psi_{\\alpha_1}(x_2)\\psi_{\\alpha_1}(x_2) \\dots \\psi_{\\alpha_n}(x_n) \\nonumber\n",
    "$$"
   ]
  },
  {
   "cell_type": "markdown",
   "id": "9a09d02f",
   "metadata": {
    "editable": true
   },
   "source": [
    "$$\n",
    "=\\sum_{\\alpha_2'} \\langle \\alpha_2'|\\hat{h}_0|\\alpha_2\\rangle \n",
    "\t\t\\psi_{\\alpha_1}(x_2)\\psi_{\\alpha_2'}(x_1) \\dots \\psi_{\\alpha_n}(x_n) \\nonumber\n",
    "$$"
   ]
  },
  {
   "cell_type": "markdown",
   "id": "50657e54",
   "metadata": {
    "editable": true
   },
   "source": [
    "$$\n",
    "+\\sum_{\\alpha_1'} \\langle \\alpha_1'|\\hat{h}_0|\\alpha_1\\rangle\n",
    "\t\t\\psi_{\\alpha_1'}(x_2)\\psi_{\\alpha_2}(x_1) \\dots \\psi_{\\alpha_n}(x_n) \\nonumber\n",
    "$$"
   ]
  },
  {
   "cell_type": "markdown",
   "id": "190701f6",
   "metadata": {
    "editable": true
   },
   "source": [
    "$$\n",
    "+ \\dots \\nonumber\n",
    "$$"
   ]
  },
  {
   "cell_type": "markdown",
   "id": "0b8568bb",
   "metadata": {
    "editable": true
   },
   "source": [
    "<!-- Equation labels as ordinary links -->\n",
    "<div id=\"eq:2-27\"></div>\n",
    "\n",
    "$$\n",
    "\\begin{equation} \n",
    "\t+\\sum_{\\alpha_n'} \\langle \\alpha_n'|\\hat{h}_0|\\alpha_n\\rangle\n",
    "\t\t\\psi_{\\alpha_1}(x_2)\\psi_{\\alpha_1}(x_2) \\dots \\psi_{\\alpha_n'}(x_n) \\label{eq:2-27} \\tag{8}\n",
    "\\end{equation}\n",
    "$$"
   ]
  },
  {
   "cell_type": "markdown",
   "id": "4452bd32",
   "metadata": {
    "editable": true
   },
   "source": [
    "We can continue by computing all possible permutations. \n",
    "We rewrite also our Slater determinant in its second quantized form and skip the dependence on the quantum numbers $x_i.$\n",
    "Summing up all contributions and taking care of all phases\n",
    "$(-1)^p$ we arrive at"
   ]
  },
  {
   "cell_type": "markdown",
   "id": "cea93ea4",
   "metadata": {
    "editable": true
   },
   "source": [
    "$$\n",
    "\\hat{H}_0|\\alpha_1,\\alpha_2,\\dots, \\alpha_n\\rangle = \\sum_{\\alpha_1'}\\langle \\alpha_1'|\\hat{h}_0|\\alpha_1\\rangle\n",
    "\t\t|\\alpha_1'\\alpha_2 \\dots \\alpha_{n}\\rangle \\nonumber\n",
    "$$"
   ]
  },
  {
   "cell_type": "markdown",
   "id": "e500e4b6",
   "metadata": {
    "editable": true
   },
   "source": [
    "$$\n",
    "+ \\sum_{\\alpha_2'} \\langle \\alpha_2'|\\hat{h}_0|\\alpha_2\\rangle\n",
    "\t\t|\\alpha_1\\alpha_2' \\dots \\alpha_{n}\\rangle \\nonumber\n",
    "$$"
   ]
  },
  {
   "cell_type": "markdown",
   "id": "a1058cf2",
   "metadata": {
    "editable": true
   },
   "source": [
    "$$\n",
    "+ \\dots \\nonumber\n",
    "$$"
   ]
  },
  {
   "cell_type": "markdown",
   "id": "78f70149",
   "metadata": {
    "editable": true
   },
   "source": [
    "<!-- Equation labels as ordinary links -->\n",
    "<div id=\"eq:2-28\"></div>\n",
    "\n",
    "$$\n",
    "\\begin{equation} \n",
    "\t+ \\sum_{\\alpha_n'} \\langle \\alpha_n'|\\hat{h}_0|\\alpha_n\\rangle\n",
    "\t\t|\\alpha_1\\alpha_2 \\dots \\alpha_{n}'\\rangle \\label{eq:2-28} \\tag{9}\n",
    "\\end{equation}\n",
    "$$"
   ]
  },
  {
   "cell_type": "markdown",
   "id": "20600196",
   "metadata": {
    "editable": true
   },
   "source": [
    "In Eq. ([9](#eq:2-28)) \n",
    "we have expressed the action of the one-body operator\n",
    "of Eq. ([5](#eq:2-23)) on the  $n$-body state in its second quantized form.\n",
    "This equation can be further manipulated if we use the properties of the creation and annihilation operator\n",
    "on each primed quantum number, that is"
   ]
  },
  {
   "cell_type": "markdown",
   "id": "94abf973",
   "metadata": {
    "editable": true
   },
   "source": [
    "<!-- Equation labels as ordinary links -->\n",
    "<div id=\"eq:2-29\"></div>\n",
    "\n",
    "$$\n",
    "\\begin{equation}\n",
    "\t|\\alpha_1\\alpha_2 \\dots \\alpha_k' \\dots \\alpha_{n}\\rangle = \n",
    "\t\ta_{\\alpha_k'}^{\\dagger}  a_{\\alpha_k} |\\alpha_1\\alpha_2 \\dots \\alpha_k \\dots \\alpha_{n}\\rangle \\label{eq:2-29} \\tag{10}\n",
    "\\end{equation}\n",
    "$$"
   ]
  },
  {
   "cell_type": "markdown",
   "id": "708e7218",
   "metadata": {
    "editable": true
   },
   "source": [
    "Inserting this in the right-hand side of Eq. ([9](#eq:2-28)) results in"
   ]
  },
  {
   "cell_type": "markdown",
   "id": "e087328b",
   "metadata": {
    "editable": true
   },
   "source": [
    "$$\n",
    "\\hat{H}_0|\\alpha_1\\alpha_2 \\dots \\alpha_{n}\\rangle = \\sum_{\\alpha_1'}\\langle \\alpha_1'|\\hat{h}_0|\\alpha_1\\rangle\n",
    "\t\ta_{\\alpha_1'}^{\\dagger}  a_{\\alpha_1} |\\alpha_1\\alpha_2 \\dots \\alpha_{n}\\rangle \\nonumber\n",
    "$$"
   ]
  },
  {
   "cell_type": "markdown",
   "id": "21a14669",
   "metadata": {
    "editable": true
   },
   "source": [
    "$$\n",
    "+ \\sum_{\\alpha_2'} \\langle \\alpha_2'|\\hat{h}_0|\\alpha_2\\rangle\n",
    "\t\ta_{\\alpha_2'}^{\\dagger}  a_{\\alpha_2} |\\alpha_1\\alpha_2 \\dots \\alpha_{n}\\rangle \\nonumber\n",
    "$$"
   ]
  },
  {
   "cell_type": "markdown",
   "id": "e78f87d7",
   "metadata": {
    "editable": true
   },
   "source": [
    "$$\n",
    "+ \\dots \\nonumber\n",
    "$$"
   ]
  },
  {
   "cell_type": "markdown",
   "id": "ed7ae638",
   "metadata": {
    "editable": true
   },
   "source": [
    "$$\n",
    "+ \\sum_{\\alpha_n'} \\langle \\alpha_n'|\\hat{h}_0|\\alpha_n\\rangle\n",
    "\t\ta_{\\alpha_n'}^{\\dagger}  a_{\\alpha_n} |\\alpha_1\\alpha_2 \\dots \\alpha_{n}\\rangle \\nonumber\n",
    "$$"
   ]
  },
  {
   "cell_type": "markdown",
   "id": "6f9e8a7f",
   "metadata": {
    "editable": true
   },
   "source": [
    "<!-- Equation labels as ordinary links -->\n",
    "<div id=\"eq:2-30a\"></div>\n",
    "\n",
    "$$\n",
    "\\begin{equation} \n",
    "\t= \\sum_{\\alpha, \\beta} \\langle \\alpha|\\hat{h}_0|\\beta\\rangle a_\\alpha^{\\dagger} a_\\beta \n",
    "\t\t|\\alpha_1\\alpha_2 \\dots \\alpha_{n}\\rangle \\label{eq:2-30a} \\tag{11}\n",
    "\\end{equation}\n",
    "$$"
   ]
  },
  {
   "cell_type": "markdown",
   "id": "61664a55",
   "metadata": {
    "editable": true
   },
   "source": [
    "In the number occupation representation or second quantization we get the following expression for a one-body \n",
    "operator which conserves the number of particles"
   ]
  },
  {
   "cell_type": "markdown",
   "id": "2e4ab59d",
   "metadata": {
    "editable": true
   },
   "source": [
    "<!-- Equation labels as ordinary links -->\n",
    "<div id=\"eq:2-30b\"></div>\n",
    "\n",
    "$$\n",
    "\\begin{equation}\n",
    "\t\\hat{H}_0 = \\sum_{\\alpha\\beta} \\langle \\alpha|\\hat{h}_0|\\beta\\rangle a_\\alpha^{\\dagger} a_\\beta \\label{eq:2-30b} \\tag{12}\n",
    "\\end{equation}\n",
    "$$"
   ]
  },
  {
   "cell_type": "markdown",
   "id": "7356fa7b",
   "metadata": {
    "editable": true
   },
   "source": [
    "Obviously, $\\hat{H}_0$ can be replaced by any other one-body  operator which preserved the number\n",
    "of particles. The stucture of the operator is therefore not limited to say the kinetic or single-particle energy only.\n",
    "\n",
    "The opearator $\\hat{H}_0$ takes a particle from the single-particle state $\\beta$  to the single-particle state $\\alpha$ \n",
    "with a probability for the transition given by the expectation value $\\langle \\alpha|\\hat{h}_0|\\beta\\rangle$.\n",
    "\n",
    "It is instructive to verify Eq. ([12](#eq:2-30b)) by computing the expectation value of $\\hat{H}_0$ \n",
    "between two single-particle states"
   ]
  },
  {
   "cell_type": "markdown",
   "id": "b4b2851b",
   "metadata": {
    "editable": true
   },
   "source": [
    "<!-- Equation labels as ordinary links -->\n",
    "<div id=\"eq:2-30c\"></div>\n",
    "\n",
    "$$\n",
    "\\begin{equation}\n",
    "\t\\langle \\alpha_1|\\hat{h}_0|\\alpha_2\\rangle = \\sum_{\\alpha\\beta} \\langle \\alpha|\\hat{h}_0|\\beta\\rangle\n",
    "\t\t\\langle 0|a_{\\alpha_1}a_\\alpha^{\\dagger} a_\\beta a_{\\alpha_2}^{\\dagger}|0\\rangle \\label{eq:2-30c} \\tag{13}\n",
    "\\end{equation}\n",
    "$$"
   ]
  },
  {
   "cell_type": "markdown",
   "id": "b0a9e9bc",
   "metadata": {
    "editable": true
   },
   "source": [
    "Using the commutation relations for the creation and annihilation operators we have"
   ]
  },
  {
   "cell_type": "markdown",
   "id": "6a0abe9c",
   "metadata": {
    "editable": true
   },
   "source": [
    "<!-- Equation labels as ordinary links -->\n",
    "<div id=\"eq:2-30d\"></div>\n",
    "\n",
    "$$\n",
    "\\begin{equation}\n",
    "a_{\\alpha_1}a_\\alpha^{\\dagger} a_\\beta a_{\\alpha_2}^{\\dagger} = (\\delta_{\\alpha \\alpha_1} - a_\\alpha^{\\dagger} a_{\\alpha_1} )(\\delta_{\\beta \\alpha_2} - a_{\\alpha_2}^{\\dagger} a_{\\beta} ), \\label{eq:2-30d} \\tag{14}\n",
    "\\end{equation}\n",
    "$$"
   ]
  },
  {
   "cell_type": "markdown",
   "id": "0e0df99a",
   "metadata": {
    "editable": true
   },
   "source": [
    "which results in"
   ]
  },
  {
   "cell_type": "markdown",
   "id": "3bded847",
   "metadata": {
    "editable": true
   },
   "source": [
    "<!-- Equation labels as ordinary links -->\n",
    "<div id=\"eq:2-30e\"></div>\n",
    "\n",
    "$$\n",
    "\\begin{equation}\n",
    "\\langle 0|a_{\\alpha_1}a_\\alpha^{\\dagger} a_\\beta a_{\\alpha_2}^{\\dagger}|0\\rangle = \\delta_{\\alpha \\alpha_1} \\delta_{\\beta \\alpha_2} \\label{eq:2-30e} \\tag{15}\n",
    "\\end{equation}\n",
    "$$"
   ]
  },
  {
   "cell_type": "markdown",
   "id": "e7bc68a6",
   "metadata": {
    "editable": true
   },
   "source": [
    "and"
   ]
  },
  {
   "cell_type": "markdown",
   "id": "c436512a",
   "metadata": {
    "editable": true
   },
   "source": [
    "<!-- Equation labels as ordinary links -->\n",
    "<div id=\"eq:2-30f\"></div>\n",
    "\n",
    "$$\n",
    "\\begin{equation}\n",
    "\\langle \\alpha_1|\\hat{h}_0|\\alpha_2\\rangle = \\sum_{\\alpha\\beta} \\langle \\alpha|\\hat{h}_0|\\beta\\rangle\\delta_{\\alpha \\alpha_1} \\delta_{\\beta \\alpha_2} = \\langle \\alpha_1|\\hat{h}_0|\\alpha_2\\rangle \\label{eq:2-30f} \\tag{16}\n",
    "\\end{equation}\n",
    "$$"
   ]
  },
  {
   "cell_type": "markdown",
   "id": "f6a5e399",
   "metadata": {
    "editable": true
   },
   "source": [
    "## Two-body operators in second quantization\n",
    "\n",
    "Let us now derive the expression for our two-body interaction part, which also conserves the number of particles.\n",
    "We can proceed in exactly the same way as for the one-body operator. In the coordinate representation our\n",
    "two-body interaction part takes the following expression"
   ]
  },
  {
   "cell_type": "markdown",
   "id": "e7786274",
   "metadata": {
    "editable": true
   },
   "source": [
    "<!-- Equation labels as ordinary links -->\n",
    "<div id=\"eq:2-31\"></div>\n",
    "\n",
    "$$\n",
    "\\begin{equation}\n",
    "\t\\hat{H}_I = \\sum_{i < j} V(x_i,x_j) \\label{eq:2-31} \\tag{17}\n",
    "\\end{equation}\n",
    "$$"
   ]
  },
  {
   "cell_type": "markdown",
   "id": "0b730d6c",
   "metadata": {
    "editable": true
   },
   "source": [
    "where the summation runs over distinct pairs. The term $V$ can be an interaction model for the nucleon-nucleon interaction\n",
    "or the interaction between two electrons. It can also include additional two-body interaction terms. \n",
    "\n",
    "The action of this operator on a product of \n",
    "two single-particle functions is defined as"
   ]
  },
  {
   "cell_type": "markdown",
   "id": "5020ee09",
   "metadata": {
    "editable": true
   },
   "source": [
    "<!-- Equation labels as ordinary links -->\n",
    "<div id=\"eq:2-32\"></div>\n",
    "\n",
    "$$\n",
    "\\begin{equation}\n",
    "\tV(x_i,x_j) \\psi_{\\alpha_k}(x_i) \\psi_{\\alpha_l}(x_j) = \\sum_{\\alpha_k'\\alpha_l'} \n",
    "\t\t\\psi_{\\alpha_k}'(x_i)\\psi_{\\alpha_l}'(x_j) \n",
    "\t\t\\langle \\alpha_k'\\alpha_l'|\\hat{v}|\\alpha_k\\alpha_l\\rangle \\label{eq:2-32} \\tag{18}\n",
    "\\end{equation}\n",
    "$$"
   ]
  },
  {
   "cell_type": "markdown",
   "id": "9e919254",
   "metadata": {
    "editable": true
   },
   "source": [
    "We can now let $\\hat{H}_I$ act on all terms in the linear combination for $|\\alpha_1\\alpha_2\\dots\\alpha_n\\rangle$. Without any permutations we have"
   ]
  },
  {
   "cell_type": "markdown",
   "id": "9eedd8d4",
   "metadata": {
    "editable": true
   },
   "source": [
    "$$\n",
    "\\left( \\sum_{i < j} V(x_i,x_j) \\right) \\psi_{\\alpha_1}(x_1)\\psi_{\\alpha_2}(x_2)\\dots \\psi_{\\alpha_n}(x_n) \\nonumber\n",
    "$$"
   ]
  },
  {
   "cell_type": "markdown",
   "id": "5adf8844",
   "metadata": {
    "editable": true
   },
   "source": [
    "$$\n",
    "= \\sum_{\\alpha_1'\\alpha_2'} \\langle \\alpha_1'\\alpha_2'|\\hat{v}|\\alpha_1\\alpha_2\\rangle\n",
    "\t\t\\psi_{\\alpha_1}'(x_1)\\psi_{\\alpha_2}'(x_2)\\dots \\psi_{\\alpha_n}(x_n) \\nonumber\n",
    "$$"
   ]
  },
  {
   "cell_type": "markdown",
   "id": "f2de49f4",
   "metadata": {
    "editable": true
   },
   "source": [
    "$$\n",
    "+ \\dots \\nonumber\n",
    "$$"
   ]
  },
  {
   "cell_type": "markdown",
   "id": "b9aea02c",
   "metadata": {
    "editable": true
   },
   "source": [
    "$$\n",
    "+ \\sum_{\\alpha_1'\\alpha_n'} \\langle \\alpha_1'\\alpha_n'|\\hat{v}|\\alpha_1\\alpha_n\\rangle\n",
    "\t\t\\psi_{\\alpha_1}'(x_1)\\psi_{\\alpha_2}(x_2)\\dots \\psi_{\\alpha_n}'(x_n) \\nonumber\n",
    "$$"
   ]
  },
  {
   "cell_type": "markdown",
   "id": "6695ca76",
   "metadata": {
    "editable": true
   },
   "source": [
    "$$\n",
    "+ \\dots \\nonumber\n",
    "$$"
   ]
  },
  {
   "cell_type": "markdown",
   "id": "897bcc29",
   "metadata": {
    "editable": true
   },
   "source": [
    "$$\n",
    "+ \\sum_{\\alpha_2'\\alpha_n'} \\langle \\alpha_2'\\alpha_n'|\\hat{v}|\\alpha_2\\alpha_n\\rangle\n",
    "\t\t\\psi_{\\alpha_1}(x_1)\\psi_{\\alpha_2}'(x_2)\\dots \\psi_{\\alpha_n}'(x_n) \\nonumber\n",
    "$$"
   ]
  },
  {
   "cell_type": "markdown",
   "id": "759fc92b",
   "metadata": {
    "editable": true
   },
   "source": [
    "<!-- Equation labels as ordinary links -->\n",
    "<div id=\"eq:2-33\"></div>\n",
    "\n",
    "$$\n",
    "\\begin{equation} \n",
    "\t  + \\dots \\label{eq:2-33} \\tag{19}\n",
    "\\end{equation}\n",
    "$$"
   ]
  },
  {
   "cell_type": "markdown",
   "id": "e62fa6a7",
   "metadata": {
    "editable": true
   },
   "source": [
    "where on the rhs we have a term for each distinct pairs. \n",
    "\n",
    "For the other terms on the rhs we obtain similar expressions  and summing over all terms we obtain"
   ]
  },
  {
   "cell_type": "markdown",
   "id": "37042d12",
   "metadata": {
    "editable": true
   },
   "source": [
    "$$\n",
    "H_I |\\alpha_1\\alpha_2\\dots\\alpha_n\\rangle = \\sum_{\\alpha_1', \\alpha_2'} \\langle \\alpha_1'\\alpha_2'|\\hat{v}|\\alpha_1\\alpha_2\\rangle\n",
    "\t\t|\\alpha_1'\\alpha_2'\\dots\\alpha_n\\rangle \\nonumber\n",
    "$$"
   ]
  },
  {
   "cell_type": "markdown",
   "id": "802dff99",
   "metadata": {
    "editable": true
   },
   "source": [
    "$$\n",
    "+ \\dots \\nonumber\n",
    "$$"
   ]
  },
  {
   "cell_type": "markdown",
   "id": "121d76e6",
   "metadata": {
    "editable": true
   },
   "source": [
    "$$\n",
    "+ \\sum_{\\alpha_1', \\alpha_n'} \\langle \\alpha_1'\\alpha_n'|\\hat{v}|\\alpha_1\\alpha_n\\rangle\n",
    "\t\t|\\alpha_1'\\alpha_2\\dots\\alpha_n'\\rangle \\nonumber\n",
    "$$"
   ]
  },
  {
   "cell_type": "markdown",
   "id": "ae3cf8b8",
   "metadata": {
    "editable": true
   },
   "source": [
    "$$\n",
    "+ \\dots \\nonumber\n",
    "$$"
   ]
  },
  {
   "cell_type": "markdown",
   "id": "e7cde020",
   "metadata": {
    "editable": true
   },
   "source": [
    "$$\n",
    "+ \\sum_{\\alpha_2', \\alpha_n'} \\langle \\alpha_2'\\alpha_n'|\\hat{v}|\\alpha_2\\alpha_n\\rangle\n",
    "\t\t|\\alpha_1\\alpha_2'\\dots\\alpha_n'\\rangle \\nonumber\n",
    "$$"
   ]
  },
  {
   "cell_type": "markdown",
   "id": "0f6624de",
   "metadata": {
    "editable": true
   },
   "source": [
    "<!-- Equation labels as ordinary links -->\n",
    "<div id=\"eq:2-34\"></div>\n",
    "\n",
    "$$\n",
    "\\begin{equation} \n",
    "\t + \\dots \\label{eq:2-34} \\tag{20}\n",
    "\\end{equation}\n",
    "$$"
   ]
  },
  {
   "cell_type": "markdown",
   "id": "d973201f",
   "metadata": {
    "editable": true
   },
   "source": [
    "We introduce second quantization via the relation"
   ]
  },
  {
   "cell_type": "markdown",
   "id": "71da1dc4",
   "metadata": {
    "editable": true
   },
   "source": [
    "$$\n",
    "a_{\\alpha_k'}^{\\dagger} a_{\\alpha_l'}^{\\dagger} a_{\\alpha_l} a_{\\alpha_k} \n",
    "\t\t|\\alpha_1\\alpha_2\\dots\\alpha_k\\dots\\alpha_l\\dots\\alpha_n\\rangle \\nonumber\n",
    "$$"
   ]
  },
  {
   "cell_type": "markdown",
   "id": "8d30744f",
   "metadata": {
    "editable": true
   },
   "source": [
    "$$\n",
    "= (-1)^{k-1} (-1)^{l-2} a_{\\alpha_k'}^{\\dagger} a_{\\alpha_l'}^{\\dagger} a_{\\alpha_l} a_{\\alpha_k}\n",
    "\t\t|\\alpha_k\\alpha_l \\underbrace{\\alpha_1\\alpha_2\\dots\\alpha_n}_{\\neq \\alpha_k,\\alpha_l}\\rangle \\nonumber\n",
    "$$"
   ]
  },
  {
   "cell_type": "markdown",
   "id": "d30130ba",
   "metadata": {
    "editable": true
   },
   "source": [
    "$$\n",
    "= (-1)^{k-1} (-1)^{l-2} \n",
    "\t|\\alpha_k'\\alpha_l' \\underbrace{\\alpha_1\\alpha_2\\dots\\alpha_n}_{\\neq \\alpha_k',\\alpha_l'}\\rangle \\nonumber\n",
    "$$"
   ]
  },
  {
   "cell_type": "markdown",
   "id": "72b7cf86",
   "metadata": {
    "editable": true
   },
   "source": [
    "<!-- Equation labels as ordinary links -->\n",
    "<div id=\"eq:2-35\"></div>\n",
    "\n",
    "$$\n",
    "\\begin{equation} \n",
    "\t= |\\alpha_1\\alpha_2\\dots\\alpha_k'\\dots\\alpha_l'\\dots\\alpha_n\\rangle \\label{eq:2-35} \\tag{21}\n",
    "\\end{equation}\n",
    "$$"
   ]
  },
  {
   "cell_type": "markdown",
   "id": "0654b2ba",
   "metadata": {
    "editable": true
   },
   "source": [
    "Inserting this in ([20](#eq:2-34)) gives"
   ]
  },
  {
   "cell_type": "markdown",
   "id": "8418a694",
   "metadata": {
    "editable": true
   },
   "source": [
    "$$\n",
    "H_I |\\alpha_1\\alpha_2\\dots\\alpha_n\\rangle\n",
    "\t= \\sum_{\\alpha_1', \\alpha_2'} \\langle \\alpha_1'\\alpha_2'|\\hat{v}|\\alpha_1\\alpha_2\\rangle\n",
    "\t\ta_{\\alpha_1'}^{\\dagger} a_{\\alpha_2'}^{\\dagger} a_{\\alpha_2} a_{\\alpha_1}\n",
    "\t\t|\\alpha_1\\alpha_2\\dots\\alpha_n\\rangle \\nonumber\n",
    "$$"
   ]
  },
  {
   "cell_type": "markdown",
   "id": "bb8ebf6e",
   "metadata": {
    "editable": true
   },
   "source": [
    "$$\n",
    "+ \\dots \\nonumber\n",
    "$$"
   ]
  },
  {
   "cell_type": "markdown",
   "id": "a774dff7",
   "metadata": {
    "editable": true
   },
   "source": [
    "$$\n",
    "= \\sum_{\\alpha_1', \\alpha_n'} \\langle \\alpha_1'\\alpha_n'|\\hat{v}|\\alpha_1\\alpha_n\\rangle\n",
    "\t\ta_{\\alpha_1'}^{\\dagger} a_{\\alpha_n'}^{\\dagger} a_{\\alpha_n} a_{\\alpha_1}\n",
    "\t\t|\\alpha_1\\alpha_2\\dots\\alpha_n\\rangle \\nonumber\n",
    "$$"
   ]
  },
  {
   "cell_type": "markdown",
   "id": "4a959ba1",
   "metadata": {
    "editable": true
   },
   "source": [
    "$$\n",
    "+ \\dots \\nonumber\n",
    "$$"
   ]
  },
  {
   "cell_type": "markdown",
   "id": "4f27ba57",
   "metadata": {
    "editable": true
   },
   "source": [
    "$$\n",
    "= \\sum_{\\alpha_2', \\alpha_n'} \\langle \\alpha_2'\\alpha_n'|\\hat{v}|\\alpha_2\\alpha_n\\rangle\n",
    "\t\ta_{\\alpha_2'}^{\\dagger} a_{\\alpha_n'}^{\\dagger} a_{\\alpha_n} a_{\\alpha_2}\n",
    "\t\t|\\alpha_1\\alpha_2\\dots\\alpha_n\\rangle \\nonumber\n",
    "$$"
   ]
  },
  {
   "cell_type": "markdown",
   "id": "f95c79ec",
   "metadata": {
    "editable": true
   },
   "source": [
    "$$\n",
    "+ \\dots \\nonumber\n",
    "$$"
   ]
  },
  {
   "cell_type": "markdown",
   "id": "ed76010f",
   "metadata": {
    "editable": true
   },
   "source": [
    "<!-- Equation labels as ordinary links -->\n",
    "<div id=\"eq:2-36\"></div>\n",
    "\n",
    "$$\n",
    "\\begin{equation} \n",
    "\t= \\sum_{\\alpha, \\beta, \\gamma, \\delta} ' \\langle \\alpha\\beta|\\hat{v}|\\gamma\\delta\\rangle\n",
    "\t\ta^{\\dagger}_\\alpha a^{\\dagger}_\\beta a_\\delta a_\\gamma\n",
    "\t\t|\\alpha_1\\alpha_2\\dots\\alpha_n\\rangle \\label{eq:2-36} \\tag{22}\n",
    "\\end{equation}\n",
    "$$"
   ]
  },
  {
   "cell_type": "markdown",
   "id": "1c4da298",
   "metadata": {
    "editable": true
   },
   "source": [
    "Here we let $\\sum'$ indicate that the sums running over $\\alpha$ and $\\beta$ run over all\n",
    "single-particle states, while the summations  $\\gamma$ and $\\delta$ \n",
    "run over all pairs of single-particle states. We wish to remove this restriction and since"
   ]
  },
  {
   "cell_type": "markdown",
   "id": "1c7e4684",
   "metadata": {
    "editable": true
   },
   "source": [
    "<!-- Equation labels as ordinary links -->\n",
    "<div id=\"eq:2-37\"></div>\n",
    "\n",
    "$$\n",
    "\\begin{equation}\n",
    "\t\\langle \\alpha\\beta|\\hat{v}|\\gamma\\delta\\rangle = \\langle \\beta\\alpha|\\hat{v}|\\delta\\gamma\\rangle \\label{eq:2-37} \\tag{23}\n",
    "\\end{equation}\n",
    "$$"
   ]
  },
  {
   "cell_type": "markdown",
   "id": "2a1660dc",
   "metadata": {
    "editable": true
   },
   "source": [
    "we get"
   ]
  },
  {
   "cell_type": "markdown",
   "id": "9b81ed1c",
   "metadata": {
    "editable": true
   },
   "source": [
    "<!-- Equation labels as ordinary links -->\n",
    "<div id=\"eq:2-38a\"></div>\n",
    "\n",
    "$$\n",
    "\\begin{equation}\n",
    "\t\\sum_{\\alpha\\beta} \\langle \\alpha\\beta|\\hat{v}|\\gamma\\delta\\rangle a^{\\dagger}_\\alpha a^{\\dagger}_\\beta a_\\delta a_\\gamma = \n",
    "\t\t\\sum_{\\alpha\\beta} \\langle \\beta\\alpha|\\hat{v}|\\delta\\gamma\\rangle \n",
    "\t\ta^{\\dagger}_\\alpha a^{\\dagger}_\\beta a_\\delta a_\\gamma \\label{eq:2-38a} \\tag{24} \n",
    "\\end{equation}\n",
    "$$"
   ]
  },
  {
   "cell_type": "markdown",
   "id": "ed4a6509",
   "metadata": {
    "editable": true
   },
   "source": [
    "<!-- Equation labels as ordinary links -->\n",
    "<div id=\"eq:2-38b\"></div>\n",
    "\n",
    "$$\n",
    "\\begin{equation} \n",
    "\t= \\sum_{\\alpha\\beta}\\langle \\beta\\alpha|\\hat{v}|\\delta\\gamma\\rangle\n",
    "\t\ta^{\\dagger}_\\beta a^{\\dagger}_\\alpha a_\\gamma a_\\delta \\label{eq:2-38b} \\tag{25}\n",
    "\\end{equation}\n",
    "$$"
   ]
  },
  {
   "cell_type": "markdown",
   "id": "b1957443",
   "metadata": {
    "editable": true
   },
   "source": [
    "where we  have used the anti-commutation rules.\n",
    "\n",
    "Changing the summation indices \n",
    "$\\alpha$ and $\\beta$ in ([25](#eq:2-38b)) we obtain"
   ]
  },
  {
   "cell_type": "markdown",
   "id": "d1f8c7a0",
   "metadata": {
    "editable": true
   },
   "source": [
    "<!-- Equation labels as ordinary links -->\n",
    "<div id=\"eq:2-38c\"></div>\n",
    "\n",
    "$$\n",
    "\\begin{equation}\n",
    "\t\\sum_{\\alpha\\beta} \\langle \\alpha\\beta|\\hat{v}|\\gamma\\delta\\rangle a^{\\dagger}_\\alpha a^{\\dagger}_\\beta a_\\delta a_\\gamma =\n",
    "\t\t \\sum_{\\alpha\\beta} \\langle \\alpha\\beta|\\hat{v}|\\delta\\gamma\\rangle \n",
    "\t\t  a^{\\dagger}_\\alpha a^{\\dagger}_\\beta  a_\\gamma a_\\delta \\label{eq:2-38c} \\tag{26}\n",
    "\\end{equation}\n",
    "$$"
   ]
  },
  {
   "cell_type": "markdown",
   "id": "3415a82b",
   "metadata": {
    "editable": true
   },
   "source": [
    "From this it follows that the restriction on the summation over $\\gamma$ and $\\delta$ can be removed if we multiply with a factor $\\frac{1}{2}$, resulting in"
   ]
  },
  {
   "cell_type": "markdown",
   "id": "715c5627",
   "metadata": {
    "editable": true
   },
   "source": [
    "<!-- Equation labels as ordinary links -->\n",
    "<div id=\"eq:2-39\"></div>\n",
    "\n",
    "$$\n",
    "\\begin{equation}\n",
    "\t\\hat{H}_I = \\frac{1}{2} \\sum_{\\alpha\\beta\\gamma\\delta} \\langle \\alpha\\beta|\\hat{v}|\\gamma\\delta\\rangle\n",
    "\t\ta^{\\dagger}_\\alpha a^{\\dagger}_\\beta a_\\delta a_\\gamma \\label{eq:2-39} \\tag{27}\n",
    "\\end{equation}\n",
    "$$"
   ]
  },
  {
   "cell_type": "markdown",
   "id": "1ff4aefc",
   "metadata": {
    "editable": true
   },
   "source": [
    "where we sum freely over all single-particle states $\\alpha$, \n",
    "$\\beta$, $\\gamma$ og $\\delta$.\n",
    "\n",
    "With this expression we can now verify that the second quantization form of $\\hat{H}_I$ in Eq. ([27](#eq:2-39)) \n",
    "results in the same matrix between two anti-symmetrized two-particle states as its corresponding coordinate\n",
    "space representation. We have"
   ]
  },
  {
   "cell_type": "markdown",
   "id": "03ab486f",
   "metadata": {
    "editable": true
   },
   "source": [
    "<!-- Equation labels as ordinary links -->\n",
    "<div id=\"eq:2-40\"></div>\n",
    "\n",
    "$$\n",
    "\\begin{equation}\n",
    "\t\\langle \\alpha_1 \\alpha_2|\\hat{H}_I|\\beta_1 \\beta_2\\rangle =\n",
    "\t\t\\frac{1}{2} \\sum_{\\alpha\\beta\\gamma\\delta}\n",
    "\t\t\t\\langle \\alpha\\beta|\\hat{v}|\\gamma\\delta\\rangle \\langle 0|a_{\\alpha_2} a_{\\alpha_1} \n",
    "\t\t\t a^{\\dagger}_\\alpha a^{\\dagger}_\\beta a_\\delta a_\\gamma \n",
    "\t\t\t a_{\\beta_1}^{\\dagger} a_{\\beta_2}^{\\dagger}|0\\rangle. \\label{eq:2-40} \\tag{28}\n",
    "\\end{equation}\n",
    "$$"
   ]
  },
  {
   "cell_type": "markdown",
   "id": "874ef058",
   "metadata": {
    "editable": true
   },
   "source": [
    "Using the commutation relations we get"
   ]
  },
  {
   "cell_type": "markdown",
   "id": "3322dea6",
   "metadata": {
    "editable": true
   },
   "source": [
    "$$\n",
    "a_{\\alpha_2} a_{\\alpha_1}a^{\\dagger}_\\alpha a^{\\dagger}_\\beta \n",
    "\t\ta_\\delta a_\\gamma a_{\\beta_1}^{\\dagger} a_{\\beta_2}^{\\dagger} \\nonumber\n",
    "$$"
   ]
  },
  {
   "cell_type": "markdown",
   "id": "6f89ea4f",
   "metadata": {
    "editable": true
   },
   "source": [
    "$$\n",
    "= a_{\\alpha_2} a_{\\alpha_1}a^{\\dagger}_\\alpha a^{\\dagger}_\\beta \n",
    "\t\t( a_\\delta \\delta_{\\gamma \\beta_1} a_{\\beta_2}^{\\dagger} - \n",
    "\t\ta_\\delta  a_{\\beta_1}^{\\dagger} a_\\gamma a_{\\beta_2}^{\\dagger} ) \\nonumber\n",
    "$$"
   ]
  },
  {
   "cell_type": "markdown",
   "id": "c2d55508",
   "metadata": {
    "editable": true
   },
   "source": [
    "$$\n",
    "= a_{\\alpha_2} a_{\\alpha_1}a^{\\dagger}_\\alpha a^{\\dagger}_\\beta \n",
    "\t\t(\\delta_{\\gamma \\beta_1} \\delta_{\\delta \\beta_2} - \\delta_{\\gamma \\beta_1} a_{\\beta_2}^{\\dagger} a_\\delta -\n",
    "\t\ta_\\delta a_{\\beta_1}^{\\dagger}\\delta_{\\gamma \\beta_2} +\n",
    "\t\ta_\\delta a_{\\beta_1}^{\\dagger} a_{\\beta_2}^{\\dagger} a_\\gamma ) \\nonumber\n",
    "$$"
   ]
  },
  {
   "cell_type": "markdown",
   "id": "3a6c8bc8",
   "metadata": {
    "editable": true
   },
   "source": [
    "$$\n",
    "= a_{\\alpha_2} a_{\\alpha_1}a^{\\dagger}_\\alpha a^{\\dagger}_\\beta \n",
    "\t\t(\\delta_{\\gamma \\beta_1} \\delta_{\\delta \\beta_2} - \\delta_{\\gamma \\beta_1} a_{\\beta_2}^{\\dagger} a_\\delta \\nonumber\n",
    "$$"
   ]
  },
  {
   "cell_type": "markdown",
   "id": "da5d91c3",
   "metadata": {
    "editable": true
   },
   "source": [
    "<!-- Equation labels as ordinary links -->\n",
    "<div id=\"eq:2-41\"></div>\n",
    "\n",
    "$$\n",
    "\\begin{equation} \n",
    "\t\t \\qquad - \\delta_{\\delta \\beta_1} \\delta_{\\gamma \\beta_2} + \\delta_{\\gamma \\beta_2} a_{\\beta_1}^{\\dagger} a_\\delta\n",
    "\t\t+ a_\\delta a_{\\beta_1}^{\\dagger} a_{\\beta_2}^{\\dagger} a_\\gamma ) \\label{eq:2-41} \\tag{29}\n",
    "\\end{equation}\n",
    "$$"
   ]
  },
  {
   "cell_type": "markdown",
   "id": "844f15ba",
   "metadata": {
    "editable": true
   },
   "source": [
    "The vacuum expectation value of this product of operators becomes"
   ]
  },
  {
   "cell_type": "markdown",
   "id": "64a856ed",
   "metadata": {
    "editable": true
   },
   "source": [
    "$$\n",
    "\\langle 0|a_{\\alpha_2} a_{\\alpha_1} a^{\\dagger}_\\alpha a^{\\dagger}_\\beta a_\\delta a_\\gamma \n",
    "\t\ta_{\\beta_1}^{\\dagger} a_{\\beta_2}^{\\dagger}|0\\rangle \\nonumber\n",
    "$$"
   ]
  },
  {
   "cell_type": "markdown",
   "id": "dfd61f3d",
   "metadata": {
    "editable": true
   },
   "source": [
    "$$\n",
    "= (\\delta_{\\gamma \\beta_1} \\delta_{\\delta \\beta_2} -\n",
    "\t\t\\delta_{\\delta \\beta_1} \\delta_{\\gamma \\beta_2} ) \n",
    "\t\t\\langle 0|a_{\\alpha_2} a_{\\alpha_1}a^{\\dagger}_\\alpha a^{\\dagger}_\\beta|0\\rangle \\nonumber\n",
    "$$"
   ]
  },
  {
   "cell_type": "markdown",
   "id": "76ed9a49",
   "metadata": {
    "editable": true
   },
   "source": [
    "<!-- Equation labels as ordinary links -->\n",
    "<div id=\"eq:2-42b\"></div>\n",
    "\n",
    "$$\n",
    "\\begin{equation} \n",
    "\t= (\\delta_{\\gamma \\beta_1} \\delta_{\\delta \\beta_2} -\\delta_{\\delta \\beta_1} \\delta_{\\gamma \\beta_2} )\n",
    "\t(\\delta_{\\alpha \\alpha_1} \\delta_{\\beta \\alpha_2} -\\delta_{\\beta \\alpha_1} \\delta_{\\alpha \\alpha_2} ) \\label{eq:2-42b} \\tag{30}\n",
    "\\end{equation}\n",
    "$$"
   ]
  },
  {
   "cell_type": "markdown",
   "id": "e60a4369",
   "metadata": {
    "editable": true
   },
   "source": [
    "Insertion of \n",
    "Eq. ([30](#eq:2-42b)) in Eq. ([28](#eq:2-40)) results in"
   ]
  },
  {
   "cell_type": "markdown",
   "id": "f0a70810",
   "metadata": {
    "editable": true
   },
   "source": [
    "$$\n",
    "\\langle \\alpha_1\\alpha_2|\\hat{H}_I|\\beta_1\\beta_2\\rangle = \\frac{1}{2} \\big[ \n",
    "\t\t\\langle \\alpha_1\\alpha_2|\\hat{v}|\\beta_1\\beta_2\\rangle- \\langle \\alpha_1\\alpha_2|\\hat{v}|\\beta_2\\beta_1\\rangle \\nonumber\n",
    "$$"
   ]
  },
  {
   "cell_type": "markdown",
   "id": "68db368c",
   "metadata": {
    "editable": true
   },
   "source": [
    "$$\n",
    "- \\langle \\alpha_2\\alpha_1|\\hat{v}|\\beta_1\\beta_2\\rangle + \\langle \\alpha_2\\alpha_1|\\hat{v}|\\beta_2\\beta_1\\rangle \\big] \\nonumber\n",
    "$$"
   ]
  },
  {
   "cell_type": "markdown",
   "id": "1339ba55",
   "metadata": {
    "editable": true
   },
   "source": [
    "$$\n",
    "= \\langle \\alpha_1\\alpha_2|\\hat{v}|\\beta_1\\beta_2\\rangle - \\langle \\alpha_1\\alpha_2|\\hat{v}|\\beta_2\\beta_1\\rangle \\nonumber\n",
    "$$"
   ]
  },
  {
   "cell_type": "markdown",
   "id": "62844c83",
   "metadata": {
    "editable": true
   },
   "source": [
    "<!-- Equation labels as ordinary links -->\n",
    "<div id=\"eq:2-43b\"></div>\n",
    "\n",
    "$$\n",
    "\\begin{equation} \n",
    "\t= \\langle \\alpha_1\\alpha_2|\\hat{v}|\\beta_1\\beta_2\\rangle_{\\mathrm{AS}}. \\label{eq:2-43b} \\tag{31}\n",
    "\\end{equation}\n",
    "$$"
   ]
  },
  {
   "cell_type": "markdown",
   "id": "6297f3f7",
   "metadata": {
    "editable": true
   },
   "source": [
    "The two-body operator can also be expressed in terms of the anti-symmetrized matrix elements we discussed previously as"
   ]
  },
  {
   "cell_type": "markdown",
   "id": "ea7988a7",
   "metadata": {
    "editable": true
   },
   "source": [
    "$$\n",
    "\\hat{H}_I = \\frac{1}{2} \\sum_{\\alpha\\beta\\gamma\\delta}  \\langle \\alpha \\beta|\\hat{v}|\\gamma \\delta\\rangle\n",
    "\t\ta_\\alpha^{\\dagger} a_\\beta^{\\dagger} a_\\delta a_\\gamma \\nonumber\n",
    "$$"
   ]
  },
  {
   "cell_type": "markdown",
   "id": "3a2a1fb9",
   "metadata": {
    "editable": true
   },
   "source": [
    "$$\n",
    "= \\frac{1}{4} \\sum_{\\alpha\\beta\\gamma\\delta} \\left[ \\langle \\alpha \\beta|\\hat{v}|\\gamma \\delta\\rangle -\n",
    "\t\t\\langle \\alpha \\beta|\\hat{v}|\\delta\\gamma \\rangle \\right] \n",
    "\t\ta_\\alpha^{\\dagger} a_\\beta^{\\dagger} a_\\delta a_\\gamma \\nonumber\n",
    "$$"
   ]
  },
  {
   "cell_type": "markdown",
   "id": "49d7e931",
   "metadata": {
    "editable": true
   },
   "source": [
    "<!-- Equation labels as ordinary links -->\n",
    "<div id=\"eq:2-45\"></div>\n",
    "\n",
    "$$\n",
    "\\begin{equation} \n",
    "\t= \\frac{1}{4} \\sum_{\\alpha\\beta\\gamma\\delta} \\langle \\alpha \\beta|\\hat{v}|\\gamma \\delta\\rangle_{\\mathrm{AS}}\n",
    "\t\ta_\\alpha^{\\dagger} a_\\beta^{\\dagger} a_\\delta a_\\gamma \\label{eq:2-45} \\tag{32}\n",
    "\\end{equation}\n",
    "$$"
   ]
  },
  {
   "cell_type": "markdown",
   "id": "cb8c2cc3",
   "metadata": {
    "editable": true
   },
   "source": [
    "The factors in front of the operator, either  $\\frac{1}{4}$ or \n",
    "$\\frac{1}{2}$ tells whether we use antisymmetrized matrix elements or not. \n",
    "\n",
    "We can now express the Hamiltonian operator for a many-fermion system  in the occupation basis representation\n",
    "as"
   ]
  },
  {
   "cell_type": "markdown",
   "id": "ba574764",
   "metadata": {
    "editable": true
   },
   "source": [
    "<!-- Equation labels as ordinary links -->\n",
    "<div id=\"eq:2-46b\"></div>\n",
    "\n",
    "$$\n",
    "\\begin{equation}\n",
    "\tH = \\sum_{\\alpha, \\beta} \\langle \\alpha|\\hat{t}+\\hat{u}_{\\mathrm{ext}}|\\beta\\rangle a_\\alpha^{\\dagger} a_\\beta + \\frac{1}{4} \\sum_{\\alpha\\beta\\gamma\\delta}\n",
    "\t\t\\langle \\alpha \\beta|\\hat{v}|\\gamma \\delta\\rangle a_\\alpha^{\\dagger} a_\\beta^{\\dagger} a_\\delta a_\\gamma. \\label{eq:2-46b} \\tag{33}\n",
    "\\end{equation}\n",
    "$$"
   ]
  },
  {
   "cell_type": "markdown",
   "id": "12f264a5",
   "metadata": {
    "editable": true
   },
   "source": [
    "This is the form we will use in the rest of these lectures, assuming that we work with anti-symmetrized two-body matrix elements."
   ]
  },
  {
   "cell_type": "markdown",
   "id": "63abd4be",
   "metadata": {
    "editable": true
   },
   "source": [
    "## Wick's theorem\n",
    "\n",
    "[See handwritten notes for week 36](https://github.com/ManyBodyPhysics/FYS4480/tree/master/doc/HandwrittenNotes/2022)"
   ]
  }
 ],
 "metadata": {},
 "nbformat": 4,
 "nbformat_minor": 5
}
