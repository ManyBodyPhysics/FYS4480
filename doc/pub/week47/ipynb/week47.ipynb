{
 "cells": [
  {
   "cell_type": "markdown",
   "id": "a2f6188c",
   "metadata": {
    "editable": true
   },
   "source": [
    "<!-- HTML file automatically generated from DocOnce source (https://github.com/doconce/doconce/)\n",
    "doconce format html week47.do.txt --no_mako -->\n",
    "<!-- dom:TITLE: Week 47: Coupled Cluster  and Summary of Course with Future Perspective -->"
   ]
  },
  {
   "cell_type": "markdown",
   "id": "a91474a5",
   "metadata": {
    "editable": true
   },
   "source": [
    "# Week 47: Coupled Cluster  and Summary of Course with Future Perspective\n",
    "**Morten Hjorth-Jensen**, Department of Physics and Center for Computing in Science Education, University of Oslo, Norway and Department of Physics and Astronomy and Facility for Rare Isotope Beams, Michigan State University, USA\n",
    "\n",
    "Date: **Week 47, November 21-25**"
   ]
  },
  {
   "cell_type": "markdown",
   "id": "2a4bdaa1",
   "metadata": {
    "editable": true
   },
   "source": [
    "## Week 47, November 21-25, 2022\n",
    "* Topics to be covered\n",
    "\n",
    "  * Thursday:\n",
    "\n",
    "    * Coupled Cluster theory, singles and doubles excitations, diagrammatic expansion\n",
    "\n",
    "    * [Video of lecture](https://youtu.be/MCuq8FIfHNk)\n",
    "\n",
    "  * Friday:\n",
    "\n",
    "    * Coupled Cluster theory and summary of course\n",
    "\n",
    "    * [Video of lecture](https://youtu.be/jZxYjVL-Z94)\n",
    "\n",
    "* Lecture Material: [Repetition slides for week 46](https://github.com/ManyBodyPhysics/FYS4480/blob/master/doc/pub/week47/pdf/slidesweek46.pdf), handwritten notes and Shavitt and Bartlett chapter 9\n",
    "\n",
    "* Lecture Material: [Coupled Cluster theory slides for week 47](https://github.com/ManyBodyPhysics/FYS4480/blob/master/doc/pub/week47/pdf/week47.pdf), handwritten notes and Shavitt and Bartlett chapter 9\n",
    "\n",
    "Work on second midterm set at <https://github.com/ManyBodyPhysics/FYS4480/blob/master/doc/Exercises/2022/SecondMidterm2022.pdf>"
   ]
  },
  {
   "cell_type": "markdown",
   "id": "0b694ca5",
   "metadata": {
    "editable": true
   },
   "source": [
    "## Introduction\n",
    "\n",
    "The coupled-cluster method is an efficient tool to compute atomic\n",
    "nuclei with an effort that grows polynomial with system size. While\n",
    "this might still be expensive, it is now possible to compute nuclei\n",
    "with mass numbers about $A\\approx 100$ with this method. Recall that\n",
    "full configuration interaction (FCI) such as the no-core shell model\n",
    "exhibits an exponential cost and is therefore limited to light nuclei."
   ]
  },
  {
   "cell_type": "markdown",
   "id": "db51bf39",
   "metadata": {
    "editable": true
   },
   "source": [
    "## The normal-ordered Hamiltonian\n",
    "\n",
    "We start from the reference state"
   ]
  },
  {
   "cell_type": "markdown",
   "id": "51af6b28",
   "metadata": {
    "editable": true
   },
   "source": [
    "<!-- Equation labels as ordinary links -->\n",
    "<div id=\"HFref\"></div>\n",
    "\n",
    "$$\n",
    "\\begin{equation}\n",
    "\\label{HFref} \\tag{1}\n",
    "\\vert\\Phi_0\\rangle = \\prod_{i=1}^A a^\\dagger_i \\vert 0\\rangle \n",
    "\\end{equation}\n",
    "$$"
   ]
  },
  {
   "cell_type": "markdown",
   "id": "fb8b4ca8",
   "metadata": {
    "editable": true
   },
   "source": [
    "for the description of for example a nucleus with mass number $A$.  Usually, this\n",
    "reference is the Hartree-Fock state, but that is not necessary. In the\n",
    "shell-model picture, it could also be a product state where the lowest\n",
    "$A$ harmonic oscillator states are occupied.  Here and in what\n",
    "follows, the indices $i,j,k,\\ldots$ run over hole states,\n",
    "i.e. orbitals occupied in the reference state ([1](#HFref)), while\n",
    "$a,b,c,\\ldots$ run over particle states, i.e. unoccupied\n",
    "orbitals. Indices $p,q,r,s$ can identify any orbital.  Let $n_u$ be\n",
    "the number of unoccupied states, and $A$ is of course the number of\n",
    "occupied states.\n",
    "\n",
    "We consider the Hamiltonian"
   ]
  },
  {
   "cell_type": "markdown",
   "id": "0f7791b0",
   "metadata": {
    "editable": true
   },
   "source": [
    "<!-- Equation labels as ordinary links -->\n",
    "<div id=\"Ham\"></div>\n",
    "\n",
    "$$\n",
    "\\begin{equation}\n",
    "\\label{Ham} \\tag{2} H =\n",
    "\\sum_{pq} \\varepsilon^p_q a^\\dagger_p a_q +\n",
    "\\frac{1}{4}\\sum_{pqrs}\\langle pq\\vert V\\vert rs\\rangle\n",
    "a^\\dagger_pa^\\dagger_q a_sa_r\n",
    "\\end{equation}\n",
    "$$"
   ]
  },
  {
   "cell_type": "markdown",
   "id": "7fb3e8eb",
   "metadata": {
    "editable": true
   },
   "source": [
    "The reference state ([1](#HFref)) is a non-trivial vacuum of our theory. \n",
    "We normal order this Hamiltonian with respect to the nontrivial vacuum\n",
    "state given by the Hartree-Fock reference and obtain the\n",
    "normal-ordered Hamiltonian"
   ]
  },
  {
   "cell_type": "markdown",
   "id": "d9f1148f",
   "metadata": {
    "editable": true
   },
   "source": [
    "<!-- Equation labels as ordinary links -->\n",
    "<div id=\"HN\"></div>\n",
    "\n",
    "$$\n",
    "\\begin{equation}\n",
    "\\label{HN} \\tag{3}\n",
    "H_N = \\sum_{pq} f_{pq} \\left\\{a^\\dagger_p a_q\\right\\} + \\frac{1}{4}\\sum_{pqrs}\\langle pq\\vert V\\vert rs\\rangle \\left\\{a^\\dagger_pa^\\dagger_q a_sa_r\\right\\}.\n",
    "\\end{equation}\n",
    "$$"
   ]
  },
  {
   "cell_type": "markdown",
   "id": "71c7e88e",
   "metadata": {
    "editable": true
   },
   "source": [
    "Here,"
   ]
  },
  {
   "cell_type": "markdown",
   "id": "adc2438e",
   "metadata": {
    "editable": true
   },
   "source": [
    "<!-- Equation labels as ordinary links -->\n",
    "<div id=\"Fock\"></div>\n",
    "\n",
    "$$\n",
    "\\begin{equation}\n",
    "\\label{Fock} \\tag{4}\n",
    "f^p_q = \\varepsilon^p_q + \\sum_i \\langle pi\\vert V\\vert qi\\rangle\n",
    "\\end{equation}\n",
    "$$"
   ]
  },
  {
   "cell_type": "markdown",
   "id": "3cc6079c",
   "metadata": {
    "editable": true
   },
   "source": [
    "is the Fock matrix. We note that the Fock matrix is diagonal in the\n",
    "Hartree-Fock basis. The brackets $\\{\\cdots\\}$ in Eq. ([3](#HN)) denote\n",
    "normal ordering, i.e. all operators that annihilate the nontrivial\n",
    "vaccum ([1](#HFref)) are to the right of those operators that create\n",
    "with respect to that vaccum. Normal ordering implies that $\\langle\n",
    "\\Phi_0\\vert H_N\\vert \\Phi_0\\rangle = 0$."
   ]
  },
  {
   "cell_type": "markdown",
   "id": "fd931133",
   "metadata": {
    "editable": true
   },
   "source": [
    "## Exercise 1: Practice in normal ordering\n",
    "<div id=\"ex-1\"></div>\n",
    "\n",
    "Normal order the expression $\\sum\\limits_{pq}\\varepsilon_q^p a^\\dagger_p a_q$.\n",
    "\n",
    "We note that $H = E_{HF} + H_N$, where"
   ]
  },
  {
   "cell_type": "markdown",
   "id": "ab6c2d26",
   "metadata": {
    "editable": true
   },
   "source": [
    "<!-- Equation labels as ordinary links -->\n",
    "<div id=\"_auto6\"></div>\n",
    "\n",
    "$$\n",
    "\\begin{equation}\n",
    "E_{HF} \\equiv \\langle\\Phi_0\\vert H\\vert \\Phi_0\\rangle = \\sum_{i} \\varepsilon^i_i +\\frac{1}{2}\\sum_{ij}\\langle ij\\vert V\\vert ij\\rangle\n",
    "\\label{_auto6} \\tag{10}\n",
    "\\end{equation}\n",
    "$$"
   ]
  },
  {
   "cell_type": "markdown",
   "id": "8cf0e5c8",
   "metadata": {
    "editable": true
   },
   "source": [
    "is the Hartree-Fock energy.\n",
    "The coupled-cluster method is a very efficient tool to compute nuclei\n",
    "when a \"good\" reference state is available. Let us assume that the\n",
    "reference state results from a Hartree-Fock calculation.\n",
    "\n",
    "<!-- --- begin hint in exercise --- -->\n",
    "\n",
    "**Hint.**"
   ]
  },
  {
   "cell_type": "markdown",
   "id": "f90d143e",
   "metadata": {
    "editable": true
   },
   "source": [
    "<!-- Equation labels as ordinary links -->\n",
    "<div id=\"_auto1\"></div>\n",
    "\n",
    "$$\n",
    "\\begin{equation}\n",
    "\\sum_{pq}\\varepsilon_q^p a^\\dagger_p a_q\n",
    "=\\sum_{ab}\\varepsilon_b^a a^\\dagger_a a_b\n",
    "+\\sum_{ai}\\varepsilon_i^a a^\\dagger_a a_i\n",
    "+\\sum_{ai}\\varepsilon_a^i a^\\dagger_i a_a   \n",
    "+\\sum_{ij}\\varepsilon_j^i a^\\dagger_i a_j\n",
    "\\label{_auto1} \\tag{5}\n",
    "\\end{equation}\n",
    "$$"
   ]
  },
  {
   "cell_type": "markdown",
   "id": "227b3e71",
   "metadata": {
    "editable": true
   },
   "source": [
    "<!-- --- end hint in exercise --- -->\n",
    "\n",
    "<!-- --- begin answer of exercise --- -->\n",
    "**Answer.**\n",
    "We have to move all operators that annihilate the reference state to the right of those that create on the reference state. Thus,"
   ]
  },
  {
   "cell_type": "markdown",
   "id": "b454d8e9",
   "metadata": {
    "editable": true
   },
   "source": [
    "<!-- Equation labels as ordinary links -->\n",
    "<div id=\"_auto2\"></div>\n",
    "\n",
    "$$\n",
    "\\begin{equation}\n",
    "\\sum_{pq}\\varepsilon_q^p a^\\dagger_p a_q\n",
    "=\\sum_{ab}\\varepsilon_b^a a^\\dagger_a a_b\n",
    "+\\sum_{ai}\\varepsilon_i^a a^\\dagger_a a_i\n",
    "+\\sum_{ai}\\varepsilon_a^i a^\\dagger_i a_a\n",
    "+\\sum_{ij}\\varepsilon_j^i a^\\dagger_i a_j\n",
    "\\label{_auto2} \\tag{6}\n",
    "\\end{equation}\n",
    "$$"
   ]
  },
  {
   "cell_type": "markdown",
   "id": "bf50af0b",
   "metadata": {
    "editable": true
   },
   "source": [
    "<!-- Equation labels as ordinary links -->\n",
    "<div id=\"_auto3\"></div>\n",
    "\n",
    "$$\n",
    "\\begin{equation} \n",
    "=\\sum_{ab}\\varepsilon_b^a a^\\dagger_a a_b\n",
    "+\\sum_{ai}\\varepsilon_i^a a^\\dagger_a a_i\n",
    "+\\sum_{ai}\\varepsilon_a^i a^\\dagger_i a_a\n",
    "+\\sum_{ij}\\varepsilon_j^i \\left(-a_ja^\\dagger_i +\\delta_i^j\\right)\n",
    "\\label{_auto3} \\tag{7}\n",
    "\\end{equation}\n",
    "$$"
   ]
  },
  {
   "cell_type": "markdown",
   "id": "5ee60329",
   "metadata": {
    "editable": true
   },
   "source": [
    "<!-- Equation labels as ordinary links -->\n",
    "<div id=\"_auto4\"></div>\n",
    "\n",
    "$$\n",
    "\\begin{equation} \n",
    "=\\sum_{ab}\\varepsilon_b^a a^\\dagger_a a_b\n",
    "+\\sum_{ai}\\varepsilon_i^a a^\\dagger_a a_i\n",
    "+\\sum_{ai}\\varepsilon_a^i a^\\dagger_i a_a\n",
    "-\\sum_{ij}\\varepsilon_j^i a_ja^\\dagger_i +\\sum_i \\varepsilon_i^i\n",
    "\\label{_auto4} \\tag{8}\n",
    "\\end{equation}\n",
    "$$"
   ]
  },
  {
   "cell_type": "markdown",
   "id": "fcecb761",
   "metadata": {
    "editable": true
   },
   "source": [
    "<!-- Equation labels as ordinary links -->\n",
    "<div id=\"_auto5\"></div>\n",
    "\n",
    "$$\n",
    "\\begin{equation} \n",
    "=\\sum_{pq}\\varepsilon_q^p \\left\\{a^\\dagger_p a_q\\right\\} +\\sum_i \\varepsilon_i^i\n",
    "\\label{_auto5} \\tag{9}\n",
    "\\end{equation}\n",
    "$$"
   ]
  },
  {
   "cell_type": "markdown",
   "id": "45631b37",
   "metadata": {
    "editable": true
   },
   "source": [
    "<!-- --- end answer of exercise --- -->"
   ]
  },
  {
   "cell_type": "markdown",
   "id": "2eed6a11",
   "metadata": {
    "editable": true
   },
   "source": [
    "## Exercise 2: What does \"good\" mean?\n",
    "<div id=\"ex-2\"></div>\n",
    "\n",
    "How do you know whether a Hartree-Fock state is a \"good\" reference?\n",
    "Which results of the Hartree-Fock computation will inform you?\n",
    "\n",
    "If symmetry-restricted Hartree-Fock is used, one is limited to compute\n",
    "nuclei with closed subshells for neutrons and for protons. On a first\n",
    "view, this might seem as a severe limitation. But is it?\n",
    "\n",
    "<!-- --- begin answer of exercise --- -->\n",
    "**Answer.**\n",
    "Once the Hartree-Fock equations are solved, the Fock matrix\n",
    "([4](#Fock)) becomes diagonal, and its diagonal elements can be viewed\n",
    "as single-particle energies. Hopefully, there is a clear gap in the\n",
    "single-particle spectrum at the Fermi surface, i.e. after $A$ orbitals\n",
    "are filled.\n",
    "\n",
    "<!-- --- end answer of exercise --- -->"
   ]
  },
  {
   "cell_type": "markdown",
   "id": "b20dc8f0",
   "metadata": {
    "editable": true
   },
   "source": [
    "## The similarity transformed Hamiltonian\n",
    "\n",
    "There are several ways to view and understand the coupled-cluster\n",
    "method. A first simple view of coupled-cluster theory is that the\n",
    "method induces correlations into the reference state by expressing a\n",
    "correlated state as"
   ]
  },
  {
   "cell_type": "markdown",
   "id": "f1342180",
   "metadata": {
    "editable": true
   },
   "source": [
    "<!-- Equation labels as ordinary links -->\n",
    "<div id=\"psi\"></div>\n",
    "\n",
    "$$\n",
    "\\begin{equation}\n",
    "\\label{psi} \\tag{11}\n",
    "\\vert\\Psi\\rangle = e^T \\vert\\Phi_0\\rangle ,\n",
    "\\end{equation}\n",
    "$$"
   ]
  },
  {
   "cell_type": "markdown",
   "id": "195d535a",
   "metadata": {
    "editable": true
   },
   "source": [
    "Here, $T$ is an operator that induces correlations. We can now demand\n",
    "that the correlate state ([11](#psi)) becomes and eigenstate of the\n",
    "Hamiltonian $H_N$, i.e.  $H_N\\vert \\Psi\\rangle = E\\vert \\Psi\\rangle$. This view,\n",
    "while correct, is not the most productive one.  Instead, we\n",
    "left-multiply the Schroedinger equation with $e^{-T}$ and find"
   ]
  },
  {
   "cell_type": "markdown",
   "id": "2689bd57",
   "metadata": {
    "editable": true
   },
   "source": [
    "<!-- Equation labels as ordinary links -->\n",
    "<div id=\"Schroedinger\"></div>\n",
    "\n",
    "$$\n",
    "\\begin{equation}\n",
    "\\label{Schroedinger} \\tag{12}\n",
    "\\overline{H_N}\\vert \\Phi_0\\rangle = E_c \\vert \\Phi_0\\rangle . \n",
    "\\end{equation}\n",
    "$$"
   ]
  },
  {
   "cell_type": "markdown",
   "id": "dd5705a4",
   "metadata": {
    "editable": true
   },
   "source": [
    "Here, $E_c$ is the correlation energy, and the total energy is\n",
    "$E=E_c+E_{HF}$.  The similarity-transformed Hamiltonian is defined as"
   ]
  },
  {
   "cell_type": "markdown",
   "id": "8e03504c",
   "metadata": {
    "editable": true
   },
   "source": [
    "<!-- Equation labels as ordinary links -->\n",
    "<div id=\"Hsim\"></div>\n",
    "\n",
    "$$\n",
    "\\begin{equation}\n",
    "\\label{Hsim} \\tag{13}\n",
    "\\overline{H_N} \\equiv e^{-T} H_N e^T .\n",
    "\\end{equation}\n",
    "$$"
   ]
  },
  {
   "cell_type": "markdown",
   "id": "38994c05",
   "metadata": {
    "editable": true
   },
   "source": [
    "A more productive view on coupled-cluster theory thus emerges: This\n",
    "method seeks a similarity transformation such that the uncorrelated\n",
    "reference state ([1](#HFref)) becomes an exact eigenstate of the\n",
    "similarity-transformed Hamiltonian ([13](#Hsim))."
   ]
  },
  {
   "cell_type": "markdown",
   "id": "336d1cc9",
   "metadata": {
    "editable": true
   },
   "source": [
    "## Exercise 3: What $T$ leads to Hermitian $\\overline{H_N}$ ?\n",
    "<div id=\"ex-4\"></div>\n",
    "\n",
    "What are the conditions on $T$ such that $\\overline{H_N}$ is Hermitian?\n",
    "\n",
    "As we will see below, coupled-cluster theory employs a non-Hermitian Hamiltonian.\n",
    "\n",
    "<!-- --- begin answer of exercise --- -->\n",
    "**Answer.**\n",
    "For a Hermitian $\\overline{H_N}$, we need a unitary $e^T$, i.e. an\n",
    "anti-Hermitian $T$ with $T = -T^\\dagger$\n",
    "\n",
    "<!-- --- end answer of exercise --- -->"
   ]
  },
  {
   "cell_type": "markdown",
   "id": "e7cbebd5",
   "metadata": {
    "editable": true
   },
   "source": [
    "## Exercise 4: Understanding (non-unitary) similarity transformations\n",
    "<div id=\"ex-5\"></div>\n",
    "\n",
    "Show that $\\overline{H_N}$ has the same eigenvalues as $H_N$ for\n",
    "arbitrary $T$. What is the spectral decomposition of a non-Hermitian\n",
    "$\\overline{H_N}$ ?\n",
    "\n",
    "To make progress, we have to specify the cluster operator $T$. In\n",
    "coupled cluster theory, this operator is"
   ]
  },
  {
   "cell_type": "markdown",
   "id": "56c3411b",
   "metadata": {
    "editable": true
   },
   "source": [
    "<!-- Equation labels as ordinary links -->\n",
    "<div id=\"Top\"></div>\n",
    "\n",
    "$$\n",
    "\\begin{equation}\n",
    "\\label{Top} \\tag{15}\n",
    "T \\equiv \\sum_{ia} t_i^a a^\\dagger_a a_i + \\frac{1}{4}\\sum_{ijab}t_{ij}^{ab}\n",
    "a^\\dagger_aa^\\dagger_ba_ja_i + \\cdots\n",
    "+ \\frac{1}{(A!)^2}\\sum_{i_1\\ldots i_A a_1 \\ldots a_A}\n",
    "t_{i_1\\ldots i_A}^{a_1\\ldots a_A} a^\\dagger_{a_1}\\cdots a^\\dagger_{a_A} a_{i_A}\\cdots a_{i_1} .\n",
    "\\end{equation}\n",
    "$$"
   ]
  },
  {
   "cell_type": "markdown",
   "id": "c02d164e",
   "metadata": {
    "editable": true
   },
   "source": [
    "Thus, the operator ([15](#Top)) induces particle-hole (p-h)\n",
    "excitations with respect to the reference. In general, $T$ generates\n",
    "up to $Ap-Ah$ excitations, and the unknown parameters are the cluster amplitides\n",
    "$t_i^a$, $t_{ij}^{ab}$, ..., $t_{i_1,\\ldots,i_A}^{a_1,\\ldots,a_A}$.\n",
    "\n",
    "<!-- --- begin answer of exercise --- -->\n",
    "**Answer.**\n",
    "Let $H_N\\vert E\\rangle = E\\vert E\\rangle$. Thus"
   ]
  },
  {
   "cell_type": "markdown",
   "id": "cbcd311f",
   "metadata": {
    "editable": true
   },
   "source": [
    "$$\n",
    "\\begin{align*}\n",
    "H_N e^{T} e^{-T} \\vert E\\rangle &= E\\vert E\\rangle , \\\\\n",
    "\\left(e^{-T} H_N e^T\\right) e^{-T} \\vert E\\rangle &= Ee^{-T} \\vert E\\rangle , \\\\\n",
    "\\overline{H_N} e^{-T} \\vert E\\rangle &= E e^{-T}\\vert E\\rangle .\n",
    "\\end{align*}\n",
    "$$"
   ]
  },
  {
   "cell_type": "markdown",
   "id": "46af91a7",
   "metadata": {
    "editable": true
   },
   "source": [
    "Thus, if $\\vert E\\rangle$ is an eigenstate of $H_N$ with eigenvalue $E$,\n",
    "then $e^{-T}\\vert E\\rangle$ is eigenstate of $\\overline{H_N}$ with the same\n",
    "eigenvalue.\n",
    "\n",
    "A non-Hermitian $\\overline{H_N}$ has eigenvalues $E_\\alpha$\n",
    "corresponding to left $\\langle L_\\alpha\\vert $ and right $\\vert R_\\alpha\n",
    "\\rangle$ eigenstates. Thus"
   ]
  },
  {
   "cell_type": "markdown",
   "id": "3800c01e",
   "metadata": {
    "editable": true
   },
   "source": [
    "<!-- Equation labels as ordinary links -->\n",
    "<div id=\"_auto7\"></div>\n",
    "\n",
    "$$\n",
    "\\begin{equation}\n",
    "\\overline{H_N} = \\sum_\\alpha \\vert R_\\alpha\\rangle E_\\alpha \\langle L_\\alpha \\vert \n",
    "\\label{_auto7} \\tag{14}\n",
    "\\end{equation}\n",
    "$$"
   ]
  },
  {
   "cell_type": "markdown",
   "id": "02b2ccec",
   "metadata": {
    "editable": true
   },
   "source": [
    "with bi-orthonormal $\\langle L_\\alpha\\vert R_\\beta\\rangle = \\delta_\\alpha^\\beta$.\n",
    "\n",
    "<!-- --- end answer of exercise --- -->"
   ]
  },
  {
   "cell_type": "markdown",
   "id": "46f8a76d",
   "metadata": {
    "editable": true
   },
   "source": [
    "## Exercise 5: How many unknowns?\n",
    "<div id=\"ex-6\"></div>\n",
    "\n",
    "Show that the number of unknowns is as large as the FCI dimension of\n",
    "the problem, using the numbers $A$ and $n_u$.\n",
    "\n",
    "Thus, the coupled-cluster method with the full cluster operator\n",
    "([15](#Top)) is exponentially expensive, just as FCI. To make progress,\n",
    "we need to make an approximation by truncating the operator. Here, we\n",
    "will use the CCSD (coupled clusters singles doubles) approximation,\n",
    "where"
   ]
  },
  {
   "cell_type": "markdown",
   "id": "9b48aee7",
   "metadata": {
    "editable": true
   },
   "source": [
    "<!-- Equation labels as ordinary links -->\n",
    "<div id=\"Tccsd\"></div>\n",
    "\n",
    "$$\n",
    "\\begin{equation}\n",
    "\\label{Tccsd} \\tag{17}\n",
    "T \\equiv \\sum_{ia} t_i^a a^\\dagger_a a_i + \\frac{1}{4}\\sum_{ijab}t_{ij}^{ab}\n",
    "a^\\dagger_aa^\\dagger_ba_ja_i .\n",
    "\\end{equation}\n",
    "$$"
   ]
  },
  {
   "cell_type": "markdown",
   "id": "8f6b4e38",
   "metadata": {
    "editable": true
   },
   "source": [
    "We need to determine the unknown cluster amplitudes that enter in CCSD. Let"
   ]
  },
  {
   "cell_type": "markdown",
   "id": "3bb1a88e",
   "metadata": {
    "editable": true
   },
   "source": [
    "<!-- Equation labels as ordinary links -->\n",
    "<div id=\"_auto9\"></div>\n",
    "\n",
    "$$\n",
    "\\begin{equation}\n",
    "\\vert\\Phi_i^a\\rangle = a^\\dagger_a a_i \\vert \\Phi_0\\rangle , \n",
    "\\label{_auto9} \\tag{18}\n",
    "\\end{equation}\n",
    "$$"
   ]
  },
  {
   "cell_type": "markdown",
   "id": "e8ca3635",
   "metadata": {
    "editable": true
   },
   "source": [
    "<!-- Equation labels as ordinary links -->\n",
    "<div id=\"_auto10\"></div>\n",
    "\n",
    "$$\n",
    "\\begin{equation} \n",
    "\\vert\\Phi_{ij}^{ab}\\rangle = a^\\dagger_a a^\\dagger_b a_j a_i \\vert \\Phi_0\\rangle\n",
    "\\label{_auto10} \\tag{19}\n",
    "\\end{equation}\n",
    "$$"
   ]
  },
  {
   "cell_type": "markdown",
   "id": "2be94641",
   "metadata": {
    "editable": true
   },
   "source": [
    "be 1p-1h and 2p-2h excitations of the reference. Computing matrix\n",
    "elements of the Schroedinger Equation ([12](#Schroedinger)) yields"
   ]
  },
  {
   "cell_type": "markdown",
   "id": "d8de5015",
   "metadata": {
    "editable": true
   },
   "source": [
    "<!-- Equation labels as ordinary links -->\n",
    "<div id=\"ccsd\"></div>\n",
    "\n",
    "$$\n",
    "\\begin{equation}\n",
    "\\label{ccsd} \\tag{20}\n",
    "\\langle \\Phi_0\\vert \\overline{H_N}\\vert \\Phi_0\\rangle = E_c , \n",
    "\\end{equation}\n",
    "$$"
   ]
  },
  {
   "cell_type": "markdown",
   "id": "df755bb1",
   "metadata": {
    "editable": true
   },
   "source": [
    "<!-- Equation labels as ordinary links -->\n",
    "<div id=\"_auto11\"></div>\n",
    "\n",
    "$$\n",
    "\\begin{equation} \n",
    "\\langle \\Phi_i^a\\vert \\overline{H_N}\\vert \\Phi_0\\rangle = 0 , \n",
    "\\label{_auto11} \\tag{21}\n",
    "\\end{equation}\n",
    "$$"
   ]
  },
  {
   "cell_type": "markdown",
   "id": "b98b2cd9",
   "metadata": {
    "editable": true
   },
   "source": [
    "<!-- Equation labels as ordinary links -->\n",
    "<div id=\"_auto12\"></div>\n",
    "\n",
    "$$\n",
    "\\begin{equation} \n",
    "\\langle \\Phi_{ij}^{ab}\\vert \\overline{H_N}\\vert \\Phi_0\\rangle = 0 .\n",
    "\\label{_auto12} \\tag{22}\n",
    "\\end{equation}\n",
    "$$"
   ]
  },
  {
   "cell_type": "markdown",
   "id": "cd06e55f",
   "metadata": {
    "editable": true
   },
   "source": [
    "The first equation states that the coupled-cluster correlation energy\n",
    "is an expectation value of the similarity-transformed Hamiltonian. The\n",
    "second and third equations state that the similarity-transformed\n",
    "Hamiltonian exhibits no 1p-1h and no 2p-2h excitations. These\n",
    "equations have to be solved to find the unknown amplitudes $t_i^a$ and\n",
    "$t_{ij}^{ab}$. Then one can use these amplitudes and compute the\n",
    "correlation energy from the first line of Eq. ([20](#ccsd)).\n",
    "\n",
    "We note that in the CCSD approximation the reference state is not an\n",
    "exact eigenstates. Rather, it is decoupled from simple states but\n",
    "$\\overline{H}$ still connects this state to 3p-3h, and 4p-4h states\n",
    "etc.\n",
    "\n",
    "At this point, it is important to recall that we assumed starting from\n",
    "a \"good\" reference state. In such a case, we might reasonably expect\n",
    "that the inclusion of 1p-1h and 2p-2h excitations could result in an\n",
    "accurate approximation. Indeed, empirically one finds that CCSD\n",
    "accounts for about 90% of the corelation energy, i.e. of the\n",
    "difference between the exact energy and the Hartree-Fock energy. The\n",
    "inclusion of triples (3p-3h excitations) typically yields 99% of the\n",
    "correlation energy.\n",
    "\n",
    "We see that the coupled-cluster method in its CCSD approximation\n",
    "yields a similarity-transformed Hamiltonian that is of a two-body\n",
    "structure with respect to a non-trivial vacuum. When viewed in this\n",
    "light, the coupled-cluster method \"transforms\" an $A$-body problem\n",
    "(in CCSD) into a two-body problem, albeit with respect to a nontrivial\n",
    "vacuum.\n",
    "\n",
    "<!-- --- begin answer of exercise --- -->\n",
    "**Answer.**\n",
    "We have to sum up all $np-nh$ excitations, and there are\n",
    "$\\binom{n_u}{n}$ particle states and $\\binom{A}{A-n}$ hole states for\n",
    "each $n$. Thus, we have for the total number"
   ]
  },
  {
   "cell_type": "markdown",
   "id": "0f4edb49",
   "metadata": {
    "editable": true
   },
   "source": [
    "<!-- Equation labels as ordinary links -->\n",
    "<div id=\"_auto8\"></div>\n",
    "\n",
    "$$\n",
    "\\begin{equation}\n",
    "\\sum_{n=0}^A \\binom{n_u}{n} \\binom{A}{A-n}= \\binom{A+n_u}{A} .\n",
    "\\label{_auto8} \\tag{16}\n",
    "\\end{equation}\n",
    "$$"
   ]
  },
  {
   "cell_type": "markdown",
   "id": "4501814b",
   "metadata": {
    "editable": true
   },
   "source": [
    "The right hand side are obviously all ways to distribute $A$ fermions over $n_0+A$ orbitals.\n",
    "\n",
    "<!-- --- end answer of exercise --- -->"
   ]
  },
  {
   "cell_type": "markdown",
   "id": "8bc40593",
   "metadata": {
    "editable": true
   },
   "source": [
    "## Exercise 6: Why is CCD not exact?\n",
    "<div id=\"ex-6b\"></div>\n",
    "\n",
    "Above we argued that a similarity transformation preserves all eigenvalues. Nevertheless, the CCD correlation energy is not the exact correlation energy. Explain!\n",
    "\n",
    "<!-- --- begin answer of exercise --- -->\n",
    "**Answer.**\n",
    "The CCD approximation does not make $\\vert\\Phi_0\\rangle$ an exact\n",
    "eigenstate of $\\overline{H_N}$; it is only an eigenstate when the\n",
    "similarity-transformed Hamiltonian is truncated to at most 2p-2h\n",
    "states. The full $\\overline{H_N}$, with $T=T_2$, would involve\n",
    "six-body terms (do you understand this?), and this full Hamiltonian\n",
    "would reproduce the exact correlation energy. Thus CCD is a similarity\n",
    "transformation plus a truncation, which decouples the ground state only\n",
    "from 2p-2h states.\n",
    "\n",
    "<!-- --- end answer of exercise --- -->"
   ]
  },
  {
   "cell_type": "markdown",
   "id": "6d5f8a27",
   "metadata": {
    "editable": true
   },
   "source": [
    "## Computing the similarity-transformed Hamiltonian\n",
    "\n",
    "The solution of the CCSD equations, i.e. the second and third line of\n",
    "Eq. ([20](#ccsd)), and the computation of the correlation energy\n",
    "requires us to compute matrix elements of the similarity-transformed\n",
    "Hamiltonian ([13](#Hsim)). This can be done with the\n",
    "Baker-Campbell-Hausdorff expansion"
   ]
  },
  {
   "cell_type": "markdown",
   "id": "2305cc59",
   "metadata": {
    "editable": true
   },
   "source": [
    "<!-- Equation labels as ordinary links -->\n",
    "<div id=\"BCH\"></div>\n",
    "\n",
    "$$\n",
    "\\begin{equation}\n",
    "\\label{BCH} \\tag{23}\n",
    "\\overline{H_N} = e^{-T} H_N e^T \n",
    "\\end{equation}\n",
    "$$"
   ]
  },
  {
   "cell_type": "markdown",
   "id": "e67ba817",
   "metadata": {
    "editable": true
   },
   "source": [
    "<!-- Equation labels as ordinary links -->\n",
    "<div id=\"_auto13\"></div>\n",
    "\n",
    "$$\n",
    "\\begin{equation} \n",
    "=H_N + \\left[ H_N, T\\right]+ \\frac{1}{2!}\\left[ \\left[ H_N, T\\right], T\\right]\n",
    "+ \\frac{1}{3!}\\left[\\left[ \\left[ H_N, T\\right], T\\right], T\\right] +\\ldots .\n",
    "\\label{_auto13} \\tag{24}\n",
    "\\end{equation}\n",
    "$$"
   ]
  },
  {
   "cell_type": "markdown",
   "id": "980997f1",
   "metadata": {
    "editable": true
   },
   "source": [
    "We now come to a key element of coupled-cluster theory: the cluster\n",
    "operator ([15](#Top)) consists of sums of terms that consist of particle\n",
    "creation and hole annihilation operators (but no particle annihilation\n",
    "or hole creation operators). Thus, all terms that enter $T$ commute\n",
    "with each other. This means that the commutators in the\n",
    "Baker-Campbell-Hausdorff expansion ([23](#BCH)) can only be non-zero\n",
    "because each $T$ must connect to $H_N$ (but no $T$ with another\n",
    "$T$). Thus, the expansion is finite."
   ]
  },
  {
   "cell_type": "markdown",
   "id": "8b4007ff",
   "metadata": {
    "editable": true
   },
   "source": [
    "## Exercise 7: When does CCSD truncate?\n",
    "<div id=\"ex-7\"></div>\n",
    "\n",
    "In CCSD and for two-body Hamiltonians, how many nested\n",
    "commutators yield nonzero results? Where does the\n",
    "Baker-Campbell-Hausdorff expansion terminate? What is the (many-body) rank of the resulting $\\overline{H_N}$?\n",
    "\n",
    "We see that the (disadvantage of having a) non-Hermitian Hamiltonian\n",
    "$\\overline{H_N}$ leads to the advantage that the\n",
    "Baker-Campbell-Hausdorff expansion is finite, thus leading to the\n",
    "possibility to compute $\\overline{H_N}$ exactly. In contrast, the\n",
    "IMSRG deals with a Hermitian Hamiltonian throughout, and the infinite\n",
    "Baker-Campbell-Hausdorff expansion is truncated at a high order when\n",
    "terms become very small.\n",
    "\n",
    "We write the similarity-transformed Hamiltonian as"
   ]
  },
  {
   "cell_type": "markdown",
   "id": "d6fb7669",
   "metadata": {
    "editable": true
   },
   "source": [
    "<!-- Equation labels as ordinary links -->\n",
    "<div id=\"_auto14\"></div>\n",
    "\n",
    "$$\n",
    "\\begin{equation}\n",
    "\\overline{H_N}=\\sum_{pq} \\overline{H}^p_q a^\\dagger_q a_p + {1\\over 4} \\sum_{pqrs} \\overline{H}^{pq}_{rs} a^\\dagger_p a^\\dagger_q a_s a_r + \\ldots\n",
    "\\label{_auto14} \\tag{25}\n",
    "\\end{equation}\n",
    "$$"
   ]
  },
  {
   "cell_type": "markdown",
   "id": "cb6f518e",
   "metadata": {
    "editable": true
   },
   "source": [
    "with"
   ]
  },
  {
   "cell_type": "markdown",
   "id": "617b8f2a",
   "metadata": {
    "editable": true
   },
   "source": [
    "<!-- Equation labels as ordinary links -->\n",
    "<div id=\"_auto15\"></div>\n",
    "\n",
    "$$\n",
    "\\begin{equation}\n",
    "\\overline{H}^p_q \\equiv \\langle p\\vert \\overline{H_N}\\vert q\\rangle , \n",
    "\\label{_auto15} \\tag{26}\n",
    "\\end{equation}\n",
    "$$"
   ]
  },
  {
   "cell_type": "markdown",
   "id": "7979c170",
   "metadata": {
    "editable": true
   },
   "source": [
    "<!-- Equation labels as ordinary links -->\n",
    "<div id=\"_auto16\"></div>\n",
    "\n",
    "$$\n",
    "\\begin{equation} \n",
    "\\overline{H}^{pq}_{rs} \\equiv \\langle pq\\vert \\overline{H_N}\\vert rs\\rangle .\n",
    "\\label{_auto16} \\tag{27}\n",
    "\\end{equation}\n",
    "$$"
   ]
  },
  {
   "cell_type": "markdown",
   "id": "dc3a28fe",
   "metadata": {
    "editable": true
   },
   "source": [
    "Thus, the CCSD Eqs. ([20](#ccsd)) for the amplitudes can be written as\n",
    "$\\overline{H}_i^a = 0$ and $\\overline{H}_{ij}^{ab}=0$.\n",
    "\n",
    "<!-- --- begin answer of exercise --- -->\n",
    "**Answer.**\n",
    "CCSD truncates for two-body operators at four-fold nested commutators,\n",
    "because each of the four annihilation and creation operators in\n",
    "$\\overline{H_N}$ can be knocked out with one term of $T$.\n",
    "\n",
    "<!-- --- end answer of exercise --- -->"
   ]
  },
  {
   "cell_type": "markdown",
   "id": "0c6a4511",
   "metadata": {
    "editable": true
   },
   "source": [
    "## Exercise 8: Compute the matrix element $\\overline{H}_{ab}^{ij}\\equiv \\langle ij\\vert \\overline{H_N}\\vert ab\\rangle$\n",
    "<div id=\"ex-8\"></div>\n",
    "\n",
    "We need to work out the similarity-transformed Hamiltonian of\n",
    "Eq. ([23](#BCH)). To do this, we write $T=T_1 +T_2$ and $H_N= F +V$,\n",
    "where $T_1$ and $F$ are one-body operators, and $T_2$ and $V$ are\n",
    "two-body operators.\n",
    "\n",
    "<!-- --- begin answer of exercise --- -->\n",
    "**Answer.**\n",
    "This is a simple task. This matrix element is part of the operator\n",
    "$\\overline{H}_{ab}^{ij}a^\\dagger_ia^\\dagger_ja_ba_a$, i.e. particles\n",
    "are annihilated and holes are created. Thus, no contraction of the\n",
    "Hamiltonian $H$ with any cluster operator $T$ (remember that $T$\n",
    "annihilates holes and creates particles) can happen, and we simply\n",
    "have $\\overline{H}_{ab}^{ij} = \\langle ij\\vert V\\vert ab\\rangle$.\n",
    "\n",
    "<!-- --- end answer of exercise --- -->"
   ]
  },
  {
   "cell_type": "markdown",
   "id": "f8ae4966",
   "metadata": {
    "editable": true
   },
   "source": [
    "## Example: The contribution of $[F, T_2]$ to $\\overline{H_N}$\n",
    "<div id=\"ex-9\"></div>\n",
    "\n",
    "The commutator $[F, T_2]$ consists of two-body and one-body terms. Let\n",
    "us compute first the two-body term, as it results from a single\n",
    "contraction (i.e. a single application of $[a_p, a^\\dagger_q] =\n",
    "\\delta_p^q$). We denote this as $[F, T_2]_{2b}$ and find"
   ]
  },
  {
   "cell_type": "markdown",
   "id": "ebc41d70",
   "metadata": {
    "editable": true
   },
   "source": [
    "$$\n",
    "\\begin{align*}\n",
    "[F, T_2]_{2b} &= \\frac{1}{4}\\sum_{pq}\\sum_{rsuv} f_p^q t_{ij}^{ab}\\left[a^\\dagger_q a_p, a^\\dagger_a a^\\dagger_b a_j a_i \\right]_{2b} \\\\\n",
    "&= \\frac{1}{4}\\sum_{pq}\\sum_{abij} f_p^q t_{ij}^{ab}\\delta_p^a a^\\dagger_q a^\\dagger_b a_j a_i  \\\\\n",
    "&- \\frac{1}{4}\\sum_{pq}\\sum_{abij} f_p^q t_{ij}^{ab}\\delta_p^b a^\\dagger_q a^\\dagger_a a_j a_i  \\\\\n",
    "&- \\frac{1}{4}\\sum_{pq}\\sum_{abij} f_p^q t_{ij}^{ab}\\delta_q^j a^\\dagger_a a^\\dagger_b a_p a_i  \\\\\n",
    "&+ \\frac{1}{4}\\sum_{pq}\\sum_{abij} f_p^q t_{ij}^{ab}\\delta_q^i a^\\dagger_a a^\\dagger_b a_p a_j  \\\\\n",
    "&= \\frac{1}{4}\\sum_{qbij}\\left(\\sum_{a} f_a^q t_{ij}^{ab}\\right)a^\\dagger_q a^\\dagger_b a_j a_i  \\\\\n",
    "&- \\frac{1}{4}\\sum_{qaij}\\left(\\sum_{b} f_b^q t_{ij}^{ab}\\right)a^\\dagger_q a^\\dagger_a a_j a_i  \\\\\n",
    "&- \\frac{1}{4}\\sum_{pabi}\\left(\\sum_{j} f_p^j t_{ij}^{ab}\\right)a^\\dagger_a a^\\dagger_b a_p a_i  \\\\\n",
    "&+ \\frac{1}{4}\\sum_{pabj}\\left(\\sum_{i} f_p^i t_{ij}^{ab}\\right)a^\\dagger_a a^\\dagger_b a_p a_j  \\\\\n",
    "&= \\frac{1}{2}\\sum_{qbij}\\left(\\sum_{a} f_a^q t_{ij}^{ab}\\right)a^\\dagger_q a^\\dagger_b a_j a_i  \\\\\n",
    "&- \\frac{1}{2}\\sum_{pabi}\\left(\\sum_{j} f_p^j t_{ij}^{ab}\\right)a^\\dagger_a a^\\dagger_b a_p a_i  .\n",
    "\\end{align*}\n",
    "$$"
   ]
  },
  {
   "cell_type": "markdown",
   "id": "8b22bfae",
   "metadata": {
    "editable": true
   },
   "source": [
    "Here we exploited the antisymmetry $t_{ij}^{ab} = -t_{ji}^{ab} =\n",
    "-t_{ij}^{ba} = t_{ji}^{ba}$ in the last step. Using $a^\\dagger_q a^\\dagger_b a_j a_i = -a^\\dagger_b a^\\dagger_q a_j a_i $ and $a^\\dagger_a a^\\dagger_b a_p a_i = a^\\dagger_a a^\\dagger_b a_i a_p$, we can make the expression \n",
    "manifest antisymmetric, i.e."
   ]
  },
  {
   "cell_type": "markdown",
   "id": "ae03bfbb",
   "metadata": {
    "editable": true
   },
   "source": [
    "$$\n",
    "\\begin{align*}\n",
    "[F, T_2]_{2b}\n",
    "&= \\frac{1}{4}\\sum_{qbij}\\left[\\sum_{a} \\left(f_a^q t_{ij}^{ab}-f_a^b t_{ij}^{qa}\\right)\\right]a^\\dagger_q a^\\dagger_b a_j a_i  \\\\\n",
    "&- \\frac{1}{4}\\sum_{pabi}\\left[\\sum_{j} \\left(f_p^j t_{ij}^{ab}-f_i^j t_{pj}^{ab}\\right)\\right]a^\\dagger_a a^\\dagger_b a_p a_i  .\n",
    "\\end{align*}\n",
    "$$"
   ]
  },
  {
   "cell_type": "markdown",
   "id": "40b9d6e6",
   "metadata": {
    "editable": true
   },
   "source": [
    "Thus, the contribution of $[F, T_2]_{2b}$ to the matrix element $\\overline{H}_{ij}^{ab}$ is"
   ]
  },
  {
   "cell_type": "markdown",
   "id": "42d7bba7",
   "metadata": {
    "editable": true
   },
   "source": [
    "$$\n",
    "\\begin{align*}\n",
    "\\overline{H}_{ij}^{ab} \\leftarrow  \\sum_{c} \\left(f_c^a t_{ij}^{cb}-f_c^b t_{ij}^{ac}\\right) - \\sum_{k} \\left(f_j^k t_{ik}^{ab}-f_i^k t_{jk}^{ab}\\right)\n",
    "\\end{align*}\n",
    "$$"
   ]
  },
  {
   "cell_type": "markdown",
   "id": "586c643d",
   "metadata": {
    "editable": true
   },
   "source": [
    "Here we used an arrow to indicate that this is just one contribution\n",
    "to this matrix element.  We see that the derivation straight forward,\n",
    "but somewhat tedious. As no one likes to commute too much (neither in\n",
    "this example nor when going to and from work), and so we need a better\n",
    "approach. This is where diagramms come in handy."
   ]
  }
 ],
 "metadata": {},
 "nbformat": 4,
 "nbformat_minor": 5
}
