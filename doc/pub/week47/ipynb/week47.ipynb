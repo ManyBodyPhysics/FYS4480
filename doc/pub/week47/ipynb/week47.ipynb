{
 "cells": [
  {
   "cell_type": "markdown",
   "id": "4cdf9710",
   "metadata": {
    "editable": true
   },
   "source": [
    "<!-- HTML file automatically generated from DocOnce source (https://github.com/doconce/doconce/)\n",
    "doconce format html week47.do.txt --no_mako -->\n",
    "<!-- dom:TITLE: Week 47: TBD -->"
   ]
  },
  {
   "cell_type": "markdown",
   "id": "f71a1344",
   "metadata": {
    "editable": true
   },
   "source": [
    "# Week 47: TBD\n",
    "**Morten Hjorth-Jensen**, Department of Physics and Center for Computing in Science Education, University of Oslo, Norway and Department of Physics and Astronomy and Facility for Rare Isotope Beams, Michigan State University, USA\n",
    "\n",
    "Date: **Week 47, November 18-22**"
   ]
  },
  {
   "cell_type": "markdown",
   "id": "9fb4d526",
   "metadata": {
    "editable": true
   },
   "source": [
    "## Week 47, November 18-22, 2024\n",
    "* Topics to be covered\n",
    "\n",
    "  * Thursday:\n",
    "\n",
    "    * TBD\n",
    "\n",
    "  * Friday:\n",
    "\n",
    "    * TBD\n",
    "\n",
    "* Lecture Material: [Slides for week 47](https://github.com/ManyBodyPhysics/FYS4480/blob/master/doc/pub/week47/pdf/slidesweek47.pdf) and handwritten notes.\n",
    "\n",
    "Work on second midterm set at <https://github.com/ManyBodyPhysics/FYS4480/blob/master/doc/Exercises/2023/SecondMidterm2023.pdf>"
   ]
  }
 ],
 "metadata": {},
 "nbformat": 4,
 "nbformat_minor": 5
}
