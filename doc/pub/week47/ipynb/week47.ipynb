{
 "cells": [
  {
   "cell_type": "markdown",
   "id": "6d825b4e",
   "metadata": {
    "editable": true
   },
   "source": [
    "<!-- HTML file automatically generated from DocOnce source (https://github.com/doconce/doconce/)\n",
    "doconce format html week47.do.txt --no_mako -->\n",
    "<!-- dom:TITLE: Week 47: Coupled Cluster theory -->"
   ]
  },
  {
   "cell_type": "markdown",
   "id": "2d0fbbbb",
   "metadata": {
    "editable": true
   },
   "source": [
    "# Week 47: Coupled Cluster theory\n",
    "**Morten Hjorth-Jensen**, Department of Physics and Center for Computing in Science Education, University of Oslo, Norway\n",
    "\n",
    "Date: **Week 47, November 18-22**"
   ]
  },
  {
   "cell_type": "markdown",
   "id": "c6f78a53",
   "metadata": {
    "editable": true
   },
   "source": [
    "## Week 47, November 18-22, 2024\n",
    "1. Thursday:\n",
    "\n",
    "a. Introduction to coupled cluster theory and basic equations\n",
    "\n",
    "2. Friday:\n",
    "\n",
    "a. Derivation of doubles excitation equation \n",
    "\n",
    "b. Applications to the pairing model from the second midterm\n",
    "\n",
    "3. Lecture material: Lecture notes (these notes) and chpater 9 of Shavitt and Bartlett"
   ]
  },
  {
   "cell_type": "markdown",
   "id": "00375115",
   "metadata": {
    "editable": true
   },
   "source": [
    "## Introduction\n",
    "\n",
    "The coupled-cluster method is an efficient tool to compute properties of many-body systems\n",
    "with an effort that grows polynomial with system size. While\n",
    "this might still be expensive, it is now possible to compute for example atomic nuclei\n",
    "with mass numbers about $A\\approx 208$ (which corresponds to lead) with this method. Recall that\n",
    "full configuration interaction (FCI)\n",
    "exhibits an exponential cost and is therefore limited to systems with few degrees of freedom."
   ]
  },
  {
   "cell_type": "markdown",
   "id": "6ce42fa1",
   "metadata": {
    "editable": true
   },
   "source": [
    "## The normal-ordered Hamiltonian\n",
    "\n",
    "We start from the reference state"
   ]
  },
  {
   "cell_type": "markdown",
   "id": "c599d2d9",
   "metadata": {
    "editable": true
   },
   "source": [
    "<!-- Equation labels as ordinary links -->\n",
    "<div id=\"HFref\"></div>\n",
    "\n",
    "$$\n",
    "\\begin{equation}\n",
    "\\label{HFref} \\tag{1}\n",
    "\\vert\\Phi_0\\rangle = \\prod_{i=1}^H a^\\dagger_i \\vert 0\\rangle \n",
    "\\end{equation}\n",
    "$$"
   ]
  },
  {
   "cell_type": "markdown",
   "id": "04a53ff7",
   "metadata": {
    "editable": true
   },
   "source": [
    "for the description of a system  with $N$ particles.  Usually, this\n",
    "reference is the Hartree-Fock state, but that is not necessary.\n",
    "\n",
    "Here and in what\n",
    "follows, the indices $i,j,k,\\ldots$ run over hole states,\n",
    "i.e. orbitals occupied in the reference state ([1](#HFref)), while\n",
    "$a,b,c,\\ldots$ run over particle states, i.e. unoccupied\n",
    "orbitals. Indices $p,q,r,s$ can identify any orbital.  Let $n_u$ be\n",
    "the number of unoccupied states, and $N$ is of course the number of\n",
    "occupied states."
   ]
  },
  {
   "cell_type": "markdown",
   "id": "3855f8a4",
   "metadata": {
    "editable": true
   },
   "source": [
    "## Hamiltonian\n",
    "\n",
    "We consider the Hamiltonian"
   ]
  },
  {
   "cell_type": "markdown",
   "id": "33832702",
   "metadata": {
    "editable": true
   },
   "source": [
    "<!-- Equation labels as ordinary links -->\n",
    "<div id=\"Ham\"></div>\n",
    "\n",
    "$$\n",
    "\\begin{equation}\n",
    "\\label{Ham} \\tag{2} H =\n",
    "\\sum_{pq} \\varepsilon^p_q a^\\dagger_p a_q +\n",
    "\\frac{1}{4}\\sum_{pqrs}\\langle pq\\vert V\\vert rs\\rangle\n",
    "a^\\dagger_pa^\\dagger_q a_sa_r\n",
    "\\end{equation}\n",
    "$$"
   ]
  },
  {
   "cell_type": "markdown",
   "id": "b3d23a11",
   "metadata": {
    "editable": true
   },
   "source": [
    "## The reference state\n",
    "\n",
    "The reference state ([1](#HFref)) is a non-trivial vacuum of our theory. \n",
    "We normal order this Hamiltonian with respect to the nontrivial vacuum\n",
    "state given by the Hartree-Fock reference and obtain the\n",
    "normal-ordered Hamiltonian"
   ]
  },
  {
   "cell_type": "markdown",
   "id": "4a4326ab",
   "metadata": {
    "editable": true
   },
   "source": [
    "<!-- Equation labels as ordinary links -->\n",
    "<div id=\"HN\"></div>\n",
    "\n",
    "$$\n",
    "\\begin{equation}\n",
    "\\label{HN} \\tag{3}\n",
    "H_N = \\sum_{pq} f_{pq} \\left\\{a^\\dagger_p a_q\\right\\} + \\frac{1}{4}\\sum_{pqrs}\\langle pq\\vert V\\vert rs\\rangle \\left\\{a^\\dagger_pa^\\dagger_q a_sa_r\\right\\}.\n",
    "\\end{equation}\n",
    "$$"
   ]
  },
  {
   "cell_type": "markdown",
   "id": "dea94e4f",
   "metadata": {
    "editable": true
   },
   "source": [
    "## Hartree-Fock basis\n",
    "\n",
    "Here,"
   ]
  },
  {
   "cell_type": "markdown",
   "id": "207b4207",
   "metadata": {
    "editable": true
   },
   "source": [
    "<!-- Equation labels as ordinary links -->\n",
    "<div id=\"Fock\"></div>\n",
    "\n",
    "$$\n",
    "\\begin{equation}\n",
    "\\label{Fock} \\tag{4}\n",
    "f^p_q = \\varepsilon^p_q + \\sum_i \\langle pi\\vert V\\vert qi\\rangle\n",
    "\\end{equation}\n",
    "$$"
   ]
  },
  {
   "cell_type": "markdown",
   "id": "699881e5",
   "metadata": {
    "editable": true
   },
   "source": [
    "is the Fock matrix. We note that the Fock matrix is diagonal in the\n",
    "Hartree-Fock basis. The brackets $\\{\\cdots\\}$ in Eq. ([3](#HN)) denote\n",
    "normal ordering, i.e. all operators that annihilate the nontrivial\n",
    "vaccum ([1](#HFref)) are to the right of those operators that create\n",
    "with respect to that vaccum. Normal ordering implies that $\\langle\n",
    "\\Phi_0\\vert H_N\\vert \\Phi_0\\rangle = 0$."
   ]
  },
  {
   "cell_type": "markdown",
   "id": "afad8410",
   "metadata": {
    "editable": true
   },
   "source": [
    "## Short repetition: Practice in normal ordering\n",
    "\n",
    "Normal order the expression $\\sum\\limits_{pq}\\varepsilon_q^p a^\\dagger_p a_q$."
   ]
  },
  {
   "cell_type": "markdown",
   "id": "fd9b99dd",
   "metadata": {
    "editable": true
   },
   "source": [
    "<!-- Equation labels as ordinary links -->\n",
    "<div id=\"_auto1\"></div>\n",
    "\n",
    "$$\n",
    "\\begin{equation}\n",
    "\\sum_{pq}\\varepsilon_q^p a^\\dagger_p a_q\n",
    "=\\sum_{ab}\\varepsilon_b^a a^\\dagger_a a_b\n",
    "+\\sum_{ai}\\varepsilon_i^a a^\\dagger_a a_i\n",
    "+\\sum_{ai}\\varepsilon_a^i a^\\dagger_i a_a   \n",
    "+\\sum_{ij}\\varepsilon_j^i a^\\dagger_i a_j\n",
    "\\label{_auto1} \\tag{5}\n",
    "\\end{equation}\n",
    "$$"
   ]
  },
  {
   "cell_type": "markdown",
   "id": "6582bb80",
   "metadata": {
    "editable": true
   },
   "source": [
    "## Answer\n",
    "\n",
    "We have to move all operators that annihilate the reference state to the right of those that create on the reference state. Thus,"
   ]
  },
  {
   "cell_type": "markdown",
   "id": "c4e707ab",
   "metadata": {
    "editable": true
   },
   "source": [
    "<!-- Equation labels as ordinary links -->\n",
    "<div id=\"_auto2\"></div>\n",
    "\n",
    "$$\n",
    "\\begin{equation}\n",
    "\\sum_{pq}\\varepsilon_q^p a^\\dagger_p a_q\n",
    "=\\sum_{ab}\\varepsilon_b^a a^\\dagger_a a_b\n",
    "+\\sum_{ai}\\varepsilon_i^a a^\\dagger_a a_i\n",
    "+\\sum_{ai}\\varepsilon_a^i a^\\dagger_i a_a\n",
    "+\\sum_{ij}\\varepsilon_j^i a^\\dagger_i a_j\n",
    "\\label{_auto2} \\tag{6}\n",
    "\\end{equation}\n",
    "$$"
   ]
  },
  {
   "cell_type": "markdown",
   "id": "317de19e",
   "metadata": {
    "editable": true
   },
   "source": [
    "<!-- Equation labels as ordinary links -->\n",
    "<div id=\"_auto3\"></div>\n",
    "\n",
    "$$\n",
    "\\begin{equation} \n",
    "=\\sum_{ab}\\varepsilon_b^a a^\\dagger_a a_b\n",
    "+\\sum_{ai}\\varepsilon_i^a a^\\dagger_a a_i\n",
    "+\\sum_{ai}\\varepsilon_a^i a^\\dagger_i a_a\n",
    "+\\sum_{ij}\\varepsilon_j^i \\left(-a_ja^\\dagger_i +\\delta_i^j\\right)\n",
    "\\label{_auto3} \\tag{7}\n",
    "\\end{equation}\n",
    "$$"
   ]
  },
  {
   "cell_type": "markdown",
   "id": "5ca86b34",
   "metadata": {
    "editable": true
   },
   "source": [
    "<!-- Equation labels as ordinary links -->\n",
    "<div id=\"_auto4\"></div>\n",
    "\n",
    "$$\n",
    "\\begin{equation} \n",
    "=\\sum_{ab}\\varepsilon_b^a a^\\dagger_a a_b\n",
    "+\\sum_{ai}\\varepsilon_i^a a^\\dagger_a a_i\n",
    "+\\sum_{ai}\\varepsilon_a^i a^\\dagger_i a_a\n",
    "-\\sum_{ij}\\varepsilon_j^i a_ja^\\dagger_i +\\sum_i \\varepsilon_i^i\n",
    "\\label{_auto4} \\tag{8}\n",
    "\\end{equation}\n",
    "$$"
   ]
  },
  {
   "cell_type": "markdown",
   "id": "28410cc5",
   "metadata": {
    "editable": true
   },
   "source": [
    "<!-- Equation labels as ordinary links -->\n",
    "<div id=\"_auto5\"></div>\n",
    "\n",
    "$$\n",
    "\\begin{equation} \n",
    "=\\sum_{pq}\\varepsilon_q^p \\left\\{a^\\dagger_p a_q\\right\\} +\\sum_i \\varepsilon_i^i\n",
    "\\label{_auto5} \\tag{9}\n",
    "\\end{equation}\n",
    "$$"
   ]
  },
  {
   "cell_type": "markdown",
   "id": "47bc38ce",
   "metadata": {
    "editable": true
   },
   "source": [
    "===== ====="
   ]
  },
  {
   "cell_type": "markdown",
   "id": "f925c134",
   "metadata": {
    "editable": true
   },
   "source": [
    "## Hartree-Fock again\n",
    "We note that $H = E_{HF} + H_N$, where"
   ]
  },
  {
   "cell_type": "markdown",
   "id": "61587140",
   "metadata": {
    "editable": true
   },
   "source": [
    "<!-- Equation labels as ordinary links -->\n",
    "<div id=\"_auto6\"></div>\n",
    "\n",
    "$$\n",
    "\\begin{equation}\n",
    "E_{HF} \\equiv \\langle\\Phi_0\\vert H\\vert \\Phi_0\\rangle = \\sum_{i} \\varepsilon^i_i +\\frac{1}{2}\\sum_{ij}\\langle ij\\vert V\\vert ij\\rangle\n",
    "\\label{_auto6} \\tag{10}\n",
    "\\end{equation}\n",
    "$$"
   ]
  },
  {
   "cell_type": "markdown",
   "id": "d3a6ef6f",
   "metadata": {
    "editable": true
   },
   "source": [
    "is the Hartree-Fock energy.\n",
    "The coupled-cluster method is a very efficient tool to compute nuclei\n",
    "when a \"good\" reference state is available. Let us assume that the\n",
    "reference state results from a Hartree-Fock calculation."
   ]
  },
  {
   "cell_type": "markdown",
   "id": "c3b27f1e",
   "metadata": {
    "editable": true
   },
   "source": [
    "## What does \"good\" mean?\n",
    "\n",
    "How do you know whether a Hartree-Fock state is a \"good\" reference?\n",
    "Which results of the Hartree-Fock computation will inform you?"
   ]
  },
  {
   "cell_type": "markdown",
   "id": "a555875f",
   "metadata": {
    "editable": true
   },
   "source": [
    "## Answer\n",
    "\n",
    "Once the Hartree-Fock equations are solved, the Fock matrix\n",
    "([4](#Fock)) becomes diagonal, and its diagonal elements can be viewed\n",
    "as single-particle energies. Hopefully, there is a clear gap in the\n",
    "single-particle spectrum at the Fermi surface, i.e. after $N$ orbitals\n",
    "are filled.\n",
    "\n",
    "If symmetry-restricted Hartree-Fock is used, one is limited to compute\n",
    "systems  with closed subshells for neutrons and for protons. On a first\n",
    "view, this might seem as a severe limitation. But is it?"
   ]
  },
  {
   "cell_type": "markdown",
   "id": "050141d7",
   "metadata": {
    "editable": true
   },
   "source": [
    "## To nuclear physics aficionadoss: How many nuclei are accessible with the coupled cluster method based on spherical mean fields?\n",
    "\n",
    "If one limits oneself to nuclei with mass number up to\n",
    "mass number $A=60$, how many nuclei can potentially be described with\n",
    "the coupled-cluster method? Which of these nuclei are potentially\n",
    "interesting? Why?"
   ]
  },
  {
   "cell_type": "markdown",
   "id": "30240fc1",
   "metadata": {
    "editable": true
   },
   "source": [
    "## Answer\n",
    "\n",
    "Nuclear shell closures are at $N,Z=2,8,20,28,50,82,126$, and subshell\n",
    "closures at $N,Z=2,6,8,14,16,20,28,32,34,40,50,\\ldots$. \n",
    "\n",
    "In the physics of nuclei, the evolution of nuclear structure as\n",
    "neutrons are added (or removed) from an isotope is a key\n",
    "<!-- interest. Examples are the rare isotopes of helium ($^{8,10}$ He) -->\n",
    "<!-- oxygen ($^{22,24,28}$ O), calcium ($^{52,54,60}$ Ca), nickel ($^{78}$ -->\n",
    "<!-- Ni) and tin ($^{100,132}$ Sn). The coupled-cluster method has the -->\n",
    "interest. Examples are the rare isotopes of helium (He-8,10)\n",
    "oxygen (O-22,24,28), calcium (Ca-52,54,60), nickel (Ni-78) and tin\n",
    "(Sn-100,132). The coupled-cluster method has the\n",
    "potential to address questions regarding these nuclei, and in a\n",
    "several cases was used to make predictions before experimental data\n",
    "was available. In addition, the method can be used to compute\n",
    "neighbors of nuclei with closed subshells."
   ]
  },
  {
   "cell_type": "markdown",
   "id": "21ec5f08",
   "metadata": {
    "editable": true
   },
   "source": [
    "## The similarity transformed Hamiltonian\n",
    "\n",
    "There are several ways to view and understand the coupled-cluster\n",
    "method. A first simple view of coupled-cluster theory is that the\n",
    "method induces correlations into the reference state by expressing a\n",
    "correlated state as"
   ]
  },
  {
   "cell_type": "markdown",
   "id": "17b40269",
   "metadata": {
    "editable": true
   },
   "source": [
    "<!-- Equation labels as ordinary links -->\n",
    "<div id=\"psi\"></div>\n",
    "\n",
    "$$\n",
    "\\begin{equation}\n",
    "\\label{psi} \\tag{11}\n",
    "\\vert\\Psi\\rangle = e^T \\vert\\Phi_0\\rangle ,\n",
    "\\end{equation}\n",
    "$$"
   ]
  },
  {
   "cell_type": "markdown",
   "id": "fd8a09d0",
   "metadata": {
    "editable": true
   },
   "source": [
    "## Clusters of excited states\n",
    "\n",
    "Here, $T$ is an operator that induces correlations. We can now demand\n",
    "that the correlate state ([11](#psi)) becomes and eigenstate of the\n",
    "Hamiltonian $H_N$, i.e.  $H_N\\vert \\Psi\\rangle = E\\vert \\Psi\\rangle$. This view,\n",
    "while correct, is not the most productive one.  Instead, we\n",
    "left-multiply the Schroedinger equation with $e^{-T}$ and find"
   ]
  },
  {
   "cell_type": "markdown",
   "id": "f0dcce9c",
   "metadata": {
    "editable": true
   },
   "source": [
    "<!-- Equation labels as ordinary links -->\n",
    "<div id=\"Schroedinger\"></div>\n",
    "\n",
    "$$\n",
    "\\begin{equation}\n",
    "\\label{Schroedinger} \\tag{12}\n",
    "\\overline{H_N}\\vert \\Phi_0\\rangle = E_c \\vert \\Phi_0\\rangle . \n",
    "\\end{equation}\n",
    "$$"
   ]
  },
  {
   "cell_type": "markdown",
   "id": "e99590b1",
   "metadata": {
    "editable": true
   },
   "source": [
    "Here, $E_c$ is the correlation energy, and the total energy is\n",
    "$E=E_c+E_{HF}$."
   ]
  },
  {
   "cell_type": "markdown",
   "id": "e0ed9dc3",
   "metadata": {
    "editable": true
   },
   "source": [
    "## Similarity transformation\n",
    "\n",
    "The similarity-transformed Hamiltonian is defined as"
   ]
  },
  {
   "cell_type": "markdown",
   "id": "c871ed8e",
   "metadata": {
    "editable": true
   },
   "source": [
    "<!-- Equation labels as ordinary links -->\n",
    "<div id=\"Hsim\"></div>\n",
    "\n",
    "$$\n",
    "\\begin{equation}\n",
    "\\label{Hsim} \\tag{13}\n",
    "\\overline{H_N} \\equiv e^{-T} H_N e^T .\n",
    "\\end{equation}\n",
    "$$"
   ]
  },
  {
   "cell_type": "markdown",
   "id": "70a7089b",
   "metadata": {
    "editable": true
   },
   "source": [
    "A more productive view on coupled-cluster theory thus emerges: This\n",
    "method seeks a similarity transformation such that the uncorrelated\n",
    "reference state ([1](#HFref)) becomes an exact eigenstate of the\n",
    "similarity-transformed Hamiltonian ([13](#Hsim))."
   ]
  },
  {
   "cell_type": "markdown",
   "id": "cc6842a0",
   "metadata": {
    "editable": true
   },
   "source": [
    "## What $T$ leads to Hermitian $\\overline{H_N}$ ?\n",
    "\n",
    "What are the conditions on $T$ such that $\\overline{H_N}$ is Hermitian?"
   ]
  },
  {
   "cell_type": "markdown",
   "id": "e0cd0147",
   "metadata": {
    "editable": true
   },
   "source": [
    "## Answer\n",
    "\n",
    "For a Hermitian $\\overline{H_N}$, we need a unitary $e^T$, i.e. an\n",
    "anti-Hermitian $T$ with $T = -T^\\dagger$\n",
    "\n",
    "As we will see below, coupld-cluster theory employs a non-Hermitian Hamiltonian."
   ]
  },
  {
   "cell_type": "markdown",
   "id": "39fdab58",
   "metadata": {
    "editable": true
   },
   "source": [
    "## Understanding (non-unitary) similarity transformations\n",
    "\n",
    "Show that $\\overline{H_N}$ has the same eigenvalues as $H_N$ for\n",
    "arbitrary $T$. What is the spectral decomposition of a non-Hermitian\n",
    "$\\overline{H_N}$ ?"
   ]
  },
  {
   "cell_type": "markdown",
   "id": "13bcfd0a",
   "metadata": {
    "editable": true
   },
   "source": [
    "## Answer\n",
    "\n",
    "Let $H_N\\vert E\\rangle = E\\vert E\\rangle$. Thus"
   ]
  },
  {
   "cell_type": "markdown",
   "id": "c62d554b",
   "metadata": {
    "editable": true
   },
   "source": [
    "$$\n",
    "\\begin{align*}\n",
    "H_N e^{T} e^{-T} \\vert E\\rangle &= E\\vert E\\rangle , \\\\\n",
    "\\left(e^{-T} H_N e^T\\right) e^{-T} \\vert E\\rangle &= Ee^{-T} \\vert E\\rangle , \\\\\n",
    "\\overline{H_N} e^{-T} \\vert E\\rangle &= E e^{-T}\\vert E\\rangle .\n",
    "\\end{align*}\n",
    "$$"
   ]
  },
  {
   "cell_type": "markdown",
   "id": "6593f9b7",
   "metadata": {
    "editable": true
   },
   "source": [
    "Thus, if $\\vert E\\rangle$ is an eigenstate of $H_N$ with eigenvalue $E$,\n",
    "then $e^{-T}\\vert E\\rangle$ is eigenstate of $\\overline{H_N}$ with the same\n",
    "eigenvalue."
   ]
  },
  {
   "cell_type": "markdown",
   "id": "70cd0eec",
   "metadata": {
    "editable": true
   },
   "source": [
    "## Non-hermitian operator\n",
    "\n",
    "A non-Hermitian $\\overline{H_N}$ has eigenvalues $E_\\alpha$\n",
    "corresponding to left $\\langle L_\\alpha\\vert $ and right $\\vert R_\\alpha\n",
    "\\rangle$ eigenstates. Thus"
   ]
  },
  {
   "cell_type": "markdown",
   "id": "fe663f23",
   "metadata": {
    "editable": true
   },
   "source": [
    "<!-- Equation labels as ordinary links -->\n",
    "<div id=\"_auto7\"></div>\n",
    "\n",
    "$$\n",
    "\\begin{equation}\n",
    "\\overline{H_N} = \\sum_\\alpha \\vert R_\\alpha\\rangle E_\\alpha \\langle L_\\alpha \\vert \n",
    "\\label{_auto7} \\tag{14}\n",
    "\\end{equation}\n",
    "$$"
   ]
  },
  {
   "cell_type": "markdown",
   "id": "7e5482be",
   "metadata": {
    "editable": true
   },
   "source": [
    "with bi-orthonormal $\\langle L_\\alpha\\vert R_\\beta\\rangle = \\delta_\\alpha^\\beta$."
   ]
  },
  {
   "cell_type": "markdown",
   "id": "4fdfde69",
   "metadata": {
    "editable": true
   },
   "source": [
    "## More formalism\n",
    "\n",
    "To make progress, we have to specify the cluster operator $T$. In\n",
    "coupled cluster theory, this operator is"
   ]
  },
  {
   "cell_type": "markdown",
   "id": "90d71c46",
   "metadata": {
    "editable": true
   },
   "source": [
    "<!-- Equation labels as ordinary links -->\n",
    "<div id=\"Top\"></div>\n",
    "\n",
    "$$\n",
    "\\begin{equation}\n",
    "\\label{Top} \\tag{15}\n",
    "T \\equiv \\sum_{ia} t_i^a a^\\dagger_a a_i + \\frac{1}{4}\\sum_{ijab}t_{ij}^{ab}\n",
    "a^\\dagger_aa^\\dagger_ba_ja_i + \\cdots\n",
    "+ \\frac{1}{(N!)^2}\\sum_{i_1\\ldots i_N a_1 \\ldots a_N}\n",
    "t_{i_1\\ldots i_N}^{a_1\\ldots a_N} a^\\dagger_{a_1}\\cdots a^\\dagger_{a_N} a_{i_N}\\cdots a_{i_1} .\n",
    "\\end{equation}\n",
    "$$"
   ]
  },
  {
   "cell_type": "markdown",
   "id": "a60cf60e",
   "metadata": {
    "editable": true
   },
   "source": [
    "## Particle-hole excitations\n",
    "\n",
    "Thus, the operator ([15](#Top)) induces particle-hole (p-h)\n",
    "excitations with respect to the reference. In general, $T$ generates\n",
    "up to $Ap-Ah$ excitations, and the unknown parameters are the cluster amplitides\n",
    "$t_i^a$, $t_{ij}^{ab}$, ..., $t_{i_1,\\ldots,i_A}^{a_1,\\ldots,a_A}$."
   ]
  },
  {
   "cell_type": "markdown",
   "id": "e8c09329",
   "metadata": {
    "editable": true
   },
   "source": [
    "## How many unknowns?\n",
    "\n",
    "Show that the number of unknowns is as large as the FCI dimension of\n",
    "the problem, using the numbers $A$ and $n_u$."
   ]
  },
  {
   "cell_type": "markdown",
   "id": "c5556455",
   "metadata": {
    "editable": true
   },
   "source": [
    "## Answer\n",
    "\n",
    "We have to sum up all $np-nh$ excitations, and there are\n",
    "$\\binom{n_u}{n}$ particle states and $\\binom{A}{A-n}$ hole states for\n",
    "each $n$. Thus, we have for the total number"
   ]
  },
  {
   "cell_type": "markdown",
   "id": "4defb79b",
   "metadata": {
    "editable": true
   },
   "source": [
    "<!-- Equation labels as ordinary links -->\n",
    "<div id=\"_auto8\"></div>\n",
    "\n",
    "$$\n",
    "\\begin{equation}\n",
    "\\sum_{n=0}^A \\binom{n_u}{n} \\binom{A}{A-n}= \\binom{A+n_u}{A} .\n",
    "\\label{_auto8} \\tag{16}\n",
    "\\end{equation}\n",
    "$$"
   ]
  },
  {
   "cell_type": "markdown",
   "id": "d62a016e",
   "metadata": {
    "editable": true
   },
   "source": [
    "The right hand side are obviously all ways to distribute $A$ fermions over $n_0+A$ orbitals."
   ]
  },
  {
   "cell_type": "markdown",
   "id": "f18edfcb",
   "metadata": {
    "editable": true
   },
   "source": [
    "## Full clutser operator\n",
    "\n",
    "Thus, the coupled-cluster method with the full cluster operator\n",
    "([15](#Top)) is exponentially expensive, just as FCI. To make progress,\n",
    "we need to make an approximation by truncating the operator. Here, we\n",
    "will use the CCSD (coupled clusters singles doubles) approximation,\n",
    "where"
   ]
  },
  {
   "cell_type": "markdown",
   "id": "d93876c3",
   "metadata": {
    "editable": true
   },
   "source": [
    "<!-- Equation labels as ordinary links -->\n",
    "<div id=\"Tccsd\"></div>\n",
    "\n",
    "$$\n",
    "\\begin{equation}\n",
    "\\label{Tccsd} \\tag{17}\n",
    "T \\equiv \\sum_{ia} t_i^a a^\\dagger_a a_i + \\frac{1}{4}\\sum_{ijab}t_{ij}^{ab}\n",
    "a^\\dagger_aa^\\dagger_ba_ja_i .\n",
    "\\end{equation}\n",
    "$$"
   ]
  },
  {
   "cell_type": "markdown",
   "id": "3e123a27",
   "metadata": {
    "editable": true
   },
   "source": [
    "## Unknown aplitudes\n",
    "We need to determine the unknown cluster amplitudes that enter in CCSD. Let"
   ]
  },
  {
   "cell_type": "markdown",
   "id": "7a12b057",
   "metadata": {
    "editable": true
   },
   "source": [
    "<!-- Equation labels as ordinary links -->\n",
    "<div id=\"_auto9\"></div>\n",
    "\n",
    "$$\n",
    "\\begin{equation}\n",
    "\\vert\\Phi_i^a\\rangle = a^\\dagger_a a_i \\vert \\Phi_0\\rangle , \n",
    "\\label{_auto9} \\tag{18}\n",
    "\\end{equation}\n",
    "$$"
   ]
  },
  {
   "cell_type": "markdown",
   "id": "1640787b",
   "metadata": {
    "editable": true
   },
   "source": [
    "<!-- Equation labels as ordinary links -->\n",
    "<div id=\"_auto10\"></div>\n",
    "\n",
    "$$\n",
    "\\begin{equation} \n",
    "\\vert\\Phi_{ij}^{ab}\\rangle = a^\\dagger_a a^\\dagger_b a_j a_i \\vert \\Phi_0\\rangle\n",
    "\\label{_auto10} \\tag{19}\n",
    "\\end{equation}\n",
    "$$"
   ]
  },
  {
   "cell_type": "markdown",
   "id": "46adac4a",
   "metadata": {
    "editable": true
   },
   "source": [
    "be 1p-1h and 2p-2h excitations of the reference. Computing matrix\n",
    "elements of the Schroedinger Equation ([12](#Schroedinger)) yields"
   ]
  },
  {
   "cell_type": "markdown",
   "id": "4de42474",
   "metadata": {
    "editable": true
   },
   "source": [
    "<!-- Equation labels as ordinary links -->\n",
    "<div id=\"ccsd\"></div>\n",
    "\n",
    "$$\n",
    "\\begin{equation}\n",
    "\\label{ccsd} \\tag{20}\n",
    "\\langle \\Phi_0\\vert \\overline{H_N}\\vert \\Phi_0\\rangle = E_c , \n",
    "\\end{equation}\n",
    "$$"
   ]
  },
  {
   "cell_type": "markdown",
   "id": "1c33a64a",
   "metadata": {
    "editable": true
   },
   "source": [
    "<!-- Equation labels as ordinary links -->\n",
    "<div id=\"_auto11\"></div>\n",
    "\n",
    "$$\n",
    "\\begin{equation} \n",
    "\\langle \\Phi_i^a\\vert \\overline{H_N}\\vert \\Phi_0\\rangle = 0 , \n",
    "\\label{_auto11} \\tag{21}\n",
    "\\end{equation}\n",
    "$$"
   ]
  },
  {
   "cell_type": "markdown",
   "id": "7b30e4fb",
   "metadata": {
    "editable": true
   },
   "source": [
    "<!-- Equation labels as ordinary links -->\n",
    "<div id=\"_auto12\"></div>\n",
    "\n",
    "$$\n",
    "\\begin{equation} \n",
    "\\langle \\Phi_{ij}^{ab}\\vert \\overline{H_N}\\vert \\Phi_0\\rangle = 0 .\n",
    "\\label{_auto12} \\tag{22}\n",
    "\\end{equation}\n",
    "$$"
   ]
  },
  {
   "cell_type": "markdown",
   "id": "ad37c595",
   "metadata": {
    "editable": true
   },
   "source": [
    "## Correlation energy\n",
    "\n",
    "The first equation states that the coupled-cluster correlation energy\n",
    "is an expectation value of the similarity-transformed Hamiltonian. The\n",
    "second and third equations state that the similarity-transformed\n",
    "Hamiltonian exhibits no 1p-1h and no 2p-2h excitations. These\n",
    "equations have to be solved to find the unknown amplitudes $t_i^a$ and\n",
    "$t_{ij}^{ab}$. Then one can use these amplitudes and compute the\n",
    "correlation energy from the first line of Eq. ([20](#ccsd)).\n",
    "\n",
    "We note that in the CCSD approximation the reference state is not an\n",
    "exact eigenstates. Rather, it is decoupled from simple states but\n",
    "$\\overline{H}$ still connects this state to 3p-3h, and 4p-4h states\n",
    "etc."
   ]
  },
  {
   "cell_type": "markdown",
   "id": "c8e91ff6",
   "metadata": {
    "editable": true
   },
   "source": [
    "## Good reference state\n",
    "\n",
    "At this point, it is important to recall that we assumed starting from\n",
    "a \"good\" reference state. In such a case, we might reasonably expect\n",
    "that the inclusion of 1p-1h and 2p-2h excitations could result in an\n",
    "accurate approximation. Indeed, empirically one finds that CCSD\n",
    "accounts for about 90% of the corelation energy, i.e. of the\n",
    "difference between the exact energy and the Hartree-Fock energy. The\n",
    "inclusion of triples (3p-3h excitations) typically yields 99% of the\n",
    "correlation energy.\n",
    "\n",
    "We see that the coupled-cluster method in its CCSD approximation\n",
    "yields a similarity-transformed Hamiltonian that is of a two-body\n",
    "structure with respect to a non-trivial vacuum. When viewed in this\n",
    "light, the coupled-cluster method \"transforms\" an $A$-body problem\n",
    "(in CCSD) into a two-body problem, albeit with respect to a nontrivial\n",
    "vacuum."
   ]
  },
  {
   "cell_type": "markdown",
   "id": "c99a991f",
   "metadata": {
    "editable": true
   },
   "source": [
    "## Exercise 1: Why is CCD not exact?\n",
    "\n",
    "Above we argued that a similarity transformation preserves all eigenvalues. Nevertheless, the CCD correlation energy is not the exact correlation energy. Explain!\n",
    "\n",
    "The CCD approximation does not make $\\vert\\Phi_0\\rangle$ an exact\n",
    "eigenstate of $\\overline{H_N}$; it is only an eigenstate when the\n",
    "similarity-transformed Hamiltonian is truncated to at most 2p-2h\n",
    "states. The full $\\overline{H_N}$, with $T=T_2$, would involve\n",
    "six-body terms (do you understand this?), and this full Hamiltonian\n",
    "would reproduce the exact correlation energy. Thus CCD is a similarity\n",
    "transformation plus a truncation, which decouples the ground state only\n",
    "from 2p-2h states."
   ]
  },
  {
   "cell_type": "markdown",
   "id": "0623f179",
   "metadata": {
    "editable": true
   },
   "source": [
    "## Computing the similarity-transformed Hamiltonian\n",
    "\n",
    "The solution of the CCSD equations, i.e. the second and third line of\n",
    "Eq. ([20](#ccsd)), and the computation of the correlation energy\n",
    "requires us to compute matrix elements of the similarity-transformed\n",
    "Hamiltonian ([13](#Hsim)). This can be done with the\n",
    "Baker-Campbell-Hausdorff expansion"
   ]
  },
  {
   "cell_type": "markdown",
   "id": "dd5b222c",
   "metadata": {
    "editable": true
   },
   "source": [
    "<!-- Equation labels as ordinary links -->\n",
    "<div id=\"BCH\"></div>\n",
    "\n",
    "$$\n",
    "\\begin{equation}\n",
    "\\label{BCH} \\tag{23}\n",
    "\\overline{H_N} = e^{-T} H_N e^T \n",
    "\\end{equation}\n",
    "$$"
   ]
  },
  {
   "cell_type": "markdown",
   "id": "f544fa06",
   "metadata": {
    "editable": true
   },
   "source": [
    "<!-- Equation labels as ordinary links -->\n",
    "<div id=\"_auto13\"></div>\n",
    "\n",
    "$$\n",
    "\\begin{equation} \n",
    "=H_N + \\left[ H_N, T\\right]+ \\frac{1}{2!}\\left[ \\left[ H_N, T\\right], T\\right]\n",
    "+ \\frac{1}{3!}\\left[\\left[ \\left[ H_N, T\\right], T\\right], T\\right] +\\ldots .\n",
    "\\label{_auto13} \\tag{24}\n",
    "\\end{equation}\n",
    "$$"
   ]
  },
  {
   "cell_type": "markdown",
   "id": "9fc3a745",
   "metadata": {
    "editable": true
   },
   "source": [
    "## The cluster operator\n",
    "\n",
    "We now come to a key element of coupled-cluster theory: the cluster\n",
    "operator ([15](#Top)) consists of sums of terms that consist of particle\n",
    "creation and hole annihilation operators (but no particle annihilation\n",
    "or hole creation operators). Thus, all terms that enter $T$ commute\n",
    "with each other. This means that the commutators in the\n",
    "Baker-Campbell-Hausdorff expansion ([23](#BCH)) can only be non-zero\n",
    "because each $T$ must connect to $H_N$ (but no $T$ with another\n",
    "$T$). Thus, the expansion is finite."
   ]
  },
  {
   "cell_type": "markdown",
   "id": "fd489451",
   "metadata": {
    "editable": true
   },
   "source": [
    "## When does CCSD truncate?\n",
    "\n",
    "In CCSD and for two-body Hamiltonians, how many nested\n",
    "commutators yield nonzero results? Where does the\n",
    "Baker-Campbell-Hausdorff expansion terminate? What is the (many-body) rank of the resulting $\\overline{H_N}$? \n",
    "\n",
    "CCSD truncates for two-body operators at four-fold nested commutators,\n",
    "because each of the four annihilation and creation operators in\n",
    "$\\overline{H_N}$ can be knocked out with one term of $T$."
   ]
  },
  {
   "cell_type": "markdown",
   "id": "142bb7b4",
   "metadata": {
    "editable": true
   },
   "source": [
    "## Non-hermitian Hamiltonian\n",
    "\n",
    "We see that the (disadvantage of having a) non-Hermitian Hamiltonian\n",
    "$\\overline{H_N}$ leads to the advantage that the\n",
    "Baker-Campbell-Hausdorff expansion is finite, thus leading to the\n",
    "possibility to compute $\\overline{H_N}$ exactly. In contrast, the\n",
    "IMSRG deals with a Hermitian Hamiltonian throughout, and the infinite\n",
    "Baker-Campbell-Hausdorff expansion is truncated at a high order when\n",
    "terms become very small."
   ]
  },
  {
   "cell_type": "markdown",
   "id": "ea0b3483",
   "metadata": {
    "editable": true
   },
   "source": [
    "## Similarity transformed Hamiltonian\n",
    "\n",
    "We write the similarity-transformed Hamiltonian as"
   ]
  },
  {
   "cell_type": "markdown",
   "id": "6acfbaab",
   "metadata": {
    "editable": true
   },
   "source": [
    "<!-- Equation labels as ordinary links -->\n",
    "<div id=\"_auto14\"></div>\n",
    "\n",
    "$$\n",
    "\\begin{equation}\n",
    "\\overline{H_N}=\\sum_{pq} \\overline{H}^p_q a^\\dagger_q a_p + {1\\over 4} \\sum_{pqrs} \\overline{H}^{pq}_{rs} a^\\dagger_p a^\\dagger_q a_s a_r + \\ldots\n",
    "\\label{_auto14} \\tag{25}\n",
    "\\end{equation}\n",
    "$$"
   ]
  },
  {
   "cell_type": "markdown",
   "id": "869e4cdc",
   "metadata": {
    "editable": true
   },
   "source": [
    "with"
   ]
  },
  {
   "cell_type": "markdown",
   "id": "64287329",
   "metadata": {
    "editable": true
   },
   "source": [
    "<!-- Equation labels as ordinary links -->\n",
    "<div id=\"_auto15\"></div>\n",
    "\n",
    "$$\n",
    "\\begin{equation}\n",
    "\\overline{H}^p_q \\equiv \\langle p\\vert \\overline{H_N}\\vert q\\rangle , \n",
    "\\label{_auto15} \\tag{26}\n",
    "\\end{equation}\n",
    "$$"
   ]
  },
  {
   "cell_type": "markdown",
   "id": "dc95f67c",
   "metadata": {
    "editable": true
   },
   "source": [
    "<!-- Equation labels as ordinary links -->\n",
    "<div id=\"_auto16\"></div>\n",
    "\n",
    "$$\n",
    "\\begin{equation} \n",
    "\\overline{H}^{pq}_{rs} \\equiv \\langle pq\\vert \\overline{H_N}\\vert rs\\rangle .\n",
    "\\label{_auto16} \\tag{27}\n",
    "\\end{equation}\n",
    "$$"
   ]
  },
  {
   "cell_type": "markdown",
   "id": "a6bd7102",
   "metadata": {
    "editable": true
   },
   "source": [
    "Thus, the CCSD Eqs. ([20](#ccsd)) for the amplitudes can be written as\n",
    "$\\overline{H}_i^a = 0$ and $\\overline{H}_{ij}^{ab}=0$."
   ]
  },
  {
   "cell_type": "markdown",
   "id": "6b2a88a4",
   "metadata": {
    "editable": true
   },
   "source": [
    "## Compute the matrix element $\\overline{H}_{ab}^{ij}\\equiv \\langle ij\\vert \\overline{H_N}\\vert ab\\rangle$\n",
    "\n",
    "This is a simple task. This matrix element is part of the operator\n",
    "$\\overline{H}_{ab}^{ij}a^\\dagger_ia^\\dagger_ja_ba_a$, i.e. particles\n",
    "are annihilated and holes are created. Thus, no contraction of the\n",
    "Hamiltonian $H$ with any cluster operator $T$ (remember that $T$\n",
    "annihilates holes and creates particles) can happen, and we simply\n",
    "have $\\overline{H}_{ab}^{ij} = \\langle ij\\vert V\\vert ab\\rangle$."
   ]
  },
  {
   "cell_type": "markdown",
   "id": "badca9f6",
   "metadata": {
    "editable": true
   },
   "source": [
    "## Algebraic manipulations\n",
    "\n",
    "We need to work out the similarity-transformed Hamiltonian of\n",
    "Eq. ([23](#BCH)). To do this, we write $T=T_1 +T_2$ and $H_N= F +V$,\n",
    "where $T_1$ and $F$ are one-body operators, and $T_2$ and $V$ are\n",
    "two-body operators."
   ]
  },
  {
   "cell_type": "markdown",
   "id": "06195e33",
   "metadata": {
    "editable": true
   },
   "source": [
    "## Example: The contribution of $[F, T_2]$ to $\\overline{H_N}$\n",
    "\n",
    "The commutator $[F, T_2]$ consists of two-body and one-body terms. Let\n",
    "us compute first the two-body term, as it results from a single\n",
    "contraction (i.e. a single application of $[a_p, a^\\dagger_q] =\n",
    "\\delta_p^q$). We denote this as $[F, T_2]_{2b}$ and find"
   ]
  },
  {
   "cell_type": "markdown",
   "id": "eaf420ec",
   "metadata": {
    "editable": true
   },
   "source": [
    "$$\n",
    "\\begin{align*}\n",
    "[F, T_2]_{2b} &= \\frac{1}{4}\\sum_{pq}\\sum_{rsuv} f_p^q t_{ij}^{ab}\\left[a^\\dagger_q a_p, a^\\dagger_a a^\\dagger_b a_j a_i \\right]_{2b} \\\\\n",
    "&= \\frac{1}{4}\\sum_{pq}\\sum_{abij} f_p^q t_{ij}^{ab}\\delta_p^a a^\\dagger_q a^\\dagger_b a_j a_i  \\\\\n",
    "&- \\frac{1}{4}\\sum_{pq}\\sum_{abij} f_p^q t_{ij}^{ab}\\delta_p^b a^\\dagger_q a^\\dagger_a a_j a_i  \\\\\n",
    "&- \\frac{1}{4}\\sum_{pq}\\sum_{abij} f_p^q t_{ij}^{ab}\\delta_q^j a^\\dagger_a a^\\dagger_b a_p a_i  \\\\\n",
    "&+ \\frac{1}{4}\\sum_{pq}\\sum_{abij} f_p^q t_{ij}^{ab}\\delta_q^i a^\\dagger_a a^\\dagger_b a_p a_j  \\\\\n",
    "&= \\frac{1}{4}\\sum_{qbij}\\left(\\sum_{a} f_a^q t_{ij}^{ab}\\right)a^\\dagger_q a^\\dagger_b a_j a_i  \\\\\n",
    "&- \\frac{1}{4}\\sum_{qaij}\\left(\\sum_{b} f_b^q t_{ij}^{ab}\\right)a^\\dagger_q a^\\dagger_a a_j a_i  \\\\\n",
    "&- \\frac{1}{4}\\sum_{pabi}\\left(\\sum_{j} f_p^j t_{ij}^{ab}\\right)a^\\dagger_a a^\\dagger_b a_p a_i  \\\\\n",
    "&+ \\frac{1}{4}\\sum_{pabj}\\left(\\sum_{i} f_p^i t_{ij}^{ab}\\right)a^\\dagger_a a^\\dagger_b a_p a_j  \\\\\n",
    "&= \\frac{1}{2}\\sum_{qbij}\\left(\\sum_{a} f_a^q t_{ij}^{ab}\\right)a^\\dagger_q a^\\dagger_b a_j a_i  \\\\\n",
    "&- \\frac{1}{2}\\sum_{pabi}\\left(\\sum_{j} f_p^j t_{ij}^{ab}\\right)a^\\dagger_a a^\\dagger_b a_p a_i  .\n",
    "\\end{align*}\n",
    "$$"
   ]
  },
  {
   "cell_type": "markdown",
   "id": "f5d58e9d",
   "metadata": {
    "editable": true
   },
   "source": [
    "## Antisymmetry\n",
    "\n",
    "Here we exploited the antisymmetry $t_{ij}^{ab} = -t_{ji}^{ab} =\n",
    "-t_{ij}^{ba} = t_{ji}^{ba}$ in the last step. Using $a^\\dagger_q a^\\dagger_b a_j a_i = -a^\\dagger_b a^\\dagger_q a_j a_i $ and $a^\\dagger_a a^\\dagger_b a_p a_i = a^\\dagger_a a^\\dagger_b a_i a_p$, we can make the expression \n",
    "manifest antisymmetric, i.e."
   ]
  },
  {
   "cell_type": "markdown",
   "id": "a7d610a1",
   "metadata": {
    "editable": true
   },
   "source": [
    "$$\n",
    "\\begin{align*}\n",
    "[F, T_2]_{2b}\n",
    "&= \\frac{1}{4}\\sum_{qbij}\\left[\\sum_{a} \\left(f_a^q t_{ij}^{ab}-f_a^b t_{ij}^{qa}\\right)\\right]a^\\dagger_q a^\\dagger_b a_j a_i  \\\\\n",
    "&- \\frac{1}{4}\\sum_{pabi}\\left[\\sum_{j} \\left(f_p^j t_{ij}^{ab}-f_i^j t_{pj}^{ab}\\right)\\right]a^\\dagger_a a^\\dagger_b a_p a_i  .\n",
    "\\end{align*}\n",
    "$$"
   ]
  },
  {
   "cell_type": "markdown",
   "id": "8fc06703",
   "metadata": {
    "editable": true
   },
   "source": [
    "## Final contribution\n",
    "Thus, the contribution of $[F, T_2]_{2b}$ to the matrix element $\\overline{H}_{ij}^{ab}$ is"
   ]
  },
  {
   "cell_type": "markdown",
   "id": "1c101f46",
   "metadata": {
    "editable": true
   },
   "source": [
    "$$\n",
    "\\begin{align*}\n",
    "\\overline{H}_{ij}^{ab} \\leftarrow  \\sum_{c} \\left(f_c^a t_{ij}^{cb}-f_c^b t_{ij}^{ac}\\right) - \\sum_{k} \\left(f_j^k t_{ik}^{ab}-f_i^k t_{jk}^{ab}\\right)\n",
    "\\end{align*}\n",
    "$$"
   ]
  },
  {
   "cell_type": "markdown",
   "id": "f0fe34bc",
   "metadata": {
    "editable": true
   },
   "source": [
    "Here we used an arrow to indicate that this is just one contribution\n",
    "to this matrix element.  We see that the derivation straight forward,\n",
    "but somewhat tedious. As no one likes to commute too much (neither in\n",
    "this example nor when going to and from work), and so we need a better\n",
    "approach. This is where diagramms come in handy."
   ]
  },
  {
   "cell_type": "markdown",
   "id": "4ba0f6b7",
   "metadata": {
    "editable": true
   },
   "source": [
    "## Assign the correct matrix element $\\langle pq\\vert V\\vert rs\\rangle$ to each of the following diagrams of the interaction\n",
    "\n",
    "Remember: $\\langle\\rm{left-out, right-out}\\vert V\\vert \\rm{left-in, right-in}\\rangle$.\n",
    "\n",
    "<!-- FIGURE: [figslides/Diagrams-V1.png, width=400 frac=0.8] -->\n",
    "\n",
    "$\\langle ab\\vert V\\vert cd\\rangle + \\langle ij\\vert V\\vert kl\\rangle + \\langle ia\\vert V\\vert bj\\rangle$\n",
    "\n",
    "<!-- FIGURE: [figslides/Diagrams-V2.png, width=400 frac=0.8] -->\n",
    "\n",
    "$\\langle ai\\vert V\\vert bc\\rangle + \\langle ij\\vert V\\vert ka\\rangle + \\langle ab\\vert V\\vert ci\\rangle$\n",
    "\n",
    "<!-- FIGURE: [figslides/Diagrams-V3.png, width=400 frac=0.8] -->\n",
    "\n",
    "$\\langle ia\\vert V\\vert jk\\rangle + \\langle ab\\vert V\\vert ij\\rangle + \\langle ij\\vert V\\vert ab\\rangle$"
   ]
  },
  {
   "cell_type": "markdown",
   "id": "debd822e",
   "metadata": {
    "editable": true
   },
   "source": [
    "## CCD Approximation\n",
    "\n",
    "In what follows, we will consider the coupled cluster doubles (CCD)\n",
    "approximation. This approximation is valid in cases where the system\n",
    "cannot exhibit any particle-hole excitations (such as nuclear matter\n",
    "when formulated on a momentum-space grid) or for the pairing model (as\n",
    "the pairing interactions only excites pairs of particles). In this\n",
    "case $t_i^a=0$ for all $i, a$, and $\\overline{H}_i^a=0$. The CCD\n",
    "approximation is also of some sort of leading order approximation in\n",
    "the Hartree-Fock basis (as the Hartree-Fock Hamiltonian exhibits no\n",
    "particle-hole excitations)."
   ]
  },
  {
   "cell_type": "markdown",
   "id": "5d5d5592",
   "metadata": {
    "editable": true
   },
   "source": [
    "## Deriving the CCD equations\n",
    "\n",
    "Let us consider the matrix element $\\overline{H}_{ij}^{ab}$. Clearly,\n",
    "it consists of all diagrams (i.e. all combinations of $T_2$, and a\n",
    "single $F$ or $V$ that have two incoming hole lines and two outgoing\n",
    "particle lines. Write down all these diagrams.\n",
    "\n",
    "We start systematically and  consider all combinations of $F$ and $V$ diagrams with 0, 1, and 2 cluster amplitudes $T_2$."
   ]
  },
  {
   "cell_type": "markdown",
   "id": "14afd7c4",
   "metadata": {
    "editable": true
   },
   "source": [
    "## The algebraic expression"
   ]
  },
  {
   "cell_type": "markdown",
   "id": "0d7beb2c",
   "metadata": {
    "editable": true
   },
   "source": [
    "$$\n",
    "\\begin{align*}\n",
    "\\overline{H}_{ij}^{ab} &= \\langle ab\\vert V\\vert ij\\rangle + P(ab)\\sum_c f_c^bt_{ij}^{ac} - P(ij)\\sum_k f_j^k t_{ik}^{ab} \\\\\n",
    "&+ {1\\over 2} \\sum_{cd} \\langle ab\\vert V\\vert cd\\rangle t_{ij}^{cd}+ {1\\over 2} \\sum_{kl} \\langle kl\\vert V\\vert ij\\rangle t_{kl}^{ab} + P(ab)P(ij)\\sum_{kc} \\langle kb\\vert V\\vert cj \\rangle t_{ik}^{ac} \\\\\n",
    "&+ {1\\over 2} P(ij)P(ab)\\sum_{kcld} \\langle kl\\vert V\\vert cd\\rangle t_{ik}^{ac}t_{lj}^{db} \n",
    "+ {1\\over 2} P(ij)\\sum_{kcld} \\langle kl\\vert V\\vert cd\\rangle t_{ik}^{cd}t_{lj}^{ab}\\\\\n",
    "&+ {1\\over 2} P(ab)\\sum_{kcld} \\langle kl\\vert V\\vert cd\\rangle t_{kl}^{ac}t_{ij}^{db}\n",
    "+ {1\\over 4} \\sum_{kcld} \\langle kl\\vert V\\vert cd\\rangle t_{ij}^{cd}t_{kl}^{ab} . \n",
    "\\end{align*}\n",
    "$$"
   ]
  },
  {
   "cell_type": "markdown",
   "id": "97860cd8",
   "metadata": {
    "editable": true
   },
   "source": [
    "## Computational cost of a CCD computation\n",
    "\n",
    "For each of the diagrams in (add fig) write down the\n",
    "computational cost in terms of the number of occupied $A$ and the\n",
    "number of unoccupied $n_u$ orbitals.\n",
    "\n",
    "The cost is $A^2 n_u^2$, $A^2 n_u^3$, $A^3 n_u^2$,\n",
    "$A^2 n_u^4$, $A^4 n_u^2$, $A^3 n_u^3$,\n",
    "$A^4 n_u^4$, $A^4 n_u^4$,\n",
    "$A^4 n_u^4$, and $A^4 n_u^4$ for the respective diagrams."
   ]
  },
  {
   "cell_type": "markdown",
   "id": "eb294e32",
   "metadata": {
    "editable": true
   },
   "source": [
    "## Additional details\n",
    "\n",
    "Note that $n_u\\gg A$ in general. In textbooks, one reads that CCD (and\n",
    "CCSD) cost only $A^2n_u^4$. Our most expensive diagrams, however are\n",
    "$A^4n_u^4$. What is going on?\n",
    "\n",
    "To understand this puzzle, let us consider the last diagram of\n",
    "Figure xx . We break up the computation into two steps,\n",
    "computing first the intermediate"
   ]
  },
  {
   "cell_type": "markdown",
   "id": "040f6227",
   "metadata": {
    "editable": true
   },
   "source": [
    "<!-- Equation labels as ordinary links -->\n",
    "<div id=\"_auto17\"></div>\n",
    "\n",
    "$$\n",
    "\\begin{equation}\n",
    "\\chi_{ij}^{kl}\\equiv {1\\over 2} \\sum_{cd} \\langle kl\\vert V\\vert cd\\rangle t_{ij}^{cd}\n",
    "\\label{_auto17} \\tag{28}\n",
    "\\end{equation}\n",
    "$$"
   ]
  },
  {
   "cell_type": "markdown",
   "id": "9103444a",
   "metadata": {
    "editable": true
   },
   "source": [
    "at a cost of $A^4n_u^2$, and then"
   ]
  },
  {
   "cell_type": "markdown",
   "id": "23329d00",
   "metadata": {
    "editable": true
   },
   "source": [
    "<!-- Equation labels as ordinary links -->\n",
    "<div id=\"_auto18\"></div>\n",
    "\n",
    "$$\n",
    "\\begin{equation}\n",
    "{1\\over 2} \\sum_{kl} \\chi_{ij}^{kl} t_{kl}^{ab}  \n",
    "\\label{_auto18} \\tag{29}\n",
    "\\end{equation}\n",
    "$$"
   ]
  },
  {
   "cell_type": "markdown",
   "id": "7891df0e",
   "metadata": {
    "editable": true
   },
   "source": [
    "at a cost of $A^4n_u^2$. This is affordable. The price to pay is the\n",
    "storage of the intermediate $\\chi_{ij}^{kl}$, i.e. we traded\n",
    "memory for computational cycles. This trick is known as **factorization**."
   ]
  },
  {
   "cell_type": "markdown",
   "id": "c5fd7fd4",
   "metadata": {
    "editable": true
   },
   "source": [
    "## Factorizing the remaining diagrams of the CCD equation\n",
    "\n",
    "Diagrams 7, 8, and 9 of Fig. xx also need to be factorized. \n",
    "\n",
    "For diagram number 7, we compute"
   ]
  },
  {
   "cell_type": "markdown",
   "id": "970c6569",
   "metadata": {
    "editable": true
   },
   "source": [
    "<!-- Equation labels as ordinary links -->\n",
    "<div id=\"_auto19\"></div>\n",
    "\n",
    "$$\n",
    "\\begin{equation}\n",
    "\\chi_{id}^{al}\\equiv\\sum_{kc} \\langle kl\\vert V\\vert cd\\rangle t_{ik}^{ac}\n",
    "\\label{_auto19} \\tag{30}\n",
    "\\end{equation}\n",
    "$$"
   ]
  },
  {
   "cell_type": "markdown",
   "id": "2a05d968",
   "metadata": {
    "editable": true
   },
   "source": [
    "at a cost of $A^3 n_u^3$ and then compute"
   ]
  },
  {
   "cell_type": "markdown",
   "id": "cb1956cb",
   "metadata": {
    "editable": true
   },
   "source": [
    "<!-- Equation labels as ordinary links -->\n",
    "<div id=\"_auto20\"></div>\n",
    "\n",
    "$$\n",
    "\\begin{equation}\n",
    "{1\\over 2} P(ij)P(ab) \\sum_{ld} \\chi_{id}^{al} t_{lj}^{db} \n",
    "\\label{_auto20} \\tag{31}\n",
    "\\end{equation}\n",
    "$$"
   ]
  },
  {
   "cell_type": "markdown",
   "id": "81067b1d",
   "metadata": {
    "editable": true
   },
   "source": [
    "at the cost of $A^3 n_u^3$."
   ]
  },
  {
   "cell_type": "markdown",
   "id": "c19e2351",
   "metadata": {
    "editable": true
   },
   "source": [
    "## Diagram 8\n",
    "For diagram number 8, we compute"
   ]
  },
  {
   "cell_type": "markdown",
   "id": "2fe09322",
   "metadata": {
    "editable": true
   },
   "source": [
    "<!-- Equation labels as ordinary links -->\n",
    "<div id=\"_auto21\"></div>\n",
    "\n",
    "$$\n",
    "\\begin{equation}\n",
    "\\chi_{i}^{l}\\equiv -{1\\over 2} \\sum_{kcd} \\langle kl\\vert V\\vert cd\\rangle t_{ik}^{cd}\n",
    "\\label{_auto21} \\tag{32}\n",
    "\\end{equation}\n",
    "$$"
   ]
  },
  {
   "cell_type": "markdown",
   "id": "363a7bed",
   "metadata": {
    "editable": true
   },
   "source": [
    "at a cost of $A^3 n_u^2$, and then compute"
   ]
  },
  {
   "cell_type": "markdown",
   "id": "d04de09f",
   "metadata": {
    "editable": true
   },
   "source": [
    "<!-- Equation labels as ordinary links -->\n",
    "<div id=\"_auto22\"></div>\n",
    "\n",
    "$$\n",
    "\\begin{equation}\n",
    "-P(ij) \\sum_l \\chi_i^l t_{lj}^{ab}\n",
    "\\label{_auto22} \\tag{33}\n",
    "\\end{equation}\n",
    "$$"
   ]
  },
  {
   "cell_type": "markdown",
   "id": "3f039b0f",
   "metadata": {
    "editable": true
   },
   "source": [
    "at the cost of $A^3 n_u^2$."
   ]
  },
  {
   "cell_type": "markdown",
   "id": "f56c3a93",
   "metadata": {
    "editable": true
   },
   "source": [
    "## Diagram 9\n",
    "For diagram number 9, we compute"
   ]
  },
  {
   "cell_type": "markdown",
   "id": "a64eae71",
   "metadata": {
    "editable": true
   },
   "source": [
    "<!-- Equation labels as ordinary links -->\n",
    "<div id=\"_auto23\"></div>\n",
    "\n",
    "$$\n",
    "\\begin{equation}\n",
    "\\chi_d^a\\equiv{1\\over 2} \\sum_{kcl} \\langle kl\\vert V\\vert cd\\rangle t_{kl}^{ac}\n",
    "\\label{_auto23} \\tag{34}\n",
    "\\end{equation}\n",
    "$$"
   ]
  },
  {
   "cell_type": "markdown",
   "id": "a86336e8",
   "metadata": {
    "editable": true
   },
   "source": [
    "at a cost of $A^2 n_u^3$ and then compute"
   ]
  },
  {
   "cell_type": "markdown",
   "id": "2fde7678",
   "metadata": {
    "editable": true
   },
   "source": [
    "<!-- Equation labels as ordinary links -->\n",
    "<div id=\"_auto24\"></div>\n",
    "\n",
    "$$\n",
    "\\begin{equation}\n",
    "P(ab)\\sum_d \\chi_d^a t_{ij}^{db}\n",
    "\\label{_auto24} \\tag{35}\n",
    "\\end{equation}\n",
    "$$"
   ]
  },
  {
   "cell_type": "markdown",
   "id": "800d05f8",
   "metadata": {
    "editable": true
   },
   "source": [
    "at the cost of $A^3 n_u^3$."
   ]
  },
  {
   "cell_type": "markdown",
   "id": "2848e0ef",
   "metadata": {
    "editable": true
   },
   "source": [
    "## Solving the CCD equations\n",
    "\n",
    "The CCD equations, depicted in Fig xx, are nonlinear in the\n",
    "cluster amplitudes. How do we solve $\\overline{H}_{ij}^{ab}=0$? We\n",
    "subtract $(f_a^a +f_b^b -f_i^i -f_j^j)t_{ij}^{ab}$ from both sides of\n",
    "$\\overline{H}_{ij}^{ab}=0$ (because this term is contained in\n",
    "$\\overline{H}_{ij}^{ab}$) and find"
   ]
  },
  {
   "cell_type": "markdown",
   "id": "732817c8",
   "metadata": {
    "editable": true
   },
   "source": [
    "$$\n",
    "\\begin{align*}\n",
    "(f_i^i +f_j^j -f_a^a -f_b^b)t_{ij}^{ab} &= (f_i^i +f_j^j -f_a^a -f_b^b)t_{ij}^{ab} +\\overline{H}_{ij}^{ab}\n",
    "\\end{align*}\n",
    "$$"
   ]
  },
  {
   "cell_type": "markdown",
   "id": "40fd1682",
   "metadata": {
    "editable": true
   },
   "source": [
    "## More manipulations\n",
    "Dividing by $(f_i^i +f_j^j -f_a^a -f_b^b)$ yields"
   ]
  },
  {
   "cell_type": "markdown",
   "id": "a05b8ca2",
   "metadata": {
    "editable": true
   },
   "source": [
    "<!-- Equation labels as ordinary links -->\n",
    "<div id=\"iter\"></div>\n",
    "\n",
    "$$\n",
    "\\begin{equation}\n",
    "t_{ij}^{ab} = t_{ij}^{ab} + \\frac{\\overline{H}_{ij}^{ab}}{f_i^i +f_j^j -f_a^a -f_b^b}\n",
    "\\label{iter} \\tag{36}\n",
    "\\end{equation}\n",
    "$$"
   ]
  },
  {
   "cell_type": "markdown",
   "id": "da1bcd17",
   "metadata": {
    "editable": true
   },
   "source": [
    "This equation is of the type $t=f(t)$, and we solve it by iteration,\n",
    "i.e. we start with a guess $t_0$ and iterate $t_{n+1}=f(t_n)$, and\n",
    "hope that this will converge to a solution. We take the perturbative result"
   ]
  },
  {
   "cell_type": "markdown",
   "id": "28cd5e91",
   "metadata": {
    "editable": true
   },
   "source": [
    "<!-- Equation labels as ordinary links -->\n",
    "<div id=\"pert\"></div>\n",
    "\n",
    "$$\n",
    "\\begin{equation}\n",
    "\\label{pert} \\tag{37}\n",
    "\\left(t_{ij}^{ab}\\right)_0 = \\frac{\\langle ab\\vert V\\vert ij\\rangle}{f_i^i +f_j^j -f_a^a -f_b^b}\n",
    "\\end{equation}\n",
    "$$"
   ]
  },
  {
   "cell_type": "markdown",
   "id": "4d84398f",
   "metadata": {
    "editable": true
   },
   "source": [
    "as a starting point, compute $\\overline{H}_{ij}^{ab}$, and find a new\n",
    "$t_{ij}^{ab}$ from the right-hand side of Eq. ([36](#iter)). We repeat\n",
    "this process until the amplitudes (or the CCD energy) converge."
   ]
  },
  {
   "cell_type": "markdown",
   "id": "2c38b149",
   "metadata": {
    "editable": true
   },
   "source": [
    "## CCD for the pairing Hamiltonian\n",
    "\n",
    "You learned about the pairing Hamiltonian earlier in this\n",
    "school. Convince yourself that this Hamiltonian does not induce any\n",
    "1p-1h excitations. Let us solve the CCD equations for this\n",
    "problem. This consists of the following steps\n",
    "\n",
    "1. Write a function that compute the potential, i.e. it returns a four-indexed array (or tensor). We need $\\langle ab\\vert V\\vert cd\\rangle$, $\\langle ij\\vert V\\vert kl\\rangle$, and $\\langle ab\\vert V\\vert ij\\rangle$. Why is there no $\\langle ab\\vert V\\vert id\\rangle$ or $\\langle ai\\vert V\\vert jb\\rangle$ ?\n",
    "\n",
    "2. Write a function that computes the Fock matrix, i.e. a two-indexed array. We only need $f_a^b$ and $f_i^j$. Why? \n",
    "\n",
    "3. Initialize the cluster amplitudes according to Eq. ([37](#pert)), and solve Eq. ([36](#iter)) by iteration. The cluster amplitudes $T_1$ and $T_2$ are two- and four-indexed arrays, respectively.\n",
    "\n",
    "Please note that the contraction of tensors (i.e. the summation over\n",
    "common indices in products of tensors) is very user friendly and\n",
    "elegant in python when `numpy.einsum` is used."
   ]
  },
  {
   "cell_type": "markdown",
   "id": "66696ce1",
   "metadata": {
    "editable": true
   },
   "source": [
    "## Solving the CCD equations for the pairing problem\n",
    "The Hamiltonian is"
   ]
  },
  {
   "cell_type": "markdown",
   "id": "cdeb1978",
   "metadata": {
    "editable": true
   },
   "source": [
    "<!-- Equation labels as ordinary links -->\n",
    "<div id=\"_auto25\"></div>\n",
    "\n",
    "$$\n",
    "\\begin{equation}\n",
    "H = \\delta \\sum_{p=1}^\\Omega (p-1)\\left(a^\\dagger_{p+}a_{p+} + a^\\dagger_{p-}a_{p-}\\right)\n",
    "-{g \\over 2} \\sum_{p, q=1}^\\Omega a^\\dagger_{p+}a^\\dagger_{p-} a_{q-} a_{q+} .\n",
    "\\label{_auto25} \\tag{38}\n",
    "\\end{equation}\n",
    "$$"
   ]
  },
  {
   "cell_type": "markdown",
   "id": "a13107ae",
   "metadata": {
    "editable": true
   },
   "source": [
    "<!-- [Click for IPython notebook for FCI and CCD solutions](https://github.com/NuclearTalent/ManyBody2018/tree/master/doc/Programs/Python/PairingModel) -->\n",
    "\n",
    "<!-- @@@CODE Programs/CCD_PairingModel.py -->"
   ]
  },
  {
   "cell_type": "markdown",
   "id": "cb24ecb2",
   "metadata": {
    "editable": true
   },
   "source": [
    "## Python code"
   ]
  },
  {
   "cell_type": "code",
   "execution_count": 1,
   "id": "4d8595de",
   "metadata": {
    "collapsed": false,
    "editable": true
   },
   "outputs": [],
   "source": [
    "## Coupled clusters in CCD approximation\n",
    "## Implemented for the pairing model of Lecture Notes in Physics 936, Chapter 8.\n",
    "import numpy as np\n",
    "\n",
    "\n",
    "def init_pairing_v(g,pnum,hnum):\n",
    "    \"\"\"\n",
    "    returns potential matrices of the pairing model in three relevant channels\n",
    "    \n",
    "    param g: strength of the pairing interaction, as in Eq. (8.42)\n",
    "    param pnum: number of particle states\n",
    "    param hnum: number of hole states\n",
    "    \n",
    "    return v_pppp, v_pphh, v_hhhh: np.array(pnum,pnum,pnum,pnum), \n",
    "                                   np.array(pnum,pnum,hnum,hnum), \n",
    "                                   np.array(hnum,hnum,hnum,hnum), \n",
    "                                   The interaction as a 4-indexed tensor in three channels.\n",
    "    \"\"\"\n",
    "    v_pppp=np.zeros((pnum,pnum,pnum,pnum))\n",
    "    v_pphh=np.zeros((pnum,pnum,hnum,hnum))\n",
    "    v_hhhh=np.zeros((hnum,hnum,hnum,hnum))\n",
    "    \n",
    "    gval=-0.5*g\n",
    "    for a in range(0,pnum,2):\n",
    "        for b in range(0,pnum,2):\n",
    "            v_pppp[a,a+1,b,b+1]=gval\n",
    "            v_pppp[a+1,a,b,b+1]=-gval\n",
    "            v_pppp[a,a+1,b+1,b]=-gval\n",
    "            v_pppp[a+1,a,b+1,b]=gval\n",
    "            \n",
    "    for a in range(0,pnum,2):\n",
    "        for i in range(0,hnum,2):\n",
    "            v_pphh[a,a+1,i,i+1]=gval\n",
    "            v_pphh[a+1,a,i,i+1]=-gval\n",
    "            v_pphh[a,a+1,i+1,i]=-gval\n",
    "            v_pphh[a+1,a,i+1,i]=gval\n",
    "    \n",
    "    for j in range(0,hnum,2):\n",
    "        for i in range(0,hnum,2):\n",
    "            v_hhhh[j,j+1,i,i+1]=gval\n",
    "            v_hhhh[j+1,j,i,i+1]=-gval\n",
    "            v_hhhh[j,j+1,i+1,i]=-gval\n",
    "            v_hhhh[j+1,j,i+1,i]=gval\n",
    "        \n",
    "    return v_pppp, v_pphh, v_hhhh\n",
    "    \n",
    "    \n",
    "def init_pairing_fock(delta,g,pnum,hnum):\n",
    "    \"\"\"\n",
    "    initializes the Fock matrix of the pairing model\n",
    "    \n",
    "    param delta: Single-particle spacing, as in Eq. (8.41)\n",
    "    param g: pairing strength, as in eq. (8.42)\n",
    "    param pnum: number of particle states\n",
    "    param hnum: number of hole states\n",
    "    \n",
    "    return f_pp, f_hh: The Fock matrix in two channels as numpy arrays np.array(pnum,pnum), np.array(hnum,hnum). \n",
    "    \"\"\"\n",
    "# the Fock matrix for the pairing model. No f_ph needed, because we are in Hartree-Fock basis \n",
    "    deltaval=0.5*delta\n",
    "    gval=-0.5*g\n",
    "    f_pp = np.zeros((pnum,pnum))\n",
    "    f_hh = np.zeros((hnum,hnum))\n",
    "\n",
    "    for i in range(0,hnum,2):\n",
    "        f_hh[i  ,i  ] = deltaval*i+gval\n",
    "        f_hh[i+1,i+1] = deltaval*i+gval\n",
    "        \n",
    "    for a in range(0,pnum,2):\n",
    "        f_pp[a  ,a  ] = deltaval*(hnum+a)\n",
    "        f_pp[a+1,a+1] = deltaval*(hnum+a)\n",
    "    \n",
    "    return f_pp, f_hh\n",
    "\n",
    "\n",
    "def init_t2(v_pphh,f_pp,f_hh):\n",
    "    \"\"\"\n",
    "    Initializes t2 amlitudes as in MBPT2, see first equation on page 345\n",
    "    \n",
    "    param v_pphh: pairing tensor in pphh channel\n",
    "    param f_pp:   Fock matrix in pp channel\n",
    "    param f_hh:   Fock matrix in hh channel\n",
    "    \n",
    "    return t2: numpy array in pphh format, 4-indices tensor\n",
    "    \"\"\"\n",
    "    pnum = len(f_pp)\n",
    "    hnum = len(f_hh)\n",
    "    t2_new = np.zeros((pnum,pnum,hnum,hnum))\n",
    "    for i in range(hnum):\n",
    "        for j in range(hnum):\n",
    "            for a in range(pnum):\n",
    "                for b in range(pnum):\n",
    "                    t2_new[a,b,i,j] = v_pphh[a,b,i,j] / (f_hh[i,i]+f_hh[j,j]-f_pp[a,a]-f_pp[b,b])\n",
    "    return t2_new\n",
    "\n",
    "\n",
    "# CCD equations. Note that the \"->abij\" assignment is redundant, because indices are ordered alphabetically.\n",
    "# Nevertheless, we retain it for transparency.\n",
    "def ccd_iter(v_pppp,v_pphh,v_hhhh,f_pp,f_hh,t2):\n",
    "    \"\"\"\n",
    "    Performs one iteration of the CCD equations (8.34), using also intermediates for the nonliniar terms\n",
    "    \n",
    "    param v_pppp: pppp-channel pairing tensor, numpy array\n",
    "    param v_pphh: pphh-channel pairing tensor, numpy array\n",
    "    param v_hhhh: hhhh-channel pairing tensor, numpy array\n",
    "    param f_pp: Fock matrix in pp channel\n",
    "    param f_hh: Fock matrix in hh channel\n",
    "    param t2: Initial t2 amplitude, tensor in form of pphh channel\n",
    "    \n",
    "    return t2_new: new t2 amplitude, tensor in form of pphh channel\n",
    "    \"\"\"\n",
    "    pnum = len(f_pp)\n",
    "    hnum = len(f_hh)\n",
    "    Hbar_pphh = (  v_pphh \n",
    "                 + np.einsum('bc,acij->abij',f_pp,t2) \n",
    "                 - np.einsum('ac,bcij->abij',f_pp,t2) \n",
    "                 - np.einsum('abik,kj->abij',t2,f_hh)\n",
    "                 + np.einsum('abjk,ki->abij',t2,f_hh)\n",
    "                 + 0.5*np.einsum('abcd,cdij->abij',v_pppp,t2) \n",
    "                 + 0.5*np.einsum('abkl,klij->abij',t2,v_hhhh)\n",
    "                )\n",
    "\n",
    "    # hh intermediate, see (8.47)\n",
    "    chi_hh = 0.5* np.einsum('cdkl,cdjl->kj',v_pphh,t2)\n",
    "\n",
    "    Hbar_pphh = Hbar_pphh - (  np.einsum('abik,kj->abij',t2,chi_hh) \n",
    "                             - np.einsum('abik,kj->abji',t2,chi_hh) )\n",
    "\n",
    "    # pp intermediate, see (8.46)\n",
    "    chi_pp = -0.5* np.einsum('cdkl,bdkl->cb',v_pphh,t2)\n",
    "\n",
    "    Hbar_pphh = Hbar_pphh + (  np.einsum('acij,cb->abij',t2,chi_pp) \n",
    "                             - np.einsum('acij,cb->baij',t2,chi_pp) )\n",
    "\n",
    "    # hhhh intermediate, see (8.48)\n",
    "    chi_hhhh = 0.5 * np.einsum('cdkl,cdij->klij',v_pphh,t2)\n",
    "\n",
    "    Hbar_pphh = Hbar_pphh + 0.5 * np.einsum('abkl,klij->abij',t2,chi_hhhh)\n",
    "\n",
    "    # phph intermediate, see (8.49)\n",
    "    chi_phph= + 0.5 * np.einsum('cdkl,dblj->bkcj',v_pphh,t2)\n",
    "\n",
    "\n",
    "    Hbar_pphh = Hbar_pphh + (  np.einsum('bkcj,acik->abij',chi_phph,t2)\n",
    "                             - np.einsum('bkcj,acik->baij',chi_phph,t2)\n",
    "                             - np.einsum('bkcj,acik->abji',chi_phph,t2)\n",
    "                             + np.einsum('bkcj,acik->baji',chi_phph,t2) )\n",
    "                 \n",
    "    t2_new=np.zeros((pnum,pnum,hnum,hnum))\n",
    "    for i in range(hnum):\n",
    "        for j in range(hnum):\n",
    "            for a in range(pnum):\n",
    "                for b in range(pnum):\n",
    "                    t2_new[a,b,i,j] = (  t2[a,b,i,j] \n",
    "                                       + Hbar_pphh[a,b,i,j] / (f_hh[i,i]+f_hh[j,j]-f_pp[a,a]-f_pp[b,b]) )\n",
    "\n",
    "    return t2_new\n",
    "\n",
    "\n",
    "def ccd_energy(v_pphh,t2):\n",
    "    \"\"\"\n",
    "    Computes CCD energy. Call as \n",
    "    energy = ccd_energy(v_pphh,t2)\n",
    "    \n",
    "    param v_pphh: pphh-channel pairing tensor, numpy array\n",
    "    param t2: t2 amplitude, tensor in form of pphh channel\n",
    "    \n",
    "    return energy: CCD correlation energy\n",
    "    \"\"\"\n",
    "    erg = 0.25*np.einsum('abij,abij',v_pphh,t2)\n",
    "    return erg\n",
    "\n",
    "###############################\n",
    "######## Main Program\n",
    "\n",
    "# set parameters as for model\n",
    "pnum = 4 # number of particle states\n",
    "hnum = 4 # number of hole states\n",
    "delta = 1.0\n",
    "\n",
    "g = 1.0\n",
    "\n",
    "print(\"parameters\")\n",
    "print(\"delta =\", delta, \", g =\", g)\n",
    "\n",
    "\n",
    "# Initialize pairing matrix elements and Fock matrix\n",
    "v_pppp, v_pphh, v_hhhh = init_pairing_v(g,pnum,hnum)\n",
    "f_pp, f_hh = init_pairing_fock(delta,g,pnum,hnum)\n",
    "\n",
    "# Initialize T2 amplitudes from MBPT2\n",
    "t2 = init_t2(v_pphh,f_pp,f_hh)\n",
    "erg = ccd_energy(v_pphh,t2)\n",
    "\n",
    "# Exact MBPT2 for comparison, see last equation on page 365 \n",
    "exact_mbpt2 = -0.25*g**2*(1.0/(2.0+g) + 2.0/(4.0+g) + 1.0/(6.0+g))\n",
    "print(\"MBPT2 energy =\", erg, \", compared to exact:\", exact_mbpt2)\n",
    "    \n",
    "    \n",
    "# iterate CCD equations niter times\n",
    "niter=60\n",
    "for iter in range(niter):\n",
    "    t2_new = ccd_iter(v_pppp,v_pphh,v_hhhh,f_pp,f_hh,t2)\n",
    "    erg = ccd_energy(v_pphh,t2_new)\n",
    "    print(\"iter=\", iter, \"erg=\", erg)\n",
    "    t2 = 0.5 * (t2_new + t2)"
   ]
  }
 ],
 "metadata": {},
 "nbformat": 4,
 "nbformat_minor": 5
}
