{
 "cells": [
  {
   "cell_type": "markdown",
   "id": "195e52f0",
   "metadata": {
    "editable": true
   },
   "source": [
    "<!-- HTML file automatically generated from DocOnce source (https://github.com/doconce/doconce/)\n",
    "doconce format html week47.do.txt --no_mako -->\n",
    "<!-- dom:TITLE: Week 47, Coupled-Cluster theory -->"
   ]
  },
  {
   "cell_type": "markdown",
   "id": "ad36fba6",
   "metadata": {
    "editable": true
   },
   "source": [
    "# Week 47, Coupled-Cluster theory\n",
    "**Morten Hjorth-Jensen**, Department of Physics and Center for Computing in Science Education, University of Oslo, Norway\n",
    "\n",
    "Date: **November 18-22, 2024**"
   ]
  },
  {
   "cell_type": "markdown",
   "id": "d21c70a8",
   "metadata": {
    "editable": true
   },
   "source": [
    "## Week 47, November 18-22, 2024\n",
    "1. Thursday:\n",
    "\n",
    "a. Introduction to coupled-cluster theory  and basic equations\n",
    "\n",
    "2. Friday:\n",
    "\n",
    "a. Derivation of doubles excitation equation \n",
    "\n",
    "b. Applications to the pairing model from the second midterm\n",
    "\n",
    "3. Lecture material: Lecture notes (these notes) and chapter 9 of Shavitt and Bartlett, in particular sections 9-1-9.3"
   ]
  },
  {
   "cell_type": "markdown",
   "id": "2a6f3b7f",
   "metadata": {
    "editable": true
   },
   "source": [
    "## Introduction\n",
    "\n",
    "The coupled-cluster method is an efficient tool to compute properties of many-body systems\n",
    "with an effort that grows polynomial with system size. While\n",
    "this might still be expensive, it is now possible to compute for example atomic nuclei\n",
    "with mass numbers about $A\\approx 208$ (which corresponds to lead) with this method. Recall that\n",
    "full configuration interaction (FCI)\n",
    "exhibits an exponential cost and is therefore limited to systems with few degrees of freedom.\n",
    "\n",
    "For some  recent applications see\n",
    "1. **Nuclear Physics**: see <https://www.nature.com/articles/s41567-022-01715-8>\n",
    "\n",
    "2. **Quantum chemistry**: see <https://journals.aps.org/rmp/abstract/10.1103/RevModPhys.79.291>"
   ]
  },
  {
   "cell_type": "markdown",
   "id": "f79d2061",
   "metadata": {
    "editable": true
   },
   "source": [
    "## The normal-ordered Hamiltonian\n",
    "\n",
    "We start from the reference state"
   ]
  },
  {
   "cell_type": "markdown",
   "id": "2aa303ee",
   "metadata": {
    "editable": true
   },
   "source": [
    "<!-- Equation labels as ordinary links -->\n",
    "<div id=\"HFref\"></div>\n",
    "\n",
    "$$\n",
    "\\begin{equation}\n",
    "\\label{HFref} \\tag{1}\n",
    "\\vert\\Phi_0\\rangle = \\prod_{i=1}^H a^\\dagger_i \\vert 0\\rangle \n",
    "\\end{equation}\n",
    "$$"
   ]
  },
  {
   "cell_type": "markdown",
   "id": "d133623e",
   "metadata": {
    "editable": true
   },
   "source": [
    "for the description of a system  with $N$ particles.  Usually, this\n",
    "reference is the Hartree-Fock state, but that is not necessary as discussed throughout this course."
   ]
  },
  {
   "cell_type": "markdown",
   "id": "21c9782c",
   "metadata": {
    "editable": true
   },
   "source": [
    "## Notations again\n",
    "\n",
    "After we introduced the particle-hole formalism, we have opted for a convention\n",
    "where the indices $i,j,k,\\ldots$ run over hole states,\n",
    "i.e. orbitals occupied in the reference state ([1](#HFref)), while\n",
    "$a,b,c,\\ldots$ run over particle states, i.e. unoccupied\n",
    "orbitals. Indices $p,q,r,s$ can identify any orbital.  Let $n_u$ be\n",
    "the number of unoccupied states, and $N$ is of course the number of\n",
    "particles, which is also the number of occupied states used to define the ansatz for the ground state."
   ]
  },
  {
   "cell_type": "markdown",
   "id": "c3717d5b",
   "metadata": {
    "editable": true
   },
   "source": [
    "## Hamiltonian\n",
    "\n",
    "We consider the Hamiltonian"
   ]
  },
  {
   "cell_type": "markdown",
   "id": "99d9d51f",
   "metadata": {
    "editable": true
   },
   "source": [
    "<!-- Equation labels as ordinary links -->\n",
    "<div id=\"Ham\"></div>\n",
    "\n",
    "$$\n",
    "\\begin{equation}\n",
    "\\label{Ham} \\tag{2} H =\n",
    "\\sum_{pq} \\langle p\\vert h_0\\vert q \\rangle a^\\dagger_p a_q +\n",
    "\\frac{1}{4}\\sum_{pqrs}\\langle pq\\vert v\\vert rs\\rangle\n",
    "a^\\dagger_pa^\\dagger_q a_sa_r\n",
    "\\end{equation}\n",
    "$$"
   ]
  },
  {
   "cell_type": "markdown",
   "id": "cb71dbf3",
   "metadata": {
    "editable": true
   },
   "source": [
    "## The reference state\n",
    "\n",
    "The reference state ([1](#HFref)) is a non-trivial vacuum of our theory. \n",
    "We normal order this Hamiltonian with respect to the nontrivial vacuum\n",
    "state given by the Hartree-Fock reference and obtain the\n",
    "normal-ordered Hamiltonian"
   ]
  },
  {
   "cell_type": "markdown",
   "id": "4de5f541",
   "metadata": {
    "editable": true
   },
   "source": [
    "<!-- Equation labels as ordinary links -->\n",
    "<div id=\"HN\"></div>\n",
    "\n",
    "$$\n",
    "\\begin{equation}\n",
    "\\label{HN} \\tag{3}\n",
    "H_N = \\sum_{pq} \\langle p\\vert f\\vert q \\rangle \\left\\{a^\\dagger_p a_q\\right\\} + \\frac{1}{4}\\sum_{pqrs}\\langle pq\\vert V\\vert rs\\rangle \\left\\{a^\\dagger_pa^\\dagger_q a_sa_r\\right\\}.\n",
    "\\end{equation}\n",
    "$$"
   ]
  },
  {
   "cell_type": "markdown",
   "id": "d962d18a",
   "metadata": {
    "editable": true
   },
   "source": [
    "## Hartree-Fock basis\n",
    "\n",
    "Here,"
   ]
  },
  {
   "cell_type": "markdown",
   "id": "dc6e9b4a",
   "metadata": {
    "editable": true
   },
   "source": [
    "<!-- Equation labels as ordinary links -->\n",
    "<div id=\"Fock\"></div>\n",
    "\n",
    "$$\n",
    "\\begin{equation}\n",
    "\\label{Fock} \\tag{4}\n",
    "\\langle p\\vert f\\vert q \\rangle = \\langle p\\vert h_0\\vert q \\rangle + \\sum_i \\langle pi\\vert V\\vert qi\\rangle\n",
    "\\end{equation}\n",
    "$$"
   ]
  },
  {
   "cell_type": "markdown",
   "id": "7108ba86",
   "metadata": {
    "editable": true
   },
   "source": [
    "is the Fock matrix. We note that the Fock matrix is diagonal in the\n",
    "Hartree-Fock basis. The brackets $\\{\\cdots\\}$ in Eq. ([3](#HN)) denote\n",
    "normal ordering, i.e. all operators that annihilate the nontrivial\n",
    "vaccum ([1](#HFref)) are to the right of those operators that create\n",
    "with respect to that vaccum. Normal ordering implies that $\\langle\n",
    "\\Phi_0\\vert H_N\\vert \\Phi_0\\rangle = 0$."
   ]
  },
  {
   "cell_type": "markdown",
   "id": "dea16915",
   "metadata": {
    "editable": true
   },
   "source": [
    "## What does \"good\" mean?\n",
    "\n",
    "The coupled-cluster method is a very efficient tool to compute properties of many-particle systems\n",
    "when a \"good\" reference state is available. Let us assume that the\n",
    "reference state results from a Hartree-Fock calculation.\n",
    "\n",
    "How do you know whether a Hartree-Fock state is a \"good\" reference?\n",
    "Which results of the Hartree-Fock computation will inform you?"
   ]
  },
  {
   "cell_type": "markdown",
   "id": "84cadf42",
   "metadata": {
    "editable": true
   },
   "source": [
    "## Answer\n",
    "\n",
    "Once the Hartree-Fock equations are solved, the Fock matrix\n",
    "([4](#Fock)) becomes diagonal, and its diagonal elements can be viewed\n",
    "as single-particle energies. Hopefully, there is a clear gap in the\n",
    "single-particle spectrum at the Fermi surface, i.e. after $N$ orbitals\n",
    "are filled."
   ]
  },
  {
   "cell_type": "markdown",
   "id": "4da27862",
   "metadata": {
    "editable": true
   },
   "source": [
    "## To nuclear physics aficionadoss: How many nuclei are accessible with the coupled cluster method based on spherical mean fields?\n",
    "\n",
    "If symmetry-restricted Hartree-Fock is used, one is limited to compute\n",
    "systems  with closed subshells for neutrons and for protons. On a first\n",
    "view, this might seem as a severe limitation. But is it? \n",
    "\n",
    "If one limits oneself to nuclei with mass number up to\n",
    "mass number $A=60$, how many nuclei can potentially be described with\n",
    "the coupled-cluster method? Which of these nuclei are potentially\n",
    "interesting? Why?"
   ]
  },
  {
   "cell_type": "markdown",
   "id": "ee1dfef4",
   "metadata": {
    "editable": true
   },
   "source": [
    "## Answer\n",
    "\n",
    "Nuclear shell closures are at $N,Z=2,8,20,28,50,82,126$, and subshell\n",
    "closures at $N,Z=2,6,8,14,16,20,28,32,34,40,50,\\ldots$. \n",
    "\n",
    "In the physics of nuclei, the evolution of nuclear structure as\n",
    "neutrons are added (or removed) from an isotope is a key\n",
    "<!-- interest. Examples are the rare isotopes of helium ($^{8,10}$ He) -->\n",
    "<!-- oxygen ($^{22,24,28}$ O), calcium ($^{52,54,60}$ Ca), nickel ($^{78}$ -->\n",
    "<!-- Ni) and tin ($^{100,132}$ Sn). The coupled-cluster method has the -->\n",
    "interest. Examples are the rare isotopes of helium (He-8,10)\n",
    "oxygen (O-22,24,28), calcium (Ca-52,54,60), nickel (Ni-78) and tin\n",
    "(Sn-100,132). The coupled-cluster method has the\n",
    "potential to address questions regarding these nuclei, and in a\n",
    "several cases was used to make predictions before experimental data\n",
    "was available. In addition, the method can be used to compute\n",
    "neighbors of nuclei with closed subshells."
   ]
  },
  {
   "cell_type": "markdown",
   "id": "b4ef5bf5",
   "metadata": {
    "editable": true
   },
   "source": [
    "## The similarity transformed Hamiltonian\n",
    "\n",
    "There are several ways to view and understand the coupled-cluster\n",
    "method. A first simple view of coupled-cluster theory is that the\n",
    "method induces correlations into the reference state by expressing a\n",
    "correlated state as"
   ]
  },
  {
   "cell_type": "markdown",
   "id": "5476c56b",
   "metadata": {
    "editable": true
   },
   "source": [
    "<!-- Equation labels as ordinary links -->\n",
    "<div id=\"psi\"></div>\n",
    "\n",
    "$$\n",
    "\\begin{equation}\n",
    "\\label{psi} \\tag{5}\n",
    "\\vert\\Psi\\rangle = e^T \\vert\\Phi_0\\rangle ,\n",
    "\\end{equation}\n",
    "$$"
   ]
  },
  {
   "cell_type": "markdown",
   "id": "15596795",
   "metadata": {
    "editable": true
   },
   "source": [
    "See whiteboard notes for derivation of the exponential ansatz."
   ]
  },
  {
   "cell_type": "markdown",
   "id": "12157d60",
   "metadata": {
    "editable": true
   },
   "source": [
    "## Clusters of excited states\n",
    "\n",
    "Here, $T$ is an operator that induces correlations. We can now demand\n",
    "that the correlate state ([5](#psi)) becomes and eigenstate of the\n",
    "Hamiltonian $H_N$, i.e.  $H\\vert \\Psi\\rangle = E\\vert \\Psi\\rangle$. This view,\n",
    "while correct, is not the most productive one.  Instead, we\n",
    "left-multiply the Schroedinger equation with $e^{-T}$ and find"
   ]
  },
  {
   "cell_type": "markdown",
   "id": "62399e22",
   "metadata": {
    "editable": true
   },
   "source": [
    "<!-- Equation labels as ordinary links -->\n",
    "<div id=\"Schroedinger\"></div>\n",
    "\n",
    "$$\n",
    "\\begin{equation}\n",
    "\\label{Schroedinger} \\tag{6}\n",
    "\\overline{H_N}\\vert \\Phi_0\\rangle = \\Delta E \\vert \\Phi_0\\rangle . \n",
    "\\end{equation}\n",
    "$$"
   ]
  },
  {
   "cell_type": "markdown",
   "id": "c9c80403",
   "metadata": {
    "editable": true
   },
   "source": [
    "Here, $\\Delta E$ is the correlation energy, and the total energy is\n",
    "$E=\\Delta E+E_{0}^{\\mathrm{ref}}$."
   ]
  },
  {
   "cell_type": "markdown",
   "id": "5ad4e1e3",
   "metadata": {
    "editable": true
   },
   "source": [
    "## Similarity transformation\n",
    "\n",
    "The similarity-transformed Hamiltonian is defined as"
   ]
  },
  {
   "cell_type": "markdown",
   "id": "a8a5970b",
   "metadata": {
    "editable": true
   },
   "source": [
    "<!-- Equation labels as ordinary links -->\n",
    "<div id=\"Hsim\"></div>\n",
    "\n",
    "$$\n",
    "\\begin{equation}\n",
    "\\label{Hsim} \\tag{7}\n",
    "\\overline{H_N} \\equiv e^{-T} H_N e^T .\n",
    "\\end{equation}\n",
    "$$"
   ]
  },
  {
   "cell_type": "markdown",
   "id": "1ba8a220",
   "metadata": {
    "editable": true
   },
   "source": [
    "A more productive view on coupled-cluster theory thus emerges: This\n",
    "method seeks a similarity transformation such that the uncorrelated\n",
    "reference state ([1](#HFref)) becomes an exact eigenstate of the\n",
    "similarity-transformed Hamiltonian ([7](#Hsim))."
   ]
  },
  {
   "cell_type": "markdown",
   "id": "c18ff9b4",
   "metadata": {
    "editable": true
   },
   "source": [
    "## What $T$ leads to Hermitian $\\overline{H_N}$ ?\n",
    "\n",
    "What are the conditions on $T$ such that $\\overline{H_N}$ is Hermitian?"
   ]
  },
  {
   "cell_type": "markdown",
   "id": "3ca03041",
   "metadata": {
    "editable": true
   },
   "source": [
    "## Answer\n",
    "\n",
    "For a Hermitian $\\overline{H_N}$, we need a unitary $e^T$, i.e. an\n",
    "anti-Hermitian $T$ with $T = -T^\\dagger$\n",
    "\n",
    "As we will see below, coupld-cluster theory employs a non-Hermitian Hamiltonian."
   ]
  },
  {
   "cell_type": "markdown",
   "id": "092d66cd",
   "metadata": {
    "editable": true
   },
   "source": [
    "## Understanding (non-unitary) similarity transformations\n",
    "\n",
    "Show that $\\overline{H_N}$ has the same eigenvalues as $H_N$ for\n",
    "arbitrary $T$. What is the spectral decomposition of a non-Hermitian\n",
    "$\\overline{H_N}$ ?"
   ]
  },
  {
   "cell_type": "markdown",
   "id": "51ab327d",
   "metadata": {
    "editable": true
   },
   "source": [
    "## Answer\n",
    "\n",
    "Let $H_N\\vert E\\rangle = E\\vert E\\rangle$. Thus"
   ]
  },
  {
   "cell_type": "markdown",
   "id": "e55ce95c",
   "metadata": {
    "editable": true
   },
   "source": [
    "$$\n",
    "\\begin{align*}\n",
    "H_N e^{T} e^{-T} \\vert E\\rangle &= E\\vert E\\rangle , \\\\\n",
    "\\left(e^{-T} H_N e^T\\right) e^{-T} \\vert E\\rangle &= Ee^{-T} \\vert E\\rangle , \\\\\n",
    "\\overline{H_N} e^{-T} \\vert E\\rangle &= E e^{-T}\\vert E\\rangle .\n",
    "\\end{align*}\n",
    "$$"
   ]
  },
  {
   "cell_type": "markdown",
   "id": "9066764a",
   "metadata": {
    "editable": true
   },
   "source": [
    "Thus, if $\\vert E\\rangle$ is an eigenstate of $H_N$ with eigenvalue $E$,\n",
    "then $e^{-T}\\vert E\\rangle$ is eigenstate of $\\overline{H_N}$ with the same\n",
    "eigenvalue."
   ]
  },
  {
   "cell_type": "markdown",
   "id": "8c6e00c0",
   "metadata": {
    "editable": true
   },
   "source": [
    "## Non-hermitian operator\n",
    "\n",
    "A non-Hermitian $\\overline{H_N}$ has eigenvalues $E_\\alpha$\n",
    "corresponding to left $\\langle L_\\alpha\\vert $ and right $\\vert R_\\alpha\n",
    "\\rangle$ eigenstates. Thus"
   ]
  },
  {
   "cell_type": "markdown",
   "id": "7d2f51f1",
   "metadata": {
    "editable": true
   },
   "source": [
    "<!-- Equation labels as ordinary links -->\n",
    "<div id=\"_auto1\"></div>\n",
    "\n",
    "$$\n",
    "\\begin{equation}\n",
    "\\overline{H_N} = \\sum_\\alpha \\vert R_\\alpha\\rangle E_\\alpha \\langle L_\\alpha \\vert \n",
    "\\label{_auto1} \\tag{8}\n",
    "\\end{equation}\n",
    "$$"
   ]
  },
  {
   "cell_type": "markdown",
   "id": "fea26f98",
   "metadata": {
    "editable": true
   },
   "source": [
    "with bi-orthonormal $\\langle L_\\alpha\\vert R_\\beta\\rangle = \\delta_\\alpha^\\beta$."
   ]
  },
  {
   "cell_type": "markdown",
   "id": "2278ba15",
   "metadata": {
    "editable": true
   },
   "source": [
    "## More formalism\n",
    "\n",
    "To make progress, we have to specify the cluster operator $T$. In\n",
    "coupled cluster theory, this operator is"
   ]
  },
  {
   "cell_type": "markdown",
   "id": "ff65da26",
   "metadata": {
    "editable": true
   },
   "source": [
    "<!-- Equation labels as ordinary links -->\n",
    "<div id=\"Top\"></div>\n",
    "\n",
    "$$\n",
    "\\begin{equation}\n",
    "\\label{Top} \\tag{9}\n",
    "T \\equiv \\sum_{ia} t_i^a a^\\dagger_a a_i + \\frac{1}{4}\\sum_{ijab}t_{ij}^{ab}\n",
    "a^\\dagger_aa^\\dagger_ba_ja_i + \\cdots\n",
    "+ \\frac{1}{(N!)^2}\\sum_{i_1\\ldots i_N a_1 \\ldots a_N}\n",
    "t_{i_1\\ldots i_N}^{a_1\\ldots a_N} a^\\dagger_{a_1}\\cdots a^\\dagger_{a_N} a_{i_N}\\cdots a_{i_1} .\n",
    "\\end{equation}\n",
    "$$"
   ]
  },
  {
   "cell_type": "markdown",
   "id": "1adf0ccf",
   "metadata": {
    "editable": true
   },
   "source": [
    "## Particle-hole excitations\n",
    "\n",
    "Thus, the operator ([9](#Top)) induces particle-hole (p-h)\n",
    "excitations with respect to the reference. In general, $T$ generates\n",
    "up to $Ap-Ah$ excitations, and the unknown parameters are the cluster amplitides\n",
    "$t_i^a$, $t_{ij}^{ab}$, ..., $t_{i_1,\\ldots,i_A}^{a_1,\\ldots,a_A}$."
   ]
  },
  {
   "cell_type": "markdown",
   "id": "bd740a48",
   "metadata": {
    "editable": true
   },
   "source": [
    "## Full clutser operator\n",
    "\n",
    "Thus, the coupled-cluster method with the full cluster operator\n",
    "([9](#Top)) is exponentially expensive, just as FCI. To make progress,\n",
    "we need to make an approximation by truncating the operator. Here, we\n",
    "will use the CCSD (coupled clusters singles doubles) approximation,\n",
    "where"
   ]
  },
  {
   "cell_type": "markdown",
   "id": "06d820e9",
   "metadata": {
    "editable": true
   },
   "source": [
    "<!-- Equation labels as ordinary links -->\n",
    "<div id=\"Tccsd\"></div>\n",
    "\n",
    "$$\n",
    "\\begin{equation}\n",
    "\\label{Tccsd} \\tag{10}\n",
    "T \\equiv \\sum_{ia} t_i^a a^\\dagger_a a_i + \\frac{1}{4}\\sum_{ijab}t_{ij}^{ab}\n",
    "a^\\dagger_aa^\\dagger_ba_ja_i .\n",
    "\\end{equation}\n",
    "$$"
   ]
  },
  {
   "cell_type": "markdown",
   "id": "1bea490c",
   "metadata": {
    "editable": true
   },
   "source": [
    "## Unknown aplitudes\n",
    "We need to determine the unknown cluster amplitudes that enter in CCSD. Let"
   ]
  },
  {
   "cell_type": "markdown",
   "id": "cae34f96",
   "metadata": {
    "editable": true
   },
   "source": [
    "<!-- Equation labels as ordinary links -->\n",
    "<div id=\"_auto2\"></div>\n",
    "\n",
    "$$\n",
    "\\begin{equation}\n",
    "\\vert\\Phi_i^a\\rangle = a^\\dagger_a a_i \\vert \\Phi_0\\rangle , \n",
    "\\label{_auto2} \\tag{11}\n",
    "\\end{equation}\n",
    "$$"
   ]
  },
  {
   "cell_type": "markdown",
   "id": "b50af222",
   "metadata": {
    "editable": true
   },
   "source": [
    "<!-- Equation labels as ordinary links -->\n",
    "<div id=\"_auto3\"></div>\n",
    "\n",
    "$$\n",
    "\\begin{equation} \n",
    "\\vert\\Phi_{ij}^{ab}\\rangle = a^\\dagger_a a^\\dagger_b a_j a_i \\vert \\Phi_0\\rangle\n",
    "\\label{_auto3} \\tag{12}\n",
    "\\end{equation}\n",
    "$$"
   ]
  },
  {
   "cell_type": "markdown",
   "id": "f03089f8",
   "metadata": {
    "editable": true
   },
   "source": [
    "be 1p-1h and 2p-2h excitations of the reference. Computing matrix\n",
    "elements of the Schroedinger Equation ([6](#Schroedinger)) yields"
   ]
  },
  {
   "cell_type": "markdown",
   "id": "69f51077",
   "metadata": {
    "editable": true
   },
   "source": [
    "<!-- Equation labels as ordinary links -->\n",
    "<div id=\"ccsd\"></div>\n",
    "\n",
    "$$\n",
    "\\begin{equation}\n",
    "\\label{ccsd} \\tag{13}\n",
    "\\langle \\Phi_0\\vert \\overline{H_N}\\vert \\Phi_0\\rangle = E_c , \n",
    "\\end{equation}\n",
    "$$"
   ]
  },
  {
   "cell_type": "markdown",
   "id": "55d43151",
   "metadata": {
    "editable": true
   },
   "source": [
    "<!-- Equation labels as ordinary links -->\n",
    "<div id=\"_auto4\"></div>\n",
    "\n",
    "$$\n",
    "\\begin{equation} \n",
    "\\langle \\Phi_i^a\\vert \\overline{H_N}\\vert \\Phi_0\\rangle = 0 , \n",
    "\\label{_auto4} \\tag{14}\n",
    "\\end{equation}\n",
    "$$"
   ]
  },
  {
   "cell_type": "markdown",
   "id": "367ec631",
   "metadata": {
    "editable": true
   },
   "source": [
    "<!-- Equation labels as ordinary links -->\n",
    "<div id=\"_auto5\"></div>\n",
    "\n",
    "$$\n",
    "\\begin{equation} \n",
    "\\langle \\Phi_{ij}^{ab}\\vert \\overline{H_N}\\vert \\Phi_0\\rangle = 0 .\n",
    "\\label{_auto5} \\tag{15}\n",
    "\\end{equation}\n",
    "$$"
   ]
  },
  {
   "cell_type": "markdown",
   "id": "4ea52d5c",
   "metadata": {
    "editable": true
   },
   "source": [
    "## Correlation energy\n",
    "\n",
    "The first equation states that the coupled-cluster correlation energy\n",
    "is an expectation value of the similarity-transformed Hamiltonian. The\n",
    "second and third equations state that the similarity-transformed\n",
    "Hamiltonian exhibits no 1p-1h and no 2p-2h excitations. These\n",
    "equations have to be solved to find the unknown amplitudes $t_i^a$ and\n",
    "$t_{ij}^{ab}$. Then one can use these amplitudes and compute the\n",
    "correlation energy from the first line of Eq. ([13](#ccsd)).\n",
    "\n",
    "We note that in the CCSD approximation the reference state is not an\n",
    "exact eigenstates. Rather, it is decoupled from simple states but\n",
    "$\\overline{H}$ still connects this state to 3p-3h, and 4p-4h states\n",
    "etc."
   ]
  },
  {
   "cell_type": "markdown",
   "id": "c0be3c8f",
   "metadata": {
    "editable": true
   },
   "source": [
    "## Good reference state\n",
    "\n",
    "At this point, it is important to recall that we assumed starting from\n",
    "a \"good\" reference state. In such a case, we might reasonably expect\n",
    "that the inclusion of 1p-1h and 2p-2h excitations could result in an\n",
    "accurate approximation. Indeed, empirically one finds that CCSD\n",
    "accounts for about 90% of the corelation energy, i.e. of the\n",
    "difference between the exact energy and the Hartree-Fock energy. The\n",
    "inclusion of triples (3p-3h excitations) typically yields 99% of the\n",
    "correlation energy.\n",
    "\n",
    "We see that the coupled-cluster method in its CCSD approximation\n",
    "yields a similarity-transformed Hamiltonian that is of a two-body\n",
    "structure with respect to a non-trivial vacuum. When viewed in this\n",
    "light, the coupled-cluster method \"transforms\" an $A$-body problem\n",
    "(in CCSD) into a two-body problem, albeit with respect to a nontrivial\n",
    "vacuum."
   ]
  },
  {
   "cell_type": "markdown",
   "id": "a830a73d",
   "metadata": {
    "editable": true
   },
   "source": [
    "## Exercise 1: Why is CCD not exact?\n",
    "\n",
    "Above we argued that a similarity transformation preserves all eigenvalues. Nevertheless, the CCD correlation energy is not the exact correlation energy. Explain!\n",
    "\n",
    "The CCD approximation does not make $\\vert\\Phi_0\\rangle$ an exact\n",
    "eigenstate of $\\overline{H_N}$; it is only an eigenstate when the\n",
    "similarity-transformed Hamiltonian is truncated to at most 2p-2h\n",
    "states. The full $\\overline{H_N}$, with $T=T_2$, would involve\n",
    "six-body terms (do you understand this?), and this full Hamiltonian\n",
    "would reproduce the exact correlation energy. Thus CCD is a similarity\n",
    "transformation plus a truncation, which decouples the ground state only\n",
    "from 2p-2h states."
   ]
  },
  {
   "cell_type": "markdown",
   "id": "167366db",
   "metadata": {
    "editable": true
   },
   "source": [
    "## Computing the similarity-transformed Hamiltonian\n",
    "\n",
    "The solution of the CCSD equations, i.e. the second and third line of\n",
    "Eq. ([13](#ccsd)), and the computation of the correlation energy\n",
    "requires us to compute matrix elements of the similarity-transformed\n",
    "Hamiltonian ([7](#Hsim)). This can be done with the\n",
    "Baker-Campbell-Hausdorff expansion"
   ]
  },
  {
   "cell_type": "markdown",
   "id": "fbdd9e5f",
   "metadata": {
    "editable": true
   },
   "source": [
    "<!-- Equation labels as ordinary links -->\n",
    "<div id=\"BCH\"></div>\n",
    "\n",
    "$$\n",
    "\\begin{equation}\n",
    "\\label{BCH} \\tag{16}\n",
    "\\overline{H_N} = e^{-T} H_N e^T \n",
    "\\end{equation}\n",
    "$$"
   ]
  },
  {
   "cell_type": "markdown",
   "id": "02086bec",
   "metadata": {
    "editable": true
   },
   "source": [
    "<!-- Equation labels as ordinary links -->\n",
    "<div id=\"_auto6\"></div>\n",
    "\n",
    "$$\n",
    "\\begin{equation} \n",
    "=H_N + \\left[ H_N, T\\right]+ \\frac{1}{2!}\\left[ \\left[ H_N, T\\right], T\\right]\n",
    "+ \\frac{1}{3!}\\left[\\left[ \\left[ H_N, T\\right], T\\right], T\\right] +\\ldots .\n",
    "\\label{_auto6} \\tag{17}\n",
    "\\end{equation}\n",
    "$$"
   ]
  },
  {
   "cell_type": "markdown",
   "id": "0a7b77e3",
   "metadata": {
    "editable": true
   },
   "source": [
    "## The cluster operator\n",
    "\n",
    "We now come to a key element of coupled-cluster theory: the cluster\n",
    "operator ([9](#Top)) consists of sums of terms that consist of particle\n",
    "creation and hole annihilation operators (but no particle annihilation\n",
    "or hole creation operators). Thus, all terms that enter $T$ commute\n",
    "with each other. This means that the commutators in the\n",
    "Baker-Campbell-Hausdorff expansion ([16](#BCH)) can only be non-zero\n",
    "because each $T$ must connect to $H_N$ (but no $T$ with another\n",
    "$T$). Thus, the expansion is finite."
   ]
  },
  {
   "cell_type": "markdown",
   "id": "d4f63d1e",
   "metadata": {
    "editable": true
   },
   "source": [
    "## Non-hermitian Hamiltonian\n",
    "\n",
    "We see that the (disadvantage of having a) non-Hermitian Hamiltonian\n",
    "$\\overline{H_N}$ leads to the advantage that the\n",
    "Baker-Campbell-Hausdorff expansion is finite, thus leading to the\n",
    "possibility to compute $\\overline{H_N}$ exactly."
   ]
  },
  {
   "cell_type": "markdown",
   "id": "16dc7663",
   "metadata": {
    "editable": true
   },
   "source": [
    "## Similarity transformed Hamiltonian\n",
    "\n",
    "We write the similarity-transformed Hamiltonian as"
   ]
  },
  {
   "cell_type": "markdown",
   "id": "60c25b1f",
   "metadata": {
    "editable": true
   },
   "source": [
    "<!-- Equation labels as ordinary links -->\n",
    "<div id=\"_auto7\"></div>\n",
    "\n",
    "$$\n",
    "\\begin{equation}\n",
    "\\overline{H_N}=\\sum_{pq} \\overline{H}^p_q a^\\dagger_q a_p + {1\\over 4} \\sum_{pqrs} \\overline{H}^{pq}_{rs} a^\\dagger_p a^\\dagger_q a_s a_r + \\ldots\n",
    "\\label{_auto7} \\tag{18}\n",
    "\\end{equation}\n",
    "$$"
   ]
  },
  {
   "cell_type": "markdown",
   "id": "8a641537",
   "metadata": {
    "editable": true
   },
   "source": [
    "with"
   ]
  },
  {
   "cell_type": "markdown",
   "id": "b51be7e7",
   "metadata": {
    "editable": true
   },
   "source": [
    "<!-- Equation labels as ordinary links -->\n",
    "<div id=\"_auto8\"></div>\n",
    "\n",
    "$$\n",
    "\\begin{equation}\n",
    "\\overline{H}^p_q \\equiv \\langle p\\vert \\overline{H_N}\\vert q\\rangle , \n",
    "\\label{_auto8} \\tag{19}\n",
    "\\end{equation}\n",
    "$$"
   ]
  },
  {
   "cell_type": "markdown",
   "id": "80d61004",
   "metadata": {
    "editable": true
   },
   "source": [
    "<!-- Equation labels as ordinary links -->\n",
    "<div id=\"_auto9\"></div>\n",
    "\n",
    "$$\n",
    "\\begin{equation} \n",
    "\\overline{H}^{pq}_{rs} \\equiv \\langle pq\\vert \\overline{H_N}\\vert rs\\rangle .\n",
    "\\label{_auto9} \\tag{20}\n",
    "\\end{equation}\n",
    "$$"
   ]
  },
  {
   "cell_type": "markdown",
   "id": "532223f7",
   "metadata": {
    "editable": true
   },
   "source": [
    "If we truncate the operator $T$ at the level of singles and doubles,\n",
    "the CCSD Eqs. ([13](#ccsd)) for the amplitudes can be written as\n",
    "$\\overline{H}_i^a = 0$ and $\\overline{H}_{ij}^{ab}=0$."
   ]
  },
  {
   "cell_type": "markdown",
   "id": "bbcf4c5b",
   "metadata": {
    "editable": true
   },
   "source": [
    "## CCD Approximation\n",
    "\n",
    "In what follows, we will consider the coupled cluster doubles (CCD)\n",
    "approximation. This approximation is valid in cases where the system\n",
    "cannot exhibit any particle-hole excitations (such as nuclear matter\n",
    "when formulated on a momentum-space grid) or for the pairing model (as\n",
    "the pairing interactions only excites pairs of particles). In this\n",
    "case $t_i^a=0$ for all $i, a$, and $\\overline{H}_i^a=0$. The CCD\n",
    "approximation is also of some sort of leading order approximation in\n",
    "the Hartree-Fock basis (as the Hartree-Fock Hamiltonian exhibits no\n",
    "particle-hole excitations)."
   ]
  },
  {
   "cell_type": "markdown",
   "id": "86ad2d8f",
   "metadata": {
    "editable": true
   },
   "source": [
    "## Deriving the CCD equations\n",
    "\n",
    "Let us consider the matrix element $\\overline{H}_{ij}^{ab}$. Clearly,\n",
    "it consists of all diagrams (i.e. all combinations of $T_2$, and a\n",
    "single $F$ or $V$ that have two incoming hole lines and two outgoing\n",
    "particle lines. Write down all these diagrams.\n",
    "\n",
    "We start systematically and  consider all combinations of $F$ and $V$ diagrams with 0, 1, and 2 cluster amplitudes $T_2$."
   ]
  },
  {
   "cell_type": "markdown",
   "id": "56121706",
   "metadata": {
    "editable": true
   },
   "source": [
    "## The algebraic expression"
   ]
  },
  {
   "cell_type": "markdown",
   "id": "489e556a",
   "metadata": {
    "editable": true
   },
   "source": [
    "$$\n",
    "\\begin{align*}\n",
    "\\overline{H}_{ij}^{ab} &= \\langle ab\\vert V\\vert ij\\rangle + P(ab)\\sum_c f_c^bt_{ij}^{ac} - P(ij)\\sum_k f_j^k t_{ik}^{ab} \\\\\n",
    "&+ {1\\over 2} \\sum_{cd} \\langle ab\\vert V\\vert cd\\rangle t_{ij}^{cd}+ {1\\over 2} \\sum_{kl} \\langle kl\\vert V\\vert ij\\rangle t_{kl}^{ab} + P(ab)P(ij)\\sum_{kc} \\langle kb\\vert V\\vert cj \\rangle t_{ik}^{ac} \\\\\n",
    "&+ {1\\over 2} P(ij)P(ab)\\sum_{kcld} \\langle kl\\vert V\\vert cd\\rangle t_{ik}^{ac}t_{lj}^{db} \n",
    "+ {1\\over 2} P(ij)\\sum_{kcld} \\langle kl\\vert V\\vert cd\\rangle t_{ik}^{cd}t_{lj}^{ab}\\\\\n",
    "&+ {1\\over 2} P(ab)\\sum_{kcld} \\langle kl\\vert V\\vert cd\\rangle t_{kl}^{ac}t_{ij}^{db}\n",
    "+ {1\\over 4} \\sum_{kcld} \\langle kl\\vert V\\vert cd\\rangle t_{ij}^{cd}t_{kl}^{ab} . \n",
    "\\end{align*}\n",
    "$$"
   ]
  },
  {
   "cell_type": "markdown",
   "id": "b26ccb2e",
   "metadata": {
    "editable": true
   },
   "source": [
    "## CCD for the pairing Hamiltonian\n",
    "\n",
    "You learned about the pairing Hamiltonian earlier in the second midterm. Convince yourself that this Hamiltonian does not induce any\n",
    "1p-1h excitations. Let us solve the CCD equations for this\n",
    "problem. This consists of the following steps\n",
    "\n",
    "1. Write a function that compute the potential, i.e. it returns a four-indexed array (or tensor). We need $\\langle ab\\vert V\\vert cd\\rangle$, $\\langle ij\\vert V\\vert kl\\rangle$, and $\\langle ab\\vert V\\vert ij\\rangle$. Why is there no $\\langle ab\\vert V\\vert id\\rangle$ or $\\langle ai\\vert V\\vert jb\\rangle$ ?\n",
    "\n",
    "2. Write a function that computes the Fock matrix, i.e. a two-indexed array. We only need $f_a^b$ and $f_i^j$. Why? \n",
    "\n",
    "3. Initialize the cluster amplitudes according and solve the equations for the amplitues itereatively."
   ]
  },
  {
   "cell_type": "markdown",
   "id": "ce4f52e5",
   "metadata": {
    "editable": true
   },
   "source": [
    "## Solving the CCD equations for the pairing problem\n",
    "The Hamiltonian is"
   ]
  },
  {
   "cell_type": "markdown",
   "id": "37982233",
   "metadata": {
    "editable": true
   },
   "source": [
    "<!-- Equation labels as ordinary links -->\n",
    "<div id=\"_auto10\"></div>\n",
    "\n",
    "$$\n",
    "\\begin{equation}\n",
    "H = \\delta \\sum_{p=1}^\\Omega (p-1)\\left(a^\\dagger_{p+}a_{p+} + a^\\dagger_{p-}a_{p-}\\right)\n",
    "-{g \\over 2} \\sum_{p, q=1}^\\Omega a^\\dagger_{p+}a^\\dagger_{p-} a_{q-} a_{q+} .\n",
    "\\label{_auto10} \\tag{21}\n",
    "\\end{equation}\n",
    "$$"
   ]
  },
  {
   "cell_type": "markdown",
   "id": "4ff9544b",
   "metadata": {
    "editable": true
   },
   "source": [
    "<!-- [Click for IPython notebook for FCI and CCD solutions](https://github.com/NuclearTalent/ManyBody2018/tree/master/doc/Programs/Python/PairingModel) -->\n",
    "\n",
    "<!-- @@@CODE Programs/CCD_PairingModel.py -->"
   ]
  },
  {
   "cell_type": "markdown",
   "id": "d6db5d13",
   "metadata": {
    "editable": true
   },
   "source": [
    "## Python code"
   ]
  },
  {
   "cell_type": "code",
   "execution_count": 1,
   "id": "a1957e25",
   "metadata": {
    "collapsed": false,
    "editable": true
   },
   "outputs": [],
   "source": [
    "## Coupled clusters in CCD approximation\n",
    "## Implemented for the pairing model of Lecture Notes in Physics 936, Chapter 8.\n",
    "import numpy as np\n",
    "\n",
    "\n",
    "def init_pairing_v(g,pnum,hnum):\n",
    "    \"\"\"\n",
    "    returns potential matrices of the pairing model in three relevant channels\n",
    "    \n",
    "    param g: strength of the pairing interaction, as in Eq. (8.42)\n",
    "    param pnum: number of particle states\n",
    "    param hnum: number of hole states\n",
    "    \n",
    "    return v_pppp, v_pphh, v_hhhh: np.array(pnum,pnum,pnum,pnum), \n",
    "                                   np.array(pnum,pnum,hnum,hnum), \n",
    "                                   np.array(hnum,hnum,hnum,hnum), \n",
    "                                   The interaction as a 4-indexed tensor in three channels.\n",
    "    \"\"\"\n",
    "    v_pppp=np.zeros((pnum,pnum,pnum,pnum))\n",
    "    v_pphh=np.zeros((pnum,pnum,hnum,hnum))\n",
    "    v_hhhh=np.zeros((hnum,hnum,hnum,hnum))\n",
    "    \n",
    "    gval=-0.5*g\n",
    "    for a in range(0,pnum,2):\n",
    "        for b in range(0,pnum,2):\n",
    "            v_pppp[a,a+1,b,b+1]=gval\n",
    "            v_pppp[a+1,a,b,b+1]=-gval\n",
    "            v_pppp[a,a+1,b+1,b]=-gval\n",
    "            v_pppp[a+1,a,b+1,b]=gval\n",
    "            \n",
    "    for a in range(0,pnum,2):\n",
    "        for i in range(0,hnum,2):\n",
    "            v_pphh[a,a+1,i,i+1]=gval\n",
    "            v_pphh[a+1,a,i,i+1]=-gval\n",
    "            v_pphh[a,a+1,i+1,i]=-gval\n",
    "            v_pphh[a+1,a,i+1,i]=gval\n",
    "    \n",
    "    for j in range(0,hnum,2):\n",
    "        for i in range(0,hnum,2):\n",
    "            v_hhhh[j,j+1,i,i+1]=gval\n",
    "            v_hhhh[j+1,j,i,i+1]=-gval\n",
    "            v_hhhh[j,j+1,i+1,i]=-gval\n",
    "            v_hhhh[j+1,j,i+1,i]=gval\n",
    "        \n",
    "    return v_pppp, v_pphh, v_hhhh\n",
    "    \n",
    "    \n",
    "def init_pairing_fock(delta,g,pnum,hnum):\n",
    "    \"\"\"\n",
    "    initializes the Fock matrix of the pairing model\n",
    "    \n",
    "    param delta: Single-particle spacing, as in Eq. (8.41)\n",
    "    param g: pairing strength, as in eq. (8.42)\n",
    "    param pnum: number of particle states\n",
    "    param hnum: number of hole states\n",
    "    \n",
    "    return f_pp, f_hh: The Fock matrix in two channels as numpy arrays np.array(pnum,pnum), np.array(hnum,hnum). \n",
    "    \"\"\"\n",
    "# the Fock matrix for the pairing model. No f_ph needed, because we are in Hartree-Fock basis \n",
    "    deltaval=0.5*delta\n",
    "    gval=-0.5*g\n",
    "    f_pp = np.zeros((pnum,pnum))\n",
    "    f_hh = np.zeros((hnum,hnum))\n",
    "\n",
    "    for i in range(0,hnum,2):\n",
    "        f_hh[i  ,i  ] = deltaval*i+gval\n",
    "        f_hh[i+1,i+1] = deltaval*i+gval\n",
    "        \n",
    "    for a in range(0,pnum,2):\n",
    "        f_pp[a  ,a  ] = deltaval*(hnum+a)\n",
    "        f_pp[a+1,a+1] = deltaval*(hnum+a)\n",
    "    \n",
    "    return f_pp, f_hh\n",
    "\n",
    "\n",
    "def init_t2(v_pphh,f_pp,f_hh):\n",
    "    \"\"\"\n",
    "    Initializes t2 amlitudes as in MBPT2, see first equation on page 345\n",
    "    \n",
    "    param v_pphh: pairing tensor in pphh channel\n",
    "    param f_pp:   Fock matrix in pp channel\n",
    "    param f_hh:   Fock matrix in hh channel\n",
    "    \n",
    "    return t2: numpy array in pphh format, 4-indices tensor\n",
    "    \"\"\"\n",
    "    pnum = len(f_pp)\n",
    "    hnum = len(f_hh)\n",
    "    t2_new = np.zeros((pnum,pnum,hnum,hnum))\n",
    "    for i in range(hnum):\n",
    "        for j in range(hnum):\n",
    "            for a in range(pnum):\n",
    "                for b in range(pnum):\n",
    "                    t2_new[a,b,i,j] = v_pphh[a,b,i,j] / (f_hh[i,i]+f_hh[j,j]-f_pp[a,a]-f_pp[b,b])\n",
    "    return t2_new\n",
    "\n",
    "\n",
    "# CCD equations. Note that the \"->abij\" assignment is redundant, because indices are ordered alphabetically.\n",
    "# Nevertheless, we retain it for transparency.\n",
    "def ccd_iter(v_pppp,v_pphh,v_hhhh,f_pp,f_hh,t2):\n",
    "    \"\"\"\n",
    "    Performs one iteration of the CCD equations (8.34), using also intermediates for the nonliniar terms\n",
    "    \n",
    "    param v_pppp: pppp-channel pairing tensor, numpy array\n",
    "    param v_pphh: pphh-channel pairing tensor, numpy array\n",
    "    param v_hhhh: hhhh-channel pairing tensor, numpy array\n",
    "    param f_pp: Fock matrix in pp channel\n",
    "    param f_hh: Fock matrix in hh channel\n",
    "    param t2: Initial t2 amplitude, tensor in form of pphh channel\n",
    "    \n",
    "    return t2_new: new t2 amplitude, tensor in form of pphh channel\n",
    "    \"\"\"\n",
    "    pnum = len(f_pp)\n",
    "    hnum = len(f_hh)\n",
    "    Hbar_pphh = (  v_pphh \n",
    "                 + np.einsum('bc,acij->abij',f_pp,t2) \n",
    "                 - np.einsum('ac,bcij->abij',f_pp,t2) \n",
    "                 - np.einsum('abik,kj->abij',t2,f_hh)\n",
    "                 + np.einsum('abjk,ki->abij',t2,f_hh)\n",
    "                 + 0.5*np.einsum('abcd,cdij->abij',v_pppp,t2) \n",
    "                 + 0.5*np.einsum('abkl,klij->abij',t2,v_hhhh)\n",
    "                )\n",
    "\n",
    "    # hh intermediate, see (8.47)\n",
    "    chi_hh = 0.5* np.einsum('cdkl,cdjl->kj',v_pphh,t2)\n",
    "\n",
    "    Hbar_pphh = Hbar_pphh - (  np.einsum('abik,kj->abij',t2,chi_hh) \n",
    "                             - np.einsum('abik,kj->abji',t2,chi_hh) )\n",
    "\n",
    "    # pp intermediate, see (8.46)\n",
    "    chi_pp = -0.5* np.einsum('cdkl,bdkl->cb',v_pphh,t2)\n",
    "\n",
    "    Hbar_pphh = Hbar_pphh + (  np.einsum('acij,cb->abij',t2,chi_pp) \n",
    "                             - np.einsum('acij,cb->baij',t2,chi_pp) )\n",
    "\n",
    "    # hhhh intermediate, see (8.48)\n",
    "    chi_hhhh = 0.5 * np.einsum('cdkl,cdij->klij',v_pphh,t2)\n",
    "\n",
    "    Hbar_pphh = Hbar_pphh + 0.5 * np.einsum('abkl,klij->abij',t2,chi_hhhh)\n",
    "\n",
    "    # phph intermediate, see (8.49)\n",
    "    chi_phph= + 0.5 * np.einsum('cdkl,dblj->bkcj',v_pphh,t2)\n",
    "\n",
    "\n",
    "    Hbar_pphh = Hbar_pphh + (  np.einsum('bkcj,acik->abij',chi_phph,t2)\n",
    "                             - np.einsum('bkcj,acik->baij',chi_phph,t2)\n",
    "                             - np.einsum('bkcj,acik->abji',chi_phph,t2)\n",
    "                             + np.einsum('bkcj,acik->baji',chi_phph,t2) )\n",
    "                 \n",
    "    t2_new=np.zeros((pnum,pnum,hnum,hnum))\n",
    "    for i in range(hnum):\n",
    "        for j in range(hnum):\n",
    "            for a in range(pnum):\n",
    "                for b in range(pnum):\n",
    "                    t2_new[a,b,i,j] = (  t2[a,b,i,j] \n",
    "                                       + Hbar_pphh[a,b,i,j] / (f_hh[i,i]+f_hh[j,j]-f_pp[a,a]-f_pp[b,b]) )\n",
    "\n",
    "    return t2_new\n",
    "\n",
    "\n",
    "def ccd_energy(v_pphh,t2):\n",
    "    \"\"\"\n",
    "    Computes CCD energy. Call as \n",
    "    energy = ccd_energy(v_pphh,t2)\n",
    "    \n",
    "    param v_pphh: pphh-channel pairing tensor, numpy array\n",
    "    param t2: t2 amplitude, tensor in form of pphh channel\n",
    "    \n",
    "    return energy: CCD correlation energy\n",
    "    \"\"\"\n",
    "    erg = 0.25*np.einsum('abij,abij',v_pphh,t2)\n",
    "    return erg\n",
    "\n",
    "###############################\n",
    "######## Main Program\n",
    "\n",
    "# set parameters as for model\n",
    "pnum = 4 # number of particle states\n",
    "hnum = 4 # number of hole states\n",
    "delta = 1.0\n",
    "\n",
    "g = 1.0\n",
    "\n",
    "print(\"parameters\")\n",
    "print(\"delta =\", delta, \", g =\", g)\n",
    "\n",
    "\n",
    "# Initialize pairing matrix elements and Fock matrix\n",
    "v_pppp, v_pphh, v_hhhh = init_pairing_v(g,pnum,hnum)\n",
    "f_pp, f_hh = init_pairing_fock(delta,g,pnum,hnum)\n",
    "\n",
    "# Initialize T2 amplitudes from MBPT2\n",
    "t2 = init_t2(v_pphh,f_pp,f_hh)\n",
    "erg = ccd_energy(v_pphh,t2)\n",
    "\n",
    "# Exact MBPT2 for comparison, see last equation on page 365 \n",
    "exact_mbpt2 = -0.25*g**2*(1.0/(2.0+g) + 2.0/(4.0+g) + 1.0/(6.0+g))\n",
    "print(\"MBPT2 energy =\", erg, \", compared to exact:\", exact_mbpt2)\n",
    "    \n",
    "    \n",
    "# iterate CCD equations niter times\n",
    "niter=60\n",
    "for iter in range(niter):\n",
    "    t2_new = ccd_iter(v_pppp,v_pphh,v_hhhh,f_pp,f_hh,t2)\n",
    "    erg = ccd_energy(v_pphh,t2_new)\n",
    "    print(\"iter=\", iter, \"erg=\", erg)\n",
    "    t2 = 0.5 * (t2_new + t2)"
   ]
  }
 ],
 "metadata": {},
 "nbformat": 4,
 "nbformat_minor": 5
}
