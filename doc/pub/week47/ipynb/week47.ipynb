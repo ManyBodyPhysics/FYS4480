{
 "cells": [
  {
   "cell_type": "markdown",
   "id": "7a762d98",
   "metadata": {
    "editable": true
   },
   "source": [
    "<!-- HTML file automatically generated from DocOnce source (https://github.com/doconce/doconce/)\n",
    "doconce format html week47.do.txt --no_mako -->\n",
    "<!-- dom:TITLE: Week 47: Green's function theory -->"
   ]
  },
  {
   "cell_type": "markdown",
   "id": "e6aaf2ef",
   "metadata": {
    "editable": true
   },
   "source": [
    "# Week 47: Green's function theory\n",
    "**Morten Hjorth-Jensen**, Department of Physics and Center for Computing in Science Education, University of Oslo, Norway and Department of Physics and Astronomy and Facility for Rare Isotope Beams, Michigan State University, USA\n",
    "\n",
    "Date: **Week 47, November 20-24**"
   ]
  },
  {
   "cell_type": "markdown",
   "id": "063552a0",
   "metadata": {
    "editable": true
   },
   "source": [
    "## Week 47, November 20-24, 2023\n",
    "* Topics to be covered\n",
    "\n",
    "  * Thursday:\n",
    "\n",
    "    * Time-dependence, Adiabatic hypothesis and linked diagrams\n",
    "\n",
    "    * Green's functions, basic equations\n",
    "\n",
    "    * [Video of lecture to be added](https://youtu.be/)\n",
    "\n",
    "  * Friday:\n",
    "\n",
    "    * Green's functions, Dyson's equation\n",
    "\n",
    "    * [Video of lecture to be added](https://youtu.be/)\n",
    "\n",
    "* Lecture Material: [Slides for week 47](https://github.com/ManyBodyPhysics/FYS4480/blob/master/doc/pub/week47/pdf/slidesweek47.pdf) and handwritten notes.\n",
    "\n",
    "Work on second midterm set at <https://github.com/ManyBodyPhysics/FYS4480/blob/master/doc/Exercises/2023/SecondMidterm2023.pdf>"
   ]
  }
 ],
 "metadata": {},
 "nbformat": 4,
 "nbformat_minor": 5
}
