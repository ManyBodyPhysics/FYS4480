{
 "cells": [
  {
   "cell_type": "markdown",
   "id": "b3e9534c",
   "metadata": {
    "editable": true
   },
   "source": [
    "<!-- HTML file automatically generated from DocOnce source (https://github.com/doconce/doconce/)\n",
    "doconce format html week47.do.txt --no_mako -->\n",
    "<!-- dom:TITLE: Week 47: Green's function theory -->"
   ]
  },
  {
   "cell_type": "markdown",
   "id": "ec3cbc9e",
   "metadata": {
    "editable": true
   },
   "source": [
    "# Week 47: Green's function theory\n",
    "**Morten Hjorth-Jensen**, Department of Physics and Center for Computing in Science Education, University of Oslo, Norway and Department of Physics and Astronomy and Facility for Rare Isotope Beams, Michigan State University, USA\n",
    "\n",
    "Date: **Week 47, November 20-24**"
   ]
  },
  {
   "cell_type": "markdown",
   "id": "2e9c4177",
   "metadata": {
    "editable": true
   },
   "source": [
    "## Week 47, November 20-24, 2023\n",
    "* Topics to be covered\n",
    "\n",
    "  * Thursday:\n",
    "\n",
    "    * Time-dependence, Adiabatic hypothesis and linked diagrams\n",
    "\n",
    "    * Green's functions, basic equations\n",
    "\n",
    "    * [Video of lecture to be added](https://youtu.be/)\n",
    "\n",
    "  * Friday:\n",
    "\n",
    "    * Green's functions, Dyson's equation\n",
    "\n",
    "    * [Video of lecture](https://youtu.be/jZxYjVL-Z94)\n",
    "\n",
    "* Lecture Material: [Repetition slides for week 46](https://github.com/ManyBodyPhysics/FYS4480/blob/master/doc/pub/week47/pdf/slidesweek46.pdf), handwritten notes and Shavitt and Bartlett chapter 9\n",
    "\n",
    "Work on second midterm set at <https://github.com/ManyBodyPhysics/FYS4480/blob/master/doc/Exercises/2023/SecondMidterm2023.pdf>"
   ]
  }
 ],
 "metadata": {},
 "nbformat": 4,
 "nbformat_minor": 5
}
