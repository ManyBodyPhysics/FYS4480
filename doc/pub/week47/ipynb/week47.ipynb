{
 "cells": [
  {
   "cell_type": "markdown",
   "id": "40f39f88",
   "metadata": {
    "editable": true
   },
   "source": [
    "<!-- HTML file automatically generated from DocOnce source (https://github.com/doconce/doconce/)\n",
    "doconce format html week47.do.txt --no_mako -->\n",
    "<!-- dom:TITLE: Week 47: Coupled Cluster theory -->"
   ]
  },
  {
   "cell_type": "markdown",
   "id": "d8a5f6a2",
   "metadata": {
    "editable": true
   },
   "source": [
    "# Week 47: Coupled Cluster theory\n",
    "**Morten Hjorth-Jensen**, Department of Physics and Center for Computing in Science Education, University of Oslo, Norway\n",
    "\n",
    "Date: **Week 47, November 18-22**"
   ]
  },
  {
   "cell_type": "markdown",
   "id": "5a092137",
   "metadata": {
    "editable": true
   },
   "source": [
    "## Week 47, November 18-22, 2024\n",
    "1. Thursday:\n",
    "\n",
    "a. Introduction to coupled cluster theory and basic equations\n",
    "\n",
    "2. Friday:\n",
    "\n",
    "a. Derivation of doubles excitation equation \n",
    "\n",
    "b. Applications to the pairing model from the second midterm\n",
    "\n",
    "3. Lecture material: Lecture notes (these notes) and chpater 9 of Shavitt and Bartlett\n",
    "<!-- * Lecture Material: [Slides for week 47](https://github.com/ManyBodyPhysics/FYS4480/blob/master/doc/pub/week47/pdf/slidesweek47.pdf) and handwritten notes. -->"
   ]
  }
 ],
 "metadata": {},
 "nbformat": 4,
 "nbformat_minor": 5
}
