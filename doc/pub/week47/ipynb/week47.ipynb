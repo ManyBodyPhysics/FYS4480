{
 "cells": [
  {
   "cell_type": "markdown",
   "id": "04bbb995",
   "metadata": {
    "editable": true
   },
   "source": [
    "<!-- HTML file automatically generated from DocOnce source (https://github.com/doconce/doconce/)\n",
    "doconce format html week47.do.txt --no_mako -->\n",
    "<!-- dom:TITLE: Week 47: Coupled Cluster  and Summary of Course with Future Perspective -->"
   ]
  },
  {
   "cell_type": "markdown",
   "id": "a00ca93f",
   "metadata": {
    "editable": true
   },
   "source": [
    "# Week 47: Coupled Cluster  and Summary of Course with Future Perspective\n",
    "**Morten Hjorth-Jensen**, Department of Physics and Center for Computing in Science Education, University of Oslo, Norway and Department of Physics and Astronomy and Facility for Rare Isotope Beams, Michigan State University, USA\n",
    "\n",
    "Date: **Week 47, November 21-25**"
   ]
  },
  {
   "cell_type": "markdown",
   "id": "4be477be",
   "metadata": {
    "editable": true
   },
   "source": [
    "## Week 47, November 21-25, 2022\n",
    "* Topics to be covered\n",
    "\n",
    "  * Thursday:\n",
    "\n",
    "    * Coupled Cluster theory, singles and doubles excitations\n",
    "\n",
    "    * [Video of lecture](https://youtu.be/)\n",
    "\n",
    "  * Friday:\n",
    "\n",
    "    * Coupled Cluster theory and summary of course\n",
    "\n",
    "    * [Video of lecture](https://youtu.be/)\n",
    "\n",
    "* Lecture Material: These slides, handwritten notes and Shavitt and Bartlett chapters 9 and 10\n",
    "\n",
    "Work on second midterm set at <https://github.com/ManyBodyPhysics/FYS4480/blob/master/doc/Exercises/2022/SecondMidterm2022.pdf>"
   ]
  }
 ],
 "metadata": {},
 "nbformat": 4,
 "nbformat_minor": 5
}
