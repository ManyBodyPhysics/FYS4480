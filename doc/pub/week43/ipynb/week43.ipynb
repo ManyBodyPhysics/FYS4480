{
 "cells": [
  {
   "cell_type": "markdown",
   "id": "f227215e",
   "metadata": {
    "editable": true
   },
   "source": [
    "<!-- HTML file automatically generated from DocOnce source (https://github.com/doconce/doconce/)\n",
    "doconce format html week43.do.txt --no_mako -->\n",
    "<!-- dom:TITLE: Week 43: Electron gas in three dimensions and links with Density functional theory -->"
   ]
  },
  {
   "cell_type": "markdown",
   "id": "532494bf",
   "metadata": {
    "editable": true
   },
   "source": [
    "# Week 43: Electron gas in three dimensions and links with Density functional theory\n",
    "**Morten Hjorth-Jensen**, Department of Physics and Center for Computing in Science Education, University of Oslo, Norway and Department of Physics and Astronomy and Facility for Rare Isotope Beams, Michigan State University, USA\n",
    "\n",
    "Date: **Week 43, October 23-27**"
   ]
  },
  {
   "cell_type": "markdown",
   "id": "02195ea0",
   "metadata": {
    "editable": true
   },
   "source": [
    "## Week 43, October 23-27, 2023\n",
    "* Topics to be covered\n",
    "\n",
    "a. Thursday:\n",
    "\n",
    "    * Ground state energy for the electron gas with Hartree-Fock theory\n",
    "\n",
    "    * Density functional theory\n",
    "\n",
    "    * [Video of lecture](https://youtu.be/)\n",
    "\n",
    "b. Friday:\n",
    "\n",
    "    * Density functional theory and the local density approximation and links with Hartree-Fock theory\n",
    "\n",
    "    * [Video of lecture](https://youtu.be/)\n",
    "\n",
    "* Lecture Material: These slides, handwritten notes\n",
    "\n",
    "* Seventh exercise set at <https://github.com/ManyBodyPhysics/FYS4480/blob/master/doc/Exercises/2023/ExercisesWeek43.pdf>"
   ]
  }
 ],
 "metadata": {},
 "nbformat": 4,
 "nbformat_minor": 5
}
