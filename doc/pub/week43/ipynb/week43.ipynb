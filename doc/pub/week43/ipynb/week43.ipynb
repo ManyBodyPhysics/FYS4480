{
 "cells": [
  {
   "cell_type": "markdown",
   "id": "af9bb50f",
   "metadata": {
    "editable": true
   },
   "source": [
    "<!-- HTML file automatically generated from DocOnce source (https://github.com/doconce/doconce/)\n",
    "doconce format html week43.do.txt --no_mako -->\n",
    "<!-- dom:TITLE: Week 43: Density Functional Theory and start Many-body Perturbation Theory -->"
   ]
  },
  {
   "cell_type": "markdown",
   "id": "5d55bb12",
   "metadata": {
    "editable": true
   },
   "source": [
    "# Week 43: Density Functional Theory and start Many-body Perturbation Theory\n",
    "**Morten Hjorth-Jensen**, Department of Physics and Center for Computing in Science Education, University of Oslo, Norway and Department of Physics and Astronomy and Facility for Rare Isotope Beams, Michigan State University, USA\n",
    "\n",
    "Date: **Week 43, October 21-25**"
   ]
  },
  {
   "cell_type": "markdown",
   "id": "6ab34991",
   "metadata": {
    "editable": true
   },
   "source": [
    "## Week 43, October 21-25, 2024\n",
    "1. Thursday:\n",
    "\n",
    "a. Density functional theory, the Hohenberg-Kohn theorems\n",
    "\n",
    "b. Kohn-Sham equations\n",
    "\n",
    "c. [Video of lecture at](https://www.youtube.com/)\n",
    "\n",
    "4. Friday:\n",
    "\n",
    "a. Kohn-Sham equations and the local density approximation and links with Hartree-Fock theory\n",
    "\n",
    "b. Start many-body perturbation theory\n",
    "\n",
    "c. \"Video of lecture TBA\":\"https:/\"\n",
    "\n",
    "4. 8th  exercise set at <https://github.com/ManyBodyPhysics/FYS4480/blob/master/doc/Exercises/2024/ExercisesWeek43.pdf>"
   ]
  },
  {
   "cell_type": "markdown",
   "id": "46d5dafb",
   "metadata": {
    "editable": true
   },
   "source": [
    "## Density functional theory\n",
    "\n",
    "Hohenberg and Kohn proved that the total energy of a system including\n",
    "that of the many-body effects of electrons (exchange and correlation)\n",
    "in the presence of static external potential (for example, the atomic\n",
    "nuclei) is a unique functional of the charge density. The minimum\n",
    "value of the total energy functional is the ground state energy of the\n",
    "system. The electronic charge density which yields this minimum is\n",
    "then the exact single particle ground state energy."
   ]
  },
  {
   "cell_type": "markdown",
   "id": "51a547be",
   "metadata": {
    "editable": true
   },
   "source": [
    "## Functional of density\n",
    "\n",
    "The electronic energy $E$ is said to be a functional of the\n",
    "electronic density, $E[\\rho]$, in the sense that for a given function\n",
    "$\\rho(r)$, there is a single corresponding energy. The\n",
    "Hohenberg-Kohn theorems (two) confirms that such a functional exists,\n",
    "but does not tell us the form of the functional.\n",
    "\n",
    "Density functional theory has turned out to be a resounding success. A\n",
    "large majority of crystalline materials, many molecules and molecular\n",
    "structures have been explained using DFT. Walter Kohn, involved in\n",
    "both the Hohenberg-Kohn theory and development of the Kohn-Sham\n",
    "equations, received the Nobel Prize in Chemistry for DFT and\n",
    "computational chemistry in 1998.  DFT is used in a broad spectrum of\n",
    "disciplines, including quantum chemistry, materials science, condensed\n",
    "matter physics and low-energy nuclear physics"
   ]
  },
  {
   "cell_type": "markdown",
   "id": "0988010f",
   "metadata": {
    "editable": true
   },
   "source": [
    "## The many-particle equation\n",
    "\n",
    "Any material on earth, whether in crystals, amorphous solids,\n",
    "molecules or yourself, consists of nothing else than a bunch of atoms,\n",
    "ions and electrons bound together by electric forces. All these\n",
    "possible forms of matter can be explained by virtue of one simple\n",
    "equation: the many-particle Schr\\\"{o}dinger equation,"
   ]
  },
  {
   "cell_type": "markdown",
   "id": "0a359e0a",
   "metadata": {
    "editable": true
   },
   "source": [
    "<!-- Equation labels as ordinary links -->\n",
    "<div id=\"_auto1\"></div>\n",
    "\n",
    "$$\n",
    "\\begin{equation}\n",
    "\ti \\hbar \\frac{\\partial}{\\partial t} \\Phi( \\boldsymbol{r} ; t) = \n",
    "\t\\left( - \\sum_{i}^N \\frac{\\hbar^2}{2m_i} \\frac{\\partial^2}{\\partial \\boldsymbol{r}_i^2}\n",
    "\t+ \\sum_{i<j}^N \\frac{e^2 Z_i Z_j }{ | \\boldsymbol{r}_i - \\boldsymbol{r}_j| } \\right)  \\Phi( \\boldsymbol{r} ; t).\n",
    "\\label{_auto1} \\tag{1}\n",
    "\\end{equation}\n",
    "$$"
   ]
  },
  {
   "cell_type": "markdown",
   "id": "01534f9b",
   "metadata": {
    "editable": true
   },
   "source": [
    "Here $\\Phi(\\boldsymbol{r} ; t)$ is the many-body wavefunction for $N$ particles, where each particle has its own mass $m_i$, charge $Z_i$ and position $\\boldsymbol{r}_i$. The only interaction is the Coulomb interaction $e^2/r$."
   ]
  },
  {
   "cell_type": "markdown",
   "id": "135aa79a",
   "metadata": {
    "editable": true
   },
   "source": [
    "## Born-Oppenheimer approximation\n",
    "\n",
    "In atomic and molecular physics, materials science and quantum chemsitry, the Born-Oppenheimer  approximation arises from the physical problem we want to\n",
    "study: the ground state of a collection of interacting ions and\n",
    "electrons. Because even the lightest ion is more than a thousand times\n",
    "heavier than an electron, we approximate our Hamiltonian  to not include  the dynamics of the\n",
    "ions all-together. This is known as the **Born-Oppenheimer**\n",
    "approximation."
   ]
  },
  {
   "cell_type": "markdown",
   "id": "b59426e1",
   "metadata": {
    "editable": true
   },
   "source": [
    "## Time-independent equation\n",
    "\n",
    "We then write the time-independent Schr\\\"{o}dinger\n",
    "equation for a collection of $N$ electrons subject to the\n",
    "electric potential created by the fixed ions, labeled $v_{\\mathrm{ext}}(\\boldsymbol{r})$,"
   ]
  },
  {
   "cell_type": "markdown",
   "id": "f7fe19d5",
   "metadata": {
    "editable": true
   },
   "source": [
    "$$\n",
    "\\left( \\sum_{i}^N \\left( - \\frac{\\hbar^2}{2m} \\frac{\\partial^2}{\\partial \\boldsymbol{r}_i^2}\n",
    "\t+ v_{\\mathrm{ext}}(\\boldsymbol{r}_i) \\right)\n",
    "\t + \\sum_{i<j}^N \\frac{e^2}{|\\boldsymbol{r}_i - \\boldsymbol{r}_j|} \\right) \\Psi(\\boldsymbol{r}) = E_0  \\Psi( \\boldsymbol{r} ),\n",
    "$$"
   ]
  },
  {
   "cell_type": "markdown",
   "id": "1577139b",
   "metadata": {
    "editable": true
   },
   "source": [
    "where $\\boldsymbol{r}_i$ are the positions of the electrons.\n",
    "\n",
    "We can replace the explicit Coulomb repulsion with a generic two-body interaction"
   ]
  },
  {
   "cell_type": "markdown",
   "id": "18fa24e8",
   "metadata": {
    "editable": true
   },
   "source": [
    "$$\n",
    "\\sum_{i}^N \\left( - \\frac{\\hbar^2}{2m} \\frac{\\partial^2}{\\partial \\boldsymbol{r}_i^2}\n",
    "\t+ v_{\\mathrm{ext}}(\\boldsymbol{r}_i) \\right)\n",
    "\t + \\sum_{i<j}^N v(r_{ij})( = E_0  \\Psi( \\boldsymbol{r} ),\n",
    "$$"
   ]
  },
  {
   "cell_type": "markdown",
   "id": "b3ee61aa",
   "metadata": {
    "editable": true
   },
   "source": [
    "where $r_{ij}=\\vert \\boldsymbol{r}_i-\\boldsymbol{r}_j\\vert$."
   ]
  },
  {
   "cell_type": "markdown",
   "id": "4402738c",
   "metadata": {
    "editable": true
   },
   "source": [
    "## Potential term\n",
    "The potential\n",
    "$v_{\\mathrm{ext}}(\\boldsymbol{r}_i)$ is created by the charged ions,"
   ]
  },
  {
   "cell_type": "markdown",
   "id": "b3129535",
   "metadata": {
    "editable": true
   },
   "source": [
    "$$\n",
    "v_{\\mathrm{ext}}(\\boldsymbol{r}_i) = - \\sum_j \\frac{e^2 Z_j}{| \\boldsymbol{r}_i - \\boldsymbol{R}_j|}\n",
    "$$"
   ]
  },
  {
   "cell_type": "markdown",
   "id": "2f9695df",
   "metadata": {
    "editable": true
   },
   "source": [
    "where $\\boldsymbol{R}$ is the (static) positions of the ions and $Z_j$ their\n",
    "charge."
   ]
  },
  {
   "cell_type": "markdown",
   "id": "85edc3e1",
   "metadata": {
    "editable": true
   },
   "source": [
    "## The one-body density\n",
    "The one-body reduced density matrix of a many-body system at zero\n",
    "temperature gives direct access to many observables, such as the charge density,\n",
    "kinetic energy and occupation numbers. In a coordinate representation it is defined as\n",
    "as the expectation value of the number operator"
   ]
  },
  {
   "cell_type": "markdown",
   "id": "ae933a89",
   "metadata": {
    "editable": true
   },
   "source": [
    "$$\n",
    "\\hat{n}(\\boldsymbol{r})=\\sum_{i=1}^N\\delta(\\boldsymbol{r}-\\boldsymbol{r}_i),\n",
    "$$"
   ]
  },
  {
   "cell_type": "markdown",
   "id": "ba91e147",
   "metadata": {
    "editable": true
   },
   "source": [
    "resulting in"
   ]
  },
  {
   "cell_type": "markdown",
   "id": "785d7475",
   "metadata": {
    "editable": true
   },
   "source": [
    "$$\n",
    "n(\\boldsymbol{r})=\\frac{\\langle \\Psi \\vert \\hat{n}(\\boldsymbol{r}) \\vert \\Psi \\rangle}{\\langle \\Psi\\vert \\Psi \\rangle}.\n",
    "$$"
   ]
  },
  {
   "cell_type": "markdown",
   "id": "4132acc7",
   "metadata": {
    "editable": true
   },
   "source": [
    "Here $\\Psi$ can be any state. In the equations that follow we assume it has been normalized properly."
   ]
  },
  {
   "cell_type": "markdown",
   "id": "e300fd3f",
   "metadata": {
    "editable": true
   },
   "source": [
    "## One-body density\n",
    "\n",
    "The one-body or just electronic density here, is thus obtained by integrating out all electron\n",
    "degrees of freedom except one, that is (setting $\\boldsymbol{r}=\\boldsymbol{r}_1$)"
   ]
  },
  {
   "cell_type": "markdown",
   "id": "91805c76",
   "metadata": {
    "editable": true
   },
   "source": [
    "$$\n",
    "n(\\boldsymbol{r})=n(\\boldsymbol{r}_1) = \\int d^3 \\boldsymbol{r}_2 \\cdots d^3 \\boldsymbol{r}_N\n",
    "\t\t\\left| \\Psi (\\boldsymbol{r}_1 \\cdots \\boldsymbol{r}_n) \\right|^2.\n",
    "$$"
   ]
  },
  {
   "cell_type": "markdown",
   "id": "18376e03",
   "metadata": {
    "editable": true
   },
   "source": [
    "If $\\Psi$ is a single reference Slater determinant defined in terms of the single-particle functions $\\psi_i$, then we have"
   ]
  },
  {
   "cell_type": "markdown",
   "id": "265f9b66",
   "metadata": {
    "editable": true
   },
   "source": [
    "$$\n",
    "n(\\boldsymbol{r})=\\sum_{i=1}^N\\vert \\psi_i(\\boldsymbol{r})\\vert^2,\n",
    "$$"
   ]
  },
  {
   "cell_type": "markdown",
   "id": "b1754f74",
   "metadata": {
    "editable": true
   },
   "source": [
    "as derived earlier."
   ]
  },
  {
   "cell_type": "markdown",
   "id": "791e152c",
   "metadata": {
    "editable": true
   },
   "source": [
    "## Energy as function of the density\n",
    "\n",
    "Text to come here."
   ]
  },
  {
   "cell_type": "markdown",
   "id": "bae951bd",
   "metadata": {
    "editable": true
   },
   "source": [
    "## Hohenberg-Kohn theory\n",
    "\n",
    "Assume we found a solution for the Hamiltonian from the Born-Oppenheimer approximation, with\n",
    "ground state energy $E_0$ and a certain electronic density\n",
    "$n(\\boldsymbol{r})$. The strength of the Coulomb interaction and the mass of an\n",
    "electron are constants of nature, so the only input that can possibly\n",
    "influence the electronic density $n(\\boldsymbol{r})$ and the energy $E_0$ of our\n",
    "ground state is our choice of potential $v_{\\mathrm{ext}}(\\boldsymbol{r})$. In other words, the\n",
    "ground state energy is a {\\em functional} of the input potential,"
   ]
  },
  {
   "cell_type": "markdown",
   "id": "b3540533",
   "metadata": {
    "editable": true
   },
   "source": [
    "$$\n",
    "E_0 [v_{\\mathrm{ext}}(\\boldsymbol{r})] = \\mathcal{F}_E[ v_{\\mathrm{ext}}(\\boldsymbol{r}) ]\n",
    "$$"
   ]
  },
  {
   "cell_type": "markdown",
   "id": "9145ac70",
   "metadata": {
    "editable": true
   },
   "source": [
    "## Energy functional\n",
    "A functional is nothing else than a function whose input is another\n",
    "function; in this case the functional $\\mathcal{F}$ takes as input the\n",
    "electric potential generated by the ions and outputs the ground state\n",
    "energy based on thr Born-Oppenheimer approximation.\n",
    "\n",
    "At first this results seems counterintuitive. After all, the ground\n",
    "state energy clearly contains the kinetic energy $T$, the interaction\n",
    "energy $U$ and the potential energy. Only the latter term \n",
    "explicitly depends on the potential. We can thus write the ground\n",
    "state energy in terms of a separate functional for the kinetic and\n",
    "interaction energy, and the potential energy"
   ]
  },
  {
   "cell_type": "markdown",
   "id": "d56946fd",
   "metadata": {
    "editable": true
   },
   "source": [
    "## How to find the functional\n",
    "Knowing this functional, for any given potential $V(\\boldsymbol{r})$ we minimize\n",
    "the right hand side by checking all possible electronic density\n",
    "distributions.\n",
    "\n",
    "There are only two minor problems. We don't know what this functional\n",
    "looks like. And even if we did, we don't know how to find the right\n",
    "electronic density."
   ]
  },
  {
   "cell_type": "markdown",
   "id": "a9782951",
   "metadata": {
    "editable": true
   },
   "source": [
    "## Approximating the functional\n",
    "\n",
    "The unknown functional $\\mathcal{F}[n(\\boldsymbol{r})]$ should describe the\n",
    "kinetic and interaction energy of a system described by\n",
    "for example the Born-Oppenheimer approximation. Even though we cannot find its exact\n",
    "shape, we can look at its shape in some limiting cases that we can\n",
    "solve.\n",
    "\n",
    "We know that a free homogeneous electron gas (HEG) with density $n$ has a\n",
    "ground state energy of"
   ]
  },
  {
   "cell_type": "markdown",
   "id": "f561e5be",
   "metadata": {
    "editable": true
   },
   "source": [
    "$$\n",
    "E_0 = \\frac{3 \\hbar^2 \\left( 3 \\pi^2 \\right)^{2/3}}{10 m} n_0^{5/3}.\n",
    "$$"
   ]
  },
  {
   "cell_type": "markdown",
   "id": "c4ef72f2",
   "metadata": {
    "editable": true
   },
   "source": [
    "## Using the results from the HEG\n",
    "\n",
    "For a slowly varying electronic density, we can approximate the\n",
    "kinetic energy contribution to the full functional\n",
    "$\\mathcal{F}[n(\\boldsymbol{r})]$ as the energy evaluated\n",
    "at each point separately,"
   ]
  },
  {
   "cell_type": "markdown",
   "id": "deaf4c95",
   "metadata": {
    "editable": true
   },
   "source": [
    "$$\n",
    "\\mathcal{T}_0 [n(\\boldsymbol{r})] =\n",
    "\t \\frac{3 \\hbar^2 \\left( 3 \\pi^2 \\right)^{2/3}}{10 m} \\int  d^3\\boldsymbol{r} ( n(\\boldsymbol{r}) )^{5/3}.\n",
    "$$"
   ]
  },
  {
   "cell_type": "markdown",
   "id": "937e7002",
   "metadata": {
    "editable": true
   },
   "source": [
    "## Hartree term to the energy\n",
    "\n",
    "We have also earlier derived that the simplest \n",
    "energy contribution from Coulomb interactions is given by the Hartree\n",
    "term"
   ]
  },
  {
   "cell_type": "markdown",
   "id": "05e3b0c8",
   "metadata": {
    "editable": true
   },
   "source": [
    "$$\n",
    "\\mathcal{U}_{\\mathrm{H}} [n(\\boldsymbol{r})] = \n",
    "\t\t\\frac{e^2}{2} \\int d^3\\boldsymbol{r} d^3\\boldsymbol{r}' \\, \\frac{n(\\boldsymbol{r}) n(\\boldsymbol{r}')}{|\\boldsymbol{r} - \\boldsymbol{r}'|}.\n",
    "$$"
   ]
  },
  {
   "cell_type": "markdown",
   "id": "961377e7",
   "metadata": {
    "editable": true
   },
   "source": [
    "## Final functional\n",
    "\n",
    "It is natural to write out the full functional as containing the\n",
    "homogeneous electron gas term and the Hartree term. The remaining\n",
    "terms, though still unknown, should be small. This unknown part is\n",
    "conventionally called the {\\em exchange-correlation potential}\n",
    "$E_{xc}[n(\\boldsymbol{r})]$. The full Hohenberg-Kohn functional, including the\n",
    "potential energy, is thus"
   ]
  },
  {
   "cell_type": "markdown",
   "id": "3f7cf605",
   "metadata": {
    "editable": true
   },
   "source": [
    "$$\n",
    "\\mathcal{E}_{\\mathrm{HK}}[n(\\boldsymbol{r})] = \n",
    "\t\t\\mathcal{T}_0 [n(\\boldsymbol{r})]\n",
    "\t\t + \\int d^3 \\boldsymbol{r} v_{\\mathrm{ext}}(r) n(\\boldsymbol{r})\n",
    "\t\t + \\mathcal{U}_{\\mathrm{H}} [n(\\boldsymbol{r})]\n",
    "\t\t + E_{xc} [ n(\\boldsymbol{r})].\n",
    "$$"
   ]
  },
  {
   "cell_type": "markdown",
   "id": "085eb309",
   "metadata": {
    "editable": true
   },
   "source": [
    "## Kohn-Sham equation\n",
    "\n",
    "We replaced an intractable problem with the task of minimizing an unknown\n",
    "functional $\\mathcal{F}[n(\\boldsymbol{r})]$ over infinitely many possible\n",
    "electronic densities $n(\\boldsymbol{r})$. In the previous section we already gave\n",
    "some first suggestions for the functional. But once we found it, how\n",
    "to find the right electronic density $n(\\boldsymbol{r})$?\n",
    "\n",
    "Because the correct density minimizes the functional, we can find the\n",
    "functional by setting it's derivative to zero,"
   ]
  },
  {
   "cell_type": "markdown",
   "id": "9fcba46b",
   "metadata": {
    "editable": true
   },
   "source": [
    "$$\n",
    "\\frac{\\delta \\mathcal{F}[n(\\boldsymbol{r})] }{\\delta n(\\boldsymbol{r})} = 0.\n",
    "$$"
   ]
  },
  {
   "cell_type": "markdown",
   "id": "caa9c815",
   "metadata": {
    "editable": true
   },
   "source": [
    "## Kohn-Sham equations\n",
    "Using the functional Eq(insert), we write\n",
    "out\n",
    "\n",
    "<!-- \\footnote{There is a small subtlety included in this equation: the -->\n",
    "<!-- kinetic component of the functional $\\mathcal{T} [n(\\boldsymbol{r})]$ should not -->\n",
    "<!-- be the one obtained for the free homogeneous noninteracting electron -->\n",
    "<!-- gas, but the one for a noninteracting gas subject -->\n",
    "<!-- to the Kohn-Sham potential.} -->"
   ]
  },
  {
   "cell_type": "markdown",
   "id": "091edeba",
   "metadata": {
    "editable": true
   },
   "source": [
    "$$\n",
    "\\frac{\\delta \\mathcal{T}[n(\\boldsymbol{r})] }{\\delta n(\\boldsymbol{r})}\n",
    "\t+ v_{\\mathrm{ext}}(\\boldsymbol{r})\n",
    "\t+ \\int \\frac{n(\\boldsymbol{r}')}{|\\boldsymbol{r}-\\boldsymbol{r}'|}d^3 \\boldsymbol{r}'\n",
    "\t+ \\frac{\\delta E_{xc} [n(\\boldsymbol{r})] }{\\delta n(\\boldsymbol{r})}\n",
    "\t=0.\n",
    "$$"
   ]
  },
  {
   "cell_type": "markdown",
   "id": "272fd04d",
   "metadata": {
    "editable": true
   },
   "source": [
    "## The equations\n",
    "The idea of Kohn and Sham was to treat this as if it\n",
    "is a single-particle problem. The first term represents the\n",
    "kinetic energy, and the remaining terms form the Kohn-Sham potential"
   ]
  },
  {
   "cell_type": "markdown",
   "id": "e107d5f4",
   "metadata": {
    "editable": true
   },
   "source": [
    "$$\n",
    "V_{\\mathrm{KS}}(\\boldsymbol{r}) = V(\\boldsymbol{r})\n",
    "\t+ \\int \\frac{n(\\boldsymbol{r}')}{|\\boldsymbol{r}-\\boldsymbol{r}'|}d^3 \\boldsymbol{r}'\n",
    "\t+ \\frac{\\delta E_{xc} [n(\\boldsymbol{r})] }{\\delta n(\\boldsymbol{r})}.\n",
    "$$"
   ]
  },
  {
   "cell_type": "markdown",
   "id": "0f157d9a",
   "metadata": {
    "editable": true
   },
   "source": [
    "The Kohn-Sham equation is the single-particle Schr\\\"{o}dinger\n",
    "equation with the potential given by the last equation,"
   ]
  },
  {
   "cell_type": "markdown",
   "id": "b56f93cb",
   "metadata": {
    "editable": true
   },
   "source": [
    "$$\n",
    "\\left( - \\frac{\\hbar^2}{2m} \\frac{\\partial^2}{\\partial \\boldsymbol{r}^2} + V_{\\mathrm{KS}}(\\boldsymbol{r}) \\right) \\psi_i(\\boldsymbol{r}) = \\epsilon_i \\psi_i (\\boldsymbol{r}).\n",
    "$$"
   ]
  },
  {
   "cell_type": "markdown",
   "id": "6ab6f809",
   "metadata": {
    "editable": true
   },
   "source": [
    "## Numerical solution\n",
    "\n",
    "The Kohn-Sham equations have to be solved numerically. As with our\n",
    "discussions of Hartree-Fock theory, this is tractable because the\n",
    "equations are just given by a set of coupled differential\n",
    "equation. The electronic density is obtained by occupying the $N$\n",
    "solutions $\\psi_i(\\boldsymbol{r})$ with the lowest energy,"
   ]
  },
  {
   "cell_type": "markdown",
   "id": "0cc3a8b5",
   "metadata": {
    "editable": true
   },
   "source": [
    "$$\n",
    "n(\\boldsymbol{r}) = \\sum_{i=1}^N |\\psi_i (\\boldsymbol{r}) |^2.\n",
    "$$"
   ]
  },
  {
   "cell_type": "markdown",
   "id": "3a7e95fa",
   "metadata": {
    "editable": true
   },
   "source": [
    "Now the electronic density obtained this way can be used to calculate\n",
    "a new Kohn-Sham potential. We\n",
    "continue this iterative procedure until we reach convergence."
   ]
  }
 ],
 "metadata": {},
 "nbformat": 4,
 "nbformat_minor": 5
}
