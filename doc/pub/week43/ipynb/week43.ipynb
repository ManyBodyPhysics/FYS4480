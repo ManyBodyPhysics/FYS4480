{
 "cells": [
  {
   "cell_type": "markdown",
   "id": "4025ca55",
   "metadata": {
    "editable": true
   },
   "source": [
    "<!-- HTML file automatically generated from DocOnce source (https://github.com/doconce/doconce/)\n",
    "doconce format html week43.do.txt --no_mako -->\n",
    "<!-- dom:TITLE: Week 43: Density Functional Theory and start Many-body Perturbation Theory -->"
   ]
  },
  {
   "cell_type": "markdown",
   "id": "3410964c",
   "metadata": {
    "editable": true
   },
   "source": [
    "# Week 43: Density Functional Theory and start Many-body Perturbation Theory\n",
    "**Morten Hjorth-Jensen**, Department of Physics and Center for Computing in Science Education, University of Oslo, Norway\n",
    "\n",
    "Date: **Week 43, October 20-24**"
   ]
  },
  {
   "cell_type": "markdown",
   "id": "44578424",
   "metadata": {
    "editable": true
   },
   "source": [
    "## Week 43, October 20-24, 2025\n",
    "**Thursday:**\n",
    "\n",
    "1. Density functional theory, the Hohenberg-Kohn theorems\n",
    "\n",
    "2. Kohn-Sham equations\n",
    "\n",
    "3. Video of lecture at <https://youtu.be/ak2FQZf-Id4>\n",
    "\n",
    "4. Whiteboard notes at <https://github.com/ManyBodyPhysics/FYS4480/blob/master/doc/HandwrittenNotes/2025/FYS4480October23.pdf>\n",
    "\n",
    "**Friday:**\n",
    "\n",
    "1. Kohn-Sham equations and the local density approximation and links with Hartree-Fock theory\n",
    "\n",
    "2. Start many-body perturbation theory\n",
    "\n",
    "3. Linking FCI and Hartree-Fock theory with many-body perturbation theory\n",
    "<!-- o Video of lecture at <https://youtu.be/gd7MUszzgxQ> -->\n",
    "<!-- o Whiteboard notes at <https://github.com/ManyBodyPhysics/FYS4480/blob/master/doc/HandwrittenNotes/2024/NotesOctober25.pdf> -->\n",
    "\n",
    "**Note:** No exercises this week."
   ]
  },
  {
   "cell_type": "markdown",
   "id": "72b34fca",
   "metadata": {
    "editable": true
   },
   "source": [
    "## Density Functional Theory (DFT)\n",
    "\n",
    "Hohenberg and Kohn proved that the total energy of a system including that of the many-body \n",
    "effects of electrons (exchange and correlation) in the presence of static external potential (for example, the atomic nuclei) \n",
    "is a unique functional of the charge density. The minimum value of the total energy functional \n",
    "is the ground state energy of the system. The electronic charge density which yields this \n",
    "minimum is then the exact single particle ground state energy.\n",
    "\n",
    "In Hartree-Fock theory  one works with large basis sets. This\n",
    "poses a problem for large systems. An alternative to the HF methods is\n",
    "DFT. DFT  takes into \n",
    "account electron correlations but is less demanding computationally\n",
    "than full scale diagonalization, Coupled Cluster theory or say Monte Carlo methods."
   ]
  },
  {
   "cell_type": "markdown",
   "id": "c8f801ae",
   "metadata": {
    "editable": true
   },
   "source": [
    "## The many-particle equation\n",
    "\n",
    "Any material on earth, whether in crystals, amorphous solids,\n",
    "molecules or yourself, consists of nothing else than a bunch of atoms,\n",
    "ions and electrons bound together by electric forces. All these\n",
    "possible forms of matter can be explained by virtue of one simple\n",
    "equation: the many-particle Schr\\\"{o}dinger equation,"
   ]
  },
  {
   "cell_type": "markdown",
   "id": "f77b9a21",
   "metadata": {
    "editable": true
   },
   "source": [
    "<!-- Equation labels as ordinary links -->\n",
    "<div id=\"_auto1\"></div>\n",
    "\n",
    "$$\n",
    "\\begin{equation}\n",
    "\ti \\hbar \\frac{\\partial}{\\partial t} \\Phi( \\boldsymbol{r} ; t) = \n",
    "\t\\left( - \\sum_{i}^N \\frac{\\hbar^2}{2m_i} \\frac{\\partial^2}{\\partial \\boldsymbol{r}_i^2}\n",
    "\t+ \\sum_{i<j}^N \\frac{e^2 Z_i Z_j }{ | \\boldsymbol{r}_i - \\boldsymbol{r}_j| } \\right)  \\Phi( \\boldsymbol{r} ; t).\n",
    "\\label{_auto1} \\tag{1}\n",
    "\\end{equation}\n",
    "$$"
   ]
  },
  {
   "cell_type": "markdown",
   "id": "3967ea2f",
   "metadata": {
    "editable": true
   },
   "source": [
    "Here $\\Phi(\\boldsymbol{r} ; t)$ is the many-body wavefunction for $N$ particles, where each particle has its own mass $m_i$, charge $Z_i$ and position $\\boldsymbol{r}_i$. The only interaction is the Coulomb interaction $e^2/r$."
   ]
  },
  {
   "cell_type": "markdown",
   "id": "2eb790f9",
   "metadata": {
    "editable": true
   },
   "source": [
    "## Born-Oppenheimer approximation\n",
    "\n",
    "In atomic and molecular physics, materials science and quantum chemsitry, the Born-Oppenheimer  approximation arises from the physical problem we want to\n",
    "study: the ground state of a collection of interacting ions and\n",
    "electrons. Because even the lightest ion is more than a thousand times\n",
    "heavier than an electron, we approximate our Hamiltonian  to not include  the dynamics of the\n",
    "ions all-together. This is known as the **Born-Oppenheimer**\n",
    "approximation."
   ]
  },
  {
   "cell_type": "markdown",
   "id": "20d4317c",
   "metadata": {
    "editable": true
   },
   "source": [
    "## Time-independent equation\n",
    "\n",
    "We then write the time-independent Schr\\\"{o}dinger\n",
    "equation for a collection of $N$ electrons subject to the\n",
    "electric potential created by the fixed ions, labeled $v_{\\mathrm{ext}}(\\boldsymbol{r})$,"
   ]
  },
  {
   "cell_type": "markdown",
   "id": "41d8864f",
   "metadata": {
    "editable": true
   },
   "source": [
    "$$\n",
    "\\left( \\sum_{i}^N \\left( - \\frac{\\hbar^2}{2m} \\frac{\\partial^2}{\\partial \\boldsymbol{r}_i^2}\n",
    "\t+ v_{\\mathrm{ext}}(\\boldsymbol{r}_i) \\right)\n",
    "\t + \\sum_{i<j}^N \\frac{e^2}{|\\boldsymbol{r}_i - \\boldsymbol{r}_j|} \\right) \\Psi(\\boldsymbol{r}) = E_0  \\Psi( \\boldsymbol{r} ),\n",
    "$$"
   ]
  },
  {
   "cell_type": "markdown",
   "id": "4c8e36d2",
   "metadata": {
    "editable": true
   },
   "source": [
    "where $\\boldsymbol{r}_i$ are the positions of the electrons.\n",
    "\n",
    "We can replace the explicit Coulomb repulsion with a generic two-body interaction"
   ]
  },
  {
   "cell_type": "markdown",
   "id": "85540de7",
   "metadata": {
    "editable": true
   },
   "source": [
    "$$\n",
    "\\sum_{i}^N \\left( - \\frac{\\hbar^2}{2m} \\frac{\\partial^2}{\\partial \\boldsymbol{r}_i^2}\n",
    "\t+ v_{\\mathrm{ext}}(\\boldsymbol{r}_i) \\right)\n",
    "\t + \\sum_{i<j}^N v(r_{ij}) = E_0  \\Psi( \\boldsymbol{r} ),\n",
    "$$"
   ]
  },
  {
   "cell_type": "markdown",
   "id": "d34efa3f",
   "metadata": {
    "editable": true
   },
   "source": [
    "where $r_{ij}=\\vert \\boldsymbol{r}_i-\\boldsymbol{r}_j\\vert$."
   ]
  },
  {
   "cell_type": "markdown",
   "id": "24c84141",
   "metadata": {
    "editable": true
   },
   "source": [
    "## Potential term\n",
    "The potential\n",
    "$v_{\\mathrm{ext}}(\\boldsymbol{r}_i)$ is created by the charged ions,"
   ]
  },
  {
   "cell_type": "markdown",
   "id": "c07ad71e",
   "metadata": {
    "editable": true
   },
   "source": [
    "$$\n",
    "v_{\\mathrm{ext}}(\\boldsymbol{r}_i) = - \\sum_j \\frac{e^2 Z_j}{| \\boldsymbol{r}_i - \\boldsymbol{R}_j|}\n",
    "$$"
   ]
  },
  {
   "cell_type": "markdown",
   "id": "3246f944",
   "metadata": {
    "editable": true
   },
   "source": [
    "where $\\boldsymbol{R}$ is the (static) positions of the ions and $Z_j$ their\n",
    "charge."
   ]
  },
  {
   "cell_type": "markdown",
   "id": "bfef85c2",
   "metadata": {
    "editable": true
   },
   "source": [
    "## The one-body density\n",
    "\n",
    "The one-body reduced density matrix of a many-body system at zero\n",
    "temperature gives direct access to many observables, such as the charge density,\n",
    "kinetic energy and occupation numbers. In a coordinate representation it is defined as\n",
    "as the expectation value of the number operator"
   ]
  },
  {
   "cell_type": "markdown",
   "id": "4c0ab64c",
   "metadata": {
    "editable": true
   },
   "source": [
    "$$\n",
    "\\hat{n}(\\boldsymbol{r})=\\sum_{i=1}^N\\delta(\\boldsymbol{r}-\\boldsymbol{r}_i),\n",
    "$$"
   ]
  },
  {
   "cell_type": "markdown",
   "id": "540ccc03",
   "metadata": {
    "editable": true
   },
   "source": [
    "resulting in"
   ]
  },
  {
   "cell_type": "markdown",
   "id": "d7234da0",
   "metadata": {
    "editable": true
   },
   "source": [
    "$$\n",
    "n(\\boldsymbol{r})=\\frac{\\langle \\Psi \\vert \\hat{n}(\\boldsymbol{r}) \\vert \\Psi \\rangle}{\\langle \\Psi\\vert \\Psi \\rangle}.\n",
    "$$"
   ]
  },
  {
   "cell_type": "markdown",
   "id": "d389f9e8",
   "metadata": {
    "editable": true
   },
   "source": [
    "Here $\\Psi$ can be any state. In the equations that follow we assume it has been normalized properly."
   ]
  },
  {
   "cell_type": "markdown",
   "id": "acb4c60e",
   "metadata": {
    "editable": true
   },
   "source": [
    "## One-body density\n",
    "\n",
    "The one-body or just electronic density here, is thus obtained by integrating out all electron\n",
    "degrees of freedom except one, that is (setting $\\boldsymbol{r}=\\boldsymbol{r}_1$)"
   ]
  },
  {
   "cell_type": "markdown",
   "id": "2bf0b550",
   "metadata": {
    "editable": true
   },
   "source": [
    "$$\n",
    "n(\\boldsymbol{r})=n(\\boldsymbol{r}_1) = \\int d^3 \\boldsymbol{r}_2 \\cdots d^3 \\boldsymbol{r}_N\n",
    "\t\t\\left| \\Psi (\\boldsymbol{r}_1 \\cdots \\boldsymbol{r}_n) \\right|^2.\n",
    "$$"
   ]
  },
  {
   "cell_type": "markdown",
   "id": "93f85317",
   "metadata": {
    "editable": true
   },
   "source": [
    "If $\\Psi$ is a single reference Slater determinant defined in terms of the single-particle functions $\\psi_i$, then we have"
   ]
  },
  {
   "cell_type": "markdown",
   "id": "e48e25a8",
   "metadata": {
    "editable": true
   },
   "source": [
    "$$\n",
    "n(\\boldsymbol{r})=\\sum_{i=1}^N\\vert \\psi_i(\\boldsymbol{r})\\vert^2,\n",
    "$$"
   ]
  },
  {
   "cell_type": "markdown",
   "id": "413be3e0",
   "metadata": {
    "editable": true
   },
   "source": [
    "as derived earlier."
   ]
  },
  {
   "cell_type": "markdown",
   "id": "df1a9fc5",
   "metadata": {
    "editable": true
   },
   "source": [
    "## More on the one-body density\n",
    "\n",
    "As defined above, \n",
    "the one-body density in coordinate space is defined as"
   ]
  },
  {
   "cell_type": "markdown",
   "id": "10f03739",
   "metadata": {
    "editable": true
   },
   "source": [
    "$$\n",
    "\\rho({\\bf r}) = \\sum_{i=1}^N \\delta({\\bf r}-{\\bf r}_i).\n",
    "$$"
   ]
  },
  {
   "cell_type": "markdown",
   "id": "7a3c682a",
   "metadata": {
    "editable": true
   },
   "source": [
    "In second quantization this becomes"
   ]
  },
  {
   "cell_type": "markdown",
   "id": "26725254",
   "metadata": {
    "editable": true
   },
   "source": [
    "$$\n",
    "\\hat{\\rho}({\\bf r}) = \\sum_{\\alpha\\beta}^{\\infty}\\rho_{\\alpha,\\beta}({\\bf r}) a^{\\dagger}_{\\alpha}a_{\\beta}.\n",
    "$$"
   ]
  },
  {
   "cell_type": "markdown",
   "id": "ab30cc36",
   "metadata": {
    "editable": true
   },
   "source": [
    "where"
   ]
  },
  {
   "cell_type": "markdown",
   "id": "066b6658",
   "metadata": {
    "editable": true
   },
   "source": [
    "$$\n",
    "\\rho_{\\alpha,\\beta}({\\bf r})= \\psi^*_{\\alpha}({\\bf r})\\psi_{\\beta}({\\bf r}).\n",
    "$$"
   ]
  },
  {
   "cell_type": "markdown",
   "id": "1704c9eb",
   "metadata": {
    "editable": true
   },
   "source": [
    "## Number of particles\n",
    "\n",
    "The number of particles is $N$ and the integral of the expectation value of the one-body density operator should give you $N$ particles. \n",
    "With an appropriate similarity transformation we can make this operator diagonal in the single-particle basis $\\psi_{\\alpha}$. \n",
    "That is"
   ]
  },
  {
   "cell_type": "markdown",
   "id": "de92691c",
   "metadata": {
    "editable": true
   },
   "source": [
    "$$\n",
    "\\hat{\\rho}({\\bf r}) = \\sum_{\\alpha=1}^{\\infty} |\\psi_{\\alpha}({\\bf r})|^2a^{\\dagger}_{\\alpha}a_{\\alpha}=\n",
    "\\hat{\\rho}({\\bf r}) = \\sum_{\\alpha=1}^{\\infty}\\rho_{\\alpha\\alpha}({\\bf r}) a^{\\dagger}_{\\alpha}a_{\\alpha}.\n",
    "$$"
   ]
  },
  {
   "cell_type": "markdown",
   "id": "31f28417",
   "metadata": {
    "editable": true
   },
   "source": [
    "## Ground state function\n",
    "\n",
    "The ground state wave function $|\\Psi_0\\rangle$ is a linear combination of all $D$ possible Slater determinants \n",
    "$|\\Phi_i\\rangle$"
   ]
  },
  {
   "cell_type": "markdown",
   "id": "082d43c2",
   "metadata": {
    "editable": true
   },
   "source": [
    "$$\n",
    "|\\Psi_0\\rangle=\\sum_{i=1}^DC_{0i}|\\Phi_i\\rangle,\n",
    "$$"
   ]
  },
  {
   "cell_type": "markdown",
   "id": "2b20c686",
   "metadata": {
    "editable": true
   },
   "source": [
    "where the  coefficients $C_{0i}$ could arise from an FCI calculation using a given Slater determinant basis"
   ]
  },
  {
   "cell_type": "markdown",
   "id": "9c7c3520",
   "metadata": {
    "editable": true
   },
   "source": [
    "$$\n",
    "|\\Phi_i\\rangle = a^{\\dagger}_1a^{\\dagger}_2\\dots a^{\\dagger}_N |0\\rangle.\n",
    "$$"
   ]
  },
  {
   "cell_type": "markdown",
   "id": "0dca1b4d",
   "metadata": {
    "editable": true
   },
   "source": [
    "## Ground state expectation value\n",
    "\n",
    "The ground state expectation value of the one-body density operator is"
   ]
  },
  {
   "cell_type": "markdown",
   "id": "a39ce2db",
   "metadata": {
    "editable": true
   },
   "source": [
    "$$\n",
    "\\langle\\hat{\\rho}({\\bf r})\\rangle = \\langle \\Psi_0|\\sum_{\\alpha=1}^{\\infty} \\rho_{\\alpha,\\alpha}({\\bf r})a^{\\dagger}_{\\alpha}a_{\\alpha}|\\Psi_0\\rangle,\n",
    "$$"
   ]
  },
  {
   "cell_type": "markdown",
   "id": "b98fe709",
   "metadata": {
    "editable": true
   },
   "source": [
    "which translates into"
   ]
  },
  {
   "cell_type": "markdown",
   "id": "b0a1000e",
   "metadata": {
    "editable": true
   },
   "source": [
    "$$\n",
    "\\langle\\hat{\\rho}({\\bf r})\\rangle = \\sum_{ij=1}^DC^*_{0i}C_{0j}\\langle \\Phi_i|\\sum_{\\alpha=1}^{\\infty} \\rho_{\\alpha,\\alpha}({\\bf r})a^{\\dagger}_{\\alpha}a_{\\alpha}|\\Phi_j\\rangle.\n",
    "$$"
   ]
  },
  {
   "cell_type": "markdown",
   "id": "52fa5104",
   "metadata": {
    "editable": true
   },
   "source": [
    "Integrating"
   ]
  },
  {
   "cell_type": "markdown",
   "id": "a4707d29",
   "metadata": {
    "editable": true
   },
   "source": [
    "$$\n",
    "\\int \\langle\\hat{\\rho}({\\bf r})\\rangle d {\\bf r},\n",
    "$$"
   ]
  },
  {
   "cell_type": "markdown",
   "id": "27197721",
   "metadata": {
    "editable": true
   },
   "source": [
    "gives us $N$, the number of particles!"
   ]
  },
  {
   "cell_type": "markdown",
   "id": "7dd030e0",
   "metadata": {
    "editable": true
   },
   "source": [
    "## Changing notation\n",
    "\n",
    "In order to simplify our notations we will define"
   ]
  },
  {
   "cell_type": "markdown",
   "id": "d5532a50",
   "metadata": {
    "editable": true
   },
   "source": [
    "$$\n",
    "n({\\bf r})=\\langle\\hat{\\rho}({\\bf r})\\rangle,\n",
    "$$"
   ]
  },
  {
   "cell_type": "markdown",
   "id": "53e9cdc8",
   "metadata": {
    "editable": true
   },
   "source": [
    "which is the notation we used last week for the onebody density."
   ]
  },
  {
   "cell_type": "markdown",
   "id": "8f64e2e5",
   "metadata": {
    "editable": true
   },
   "source": [
    "## Density Functional Theory, definitions, twobody density\n",
    "\n",
    "The two-body densities is a simple extension of the one-body density"
   ]
  },
  {
   "cell_type": "markdown",
   "id": "cbf74dbb",
   "metadata": {
    "editable": true
   },
   "source": [
    "$$\n",
    "\\rho({\\bf r}_1, {\\bf r}_2) = \\sum_{ij=1}^N \\delta({\\bf r}_1-{\\bf r}_i)\\delta({\\bf r}_2-{\\bf r}_j),\n",
    "$$"
   ]
  },
  {
   "cell_type": "markdown",
   "id": "916f03f8",
   "metadata": {
    "editable": true
   },
   "source": [
    "which in second quantization becomes"
   ]
  },
  {
   "cell_type": "markdown",
   "id": "b5c2be33",
   "metadata": {
    "editable": true
   },
   "source": [
    "$$\n",
    "\\hat{\\rho}({\\bf r}_1, {\\bf r}_2) = \\sum_{\\alpha\\beta\\gamma\\delta}^{\\infty}\\rho_{\\alpha,\\gamma}({\\bf r}_1)\\rho_{\\beta,\\delta}({\\bf r}_2)a^{\\dagger}_{\\alpha}a^{\\dagger}_{\\beta}a_{\\delta}a_{\\gamma},\n",
    "$$"
   ]
  },
  {
   "cell_type": "markdown",
   "id": "f3afd390",
   "metadata": {
    "editable": true
   },
   "source": [
    "meaning that the ground-state two-body density is"
   ]
  },
  {
   "cell_type": "markdown",
   "id": "b5ac9ac0",
   "metadata": {
    "editable": true
   },
   "source": [
    "$$\n",
    "\\langle\\hat{\\rho}({\\bf r}_1, {\\bf r}_2) \\rangle = \\sum_{ij=1}^DC^*_{0i}C_{0j}\\langle \\Phi_i|\\sum_{\\alpha\\beta\\gamma\\delta}^{\\infty}\\rho_{\\alpha,\\gamma}({\\bf r}_1)\\rho_{\\beta,\\delta}({\\bf r}_2)a^{\\dagger}_{\\alpha}a^{\\dagger}_{\\beta}a_{\\delta}a_{\\gamma}  |\\Phi_j\\rangle.\n",
    "$$"
   ]
  },
  {
   "cell_type": "markdown",
   "id": "1e072d7a",
   "metadata": {
    "editable": true
   },
   "source": [
    "## Hartree-Fock equations and density matrix\n",
    "\n",
    "The Hartree-Fock algorithm can be broken down as follows. We recall that  our Hartree-Fock matrix  is"
   ]
  },
  {
   "cell_type": "markdown",
   "id": "e800e3d3",
   "metadata": {
    "editable": true
   },
   "source": [
    "$$\n",
    "\\hat{h}_{\\alpha\\beta}^{HF}=\\langle \\alpha \\vert\\hat{h}_0 \\vert \\beta \\rangle+\n",
    "\\sum_{j=1}^N\\sum_{\\gamma\\delta} C^*_{j\\gamma}C_{j\\delta}\\langle \\alpha\\gamma|V|\\beta\\delta\\rangle_{AS}.\n",
    "$$"
   ]
  },
  {
   "cell_type": "markdown",
   "id": "6a6e744a",
   "metadata": {
    "editable": true
   },
   "source": [
    "Normally we assume that the single-particle basis $\\vert\\beta\\rangle$\n",
    "forms an eigenbasis for the operator $\\hat{h}_0$, meaning that the\n",
    "Hartree-Fock matrix becomes"
   ]
  },
  {
   "cell_type": "markdown",
   "id": "6b0ceb7e",
   "metadata": {
    "editable": true
   },
   "source": [
    "$$\n",
    "\\hat{h}_{\\alpha\\beta}^{HF}=\\epsilon_{\\alpha}\\delta_{\\alpha,\\beta}+\n",
    "\\sum_{j=1}^N\\sum_{\\gamma\\delta} C^*_{j\\gamma}C_{j\\delta}\\langle \\alpha\\gamma|V|\\beta\\delta\\rangle_{AS}.\n",
    "$$"
   ]
  },
  {
   "cell_type": "markdown",
   "id": "490fc1ab",
   "metadata": {
    "editable": true
   },
   "source": [
    "## Hartree-Fock equations and density matrix\n",
    "\n",
    "The Hartree-Fock eigenvalue problem"
   ]
  },
  {
   "cell_type": "markdown",
   "id": "116b6fc0",
   "metadata": {
    "editable": true
   },
   "source": [
    "$$\n",
    "\\sum_{\\beta}\\hat{h}_{\\alpha\\beta}^{HF}C_{i\\beta}=\\epsilon_i^{\\mathrm{HF}}C_{i\\alpha},\n",
    "$$"
   ]
  },
  {
   "cell_type": "markdown",
   "id": "f1e50aa7",
   "metadata": {
    "editable": true
   },
   "source": [
    "can be written out in a more compact form as"
   ]
  },
  {
   "cell_type": "markdown",
   "id": "b2f3888f",
   "metadata": {
    "editable": true
   },
   "source": [
    "$$\n",
    "\\hat{h}^{HF}\\hat{C}=\\epsilon^{\\mathrm{HF}}\\hat{C}.\n",
    "$$"
   ]
  },
  {
   "cell_type": "markdown",
   "id": "15d7f7a2",
   "metadata": {
    "editable": true
   },
   "source": [
    "## Hartree-Fock equations and density matrix\n",
    "\n",
    "The equations are often rewritten in terms of a so-called density matrix,\n",
    "which is defined as"
   ]
  },
  {
   "cell_type": "markdown",
   "id": "f48ec580",
   "metadata": {
    "editable": true
   },
   "source": [
    "$$\n",
    "\\rho_{\\gamma\\delta}=\\sum_{i=1}^{N}\\langle\\gamma|i\\rangle\\langle i|\\delta\\rangle = \\sum_{i=1}^{N}C_{i\\gamma}C^*_{i\\delta}.\n",
    "$$"
   ]
  },
  {
   "cell_type": "markdown",
   "id": "0c6b6870",
   "metadata": {
    "editable": true
   },
   "source": [
    "It means that we can rewrite the Hartree-Fock Hamiltonian as"
   ]
  },
  {
   "cell_type": "markdown",
   "id": "9130ca9d",
   "metadata": {
    "editable": true
   },
   "source": [
    "$$\n",
    "\\hat{h}_{\\alpha\\beta}^{HF}=\\epsilon_{\\alpha}\\delta_{\\alpha,\\beta}+\n",
    "\\sum_{\\gamma\\delta} \\rho_{\\gamma\\delta}\\langle \\alpha\\gamma|V|\\beta\\delta\\rangle_{AS}.\n",
    "$$"
   ]
  },
  {
   "cell_type": "markdown",
   "id": "6d53f268",
   "metadata": {
    "editable": true
   },
   "source": [
    "It is convenient to use the density matrix since we can precalculate in every iteration the product of two eigenvector components $C$. \n",
    "\n",
    "Note that $\\langle \\alpha\\vert\\hat{h}_0\\vert\\beta \\rangle$ denotes the\n",
    "matrix elements of the one-body part of the starting hamiltonian."
   ]
  },
  {
   "cell_type": "markdown",
   "id": "9717b072",
   "metadata": {
    "editable": true
   },
   "source": [
    "## Density Functional Theory\n",
    "\n",
    "The electronic energy $E$ is said to be a \\emph{functional} of the\n",
    "electronic density, $E[n]$, in the sense that for a given function\n",
    "$n(r)$, there is a single corresponding energy. The  \n",
    "\\emph{Hohenberg-Kohn theorem} confirms that such\n",
    "a functional exists, but does not tell us the form of the\n",
    "functional. As shown by Kohn and Sham, the exact ground-state energy\n",
    "$E$ of an $N$-electron system can be written as"
   ]
  },
  {
   "cell_type": "markdown",
   "id": "1ac38852",
   "metadata": {
    "editable": true
   },
   "source": [
    "$$\n",
    "E[n] = -\\frac{1}{2} \\sum_{i=1}^N\\int\n",
    "  \\Psi_i^*(\\mathbf{r_1})\\nabla_1^2 \\Psi_i(\\mathbf{r_1}) d\\mathbf{r_1}\n",
    "  - \\int \\frac{Z}{r_1} n(\\mathbf{r_1}) d\\mathbf{r_1} +\n",
    "  \\frac{1}{2} \\int\\frac{n(\\mathbf{r_1})n(\\mathbf{r_2})}{r_{12}}\n",
    "  d\\mathbf{r_1}d\\mathbf{r_2} + E_{XC}[n]\n",
    "$$"
   ]
  },
  {
   "cell_type": "markdown",
   "id": "c1cbd360",
   "metadata": {
    "editable": true
   },
   "source": [
    "with $\\Psi_i$ the \\emph{Kohn-Sham} (KS) \\emph{orbitals}.\n",
    "Note that we have limited ourselves to atomic physics here.\n",
    "\n",
    "How do we arrive at the above equation?"
   ]
  },
  {
   "cell_type": "markdown",
   "id": "77196993",
   "metadata": {
    "editable": true
   },
   "source": [
    "## Density Functional Theory\n",
    "\n",
    "The ground-state charge density is given by"
   ]
  },
  {
   "cell_type": "markdown",
   "id": "e0ba69b6",
   "metadata": {
    "editable": true
   },
   "source": [
    "$$\n",
    "n(\\mathbf{r}) = \\sum_{i=1}^N|\\Psi_i(\\mathbf{r})|^2,\n",
    "$$"
   ]
  },
  {
   "cell_type": "markdown",
   "id": "e332f6da",
   "metadata": {
    "editable": true
   },
   "source": [
    "where the sum is over the occupied Kohn-Sham orbitals. The last term,\n",
    "$E_{XC}[n]$, is the \\emph{exchange-correlation energy} which in\n",
    "theory takes into account all non-classical electron-electron\n",
    "interaction. However, we do not know how to obtain this term exactly,\n",
    "and are forced to approximate it. The KS orbitals are found by solving\n",
    "the \\emph{Kohn-Sham equations}, which can be found by applying a\n",
    "variational principle to the electronic energy $E[n]$. This approach\n",
    "is similar to the one used for obtaining the HF equation."
   ]
  },
  {
   "cell_type": "markdown",
   "id": "6410a62a",
   "metadata": {
    "editable": true
   },
   "source": [
    "## Density Functional Theory\n",
    "\n",
    "The KS equations reads"
   ]
  },
  {
   "cell_type": "markdown",
   "id": "fb2e9e50",
   "metadata": {
    "editable": true
   },
   "source": [
    "$$\n",
    "\\left\\{ -\\frac{1}{2}\\nabla_1^2 - \\frac{Z}{r_1} + \\int \n",
    "  \\frac{n(\\mathbf{r_2})}{r_{12}} d\\mathbf{r_2} +\n",
    "  V_{XC}(\\mathbf{r_1}) \\right\\} \\Psi_i(\\mathbf{r_1}) =\n",
    "  \\epsilon_i \\Psi_i(\\mathbf{r_1})\n",
    "$$"
   ]
  },
  {
   "cell_type": "markdown",
   "id": "1be6bdbf",
   "metadata": {
    "editable": true
   },
   "source": [
    "where $\\epsilon_i$ are the KS orbital energies, and where the \n",
    "\\emph{exchange-correlation potential} is given by"
   ]
  },
  {
   "cell_type": "markdown",
   "id": "3e8b7e3e",
   "metadata": {
    "editable": true
   },
   "source": [
    "$$\n",
    "V_{XC}[n] = \\frac{\\delta E_{XC}[n]}{\\delta n}.\n",
    "$$"
   ]
  },
  {
   "cell_type": "markdown",
   "id": "34a6725e",
   "metadata": {
    "editable": true
   },
   "source": [
    "## Density Functional Theory\n",
    "\n",
    "The KS equations are solved in a self-consistent fashion. A variety of\n",
    "basis set functions  can be used, and the experience gained in HF\n",
    "calculations are often useful. The computational time needed for a DFT\n",
    "calculation formally scales as the third power of the number of basis\n",
    "functions. \n",
    "\n",
    "The main source of error in DFT usually arises from the approximate\n",
    "nature of $E_{XC}$. In the \\emph{local density approximation} (LDA) it\n",
    "is approximated as"
   ]
  },
  {
   "cell_type": "markdown",
   "id": "cf5b91f8",
   "metadata": {
    "editable": true
   },
   "source": [
    "$$\n",
    "E_{XC} = \\int n(\\mathbf{r})\\epsilon_{XC}[n(\\mathbf{r})]\n",
    "  d\\mathbf{r},\n",
    "$$"
   ]
  },
  {
   "cell_type": "markdown",
   "id": "4ac086ed",
   "metadata": {
    "editable": true
   },
   "source": [
    "where $\\epsilon_{XC}[n(\\mathbf{r})]$ is the exchange-correlation\n",
    "energy per electron in a homogeneous electron gas of constant density.\n",
    "The LDA approach is clearly an approximation as the charge is not\n",
    "continuously distributed. To account for the inhomogeneity of the\n",
    "electron density, a nonlocal correction involving the gradient of\n",
    "$n$ is often added to the exchange-correlation energy."
   ]
  },
  {
   "cell_type": "markdown",
   "id": "a43bc2e3",
   "metadata": {
    "editable": true
   },
   "source": [
    "## Theorem I\n",
    "\n",
    "We assume that there is a\n",
    "$\\mathcal{V}_{\\mathrm{ext}} =$ set of external single-particle \\alert{potentials} $v$ so that"
   ]
  },
  {
   "cell_type": "markdown",
   "id": "8b2760d6",
   "metadata": {
    "editable": true
   },
   "source": [
    "$$\n",
    "\\hat{H}\\vert \\phi\\rangle = \\left(\\hat{T}+\\hat{V}_{\\mathrm{ext}}+\\hat{V}\\right)=E\\vert\\phi\\rangle,\\qquad \\hat{V}_{\\mathrm{ext}}\\in \\mathcal{V}_{\\mathrm{ext}},\\nonumber\n",
    "$$"
   ]
  },
  {
   "cell_type": "markdown",
   "id": "ddbc9fc2",
   "metadata": {
    "editable": true
   },
   "source": [
    "gives a \\alert{non-degenerate} N-particle ground state $\\vert\\Psi \\rangle_0$.\n",
    "For any system of interacting particles in an external potential \n",
    "$\\mathcal{V}_{\\mathrm{ext}}$, the potential $\\mathcal{V}_{\\mathrm{ext}}$ is uniquely \n",
    "determined (by a near constant) by the ground state density $n_0$.\n",
    "There is a corollary to this statement which states that since $\\hat{H}$ is determined, the many-body functions for all states are also determined. All properties of the system are determined via $n_0$."
   ]
  },
  {
   "cell_type": "markdown",
   "id": "004f1cdc",
   "metadata": {
    "editable": true
   },
   "source": [
    "## Theorem II\n",
    "\n",
    "The density (assuming normalized state vectors)"
   ]
  },
  {
   "cell_type": "markdown",
   "id": "fddd42b6",
   "metadata": {
    "editable": true
   },
   "source": [
    "$$\n",
    "n(\\mathbf{r})=\\sum_{i}\\int dx_{2}\\dots \\int dx_{N}\\vert \\Psi(\\mathbf{r},x_{2},\\dots ,x_{N})\\vert^{2} \\nonumber\n",
    "$$"
   ]
  },
  {
   "cell_type": "markdown",
   "id": "4f35fbed",
   "metadata": {
    "editable": true
   },
   "source": [
    "Theorem II states that a universal functional for the energy $E[n]$ (function of $n$) can be defined for every external potential\n",
    "$\\mathcal{U}_{\\mathrm{ext}}$. For a given external potential, the exact ground state energy of the system is a global minimum of this functional. The density which minimizes this functional is $n_0$."
   ]
  },
  {
   "cell_type": "markdown",
   "id": "e3381a1d",
   "metadata": {
    "editable": true
   },
   "source": [
    "## Computing $E_{XC}$ from {\\em ab initio} calculations\n",
    "\n",
    "Proof I\n",
    "Let us prove $C:\\mathcal{V}(C)\\longrightarrow \\Psi$  injective:"
   ]
  },
  {
   "cell_type": "markdown",
   "id": "4b6646be",
   "metadata": {
    "editable": true
   },
   "source": [
    "$$\n",
    "\\hat{V}\\neq \\hat{V}'+\\text{constant} \\qquad \\stackrel{{\\LARGE ?}}{\\Longrightarrow } \\qquad \\vert \\Psi\\rangle\\neq \\vert \\Psi'\\rangle, \\nonumber\n",
    "$$"
   ]
  },
  {
   "cell_type": "markdown",
   "id": "4d78f332",
   "metadata": {
    "editable": true
   },
   "source": [
    "where $\\hat{V}, \\hat{V}' \\in \\mathcal{V}$\n",
    "\n",
    "\\textbf{\\emph{Reductio ad absurdum}}: \n",
    "Assume $\\vert \\Psi\\rangle=\\vert \\Psi'\\rangle$ for some $\\hat{V}\\neq \\hat{V}'+\\text{const}$, $\\hat{V}, \\hat{V}' \\in \\mathcal{V}$ \n",
    "\n",
    "$\\hat{T}\\neq \\hat{T}[V]$, $\\hat{W}\\neq \\hat{W}[V] \\quad \\Longrightarrow $\\footnote{Unique continuation theorem: $\\vert \\Psi\\rangle\\neq 0$ on a set of positive measure}"
   ]
  },
  {
   "cell_type": "markdown",
   "id": "4f4cd63a",
   "metadata": {
    "editable": true
   },
   "source": [
    "$$\n",
    "\\left(\\hat{V}-\\hat{V}'\\right)\\vert \\Psi \\rangle=\\left(E_{gs}-E_{gs}'\\right)\\vert \\Psi\\rangle.\\nonumber\n",
    "$$"
   ]
  },
  {
   "cell_type": "markdown",
   "id": "b2ff39db",
   "metadata": {
    "editable": true
   },
   "source": [
    "$$\n",
    "\\Longrightarrow \\qquad  \\hat{V}-\\hat{V}'=E_{gs}-E_{gs}' \\nonumber\n",
    "$$"
   ]
  },
  {
   "cell_type": "markdown",
   "id": "deeeeaad",
   "metadata": {
    "editable": true
   },
   "source": [
    "$$\n",
    "\\Longrightarrow \\qquad  \\hat{V}=\\hat{V}'+\\text{constant} \\qquad \\alert{\\text{Contradiction!}}\\nonumber\n",
    "$$"
   ]
  },
  {
   "cell_type": "markdown",
   "id": "b9930c28",
   "metadata": {
    "editable": true
   },
   "source": [
    "## Computing $E_{XC}$ from {\\em ab initio} calculations\n",
    "\n",
    "Proof II: Let us prove $D:\\Psi \\longrightarrow \\mathcal{N}$ injective:"
   ]
  },
  {
   "cell_type": "markdown",
   "id": "e3b4dac8",
   "metadata": {
    "editable": true
   },
   "source": [
    "$$\n",
    "\\vert \\Psi\\rangle\\neq \\vert \\Psi'\\rangle \\qquad \\stackrel{{\\LARGE ?}}{\\Longrightarrow } \\qquad n(\\mathbf{r})\\neq n'(\\mathbf{r}) \\nonumber\n",
    "$$"
   ]
  },
  {
   "cell_type": "markdown",
   "id": "2b486c0d",
   "metadata": {
    "editable": true
   },
   "source": [
    "\\textbf{\\emph{Reductio ad absurdum}}: \n",
    "Assume $n(\\mathbf{r})=n'(\\mathbf{r})$ for some $\\vert \\Psi\\rangle\\neq \\vert \\Psi'\\rangle$ \n",
    "\n",
    "Ritz principle $\\quad \\Longrightarrow $"
   ]
  },
  {
   "cell_type": "markdown",
   "id": "5cc710a5",
   "metadata": {
    "editable": true
   },
   "source": [
    "<!-- Equation labels as ordinary links -->\n",
    "<div id=\"_auto2\"></div>\n",
    "\n",
    "$$\n",
    "\\begin{equation}\n",
    "  E_{gs}=\\langle \\Psi\\vert \\hat{H}\\vert \\Psi\\rangle \\langle\\Psi'\\vert \\hat{H}\\vert \\Psi'\\rangle.\n",
    "\\label{_auto2} \\tag{2}\n",
    "\\end{equation}\n",
    "$$"
   ]
  },
  {
   "cell_type": "markdown",
   "id": "e3933dc7",
   "metadata": {
    "editable": true
   },
   "source": [
    "$$\n",
    "\\langle\\Psi'\\vert \\hat{H}\\vert \\Psi'\\rangle\\langle\\Psi'\\vert\\hat{H}'+\\hat{V}-\\hat{V}'\\vert \\Psi'\\rangle=E_{gs}'+\\int n'(\\mathbf{r})[v(\\mathbf{r})-v'(\\mathbf{r})]d^{3}r \\nonumber\n",
    "$$"
   ]
  },
  {
   "cell_type": "markdown",
   "id": "11f880cc",
   "metadata": {
    "editable": true
   },
   "source": [
    "$$\n",
    "\\Longrightarrow \\qquad E_{gs}'<E_{gs}+\\int n'(\\mathbf{r})[v(\\mathbf{r})-v'(\\mathbf{r})]d^{3}r %\\nonumber\n",
    "$$"
   ]
  },
  {
   "cell_type": "markdown",
   "id": "59729df9",
   "metadata": {
    "editable": true
   },
   "source": [
    "By symmetry"
   ]
  },
  {
   "cell_type": "markdown",
   "id": "43e8da05",
   "metadata": {
    "editable": true
   },
   "source": [
    "$$\n",
    "\\Longrightarrow \\qquad E_{gs}<E_{gs}'+\\int n'(\\mathbf{r})[v'(\\mathbf{r})-v(\\mathbf{r})]d^{3}r %\\nonumber\n",
    "$$"
   ]
  },
  {
   "cell_type": "markdown",
   "id": "c37751a7",
   "metadata": {
    "editable": true
   },
   "source": [
    "<!-- (\\[eq:ineq1](#eq:ineq1)) \\& (\\[eq:ineq2](#eq:ineq2)) $\\qquad \\Longrightarrow $ -->"
   ]
  },
  {
   "cell_type": "markdown",
   "id": "14f6452a",
   "metadata": {
    "editable": true
   },
   "source": [
    "$$\n",
    "E_{gs}+E_{gs}'<E_{gs}+E_{gs}' \\qquad \\text{\\alert{Contradiction!}} \\nonumber\n",
    "$$"
   ]
  },
  {
   "cell_type": "markdown",
   "id": "bd16c145",
   "metadata": {
    "editable": true
   },
   "source": [
    "## Computing $E_{XC}$ from {\\em ab initio} calculations\n",
    "\n",
    "Define"
   ]
  },
  {
   "cell_type": "markdown",
   "id": "5b6fd2a4",
   "metadata": {
    "editable": true
   },
   "source": [
    "<!-- Equation labels as ordinary links -->\n",
    "<div id=\"_auto3\"></div>\n",
    "\n",
    "$$\n",
    "\\begin{equation}\n",
    "  E_{v_{0}}[n]:=\\langle \\Psi[n]\\vert \\hat{T}+\\hat{W}+\\hat{V_{0}}\\vert \\Psi[n]\\rangle\n",
    "\\label{_auto3} \\tag{3}\n",
    "\\end{equation}\n",
    "$$"
   ]
  },
  {
   "cell_type": "markdown",
   "id": "5700d11a",
   "metadata": {
    "editable": true
   },
   "source": [
    "$\\hat{V_{0}} =$ external potential, $n_{0}(\\mathbf{r}) =$ corresponding GS density, $E_{0} =$ GS energy\n",
    "\n",
    "Rayleigh-Ritz principle $\\quad \\Longrightarrow \\quad $ \\alert{second statement of H-K theorem}:"
   ]
  },
  {
   "cell_type": "markdown",
   "id": "c794d16d",
   "metadata": {
    "editable": true
   },
   "source": [
    "$$\n",
    "E_{0}=\\min_{n\\in \\mathcal{N}}E_{v_{0}}[n] \\nonumber\n",
    "$$"
   ]
  },
  {
   "cell_type": "markdown",
   "id": "8f724b39",
   "metadata": {
    "editable": true
   },
   "source": [
    "Last satement of H-K theorem:"
   ]
  },
  {
   "cell_type": "markdown",
   "id": "3e6e3a11",
   "metadata": {
    "editable": true
   },
   "source": [
    "<!-- Equation labels as ordinary links -->\n",
    "<div id=\"_auto4\"></div>\n",
    "\n",
    "$$\n",
    "\\begin{equation}\n",
    "  F_{HK}[n]\\equiv \\langle\\Psi[n]\\vert\\hat{T}+\\hat{W}\\vert \\Psi[n]\\rangle\n",
    "\\label{_auto4} \\tag{4}\n",
    "\\end{equation}\n",
    "$$"
   ]
  },
  {
   "cell_type": "markdown",
   "id": "3cd11c1b",
   "metadata": {
    "editable": true
   },
   "source": [
    "is \\emph{universal} ($F_{HK}\\neq F_{HK}[\\hat{V_{0}}]$)"
   ]
  },
  {
   "cell_type": "markdown",
   "id": "c4fc559f",
   "metadata": {
    "editable": true
   },
   "source": [
    "## The Kohn-Sham scheme\n",
    "\n",
    "The classic Kohn-Sham scheme:"
   ]
  },
  {
   "cell_type": "markdown",
   "id": "83baed08",
   "metadata": {
    "editable": true
   },
   "source": [
    "$$\n",
    "\\left(-\\frac{\\hbar^{2}}{2m}\\nabla^{2}+v_{s,0}(\\mathbf{r})\\right)\\phi_{i,0}(\\mathbf{r})=\\varepsilon_{i}\\phi_{i,0}(\\mathbf{r}), \\qquad \\varepsilon_{1}\\geq \\varepsilon_{2} \\geq \\dots,\n",
    "$$"
   ]
  },
  {
   "cell_type": "markdown",
   "id": "44122ac8",
   "metadata": {
    "editable": true
   },
   "source": [
    "where"
   ]
  },
  {
   "cell_type": "markdown",
   "id": "175cabef",
   "metadata": {
    "editable": true
   },
   "source": [
    "$$\n",
    "v_{s,0}(\\mathbf{r})=v_{0}(\\mathbf{r})+\\int d^{3}r' w(\\mathbf{r},\\mathbf{r}')n_{0}(\\mathbf{r}')+v_{\\mathrm{XC}}([n_{0}];\\mathbf{r})\n",
    "$$"
   ]
  },
  {
   "cell_type": "markdown",
   "id": "2d4eb360",
   "metadata": {
    "editable": true
   },
   "source": [
    "The density is calculated as"
   ]
  },
  {
   "cell_type": "markdown",
   "id": "80338b07",
   "metadata": {
    "editable": true
   },
   "source": [
    "$$\n",
    "n_{0}(\\mathbf{r})=\\sum_{i=1}^{N}\\vert \\phi_{i,0}(\\mathbf{r})\\vert^{2}.\n",
    "$$"
   ]
  },
  {
   "cell_type": "markdown",
   "id": "afa63e55",
   "metadata": {
    "editable": true
   },
   "source": [
    "The equation is solved selfconsistently.\n",
    "The total energy"
   ]
  },
  {
   "cell_type": "markdown",
   "id": "13bb826e",
   "metadata": {
    "editable": true
   },
   "source": [
    "$$\n",
    "E=\\sum_{i=1}^{N}\\varepsilon_{i}-\\frac{1}{2}\\int d^{3}r d^{3}r'n(\\mathbf{r})w(\\mathbf{r},\\mathbf{r}')n(\\mathbf{r}')+E_{\\mathrm{XC}}[n]-\\int d^{3}r v_{\\mathrm{XC}}([n];\\mathbf{r})n(\\mathbf{r})\n",
    "$$"
   ]
  },
  {
   "cell_type": "markdown",
   "id": "e622e396",
   "metadata": {
    "editable": true
   },
   "source": [
    "## Exchange Energy and Correlation Energy\n",
    "\n",
    "**The Hartree-Fock equation.**"
   ]
  },
  {
   "cell_type": "markdown",
   "id": "2533480a",
   "metadata": {
    "editable": true
   },
   "source": [
    "$$\n",
    "\\begin{align*}\n",
    "        \\left(-\\frac{\\hbar^{2}}{2m}\\nabla^{2}+v_{0}(\\mathbf{r})+\\int d^{3}r'w(\\mathbf{r},\\mathbf{r}')n(\\mathbf{r}')\\right)\\phi_{k}(\\mathbf{r})& \\nonumber \\\\\n",
    "        \\underbrace{-\\sum_{l=1}^{N}\\int d^{3}r'\\phi_{l}^{*}(\\mathbf{r}')w(\\mathbf{r},\\mathbf{r}')\\phi_{k}(\\mathbf{r}')\\phi_{l}(\\mathbf{r})}_{\\text{exchange term}}\n",
    "        &=\\varepsilon_{k}\\phi_{k}(\\mathbf{r}), \\nonumber\n",
    "      \\end{align*}\n",
    "$$"
   ]
  },
  {
   "cell_type": "markdown",
   "id": "667170ee",
   "metadata": {
    "editable": true
   },
   "source": [
    "**Kohn-Sham equation:**"
   ]
  },
  {
   "cell_type": "markdown",
   "id": "9d3f5212",
   "metadata": {
    "editable": true
   },
   "source": [
    "$$\n",
    "\\left(-\\frac{\\hbar^{2}}{2m}\\nabla^{2}+v_{0}(\\mathbf{r})\n",
    "+\\int d^{3}r'w(\\mathbf{r},\\mathbf{r}')n(\\mathbf{r}')\n",
    " +\\underbrace{v_{\\mathrm{XC}}([n];\\mathbf{r})}_{\\text{exchange + correlation}}\n",
    "\\right)\\phi_{k}(\\mathbf{r})=\\varepsilon_{k}\\phi_{k}(\\mathbf{r}).\n",
    "$$"
   ]
  },
  {
   "cell_type": "markdown",
   "id": "e0f4bd2d",
   "metadata": {
    "editable": true
   },
   "source": [
    "## Many-body perturbation theory\n",
    "\n",
    "We assume here that we are only interested in the ground state of the system and \n",
    "expand the exact wave function in term of a series of Slater determinants"
   ]
  },
  {
   "cell_type": "markdown",
   "id": "40d50491",
   "metadata": {
    "editable": true
   },
   "source": [
    "$$\n",
    "\\vert \\Psi_0\\rangle = \\vert \\Phi_0\\rangle + \\sum_{m=1}^{\\infty}C_m\\vert \\Phi_m\\rangle,\n",
    "$$"
   ]
  },
  {
   "cell_type": "markdown",
   "id": "843a12df",
   "metadata": {
    "editable": true
   },
   "source": [
    "where we have assumed that the true ground state is dominated by the \n",
    "solution of the unperturbed problem, that is"
   ]
  },
  {
   "cell_type": "markdown",
   "id": "cd769061",
   "metadata": {
    "editable": true
   },
   "source": [
    "$$\n",
    "\\hat{H}_0\\vert \\Phi_0\\rangle= W_0\\vert \\Phi_0\\rangle.\n",
    "$$"
   ]
  },
  {
   "cell_type": "markdown",
   "id": "4bdab8df",
   "metadata": {
    "editable": true
   },
   "source": [
    "The state $\\vert \\Psi_0\\rangle$ is not normalized, rather we have used an intermediate \n",
    "normalization $\\langle \\Phi_0 \\vert \\Psi_0\\rangle=1$ since we have $\\langle \\Phi_0\\vert \\Phi_0\\rangle=1$."
   ]
  },
  {
   "cell_type": "markdown",
   "id": "60af4ca8",
   "metadata": {
    "editable": true
   },
   "source": [
    "## Many-body perturbation theory\n",
    "\n",
    "The Schroedinger equation is"
   ]
  },
  {
   "cell_type": "markdown",
   "id": "656ec1f7",
   "metadata": {
    "editable": true
   },
   "source": [
    "$$\n",
    "\\hat{H}\\vert \\Psi_0\\rangle = E\\vert \\Psi_0\\rangle,\n",
    "$$"
   ]
  },
  {
   "cell_type": "markdown",
   "id": "4e80f5b5",
   "metadata": {
    "editable": true
   },
   "source": [
    "and multiplying the latter from the left with $\\langle \\Phi_0\\vert $ gives"
   ]
  },
  {
   "cell_type": "markdown",
   "id": "fa48eaf9",
   "metadata": {
    "editable": true
   },
   "source": [
    "$$\n",
    "\\langle \\Phi_0\\vert \\hat{H}\\vert \\Psi_0\\rangle = E\\langle \\Phi_0\\vert \\Psi_0\\rangle=E,\n",
    "$$"
   ]
  },
  {
   "cell_type": "markdown",
   "id": "f780327b",
   "metadata": {
    "editable": true
   },
   "source": [
    "and subtracting from this equation"
   ]
  },
  {
   "cell_type": "markdown",
   "id": "58cb465c",
   "metadata": {
    "editable": true
   },
   "source": [
    "$$\n",
    "\\langle \\Psi_0\\vert \\hat{H}_0\\vert \\Phi_0\\rangle= W_0\\langle \\Psi_0\\vert \\Phi_0\\rangle=W_0,\n",
    "$$"
   ]
  },
  {
   "cell_type": "markdown",
   "id": "3cde0530",
   "metadata": {
    "editable": true
   },
   "source": [
    "and using the fact that the both operators $\\hat{H}$ and $\\hat{H}_0$ are hermitian \n",
    "results in"
   ]
  },
  {
   "cell_type": "markdown",
   "id": "54682a10",
   "metadata": {
    "editable": true
   },
   "source": [
    "$$\n",
    "\\Delta E=E-W_0=\\langle \\Phi_0\\vert \\hat{H}_I\\vert \\Psi_0\\rangle,\n",
    "$$"
   ]
  },
  {
   "cell_type": "markdown",
   "id": "4f21272c",
   "metadata": {
    "editable": true
   },
   "source": [
    "which is an exact result. We call this quantity the correlation energy."
   ]
  },
  {
   "cell_type": "markdown",
   "id": "ffad3a75",
   "metadata": {
    "editable": true
   },
   "source": [
    "## Many-body perturbation theory\n",
    "\n",
    "This equation forms the starting point for all perturbative derivations. However,\n",
    "as it stands it represents nothing but a mere formal rewriting of Schroedinger's equation and is not of much practical use. The exact wave function $\\vert \\Psi_0\\rangle$ is unknown. In order to obtain a perturbative expansion, we need to expand the exact wave function in terms of the interaction $\\hat{H}_I$. \n",
    "\n",
    "Here we have assumed that our model space defined by the operator $\\hat{P}$ is one-dimensional, meaning that"
   ]
  },
  {
   "cell_type": "markdown",
   "id": "fd5187ca",
   "metadata": {
    "editable": true
   },
   "source": [
    "$$\n",
    "\\hat{P}= \\vert \\Phi_0\\rangle \\langle \\Phi_0\\vert ,\n",
    "$$"
   ]
  },
  {
   "cell_type": "markdown",
   "id": "25f2abe5",
   "metadata": {
    "editable": true
   },
   "source": [
    "and"
   ]
  },
  {
   "cell_type": "markdown",
   "id": "91514d86",
   "metadata": {
    "editable": true
   },
   "source": [
    "$$\n",
    "\\hat{Q}=\\sum_{m=1}^{\\infty}\\vert \\Phi_m\\rangle \\langle \\Phi_m\\vert .\n",
    "$$"
   ]
  },
  {
   "cell_type": "markdown",
   "id": "d7ac0994",
   "metadata": {
    "editable": true
   },
   "source": [
    "## Many-body perturbation theory\n",
    "\n",
    "We can thus rewrite the exact wave function as"
   ]
  },
  {
   "cell_type": "markdown",
   "id": "7ad406f8",
   "metadata": {
    "editable": true
   },
   "source": [
    "$$\n",
    "\\vert \\Psi_0\\rangle= (\\hat{P}+\\hat{Q})\\vert \\Psi_0\\rangle=\\vert \\Phi_0\\rangle+\\hat{Q}\\vert \\Psi_0\\rangle.\n",
    "$$"
   ]
  },
  {
   "cell_type": "markdown",
   "id": "883658f5",
   "metadata": {
    "editable": true
   },
   "source": [
    "Going back to the Schr\\\"odinger equation, we can rewrite it as, adding and a subtracting a term $\\omega \\vert \\Psi_0\\rangle$ as"
   ]
  },
  {
   "cell_type": "markdown",
   "id": "6e8a68a4",
   "metadata": {
    "editable": true
   },
   "source": [
    "$$\n",
    "\\left(\\omega-\\hat{H}_0\\right)\\vert \\Psi_0\\rangle=\\left(\\omega-E+\\hat{H}_I\\right)\\vert \\Psi_0\\rangle,\n",
    "$$"
   ]
  },
  {
   "cell_type": "markdown",
   "id": "24dcf86e",
   "metadata": {
    "editable": true
   },
   "source": [
    "where $\\omega$ is an energy variable to be specified later."
   ]
  },
  {
   "cell_type": "markdown",
   "id": "f9a7091c",
   "metadata": {
    "editable": true
   },
   "source": [
    "## Many-body perturbation theory\n",
    "\n",
    "We assume also that the resolvent of $\\left(\\omega-\\hat{H}_0\\right)$ exits, that is\n",
    "it has an inverse which defined the unperturbed Green's function as"
   ]
  },
  {
   "cell_type": "markdown",
   "id": "8dd4e840",
   "metadata": {
    "editable": true
   },
   "source": [
    "$$\n",
    "\\left(\\omega-\\hat{H}_0\\right)^{-1}=\\frac{1}{\\left(\\omega-\\hat{H}_0\\right)}.\n",
    "$$"
   ]
  },
  {
   "cell_type": "markdown",
   "id": "2c9d6f05",
   "metadata": {
    "editable": true
   },
   "source": [
    "We can rewrite Schroedinger's equation as"
   ]
  },
  {
   "cell_type": "markdown",
   "id": "bdbceca9",
   "metadata": {
    "editable": true
   },
   "source": [
    "$$\n",
    "\\vert \\Psi_0\\rangle=\\frac{1}{\\omega-\\hat{H}_0}\\left(\\omega-E+\\hat{H}_I\\right)\\vert \\Psi_0\\rangle,\n",
    "$$"
   ]
  },
  {
   "cell_type": "markdown",
   "id": "4b47f200",
   "metadata": {
    "editable": true
   },
   "source": [
    "and multiplying from the left with $\\hat{Q}$ results in"
   ]
  },
  {
   "cell_type": "markdown",
   "id": "d28be601",
   "metadata": {
    "editable": true
   },
   "source": [
    "$$\n",
    "\\hat{Q}\\vert \\Psi_0\\rangle=\\frac{\\hat{Q}}{\\omega-\\hat{H}_0}\\left(\\omega-E+\\hat{H}_I\\right)\\vert \\Psi_0\\rangle,\n",
    "$$"
   ]
  },
  {
   "cell_type": "markdown",
   "id": "258af9c5",
   "metadata": {
    "editable": true
   },
   "source": [
    "which is possible since we have defined the operator $\\hat{Q}$ in terms of the eigenfunctions of $\\hat{H}$."
   ]
  },
  {
   "cell_type": "markdown",
   "id": "929f27bd",
   "metadata": {
    "editable": true
   },
   "source": [
    "## Many-body perturbation theory\n",
    "\n",
    "These operators commute meaning that"
   ]
  },
  {
   "cell_type": "markdown",
   "id": "60f8cc76",
   "metadata": {
    "editable": true
   },
   "source": [
    "$$\n",
    "\\hat{Q}\\frac{1}{\\left(\\omega-\\hat{H}_0\\right)}\\hat{Q}=\\hat{Q}\\frac{1}{\\left(\\omega-\\hat{H}_0\\right)}=\\frac{\\hat{Q}}{\\left(\\omega-\\hat{H}_0\\right)}.\n",
    "$$"
   ]
  },
  {
   "cell_type": "markdown",
   "id": "9580f6d2",
   "metadata": {
    "editable": true
   },
   "source": [
    "With these definitions we can in turn define the wave function as"
   ]
  },
  {
   "cell_type": "markdown",
   "id": "e52034a4",
   "metadata": {
    "editable": true
   },
   "source": [
    "$$\n",
    "\\vert \\Psi_0\\rangle=\\vert \\Phi_0\\rangle+\\frac{\\hat{Q}}{\\omega-\\hat{H}_0}\\left(\\omega-E+\\hat{H}_I\\right)\\vert \\Psi_0\\rangle.\n",
    "$$"
   ]
  },
  {
   "cell_type": "markdown",
   "id": "13474aaf",
   "metadata": {
    "editable": true
   },
   "source": [
    "This equation is again nothing but a formal rewrite of Schr\\\"odinger's equation\n",
    "and does not represent a practical calculational scheme.  \n",
    "It is a non-linear equation in two unknown quantities, the energy $E$ and the exact\n",
    "wave function $\\vert \\Psi_0\\rangle$. We can however start with a guess for $\\vert \\Psi_0\\rangle$ on the right hand side of the last equation."
   ]
  },
  {
   "cell_type": "markdown",
   "id": "d74d5854",
   "metadata": {
    "editable": true
   },
   "source": [
    "## Many-body perturbation theory\n",
    "\n",
    " The most common choice is to start with the function which is expected to exhibit the largest overlap with the wave function we are searching after, namely $\\vert \\Phi_0\\rangle$. This can again be inserted in the solution for $\\vert \\Psi_0\\rangle$ in an iterative fashion and if we continue along these lines we end up with"
   ]
  },
  {
   "cell_type": "markdown",
   "id": "e0d63701",
   "metadata": {
    "editable": true
   },
   "source": [
    "$$\n",
    "\\vert \\Psi_0\\rangle=\\sum_{i=0}^{\\infty}\\left\\{\\frac{\\hat{Q}}{\\omega-\\hat{H}_0}\\left(\\omega-E+\\hat{H}_I\\right)\\right\\}^i\\vert \\Phi_0\\rangle,\n",
    "$$"
   ]
  },
  {
   "cell_type": "markdown",
   "id": "358ee9f4",
   "metadata": {
    "editable": true
   },
   "source": [
    "for the wave function and"
   ]
  },
  {
   "cell_type": "markdown",
   "id": "52aac374",
   "metadata": {
    "editable": true
   },
   "source": [
    "$$\n",
    "\\Delta E=\\sum_{i=0}^{\\infty}\\langle \\Phi_0\\vert \\hat{H}_I\\left\\{\\frac{\\hat{Q}}{\\omega-\\hat{H}_0}\\left(\\omega-E+\\hat{H}_I\\right)\\right\\}^i\\vert \\Phi_0\\rangle,\n",
    "$$"
   ]
  },
  {
   "cell_type": "markdown",
   "id": "8303a228",
   "metadata": {
    "editable": true
   },
   "source": [
    "which is now  a perturbative expansion of the exact energy in terms of the interaction\n",
    "$\\hat{H}_I$ and the unperturbed wave function $\\vert \\Psi_0\\rangle$."
   ]
  },
  {
   "cell_type": "markdown",
   "id": "19954014",
   "metadata": {
    "editable": true
   },
   "source": [
    "## Many-body perturbation theory\n",
    "\n",
    "In our equations for $\\vert \\Psi_0\\rangle$ and $\\Delta E$ in terms of the unperturbed\n",
    "solutions $\\vert \\Phi_i\\rangle$  we have still an undetermined parameter $\\omega$\n",
    "and a dependecy on the exact energy $E$. Not much has been gained thus from a practical computational point of view."
   ]
  },
  {
   "cell_type": "markdown",
   "id": "ad03e998",
   "metadata": {
    "editable": true
   },
   "source": [
    "## Many-body perturbation theory\n",
    "\n",
    "In Brilluoin-Wigner perturbation theory it is customary to set $\\omega=E$. This results in the following perturbative expansion for the energy $\\Delta E$"
   ]
  },
  {
   "cell_type": "markdown",
   "id": "8357a534",
   "metadata": {
    "editable": true
   },
   "source": [
    "$$\n",
    "\\Delta E=\\sum_{i=0}^{\\infty}\\langle \\Phi_0\\vert \\hat{H}_I\\left\\{\\frac{\\hat{Q}}{\\omega-\\hat{H}_0}\\left(\\omega-E+\\hat{H}_I\\right)\\right\\}^i\\vert \\Phi_0\\rangle=\n",
    "$$"
   ]
  },
  {
   "cell_type": "markdown",
   "id": "55914e97",
   "metadata": {
    "editable": true
   },
   "source": [
    "$$\n",
    "\\langle \\Phi_0\\vert \\left(\\hat{H}_I+\\hat{H}_I\\frac{\\hat{Q}}{E-\\hat{H}_0}\\hat{H}_I+\n",
    "\\hat{H}_I\\frac{\\hat{Q}}{E-\\hat{H}_0}\\hat{H}_I\\frac{\\hat{Q}}{E-\\hat{H}_0}\\hat{H}_I+\\dots\\right)\\vert \\Phi_0\\rangle.\n",
    "$$"
   ]
  },
  {
   "cell_type": "markdown",
   "id": "aaf3f07c",
   "metadata": {
    "editable": true
   },
   "source": [
    "## Many-body perturbation theory"
   ]
  },
  {
   "cell_type": "markdown",
   "id": "1a7d0ef7",
   "metadata": {
    "editable": true
   },
   "source": [
    "$$\n",
    "\\Delta E=\\sum_{i=0}^{\\infty}\\langle \\Phi_0\\vert \\hat{H}_I\\left\\{\\frac{\\hat{Q}}{\\omega-\\hat{H}_0}\\left(\\omega-E+\\hat{H}_I\\right)\\right\\}^i\\vert \\Phi_0\\rangle=\n",
    "$$"
   ]
  },
  {
   "cell_type": "markdown",
   "id": "a6fd8ebf",
   "metadata": {
    "editable": true
   },
   "source": [
    "$$\n",
    "\\langle \\Phi_0\\vert \\left(\\hat{H}_I+\\hat{H}_I\\frac{\\hat{Q}}{E-\\hat{H}_0}\\hat{H}_I+\n",
    "\\hat{H}_I\\frac{\\hat{Q}}{E-\\hat{H}_0}\\hat{H}_I\\frac{\\hat{Q}}{E-\\hat{H}_0}\\hat{H}_I+\\dots\\right)\\vert \\Phi_0\\rangle.\n",
    "$$"
   ]
  },
  {
   "cell_type": "markdown",
   "id": "d6c729e9",
   "metadata": {
    "editable": true
   },
   "source": [
    "This expression depends however on the exact energy $E$ and is again not very convenient from a practical point of view. It can obviously be solved iteratively, by starting with a guess for  $E$ and then solve till some kind of self-consistency criterion has been reached. \n",
    "\n",
    "Actually, the above expression is nothing but a rewrite again of the full Schr\\\"odinger equation."
   ]
  },
  {
   "cell_type": "markdown",
   "id": "dbd7d660",
   "metadata": {
    "editable": true
   },
   "source": [
    "## Many-body perturbation theory\n",
    "\n",
    "Defining $e=E-\\hat{H}_0$ and recalling that $\\hat{H}_0$ commutes with \n",
    "$\\hat{Q}$ by construction and that $\\hat{Q}$ is an idempotent operator\n",
    "$\\hat{Q}^2=\\hat{Q}$. \n",
    "Using this equation in the above expansion for $\\Delta E$ we can write the denominator"
   ]
  },
  {
   "cell_type": "markdown",
   "id": "459cbb0e",
   "metadata": {
    "editable": true
   },
   "source": [
    "$$\n",
    "\\hat{Q}\\frac{1}{\\hat{e}-\\hat{Q}\\hat{H}_I\\hat{Q}}=\n",
    "$$"
   ]
  },
  {
   "cell_type": "markdown",
   "id": "e1fc9402",
   "metadata": {
    "editable": true
   },
   "source": [
    "$$\n",
    "\\hat{Q}\\left[\\frac{1}{\\hat{e}}+\\frac{1}{\\hat{e}}\\hat{Q}\\hat{H}_I\\hat{Q}\n",
    "\\frac{1}{\\hat{e}}+\\frac{1}{\\hat{e}}\\hat{Q}\\hat{H}_I\\hat{Q}\n",
    "\\frac{1}{\\hat{e}}\\hat{Q}\\hat{H}_I\\hat{Q}\\frac{1}{\\hat{e}}+\\dots\\right]\\hat{Q}.\n",
    "$$"
   ]
  },
  {
   "cell_type": "markdown",
   "id": "1e4119ab",
   "metadata": {
    "editable": true
   },
   "source": [
    "## Many-body perturbation theory\n",
    "\n",
    "Inserted in the expression for $\\Delta E$ leads to"
   ]
  },
  {
   "cell_type": "markdown",
   "id": "25386a39",
   "metadata": {
    "editable": true
   },
   "source": [
    "$$\n",
    "\\Delta E=\n",
    "\\langle \\Phi_0\\vert \\hat{H}_I+\\hat{H}_I\\hat{Q}\\frac{1}{E-\\hat{H}_0-\\hat{Q}\\hat{H}_I\\hat{Q}}\\hat{Q}\\hat{H}_I\\vert \\Phi_0\\rangle.\n",
    "$$"
   ]
  },
  {
   "cell_type": "markdown",
   "id": "c7d4ca33",
   "metadata": {
    "editable": true
   },
   "source": [
    "In RS perturbation theory we set $\\omega = W_0$ and obtain the following expression for the energy difference"
   ]
  },
  {
   "cell_type": "markdown",
   "id": "62c2d9bd",
   "metadata": {
    "editable": true
   },
   "source": [
    "$$\n",
    "\\Delta E=\\sum_{i=0}^{\\infty}\\langle \\Phi_0\\vert \\hat{H}_I\\left\\{\\frac{\\hat{Q}}{W_0-\\hat{H}_0}\\left(\\hat{H}_I-\\Delta E\\right)\\right\\}^i\\vert \\Phi_0\\rangle=\n",
    "$$"
   ]
  },
  {
   "cell_type": "markdown",
   "id": "9ba3a235",
   "metadata": {
    "editable": true
   },
   "source": [
    "$$\n",
    "\\langle \\Phi_0\\vert \\left(\\hat{H}_I+\\hat{H}_I\\frac{\\hat{Q}}{W_0-\\hat{H}_0}(\\hat{H}_I-\\Delta E)+\n",
    "\\hat{H}_I\\frac{\\hat{Q}}{W_0-\\hat{H}_0}(\\hat{H}_I-\\Delta E)\\frac{\\hat{Q}}{W_0-\\hat{H}_0}(\\hat{H}_I-\\Delta E)+\\dots\\right)\\vert \\Phi_0\\rangle.\n",
    "$$"
   ]
  },
  {
   "cell_type": "markdown",
   "id": "aad645ba",
   "metadata": {
    "editable": true
   },
   "source": [
    "## Many-body perturbation theory\n",
    "\n",
    "Recalling that $\\hat{Q}$ commutes with $\\hat{H_0}$ and since $\\Delta E$ is a constant we obtain that"
   ]
  },
  {
   "cell_type": "markdown",
   "id": "88c77e6b",
   "metadata": {
    "editable": true
   },
   "source": [
    "$$\n",
    "\\hat{Q}\\Delta E\\vert \\Phi_0\\rangle = \\hat{Q}\\Delta E\\vert \\hat{Q}\\Phi_0\\rangle = 0.\n",
    "$$"
   ]
  },
  {
   "cell_type": "markdown",
   "id": "86302f80",
   "metadata": {
    "editable": true
   },
   "source": [
    "Inserting this results in the expression for the energy results in"
   ]
  },
  {
   "cell_type": "markdown",
   "id": "255b9050",
   "metadata": {
    "editable": true
   },
   "source": [
    "$$\n",
    "\\Delta E=\\langle \\Phi_0\\vert \\left(\\hat{H}_I+\\hat{H}_I\\frac{\\hat{Q}}{W_0-\\hat{H}_0}\\hat{H}_I+\n",
    "\\hat{H}_I\\frac{\\hat{Q}}{W_0-\\hat{H}_0}(\\hat{H}_I-\\Delta E)\\frac{\\hat{Q}}{W_0-\\hat{H}_0}\\hat{H}_I+\\dots\\right)\\vert \\Phi_0\\rangle.\n",
    "$$"
   ]
  },
  {
   "cell_type": "markdown",
   "id": "90ce0645",
   "metadata": {
    "editable": true
   },
   "source": [
    "## Many-body perturbation theory\n",
    "\n",
    "We can now this expression in terms of a perturbative expression in terms\n",
    "of $\\hat{H}_I$ where we iterate the last expression in terms of $\\Delta E$"
   ]
  },
  {
   "cell_type": "markdown",
   "id": "34642c70",
   "metadata": {
    "editable": true
   },
   "source": [
    "$$\n",
    "\\Delta E=\\sum_{i=1}^{\\infty}\\Delta E^{(i)}.\n",
    "$$"
   ]
  },
  {
   "cell_type": "markdown",
   "id": "fe1bcfa5",
   "metadata": {
    "editable": true
   },
   "source": [
    "## Many-body perturbation theory\n",
    "\n",
    "We get the following expression for $\\Delta E^{(i)}$"
   ]
  },
  {
   "cell_type": "markdown",
   "id": "d8c9735d",
   "metadata": {
    "editable": true
   },
   "source": [
    "$$\n",
    "\\Delta E^{(1)}=\\langle \\Phi_0\\vert \\hat{H}_I\\vert \\Phi_0\\rangle,\n",
    "$$"
   ]
  },
  {
   "cell_type": "markdown",
   "id": "a6ce8225",
   "metadata": {
    "editable": true
   },
   "source": [
    "which is just the contribution to first order in perturbation theory,"
   ]
  },
  {
   "cell_type": "markdown",
   "id": "e901a376",
   "metadata": {
    "editable": true
   },
   "source": [
    "$$\n",
    "\\Delta E^{(2)}=\\langle\\Phi_0\\vert \\hat{H}_I\\frac{\\hat{Q}}{W_0-\\hat{H}_0}\\hat{H}_I\\vert \\Phi_0\\rangle,\n",
    "$$"
   ]
  },
  {
   "cell_type": "markdown",
   "id": "8d9d1629",
   "metadata": {
    "editable": true
   },
   "source": [
    "which is the contribution to second order."
   ]
  },
  {
   "cell_type": "markdown",
   "id": "c43deae7",
   "metadata": {
    "editable": true
   },
   "source": [
    "$$\n",
    "\\Delta E^{(3)}=\\langle \\Phi_0\\vert \\hat{H}_I\\frac{\\hat{Q}}{W_0-\\hat{H}_0}\\hat{H}_I\\frac{\\hat{Q}}{W_0-\\hat{H}_0}\\hat{H}_I\\Phi_0\\rangle-\n",
    "\\langle\\Phi_0\\vert \\hat{H}_I\\frac{\\hat{Q}}{W_0-\\hat{H}_0}\\langle \\Phi_0\\vert \\hat{H}_I\\vert \\Phi_0\\rangle\\frac{\\hat{Q}}{W_0-\\hat{H}_0}\\hat{H}_I\\vert \\Phi_0\\rangle,\n",
    "$$"
   ]
  },
  {
   "cell_type": "markdown",
   "id": "3876612c",
   "metadata": {
    "editable": true
   },
   "source": [
    "being the third-order contribution."
   ]
  },
  {
   "cell_type": "markdown",
   "id": "66762bf0",
   "metadata": {
    "editable": true
   },
   "source": [
    "## Interpreting the correlation energy and the wave operator\n",
    "\n",
    "In the shell-model lectures we showed that we could rewrite the exact state function for say the ground state, as a linear expansion in terms of all possible Slater determinants. That is, we \n",
    "define the ansatz for the ground state as"
   ]
  },
  {
   "cell_type": "markdown",
   "id": "14bf40b4",
   "metadata": {
    "editable": true
   },
   "source": [
    "$$\n",
    "|\\Phi_0\\rangle = \\left(\\prod_{i\\le F}\\hat{a}_{i}^{\\dagger}\\right)|0\\rangle,\n",
    "$$"
   ]
  },
  {
   "cell_type": "markdown",
   "id": "cdb65abf",
   "metadata": {
    "editable": true
   },
   "source": [
    "where the index $i$ defines different single-particle states up to the Fermi level. We have assumed that we have $N$ fermions."
   ]
  },
  {
   "cell_type": "markdown",
   "id": "843c69a9",
   "metadata": {
    "editable": true
   },
   "source": [
    "## Many-body perturbation theory\n",
    "\n",
    "A given one-particle-one-hole ($1p1h$) state can be written as"
   ]
  },
  {
   "cell_type": "markdown",
   "id": "9894da03",
   "metadata": {
    "editable": true
   },
   "source": [
    "$$\n",
    "|\\Phi_i^a\\rangle = \\hat{a}_{a}^{\\dagger}\\hat{a}_i|\\Phi_0\\rangle,\n",
    "$$"
   ]
  },
  {
   "cell_type": "markdown",
   "id": "36398125",
   "metadata": {
    "editable": true
   },
   "source": [
    "while a $2p2h$ state can be written as"
   ]
  },
  {
   "cell_type": "markdown",
   "id": "c5a1df6d",
   "metadata": {
    "editable": true
   },
   "source": [
    "$$\n",
    "|\\Phi_{ij}^{ab}\\rangle = \\hat{a}_{a}^{\\dagger}\\hat{a}_{b}^{\\dagger}\\hat{a}_j\\hat{a}_i|\\Phi_0\\rangle,\n",
    "$$"
   ]
  },
  {
   "cell_type": "markdown",
   "id": "659dd42d",
   "metadata": {
    "editable": true
   },
   "source": [
    "and a general $ApAh$ state as"
   ]
  },
  {
   "cell_type": "markdown",
   "id": "2854e88c",
   "metadata": {
    "editable": true
   },
   "source": [
    "$$\n",
    "|\\Phi_{ijk\\dots}^{abc\\dots}\\rangle = \\hat{a}_{a}^{\\dagger}\\hat{a}_{b}^{\\dagger}\\hat{a}_{c}^{\\dagger}\\dots\\hat{a}_k\\hat{a}_j\\hat{a}_i|\\Phi_0\\rangle.\n",
    "$$"
   ]
  },
  {
   "cell_type": "markdown",
   "id": "de4304b6",
   "metadata": {
    "editable": true
   },
   "source": [
    "We use letters $ijkl\\dots$ for states below the Fermi level and $abcd\\dots$ for states above the Fermi level. A general single-particle state is given by letters $pqrs\\dots$."
   ]
  },
  {
   "cell_type": "markdown",
   "id": "ad0851ab",
   "metadata": {
    "editable": true
   },
   "source": [
    "## Many-body perturbation theory\n",
    "\n",
    "We can then expand our exact state function for the ground state \n",
    "as"
   ]
  },
  {
   "cell_type": "markdown",
   "id": "9aebe7f3",
   "metadata": {
    "editable": true
   },
   "source": [
    "$$\n",
    "|\\Psi_0\\rangle=C_0|\\Phi_0\\rangle+\\sum_{ai}C_i^a|\\Phi_i^a\\rangle+\\sum_{abij}C_{ij}^{ab}|\\Phi_{ij}^{ab}\\rangle+\\dots\n",
    "=(C_0+\\hat{C})|\\Phi_0\\rangle,\n",
    "$$"
   ]
  },
  {
   "cell_type": "markdown",
   "id": "39e0d439",
   "metadata": {
    "editable": true
   },
   "source": [
    "where we have introduced the so-called correlation operator"
   ]
  },
  {
   "cell_type": "markdown",
   "id": "a9ec32bd",
   "metadata": {
    "editable": true
   },
   "source": [
    "$$\n",
    "\\hat{C}=\\sum_{ai}C_i^a\\hat{a}_{a}^{\\dagger}\\hat{a}_i  +\\sum_{abij}C_{ij}^{ab}\\hat{a}_{a}^{\\dagger}\\hat{a}_{b}^{\\dagger}\\hat{a}_j\\hat{a}_i+\\dots\n",
    "$$"
   ]
  },
  {
   "cell_type": "markdown",
   "id": "dade980b",
   "metadata": {
    "editable": true
   },
   "source": [
    "## Many-body perturbation theory\n",
    "\n",
    "Since the normalization of $\\Psi_0$ is at our disposal and since $C_0$ is by hypothesis non-zero, we may arbitrarily set $C_0=1$ with \n",
    "corresponding proportional changes in all other coefficients. Using this so-called intermediate normalization we have"
   ]
  },
  {
   "cell_type": "markdown",
   "id": "c3ad3812",
   "metadata": {
    "editable": true
   },
   "source": [
    "$$\n",
    "\\langle \\Psi_0 | \\Phi_0 \\rangle = \\langle \\Phi_0 | \\Phi_0 \\rangle = 1,\n",
    "$$"
   ]
  },
  {
   "cell_type": "markdown",
   "id": "28d2f149",
   "metadata": {
    "editable": true
   },
   "source": [
    "resulting in"
   ]
  },
  {
   "cell_type": "markdown",
   "id": "8f13e368",
   "metadata": {
    "editable": true
   },
   "source": [
    "$$\n",
    "|\\Psi_0\\rangle=(1+\\hat{C})|\\Phi_0\\rangle.\n",
    "$$"
   ]
  },
  {
   "cell_type": "markdown",
   "id": "23982d97",
   "metadata": {
    "editable": true
   },
   "source": [
    "## Many-body perturbation theory\n",
    "\n",
    "In an FCI calculation, the unknown coefficients in $\\hat{C}$ are the \n",
    "eigenvectors which result from the diagonalization of the Hamiltonian matrix.\n",
    "\n",
    "How can we use perturbation theory to determine the same coefficients? Let us study the contributions to second order in the interaction, namely"
   ]
  },
  {
   "cell_type": "markdown",
   "id": "998c43d9",
   "metadata": {
    "editable": true
   },
   "source": [
    "$$\n",
    "\\Delta E^{(2)}=\\langle\\Phi_0\\vert \\hat{H}_I\\frac{\\hat{Q}}{W_0-\\hat{H}_0}\\hat{H}_I\\vert \\Phi_0\\rangle.\n",
    "$$"
   ]
  },
  {
   "cell_type": "markdown",
   "id": "f4d91f0d",
   "metadata": {
    "editable": true
   },
   "source": [
    "## Many-body perturbation theory\n",
    "\n",
    "The intermediate states given by $\\hat{Q}$ can at most be of a $2p-2h$ nature if we have a two-body Hamiltonian. This means that second order in the perturbation theory can have $1p-1h$ and $2p-2h$ at most as intermediate states. When we diagonalize, these contributions are included to infinite order. This means that higher-orders in perturbation theory bring in more complicated correlations. \n",
    "\n",
    "If we limit the attention to a Hartree-Fock basis, then we have that\n",
    "$\\langle\\Phi_0\\vert \\hat{H}_I \\vert 2p-2h\\rangle$ is the only contribution and the contribution to the energy reduces to"
   ]
  },
  {
   "cell_type": "markdown",
   "id": "62bf5cf5",
   "metadata": {
    "editable": true
   },
   "source": [
    "$$\n",
    "\\Delta E^{(2)}=\\frac{1}{4}\\sum_{abij}\\langle ij\\vert \\hat{v}\\vert ab\\rangle \\frac{\\langle ab\\vert \\hat{v}\\vert ij\\rangle}{\\epsilon_i+\\epsilon_j-\\epsilon_a-\\epsilon_b}.\n",
    "$$"
   ]
  },
  {
   "cell_type": "markdown",
   "id": "d289a5a1",
   "metadata": {
    "editable": true
   },
   "source": [
    "## Many-body perturbation theory\n",
    "\n",
    "If we compare this to the correlation energy obtained from full configuration interaction theory with a Hartree-Fock basis, we found that"
   ]
  },
  {
   "cell_type": "markdown",
   "id": "fc43fb12",
   "metadata": {
    "editable": true
   },
   "source": [
    "$$\n",
    "E-E_0 =\\Delta E=\n",
    "\\sum_{abij}\\langle ij | \\hat{v}| ab \\rangle C_{ij}^{ab},\n",
    "$$"
   ]
  },
  {
   "cell_type": "markdown",
   "id": "ee746412",
   "metadata": {
    "editable": true
   },
   "source": [
    "where the energy $E_0$ is the reference energy and $\\Delta E$ defines the so-called correlation energy."
   ]
  },
  {
   "cell_type": "markdown",
   "id": "a8a2721f",
   "metadata": {
    "editable": true
   },
   "source": [
    "## Many-body perturbation theory\n",
    "\n",
    "We see that if we set"
   ]
  },
  {
   "cell_type": "markdown",
   "id": "5d65b819",
   "metadata": {
    "editable": true
   },
   "source": [
    "$$\n",
    "C_{ij}^{ab} =\\frac{1}{4}\\frac{\\langle ab \\vert \\hat{v} \\vert ij \\rangle}{\\epsilon_i+\\epsilon_j-\\epsilon_a-\\epsilon_b},\n",
    "$$"
   ]
  },
  {
   "cell_type": "markdown",
   "id": "eeca0730",
   "metadata": {
    "editable": true
   },
   "source": [
    "we have a perfect agreement between FCI and MBPT. However, FCI includes such $2p-2h$ correlations to infinite order. In order to make a meaningful comparison we would at least need to sum such correlations to infinite order in perturbation theory."
   ]
  },
  {
   "cell_type": "markdown",
   "id": "9b00ad9c",
   "metadata": {
    "editable": true
   },
   "source": [
    "## Many-body perturbation theory\n",
    "\n",
    "Summing up, we can see that\n",
    "* MBPT introduces order-by-order specific correlations and we make comparisons with exact calculations like FCI\n",
    "\n",
    "* At every order, we can calculate all contributions since they are well-known and either tabulated or calculated on the fly.\n",
    "\n",
    "* MBPT is a non-variational theory and there is no guarantee that higher orders will improve the convergence. \n",
    "\n",
    "* However, since FCI calculations are limited by the size of the Hamiltonian matrices to diagonalize (today's most efficient codes can attach dimensionalities of ten billion basis states, MBPT can function as an approximative method which gives a straightforward (but tedious) calculation recipe. \n",
    "\n",
    "* MBPT has been widely used to compute effective interactions for the nuclear shell-model.\n",
    "\n",
    "* But there are better methods which sum to infinite order important correlations. Coupled cluster theory is one of these methods."
   ]
  }
 ],
 "metadata": {},
 "nbformat": 4,
 "nbformat_minor": 5
}
