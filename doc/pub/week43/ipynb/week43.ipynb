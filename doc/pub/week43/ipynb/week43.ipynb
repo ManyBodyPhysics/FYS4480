{
 "cells": [
  {
   "cell_type": "markdown",
   "id": "bb5c8ac2",
   "metadata": {
    "editable": true
   },
   "source": [
    "<!-- HTML file automatically generated from DocOnce source (https://github.com/doconce/doconce/)\n",
    "doconce format html week43.do.txt --no_mako -->\n",
    "<!-- dom:TITLE: Week 43: Density Functional Theory and start Many-body Perturbation Theory -->"
   ]
  },
  {
   "cell_type": "markdown",
   "id": "b8ba1084",
   "metadata": {
    "editable": true
   },
   "source": [
    "# Week 43: Density Functional Theory and start Many-body Perturbation Theory\n",
    "**Morten Hjorth-Jensen**, Department of Physics and Center for Computing in Science Education, University of Oslo, Norway and Department of Physics and Astronomy and Facility for Rare Isotope Beams, Michigan State University, USA\n",
    "\n",
    "Date: **Week 43, October 21-25**"
   ]
  },
  {
   "cell_type": "markdown",
   "id": "7dd91064",
   "metadata": {
    "editable": true
   },
   "source": [
    "## Week 43, October 21-25, 2024\n",
    "1. Thursday:\n",
    "\n",
    "a. Density functional theory, the Hohenberg-Kohn theorems\n",
    "\n",
    "b. Kohn-Sham equations\n",
    "<!-- o [Video of lecture at](https://www.youtube.com/) -->\n",
    "\n",
    "3. Friday:\n",
    "\n",
    "a. Kohn-Sham equations and the local density approximation and links with Hartree-Fock theory\n",
    "\n",
    "b. Start many-body perturbation theory\n",
    "<!-- o \"Video of lecture TBA\":\"https:/\" -->\n",
    "\n",
    "3. No exercises this week"
   ]
  },
  {
   "cell_type": "markdown",
   "id": "9c8ebbdc",
   "metadata": {
    "editable": true
   },
   "source": [
    "## Density Functional Theory (DFT)\n",
    "\n",
    "Hohenberg and Kohn proved that the total energy of a system including that of the many-body \n",
    "effects of electrons (exchange and correlation) in the presence of static external potential (for example, the atomic nuclei) \n",
    "is a unique functional of the charge density. The minimum value of the total energy functional \n",
    "is the ground state energy of the system. The electronic charge density which yields this \n",
    "minimum is then the exact single particle ground state energy.\n",
    "\n",
    "In Hartree-Fock theory  one works with large basis sets. This\n",
    "poses a problem for large systems. An alternative to the HF methods is\n",
    "DFT. DFT  takes into \n",
    "account electron correlations but is less demanding computationally\n",
    "than full scale diagonalization, Coupled Cluster theory or say Monte Carlo methods."
   ]
  },
  {
   "cell_type": "markdown",
   "id": "40b936db",
   "metadata": {
    "editable": true
   },
   "source": [
    "## The many-particle equation\n",
    "\n",
    "Any material on earth, whether in crystals, amorphous solids,\n",
    "molecules or yourself, consists of nothing else than a bunch of atoms,\n",
    "ions and electrons bound together by electric forces. All these\n",
    "possible forms of matter can be explained by virtue of one simple\n",
    "equation: the many-particle Schr\\\"{o}dinger equation,"
   ]
  },
  {
   "cell_type": "markdown",
   "id": "25176bb7",
   "metadata": {
    "editable": true
   },
   "source": [
    "<!-- Equation labels as ordinary links -->\n",
    "<div id=\"_auto1\"></div>\n",
    "\n",
    "$$\n",
    "\\begin{equation}\n",
    "\ti \\hbar \\frac{\\partial}{\\partial t} \\Phi( \\boldsymbol{r} ; t) = \n",
    "\t\\left( - \\sum_{i}^N \\frac{\\hbar^2}{2m_i} \\frac{\\partial^2}{\\partial \\boldsymbol{r}_i^2}\n",
    "\t+ \\sum_{i<j}^N \\frac{e^2 Z_i Z_j }{ | \\boldsymbol{r}_i - \\boldsymbol{r}_j| } \\right)  \\Phi( \\boldsymbol{r} ; t).\n",
    "\\label{_auto1} \\tag{1}\n",
    "\\end{equation}\n",
    "$$"
   ]
  },
  {
   "cell_type": "markdown",
   "id": "aed9922c",
   "metadata": {
    "editable": true
   },
   "source": [
    "Here $\\Phi(\\boldsymbol{r} ; t)$ is the many-body wavefunction for $N$ particles, where each particle has its own mass $m_i$, charge $Z_i$ and position $\\boldsymbol{r}_i$. The only interaction is the Coulomb interaction $e^2/r$."
   ]
  },
  {
   "cell_type": "markdown",
   "id": "2b1ad755",
   "metadata": {
    "editable": true
   },
   "source": [
    "## Born-Oppenheimer approximation\n",
    "\n",
    "In atomic and molecular physics, materials science and quantum chemsitry, the Born-Oppenheimer  approximation arises from the physical problem we want to\n",
    "study: the ground state of a collection of interacting ions and\n",
    "electrons. Because even the lightest ion is more than a thousand times\n",
    "heavier than an electron, we approximate our Hamiltonian  to not include  the dynamics of the\n",
    "ions all-together. This is known as the **Born-Oppenheimer**\n",
    "approximation."
   ]
  },
  {
   "cell_type": "markdown",
   "id": "3afcd3b7",
   "metadata": {
    "editable": true
   },
   "source": [
    "## Time-independent equation\n",
    "\n",
    "We then write the time-independent Schr\\\"{o}dinger\n",
    "equation for a collection of $N$ electrons subject to the\n",
    "electric potential created by the fixed ions, labeled $v_{\\mathrm{ext}}(\\boldsymbol{r})$,"
   ]
  },
  {
   "cell_type": "markdown",
   "id": "6a769cbc",
   "metadata": {
    "editable": true
   },
   "source": [
    "$$\n",
    "\\left( \\sum_{i}^N \\left( - \\frac{\\hbar^2}{2m} \\frac{\\partial^2}{\\partial \\boldsymbol{r}_i^2}\n",
    "\t+ v_{\\mathrm{ext}}(\\boldsymbol{r}_i) \\right)\n",
    "\t + \\sum_{i<j}^N \\frac{e^2}{|\\boldsymbol{r}_i - \\boldsymbol{r}_j|} \\right) \\Psi(\\boldsymbol{r}) = E_0  \\Psi( \\boldsymbol{r} ),\n",
    "$$"
   ]
  },
  {
   "cell_type": "markdown",
   "id": "2321c54e",
   "metadata": {
    "editable": true
   },
   "source": [
    "where $\\boldsymbol{r}_i$ are the positions of the electrons.\n",
    "\n",
    "We can replace the explicit Coulomb repulsion with a generic two-body interaction"
   ]
  },
  {
   "cell_type": "markdown",
   "id": "78b6aa42",
   "metadata": {
    "editable": true
   },
   "source": [
    "$$\n",
    "\\sum_{i}^N \\left( - \\frac{\\hbar^2}{2m} \\frac{\\partial^2}{\\partial \\boldsymbol{r}_i^2}\n",
    "\t+ v_{\\mathrm{ext}}(\\boldsymbol{r}_i) \\right)\n",
    "\t + \\sum_{i<j}^N v(r_{ij}) = E_0  \\Psi( \\boldsymbol{r} ),\n",
    "$$"
   ]
  },
  {
   "cell_type": "markdown",
   "id": "80cb45a5",
   "metadata": {
    "editable": true
   },
   "source": [
    "where $r_{ij}=\\vert \\boldsymbol{r}_i-\\boldsymbol{r}_j\\vert$."
   ]
  },
  {
   "cell_type": "markdown",
   "id": "45fb9e1d",
   "metadata": {
    "editable": true
   },
   "source": [
    "## Potential term\n",
    "The potential\n",
    "$v_{\\mathrm{ext}}(\\boldsymbol{r}_i)$ is created by the charged ions,"
   ]
  },
  {
   "cell_type": "markdown",
   "id": "e4c1698d",
   "metadata": {
    "editable": true
   },
   "source": [
    "$$\n",
    "v_{\\mathrm{ext}}(\\boldsymbol{r}_i) = - \\sum_j \\frac{e^2 Z_j}{| \\boldsymbol{r}_i - \\boldsymbol{R}_j|}\n",
    "$$"
   ]
  },
  {
   "cell_type": "markdown",
   "id": "324c67af",
   "metadata": {
    "editable": true
   },
   "source": [
    "where $\\boldsymbol{R}$ is the (static) positions of the ions and $Z_j$ their\n",
    "charge."
   ]
  },
  {
   "cell_type": "markdown",
   "id": "dd85bcfe",
   "metadata": {
    "editable": true
   },
   "source": [
    "## The one-body density\n",
    "\n",
    "The one-body reduced density matrix of a many-body system at zero\n",
    "temperature gives direct access to many observables, such as the charge density,\n",
    "kinetic energy and occupation numbers. In a coordinate representation it is defined as\n",
    "as the expectation value of the number operator"
   ]
  },
  {
   "cell_type": "markdown",
   "id": "8151efc2",
   "metadata": {
    "editable": true
   },
   "source": [
    "$$\n",
    "\\hat{n}(\\boldsymbol{r})=\\sum_{i=1}^N\\delta(\\boldsymbol{r}-\\boldsymbol{r}_i),\n",
    "$$"
   ]
  },
  {
   "cell_type": "markdown",
   "id": "275cf98f",
   "metadata": {
    "editable": true
   },
   "source": [
    "resulting in"
   ]
  },
  {
   "cell_type": "markdown",
   "id": "4dc4332e",
   "metadata": {
    "editable": true
   },
   "source": [
    "$$\n",
    "n(\\boldsymbol{r})=\\frac{\\langle \\Psi \\vert \\hat{n}(\\boldsymbol{r}) \\vert \\Psi \\rangle}{\\langle \\Psi\\vert \\Psi \\rangle}.\n",
    "$$"
   ]
  },
  {
   "cell_type": "markdown",
   "id": "16f0c04f",
   "metadata": {
    "editable": true
   },
   "source": [
    "Here $\\Psi$ can be any state. In the equations that follow we assume it has been normalized properly."
   ]
  },
  {
   "cell_type": "markdown",
   "id": "b58df5e6",
   "metadata": {
    "editable": true
   },
   "source": [
    "## One-body density\n",
    "\n",
    "The one-body or just electronic density here, is thus obtained by integrating out all electron\n",
    "degrees of freedom except one, that is (setting $\\boldsymbol{r}=\\boldsymbol{r}_1$)"
   ]
  },
  {
   "cell_type": "markdown",
   "id": "b4a2f1e0",
   "metadata": {
    "editable": true
   },
   "source": [
    "$$\n",
    "n(\\boldsymbol{r})=n(\\boldsymbol{r}_1) = \\int d^3 \\boldsymbol{r}_2 \\cdots d^3 \\boldsymbol{r}_N\n",
    "\t\t\\left| \\Psi (\\boldsymbol{r}_1 \\cdots \\boldsymbol{r}_n) \\right|^2.\n",
    "$$"
   ]
  },
  {
   "cell_type": "markdown",
   "id": "08d9b415",
   "metadata": {
    "editable": true
   },
   "source": [
    "If $\\Psi$ is a single reference Slater determinant defined in terms of the single-particle functions $\\psi_i$, then we have"
   ]
  },
  {
   "cell_type": "markdown",
   "id": "952e80e8",
   "metadata": {
    "editable": true
   },
   "source": [
    "$$\n",
    "n(\\boldsymbol{r})=\\sum_{i=1}^N\\vert \\psi_i(\\boldsymbol{r})\\vert^2,\n",
    "$$"
   ]
  },
  {
   "cell_type": "markdown",
   "id": "bec82fff",
   "metadata": {
    "editable": true
   },
   "source": [
    "as derived earlier."
   ]
  },
  {
   "cell_type": "markdown",
   "id": "2cea5b4f",
   "metadata": {
    "editable": true
   },
   "source": [
    "## More on the one-body density\n",
    "\n",
    "As defined above, \n",
    "the one-body density in coordinate space is defined as"
   ]
  },
  {
   "cell_type": "markdown",
   "id": "86afc82b",
   "metadata": {
    "editable": true
   },
   "source": [
    "$$\n",
    "\\rho({\\bf r}) = \\sum_{i=1}^N \\delta({\\bf r}-{\\bf r}_i).\n",
    "$$"
   ]
  },
  {
   "cell_type": "markdown",
   "id": "7bb737ae",
   "metadata": {
    "editable": true
   },
   "source": [
    "In second quantization this becomes"
   ]
  },
  {
   "cell_type": "markdown",
   "id": "99634b5f",
   "metadata": {
    "editable": true
   },
   "source": [
    "$$\n",
    "\\hat{\\rho}({\\bf r}) = \\sum_{\\alpha\\beta}^{\\infty}\\rho_{\\alpha,\\beta}({\\bf r}) a^{\\dagger}_{\\alpha}a_{\\beta}.\n",
    "$$"
   ]
  },
  {
   "cell_type": "markdown",
   "id": "7fc3f4f8",
   "metadata": {
    "editable": true
   },
   "source": [
    "where"
   ]
  },
  {
   "cell_type": "markdown",
   "id": "f07f85b0",
   "metadata": {
    "editable": true
   },
   "source": [
    "$$\n",
    "\\rho_{\\alpha,\\beta}({\\bf r})= \\psi^*_{\\alpha}({\\bf r})\\psi_{\\beta}({\\bf r}).\n",
    "$$"
   ]
  },
  {
   "cell_type": "markdown",
   "id": "14540ff8",
   "metadata": {
    "editable": true
   },
   "source": [
    "## Number of particles\n",
    "\n",
    "The number of particles is $N$ and the integral of the expectation value of the one-body density operator should give you $N$ particles. \n",
    "With an appropriate similarity transformation we can make this operator diagonal in the single-particle basis $\\psi_{\\alpha}$. \n",
    "That is"
   ]
  },
  {
   "cell_type": "markdown",
   "id": "656e0c9c",
   "metadata": {
    "editable": true
   },
   "source": [
    "$$\n",
    "\\hat{\\rho}({\\bf r}) = \\sum_{\\alpha=1}^{\\infty} |\\psi_{\\alpha}({\\bf r})|^2a^{\\dagger}_{\\alpha}a_{\\alpha}=\n",
    "\\hat{\\rho}({\\bf r}) = \\sum_{\\alpha=1}^{\\infty}\\rho_{\\alpha\\alpha}({\\bf r}) a^{\\dagger}_{\\alpha}a_{\\alpha}.\n",
    "$$"
   ]
  },
  {
   "cell_type": "markdown",
   "id": "b1023ff3",
   "metadata": {
    "editable": true
   },
   "source": [
    "## Ground state function\n",
    "\n",
    "The ground state wave function $|\\Psi_0\\rangle$ is a linear combination of all $D$ possible Slater determinants \n",
    "$|\\Phi_i\\rangle$"
   ]
  },
  {
   "cell_type": "markdown",
   "id": "e1a88f0d",
   "metadata": {
    "editable": true
   },
   "source": [
    "$$\n",
    "|\\Psi_0\\rangle=\\sum_{i=1}^DC_{0i}|\\Phi_i\\rangle,\n",
    "$$"
   ]
  },
  {
   "cell_type": "markdown",
   "id": "880d1dd4",
   "metadata": {
    "editable": true
   },
   "source": [
    "where the  coefficients $C_{0i}$ could arise from an FCI calculation using a given Slater determinant basis"
   ]
  },
  {
   "cell_type": "markdown",
   "id": "93c52e78",
   "metadata": {
    "editable": true
   },
   "source": [
    "$$\n",
    "|\\Phi_i\\rangle = a^{\\dagger}_1a^{\\dagger}_2\\dots a^{\\dagger}_N |0\\rangle.\n",
    "$$"
   ]
  },
  {
   "cell_type": "markdown",
   "id": "c4968f09",
   "metadata": {
    "editable": true
   },
   "source": [
    "## Ground state expectation value\n",
    "\n",
    "The ground state expectation value of the one-body density operator is"
   ]
  },
  {
   "cell_type": "markdown",
   "id": "77ac373f",
   "metadata": {
    "editable": true
   },
   "source": [
    "$$\n",
    "\\langle\\hat{\\rho}({\\bf r})\\rangle = \\langle \\Psi_0|\\sum_{\\alpha=1}^{\\infty} \\rho_{\\alpha,\\alpha}({\\bf r})a^{\\dagger}_{\\alpha}a_{\\alpha}|\\Psi_0\\rangle,\n",
    "$$"
   ]
  },
  {
   "cell_type": "markdown",
   "id": "4e8b0e5d",
   "metadata": {
    "editable": true
   },
   "source": [
    "which translates into"
   ]
  },
  {
   "cell_type": "markdown",
   "id": "7085cddf",
   "metadata": {
    "editable": true
   },
   "source": [
    "$$\n",
    "\\langle\\hat{\\rho}({\\bf r})\\rangle = \\sum_{ij=1}^DC^*_{0i}C_{0j}\\langle \\Phi_i|\\sum_{\\alpha=1}^{\\infty} \\rho_{\\alpha,\\alpha}({\\bf r})a^{\\dagger}_{\\alpha}a_{\\alpha}|\\Phi_j\\rangle.\n",
    "$$"
   ]
  },
  {
   "cell_type": "markdown",
   "id": "7a11c305",
   "metadata": {
    "editable": true
   },
   "source": [
    "Integrating"
   ]
  },
  {
   "cell_type": "markdown",
   "id": "63ed3337",
   "metadata": {
    "editable": true
   },
   "source": [
    "$$\n",
    "\\int \\langle\\hat{\\rho}({\\bf r})\\rangle d {\\bf r},\n",
    "$$"
   ]
  },
  {
   "cell_type": "markdown",
   "id": "42f64d31",
   "metadata": {
    "editable": true
   },
   "source": [
    "gives us $N$, the number of particles!"
   ]
  },
  {
   "cell_type": "markdown",
   "id": "8d774495",
   "metadata": {
    "editable": true
   },
   "source": [
    "## Density Functional Theory, definitions, twobody density\n",
    "\n",
    "The two-body densities is a simple extension of the one-body density"
   ]
  },
  {
   "cell_type": "markdown",
   "id": "bd5f1a2f",
   "metadata": {
    "editable": true
   },
   "source": [
    "$$\n",
    "\\rho({\\bf r}_1, {\\bf r}_2) = \\sum_{ij=1}^N \\delta({\\bf r}_1-{\\bf r}_i)\\delta({\\bf r}_2-{\\bf r}_j),\n",
    "$$"
   ]
  },
  {
   "cell_type": "markdown",
   "id": "7b008f9b",
   "metadata": {
    "editable": true
   },
   "source": [
    "which in second quantization becomes"
   ]
  },
  {
   "cell_type": "markdown",
   "id": "c5ce507b",
   "metadata": {
    "editable": true
   },
   "source": [
    "$$\n",
    "\\hat{\\rho}({\\bf r}_1, {\\bf r}_2) = \\sum_{\\alpha\\beta\\gamma\\delta}^{\\infty}\\rho_{\\alpha,\\gamma}({\\bf r}_1)\\rho_{\\beta,\\delta}({\\bf r}_2)a^{\\dagger}_{\\alpha}a^{\\dagger}_{\\beta}a_{\\delta}a_{\\gamma},\n",
    "$$"
   ]
  },
  {
   "cell_type": "markdown",
   "id": "edbba7ac",
   "metadata": {
    "editable": true
   },
   "source": [
    "meaning that the ground-state two-body density is"
   ]
  },
  {
   "cell_type": "markdown",
   "id": "2f054922",
   "metadata": {
    "editable": true
   },
   "source": [
    "$$\n",
    "\\langle\\hat{\\rho}({\\bf r}_1, {\\bf r}_2) \\rangle = \\sum_{ij=1}^DC^*_{0i}C_{0j}\\langle \\Phi_i|\\sum_{\\alpha\\beta\\gamma\\delta}^{\\infty}\\rho_{\\alpha,\\gamma}({\\bf r}_1)\\rho_{\\beta,\\delta}({\\bf r}_2)a^{\\dagger}_{\\alpha}a^{\\dagger}_{\\beta}a_{\\delta}a_{\\gamma}  |\\Phi_j\\rangle.\n",
    "$$"
   ]
  },
  {
   "cell_type": "markdown",
   "id": "c8109883",
   "metadata": {
    "editable": true
   },
   "source": [
    "## Hartree-Fock equations and density matrix\n",
    "\n",
    "The Hartree-Fock algorithm can be broken down as follows. We recall that  our Hartree-Fock matrix  is"
   ]
  },
  {
   "cell_type": "markdown",
   "id": "08055c40",
   "metadata": {
    "editable": true
   },
   "source": [
    "$$\n",
    "\\hat{h}_{\\alpha\\beta}^{HF}=\\langle \\alpha \\vert\\hat{h}_0 \\vert \\beta \\rangle+\n",
    "\\sum_{j=1}^N\\sum_{\\gamma\\delta} C^*_{j\\gamma}C_{j\\delta}\\langle \\alpha\\gamma|V|\\beta\\delta\\rangle_{AS}.\n",
    "$$"
   ]
  },
  {
   "cell_type": "markdown",
   "id": "9bb7075a",
   "metadata": {
    "editable": true
   },
   "source": [
    "Normally we assume that the single-particle basis $\\vert\\beta\\rangle$\n",
    "forms an eigenbasis for the operator $\\hat{h}_0$, meaning that the\n",
    "Hartree-Fock matrix becomes"
   ]
  },
  {
   "cell_type": "markdown",
   "id": "4e674809",
   "metadata": {
    "editable": true
   },
   "source": [
    "$$\n",
    "\\hat{h}_{\\alpha\\beta}^{HF}=\\epsilon_{\\alpha}\\delta_{\\alpha,\\beta}+\n",
    "\\sum_{j=1}^N\\sum_{\\gamma\\delta} C^*_{j\\gamma}C_{j\\delta}\\langle \\alpha\\gamma|V|\\beta\\delta\\rangle_{AS}.\n",
    "$$"
   ]
  },
  {
   "cell_type": "markdown",
   "id": "6c731599",
   "metadata": {
    "editable": true
   },
   "source": [
    "## Hartree-Fock equations and density matrix\n",
    "\n",
    "The Hartree-Fock eigenvalue problem"
   ]
  },
  {
   "cell_type": "markdown",
   "id": "9a004a76",
   "metadata": {
    "editable": true
   },
   "source": [
    "$$\n",
    "\\sum_{\\beta}\\hat{h}_{\\alpha\\beta}^{HF}C_{i\\beta}=\\epsilon_i^{\\mathrm{HF}}C_{i\\alpha},\n",
    "$$"
   ]
  },
  {
   "cell_type": "markdown",
   "id": "6296b7bc",
   "metadata": {
    "editable": true
   },
   "source": [
    "can be written out in a more compact form as"
   ]
  },
  {
   "cell_type": "markdown",
   "id": "ea347af0",
   "metadata": {
    "editable": true
   },
   "source": [
    "$$\n",
    "\\hat{h}^{HF}\\hat{C}=\\epsilon^{\\mathrm{HF}}\\hat{C}.\n",
    "$$"
   ]
  },
  {
   "cell_type": "markdown",
   "id": "365fdbc0",
   "metadata": {
    "editable": true
   },
   "source": [
    "## Hartree-Fock equations and density matrix\n",
    "\n",
    "The equations are often rewritten in terms of a so-called density matrix,\n",
    "which is defined as"
   ]
  },
  {
   "cell_type": "markdown",
   "id": "4556cbf0",
   "metadata": {
    "editable": true
   },
   "source": [
    "$$\n",
    "\\rho_{\\gamma\\delta}=\\sum_{i=1}^{N}\\langle\\gamma|i\\rangle\\langle i|\\delta\\rangle = \\sum_{i=1}^{N}C_{i\\gamma}C^*_{i\\delta}.\n",
    "$$"
   ]
  },
  {
   "cell_type": "markdown",
   "id": "460e7b70",
   "metadata": {
    "editable": true
   },
   "source": [
    "It means that we can rewrite the Hartree-Fock Hamiltonian as"
   ]
  },
  {
   "cell_type": "markdown",
   "id": "40cf65f5",
   "metadata": {
    "editable": true
   },
   "source": [
    "$$\n",
    "\\hat{h}_{\\alpha\\beta}^{HF}=\\epsilon_{\\alpha}\\delta_{\\alpha,\\beta}+\n",
    "\\sum_{\\gamma\\delta} \\rho_{\\gamma\\delta}\\langle \\alpha\\gamma|V|\\beta\\delta\\rangle_{AS}.\n",
    "$$"
   ]
  },
  {
   "cell_type": "markdown",
   "id": "cb67e74d",
   "metadata": {
    "editable": true
   },
   "source": [
    "It is convenient to use the density matrix since we can precalculate in every iteration the product of two eigenvector components $C$. \n",
    "\n",
    "Note that $\\langle \\alpha\\vert\\hat{h}_0\\vert\\beta \\rangle$ denotes the\n",
    "matrix elements of the one-body part of the starting hamiltonian."
   ]
  },
  {
   "cell_type": "markdown",
   "id": "bd3a269a",
   "metadata": {
    "editable": true
   },
   "source": [
    "## Density Functional Theory\n",
    "\n",
    "The electronic energy $E$ is said to be a \\emph{functional} of the\n",
    "electronic density, $E[\\rho]$, in the sense that for a given function\n",
    "$\\rho(r)$, there is a single corresponding energy. The  \n",
    "\\emph{Hohenberg-Kohn theorem} confirms that such\n",
    "a functional exists, but does not tell us the form of the\n",
    "functional. As shown by Kohn and Sham, the exact ground-state energy\n",
    "$E$ of an $N$-electron system can be written as"
   ]
  },
  {
   "cell_type": "markdown",
   "id": "d9a98115",
   "metadata": {
    "editable": true
   },
   "source": [
    "$$\n",
    "E[\\rho] = -\\frac{1}{2} \\sum_{i=1}^N\\int\n",
    "  \\Psi_i^*(\\mathbf{r_1})\\nabla_1^2 \\Psi_i(\\mathbf{r_1}) d\\mathbf{r_1}\n",
    "  - \\int \\frac{Z}{r_1} \\rho(\\mathbf{r_1}) d\\mathbf{r_1} +\n",
    "  \\frac{1}{2} \\int\\frac{\\rho(\\mathbf{r_1})\\rho(\\mathbf{r_2})}{r_{12}}\n",
    "  d\\mathbf{r_1}d\\mathbf{r_2} + E_{XC}[\\rho]\n",
    "$$"
   ]
  },
  {
   "cell_type": "markdown",
   "id": "ef23adc9",
   "metadata": {
    "editable": true
   },
   "source": [
    "with $\\Psi_i$ the \\emph{Kohn-Sham} (KS) \\emph{orbitals}.\n",
    "Note that we have limited ourselves to atomic physics here.\n",
    "\n",
    "How do we arrive at the above equation?"
   ]
  },
  {
   "cell_type": "markdown",
   "id": "fb6e0534",
   "metadata": {
    "editable": true
   },
   "source": [
    "## Density Functional Theory\n",
    "\n",
    "The ground-state charge density is given by"
   ]
  },
  {
   "cell_type": "markdown",
   "id": "3d464ff2",
   "metadata": {
    "editable": true
   },
   "source": [
    "$$\n",
    "\\rho(\\mathbf{r}) = \\sum_{i=1}^N|\\Psi_i(\\mathbf{r})|^2,\n",
    "$$"
   ]
  },
  {
   "cell_type": "markdown",
   "id": "95eb2f0e",
   "metadata": {
    "editable": true
   },
   "source": [
    "where the sum is over the occupied Kohn-Sham orbitals. The last term,\n",
    "$E_{XC}[\\rho]$, is the \\emph{exchange-correlation energy} which in\n",
    "theory takes into account all non-classical electron-electron\n",
    "interaction. However, we do not know how to obtain this term exactly,\n",
    "and are forced to approximate it. The KS orbitals are found by solving\n",
    "the \\emph{Kohn-Sham equations}, which can be found by applying a\n",
    "variational principle to the electronic energy $E[\\rho]$. This approach\n",
    "is similar to the one used for obtaining the HF equation."
   ]
  },
  {
   "cell_type": "markdown",
   "id": "f67e1162",
   "metadata": {
    "editable": true
   },
   "source": [
    "## Density Functional Theory\n",
    "\n",
    "The KS equations reads"
   ]
  },
  {
   "cell_type": "markdown",
   "id": "ea72abed",
   "metadata": {
    "editable": true
   },
   "source": [
    "$$\n",
    "\\left\\{ -\\frac{1}{2}\\nabla_1^2 - \\frac{Z}{r_1} + \\int \n",
    "  \\frac{\\rho(\\mathbf{r_2})}{r_{12}} d\\mathbf{r_2} +\n",
    "  V_{XC}(\\mathbf{r_1}) \\right\\} \\Psi_i(\\mathbf{r_1}) =\n",
    "  \\epsilon_i \\Psi_i(\\mathbf{r_1})\n",
    "$$"
   ]
  },
  {
   "cell_type": "markdown",
   "id": "20c291ad",
   "metadata": {
    "editable": true
   },
   "source": [
    "where $\\epsilon_i$ are the KS orbital energies, and where the \n",
    "\\emph{exchange-correlation potential} is given by"
   ]
  },
  {
   "cell_type": "markdown",
   "id": "add6cc51",
   "metadata": {
    "editable": true
   },
   "source": [
    "$$\n",
    "V_{XC}[\\rho] = \\frac{\\delta E_{XC}[\\rho]}{\\delta \\rho}.\n",
    "$$"
   ]
  },
  {
   "cell_type": "markdown",
   "id": "dd327014",
   "metadata": {
    "editable": true
   },
   "source": [
    "## Density Functional Theory\n",
    "\n",
    "The KS equations are solved in a self-consistent fashion. A variety of\n",
    "basis set functions  can be used, and the experience gained in HF\n",
    "calculations are often useful. The computational time needed for a DFT\n",
    "calculation formally scales as the third power of the number of basis\n",
    "functions. \n",
    "\n",
    "The main source of error in DFT usually arises from the approximate\n",
    "nature of $E_{XC}$. In the \\emph{local density approximation} (LDA) it\n",
    "is approximated as"
   ]
  },
  {
   "cell_type": "markdown",
   "id": "ea23c781",
   "metadata": {
    "editable": true
   },
   "source": [
    "$$\n",
    "E_{XC} = \\int \\rho(\\mathbf{r})\\epsilon_{XC}[\\rho(\\mathbf{r})]\n",
    "  d\\mathbf{r},\n",
    "$$"
   ]
  },
  {
   "cell_type": "markdown",
   "id": "eb45e1db",
   "metadata": {
    "editable": true
   },
   "source": [
    "where $\\epsilon_{XC}[\\rho(\\mathbf{r})]$ is the exchange-correlation\n",
    "energy per electron in a homogeneous electron gas of constant density.\n",
    "The LDA approach is clearly an approximation as the charge is not\n",
    "continuously distributed. To account for the inhomogeneity of the\n",
    "electron density, a nonlocal correction involving the gradient of\n",
    "$\\rho$ is often added to the exchange-correlation energy."
   ]
  },
  {
   "cell_type": "markdown",
   "id": "9a38b9bf",
   "metadata": {
    "editable": true
   },
   "source": [
    "## Theorem I\n",
    "\n",
    "We assume that there is a\n",
    "$\\mathcal{V}_{\\mathrm{ext}} =$ set of external single-particle \\alert{potentials} $v$ so that"
   ]
  },
  {
   "cell_type": "markdown",
   "id": "8f70cd47",
   "metadata": {
    "editable": true
   },
   "source": [
    "$$\n",
    "\\hat{H}\\vert \\phi\\rangle = \\left(\\hat{T}+\\hat{V}_{\\mathrm{ext}}+\\hat{V}\\right)=E\\vert\\phi\\rangle,\\qquad \\hat{V}_{\\mathrm{ext}}\\in \\mathcal{V}_{\\mathrm{ext}},\\nonumber\n",
    "$$"
   ]
  },
  {
   "cell_type": "markdown",
   "id": "a4c08be4",
   "metadata": {
    "editable": true
   },
   "source": [
    "gives a \\alert{non-degenerate} N-particle ground state $\\vert\\Psi \\rangle_0$.\n",
    "For any system of interacting particles in an external potential \n",
    "$\\mathcal{V}_{\\mathrm{ext}}$, the potential $\\mathcal{V}_{\\mathrm{ext}}$ is uniquely \n",
    "determined (by a near constant) by the ground state density $\\rho_0$.\n",
    "There is a corollary to this statement which states that since $\\hat{H}$ is determined, the many-body functions for all states are also determined. All properties of the system are determined via $\\rho_0$."
   ]
  },
  {
   "cell_type": "markdown",
   "id": "d5541d1f",
   "metadata": {
    "editable": true
   },
   "source": [
    "## Theorem II\n",
    "\n",
    "The density (assuming normalized state vectors)"
   ]
  },
  {
   "cell_type": "markdown",
   "id": "c0ceeaa2",
   "metadata": {
    "editable": true
   },
   "source": [
    "$$\n",
    "\\rho(\\mathbf{r})=\\sum_{i}\\int dx_{2}\\dots \\int dx_{N}\\vert \\Psi(\\mathbf{r},x_{2},\\dots ,x_{N})\\vert^{2} \\nonumber\n",
    "$$"
   ]
  },
  {
   "cell_type": "markdown",
   "id": "e2163548",
   "metadata": {
    "editable": true
   },
   "source": [
    "Theorem II states that a universal functional for the energy $E[\\rho]$ (function of $\\rho$) can be defined for every external potential\n",
    "$\\mathcal{U}_{\\mathrm{ext}}$. For a given external potential, the exact ground state energy of the system is a global minimum of this functional. The density which minimizes this functional is $\\rho_0$."
   ]
  },
  {
   "cell_type": "markdown",
   "id": "3a16d0d3",
   "metadata": {
    "editable": true
   },
   "source": [
    "## Computing $E_{XC}$ from {\\em ab initio} calculations\n",
    "\n",
    "Proof I\n",
    "Let us prove $C:\\mathcal{V}(C)\\longrightarrow \\Psi$  injective:"
   ]
  },
  {
   "cell_type": "markdown",
   "id": "58796e54",
   "metadata": {
    "editable": true
   },
   "source": [
    "$$\n",
    "\\hat{V}\\neq \\hat{V}'+\\text{constant} \\qquad \\stackrel{{\\LARGE ?}}{\\Longrightarrow } \\qquad \\vert \\Psi\\rangle\\neq \\vert \\Psi'\\rangle, \\nonumber\n",
    "$$"
   ]
  },
  {
   "cell_type": "markdown",
   "id": "2f9d9042",
   "metadata": {
    "editable": true
   },
   "source": [
    "where $\\hat{V}, \\hat{V}' \\in \\mathcal{V}$\n",
    "\n",
    "\\textbf{\\emph{Reductio ad absurdum}}: \n",
    "Assume $\\vert \\Psi\\rangle=\\vert \\Psi'\\rangle$ for some $\\hat{V}\\neq \\hat{V}'+\\text{const}$, $\\hat{V}, \\hat{V}' \\in \\mathcal{V}$ \n",
    "\n",
    "$\\hat{T}\\neq \\hat{T}[V]$, $\\hat{W}\\neq \\hat{W}[V] \\quad \\Longrightarrow $\\footnote{Unique continuation theorem: $\\vert \\Psi\\rangle\\neq 0$ on a set of positive measure}"
   ]
  },
  {
   "cell_type": "markdown",
   "id": "9a88adb5",
   "metadata": {
    "editable": true
   },
   "source": [
    "$$\n",
    "\\left(\\hat{V}-\\hat{V}'\\right)\\vert \\Psi \\rangle=\\left(E_{gs}-E_{gs}'\\right)\\vert \\Psi\\rangle.\\nonumber\n",
    "$$"
   ]
  },
  {
   "cell_type": "markdown",
   "id": "829b25a8",
   "metadata": {
    "editable": true
   },
   "source": [
    "$$\n",
    "\\Longrightarrow \\qquad  \\hat{V}-\\hat{V}'=E_{gs}-E_{gs}' \\nonumber\n",
    "$$"
   ]
  },
  {
   "cell_type": "markdown",
   "id": "dd460229",
   "metadata": {
    "editable": true
   },
   "source": [
    "$$\n",
    "\\Longrightarrow \\qquad  \\hat{V}=\\hat{V}'+\\text{constant} \\qquad \\alert{\\text{Contradiction!}}\\nonumber\n",
    "$$"
   ]
  },
  {
   "cell_type": "markdown",
   "id": "0cba44f1",
   "metadata": {
    "editable": true
   },
   "source": [
    "## Computing $E_{XC}$ from {\\em ab initio} calculations\n",
    "\n",
    "Proof II: Let us prove $D:\\Psi \\longrightarrow \\mathcal{N}$ injective:"
   ]
  },
  {
   "cell_type": "markdown",
   "id": "064037df",
   "metadata": {
    "editable": true
   },
   "source": [
    "$$\n",
    "\\vert \\Psi\\rangle\\neq \\vert \\Psi'\\rangle \\qquad \\stackrel{{\\LARGE ?}}{\\Longrightarrow } \\qquad \\rho(\\mathbf{r})\\neq n'(\\mathbf{r}) \\nonumber\n",
    "$$"
   ]
  },
  {
   "cell_type": "markdown",
   "id": "e6d53136",
   "metadata": {
    "editable": true
   },
   "source": [
    "\\textbf{\\emph{Reductio ad absurdum}}: \n",
    "Assume $\\rho(\\mathbf{r})=n'(\\mathbf{r})$ for some $\\vert \\Psi\\rangle\\neq \\vert \\Psi'\\rangle$ \n",
    "\n",
    "Ritz principle $\\quad \\Longrightarrow $"
   ]
  },
  {
   "cell_type": "markdown",
   "id": "a2797e11",
   "metadata": {
    "editable": true
   },
   "source": [
    "<!-- Equation labels as ordinary links -->\n",
    "<div id=\"_auto2\"></div>\n",
    "\n",
    "$$\n",
    "\\begin{equation}\n",
    "  E_{gs}=\\langle \\Psi\\vert \\hat{H}\\vert \\Psi\\rangle \\langle\\Psi'\\vert \\hat{H}\\vert \\Psi'\\rangle.\n",
    "\\label{_auto2} \\tag{2}\n",
    "\\end{equation}\n",
    "$$"
   ]
  },
  {
   "cell_type": "markdown",
   "id": "91de0ad1",
   "metadata": {
    "editable": true
   },
   "source": [
    "$$\n",
    "\\langle\\Psi'\\vert \\hat{H}\\vert \\Psi'\\rangle\\langle\\Psi'\\vert\\hat{H}'+\\hat{V}-\\hat{V}'\\vert \\Psi'\\rangle=E_{gs}'+\\int n'(\\mathbf{r})[v(\\mathbf{r})-v'(\\mathbf{r})]d^{3}r \\nonumber\n",
    "$$"
   ]
  },
  {
   "cell_type": "markdown",
   "id": "d23b2f89",
   "metadata": {
    "editable": true
   },
   "source": [
    "$$\n",
    "\\Longrightarrow \\qquad E_{gs}'<E_{gs}+\\int n'(\\mathbf{r})[v(\\mathbf{r})-v'(\\mathbf{r})]d^{3}r %\\nonumber\n",
    "$$"
   ]
  },
  {
   "cell_type": "markdown",
   "id": "5df846a4",
   "metadata": {
    "editable": true
   },
   "source": [
    "By symmetry"
   ]
  },
  {
   "cell_type": "markdown",
   "id": "7b7d7cc8",
   "metadata": {
    "editable": true
   },
   "source": [
    "$$\n",
    "\\Longrightarrow \\qquad E_{gs}<E_{gs}'+\\int n'(\\mathbf{r})[v'(\\mathbf{r})-v(\\mathbf{r})]d^{3}r %\\nonumber\n",
    "$$"
   ]
  },
  {
   "cell_type": "markdown",
   "id": "48b0a7b6",
   "metadata": {
    "editable": true
   },
   "source": [
    "<!-- (\\[eq:ineq1](#eq:ineq1)) \\& (\\[eq:ineq2](#eq:ineq2)) $\\qquad \\Longrightarrow $ -->"
   ]
  },
  {
   "cell_type": "markdown",
   "id": "96c2fda5",
   "metadata": {
    "editable": true
   },
   "source": [
    "$$\n",
    "E_{gs}+E_{gs}'<E_{gs}+E_{gs}' \\qquad \\text{\\alert{Contradiction!}} \\nonumber\n",
    "$$"
   ]
  },
  {
   "cell_type": "markdown",
   "id": "bb1161f6",
   "metadata": {
    "editable": true
   },
   "source": [
    "## Computing $E_{XC}$ from {\\em ab initio} calculations\n",
    "\n",
    "Define"
   ]
  },
  {
   "cell_type": "markdown",
   "id": "56825563",
   "metadata": {
    "editable": true
   },
   "source": [
    "<!-- Equation labels as ordinary links -->\n",
    "<div id=\"_auto3\"></div>\n",
    "\n",
    "$$\n",
    "\\begin{equation}\n",
    "  E_{v_{0}}[\\rho]:=\\langle \\Psi[\\rho]\\vert \\hat{T}+\\hat{W}+\\hat{V_{0}}\\vert \\Psi[\\rho]\\rangle\n",
    "\\label{_auto3} \\tag{3}\n",
    "\\end{equation}\n",
    "$$"
   ]
  },
  {
   "cell_type": "markdown",
   "id": "c8271300",
   "metadata": {
    "editable": true
   },
   "source": [
    "$\\hat{V_{0}} =$ external potential, $n_{0}(\\mathbf{r}) =$ corresponding GS density, $E_{0} =$ GS energy\n",
    "\n",
    "Rayleigh-Ritz principle $\\quad \\Longrightarrow \\quad $ \\alert{second statement of H-K theorem}:"
   ]
  },
  {
   "cell_type": "markdown",
   "id": "68742158",
   "metadata": {
    "editable": true
   },
   "source": [
    "$$\n",
    "E_{0}=\\min_{n\\in \\mathcal{N}}E_{v_{0}}[\\rho] \\nonumber\n",
    "$$"
   ]
  },
  {
   "cell_type": "markdown",
   "id": "116d27b1",
   "metadata": {
    "editable": true
   },
   "source": [
    "Last satement of H-K theorem:"
   ]
  },
  {
   "cell_type": "markdown",
   "id": "de6b0ac2",
   "metadata": {
    "editable": true
   },
   "source": [
    "<!-- Equation labels as ordinary links -->\n",
    "<div id=\"_auto4\"></div>\n",
    "\n",
    "$$\n",
    "\\begin{equation}\n",
    "  F_{HK}[\\rho]\\equiv \\langle\\Psi[\\rho]\\vert\\hat{T}+\\hat{W}\\vert \\Psi[\\rho]\\rangle\n",
    "\\label{_auto4} \\tag{4}\n",
    "\\end{equation}\n",
    "$$"
   ]
  },
  {
   "cell_type": "markdown",
   "id": "b55a9d6d",
   "metadata": {
    "editable": true
   },
   "source": [
    "is \\emph{universal} ($F_{HK}\\neq F_{HK}[\\hat{V_{0}}]$)"
   ]
  },
  {
   "cell_type": "markdown",
   "id": "a382d757",
   "metadata": {
    "editable": true
   },
   "source": [
    "## The Kohn-Sham scheme\n",
    "\n",
    "The classic Kohn-Sham scheme:"
   ]
  },
  {
   "cell_type": "markdown",
   "id": "ca656355",
   "metadata": {
    "editable": true
   },
   "source": [
    "$$\n",
    "\\left(-\\frac{\\hbar^{2}}{2m}\\nabla^{2}+v_{s,0}(\\mathbf{r})\\right)\\phi_{i,0}(\\mathbf{r})=\\varepsilon_{i}\\phi_{i,0}(\\mathbf{r}), \\qquad \\varepsilon_{1}\\geq \\varepsilon_{2} \\geq \\dots,\n",
    "$$"
   ]
  },
  {
   "cell_type": "markdown",
   "id": "e8692e1d",
   "metadata": {
    "editable": true
   },
   "source": [
    "where"
   ]
  },
  {
   "cell_type": "markdown",
   "id": "190a0dcb",
   "metadata": {
    "editable": true
   },
   "source": [
    "$$\n",
    "v_{s,0}(\\mathbf{r})=v_{0}(\\mathbf{r})+\\int d^{3}r' w(\\mathbf{r},\\mathbf{r}')\\rho_{0}(\\mathbf{r}')+v_{\\mathrm{XC}}([\\rho_{0}];\\mathbf{r})\n",
    "$$"
   ]
  },
  {
   "cell_type": "markdown",
   "id": "11a398e3",
   "metadata": {
    "editable": true
   },
   "source": [
    "The density is calculated as"
   ]
  },
  {
   "cell_type": "markdown",
   "id": "5716f38a",
   "metadata": {
    "editable": true
   },
   "source": [
    "$$\n",
    "\\rho_{0}(\\mathbf{r})=\\sum_{i=1}^{N}\\vert \\phi_{i,0}(\\mathbf{r})\\vert^{2}.\n",
    "$$"
   ]
  },
  {
   "cell_type": "markdown",
   "id": "b353df5d",
   "metadata": {
    "editable": true
   },
   "source": [
    "The equation is solved selfconsistently.\n",
    "The total energy"
   ]
  },
  {
   "cell_type": "markdown",
   "id": "c9b4aba7",
   "metadata": {
    "editable": true
   },
   "source": [
    "$$\n",
    "E=\\sum_{i=1}^{N}\\varepsilon_{i}-\\frac{1}{2}\\int d^{3}r d^{3}r'\\rho(\\mathbf{r})w(\\mathbf{r},\\mathbf{r}')\\rho(\\mathbf{r}')+E_{\\mathrm{XC}}[\\rho]-\\int d^{3}r v_{\\mathrm{XC}}([\\rho];\\mathbf{r})\\rho(\\mathbf{r})\n",
    "$$"
   ]
  },
  {
   "cell_type": "markdown",
   "id": "0e589e30",
   "metadata": {
    "editable": true
   },
   "source": [
    "## Exchange Energy and Correlation Energy\n",
    "\n",
    "**The Hartree-Fock equation.**"
   ]
  },
  {
   "cell_type": "markdown",
   "id": "60e9d4ab",
   "metadata": {
    "editable": true
   },
   "source": [
    "$$\n",
    "\\begin{align*}\n",
    "        \\left(-\\frac{\\hbar^{2}}{2m}\\nabla^{2}+v_{0}(\\mathbf{r})+\\int d^{3}r'w(\\mathbf{r},\\mathbf{r}')\\rho(\\mathbf{r}')\\right)\\phi_{k}(\\mathbf{r})& \\nonumber \\\\\n",
    "        \\underbrace{-\\sum_{l=1}^{N}\\int d^{3}r'\\phi_{l}^{*}(\\mathbf{r}')w(\\mathbf{r},\\mathbf{r}')\\phi_{k}(\\mathbf{r}')\\phi_{l}(\\mathbf{r})}_{\\text{exchange term}}\n",
    "        &=\\varepsilon_{k}\\phi_{k}(\\mathbf{r}), \\nonumber\n",
    "      \\end{align*}\n",
    "$$"
   ]
  },
  {
   "cell_type": "markdown",
   "id": "d7935301",
   "metadata": {
    "editable": true
   },
   "source": [
    "**Kohn-Sham equation:**"
   ]
  },
  {
   "cell_type": "markdown",
   "id": "c96ede8c",
   "metadata": {
    "editable": true
   },
   "source": [
    "$$\n",
    "\\left(-\\frac{\\hbar^{2}}{2m}\\nabla^{2}+v_{0}(\\mathbf{r})\n",
    "+\\int d^{3}r'w(\\mathbf{r},\\mathbf{r}')\\rho(\\mathbf{r}')\n",
    " +\\underbrace{v_{\\mathrm{XC}}([\\rho];\\mathbf{r})}_{\\text{exchange + correlation}}\n",
    "\\right)\\phi_{k}(\\mathbf{r})=\\varepsilon_{k}\\phi_{k}(\\mathbf{r}).\n",
    "$$"
   ]
  }
 ],
 "metadata": {},
 "nbformat": 4,
 "nbformat_minor": 5
}
