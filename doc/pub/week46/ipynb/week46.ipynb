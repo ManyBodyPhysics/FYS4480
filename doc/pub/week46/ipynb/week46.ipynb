{
 "cells": [
  {
   "cell_type": "markdown",
   "id": "7fdec0ff",
   "metadata": {
    "editable": true
   },
   "source": [
    "<!-- HTML file automatically generated from DocOnce source (https://github.com/doconce/doconce/)\n",
    "doconce format html week46.do.txt --no_mako -->\n",
    "<!-- dom:TITLE: Week 46: Many-body perturbation theory -->"
   ]
  },
  {
   "cell_type": "markdown",
   "id": "67336c11",
   "metadata": {
    "editable": true
   },
   "source": [
    "# Week 46: Many-body perturbation theory\n",
    "**Morten Hjorth-Jensen**, Department of Physics and Center for Computing in Science Education, University of Oslo, Norway and Department of Physics and Astronomy and Facility for Rare Isotope Beams, Michigan State University, USA\n",
    "\n",
    "Date: **Week 46, November 13-17**"
   ]
  },
  {
   "cell_type": "markdown",
   "id": "865ce875",
   "metadata": {
    "editable": true
   },
   "source": [
    "## Week 46, November 13-17, 2023\n",
    "* Topics to be covered\n",
    "\n",
    "  * Thursday:\n",
    "\n",
    "1. Diagram rules (whiteboard notes)\n",
    "\n",
    "2. Examples of diagrams and discussion of Pauli violating diagrams (Whiteboard notes)\n",
    "\n",
    "3. [Video of lecture](https://youtu.be/rCtpX221u24)\n",
    "\n",
    "4. [Whiteboard notes](https://github.com/ManyBodyPhysics/FYS4480/blob/master/doc/HandwrittenNotes/2023/LectureNovember16.pdf)\n",
    "\n",
    "  * Friday:\n",
    "\n",
    "1. Time-dependent perturbation theory, definitions of Schroedinger, Heisenberg and interaction picture, see slides at <https://github.com/ManyBodyPhysics/FYS4480/blob/master/doc/src/week45/LatexSlides/pictures.pdf>\n",
    "\n",
    "2. [Video of lecture](https://youtu.be/8-dnWUDTnS0)\n",
    "\n",
    "3. [Whiteboard notes](https://github.com/ManyBodyPhysics/FYS4480/blob/master/doc/HandwrittenNotes/2023/LectureNovember17.pdf)    \n",
    "\n",
    "* Lecture Material: Slides at <https://github.com/ManyBodyPhysics/FYS4480/blob/master/doc/pub/week46/pdf/slidesweek46.pdf>, handwritten notes and Shavitt and Bartlett chapter 4-6\n",
    "\n",
    "Work on second midterm set at <https://github.com/ManyBodyPhysics/FYS4480/blob/master/doc/Exercises/2023/SecondMidterm2023.pdf>"
   ]
  }
 ],
 "metadata": {},
 "nbformat": 4,
 "nbformat_minor": 5
}
