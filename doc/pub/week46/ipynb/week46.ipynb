{
 "cells": [
  {
   "cell_type": "markdown",
   "id": "d2da66d8",
   "metadata": {
    "editable": true
   },
   "source": [
    "<!-- HTML file automatically generated from DocOnce source (https://github.com/doconce/doconce/)\n",
    "doconce format html week46.do.txt --no_mako -->\n",
    "<!-- dom:TITLE: Week 46: Many-body perturbation theory and start Coupled Cluster theory -->"
   ]
  },
  {
   "cell_type": "markdown",
   "id": "cf6270b5",
   "metadata": {
    "editable": true
   },
   "source": [
    "# Week 46: Many-body perturbation theory and start Coupled Cluster theory\n",
    "**Morten Hjorth-Jensen**, Department of Physics and Center for Computing in Science Education, University of Oslo, Norway and Department of Physics and Astronomy and Facility for Rare Isotope Beams, Michigan State University, USA\n",
    "\n",
    "Date: **Week 46, November 11-15**"
   ]
  },
  {
   "cell_type": "markdown",
   "id": "98e434df",
   "metadata": {
    "editable": true
   },
   "source": [
    "## Week 46, November 11-15, 2024\n",
    "1. Thursday:\n",
    "\n",
    "a. Discussion of second midterm\n",
    "\n",
    "b. Linked and unlinked diagrams\n",
    "\n",
    "c. Linked diagram theorem  and diagram rules\n",
    "\n",
    "d. Video of lecture at <https://youtu.be/Qw-5Ar8BVUY>\n",
    "\n",
    "e. Whiteboard notes at <https://github.com/ManyBodyPhysics/FYS4480/blob/master/doc/HandwrittenNotes/2024/NotesNovember14.pdf>       \n",
    "\n",
    "6. Friday:\n",
    "\n",
    "a. Linked diagram theorem  and diagram rules\n",
    "\n",
    "b. Start Coupled Cluster theory\n",
    "\n",
    "c. Video of lecture at <https://youtu.be/-2opFiQcZDk>\n",
    "\n",
    "d. Whiteboard notes at <https://github.com/ManyBodyPhysics/FYS4480/blob/master/doc/HandwrittenNotes/2024/NotesNovember15.pdf>         \n",
    "\n",
    "5. Relevant reading for the lectures: Shavitt abd Bartlett chapters 6 and 7 on linked and unlinked diagrams. For coupled cluster theory chapter 9 is the most relevant one. The lectures follow to a large extent the material covered in these chapters."
   ]
  }
 ],
 "metadata": {},
 "nbformat": 4,
 "nbformat_minor": 5
}
