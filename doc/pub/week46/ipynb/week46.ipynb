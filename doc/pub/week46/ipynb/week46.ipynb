{
 "cells": [
  {
   "cell_type": "markdown",
   "id": "0e5088ed",
   "metadata": {
    "editable": true
   },
   "source": [
    "<!-- HTML file automatically generated from DocOnce source (https://github.com/doconce/doconce/)\n",
    "doconce format html week46.do.txt --no_mako -->\n",
    "<!-- dom:TITLE: Week 46: Coupled cluster theory -->"
   ]
  },
  {
   "cell_type": "markdown",
   "id": "0d8f575c",
   "metadata": {
    "editable": true
   },
   "source": [
    "# Week 46: Coupled cluster theory\n",
    "**Morten Hjorth-Jensen**, Department of Physics and Center for Computing in Science Education, University of Oslo, Norway and Department of Physics and Astronomy and Facility for Rare Isotope Beams, Michigan State University, USA\n",
    "\n",
    "Date: **Week 46, November 14-18**"
   ]
  },
  {
   "cell_type": "markdown",
   "id": "e7da5313",
   "metadata": {
    "editable": true
   },
   "source": [
    "## Week 46, November 14-18, 2022\n",
    "* Topics to be covered\n",
    "\n",
    "  * Thursday:\n",
    "\n",
    "    * Summary many-body perturbation theory and discussion of Coupled Cluster theory\n",
    "\n",
    "    * [Video of lecture](https://youtu.be/)\n",
    "\n",
    "  * Friday:\n",
    "\n",
    "    * Coupled Cluster theory with doubles excitations\n",
    "\n",
    "    * Diagrammatic representation of Coupled Cluster theory\n",
    "\n",
    "    * Video of lecture at <https://youtu.be/>\n",
    "\n",
    "* Lecture Material: [Slides for week 46](https://github.com/ManyBodyPhysics/FYS4480/blob/master/doc/src/week46/LatexSlides/slidesweek46.pdf), handwritten notes and Shavitt and Bartlett chapter 9\n",
    "\n",
    "Work on second midterm set at <https://github.com/ManyBodyPhysics/FYS4480/blob/master/doc/Exercises/2022/SecondMidterm2022.pdf>"
   ]
  }
 ],
 "metadata": {},
 "nbformat": 4,
 "nbformat_minor": 5
}
