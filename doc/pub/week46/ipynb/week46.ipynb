{
 "cells": [
  {
   "cell_type": "markdown",
   "id": "2a7f2ce5",
   "metadata": {
    "editable": true
   },
   "source": [
    "<!-- HTML file automatically generated from DocOnce source (https://github.com/doconce/doconce/)\n",
    "doconce format html week46.do.txt --no_mako -->\n",
    "<!-- dom:TITLE: Week 46: Many-body perturbation theory -->"
   ]
  },
  {
   "cell_type": "markdown",
   "id": "53f943e1",
   "metadata": {
    "editable": true
   },
   "source": [
    "# Week 46: Many-body perturbation theory\n",
    "**Morten Hjorth-Jensen**, Department of Physics and Center for Computing in Science Education, University of Oslo, Norway and Department of Physics and Astronomy and Facility for Rare Isotope Beams, Michigan State University, USA\n",
    "\n",
    "Date: **Week 46, November 11-15**"
   ]
  },
  {
   "cell_type": "markdown",
   "id": "5490f01f",
   "metadata": {
    "editable": true
   },
   "source": [
    "## Week 46, November 11-15, 2024\n",
    "* Topics to be covered\n",
    "\n",
    "  * Thursday:\n",
    "\n",
    "1. TBD\n",
    "\n",
    "  * Friday:\n",
    "\n",
    "1. TBD\n",
    "\n",
    "* Lecture Material: Slides at <https://github.com/ManyBodyPhysics/FYS4480/blob/master/doc/pub/week46/pdf/slidesweek46.pdf>, handwritten notes and Shavitt and Bartlett chapter 4-6"
   ]
  }
 ],
 "metadata": {},
 "nbformat": 4,
 "nbformat_minor": 5
}
