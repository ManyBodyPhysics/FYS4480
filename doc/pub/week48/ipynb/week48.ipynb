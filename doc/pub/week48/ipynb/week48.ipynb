{
 "cells": [
  {
   "cell_type": "markdown",
   "id": "932ed5bd",
   "metadata": {
    "editable": true
   },
   "source": [
    "<!-- HTML file automatically generated from DocOnce source (https://github.com/doconce/doconce/)\n",
    "doconce format html week48.do.txt --no_mako -->\n",
    "<!-- dom:TITLE: Week 48: Coupled cluster theory and summary of course  -->"
   ]
  },
  {
   "cell_type": "markdown",
   "id": "62d519ef",
   "metadata": {
    "editable": true
   },
   "source": [
    "# Week 48: Coupled cluster theory and summary of course \n",
    "**Morten Hjorth-Jensen**, Department of Physics and Center for Computing in Science Education, University of Oslo, Norway\n",
    "\n",
    "Date: **Week 48, November 25-29**"
   ]
  },
  {
   "cell_type": "markdown",
   "id": "cf88ef2e",
   "metadata": {
    "editable": true
   },
   "source": [
    "## Week 48, November 25-29, 2024\n",
    "1. Thursday:\n",
    "\n",
    "a. Short repetition from last week\n",
    "\n",
    "b. How to write your own coupled-cluster theory code, pairing model example\n",
    "\n",
    "c. Coupled cluster theory, singles and doubles excitations, diagrammatic expansion\n",
    "\n",
    "4. Firday:\n",
    "\n",
    "a. Coupled cluster theory  for singles and doubles excitations using a diagrammatic derivation\n",
    "\n",
    "b. Summary of course and discussion of final oral exam\n",
    "\n",
    "3. Lecture material: Lecture notes and Shavitt and Bartlett chapters 9 and 10. See also slides at <https://github.com/ManyBodyPhysics/FYS4480/blob/master/doc/pub/week48/pdf/cc.pdf>"
   ]
  }
 ],
 "metadata": {},
 "nbformat": 4,
 "nbformat_minor": 5
}
