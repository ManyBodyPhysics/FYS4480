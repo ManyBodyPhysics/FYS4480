{
 "cells": [
  {
   "cell_type": "markdown",
   "id": "466e070f",
   "metadata": {
    "editable": true
   },
   "source": [
    "<!-- HTML file automatically generated from DocOnce source (https://github.com/doconce/doconce/)\n",
    "doconce format html week48.do.txt --no_mako -->\n",
    "<!-- dom:TITLE: Week 48: Green's function theory -->"
   ]
  },
  {
   "cell_type": "markdown",
   "id": "0c015014",
   "metadata": {
    "editable": true
   },
   "source": [
    "# Week 48: Green's function theory\n",
    "**Morten Hjorth-Jensen**, Department of Physics and Center for Computing in Science Education, University of Oslo, Norway and Department of Physics and Astronomy and Facility for Rare Isotope Beams, Michigan State University, USA\n",
    "\n",
    "Date: **Week 48, November 27-December 1**"
   ]
  },
  {
   "cell_type": "markdown",
   "id": "e32dfdc7",
   "metadata": {
    "editable": true
   },
   "source": [
    "## Week 48, November 27-December 1, 2023\n",
    "* Topics to be covered\n",
    "\n",
    "  * Thursday:\n",
    "\n",
    "    * Green's functions, Lehmann representation and observables\n",
    "\n",
    "    * Dyson's equation and perturbative expansions\n",
    "\n",
    "    * [Video of lecture to be added](https://youtu.be/)\n",
    "\n",
    "  * Friday:\n",
    "\n",
    "    * Dyson's equation and perturbative expansions\n",
    "\n",
    "    * Summary of course and discussion of final oral exam\n",
    "\n",
    "    * [Video of lecture](https://youtu.be/)\n",
    "\n",
    "* Lecture Material: [Slides for week 48](https://github.com/ManyBodyPhysics/FYS4480/blob/master/doc/pub/week48/pdf/slidesweek48.pdf) and handwritten notes"
   ]
  }
 ],
 "metadata": {},
 "nbformat": 4,
 "nbformat_minor": 5
}
