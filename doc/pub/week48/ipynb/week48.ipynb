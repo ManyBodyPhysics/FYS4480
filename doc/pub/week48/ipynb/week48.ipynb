{
 "cells": [
  {
   "cell_type": "markdown",
   "id": "96765d2f",
   "metadata": {
    "editable": true
   },
   "source": [
    "<!-- HTML file automatically generated from DocOnce source (https://github.com/doconce/doconce/)\n",
    "doconce format html week48.do.txt --no_mako -->\n",
    "<!-- dom:TITLE: Week 48: Green's function theory -->"
   ]
  },
  {
   "cell_type": "markdown",
   "id": "aca604ae",
   "metadata": {
    "editable": true
   },
   "source": [
    "# Week 48: Green's function theory\n",
    "**Morten Hjorth-Jensen**, Department of Physics and Center for Computing in Science Education, University of Oslo, Norway and Department of Physics and Astronomy and Facility for Rare Isotope Beams, Michigan State University, USA\n",
    "\n",
    "Date: **Week 48, November 27-December 1**"
   ]
  },
  {
   "cell_type": "markdown",
   "id": "4aa85006",
   "metadata": {
    "editable": true
   },
   "source": [
    "## Week 48, November 27-December 1, 2023\n",
    "* Topics to be covered\n",
    "\n",
    "  * Thursday:s\n",
    "\n",
    "    * Discussion of second midterm\n",
    "\n",
    "  * Friday:\n",
    "\n",
    "    * Dyson's equation and perturbative expansions\n",
    "\n",
    "    * Summary of course and discussion of final oral exam\n",
    "\n",
    "    * [Video of lecture](https://youtu.be/ug-vTAU732w)\n",
    "\n",
    "    * [Whiteboard notes](https://github.com/ManyBodyPhysics/FYS4480/blob/master/doc/HandwrittenNotes/2023/LectureNovember30.pdf)\n",
    "\n",
    "* Lecture Material: [Slides for week 48](https://github.com/ManyBodyPhysics/FYS4480/blob/master/doc/pub/week48/pdf/slidesweek48.pdf) and handwritten notes"
   ]
  }
 ],
 "metadata": {},
 "nbformat": 4,
 "nbformat_minor": 5
}
