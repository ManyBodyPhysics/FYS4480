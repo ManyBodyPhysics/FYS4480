{
 "cells": [
  {
   "cell_type": "markdown",
   "id": "d3788cf8",
   "metadata": {
    "editable": true
   },
   "source": [
    "<!-- HTML file automatically generated from DocOnce source (https://github.com/doconce/doconce/)\n",
    "doconce format html week48.do.txt --no_mako -->\n",
    "<!-- dom:TITLE: Week 48: Coupled cluster theory and summary of course  -->"
   ]
  },
  {
   "cell_type": "markdown",
   "id": "7a259eed",
   "metadata": {
    "editable": true
   },
   "source": [
    "# Week 48: Coupled cluster theory and summary of course \n",
    "**Morten Hjorth-Jensen**, Department of Physics and Center for Computing in Science Education, University of Oslo, Norway\n",
    "\n",
    "Date: **November 25-29, 2024**"
   ]
  },
  {
   "cell_type": "markdown",
   "id": "c466214e",
   "metadata": {
    "editable": true
   },
   "source": [
    "## Week 48, November 25-29, 2024\n",
    "1. Thursday:\n",
    "\n",
    "a. Short repetition from last week\n",
    "\n",
    "b. How to write your own coupled-cluster theory code, pairing model example\n",
    "\n",
    "c. Coupled cluster theory, singles and doubles excitations, diagrammatic expansion\n",
    "\n",
    "d. Video of lecture at <https://youtu.be/wVbJ82zpHsU>\n",
    "\n",
    "e. Whiteboard notes at <https://github.com/ManyBodyPhysics/FYS4480/blob/master/doc/HandwrittenNotes/2024/NotesNovember28.pdf>         \n",
    "\n",
    "6. Friday:\n",
    "\n",
    "a. Coupled cluster theory  for singles and doubles excitations using a diagrammatic derivation\n",
    "\n",
    "b. Summary of course and discussion of final oral exam\n",
    "\n",
    "3. Lecture material: Lecture notes and Shavitt and Bartlett chapters 9 and 10. See also slides at <https://github.com/ManyBodyPhysics/FYS4480/blob/master/doc/pub/week48/pdf/cc.pdf>"
   ]
  },
  {
   "cell_type": "markdown",
   "id": "401e360a",
   "metadata": {
    "editable": true
   },
   "source": [
    "## CCSD with twobody Hamiltonian\n",
    "\n",
    "Truncating the cluster operator $\\hat{T}$ at the $n=2$ level, defines\n",
    "CCSD approximation to the Coupled Cluster wavefunction.  The\n",
    "coupled cluster wavefunction is now given by"
   ]
  },
  {
   "cell_type": "markdown",
   "id": "f8b4f511",
   "metadata": {
    "editable": true
   },
   "source": [
    "$$\n",
    "\\vert \\Psi_{CC}\\rangle = e^{\\hat{T}_1 + \\hat{T}_2} \\vert \\Phi_0\\rangle,\n",
    "$$"
   ]
  },
  {
   "cell_type": "markdown",
   "id": "1abbd804",
   "metadata": {
    "editable": true
   },
   "source": [
    "where"
   ]
  },
  {
   "cell_type": "markdown",
   "id": "4dfeccd0",
   "metadata": {
    "editable": true
   },
   "source": [
    "$$\n",
    "\\begin{align*}\n",
    "            \\hat{T}_1 &= \n",
    "            \\sum_{ia}\n",
    "                t_{i}^{a} a_{a}^\\dagger a_i \\\\\n",
    "            \\hat{T}_2 &= \\frac{1}{4} \n",
    "            \\sum_{ijab}\n",
    "                t_{ij}^{ab} a_{a}^\\dagger a_{b}^\\dagger a_{j} a_{i}.\n",
    "\\end{align*}\n",
    "$$"
   ]
  },
  {
   "cell_type": "markdown",
   "id": "ff31d37d",
   "metadata": {
    "editable": true
   },
   "source": [
    "## Two-body normal-ordered Hamiltonian"
   ]
  },
  {
   "cell_type": "markdown",
   "id": "f8875606",
   "metadata": {
    "editable": true
   },
   "source": [
    "$$\n",
    "\\begin{align*}\n",
    "            \\hat{H} &= \\sum_{pq} \\langle p\\vert \\hat{f} \\vert q \\rangle\\left\\{ a_p^\\dagger a_q \\right\\} + \n",
    "                \\frac{1}{4} \\sum_{pqrs} \\langle pq \\vert \\hat{v} \\vert rs \\rangle  \\left\\{ a_p^\\dagger a_q^\\dagger a_s a_r \\right\\} \\\\\n",
    "                & \\quad + \\mathrm{E}_0 \\\\\n",
    "                &= \\hat{F}_N + \\hat{V}_N  + \\mathrm{E}_0 \n",
    "                = \\hat{H}_N  + \\mathrm{E}_0,\n",
    "\\end{align*}\n",
    "$$"
   ]
  },
  {
   "cell_type": "markdown",
   "id": "26eee4e7",
   "metadata": {
    "editable": true
   },
   "source": [
    "where"
   ]
  },
  {
   "cell_type": "markdown",
   "id": "92f41c53",
   "metadata": {
    "editable": true
   },
   "source": [
    "$$\n",
    "\\begin{align*}\n",
    "            \\langle p\\vert \\hat{f} \\vert q \\rangle &= \\langle p\\vert \\hat{h}_0 \\vert q\\rangle + \\sum_i \\langle pi\\vert \\hat{v} \\vert qi\\rangle \\\\\n",
    "            \\mathrm{E}_0 &= \\sum_i \\langle i\\vert \\hat{h}_0 \\vert i\\rangle + \\frac{1}{2} \\sum_{ij} \\langle ij\\vert  \\hat{v} \\vert ij\\rangle.\n",
    "\\end{align*}\n",
    "$$"
   ]
  },
  {
   "cell_type": "markdown",
   "id": "869288a4",
   "metadata": {
    "editable": true
   },
   "source": [
    "## Diagrammatic and algebraic derivations of $T_1$ and $T_2$ amplitude equations\n",
    "\n",
    "See lecture material: Lecture notes and Shavitt and Bartlett chapters 9 and 10. See also slides at <https://github.com/ManyBodyPhysi#cs/FYS4480/blob/master/doc/pub/week48/pdf/cc.pdf>"
   ]
  }
 ],
 "metadata": {},
 "nbformat": 4,
 "nbformat_minor": 5
}
