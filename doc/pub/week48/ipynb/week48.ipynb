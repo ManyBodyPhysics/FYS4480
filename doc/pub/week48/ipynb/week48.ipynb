{
 "cells": [
  {
   "cell_type": "markdown",
   "id": "40dd0b0a",
   "metadata": {
    "editable": true
   },
   "source": [
    "<!-- HTML file automatically generated from DocOnce source (https://github.com/doconce/doconce/)\n",
    "doconce format html week48.do.txt --no_mako -->\n",
    "<!-- dom:TITLE: Week 48: TBD -->"
   ]
  },
  {
   "cell_type": "markdown",
   "id": "c1a8964f",
   "metadata": {
    "editable": true
   },
   "source": [
    "# Week 48: TBD\n",
    "**Morten Hjorth-Jensen**, Department of Physics and Center for Computing in Science Education, University of Oslo, Norway and Department of Physics and Astronomy and Facility for Rare Isotope Beams, Michigan State University, USA\n",
    "\n",
    "Date: **Week 48, November 25-29**"
   ]
  },
  {
   "cell_type": "markdown",
   "id": "f64062ec",
   "metadata": {
    "editable": true
   },
   "source": [
    "## Week 48, November 25-29, 2024\n",
    "* Topics to be covered\n",
    "\n",
    "  * Thursday:s\n",
    "\n",
    "    * TBD\n",
    "\n",
    "  * Friday:\n",
    "\n",
    "    * TBD\n",
    "\n",
    "    * Summary of course and discussion of final oral exam\n",
    "\n",
    "* Lecture Material: [Slides for week 48](https://github.com/ManyBodyPhysics/FYS4480/blob/master/doc/pub/week48/pdf/slidesweek48.pdf) and handwritten notes"
   ]
  }
 ],
 "metadata": {},
 "nbformat": 4,
 "nbformat_minor": 5
}
