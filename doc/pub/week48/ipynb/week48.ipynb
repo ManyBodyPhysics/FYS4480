{
 "cells": [
  {
   "cell_type": "markdown",
   "id": "257abf6a",
   "metadata": {
    "editable": true
   },
   "source": [
    "<!-- HTML file automatically generated from DocOnce source (https://github.com/doconce/doconce/)\n",
    "doconce format html week48.do.txt --no_mako -->\n",
    "<!-- dom:TITLE: Week 48: Coupled cluster theory and summary of course  -->"
   ]
  },
  {
   "cell_type": "markdown",
   "id": "097f62e1",
   "metadata": {
    "editable": true
   },
   "source": [
    "# Week 48: Coupled cluster theory and summary of course \n",
    "**Morten Hjorth-Jensen**, Department of Physics and Center for Computing in Science Education, University of Oslo, Norway\n",
    "\n",
    "Date: **Week 48, November 25-29**"
   ]
  },
  {
   "cell_type": "markdown",
   "id": "c551355b",
   "metadata": {
    "editable": true
   },
   "source": [
    "## Week 48, November 25-29, 2024\n",
    "1. Thursday:\n",
    "\n",
    "a. Coupled cluster theory, singles and doubles excitations\n",
    "\n",
    "2. Firday:\n",
    "\n",
    "a. Coupled cluster theory \n",
    "\n",
    "b. Summary of course and discussion of final oral exam\n",
    "\n",
    "O Lecture material: Lecture notes and Shavitt and Bartlett chapter 10."
   ]
  }
 ],
 "metadata": {},
 "nbformat": 4,
 "nbformat_minor": 5
}
