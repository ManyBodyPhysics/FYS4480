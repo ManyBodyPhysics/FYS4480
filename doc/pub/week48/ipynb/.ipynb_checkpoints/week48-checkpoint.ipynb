{
 "cells": [
  {
   "cell_type": "markdown",
   "metadata": {},
   "source": [
    "<!-- HTML file automatically generated from DocOnce source (https://github.com/doconce/doconce/)\n",
    "doconce format html week48.do.txt --no_mako -->\n",
    "<!-- dom:TITLE: Week 48: Coupled cluster theory and summary of course  -->"
   ]
  },
  {
   "cell_type": "markdown",
   "metadata": {},
   "source": [
    "# Week 48: Coupled cluster theory and summary of course \n",
    "**Morten Hjorth-Jensen**, Department of Physics and Center for Computing in Science Education, University of Oslo, Norway\n",
    "\n",
    "Date: **November 25-29, 2024**"
   ]
  },
  {
   "cell_type": "markdown",
   "metadata": {},
   "source": [
    "## Week 48, November 25-29, 2024\n",
    "1. Thursday:\n",
    "\n",
    "a. Short repetition from last week\n",
    "\n",
    "b. How to write your own coupled-cluster theory code, pairing model example\n",
    "\n",
    "c. Coupled cluster theory, singles and doubles excitations, diagrammatic expansion\n",
    "\n",
    "4. Friday:\n",
    "\n",
    "a. Coupled cluster theory  for singles and doubles excitations using a diagrammatic derivation\n",
    "\n",
    "b. Summary of course and discussion of final oral exam\n",
    "\n",
    "3. Lecture material: Lecture notes and Shavitt and Bartlett chapters 9 and 10. See also slides at <https://github.com/ManyBodyPhysics/FYS4480/blob/master/doc/pub/week48/pdf/cc.pdf>"
   ]
  },
  {
   "cell_type": "markdown",
   "metadata": {},
   "source": [
    "## CCSD with twobody Hamiltonian\n",
    "\n",
    "Truncating the cluster operator $\\hat{T}$ at the $n=2$ level, defines\n",
    "CCSD approximation to the Coupled Cluster wavefunction.  The\n",
    "coupled cluster wavefunction is now given by"
   ]
  },
  {
   "cell_type": "markdown",
   "metadata": {},
   "source": [
    "$$\n",
    "\\vert \\Psi_{CC}\\rangle = e^{\\hat{T}_1 + \\hat{T}_2} \\vert \\Phi_0\\rangle,\n",
    "$$"
   ]
  },
  {
   "cell_type": "markdown",
   "metadata": {},
   "source": [
    "where"
   ]
  },
  {
   "cell_type": "markdown",
   "metadata": {},
   "source": [
    "$$\n",
    "\\begin{align*}\n",
    "            \\hat{T}_1 &= \n",
    "            \\sum_{ia}\n",
    "                t_{i}^{a} a_{a}^\\dagger a_i \\\\\n",
    "            \\hat{T}_2 &= \\frac{1}{4} \n",
    "            \\sum_{ijab}\n",
    "                t_{ij}^{ab} a_{a}^\\dagger a_{b}^\\dagger a_{j} a_{i}.\n",
    "\\end{align*}\n",
    "$$"
   ]
  },
  {
   "cell_type": "markdown",
   "metadata": {},
   "source": [
    "## Two-body normal-ordered Hamiltonian"
   ]
  },
  {
   "cell_type": "markdown",
   "metadata": {},
   "source": [
    "$$\n",
    "\\begin{align*}\n",
    "            \\hat{H} &= \\sum_{pq} \\langle p\\vert \\hat{f} \\vert q \\rangle\\left\\{ a_p^\\dagger a_q \\right\\} + \n",
    "                \\frac{1}{4} \\sum_{pqrs} \\langle pq \\vert \\hat{v} \\vert rs \\rangle  \\left\\{ a_p^\\dagger a_q^\\dagger a_s a_r \\right\\} \\\\\n",
    "                & \\quad + \\mathrm{E}_0 \\\\\n",
    "                &= \\hat{F}_N + \\hat{V}_N  + \\mathrm{E}_0 \n",
    "                = \\hat{H}_N  + \\mathrm{E}_0,\n",
    "\\end{align*}\n",
    "$$"
   ]
  },
  {
   "cell_type": "markdown",
   "metadata": {},
   "source": [
    "where"
   ]
  },
  {
   "cell_type": "markdown",
   "metadata": {},
   "source": [
    "$$\n",
    "\\begin{align*}\n",
    "            \\langle p\\vert \\hat{f} \\vert q \\rangle &= \\langle p\\vert \\hat{h}_0 \\vert q\\rangle + \\sum_i \\langle pi\\vert \\hat{v} \\vert qi\\rangle \\\\\n",
    "            \\mathrm{E}_0 &= \\sum_i \\langle i\\vert \\hat{h}_0 \\vert i\\rangle + \\frac{1}{2} \\sum_{ij} \\langle ij\\vert  \\hat{v} \\vert ij\\rangle.\n",
    "\\end{align*}\n",
    "$$"
   ]
  },
  {
   "cell_type": "markdown",
   "metadata": {},
   "source": [
    "## Diagram equations - Derivation\n",
    "\n",
    "1. Contract $\\hat{H}_N$ with $\\hat{T}$ in all possible unique combinations that satisfy a given form. The diagram equation is the sum of all these diagrams.\n",
    "\n",
    "2. Contract one $\\hat{H}_N$ element with $0,1$ or multiple $\\hat{T}$ elements. \n",
    "\n",
    "3. All $\\hat{T}$ elements must have \\alert{atleast} one contraction with $\\hat{H}_N$.\n",
    "\n",
    "4. No contractions between $\\hat{T}$ elements are allowed. \n",
    "\n",
    "5. A single $\\hat{T}$ element can contract with a single element of $\\hat{H}_N$ in different ways."
   ]
  },
  {
   "cell_type": "markdown",
   "metadata": {},
   "source": [
    "## Diagram rules\n",
    "1. Label all lines.\n",
    "\n",
    "2. Sum over all internal indices. \n",
    "\n",
    "3. Extract matrix elements. \n",
    "\n",
    "4. Extract cluster amplitudes with indices in the order left to right. Incoming lines are subscripts, while outgoing lines are superscripts. ($t_{\\mathrm{in}}^{\\mathrm{out}}$, $t^{\\mathrm{lout, rout}}_{\\mathrm{lin, rin}}$)\n",
    "\n",
    "5. Calculate the phase: $(-1)^{\\mathrm{holelines} + \\mathrm{loops}}$ \n",
    "\n",
    "6. Multiply by a factor of $\\frac{1}{2}$ for each equivalent line and each ecuivalent vertex.\n",
    "\n",
    "7. Antisymmetrize a pair of external particle/hole line that does not connect to the same operator."
   ]
  },
  {
   "cell_type": "markdown",
   "metadata": {},
   "source": [
    "## CCSD $\\hat{T}_1$ amplitude equation"
   ]
  },
  {
   "cell_type": "markdown",
   "metadata": {},
   "source": [
    "$$\n",
    "\\begin{align*}\n",
    "    0 &= f_{i}^a + f_{e}^a t_i^e - f_{i}^mt_m^a + \\langle ma\\vert\\hat{v}\\vert ei\\rangle  t_m^e \n",
    "        + f_{e}^m t_{im}^{ae} + \\frac{1}{2} \\langle am\\vert\\hat{v}\\vert ef\\rangle  t_{im}^{ef} \n",
    "        &- \\frac{1}{2} \\langle mn\\vert\\hat{v}\\vert ei\\rangle  t_{mn}^{ea} - f_{e}^m t_i^e t_m^a\n",
    "        + \\langle am\\vert \\hat{v}\\vert ef\\rangle t_i^e t_m^f - \\langle mn\\vert\\hat{v}\\vert ei\\rangle  t_m^e t_n^a \n",
    "        & \\quad + \\langle mn\\vert\\hat{v}\\vert ef\\rangle t_m^e t_{ni}^{fa}\n",
    "        - \\frac{1}{2} \\langle mn\\vert\\hat{v}\\vert ef\\rangle  t_i^e t_{mn}^{af}\n",
    "        - \\frac{1}{2} \\langle mn\\vert\\hat{v}\\vert ef\\rangle  t_n^a t_{mi}^{ef}\n",
    "        & \\quad  - \\langle mn\\vert\\hat{v}\\vert ef\\rangle  t_i^e t_m^a t_n^f\n",
    "\\end{align*}\n",
    "$$"
   ]
  },
  {
   "cell_type": "markdown",
   "metadata": {},
   "source": [
    "## CCSD $\\hat{T}_2$ amplitude equation"
   ]
  },
  {
   "cell_type": "markdown",
   "metadata": {},
   "source": [
    "$$\n",
    "\\begin{align*}\n",
    "    0 &= \n",
    "        \\langle ab\\vert \\hat{v} \\vert ij\\rangle\n",
    "        + P(ij) \\langle ab\\vert\\hat{v}\\vert ej\\rangle  t_i^e\n",
    "        - P(ab) \\langle am\\vert\\hat{v} \\vert ij\\rangle  t_m^b\n",
    "        + P(ab) f_{e}^b t_{ij}^{ae}\n",
    "        - P(ij) f_{i}^m t_{mj}^{ab}\n",
    "        & +\\frac{1}{2} \\langle ab\\vert\\hat{v}\\vert ef\\rangle  t_{ij}^{ef}\n",
    "        + \\frac{1}{2} \\langle mn\\vert\\hat{v}\\vert ij\\rangle  t_{mn}^{ab}\n",
    "        + P(ij) P(ab) \\langle mb\\vert\\hat{v}\\vert ej\\rangle  t_{im}^{ae}\n",
    "        & +\\frac{1}{2} P(ij) \\langle ab\\vert\\hat{v}\\vert ef\\rangle  t_i^e t_j^f\n",
    "        + \\frac{1}{2} P(ab) \\langle mn\\vert\\hat{v}\\vert ij\\rangle  t_m^a t_n^b\n",
    "        - P(ij) P(ab) \\langle mb\\vert\\hat{v}\\vert ej\\rangle  t_i^e t_m^a\n",
    "        & +\\frac{1}{4} \\langle mn\\vert\\hat{v}\\vert ef\\rangle  t_{ij}^{ef} t_{mn}^{ab}\n",
    "        + \\frac{1}{2} P(ij) P(ab) \\langle mn\\vert\\hat{v}\\vert ef\\rangle t_{im}^{ae} t_{nj}^{fb}\n",
    "        - \\frac{1}{2} P(ab) \\langle mn\\vert\\hat{v}\\vert ef\\rangle  t_{ij}^{ae} t_{mn}^{bf}\n",
    "        & -\\frac{1}{2} P(ij) \\langle mn\\vert\\hat{v}\\vert ef\\rangle  t_{mi}^{ef} t_{nj}^{ab}\n",
    "        - P(ij) f_{e}^m t_i^e t_{mj}^{ab}\n",
    "        - P(ab) f_{e}^m t_{ij}^{ae} t_m^b\n",
    "        & +P(ij) P(ab) \\langle am\\vert\\hat{v}\\vert ef\\rangle  t_i^e t_{mj}^{fb}\n",
    "        - \\frac{1}{2} P(ab) \\langle am\\vert\\hat{v}\\vert ef\\rangle  t_{ij}^{ef} t_m^b\n",
    "        + P(ab) \\langle bm\\vert\\hat{v}\\vert ef\\rangle  t_{ij}^{ae} t_m^f\n",
    "        & -P(ij) P(ab) \\langle mn\\vert\\hat{v} \\vert ej\\rangle  t_{im}^{ae} t_n^b\n",
    "        + \\frac{1}{2} P(ij) \\langle mn\\vert\\hat{v}\\vert ej\\rangle  t_i^e t_{mn}^{ab}\n",
    "        -P(ij) \\langle mn\\vert\\hat{v}\\vert ei\\rangle  t_m^e t_{nj}^{ab}\n",
    "        & -\\frac{1}{2} P(ij) P(ab) \\langle am\\vert\\hat{v}\\vert ef\\rangle  t_i^e t_j^f t_m^b\n",
    "        + \\frac{1}{2} P(ij) P(ab) \\langle mn\\vert\\hat{v}\\vert ej\\rangle t_i^e t_m^a t_n^b\n",
    "        & + \\frac{1}{4} P(ij) \\langle mn\\vert\\hat{v}\\vert ef\\rangle  t_i^e t_{mn}^{ab} t_j^f\n",
    "        - P(ij) P(ab) \\langle mn\\vert\\hat{v}\\vert ef\\rangle t_i^e t_m^a t_{nj}^{fb}\n",
    "        & + \\frac{1}{4} P(ab) \\langle mn\\vert\\hat{v}\\vert ef\\rangle t_m^a t_{ij}^{ef} t_n^b\n",
    "        - P(ij) \\langle mn\\vert\\hat{v}\\vert ef\\rangle t_m^e t_i^f t_{nj}^{ab}\n",
    "        - P(ab) \\langle mn\\vert\\hat{v}\\vert ef\\rangle t_{ij}^{ae} t_m^b t_n^f\n",
    "        & + \\frac{1}{4} P(ij) P(ab) \\langle mn\\vert\\hat{v}\\vert ef\\rangle t_i^e t_m^a t_j^f t_n^b\n",
    "\\end{align*}\n",
    "$$"
   ]
  },
  {
   "cell_type": "markdown",
   "metadata": {},
   "source": [
    "<!-- \\include{src/ccsd_barh_expansion} -->\n",
    "<!-- \\include{src/ccsd_factoring} -->\n",
    "<!-- \\include{src/ccsd_algorithm} -->"
   ]
  }
 ],
 "metadata": {
  "kernelspec": {
   "display_name": "Python 3",
   "language": "python",
   "name": "python3"
  },
  "language_info": {
   "codemirror_mode": {
    "name": "ipython",
    "version": 3
   },
   "file_extension": ".py",
   "mimetype": "text/x-python",
   "name": "python",
   "nbconvert_exporter": "python",
   "pygments_lexer": "ipython3",
   "version": "3.7.7"
  }
 },
 "nbformat": 4,
 "nbformat_minor": 5
}
