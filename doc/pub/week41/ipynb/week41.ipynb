{
 "cells": [
  {
   "cell_type": "markdown",
   "id": "f6c34bae",
   "metadata": {
    "editable": true
   },
   "source": [
    "<!-- HTML file automatically generated from DocOnce source (https://github.com/doconce/doconce/)\n",
    "doconce format html week41.do.txt --no_mako -->\n",
    "<!-- dom:TITLE: Week 41: Thouless' theorem, Stability of Hartree-Fock theory and start Electron gas -->"
   ]
  },
  {
   "cell_type": "markdown",
   "id": "6b8f8e74",
   "metadata": {
    "editable": true
   },
   "source": [
    "# Week 41: Thouless' theorem, Stability of Hartree-Fock theory and start Electron gas\n",
    "**Morten Hjorth-Jensen**, Department of Physics and Center for Computing in Science Education, University of Oslo, Norway and Department of Physics and Astronomy and Facility for Rare Isotope Beams, Michigan State University, USA\n",
    "\n",
    "Date: **Week 41, October 10-14**"
   ]
  },
  {
   "cell_type": "markdown",
   "id": "a0a8655e",
   "metadata": {
    "editable": true
   },
   "source": [
    "## Week 41, October 9-13, 2023\n",
    "* Topics to be covered\n",
    "\n",
    "a. Thursday:\n",
    "\n",
    "    * Koopman's theorem and repetition  of derivation of Hartree-Fock theory\n",
    "\n",
    "    * Stability of Hartree-Fock theory and Thouless theorem\n",
    "\n",
    "    * [Video of lecture](https://youtu.be/fIwYYQ9Qjkk)\n",
    "\n",
    "    * [Whiteboard notes](https://github.com/ManyBodyPhysics/FYS4480/blob/master/doc/HandwrittenNotes/2023/LectureOctober12.pdf)\n",
    "\n",
    "b. Friday:\n",
    "\n",
    "   * Stability of Hartree-Fock theory and Thouless theorem, continues\n",
    "\n",
    "   * Introduction to the homogenoeus electron gas in three dimensions\n",
    "\n",
    "   * Work on first midterm\n",
    "\n",
    "* Lecture Material: These slides, handwritten notes and Szabo and Ostlund, chapter 3. See also Shavitt and Bartlett, chapters 3 and 4\n",
    "\n",
    "* First midterm set at <https://github.com/ManyBodyPhysics/FYS4480/blob/master/doc/Exercises/2023/FirstMidterm2023.pdf>"
   ]
  },
  {
   "cell_type": "markdown",
   "id": "1cd4e419",
   "metadata": {
    "editable": true
   },
   "source": [
    "## Analysis of Hartree-Fock equations and Koopman's theorem\n",
    "\n",
    "We can rewrite the ground state energy by adding and subtracting $\\hat{u}^{HF}(x_i)$"
   ]
  },
  {
   "cell_type": "markdown",
   "id": "cd2bae79",
   "metadata": {
    "editable": true
   },
   "source": [
    "$$\n",
    "E_0^{HF} =\\langle \\Phi_0 | \\hat{H} | \\Phi_0\\rangle = \n",
    "\\sum_{i\\le F}^A \\langle i | \\hat{h}_0 +\\hat{u}^{HF}| j\\rangle+ \\frac{1}{2}\\sum_{i\\le F}^A\\sum_{j \\le F}^A\\left[\\langle ij |\\hat{v}|ij \\rangle-\\langle ij|\\hat{v}|ji\\rangle\\right]-\\sum_{i\\le F}^A \\langle i |\\hat{u}^{HF}| i\\rangle,\n",
    "$$"
   ]
  },
  {
   "cell_type": "markdown",
   "id": "ea2ca754",
   "metadata": {
    "editable": true
   },
   "source": [
    "which results in"
   ]
  },
  {
   "cell_type": "markdown",
   "id": "e7b1e41d",
   "metadata": {
    "editable": true
   },
   "source": [
    "$$\n",
    "E_0^{HF}\n",
    "  = \\sum_{i\\le F}^A \\varepsilon_i^{HF} + \\frac{1}{2}\\sum_{i\\le F}^A\\sum_{j \\le F}^A\\left[\\langle ij |\\hat{v}|ij \\rangle-\\langle ij|\\hat{v}|ji\\rangle\\right]-\\sum_{i\\le F}^A \\langle i |\\hat{u}^{HF}| i\\rangle.\n",
    "$$"
   ]
  },
  {
   "cell_type": "markdown",
   "id": "21022c87",
   "metadata": {
    "editable": true
   },
   "source": [
    "Our single-particle states $ijk\\dots$ are now single-particle states obtained from the solution of the Hartree-Fock equations.\n",
    "\n",
    "Using our definition of the Hartree-Fock single-particle energies we obtain then the following expression for the total ground-state energy"
   ]
  },
  {
   "cell_type": "markdown",
   "id": "de623adf",
   "metadata": {
    "editable": true
   },
   "source": [
    "$$\n",
    "E_0^{HF}\n",
    "  = \\sum_{i\\le F}^A \\varepsilon_i - \\frac{1}{2}\\sum_{i\\le F}^A\\sum_{j \\le F}^A\\left[\\langle ij |\\hat{v}|ij \\rangle-\\langle ij|\\hat{v}|ji\\rangle\\right].\n",
    "$$"
   ]
  },
  {
   "cell_type": "markdown",
   "id": "bd86334c",
   "metadata": {
    "editable": true
   },
   "source": [
    "This form will be used in our discussion of Koopman's theorem.\n",
    "\n",
    "In the   atomic physics case we have"
   ]
  },
  {
   "cell_type": "markdown",
   "id": "e515fab7",
   "metadata": {
    "editable": true
   },
   "source": [
    "$$\n",
    "E[\\Phi^{\\mathrm{HF}}(N)] \n",
    "  = \\sum_{i=1}^H \\langle i | \\hat{h}_0 | i \\rangle +\n",
    "  \\frac{1}{2}\\sum_{ij=1}^N\\langle ij|\\hat{v}|ij\\rangle_{AS},\n",
    "$$"
   ]
  },
  {
   "cell_type": "markdown",
   "id": "7925496e",
   "metadata": {
    "editable": true
   },
   "source": [
    "where $\\Phi^{\\mathrm{HF}}(N)$ is the new Slater determinant defined by the new basis\n",
    "for $N$ electrons (same $Z$).  If we assume that the single-particle wave functions in the new basis do not change \n",
    "when we remove one electron or add one electron, we can then define the corresponding energy for the $N-1$ systems as"
   ]
  },
  {
   "cell_type": "markdown",
   "id": "d34814ec",
   "metadata": {
    "editable": true
   },
   "source": [
    "$$\n",
    "E[\\Phi^{\\mathrm{HF}}(N-1)] \n",
    "  = \\sum_{i=1; i\\ne k}^N \\langle i | \\hat{h}_0 | i \\rangle +\n",
    "  \\frac{1}{2}\\sum_{ij=1;i,j\\ne k}^N\\langle ij|\\hat{v}|ij\\rangle_{AS},\n",
    "$$"
   ]
  },
  {
   "cell_type": "markdown",
   "id": "8d0cf724",
   "metadata": {
    "editable": true
   },
   "source": [
    "where we have removed a single-particle state $k\\le F$, that is a state below the Fermi level.  \n",
    "\n",
    "Calculating the difference"
   ]
  },
  {
   "cell_type": "markdown",
   "id": "f12da98f",
   "metadata": {
    "editable": true
   },
   "source": [
    "$$\n",
    "E[\\Phi^{\\mathrm{HF}}(N)]-   E[\\Phi^{\\mathrm{HF}}(N-1)] = \\langle k | \\hat{h}_0 | k \\rangle +\n",
    "  \\frac{1}{2}\\sum_{i=1;i\\ne k}^N\\langle ik|\\hat{v}|ik\\rangle_{AS} + \\frac{1}{2}\\sum_{j=1;j\\ne k}^N\\langle kj|\\hat{v}|kj\\rangle_{AS},\n",
    "$$"
   ]
  },
  {
   "cell_type": "markdown",
   "id": "6521061f",
   "metadata": {
    "editable": true
   },
   "source": [
    "we obtain"
   ]
  },
  {
   "cell_type": "markdown",
   "id": "d9f36a58",
   "metadata": {
    "editable": true
   },
   "source": [
    "$$\n",
    "E[\\Phi^{\\mathrm{HF}}(N)]-   E[\\Phi^{\\mathrm{HF}}(N-1)] = \\langle k | \\hat{h}_0 | k \\rangle +\\sum_{j=1}^N\\langle kj|\\hat{v}|kj\\rangle_{AS}\n",
    "$$"
   ]
  },
  {
   "cell_type": "markdown",
   "id": "7b743bdd",
   "metadata": {
    "editable": true
   },
   "source": [
    "which is just our definition of the Hartree-Fock single-particle energy"
   ]
  },
  {
   "cell_type": "markdown",
   "id": "816c1cae",
   "metadata": {
    "editable": true
   },
   "source": [
    "$$\n",
    "E[\\Phi^{\\mathrm{HF}}(N)]-   E[\\Phi^{\\mathrm{HF}}(N-1)] = \\epsilon_k^{\\mathrm{HF}}\n",
    "$$"
   ]
  },
  {
   "cell_type": "markdown",
   "id": "b31ea18b",
   "metadata": {
    "editable": true
   },
   "source": [
    "Similarly, we can now compute the difference (we label the single-particle states above the Fermi level as $abcd > F$)"
   ]
  },
  {
   "cell_type": "markdown",
   "id": "7f3c6976",
   "metadata": {
    "editable": true
   },
   "source": [
    "$$\n",
    "E[\\Phi^{\\mathrm{HF}}(N+1)]-   E[\\Phi^{\\mathrm{HF}}(N)]= \\epsilon_a^{\\mathrm{HF}}.\n",
    "$$"
   ]
  },
  {
   "cell_type": "markdown",
   "id": "f6fd2873",
   "metadata": {
    "editable": true
   },
   "source": [
    "These two equations can thus be used to the electron affinity or ionization energies, respectively. \n",
    "Koopman's theorem states that for example the ionization energy of a closed-shell system is given by the energy of the highest occupied single-particle state.  If we assume that changing the number of electrons from $N$ to $N+1$ does not change the Hartree-Fock single-particle energies and eigenfunctions, then Koopman's theorem simply states that the ionization energy of an atom is given by the single-particle energy of the last bound state. In a similar way, we can also define the electron affinities. \n",
    "\n",
    "As an example, consider a simple model for atomic sodium, Na. Neutral sodium has eleven electrons, \n",
    "with the weakest bound one being confined the $3s$ single-particle quantum numbers. The energy needed to remove an electron from neutral sodium is rather small, 5.1391 eV, a feature which pertains to all alkali metals.\n",
    "Having performed a  Hartree-Fock calculation for neutral sodium would then allows us to compute the\n",
    "ionization energy by using the single-particle energy for the $3s$ states, namely $\\epsilon_{3s}^{\\mathrm{HF}}$. \n",
    "\n",
    "From these considerations, we see that Hartree-Fock theory allows us to make a connection between experimental \n",
    "observables (here ionization and affinity energies) and the underlying interactions between particles.  \n",
    "In this sense, we are now linking the dynamics and structure of a many-body system with the laws of motion which govern the system. Our approach is a reductionistic one, meaning that we want to understand the laws of motion \n",
    "in terms of the particles or degrees of freedom which we believe are the fundamental ones. Our Slater determinant, being constructed as the product of various single-particle functions, follows this philosophy.\n",
    "\n",
    "With similar arguments as in atomic physics, we can now use Hartree-Fock theory to make a link\n",
    "between nuclear forces and separation energies. Changing to nuclear system, we define"
   ]
  },
  {
   "cell_type": "markdown",
   "id": "aacbfb70",
   "metadata": {
    "editable": true
   },
   "source": [
    "$$\n",
    "E[\\Phi^{\\mathrm{HF}}(A)] \n",
    "  = \\sum_{i=1}^A \\langle i | \\hat{h}_0 | i \\rangle +\n",
    "  \\frac{1}{2}\\sum_{ij=1}^A\\langle ij|\\hat{v}|ij\\rangle_{AS},\n",
    "$$"
   ]
  },
  {
   "cell_type": "markdown",
   "id": "1af7a5ed",
   "metadata": {
    "editable": true
   },
   "source": [
    "where $\\Phi^{\\mathrm{HF}}(A)$ is the new Slater determinant defined by the new basis \n",
    "for $A$ nucleons, where $A=N+Z$, with $N$ now being the number of neutrons and $Z$ th enumber of protons.  If we assume again that the single-particle wave functions in the new basis do not change from a nucleus with $A$ nucleons to a nucleus with $A-1$  nucleons, we can then define the corresponding energy for the $A-1$ systems as"
   ]
  },
  {
   "cell_type": "markdown",
   "id": "bf347c06",
   "metadata": {
    "editable": true
   },
   "source": [
    "$$\n",
    "E[\\Phi^{\\mathrm{HF}}(A-1)] \n",
    "  = \\sum_{i=1; i\\ne k}^A \\langle i | \\hat{h}_0 | i \\rangle +\n",
    "  \\frac{1}{2}\\sum_{ij=1;i,j\\ne k}^A\\langle ij|\\hat{v}|ij\\rangle_{AS},\n",
    "$$"
   ]
  },
  {
   "cell_type": "markdown",
   "id": "4b34d0d0",
   "metadata": {
    "editable": true
   },
   "source": [
    "where we have removed a single-particle state $k\\le F$, that is a state below the Fermi level.  \n",
    "\n",
    "Calculating the difference"
   ]
  },
  {
   "cell_type": "markdown",
   "id": "d92ee3c2",
   "metadata": {
    "editable": true
   },
   "source": [
    "$$\n",
    "E[\\Phi^{\\mathrm{HF}}(A)]-   E[\\Phi^{\\mathrm{HF}}(A-1)] \n",
    "  = \\langle k | \\hat{h}_0 | k \\rangle +\n",
    "  \\frac{1}{2}\\sum_{i=1;i\\ne k}^A\\langle ik|\\hat{v}|ik\\rangle_{AS} + \\frac{1}{2}\\sum_{j=1;j\\ne k}^A\\langle kj|\\hat{v}|kj\\rangle_{AS},\n",
    "$$"
   ]
  },
  {
   "cell_type": "markdown",
   "id": "ecc335fb",
   "metadata": {
    "editable": true
   },
   "source": [
    "which becomes"
   ]
  },
  {
   "cell_type": "markdown",
   "id": "f7f66aa9",
   "metadata": {
    "editable": true
   },
   "source": [
    "$$\n",
    "E[\\Phi^{\\mathrm{HF}}(A)]-   E[\\Phi^{\\mathrm{HF}}(A-1)] \n",
    "  = \\langle k | \\hat{h}_0 | k \\rangle +\\sum_{j=1}^A\\langle kj|\\hat{v}|kj\\rangle_{AS}\n",
    "$$"
   ]
  },
  {
   "cell_type": "markdown",
   "id": "12428abf",
   "metadata": {
    "editable": true
   },
   "source": [
    "which is just our definition of the Hartree-Fock single-particle energy"
   ]
  },
  {
   "cell_type": "markdown",
   "id": "d134b0a0",
   "metadata": {
    "editable": true
   },
   "source": [
    "$$\n",
    "E[\\Phi^{\\mathrm{HF}}(A)]-   E[\\Phi^{\\mathrm{HF}}(A-1)] \n",
    "  = \\epsilon_k^{\\mathrm{HF}}\n",
    "$$"
   ]
  },
  {
   "cell_type": "markdown",
   "id": "16fbcebc",
   "metadata": {
    "editable": true
   },
   "source": [
    "Similarly, we can now compute the difference (recall that the single-particle states $abcd > F$)"
   ]
  },
  {
   "cell_type": "markdown",
   "id": "dad373e8",
   "metadata": {
    "editable": true
   },
   "source": [
    "$$\n",
    "E[\\Phi^{\\mathrm{HF}}(A+1)]-   E[\\Phi^{\\mathrm{HF}}(A)]= \\epsilon_a^{\\mathrm{HF}}.\n",
    "$$"
   ]
  },
  {
   "cell_type": "markdown",
   "id": "f89ec90c",
   "metadata": {
    "editable": true
   },
   "source": [
    "If we then recall that the binding energy differences"
   ]
  },
  {
   "cell_type": "markdown",
   "id": "a1d95b3e",
   "metadata": {
    "editable": true
   },
   "source": [
    "$$\n",
    "BE(A)-BE(A-1) \\hspace{0.5cm} \\mathrm{and} \\hspace{0.5cm} BE(A+1)-BE(A),\n",
    "$$"
   ]
  },
  {
   "cell_type": "markdown",
   "id": "cd5cb9ce",
   "metadata": {
    "editable": true
   },
   "source": [
    "define the separation energies, we see that the Hartree-Fock single-particle energies can be used to\n",
    "define separation energies. We have thus our first link between nuclear forces (included in the potential energy term) and an observable quantity defined by differences in binding energies. \n",
    "\n",
    "We have thus the following interpretations (if the single-particle fields do not change)"
   ]
  },
  {
   "cell_type": "markdown",
   "id": "f4f7149a",
   "metadata": {
    "editable": true
   },
   "source": [
    "$$\n",
    "BE(A)-BE(A-1)\\approx  E[\\Phi^{\\mathrm{HF}}(A)]-   E[\\Phi^{\\mathrm{HF}}(A-1)] \n",
    "  = \\epsilon_k^{\\mathrm{HF}},\n",
    "$$"
   ]
  },
  {
   "cell_type": "markdown",
   "id": "cb382465",
   "metadata": {
    "editable": true
   },
   "source": [
    "and"
   ]
  },
  {
   "cell_type": "markdown",
   "id": "2007a14b",
   "metadata": {
    "editable": true
   },
   "source": [
    "$$\n",
    "BE(A+1)-BE(A)\\approx  E[\\Phi^{\\mathrm{HF}}(A+1)]-   E[\\Phi^{\\mathrm{HF}}(A)] =  \\epsilon_a^{\\mathrm{HF}}.\n",
    "$$"
   ]
  },
  {
   "cell_type": "markdown",
   "id": "1b39b916",
   "metadata": {
    "editable": true
   },
   "source": [
    "If  we use ${}^{16}\\mbox{O}$ as our closed-shell nucleus, we could then interpret the separation energy"
   ]
  },
  {
   "cell_type": "markdown",
   "id": "c296f043",
   "metadata": {
    "editable": true
   },
   "source": [
    "$$\n",
    "BE(^{16}\\mathrm{O})-BE(^{15}\\mathrm{O})\\approx \\epsilon_{0p^{\\nu}_{1/2}}^{\\mathrm{HF}},\n",
    "$$"
   ]
  },
  {
   "cell_type": "markdown",
   "id": "4ac674aa",
   "metadata": {
    "editable": true
   },
   "source": [
    "and"
   ]
  },
  {
   "cell_type": "markdown",
   "id": "df054110",
   "metadata": {
    "editable": true
   },
   "source": [
    "$$\n",
    "BE(^{16}\\mathrm{O})-BE(^{15}\\mathrm{N})\\approx \\epsilon_{0p^{\\pi}_{1/2}}^{\\mathrm{HF}}.\n",
    "$$"
   ]
  },
  {
   "cell_type": "markdown",
   "id": "1a661221",
   "metadata": {
    "editable": true
   },
   "source": [
    "Similalry, we could interpret"
   ]
  },
  {
   "cell_type": "markdown",
   "id": "fdfc8d78",
   "metadata": {
    "editable": true
   },
   "source": [
    "$$\n",
    "BE(^{17}\\mathrm{O})-BE(^{16}\\mathrm{O})\\approx \\epsilon_{0d^{\\nu}_{5/2}}^{\\mathrm{HF}},\n",
    "$$"
   ]
  },
  {
   "cell_type": "markdown",
   "id": "36c5189d",
   "metadata": {
    "editable": true
   },
   "source": [
    "and"
   ]
  },
  {
   "cell_type": "markdown",
   "id": "7be0fe3c",
   "metadata": {
    "editable": true
   },
   "source": [
    "$$\n",
    "BE(^{17}\\mathrm{F})-BE(^{16}\\mathrm{O})\\approx\\epsilon_{0d^{\\pi}_{5/2}}^{\\mathrm{HF}}.\n",
    "$$"
   ]
  },
  {
   "cell_type": "markdown",
   "id": "e1de0353",
   "metadata": {
    "editable": true
   },
   "source": [
    "We can continue like this for all $A\\pm 1$ nuclei where $A$ is a good closed-shell (or subshell closure)\n",
    "nucleus. Examples are ${}^{22}\\mbox{O}$, ${}^{24}\\mbox{O}$, ${}^{40}\\mbox{Ca}$, ${}^{48}\\mbox{Ca}$, ${}^{52}\\mbox{Ca}$, ${}^{54}\\mbox{Ca}$, ${}^{56}\\mbox{Ni}$, \n",
    "${}^{68}\\mbox{Ni}$, ${}^{78}\\mbox{Ni}$, ${}^{90}\\mbox{Zr}$, ${}^{88}\\mbox{Sr}$, ${}^{100}\\mbox{Sn}$, ${}^{132}\\mbox{Sn}$ and ${}^{208}\\mbox{Pb}$, to mention some possile cases.\n",
    "\n",
    "We can thus make our first interpretation of the separation energies in terms of the simplest\n",
    "possible many-body theory. \n",
    "If we also recall that the so-called energy gap for neutrons (or protons) is defined as"
   ]
  },
  {
   "cell_type": "markdown",
   "id": "4c4cd782",
   "metadata": {
    "editable": true
   },
   "source": [
    "$$\n",
    "\\Delta S_n= 2BE(N,Z)-BE(N-1,Z)-BE(N+1,Z),\n",
    "$$"
   ]
  },
  {
   "cell_type": "markdown",
   "id": "b201f717",
   "metadata": {
    "editable": true
   },
   "source": [
    "for neutrons and the corresponding gap for protons"
   ]
  },
  {
   "cell_type": "markdown",
   "id": "c50bdc0b",
   "metadata": {
    "editable": true
   },
   "source": [
    "$$\n",
    "\\Delta S_p= 2BE(N,Z)-BE(N,Z-1)-BE(N,Z+1),\n",
    "$$"
   ]
  },
  {
   "cell_type": "markdown",
   "id": "629a916d",
   "metadata": {
    "editable": true
   },
   "source": [
    "we can define the neutron and proton energy gaps for ${}^{16}\\mbox{O}$ as"
   ]
  },
  {
   "cell_type": "markdown",
   "id": "1298f1f4",
   "metadata": {
    "editable": true
   },
   "source": [
    "$$\n",
    "\\Delta S_{\\nu}=\\epsilon_{0d^{\\nu}_{5/2}}^{\\mathrm{HF}}-\\epsilon_{0p^{\\nu}_{1/2}}^{\\mathrm{HF}},\n",
    "$$"
   ]
  },
  {
   "cell_type": "markdown",
   "id": "b219efbb",
   "metadata": {
    "editable": true
   },
   "source": [
    "and"
   ]
  },
  {
   "cell_type": "markdown",
   "id": "2d5df826",
   "metadata": {
    "editable": true
   },
   "source": [
    "$$\n",
    "\\Delta S_{\\pi}=\\epsilon_{0d^{\\pi}_{5/2}}^{\\mathrm{HF}}-\\epsilon_{0p^{\\pi}_{1/2}}^{\\mathrm{HF}}.\n",
    "$$"
   ]
  },
  {
   "cell_type": "markdown",
   "id": "5aaebe4b",
   "metadata": {
    "editable": true
   },
   "source": [
    "## Hartree-Fock in second quantization and stability of HF solution\n",
    "\n",
    "We wish now to derive the Hartree-Fock equations using our second-quantized formalism and study the stability of the equations. \n",
    "Our ansatz for the ground state of the system is approximated as (this is our representation of a Slater determinant in second quantization)"
   ]
  },
  {
   "cell_type": "markdown",
   "id": "78bc7cb8",
   "metadata": {
    "editable": true
   },
   "source": [
    "$$\n",
    "|\\Phi_0\\rangle = |c\\rangle = a^{\\dagger}_i a^{\\dagger}_j \\dots a^{\\dagger}_l|0\\rangle.\n",
    "$$"
   ]
  },
  {
   "cell_type": "markdown",
   "id": "f98a86f7",
   "metadata": {
    "editable": true
   },
   "source": [
    "We wish to determine $\\hat{u}^{HF}$ so that \n",
    "$E_0^{HF}= \\langle c|\\hat{H}| c\\rangle$ becomes a local minimum. \n",
    "\n",
    "In our analysis here we will need Thouless' theorem, which states that\n",
    "an arbitrary Slater determinant $|c'\\rangle$ which is not orthogonal to a determinant\n",
    "$| c\\rangle ={\\displaystyle\\prod_{i=1}^{n}}\n",
    "a_{\\alpha_{i}}^{\\dagger}|0\\rangle$, can be written as"
   ]
  },
  {
   "cell_type": "markdown",
   "id": "9108c140",
   "metadata": {
    "editable": true
   },
   "source": [
    "$$\n",
    "|c'\\rangle=exp\\left\\{\\sum_{a>F}\\sum_{i\\le F}C_{ai}a_{a}^{\\dagger}a_{i}\\right\\}| c\\rangle\n",
    "$$"
   ]
  },
  {
   "cell_type": "markdown",
   "id": "592147fd",
   "metadata": {
    "editable": true
   },
   "source": [
    "Let us give a simple proof of Thouless' theorem. The theorem states that we can make a linear combination av particle-hole excitations  with respect to a given reference state $\\vert c\\rangle$. With this linear combination, we can make a new Slater determinant $\\vert c'\\rangle $ which is not orthogonal to \n",
    "$\\vert c\\rangle$, that is"
   ]
  },
  {
   "cell_type": "markdown",
   "id": "f8911dd2",
   "metadata": {
    "editable": true
   },
   "source": [
    "$$\n",
    "\\langle c|c'\\rangle \\ne 0.\n",
    "$$"
   ]
  },
  {
   "cell_type": "markdown",
   "id": "2d34aa4b",
   "metadata": {
    "editable": true
   },
   "source": [
    "To show this we need some intermediate steps. The exponential product of two operators  $\\exp{\\hat{A}}\\times\\exp{\\hat{B}}$ is equal to $\\exp{(\\hat{A}+\\hat{B})}$ only if the two operators commute, that is"
   ]
  },
  {
   "cell_type": "markdown",
   "id": "f98aa9b9",
   "metadata": {
    "editable": true
   },
   "source": [
    "$$\n",
    "[\\hat{A},\\hat{B}] = 0.\n",
    "$$"
   ]
  },
  {
   "cell_type": "markdown",
   "id": "c2154786",
   "metadata": {
    "editable": true
   },
   "source": [
    "## Thouless' theorem\n",
    "\n",
    "If the operators do not commute, we need to resort to the [Baker-Campbell-Hauersdorf](http://www.encyclopediaofmath.org/index.php/Campbell%E2%80%93Hausdorff_formula). This relation states that"
   ]
  },
  {
   "cell_type": "markdown",
   "id": "62bbe234",
   "metadata": {
    "editable": true
   },
   "source": [
    "$$\n",
    "\\exp{\\hat{C}}=\\exp{\\hat{A}}\\exp{\\hat{B}},\n",
    "$$"
   ]
  },
  {
   "cell_type": "markdown",
   "id": "3e6a46bd",
   "metadata": {
    "editable": true
   },
   "source": [
    "with"
   ]
  },
  {
   "cell_type": "markdown",
   "id": "5a1a5cf1",
   "metadata": {
    "editable": true
   },
   "source": [
    "$$\n",
    "\\hat{C}=\\hat{A}+\\hat{B}+\\frac{1}{2}[\\hat{A},\\hat{B}]+\\frac{1}{12}[[\\hat{A},\\hat{B}],\\hat{B}]-\\frac{1}{12}[[\\hat{A},\\hat{B}],\\hat{A}]+\\dots\n",
    "$$"
   ]
  },
  {
   "cell_type": "markdown",
   "id": "3f13dc4c",
   "metadata": {
    "editable": true
   },
   "source": [
    "From these relations, we note that \n",
    "in our expression  for $|c'\\rangle$ we have commutators of the type"
   ]
  },
  {
   "cell_type": "markdown",
   "id": "ab9e6054",
   "metadata": {
    "editable": true
   },
   "source": [
    "$$\n",
    "[a_{a}^{\\dagger}a_{i},a_{b}^{\\dagger}a_{j}],\n",
    "$$"
   ]
  },
  {
   "cell_type": "markdown",
   "id": "8a6ffa46",
   "metadata": {
    "editable": true
   },
   "source": [
    "and it is easy to convince oneself that these commutators, or higher powers thereof, are all zero. This means that we can write out our new representation of a Slater determinant as"
   ]
  },
  {
   "cell_type": "markdown",
   "id": "ad52a5c9",
   "metadata": {
    "editable": true
   },
   "source": [
    "$$\n",
    "|c'\\rangle=exp\\left\\{\\sum_{a>F}\\sum_{i\\le F}C_{ai}a_{a}^{\\dagger}a_{i}\\right\\}| c\\rangle=\\prod_{i}\\left\\{1+\\sum_{a>F}C_{ai}a_{a}^{\\dagger}a_{i}+\\left(\\sum_{a>F}C_{ai}a_{a}^{\\dagger}a_{i}\\right)^2+\\dots\\right\\}| c\\rangle\n",
    "$$"
   ]
  },
  {
   "cell_type": "markdown",
   "id": "be7cf131",
   "metadata": {
    "editable": true
   },
   "source": [
    "We note that"
   ]
  },
  {
   "cell_type": "markdown",
   "id": "defb63a2",
   "metadata": {
    "editable": true
   },
   "source": [
    "$$\n",
    "\\prod_{i}\\sum_{a>F}C_{ai}a_{a}^{\\dagger}a_{i}\\sum_{b>F}C_{bi}a_{b}^{\\dagger}a_{i}| c\\rangle =0,\n",
    "$$"
   ]
  },
  {
   "cell_type": "markdown",
   "id": "37c2b990",
   "metadata": {
    "editable": true
   },
   "source": [
    "and all higher-order powers of these combinations of creation and annihilation operators disappear \n",
    "due to the fact that $(a_i)^n| c\\rangle =0$ when $n > 1$. This allows us to rewrite the expression for $|c'\\rangle $ as"
   ]
  },
  {
   "cell_type": "markdown",
   "id": "f58ed934",
   "metadata": {
    "editable": true
   },
   "source": [
    "$$\n",
    "|c'\\rangle=\\prod_{i}\\left\\{1+\\sum_{a>F}C_{ai}a_{a}^{\\dagger}a_{i}\\right\\}| c\\rangle,\n",
    "$$"
   ]
  },
  {
   "cell_type": "markdown",
   "id": "d2e579f8",
   "metadata": {
    "editable": true
   },
   "source": [
    "which we can rewrite as"
   ]
  },
  {
   "cell_type": "markdown",
   "id": "9ee1e090",
   "metadata": {
    "editable": true
   },
   "source": [
    "$$\n",
    "|c'\\rangle=\\prod_{i}\\left\\{1+\\sum_{a>F}C_{ai}a_{a}^{\\dagger}a_{i}\\right\\}| a^{\\dagger}_{i_1} a^{\\dagger}_{i_2} \\dots a^{\\dagger}_{i_n}|0\\rangle.\n",
    "$$"
   ]
  },
  {
   "cell_type": "markdown",
   "id": "0321d94f",
   "metadata": {
    "editable": true
   },
   "source": [
    "The last equation can be written as"
   ]
  },
  {
   "cell_type": "markdown",
   "id": "6031c320",
   "metadata": {
    "editable": true
   },
   "source": [
    "<!-- Equation labels as ordinary links -->\n",
    "<div id=\"_auto1\"></div>\n",
    "\n",
    "$$\n",
    "\\begin{equation}\n",
    "|c'\\rangle=\\prod_{i}\\left\\{1+\\sum_{a>F}C_{ai}a_{a}^{\\dagger}a_{i}\\right\\}| a^{\\dagger}_{i_1} a^{\\dagger}_{i_2} \\dots a^{\\dagger}_{i_n}|0\\rangle=\\left(1+\\sum_{a>F}C_{ai_1}a_{a}^{\\dagger}a_{i_1}\\right)a^{\\dagger}_{i_1} \n",
    "\\label{_auto1} \\tag{1}\n",
    "\\end{equation}\n",
    "$$"
   ]
  },
  {
   "cell_type": "markdown",
   "id": "ef373f2a",
   "metadata": {
    "editable": true
   },
   "source": [
    "<!-- Equation labels as ordinary links -->\n",
    "<div id=\"_auto2\"></div>\n",
    "\n",
    "$$\n",
    "\\begin{equation} \n",
    " \\times\\left(1+\\sum_{a>F}C_{ai_2}a_{a}^{\\dagger}a_{i_2}\\right)a^{\\dagger}_{i_2} \\dots |0\\rangle=\\prod_{i}\\left(a^{\\dagger}_{i}+\\sum_{a>F}C_{ai}a_{a}^{\\dagger}\\right)|0\\rangle.\n",
    "\\label{_auto2} \\tag{2}\n",
    "\\end{equation}\n",
    "$$"
   ]
  },
  {
   "cell_type": "markdown",
   "id": "254e46c8",
   "metadata": {
    "editable": true
   },
   "source": [
    "## New operators\n",
    "\n",
    "If we define a new creation operator"
   ]
  },
  {
   "cell_type": "markdown",
   "id": "e5918ab1",
   "metadata": {
    "editable": true
   },
   "source": [
    "<!-- Equation labels as ordinary links -->\n",
    "<div id=\"eq:newb\"></div>\n",
    "\n",
    "$$\n",
    "\\begin{equation}\n",
    "b^{\\dagger}_{i}=a^{\\dagger}_{i}+\\sum_{a>F}C_{ai}a_{a}^{\\dagger}, \\label{eq:newb} \\tag{3}\n",
    "\\end{equation}\n",
    "$$"
   ]
  },
  {
   "cell_type": "markdown",
   "id": "e7362f31",
   "metadata": {
    "editable": true
   },
   "source": [
    "we have"
   ]
  },
  {
   "cell_type": "markdown",
   "id": "81094773",
   "metadata": {
    "editable": true
   },
   "source": [
    "$$\n",
    "|c'\\rangle=\\prod_{i}b^{\\dagger}_{i}|0\\rangle=\\prod_{i}\\left(a^{\\dagger}_{i}+\\sum_{a>F}C_{ai}a_{a}^{\\dagger}\\right)|0\\rangle,\n",
    "$$"
   ]
  },
  {
   "cell_type": "markdown",
   "id": "da345150",
   "metadata": {
    "editable": true
   },
   "source": [
    "meaning that the new representation of the Slater determinant in second quantization, $|c'\\rangle$, looks like our previous ones. However, this representation is not general enough since we have a restriction on the sum over single-particle states in Eq. ([3](#eq:newb)). The single-particle states have all to be above the Fermi level.\n",
    "The question then is whether we can construct a general representation of a Slater determinant with a creation operator"
   ]
  },
  {
   "cell_type": "markdown",
   "id": "08a85c1f",
   "metadata": {
    "editable": true
   },
   "source": [
    "$$\n",
    "\\tilde{b}^{\\dagger}_{i}=\\sum_{p}f_{ip}a_{p}^{\\dagger},\n",
    "$$"
   ]
  },
  {
   "cell_type": "markdown",
   "id": "e8f68c00",
   "metadata": {
    "editable": true
   },
   "source": [
    "where $f_{ip}$ is a matrix element of a unitary matrix which transforms our creation and annihilation operators\n",
    "$a^{\\dagger}$ and $a$ to $\\tilde{b}^{\\dagger}$ and $\\tilde{b}$. These new operators define a new representation of a Slater determinant as"
   ]
  },
  {
   "cell_type": "markdown",
   "id": "82cecb43",
   "metadata": {
    "editable": true
   },
   "source": [
    "$$\n",
    "|\\tilde{c}\\rangle=\\prod_{i}\\tilde{b}^{\\dagger}_{i}|0\\rangle.\n",
    "$$"
   ]
  },
  {
   "cell_type": "markdown",
   "id": "779083d3",
   "metadata": {
    "editable": true
   },
   "source": [
    "## Showing that $|\\tilde{c}\\rangle= |c'\\rangle$\n",
    "\n",
    "We need to show that $|\\tilde{c}\\rangle= |c'\\rangle$. We need also to assume that the new state\n",
    "is not orthogonal to $|c\\rangle$, that is $\\langle c| \\tilde{c}\\rangle \\ne 0$. From this it follows that"
   ]
  },
  {
   "cell_type": "markdown",
   "id": "259ffddd",
   "metadata": {
    "editable": true
   },
   "source": [
    "$$\n",
    "\\langle c| \\tilde{c}\\rangle=\\langle 0| a_{i_n}\\dots a_{i_1}\\left(\\sum_{p=i_1}^{i_n}f_{i_1p}a_{p}^{\\dagger} \\right)\\left(\\sum_{q=i_1}^{i_n}f_{i_2q}a_{q}^{\\dagger} \\right)\\dots \\left(\\sum_{t=i_1}^{i_n}f_{i_nt}a_{t}^{\\dagger} \\right)|0\\rangle,\n",
    "$$"
   ]
  },
  {
   "cell_type": "markdown",
   "id": "83fde58e",
   "metadata": {
    "editable": true
   },
   "source": [
    "which is nothing but the determinant $det(f_{ip})$ which we can, using the intermediate normalization condition, \n",
    "normalize to one, that is"
   ]
  },
  {
   "cell_type": "markdown",
   "id": "e8a19f66",
   "metadata": {
    "editable": true
   },
   "source": [
    "$$\n",
    "det(f_{ip})=1,\n",
    "$$"
   ]
  },
  {
   "cell_type": "markdown",
   "id": "8024c60e",
   "metadata": {
    "editable": true
   },
   "source": [
    "meaning that $f$ has an inverse defined as (since we are dealing with orthogonal, and in our case unitary as well, transformations)"
   ]
  },
  {
   "cell_type": "markdown",
   "id": "8ec68fc2",
   "metadata": {
    "editable": true
   },
   "source": [
    "$$\n",
    "\\sum_{k} f_{ik}f^{-1}_{kj} = \\delta_{ij},\n",
    "$$"
   ]
  },
  {
   "cell_type": "markdown",
   "id": "e3934dd0",
   "metadata": {
    "editable": true
   },
   "source": [
    "and"
   ]
  },
  {
   "cell_type": "markdown",
   "id": "30a94a98",
   "metadata": {
    "editable": true
   },
   "source": [
    "$$\n",
    "\\sum_{j} f^{-1}_{ij}f_{jk} = \\delta_{ik}.\n",
    "$$"
   ]
  },
  {
   "cell_type": "markdown",
   "id": "8f6e6be3",
   "metadata": {
    "editable": true
   },
   "source": [
    "Using these relations we can then define the linear combination of creation (and annihilation as well) \n",
    "operators as"
   ]
  },
  {
   "cell_type": "markdown",
   "id": "a106f52e",
   "metadata": {
    "editable": true
   },
   "source": [
    "$$\n",
    "\\sum_{i}f^{-1}_{ki}\\tilde{b}^{\\dagger}_{i}=\\sum_{i}f^{-1}_{ki}\\sum_{p=i_1}^{\\infty}f_{ip}a_{p}^{\\dagger}=a_{k}^{\\dagger}+\\sum_{i}\\sum_{p=i_{n+1}}^{\\infty}f^{-1}_{ki}f_{ip}a_{p}^{\\dagger}.\n",
    "$$"
   ]
  },
  {
   "cell_type": "markdown",
   "id": "c924fe16",
   "metadata": {
    "editable": true
   },
   "source": [
    "Defining"
   ]
  },
  {
   "cell_type": "markdown",
   "id": "4cbeffd7",
   "metadata": {
    "editable": true
   },
   "source": [
    "$$\n",
    "c_{kp}=\\sum_{i \\le F}f^{-1}_{ki}f_{ip},\n",
    "$$"
   ]
  },
  {
   "cell_type": "markdown",
   "id": "ca3ee401",
   "metadata": {
    "editable": true
   },
   "source": [
    "we can redefine"
   ]
  },
  {
   "cell_type": "markdown",
   "id": "ab1e0ac8",
   "metadata": {
    "editable": true
   },
   "source": [
    "$$\n",
    "a_{k}^{\\dagger}+\\sum_{i}\\sum_{p=i_{n+1}}^{\\infty}f^{-1}_{ki}f_{ip}a_{p}^{\\dagger}=a_{k}^{\\dagger}+\\sum_{p=i_{n+1}}^{\\infty}c_{kp}a_{p}^{\\dagger}=b_k^{\\dagger},\n",
    "$$"
   ]
  },
  {
   "cell_type": "markdown",
   "id": "03964240",
   "metadata": {
    "editable": true
   },
   "source": [
    "our starting point. We have shown that our general representation of a Slater determinant"
   ]
  },
  {
   "cell_type": "markdown",
   "id": "274b2de8",
   "metadata": {
    "editable": true
   },
   "source": [
    "$$\n",
    "|\\tilde{c}\\rangle=\\prod_{i}\\tilde{b}^{\\dagger}_{i}|0\\rangle=|c'\\rangle=\\prod_{i}b^{\\dagger}_{i}|0\\rangle,\n",
    "$$"
   ]
  },
  {
   "cell_type": "markdown",
   "id": "51c89ba5",
   "metadata": {
    "editable": true
   },
   "source": [
    "with"
   ]
  },
  {
   "cell_type": "markdown",
   "id": "750928d3",
   "metadata": {
    "editable": true
   },
   "source": [
    "$$\n",
    "b_k^{\\dagger}=a_{k}^{\\dagger}+\\sum_{p=i_{n+1}}^{\\infty}c_{kp}a_{p}^{\\dagger}.\n",
    "$$"
   ]
  },
  {
   "cell_type": "markdown",
   "id": "4fd0dec7",
   "metadata": {
    "editable": true
   },
   "source": [
    "This means that we can actually write an ansatz for the ground state of the system as a linear combination of\n",
    "terms which contain the ansatz itself $|c\\rangle$ with  an admixture from an infinity of one-particle-one-hole states. The latter has important consequences when we wish to interpret the Hartree-Fock equations and their stability. We can rewrite the new representation as"
   ]
  },
  {
   "cell_type": "markdown",
   "id": "d1721c4c",
   "metadata": {
    "editable": true
   },
   "source": [
    "$$\n",
    "|c'\\rangle = |c\\rangle+|\\delta c\\rangle,\n",
    "$$"
   ]
  },
  {
   "cell_type": "markdown",
   "id": "a56d8f8c",
   "metadata": {
    "editable": true
   },
   "source": [
    "where $|\\delta c\\rangle$ can now be interpreted as a small variation. If we approximate this term with \n",
    "contributions from one-particle-one-hole (*1p-1h*) states only, we arrive at"
   ]
  },
  {
   "cell_type": "markdown",
   "id": "1dd77705",
   "metadata": {
    "editable": true
   },
   "source": [
    "$$\n",
    "|c'\\rangle = \\left(1+\\sum_{ai}\\delta C_{ai}a_{a}^{\\dagger}a_i\\right)|c\\rangle.\n",
    "$$"
   ]
  },
  {
   "cell_type": "markdown",
   "id": "e1324fe9",
   "metadata": {
    "editable": true
   },
   "source": [
    "In our derivation of the Hartree-Fock equations we have shown that"
   ]
  },
  {
   "cell_type": "markdown",
   "id": "2699d6d3",
   "metadata": {
    "editable": true
   },
   "source": [
    "$$\n",
    "\\langle \\delta c| \\hat{H} | c\\rangle =0,\n",
    "$$"
   ]
  },
  {
   "cell_type": "markdown",
   "id": "3976e969",
   "metadata": {
    "editable": true
   },
   "source": [
    "which means that we have to satisfy"
   ]
  },
  {
   "cell_type": "markdown",
   "id": "75bfdc45",
   "metadata": {
    "editable": true
   },
   "source": [
    "$$\n",
    "\\langle c|\\sum_{ai}\\delta C_{ai}\\left\\{a_{a}^{\\dagger}a_i\\right\\} \\hat{H} | c\\rangle =0.\n",
    "$$"
   ]
  },
  {
   "cell_type": "markdown",
   "id": "3c4ec874",
   "metadata": {
    "editable": true
   },
   "source": [
    "With this as a background, we are now ready to study the stability of the Hartree-Fock equations."
   ]
  },
  {
   "cell_type": "markdown",
   "id": "e0ce5cb5",
   "metadata": {
    "editable": true
   },
   "source": [
    "## Hartree-Fock in second quantization and stability of HF solution\n",
    "\n",
    "The variational condition for deriving the Hartree-Fock equations guarantees only that the expectation value $\\langle c | \\hat{H} | c \\rangle$ has an extreme value, not necessarily a minimum. To figure out whether the extreme value we have found  is a minimum, we can use second quantization to analyze our results and find a criterion \n",
    "for the above expectation value to a local minimum. We will use Thouless' theorem and show that"
   ]
  },
  {
   "cell_type": "markdown",
   "id": "83857886",
   "metadata": {
    "editable": true
   },
   "source": [
    "$$\n",
    "\\frac{\\langle c' |\\hat{H} | c'\\rangle}{\\langle c' |c'\\rangle} \\ge \\langle c |\\hat{H} | c\\rangle= E_0,\n",
    "$$"
   ]
  },
  {
   "cell_type": "markdown",
   "id": "e6179190",
   "metadata": {
    "editable": true
   },
   "source": [
    "with"
   ]
  },
  {
   "cell_type": "markdown",
   "id": "d1bbb178",
   "metadata": {
    "editable": true
   },
   "source": [
    "$$\n",
    "{|c'\\rangle} = {|c\\rangle + |\\delta c\\rangle}.\n",
    "$$"
   ]
  },
  {
   "cell_type": "markdown",
   "id": "dca73791",
   "metadata": {
    "editable": true
   },
   "source": [
    "Using Thouless' theorem we can write out $|c'\\rangle$ as"
   ]
  },
  {
   "cell_type": "markdown",
   "id": "0ed6ddda",
   "metadata": {
    "editable": true
   },
   "source": [
    "<!-- Equation labels as ordinary links -->\n",
    "<div id=\"_auto3\"></div>\n",
    "\n",
    "$$\n",
    "\\begin{equation}\n",
    " {|c'\\rangle}=\\exp\\left\\{\\sum_{a > F}\\sum_{i \\le F}\\delta C_{ai}a_{a}^{\\dagger}a_{i}\\right\\}| c\\rangle\n",
    "\\label{_auto3} \\tag{4}\n",
    "\\end{equation}\n",
    "$$"
   ]
  },
  {
   "cell_type": "markdown",
   "id": "3317c9e5",
   "metadata": {
    "editable": true
   },
   "source": [
    "<!-- Equation labels as ordinary links -->\n",
    "<div id=\"_auto4\"></div>\n",
    "\n",
    "$$\n",
    "\\begin{equation}  \n",
    "=\\left\\{1+\\sum_{a > F}\\sum_{i \\le F}\\delta C_{ai}a_{a}^{\\dagger}\n",
    "a_{i}+\\frac{1}{2!}\\sum_{ab > F}\\sum_{ij \\le F}\\delta C_{ai}\\delta C_{bj}a_{a}^{\\dagger}a_{i}a_{b}^{\\dagger}a_{j}+\\dots\\right\\}\n",
    "\\label{_auto4} \\tag{5}\n",
    "\\end{equation}\n",
    "$$"
   ]
  },
  {
   "cell_type": "markdown",
   "id": "5a081a45",
   "metadata": {
    "editable": true
   },
   "source": [
    "where the amplitudes $\\delta C$ are small.\n",
    "\n",
    "The norm of $|c'\\rangle$ is given by (using the intermediate normalization condition $\\langle c' |c\\rangle=1$)"
   ]
  },
  {
   "cell_type": "markdown",
   "id": "54deabf3",
   "metadata": {
    "editable": true
   },
   "source": [
    "$$\n",
    "\\langle c' | c'\\rangle = 1+\\sum_{a>F}\n",
    "\\sum_{i\\le F}|\\delta C_{ai}|^2+O(\\delta C_{ai}^3).\n",
    "$$"
   ]
  },
  {
   "cell_type": "markdown",
   "id": "7388bb40",
   "metadata": {
    "editable": true
   },
   "source": [
    "The expectation value for the energy is now given by (using the Hartree-Fock condition)"
   ]
  },
  {
   "cell_type": "markdown",
   "id": "2f29a68a",
   "metadata": {
    "editable": true
   },
   "source": [
    "$$\n",
    "\\langle c' |\\hat{H} | c'\\rangle=\\langle c |\\hat{H} | c\\rangle +\n",
    "\\sum_{ab>F}\n",
    "\\sum_{ij\\le F}\\delta C_{ai}^*\\delta C_{bj}\\langle c |a_{i}^{\\dagger}a_{a}\\hat{H}a_{b}^{\\dagger}a_{j}|c\\rangle+\n",
    "$$"
   ]
  },
  {
   "cell_type": "markdown",
   "id": "de528a9c",
   "metadata": {
    "editable": true
   },
   "source": [
    "$$\n",
    "\\frac{1}{2!}\\sum_{ab>F}\n",
    "\\sum_{ij\\le F}\\delta C_{ai}\\delta C_{bj}\\langle c |\\hat{H}a_{a}^{\\dagger}a_{i}a_{b}^{\\dagger}a_{j}|c\\rangle+\\frac{1}{2!}\\sum_{ab>F}\n",
    "\\sum_{ij\\le F}\\delta C_{ai}^*\\delta C_{bj}^*\\langle c|a_{j}^{\\dagger}a_{b}a_{i}^{\\dagger}a_{a}\\hat{H}|c\\rangle\n",
    "+\\dots\n",
    "$$"
   ]
  },
  {
   "cell_type": "markdown",
   "id": "2fb62661",
   "metadata": {
    "editable": true
   },
   "source": [
    "We have already calculated the second term on the right-hand side of the previous equation"
   ]
  },
  {
   "cell_type": "markdown",
   "id": "7a2cf2de",
   "metadata": {
    "editable": true
   },
   "source": [
    "<!-- Equation labels as ordinary links -->\n",
    "<div id=\"_auto5\"></div>\n",
    "\n",
    "$$\n",
    "\\begin{equation}\n",
    "\\langle c | \\left(\\{a^\\dagger_i a_a\\} \\hat{H} \\{a^\\dagger_b a_j\\} \\right) | c\\rangle=\\sum_{pq} \\sum_{ijab}\\delta C_{ai}^*\\delta C_{bj} \\langle p|\\hat{h}_0 |q\\rangle \n",
    "            \\langle c | \\left(\\{a^{\\dagger}_i a_a\\}\\{a^{\\dagger}_pa_q\\} \n",
    "             \\{a^{\\dagger}_b a_j\\} \\right)| c\\rangle\n",
    "\\label{_auto5} \\tag{6}\n",
    "\\end{equation}\n",
    "$$"
   ]
  },
  {
   "cell_type": "markdown",
   "id": "f8b8577b",
   "metadata": {
    "editable": true
   },
   "source": [
    "<!-- Equation labels as ordinary links -->\n",
    "<div id=\"_auto6\"></div>\n",
    "\n",
    "$$\n",
    "\\begin{equation} \n",
    " +\\frac{1}{4} \\sum_{pqrs} \\sum_{ijab}\\delta C_{ai}^*\\delta C_{bj} \\langle pq| \\hat{v}|rs\\rangle \n",
    "            \\langle c | \\left(\\{a^\\dagger_i a_a\\}\\{a^{\\dagger}_p a^{\\dagger}_q a_s  a_r\\} \\{a^{\\dagger}_b a_j\\} \\right)| c\\rangle ,\n",
    "\\label{_auto6} \\tag{7}\n",
    "\\end{equation}\n",
    "$$"
   ]
  },
  {
   "cell_type": "markdown",
   "id": "2d7f4335",
   "metadata": {
    "editable": true
   },
   "source": [
    "resulting in"
   ]
  },
  {
   "cell_type": "markdown",
   "id": "030f84d5",
   "metadata": {
    "editable": true
   },
   "source": [
    "$$\n",
    "E_0\\sum_{ai}|\\delta C_{ai}|^2+\\sum_{ai}|\\delta C_{ai}|^2(\\varepsilon_a-\\varepsilon_i)-\\sum_{ijab} \\langle aj|\\hat{v}| bi\\rangle \\delta C_{ai}^*\\delta C_{bj}.\n",
    "$$"
   ]
  },
  {
   "cell_type": "markdown",
   "id": "b552ebcc",
   "metadata": {
    "editable": true
   },
   "source": [
    "$$\n",
    "\\frac{1}{2!}\\langle c |\\left(\\{a^\\dagger_j a_b\\} \\{a^\\dagger_i a_a\\} \\hat{V}_N  \\right) | c\\rangle  = \n",
    "\\frac{1}{2!}\\langle c |\\left( \\hat{V}_N \\{a^\\dagger_a a_i\\} \\{a^\\dagger_b a_j\\} \\right)^{\\dagger} | c\\rangle\n",
    "$$"
   ]
  },
  {
   "cell_type": "markdown",
   "id": "3033e09c",
   "metadata": {
    "editable": true
   },
   "source": [
    "which is nothing but"
   ]
  },
  {
   "cell_type": "markdown",
   "id": "9e6d72f1",
   "metadata": {
    "editable": true
   },
   "source": [
    "$$\n",
    "\\frac{1}{2!}\\langle c |  \\left( \\hat{V}_N \\{a^\\dagger_a a_i\\} \\{a^\\dagger_b a_j\\} \\right) | c\\rangle^*\n",
    "=\\frac{1}{2} \\sum_{ijab} (\\langle ij|\\hat{v}|ab\\rangle)^*\\delta C_{ai}^*\\delta C_{bj}^*\n",
    "$$"
   ]
  },
  {
   "cell_type": "markdown",
   "id": "4a401993",
   "metadata": {
    "editable": true
   },
   "source": [
    "or"
   ]
  },
  {
   "cell_type": "markdown",
   "id": "aaa4e583",
   "metadata": {
    "editable": true
   },
   "source": [
    "$$\n",
    "\\frac{1}{2} \\sum_{ijab} (\\langle ab|\\hat{v}|ij\\rangle)\\delta C_{ai}^*\\delta C_{bj}^*\n",
    "$$"
   ]
  },
  {
   "cell_type": "markdown",
   "id": "7f88e757",
   "metadata": {
    "editable": true
   },
   "source": [
    "where we have used the relation"
   ]
  },
  {
   "cell_type": "markdown",
   "id": "e0535a8f",
   "metadata": {
    "editable": true
   },
   "source": [
    "$$\n",
    "\\langle a |\\hat{A} | b\\rangle =  (\\langle b |\\hat{A}^{\\dagger} | a\\rangle)^*\n",
    "$$"
   ]
  },
  {
   "cell_type": "markdown",
   "id": "6b154a55",
   "metadata": {
    "editable": true
   },
   "source": [
    "due to the hermiticity of $\\hat{H}$ and $\\hat{V}$.\n",
    "\n",
    "We define two matrix elements"
   ]
  },
  {
   "cell_type": "markdown",
   "id": "92c8a0ea",
   "metadata": {
    "editable": true
   },
   "source": [
    "$$\n",
    "A_{ai,bj}=-\\langle aj|\\hat{v} bi\\rangle\n",
    "$$"
   ]
  },
  {
   "cell_type": "markdown",
   "id": "c6a24a65",
   "metadata": {
    "editable": true
   },
   "source": [
    "and"
   ]
  },
  {
   "cell_type": "markdown",
   "id": "83ba8f87",
   "metadata": {
    "editable": true
   },
   "source": [
    "$$\n",
    "B_{ai,bj}=\\langle ab|\\hat{v}|ij\\rangle\n",
    "$$"
   ]
  },
  {
   "cell_type": "markdown",
   "id": "96a2ecee",
   "metadata": {
    "editable": true
   },
   "source": [
    "both being anti-symmetrized.\n",
    "\n",
    "With these definitions we write out the energy as"
   ]
  },
  {
   "cell_type": "markdown",
   "id": "6c8a4267",
   "metadata": {
    "editable": true
   },
   "source": [
    "<!-- Equation labels as ordinary links -->\n",
    "<div id=\"_auto7\"></div>\n",
    "\n",
    "$$\n",
    "\\begin{equation}\n",
    "\\langle c'|H|c'\\rangle = \\left(1+\\sum_{ai}|\\delta C_{ai}|^2\\right)\\langle c |H|c\\rangle+\\sum_{ai}|\\delta C_{ai}|^2(\\varepsilon_a^{HF}-\\varepsilon_i^{HF})+\\sum_{ijab}A_{ai,bj}\\delta C_{ai}^*\\delta C_{bj}+\n",
    "\\label{_auto7} \\tag{8}\n",
    "\\end{equation}\n",
    "$$"
   ]
  },
  {
   "cell_type": "markdown",
   "id": "0ae9a5ae",
   "metadata": {
    "editable": true
   },
   "source": [
    "<!-- Equation labels as ordinary links -->\n",
    "<div id=\"_auto8\"></div>\n",
    "\n",
    "$$\n",
    "\\begin{equation} \n",
    "\\frac{1}{2} \\sum_{ijab} B_{ai,bj}^*\\delta C_{ai}\\delta C_{bj}+\\frac{1}{2} \\sum_{ijab} B_{ai,bj}\\delta C_{ai}^*\\delta C_{bj}^*\n",
    "+O(\\delta C_{ai}^3),\n",
    "\\label{_auto8} \\tag{9}\n",
    "\\end{equation}\n",
    "$$"
   ]
  },
  {
   "cell_type": "markdown",
   "id": "b3359bd4",
   "metadata": {
    "editable": true
   },
   "source": [
    "which can be rewritten as"
   ]
  },
  {
   "cell_type": "markdown",
   "id": "d0b39e71",
   "metadata": {
    "editable": true
   },
   "source": [
    "$$\n",
    "\\langle c'|H|c'\\rangle = \\left(1+\\sum_{ai}|\\delta C_{ai}|^2\\right)\\langle c |H|c\\rangle+\\Delta E+O(\\delta C_{ai}^3),\n",
    "$$"
   ]
  },
  {
   "cell_type": "markdown",
   "id": "8bf37b37",
   "metadata": {
    "editable": true
   },
   "source": [
    "and skipping higher-order terms we arrived"
   ]
  },
  {
   "cell_type": "markdown",
   "id": "d3b67f82",
   "metadata": {
    "editable": true
   },
   "source": [
    "$$\n",
    "\\frac{\\langle c' |\\hat{H} | c'\\rangle}{\\langle c' |c'\\rangle} =E_0+\\frac{\\Delta E}{\\left(1+\\sum_{ai}|\\delta C_{ai}|^2\\right)}.\n",
    "$$"
   ]
  },
  {
   "cell_type": "markdown",
   "id": "2c274fb6",
   "metadata": {
    "editable": true
   },
   "source": [
    "We have defined"
   ]
  },
  {
   "cell_type": "markdown",
   "id": "0bec9362",
   "metadata": {
    "editable": true
   },
   "source": [
    "$$\n",
    "\\Delta E = \\frac{1}{2} \\langle \\chi | \\hat{M}| \\chi \\rangle\n",
    "$$"
   ]
  },
  {
   "cell_type": "markdown",
   "id": "bacbdc48",
   "metadata": {
    "editable": true
   },
   "source": [
    "with the vectors"
   ]
  },
  {
   "cell_type": "markdown",
   "id": "63f09725",
   "metadata": {
    "editable": true
   },
   "source": [
    "$$\n",
    "\\chi = \\left[ \\delta C\\hspace{0.2cm} \\delta C^*\\right]^T\n",
    "$$"
   ]
  },
  {
   "cell_type": "markdown",
   "id": "3b71e609",
   "metadata": {
    "editable": true
   },
   "source": [
    "and the matrix"
   ]
  },
  {
   "cell_type": "markdown",
   "id": "3aceda08",
   "metadata": {
    "editable": true
   },
   "source": [
    "$$\n",
    "\\hat{M}=\\left(\\begin{array}{cc} \\Delta + A & B \\\\ B^* & \\Delta + A^*\\end{array}\\right),\n",
    "$$"
   ]
  },
  {
   "cell_type": "markdown",
   "id": "83fb7cb2",
   "metadata": {
    "editable": true
   },
   "source": [
    "with $\\Delta_{ai,bj} = (\\varepsilon_a-\\varepsilon_i)\\delta_{ab}\\delta_{ij}$.\n",
    "\n",
    "The condition"
   ]
  },
  {
   "cell_type": "markdown",
   "id": "9fa1daf9",
   "metadata": {
    "editable": true
   },
   "source": [
    "$$\n",
    "\\Delta E = \\frac{1}{2} \\langle \\chi | \\hat{M}| \\chi \\rangle \\ge 0\n",
    "$$"
   ]
  },
  {
   "cell_type": "markdown",
   "id": "c9bb90b2",
   "metadata": {
    "editable": true
   },
   "source": [
    "for an arbitrary  vector"
   ]
  },
  {
   "cell_type": "markdown",
   "id": "354129b7",
   "metadata": {
    "editable": true
   },
   "source": [
    "$$\n",
    "\\chi = \\left[ \\delta C\\hspace{0.2cm} \\delta C^*\\right]^T\n",
    "$$"
   ]
  },
  {
   "cell_type": "markdown",
   "id": "6addb632",
   "metadata": {
    "editable": true
   },
   "source": [
    "means that all eigenvalues of the matrix have to be larger than or equal zero. \n",
    "A necessary (but no sufficient) condition is that the matrix elements (for all $ai$ )"
   ]
  },
  {
   "cell_type": "markdown",
   "id": "935b2004",
   "metadata": {
    "editable": true
   },
   "source": [
    "$$\n",
    "(\\varepsilon_a-\\varepsilon_i)\\delta_{ab}\\delta_{ij}+A_{ai,bj} \\ge 0.\n",
    "$$"
   ]
  },
  {
   "cell_type": "markdown",
   "id": "681d0c5a",
   "metadata": {
    "editable": true
   },
   "source": [
    "This equation can be used as a first test of the stability of the Hartree-Fock equation."
   ]
  },
  {
   "cell_type": "markdown",
   "id": "78e9ca7d",
   "metadata": {
    "editable": true
   },
   "source": [
    "## The infinite electron gas\n",
    "\n",
    "The electron gas is perhaps the only realistic model of a \n",
    "system of many interacting particles that allows for an analytical  solution\n",
    "of the Hartree-Fock equations. Furthermore, to first order in the interaction, one can also\n",
    "obtain an analytical expression for  the total energy and several other properties of a many-particle systems. \n",
    "The model gives a very good approximation to the properties of valence electrons in metals.\n",
    "The assumptions are\n",
    "\n",
    " * System of electrons that is not influenced by external forces except by an attraction provided by a uniform background of ions. These ions give rise to a uniform background charge. The ions are stationary.\n",
    "\n",
    " * The system as a whole is neutral.\n",
    "\n",
    " * We assume we have $N_e$ electrons in a cubic box of length $L$ and volume $\\Omega=L^3$. This volume contains also a uniform distribution of positive charge with density $N_ee/\\Omega$. \n",
    "\n",
    "The homogeneus electron gas is a system of electrons that is not\n",
    "influenced by external forces except by an attraction provided by a\n",
    "uniform background of ions. These ions give rise to a uniform\n",
    "background charge.  The ions are stationary and the system as a whole\n",
    "is neutral.\n",
    "Irrespective of this simplicity, this system, in both two and\n",
    "three-dimensions, has eluded a proper description of correlations in\n",
    "terms of various first principle methods, except perhaps for quantum\n",
    "Monte Carlo methods. In particular, the diffusion Monte Carlo\n",
    "calculations of [Ceperley](http://journals.aps.org/prl/abstract/10.1103/PhysRevLett.45.566) \n",
    "and [Ceperley and Tanatar](http://journals.aps.org/prb/abstract/10.1103/PhysRevB.39.5005) \n",
    "are presently still considered as the\n",
    "best possible benchmarks for the two- and three-dimensional electron\n",
    "gas. \n",
    "\n",
    "The electron gas, in \n",
    "two or three dimensions is thus interesting as a test-bed for \n",
    "electron-electron correlations. The three-dimensional \n",
    "electron gas is particularly important as a cornerstone \n",
    "of the local-density approximation in density-functional \n",
    "theory. In the physical world, systems \n",
    "similar to the three-dimensional electron gas can be \n",
    "found in, for example, alkali metals and doped \n",
    "semiconductors. Two-dimensional electron fluids are \n",
    "observed on metal and liquid-helium surfaces, as well as \n",
    "at metal-oxide-semiconductor interfaces. However, the Coulomb \n",
    "interaction has an infinite range, and therefore \n",
    "long-range correlations play an essential role in the\n",
    "electron gas. \n",
    "\n",
    "At low densities, the electrons become \n",
    "localized and form a lattice. This so-called Wigner \n",
    "crystallization is a direct consequence \n",
    "of the long-ranged repulsive interaction. At higher\n",
    "densities, the electron gas is better described as a\n",
    "liquid.\n",
    "When using, for example, Monte Carlo methods the electron gas must be approximated \n",
    "by a finite system. The long-range Coulomb interaction \n",
    "in the electron gas causes additional finite-size effects  that are not\n",
    "present in other infinite systems like nuclear matter or neutron star matter.\n",
    "This poses additional challenges to many-body methods when applied \n",
    "to the electron gas."
   ]
  },
  {
   "cell_type": "markdown",
   "id": "944d10c6",
   "metadata": {
    "editable": true
   },
   "source": [
    "## The infinite electron gas as a homogenous system\n",
    "\n",
    "This is a homogeneous system and the one-particle wave functions are given by plane wave functions normalized to a volume $\\Omega$ \n",
    "for a box with length $L$ (the limit $L\\rightarrow \\infty$ is to be taken after we have computed various expectation values)"
   ]
  },
  {
   "cell_type": "markdown",
   "id": "6cb26a2c",
   "metadata": {
    "editable": true
   },
   "source": [
    "$$\n",
    "\\psi_{\\mathbf{k}\\sigma}(\\mathbf{r})= \\frac{1}{\\sqrt{\\Omega}}\\exp{(i\\mathbf{kr})}\\xi_{\\sigma}\n",
    "$$"
   ]
  },
  {
   "cell_type": "markdown",
   "id": "c0b32309",
   "metadata": {
    "editable": true
   },
   "source": [
    "where $\\mathbf{k}$ is the wave number and  $\\xi_{\\sigma}$ is a spin function for either spin up or down"
   ]
  },
  {
   "cell_type": "markdown",
   "id": "bf6aef5c",
   "metadata": {
    "editable": true
   },
   "source": [
    "$$\n",
    "\\xi_{\\sigma=+1/2}=\\left(\\begin{array}{c} 1 \\\\ 0 \\end{array}\\right) \\hspace{0.5cm}\n",
    "\\xi_{\\sigma=-1/2}=\\left(\\begin{array}{c} 0 \\\\ 1 \\end{array}\\right).\n",
    "$$"
   ]
  },
  {
   "cell_type": "markdown",
   "id": "97c96c7b",
   "metadata": {
    "editable": true
   },
   "source": [
    "We assume that we have periodic boundary conditions which limit the allowed wave numbers to"
   ]
  },
  {
   "cell_type": "markdown",
   "id": "e97c9050",
   "metadata": {
    "editable": true
   },
   "source": [
    "$$\n",
    "k_i=\\frac{2\\pi n_i}{L}\\hspace{0.5cm} i=x,y,z \\hspace{0.5cm} n_i=0,\\pm 1,\\pm 2, \\dots\n",
    "$$"
   ]
  },
  {
   "cell_type": "markdown",
   "id": "3c3169de",
   "metadata": {
    "editable": true
   },
   "source": [
    "We assume first that the electrons interact via a central, symmetric and translationally invariant\n",
    "interaction  $V(r_{12})$ with\n",
    "$r_{12}=|\\mathbf{r}_1-\\mathbf{r}_2|$.  The interaction is spin independent.\n",
    "\n",
    "The total Hamiltonian consists then of kinetic and potential energy"
   ]
  },
  {
   "cell_type": "markdown",
   "id": "7b96fb74",
   "metadata": {
    "editable": true
   },
   "source": [
    "$$\n",
    "\\hat{H} = \\hat{T}+\\hat{V}.\n",
    "$$"
   ]
  },
  {
   "cell_type": "markdown",
   "id": "0e69a7b4",
   "metadata": {
    "editable": true
   },
   "source": [
    "The operator for the kinetic energy can be written as"
   ]
  },
  {
   "cell_type": "markdown",
   "id": "dcc32c93",
   "metadata": {
    "editable": true
   },
   "source": [
    "$$\n",
    "\\hat{T}=\\sum_{\\mathbf{k}\\sigma}\\frac{\\hbar^2k^2}{2m}a_{\\mathbf{k}\\sigma}^{\\dagger}a_{\\mathbf{k}\\sigma}.\n",
    "$$"
   ]
  },
  {
   "cell_type": "markdown",
   "id": "342f943b",
   "metadata": {
    "editable": true
   },
   "source": [
    "## Defining the Hamiltonian operator\n",
    "\n",
    "The Hamiltonian operator is given by"
   ]
  },
  {
   "cell_type": "markdown",
   "id": "714bec42",
   "metadata": {
    "editable": true
   },
   "source": [
    "$$\n",
    "\\hat{H}=\\hat{H}_{el}+\\hat{H}_{b}+\\hat{H}_{el-b},\n",
    "$$"
   ]
  },
  {
   "cell_type": "markdown",
   "id": "2b2e6aac",
   "metadata": {
    "editable": true
   },
   "source": [
    "with the electronic part"
   ]
  },
  {
   "cell_type": "markdown",
   "id": "47be264d",
   "metadata": {
    "editable": true
   },
   "source": [
    "$$\n",
    "\\hat{H}_{el}=\\sum_{i=1}^N\\frac{p_i^2}{2m}+\\frac{e^2}{2}\\sum_{i\\ne j}\\frac{e^{-\\mu |\\mathbf{r}_i-\\mathbf{r}_j|}}{|\\mathbf{r}_i-\\mathbf{r}_j|},\n",
    "$$"
   ]
  },
  {
   "cell_type": "markdown",
   "id": "f3c17d11",
   "metadata": {
    "editable": true
   },
   "source": [
    "where we have introduced an explicit convergence factor\n",
    "(the limit $\\mu\\rightarrow 0$ is performed after having calculated the various integrals).\n",
    "Correspondingly, we have"
   ]
  },
  {
   "cell_type": "markdown",
   "id": "e2be2f3d",
   "metadata": {
    "editable": true
   },
   "source": [
    "$$\n",
    "\\hat{H}_{b}=\\frac{e^2}{2}\\int\\int d\\mathbf{r}d\\mathbf{r}'\\frac{n(\\mathbf{r})n(\\mathbf{r}')e^{-\\mu |\\mathbf{r}-\\mathbf{r}'|}}{|\\mathbf{r}-\\mathbf{r}'|},\n",
    "$$"
   ]
  },
  {
   "cell_type": "markdown",
   "id": "3e68d469",
   "metadata": {
    "editable": true
   },
   "source": [
    "which is the energy contribution from the positive background charge with density\n",
    "$n(\\mathbf{r})=N/\\Omega$. Finally,"
   ]
  },
  {
   "cell_type": "markdown",
   "id": "c519981f",
   "metadata": {
    "editable": true
   },
   "source": [
    "$$\n",
    "\\hat{H}_{el-b}=-\\frac{e^2}{2}\\sum_{i=1}^N\\int d\\mathbf{r}\\frac{n(\\mathbf{r})e^{-\\mu |\\mathbf{r}-\\mathbf{x}_i|}}{|\\mathbf{r}-\\mathbf{x}_i|},\n",
    "$$"
   ]
  },
  {
   "cell_type": "markdown",
   "id": "cc2494f1",
   "metadata": {
    "editable": true
   },
   "source": [
    "is the interaction between the electrons and the positive background."
   ]
  },
  {
   "cell_type": "markdown",
   "id": "4963f684",
   "metadata": {
    "editable": true
   },
   "source": [
    "## Single-particle Hartree-Fock energy\n",
    "\n",
    "In the first exercise below we show that the Hartree-Fock energy can be written as"
   ]
  },
  {
   "cell_type": "markdown",
   "id": "379cea82",
   "metadata": {
    "editable": true
   },
   "source": [
    "$$\n",
    "\\varepsilon_{k}^{HF}=\\frac{\\hbar^{2}k^{2}}{2m_e}-\\frac{e^{2}}\n",
    "{\\Omega^{2}}\\sum_{k'\\leq\n",
    "k_{F}}\\int d\\mathbf{r}e^{i(\\mathbf{k}'-\\mathbf{k})\\mathbf{r}}\\int\n",
    "d\\mathbf{r'}\\frac{e^{i(\\mathbf{k}-\\mathbf{k}')\\mathbf{r}'}}\n",
    "{\\vert\\mathbf{r}-\\mathbf{r}'\\vert}\n",
    "$$"
   ]
  },
  {
   "cell_type": "markdown",
   "id": "a4c3847e",
   "metadata": {
    "editable": true
   },
   "source": [
    "resulting in"
   ]
  },
  {
   "cell_type": "markdown",
   "id": "f46f0cc0",
   "metadata": {
    "editable": true
   },
   "source": [
    "$$\n",
    "\\varepsilon_{k}^{HF}=\\frac{\\hbar^{2}k^{2}}{2m_e}-\\frac{e^{2}\n",
    "k_{F}}{2\\pi}\n",
    "\\left[\n",
    "2+\\frac{k_{F}^{2}-k^{2}}{kk_{F}}ln\\left\\vert\\frac{k+k_{F}}\n",
    "{k-k_{F}}\\right\\vert\n",
    "\\right]\n",
    "$$"
   ]
  },
  {
   "cell_type": "markdown",
   "id": "6a92747f",
   "metadata": {
    "editable": true
   },
   "source": [
    "The previous result can be rewritten in terms of the density"
   ]
  },
  {
   "cell_type": "markdown",
   "id": "29e825e3",
   "metadata": {
    "editable": true
   },
   "source": [
    "$$\n",
    "n= \\frac{k_F^3}{3\\pi^2}=\\frac{3}{4\\pi r_s^3},\n",
    "$$"
   ]
  },
  {
   "cell_type": "markdown",
   "id": "0c117633",
   "metadata": {
    "editable": true
   },
   "source": [
    "where $n=N_e/\\Omega$, $N_e$ being the number of electrons, and $r_s$ is the radius of a sphere which represents the volum per conducting electron.  \n",
    "It can be convenient to use the Bohr radius $a_0=\\hbar^2/e^2m_e$.\n",
    "For most metals we have a relation $r_s/a_0\\sim 2-6$.  The quantity $r_s$ is dimensionless.\n",
    "\n",
    "In the second exercise below  we find that\n",
    "the total energy\n",
    "$E_0/N_e=\\langle\\Phi_{0}|\\hat{H}|\\Phi_{0}\\rangle/N_e$ for\n",
    "for this system to first order in the interaction is given as"
   ]
  },
  {
   "cell_type": "markdown",
   "id": "758c4811",
   "metadata": {
    "editable": true
   },
   "source": [
    "$$\n",
    "E_0/N_e=\\frac{e^2}{2a_0}\\left[\\frac{2.21}{r_s^2}-\\frac{0.916}{r_s}\\right].\n",
    "$$"
   ]
  },
  {
   "cell_type": "markdown",
   "id": "094ed24b",
   "metadata": {
    "editable": true
   },
   "source": [
    "## Exercise 1: Hartree-Fock single-particle solution for the electron gas\n",
    "\n",
    "The electron gas model allows closed form solutions for quantities like the \n",
    "single-particle Hartree-Fock energy.  The latter quantity is given by the following expression"
   ]
  },
  {
   "cell_type": "markdown",
   "id": "4b0e7b8f",
   "metadata": {
    "editable": true
   },
   "source": [
    "$$\n",
    "\\varepsilon_{k}^{HF}=\\frac{\\hbar^{2}k^{2}}{2m}-\\frac{e^{2}}\n",
    "{V^{2}}\\sum_{k'\\leq\n",
    "k_{F}}\\int d\\mathbf{r}e^{i(\\mathbf{k'}-\\mathbf{k})\\mathbf{r}}\\int\n",
    "d\\mathbf{r}'\\frac{e^{i(\\mathbf{k}-\\mathbf{k'})\\mathbf{r}'}}\n",
    "{\\vert\\mathbf{r}-\\mathbf{r'}\\vert}\n",
    "$$"
   ]
  },
  {
   "cell_type": "markdown",
   "id": "48db7023",
   "metadata": {
    "editable": true
   },
   "source": [
    "**a)**\n",
    "Show first that"
   ]
  },
  {
   "cell_type": "markdown",
   "id": "6412ac69",
   "metadata": {
    "editable": true
   },
   "source": [
    "$$\n",
    "\\varepsilon_{k}^{HF}=\\frac{\\hbar^{2}k^{2}}{2m}-\\frac{e^{2}\n",
    "k_{F}}{2\\pi}\n",
    "\\left[\n",
    "2+\\frac{k_{F}^{2}-k^{2}}{kk_{F}}ln\\left\\vert\\frac{k+k_{F}}\n",
    "{k-k_{F}}\\right\\vert\n",
    "\\right]\n",
    "$$"
   ]
  },
  {
   "cell_type": "markdown",
   "id": "01ea966a",
   "metadata": {
    "editable": true
   },
   "source": [
    "<!-- --- begin hint in exercise --- -->\n",
    "\n",
    "**Hint.**\n",
    "Hint: Introduce the convergence factor \n",
    "$e^{-\\mu\\vert\\mathbf{r}-\\mathbf{r}'\\vert}$\n",
    "in the potential and use  $\\sum_{\\mathbf{k}}\\rightarrow\n",
    "\\frac{V}{(2\\pi)^{3}}\\int d\\mathbf{k}$\n",
    "\n",
    "<!-- --- end hint in exercise --- -->\n",
    "\n",
    "<!-- --- begin solution of exercise --- -->\n",
    "**Solution.**\n",
    "We want to show that, given the Hartree-Fock equation for the electron gas"
   ]
  },
  {
   "cell_type": "markdown",
   "id": "e5c3e7a4",
   "metadata": {
    "editable": true
   },
   "source": [
    "$$\n",
    "\\varepsilon_{k}^{HF}=\\frac{\\hbar^{2}k^{2}}{2m}-\\frac{e^{2}}\n",
    "{V^{2}}\\sum_{p\\leq\n",
    "k_{F}}\\int d\\mathbf{r}\\exp{(i(\\mathbf{p}-\\mathbf{k})\\mathbf{r})}\\int\n",
    "d\\mathbf{r}'\\frac{\\exp{(i(\\mathbf{k}-\\mathbf{p})\\mathbf{r}'})}\n",
    "{\\vert\\mathbf{r}-\\mathbf{r'}\\vert}\n",
    "$$"
   ]
  },
  {
   "cell_type": "markdown",
   "id": "ae5e0309",
   "metadata": {
    "editable": true
   },
   "source": [
    "the single-particle energy can be written as"
   ]
  },
  {
   "cell_type": "markdown",
   "id": "c9dbd7bf",
   "metadata": {
    "editable": true
   },
   "source": [
    "$$\n",
    "\\varepsilon_{k}^{HF}=\\frac{\\hbar^{2}k^{2}}{2m}-\\frac{e^{2}\n",
    "k_{F}}{2\\pi}\n",
    "\\left[\n",
    "2+\\frac{k_{F}^{2}-k^{2}}{kk_{F}}ln\\left\\vert\\frac{k+k_{F}}\n",
    "{k-k_{F}}\\right\\vert\n",
    "\\right].\n",
    "$$"
   ]
  },
  {
   "cell_type": "markdown",
   "id": "54efbae6",
   "metadata": {
    "editable": true
   },
   "source": [
    "We introduce the convergence factor \n",
    "$e^{-\\mu\\vert\\mathbf{r}-\\mathbf{r}'\\vert}$\n",
    "in the potential and use  $\\sum_{\\mathbf{k}}\\rightarrow\n",
    "\\frac{V}{(2\\pi)^{3}}\\int d\\mathbf{k}$. We can then rewrite the integral as"
   ]
  },
  {
   "cell_type": "markdown",
   "id": "d0987cbb",
   "metadata": {
    "editable": true
   },
   "source": [
    "<!-- Equation labels as ordinary links -->\n",
    "<div id=\"_auto9\"></div>\n",
    "\n",
    "$$\n",
    "\\begin{equation}\n",
    "\\frac{e^{2}}\n",
    "{V^{2}}\\sum_{k'\\leq\n",
    "k_{F}}\\int d\\mathbf{r}\\exp{(i(\\mathbf{k'}-\\mathbf{k})\\mathbf{r})}\\int\n",
    "d\\mathbf{r}'\\frac{\\exp{(i(\\mathbf{k}-\\mathbf{p})\\mathbf{r}'})}\n",
    "{\\vert\\mathbf{r}-\\mathbf{r'}\\vert}=  \n",
    "\\label{_auto9} \\tag{10}\n",
    "\\end{equation}\n",
    "$$"
   ]
  },
  {
   "cell_type": "markdown",
   "id": "511b9ff7",
   "metadata": {
    "editable": true
   },
   "source": [
    "<!-- Equation labels as ordinary links -->\n",
    "<div id=\"_auto10\"></div>\n",
    "\n",
    "$$\n",
    "\\begin{equation} \n",
    "\\frac{e^{2}}{V (2\\pi)^3}  \\int d\\mathbf{r}\\int\n",
    "\\frac{d\\mathbf{r}'}{\\vert\\mathbf{r}-\\mathbf{r'}\\vert}\\exp{(-i\\mathbf{k}(\\mathbf{r}-\\mathbf{r}'))}\\int d\\mathbf{p}\\exp{(i\\mathbf{p}(\\mathbf{r}-\\mathbf{r}'))},\n",
    "\\label{_auto10} \\tag{11}\n",
    "\\end{equation}\n",
    "$$"
   ]
  },
  {
   "cell_type": "markdown",
   "id": "bac8e361",
   "metadata": {
    "editable": true
   },
   "source": [
    "and introducing the abovementioned convergence factor we have"
   ]
  },
  {
   "cell_type": "markdown",
   "id": "1003747d",
   "metadata": {
    "editable": true
   },
   "source": [
    "<!-- Equation labels as ordinary links -->\n",
    "<div id=\"_auto11\"></div>\n",
    "\n",
    "$$\n",
    "\\begin{equation}\n",
    "\\lim_{\\mu \\to 0}\\frac{e^{2}}{V (2\\pi)^3}  \\int d\\mathbf{r}\\int d\\mathbf{r}'\\frac{\\exp{(-\\mu\\vert\\mathbf{r}-\\mathbf{r}'\\vert})}{\\vert\\mathbf{r}-\\mathbf{r'}\\vert}\\int d\\mathbf{p}\\exp{(i(\\mathbf{p}-\\mathbf{k})(\\mathbf{r}-\\mathbf{r}'))}.\n",
    "\\label{_auto11} \\tag{12}\n",
    "\\end{equation}\n",
    "$$"
   ]
  },
  {
   "cell_type": "markdown",
   "id": "7a7ed3d6",
   "metadata": {
    "editable": true
   },
   "source": [
    "With a change variables to $\\mathbf{x} = \\mathbf{r}-\\mathbf{r}'$ and $\\mathbf{y}=\\mathbf{r}'$ we rewrite the last integral as"
   ]
  },
  {
   "cell_type": "markdown",
   "id": "d111ffbf",
   "metadata": {
    "editable": true
   },
   "source": [
    "$$\n",
    "\\lim_{\\mu \\to 0}\\frac{e^{2}}{V (2\\pi)^3}  \\int d\\mathbf{p}\\int d\\mathbf{y}\\int d\\mathbf{x}\\exp{(i(\\mathbf{p}-\\mathbf{k})\\mathbf{x})}\\frac{\\exp{(-\\mu\\vert\\mathbf{x}\\vert})}{\\vert\\mathbf{x}\\vert}.\n",
    "$$"
   ]
  },
  {
   "cell_type": "markdown",
   "id": "b9fd3f6a",
   "metadata": {
    "editable": true
   },
   "source": [
    "The integration over $\\mathbf{x}$ can be performed using spherical coordinates, resulting in (with $x=\\vert \\mathbf{x}\\vert$)"
   ]
  },
  {
   "cell_type": "markdown",
   "id": "d846dad7",
   "metadata": {
    "editable": true
   },
   "source": [
    "$$\n",
    "\\int d\\mathbf{x}\\exp{(i(\\mathbf{p}-\\mathbf{k})\\mathbf{x})}\\frac{\\exp{(-\\mu\\vert\\mathbf{x}\\vert})}{\\vert\\mathbf{x}\\vert}=\\int x^2 dx d\\phi d\\cos{(\\theta)}\\exp{(i(\\mathbf{p}-\\mathbf{k})x\\cos{(\\theta))}}\\frac{\\exp{(-\\mu x)}}{x}.\n",
    "$$"
   ]
  },
  {
   "cell_type": "markdown",
   "id": "8342e5b8",
   "metadata": {
    "editable": true
   },
   "source": [
    "We obtain"
   ]
  },
  {
   "cell_type": "markdown",
   "id": "a12367a1",
   "metadata": {
    "editable": true
   },
   "source": [
    "<!-- Equation labels as ordinary links -->\n",
    "<div id=\"_auto12\"></div>\n",
    "\n",
    "$$\n",
    "\\begin{equation}\n",
    "4\\pi \\int dx \\frac{ \\sin{(\\vert \\mathbf{p}-\\mathbf{k}\\vert)x} }{\\vert \\mathbf{p}-\\mathbf{k}\\vert}{\\exp{(-\\mu x)}}= \\frac{4\\pi}{\\mu^2+\\vert \\mathbf{p}-\\mathbf{k}\\vert^2}.\n",
    "\\label{_auto12} \\tag{13}\n",
    "\\end{equation}\n",
    "$$"
   ]
  },
  {
   "cell_type": "markdown",
   "id": "e63ee14c",
   "metadata": {
    "editable": true
   },
   "source": [
    "This results gives us"
   ]
  },
  {
   "cell_type": "markdown",
   "id": "5b387400",
   "metadata": {
    "editable": true
   },
   "source": [
    "<!-- Equation labels as ordinary links -->\n",
    "<div id=\"_auto13\"></div>\n",
    "\n",
    "$$\n",
    "\\begin{equation}\n",
    "\\lim_{\\mu \\to 0}\\frac{e^{2}}{V (2\\pi)^3}  \\int d\\mathbf{p}\\int d\\mathbf{y}\\frac{4\\pi}{\\mu^2+\\vert \\mathbf{p}-\\mathbf{k}\\vert^2}=\\lim_{\\mu \\to 0}\\frac{e^{2}}{ 2\\pi^2}  \\int d\\mathbf{p}\\frac{1}{\\mu^2+\\vert \\mathbf{p}-\\mathbf{k}\\vert^2},\n",
    "\\label{_auto13} \\tag{14}\n",
    "\\end{equation}\n",
    "$$"
   ]
  },
  {
   "cell_type": "markdown",
   "id": "5eebabd6",
   "metadata": {
    "editable": true
   },
   "source": [
    "where we have used that the integrand on the left-hand side does not depend on $\\mathbf{y}$ and that $\\int d\\mathbf{y}=V$.\n",
    "\n",
    "Introducing spherical coordinates we can rewrite the integral as"
   ]
  },
  {
   "cell_type": "markdown",
   "id": "ed74ffce",
   "metadata": {
    "editable": true
   },
   "source": [
    "<!-- Equation labels as ordinary links -->\n",
    "<div id=\"_auto14\"></div>\n",
    "\n",
    "$$\n",
    "\\begin{equation}\n",
    "\\lim_{\\mu \\to 0}\\frac{e^{2}}{ 2\\pi^2}  \\int d\\mathbf{p}\\frac{1}{\\mu^2+\\vert \\mathbf{p}-\\mathbf{k}\\vert^2}=\\frac{e^{2}}{ 2\\pi^2}  \\int d\\mathbf{p}\\frac{1}{\\vert \\mathbf{p}-\\mathbf{k}\\vert^2}= \n",
    "\\label{_auto14} \\tag{15}\n",
    "\\end{equation}\n",
    "$$"
   ]
  },
  {
   "cell_type": "markdown",
   "id": "40fc567d",
   "metadata": {
    "editable": true
   },
   "source": [
    "<!-- Equation labels as ordinary links -->\n",
    "<div id=\"_auto15\"></div>\n",
    "\n",
    "$$\n",
    "\\begin{equation} \n",
    "\\frac{e^{2}}{\\pi}  \\int_0^{k_F} p^2dp\\int_0^{\\pi} d\\theta\\cos{(\\theta)}\\frac{1}{p^2+k^2-2pk\\cos{(\\theta)}},\n",
    "\\label{_auto15} \\tag{16}\n",
    "\\end{equation}\n",
    "$$"
   ]
  },
  {
   "cell_type": "markdown",
   "id": "b40f41d3",
   "metadata": {
    "editable": true
   },
   "source": [
    "and with the change of variables $\\cos{(\\theta)}=u$ we have"
   ]
  },
  {
   "cell_type": "markdown",
   "id": "1d295b50",
   "metadata": {
    "editable": true
   },
   "source": [
    "$$\n",
    "\\frac{e^{2}}{\\pi}  \\int_0^{k_F} p^2dp\\int_{0}^{\\pi} d\\theta\\cos{(\\theta)}\\frac{1}{p^2+k^2-2pk\\cos{(\\theta)}}=\\frac{e^{2}}{\\pi}  \\int_0^{k_F} p^2dp\\int_{-1}^{1} du\\frac{1}{p^2+k^2-2pku},\n",
    "$$"
   ]
  },
  {
   "cell_type": "markdown",
   "id": "642394c6",
   "metadata": {
    "editable": true
   },
   "source": [
    "which gives"
   ]
  },
  {
   "cell_type": "markdown",
   "id": "1849ba72",
   "metadata": {
    "editable": true
   },
   "source": [
    "$$\n",
    "\\frac{e^{2}}{k\\pi}  \\int_0^{k_F} pdp\\left\\{ln(\\vert p+k\\vert)-ln(\\vert p-k\\vert)\\right\\}.\n",
    "$$"
   ]
  },
  {
   "cell_type": "markdown",
   "id": "7e5f2c28",
   "metadata": {
    "editable": true
   },
   "source": [
    "Introducing new variables $x=p+k$ and $y=p-k$, we obtain after some straightforward reordering of the integral"
   ]
  },
  {
   "cell_type": "markdown",
   "id": "7db1d01c",
   "metadata": {
    "editable": true
   },
   "source": [
    "$$\n",
    "\\frac{e^{2}}{k\\pi}\\left[\n",
    "kk_F+\\frac{k_{F}^{2}-k^{2}}{kk_{F}}ln\\left\\vert\\frac{k+k_{F}}\n",
    "{k-k_{F}}\\right\\vert\n",
    "\\right],\n",
    "$$"
   ]
  },
  {
   "cell_type": "markdown",
   "id": "ed9553f6",
   "metadata": {
    "editable": true
   },
   "source": [
    "which gives the abovementioned expression for the single-particle energy.\n",
    "<!-- --- end solution of exercise --- -->"
   ]
  },
  {
   "cell_type": "markdown",
   "id": "39fcb5d8",
   "metadata": {
    "editable": true
   },
   "source": [
    "**b)**\n",
    "Rewrite the above result as a function of the density"
   ]
  },
  {
   "cell_type": "markdown",
   "id": "9f423acc",
   "metadata": {
    "editable": true
   },
   "source": [
    "$$\n",
    "n= \\frac{k_F^3}{3\\pi^2}=\\frac{3}{4\\pi r_s^3},\n",
    "$$"
   ]
  },
  {
   "cell_type": "markdown",
   "id": "7ced2142",
   "metadata": {
    "editable": true
   },
   "source": [
    "where $n=N/V$, $N$ being the number of particles, and $r_s$ is the radius of a sphere which represents the volum per conducting electron.\n",
    "\n",
    "<!-- --- begin solution of exercise --- -->\n",
    "**Solution.**\n",
    "Introducing the dimensionless quantity $x=k/k_F$ and the function"
   ]
  },
  {
   "cell_type": "markdown",
   "id": "d68cda69",
   "metadata": {
    "editable": true
   },
   "source": [
    "$$\n",
    "F(x) = \\frac{1}{2}+\\frac{1-x^2}{4x}\\ln{\\left\\vert \\frac{1+x}{1-x}\\right\\vert},\n",
    "$$"
   ]
  },
  {
   "cell_type": "markdown",
   "id": "a4489c6f",
   "metadata": {
    "editable": true
   },
   "source": [
    "we can rewrite the single-particle Hartree-Fock energy as"
   ]
  },
  {
   "cell_type": "markdown",
   "id": "9beb5a8b",
   "metadata": {
    "editable": true
   },
   "source": [
    "$$\n",
    "\\varepsilon_{k}^{HF}=\\frac{\\hbar^{2}k^{2}}{2m}-\\frac{2e^{2}\n",
    "k_{F}}{\\pi}F(k/k_F),\n",
    "$$"
   ]
  },
  {
   "cell_type": "markdown",
   "id": "728cc0af",
   "metadata": {
    "editable": true
   },
   "source": [
    "and dividing by the non-interacting contribution at the Fermi level,"
   ]
  },
  {
   "cell_type": "markdown",
   "id": "2d1bb891",
   "metadata": {
    "editable": true
   },
   "source": [
    "$$\n",
    "\\varepsilon_{0}^{F}=\\frac{\\hbar^{2}k_F^{2}}{2m},\n",
    "$$"
   ]
  },
  {
   "cell_type": "markdown",
   "id": "de5804b2",
   "metadata": {
    "editable": true
   },
   "source": [
    "we have"
   ]
  },
  {
   "cell_type": "markdown",
   "id": "51531962",
   "metadata": {
    "editable": true
   },
   "source": [
    "$$\n",
    "\\frac{\\varepsilon_{k}^{HF} }{\\varepsilon_{0}^{F}}=x^2-\\frac{e^2m}{\\hbar^2 k_F\\pi}F(x)=x^2-\\frac{4}{\\pi k_Fa_0}F(x),\n",
    "$$"
   ]
  },
  {
   "cell_type": "markdown",
   "id": "f3fd7627",
   "metadata": {
    "editable": true
   },
   "source": [
    "where $a_0=0.0529$ nm is the Bohr radius, setting thereby a natural length scale. \n",
    "\n",
    "By introducing the radius $r_s$ of a sphere whose volume is the volume occupied by each electron, we can rewrite the previous equation in terms of $r_s$ using that the electron density $n=N/V$"
   ]
  },
  {
   "cell_type": "markdown",
   "id": "9775a666",
   "metadata": {
    "editable": true
   },
   "source": [
    "$$\n",
    "n=\\frac{k_F^3}{3\\pi^2} = \\frac{3}{4\\pi r_s^3},\n",
    "$$"
   ]
  },
  {
   "cell_type": "markdown",
   "id": "a6554e77",
   "metadata": {
    "editable": true
   },
   "source": [
    "we have (with $k_F=1.92/r_s$,"
   ]
  },
  {
   "cell_type": "markdown",
   "id": "e0a88e9d",
   "metadata": {
    "editable": true
   },
   "source": [
    "$$\n",
    "\\frac{\\varepsilon_{k}^{HF} }{\\varepsilon_{0}^{F}}=x^2-\\frac{e^2m}{\\hbar^2 k_F\\pi}F(x)=x^2-\\frac{r_s}{a_0}0.663F(x),\n",
    "$$"
   ]
  },
  {
   "cell_type": "markdown",
   "id": "a44a05ae",
   "metadata": {
    "editable": true
   },
   "source": [
    "with $r_s \\sim 2-6$ for most metals.\n",
    "<!-- --- end solution of exercise --- -->\n",
    "\n",
    "It can be convenient to use the Bohr radius $a_0=\\hbar^2/e^2m$.\n",
    "For most metals we have a relation $r_s/a_0\\sim 2-6$."
   ]
  },
  {
   "cell_type": "markdown",
   "id": "82ddd086",
   "metadata": {
    "editable": true
   },
   "source": [
    "**c)**\n",
    "Make a plot of the free electron energy and the Hartree-Fock energy and discuss the behavior around the Fermi surface. Extract also   the Hartree-Fock band width $\\Delta\\varepsilon^{HF}$ defined as"
   ]
  },
  {
   "cell_type": "markdown",
   "id": "8eb72585",
   "metadata": {
    "editable": true
   },
   "source": [
    "$$\n",
    "\\Delta\\varepsilon^{HF}=\\varepsilon_{k_{F}}^{HF}-\n",
    "\\varepsilon_{0}^{HF}.\n",
    "$$"
   ]
  },
  {
   "cell_type": "markdown",
   "id": "ae6a9cf9",
   "metadata": {
    "editable": true
   },
   "source": [
    "Compare this results with the corresponding one for a free electron and comment your results. How large is the contribution due to the exchange term in the Hartree-Fock equation?\n",
    "\n",
    "<!-- --- begin solution of exercise --- -->\n",
    "**Solution.**\n",
    "We can now define the so-called band gap, that is the scatter between the maximal and the minimal value of the electrons in the conductance band of a metal (up to the Fermi level). \n",
    "For $x=1$ and $r_s/a_0=4$ we have"
   ]
  },
  {
   "cell_type": "markdown",
   "id": "12eb7abb",
   "metadata": {
    "editable": true
   },
   "source": [
    "$$\n",
    "\\frac{\\varepsilon_{k=k_F}^{HF} }{\\varepsilon_{0}^{F}} = -0.326,\n",
    "$$"
   ]
  },
  {
   "cell_type": "markdown",
   "id": "1c8f219f",
   "metadata": {
    "editable": true
   },
   "source": [
    "and for $x=0$ we have"
   ]
  },
  {
   "cell_type": "markdown",
   "id": "817f5217",
   "metadata": {
    "editable": true
   },
   "source": [
    "$$\n",
    "\\frac{\\varepsilon_{k=0}^{HF} }{\\varepsilon_{0}^{F}} = -2.652,\n",
    "$$"
   ]
  },
  {
   "cell_type": "markdown",
   "id": "5a179d28",
   "metadata": {
    "editable": true
   },
   "source": [
    "which results in a gap at the Fermi level of"
   ]
  },
  {
   "cell_type": "markdown",
   "id": "9e1e8c5e",
   "metadata": {
    "editable": true
   },
   "source": [
    "$$\n",
    "\\Delta \\varepsilon^{HF} = \\frac{\\varepsilon_{k=k_F}^{HF} }{\\varepsilon_{0}^{F}}-\\frac{\\varepsilon_{k=0}^{HF} }{\\varepsilon_{0}^{F}} = 2.326.\n",
    "$$"
   ]
  },
  {
   "cell_type": "markdown",
   "id": "01f7cf7c",
   "metadata": {
    "editable": true
   },
   "source": [
    "This quantity measures the deviation from the $k=0$ single-particle energy and the energy at the Fermi level.\n",
    "The general result is"
   ]
  },
  {
   "cell_type": "markdown",
   "id": "b4d288e3",
   "metadata": {
    "editable": true
   },
   "source": [
    "$$\n",
    "\\Delta \\varepsilon^{HF} = 1+\\frac{r_s}{a_0}0.663.\n",
    "$$"
   ]
  },
  {
   "cell_type": "markdown",
   "id": "bfb54172",
   "metadata": {
    "editable": true
   },
   "source": [
    "The following python code produces a plot of the electron energy for a free electron (only kinetic energy) and \n",
    "for the Hartree-Fock solution. We have chosen here a ratio $r_s/a_0=4$ and the equations are plotted as funtions\n",
    "of $k/f_F$."
   ]
  },
  {
   "cell_type": "code",
   "execution_count": 1,
   "id": "6115352c",
   "metadata": {
    "collapsed": false,
    "editable": true
   },
   "outputs": [],
   "source": [
    "%matplotlib inline\n",
    "\n",
    "import numpy as np\n",
    "from math import log\n",
    "from  matplotlib import pyplot as plt\n",
    "from matplotlib import rc, rcParams\n",
    "import matplotlib.units as units\n",
    "import matplotlib.ticker as ticker\n",
    "rc('text',usetex=True)\n",
    "rc('font',**{'family':'serif','serif':['Hartree-Fock energy']})\n",
    "font = {'family' : 'serif',\n",
    "        'color'  : 'darkred',\n",
    "        'weight' : 'normal',\n",
    "        'size'   : 16,\n",
    "        }\n",
    "\n",
    "N = 100\n",
    "x = np.linspace(0.0, 2.0,N)\n",
    "F = 0.5+np.log(abs((1.0+x)/(1.0-x)))*(1.0-x*x)*0.25/x\n",
    "y = x*x -4.0*0.663*F\n",
    "\n",
    "plt.plot(x, y, 'b-')\n",
    "plt.plot(x, x*x, 'r-')\n",
    "plt.title(r'{\\bf Hartree-Fock single-particle energy for electron gas}', fontsize=20)     \n",
    "plt.text(3, -40, r'Parameters: $r_s/a_0=4$', fontdict=font)\n",
    "plt.xlabel(r'$k/k_F$',fontsize=20)\n",
    "plt.ylabel(r'$\\varepsilon_k^{HF}/\\varepsilon_0^F$',fontsize=20)\n",
    "# Tweak spacing to prevent clipping of ylabel\n",
    "plt.subplots_adjust(left=0.15)\n",
    "plt.savefig('hartreefockspelgas.pdf', format='pdf')\n",
    "plt.show()"
   ]
  },
  {
   "cell_type": "markdown",
   "id": "c5991deb",
   "metadata": {
    "editable": true
   },
   "source": [
    "From the plot we notice that the exchange term increases considerably the band gap\n",
    "compared with the non-interacting gas of electrons.\n",
    "<!-- --- end solution of exercise --- -->\n",
    "We will now define a quantity called the effective mass.\n",
    "For $\\vert\\mathbf{k}\\vert$ near $k_{F}$, we can Taylor expand the Hartree-Fock energy as"
   ]
  },
  {
   "cell_type": "markdown",
   "id": "ae4dd247",
   "metadata": {
    "editable": true
   },
   "source": [
    "$$\n",
    "\\varepsilon_{k}^{HF}=\\varepsilon_{k_{F}}^{HF}+\n",
    "\\left(\\frac{\\partial\\varepsilon_{k}^{HF}}{\\partial k}\\right)_{k_{F}}(k-k_{F})+\\dots\n",
    "$$"
   ]
  },
  {
   "cell_type": "markdown",
   "id": "2537f656",
   "metadata": {
    "editable": true
   },
   "source": [
    "If we compare the latter with the corresponding expressiyon for the non-interacting system"
   ]
  },
  {
   "cell_type": "markdown",
   "id": "8863c13b",
   "metadata": {
    "editable": true
   },
   "source": [
    "$$\n",
    "\\varepsilon_{k}^{(0)}=\\frac{\\hbar^{2}k^{2}_{F}}{2m}+\n",
    "\\frac{\\hbar^{2}k_{F}}{m}\\left(k-k_{F}\\right)+\\dots ,\n",
    "$$"
   ]
  },
  {
   "cell_type": "markdown",
   "id": "fac9f76a",
   "metadata": {
    "editable": true
   },
   "source": [
    "we can define the so-called effective Hartree-Fock mass as"
   ]
  },
  {
   "cell_type": "markdown",
   "id": "17923410",
   "metadata": {
    "editable": true
   },
   "source": [
    "$$\n",
    "m_{HF}^{*}\\equiv\\hbar^{2}k_{F}\\left(\n",
    "\\frac{\\partial\\varepsilon_{k}^{HF}}\n",
    "{\\partial k}\\right)_{k_{F}}^{-1}\n",
    "$$"
   ]
  },
  {
   "cell_type": "markdown",
   "id": "f7776793",
   "metadata": {
    "editable": true
   },
   "source": [
    "**d)**\n",
    "Compute $m_{HF}^{*}$ and comment your results."
   ]
  },
  {
   "cell_type": "markdown",
   "id": "ef8e66cf",
   "metadata": {
    "editable": true
   },
   "source": [
    "**e)**\n",
    "Show that the level density (the number of single-electron states per unit energy) can be written as"
   ]
  },
  {
   "cell_type": "markdown",
   "id": "62634149",
   "metadata": {
    "editable": true
   },
   "source": [
    "$$\n",
    "n(\\varepsilon)=\\frac{Vk^{2}}{2\\pi^{2}}\\left(\n",
    "\\frac{\\partial\\varepsilon}{\\partial k}\\right)^{-1}\n",
    "$$"
   ]
  },
  {
   "cell_type": "markdown",
   "id": "5a7cb0f6",
   "metadata": {
    "editable": true
   },
   "source": [
    "Calculate $n(\\varepsilon_{F}^{HF})$ and comment the results."
   ]
  },
  {
   "cell_type": "markdown",
   "id": "df85a173",
   "metadata": {
    "editable": true
   },
   "source": [
    "## Exercise 2: Hartree-Fock ground state energy for the  electron gas in three dimensions\n",
    "\n",
    "We consider a system of electrons in infinite matter, the so-called electron gas. This is a homogeneous system and the one-particle states are given by plane wave function normalized to a volume $\\Omega$ \n",
    "for a box with length $L$ (the limit $L\\rightarrow \\infty$ is to be taken after we have computed various expectation values)"
   ]
  },
  {
   "cell_type": "markdown",
   "id": "7261485d",
   "metadata": {
    "editable": true
   },
   "source": [
    "$$\n",
    "\\psi_{\\mathbf{k}\\sigma}(\\mathbf{r})= \\frac{1}{\\sqrt{\\Omega}}\\exp{(i\\mathbf{kr})}\\xi_{\\sigma}\n",
    "$$"
   ]
  },
  {
   "cell_type": "markdown",
   "id": "85e6c5ed",
   "metadata": {
    "editable": true
   },
   "source": [
    "where $\\mathbf{k}$ is the wave number and  $\\xi_{\\sigma}$ is a spin function for either spin up or down"
   ]
  },
  {
   "cell_type": "markdown",
   "id": "21d25c12",
   "metadata": {
    "editable": true
   },
   "source": [
    "$$\n",
    "\\xi_{\\sigma=+1/2}=\\left(\\begin{array}{c} 1 \\\\ 0 \\end{array}\\right) \\hspace{0.5cm}\n",
    "\\xi_{\\sigma=-1/2}=\\left(\\begin{array}{c} 0 \\\\ 1 \\end{array}\\right).\n",
    "$$"
   ]
  },
  {
   "cell_type": "markdown",
   "id": "7d13f01b",
   "metadata": {
    "editable": true
   },
   "source": [
    "We assume that we have periodic boundary conditions which limit the allowed wave numbers to"
   ]
  },
  {
   "cell_type": "markdown",
   "id": "d1870236",
   "metadata": {
    "editable": true
   },
   "source": [
    "$$\n",
    "k_i=\\frac{2\\pi n_i}{L}\\hspace{0.5cm} i=x,y,z \\hspace{0.5cm} n_i=0,\\pm 1,\\pm 2, \\dots\n",
    "$$"
   ]
  },
  {
   "cell_type": "markdown",
   "id": "c9b9c47d",
   "metadata": {
    "editable": true
   },
   "source": [
    "We assume first that the particles interact via a central, symmetric and translationally invariant\n",
    "interaction  $V(r_{12})$ with\n",
    "$r_{12}=|\\mathbf{r}_1-\\mathbf{r}_2|$.  The interaction is spin independent.\n",
    "\n",
    "The total Hamiltonian consists then of kinetic and potential energy"
   ]
  },
  {
   "cell_type": "markdown",
   "id": "d89ad447",
   "metadata": {
    "editable": true
   },
   "source": [
    "$$\n",
    "\\hat{H} = \\hat{T}+\\hat{V}.\n",
    "$$"
   ]
  },
  {
   "cell_type": "markdown",
   "id": "d2ed2c8c",
   "metadata": {
    "editable": true
   },
   "source": [
    "The operator for the kinetic energy is given by"
   ]
  },
  {
   "cell_type": "markdown",
   "id": "298a88c7",
   "metadata": {
    "editable": true
   },
   "source": [
    "$$\n",
    "\\hat{T}=\\sum_{\\mathbf{k}\\sigma}\\frac{\\hbar^2k^2}{2m}a_{\\mathbf{k}\\sigma}^{\\dagger}a_{\\mathbf{k}\\sigma}.\n",
    "$$"
   ]
  },
  {
   "cell_type": "markdown",
   "id": "ef31e1e0",
   "metadata": {
    "editable": true
   },
   "source": [
    "**a)**\n",
    "Find the expression for the interaction\n",
    "$\\hat{V}$ expressed with creation and annihilation operators.   The expression for the interaction\n",
    "has to be written in  $k$ space, even though $V$ depends only on the relative distance. It means that you need to set up the Fourier transform $\\langle \\mathbf{k}_i\\mathbf{k}_j| V | \\mathbf{k}_m\\mathbf{k}_n\\rangle$.\n",
    "\n",
    "<!-- --- begin solution of exercise --- -->\n",
    "**Solution.**\n",
    "A general two-body interaction element is given by (not using anti-symmetrized matrix elements)"
   ]
  },
  {
   "cell_type": "markdown",
   "id": "880675fc",
   "metadata": {
    "editable": true
   },
   "source": [
    "$$\n",
    "\\hat{V} = \\frac{1}{2} \\sum_{pqrs} \\langle pq \\hat{v} \\vert rs\\rangle a_p^\\dagger a_q^\\dagger a_s a_r ,\n",
    "$$"
   ]
  },
  {
   "cell_type": "markdown",
   "id": "30aaa79d",
   "metadata": {
    "editable": true
   },
   "source": [
    "where $\\hat{v}$ is assumed to depend only on the relative distance between two interacting particles, that is\n",
    "$\\hat{v} = v(\\vec r_1, \\vec r_2) = v(|\\vec r_1 - \\vec r_2|) = v(r)$, with $r = |\\vec r_1 - \\vec r_2|$). \n",
    "In our case we have, writing out explicitely the spin degrees of freedom as well"
   ]
  },
  {
   "cell_type": "markdown",
   "id": "52a71194",
   "metadata": {
    "editable": true
   },
   "source": [
    "<!-- Equation labels as ordinary links -->\n",
    "<div id=\"_auto16\"></div>\n",
    "\n",
    "$$\n",
    "\\begin{equation}\n",
    "\\hat{V} = \\frac{1}{2} \\sum_{\\substack{\\sigma_p \\sigma_q \\\\ \\sigma_r \\sigma_s}}\n",
    "\\sum_{\\substack{\\mathbf{k}_p \\mathbf{k}_q \\\\ \\mathbf{k}_r \\mathbf{k}_s}}\n",
    "\\langle \\mathbf{k}_p \\sigma_p, \\mathbf{k}_q \\sigma_2\\vert v \\vert \\mathbf{k}_r \\sigma_3, \\mathbf{k}_s \\sigma_s\\rangle\n",
    "a_{\\mathbf{k}_p \\sigma_p}^\\dagger a_{\\mathbf{k}_q \\sigma_q}^\\dagger a_{\\mathbf{k}_s \\sigma_s} a_{\\mathbf{k}_r \\sigma_r} .\n",
    "\\label{_auto16} \\tag{17}\n",
    "\\end{equation}\n",
    "$$"
   ]
  },
  {
   "cell_type": "markdown",
   "id": "66e541f9",
   "metadata": {
    "editable": true
   },
   "source": [
    "Inserting plane waves as eigenstates we can rewrite the matrix element as"
   ]
  },
  {
   "cell_type": "markdown",
   "id": "08c1b890",
   "metadata": {
    "editable": true
   },
   "source": [
    "$$\n",
    "\\langle \\mathbf{k}_p \\sigma_p, \\mathbf{k}_q \\sigma_q\\vert \\hat{v} \\vert \\mathbf{k}_r \\sigma_r, \\mathbf{k}_s \\sigma_s\\rangle =\n",
    "\\frac{1}{\\Omega^2} \\delta_{\\sigma_p \\sigma_r} \\delta_{\\sigma_q \\sigma_s}\n",
    "\\int\\int \\exp{-i(\\mathbf{k}_p \\cdot \\mathbf{r}_p)} \\exp{-i( \\mathbf{k}_q \\cdot \\mathbf{r}_q)} \\hat{v}(r) \\exp{i(\\mathbf{k}_r \\cdot \\mathbf{r}_p)} \\exp{i( \\mathbf{k}_s \\cdot \\mathbf{r}_q)} d\\mathbf{r}_p d\\mathbf{r}_q ,\n",
    "$$"
   ]
  },
  {
   "cell_type": "markdown",
   "id": "10198fb8",
   "metadata": {
    "editable": true
   },
   "source": [
    "where we have used the orthogonality properties of the spin functions. We change now the variables of integration\n",
    "by defining $\\mathbf{r} = \\mathbf{r}_p - \\mathbf{r}_q$, which gives $\\mathbf{r}_p = \\mathbf{r} + \\mathbf{r}_q$ and $d^3 \\mathbf{r} = d^3 \\mathbf{r}_p$. \n",
    "The limits are not changed since they are from $-\\infty$ to  $\\infty$ for all integrals. This results in"
   ]
  },
  {
   "cell_type": "markdown",
   "id": "1e282413",
   "metadata": {
    "editable": true
   },
   "source": [
    "$$\n",
    "\\begin{align*}\n",
    "\\langle \\mathbf{k}_p \\sigma_p, \\mathbf{k}_q \\sigma_q\\vert \\hat{v} \\vert \\mathbf{k}_r \\sigma_r, \\mathbf{k}_s \\sigma_s\\rangle\n",
    "&= \\frac{1}{\\Omega^2} \\delta_{\\sigma_p \\sigma_r} \\delta_{\\sigma_q \\sigma_s} \\int\\exp{i (\\mathbf{k}_s - \\mathbf{k}_q) \\cdot \\mathbf{r}_q} \\int v(r) \\exp{i(\\mathbf{k}_r - \\mathbf{k}_p) \\cdot ( \\mathbf{r} + \\mathbf{r}_q)} d\\mathbf{r} d\\mathbf{r}_q \\\\\n",
    "&= \\frac{1}{\\Omega^2} \\delta_{\\sigma_p \\sigma_r} \\delta_{\\sigma_q \\sigma_s} \\int v(r) \\exp{i\\left[(\\mathbf{k}_r - \\mathbf{k}_p) \\cdot \\mathbf{r}\\right]}\n",
    "\\int \\exp{i\\left[(\\mathbf{k}_s - \\mathbf{k}_q + \\mathbf{k}_r - \\mathbf{k}_p) \\cdot \\mathbf{r}_q\\right]} d\\mathbf{r}_q d\\mathbf{r} .\n",
    "\\end{align*}\n",
    "$$"
   ]
  },
  {
   "cell_type": "markdown",
   "id": "add8fc8c",
   "metadata": {
    "editable": true
   },
   "source": [
    "We recognize the integral over $\\mathbf{r}_q$ as a $\\delta$-function, resulting in"
   ]
  },
  {
   "cell_type": "markdown",
   "id": "de11bb72",
   "metadata": {
    "editable": true
   },
   "source": [
    "$$\n",
    "\\langle \\mathbf{k}_p \\sigma_p, \\mathbf{k}_q \\sigma_q\\vert \\hat{v} \\vert \\mathbf{k}_r \\sigma_r, \\mathbf{k}_s \\sigma_s\\rangle =\n",
    "\\frac{1}{\\Omega} \\delta_{\\sigma_p \\sigma_r} \\delta_{\\sigma_q \\sigma_s} \\delta_{(\\mathbf{k}_p + \\mathbf{k}_q),(\\mathbf{k}_r + \\mathbf{k}_s)} \\int v(r) \\exp{i\\left[(\\mathbf{k}_r - \\mathbf{k}_p) \\cdot \\mathbf{r}\\right]} d^3r .\n",
    "$$"
   ]
  },
  {
   "cell_type": "markdown",
   "id": "abf80def",
   "metadata": {
    "editable": true
   },
   "source": [
    "For this equation to be different from zero, we must have conservation of momenta, we need to satisfy\n",
    "$\\mathbf{k}_p + \\mathbf{k}_q = \\mathbf{k}_r + \\mathbf{k}_s$. We can use the conservation of momenta to remove one of the summation variables resulting in"
   ]
  },
  {
   "cell_type": "markdown",
   "id": "7b2b90bc",
   "metadata": {
    "editable": true
   },
   "source": [
    "$$\n",
    "\\hat{V} =\n",
    "\\frac{1}{2\\Omega} \\sum_{\\sigma \\sigma'} \\sum_{\\mathbf{k}_p \\mathbf{k}_q \\mathbf{k}_r} \\left[ \\int v(r) \\exp{i\\left[(\\mathbf{k}_r - \\mathbf{k}_p) \\cdot \\mathbf{r}\\right]} d^3r \\right]\n",
    "a_{\\mathbf{k}_p \\sigma}^\\dagger a_{\\mathbf{k}_q \\sigma'}^\\dagger a_{\\mathbf{k}_p + \\mathbf{k}_q - \\mathbf{k}_r, \\sigma'} a_{\\mathbf{k}_r \\sigma},\n",
    "$$"
   ]
  },
  {
   "cell_type": "markdown",
   "id": "262f6432",
   "metadata": {
    "editable": true
   },
   "source": [
    "which can be rewritten as"
   ]
  },
  {
   "cell_type": "markdown",
   "id": "3a315751",
   "metadata": {
    "editable": true
   },
   "source": [
    "<!-- Equation labels as ordinary links -->\n",
    "<div id=\"eq:V\"></div>\n",
    "\n",
    "$$\n",
    "\\begin{equation}\n",
    "\\hat{V} =\n",
    "\\frac{1}{2\\Omega} \\sum_{\\sigma \\sigma'} \\sum_{\\mathbf{k} \\mathbf{p} \\mathbf{q}} \\left[ \\int v(r) \\exp{-i( \\mathbf{q} \\cdot \\mathbf{r})} d\\mathbf{r} \\right]\n",
    "a_{\\mathbf{k} + \\mathbf{q}, \\sigma}^\\dagger a_{\\mathbf{p} - \\mathbf{q}, \\sigma'}^\\dagger a_{\\mathbf{p} \\sigma'} a_{\\mathbf{k} \\sigma},\n",
    "\\label{eq:V} \\tag{18}\n",
    "\\end{equation}\n",
    "$$"
   ]
  },
  {
   "cell_type": "markdown",
   "id": "06cdcbb0",
   "metadata": {
    "editable": true
   },
   "source": [
    "This equation will be useful for our nuclear matter calculations as well. In the last equation we defined\n",
    "the quantities\n",
    "$\\mathbf{p} = \\mathbf{k}_p + \\mathbf{k}_q - \\mathbf{k}_r$, $\\mathbf{k} = \\mathbf{k}_r$ og $\\mathbf{q} = \\mathbf{k}_p - \\mathbf{k}_r$.\n",
    "<!-- --- end solution of exercise --- -->"
   ]
  },
  {
   "cell_type": "markdown",
   "id": "f2376878",
   "metadata": {
    "editable": true
   },
   "source": [
    "**b)**\n",
    "Calculate thereafter the reference energy for the infinite electron gas in three dimensions using the above expressions for the kinetic energy and the potential energy.\n",
    "\n",
    "<!-- --- begin solution of exercise --- -->\n",
    "**Solution.**\n",
    "Let us now compute the expectation value of the reference energy using the expressions for the kinetic energy operator and the interaction.\n",
    "We need to compute $\\langle \\Phi_0\\vert \\hat{H} \\vert \\Phi_0\\rangle = \\langle \\Phi_0\\vert \\hat{T} \\vert \\Phi_0\\rangle + \\langle \\Phi_0\\vert \\hat{V} \\vert \\Phi_0\\rangle$, where $\\vert \\Phi_0\\rangle$ is our reference Slater determinant, constructed from filling all single-particle states up to the Fermi level.\n",
    "Let us start with the kinetic energy first"
   ]
  },
  {
   "cell_type": "markdown",
   "id": "109f4fc6",
   "metadata": {
    "editable": true
   },
   "source": [
    "$$\n",
    "\\langle \\Phi_0\\vert \\hat{T} \\vert \\Phi_0\\rangle \n",
    "= \\langle \\Phi_0\\vert \\left( \\sum_{\\mathbf{p} \\sigma} \\frac{\\hbar^2 p^2}{2m} a_{\\mathbf{p} \\sigma}^\\dagger a_{\\mathbf{p} \\sigma} \\right) \\vert \\Phi_0\\rangle \\\\\n",
    "= \\sum_{\\mathbf{p} \\sigma} \\frac{\\hbar^2 p^2}{2m} \\langle \\Phi_0\\vert a_{\\mathbf{p} \\sigma}^\\dagger a_{\\mathbf{p} \\sigma} \\vert \\Phi_0\\rangle .\n",
    "$$"
   ]
  },
  {
   "cell_type": "markdown",
   "id": "a23392cb",
   "metadata": {
    "editable": true
   },
   "source": [
    "From the possible contractions using Wick's theorem, it is straightforward to convince oneself that the expression for the kinetic energy becomes"
   ]
  },
  {
   "cell_type": "markdown",
   "id": "1bb6f6e1",
   "metadata": {
    "editable": true
   },
   "source": [
    "$$\n",
    "\\langle \\Phi_0\\vert \\hat{T} \\vert \\Phi_0\\rangle = \\sum_{\\mathbf{i} \\leq F} \\frac{\\hbar^2 k_i^2}{m} = \\frac{\\Omega}{(2\\pi)^3} \\frac{\\hbar^2}{m} \\int_0^{k_F} k^2 d\\mathbf{k}.\n",
    "$$"
   ]
  },
  {
   "cell_type": "markdown",
   "id": "e256de84",
   "metadata": {
    "editable": true
   },
   "source": [
    "The sum of the spin degrees of freedom results in  a factor of two only if we deal with identical spin $1/2$ fermions. \n",
    "Changing to spherical coordinates, the integral over the momenta $k$ results in the final expression"
   ]
  },
  {
   "cell_type": "markdown",
   "id": "7b6294d6",
   "metadata": {
    "editable": true
   },
   "source": [
    "$$\n",
    "\\langle \\Phi_0\\vert \\hat{T} \\vert \\Phi_0\\rangle = \\frac{\\Omega}{(2\\pi)^3} \\left( 4\\pi \\int_0^{k_F} k^4 d\\mathbf{k} \\right) = \\frac{4\\pi\\Omega}{(2\\pi)^3} \\frac{1}{5} k_F^5 = \\frac{4\\pi\\Omega}{5(2\\pi)^3} k_F^5 = \\frac{\\hbar^2 \\Omega}{10\\pi^2 m} k_F^5 .\n",
    "$$"
   ]
  },
  {
   "cell_type": "markdown",
   "id": "28850528",
   "metadata": {
    "editable": true
   },
   "source": [
    "The density of states in momentum space is given by $2\\Omega/(2\\pi)^3$, where we have included the degeneracy due to the spin degrees of freedom.\n",
    "The volume is given by  $4\\pi k_F^3/3$, and the number of particles becomes"
   ]
  },
  {
   "cell_type": "markdown",
   "id": "a3638529",
   "metadata": {
    "editable": true
   },
   "source": [
    "$$\n",
    "N = \\frac{2\\Omega}{(2\\pi)^3} \\frac{4}{3} \\pi k_F^3 = \\frac{\\Omega}{3\\pi^2} k_F^3 \\quad \\Rightarrow \\quad\n",
    "k_F = \\left( \\frac{3\\pi^2 N}{\\Omega} \\right)^{1/3}.\n",
    "$$"
   ]
  },
  {
   "cell_type": "markdown",
   "id": "ebf1a5f3",
   "metadata": {
    "editable": true
   },
   "source": [
    "This gives us"
   ]
  },
  {
   "cell_type": "markdown",
   "id": "341348ca",
   "metadata": {
    "editable": true
   },
   "source": [
    "<!-- Equation labels as ordinary links -->\n",
    "<div id=\"eq:T_forventning\"></div>\n",
    "\n",
    "$$\n",
    "\\begin{equation}\n",
    "\\langle \\Phi_0\\vert \\hat{T} \\vert \\Phi_0\\rangle =\n",
    "\\frac{\\hbar^2 \\Omega}{10\\pi^2 m} \\left( \\frac{3\\pi^2 N}{\\Omega} \\right)^{5/3} =\n",
    "\\frac{\\hbar^2 (3\\pi^2)^{5/3} N}{10\\pi^2 m} \\rho^{2/3} ,\n",
    "\\label{eq:T_forventning} \\tag{19}\n",
    "\\end{equation}\n",
    "$$"
   ]
  },
  {
   "cell_type": "markdown",
   "id": "ce4287d7",
   "metadata": {
    "editable": true
   },
   "source": [
    "We are now ready to calculate the expectation value of the potential energy"
   ]
  },
  {
   "cell_type": "markdown",
   "id": "d3266b6d",
   "metadata": {
    "editable": true
   },
   "source": [
    "$$\n",
    "\\begin{align*}\n",
    "\\langle \\Phi_0\\vert \\hat{V} \\vert \\Phi_0\\rangle \n",
    "&= \\langle \\Phi_0\\vert \\left( \\frac{1}{2\\Omega} \\sum_{\\sigma \\sigma'} \\sum_{\\mathbf{k} \\mathbf{p} \\mathbf{q} } \\left[ \\int v(r) \\exp{-i (\\mathbf{q} \\cdot \\mathbf{r})} d\\mathbf{r} \\right] a_{\\mathbf{k} + \\mathbf{q}, \\sigma}^\\dagger a_{\\mathbf{p} - \\mathbf{q}, \\sigma'}^\\dagger a_{\\mathbf{p} \\sigma'} a_{\\mathbf{k} \\sigma} \\right) \\vert \\Phi_0\\rangle \\\\\n",
    "&= \\frac{1}{2\\Omega} \\sum_{\\sigma \\sigma'} \\sum_{\\mathbf{k} \\mathbf{p} \\mathbf{q}} \\left[ \\int v(r) \\exp{-i (\\mathbf{q} \\cdot \\mathbf{r})} d\\mathbf{r} \\right]\\langle \\Phi_0\\vert a_{\\mathbf{k} + \\mathbf{q}, \\sigma}^\\dagger a_{\\mathbf{p} - \\mathbf{q}, \\sigma'}^\\dagger a_{\\mathbf{p} \\sigma'} a_{\\mathbf{k} \\sigma} \\vert \\Phi_0\\rangle .\n",
    "\\end{align*}\n",
    "$$"
   ]
  },
  {
   "cell_type": "markdown",
   "id": "5982dc14",
   "metadata": {
    "editable": true
   },
   "source": [
    "The only contractions which result in non-zero results are those that involve states below the Fermi level, that is \n",
    "$k \\leq k_F$, $p \\leq k_F$, $|\\mathbf{p} - \\mathbf{q}| < \\mathbf{k}_F$ and $|\\mathbf{k} + \\mathbf{q}| \\leq k_F$. Due to momentum conservation we must also have $\\mathbf{k} + \\mathbf{q} = \\mathbf{p}$, $\\mathbf{p} - \\mathbf{q} = \\mathbf{k}$ and  $\\sigma = \\sigma'$ or  $\\mathbf{k} + \\mathbf{q} = \\mathbf{k}$ and $\\mathbf{p} - \\mathbf{q} = \\mathbf{p}$. \n",
    "Summarizing, we must have"
   ]
  },
  {
   "cell_type": "markdown",
   "id": "54c74882",
   "metadata": {
    "editable": true
   },
   "source": [
    "$$\n",
    "\\mathbf{k} + \\mathbf{q} = \\mathbf{p} \\quad \\text{and} \\quad \\sigma = \\sigma', \\qquad\n",
    "\\text{or} \\qquad\n",
    "\\mathbf{q} = \\mathbf{0} .\n",
    "$$"
   ]
  },
  {
   "cell_type": "markdown",
   "id": "329da2d6",
   "metadata": {
    "editable": true
   },
   "source": [
    "We obtain then"
   ]
  },
  {
   "cell_type": "markdown",
   "id": "084c6852",
   "metadata": {
    "editable": true
   },
   "source": [
    "$$\n",
    "\\langle \\Phi_0\\vert \\hat{V} \\vert \\Phi_0\\rangle =\n",
    "\\frac{1}{2\\Omega} \\left( \\sum_{\\sigma \\sigma'} \\sum_{\\mathbf{q} \\mathbf{p} \\leq F} \\left[ \\int v(r) d\\mathbf{r} \\right] - \\sum_{\\sigma}\n",
    "\\sum_{\\mathbf{q} \\mathbf{p} \\leq F} \\left[ \\int v(r) \\exp{-i (\\mathbf{q} \\cdot \\mathbf{r})} d\\mathbf{r} \\right] \\right).\n",
    "$$"
   ]
  },
  {
   "cell_type": "markdown",
   "id": "f49324ce",
   "metadata": {
    "editable": true
   },
   "source": [
    "The first term is the so-called direct term while the second term is the exchange term. \n",
    "We can rewrite this equation as (and this applies to any potential which depends only on the relative distance between particles)"
   ]
  },
  {
   "cell_type": "markdown",
   "id": "4f7caa45",
   "metadata": {
    "editable": true
   },
   "source": [
    "<!-- Equation labels as ordinary links -->\n",
    "<div id=\"eq:V_b\"></div>\n",
    "\n",
    "$$\n",
    "\\begin{equation}\n",
    "\\langle \\Phi_0\\vert \\hat{V} \\vert \\Phi_0\\rangle =\n",
    "\\frac{1}{2\\Omega} \\left( N^2 \\left[ \\int v(r) d\\mathbf{r} \\right] - N \\sum_{\\mathbf{q}} \\left[ \\int v(r) \\exp{-i (\\mathbf{q}\\cdot \\mathbf{r})} d\\mathbf{r} \\right] \\right),\n",
    "\\label{eq:V_b} \\tag{20}\n",
    "\\end{equation}\n",
    "$$"
   ]
  },
  {
   "cell_type": "markdown",
   "id": "bd9f7639",
   "metadata": {
    "editable": true
   },
   "source": [
    "where we have used the fact that a sum like $\\sum_{\\sigma}\\sum_{\\mathbf{k}}$ equals the number of particles. Using the fact that the density is given by\n",
    "$\\rho = N/\\Omega$, with $\\Omega$ being our volume, we can rewrite the last equation as"
   ]
  },
  {
   "cell_type": "markdown",
   "id": "5e2337d2",
   "metadata": {
    "editable": true
   },
   "source": [
    "$$\n",
    "\\langle \\Phi_0\\vert \\hat{V} \\vert \\Phi_0\\rangle =\n",
    "\\frac{1}{2} \\left( \\rho N \\left[ \\int v(r) d\\mathbf{r} \\right] - \\rho\\sum_{\\mathbf{q}} \\left[ \\int v(r) \\exp{-i (\\mathbf{q}\\cdot \\mathbf{r})} d\\mathbf{r} \\right] \\right).\n",
    "$$"
   ]
  },
  {
   "cell_type": "markdown",
   "id": "5591cdd5",
   "metadata": {
    "editable": true
   },
   "source": [
    "For the electron gas\n",
    "the interaction part of the Hamiltonian operator is given by"
   ]
  },
  {
   "cell_type": "markdown",
   "id": "df9dfeb7",
   "metadata": {
    "editable": true
   },
   "source": [
    "$$\n",
    "\\hat{H}_I=\\hat{H}_{el}+\\hat{H}_{b}+\\hat{H}_{el-b},\n",
    "$$"
   ]
  },
  {
   "cell_type": "markdown",
   "id": "4b504e24",
   "metadata": {
    "editable": true
   },
   "source": [
    "with the electronic part"
   ]
  },
  {
   "cell_type": "markdown",
   "id": "e27f6c0d",
   "metadata": {
    "editable": true
   },
   "source": [
    "$$\n",
    "\\hat{H}_{el}=\\sum_{i=1}^N\\frac{p_i^2}{2m}+\\frac{e^2}{2}\\sum_{i\\ne j}\\frac{e^{-\\mu |\\mathbf{r}_i-\\mathbf{r}_j|}}{|\\mathbf{r}_i-\\mathbf{r}_j|},\n",
    "$$"
   ]
  },
  {
   "cell_type": "markdown",
   "id": "ba29598d",
   "metadata": {
    "editable": true
   },
   "source": [
    "where we have introduced an explicit convergence factor\n",
    "(the limit $\\mu\\rightarrow 0$ is performed after having calculated the various integrals).\n",
    "Correspondingly, we have"
   ]
  },
  {
   "cell_type": "markdown",
   "id": "b5191d5f",
   "metadata": {
    "editable": true
   },
   "source": [
    "$$\n",
    "\\hat{H}_{b}=\\frac{e^2}{2}\\int\\int d\\mathbf{r}d\\mathbf{r}'\\frac{n(\\mathbf{r})n(\\mathbf{r}')e^{-\\mu |\\mathbf{r}-\\mathbf{r}'|}}{|\\mathbf{r}-\\mathbf{r}'|},\n",
    "$$"
   ]
  },
  {
   "cell_type": "markdown",
   "id": "3e8293a4",
   "metadata": {
    "editable": true
   },
   "source": [
    "which is the energy contribution from the positive background charge with density\n",
    "$n(\\mathbf{r})=N/\\Omega$. Finally,"
   ]
  },
  {
   "cell_type": "markdown",
   "id": "84d9e178",
   "metadata": {
    "editable": true
   },
   "source": [
    "$$\n",
    "\\hat{H}_{el-b}=-\\frac{e^2}{2}\\sum_{i=1}^N\\int d\\mathbf{r}\\frac{n(\\mathbf{r})e^{-\\mu |\\mathbf{r}-\\mathbf{x}_i|}}{|\\mathbf{r}-\\mathbf{x}_i|},\n",
    "$$"
   ]
  },
  {
   "cell_type": "markdown",
   "id": "52c7be2c",
   "metadata": {
    "editable": true
   },
   "source": [
    "is the interaction between the electrons and the positive background.\n",
    "We can show that"
   ]
  },
  {
   "cell_type": "markdown",
   "id": "ee7b27a6",
   "metadata": {
    "editable": true
   },
   "source": [
    "$$\n",
    "\\hat{H}_{b}=\\frac{e^2}{2}\\frac{N^2}{\\Omega}\\frac{4\\pi}{\\mu^2},\n",
    "$$"
   ]
  },
  {
   "cell_type": "markdown",
   "id": "81f23ceb",
   "metadata": {
    "editable": true
   },
   "source": [
    "and"
   ]
  },
  {
   "cell_type": "markdown",
   "id": "d4b4160d",
   "metadata": {
    "editable": true
   },
   "source": [
    "$$\n",
    "\\hat{H}_{el-b}=-e^2\\frac{N^2}{\\Omega}\\frac{4\\pi}{\\mu^2}.\n",
    "$$"
   ]
  },
  {
   "cell_type": "markdown",
   "id": "ead358aa",
   "metadata": {
    "editable": true
   },
   "source": [
    "For the electron gas and a Coulomb interaction, these two terms are cancelled (in the thermodynamic limit) by the contribution from the direct term arising\n",
    "from the repulsive electron-electron interaction. What remains then  when computing the reference energy is only the kinetic energy contribution and the contribution from the exchange term.  For other interactions, like nuclear forces with a short range part and no infinite range, we need to compute both the direct term and the exchange term.\n",
    "<!-- --- end solution of exercise --- -->"
   ]
  },
  {
   "cell_type": "markdown",
   "id": "256bdde3",
   "metadata": {
    "editable": true
   },
   "source": [
    "**c)**\n",
    "Show thereafter that the final Hamiltonian can be written as"
   ]
  },
  {
   "cell_type": "markdown",
   "id": "e4d2bcdc",
   "metadata": {
    "editable": true
   },
   "source": [
    "$$\n",
    "H=H_{0}+H_{I},\n",
    "$$"
   ]
  },
  {
   "cell_type": "markdown",
   "id": "64514f8d",
   "metadata": {
    "editable": true
   },
   "source": [
    "with"
   ]
  },
  {
   "cell_type": "markdown",
   "id": "e954d1ff",
   "metadata": {
    "editable": true
   },
   "source": [
    "$$\n",
    "H_{0}={\\displaystyle\\sum_{\\mathbf{k}\\sigma}}\n",
    "\\frac{\\hbar^{2}k^{2}}{2m}a_{\\mathbf{k}\\sigma}^{\\dagger}\n",
    "a_{\\mathbf{k}\\sigma},\n",
    "$$"
   ]
  },
  {
   "cell_type": "markdown",
   "id": "63f5df01",
   "metadata": {
    "editable": true
   },
   "source": [
    "and"
   ]
  },
  {
   "cell_type": "markdown",
   "id": "0d442eff",
   "metadata": {
    "editable": true
   },
   "source": [
    "$$\n",
    "H_{I}=\\frac{e^{2}}{2\\Omega}{\\displaystyle\\sum_{\\sigma_{1}\\sigma_{2}}}{\\displaystyle\\sum_{\\mathbf{q}\\neq 0,\\mathbf{k},\\mathbf{p}}}\\frac{4\\pi}{q^{2}}\n",
    "a_{\\mathbf{k}+\\mathbf{q},\\sigma_{1}}^{\\dagger}\n",
    "a_{\\mathbf{p}-\\mathbf{q},\\sigma_{2}}^{\\dagger}\n",
    "a_{\\mathbf{p}\\sigma_{2}}a_{\\mathbf{k}\\sigma_{1}}.\n",
    "$$"
   ]
  },
  {
   "cell_type": "markdown",
   "id": "58c64030",
   "metadata": {
    "editable": true
   },
   "source": [
    "**d)**\n",
    "Calculate $E_0/N=\\langle \\Phi_{0}\\vert H\\vert \\Phi_{0}\\rangle/N$ for for this system to first order in the interaction. Show that, by using"
   ]
  },
  {
   "cell_type": "markdown",
   "id": "c9994390",
   "metadata": {
    "editable": true
   },
   "source": [
    "$$\n",
    "\\rho= \\frac{k_F^3}{3\\pi^2}=\\frac{3}{4\\pi r_0^3},\n",
    "$$"
   ]
  },
  {
   "cell_type": "markdown",
   "id": "46d131e0",
   "metadata": {
    "editable": true
   },
   "source": [
    "with $\\rho=N/\\Omega$, $r_0$\n",
    "being the radius of a sphere representing the volume an electron occupies \n",
    "and the Bohr radius $a_0=\\hbar^2/e^2m$, \n",
    "that the energy per electron can be written as"
   ]
  },
  {
   "cell_type": "markdown",
   "id": "76200ad5",
   "metadata": {
    "editable": true
   },
   "source": [
    "$$\n",
    "E_0/N=\\frac{e^2}{2a_0}\\left[\\frac{2.21}{r_s^2}-\\frac{0.916}{r_s}\\right].\n",
    "$$"
   ]
  },
  {
   "cell_type": "markdown",
   "id": "b8dbab1e",
   "metadata": {
    "editable": true
   },
   "source": [
    "Here we have defined\n",
    "$r_s=r_0/a_0$ to be a dimensionless quantity."
   ]
  },
  {
   "cell_type": "markdown",
   "id": "74b58ea2",
   "metadata": {
    "editable": true
   },
   "source": [
    "**e)**\n",
    "Plot your results. Why is this system stable?\n",
    "Calculate thermodynamical quantities like the pressure, given by"
   ]
  },
  {
   "cell_type": "markdown",
   "id": "3be2c83f",
   "metadata": {
    "editable": true
   },
   "source": [
    "$$\n",
    "P=-\\left(\\frac{\\partial E}{\\partial \\Omega}\\right)_N,\n",
    "$$"
   ]
  },
  {
   "cell_type": "markdown",
   "id": "ea1c79ce",
   "metadata": {
    "editable": true
   },
   "source": [
    "and the bulk modulus"
   ]
  },
  {
   "cell_type": "markdown",
   "id": "0aefb751",
   "metadata": {
    "editable": true
   },
   "source": [
    "$$\n",
    "B=-\\Omega\\left(\\frac{\\partial P}{\\partial \\Omega}\\right)_N,\n",
    "$$"
   ]
  },
  {
   "cell_type": "markdown",
   "id": "4041f038",
   "metadata": {
    "editable": true
   },
   "source": [
    "and comment your results."
   ]
  }
 ],
 "metadata": {},
 "nbformat": 4,
 "nbformat_minor": 5
}
