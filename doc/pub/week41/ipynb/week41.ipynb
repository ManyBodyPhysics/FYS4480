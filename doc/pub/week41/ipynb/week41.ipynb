{
 "cells": [
  {
   "cell_type": "markdown",
   "id": "6f793a0a",
   "metadata": {
    "editable": true
   },
   "source": [
    "<!-- HTML file automatically generated from DocOnce source (https://github.com/doconce/doconce/)\n",
    "doconce format html week41.do.txt --no_mako -->\n",
    "<!-- dom:TITLE: Week 41: Hartree-Fock theory and the Homogeneous Electron gas -->"
   ]
  },
  {
   "cell_type": "markdown",
   "id": "9fa5fd5b",
   "metadata": {
    "editable": true
   },
   "source": [
    "# Week 41: Hartree-Fock theory and the Homogeneous Electron gas\n",
    "**Morten Hjorth-Jensen**, Department of Physics and Center for Computing in Science Education, University of Oslo, Norway and Department of Physics and Astronomy and Facility for Rare Isotope Beams, Michigan State University, USA\n",
    "\n",
    "Date: **Week 41, October 7-11**"
   ]
  },
  {
   "cell_type": "markdown",
   "id": "6718436f",
   "metadata": {
    "editable": true
   },
   "source": [
    "## Week 41, October 7-11, 2024\n",
    "Topics to be covered\n",
    "1. Thursday:\n",
    "\n",
    "  * The homogeneous electron gas in three dimensions\n",
    "\n",
    "  * Hartree-Fock solution and ground state energy \n",
    "\n",
    "  * [Video of lecture](https://youtu.be/8ylJy7Rtqm8)\n",
    "\n",
    "  * [Whiteboard notes](https://github.com/ManyBodyPhysics/FYS4480/blob/master/doc/HandwrittenNotes/2024/NotesOctober10.pdf)     \n",
    "\n",
    "2. Friday:\n",
    "\n",
    "  * Calculating the ground state energy of the electron gas\n",
    "\n",
    "  * Discussion of first midterm\n",
    "\n",
    "  * [Video of lecture](https://youtu.be/8zZA3Q4A0eo)\n",
    "\n",
    "  * [Whiteboard notes](https://github.com/ManyBodyPhysics/FYS4480/blob/master/doc/HandwrittenNotes/2024/NotesOctober11.pdf)     \n",
    "\n",
    "* Lecture Material: These slides and handwritten notes\n",
    "\n",
    "* First midterm set at <https://github.com/ManyBodyPhysics/FYS4480/blob/master/doc/Exercises/2024/FirstMidterm2024.pdf>. Available Friday October 11"
   ]
  },
  {
   "cell_type": "markdown",
   "id": "c6f89f01",
   "metadata": {
    "editable": true
   },
   "source": [
    "## The infinite electron gas\n",
    "\n",
    "The electron gas is perhaps the only realistic model of a \n",
    "system of many interacting particles that allows for an analytical  solution\n",
    "of the Hartree-Fock equations. Furthermore, to first order in the interaction, one can also\n",
    "obtain an analytical expression for  the total energy and several other properties of a many-particle systems. \n",
    "The model gives a very good approximation to the properties of valence electrons in metals.\n",
    "The assumptions are\n",
    "\n",
    " * System of electrons that is not influenced by external forces except by an attraction provided by a uniform background of ions. These ions give rise to a uniform background charge. The ions are stationary.\n",
    "\n",
    " * The system as a whole is neutral.\n",
    "\n",
    " * We assume we have $N_e$ electrons in a cubic box of length $L$ and volume $\\Omega=L^3$. This volume contains also a uniform distribution of positive charge with density $N_ee/\\Omega$."
   ]
  },
  {
   "cell_type": "markdown",
   "id": "abaa576b",
   "metadata": {
    "editable": true
   },
   "source": [
    "## Attractive background\n",
    "\n",
    "The homogeneus electron gas is a system of electrons that is not\n",
    "influenced by external forces except by an attraction provided by a\n",
    "uniform background of ions. These ions give rise to a uniform\n",
    "background charge.  The ions are stationary and the system as a whole\n",
    "is neutral.\n",
    "Irrespective of this simplicity, this system, in both two and\n",
    "three-dimensions, has eluded a proper description of correlations in\n",
    "terms of various first principle methods, except perhaps for quantum\n",
    "Monte Carlo methods. In particular, the diffusion Monte Carlo\n",
    "calculations of [Ceperley](http://journals.aps.org/prl/abstract/10.1103/PhysRevLett.45.566) \n",
    "and [Ceperley and Tanatar](http://journals.aps.org/prb/abstract/10.1103/PhysRevB.39.5005) \n",
    "are presently still considered as the\n",
    "best possible benchmarks for the two- and three-dimensional electron\n",
    "gas."
   ]
  },
  {
   "cell_type": "markdown",
   "id": "e05c38ad",
   "metadata": {
    "editable": true
   },
   "source": [
    "## Two or three dimensions\n",
    "\n",
    "The electron gas, in \n",
    "two or three dimensions is thus interesting as a test-bed for \n",
    "electron-electron correlations. The three-dimensional \n",
    "electron gas is particularly important as a cornerstone \n",
    "of the local-density approximation in density-functional \n",
    "theory. In the physical world, systems \n",
    "similar to the three-dimensional electron gas can be \n",
    "found in, for example, alkali metals and doped \n",
    "semiconductors. Two-dimensional electron fluids are \n",
    "observed on metal and liquid-helium surfaces, as well as \n",
    "at metal-oxide-semiconductor interfaces. However, the Coulomb \n",
    "interaction has an infinite range, and therefore \n",
    "long-range correlations play an essential role in the\n",
    "electron gas."
   ]
  },
  {
   "cell_type": "markdown",
   "id": "f5c73927",
   "metadata": {
    "editable": true
   },
   "source": [
    "## Low densities\n",
    "\n",
    "At low densities, the electrons become \n",
    "localized and form a lattice. This so-called Wigner \n",
    "crystallization is a direct consequence \n",
    "of the long-ranged repulsive interaction. At higher\n",
    "densities, the electron gas is better described as a\n",
    "liquid.\n",
    "When using, for example, Monte Carlo methods the electron gas must be approximated \n",
    "by a finite system. The long-range Coulomb interaction \n",
    "in the electron gas causes additional finite-size effects  that are not\n",
    "present in other infinite systems like nuclear matter or neutron star matter.\n",
    "This poses additional challenges to many-body methods when applied \n",
    "to the electron gas."
   ]
  },
  {
   "cell_type": "markdown",
   "id": "5f09421d",
   "metadata": {
    "editable": true
   },
   "source": [
    "## The infinite electron gas as a homogenous system\n",
    "\n",
    "This is a homogeneous system and the one-particle wave functions are given by plane wave functions normalized to a volume $\\Omega$ \n",
    "for a box with length $L$ (the limit $L\\rightarrow \\infty$ is to be taken after we have computed various expectation values)"
   ]
  },
  {
   "cell_type": "markdown",
   "id": "a4f1b5cd",
   "metadata": {
    "editable": true
   },
   "source": [
    "$$\n",
    "\\psi_{\\mathbf{k}\\sigma}(\\mathbf{r})= \\frac{1}{\\sqrt{\\Omega}}\\exp{(i\\mathbf{kr})}\\xi_{\\sigma}\n",
    "$$"
   ]
  },
  {
   "cell_type": "markdown",
   "id": "eef16922",
   "metadata": {
    "editable": true
   },
   "source": [
    "where $\\mathbf{k}$ is the wave number and  $\\xi_{\\sigma}$ is a spin function for either spin up or down"
   ]
  },
  {
   "cell_type": "markdown",
   "id": "6cf8434f",
   "metadata": {
    "editable": true
   },
   "source": [
    "$$\n",
    "\\xi_{\\sigma=+1/2}=\\left(\\begin{array}{c} 1 \\\\ 0 \\end{array}\\right) \\hspace{0.5cm}\n",
    "\\xi_{\\sigma=-1/2}=\\left(\\begin{array}{c} 0 \\\\ 1 \\end{array}\\right).\n",
    "$$"
   ]
  },
  {
   "cell_type": "markdown",
   "id": "d3dde624",
   "metadata": {
    "editable": true
   },
   "source": [
    "## Periodic boundary conditions\n",
    "\n",
    "We assume that we have periodic boundary conditions which limit the allowed wave numbers to"
   ]
  },
  {
   "cell_type": "markdown",
   "id": "376e1744",
   "metadata": {
    "editable": true
   },
   "source": [
    "$$\n",
    "k_i=\\frac{2\\pi n_i}{L}\\hspace{0.5cm} i=x,y,z \\hspace{0.5cm} n_i=0,\\pm 1,\\pm 2, \\dots\n",
    "$$"
   ]
  },
  {
   "cell_type": "markdown",
   "id": "13883f98",
   "metadata": {
    "editable": true
   },
   "source": [
    "We assume first that the electrons interact via a central, symmetric and translationally invariant\n",
    "interaction  $V(r_{12})$ with\n",
    "$r_{12}=|\\mathbf{r}_1-\\mathbf{r}_2|$.  The interaction is spin independent.\n",
    "\n",
    "The total Hamiltonian consists then of kinetic and potential energy"
   ]
  },
  {
   "cell_type": "markdown",
   "id": "545b4ff3",
   "metadata": {
    "editable": true
   },
   "source": [
    "$$\n",
    "\\hat{H} = \\hat{T}+\\hat{V}.\n",
    "$$"
   ]
  },
  {
   "cell_type": "markdown",
   "id": "cc7c24ea",
   "metadata": {
    "editable": true
   },
   "source": [
    "The operator for the kinetic energy can be written as"
   ]
  },
  {
   "cell_type": "markdown",
   "id": "1543d4d1",
   "metadata": {
    "editable": true
   },
   "source": [
    "$$\n",
    "\\hat{T}=\\sum_{\\mathbf{k}\\sigma}\\frac{\\hbar^2k^2}{2m}a_{\\mathbf{k}\\sigma}^{\\dagger}a_{\\mathbf{k}\\sigma}.\n",
    "$$"
   ]
  },
  {
   "cell_type": "markdown",
   "id": "6c4ab8c0",
   "metadata": {
    "editable": true
   },
   "source": [
    "## Defining the Hamiltonian operator\n",
    "\n",
    "The Hamiltonian operator is given by"
   ]
  },
  {
   "cell_type": "markdown",
   "id": "a4f65c27",
   "metadata": {
    "editable": true
   },
   "source": [
    "$$\n",
    "\\hat{H}=\\hat{H}_{el}+\\hat{H}_{b}+\\hat{H}_{el-b},\n",
    "$$"
   ]
  },
  {
   "cell_type": "markdown",
   "id": "36a0b6b1",
   "metadata": {
    "editable": true
   },
   "source": [
    "with the electronic part"
   ]
  },
  {
   "cell_type": "markdown",
   "id": "7cb95896",
   "metadata": {
    "editable": true
   },
   "source": [
    "$$\n",
    "\\hat{H}_{el}=\\sum_{i=1}^N\\frac{p_i^2}{2m}+\\frac{e^2}{2}\\sum_{i\\ne j}\\frac{e^{-\\mu |\\mathbf{r}_i-\\mathbf{r}_j|}}{|\\mathbf{r}_i-\\mathbf{r}_j|},\n",
    "$$"
   ]
  },
  {
   "cell_type": "markdown",
   "id": "8d9c0abe",
   "metadata": {
    "editable": true
   },
   "source": [
    "where we have introduced an explicit convergence factor\n",
    "(the limit $\\mu\\rightarrow 0$ is performed after having calculated the various integrals)."
   ]
  },
  {
   "cell_type": "markdown",
   "id": "2470e3fe",
   "metadata": {
    "editable": true
   },
   "source": [
    "## And the positive background\n",
    "\n",
    "Correspondingly, we have"
   ]
  },
  {
   "cell_type": "markdown",
   "id": "9eedcb3f",
   "metadata": {
    "editable": true
   },
   "source": [
    "$$\n",
    "\\hat{H}_{b}=\\frac{e^2}{2}\\int\\int d\\mathbf{r}d\\mathbf{r}'\\frac{n(\\mathbf{r})n(\\mathbf{r}')e^{-\\mu |\\mathbf{r}-\\mathbf{r}'|}}{|\\mathbf{r}-\\mathbf{r}'|},\n",
    "$$"
   ]
  },
  {
   "cell_type": "markdown",
   "id": "56085a93",
   "metadata": {
    "editable": true
   },
   "source": [
    "which is the energy contribution from the positive background charge with density\n",
    "$n(\\mathbf{r})=N/\\Omega$. Finally,"
   ]
  },
  {
   "cell_type": "markdown",
   "id": "3455ba42",
   "metadata": {
    "editable": true
   },
   "source": [
    "$$\n",
    "\\hat{H}_{el-b}=-\\frac{e^2}{2}\\sum_{i=1}^N\\int d\\mathbf{r}\\frac{n(\\mathbf{r})e^{-\\mu |\\mathbf{r}-\\mathbf{x}_i|}}{|\\mathbf{r}-\\mathbf{x}_i|},\n",
    "$$"
   ]
  },
  {
   "cell_type": "markdown",
   "id": "1b5484f1",
   "metadata": {
    "editable": true
   },
   "source": [
    "is the interaction between the electrons and the positive background."
   ]
  },
  {
   "cell_type": "markdown",
   "id": "366150b2",
   "metadata": {
    "editable": true
   },
   "source": [
    "## Hartree-Fock single-particle solution for the electron gas\n",
    "The electron gas model allows closed form solutions for quantities like the \n",
    "single-particle Hartree-Fock energy.  The latter quantity is given by the following expression"
   ]
  },
  {
   "cell_type": "markdown",
   "id": "b21ab348",
   "metadata": {
    "editable": true
   },
   "source": [
    "$$\n",
    "\\varepsilon_{k}^{HF}=\\frac{\\hbar^{2}k^{2}}{2m}-\\frac{e^{2}}\n",
    "{V^{2}}\\sum_{k'\\leq\n",
    "k_{F}}\\int d\\mathbf{r}e^{i(\\mathbf{k'}-\\mathbf{k})\\mathbf{r}}\\int\n",
    "d\\mathbf{r}'\\frac{e^{i(\\mathbf{k}-\\mathbf{k'})\\mathbf{r}'}}\n",
    "{\\vert\\mathbf{r}-\\mathbf{r'}\\vert}\n",
    "$$"
   ]
  },
  {
   "cell_type": "markdown",
   "id": "12b5244c",
   "metadata": {
    "editable": true
   },
   "source": [
    "## First step\n",
    "\n",
    "We will show first that"
   ]
  },
  {
   "cell_type": "markdown",
   "id": "678f47db",
   "metadata": {
    "editable": true
   },
   "source": [
    "$$\n",
    "\\varepsilon_{k}^{HF}=\\frac{\\hbar^{2}k^{2}}{2m}-\\frac{e^{2}\n",
    "k_{F}}{2\\pi}\n",
    "\\left[\n",
    "2+\\frac{k_{F}^{2}-k^{2}}{kk_{F}}ln\\left\\vert\\frac{k+k_{F}}\n",
    "{k-k_{F}}\\right\\vert\n",
    "\\right]\n",
    "$$"
   ]
  },
  {
   "cell_type": "markdown",
   "id": "861f242b",
   "metadata": {
    "editable": true
   },
   "source": [
    "## Convergence factor\n",
    "\n",
    "We introduce the convergence factor \n",
    "$e^{-\\mu\\vert\\mathbf{r}-\\mathbf{r}'\\vert}$\n",
    "in the potential and use  $\\sum_{\\mathbf{k}}\\rightarrow\n",
    "\\frac{V}{(2\\pi)^{3}}\\int d\\mathbf{k}$ \n",
    "\n",
    "We want to show that, given the Hartree-Fock equation for the electron gas"
   ]
  },
  {
   "cell_type": "markdown",
   "id": "a80fbebb",
   "metadata": {
    "editable": true
   },
   "source": [
    "$$\n",
    "\\varepsilon_{k}^{HF}=\\frac{\\hbar^{2}k^{2}}{2m}-\\frac{e^{2}}\n",
    "{V^{2}}\\sum_{p\\leq\n",
    "k_{F}}\\int d\\mathbf{r}\\exp{(i(\\mathbf{p}-\\mathbf{k})\\mathbf{r})}\\int\n",
    "d\\mathbf{r}'\\frac{\\exp{(i(\\mathbf{k}-\\mathbf{p})\\mathbf{r}'})}\n",
    "{\\vert\\mathbf{r}-\\mathbf{r'}\\vert}\n",
    "$$"
   ]
  },
  {
   "cell_type": "markdown",
   "id": "570f272e",
   "metadata": {
    "editable": true
   },
   "source": [
    "the single-particle energy can be written as"
   ]
  },
  {
   "cell_type": "markdown",
   "id": "46bae7d5",
   "metadata": {
    "editable": true
   },
   "source": [
    "$$\n",
    "\\varepsilon_{k}^{HF}=\\frac{\\hbar^{2}k^{2}}{2m}-\\frac{e^{2}\n",
    "k_{F}}{2\\pi}\n",
    "\\left[\n",
    "2+\\frac{k_{F}^{2}-k^{2}}{kk_{F}}ln\\left\\vert\\frac{k+k_{F}}\n",
    "{k-k_{F}}\\right\\vert\n",
    "\\right].\n",
    "$$"
   ]
  },
  {
   "cell_type": "markdown",
   "id": "df5cd1c9",
   "metadata": {
    "editable": true
   },
   "source": [
    "## Rewriting\n",
    "\n",
    "We introduced the convergence factor \n",
    "$e^{-\\mu\\vert\\mathbf{r}-\\mathbf{r}'\\vert}$\n",
    "in the potential and use  $\\sum_{\\mathbf{k}}\\rightarrow\n",
    "\\frac{V}{(2\\pi)^{3}}\\int d\\mathbf{k}$. We can then rewrite the integral as"
   ]
  },
  {
   "cell_type": "markdown",
   "id": "9d9f8741",
   "metadata": {
    "editable": true
   },
   "source": [
    "<!-- Equation labels as ordinary links -->\n",
    "<div id=\"_auto1\"></div>\n",
    "\n",
    "$$\n",
    "\\begin{equation}\n",
    "\\frac{e^{2}}\n",
    "{V^{2}}\\sum_{k'\\leq\n",
    "k_{F}}\\int d\\mathbf{r}\\exp{(i(\\mathbf{k'}-\\mathbf{k})\\mathbf{r})}\\int\n",
    "d\\mathbf{r}'\\frac{\\exp{(i(\\mathbf{k}-\\mathbf{p})\\mathbf{r}'})}\n",
    "{\\vert\\mathbf{r}-\\mathbf{r'}\\vert}=  \n",
    "\\label{_auto1} \\tag{1}\n",
    "\\end{equation}\n",
    "$$"
   ]
  },
  {
   "cell_type": "markdown",
   "id": "06cf8da8",
   "metadata": {
    "editable": true
   },
   "source": [
    "<!-- Equation labels as ordinary links -->\n",
    "<div id=\"_auto2\"></div>\n",
    "\n",
    "$$\n",
    "\\begin{equation} \n",
    "\\frac{e^{2}}{V (2\\pi)^3}  \\int d\\mathbf{r}\\int\n",
    "\\frac{d\\mathbf{r}'}{\\vert\\mathbf{r}-\\mathbf{r'}\\vert}\\exp{(-i\\mathbf{k}(\\mathbf{r}-\\mathbf{r}'))}\\int d\\mathbf{p}\\exp{(i\\mathbf{p}(\\mathbf{r}-\\mathbf{r}'))},\n",
    "\\label{_auto2} \\tag{2}\n",
    "\\end{equation}\n",
    "$$"
   ]
  },
  {
   "cell_type": "markdown",
   "id": "7d29934c",
   "metadata": {
    "editable": true
   },
   "source": [
    "and introducing the abovementioned convergence factor we have"
   ]
  },
  {
   "cell_type": "markdown",
   "id": "a0337ee4",
   "metadata": {
    "editable": true
   },
   "source": [
    "<!-- Equation labels as ordinary links -->\n",
    "<div id=\"_auto3\"></div>\n",
    "\n",
    "$$\n",
    "\\begin{equation}\n",
    "\\lim_{\\mu \\to 0}\\frac{e^{2}}{V (2\\pi)^3}  \\int d\\mathbf{r}\\int d\\mathbf{r}'\\frac{\\exp{(-\\mu\\vert\\mathbf{r}-\\mathbf{r}'\\vert})}{\\vert\\mathbf{r}-\\mathbf{r'}\\vert}\\int d\\mathbf{p}\\exp{(i(\\mathbf{p}-\\mathbf{k})(\\mathbf{r}-\\mathbf{r}'))}.\n",
    "\\label{_auto3} \\tag{3}\n",
    "\\end{equation}\n",
    "$$"
   ]
  },
  {
   "cell_type": "markdown",
   "id": "69314d8e",
   "metadata": {
    "editable": true
   },
   "source": [
    "## Change of variables\n",
    "\n",
    "With a change variables to $\\mathbf{x} = \\mathbf{r}-\\mathbf{r}'$ and $\\mathbf{y}=\\mathbf{r}'$ we rewrite the last integral as"
   ]
  },
  {
   "cell_type": "markdown",
   "id": "6369f086",
   "metadata": {
    "editable": true
   },
   "source": [
    "$$\n",
    "\\lim_{\\mu \\to 0}\\frac{e^{2}}{V (2\\pi)^3}  \\int d\\mathbf{p}\\int d\\mathbf{y}\\int d\\mathbf{x}\\exp{(i(\\mathbf{p}-\\mathbf{k})\\mathbf{x})}\\frac{\\exp{(-\\mu\\vert\\mathbf{x}\\vert})}{\\vert\\mathbf{x}\\vert}.\n",
    "$$"
   ]
  },
  {
   "cell_type": "markdown",
   "id": "3bc23566",
   "metadata": {
    "editable": true
   },
   "source": [
    "The integration over $\\mathbf{x}$ can be performed using spherical coordinates, resulting in (with $x=\\vert \\mathbf{x}\\vert$)"
   ]
  },
  {
   "cell_type": "markdown",
   "id": "843cdf09",
   "metadata": {
    "editable": true
   },
   "source": [
    "$$\n",
    "\\int d\\mathbf{x}\\exp{(i(\\mathbf{p}-\\mathbf{k})\\mathbf{x})}\\frac{\\exp{(-\\mu\\vert\\mathbf{x}\\vert})}{\\vert\\mathbf{x}\\vert}=\\int x^2 dx d\\phi d\\cos{(\\theta)}\\exp{(i(\\mathbf{p}-\\mathbf{k})x\\cos{(\\theta))}}\\frac{\\exp{(-\\mu x)}}{x}.\n",
    "$$"
   ]
  },
  {
   "cell_type": "markdown",
   "id": "934ba271",
   "metadata": {
    "editable": true
   },
   "source": [
    "## Further manipulations\n",
    "\n",
    "We obtain"
   ]
  },
  {
   "cell_type": "markdown",
   "id": "3683ac71",
   "metadata": {
    "editable": true
   },
   "source": [
    "<!-- Equation labels as ordinary links -->\n",
    "<div id=\"_auto4\"></div>\n",
    "\n",
    "$$\n",
    "\\begin{equation}\n",
    "4\\pi \\int dx \\frac{ \\sin{(\\vert \\mathbf{p}-\\mathbf{k}\\vert)x} }{\\vert \\mathbf{p}-\\mathbf{k}\\vert}{\\exp{(-\\mu x)}}= \\frac{4\\pi}{\\mu^2+\\vert \\mathbf{p}-\\mathbf{k}\\vert^2}.\n",
    "\\label{_auto4} \\tag{4}\n",
    "\\end{equation}\n",
    "$$"
   ]
  },
  {
   "cell_type": "markdown",
   "id": "10200c95",
   "metadata": {
    "editable": true
   },
   "source": [
    "This results gives us"
   ]
  },
  {
   "cell_type": "markdown",
   "id": "c1c718db",
   "metadata": {
    "editable": true
   },
   "source": [
    "<!-- Equation labels as ordinary links -->\n",
    "<div id=\"_auto5\"></div>\n",
    "\n",
    "$$\n",
    "\\begin{equation}\n",
    "\\lim_{\\mu \\to 0}\\frac{e^{2}}{V (2\\pi)^3}  \\int d\\mathbf{p}\\int d\\mathbf{y}\\frac{4\\pi}{\\mu^2+\\vert \\mathbf{p}-\\mathbf{k}\\vert^2}=\\lim_{\\mu \\to 0}\\frac{e^{2}}{ 2\\pi^2}  \\int d\\mathbf{p}\\frac{1}{\\mu^2+\\vert \\mathbf{p}-\\mathbf{k}\\vert^2},\n",
    "\\label{_auto5} \\tag{5}\n",
    "\\end{equation}\n",
    "$$"
   ]
  },
  {
   "cell_type": "markdown",
   "id": "ea6d5375",
   "metadata": {
    "editable": true
   },
   "source": [
    "where we have used that the integrand on the left-hand side does not depend on $\\mathbf{y}$ and that $\\int d\\mathbf{y}=V$."
   ]
  },
  {
   "cell_type": "markdown",
   "id": "660f7fa5",
   "metadata": {
    "editable": true
   },
   "source": [
    "## Spherical coordinates\n",
    "\n",
    "Introducing spherical coordinates we can rewrite the integral as"
   ]
  },
  {
   "cell_type": "markdown",
   "id": "530d16b6",
   "metadata": {
    "editable": true
   },
   "source": [
    "<!-- Equation labels as ordinary links -->\n",
    "<div id=\"_auto6\"></div>\n",
    "\n",
    "$$\n",
    "\\begin{equation}\n",
    "\\lim_{\\mu \\to 0}\\frac{e^{2}}{ 2\\pi^2}  \\int d\\mathbf{p}\\frac{1}{\\mu^2+\\vert \\mathbf{p}-\\mathbf{k}\\vert^2}=\\frac{e^{2}}{ 2\\pi^2}  \\int d\\mathbf{p}\\frac{1}{\\vert \\mathbf{p}-\\mathbf{k}\\vert^2}= \n",
    "\\label{_auto6} \\tag{6}\n",
    "\\end{equation}\n",
    "$$"
   ]
  },
  {
   "cell_type": "markdown",
   "id": "ba671e29",
   "metadata": {
    "editable": true
   },
   "source": [
    "<!-- Equation labels as ordinary links -->\n",
    "<div id=\"_auto7\"></div>\n",
    "\n",
    "$$\n",
    "\\begin{equation} \n",
    "\\frac{e^{2}}{\\pi}  \\int_0^{k_F} p^2dp\\int_0^{\\pi} d\\theta\\cos{(\\theta)}\\frac{1}{p^2+k^2-2pk\\cos{(\\theta)}},\n",
    "\\label{_auto7} \\tag{7}\n",
    "\\end{equation}\n",
    "$$"
   ]
  },
  {
   "cell_type": "markdown",
   "id": "37f1316c",
   "metadata": {
    "editable": true
   },
   "source": [
    "and with the change of variables $\\cos{(\\theta)}=u$ we have"
   ]
  },
  {
   "cell_type": "markdown",
   "id": "f32150bf",
   "metadata": {
    "editable": true
   },
   "source": [
    "$$\n",
    "\\frac{e^{2}}{\\pi}  \\int_0^{k_F} p^2dp\\int_{0}^{\\pi} d\\theta\\cos{(\\theta)}\\frac{1}{p^2+k^2-2pk\\cos{(\\theta)}}=\\frac{e^{2}}{\\pi}  \\int_0^{k_F} p^2dp\\int_{-1}^{1} du\\frac{1}{p^2+k^2-2pku},\n",
    "$$"
   ]
  },
  {
   "cell_type": "markdown",
   "id": "8a390e4c",
   "metadata": {
    "editable": true
   },
   "source": [
    "which gives"
   ]
  },
  {
   "cell_type": "markdown",
   "id": "da0a9a79",
   "metadata": {
    "editable": true
   },
   "source": [
    "$$\n",
    "\\frac{e^{2}}{k\\pi}  \\int_0^{k_F} pdp\\left\\{ln(\\vert p+k\\vert)-ln(\\vert p-k\\vert)\\right\\}.\n",
    "$$"
   ]
  },
  {
   "cell_type": "markdown",
   "id": "e02d00ef",
   "metadata": {
    "editable": true
   },
   "source": [
    "## And new varibales\n",
    "\n",
    "Introducing new variables $x=p+k$ and $y=p-k$, we obtain after some straightforward reordering of the integral"
   ]
  },
  {
   "cell_type": "markdown",
   "id": "85be5515",
   "metadata": {
    "editable": true
   },
   "source": [
    "$$\n",
    "\\frac{e^{2}}{k\\pi}\\left[\n",
    "kk_F+\\frac{k_{F}^{2}-k^{2}}{kk_{F}}ln\\left\\vert\\frac{k+k_{F}}\n",
    "{k-k_{F}}\\right\\vert\n",
    "\\right],\n",
    "$$"
   ]
  },
  {
   "cell_type": "markdown",
   "id": "412fc19d",
   "metadata": {
    "editable": true
   },
   "source": [
    "which gives the abovementioned expression for the single-particle energy."
   ]
  },
  {
   "cell_type": "markdown",
   "id": "6835dba3",
   "metadata": {
    "editable": true
   },
   "source": [
    "## Function of density\n",
    "\n",
    "We rewrite the above result as a function of the density"
   ]
  },
  {
   "cell_type": "markdown",
   "id": "26e9b552",
   "metadata": {
    "editable": true
   },
   "source": [
    "$$\n",
    "n= \\frac{k_F^3}{3\\pi^2}=\\frac{3}{4\\pi r_s^3},\n",
    "$$"
   ]
  },
  {
   "cell_type": "markdown",
   "id": "64fc908c",
   "metadata": {
    "editable": true
   },
   "source": [
    "where $n=N/V$, $N$ being the number of particles, and $r_s$ is the radius of a sphere which represents the volum per conducting electron."
   ]
  },
  {
   "cell_type": "markdown",
   "id": "7ae5f858",
   "metadata": {
    "editable": true
   },
   "source": [
    "## Dimensionless quantities\n",
    "\n",
    "Introducing the dimensionless quantity $x=k/k_F$ and the function"
   ]
  },
  {
   "cell_type": "markdown",
   "id": "604c610a",
   "metadata": {
    "editable": true
   },
   "source": [
    "$$\n",
    "F(x) = \\frac{1}{2}+\\frac{1-x^2}{4x}\\ln{\\left\\vert \\frac{1+x}{1-x}\\right\\vert},\n",
    "$$"
   ]
  },
  {
   "cell_type": "markdown",
   "id": "9ad53d3e",
   "metadata": {
    "editable": true
   },
   "source": [
    "we can rewrite the single-particle Hartree-Fock energy as"
   ]
  },
  {
   "cell_type": "markdown",
   "id": "e379480e",
   "metadata": {
    "editable": true
   },
   "source": [
    "$$\n",
    "\\varepsilon_{k}^{HF}=\\frac{\\hbar^{2}k^{2}}{2m}-\\frac{2e^{2}\n",
    "k_{F}}{\\pi}F(k/k_F),\n",
    "$$"
   ]
  },
  {
   "cell_type": "markdown",
   "id": "a6b4c977",
   "metadata": {
    "editable": true
   },
   "source": [
    "and dividing by the non-interacting contribution at the Fermi level,"
   ]
  },
  {
   "cell_type": "markdown",
   "id": "5d3f55d6",
   "metadata": {
    "editable": true
   },
   "source": [
    "$$\n",
    "\\varepsilon_{0}^{F}=\\frac{\\hbar^{2}k_F^{2}}{2m},\n",
    "$$"
   ]
  },
  {
   "cell_type": "markdown",
   "id": "e09571f2",
   "metadata": {
    "editable": true
   },
   "source": [
    "we have"
   ]
  },
  {
   "cell_type": "markdown",
   "id": "2622a202",
   "metadata": {
    "editable": true
   },
   "source": [
    "$$\n",
    "\\frac{\\varepsilon_{k}^{HF} }{\\varepsilon_{0}^{F}}=x^2-\\frac{e^2m}{\\hbar^2 k_F\\pi}F(x)=x^2-\\frac{4}{\\pi k_Fa_0}F(x),\n",
    "$$"
   ]
  },
  {
   "cell_type": "markdown",
   "id": "5cae7791",
   "metadata": {
    "editable": true
   },
   "source": [
    "where $a_0=0.0529$ nm is the Bohr radius, setting thereby a natural length scale."
   ]
  },
  {
   "cell_type": "markdown",
   "id": "63848c6d",
   "metadata": {
    "editable": true
   },
   "source": [
    "## Introducing the radius\n",
    "\n",
    "By introducing the radius $r_s$ of a sphere whose volume is the volume occupied by each electron, we can rewrite the previous equation in terms of $r_s$ using that the electron density $n=N/V$"
   ]
  },
  {
   "cell_type": "markdown",
   "id": "2b7743db",
   "metadata": {
    "editable": true
   },
   "source": [
    "$$\n",
    "n=\\frac{k_F^3}{3\\pi^2} = \\frac{3}{4\\pi r_s^3},\n",
    "$$"
   ]
  },
  {
   "cell_type": "markdown",
   "id": "fca4e371",
   "metadata": {
    "editable": true
   },
   "source": [
    "we have (with $k_F=1.92/r_s$,"
   ]
  },
  {
   "cell_type": "markdown",
   "id": "0f17dd04",
   "metadata": {
    "editable": true
   },
   "source": [
    "$$\n",
    "\\frac{\\varepsilon_{k}^{HF} }{\\varepsilon_{0}^{F}}=x^2-\\frac{e^2m}{\\hbar^2 k_F\\pi}F(x)=x^2-\\frac{r_s}{a_0}0.663F(x),\n",
    "$$"
   ]
  },
  {
   "cell_type": "markdown",
   "id": "a69c0a05",
   "metadata": {
    "editable": true
   },
   "source": [
    "with $r_s \\sim 2-6$ for most metals. \n",
    "\n",
    "It can be convenient to use the Bohr radius $a_0=\\hbar^2/e^2m$.\n",
    "For most metals we have a relation $r_s/a_0\\sim 2-6$."
   ]
  },
  {
   "cell_type": "markdown",
   "id": "48fe1006",
   "metadata": {
    "editable": true
   },
   "source": [
    "## Plot of the energy\n",
    "\n",
    "We can now make a plot of the free electron energy and the Hartree-Fock energy and discuss the behavior around the Fermi surface. We can also  also   the Hartree-Fock band width $\\Delta\\varepsilon^{HF}$ defined as"
   ]
  },
  {
   "cell_type": "markdown",
   "id": "c0cdf8bd",
   "metadata": {
    "editable": true
   },
   "source": [
    "$$\n",
    "\\Delta\\varepsilon^{HF}=\\varepsilon_{k_{F}}^{HF}-\n",
    "\\varepsilon_{0}^{HF}.\n",
    "$$"
   ]
  },
  {
   "cell_type": "markdown",
   "id": "4d4a0c7a",
   "metadata": {
    "editable": true
   },
   "source": [
    "## Band gap\n",
    "\n",
    "We can now define the so-called band gap, that is the scatter between the maximal and the minimal value of the electrons in the conductance band of a metal (up to the Fermi level). \n",
    "For $x=1$ and $r_s/a_0=4$ we have"
   ]
  },
  {
   "cell_type": "markdown",
   "id": "876267db",
   "metadata": {
    "editable": true
   },
   "source": [
    "$$\n",
    "\\frac{\\varepsilon_{k=k_F}^{HF} }{\\varepsilon_{0}^{F}} = -0.326,\n",
    "$$"
   ]
  },
  {
   "cell_type": "markdown",
   "id": "d8820dbc",
   "metadata": {
    "editable": true
   },
   "source": [
    "and for $x=0$ we have"
   ]
  },
  {
   "cell_type": "markdown",
   "id": "78272cff",
   "metadata": {
    "editable": true
   },
   "source": [
    "$$\n",
    "\\frac{\\varepsilon_{k=0}^{HF} }{\\varepsilon_{0}^{F}} = -2.652,\n",
    "$$"
   ]
  },
  {
   "cell_type": "markdown",
   "id": "c027e821",
   "metadata": {
    "editable": true
   },
   "source": [
    "which results in a gap at the Fermi level of"
   ]
  },
  {
   "cell_type": "markdown",
   "id": "2adce160",
   "metadata": {
    "editable": true
   },
   "source": [
    "$$\n",
    "\\Delta \\varepsilon^{HF} = \\frac{\\varepsilon_{k=k_F}^{HF} }{\\varepsilon_{0}^{F}}-\\frac{\\varepsilon_{k=0}^{HF} }{\\varepsilon_{0}^{F}} = 2.326.\n",
    "$$"
   ]
  },
  {
   "cell_type": "markdown",
   "id": "bbac7f0b",
   "metadata": {
    "editable": true
   },
   "source": [
    "## What does the band gap measure?\n",
    "\n",
    "This quantity measures the deviation from the $k=0$ single-particle energy and the energy at the Fermi level.\n",
    "The general result is"
   ]
  },
  {
   "cell_type": "markdown",
   "id": "2a9ba1d2",
   "metadata": {
    "editable": true
   },
   "source": [
    "$$\n",
    "\\Delta \\varepsilon^{HF} = 1+\\frac{r_s}{a_0}0.663.\n",
    "$$"
   ]
  },
  {
   "cell_type": "markdown",
   "id": "b491872d",
   "metadata": {
    "editable": true
   },
   "source": [
    "The following python code produces a plot of the electron energy for a free electron (only kinetic energy) and \n",
    "for the Hartree-Fock solution. We have chosen here a ratio $r_s/a_0=4$ and the equations are plotted as funtions\n",
    "of $k/f_F$."
   ]
  },
  {
   "cell_type": "code",
   "execution_count": 1,
   "id": "b86c0082",
   "metadata": {
    "collapsed": false,
    "editable": true
   },
   "outputs": [],
   "source": [
    "%matplotlib inline\n",
    "\n",
    "import numpy as np\n",
    "from math import log\n",
    "from  matplotlib import pyplot as plt\n",
    "from matplotlib import rc, rcParams\n",
    "import matplotlib.units as units\n",
    "import matplotlib.ticker as ticker\n",
    "rc('text',usetex=True)\n",
    "rc('font',**{'family':'serif','serif':['Hartree-Fock energy']})\n",
    "font = {'family' : 'serif',\n",
    "        'color'  : 'darkred',\n",
    "        'weight' : 'normal',\n",
    "        'size'   : 16,\n",
    "        }\n",
    "\n",
    "N = 100\n",
    "x = np.linspace(0.0, 2.0,N)\n",
    "F = 0.5+np.log(abs((1.0+x)/(1.0-x)))*(1.0-x*x)*0.25/x\n",
    "y = x*x -4.0*0.663*F\n",
    "\n",
    "plt.plot(x, y, 'b-')\n",
    "plt.plot(x, x*x, 'r-')\n",
    "plt.title(r'{\\bf Hartree-Fock single-particle energy for electron gas}', fontsize=20)     \n",
    "plt.text(3, -40, r'Parameters: $r_s/a_0=4$', fontdict=font)\n",
    "plt.xlabel(r'$k/k_F$',fontsize=20)\n",
    "plt.ylabel(r'$\\varepsilon_k^{HF}/\\varepsilon_0^F$',fontsize=20)\n",
    "# Tweak spacing to prevent clipping of ylabel\n",
    "plt.subplots_adjust(left=0.15)\n",
    "plt.savefig('hartreefockspelgas.pdf', format='pdf')\n",
    "plt.show()"
   ]
  },
  {
   "cell_type": "markdown",
   "id": "8564ecde",
   "metadata": {
    "editable": true
   },
   "source": [
    "From the plot we notice that the exchange term increases considerably the band gap\n",
    "compared with the non-interacting gas of electrons."
   ]
  },
  {
   "cell_type": "markdown",
   "id": "0679bd52",
   "metadata": {
    "editable": true
   },
   "source": [
    "## Effective mass\n",
    "\n",
    "We will now define a quantity called the effective mass.\n",
    "For $\\vert\\mathbf{k}\\vert$ near $k_{F}$, we can Taylor expand the Hartree-Fock energy as"
   ]
  },
  {
   "cell_type": "markdown",
   "id": "ecf2cd52",
   "metadata": {
    "editable": true
   },
   "source": [
    "$$\n",
    "\\varepsilon_{k}^{HF}=\\varepsilon_{k_{F}}^{HF}+\n",
    "\\left(\\frac{\\partial\\varepsilon_{k}^{HF}}{\\partial k}\\right)_{k_{F}}(k-k_{F})+\\dots\n",
    "$$"
   ]
  },
  {
   "cell_type": "markdown",
   "id": "bf781329",
   "metadata": {
    "editable": true
   },
   "source": [
    "If we compare the latter with the corresponding expressiyon for the non-interacting system"
   ]
  },
  {
   "cell_type": "markdown",
   "id": "e1ab60e0",
   "metadata": {
    "editable": true
   },
   "source": [
    "$$\n",
    "\\varepsilon_{k}^{(0)}=\\frac{\\hbar^{2}k^{2}_{F}}{2m}+\n",
    "\\frac{\\hbar^{2}k_{F}}{m}\\left(k-k_{F}\\right)+\\dots ,\n",
    "$$"
   ]
  },
  {
   "cell_type": "markdown",
   "id": "d389adfe",
   "metadata": {
    "editable": true
   },
   "source": [
    "we can define the so-called effective Hartree-Fock mass as"
   ]
  },
  {
   "cell_type": "markdown",
   "id": "c59ee1ec",
   "metadata": {
    "editable": true
   },
   "source": [
    "$$\n",
    "m_{HF}^{*}\\equiv\\hbar^{2}k_{F}\\left(\n",
    "\\frac{\\partial\\varepsilon_{k}^{HF}}\n",
    "{\\partial k}\\right)_{k_{F}}^{-1}\n",
    "$$"
   ]
  },
  {
   "cell_type": "markdown",
   "id": "ec2ad408",
   "metadata": {
    "editable": true
   },
   "source": [
    "## Exercise 1: Effective mass\n",
    "\n",
    "Compute $m_{HF}^{*}$ and comment your results.\n",
    "Show that the level density (the number of single-electron states per unit energy) can be written as"
   ]
  },
  {
   "cell_type": "markdown",
   "id": "a1bae3a2",
   "metadata": {
    "editable": true
   },
   "source": [
    "$$\n",
    "n(\\varepsilon)=\\frac{Vk^{2}}{2\\pi^{2}}\\left(\n",
    "\\frac{\\partial\\varepsilon}{\\partial k}\\right)^{-1}\n",
    "$$"
   ]
  },
  {
   "cell_type": "markdown",
   "id": "69fbd9b6",
   "metadata": {
    "editable": true
   },
   "source": [
    "Calculate thereafter $n(\\varepsilon_{F}^{HF})$ and comment the results."
   ]
  },
  {
   "cell_type": "markdown",
   "id": "1529a53e",
   "metadata": {
    "editable": true
   },
   "source": [
    "## Hartree-Fock ground state energy for the  electron gas in three dimensions\n",
    "\n",
    "We consider a system of electrons in infinite matter, the so-called electron gas. This is a homogeneous system and the one-particle states are given by plane wave function normalized to a volume $V$ \n",
    "for a box with length $L$ (the limit $L\\rightarrow \\infty$ is to be taken after we have computed various expectation values)"
   ]
  },
  {
   "cell_type": "markdown",
   "id": "2c24020c",
   "metadata": {
    "editable": true
   },
   "source": [
    "$$\n",
    "\\psi_{\\mathbf{k}\\sigma}(\\mathbf{r})= \\frac{1}{\\sqrt{V}}\\exp{(i\\mathbf{kr})}\\xi_{\\sigma}\n",
    "$$"
   ]
  },
  {
   "cell_type": "markdown",
   "id": "76611f4a",
   "metadata": {
    "editable": true
   },
   "source": [
    "where $\\mathbf{k}$ is the wave number and  $\\xi_{\\sigma}$ is a spin function for either spin up or down"
   ]
  },
  {
   "cell_type": "markdown",
   "id": "ad15fab9",
   "metadata": {
    "editable": true
   },
   "source": [
    "$$\n",
    "\\xi_{\\sigma=+1/2}=\\left(\\begin{array}{c} 1 \\\\ 0 \\end{array}\\right) \\hspace{0.5cm}\n",
    "\\xi_{\\sigma=-1/2}=\\left(\\begin{array}{c} 0 \\\\ 1 \\end{array}\\right).\n",
    "$$"
   ]
  },
  {
   "cell_type": "markdown",
   "id": "61efb485",
   "metadata": {
    "editable": true
   },
   "source": [
    "## Periodic boundary conditions\n",
    "\n",
    "We assume that we have periodic boundary conditions which limit the allowed wave numbers to"
   ]
  },
  {
   "cell_type": "markdown",
   "id": "68645df0",
   "metadata": {
    "editable": true
   },
   "source": [
    "$$\n",
    "k_i=\\frac{2\\pi n_i}{L}\\hspace{0.5cm} i=x,y,z \\hspace{0.5cm} n_i=0,\\pm 1,\\pm 2, \\dots\n",
    "$$"
   ]
  },
  {
   "cell_type": "markdown",
   "id": "04a0f828",
   "metadata": {
    "editable": true
   },
   "source": [
    "We assume first that the particles interact via a central, symmetric and translationally invariant\n",
    "interaction  $V(r_{12})$ with\n",
    "$r_{12}=|\\mathbf{r}_1-\\mathbf{r}_2|$.  The interaction is spin independent."
   ]
  },
  {
   "cell_type": "markdown",
   "id": "7a742cbe",
   "metadata": {
    "editable": true
   },
   "source": [
    "## Total Hamiltonian\n",
    "\n",
    "The total Hamiltonian consists then of kinetic and potential energy"
   ]
  },
  {
   "cell_type": "markdown",
   "id": "1048eaf3",
   "metadata": {
    "editable": true
   },
   "source": [
    "$$\n",
    "\\hat{H} = \\hat{T}+\\hat{V}.\n",
    "$$"
   ]
  },
  {
   "cell_type": "markdown",
   "id": "4d63e161",
   "metadata": {
    "editable": true
   },
   "source": [
    "The operator for the kinetic energy is given by"
   ]
  },
  {
   "cell_type": "markdown",
   "id": "e1464b79",
   "metadata": {
    "editable": true
   },
   "source": [
    "$$\n",
    "\\hat{T}=\\sum_{\\mathbf{k}\\sigma}\\frac{\\hbar^2k^2}{2m}a_{\\mathbf{k}\\sigma}^{\\dagger}a_{\\mathbf{k}\\sigma}.\n",
    "$$"
   ]
  },
  {
   "cell_type": "markdown",
   "id": "9093e9ee",
   "metadata": {
    "editable": true
   },
   "source": [
    "## Exercise 2: Express interaction using creation and annihilation operators\n",
    "\n",
    "Find the expression for the interaction\n",
    "$\\hat{V}$ expressed with creation and annihilation operators.\n",
    "\n",
    "The expression for the interaction\n",
    "has to be written in  $k$ space, even though $V$ depends only on the relative distance. It means that you need to set up the Fourier transform $\\langle \\mathbf{k}_i\\mathbf{k}_j| V | \\mathbf{k}_m\\mathbf{k}_n\\rangle$.\n",
    "\n",
    "A general two-body interaction element is given by (not using anti-symmetrized matrix elements)"
   ]
  },
  {
   "cell_type": "markdown",
   "id": "1d893eee",
   "metadata": {
    "editable": true
   },
   "source": [
    "$$\n",
    "\\hat{V} = \\frac{1}{2} \\sum_{pqrs} \\langle pq \\hat{v} \\vert rs\\rangle a_p^\\dagger a_q^\\dagger a_s a_r ,\n",
    "$$"
   ]
  },
  {
   "cell_type": "markdown",
   "id": "fbadeb97",
   "metadata": {
    "editable": true
   },
   "source": [
    "where $\\hat{v}$ is assumed to depend only on the relative distance between two interacting particles, that is\n",
    "$\\hat{v} = v(\\vec r_1, \\vec r_2) = v(|\\vec r_1 - \\vec r_2|) = v(r)$, with $r = |\\vec r_1 - \\vec r_2|$)."
   ]
  },
  {
   "cell_type": "markdown",
   "id": "d1341b5e",
   "metadata": {
    "editable": true
   },
   "source": [
    "## With spin degrees of freedom\n",
    "\n",
    "In our case we have, writing out explicitely the spin degrees of freedom as well"
   ]
  },
  {
   "cell_type": "markdown",
   "id": "4d9b5f16",
   "metadata": {
    "editable": true
   },
   "source": [
    "<!-- Equation labels as ordinary links -->\n",
    "<div id=\"_auto8\"></div>\n",
    "\n",
    "$$\n",
    "\\begin{equation}\n",
    "\\hat{V} = \\frac{1}{2} \\sum_{\\substack{\\sigma_p \\sigma_q \\\\ \\sigma_r \\sigma_s}}\n",
    "\\sum_{\\substack{\\mathbf{k}_p \\mathbf{k}_q \\\\ \\mathbf{k}_r \\mathbf{k}_s}}\n",
    "\\langle \\mathbf{k}_p \\sigma_p, \\mathbf{k}_q \\sigma_2\\vert v \\vert \\mathbf{k}_r \\sigma_3, \\mathbf{k}_s \\sigma_s\\rangle\n",
    "a_{\\mathbf{k}_p \\sigma_p}^\\dagger a_{\\mathbf{k}_q \\sigma_q}^\\dagger a_{\\mathbf{k}_s \\sigma_s} a_{\\mathbf{k}_r \\sigma_r} .\n",
    "\\label{_auto8} \\tag{8}\n",
    "\\end{equation}\n",
    "$$"
   ]
  },
  {
   "cell_type": "markdown",
   "id": "b8b32dbb",
   "metadata": {
    "editable": true
   },
   "source": [
    "## Plane waves\n",
    "\n",
    "Inserting plane waves as eigenstates we can rewrite the matrix element as"
   ]
  },
  {
   "cell_type": "markdown",
   "id": "37b893ec",
   "metadata": {
    "editable": true
   },
   "source": [
    "$$\n",
    "\\langle \\mathbf{k}_p \\sigma_p, \\mathbf{k}_q \\sigma_q\\vert \\hat{v} \\vert \\mathbf{k}_r \\sigma_r, \\mathbf{k}_s \\sigma_s\\rangle =\n",
    "\\frac{1}{V^2} \\delta_{\\sigma_p \\sigma_r} \\delta_{\\sigma_q \\sigma_s}\n",
    "\\int\\int \\exp{-i(\\mathbf{k}_p \\cdot \\mathbf{r}_p)} \\exp{-i( \\mathbf{k}_q \\cdot \\mathbf{r}_q)} \\hat{v}(r) \\exp{i(\\mathbf{k}_r \\cdot \\mathbf{r}_p)} \\exp{i( \\mathbf{k}_s \\cdot \\mathbf{r}_q)} d\\mathbf{r}_p d\\mathbf{r}_q ,\n",
    "$$"
   ]
  },
  {
   "cell_type": "markdown",
   "id": "392669e1",
   "metadata": {
    "editable": true
   },
   "source": [
    "where we have used the orthogonality properties of the spin functions. We change now the variables of integration\n",
    "by defining $\\mathbf{r} = \\mathbf{r}_p - \\mathbf{r}_q$, which gives $\\mathbf{r}_p = \\mathbf{r} + \\mathbf{r}_q$ and $d^3 \\mathbf{r} = d^3 \\mathbf{r}_p$."
   ]
  },
  {
   "cell_type": "markdown",
   "id": "b1fcd954",
   "metadata": {
    "editable": true
   },
   "source": [
    "## Integration limits\n",
    "\n",
    "The limits are not changed since they are from $-\\infty$ to  $\\infty$ for all integrals. This results in"
   ]
  },
  {
   "cell_type": "markdown",
   "id": "0be274e6",
   "metadata": {
    "editable": true
   },
   "source": [
    "$$\n",
    "\\begin{align*}\n",
    "\\langle \\mathbf{k}_p \\sigma_p, \\mathbf{k}_q \\sigma_q\\vert \\hat{v} \\vert \\mathbf{k}_r \\sigma_r, \\mathbf{k}_s \\sigma_s\\rangle\n",
    "&= \\frac{1}{V^2} \\delta_{\\sigma_p \\sigma_r} \\delta_{\\sigma_q \\sigma_s} \\int\\exp{i (\\mathbf{k}_s - \\mathbf{k}_q) \\cdot \\mathbf{r}_q} \\int v(r) \\exp{i(\\mathbf{k}_r - \\mathbf{k}_p) \\cdot ( \\mathbf{r} + \\mathbf{r}_q)} d\\mathbf{r} d\\mathbf{r}_q \\\\\n",
    "&= \\frac{1}{V^2} \\delta_{\\sigma_p \\sigma_r} \\delta_{\\sigma_q \\sigma_s} \\int v(r) \\exp{i\\left[(\\mathbf{k}_r - \\mathbf{k}_p) \\cdot \\mathbf{r}\\right]}\n",
    "\\int \\exp{i\\left[(\\mathbf{k}_s - \\mathbf{k}_q + \\mathbf{k}_r - \\mathbf{k}_p) \\cdot \\mathbf{r}_q\\right]} d\\mathbf{r}_q d\\mathbf{r} .\n",
    "\\end{align*}\n",
    "$$"
   ]
  },
  {
   "cell_type": "markdown",
   "id": "6a6c419e",
   "metadata": {
    "editable": true
   },
   "source": [
    "## Recognizing integral\n",
    "\n",
    "We recognize the integral over $\\mathbf{r}_q$ as a $\\delta$-function, resulting in"
   ]
  },
  {
   "cell_type": "markdown",
   "id": "bdf709b4",
   "metadata": {
    "editable": true
   },
   "source": [
    "$$\n",
    "\\langle \\mathbf{k}_p \\sigma_p, \\mathbf{k}_q \\sigma_q\\vert \\hat{v} \\vert \\mathbf{k}_r \\sigma_r, \\mathbf{k}_s \\sigma_s\\rangle =\n",
    "\\frac{1}{V} \\delta_{\\sigma_p \\sigma_r} \\delta_{\\sigma_q \\sigma_s} \\delta_{(\\mathbf{k}_p + \\mathbf{k}_q),(\\mathbf{k}_r + \\mathbf{k}_s)} \\int v(r) \\exp{i\\left[(\\mathbf{k}_r - \\mathbf{k}_p) \\cdot \\mathbf{r}\\right]} d^3r .\n",
    "$$"
   ]
  },
  {
   "cell_type": "markdown",
   "id": "9c433a42",
   "metadata": {
    "editable": true
   },
   "source": [
    "For this equation to be different from zero, we must have conservation of momenta, we need to satisfy\n",
    "$\\mathbf{k}_p + \\mathbf{k}_q = \\mathbf{k}_r + \\mathbf{k}_s$."
   ]
  },
  {
   "cell_type": "markdown",
   "id": "76e4bd7a",
   "metadata": {
    "editable": true
   },
   "source": [
    "## Conservation of momentum\n",
    "\n",
    "We can use the conservation of momenta to remove one of the summation variables resulting in"
   ]
  },
  {
   "cell_type": "markdown",
   "id": "a8c76458",
   "metadata": {
    "editable": true
   },
   "source": [
    "$$\n",
    "\\hat{V} =\n",
    "\\frac{1}{2V} \\sum_{\\sigma \\sigma'} \\sum_{\\mathbf{k}_p \\mathbf{k}_q \\mathbf{k}_r} \\left[ \\int v(r) \\exp{i\\left[(\\mathbf{k}_r - \\mathbf{k}_p) \\cdot \\mathbf{r}\\right]} d^3r \\right]\n",
    "a_{\\mathbf{k}_p \\sigma}^\\dagger a_{\\mathbf{k}_q \\sigma'}^\\dagger a_{\\mathbf{k}_p + \\mathbf{k}_q - \\mathbf{k}_r, \\sigma'} a_{\\mathbf{k}_r \\sigma},\n",
    "$$"
   ]
  },
  {
   "cell_type": "markdown",
   "id": "f99a82b9",
   "metadata": {
    "editable": true
   },
   "source": [
    "which can be rewritten as"
   ]
  },
  {
   "cell_type": "markdown",
   "id": "cacf115b",
   "metadata": {
    "editable": true
   },
   "source": [
    "<!-- Equation labels as ordinary links -->\n",
    "<div id=\"eq:V\"></div>\n",
    "\n",
    "$$\n",
    "\\begin{equation}\n",
    "\\hat{V} =\n",
    "\\frac{1}{2V} \\sum_{\\sigma \\sigma'} \\sum_{\\mathbf{k} \\mathbf{p} \\mathbf{q}} \\left[ \\int v(r) \\exp{-i( \\mathbf{q} \\cdot \\mathbf{r})} d\\mathbf{r} \\right]\n",
    "a_{\\mathbf{k} + \\mathbf{q}, \\sigma}^\\dagger a_{\\mathbf{p} - \\mathbf{q}, \\sigma'}^\\dagger a_{\\mathbf{p} \\sigma'} a_{\\mathbf{k} \\sigma},\n",
    "\\label{eq:V} \\tag{9}\n",
    "\\end{equation}\n",
    "$$"
   ]
  },
  {
   "cell_type": "markdown",
   "id": "44c9984f",
   "metadata": {
    "editable": true
   },
   "source": [
    "## Some definitions\n",
    "\n",
    "In the last equation we defined\n",
    "the quantities\n",
    "$\\mathbf{p} = \\mathbf{k}_p + \\mathbf{k}_q - \\mathbf{k}_r$, $\\mathbf{k} = \\mathbf{k}_r$ og $\\mathbf{q} = \\mathbf{k}_p - \\mathbf{k}_r$."
   ]
  },
  {
   "cell_type": "markdown",
   "id": "452c423a",
   "metadata": {
    "editable": true
   },
   "source": [
    "## Reference energy\n",
    "\n",
    "Let us now compute the expectation value of the reference energy using the expressions for the kinetic energy operator and the interaction.\n",
    "We need to compute $\\langle \\Phi_0\\vert \\hat{H} \\vert \\Phi_0\\rangle = \\langle \\Phi_0\\vert \\hat{T} \\vert \\Phi_0\\rangle + \\langle \\Phi_0\\vert \\hat{V} \\vert \\Phi_0\\rangle$, where $\\vert \\Phi_0\\rangle$ is our reference Slater determinant, constructed from filling all single-particle states up to the Fermi level.\n",
    "Let us start with the kinetic energy first"
   ]
  },
  {
   "cell_type": "markdown",
   "id": "e7017df1",
   "metadata": {
    "editable": true
   },
   "source": [
    "$$\n",
    "\\langle \\Phi_0\\vert \\hat{T} \\vert \\Phi_0\\rangle \n",
    "= \\langle \\Phi_0\\vert \\left( \\sum_{\\mathbf{p} \\sigma} \\frac{\\hbar^2 p^2}{2m} a_{\\mathbf{p} \\sigma}^\\dagger a_{\\mathbf{p} \\sigma} \\right) \\vert \\Phi_0\\rangle \\\\\n",
    "= \\sum_{\\mathbf{p} \\sigma} \\frac{\\hbar^2 p^2}{2m} \\langle \\Phi_0\\vert a_{\\mathbf{p} \\sigma}^\\dagger a_{\\mathbf{p} \\sigma} \\vert \\Phi_0\\rangle .\n",
    "$$"
   ]
  },
  {
   "cell_type": "markdown",
   "id": "be13c139",
   "metadata": {
    "editable": true
   },
   "source": [
    "## Kinetic  energy\n",
    "\n",
    "From the possible contractions using Wick's theorem, it is straightforward to convince oneself that the expression for the kinetic energy becomes"
   ]
  },
  {
   "cell_type": "markdown",
   "id": "8d52a3f8",
   "metadata": {
    "editable": true
   },
   "source": [
    "$$\n",
    "\\langle \\Phi_0\\vert \\hat{T} \\vert \\Phi_0\\rangle = \\sum_{\\mathbf{i} \\leq F} \\frac{\\hbar^2 k_i^2}{m} = \\frac{V}{(2\\pi)^3} \\frac{\\hbar^2}{m} \\int_0^{k_F} k^2 d\\mathbf{k}.\n",
    "$$"
   ]
  },
  {
   "cell_type": "markdown",
   "id": "8751e8e3",
   "metadata": {
    "editable": true
   },
   "source": [
    "The sum of the spin degrees of freedom results in  a factor of two only if we deal with identical spin $1/2$ fermions. \n",
    "Changing to spherical coordinates, the integral over the momenta $k$ results in the final expression"
   ]
  },
  {
   "cell_type": "markdown",
   "id": "77bebd34",
   "metadata": {
    "editable": true
   },
   "source": [
    "$$\n",
    "\\langle \\Phi_0\\vert \\hat{T} \\vert \\Phi_0\\rangle = \\frac{V}{(2\\pi)^3} \\left( 4\\pi \\int_0^{k_F} k^4 d\\mathbf{k} \\right) = \\frac{4\\pi V}{(2\\pi)^3} \\frac{1}{5} k_F^5 = \\frac{4\\pi V}{5(2\\pi)^3} k_F^5 = \\frac{\\hbar^2 V}{10\\pi^2 m} k_F^5 .\n",
    "$$"
   ]
  },
  {
   "cell_type": "markdown",
   "id": "fde01f53",
   "metadata": {
    "editable": true
   },
   "source": [
    "## Density of states\n",
    "\n",
    "The density of states in momentum space is given by $2V/(2\\pi)^3$, where we have included the degeneracy due to the spin degrees of freedom.\n",
    "The volume is given by  $4\\pi k_F^3/3$, and the number of particles becomes"
   ]
  },
  {
   "cell_type": "markdown",
   "id": "ae00c72a",
   "metadata": {
    "editable": true
   },
   "source": [
    "$$\n",
    "N = \\frac{2V}{(2\\pi)^3} \\frac{4}{3} \\pi k_F^3 = \\frac{V}{3\\pi^2} k_F^3 \\quad \\Rightarrow \\quad\n",
    "k_F = \\left( \\frac{3\\pi^2 N}{V} \\right)^{1/3}.\n",
    "$$"
   ]
  },
  {
   "cell_type": "markdown",
   "id": "02c60c61",
   "metadata": {
    "editable": true
   },
   "source": [
    "This gives us"
   ]
  },
  {
   "cell_type": "markdown",
   "id": "08cfc2e1",
   "metadata": {
    "editable": true
   },
   "source": [
    "<!-- Equation labels as ordinary links -->\n",
    "<div id=\"eq:T_forventning\"></div>\n",
    "\n",
    "$$\n",
    "\\begin{equation}\n",
    "\\langle \\Phi_0\\vert \\hat{T} \\vert \\Phi_0\\rangle =\n",
    "\\frac{\\hbar^2 V}{10\\pi^2 m} \\left( \\frac{3\\pi^2 N}{V} \\right)^{5/3} =\n",
    "\\frac{\\hbar^2 (3\\pi^2)^{5/3} N}{10\\pi^2 m} \\rho^{2/3} ,\n",
    "\\label{eq:T_forventning} \\tag{10}\n",
    "\\end{equation}\n",
    "$$"
   ]
  },
  {
   "cell_type": "markdown",
   "id": "8ffbbc8b",
   "metadata": {
    "editable": true
   },
   "source": [
    "## Potential energy\n",
    "\n",
    "We are now ready to calculate the expectation value of the potential energy"
   ]
  },
  {
   "cell_type": "markdown",
   "id": "5a27ffc1",
   "metadata": {
    "editable": true
   },
   "source": [
    "$$\n",
    "\\begin{align*}\n",
    "\\langle \\Phi_0\\vert \\hat{V} \\vert \\Phi_0\\rangle \n",
    "&= \\langle \\Phi_0\\vert \\left( \\frac{1}{2V} \\sum_{\\sigma \\sigma'} \\sum_{\\mathbf{k} \\mathbf{p} \\mathbf{q} } \\left[ \\int v(r) \\exp{-i (\\mathbf{q} \\cdot \\mathbf{r})} d\\mathbf{r} \\right] a_{\\mathbf{k} + \\mathbf{q}, \\sigma}^\\dagger a_{\\mathbf{p} - \\mathbf{q}, \\sigma'}^\\dagger a_{\\mathbf{p} \\sigma'} a_{\\mathbf{k} \\sigma} \\right) \\vert \\Phi_0\\rangle \\\\\n",
    "&= \\frac{1}{2V} \\sum_{\\sigma \\sigma'} \\sum_{\\mathbf{k} \\mathbf{p} \\mathbf{q}} \\left[ \\int v(r) \\exp{-i (\\mathbf{q} \\cdot \\mathbf{r})} d\\mathbf{r} \\right]\\langle \\Phi_0\\vert a_{\\mathbf{k} + \\mathbf{q}, \\sigma}^\\dagger a_{\\mathbf{p} - \\mathbf{q}, \\sigma'}^\\dagger a_{\\mathbf{p} \\sigma'} a_{\\mathbf{k} \\sigma} \\vert \\Phi_0\\rangle .\n",
    "\\end{align*}\n",
    "$$"
   ]
  },
  {
   "cell_type": "markdown",
   "id": "f44779c1",
   "metadata": {
    "editable": true
   },
   "source": [
    "## Non-zero term\n",
    "\n",
    "The only contractions which result in non-zero results are those that involve states below the Fermi level, that is \n",
    "$k \\leq k_F$, $p \\leq k_F$, $|\\mathbf{p} - \\mathbf{q}| < \\mathbf{k}_F$ and $|\\mathbf{k} + \\mathbf{q}| \\leq k_F$. Due to momentum conservation we must also have $\\mathbf{k} + \\mathbf{q} = \\mathbf{p}$, $\\mathbf{p} - \\mathbf{q} = \\mathbf{k}$ and  $\\sigma = \\sigma'$ or  $\\mathbf{k} + \\mathbf{q} = \\mathbf{k}$ and $\\mathbf{p} - \\mathbf{q} = \\mathbf{p}$. \n",
    "Summarizing, we must have"
   ]
  },
  {
   "cell_type": "markdown",
   "id": "208fcebb",
   "metadata": {
    "editable": true
   },
   "source": [
    "$$\n",
    "\\mathbf{k} + \\mathbf{q} = \\mathbf{p} \\quad \\text{and} \\quad \\sigma = \\sigma', \\qquad\n",
    "\\text{or} \\qquad\n",
    "\\mathbf{q} = \\mathbf{0} .\n",
    "$$"
   ]
  },
  {
   "cell_type": "markdown",
   "id": "4a2a14d9",
   "metadata": {
    "editable": true
   },
   "source": [
    "## Direct and exchange terms\n",
    "\n",
    "We obtain then"
   ]
  },
  {
   "cell_type": "markdown",
   "id": "49f28380",
   "metadata": {
    "editable": true
   },
   "source": [
    "$$\n",
    "\\langle \\Phi_0\\vert \\hat{V} \\vert \\Phi_0\\rangle =\n",
    "\\frac{1}{2V} \\left( \\sum_{\\sigma \\sigma'} \\sum_{\\mathbf{q} \\mathbf{p} \\leq F} \\left[ \\int v(r) d\\mathbf{r} \\right] - \\sum_{\\sigma}\n",
    "\\sum_{\\mathbf{q} \\mathbf{p} \\leq F} \\left[ \\int v(r) \\exp{-i (\\mathbf{q} \\cdot \\mathbf{r})} d\\mathbf{r} \\right] \\right).\n",
    "$$"
   ]
  },
  {
   "cell_type": "markdown",
   "id": "c77602d6",
   "metadata": {
    "editable": true
   },
   "source": [
    "The first term is the so-called direct term while the second term is the exchange term."
   ]
  },
  {
   "cell_type": "markdown",
   "id": "bebf9f2a",
   "metadata": {
    "editable": true
   },
   "source": [
    "## Potential energy\n",
    "\n",
    "We can rewrite this equation as (and this applies to any potential which depends only on the relative distance between particles)"
   ]
  },
  {
   "cell_type": "markdown",
   "id": "e6a04f09",
   "metadata": {
    "editable": true
   },
   "source": [
    "<!-- Equation labels as ordinary links -->\n",
    "<div id=\"eq:V_b\"></div>\n",
    "\n",
    "$$\n",
    "\\begin{equation}\n",
    "\\langle \\Phi_0\\vert \\hat{V} \\vert \\Phi_0\\rangle =\n",
    "\\frac{1}{2V} \\left( N^2 \\left[ \\int v(r) d\\mathbf{r} \\right] - N \\sum_{\\mathbf{q}} \\left[ \\int v(r) \\exp{-i (\\mathbf{q}\\cdot \\mathbf{r})} d\\mathbf{r} \\right] \\right),\n",
    "\\label{eq:V_b} \\tag{11}\n",
    "\\end{equation}\n",
    "$$"
   ]
  },
  {
   "cell_type": "markdown",
   "id": "3de7f617",
   "metadata": {
    "editable": true
   },
   "source": [
    "where we have used the fact that a sum like $\\sum_{\\sigma}\\sum_{\\mathbf{k}}$ equals the number of particles. Using the fact that the density is given by\n",
    "$\\rho = N/V$, with $V$ being our volume, we can rewrite the last equation as"
   ]
  },
  {
   "cell_type": "markdown",
   "id": "87561bc5",
   "metadata": {
    "editable": true
   },
   "source": [
    "$$\n",
    "\\langle \\Phi_0\\vert \\hat{V} \\vert \\Phi_0\\rangle =\n",
    "\\frac{1}{2} \\left( \\rho N \\left[ \\int v(r) d\\mathbf{r} \\right] - \\rho\\sum_{\\mathbf{q}} \\left[ \\int v(r) \\exp{-i (\\mathbf{q}\\cdot \\mathbf{r})} d\\mathbf{r} \\right] \\right).\n",
    "$$"
   ]
  },
  {
   "cell_type": "markdown",
   "id": "412b9138",
   "metadata": {
    "editable": true
   },
   "source": [
    "## Interaction part\n",
    "\n",
    "For the electron gas\n",
    "the interaction part of the Hamiltonian operator is given by"
   ]
  },
  {
   "cell_type": "markdown",
   "id": "8df342a6",
   "metadata": {
    "editable": true
   },
   "source": [
    "$$\n",
    "\\hat{H}_I=\\hat{H}_{el}+\\hat{H}_{b}+\\hat{H}_{el-b},\n",
    "$$"
   ]
  },
  {
   "cell_type": "markdown",
   "id": "0cbf781c",
   "metadata": {
    "editable": true
   },
   "source": [
    "with the electronic part"
   ]
  },
  {
   "cell_type": "markdown",
   "id": "aacc30f7",
   "metadata": {
    "editable": true
   },
   "source": [
    "$$\n",
    "\\hat{H}_{el}=\\sum_{i=1}^N\\frac{p_i^2}{2m}+\\frac{e^2}{2}\\sum_{i\\ne j}\\frac{e^{-\\mu |\\mathbf{r}_i-\\mathbf{r}_j|}}{|\\mathbf{r}_i-\\mathbf{r}_j|},\n",
    "$$"
   ]
  },
  {
   "cell_type": "markdown",
   "id": "c93296e3",
   "metadata": {
    "editable": true
   },
   "source": [
    "where we have introduced an explicit convergence factor\n",
    "(the limit $\\mu\\rightarrow 0$ is performed after having calculated the various integrals)."
   ]
  },
  {
   "cell_type": "markdown",
   "id": "22ee7b40",
   "metadata": {
    "editable": true
   },
   "source": [
    "## Positive background\n",
    "\n",
    "Correspondingly, we have"
   ]
  },
  {
   "cell_type": "markdown",
   "id": "a33a0bb4",
   "metadata": {
    "editable": true
   },
   "source": [
    "$$\n",
    "\\hat{H}_{b}=\\frac{e^2}{2}\\int\\int d\\mathbf{r}d\\mathbf{r}'\\frac{n(\\mathbf{r})n(\\mathbf{r}')e^{-\\mu |\\mathbf{r}-\\mathbf{r}'|}}{|\\mathbf{r}-\\mathbf{r}'|},\n",
    "$$"
   ]
  },
  {
   "cell_type": "markdown",
   "id": "18f0744f",
   "metadata": {
    "editable": true
   },
   "source": [
    "which is the energy contribution from the positive background charge with density\n",
    "$n(\\mathbf{r})=N/V$. Finally,"
   ]
  },
  {
   "cell_type": "markdown",
   "id": "b66a3991",
   "metadata": {
    "editable": true
   },
   "source": [
    "$$\n",
    "\\hat{H}_{el-b}=-\\frac{e^2}{2}\\sum_{i=1}^N\\int d\\mathbf{r}\\frac{n(\\mathbf{r})e^{-\\mu |\\mathbf{r}-\\mathbf{x}_i|}}{|\\mathbf{r}-\\mathbf{x}_i|},\n",
    "$$"
   ]
  },
  {
   "cell_type": "markdown",
   "id": "ff37b33f",
   "metadata": {
    "editable": true
   },
   "source": [
    "is the interaction between the electrons and the positive background."
   ]
  },
  {
   "cell_type": "markdown",
   "id": "62d658ab",
   "metadata": {
    "editable": true
   },
   "source": [
    "## Positive charge contribution\n",
    "\n",
    "We can show that"
   ]
  },
  {
   "cell_type": "markdown",
   "id": "75f60d2d",
   "metadata": {
    "editable": true
   },
   "source": [
    "$$\n",
    "\\hat{H}_{b}=\\frac{e^2}{2}\\frac{N^2}{V}\\frac{4\\pi}{\\mu^2},\n",
    "$$"
   ]
  },
  {
   "cell_type": "markdown",
   "id": "8d42af9b",
   "metadata": {
    "editable": true
   },
   "source": [
    "and"
   ]
  },
  {
   "cell_type": "markdown",
   "id": "74f5bb67",
   "metadata": {
    "editable": true
   },
   "source": [
    "$$\n",
    "\\hat{H}_{el-b}=-e^2\\frac{N^2}{V}\\frac{4\\pi}{\\mu^2}.\n",
    "$$"
   ]
  },
  {
   "cell_type": "markdown",
   "id": "db8cf436",
   "metadata": {
    "editable": true
   },
   "source": [
    "## Thermodynamic limit\n",
    "\n",
    "For the electron gas and a Coulomb interaction, these two terms are cancelled (in the thermodynamic limit) by the contribution from the direct term arising\n",
    "from the repulsive electron-electron interaction. What remains then  when computing the reference energy is only the kinetic energy contribution and the contribution from the exchange term.  For other interactions, like nuclear forces with a short range part and no infinite range, we need to compute both the direct term and the exchange term. \n",
    "\n",
    "We can show that the final Hamiltonian can be written as"
   ]
  },
  {
   "cell_type": "markdown",
   "id": "d2bd4bd3",
   "metadata": {
    "editable": true
   },
   "source": [
    "$$\n",
    "H=H_{0}+H_{I},\n",
    "$$"
   ]
  },
  {
   "cell_type": "markdown",
   "id": "aa3134c0",
   "metadata": {
    "editable": true
   },
   "source": [
    "with"
   ]
  },
  {
   "cell_type": "markdown",
   "id": "33f7b010",
   "metadata": {
    "editable": true
   },
   "source": [
    "$$\n",
    "H_{0}={\\displaystyle\\sum_{\\mathbf{k}\\sigma}}\n",
    "\\frac{\\hbar^{2}k^{2}}{2m}a_{\\mathbf{k}\\sigma}^{\\dagger}\n",
    "a_{\\mathbf{k}\\sigma},\n",
    "$$"
   ]
  },
  {
   "cell_type": "markdown",
   "id": "e5ca3e16",
   "metadata": {
    "editable": true
   },
   "source": [
    "and"
   ]
  },
  {
   "cell_type": "markdown",
   "id": "971d8f20",
   "metadata": {
    "editable": true
   },
   "source": [
    "$$\n",
    "H_{I}=\\frac{e^{2}}{2V}{\\displaystyle\\sum_{\\sigma_{1}\\sigma_{2}}}{\\displaystyle\\sum_{\\mathbf{q}\\neq 0,\\mathbf{k},\\mathbf{p}}}\\frac{4\\pi}{q^{2}}\n",
    "a_{\\mathbf{k}+\\mathbf{q},\\sigma_{1}}^{\\dagger}\n",
    "a_{\\mathbf{p}-\\mathbf{q},\\sigma_{2}}^{\\dagger}\n",
    "a_{\\mathbf{p}\\sigma_{2}}a_{\\mathbf{k}\\sigma_{1}}.\n",
    "$$"
   ]
  },
  {
   "cell_type": "markdown",
   "id": "04dd5848",
   "metadata": {
    "editable": true
   },
   "source": [
    "## Exercise 3: ground state energy\n",
    "\n",
    "Calculate $E_0/N=\\langle \\Phi_{0}\\vert H\\vert \\Phi_{0}\\rangle/N$ for for this system to first order in the interaction. Show that, by using"
   ]
  },
  {
   "cell_type": "markdown",
   "id": "6b4d99c0",
   "metadata": {
    "editable": true
   },
   "source": [
    "$$\n",
    "\\rho= \\frac{k_F^3}{3\\pi^2}=\\frac{3}{4\\pi r_0^3},\n",
    "$$"
   ]
  },
  {
   "cell_type": "markdown",
   "id": "095f4949",
   "metadata": {
    "editable": true
   },
   "source": [
    "with $\\rho=N/V$, $r_0$\n",
    "being the radius of a sphere representing the volume an electron occupies \n",
    "and the Bohr radius $a_0=\\hbar^2/e^2m$, \n",
    "that the energy per electron can be written as"
   ]
  },
  {
   "cell_type": "markdown",
   "id": "b523c2e6",
   "metadata": {
    "editable": true
   },
   "source": [
    "$$\n",
    "E_0/N=\\frac{e^2}{2a_0}\\left[\\frac{2.21}{r_s^2}-\\frac{0.916}{r_s}\\right].\n",
    "$$"
   ]
  },
  {
   "cell_type": "markdown",
   "id": "058a5a37",
   "metadata": {
    "editable": true
   },
   "source": [
    "Here we have defined\n",
    "$r_s=r_0/a_0$ to be a dimensionless quantity."
   ]
  },
  {
   "cell_type": "markdown",
   "id": "4da80573",
   "metadata": {
    "editable": true
   },
   "source": [
    "## Exercise 4: plot of energy\n",
    "\n",
    "Plot your results. Why is this system stable?\n",
    "Calculate thermodynamical quantities like the pressure, given by"
   ]
  },
  {
   "cell_type": "markdown",
   "id": "0dfdcae8",
   "metadata": {
    "editable": true
   },
   "source": [
    "$$\n",
    "P=-\\left(\\frac{\\partial E}{\\partial V}\\right)_N,\n",
    "$$"
   ]
  },
  {
   "cell_type": "markdown",
   "id": "6d09ef85",
   "metadata": {
    "editable": true
   },
   "source": [
    "and the bulk modulus"
   ]
  },
  {
   "cell_type": "markdown",
   "id": "6407f5eb",
   "metadata": {
    "editable": true
   },
   "source": [
    "$$\n",
    "B=-V\\left(\\frac{\\partial P}{\\partial V}\\right)_N,\n",
    "$$"
   ]
  },
  {
   "cell_type": "markdown",
   "id": "2243423f",
   "metadata": {
    "editable": true
   },
   "source": [
    "and comment your results."
   ]
  },
  {
   "cell_type": "markdown",
   "id": "3e70a6f4",
   "metadata": {
    "editable": true
   },
   "source": [
    "## Density functional theory\n",
    "\n",
    "Hohenberg and Kohn proved that the total energy of a system including\n",
    "that of the many-body effects of electrons (exchange and correlation)\n",
    "in the presence of static external potential (for example, the atomic\n",
    "nuclei) is a unique functional of the charge density. The minimum\n",
    "value of the total energy functional is the ground state energy of the\n",
    "system. The electronic charge density which yields this minimum is\n",
    "then the exact single particle ground state energy.\n",
    "\n",
    "In Hartree-Fock theory one works with large basis sets. This poses a\n",
    "problem for large systems. An alternative to the HF methods is\n",
    "DFT. DFT takes into account electron correlations but is less\n",
    "demanding computationally than full scale diagonalization or Monte\n",
    "Carlo methods.\n",
    "\n",
    "The electronic energy $E$ is said to be a functional of the\n",
    "electronic density, $E[\\rho]$, in the sense that for a given function\n",
    "$\\rho(r)$, there is a single corresponding energy. The\n",
    "Hohenberg-Kohn theorem confirms that such a functional exists,\n",
    "but does not tell us the form of the functional. As shown by Kohn and\n",
    "Sham, the exact ground-state energy $E$ of an $N$-electron system can\n",
    "be written as"
   ]
  },
  {
   "cell_type": "markdown",
   "id": "41b6fcd4",
   "metadata": {
    "editable": true
   },
   "source": [
    "### More reading\n",
    "\n",
    "1. R. van Leeuwen: Density functional approach to the many-body problem: key concepts and exact functionals, Adv. Quant. Chem. \\textbf{43}, 25 (2003). (Mathematical foundations of DFT)\n",
    "\n",
    "2. R. M. Dreizler and E. K. U. Gross: Density functional theory: An approach to the quantum many-body problem. (Introductory book)\n",
    "\n",
    "3. W. Koch and M. C. Holthausen: A chemist's guide to density functional theory. (Introductory book, less formal than Dreizler/Gross)\n",
    "\n",
    "4. E. H. Lieb: Density functionals for Coulomb systems, Int. J. Quant. Chem. \\textbf{24}, 243-277 (1983). (Mathematical analysis of DFT)"
   ]
  }
 ],
 "metadata": {},
 "nbformat": 4,
 "nbformat_minor": 5
}
