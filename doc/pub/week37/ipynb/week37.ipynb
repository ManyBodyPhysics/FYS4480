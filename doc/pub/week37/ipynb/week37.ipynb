{
 "cells": [
  {
   "cell_type": "markdown",
   "id": "c43174cd",
   "metadata": {
    "editable": true
   },
   "source": [
    "<!-- HTML file automatically generated from DocOnce source (https://github.com/doconce/doconce/)\n",
    "doconce format html week37.do.txt --no_mako -->\n",
    "<!-- dom:TITLE: Week 37: Wick's generalized theorem, particle hole-formalism and diagrammatic representation of operators -->"
   ]
  },
  {
   "cell_type": "markdown",
   "id": "f4aa71da",
   "metadata": {
    "editable": true
   },
   "source": [
    "# Week 37: Wick's generalized theorem, particle hole-formalism and diagrammatic representation of operators\n",
    "**Morten Hjorth-Jensen**, Department of Physics and Center for Computing in Science Education, University of Oslo, Norway and Department of Physics and Astronomy and Facility for Rare Isotope Beams, Michigan State University, USA\n",
    "\n",
    "Date: **September 9-13, 2024**"
   ]
  },
  {
   "cell_type": "markdown",
   "id": "73762fd5",
   "metadata": {
    "editable": true
   },
   "source": [
    "## Week 37\n",
    "\n",
    "* Topics to be covered\n",
    "\n",
    "a. Thursday: Discussion of  Wick's theorem, Wick's generalized theorem and examples with discussion of exercises for week 37\n",
    "<!-- o [Video of lecture TBA](https://youtu.be/) -->\n",
    "\n",
    "b. Friday: Particle-hole formalism and definition of new reference state, normalordering of operators\n",
    "<!-- o Video of lecture TBA <https://youtu.be/> -->\n",
    "\n",
    "* Lecture Material: These slides, handwritten notes and chapter 3 of Shavitt and Bartlett covers most of the material discussed this week.\n",
    "\n",
    "* Fourth exercise set at <https://github.com/ManyBodyPhysics/FYS4480/blob/master/doc/Exercises/2024/ExercisesWeek37.pdf>"
   ]
  },
  {
   "cell_type": "markdown",
   "id": "34b47a01",
   "metadata": {
    "editable": true
   },
   "source": [
    "## Wick's theorem, standard and generalized and diagrammatic notation\n",
    "\n",
    "See handwritten notes from week 36 and whiteboard notes for this week. The text of Shavitt and Bartlett, chapter three gives a good introduction."
   ]
  },
  {
   "cell_type": "markdown",
   "id": "f719500f",
   "metadata": {
    "editable": true
   },
   "source": [
    "## Particle-hole formalism\n",
    "\n",
    "Second quantization is a useful and elegant formalism  for constructing many-body  states and \n",
    "quantum mechanical operators. One can express and translate many physical processes\n",
    "into simple pictures such as Feynman diagrams. Expecation values of many-body states are also easily calculated.\n",
    "\n",
    "However, although the equations are seemingly easy to set up, from a\n",
    "practical point of view, that is the solution of Schroedinger's\n",
    "equation, there is no particular gain.  The many-body equation is\n",
    "equally hard to solve, irrespective of representation.  The cliche\n",
    "that there is no free lunch brings us down to earth again.  Note\n",
    "however that a transformation to a particular basis, for cases where\n",
    "the interaction obeys specific symmetries, can ease the solution of\n",
    "Schroedinger's equation."
   ]
  },
  {
   "cell_type": "markdown",
   "id": "fc49dadb",
   "metadata": {
    "editable": true
   },
   "source": [
    "## Redefining the reference state\n",
    "\n",
    "But there is at least one important case where second quantization\n",
    "comes to our rescue.  It is namely easy to introduce another reference\n",
    "state than the pure vacuum $|0\\rangle $, where all single-particle\n",
    "states are active.  With many particles present it is often useful to\n",
    "introduce another reference state than the vacuum state$|0\\rangle\n",
    "$. We will label this state $|c\\rangle$ ($c$ for core) and as we will\n",
    "see it can reduce considerably the complexity and thereby the\n",
    "dimensionality of the many-body problem. It allows us to sum up to\n",
    "infinite order specific many-body correlations.  The particle-hole\n",
    "representation is one of these handy representations."
   ]
  },
  {
   "cell_type": "markdown",
   "id": "22f117fd",
   "metadata": {
    "editable": true
   },
   "source": [
    "## New operators\n",
    "\n",
    "In the original particle representation these states are products of the creation operators  $a_{\\alpha_i}^\\dagger$ acting on the true vacuum $|0\\rangle $.\n",
    "We have"
   ]
  },
  {
   "cell_type": "markdown",
   "id": "e8f4c674",
   "metadata": {
    "editable": true
   },
   "source": [
    "<!-- Equation labels as ordinary links -->\n",
    "<div id=\"eq:2-47a\"></div>\n",
    "\n",
    "$$\n",
    "\\begin{equation}\n",
    " |\\alpha_1\\alpha_2\\dots\\alpha_{n-1}\\alpha_n\\rangle = a_{\\alpha_1}^\\dagger a_{\\alpha_2}^\\dagger \\dots\n",
    "\t\t\t\t\ta_{\\alpha_{n-1}}^\\dagger a_{\\alpha_n}^\\dagger |0\\rangle  \\label{eq:2-47a} \\tag{1} \n",
    "\\end{equation}\n",
    "$$"
   ]
  },
  {
   "cell_type": "markdown",
   "id": "02d1e142",
   "metadata": {
    "editable": true
   },
   "source": [
    "<!-- Equation labels as ordinary links -->\n",
    "<div id=\"eq:2-47b\"></div>\n",
    "\n",
    "$$\n",
    "\\begin{equation} \n",
    "\t|\\alpha_1\\alpha_2\\dots\\alpha_{n-1}\\alpha_n\\alpha_{n+1}\\rangle =\n",
    "\t\ta_{\\alpha_1}^\\dagger a_{\\alpha_2}^\\dagger \\dots a_{\\alpha_{n-1}}^\\dagger a_{\\alpha_n}^\\dagger\n",
    "\t\ta_{\\alpha_{n+1}}^\\dagger |0\\rangle  \\label{eq:2-47b} \\tag{2} \n",
    "\\end{equation}\n",
    "$$"
   ]
  },
  {
   "cell_type": "markdown",
   "id": "a79970e4",
   "metadata": {
    "editable": true
   },
   "source": [
    "<!-- Equation labels as ordinary links -->\n",
    "<div id=\"eq:2-47c\"></div>\n",
    "\n",
    "$$\n",
    "\\begin{equation} \n",
    "\t|\\alpha_1\\alpha_2\\dots\\alpha_{n-1}\\rangle = a_{\\alpha_1}^\\dagger a_{\\alpha_2}^\\dagger \\dots\n",
    "\t\ta_{\\alpha_{n-1}}^\\dagger |0\\rangle  \\label{eq:2-47c} \\tag{3}\n",
    "\\end{equation}\n",
    "$$"
   ]
  },
  {
   "cell_type": "markdown",
   "id": "fe8352fa",
   "metadata": {
    "editable": true
   },
   "source": [
    "## Reference states\n",
    "If we use Eq. ([1](#eq:2-47a)) as our new reference state, we can simplify considerably the representation of \n",
    "this state"
   ]
  },
  {
   "cell_type": "markdown",
   "id": "3a3004c0",
   "metadata": {
    "editable": true
   },
   "source": [
    "<!-- Equation labels as ordinary links -->\n",
    "<div id=\"eq:2-48a\"></div>\n",
    "\n",
    "$$\n",
    "\\begin{equation}\n",
    "\t|c\\rangle  \\equiv |\\alpha_1\\alpha_2\\dots\\alpha_{n-1}\\alpha_n\\rangle =\n",
    "\t\ta_{\\alpha_1}^\\dagger a_{\\alpha_2}^\\dagger \\dots a_{\\alpha_{n-1}}^\\dagger a_{\\alpha_n}^\\dagger |0\\rangle  \\label{eq:2-48a} \\tag{4}\n",
    "\\end{equation}\n",
    "$$"
   ]
  },
  {
   "cell_type": "markdown",
   "id": "016af4ca",
   "metadata": {
    "editable": true
   },
   "source": [
    "The new reference states for the $n+1$ and $n-1$ states can then be written as"
   ]
  },
  {
   "cell_type": "markdown",
   "id": "bdf36d5d",
   "metadata": {
    "editable": true
   },
   "source": [
    "<!-- Equation labels as ordinary links -->\n",
    "<div id=\"eq:2-48b\"></div>\n",
    "\n",
    "$$\n",
    "\\begin{equation}\n",
    "\t|\\alpha_1\\alpha_2\\dots\\alpha_{n-1}\\alpha_n\\alpha_{n+1}\\rangle = (-1)^n a_{\\alpha_{n+1}}^\\dagger |c\\rangle \n",
    "\t\t\\equiv (-1)^n |\\alpha_{n+1}\\rangle_c \\label{eq:2-48b} \\tag{5} \n",
    "\\end{equation}\n",
    "$$"
   ]
  },
  {
   "cell_type": "markdown",
   "id": "702adbe3",
   "metadata": {
    "editable": true
   },
   "source": [
    "<!-- Equation labels as ordinary links -->\n",
    "<div id=\"eq:2-48c\"></div>\n",
    "\n",
    "$$\n",
    "\\begin{equation} \n",
    "\t|\\alpha_1\\alpha_2\\dots\\alpha_{n-1}\\rangle = (-1)^{n-1} a_{\\alpha_n} |c\\rangle  \n",
    "\t\t\\equiv (-1)^{n-1} |\\alpha_{n-1}\\rangle_c \\label{eq:2-48c} \\tag{6} \n",
    "\\end{equation}\n",
    "$$"
   ]
  },
  {
   "cell_type": "markdown",
   "id": "f922d4c2",
   "metadata": {
    "editable": true
   },
   "source": [
    "## Hole and particle states\n",
    "\n",
    "The first state has one additional particle with respect to the new vacuum state\n",
    "$|c\\rangle $  and is normally referred to as a one-particle state or one particle added to the \n",
    "many-body reference state. \n",
    "The second state has one particle less than the reference vacuum state  $|c\\rangle $ and is referred to as\n",
    "a one-hole state. \n",
    "When dealing with a new reference state it is often convenient to introduce \n",
    "new creation and annihilation operators since we have \n",
    "from Eq. ([6](#eq:2-48c))"
   ]
  },
  {
   "cell_type": "markdown",
   "id": "6077febe",
   "metadata": {
    "editable": true
   },
   "source": [
    "<!-- Equation labels as ordinary links -->\n",
    "<div id=\"eq:2-49\"></div>\n",
    "\n",
    "$$\n",
    "\\begin{equation}\n",
    "\ta_\\alpha |c\\rangle  \\neq 0 \\label{eq:2-49} \\tag{7}\n",
    "\\end{equation}\n",
    "$$"
   ]
  },
  {
   "cell_type": "markdown",
   "id": "be13271c",
   "metadata": {
    "editable": true
   },
   "source": [
    "since  $\\alpha$ is contained  in $|c\\rangle $, while for the true vacuum we have \n",
    "$a_\\alpha |0\\rangle  = 0$ for all $\\alpha$."
   ]
  },
  {
   "cell_type": "markdown",
   "id": "0a190c0c",
   "metadata": {
    "editable": true
   },
   "source": [
    "## Redefinition of creation and annihilation operators\n",
    "\n",
    "The new reference state leads to the definition of new creation and annihilation operators\n",
    "which satisfy the following relations"
   ]
  },
  {
   "cell_type": "markdown",
   "id": "b36961d1",
   "metadata": {
    "editable": true
   },
   "source": [
    "<!-- Equation labels as ordinary links -->\n",
    "<div id=\"eq:2-50a\"></div>\n",
    "\n",
    "$$\n",
    "\\begin{equation}\n",
    "\tb_\\alpha |c\\rangle  = 0 \\label{eq:2-50a} \\tag{8} \n",
    "\\end{equation}\n",
    "$$"
   ]
  },
  {
   "cell_type": "markdown",
   "id": "ea54e4c2",
   "metadata": {
    "editable": true
   },
   "source": [
    "$$\n",
    "\\{b_\\alpha^\\dagger , b_\\beta^\\dagger \\} = \\{b_\\alpha , b_\\beta \\} = 0 \\nonumber\n",
    "$$"
   ]
  },
  {
   "cell_type": "markdown",
   "id": "eea86a31",
   "metadata": {
    "editable": true
   },
   "source": [
    "<!-- Equation labels as ordinary links -->\n",
    "<div id=\"eq:2-50c\"></div>\n",
    "\n",
    "$$\n",
    "\\begin{equation} \n",
    "\t\\{b_\\alpha^\\dagger , b_\\beta \\} = \\delta_{\\alpha \\beta} \\label{eq:2-50c} \\tag{9}\n",
    "\\end{equation}\n",
    "$$"
   ]
  },
  {
   "cell_type": "markdown",
   "id": "2af3c07d",
   "metadata": {
    "editable": true
   },
   "source": [
    "We assume also that the new reference state is properly normalized"
   ]
  },
  {
   "cell_type": "markdown",
   "id": "33911646",
   "metadata": {
    "editable": true
   },
   "source": [
    "<!-- Equation labels as ordinary links -->\n",
    "<div id=\"eq:2-51\"></div>\n",
    "\n",
    "$$\n",
    "\\begin{equation}\n",
    "\t\\langle c | c \\rangle = 1 \\label{eq:2-51} \\tag{10}\n",
    "\\end{equation}\n",
    "$$"
   ]
  },
  {
   "cell_type": "markdown",
   "id": "57ea6c99",
   "metadata": {
    "editable": true
   },
   "source": [
    "## Physical interpretation\n",
    "\n",
    "The physical interpretation of these new operators is that of so-called quasiparticle states.\n",
    "This means that a state defined by the addition of one extra particle to a reference state $|c\\rangle $ may not necesseraly be interpreted as one particle coupled to a core.\n",
    "We define now new creation operators that act on a state $\\alpha$ creating a new quasiparticle state"
   ]
  },
  {
   "cell_type": "markdown",
   "id": "6c209b7e",
   "metadata": {
    "editable": true
   },
   "source": [
    "<!-- Equation labels as ordinary links -->\n",
    "<div id=\"eq:2-52\"></div>\n",
    "\n",
    "$$\n",
    "\\begin{equation}\n",
    "\tb_\\alpha^\\dagger|c\\rangle  = \\Bigg\\{ \\begin{array}{ll}\n",
    "\t\ta_\\alpha^\\dagger |c\\rangle  = |\\alpha\\rangle, & \\alpha > F \\\\\n",
    "\t\t\\\\\n",
    "\t\ta_\\alpha |c\\rangle  = |\\alpha^{-1}\\rangle, & \\alpha \\leq F\n",
    "\t\\end{array} \\label{eq:2-52} \\tag{11}\n",
    "\\end{equation}\n",
    "$$"
   ]
  },
  {
   "cell_type": "markdown",
   "id": "e7cceed2",
   "metadata": {
    "editable": true
   },
   "source": [
    "where $F$ is the Fermi level representing the last  occupied single-particle orbit \n",
    "of the new reference state $|c\\rangle $."
   ]
  },
  {
   "cell_type": "markdown",
   "id": "e888987b",
   "metadata": {
    "editable": true
   },
   "source": [
    "## Annihilation operator\n",
    "The annihilation is the hermitian conjugate of the creation operator"
   ]
  },
  {
   "cell_type": "markdown",
   "id": "de5b5cff",
   "metadata": {
    "editable": true
   },
   "source": [
    "$$\n",
    "b_\\alpha = (b_\\alpha^\\dagger)^\\dagger,\n",
    "$$"
   ]
  },
  {
   "cell_type": "markdown",
   "id": "8334e081",
   "metadata": {
    "editable": true
   },
   "source": [
    "resulting in"
   ]
  },
  {
   "cell_type": "markdown",
   "id": "a3c3f082",
   "metadata": {
    "editable": true
   },
   "source": [
    "<!-- Equation labels as ordinary links -->\n",
    "<div id=\"eq:2-54\"></div>\n",
    "\n",
    "$$\n",
    "\\begin{equation}\n",
    "\tb_\\alpha^\\dagger = \\Bigg\\{ \\begin{array}{ll}\n",
    "\t\ta_\\alpha^\\dagger & \\alpha > F \\\\\n",
    "\t\t\\\\\n",
    "\t\ta_\\alpha & \\alpha \\leq F\n",
    "\t\\end{array} \\qquad \n",
    "\tb_\\alpha = \\Bigg\\{ \\begin{array}{ll}\n",
    "\t\ta_\\alpha & \\alpha > F \\\\\n",
    "\t\t\\\\\n",
    "\t\t a_\\alpha^\\dagger & \\alpha \\leq F\n",
    "\t\\end{array} \\label{eq:2-54} \\tag{12}\n",
    "\\end{equation}\n",
    "$$"
   ]
  },
  {
   "cell_type": "markdown",
   "id": "ad734fe9",
   "metadata": {
    "editable": true
   },
   "source": [
    "## Introducing the concept of quasiparticle states\n",
    "\n",
    "With the new creation and annihilation operator  we can now construct \n",
    "many-body quasiparticle states, with one-particle-one-hole states, two-particle-two-hole\n",
    "states etc in the same fashion as we previously constructed many-particle states. \n",
    "We can write a general particle-hole state as"
   ]
  },
  {
   "cell_type": "markdown",
   "id": "d99e4f18",
   "metadata": {
    "editable": true
   },
   "source": [
    "<!-- Equation labels as ordinary links -->\n",
    "<div id=\"eq:2-56\"></div>\n",
    "\n",
    "$$\n",
    "\\begin{equation}\n",
    "\t|\\beta_1\\beta_2\\dots \\beta_{n_p} \\gamma_1^{-1} \\gamma_2^{-1} \\dots \\gamma_{n_h}^{-1}\\rangle \\equiv\n",
    "\t\t\\underbrace{b_{\\beta_1}^\\dagger b_{\\beta_2}^\\dagger \\dots b_{\\beta_{n_p}}^\\dagger}_{>F}\n",
    "\t\t\\underbrace{b_{\\gamma_1}^\\dagger b_{\\gamma_2}^\\dagger \\dots b_{\\gamma_{n_h}}^\\dagger}_{\\leq F} |c\\rangle \\label{eq:2-56} \\tag{13}\n",
    "\\end{equation}\n",
    "$$"
   ]
  },
  {
   "cell_type": "markdown",
   "id": "9f42ff3a",
   "metadata": {
    "editable": true
   },
   "source": [
    "We can now rewrite our one-body and two-body operators in terms of the new creation and annihilation operators."
   ]
  },
  {
   "cell_type": "markdown",
   "id": "67f832c4",
   "metadata": {
    "editable": true
   },
   "source": [
    "## Number operator\n",
    "\n",
    "The number operator becomes"
   ]
  },
  {
   "cell_type": "markdown",
   "id": "6ee5a496",
   "metadata": {
    "editable": true
   },
   "source": [
    "<!-- Equation labels as ordinary links -->\n",
    "<div id=\"eq:2-57b\"></div>\n",
    "\n",
    "$$\n",
    "\\begin{equation}\n",
    "\t\\hat{N} = \\sum_\\alpha a_\\alpha^\\dagger a_\\alpha= \n",
    "\\sum_{\\alpha > F} b_\\alpha^\\dagger b_\\alpha + n_c - \\sum_{\\alpha \\leq F} b_\\alpha^\\dagger b_\\alpha \\label{eq:2-57b} \\tag{14}\n",
    "\\end{equation}\n",
    "$$"
   ]
  },
  {
   "cell_type": "markdown",
   "id": "90eaecde",
   "metadata": {
    "editable": true
   },
   "source": [
    "where $n_c$ is the number of particle in the new vacuum state $|c\\rangle $.  \n",
    "The action of $\\hat{N}$ on a many-body state results in"
   ]
  },
  {
   "cell_type": "markdown",
   "id": "a3d812cd",
   "metadata": {
    "editable": true
   },
   "source": [
    "<!-- Equation labels as ordinary links -->\n",
    "<div id=\"2-59\"></div>\n",
    "\n",
    "$$\n",
    "\\begin{equation}\n",
    "\tN |\\beta_1\\beta_2\\dots \\beta_{n_p} \\gamma_1^{-1} \\gamma_2^{-1} \\dots \\gamma_{n_h}^{-1}\\rangle = (n_p + n_c - n_h) |\\beta_1\\beta_2\\dots \\beta_{n_p} \\gamma_1^{-1} \\gamma_2^{-1} \\dots \\gamma_{n_h}^{-1}\\rangle \\label{2-59} \\tag{15}\n",
    "\\end{equation}\n",
    "$$"
   ]
  },
  {
   "cell_type": "markdown",
   "id": "4eb80a57",
   "metadata": {
    "editable": true
   },
   "source": [
    "## More manipulations\n",
    "Here  $n=n_p +n_c - n_h$ is the total number of particles in the quasi-particle state of \n",
    "Eq. ([13](#eq:2-56)). Note that  $\\hat{N}$ counts the total number of particles  present"
   ]
  },
  {
   "cell_type": "markdown",
   "id": "6f26778a",
   "metadata": {
    "editable": true
   },
   "source": [
    "<!-- Equation labels as ordinary links -->\n",
    "<div id=\"eq:2-60\"></div>\n",
    "\n",
    "$$\n",
    "\\begin{equation}\n",
    "\tN_{qp} = \\sum_\\alpha b_\\alpha^\\dagger b_\\alpha, \\label{eq:2-60} \\tag{16}\n",
    "\\end{equation}\n",
    "$$"
   ]
  },
  {
   "cell_type": "markdown",
   "id": "4f2aaecb",
   "metadata": {
    "editable": true
   },
   "source": [
    "gives us the number of quasi-particles as can be seen by computing"
   ]
  },
  {
   "cell_type": "markdown",
   "id": "0ec5fee9",
   "metadata": {
    "editable": true
   },
   "source": [
    "<!-- Equation labels as ordinary links -->\n",
    "<div id=\"eq:2-61\"></div>\n",
    "\n",
    "$$\n",
    "\\begin{equation}\n",
    "\tN_{qp}= |\\beta_1\\beta_2\\dots \\beta_{n_p} \\gamma_1^{-1} \\gamma_2^{-1} \\dots \\gamma_{n_h}^{-1}\\rangle\n",
    "\t\t= (n_p + n_h)|\\beta_1\\beta_2\\dots \\beta_{n_p} \\gamma_1^{-1} \\gamma_2^{-1} \\dots \\gamma_{n_h}^{-1}\\rangle \\label{eq:2-61} \\tag{17}\n",
    "\\end{equation}\n",
    "$$"
   ]
  },
  {
   "cell_type": "markdown",
   "id": "a3837857",
   "metadata": {
    "editable": true
   },
   "source": [
    "where $n_{qp} = n_p + n_h$ is the total number of quasi-particles."
   ]
  },
  {
   "cell_type": "markdown",
   "id": "52c6aaad",
   "metadata": {
    "editable": true
   },
   "source": [
    "## Onebody operator\n",
    "\n",
    "We express the one-body operator $\\hat{H}_0$ in terms of the quasi-particle creation and annihilation operators, resulting in"
   ]
  },
  {
   "cell_type": "markdown",
   "id": "cb414f0d",
   "metadata": {
    "editable": true
   },
   "source": [
    "$$\n",
    "\\hat{H}_0 = \\sum_{\\alpha\\beta > F} \\langle \\alpha|\\hat{h}_0|\\beta\\rangle  b_\\alpha^\\dagger b_\\beta +\n",
    "\t\t\\sum_{\\alpha > F, \\beta \\leq F } \\left[\\langle \\alpha|\\hat{h}_0|\\beta\\rangle b_\\alpha^\\dagger b_\\beta^\\dagger + \\langle \\beta|\\hat{h}_0|\\alpha\\rangle b_\\beta  b_\\alpha \\right] \\nonumber\n",
    "$$"
   ]
  },
  {
   "cell_type": "markdown",
   "id": "cd16a75b",
   "metadata": {
    "editable": true
   },
   "source": [
    "<!-- Equation labels as ordinary links -->\n",
    "<div id=\"eq:2-63b\"></div>\n",
    "\n",
    "$$\n",
    "\\begin{equation} \n",
    "\t+ \\sum_{\\alpha \\leq F} \\langle \\alpha|\\hat{h}_0|\\alpha\\rangle - \\sum_{\\alpha\\beta \\leq F} \\langle \\beta|\\hat{h}_0|\\alpha\\rangle b_\\alpha^\\dagger b_\\beta \\label{eq:2-63b} \\tag{18}\n",
    "\\end{equation}\n",
    "$$"
   ]
  },
  {
   "cell_type": "markdown",
   "id": "4d1f8a02",
   "metadata": {
    "editable": true
   },
   "source": [
    "The first term  gives contribution only for particle states, while the last one\n",
    "contributes only for holestates. The second term can create or destroy a set of\n",
    "quasi-particles and \n",
    "the third term is the contribution  from the vacuum state $|c\\rangle$."
   ]
  },
  {
   "cell_type": "markdown",
   "id": "c2f4101e",
   "metadata": {
    "editable": true
   },
   "source": [
    "## New notations\n",
    "\n",
    "Before we continue with the expressions for the two-body operator, we introduce a nomenclature we will use for the rest of this\n",
    "text. It is inspired by the notation used in quantum chemistry.\n",
    "We reserve the labels $i,j,k,\\dots$ for hole states and $a,b,c,\\dots$ for states above $F$, viz. particle states.\n",
    "This means also that we will skip the constraint $\\leq F$ or $> F$ in the summation symbols. \n",
    "Our operator $\\hat{H}_0$  reads now"
   ]
  },
  {
   "cell_type": "markdown",
   "id": "783823d7",
   "metadata": {
    "editable": true
   },
   "source": [
    "$$\n",
    "\\hat{H}_0 = \\sum_{ab} \\langle a|\\hat{h}|b\\rangle b_a^\\dagger b_b +\n",
    "\t\t\\sum_{ai} \\left[\n",
    "\t\t\\langle a|\\hat{h}|i\\rangle b_a^\\dagger b_i^\\dagger + \n",
    "\t\t\\langle i|\\hat{h}|a\\rangle b_i  b_a \\right] \\nonumber\n",
    "$$"
   ]
  },
  {
   "cell_type": "markdown",
   "id": "0970dc36",
   "metadata": {
    "editable": true
   },
   "source": [
    "<!-- Equation labels as ordinary links -->\n",
    "<div id=\"eq:2-63c\"></div>\n",
    "\n",
    "$$\n",
    "\\begin{equation} \n",
    "\t+ \\sum_{i} \\langle i|\\hat{h}|i\\rangle - \n",
    "\t\t\\sum_{ij} \\langle j|\\hat{h}|i\\rangle\n",
    "\t\tb_i^\\dagger b_j \\label{eq:2-63c} \\tag{19}\n",
    "\\end{equation}\n",
    "$$"
   ]
  },
  {
   "cell_type": "markdown",
   "id": "24d30a93",
   "metadata": {
    "editable": true
   },
   "source": [
    "## Two-particle operator\n",
    "\n",
    "The two-particle operator in the particle-hole formalism  is more complicated since we have\n",
    "to translate four indices $\\alpha\\beta\\gamma\\delta$ to the possible combinations of particle and hole\n",
    "states.  When performing the commutator algebra we can regroup the operator in five different terms"
   ]
  },
  {
   "cell_type": "markdown",
   "id": "89515277",
   "metadata": {
    "editable": true
   },
   "source": [
    "<!-- Equation labels as ordinary links -->\n",
    "<div id=\"eq:2-65\"></div>\n",
    "\n",
    "$$\n",
    "\\begin{equation}\n",
    "\t\\hat{H}_I = \\hat{H}_I^{(a)} + \\hat{H}_I^{(b)} + \\hat{H}_I^{(c)} + \\hat{H}_I^{(d)} + \\hat{H}_I^{(e)} \\label{eq:2-65} \\tag{20}\n",
    "\\end{equation}\n",
    "$$"
   ]
  },
  {
   "cell_type": "markdown",
   "id": "c5067ccc",
   "metadata": {
    "editable": true
   },
   "source": [
    "Using anti-symmetrized  matrix elements, \n",
    "bthe term  $\\hat{H}_I^{(a)}$ is"
   ]
  },
  {
   "cell_type": "markdown",
   "id": "12f58d10",
   "metadata": {
    "editable": true
   },
   "source": [
    "<!-- Equation labels as ordinary links -->\n",
    "<div id=\"eq:2-66\"></div>\n",
    "\n",
    "$$\n",
    "\\begin{equation}\n",
    "\t\\hat{H}_I^{(a)} = \\frac{1}{4}\n",
    "\t\\sum_{abcd} \\langle ab|\\hat{V}|cd\\rangle \n",
    "\t\tb_a^\\dagger b_b^\\dagger b_d b_c \\label{eq:2-66} \\tag{21}\n",
    "\\end{equation}\n",
    "$$"
   ]
  },
  {
   "cell_type": "markdown",
   "id": "562277e7",
   "metadata": {
    "editable": true
   },
   "source": [
    "## More rewriting\n",
    "The next term $\\hat{H}_I^{(b)}$  reads"
   ]
  },
  {
   "cell_type": "markdown",
   "id": "bb259a50",
   "metadata": {
    "editable": true
   },
   "source": [
    "<!-- Equation labels as ordinary links -->\n",
    "<div id=\"eq:2-67b\"></div>\n",
    "\n",
    "$$\n",
    "\\begin{equation}\n",
    "\t \\hat{H}_I^{(b)} = \\frac{1}{4} \\sum_{abci}\\left(\\langle ab|\\hat{V}|ci\\rangle b_a^\\dagger b_b^\\dagger b_i^\\dagger b_c +\\langle ai|\\hat{V}|cb\\rangle b_a^\\dagger b_i b_b b_c\\right) \\label{eq:2-67b} \\tag{22}\n",
    "\\end{equation}\n",
    "$$"
   ]
  },
  {
   "cell_type": "markdown",
   "id": "a69d2d22",
   "metadata": {
    "editable": true
   },
   "source": [
    "This term conserves the number of quasiparticles but creates or removes a \n",
    "three-particle-one-hole  state. \n",
    "For $\\hat{H}_I^{(c)}$  we have"
   ]
  },
  {
   "cell_type": "markdown",
   "id": "a1b63a95",
   "metadata": {
    "editable": true
   },
   "source": [
    "$$\n",
    "\\hat{H}_I^{(c)} = \\frac{1}{4}\n",
    "\t\t\\sum_{abij}\\left(\\langle ab|\\hat{V}|ij\\rangle b_a^\\dagger b_b^\\dagger b_j^\\dagger b_i^\\dagger +\n",
    "\t\t\\langle ij|\\hat{V}|ab\\rangle b_a  b_b b_j b_i \\right)+  \\nonumber\n",
    "$$"
   ]
  },
  {
   "cell_type": "markdown",
   "id": "299e295a",
   "metadata": {
    "editable": true
   },
   "source": [
    "<!-- Equation labels as ordinary links -->\n",
    "<div id=\"eq:2-68c\"></div>\n",
    "\n",
    "$$\n",
    "\\begin{equation} \n",
    "\t\t\\frac{1}{2}\\sum_{abij}\\langle ai|\\hat{V}|bj\\rangle b_a^\\dagger b_j^\\dagger b_b b_i + \n",
    "\t\t\\frac{1}{2}\\sum_{abi}\\langle ai|\\hat{V}|bi\\rangle b_a^\\dagger b_b. \\label{eq:2-68c} \\tag{23}\n",
    "\\end{equation}\n",
    "$$"
   ]
  },
  {
   "cell_type": "markdown",
   "id": "6c874904",
   "metadata": {
    "editable": true
   },
   "source": [
    "## More terms\n",
    "The first line stands for the creation of a two-particle-two-hole state, while the second line represents\n",
    "the creation to two one-particle-one-hole pairs\n",
    "while the last term represents a contribution to the particle single-particle energy\n",
    "from the hole states, that is an interaction between the particle states and the hole states\n",
    "within the new vacuum  state.\n",
    "\n",
    "The fourth term reads"
   ]
  },
  {
   "cell_type": "markdown",
   "id": "625c4b16",
   "metadata": {
    "editable": true
   },
   "source": [
    "$$\n",
    "\\hat{H}_I^{(d)} = \\frac{1}{4} \n",
    "\t \t\\sum_{aijk}\\left(\\langle ai|\\hat{V}|jk\\rangle b_a^\\dagger b_k^\\dagger b_j^\\dagger b_i+\n",
    "\\langle ji|\\hat{V}|ak\\rangle b_k^\\dagger b_j b_i b_a\\right)+\\nonumber\n",
    "$$"
   ]
  },
  {
   "cell_type": "markdown",
   "id": "f244c188",
   "metadata": {
    "editable": true
   },
   "source": [
    "<!-- Equation labels as ordinary links -->\n",
    "<div id=\"eq:2-69d\"></div>\n",
    "\n",
    "$$\n",
    "\\begin{equation} \n",
    "\\frac{1}{4}\\sum_{aij}\\left(\\langle ai|\\hat{V}|ji\\rangle b_a^\\dagger b_j^\\dagger+\n",
    "\\langle ji|\\hat{V}|ai\\rangle - \\langle ji|\\hat{V}|ia\\rangle b_j b_a \\right). \\label{eq:2-69d} \\tag{24} \n",
    "\\end{equation}\n",
    "$$"
   ]
  },
  {
   "cell_type": "markdown",
   "id": "7d17c47b",
   "metadata": {
    "editable": true
   },
   "source": [
    "## Last expressions\n",
    "The terms in the first line  stand for the creation of a particle-hole state \n",
    "interacting with hole states, we will label this as a two-hole-one-particle contribution. \n",
    "The remaining terms are a particle-hole state interacting with the holes in the vacuum state. \n",
    "Finally we have"
   ]
  },
  {
   "cell_type": "markdown",
   "id": "c132350b",
   "metadata": {
    "editable": true
   },
   "source": [
    "<!-- Equation labels as ordinary links -->\n",
    "<div id=\"eq:2-70d\"></div>\n",
    "\n",
    "$$\n",
    "\\begin{equation}\n",
    "\t\\hat{H}_I^{(e)} = \\frac{1}{4}\n",
    "\t\t \\sum_{ijkl}\n",
    "\t\t \\langle kl|\\hat{V}|ij\\rangle b_i^\\dagger b_j^\\dagger b_l b_k+\n",
    "\t        \\frac{1}{2}\\sum_{ijk}\\langle ij|\\hat{V}|kj\\rangle b_k^\\dagger b_i\n",
    "\t        +\\frac{1}{2}\\sum_{ij}\\langle ij|\\hat{V}|ij\\rangle \\label{eq:2-70d} \\tag{25}\n",
    "\\end{equation}\n",
    "$$"
   ]
  },
  {
   "cell_type": "markdown",
   "id": "04c2f346",
   "metadata": {
    "editable": true
   },
   "source": [
    "The first terms represents the \n",
    "interaction between two holes while the second stands for the interaction between a hole and the remaining holes in the vacuum state.\n",
    "It represents a contribution to single-hole energy  to first order.\n",
    "The last term collects all contributions to the energy of the ground state of a closed-shell system arising\n",
    "from hole-hole correlations."
   ]
  },
  {
   "cell_type": "markdown",
   "id": "d7dee4aa",
   "metadata": {
    "editable": true
   },
   "source": [
    "# Summarizing and defining a normal-ordered Hamiltonian, part I"
   ]
  },
  {
   "cell_type": "markdown",
   "id": "094ad0ac",
   "metadata": {
    "editable": true
   },
   "source": [
    "$$\n",
    "\\Phi_{AS}(\\alpha_1, \\dots, \\alpha_N; x_1, \\dots x_N)=\n",
    "            \\frac{1}{\\sqrt{A}} \\sum_{\\hat{P}} (-1)^P \\hat{P} \\prod_{i=1}^A \\psi_{\\alpha_i}(x_i),\n",
    "$$"
   ]
  },
  {
   "cell_type": "markdown",
   "id": "07bae441",
   "metadata": {
    "editable": true
   },
   "source": [
    "which is equivalent with $|\\alpha_1 \\dots \\alpha_N\\rangle= a_{\\alpha_1}^{\\dagger} \\dots a_{\\alpha_N}^{\\dagger} |0\\rangle$. We have also"
   ]
  },
  {
   "cell_type": "markdown",
   "id": "71685c57",
   "metadata": {
    "editable": true
   },
   "source": [
    "$$\n",
    "a_p^\\dagger|0\\rangle = |p\\rangle, \\quad a_p |q\\rangle = \\delta_{pq}|0\\rangle\n",
    "$$"
   ]
  },
  {
   "cell_type": "markdown",
   "id": "0c461ca2",
   "metadata": {
    "editable": true
   },
   "source": [
    "$$\n",
    "\\delta_{pq} = \\left\\{a_p, a_q^\\dagger \\right\\},\n",
    "$$"
   ]
  },
  {
   "cell_type": "markdown",
   "id": "87b32f18",
   "metadata": {
    "editable": true
   },
   "source": [
    "and"
   ]
  },
  {
   "cell_type": "markdown",
   "id": "5353ef66",
   "metadata": {
    "editable": true
   },
   "source": [
    "$$\n",
    "0 = \\left\\{a_p^\\dagger, a_q \\right\\} = \\left\\{a_p, a_q \\right\\} = \\left\\{a_p^\\dagger, a_q^\\dagger \\right\\}\n",
    "$$"
   ]
  },
  {
   "cell_type": "markdown",
   "id": "dc0a5b20",
   "metadata": {
    "editable": true
   },
   "source": [
    "$$\n",
    "|\\Phi_0\\rangle = |\\alpha_1 \\dots \\alpha_N\\rangle, \\quad \\alpha_1, \\dots, \\alpha_N \\leq \\alpha_F\n",
    "$$"
   ]
  },
  {
   "cell_type": "markdown",
   "id": "c24b83ec",
   "metadata": {
    "editable": true
   },
   "source": [
    "# Summarizing and defining a normal-ordered Hamiltonian, part II"
   ]
  },
  {
   "cell_type": "markdown",
   "id": "7a76a3a2",
   "metadata": {
    "editable": true
   },
   "source": [
    "$$\n",
    "\\left\\{a_p^\\dagger, a_q \\right\\}= \\delta_{pq}, p, q \\leq \\alpha_F\n",
    "$$"
   ]
  },
  {
   "cell_type": "markdown",
   "id": "603a6d92",
   "metadata": {
    "editable": true
   },
   "source": [
    "$$\n",
    "\\left\\{a_p, a_q^\\dagger \\right\\} = \\delta_{pq}, p, q > \\alpha_F\n",
    "$$"
   ]
  },
  {
   "cell_type": "markdown",
   "id": "d1eebb21",
   "metadata": {
    "editable": true
   },
   "source": [
    "with         $i,j,\\ldots \\leq \\alpha_F, \\quad a,b,\\ldots > \\alpha_F, \\quad p,q, \\ldots - \\textrm{any}$"
   ]
  },
  {
   "cell_type": "markdown",
   "id": "a91aed01",
   "metadata": {
    "editable": true
   },
   "source": [
    "$$\n",
    "a_i|\\Phi_0\\rangle = |\\Phi_i\\rangle, \\hspace{0.5cm} a_a^\\dagger|\\Phi_0\\rangle = |\\Phi^a\\rangle\n",
    "$$"
   ]
  },
  {
   "cell_type": "markdown",
   "id": "85deb305",
   "metadata": {
    "editable": true
   },
   "source": [
    "and"
   ]
  },
  {
   "cell_type": "markdown",
   "id": "cb993e5a",
   "metadata": {
    "editable": true
   },
   "source": [
    "$$\n",
    "a_i^\\dagger|\\Phi_0\\rangle = 0 \\hspace{0.5cm}  a_a|\\Phi_0\\rangle = 0\n",
    "$$"
   ]
  },
  {
   "cell_type": "markdown",
   "id": "f08f7144",
   "metadata": {
    "editable": true
   },
   "source": [
    "# Summarizing and defining a normal-ordered Hamiltonian, part III\n",
    "\n",
    "The one-body operator is defined as"
   ]
  },
  {
   "cell_type": "markdown",
   "id": "6a1ef72e",
   "metadata": {
    "editable": true
   },
   "source": [
    "$$\n",
    "\\hat{F} = \\sum_{pq} \\langle p|\\hat{f}|q\\rangle a_p^\\dagger a_q\n",
    "$$"
   ]
  },
  {
   "cell_type": "markdown",
   "id": "e8534732",
   "metadata": {
    "editable": true
   },
   "source": [
    "while the two-body opreator is defined as"
   ]
  },
  {
   "cell_type": "markdown",
   "id": "a87c0867",
   "metadata": {
    "editable": true
   },
   "source": [
    "$$\n",
    "\\hat{V} = \\frac{1}{4} \\sum_{pqrs} \\langle pq|\\hat{v}|rs\\rangle_{AS} a_p^\\dagger a_q^\\dagger a_s a_r\n",
    "$$"
   ]
  },
  {
   "cell_type": "markdown",
   "id": "0fedc7aa",
   "metadata": {
    "editable": true
   },
   "source": [
    "where we have defined the antisymmetric matrix elements"
   ]
  },
  {
   "cell_type": "markdown",
   "id": "413bafbc",
   "metadata": {
    "editable": true
   },
   "source": [
    "$$\n",
    "\\langle pq|\\hat{v}|rs\\rangle_{AS} = \\langle pq|\\hat{v}|rs\\rangle - \\langle pq|\\hat{v}|sr\\rangle.\n",
    "$$"
   ]
  },
  {
   "cell_type": "markdown",
   "id": "ed4be7a6",
   "metadata": {
    "editable": true
   },
   "source": [
    "# Summarizing and defining a normal-ordered Hamiltonian, part III\n",
    "\n",
    "We can also define a three-body operator"
   ]
  },
  {
   "cell_type": "markdown",
   "id": "d5a1521f",
   "metadata": {
    "editable": true
   },
   "source": [
    "$$\n",
    "\\hat{V}_3 = \\frac{1}{36} \\sum_{pqrstu} \\langle pqr|\\hat{v}_3|stu\\rangle_{AS} \n",
    "                a_p^\\dagger a_q^\\dagger a_r^\\dagger a_u a_t a_s\n",
    "$$"
   ]
  },
  {
   "cell_type": "markdown",
   "id": "bbb7e3b0",
   "metadata": {
    "editable": true
   },
   "source": [
    "with the antisymmetrized matrix element"
   ]
  },
  {
   "cell_type": "markdown",
   "id": "cb952b6b",
   "metadata": {
    "editable": true
   },
   "source": [
    "<!-- Equation labels as ordinary links -->\n",
    "<div id=\"_auto1\"></div>\n",
    "\n",
    "$$\n",
    "\\begin{equation}\n",
    "            \\langle pqr|\\hat{v}_3|stu\\rangle_{AS} = \\langle pqr|\\hat{v}_3|stu\\rangle + \\langle pqr|\\hat{v}_3|tus\\rangle + \\langle pqr|\\hat{v}_3|ust\\rangle- \\langle pqr|\\hat{v}_3|sut\\rangle - \\langle pqr|\\hat{v}_3|tsu\\rangle - \\langle pqr|\\hat{v}_3|uts\\rangle.\n",
    "\\label{_auto1} \\tag{26}\n",
    "\\end{equation}\n",
    "$$"
   ]
  }
 ],
 "metadata": {},
 "nbformat": 4,
 "nbformat_minor": 5
}
