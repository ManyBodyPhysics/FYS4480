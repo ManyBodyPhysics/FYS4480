{
 "cells": [
  {
   "cell_type": "markdown",
   "id": "9ae4eb7d",
   "metadata": {
    "editable": true
   },
   "source": [
    "<!-- HTML file automatically generated from DocOnce source (https://github.com/doconce/doconce/)\n",
    "doconce format html week42.do.txt --no_mako -->\n",
    "<!-- dom:TITLE: Week 42: Hartree-Fock theory and density functional theory -->"
   ]
  },
  {
   "cell_type": "markdown",
   "id": "85081f3d",
   "metadata": {
    "editable": true
   },
   "source": [
    "# Week 42: Hartree-Fock theory and density functional theory\n",
    "**Morten Hjorth-Jensen**, Department of Physics and Center for Computing in Science Education, University of Oslo, Norway\n",
    "\n",
    "Date: **October 13-17, 2025**\n",
    "\n",
    "<!-- todo: add material about the calculation of the HEG -->"
   ]
  },
  {
   "cell_type": "markdown",
   "id": "2626aed1",
   "metadata": {
    "editable": true
   },
   "source": [
    "## Week 42, October 13-17, 2025\n",
    "**Topics to be covered.**\n",
    "\n",
    "**Thursday**:\n",
    "1. The first lecture aims at finalizing the calculation of the ground state energy of the homogeneous electron gas in three dimensions\n",
    "\n",
    "2. Start discussion of density functional theory\n",
    "\n",
    "3. Video of lecture at <https://youtu.be/Ry_5h842TrA>\n",
    "\n",
    "4. Whiteboard notes at <https://github.com/ManyBodyPhysics/FYS4480/blob/master/doc/HandwrittenNotes/2025/FYS4480October16.pdf>  \n",
    "\n",
    "**Friday**:\n",
    "1. Density functional theory\n",
    "\n",
    "2. Discussions of  first midterm\n",
    "\n",
    "3. Lecture Material: These slides and handwritten notes\n",
    "\n",
    "4. First midterm set at <https://github.com/ManyBodyPhysics/FYS4480/blob/master/doc/Exercises/2025/FirstMidterm2025.pdf>"
   ]
  },
  {
   "cell_type": "markdown",
   "id": "c4229223",
   "metadata": {
    "editable": true
   },
   "source": [
    "## Hartree-Fock ground state energy for the  electron gas in three dimensions\n",
    "\n",
    "We consider a system of electrons in infinite matter, the so-called electron gas. This is a homogeneous system and the one-particle states are given by plane wave function normalized to a volume $V$ \n",
    "for a box with length $L$ (the limit $L\\rightarrow \\infty$ is to be taken after we have computed various expectation values)"
   ]
  },
  {
   "cell_type": "markdown",
   "id": "771cb86f",
   "metadata": {
    "editable": true
   },
   "source": [
    "$$\n",
    "\\psi_{\\mathbf{k}\\sigma}(\\mathbf{r})= \\frac{1}{\\sqrt{V}}\\exp{(i\\mathbf{kr})}\\xi_{\\sigma}\n",
    "$$"
   ]
  },
  {
   "cell_type": "markdown",
   "id": "3221e6d2",
   "metadata": {
    "editable": true
   },
   "source": [
    "where $\\mathbf{k}$ is the wave number and  $\\xi_{\\sigma}$ is a spin function for either spin up or down"
   ]
  },
  {
   "cell_type": "markdown",
   "id": "6a23f6da",
   "metadata": {
    "editable": true
   },
   "source": [
    "$$\n",
    "\\xi_{\\sigma=+1/2}=\\left(\\begin{array}{c} 1 \\\\ 0 \\end{array}\\right) \\hspace{0.5cm}\n",
    "\\xi_{\\sigma=-1/2}=\\left(\\begin{array}{c} 0 \\\\ 1 \\end{array}\\right).\n",
    "$$"
   ]
  },
  {
   "cell_type": "markdown",
   "id": "17e1f2ff",
   "metadata": {
    "editable": true
   },
   "source": [
    "## Periodic boundary conditions\n",
    "\n",
    "We assume that we have periodic boundary conditions which limit the allowed wave numbers to"
   ]
  },
  {
   "cell_type": "markdown",
   "id": "8290cf02",
   "metadata": {
    "editable": true
   },
   "source": [
    "$$\n",
    "k_i=\\frac{2\\pi n_i}{L}\\hspace{0.5cm} i=x,y,z \\hspace{0.5cm} n_i=0,\\pm 1,\\pm 2, \\dots\n",
    "$$"
   ]
  },
  {
   "cell_type": "markdown",
   "id": "f6b2634c",
   "metadata": {
    "editable": true
   },
   "source": [
    "We assume first that the particles interact via a central, symmetric and translationally invariant\n",
    "interaction  $V(r_{12})$ with\n",
    "$r_{12}=|\\mathbf{r}_1-\\mathbf{r}_2|$.  The interaction is spin independent."
   ]
  },
  {
   "cell_type": "markdown",
   "id": "68c5efa1",
   "metadata": {
    "editable": true
   },
   "source": [
    "## Total Hamiltonian\n",
    "\n",
    "The total Hamiltonian consists then of kinetic and potential energy"
   ]
  },
  {
   "cell_type": "markdown",
   "id": "80c18786",
   "metadata": {
    "editable": true
   },
   "source": [
    "$$\n",
    "\\hat{H} = \\hat{T}+\\hat{V}.\n",
    "$$"
   ]
  },
  {
   "cell_type": "markdown",
   "id": "76b6d332",
   "metadata": {
    "editable": true
   },
   "source": [
    "The operator for the kinetic energy is given by"
   ]
  },
  {
   "cell_type": "markdown",
   "id": "70a312c9",
   "metadata": {
    "editable": true
   },
   "source": [
    "$$\n",
    "\\hat{T}=\\sum_{\\mathbf{k}\\sigma}\\frac{\\hbar^2k^2}{2m}a_{\\mathbf{k}\\sigma}^{\\dagger}a_{\\mathbf{k}\\sigma}.\n",
    "$$"
   ]
  },
  {
   "cell_type": "markdown",
   "id": "ca2768c5",
   "metadata": {
    "editable": true
   },
   "source": [
    "## Exercise 1: Express interaction using creation and annihilation operators\n",
    "\n",
    "Find the expression for the interaction\n",
    "$\\hat{V}$ expressed with creation and annihilation operators.\n",
    "\n",
    "The expression for the interaction\n",
    "has to be written in  $k$ space, even though $V$ depends only on the relative distance. It means that you need to set up the Fourier transform $\\langle \\mathbf{k}_i\\mathbf{k}_j| V | \\mathbf{k}_m\\mathbf{k}_n\\rangle$.\n",
    "\n",
    "A general two-body interaction element is given by (not using anti-symmetrized matrix elements)"
   ]
  },
  {
   "cell_type": "markdown",
   "id": "b92d09d0",
   "metadata": {
    "editable": true
   },
   "source": [
    "$$\n",
    "\\hat{V} = \\frac{1}{2} \\sum_{pqrs} \\langle pq \\hat{v} \\vert rs\\rangle a_p^\\dagger a_q^\\dagger a_s a_r ,\n",
    "$$"
   ]
  },
  {
   "cell_type": "markdown",
   "id": "0c012df4",
   "metadata": {
    "editable": true
   },
   "source": [
    "where $\\hat{v}$ is assumed to depend only on the relative distance between two interacting particles, that is\n",
    "$\\hat{v} = v(\\vec r_1, \\vec r_2) = v(|\\vec r_1 - \\vec r_2|) = v(r)$, with $r = |\\vec r_1 - \\vec r_2|$)."
   ]
  },
  {
   "cell_type": "markdown",
   "id": "f26e4c50",
   "metadata": {
    "editable": true
   },
   "source": [
    "## With spin degrees of freedom\n",
    "\n",
    "In our case we have, writing out explicitely the spin degrees of freedom as well"
   ]
  },
  {
   "cell_type": "markdown",
   "id": "89f320bf",
   "metadata": {
    "editable": true
   },
   "source": [
    "<!-- Equation labels as ordinary links -->\n",
    "<div id=\"_auto1\"></div>\n",
    "\n",
    "$$\n",
    "\\begin{equation}\n",
    "\\hat{V} = \\frac{1}{2} \\sum_{\\substack{\\sigma_p \\sigma_q \\\\ \\sigma_r \\sigma_s}}\n",
    "\\sum_{\\substack{\\mathbf{k}_p \\mathbf{k}_q \\\\ \\mathbf{k}_r \\mathbf{k}_s}}\n",
    "\\langle \\mathbf{k}_p \\sigma_p, \\mathbf{k}_q \\sigma_2\\vert v \\vert \\mathbf{k}_r \\sigma_3, \\mathbf{k}_s \\sigma_s\\rangle\n",
    "a_{\\mathbf{k}_p \\sigma_p}^\\dagger a_{\\mathbf{k}_q \\sigma_q}^\\dagger a_{\\mathbf{k}_s \\sigma_s} a_{\\mathbf{k}_r \\sigma_r} .\n",
    "\\label{_auto1} \\tag{1}\n",
    "\\end{equation}\n",
    "$$"
   ]
  },
  {
   "cell_type": "markdown",
   "id": "ccea7923",
   "metadata": {
    "editable": true
   },
   "source": [
    "## Plane waves\n",
    "\n",
    "Inserting plane waves as eigenstates we can rewrite the matrix element as"
   ]
  },
  {
   "cell_type": "markdown",
   "id": "2c26c661",
   "metadata": {
    "editable": true
   },
   "source": [
    "$$\n",
    "\\langle \\mathbf{k}_p \\sigma_p, \\mathbf{k}_q \\sigma_q\\vert \\hat{v} \\vert \\mathbf{k}_r \\sigma_r, \\mathbf{k}_s \\sigma_s\\rangle =\n",
    "\\frac{1}{V^2} \\delta_{\\sigma_p \\sigma_r} \\delta_{\\sigma_q \\sigma_s}\n",
    "\\int\\int \\exp{-i(\\mathbf{k}_p \\cdot \\mathbf{r}_p)} \\exp{-i( \\mathbf{k}_q \\cdot \\mathbf{r}_q)} \\hat{v}(r) \\exp{i(\\mathbf{k}_r \\cdot \\mathbf{r}_p)} \\exp{i( \\mathbf{k}_s \\cdot \\mathbf{r}_q)} d\\mathbf{r}_p d\\mathbf{r}_q ,\n",
    "$$"
   ]
  },
  {
   "cell_type": "markdown",
   "id": "f0a671d7",
   "metadata": {
    "editable": true
   },
   "source": [
    "where we have used the orthogonality properties of the spin functions. We change now the variables of integration\n",
    "by defining $\\mathbf{r} = \\mathbf{r}_p - \\mathbf{r}_q$, which gives $\\mathbf{r}_p = \\mathbf{r} + \\mathbf{r}_q$ and $d^3 \\mathbf{r} = d^3 \\mathbf{r}_p$."
   ]
  },
  {
   "cell_type": "markdown",
   "id": "eca36f46",
   "metadata": {
    "editable": true
   },
   "source": [
    "## Integration limits\n",
    "\n",
    "The limits are not changed since they are from $-\\infty$ to  $\\infty$ for all integrals. This results in"
   ]
  },
  {
   "cell_type": "markdown",
   "id": "06ae59b0",
   "metadata": {
    "editable": true
   },
   "source": [
    "$$\n",
    "\\begin{align*}\n",
    "\\langle \\mathbf{k}_p \\sigma_p, \\mathbf{k}_q \\sigma_q\\vert \\hat{v} \\vert \\mathbf{k}_r \\sigma_r, \\mathbf{k}_s \\sigma_s\\rangle\n",
    "&= \\frac{1}{V^2} \\delta_{\\sigma_p \\sigma_r} \\delta_{\\sigma_q \\sigma_s} \\int\\exp{i (\\mathbf{k}_s - \\mathbf{k}_q) \\cdot \\mathbf{r}_q} \\int v(r) \\exp{i(\\mathbf{k}_r - \\mathbf{k}_p) \\cdot ( \\mathbf{r} + \\mathbf{r}_q)} d\\mathbf{r} d\\mathbf{r}_q \\\\\n",
    "&= \\frac{1}{V^2} \\delta_{\\sigma_p \\sigma_r} \\delta_{\\sigma_q \\sigma_s} \\int v(r) \\exp{i\\left[(\\mathbf{k}_r - \\mathbf{k}_p) \\cdot \\mathbf{r}\\right]}\n",
    "\\int \\exp{i\\left[(\\mathbf{k}_s - \\mathbf{k}_q + \\mathbf{k}_r - \\mathbf{k}_p) \\cdot \\mathbf{r}_q\\right]} d\\mathbf{r}_q d\\mathbf{r} .\n",
    "\\end{align*}\n",
    "$$"
   ]
  },
  {
   "cell_type": "markdown",
   "id": "8eb3fb18",
   "metadata": {
    "editable": true
   },
   "source": [
    "## Recognizing integral\n",
    "\n",
    "We recognize the integral over $\\mathbf{r}_q$ as a $\\delta$-function, resulting in"
   ]
  },
  {
   "cell_type": "markdown",
   "id": "76b0d82e",
   "metadata": {
    "editable": true
   },
   "source": [
    "$$\n",
    "\\langle \\mathbf{k}_p \\sigma_p, \\mathbf{k}_q \\sigma_q\\vert \\hat{v} \\vert \\mathbf{k}_r \\sigma_r, \\mathbf{k}_s \\sigma_s\\rangle =\n",
    "\\frac{1}{V} \\delta_{\\sigma_p \\sigma_r} \\delta_{\\sigma_q \\sigma_s} \\delta_{(\\mathbf{k}_p + \\mathbf{k}_q),(\\mathbf{k}_r + \\mathbf{k}_s)} \\int v(r) \\exp{i\\left[(\\mathbf{k}_r - \\mathbf{k}_p) \\cdot \\mathbf{r}\\right]} d^3r .\n",
    "$$"
   ]
  },
  {
   "cell_type": "markdown",
   "id": "5c64c795",
   "metadata": {
    "editable": true
   },
   "source": [
    "For this equation to be different from zero, we must have conservation of momenta, we need to satisfy\n",
    "$\\mathbf{k}_p + \\mathbf{k}_q = \\mathbf{k}_r + \\mathbf{k}_s$."
   ]
  },
  {
   "cell_type": "markdown",
   "id": "ccfd5d5c",
   "metadata": {
    "editable": true
   },
   "source": [
    "## Conservation of momentum\n",
    "\n",
    "We can use the conservation of momenta to remove one of the summation variables resulting in"
   ]
  },
  {
   "cell_type": "markdown",
   "id": "007840d8",
   "metadata": {
    "editable": true
   },
   "source": [
    "$$\n",
    "\\hat{V} =\n",
    "\\frac{1}{2V} \\sum_{\\sigma \\sigma'} \\sum_{\\mathbf{k}_p \\mathbf{k}_q \\mathbf{k}_r} \\left[ \\int v(r) \\exp{i\\left[(\\mathbf{k}_r - \\mathbf{k}_p) \\cdot \\mathbf{r}\\right]} d^3r \\right]\n",
    "a_{\\mathbf{k}_p \\sigma}^\\dagger a_{\\mathbf{k}_q \\sigma'}^\\dagger a_{\\mathbf{k}_p + \\mathbf{k}_q - \\mathbf{k}_r, \\sigma'} a_{\\mathbf{k}_r \\sigma},\n",
    "$$"
   ]
  },
  {
   "cell_type": "markdown",
   "id": "1b15a717",
   "metadata": {
    "editable": true
   },
   "source": [
    "which can be rewritten as"
   ]
  },
  {
   "cell_type": "markdown",
   "id": "2836f9f4",
   "metadata": {
    "editable": true
   },
   "source": [
    "<!-- Equation labels as ordinary links -->\n",
    "<div id=\"eq:V\"></div>\n",
    "\n",
    "$$\n",
    "\\begin{equation}\n",
    "\\hat{V} =\n",
    "\\frac{1}{2V} \\sum_{\\sigma \\sigma'} \\sum_{\\mathbf{k} \\mathbf{p} \\mathbf{q}} \\left[ \\int v(r) \\exp{-i( \\mathbf{q} \\cdot \\mathbf{r})} d\\mathbf{r} \\right]\n",
    "a_{\\mathbf{k} + \\mathbf{q}, \\sigma}^\\dagger a_{\\mathbf{p} - \\mathbf{q}, \\sigma'}^\\dagger a_{\\mathbf{p} \\sigma'} a_{\\mathbf{k} \\sigma},\n",
    "\\label{eq:V} \\tag{2}\n",
    "\\end{equation}\n",
    "$$"
   ]
  },
  {
   "cell_type": "markdown",
   "id": "76881d67",
   "metadata": {
    "editable": true
   },
   "source": [
    "## Some definitions\n",
    "\n",
    "In the last equation we defined\n",
    "the quantities\n",
    "$\\mathbf{p} = \\mathbf{k}_p + \\mathbf{k}_q - \\mathbf{k}_r$, $\\mathbf{k} = \\mathbf{k}_r$ og $\\mathbf{q} = \\mathbf{k}_p - \\mathbf{k}_r$."
   ]
  },
  {
   "cell_type": "markdown",
   "id": "8798fb19",
   "metadata": {
    "editable": true
   },
   "source": [
    "## Reference energy\n",
    "\n",
    "Let us now compute the expectation value of the reference energy using the expressions for the kinetic energy operator and the interaction.\n",
    "We need to compute $\\langle \\Phi_0\\vert \\hat{H} \\vert \\Phi_0\\rangle = \\langle \\Phi_0\\vert \\hat{T} \\vert \\Phi_0\\rangle + \\langle \\Phi_0\\vert \\hat{V} \\vert \\Phi_0\\rangle$, where $\\vert \\Phi_0\\rangle$ is our reference Slater determinant, constructed from filling all single-particle states up to the Fermi level.\n",
    "Let us start with the kinetic energy first"
   ]
  },
  {
   "cell_type": "markdown",
   "id": "f697ccc7",
   "metadata": {
    "editable": true
   },
   "source": [
    "$$\n",
    "\\langle \\Phi_0\\vert \\hat{T} \\vert \\Phi_0\\rangle \n",
    "= \\langle \\Phi_0\\vert \\left( \\sum_{\\mathbf{p} \\sigma} \\frac{\\hbar^2 p^2}{2m} a_{\\mathbf{p} \\sigma}^\\dagger a_{\\mathbf{p} \\sigma} \\right) \\vert \\Phi_0\\rangle\n",
    "= \\sum_{\\mathbf{p} \\sigma} \\frac{\\hbar^2 p^2}{2m} \\langle \\Phi_0\\vert a_{\\mathbf{p} \\sigma}^\\dagger a_{\\mathbf{p} \\sigma} \\vert \\Phi_0\\rangle .\n",
    "$$"
   ]
  },
  {
   "cell_type": "markdown",
   "id": "5c6c02d6",
   "metadata": {
    "editable": true
   },
   "source": [
    "## Kinetic  energy\n",
    "\n",
    "From the possible contractions using Wick's theorem, it is straightforward to convince oneself that the expression for the kinetic energy becomes"
   ]
  },
  {
   "cell_type": "markdown",
   "id": "01feae36",
   "metadata": {
    "editable": true
   },
   "source": [
    "$$\n",
    "\\langle \\Phi_0\\vert \\hat{T} \\vert \\Phi_0\\rangle = \\sum_{\\mathbf{i} \\leq F} \\frac{\\hbar^2 k_i^2}{m} = \\frac{V}{(2\\pi)^3} \\frac{\\hbar^2}{m} \\int_0^{k_F} k^2 d\\mathbf{k}.\n",
    "$$"
   ]
  },
  {
   "cell_type": "markdown",
   "id": "271e6f1d",
   "metadata": {
    "editable": true
   },
   "source": [
    "The sum of the spin degrees of freedom results in  a factor of two only if we deal with identical spin $1/2$ fermions. \n",
    "Changing to spherical coordinates, the integral over the momenta $k$ results in the final expression"
   ]
  },
  {
   "cell_type": "markdown",
   "id": "01c04d26",
   "metadata": {
    "editable": true
   },
   "source": [
    "$$\n",
    "\\langle \\Phi_0\\vert \\hat{T} \\vert \\Phi_0\\rangle = \\frac{V}{(2\\pi)^3} \\left( 4\\pi \\int_0^{k_F} k^4 d\\mathbf{k} \\right) = \\frac{4\\pi V}{(2\\pi)^3} \\frac{1}{5} k_F^5 = \\frac{4\\pi V}{5(2\\pi)^3} k_F^5 = \\frac{\\hbar^2 V}{10\\pi^2 m} k_F^5 .\n",
    "$$"
   ]
  },
  {
   "cell_type": "markdown",
   "id": "2db78549",
   "metadata": {
    "editable": true
   },
   "source": [
    "## Density of states\n",
    "\n",
    "The density of states in momentum space is given by $2V/(2\\pi)^3$, where we have included the degeneracy due to the spin degrees of freedom.\n",
    "The volume is given by  $4\\pi k_F^3/3$, and the number of particles becomes"
   ]
  },
  {
   "cell_type": "markdown",
   "id": "a20a3917",
   "metadata": {
    "editable": true
   },
   "source": [
    "$$\n",
    "N = \\frac{2V}{(2\\pi)^3} \\frac{4}{3} \\pi k_F^3 = \\frac{V}{3\\pi^2} k_F^3 \\quad \\Rightarrow \\quad\n",
    "k_F = \\left( \\frac{3\\pi^2 N}{V} \\right)^{1/3}.\n",
    "$$"
   ]
  },
  {
   "cell_type": "markdown",
   "id": "6a1c5fee",
   "metadata": {
    "editable": true
   },
   "source": [
    "This gives us"
   ]
  },
  {
   "cell_type": "markdown",
   "id": "369a86b2",
   "metadata": {
    "editable": true
   },
   "source": [
    "<!-- Equation labels as ordinary links -->\n",
    "<div id=\"eq:T_forventning\"></div>\n",
    "\n",
    "$$\n",
    "\\begin{equation}\n",
    "\\langle \\Phi_0\\vert \\hat{T} \\vert \\Phi_0\\rangle =\n",
    "\\frac{\\hbar^2 V}{10\\pi^2 m} \\left( \\frac{3\\pi^2 N}{V} \\right)^{5/3} =\n",
    "\\frac{\\hbar^2 (3\\pi^2)^{5/3} N}{10\\pi^2 m} \\rho^{2/3} ,\n",
    "\\label{eq:T_forventning} \\tag{3}\n",
    "\\end{equation}\n",
    "$$"
   ]
  },
  {
   "cell_type": "markdown",
   "id": "d2fca893",
   "metadata": {
    "editable": true
   },
   "source": [
    "## Potential energy\n",
    "\n",
    "We are now ready to calculate the expectation value of the potential energy"
   ]
  },
  {
   "cell_type": "markdown",
   "id": "851b86e7",
   "metadata": {
    "editable": true
   },
   "source": [
    "$$\n",
    "\\begin{align*}\n",
    "\\langle \\Phi_0\\vert \\hat{V} \\vert \\Phi_0\\rangle \n",
    "&= \\langle \\Phi_0\\vert \\left( \\frac{1}{2V} \\sum_{\\sigma \\sigma'} \\sum_{\\mathbf{k} \\mathbf{p} \\mathbf{q} } \\left[ \\int v(r) \\exp{-i (\\mathbf{q} \\cdot \\mathbf{r})} d\\mathbf{r} \\right] a_{\\mathbf{k} + \\mathbf{q}, \\sigma}^\\dagger a_{\\mathbf{p} - \\mathbf{q}, \\sigma'}^\\dagger a_{\\mathbf{p} \\sigma'} a_{\\mathbf{k} \\sigma} \\right) \\vert \\Phi_0\\rangle \\\\\n",
    "&= \\frac{1}{2V} \\sum_{\\sigma \\sigma'} \\sum_{\\mathbf{k} \\mathbf{p} \\mathbf{q}} \\left[ \\int v(r) \\exp{-i (\\mathbf{q} \\cdot \\mathbf{r})} d\\mathbf{r} \\right]\\langle \\Phi_0\\vert a_{\\mathbf{k} + \\mathbf{q}, \\sigma}^\\dagger a_{\\mathbf{p} - \\mathbf{q}, \\sigma'}^\\dagger a_{\\mathbf{p} \\sigma'} a_{\\mathbf{k} \\sigma} \\vert \\Phi_0\\rangle .\n",
    "\\end{align*}\n",
    "$$"
   ]
  },
  {
   "cell_type": "markdown",
   "id": "71eab94b",
   "metadata": {
    "editable": true
   },
   "source": [
    "## Non-zero term\n",
    "\n",
    "The only contractions which result in non-zero results are those that involve states below the Fermi level, that is \n",
    "$k \\leq k_F$, $p \\leq k_F$, $|\\mathbf{p} - \\mathbf{q}| < \\mathbf{k}_F$ and $|\\mathbf{k} + \\mathbf{q}| \\leq k_F$. Due to momentum conservation we must also have $\\mathbf{k} + \\mathbf{q} = \\mathbf{p}$, $\\mathbf{p} - \\mathbf{q} = \\mathbf{k}$ and  $\\sigma = \\sigma'$ or  $\\mathbf{k} + \\mathbf{q} = \\mathbf{k}$ and $\\mathbf{p} - \\mathbf{q} = \\mathbf{p}$. \n",
    "Summarizing, we must have"
   ]
  },
  {
   "cell_type": "markdown",
   "id": "bd2f0766",
   "metadata": {
    "editable": true
   },
   "source": [
    "$$\n",
    "\\mathbf{k} + \\mathbf{q} = \\mathbf{p} \\quad \\text{and} \\quad \\sigma = \\sigma', \\qquad\n",
    "\\text{or} \\qquad\n",
    "\\mathbf{q} = \\mathbf{0} .\n",
    "$$"
   ]
  },
  {
   "cell_type": "markdown",
   "id": "64dd07fd",
   "metadata": {
    "editable": true
   },
   "source": [
    "## Direct and exchange terms\n",
    "\n",
    "We obtain then"
   ]
  },
  {
   "cell_type": "markdown",
   "id": "e22323af",
   "metadata": {
    "editable": true
   },
   "source": [
    "$$\n",
    "\\langle \\Phi_0\\vert \\hat{V} \\vert \\Phi_0\\rangle =\n",
    "\\frac{1}{2V} \\left( \\sum_{\\sigma \\sigma'} \\sum_{\\mathbf{q} \\mathbf{p} \\leq F} \\left[ \\int v(r) d\\mathbf{r} \\right] - \\sum_{\\sigma}\n",
    "\\sum_{\\mathbf{q} \\mathbf{p} \\leq F} \\left[ \\int v(r) \\exp{-i (\\mathbf{q} \\cdot \\mathbf{r})} d\\mathbf{r} \\right] \\right).\n",
    "$$"
   ]
  },
  {
   "cell_type": "markdown",
   "id": "67f3ff3b",
   "metadata": {
    "editable": true
   },
   "source": [
    "The first term is the so-called direct term while the second term is the exchange term."
   ]
  },
  {
   "cell_type": "markdown",
   "id": "15eb4ae6",
   "metadata": {
    "editable": true
   },
   "source": [
    "## Potential energy\n",
    "\n",
    "We can rewrite this equation as (and this applies to any potential which depends only on the relative distance between particles)"
   ]
  },
  {
   "cell_type": "markdown",
   "id": "3fe52af3",
   "metadata": {
    "editable": true
   },
   "source": [
    "<!-- Equation labels as ordinary links -->\n",
    "<div id=\"eq:V_b\"></div>\n",
    "\n",
    "$$\n",
    "\\begin{equation}\n",
    "\\langle \\Phi_0\\vert \\hat{V} \\vert \\Phi_0\\rangle =\n",
    "\\frac{1}{2V} \\left( N^2 \\left[ \\int v(r) d\\mathbf{r} \\right] - N \\sum_{\\mathbf{q}} \\left[ \\int v(r) \\exp{-i (\\mathbf{q}\\cdot \\mathbf{r})} d\\mathbf{r} \\right] \\right),\n",
    "\\label{eq:V_b} \\tag{4}\n",
    "\\end{equation}\n",
    "$$"
   ]
  },
  {
   "cell_type": "markdown",
   "id": "b77c845f",
   "metadata": {
    "editable": true
   },
   "source": [
    "where we have used the fact that a sum like $\\sum_{\\sigma}\\sum_{\\mathbf{k}}$ equals the number of particles. Using the fact that the density is given by\n",
    "$\\rho = N/V$, with $V$ being our volume, we can rewrite the last equation as"
   ]
  },
  {
   "cell_type": "markdown",
   "id": "519137a1",
   "metadata": {
    "editable": true
   },
   "source": [
    "$$\n",
    "\\langle \\Phi_0\\vert \\hat{V} \\vert \\Phi_0\\rangle =\n",
    "\\frac{1}{2} \\left( \\rho N \\left[ \\int v(r) d\\mathbf{r} \\right] - \\rho\\sum_{\\mathbf{q}} \\left[ \\int v(r) \\exp{-i (\\mathbf{q}\\cdot \\mathbf{r})} d\\mathbf{r} \\right] \\right).\n",
    "$$"
   ]
  },
  {
   "cell_type": "markdown",
   "id": "c614002e",
   "metadata": {
    "editable": true
   },
   "source": [
    "## Interaction part\n",
    "\n",
    "For the electron gas\n",
    "the interaction part of the Hamiltonian operator is given by"
   ]
  },
  {
   "cell_type": "markdown",
   "id": "9d4cd383",
   "metadata": {
    "editable": true
   },
   "source": [
    "$$\n",
    "\\hat{H}_I=\\hat{H}_{el}+\\hat{H}_{b}+\\hat{H}_{el-b},\n",
    "$$"
   ]
  },
  {
   "cell_type": "markdown",
   "id": "0f123e17",
   "metadata": {
    "editable": true
   },
   "source": [
    "with the electronic part"
   ]
  },
  {
   "cell_type": "markdown",
   "id": "229569ab",
   "metadata": {
    "editable": true
   },
   "source": [
    "$$\n",
    "\\hat{H}_{el}=\\sum_{i=1}^N\\frac{p_i^2}{2m}+\\frac{e^2}{2}\\sum_{i\\ne j}\\frac{e^{-\\mu |\\mathbf{r}_i-\\mathbf{r}_j|}}{|\\mathbf{r}_i-\\mathbf{r}_j|},\n",
    "$$"
   ]
  },
  {
   "cell_type": "markdown",
   "id": "082946cf",
   "metadata": {
    "editable": true
   },
   "source": [
    "where we have introduced an explicit convergence factor\n",
    "(the limit $\\mu\\rightarrow 0$ is performed after having calculated the various integrals)."
   ]
  },
  {
   "cell_type": "markdown",
   "id": "b7549814",
   "metadata": {
    "editable": true
   },
   "source": [
    "## Positive background\n",
    "\n",
    "Correspondingly, we have"
   ]
  },
  {
   "cell_type": "markdown",
   "id": "61273a32",
   "metadata": {
    "editable": true
   },
   "source": [
    "$$\n",
    "\\hat{H}_{b}=\\frac{e^2}{2}\\int\\int d\\mathbf{r}d\\mathbf{r}'\\frac{n(\\mathbf{r})n(\\mathbf{r}')e^{-\\mu |\\mathbf{r}-\\mathbf{r}'|}}{|\\mathbf{r}-\\mathbf{r}'|},\n",
    "$$"
   ]
  },
  {
   "cell_type": "markdown",
   "id": "754de1bd",
   "metadata": {
    "editable": true
   },
   "source": [
    "which is the energy contribution from the positive background charge with density\n",
    "$n(\\mathbf{r})=N/V$. Finally,"
   ]
  },
  {
   "cell_type": "markdown",
   "id": "09c80273",
   "metadata": {
    "editable": true
   },
   "source": [
    "$$\n",
    "\\hat{H}_{el-b}=-\\frac{e^2}{2}\\sum_{i=1}^N\\int d\\mathbf{r}\\frac{n(\\mathbf{r})e^{-\\mu |\\mathbf{r}-\\mathbf{x}_i|}}{|\\mathbf{r}-\\mathbf{x}_i|},\n",
    "$$"
   ]
  },
  {
   "cell_type": "markdown",
   "id": "ae89377b",
   "metadata": {
    "editable": true
   },
   "source": [
    "is the interaction between the electrons and the positive background."
   ]
  },
  {
   "cell_type": "markdown",
   "id": "345e0fe8",
   "metadata": {
    "editable": true
   },
   "source": [
    "## Positive charge contribution\n",
    "\n",
    "We can show that"
   ]
  },
  {
   "cell_type": "markdown",
   "id": "48f86788",
   "metadata": {
    "editable": true
   },
   "source": [
    "$$\n",
    "\\hat{H}_{b}=\\frac{e^2}{2}\\frac{N^2}{V}\\frac{4\\pi}{\\mu^2},\n",
    "$$"
   ]
  },
  {
   "cell_type": "markdown",
   "id": "e409fa38",
   "metadata": {
    "editable": true
   },
   "source": [
    "and"
   ]
  },
  {
   "cell_type": "markdown",
   "id": "04a77e89",
   "metadata": {
    "editable": true
   },
   "source": [
    "$$\n",
    "\\hat{H}_{el-b}=-e^2\\frac{N^2}{V}\\frac{4\\pi}{\\mu^2}.\n",
    "$$"
   ]
  },
  {
   "cell_type": "markdown",
   "id": "2c3e06aa",
   "metadata": {
    "editable": true
   },
   "source": [
    "## Thermodynamic limit\n",
    "\n",
    "For the electron gas and a Coulomb interaction, these two terms are cancelled (in the thermodynamic limit) by the contribution from the direct term arising\n",
    "from the repulsive electron-electron interaction. What remains then  when computing the reference energy is only the kinetic energy contribution and the contribution from the exchange term.  For other interactions, like nuclear forces with a short range part and no infinite range, we need to compute both the direct term and the exchange term. \n",
    "\n",
    "We can show that the final Hamiltonian can be written as"
   ]
  },
  {
   "cell_type": "markdown",
   "id": "d5e78a02",
   "metadata": {
    "editable": true
   },
   "source": [
    "$$\n",
    "H=H_{0}+H_{I},\n",
    "$$"
   ]
  },
  {
   "cell_type": "markdown",
   "id": "69d2cc3e",
   "metadata": {
    "editable": true
   },
   "source": [
    "with"
   ]
  },
  {
   "cell_type": "markdown",
   "id": "362a8f66",
   "metadata": {
    "editable": true
   },
   "source": [
    "$$\n",
    "H_{0}={\\displaystyle\\sum_{\\mathbf{k}\\sigma}}\n",
    "\\frac{\\hbar^{2}k^{2}}{2m}a_{\\mathbf{k}\\sigma}^{\\dagger}\n",
    "a_{\\mathbf{k}\\sigma},\n",
    "$$"
   ]
  },
  {
   "cell_type": "markdown",
   "id": "5ac28826",
   "metadata": {
    "editable": true
   },
   "source": [
    "and"
   ]
  },
  {
   "cell_type": "markdown",
   "id": "50412172",
   "metadata": {
    "editable": true
   },
   "source": [
    "$$\n",
    "H_{I}=\\frac{e^{2}}{2V}{\\displaystyle\\sum_{\\sigma_{1}\\sigma_{2}}}{\\displaystyle\\sum_{\\mathbf{q}\\neq 0,\\mathbf{k},\\mathbf{p}}}\\frac{4\\pi}{q^{2}}\n",
    "a_{\\mathbf{k}+\\mathbf{q},\\sigma_{1}}^{\\dagger}\n",
    "a_{\\mathbf{p}-\\mathbf{q},\\sigma_{2}}^{\\dagger}\n",
    "a_{\\mathbf{p}\\sigma_{2}}a_{\\mathbf{k}\\sigma_{1}}.\n",
    "$$"
   ]
  },
  {
   "cell_type": "markdown",
   "id": "b1ec1a32",
   "metadata": {
    "editable": true
   },
   "source": [
    "## Ground state energy\n",
    "\n",
    "Calculate $E_0/N=\\langle \\Phi_{0}\\vert H\\vert \\Phi_{0}\\rangle/N$ for for this system to first order in the interaction. Show that, by using"
   ]
  },
  {
   "cell_type": "markdown",
   "id": "0eb4f54b",
   "metadata": {
    "editable": true
   },
   "source": [
    "$$\n",
    "\\rho= \\frac{k_F^3}{3\\pi^2}=\\frac{3}{4\\pi r_0^3},\n",
    "$$"
   ]
  },
  {
   "cell_type": "markdown",
   "id": "9bac2b51",
   "metadata": {
    "editable": true
   },
   "source": [
    "with $\\rho=N/V$, $r_0$\n",
    "being the radius of a sphere representing the volume an electron occupies \n",
    "and the Bohr radius $a_0=\\hbar^2/e^2m$, \n",
    "that the energy per electron can be written as"
   ]
  },
  {
   "cell_type": "markdown",
   "id": "a20c6cc1",
   "metadata": {
    "editable": true
   },
   "source": [
    "$$\n",
    "E_0/N=\\frac{e^2}{2a_0}\\left[\\frac{2.21}{r_s^2}-\\frac{0.916}{r_s}\\right].\n",
    "$$"
   ]
  },
  {
   "cell_type": "markdown",
   "id": "16668248",
   "metadata": {
    "editable": true
   },
   "source": [
    "Here we have defined\n",
    "$r_s=r_0/a_0$ to be a dimensionless quantity."
   ]
  },
  {
   "cell_type": "markdown",
   "id": "d18cd5d4",
   "metadata": {
    "editable": true
   },
   "source": [
    "## Exercise 2: plot of energy\n",
    "\n",
    "Plot the energy as function of $r_s$. Why is this system stable?\n",
    "Calculate thermodynamical quantities like the pressure, given by"
   ]
  },
  {
   "cell_type": "markdown",
   "id": "31c1a231",
   "metadata": {
    "editable": true
   },
   "source": [
    "$$\n",
    "P=-\\left(\\frac{\\partial E}{\\partial V}\\right)_N,\n",
    "$$"
   ]
  },
  {
   "cell_type": "markdown",
   "id": "65fc6893",
   "metadata": {
    "editable": true
   },
   "source": [
    "and the bulk modulus"
   ]
  },
  {
   "cell_type": "markdown",
   "id": "ef095eb4",
   "metadata": {
    "editable": true
   },
   "source": [
    "$$\n",
    "B=-V\\left(\\frac{\\partial P}{\\partial V}\\right)_N,\n",
    "$$"
   ]
  },
  {
   "cell_type": "markdown",
   "id": "3c31883b",
   "metadata": {
    "editable": true
   },
   "source": [
    "and comment your results."
   ]
  },
  {
   "cell_type": "markdown",
   "id": "3fa0bc11",
   "metadata": {
    "editable": true
   },
   "source": [
    "## Density functional theory\n",
    "\n",
    "Hohenberg and Kohn proved that the total energy of a system including\n",
    "that of the many-body effects of electrons (exchange and correlation)\n",
    "in the presence of static external potential (for example, the atomic\n",
    "nuclei) is a unique functional of the charge density. The minimum\n",
    "value of the total energy functional is the ground state energy of the\n",
    "system. The electronic charge density which yields this minimum is\n",
    "then the exact single particle ground state energy."
   ]
  },
  {
   "cell_type": "markdown",
   "id": "f857d531",
   "metadata": {
    "editable": true
   },
   "source": [
    "## Functional of density\n",
    "\n",
    "The electronic energy $E$ is said to be a functional of the\n",
    "electronic density, $E[\\rho]$, in the sense that for a given function\n",
    "$\\rho(r)$, there is a single corresponding energy. The\n",
    "Hohenberg-Kohn theorems (two) confirms that such a functional exists,\n",
    "but does not tell us the form of the functional.\n",
    "\n",
    "Density functional theory has turned out to be a resounding success. A\n",
    "large majority of crystalline materials, many molecules and molecular\n",
    "structures have been explained using DFT. Walter Kohn, involved in\n",
    "both the Hohenberg-Kohn theory and development of the Kohn-Sham\n",
    "equations, received the Nobel Prize in Chemistry for DFT and\n",
    "computational chemistry in 1998.  DFT is used in a broad spectrum of\n",
    "disciplines, including quantum chemistry, materials science, condensed\n",
    "matter physics and low-energy nuclear physics"
   ]
  },
  {
   "cell_type": "markdown",
   "id": "7613fc9e",
   "metadata": {
    "editable": true
   },
   "source": [
    "## The many-particle equation\n",
    "\n",
    "Any material on earth, whether in crystals, amorphous solids,\n",
    "molecules or yourself, consists of nothing else than a bunch of atoms,\n",
    "ions and electrons bound together by electric forces. All these\n",
    "possible forms of matter can be explained by virtue of one simple\n",
    "equation: the many-particle Schr\\\"{o}dinger equation,"
   ]
  },
  {
   "cell_type": "markdown",
   "id": "30875e55",
   "metadata": {
    "editable": true
   },
   "source": [
    "<!-- Equation labels as ordinary links -->\n",
    "<div id=\"_auto2\"></div>\n",
    "\n",
    "$$\n",
    "\\begin{equation}\n",
    "\ti \\hbar \\frac{\\partial}{\\partial t} \\Phi( \\boldsymbol{r} ; t) = \n",
    "\t\\left( - \\sum_{i}^N \\frac{\\hbar^2}{2m_i} \\frac{\\partial^2}{\\partial \\boldsymbol{r}_i^2}\n",
    "\t+ \\sum_{i<j}^N \\frac{e^2 Z_i Z_j }{ | \\boldsymbol{r}_i - \\boldsymbol{r}_j| } \\right)  \\Phi( \\boldsymbol{r} ; t).\n",
    "\\label{_auto2} \\tag{5}\n",
    "\\end{equation}\n",
    "$$"
   ]
  },
  {
   "cell_type": "markdown",
   "id": "f745f66a",
   "metadata": {
    "editable": true
   },
   "source": [
    "Here $\\Phi(\\boldsymbol{r} ; t)$ is the many-body wavefunction for $N$ particles, where each particle has its own mass $m_i$, charge $Z_i$ and position $\\boldsymbol{r}_i$. The only interaction is the Coulomb interaction $e^2/r$."
   ]
  },
  {
   "cell_type": "markdown",
   "id": "a99dbaf1",
   "metadata": {
    "editable": true
   },
   "source": [
    "## Born-Oppenheimer approximation\n",
    "\n",
    "In atomic and molecular physics, materials science and quantum chemsitry, the Born-Oppenheimer  approximation arises from the physical problem we want to\n",
    "study: the ground state of a collection of interacting ions and\n",
    "electrons. Because even the lightest ion is more than a thousand times\n",
    "heavier than an electron, we approximate our Hamiltonian  to not include  the dynamics of the\n",
    "ions all-together. This is known as the **Born-Oppenheimer**\n",
    "approximation."
   ]
  },
  {
   "cell_type": "markdown",
   "id": "5b9f3637",
   "metadata": {
    "editable": true
   },
   "source": [
    "## Time-independent equation\n",
    "\n",
    "We then write the time-independent Schr\\\"{o}dinger\n",
    "equation for a collection of $N$ electrons subject to the\n",
    "electric potential created by the fixed ions, labeled $v_{\\mathrm{ext}}(\\boldsymbol{r})$,"
   ]
  },
  {
   "cell_type": "markdown",
   "id": "6799078c",
   "metadata": {
    "editable": true
   },
   "source": [
    "$$\n",
    "\\left( \\sum_{i}^N \\left( - \\frac{\\hbar^2}{2m} \\frac{\\partial^2}{\\partial \\boldsymbol{r}_i^2}\n",
    "\t+ v_{\\mathrm{ext}}(\\boldsymbol{r}_i) \\right)\n",
    "\t + \\sum_{i<j}^N \\frac{e^2}{|\\boldsymbol{r}_i - \\boldsymbol{r}_j|} \\right) \\Psi(\\boldsymbol{r}) = E_0  \\Psi( \\boldsymbol{r} ),\n",
    "$$"
   ]
  },
  {
   "cell_type": "markdown",
   "id": "614dc854",
   "metadata": {
    "editable": true
   },
   "source": [
    "where $\\boldsymbol{r}_i$ are the positions of the electrons.\n",
    "\n",
    "We can replace the explicit Coulomb repulsion with a generic two-body interaction"
   ]
  },
  {
   "cell_type": "markdown",
   "id": "7ff71eda",
   "metadata": {
    "editable": true
   },
   "source": [
    "$$\n",
    "\\sum_{i}^N \\left( - \\frac{\\hbar^2}{2m} \\frac{\\partial^2}{\\partial \\boldsymbol{r}_i^2}\n",
    "\t+ v_{\\mathrm{ext}}(\\boldsymbol{r}_i) \\right)\n",
    "\t + \\sum_{i<j}^N v(r_{ij})( = E_0  \\Psi( \\boldsymbol{r} ),\n",
    "$$"
   ]
  },
  {
   "cell_type": "markdown",
   "id": "6ad7ad38",
   "metadata": {
    "editable": true
   },
   "source": [
    "where $r_{ij}=\\vert \\boldsymbol{r}_i-\\boldsymbol{r}_j\\vert$."
   ]
  },
  {
   "cell_type": "markdown",
   "id": "f4a02582",
   "metadata": {
    "editable": true
   },
   "source": [
    "## Potential term\n",
    "The potential\n",
    "$v_{\\mathrm{ext}}(\\boldsymbol{r}_i)$ is created by the charged ions,"
   ]
  },
  {
   "cell_type": "markdown",
   "id": "5cab577d",
   "metadata": {
    "editable": true
   },
   "source": [
    "$$\n",
    "v_{\\mathrm{ext}}(\\boldsymbol{r}_i) = - \\sum_j \\frac{e^2 Z_j}{| \\boldsymbol{r}_i - \\boldsymbol{R}_j|}\n",
    "$$"
   ]
  },
  {
   "cell_type": "markdown",
   "id": "76c95d8d",
   "metadata": {
    "editable": true
   },
   "source": [
    "where $\\boldsymbol{R}$ is the (static) positions of the ions and $Z_j$ their\n",
    "charge."
   ]
  },
  {
   "cell_type": "markdown",
   "id": "35ef83b6",
   "metadata": {
    "editable": true
   },
   "source": [
    "## The one-body density\n",
    "The one-body reduced density matrix of a many-body system at zero\n",
    "temperature gives direct access to many observables, such as the charge density,\n",
    "kinetic energy and occupation numbers. In a coordinate representation it is defined as\n",
    "as the expectation value of the number operator"
   ]
  },
  {
   "cell_type": "markdown",
   "id": "2804e6de",
   "metadata": {
    "editable": true
   },
   "source": [
    "$$\n",
    "\\hat{n}(\\boldsymbol{r})=\\sum_{i=1}^N\\delta(\\boldsymbol{r}-\\boldsymbol{r}_i),\n",
    "$$"
   ]
  },
  {
   "cell_type": "markdown",
   "id": "d3985e10",
   "metadata": {
    "editable": true
   },
   "source": [
    "resulting in"
   ]
  },
  {
   "cell_type": "markdown",
   "id": "ee6fc728",
   "metadata": {
    "editable": true
   },
   "source": [
    "$$\n",
    "n(\\boldsymbol{r})=\\frac{\\langle \\Psi \\vert \\hat{n}(\\boldsymbol{r}) \\vert \\Psi \\rangle}{\\langle \\Psi\\vert \\Psi \\rangle}.\n",
    "$$"
   ]
  },
  {
   "cell_type": "markdown",
   "id": "a13df228",
   "metadata": {
    "editable": true
   },
   "source": [
    "Here $\\Psi$ can be any state. In the equations that follow we assume it has been normalized properly."
   ]
  },
  {
   "cell_type": "markdown",
   "id": "e6913ec0",
   "metadata": {
    "editable": true
   },
   "source": [
    "## One-body density\n",
    "\n",
    "The one-body or just electronic density here, is thus obtained by integrating out all electron\n",
    "degrees of freedom except one, that is (setting $\\boldsymbol{r}=\\boldsymbol{r}_1$)"
   ]
  },
  {
   "cell_type": "markdown",
   "id": "62693e69",
   "metadata": {
    "editable": true
   },
   "source": [
    "$$\n",
    "n(\\boldsymbol{r})=n(\\boldsymbol{r}_1) = \\int d^3 \\boldsymbol{r}_2 \\cdots d^3 \\boldsymbol{r}_N\n",
    "\t\t\\left| \\Psi (\\boldsymbol{r}_1 \\cdots \\boldsymbol{r}_n) \\right|^2.\n",
    "$$"
   ]
  },
  {
   "cell_type": "markdown",
   "id": "af6e901f",
   "metadata": {
    "editable": true
   },
   "source": [
    "If $\\Psi$ is a single reference Slater determinant defined in terms of the single-particle functions $\\psi_i$, then we have"
   ]
  },
  {
   "cell_type": "markdown",
   "id": "1bcd20c8",
   "metadata": {
    "editable": true
   },
   "source": [
    "$$\n",
    "n(\\boldsymbol{r})=\\sum_{i=1}^N\\vert \\psi_i(\\boldsymbol{r})\\vert^2,\n",
    "$$"
   ]
  },
  {
   "cell_type": "markdown",
   "id": "10c771d7",
   "metadata": {
    "editable": true
   },
   "source": [
    "as derived earlier."
   ]
  },
  {
   "cell_type": "markdown",
   "id": "17c03599",
   "metadata": {
    "editable": true
   },
   "source": [
    "## Hohenberg-Kohn theory\n",
    "\n",
    "Assume we found a solution for the Hamiltonian from the Born-Oppenheimer approximation, with\n",
    "ground state energy $E_0$ and a certain electronic density\n",
    "$n(\\boldsymbol{r})$. The strength of the Coulomb interaction and the mass of an\n",
    "electron are constants of nature, so the only input that can possibly\n",
    "influence the electronic density $n(\\boldsymbol{r})$ and the energy $E_0$ of our\n",
    "ground state is our choice of potential $v_{\\mathrm{ext}}(\\boldsymbol{r})$. In other words, the\n",
    "ground state energy is a {\\em functional} of the input potential,"
   ]
  },
  {
   "cell_type": "markdown",
   "id": "f20bfe6c",
   "metadata": {
    "editable": true
   },
   "source": [
    "$$\n",
    "E_0 [v_{\\mathrm{ext}}(\\boldsymbol{r})] = \\mathcal{F}_E[ v_{\\mathrm{ext}}(\\boldsymbol{r}) ]\n",
    "$$"
   ]
  },
  {
   "cell_type": "markdown",
   "id": "df6da0ec",
   "metadata": {
    "editable": true
   },
   "source": [
    "## Energy functional\n",
    "A functional is nothing else than a function whose input is another\n",
    "function; in this case the functional $\\mathcal{F}$ takes as input the\n",
    "electric potential generated by the ions and outputs the ground state\n",
    "energy based on thr Born-Oppenheimer approximation.\n",
    "\n",
    "At first this results seems counterintuitive. After all, the ground\n",
    "state energy clearly contains the kinetic energy $T$, the interaction\n",
    "energy $U$ and the potential energy. Only the latter term \n",
    "explicitly depends on the potential. We can thus write the ground\n",
    "state energy in terms of a separate functional for the kinetic and\n",
    "interaction energy, and the potential energy"
   ]
  },
  {
   "cell_type": "markdown",
   "id": "110ba10d",
   "metadata": {
    "editable": true
   },
   "source": [
    "## How to find the functional\n",
    "Knowing this functional, for any given potential $V(\\boldsymbol{r})$ we minimize\n",
    "the right hand side by checking all possible electronic density\n",
    "distributions.\n",
    "\n",
    "There are only two minor problems. We don't know what this functional\n",
    "looks like. And even if we did, we don't know how to find the right\n",
    "electronic density."
   ]
  },
  {
   "cell_type": "markdown",
   "id": "275180dc",
   "metadata": {
    "editable": true
   },
   "source": [
    "## Approximating the functional\n",
    "\n",
    "The unknown functional $\\mathcal{F}[n(\\boldsymbol{r})]$ should describe the\n",
    "kinetic and interaction energy of a system described by\n",
    "for example the Born-Oppenheimer approximation. Even though we cannot find its exact\n",
    "shape, we can look at its shape in some limiting cases that we can\n",
    "solve.\n",
    "\n",
    "We know that a free homogeneous electron gas (HEG) with density $n$ has a\n",
    "ground state energy of"
   ]
  },
  {
   "cell_type": "markdown",
   "id": "931fe11a",
   "metadata": {
    "editable": true
   },
   "source": [
    "$$\n",
    "E_0 = \\frac{3 \\hbar^2 \\left( 3 \\pi^2 \\right)^{2/3}}{10 m} n_0^{5/3}.\n",
    "$$"
   ]
  },
  {
   "cell_type": "markdown",
   "id": "e72c79c2",
   "metadata": {
    "editable": true
   },
   "source": [
    "## Using the results from the HEG\n",
    "\n",
    "For a slowly varying electronic density, we can approximate the\n",
    "kinetic energy contribution to the full functional\n",
    "$\\mathcal{F}[n(\\boldsymbol{r})]$ as the energy evaluated\n",
    "at each point separately,"
   ]
  },
  {
   "cell_type": "markdown",
   "id": "c43a0f3c",
   "metadata": {
    "editable": true
   },
   "source": [
    "$$\n",
    "\\mathcal{T}_0 [n(\\boldsymbol{r})] =\n",
    "\t \\frac{3 \\hbar^2 \\left( 3 \\pi^2 \\right)^{2/3}}{10 m} \\int  d^3\\boldsymbol{r} ( n(\\boldsymbol{r}) )^{5/3}.\n",
    "$$"
   ]
  },
  {
   "cell_type": "markdown",
   "id": "1fec025f",
   "metadata": {
    "editable": true
   },
   "source": [
    "## Hartree term to the energy\n",
    "\n",
    "We have also earlier derived that the simplest \n",
    "energy contribution from Coulomb interactions is given by the Hartree\n",
    "term"
   ]
  },
  {
   "cell_type": "markdown",
   "id": "e90d3249",
   "metadata": {
    "editable": true
   },
   "source": [
    "$$\n",
    "\\mathcal{U}_{\\mathrm{H}} [n(\\boldsymbol{r})] = \n",
    "\t\t\\frac{e^2}{2} \\int d^3\\boldsymbol{r} d^3\\boldsymbol{r}' \\, \\frac{n(\\boldsymbol{r}) n(\\boldsymbol{r}')}{|\\boldsymbol{r} - \\boldsymbol{r}'|}.\n",
    "$$"
   ]
  },
  {
   "cell_type": "markdown",
   "id": "8476b447",
   "metadata": {
    "editable": true
   },
   "source": [
    "## Final functional\n",
    "\n",
    "It is natural to write out the full functional as containing the\n",
    "homogeneous electron gas term and the Hartree term. The remaining\n",
    "terms, though still unknown, should be small. This unknown part is\n",
    "conventionally called the {\\em exchange-correlation potential}\n",
    "$E_{xc}[n(\\boldsymbol{r})]$. The full Hohenberg-Kohn functional, including the\n",
    "potential energy, is thus"
   ]
  },
  {
   "cell_type": "markdown",
   "id": "1ee8daeb",
   "metadata": {
    "editable": true
   },
   "source": [
    "$$\n",
    "\\mathcal{E}_{\\mathrm{HK}}[n(\\boldsymbol{r})] = \n",
    "\t\t\\mathcal{T}_0 [n(\\boldsymbol{r})]\n",
    "\t\t + \\int d^3 \\boldsymbol{r} v_{\\mathrm{ext}}(r) n(\\boldsymbol{r})\n",
    "\t\t + \\mathcal{U}_{\\mathrm{H}} [n(\\boldsymbol{r})]\n",
    "\t\t + E_{xc} [ n(\\boldsymbol{r})].\n",
    "$$"
   ]
  },
  {
   "cell_type": "markdown",
   "id": "3ce8c6f4",
   "metadata": {
    "editable": true
   },
   "source": [
    "## Kohn-Sham equation\n",
    "\n",
    "We replaced an intractable problem with the task of minimizing an unknown\n",
    "functional $\\mathcal{F}[n(\\boldsymbol{r})]$ over infinitely many possible\n",
    "electronic densities $n(\\boldsymbol{r})$. In the previous section we already gave\n",
    "some first suggestions for the functional. But once we found it, how\n",
    "to find the right electronic density $n(\\boldsymbol{r})$?\n",
    "\n",
    "Because the correct density minimizes the functional, we can find the\n",
    "functional by setting it's derivative to zero,"
   ]
  },
  {
   "cell_type": "markdown",
   "id": "1407dc11",
   "metadata": {
    "editable": true
   },
   "source": [
    "$$\n",
    "\\frac{\\delta \\mathcal{F}[n(\\boldsymbol{r})] }{\\delta n(\\boldsymbol{r})} = 0.\n",
    "$$"
   ]
  },
  {
   "cell_type": "markdown",
   "id": "a04ddefa",
   "metadata": {
    "editable": true
   },
   "source": [
    "## Kohn-Sham equations\n",
    "Using the functional Eq(insert), we write\n",
    "out\n",
    "\n",
    "<!-- \\footnote{There is a small subtlety included in this equation: the -->\n",
    "<!-- kinetic component of the functional $\\mathcal{T} [n(\\boldsymbol{r})]$ should not -->\n",
    "<!-- be the one obtained for the free homogeneous noninteracting electron -->\n",
    "<!-- gas, but the one for a noninteracting gas subject -->\n",
    "<!-- to the Kohn-Sham potential.} -->"
   ]
  },
  {
   "cell_type": "markdown",
   "id": "2a4d2178",
   "metadata": {
    "editable": true
   },
   "source": [
    "$$\n",
    "\\frac{\\delta \\mathcal{T}[n(\\boldsymbol{r})] }{\\delta n(\\boldsymbol{r})}\n",
    "\t+ v_{\\mathrm{ext}}(\\boldsymbol{r})\n",
    "\t+ \\int \\frac{n(\\boldsymbol{r}')}{|\\boldsymbol{r}-\\boldsymbol{r}'|}d^3 \\boldsymbol{r}'\n",
    "\t+ \\frac{\\delta E_{xc} [n(\\boldsymbol{r})] }{\\delta n(\\boldsymbol{r})}\n",
    "\t=0.\n",
    "$$"
   ]
  },
  {
   "cell_type": "markdown",
   "id": "7b0b4101",
   "metadata": {
    "editable": true
   },
   "source": [
    "## The equations\n",
    "The idea of Kohn and Sham was to treat this as if it\n",
    "is a single-particle problem. The first term represents the\n",
    "kinetic energy, and the remaining terms form the Kohn-Sham potential"
   ]
  },
  {
   "cell_type": "markdown",
   "id": "80ff4b71",
   "metadata": {
    "editable": true
   },
   "source": [
    "$$\n",
    "V_{\\mathrm{KS}}(\\boldsymbol{r}) = V(\\boldsymbol{r})\n",
    "\t+ \\int \\frac{n(\\boldsymbol{r}')}{|\\boldsymbol{r}-\\boldsymbol{r}'|}d^3 \\boldsymbol{r}'\n",
    "\t+ \\frac{\\delta E_{xc} [n(\\boldsymbol{r})] }{\\delta n(\\boldsymbol{r})}.\n",
    "$$"
   ]
  },
  {
   "cell_type": "markdown",
   "id": "d12a1a56",
   "metadata": {
    "editable": true
   },
   "source": [
    "The Kohn-Sham equation is the single-particle Schr\\\"{o}dinger\n",
    "equation with the potential given by the last equation,"
   ]
  },
  {
   "cell_type": "markdown",
   "id": "90b9d617",
   "metadata": {
    "editable": true
   },
   "source": [
    "$$\n",
    "\\left( - \\frac{\\hbar^2}{2m} \\frac{\\partial^2}{\\partial \\boldsymbol{r}^2} + V_{\\mathrm{KS}}(\\boldsymbol{r}) \\right) \\psi_i(\\boldsymbol{r}) = \\epsilon_i \\psi_i (\\boldsymbol{r}).\n",
    "$$"
   ]
  },
  {
   "cell_type": "markdown",
   "id": "2e7a1fbb",
   "metadata": {
    "editable": true
   },
   "source": [
    "## Numerical solution\n",
    "\n",
    "The Kohn-Sham equations have to be solved numerically. As with our\n",
    "discussions of Hartree-Fock theory, this is tractable because the\n",
    "equations are just given by a set of coupled differential\n",
    "equation. The electronic density is obtained by occupying the $N$\n",
    "solutions $\\psi_i(\\boldsymbol{r})$ with the lowest energy,"
   ]
  },
  {
   "cell_type": "markdown",
   "id": "5d1e2251",
   "metadata": {
    "editable": true
   },
   "source": [
    "$$\n",
    "n(\\boldsymbol{r}) = \\sum_{i=1}^N |\\psi_i (\\boldsymbol{r}) |^2.\n",
    "$$"
   ]
  },
  {
   "cell_type": "markdown",
   "id": "6b8e4667",
   "metadata": {
    "editable": true
   },
   "source": [
    "Now the electronic density obtained this way can be used to calculate\n",
    "a new Kohn-Sham potential. We\n",
    "continue this iterative procedure until we reach convergence."
   ]
  },
  {
   "cell_type": "markdown",
   "id": "a2f3f732",
   "metadata": {
    "editable": true
   },
   "source": [
    "## Many-Electron Problem and  Hohenberg–Kohn Theorems: Theorem I\n",
    "\n",
    "For any many-electron system in an external potential"
   ]
  },
  {
   "cell_type": "markdown",
   "id": "b1bef81a",
   "metadata": {
    "editable": true
   },
   "source": [
    "$$\n",
    "V_{\\rm ext}(\\mathbf{r}),\n",
    "$$"
   ]
  },
  {
   "cell_type": "markdown",
   "id": "f51498d5",
   "metadata": {
    "editable": true
   },
   "source": [
    "the potential is uniquely determined (up to an additive constant) by the ground-state electron density"
   ]
  },
  {
   "cell_type": "markdown",
   "id": "53f1c02f",
   "metadata": {
    "editable": true
   },
   "source": [
    "$$\n",
    "n(\\mathbf{r}).\n",
    "$$"
   ]
  },
  {
   "cell_type": "markdown",
   "id": "b41e4563",
   "metadata": {
    "editable": true
   },
   "source": [
    "Equivalently, the mapping"
   ]
  },
  {
   "cell_type": "markdown",
   "id": "c444dbbf",
   "metadata": {
    "editable": true
   },
   "source": [
    "$$\n",
    "V_{\\rm ext}(\\mathbf{r}) \\mapsto n(\\mathbf{r}),\n",
    "$$"
   ]
  },
  {
   "cell_type": "markdown",
   "id": "3c9540ab",
   "metadata": {
    "editable": true
   },
   "source": [
    "is one-to-one (for non-degenerate ground states) . This means no two\n",
    "different external potentials can yield the same ground-state\n",
    "density. As a corollary, the ground-state density $n(\\mathbf{r})$\n",
    "uniquely determines the full Hamiltonian (up to constant shift in\n",
    "energy) and thus all properties of the system ."
   ]
  },
  {
   "cell_type": "markdown",
   "id": "8964976d",
   "metadata": {
    "editable": true
   },
   "source": [
    "## Many-Electron Problem and  Hohenberg–Kohn Theorems: Theorem II\n",
    "\n",
    "There exists a universal functional $F[n]$ such that for any $N$-electron density $n(\\mathbf{r})$, the energy can be written as"
   ]
  },
  {
   "cell_type": "markdown",
   "id": "2a67688f",
   "metadata": {
    "editable": true
   },
   "source": [
    "$$\n",
    "E[n] = F[n] + \\int d^3r\\,V_{\\rm ext}(\\mathbf{r})\\,n(\\mathbf{r}),\n",
    "$$"
   ]
  },
  {
   "cell_type": "markdown",
   "id": "c12f4ac9",
   "metadata": {
    "editable": true
   },
   "source": [
    "and the true ground-state density minimizes this energy functional. In other words,"
   ]
  },
  {
   "cell_type": "markdown",
   "id": "a174446f",
   "metadata": {
    "editable": true
   },
   "source": [
    "$$\n",
    "F[n] = T[n] + V_{\\rm int}[n],\n",
    "$$"
   ]
  },
  {
   "cell_type": "markdown",
   "id": "ff6ddf4f",
   "metadata": {
    "editable": true
   },
   "source": [
    "is a universal functional (the same for all systems, independent of $V_{\\rm ext}$), and for the correct ground-state density $n_0(\\mathbf{r})$, $E[n_0]$ is the global minimum of $E[n]$ . The minimum value equals the ground-state energy $E_0$."
   ]
  },
  {
   "cell_type": "markdown",
   "id": "53f99589",
   "metadata": {
    "editable": true
   },
   "source": [
    "## Many-Electron Problem and  Hohenberg–Kohn Theorems: corollary\n",
    "\n",
    "The functional $E[n]$ is sufficient to obtain the exact ground-state\n",
    "energy and density . Excited states, however, are not obtained from\n",
    "this ground-state functional and must be accessed by other means\n",
    "(e.g. time-dependent DFT or other methods)."
   ]
  },
  {
   "cell_type": "markdown",
   "id": "1ca8e8cc",
   "metadata": {
    "editable": true
   },
   "source": [
    "## Discussion: Consequences of HK Theorems\n",
    "\n",
    "DFT exists in principle: the first theorem establishes that the\n",
    "ground-state density is as fundamental as the wavefunction – it\n",
    "encapsulates all the information needed to determine the system’s\n",
    "Hamiltonian and thus all ground-state observables. This is a\n",
    "remarkable reduction: instead of a complicated wavefunction $\\Psi$, we\n",
    "can work with $n(\\mathbf{r})$."
   ]
  },
  {
   "cell_type": "markdown",
   "id": "5ebcccba",
   "metadata": {
    "editable": true
   },
   "source": [
    "## Discussion: Consequences of HK Theorems\n",
    "\n",
    "Energy as a functional of density: the second theorem guarantees an\n",
    "energy functional $E[n]$ exists. However, the theorems themselves do\n",
    "not provide an explicit form for"
   ]
  },
  {
   "cell_type": "markdown",
   "id": "b3f868e6",
   "metadata": {
    "editable": true
   },
   "source": [
    "$$\n",
    "F[n] = T[n] + V_{\\rm int}[n].\n",
    "$$"
   ]
  },
  {
   "cell_type": "markdown",
   "id": "8caf797f",
   "metadata": {
    "editable": true
   },
   "source": [
    "They\n",
    "are existence theorems. The challenge of DFT (and much the what we do in many-body physics)\n",
    "is how to approximate $F[n]$ in practice, especially the many-body\n",
    "terms hidden in it."
   ]
  },
  {
   "cell_type": "markdown",
   "id": "a0cbc78d",
   "metadata": {
    "editable": true
   },
   "source": [
    "## Variational principle\n",
    "\n",
    "Given the second theorem, one can variationally obtain the ground\n",
    "state: if we had the exact $E[n]$ functional, minimizing $E[n]$ with\n",
    "respect to $n(\\mathbf{r})$ (subject to $\\int n(\\mathbf{r}) d^3r = N$)\n",
    "yields the true ground-state density and energy. In formal terms,"
   ]
  },
  {
   "cell_type": "markdown",
   "id": "ad0dfd63",
   "metadata": {
    "editable": true
   },
   "source": [
    "$$\n",
    "\\delta {E[n] - \\mu(\\int n - N)} / \\delta n(\\mathbf{r}) = 0,\n",
    "$$"
   ]
  },
  {
   "cell_type": "markdown",
   "id": "c299d18d",
   "metadata": {
    "editable": true
   },
   "source": [
    "leads to\n",
    "a condition"
   ]
  },
  {
   "cell_type": "markdown",
   "id": "5a66d3c8",
   "metadata": {
    "editable": true
   },
   "source": [
    "$$\n",
    "\\frac{\\delta E[n]}{\\delta n(\\mathbf{r})}\\big|_{n=n_0} =\\mu,\n",
    "$$"
   ]
  },
  {
   "cell_type": "markdown",
   "id": "1d89b26b",
   "metadata": {
    "editable": true
   },
   "source": [
    "with a constant Fermi level $\\mu$ for the ground state."
   ]
  },
  {
   "cell_type": "markdown",
   "id": "ab92d73b",
   "metadata": {
    "editable": true
   },
   "source": [
    "## Proof of the first theorem, I\n",
    "\n",
    "It is  instructive to see why two different potentials cannot give the same density.\n",
    "Suppose"
   ]
  },
  {
   "cell_type": "markdown",
   "id": "4f22a475",
   "metadata": {
    "editable": true
   },
   "source": [
    "$$\n",
    "V_{\\rm ext}^{(1)}(\\mathbf{r}),\n",
    "$$"
   ]
  },
  {
   "cell_type": "markdown",
   "id": "24db94de",
   "metadata": {
    "editable": true
   },
   "source": [
    "and"
   ]
  },
  {
   "cell_type": "markdown",
   "id": "21c2b2e1",
   "metadata": {
    "editable": true
   },
   "source": [
    "$$\n",
    "V_{\\rm ext}^{(2)}(\\mathbf{r}),\n",
    "$$"
   ]
  },
  {
   "cell_type": "markdown",
   "id": "bfeca25f",
   "metadata": {
    "editable": true
   },
   "source": [
    "yield the same ground-state density $n(\\mathbf{r})$ but different ground-state wavefunctions\n",
    "$\\Psi^{(1)}$ and $\\Psi^{(2)}$."
   ]
  },
  {
   "cell_type": "markdown",
   "id": "ae776555",
   "metadata": {
    "editable": true
   },
   "source": [
    "## Proof of the first theorem, II\n",
    "\n",
    "Let $E^{(1)}$ and $E^{(2)}$ be their ground-state energies. Without loss of generality, assume $E^{(1)} < E^{(2)}$.\n",
    "\n",
    "Then, using $\\Psi^{(2)}$ in Hamiltonian 1 gives"
   ]
  },
  {
   "cell_type": "markdown",
   "id": "c9f77a16",
   "metadata": {
    "editable": true
   },
   "source": [
    "$$\n",
    "E^{(1)} < \\langle \\Psi^{(2)}|\\hat{H}^{(1)}|\\Psi^{(2)}\\rangle = \\langle \\Psi^{(2)}|\\hat{H}^{(2)}|\\Psi^{(2)}\\rangle + \\int [V_{\\rm ext}^{(1)}(\\mathbf{r})-V_{\\rm ext}^{(2)}(\\mathbf{r})],n(\\mathbf{r}),d^3r = E^{(2)} + \\int [V_{\\rm ext}^{(1)}-V_{\\rm ext}^{(2)}] n(\\mathbf{r}).\n",
    "$$"
   ]
  },
  {
   "cell_type": "markdown",
   "id": "1c79508a",
   "metadata": {
    "editable": true
   },
   "source": [
    "Similarly, exchanging $1$ with $2$ leads to"
   ]
  },
  {
   "cell_type": "markdown",
   "id": "dbbda3a5",
   "metadata": {
    "editable": true
   },
   "source": [
    "$$\n",
    "E^{(2)} < E^{(1)} + \\int [V_{\\rm ext}^{(2)}-V_{\\rm ext}^{(1)}] n(\\mathbf{r}).\n",
    "$$"
   ]
  },
  {
   "cell_type": "markdown",
   "id": "51c06276",
   "metadata": {
    "editable": true
   },
   "source": [
    "## Proof of the first theorem, III\n",
    "\n",
    "Adding these two inequalities yields"
   ]
  },
  {
   "cell_type": "markdown",
   "id": "5b7bf8a4",
   "metadata": {
    "editable": true
   },
   "source": [
    "$$\n",
    "E^{(1)} + E^{(2)} < E^{(1)} + E^{(2)},\n",
    "$$"
   ]
  },
  {
   "cell_type": "markdown",
   "id": "eb4fe265",
   "metadata": {
    "editable": true
   },
   "source": [
    "a contradiction.\n",
    "Thus $V_{\\rm ext}^{(1)}$ and $V_{\\rm ext}^{(2)}$ cannot produce the\n",
    "same $n(\\mathbf{r})$. This proves the uniqueness.\n",
    "\n",
    "Not every arbitrary $n(\\mathbf{r})$ is a valid ground-state density of\n",
    "some physical $V_{\\rm ext}$ (this is the issue of\n",
    "$v$-representability). The theorems assume $n(\\mathbf{r})$ comes from\n",
    "some ground state of a Hamiltonian. Modern proofs (Levy–Lieb\n",
    "constrained search) circumvent some $v$-representability issues by\n",
    "considering minimization over all wavefunctions yielding a density\n",
    "$n$."
   ]
  },
  {
   "cell_type": "markdown",
   "id": "cc3adb5f",
   "metadata": {
    "editable": true
   },
   "source": [
    "## Proof of the first theorem, implications\n",
    "\n",
    "The ground-state energy can be obtained in principle by minimizing\n",
    "$E[n]$. However, without an expression for $F[n]$, one cannot perform\n",
    "this minimization in practice. Enter the Kohn–Sham approach (to be\n",
    "discussed later, which provides a clever way to approximate $F[n]$\n",
    "using orbitals."
   ]
  }
 ],
 "metadata": {},
 "nbformat": 4,
 "nbformat_minor": 5
}
