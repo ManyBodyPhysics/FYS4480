{
 "cells": [
  {
   "cell_type": "markdown",
   "id": "19dccfcc",
   "metadata": {
    "editable": true
   },
   "source": [
    "<!-- HTML file automatically generated from DocOnce source (https://github.com/doconce/doconce/)\n",
    "doconce format html week42.do.txt --no_mako -->\n",
    "<!-- dom:TITLE: Week 42: Hartree-Fock theory and density functional theory -->"
   ]
  },
  {
   "cell_type": "markdown",
   "id": "7e680b29",
   "metadata": {
    "editable": true
   },
   "source": [
    "# Week 42: Hartree-Fock theory and density functional theory\n",
    "**Morten Hjorth-Jensen**, Department of Physics and Center for Computing in Science Education, University of Oslo, Norway\n",
    "\n",
    "Date: **October 14-18**\n",
    "\n",
    "<!-- todo: add material about the calculation of the HEG -->"
   ]
  },
  {
   "cell_type": "markdown",
   "id": "590cda18",
   "metadata": {
    "editable": true
   },
   "source": [
    "## Week 42, October 14-18, 2024\n",
    "**Topics to be covered.**\n",
    "\n",
    "1. Thursday:\n",
    "\n",
    "  * The first lecture is about the finalization of the calculation of the ground state energy of the homogeneous electron gas in three dimensions\n",
    "\n",
    "  * Start discussion of density functional theory\n",
    "\n",
    "  * Discussions of first midterm\n",
    "\n",
    "  * Video of lecture at <https://youtu.be/VbLlyZYRnYg>\n",
    "\n",
    "  * Whiteboard notes at <https://github.com/ManyBodyPhysics/FYS4480/blob/master/doc/HandwrittenNotes/2024/NotesOctober17.pdf>  \n",
    "\n",
    "2. Friday:\n",
    "\n",
    "  * Density functional theory\n",
    "\n",
    "  * Discussions of  first midterm\n",
    "\n",
    "* Lecture Material: These slides and handwritten notes\n",
    "\n",
    "* First midterm set at <https://github.com/ManyBodyPhysics/FYS4480/blob/master/doc/Exercises/2024/FirstMidterm2024.pdf>"
   ]
  },
  {
   "cell_type": "markdown",
   "id": "b5c38079",
   "metadata": {
    "editable": true
   },
   "source": [
    "## Hartree-Fock ground state energy for the  electron gas in three dimensions\n",
    "\n",
    "We consider a system of electrons in infinite matter, the so-called electron gas. This is a homogeneous system and the one-particle states are given by plane wave function normalized to a volume $V$ \n",
    "for a box with length $L$ (the limit $L\\rightarrow \\infty$ is to be taken after we have computed various expectation values)"
   ]
  },
  {
   "cell_type": "markdown",
   "id": "a49b9b86",
   "metadata": {
    "editable": true
   },
   "source": [
    "$$\n",
    "\\psi_{\\mathbf{k}\\sigma}(\\mathbf{r})= \\frac{1}{\\sqrt{V}}\\exp{(i\\mathbf{kr})}\\xi_{\\sigma}\n",
    "$$"
   ]
  },
  {
   "cell_type": "markdown",
   "id": "6c8530f5",
   "metadata": {
    "editable": true
   },
   "source": [
    "where $\\mathbf{k}$ is the wave number and  $\\xi_{\\sigma}$ is a spin function for either spin up or down"
   ]
  },
  {
   "cell_type": "markdown",
   "id": "c1a134e5",
   "metadata": {
    "editable": true
   },
   "source": [
    "$$\n",
    "\\xi_{\\sigma=+1/2}=\\left(\\begin{array}{c} 1 \\\\ 0 \\end{array}\\right) \\hspace{0.5cm}\n",
    "\\xi_{\\sigma=-1/2}=\\left(\\begin{array}{c} 0 \\\\ 1 \\end{array}\\right).\n",
    "$$"
   ]
  },
  {
   "cell_type": "markdown",
   "id": "08a63d49",
   "metadata": {
    "editable": true
   },
   "source": [
    "## Periodic boundary conditions\n",
    "\n",
    "We assume that we have periodic boundary conditions which limit the allowed wave numbers to"
   ]
  },
  {
   "cell_type": "markdown",
   "id": "6772479b",
   "metadata": {
    "editable": true
   },
   "source": [
    "$$\n",
    "k_i=\\frac{2\\pi n_i}{L}\\hspace{0.5cm} i=x,y,z \\hspace{0.5cm} n_i=0,\\pm 1,\\pm 2, \\dots\n",
    "$$"
   ]
  },
  {
   "cell_type": "markdown",
   "id": "ec56d081",
   "metadata": {
    "editable": true
   },
   "source": [
    "We assume first that the particles interact via a central, symmetric and translationally invariant\n",
    "interaction  $V(r_{12})$ with\n",
    "$r_{12}=|\\mathbf{r}_1-\\mathbf{r}_2|$.  The interaction is spin independent."
   ]
  },
  {
   "cell_type": "markdown",
   "id": "8efae0fa",
   "metadata": {
    "editable": true
   },
   "source": [
    "## Total Hamiltonian\n",
    "\n",
    "The total Hamiltonian consists then of kinetic and potential energy"
   ]
  },
  {
   "cell_type": "markdown",
   "id": "b2b6f018",
   "metadata": {
    "editable": true
   },
   "source": [
    "$$\n",
    "\\hat{H} = \\hat{T}+\\hat{V}.\n",
    "$$"
   ]
  },
  {
   "cell_type": "markdown",
   "id": "061781d4",
   "metadata": {
    "editable": true
   },
   "source": [
    "The operator for the kinetic energy is given by"
   ]
  },
  {
   "cell_type": "markdown",
   "id": "e1ecd529",
   "metadata": {
    "editable": true
   },
   "source": [
    "$$\n",
    "\\hat{T}=\\sum_{\\mathbf{k}\\sigma}\\frac{\\hbar^2k^2}{2m}a_{\\mathbf{k}\\sigma}^{\\dagger}a_{\\mathbf{k}\\sigma}.\n",
    "$$"
   ]
  },
  {
   "cell_type": "markdown",
   "id": "57a5c06e",
   "metadata": {
    "editable": true
   },
   "source": [
    "## Exercise 1: Express interaction using creation and annihilation operators\n",
    "\n",
    "Find the expression for the interaction\n",
    "$\\hat{V}$ expressed with creation and annihilation operators.\n",
    "\n",
    "The expression for the interaction\n",
    "has to be written in  $k$ space, even though $V$ depends only on the relative distance. It means that you need to set up the Fourier transform $\\langle \\mathbf{k}_i\\mathbf{k}_j| V | \\mathbf{k}_m\\mathbf{k}_n\\rangle$.\n",
    "\n",
    "A general two-body interaction element is given by (not using anti-symmetrized matrix elements)"
   ]
  },
  {
   "cell_type": "markdown",
   "id": "d55a923e",
   "metadata": {
    "editable": true
   },
   "source": [
    "$$\n",
    "\\hat{V} = \\frac{1}{2} \\sum_{pqrs} \\langle pq \\hat{v} \\vert rs\\rangle a_p^\\dagger a_q^\\dagger a_s a_r ,\n",
    "$$"
   ]
  },
  {
   "cell_type": "markdown",
   "id": "771a6776",
   "metadata": {
    "editable": true
   },
   "source": [
    "where $\\hat{v}$ is assumed to depend only on the relative distance between two interacting particles, that is\n",
    "$\\hat{v} = v(\\vec r_1, \\vec r_2) = v(|\\vec r_1 - \\vec r_2|) = v(r)$, with $r = |\\vec r_1 - \\vec r_2|$)."
   ]
  },
  {
   "cell_type": "markdown",
   "id": "6b385c5d",
   "metadata": {
    "editable": true
   },
   "source": [
    "## With spin degrees of freedom\n",
    "\n",
    "In our case we have, writing out explicitely the spin degrees of freedom as well"
   ]
  },
  {
   "cell_type": "markdown",
   "id": "c0af5bff",
   "metadata": {
    "editable": true
   },
   "source": [
    "<!-- Equation labels as ordinary links -->\n",
    "<div id=\"_auto1\"></div>\n",
    "\n",
    "$$\n",
    "\\begin{equation}\n",
    "\\hat{V} = \\frac{1}{2} \\sum_{\\substack{\\sigma_p \\sigma_q \\\\ \\sigma_r \\sigma_s}}\n",
    "\\sum_{\\substack{\\mathbf{k}_p \\mathbf{k}_q \\\\ \\mathbf{k}_r \\mathbf{k}_s}}\n",
    "\\langle \\mathbf{k}_p \\sigma_p, \\mathbf{k}_q \\sigma_2\\vert v \\vert \\mathbf{k}_r \\sigma_3, \\mathbf{k}_s \\sigma_s\\rangle\n",
    "a_{\\mathbf{k}_p \\sigma_p}^\\dagger a_{\\mathbf{k}_q \\sigma_q}^\\dagger a_{\\mathbf{k}_s \\sigma_s} a_{\\mathbf{k}_r \\sigma_r} .\n",
    "\\label{_auto1} \\tag{1}\n",
    "\\end{equation}\n",
    "$$"
   ]
  },
  {
   "cell_type": "markdown",
   "id": "6c1fdd41",
   "metadata": {
    "editable": true
   },
   "source": [
    "## Plane waves\n",
    "\n",
    "Inserting plane waves as eigenstates we can rewrite the matrix element as"
   ]
  },
  {
   "cell_type": "markdown",
   "id": "459ee46d",
   "metadata": {
    "editable": true
   },
   "source": [
    "$$\n",
    "\\langle \\mathbf{k}_p \\sigma_p, \\mathbf{k}_q \\sigma_q\\vert \\hat{v} \\vert \\mathbf{k}_r \\sigma_r, \\mathbf{k}_s \\sigma_s\\rangle =\n",
    "\\frac{1}{V^2} \\delta_{\\sigma_p \\sigma_r} \\delta_{\\sigma_q \\sigma_s}\n",
    "\\int\\int \\exp{-i(\\mathbf{k}_p \\cdot \\mathbf{r}_p)} \\exp{-i( \\mathbf{k}_q \\cdot \\mathbf{r}_q)} \\hat{v}(r) \\exp{i(\\mathbf{k}_r \\cdot \\mathbf{r}_p)} \\exp{i( \\mathbf{k}_s \\cdot \\mathbf{r}_q)} d\\mathbf{r}_p d\\mathbf{r}_q ,\n",
    "$$"
   ]
  },
  {
   "cell_type": "markdown",
   "id": "240cec7d",
   "metadata": {
    "editable": true
   },
   "source": [
    "where we have used the orthogonality properties of the spin functions. We change now the variables of integration\n",
    "by defining $\\mathbf{r} = \\mathbf{r}_p - \\mathbf{r}_q$, which gives $\\mathbf{r}_p = \\mathbf{r} + \\mathbf{r}_q$ and $d^3 \\mathbf{r} = d^3 \\mathbf{r}_p$."
   ]
  },
  {
   "cell_type": "markdown",
   "id": "b7c1a60c",
   "metadata": {
    "editable": true
   },
   "source": [
    "## Integration limits\n",
    "\n",
    "The limits are not changed since they are from $-\\infty$ to  $\\infty$ for all integrals. This results in"
   ]
  },
  {
   "cell_type": "markdown",
   "id": "9ff83cbc",
   "metadata": {
    "editable": true
   },
   "source": [
    "$$\n",
    "\\begin{align*}\n",
    "\\langle \\mathbf{k}_p \\sigma_p, \\mathbf{k}_q \\sigma_q\\vert \\hat{v} \\vert \\mathbf{k}_r \\sigma_r, \\mathbf{k}_s \\sigma_s\\rangle\n",
    "&= \\frac{1}{V^2} \\delta_{\\sigma_p \\sigma_r} \\delta_{\\sigma_q \\sigma_s} \\int\\exp{i (\\mathbf{k}_s - \\mathbf{k}_q) \\cdot \\mathbf{r}_q} \\int v(r) \\exp{i(\\mathbf{k}_r - \\mathbf{k}_p) \\cdot ( \\mathbf{r} + \\mathbf{r}_q)} d\\mathbf{r} d\\mathbf{r}_q \\\\\n",
    "&= \\frac{1}{V^2} \\delta_{\\sigma_p \\sigma_r} \\delta_{\\sigma_q \\sigma_s} \\int v(r) \\exp{i\\left[(\\mathbf{k}_r - \\mathbf{k}_p) \\cdot \\mathbf{r}\\right]}\n",
    "\\int \\exp{i\\left[(\\mathbf{k}_s - \\mathbf{k}_q + \\mathbf{k}_r - \\mathbf{k}_p) \\cdot \\mathbf{r}_q\\right]} d\\mathbf{r}_q d\\mathbf{r} .\n",
    "\\end{align*}\n",
    "$$"
   ]
  },
  {
   "cell_type": "markdown",
   "id": "2a8f812b",
   "metadata": {
    "editable": true
   },
   "source": [
    "## Recognizing integral\n",
    "\n",
    "We recognize the integral over $\\mathbf{r}_q$ as a $\\delta$-function, resulting in"
   ]
  },
  {
   "cell_type": "markdown",
   "id": "745e2c7f",
   "metadata": {
    "editable": true
   },
   "source": [
    "$$\n",
    "\\langle \\mathbf{k}_p \\sigma_p, \\mathbf{k}_q \\sigma_q\\vert \\hat{v} \\vert \\mathbf{k}_r \\sigma_r, \\mathbf{k}_s \\sigma_s\\rangle =\n",
    "\\frac{1}{V} \\delta_{\\sigma_p \\sigma_r} \\delta_{\\sigma_q \\sigma_s} \\delta_{(\\mathbf{k}_p + \\mathbf{k}_q),(\\mathbf{k}_r + \\mathbf{k}_s)} \\int v(r) \\exp{i\\left[(\\mathbf{k}_r - \\mathbf{k}_p) \\cdot \\mathbf{r}\\right]} d^3r .\n",
    "$$"
   ]
  },
  {
   "cell_type": "markdown",
   "id": "5109c99e",
   "metadata": {
    "editable": true
   },
   "source": [
    "For this equation to be different from zero, we must have conservation of momenta, we need to satisfy\n",
    "$\\mathbf{k}_p + \\mathbf{k}_q = \\mathbf{k}_r + \\mathbf{k}_s$."
   ]
  },
  {
   "cell_type": "markdown",
   "id": "94566e8d",
   "metadata": {
    "editable": true
   },
   "source": [
    "## Conservation of momentum\n",
    "\n",
    "We can use the conservation of momenta to remove one of the summation variables resulting in"
   ]
  },
  {
   "cell_type": "markdown",
   "id": "e29c06c6",
   "metadata": {
    "editable": true
   },
   "source": [
    "$$\n",
    "\\hat{V} =\n",
    "\\frac{1}{2V} \\sum_{\\sigma \\sigma'} \\sum_{\\mathbf{k}_p \\mathbf{k}_q \\mathbf{k}_r} \\left[ \\int v(r) \\exp{i\\left[(\\mathbf{k}_r - \\mathbf{k}_p) \\cdot \\mathbf{r}\\right]} d^3r \\right]\n",
    "a_{\\mathbf{k}_p \\sigma}^\\dagger a_{\\mathbf{k}_q \\sigma'}^\\dagger a_{\\mathbf{k}_p + \\mathbf{k}_q - \\mathbf{k}_r, \\sigma'} a_{\\mathbf{k}_r \\sigma},\n",
    "$$"
   ]
  },
  {
   "cell_type": "markdown",
   "id": "06aba8a8",
   "metadata": {
    "editable": true
   },
   "source": [
    "which can be rewritten as"
   ]
  },
  {
   "cell_type": "markdown",
   "id": "dd7c0219",
   "metadata": {
    "editable": true
   },
   "source": [
    "<!-- Equation labels as ordinary links -->\n",
    "<div id=\"eq:V\"></div>\n",
    "\n",
    "$$\n",
    "\\begin{equation}\n",
    "\\hat{V} =\n",
    "\\frac{1}{2V} \\sum_{\\sigma \\sigma'} \\sum_{\\mathbf{k} \\mathbf{p} \\mathbf{q}} \\left[ \\int v(r) \\exp{-i( \\mathbf{q} \\cdot \\mathbf{r})} d\\mathbf{r} \\right]\n",
    "a_{\\mathbf{k} + \\mathbf{q}, \\sigma}^\\dagger a_{\\mathbf{p} - \\mathbf{q}, \\sigma'}^\\dagger a_{\\mathbf{p} \\sigma'} a_{\\mathbf{k} \\sigma},\n",
    "\\label{eq:V} \\tag{2}\n",
    "\\end{equation}\n",
    "$$"
   ]
  },
  {
   "cell_type": "markdown",
   "id": "5d102506",
   "metadata": {
    "editable": true
   },
   "source": [
    "## Some definitions\n",
    "\n",
    "In the last equation we defined\n",
    "the quantities\n",
    "$\\mathbf{p} = \\mathbf{k}_p + \\mathbf{k}_q - \\mathbf{k}_r$, $\\mathbf{k} = \\mathbf{k}_r$ og $\\mathbf{q} = \\mathbf{k}_p - \\mathbf{k}_r$."
   ]
  },
  {
   "cell_type": "markdown",
   "id": "7e6e3fd2",
   "metadata": {
    "editable": true
   },
   "source": [
    "## Reference energy\n",
    "\n",
    "Let us now compute the expectation value of the reference energy using the expressions for the kinetic energy operator and the interaction.\n",
    "We need to compute $\\langle \\Phi_0\\vert \\hat{H} \\vert \\Phi_0\\rangle = \\langle \\Phi_0\\vert \\hat{T} \\vert \\Phi_0\\rangle + \\langle \\Phi_0\\vert \\hat{V} \\vert \\Phi_0\\rangle$, where $\\vert \\Phi_0\\rangle$ is our reference Slater determinant, constructed from filling all single-particle states up to the Fermi level.\n",
    "Let us start with the kinetic energy first"
   ]
  },
  {
   "cell_type": "markdown",
   "id": "83c980e5",
   "metadata": {
    "editable": true
   },
   "source": [
    "$$\n",
    "\\langle \\Phi_0\\vert \\hat{T} \\vert \\Phi_0\\rangle \n",
    "= \\langle \\Phi_0\\vert \\left( \\sum_{\\mathbf{p} \\sigma} \\frac{\\hbar^2 p^2}{2m} a_{\\mathbf{p} \\sigma}^\\dagger a_{\\mathbf{p} \\sigma} \\right) \\vert \\Phi_0\\rangle\n",
    "= \\sum_{\\mathbf{p} \\sigma} \\frac{\\hbar^2 p^2}{2m} \\langle \\Phi_0\\vert a_{\\mathbf{p} \\sigma}^\\dagger a_{\\mathbf{p} \\sigma} \\vert \\Phi_0\\rangle .\n",
    "$$"
   ]
  },
  {
   "cell_type": "markdown",
   "id": "895776e4",
   "metadata": {
    "editable": true
   },
   "source": [
    "## Kinetic  energy\n",
    "\n",
    "From the possible contractions using Wick's theorem, it is straightforward to convince oneself that the expression for the kinetic energy becomes"
   ]
  },
  {
   "cell_type": "markdown",
   "id": "a4c8c9a4",
   "metadata": {
    "editable": true
   },
   "source": [
    "$$\n",
    "\\langle \\Phi_0\\vert \\hat{T} \\vert \\Phi_0\\rangle = \\sum_{\\mathbf{i} \\leq F} \\frac{\\hbar^2 k_i^2}{m} = \\frac{V}{(2\\pi)^3} \\frac{\\hbar^2}{m} \\int_0^{k_F} k^2 d\\mathbf{k}.\n",
    "$$"
   ]
  },
  {
   "cell_type": "markdown",
   "id": "bcf72dd0",
   "metadata": {
    "editable": true
   },
   "source": [
    "The sum of the spin degrees of freedom results in  a factor of two only if we deal with identical spin $1/2$ fermions. \n",
    "Changing to spherical coordinates, the integral over the momenta $k$ results in the final expression"
   ]
  },
  {
   "cell_type": "markdown",
   "id": "0d594b84",
   "metadata": {
    "editable": true
   },
   "source": [
    "$$\n",
    "\\langle \\Phi_0\\vert \\hat{T} \\vert \\Phi_0\\rangle = \\frac{V}{(2\\pi)^3} \\left( 4\\pi \\int_0^{k_F} k^4 d\\mathbf{k} \\right) = \\frac{4\\pi V}{(2\\pi)^3} \\frac{1}{5} k_F^5 = \\frac{4\\pi V}{5(2\\pi)^3} k_F^5 = \\frac{\\hbar^2 V}{10\\pi^2 m} k_F^5 .\n",
    "$$"
   ]
  },
  {
   "cell_type": "markdown",
   "id": "11df0726",
   "metadata": {
    "editable": true
   },
   "source": [
    "## Density of states\n",
    "\n",
    "The density of states in momentum space is given by $2V/(2\\pi)^3$, where we have included the degeneracy due to the spin degrees of freedom.\n",
    "The volume is given by  $4\\pi k_F^3/3$, and the number of particles becomes"
   ]
  },
  {
   "cell_type": "markdown",
   "id": "2cbbdf06",
   "metadata": {
    "editable": true
   },
   "source": [
    "$$\n",
    "N = \\frac{2V}{(2\\pi)^3} \\frac{4}{3} \\pi k_F^3 = \\frac{V}{3\\pi^2} k_F^3 \\quad \\Rightarrow \\quad\n",
    "k_F = \\left( \\frac{3\\pi^2 N}{V} \\right)^{1/3}.\n",
    "$$"
   ]
  },
  {
   "cell_type": "markdown",
   "id": "cedceefd",
   "metadata": {
    "editable": true
   },
   "source": [
    "This gives us"
   ]
  },
  {
   "cell_type": "markdown",
   "id": "790d8c9a",
   "metadata": {
    "editable": true
   },
   "source": [
    "<!-- Equation labels as ordinary links -->\n",
    "<div id=\"eq:T_forventning\"></div>\n",
    "\n",
    "$$\n",
    "\\begin{equation}\n",
    "\\langle \\Phi_0\\vert \\hat{T} \\vert \\Phi_0\\rangle =\n",
    "\\frac{\\hbar^2 V}{10\\pi^2 m} \\left( \\frac{3\\pi^2 N}{V} \\right)^{5/3} =\n",
    "\\frac{\\hbar^2 (3\\pi^2)^{5/3} N}{10\\pi^2 m} \\rho^{2/3} ,\n",
    "\\label{eq:T_forventning} \\tag{3}\n",
    "\\end{equation}\n",
    "$$"
   ]
  },
  {
   "cell_type": "markdown",
   "id": "de18c466",
   "metadata": {
    "editable": true
   },
   "source": [
    "## Potential energy\n",
    "\n",
    "We are now ready to calculate the expectation value of the potential energy"
   ]
  },
  {
   "cell_type": "markdown",
   "id": "9ac6eed6",
   "metadata": {
    "editable": true
   },
   "source": [
    "$$\n",
    "\\begin{align*}\n",
    "\\langle \\Phi_0\\vert \\hat{V} \\vert \\Phi_0\\rangle \n",
    "&= \\langle \\Phi_0\\vert \\left( \\frac{1}{2V} \\sum_{\\sigma \\sigma'} \\sum_{\\mathbf{k} \\mathbf{p} \\mathbf{q} } \\left[ \\int v(r) \\exp{-i (\\mathbf{q} \\cdot \\mathbf{r})} d\\mathbf{r} \\right] a_{\\mathbf{k} + \\mathbf{q}, \\sigma}^\\dagger a_{\\mathbf{p} - \\mathbf{q}, \\sigma'}^\\dagger a_{\\mathbf{p} \\sigma'} a_{\\mathbf{k} \\sigma} \\right) \\vert \\Phi_0\\rangle \\\\\n",
    "&= \\frac{1}{2V} \\sum_{\\sigma \\sigma'} \\sum_{\\mathbf{k} \\mathbf{p} \\mathbf{q}} \\left[ \\int v(r) \\exp{-i (\\mathbf{q} \\cdot \\mathbf{r})} d\\mathbf{r} \\right]\\langle \\Phi_0\\vert a_{\\mathbf{k} + \\mathbf{q}, \\sigma}^\\dagger a_{\\mathbf{p} - \\mathbf{q}, \\sigma'}^\\dagger a_{\\mathbf{p} \\sigma'} a_{\\mathbf{k} \\sigma} \\vert \\Phi_0\\rangle .\n",
    "\\end{align*}\n",
    "$$"
   ]
  },
  {
   "cell_type": "markdown",
   "id": "935ba5cd",
   "metadata": {
    "editable": true
   },
   "source": [
    "## Non-zero term\n",
    "\n",
    "The only contractions which result in non-zero results are those that involve states below the Fermi level, that is \n",
    "$k \\leq k_F$, $p \\leq k_F$, $|\\mathbf{p} - \\mathbf{q}| < \\mathbf{k}_F$ and $|\\mathbf{k} + \\mathbf{q}| \\leq k_F$. Due to momentum conservation we must also have $\\mathbf{k} + \\mathbf{q} = \\mathbf{p}$, $\\mathbf{p} - \\mathbf{q} = \\mathbf{k}$ and  $\\sigma = \\sigma'$ or  $\\mathbf{k} + \\mathbf{q} = \\mathbf{k}$ and $\\mathbf{p} - \\mathbf{q} = \\mathbf{p}$. \n",
    "Summarizing, we must have"
   ]
  },
  {
   "cell_type": "markdown",
   "id": "029bf8fd",
   "metadata": {
    "editable": true
   },
   "source": [
    "$$\n",
    "\\mathbf{k} + \\mathbf{q} = \\mathbf{p} \\quad \\text{and} \\quad \\sigma = \\sigma', \\qquad\n",
    "\\text{or} \\qquad\n",
    "\\mathbf{q} = \\mathbf{0} .\n",
    "$$"
   ]
  },
  {
   "cell_type": "markdown",
   "id": "51964de0",
   "metadata": {
    "editable": true
   },
   "source": [
    "## Direct and exchange terms\n",
    "\n",
    "We obtain then"
   ]
  },
  {
   "cell_type": "markdown",
   "id": "940b9ee2",
   "metadata": {
    "editable": true
   },
   "source": [
    "$$\n",
    "\\langle \\Phi_0\\vert \\hat{V} \\vert \\Phi_0\\rangle =\n",
    "\\frac{1}{2V} \\left( \\sum_{\\sigma \\sigma'} \\sum_{\\mathbf{q} \\mathbf{p} \\leq F} \\left[ \\int v(r) d\\mathbf{r} \\right] - \\sum_{\\sigma}\n",
    "\\sum_{\\mathbf{q} \\mathbf{p} \\leq F} \\left[ \\int v(r) \\exp{-i (\\mathbf{q} \\cdot \\mathbf{r})} d\\mathbf{r} \\right] \\right).\n",
    "$$"
   ]
  },
  {
   "cell_type": "markdown",
   "id": "4d2eb63e",
   "metadata": {
    "editable": true
   },
   "source": [
    "The first term is the so-called direct term while the second term is the exchange term."
   ]
  },
  {
   "cell_type": "markdown",
   "id": "ee3ad61e",
   "metadata": {
    "editable": true
   },
   "source": [
    "## Potential energy\n",
    "\n",
    "We can rewrite this equation as (and this applies to any potential which depends only on the relative distance between particles)"
   ]
  },
  {
   "cell_type": "markdown",
   "id": "ec4e4c9c",
   "metadata": {
    "editable": true
   },
   "source": [
    "<!-- Equation labels as ordinary links -->\n",
    "<div id=\"eq:V_b\"></div>\n",
    "\n",
    "$$\n",
    "\\begin{equation}\n",
    "\\langle \\Phi_0\\vert \\hat{V} \\vert \\Phi_0\\rangle =\n",
    "\\frac{1}{2V} \\left( N^2 \\left[ \\int v(r) d\\mathbf{r} \\right] - N \\sum_{\\mathbf{q}} \\left[ \\int v(r) \\exp{-i (\\mathbf{q}\\cdot \\mathbf{r})} d\\mathbf{r} \\right] \\right),\n",
    "\\label{eq:V_b} \\tag{4}\n",
    "\\end{equation}\n",
    "$$"
   ]
  },
  {
   "cell_type": "markdown",
   "id": "59d79b4f",
   "metadata": {
    "editable": true
   },
   "source": [
    "where we have used the fact that a sum like $\\sum_{\\sigma}\\sum_{\\mathbf{k}}$ equals the number of particles. Using the fact that the density is given by\n",
    "$\\rho = N/V$, with $V$ being our volume, we can rewrite the last equation as"
   ]
  },
  {
   "cell_type": "markdown",
   "id": "e2582c64",
   "metadata": {
    "editable": true
   },
   "source": [
    "$$\n",
    "\\langle \\Phi_0\\vert \\hat{V} \\vert \\Phi_0\\rangle =\n",
    "\\frac{1}{2} \\left( \\rho N \\left[ \\int v(r) d\\mathbf{r} \\right] - \\rho\\sum_{\\mathbf{q}} \\left[ \\int v(r) \\exp{-i (\\mathbf{q}\\cdot \\mathbf{r})} d\\mathbf{r} \\right] \\right).\n",
    "$$"
   ]
  },
  {
   "cell_type": "markdown",
   "id": "a5a263f5",
   "metadata": {
    "editable": true
   },
   "source": [
    "## Interaction part\n",
    "\n",
    "For the electron gas\n",
    "the interaction part of the Hamiltonian operator is given by"
   ]
  },
  {
   "cell_type": "markdown",
   "id": "b6570b99",
   "metadata": {
    "editable": true
   },
   "source": [
    "$$\n",
    "\\hat{H}_I=\\hat{H}_{el}+\\hat{H}_{b}+\\hat{H}_{el-b},\n",
    "$$"
   ]
  },
  {
   "cell_type": "markdown",
   "id": "02fb78d2",
   "metadata": {
    "editable": true
   },
   "source": [
    "with the electronic part"
   ]
  },
  {
   "cell_type": "markdown",
   "id": "1093ce56",
   "metadata": {
    "editable": true
   },
   "source": [
    "$$\n",
    "\\hat{H}_{el}=\\sum_{i=1}^N\\frac{p_i^2}{2m}+\\frac{e^2}{2}\\sum_{i\\ne j}\\frac{e^{-\\mu |\\mathbf{r}_i-\\mathbf{r}_j|}}{|\\mathbf{r}_i-\\mathbf{r}_j|},\n",
    "$$"
   ]
  },
  {
   "cell_type": "markdown",
   "id": "c630dbca",
   "metadata": {
    "editable": true
   },
   "source": [
    "where we have introduced an explicit convergence factor\n",
    "(the limit $\\mu\\rightarrow 0$ is performed after having calculated the various integrals)."
   ]
  },
  {
   "cell_type": "markdown",
   "id": "f6b1a8b2",
   "metadata": {
    "editable": true
   },
   "source": [
    "## Positive background\n",
    "\n",
    "Correspondingly, we have"
   ]
  },
  {
   "cell_type": "markdown",
   "id": "011266e5",
   "metadata": {
    "editable": true
   },
   "source": [
    "$$\n",
    "\\hat{H}_{b}=\\frac{e^2}{2}\\int\\int d\\mathbf{r}d\\mathbf{r}'\\frac{n(\\mathbf{r})n(\\mathbf{r}')e^{-\\mu |\\mathbf{r}-\\mathbf{r}'|}}{|\\mathbf{r}-\\mathbf{r}'|},\n",
    "$$"
   ]
  },
  {
   "cell_type": "markdown",
   "id": "b9f55b9e",
   "metadata": {
    "editable": true
   },
   "source": [
    "which is the energy contribution from the positive background charge with density\n",
    "$n(\\mathbf{r})=N/V$. Finally,"
   ]
  },
  {
   "cell_type": "markdown",
   "id": "75aac0d6",
   "metadata": {
    "editable": true
   },
   "source": [
    "$$\n",
    "\\hat{H}_{el-b}=-\\frac{e^2}{2}\\sum_{i=1}^N\\int d\\mathbf{r}\\frac{n(\\mathbf{r})e^{-\\mu |\\mathbf{r}-\\mathbf{x}_i|}}{|\\mathbf{r}-\\mathbf{x}_i|},\n",
    "$$"
   ]
  },
  {
   "cell_type": "markdown",
   "id": "6cd79db6",
   "metadata": {
    "editable": true
   },
   "source": [
    "is the interaction between the electrons and the positive background."
   ]
  },
  {
   "cell_type": "markdown",
   "id": "e7b7177c",
   "metadata": {
    "editable": true
   },
   "source": [
    "## Positive charge contribution\n",
    "\n",
    "We can show that"
   ]
  },
  {
   "cell_type": "markdown",
   "id": "c666ea52",
   "metadata": {
    "editable": true
   },
   "source": [
    "$$\n",
    "\\hat{H}_{b}=\\frac{e^2}{2}\\frac{N^2}{V}\\frac{4\\pi}{\\mu^2},\n",
    "$$"
   ]
  },
  {
   "cell_type": "markdown",
   "id": "cc976f50",
   "metadata": {
    "editable": true
   },
   "source": [
    "and"
   ]
  },
  {
   "cell_type": "markdown",
   "id": "c7a8f942",
   "metadata": {
    "editable": true
   },
   "source": [
    "$$\n",
    "\\hat{H}_{el-b}=-e^2\\frac{N^2}{V}\\frac{4\\pi}{\\mu^2}.\n",
    "$$"
   ]
  },
  {
   "cell_type": "markdown",
   "id": "7bc73299",
   "metadata": {
    "editable": true
   },
   "source": [
    "## Thermodynamic limit\n",
    "\n",
    "For the electron gas and a Coulomb interaction, these two terms are cancelled (in the thermodynamic limit) by the contribution from the direct term arising\n",
    "from the repulsive electron-electron interaction. What remains then  when computing the reference energy is only the kinetic energy contribution and the contribution from the exchange term.  For other interactions, like nuclear forces with a short range part and no infinite range, we need to compute both the direct term and the exchange term. \n",
    "\n",
    "We can show that the final Hamiltonian can be written as"
   ]
  },
  {
   "cell_type": "markdown",
   "id": "1f118606",
   "metadata": {
    "editable": true
   },
   "source": [
    "$$\n",
    "H=H_{0}+H_{I},\n",
    "$$"
   ]
  },
  {
   "cell_type": "markdown",
   "id": "2cee17f7",
   "metadata": {
    "editable": true
   },
   "source": [
    "with"
   ]
  },
  {
   "cell_type": "markdown",
   "id": "d27e9eb5",
   "metadata": {
    "editable": true
   },
   "source": [
    "$$\n",
    "H_{0}={\\displaystyle\\sum_{\\mathbf{k}\\sigma}}\n",
    "\\frac{\\hbar^{2}k^{2}}{2m}a_{\\mathbf{k}\\sigma}^{\\dagger}\n",
    "a_{\\mathbf{k}\\sigma},\n",
    "$$"
   ]
  },
  {
   "cell_type": "markdown",
   "id": "ed157469",
   "metadata": {
    "editable": true
   },
   "source": [
    "and"
   ]
  },
  {
   "cell_type": "markdown",
   "id": "8c1b9774",
   "metadata": {
    "editable": true
   },
   "source": [
    "$$\n",
    "H_{I}=\\frac{e^{2}}{2V}{\\displaystyle\\sum_{\\sigma_{1}\\sigma_{2}}}{\\displaystyle\\sum_{\\mathbf{q}\\neq 0,\\mathbf{k},\\mathbf{p}}}\\frac{4\\pi}{q^{2}}\n",
    "a_{\\mathbf{k}+\\mathbf{q},\\sigma_{1}}^{\\dagger}\n",
    "a_{\\mathbf{p}-\\mathbf{q},\\sigma_{2}}^{\\dagger}\n",
    "a_{\\mathbf{p}\\sigma_{2}}a_{\\mathbf{k}\\sigma_{1}}.\n",
    "$$"
   ]
  },
  {
   "cell_type": "markdown",
   "id": "c316b131",
   "metadata": {
    "editable": true
   },
   "source": [
    "## Ground state energy\n",
    "Calculate $E_0/N=\\langle \\Phi_{0}\\vert H\\vert \\Phi_{0}\\rangle/N$ for for this system to first order in the interaction. Show that, by using"
   ]
  },
  {
   "cell_type": "markdown",
   "id": "3a1698b2",
   "metadata": {
    "editable": true
   },
   "source": [
    "$$\n",
    "\\rho= \\frac{k_F^3}{3\\pi^2}=\\frac{3}{4\\pi r_0^3},\n",
    "$$"
   ]
  },
  {
   "cell_type": "markdown",
   "id": "94108889",
   "metadata": {
    "editable": true
   },
   "source": [
    "with $\\rho=N/V$, $r_0$\n",
    "being the radius of a sphere representing the volume an electron occupies \n",
    "and the Bohr radius $a_0=\\hbar^2/e^2m$, \n",
    "that the energy per electron can be written as"
   ]
  },
  {
   "cell_type": "markdown",
   "id": "a4ca0713",
   "metadata": {
    "editable": true
   },
   "source": [
    "$$\n",
    "E_0/N=\\frac{e^2}{2a_0}\\left[\\frac{2.21}{r_s^2}-\\frac{0.916}{r_s}\\right].\n",
    "$$"
   ]
  },
  {
   "cell_type": "markdown",
   "id": "46d27655",
   "metadata": {
    "editable": true
   },
   "source": [
    "Here we have defined\n",
    "$r_s=r_0/a_0$ to be a dimensionless quantity."
   ]
  },
  {
   "cell_type": "markdown",
   "id": "50484bad",
   "metadata": {
    "editable": true
   },
   "source": [
    "## Exercise 2: plot of energy\n",
    "\n",
    "Plot the energy as function of $r_s$. Why is this system stable?\n",
    "Calculate thermodynamical quantities like the pressure, given by"
   ]
  },
  {
   "cell_type": "markdown",
   "id": "4cdd6ceb",
   "metadata": {
    "editable": true
   },
   "source": [
    "$$\n",
    "P=-\\left(\\frac{\\partial E}{\\partial V}\\right)_N,\n",
    "$$"
   ]
  },
  {
   "cell_type": "markdown",
   "id": "bbd721ce",
   "metadata": {
    "editable": true
   },
   "source": [
    "and the bulk modulus"
   ]
  },
  {
   "cell_type": "markdown",
   "id": "916bb354",
   "metadata": {
    "editable": true
   },
   "source": [
    "$$\n",
    "B=-V\\left(\\frac{\\partial P}{\\partial V}\\right)_N,\n",
    "$$"
   ]
  },
  {
   "cell_type": "markdown",
   "id": "c29e4043",
   "metadata": {
    "editable": true
   },
   "source": [
    "and comment your results."
   ]
  },
  {
   "cell_type": "markdown",
   "id": "e334d20c",
   "metadata": {
    "editable": true
   },
   "source": [
    "## Density functional theory\n",
    "\n",
    "Hohenberg and Kohn proved that the total energy of a system including\n",
    "that of the many-body effects of electrons (exchange and correlation)\n",
    "in the presence of static external potential (for example, the atomic\n",
    "nuclei) is a unique functional of the charge density. The minimum\n",
    "value of the total energy functional is the ground state energy of the\n",
    "system. The electronic charge density which yields this minimum is\n",
    "then the exact single particle ground state energy."
   ]
  },
  {
   "cell_type": "markdown",
   "id": "3ec4a6fb",
   "metadata": {
    "editable": true
   },
   "source": [
    "## Functional of density\n",
    "\n",
    "The electronic energy $E$ is said to be a functional of the\n",
    "electronic density, $E[\\rho]$, in the sense that for a given function\n",
    "$\\rho(r)$, there is a single corresponding energy. The\n",
    "Hohenberg-Kohn theorems (two) confirms that such a functional exists,\n",
    "but does not tell us the form of the functional.\n",
    "\n",
    "Density functional theory has turned out to be a resounding success. A\n",
    "large majority of crystalline materials, many molecules and molecular\n",
    "structures have been explained using DFT. Walter Kohn, involved in\n",
    "both the Hohenberg-Kohn theory and development of the Kohn-Sham\n",
    "equations, received the Nobel Prize in Chemistry for DFT and\n",
    "computational chemistry in 1998.  DFT is used in a broad spectrum of\n",
    "disciplines, including quantum chemistry, materials science, condensed\n",
    "matter physics and low-energy nuclear physics"
   ]
  },
  {
   "cell_type": "markdown",
   "id": "b4c6aa27",
   "metadata": {
    "editable": true
   },
   "source": [
    "## The many-particle equation\n",
    "\n",
    "Any material on earth, whether in crystals, amorphous solids,\n",
    "molecules or yourself, consists of nothing else than a bunch of atoms,\n",
    "ions and electrons bound together by electric forces. All these\n",
    "possible forms of matter can be explained by virtue of one simple\n",
    "equation: the many-particle Schr\\\"{o}dinger equation,"
   ]
  },
  {
   "cell_type": "markdown",
   "id": "8457ca7d",
   "metadata": {
    "editable": true
   },
   "source": [
    "<!-- Equation labels as ordinary links -->\n",
    "<div id=\"_auto2\"></div>\n",
    "\n",
    "$$\n",
    "\\begin{equation}\n",
    "\ti \\hbar \\frac{\\partial}{\\partial t} \\Phi( \\boldsymbol{r} ; t) = \n",
    "\t\\left( - \\sum_{i}^N \\frac{\\hbar^2}{2m_i} \\frac{\\partial^2}{\\partial \\boldsymbol{r}_i^2}\n",
    "\t+ \\sum_{i<j}^N \\frac{e^2 Z_i Z_j }{ | \\boldsymbol{r}_i - \\boldsymbol{r}_j| } \\right)  \\Phi( \\boldsymbol{r} ; t).\n",
    "\\label{_auto2} \\tag{5}\n",
    "\\end{equation}\n",
    "$$"
   ]
  },
  {
   "cell_type": "markdown",
   "id": "913f9ea5",
   "metadata": {
    "editable": true
   },
   "source": [
    "Here $\\Phi(\\boldsymbol{r} ; t)$ is the many-body wavefunction for $N$ particles, where each particle has its own mass $m_i$, charge $Z_i$ and position $\\boldsymbol{r}_i$. The only interaction is the Coulomb interaction $e^2/r$."
   ]
  },
  {
   "cell_type": "markdown",
   "id": "06d5eef6",
   "metadata": {
    "editable": true
   },
   "source": [
    "## Born-Oppenheimer approximation\n",
    "\n",
    "In atomic and molecular physics, materials science and quantum chemsitry, the Born-Oppenheimer  approximation arises from the physical problem we want to\n",
    "study: the ground state of a collection of interacting ions and\n",
    "electrons. Because even the lightest ion is more than a thousand times\n",
    "heavier than an electron, we approximate our Hamiltonian  to not include  the dynamics of the\n",
    "ions all-together. This is known as the **Born-Oppenheimer**\n",
    "approximation."
   ]
  },
  {
   "cell_type": "markdown",
   "id": "b4c374d8",
   "metadata": {
    "editable": true
   },
   "source": [
    "## Time-independent equation\n",
    "\n",
    "We then write the time-independent Schr\\\"{o}dinger\n",
    "equation for a collection of $N$ electrons subject to the\n",
    "electric potential created by the fixed ions, labeled $v_{\\mathrm{ext}}(\\boldsymbol{r})$,"
   ]
  },
  {
   "cell_type": "markdown",
   "id": "0eba0558",
   "metadata": {
    "editable": true
   },
   "source": [
    "$$\n",
    "\\left( \\sum_{i}^N \\left( - \\frac{\\hbar^2}{2m} \\frac{\\partial^2}{\\partial \\boldsymbol{r}_i^2}\n",
    "\t+ v_{\\mathrm{ext}}(\\boldsymbol{r}_i) \\right)\n",
    "\t + \\sum_{i<j}^N \\frac{e^2}{|\\boldsymbol{r}_i - \\boldsymbol{r}_j|} \\right) \\Psi(\\boldsymbol{r}) = E_0  \\Psi( \\boldsymbol{r} ),\n",
    "$$"
   ]
  },
  {
   "cell_type": "markdown",
   "id": "d71c9cb9",
   "metadata": {
    "editable": true
   },
   "source": [
    "where $\\boldsymbol{r}_i$ are the positions of the electrons.\n",
    "\n",
    "We can replace the explicit Coulomb repulsion with a generic two-body interaction"
   ]
  },
  {
   "cell_type": "markdown",
   "id": "2b44e190",
   "metadata": {
    "editable": true
   },
   "source": [
    "$$\n",
    "\\sum_{i}^N \\left( - \\frac{\\hbar^2}{2m} \\frac{\\partial^2}{\\partial \\boldsymbol{r}_i^2}\n",
    "\t+ _{\\mathrm{ext}}(\\boldsymbol{r}_i) \\right)\n",
    "\t + \\sum_{i<j}^N v(r_{ij})( = E_0  \\Psi( \\boldsymbol{r} ),\n",
    "$$"
   ]
  },
  {
   "cell_type": "markdown",
   "id": "26b280dc",
   "metadata": {
    "editable": true
   },
   "source": [
    "where $r_{ij}=\\vert \\boldsymbol{r}_i-\\boldsymbol{r}_j\\vert$."
   ]
  },
  {
   "cell_type": "markdown",
   "id": "6f06e2a7",
   "metadata": {
    "editable": true
   },
   "source": [
    "## Potential term\n",
    "The potential\n",
    "$v_{\\mathrm{ext}}(\\boldsymbol{r}_i)$ is created by the charged ions,"
   ]
  },
  {
   "cell_type": "markdown",
   "id": "53edc8e6",
   "metadata": {
    "editable": true
   },
   "source": [
    "$$\n",
    "v_{\\mathrm{ext}}(\\boldsymbol{r}_i) = - \\sum_j \\frac{e^2 Z_j}{| \\boldsymbol{r}_i - \\boldsymbol{R}_j|}\n",
    "$$"
   ]
  },
  {
   "cell_type": "markdown",
   "id": "e49a9cc2",
   "metadata": {
    "editable": true
   },
   "source": [
    "where $\\boldsymbol{R}$ is the (static) positions of the ions and $Z_j$ their\n",
    "charge."
   ]
  },
  {
   "cell_type": "markdown",
   "id": "bfde07fd",
   "metadata": {
    "editable": true
   },
   "source": [
    "## Electronic density\n",
    "\n",
    "The electronic density is obtained by integrating out all electron\n",
    "degrees of freedom except one, that is (setting $\\boldsymbol{r}=\\boldsymbol{r}_1$)"
   ]
  },
  {
   "cell_type": "markdown",
   "id": "99339f98",
   "metadata": {
    "editable": true
   },
   "source": [
    "$$\n",
    "n(\\boldsymbol{r})=n(\\boldsymbol{r}_1) = \\int d^3 \\boldsymbol{r}_2 \\cdots d^3 \\boldsymbol{r}_N\n",
    "\t\t\\left| \\Psi (\\boldsymbol{r}_1 \\cdots \\boldsymbol{r}_n) \\right|^2.\n",
    "$$"
   ]
  },
  {
   "cell_type": "markdown",
   "id": "d0ca9011",
   "metadata": {
    "editable": true
   },
   "source": [
    "The total potential energy $V$ is just given by the integral over the\n",
    "potential $V(\\boldsymbol{r})$ times the density,"
   ]
  },
  {
   "cell_type": "markdown",
   "id": "b905c612",
   "metadata": {
    "editable": true
   },
   "source": [
    "$$\n",
    "V = \\int d^3 \\boldsymbol{r} v_{\\mathrm{ext}}(\\boldsymbol{r}) n(\\boldsymbol{r}).\n",
    "$$"
   ]
  },
  {
   "cell_type": "markdown",
   "id": "e7862de4",
   "metadata": {
    "editable": true
   },
   "source": [
    "## Hohenberg-Kohn theory\n",
    "\n",
    "Assume we found a solution for the Hamiltonian from the Born-Oppenheimer approximation, with\n",
    "ground state energy $E_0$ and a certain electronic density\n",
    "$n(\\boldsymbol{r})$. The strength of the Coulomb interaction and the mass of an\n",
    "electron are constants of nature, so the only input that can possibly\n",
    "influence the electronic density $n(\\boldsymbol{r})$ and the energy $E_0$ of our\n",
    "ground state is our choice of potential $v_{\\mathrm{ext}}(\\boldsymbol{r})$. In other words, the\n",
    "ground state energy is a {\\em functional} of the input potential,"
   ]
  },
  {
   "cell_type": "markdown",
   "id": "98ad1d63",
   "metadata": {
    "editable": true
   },
   "source": [
    "$$\n",
    "E_0 [v_{\\mathrm{ext}}(\\boldsymbol{r})] = \\mathcal{F}_E[ v_{\\mathrm{ext}}(\\boldsymbol{r}) ]\n",
    "$$"
   ]
  },
  {
   "cell_type": "markdown",
   "id": "8560ba29",
   "metadata": {
    "editable": true
   },
   "source": [
    "## Energy functional\n",
    "A functional is nothing else than a function whose input is another\n",
    "function; in this case the functional $\\mathcal{F}$ takes as input the\n",
    "electric potential generated by the ions and outputs the ground state\n",
    "energy based on thr Born-Oppenheimer approximation.\n",
    "\n",
    "At first this results seems counterintuitive. After all, the ground\n",
    "state energy clearly contains the kinetic energy $T$, the interaction\n",
    "energy $U$ and the potential energy. Only the latter term \n",
    "explicitly depends on the potential. We can thus write the ground\n",
    "state energy in terms of a separate functional for the kinetic and\n",
    "interaction energy, and the potential energy"
   ]
  },
  {
   "cell_type": "markdown",
   "id": "416e0ba5",
   "metadata": {
    "editable": true
   },
   "source": [
    "## How to find the functional\n",
    "Knowing this functional, for any given potential $V(\\boldsymbol{r})$ we minimize\n",
    "the right hand side by checking all possible electronic density\n",
    "distributions.\n",
    "\n",
    "There are only two minor problems. We don't know what this functional\n",
    "looks like. And even if we did, we don't know how to find the right\n",
    "electronic density."
   ]
  },
  {
   "cell_type": "markdown",
   "id": "ecce8073",
   "metadata": {
    "editable": true
   },
   "source": [
    "## Approximating the functional\n",
    "\n",
    "The unknown functional $\\mathcal{F}[n(\\boldsymbol{r})]$ should describe the\n",
    "kinetic and interaction energy of a system described by\n",
    "for example the Born-Oppenheimer approximation. Even though we cannot find its exact\n",
    "shape, we can look at its shape in some limiting cases that we can\n",
    "solve.\n",
    "\n",
    "We know that a free homogeneous electron gas (HEG) with density $n$ has a\n",
    "ground state energy of"
   ]
  },
  {
   "cell_type": "markdown",
   "id": "24c82718",
   "metadata": {
    "editable": true
   },
   "source": [
    "$$\n",
    "E_0 = \\frac{3 \\hbar^2 \\left( 3 \\pi^2 \\right)^{2/3}}{10 m} n_0^{5/3}.\n",
    "$$"
   ]
  },
  {
   "cell_type": "markdown",
   "id": "2e16f485",
   "metadata": {
    "editable": true
   },
   "source": [
    "## Using the results from the HEG\n",
    "\n",
    "For a slowly varying electronic density, we can approximate the\n",
    "kinetic energy contribution to the full functional\n",
    "$\\mathcal{F}[n(\\boldsymbol{r})]$ as the energy evaluated\n",
    "at each point separately,"
   ]
  },
  {
   "cell_type": "markdown",
   "id": "421929ed",
   "metadata": {
    "editable": true
   },
   "source": [
    "$$\n",
    "\\mathcal{T}_0 [n(\\boldsymbol{r})] =\n",
    "\t \\frac{3 \\hbar^2 \\left( 3 \\pi^2 \\right)^{2/3}}{10 m} \\int  d^3\\boldsymbol{r} ( n(\\boldsymbol{r}) )^{5/3}.\n",
    "$$"
   ]
  },
  {
   "cell_type": "markdown",
   "id": "b6e90185",
   "metadata": {
    "editable": true
   },
   "source": [
    "## Hartree term to the energy\n",
    "\n",
    "We have also earlier derived that the simplest \n",
    "energy contribution from Coulomb interactions is given by the Hartree\n",
    "term"
   ]
  },
  {
   "cell_type": "markdown",
   "id": "6fc7a9ad",
   "metadata": {
    "editable": true
   },
   "source": [
    "$$\n",
    "\\mathcal{U}_{\\mathrm{H}} [n(\\boldsymbol{r})] = \n",
    "\t\t\\frac{e^2}{2} \\int d^3\\boldsymbol{r} d^3\\boldsymbol{r}' \\, \\frac{n(\\boldsymbol{r}) n(\\boldsymbol{r}')}{|\\boldsymbol{r} - \\boldsymbol{r}'|}.\n",
    "$$"
   ]
  },
  {
   "cell_type": "markdown",
   "id": "1c936123",
   "metadata": {
    "editable": true
   },
   "source": [
    "## Final functional\n",
    "\n",
    "It is natural to write out the full functional as containing the\n",
    "homogeneous electron gas term and the Hartree term. The remaining\n",
    "terms, though still unknown, should be small. This unknown part is\n",
    "conventionally called the {\\em exchange-correlation potential}\n",
    "$E_{xc}[n(\\boldsymbol{r})]$. The full Hohenberg-Kohn functional, including the\n",
    "potential energy, is thus"
   ]
  },
  {
   "cell_type": "markdown",
   "id": "ec88bf39",
   "metadata": {
    "editable": true
   },
   "source": [
    "$$\n",
    "\\mathcal{E}_{\\mathrm{HK}}[n(\\boldsymbol{r})] = \n",
    "\t\t\\mathcal{T}_0 [n(\\boldsymbol{r})]\n",
    "\t\t + \\int d^3 \\boldsymbol{r} v_{\\mathrm{ext}}(r) n(\\boldsymbol{r})\n",
    "\t\t + \\mathcal{U}_{\\mathrm{H}} [n(\\boldsymbol{r})]\n",
    "\t\t + E_{xc} [ n(\\boldsymbol{r})].\n",
    "$$"
   ]
  },
  {
   "cell_type": "markdown",
   "id": "0e221d3a",
   "metadata": {
    "editable": true
   },
   "source": [
    "## Kohn-Sham equation\n",
    "\n",
    "We replaced an intractable problem with the task of minimizing an unknown\n",
    "functional $\\mathcal{F}[n(\\boldsymbol{r})]$ over infinitely many possible\n",
    "electronic densities $n(\\boldsymbol{r})$. In the previous section we already gave\n",
    "some first suggestions for the functional. But once we found it, how\n",
    "to find the right electronic density $n(\\boldsymbol{r})$?\n",
    "\n",
    "Because the correct density minimizes the functional, we can find the\n",
    "functional by setting it's derivative to zero,"
   ]
  },
  {
   "cell_type": "markdown",
   "id": "e98551a2",
   "metadata": {
    "editable": true
   },
   "source": [
    "$$\n",
    "\\frac{\\delta \\mathcal{F}[n(\\boldsymbol{r})] }{\\delta n(\\boldsymbol{r})} = 0.\n",
    "$$"
   ]
  },
  {
   "cell_type": "markdown",
   "id": "11dd4f8c",
   "metadata": {
    "editable": true
   },
   "source": [
    "## Kohn-Sham equations\n",
    "Using the functional Eq(insert), we write\n",
    "out\n",
    "\n",
    "<!-- \\footnote{There is a small subtlety included in this equation: the -->\n",
    "<!-- kinetic component of the functional $\\mathcal{T} [n(\\boldsymbol{r})]$ should not -->\n",
    "<!-- be the one obtained for the free homogeneous noninteracting electron -->\n",
    "<!-- gas, but the one for a noninteracting gas subject -->\n",
    "<!-- to the Kohn-Sham potential.} -->"
   ]
  },
  {
   "cell_type": "markdown",
   "id": "2c9fd148",
   "metadata": {
    "editable": true
   },
   "source": [
    "$$\n",
    "\\frac{\\delta \\mathcal{T}[n(\\boldsymbol{r})] }{\\delta n(\\boldsymbol{r})}\n",
    "\t+ v_{\\mathrm{ext}}(\\boldsymbol{r})\n",
    "\t+ \\int \\frac{n(\\boldsymbol{r}')}{|\\boldsymbol{r}-\\boldsymbol{r}'|}d^3 \\boldsymbol{r}'\n",
    "\t+ \\frac{\\delta E_{xc} [n(\\boldsymbol{r})] }{\\delta n(\\boldsymbol{r})}\n",
    "\t=0.\n",
    "$$"
   ]
  },
  {
   "cell_type": "markdown",
   "id": "a593bbf6",
   "metadata": {
    "editable": true
   },
   "source": [
    "## The equations\n",
    "The idea of Kohn and Sham was to treat this as if it\n",
    "is a single-particle problem. The first term represents the\n",
    "kinetic energy, and the remaining terms form the Kohn-Sham potential"
   ]
  },
  {
   "cell_type": "markdown",
   "id": "a1ba3bab",
   "metadata": {
    "editable": true
   },
   "source": [
    "$$\n",
    "V_{\\mathrm{KS}}(\\boldsymbol{r}) = V(\\boldsymbol{r})\n",
    "\t+ \\int \\frac{n(\\boldsymbol{r}')}{|\\boldsymbol{r}-\\boldsymbol{r}'|}d^3 \\boldsymbol{r}'\n",
    "\t+ \\frac{\\delta E_{xc} [n(\\boldsymbol{r})] }{\\delta n(\\boldsymbol{r})}.\n",
    "$$"
   ]
  },
  {
   "cell_type": "markdown",
   "id": "e90576fd",
   "metadata": {
    "editable": true
   },
   "source": [
    "The Kohn-Sham equation is the single-particle Schr\\\"{o}dinger\n",
    "equation with the potential given by the last equation,"
   ]
  },
  {
   "cell_type": "markdown",
   "id": "bdc2aeb4",
   "metadata": {
    "editable": true
   },
   "source": [
    "$$\n",
    "\\left( - \\frac{\\hbar^2}{2m} \\frac{\\partial^2}{\\partial \\boldsymbol{r}^2} + V_{\\mathrm{KS}}(\\boldsymbol{r}) \\right) \\psi_i(\\boldsymbol{r}) = \\epsilon_i \\psi_i (\\boldsymbol{r}).\n",
    "$$"
   ]
  },
  {
   "cell_type": "markdown",
   "id": "70427bdd",
   "metadata": {
    "editable": true
   },
   "source": [
    "## Numerical solution\n",
    "\n",
    "The Kohn-Sham equations have to be solved numerically. As with our\n",
    "discussions of Hartree-Fock theory, this is tractable because the\n",
    "equations are just given by a set of coupled differential\n",
    "equation. The electronic density is obtained by occupying the $N$\n",
    "solutions $\\psi_i(\\boldsymbol{r})$ with the lowest energy,"
   ]
  },
  {
   "cell_type": "markdown",
   "id": "c8c98d80",
   "metadata": {
    "editable": true
   },
   "source": [
    "$$\n",
    "n(\\boldsymbol{r}) = \\sum_{i=1}^N |\\psi_i (\\boldsymbol{r}) |^2.\n",
    "$$"
   ]
  },
  {
   "cell_type": "markdown",
   "id": "4981526c",
   "metadata": {
    "editable": true
   },
   "source": [
    "Now the electronic density obtained this way can be used to calculate\n",
    "a new Kohn-Sham potential. We\n",
    "continue this iterative procedure until we reach convergence."
   ]
  }
 ],
 "metadata": {},
 "nbformat": 4,
 "nbformat_minor": 5
}
