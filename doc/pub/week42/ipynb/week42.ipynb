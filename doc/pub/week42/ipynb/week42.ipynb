{
 "cells": [
  {
   "cell_type": "markdown",
   "id": "f603aa11",
   "metadata": {
    "editable": true
   },
   "source": [
    "<!-- HTML file automatically generated from DocOnce source (https://github.com/doconce/doconce/)\n",
    "doconce format html week42.do.txt --no_mako -->\n",
    "<!-- dom:TITLE: Week 42: Hartree-Fock theory and density functional theory -->"
   ]
  },
  {
   "cell_type": "markdown",
   "id": "2a245da8",
   "metadata": {
    "editable": true
   },
   "source": [
    "# Week 42: Hartree-Fock theory and density functional theory\n",
    "**Morten Hjorth-Jensen**, Department of Physics and Center for Computing in Science Education, University of Oslo, Norway\n",
    "\n",
    "Date: **October 13-17, 2025**\n",
    "\n",
    "<!-- todo: add material about the calculation of the HEG -->"
   ]
  },
  {
   "cell_type": "markdown",
   "id": "3ef8fd50",
   "metadata": {
    "editable": true
   },
   "source": [
    "## Week 42, October 13-17, 2025\n",
    "**Topics to be covered.**\n",
    "\n",
    "**Thursday**:\n",
    "1. The first lecture aims at finalizing the calculation of the ground state energy of the homogeneous electron gas in three dimensions\n",
    "\n",
    "2. Start discussion of density functional theory\n",
    "\n",
    "3. Video of lecture at <https://youtu.be/Ry_5h842TrA>\n",
    "\n",
    "4. Whiteboard notes at <https://github.com/ManyBodyPhysics/FYS4480/blob/master/doc/HandwrittenNotes/2025/FYS4480October16.pdf>  \n",
    "\n",
    "**Friday**:\n",
    "1. Density functional theory\n",
    "\n",
    "2. Discussions of  first midterm\n",
    "\n",
    "3. Lecture Material: These slides and handwritten notes\n",
    "\n",
    "4. First midterm set at <https://github.com/ManyBodyPhysics/FYS4480/blob/master/doc/Exercises/2025/FirstMidterm2025.pdf>"
   ]
  },
  {
   "cell_type": "markdown",
   "id": "e4aec7f0",
   "metadata": {
    "editable": true
   },
   "source": [
    "## Hartree-Fock ground state energy for the  electron gas in three dimensions\n",
    "\n",
    "We consider a system of electrons in infinite matter, the so-called electron gas. This is a homogeneous system and the one-particle states are given by plane wave function normalized to a volume $V$ \n",
    "for a box with length $L$ (the limit $L\\rightarrow \\infty$ is to be taken after we have computed various expectation values)"
   ]
  },
  {
   "cell_type": "markdown",
   "id": "db5f1cb4",
   "metadata": {
    "editable": true
   },
   "source": [
    "$$\n",
    "\\psi_{\\mathbf{k}\\sigma}(\\mathbf{r})= \\frac{1}{\\sqrt{V}}\\exp{(i\\mathbf{kr})}\\xi_{\\sigma}\n",
    "$$"
   ]
  },
  {
   "cell_type": "markdown",
   "id": "c4d4871b",
   "metadata": {
    "editable": true
   },
   "source": [
    "where $\\mathbf{k}$ is the wave number and  $\\xi_{\\sigma}$ is a spin function for either spin up or down"
   ]
  },
  {
   "cell_type": "markdown",
   "id": "033be4ad",
   "metadata": {
    "editable": true
   },
   "source": [
    "$$\n",
    "\\xi_{\\sigma=+1/2}=\\left(\\begin{array}{c} 1 \\\\ 0 \\end{array}\\right) \\hspace{0.5cm}\n",
    "\\xi_{\\sigma=-1/2}=\\left(\\begin{array}{c} 0 \\\\ 1 \\end{array}\\right).\n",
    "$$"
   ]
  },
  {
   "cell_type": "markdown",
   "id": "f6678ffb",
   "metadata": {
    "editable": true
   },
   "source": [
    "## Periodic boundary conditions\n",
    "\n",
    "We assume that we have periodic boundary conditions which limit the allowed wave numbers to"
   ]
  },
  {
   "cell_type": "markdown",
   "id": "676ba08c",
   "metadata": {
    "editable": true
   },
   "source": [
    "$$\n",
    "k_i=\\frac{2\\pi n_i}{L}\\hspace{0.5cm} i=x,y,z \\hspace{0.5cm} n_i=0,\\pm 1,\\pm 2, \\dots\n",
    "$$"
   ]
  },
  {
   "cell_type": "markdown",
   "id": "e840596f",
   "metadata": {
    "editable": true
   },
   "source": [
    "We assume first that the particles interact via a central, symmetric and translationally invariant\n",
    "interaction  $V(r_{12})$ with\n",
    "$r_{12}=|\\mathbf{r}_1-\\mathbf{r}_2|$.  The interaction is spin independent."
   ]
  },
  {
   "cell_type": "markdown",
   "id": "a6a113ac",
   "metadata": {
    "editable": true
   },
   "source": [
    "## Total Hamiltonian\n",
    "\n",
    "The total Hamiltonian consists then of kinetic and potential energy"
   ]
  },
  {
   "cell_type": "markdown",
   "id": "c2039c65",
   "metadata": {
    "editable": true
   },
   "source": [
    "$$\n",
    "\\hat{H} = \\hat{T}+\\hat{V}.\n",
    "$$"
   ]
  },
  {
   "cell_type": "markdown",
   "id": "c4bb6254",
   "metadata": {
    "editable": true
   },
   "source": [
    "The operator for the kinetic energy is given by"
   ]
  },
  {
   "cell_type": "markdown",
   "id": "c3e4e646",
   "metadata": {
    "editable": true
   },
   "source": [
    "$$\n",
    "\\hat{T}=\\sum_{\\mathbf{k}\\sigma}\\frac{\\hbar^2k^2}{2m}a_{\\mathbf{k}\\sigma}^{\\dagger}a_{\\mathbf{k}\\sigma}.\n",
    "$$"
   ]
  },
  {
   "cell_type": "markdown",
   "id": "f5f5bb93",
   "metadata": {
    "editable": true
   },
   "source": [
    "## Exercise 1: Express interaction using creation and annihilation operators\n",
    "\n",
    "Find the expression for the interaction\n",
    "$\\hat{V}$ expressed with creation and annihilation operators.\n",
    "\n",
    "The expression for the interaction\n",
    "has to be written in  $k$ space, even though $V$ depends only on the relative distance. It means that you need to set up the Fourier transform $\\langle \\mathbf{k}_i\\mathbf{k}_j| V | \\mathbf{k}_m\\mathbf{k}_n\\rangle$.\n",
    "\n",
    "A general two-body interaction element is given by (not using anti-symmetrized matrix elements)"
   ]
  },
  {
   "cell_type": "markdown",
   "id": "213653d8",
   "metadata": {
    "editable": true
   },
   "source": [
    "$$\n",
    "\\hat{V} = \\frac{1}{2} \\sum_{pqrs} \\langle pq \\hat{v} \\vert rs\\rangle a_p^\\dagger a_q^\\dagger a_s a_r ,\n",
    "$$"
   ]
  },
  {
   "cell_type": "markdown",
   "id": "d4f2db23",
   "metadata": {
    "editable": true
   },
   "source": [
    "where $\\hat{v}$ is assumed to depend only on the relative distance between two interacting particles, that is\n",
    "$\\hat{v} = v(\\vec r_1, \\vec r_2) = v(|\\vec r_1 - \\vec r_2|) = v(r)$, with $r = |\\vec r_1 - \\vec r_2|$)."
   ]
  },
  {
   "cell_type": "markdown",
   "id": "0f464cb2",
   "metadata": {
    "editable": true
   },
   "source": [
    "## With spin degrees of freedom\n",
    "\n",
    "In our case we have, writing out explicitely the spin degrees of freedom as well"
   ]
  },
  {
   "cell_type": "markdown",
   "id": "e1cc10b9",
   "metadata": {
    "editable": true
   },
   "source": [
    "<!-- Equation labels as ordinary links -->\n",
    "<div id=\"_auto1\"></div>\n",
    "\n",
    "$$\n",
    "\\begin{equation}\n",
    "\\hat{V} = \\frac{1}{2} \\sum_{\\substack{\\sigma_p \\sigma_q \\\\ \\sigma_r \\sigma_s}}\n",
    "\\sum_{\\substack{\\mathbf{k}_p \\mathbf{k}_q \\\\ \\mathbf{k}_r \\mathbf{k}_s}}\n",
    "\\langle \\mathbf{k}_p \\sigma_p, \\mathbf{k}_q \\sigma_2\\vert v \\vert \\mathbf{k}_r \\sigma_3, \\mathbf{k}_s \\sigma_s\\rangle\n",
    "a_{\\mathbf{k}_p \\sigma_p}^\\dagger a_{\\mathbf{k}_q \\sigma_q}^\\dagger a_{\\mathbf{k}_s \\sigma_s} a_{\\mathbf{k}_r \\sigma_r} .\n",
    "\\label{_auto1} \\tag{1}\n",
    "\\end{equation}\n",
    "$$"
   ]
  },
  {
   "cell_type": "markdown",
   "id": "d789bafe",
   "metadata": {
    "editable": true
   },
   "source": [
    "## Plane waves\n",
    "\n",
    "Inserting plane waves as eigenstates we can rewrite the matrix element as"
   ]
  },
  {
   "cell_type": "markdown",
   "id": "ca0e10b8",
   "metadata": {
    "editable": true
   },
   "source": [
    "$$\n",
    "\\langle \\mathbf{k}_p \\sigma_p, \\mathbf{k}_q \\sigma_q\\vert \\hat{v} \\vert \\mathbf{k}_r \\sigma_r, \\mathbf{k}_s \\sigma_s\\rangle =\n",
    "\\frac{1}{V^2} \\delta_{\\sigma_p \\sigma_r} \\delta_{\\sigma_q \\sigma_s}\n",
    "\\int\\int \\exp{-i(\\mathbf{k}_p \\cdot \\mathbf{r}_p)} \\exp{-i( \\mathbf{k}_q \\cdot \\mathbf{r}_q)} \\hat{v}(r) \\exp{i(\\mathbf{k}_r \\cdot \\mathbf{r}_p)} \\exp{i( \\mathbf{k}_s \\cdot \\mathbf{r}_q)} d\\mathbf{r}_p d\\mathbf{r}_q ,\n",
    "$$"
   ]
  },
  {
   "cell_type": "markdown",
   "id": "2660fbe1",
   "metadata": {
    "editable": true
   },
   "source": [
    "where we have used the orthogonality properties of the spin functions. We change now the variables of integration\n",
    "by defining $\\mathbf{r} = \\mathbf{r}_p - \\mathbf{r}_q$, which gives $\\mathbf{r}_p = \\mathbf{r} + \\mathbf{r}_q$ and $d^3 \\mathbf{r} = d^3 \\mathbf{r}_p$."
   ]
  },
  {
   "cell_type": "markdown",
   "id": "808f80ee",
   "metadata": {
    "editable": true
   },
   "source": [
    "## Integration limits\n",
    "\n",
    "The limits are not changed since they are from $-\\infty$ to  $\\infty$ for all integrals. This results in"
   ]
  },
  {
   "cell_type": "markdown",
   "id": "43bfbe08",
   "metadata": {
    "editable": true
   },
   "source": [
    "$$\n",
    "\\begin{align*}\n",
    "\\langle \\mathbf{k}_p \\sigma_p, \\mathbf{k}_q \\sigma_q\\vert \\hat{v} \\vert \\mathbf{k}_r \\sigma_r, \\mathbf{k}_s \\sigma_s\\rangle\n",
    "&= \\frac{1}{V^2} \\delta_{\\sigma_p \\sigma_r} \\delta_{\\sigma_q \\sigma_s} \\int\\exp{i (\\mathbf{k}_s - \\mathbf{k}_q) \\cdot \\mathbf{r}_q} \\int v(r) \\exp{i(\\mathbf{k}_r - \\mathbf{k}_p) \\cdot ( \\mathbf{r} + \\mathbf{r}_q)} d\\mathbf{r} d\\mathbf{r}_q \\\\\n",
    "&= \\frac{1}{V^2} \\delta_{\\sigma_p \\sigma_r} \\delta_{\\sigma_q \\sigma_s} \\int v(r) \\exp{i\\left[(\\mathbf{k}_r - \\mathbf{k}_p) \\cdot \\mathbf{r}\\right]}\n",
    "\\int \\exp{i\\left[(\\mathbf{k}_s - \\mathbf{k}_q + \\mathbf{k}_r - \\mathbf{k}_p) \\cdot \\mathbf{r}_q\\right]} d\\mathbf{r}_q d\\mathbf{r} .\n",
    "\\end{align*}\n",
    "$$"
   ]
  },
  {
   "cell_type": "markdown",
   "id": "da7bb3b9",
   "metadata": {
    "editable": true
   },
   "source": [
    "## Recognizing integral\n",
    "\n",
    "We recognize the integral over $\\mathbf{r}_q$ as a $\\delta$-function, resulting in"
   ]
  },
  {
   "cell_type": "markdown",
   "id": "30b86efb",
   "metadata": {
    "editable": true
   },
   "source": [
    "$$\n",
    "\\langle \\mathbf{k}_p \\sigma_p, \\mathbf{k}_q \\sigma_q\\vert \\hat{v} \\vert \\mathbf{k}_r \\sigma_r, \\mathbf{k}_s \\sigma_s\\rangle =\n",
    "\\frac{1}{V} \\delta_{\\sigma_p \\sigma_r} \\delta_{\\sigma_q \\sigma_s} \\delta_{(\\mathbf{k}_p + \\mathbf{k}_q),(\\mathbf{k}_r + \\mathbf{k}_s)} \\int v(r) \\exp{i\\left[(\\mathbf{k}_r - \\mathbf{k}_p) \\cdot \\mathbf{r}\\right]} d^3r .\n",
    "$$"
   ]
  },
  {
   "cell_type": "markdown",
   "id": "0cc258b2",
   "metadata": {
    "editable": true
   },
   "source": [
    "For this equation to be different from zero, we must have conservation of momenta, we need to satisfy\n",
    "$\\mathbf{k}_p + \\mathbf{k}_q = \\mathbf{k}_r + \\mathbf{k}_s$."
   ]
  },
  {
   "cell_type": "markdown",
   "id": "18a978cd",
   "metadata": {
    "editable": true
   },
   "source": [
    "## Conservation of momentum\n",
    "\n",
    "We can use the conservation of momenta to remove one of the summation variables resulting in"
   ]
  },
  {
   "cell_type": "markdown",
   "id": "1902aa4b",
   "metadata": {
    "editable": true
   },
   "source": [
    "$$\n",
    "\\hat{V} =\n",
    "\\frac{1}{2V} \\sum_{\\sigma \\sigma'} \\sum_{\\mathbf{k}_p \\mathbf{k}_q \\mathbf{k}_r} \\left[ \\int v(r) \\exp{i\\left[(\\mathbf{k}_r - \\mathbf{k}_p) \\cdot \\mathbf{r}\\right]} d^3r \\right]\n",
    "a_{\\mathbf{k}_p \\sigma}^\\dagger a_{\\mathbf{k}_q \\sigma'}^\\dagger a_{\\mathbf{k}_p + \\mathbf{k}_q - \\mathbf{k}_r, \\sigma'} a_{\\mathbf{k}_r \\sigma},\n",
    "$$"
   ]
  },
  {
   "cell_type": "markdown",
   "id": "f1e1e152",
   "metadata": {
    "editable": true
   },
   "source": [
    "which can be rewritten as"
   ]
  },
  {
   "cell_type": "markdown",
   "id": "4e0c2027",
   "metadata": {
    "editable": true
   },
   "source": [
    "<!-- Equation labels as ordinary links -->\n",
    "<div id=\"eq:V\"></div>\n",
    "\n",
    "$$\n",
    "\\begin{equation}\n",
    "\\hat{V} =\n",
    "\\frac{1}{2V} \\sum_{\\sigma \\sigma'} \\sum_{\\mathbf{k} \\mathbf{p} \\mathbf{q}} \\left[ \\int v(r) \\exp{-i( \\mathbf{q} \\cdot \\mathbf{r})} d\\mathbf{r} \\right]\n",
    "a_{\\mathbf{k} + \\mathbf{q}, \\sigma}^\\dagger a_{\\mathbf{p} - \\mathbf{q}, \\sigma'}^\\dagger a_{\\mathbf{p} \\sigma'} a_{\\mathbf{k} \\sigma},\n",
    "\\label{eq:V} \\tag{2}\n",
    "\\end{equation}\n",
    "$$"
   ]
  },
  {
   "cell_type": "markdown",
   "id": "483d8baa",
   "metadata": {
    "editable": true
   },
   "source": [
    "## Some definitions\n",
    "\n",
    "In the last equation we defined\n",
    "the quantities\n",
    "$\\mathbf{p} = \\mathbf{k}_p + \\mathbf{k}_q - \\mathbf{k}_r$, $\\mathbf{k} = \\mathbf{k}_r$ og $\\mathbf{q} = \\mathbf{k}_p - \\mathbf{k}_r$."
   ]
  },
  {
   "cell_type": "markdown",
   "id": "e53fd5ed",
   "metadata": {
    "editable": true
   },
   "source": [
    "## Reference energy\n",
    "\n",
    "Let us now compute the expectation value of the reference energy using the expressions for the kinetic energy operator and the interaction.\n",
    "We need to compute $\\langle \\Phi_0\\vert \\hat{H} \\vert \\Phi_0\\rangle = \\langle \\Phi_0\\vert \\hat{T} \\vert \\Phi_0\\rangle + \\langle \\Phi_0\\vert \\hat{V} \\vert \\Phi_0\\rangle$, where $\\vert \\Phi_0\\rangle$ is our reference Slater determinant, constructed from filling all single-particle states up to the Fermi level.\n",
    "Let us start with the kinetic energy first"
   ]
  },
  {
   "cell_type": "markdown",
   "id": "ff35c023",
   "metadata": {
    "editable": true
   },
   "source": [
    "$$\n",
    "\\langle \\Phi_0\\vert \\hat{T} \\vert \\Phi_0\\rangle \n",
    "= \\langle \\Phi_0\\vert \\left( \\sum_{\\mathbf{p} \\sigma} \\frac{\\hbar^2 p^2}{2m} a_{\\mathbf{p} \\sigma}^\\dagger a_{\\mathbf{p} \\sigma} \\right) \\vert \\Phi_0\\rangle\n",
    "= \\sum_{\\mathbf{p} \\sigma} \\frac{\\hbar^2 p^2}{2m} \\langle \\Phi_0\\vert a_{\\mathbf{p} \\sigma}^\\dagger a_{\\mathbf{p} \\sigma} \\vert \\Phi_0\\rangle .\n",
    "$$"
   ]
  },
  {
   "cell_type": "markdown",
   "id": "3bb3a17f",
   "metadata": {
    "editable": true
   },
   "source": [
    "## Kinetic  energy\n",
    "\n",
    "From the possible contractions using Wick's theorem, it is straightforward to convince oneself that the expression for the kinetic energy becomes"
   ]
  },
  {
   "cell_type": "markdown",
   "id": "09d9f4e3",
   "metadata": {
    "editable": true
   },
   "source": [
    "$$\n",
    "\\langle \\Phi_0\\vert \\hat{T} \\vert \\Phi_0\\rangle = \\sum_{\\mathbf{i} \\leq F} \\frac{\\hbar^2 k_i^2}{m} = \\frac{V}{(2\\pi)^3} \\frac{\\hbar^2}{m} \\int_0^{k_F} k^2 d\\mathbf{k}.\n",
    "$$"
   ]
  },
  {
   "cell_type": "markdown",
   "id": "8448c5e6",
   "metadata": {
    "editable": true
   },
   "source": [
    "The sum of the spin degrees of freedom results in  a factor of two only if we deal with identical spin $1/2$ fermions. \n",
    "Changing to spherical coordinates, the integral over the momenta $k$ results in the final expression"
   ]
  },
  {
   "cell_type": "markdown",
   "id": "9469a38d",
   "metadata": {
    "editable": true
   },
   "source": [
    "$$\n",
    "\\langle \\Phi_0\\vert \\hat{T} \\vert \\Phi_0\\rangle = \\frac{V}{(2\\pi)^3} \\left( 4\\pi \\int_0^{k_F} k^4 d\\mathbf{k} \\right) = \\frac{4\\pi V}{(2\\pi)^3} \\frac{1}{5} k_F^5 = \\frac{4\\pi V}{5(2\\pi)^3} k_F^5 = \\frac{\\hbar^2 V}{10\\pi^2 m} k_F^5 .\n",
    "$$"
   ]
  },
  {
   "cell_type": "markdown",
   "id": "e1bd1306",
   "metadata": {
    "editable": true
   },
   "source": [
    "## Density of states\n",
    "\n",
    "The density of states in momentum space is given by $2V/(2\\pi)^3$, where we have included the degeneracy due to the spin degrees of freedom.\n",
    "The volume is given by  $4\\pi k_F^3/3$, and the number of particles becomes"
   ]
  },
  {
   "cell_type": "markdown",
   "id": "b02e0d30",
   "metadata": {
    "editable": true
   },
   "source": [
    "$$\n",
    "N = \\frac{2V}{(2\\pi)^3} \\frac{4}{3} \\pi k_F^3 = \\frac{V}{3\\pi^2} k_F^3 \\quad \\Rightarrow \\quad\n",
    "k_F = \\left( \\frac{3\\pi^2 N}{V} \\right)^{1/3}.\n",
    "$$"
   ]
  },
  {
   "cell_type": "markdown",
   "id": "a0f02fea",
   "metadata": {
    "editable": true
   },
   "source": [
    "This gives us"
   ]
  },
  {
   "cell_type": "markdown",
   "id": "d53d7d28",
   "metadata": {
    "editable": true
   },
   "source": [
    "<!-- Equation labels as ordinary links -->\n",
    "<div id=\"eq:T_forventning\"></div>\n",
    "\n",
    "$$\n",
    "\\begin{equation}\n",
    "\\langle \\Phi_0\\vert \\hat{T} \\vert \\Phi_0\\rangle =\n",
    "\\frac{\\hbar^2 V}{10\\pi^2 m} \\left( \\frac{3\\pi^2 N}{V} \\right)^{5/3} =\n",
    "\\frac{\\hbar^2 (3\\pi^2)^{5/3} N}{10\\pi^2 m} \\rho^{2/3} ,\n",
    "\\label{eq:T_forventning} \\tag{3}\n",
    "\\end{equation}\n",
    "$$"
   ]
  },
  {
   "cell_type": "markdown",
   "id": "f65331b6",
   "metadata": {
    "editable": true
   },
   "source": [
    "## Potential energy\n",
    "\n",
    "We are now ready to calculate the expectation value of the potential energy"
   ]
  },
  {
   "cell_type": "markdown",
   "id": "08754c6e",
   "metadata": {
    "editable": true
   },
   "source": [
    "$$\n",
    "\\begin{align*}\n",
    "\\langle \\Phi_0\\vert \\hat{V} \\vert \\Phi_0\\rangle \n",
    "&= \\langle \\Phi_0\\vert \\left( \\frac{1}{2V} \\sum_{\\sigma \\sigma'} \\sum_{\\mathbf{k} \\mathbf{p} \\mathbf{q} } \\left[ \\int v(r) \\exp{-i (\\mathbf{q} \\cdot \\mathbf{r})} d\\mathbf{r} \\right] a_{\\mathbf{k} + \\mathbf{q}, \\sigma}^\\dagger a_{\\mathbf{p} - \\mathbf{q}, \\sigma'}^\\dagger a_{\\mathbf{p} \\sigma'} a_{\\mathbf{k} \\sigma} \\right) \\vert \\Phi_0\\rangle \\\\\n",
    "&= \\frac{1}{2V} \\sum_{\\sigma \\sigma'} \\sum_{\\mathbf{k} \\mathbf{p} \\mathbf{q}} \\left[ \\int v(r) \\exp{-i (\\mathbf{q} \\cdot \\mathbf{r})} d\\mathbf{r} \\right]\\langle \\Phi_0\\vert a_{\\mathbf{k} + \\mathbf{q}, \\sigma}^\\dagger a_{\\mathbf{p} - \\mathbf{q}, \\sigma'}^\\dagger a_{\\mathbf{p} \\sigma'} a_{\\mathbf{k} \\sigma} \\vert \\Phi_0\\rangle .\n",
    "\\end{align*}\n",
    "$$"
   ]
  },
  {
   "cell_type": "markdown",
   "id": "e13a3130",
   "metadata": {
    "editable": true
   },
   "source": [
    "## Non-zero term\n",
    "\n",
    "The only contractions which result in non-zero results are those that involve states below the Fermi level, that is \n",
    "$k \\leq k_F$, $p \\leq k_F$, $|\\mathbf{p} - \\mathbf{q}| < \\mathbf{k}_F$ and $|\\mathbf{k} + \\mathbf{q}| \\leq k_F$. Due to momentum conservation we must also have $\\mathbf{k} + \\mathbf{q} = \\mathbf{p}$, $\\mathbf{p} - \\mathbf{q} = \\mathbf{k}$ and  $\\sigma = \\sigma'$ or  $\\mathbf{k} + \\mathbf{q} = \\mathbf{k}$ and $\\mathbf{p} - \\mathbf{q} = \\mathbf{p}$. \n",
    "Summarizing, we must have"
   ]
  },
  {
   "cell_type": "markdown",
   "id": "84bc3522",
   "metadata": {
    "editable": true
   },
   "source": [
    "$$\n",
    "\\mathbf{k} + \\mathbf{q} = \\mathbf{p} \\quad \\text{and} \\quad \\sigma = \\sigma', \\qquad\n",
    "\\text{or} \\qquad\n",
    "\\mathbf{q} = \\mathbf{0} .\n",
    "$$"
   ]
  },
  {
   "cell_type": "markdown",
   "id": "7e02738c",
   "metadata": {
    "editable": true
   },
   "source": [
    "## Direct and exchange terms\n",
    "\n",
    "We obtain then"
   ]
  },
  {
   "cell_type": "markdown",
   "id": "7b92e320",
   "metadata": {
    "editable": true
   },
   "source": [
    "$$\n",
    "\\langle \\Phi_0\\vert \\hat{V} \\vert \\Phi_0\\rangle =\n",
    "\\frac{1}{2V} \\left( \\sum_{\\sigma \\sigma'} \\sum_{\\mathbf{q} \\mathbf{p} \\leq F} \\left[ \\int v(r) d\\mathbf{r} \\right] - \\sum_{\\sigma}\n",
    "\\sum_{\\mathbf{q} \\mathbf{p} \\leq F} \\left[ \\int v(r) \\exp{-i (\\mathbf{q} \\cdot \\mathbf{r})} d\\mathbf{r} \\right] \\right).\n",
    "$$"
   ]
  },
  {
   "cell_type": "markdown",
   "id": "a1985477",
   "metadata": {
    "editable": true
   },
   "source": [
    "The first term is the so-called direct term while the second term is the exchange term."
   ]
  },
  {
   "cell_type": "markdown",
   "id": "99dd8625",
   "metadata": {
    "editable": true
   },
   "source": [
    "## Potential energy\n",
    "\n",
    "We can rewrite this equation as (and this applies to any potential which depends only on the relative distance between particles)"
   ]
  },
  {
   "cell_type": "markdown",
   "id": "aac6bf6f",
   "metadata": {
    "editable": true
   },
   "source": [
    "<!-- Equation labels as ordinary links -->\n",
    "<div id=\"eq:V_b\"></div>\n",
    "\n",
    "$$\n",
    "\\begin{equation}\n",
    "\\langle \\Phi_0\\vert \\hat{V} \\vert \\Phi_0\\rangle =\n",
    "\\frac{1}{2V} \\left( N^2 \\left[ \\int v(r) d\\mathbf{r} \\right] - N \\sum_{\\mathbf{q}} \\left[ \\int v(r) \\exp{-i (\\mathbf{q}\\cdot \\mathbf{r})} d\\mathbf{r} \\right] \\right),\n",
    "\\label{eq:V_b} \\tag{4}\n",
    "\\end{equation}\n",
    "$$"
   ]
  },
  {
   "cell_type": "markdown",
   "id": "fdaac373",
   "metadata": {
    "editable": true
   },
   "source": [
    "where we have used the fact that a sum like $\\sum_{\\sigma}\\sum_{\\mathbf{k}}$ equals the number of particles. Using the fact that the density is given by\n",
    "$\\rho = N/V$, with $V$ being our volume, we can rewrite the last equation as"
   ]
  },
  {
   "cell_type": "markdown",
   "id": "e1508f05",
   "metadata": {
    "editable": true
   },
   "source": [
    "$$\n",
    "\\langle \\Phi_0\\vert \\hat{V} \\vert \\Phi_0\\rangle =\n",
    "\\frac{1}{2} \\left( \\rho N \\left[ \\int v(r) d\\mathbf{r} \\right] - \\rho\\sum_{\\mathbf{q}} \\left[ \\int v(r) \\exp{-i (\\mathbf{q}\\cdot \\mathbf{r})} d\\mathbf{r} \\right] \\right).\n",
    "$$"
   ]
  },
  {
   "cell_type": "markdown",
   "id": "05dd9dae",
   "metadata": {
    "editable": true
   },
   "source": [
    "## Interaction part\n",
    "\n",
    "For the electron gas\n",
    "the interaction part of the Hamiltonian operator is given by"
   ]
  },
  {
   "cell_type": "markdown",
   "id": "47f1657e",
   "metadata": {
    "editable": true
   },
   "source": [
    "$$\n",
    "\\hat{H}_I=\\hat{H}_{el}+\\hat{H}_{b}+\\hat{H}_{el-b},\n",
    "$$"
   ]
  },
  {
   "cell_type": "markdown",
   "id": "522b785e",
   "metadata": {
    "editable": true
   },
   "source": [
    "with the electronic part"
   ]
  },
  {
   "cell_type": "markdown",
   "id": "09d0fc73",
   "metadata": {
    "editable": true
   },
   "source": [
    "$$\n",
    "\\hat{H}_{el}=\\sum_{i=1}^N\\frac{p_i^2}{2m}+\\frac{e^2}{2}\\sum_{i\\ne j}\\frac{e^{-\\mu |\\mathbf{r}_i-\\mathbf{r}_j|}}{|\\mathbf{r}_i-\\mathbf{r}_j|},\n",
    "$$"
   ]
  },
  {
   "cell_type": "markdown",
   "id": "d2e6cb40",
   "metadata": {
    "editable": true
   },
   "source": [
    "where we have introduced an explicit convergence factor\n",
    "(the limit $\\mu\\rightarrow 0$ is performed after having calculated the various integrals)."
   ]
  },
  {
   "cell_type": "markdown",
   "id": "79925c75",
   "metadata": {
    "editable": true
   },
   "source": [
    "## Positive background\n",
    "\n",
    "Correspondingly, we have"
   ]
  },
  {
   "cell_type": "markdown",
   "id": "7cbe4d9f",
   "metadata": {
    "editable": true
   },
   "source": [
    "$$\n",
    "\\hat{H}_{b}=\\frac{e^2}{2}\\int\\int d\\mathbf{r}d\\mathbf{r}'\\frac{n(\\mathbf{r})n(\\mathbf{r}')e^{-\\mu |\\mathbf{r}-\\mathbf{r}'|}}{|\\mathbf{r}-\\mathbf{r}'|},\n",
    "$$"
   ]
  },
  {
   "cell_type": "markdown",
   "id": "508cb1c0",
   "metadata": {
    "editable": true
   },
   "source": [
    "which is the energy contribution from the positive background charge with density\n",
    "$n(\\mathbf{r})=N/V$. Finally,"
   ]
  },
  {
   "cell_type": "markdown",
   "id": "38c5f9cb",
   "metadata": {
    "editable": true
   },
   "source": [
    "$$\n",
    "\\hat{H}_{el-b}=-\\frac{e^2}{2}\\sum_{i=1}^N\\int d\\mathbf{r}\\frac{n(\\mathbf{r})e^{-\\mu |\\mathbf{r}-\\mathbf{x}_i|}}{|\\mathbf{r}-\\mathbf{x}_i|},\n",
    "$$"
   ]
  },
  {
   "cell_type": "markdown",
   "id": "17c52231",
   "metadata": {
    "editable": true
   },
   "source": [
    "is the interaction between the electrons and the positive background."
   ]
  },
  {
   "cell_type": "markdown",
   "id": "e8d10796",
   "metadata": {
    "editable": true
   },
   "source": [
    "## Positive charge contribution\n",
    "\n",
    "We can show that"
   ]
  },
  {
   "cell_type": "markdown",
   "id": "95d23060",
   "metadata": {
    "editable": true
   },
   "source": [
    "$$\n",
    "\\hat{H}_{b}=\\frac{e^2}{2}\\frac{N^2}{V}\\frac{4\\pi}{\\mu^2},\n",
    "$$"
   ]
  },
  {
   "cell_type": "markdown",
   "id": "011f2075",
   "metadata": {
    "editable": true
   },
   "source": [
    "and"
   ]
  },
  {
   "cell_type": "markdown",
   "id": "74bee7b2",
   "metadata": {
    "editable": true
   },
   "source": [
    "$$\n",
    "\\hat{H}_{el-b}=-e^2\\frac{N^2}{V}\\frac{4\\pi}{\\mu^2}.\n",
    "$$"
   ]
  },
  {
   "cell_type": "markdown",
   "id": "2e64d47a",
   "metadata": {
    "editable": true
   },
   "source": [
    "## Thermodynamic limit\n",
    "\n",
    "For the electron gas and a Coulomb interaction, these two terms are cancelled (in the thermodynamic limit) by the contribution from the direct term arising\n",
    "from the repulsive electron-electron interaction. What remains then  when computing the reference energy is only the kinetic energy contribution and the contribution from the exchange term.  For other interactions, like nuclear forces with a short range part and no infinite range, we need to compute both the direct term and the exchange term. \n",
    "\n",
    "We can show that the final Hamiltonian can be written as"
   ]
  },
  {
   "cell_type": "markdown",
   "id": "b6edc47b",
   "metadata": {
    "editable": true
   },
   "source": [
    "$$\n",
    "H=H_{0}+H_{I},\n",
    "$$"
   ]
  },
  {
   "cell_type": "markdown",
   "id": "a8252f06",
   "metadata": {
    "editable": true
   },
   "source": [
    "with"
   ]
  },
  {
   "cell_type": "markdown",
   "id": "3a85f0b2",
   "metadata": {
    "editable": true
   },
   "source": [
    "$$\n",
    "H_{0}={\\displaystyle\\sum_{\\mathbf{k}\\sigma}}\n",
    "\\frac{\\hbar^{2}k^{2}}{2m}a_{\\mathbf{k}\\sigma}^{\\dagger}\n",
    "a_{\\mathbf{k}\\sigma},\n",
    "$$"
   ]
  },
  {
   "cell_type": "markdown",
   "id": "158a6f00",
   "metadata": {
    "editable": true
   },
   "source": [
    "and"
   ]
  },
  {
   "cell_type": "markdown",
   "id": "8f9c3c27",
   "metadata": {
    "editable": true
   },
   "source": [
    "$$\n",
    "H_{I}=\\frac{e^{2}}{2V}{\\displaystyle\\sum_{\\sigma_{1}\\sigma_{2}}}{\\displaystyle\\sum_{\\mathbf{q}\\neq 0,\\mathbf{k},\\mathbf{p}}}\\frac{4\\pi}{q^{2}}\n",
    "a_{\\mathbf{k}+\\mathbf{q},\\sigma_{1}}^{\\dagger}\n",
    "a_{\\mathbf{p}-\\mathbf{q},\\sigma_{2}}^{\\dagger}\n",
    "a_{\\mathbf{p}\\sigma_{2}}a_{\\mathbf{k}\\sigma_{1}}.\n",
    "$$"
   ]
  },
  {
   "cell_type": "markdown",
   "id": "019391d3",
   "metadata": {
    "editable": true
   },
   "source": [
    "## Ground state energy\n",
    "\n",
    "Calculate $E_0/N=\\langle \\Phi_{0}\\vert H\\vert \\Phi_{0}\\rangle/N$ for for this system to first order in the interaction. Show that, by using"
   ]
  },
  {
   "cell_type": "markdown",
   "id": "b7999e12",
   "metadata": {
    "editable": true
   },
   "source": [
    "$$\n",
    "\\rho= \\frac{k_F^3}{3\\pi^2}=\\frac{3}{4\\pi r_0^3},\n",
    "$$"
   ]
  },
  {
   "cell_type": "markdown",
   "id": "73608110",
   "metadata": {
    "editable": true
   },
   "source": [
    "with $\\rho=N/V$, $r_0$\n",
    "being the radius of a sphere representing the volume an electron occupies \n",
    "and the Bohr radius $a_0=\\hbar^2/e^2m$, \n",
    "that the energy per electron can be written as"
   ]
  },
  {
   "cell_type": "markdown",
   "id": "afe98a6f",
   "metadata": {
    "editable": true
   },
   "source": [
    "$$\n",
    "E_0/N=\\frac{e^2}{2a_0}\\left[\\frac{2.21}{r_s^2}-\\frac{0.916}{r_s}\\right].\n",
    "$$"
   ]
  },
  {
   "cell_type": "markdown",
   "id": "1a62089c",
   "metadata": {
    "editable": true
   },
   "source": [
    "Here we have defined\n",
    "$r_s=r_0/a_0$ to be a dimensionless quantity."
   ]
  },
  {
   "cell_type": "markdown",
   "id": "09328c70",
   "metadata": {
    "editable": true
   },
   "source": [
    "## Exercise 2: plot of energy\n",
    "\n",
    "Plot the energy as function of $r_s$. Why is this system stable?\n",
    "Calculate thermodynamical quantities like the pressure, given by"
   ]
  },
  {
   "cell_type": "markdown",
   "id": "135fe3d6",
   "metadata": {
    "editable": true
   },
   "source": [
    "$$\n",
    "P=-\\left(\\frac{\\partial E}{\\partial V}\\right)_N,\n",
    "$$"
   ]
  },
  {
   "cell_type": "markdown",
   "id": "7de127e9",
   "metadata": {
    "editable": true
   },
   "source": [
    "and the bulk modulus"
   ]
  },
  {
   "cell_type": "markdown",
   "id": "ce335a94",
   "metadata": {
    "editable": true
   },
   "source": [
    "$$\n",
    "B=-V\\left(\\frac{\\partial P}{\\partial V}\\right)_N,\n",
    "$$"
   ]
  },
  {
   "cell_type": "markdown",
   "id": "09e15ae4",
   "metadata": {
    "editable": true
   },
   "source": [
    "and comment your results."
   ]
  },
  {
   "cell_type": "markdown",
   "id": "4a7ab9ad",
   "metadata": {
    "editable": true
   },
   "source": [
    "## Density functional theory\n",
    "\n",
    "Hohenberg and Kohn proved that the total energy of a system including\n",
    "vthat of the many-body effects of electrons (exchange and correlation)\n",
    "in the presence of static external potential (for example, the atomic\n",
    "nuclei) is a unique functional of the charge density. The minimum\n",
    "value of the total energy functional is the ground state energy of the\n",
    "system. The electronic charge density which yields this minimum is\n",
    "then the exact single particle ground state energy."
   ]
  },
  {
   "cell_type": "markdown",
   "id": "f9894019",
   "metadata": {
    "editable": true
   },
   "source": [
    "## Functional of density\n",
    "\n",
    "The electronic energy $E$ is said to be a functional of the\n",
    "electronic density, $E[\\rho]$, in the sense that for a given function\n",
    "$\\rho(r)$, there is a single corresponding energy. The\n",
    "Hohenberg-Kohn theorems (two) confirms that such a functional exists,\n",
    "but does not tell us the form of the functional.\n",
    "\n",
    "Density functional theory has turned out to be a resounding success. A\n",
    "large majority of crystalline materials, many molecules and molecular\n",
    "structures have been explained using DFT. Walter Kohn, involved in\n",
    "both the Hohenberg-Kohn theory and development of the Kohn-Sham\n",
    "equations, received the Nobel Prize in Chemistry for DFT and\n",
    "computational chemistry in 1998.  DFT is used in a broad spectrum of\n",
    "disciplines, including quantum chemistry, materials science, condensed\n",
    "matter physics and low-energy nuclear physics"
   ]
  },
  {
   "cell_type": "markdown",
   "id": "857d8695",
   "metadata": {
    "editable": true
   },
   "source": [
    "## The many-particle equation\n",
    "\n",
    "Any material on earth, whether in crystals, amorphous solids,\n",
    "molecules or yourself, consists of nothing else than a bunch of atoms,\n",
    "ions and electrons bound together by electric forces. All these\n",
    "possible forms of matter can be explained by virtue of one simple\n",
    "equation: the many-particle Schr\\\"{o}dinger equation,"
   ]
  },
  {
   "cell_type": "markdown",
   "id": "193e3576",
   "metadata": {
    "editable": true
   },
   "source": [
    "<!-- Equation labels as ordinary links -->\n",
    "<div id=\"_auto2\"></div>\n",
    "\n",
    "$$\n",
    "\\begin{equation}\n",
    "\ti \\hbar \\frac{\\partial}{\\partial t} \\Phi( \\boldsymbol{r} ; t) = \n",
    "\t\\left( - \\sum_{i}^N \\frac{\\hbar^2}{2m_i} \\frac{\\partial^2}{\\partial \\boldsymbol{r}_i^2}\n",
    "\t+ \\sum_{i<j}^N \\frac{e^2 Z_i Z_j }{ | \\boldsymbol{r}_i - \\boldsymbol{r}_j| } \\right)  \\Phi( \\boldsymbol{r} ; t).\n",
    "\\label{_auto2} \\tag{5}\n",
    "\\end{equation}\n",
    "$$"
   ]
  },
  {
   "cell_type": "markdown",
   "id": "66f99db0",
   "metadata": {
    "editable": true
   },
   "source": [
    "Here $\\Phi(\\boldsymbol{r} ; t)$ is the many-body wavefunction for $N$ particles, where each particle has its own mass $m_i$, charge $Z_i$ and position $\\boldsymbol{r}_i$. The only interaction is the Coulomb interaction $e^2/r$."
   ]
  },
  {
   "cell_type": "markdown",
   "id": "705857c9",
   "metadata": {
    "editable": true
   },
   "source": [
    "## Born-Oppenheimer approximation\n",
    "\n",
    "In atomic and molecular physics, materials science and quantum chemsitry, the Born-Oppenheimer  approximation arises from the physical problem we want to\n",
    "study: the ground state of a collection of interacting ions and\n",
    "electrons. Because even the lightest ion is more than a thousand times\n",
    "heavier than an electron, we approximate our Hamiltonian  to not include  the dynamics of the\n",
    "ions all-together. This is known as the **Born-Oppenheimer**\n",
    "approximation."
   ]
  },
  {
   "cell_type": "markdown",
   "id": "c8ea6b2d",
   "metadata": {
    "editable": true
   },
   "source": [
    "## Time-independent equation\n",
    "\n",
    "We then write the time-independent Schr\\\"{o}dinger\n",
    "equation for a collection of $N$ electrons subject to the\n",
    "electric potential created by the fixed ions, labeled $v_{\\mathrm{ext}}(\\boldsymbol{r})$,"
   ]
  },
  {
   "cell_type": "markdown",
   "id": "8eaba095",
   "metadata": {
    "editable": true
   },
   "source": [
    "$$\n",
    "\\left( \\sum_{i}^N \\left( - \\frac{\\hbar^2}{2m} \\frac{\\partial^2}{\\partial \\boldsymbol{r}_i^2}\n",
    "\t+ v_{\\mathrm{ext}}(\\boldsymbol{r}_i) \\right)\n",
    "\t + \\sum_{i<j}^N \\frac{e^2}{|\\boldsymbol{r}_i - \\boldsymbol{r}_j|} \\right) \\Psi(\\boldsymbol{r}) = E_0  \\Psi( \\boldsymbol{r} ),\n",
    "$$"
   ]
  },
  {
   "cell_type": "markdown",
   "id": "ef495035",
   "metadata": {
    "editable": true
   },
   "source": [
    "where $\\boldsymbol{r}_i$ are the positions of the electrons.\n",
    "\n",
    "We can replace the explicit Coulomb repulsion with a generic two-body interaction"
   ]
  },
  {
   "cell_type": "markdown",
   "id": "5d9e71e4",
   "metadata": {
    "editable": true
   },
   "source": [
    "$$\n",
    "\\sum_{i}^N \\left( - \\frac{\\hbar^2}{2m} \\frac{\\partial^2}{\\partial \\boldsymbol{r}_i^2}\n",
    "\t+ v_{\\mathrm{ext}}(\\boldsymbol{r}_i) \\right)\n",
    "\t + \\sum_{i<j}^N v(r_{ij})( = E_0  \\Psi( \\boldsymbol{r} ),\n",
    "$$"
   ]
  },
  {
   "cell_type": "markdown",
   "id": "ebcc6443",
   "metadata": {
    "editable": true
   },
   "source": [
    "where $r_{ij}=\\vert \\boldsymbol{r}_i-\\boldsymbol{r}_j\\vert$."
   ]
  },
  {
   "cell_type": "markdown",
   "id": "ed14b6bf",
   "metadata": {
    "editable": true
   },
   "source": [
    "## Potential term\n",
    "The potential\n",
    "$v_{\\mathrm{ext}}(\\boldsymbol{r}_i)$ is created by the charged ions,"
   ]
  },
  {
   "cell_type": "markdown",
   "id": "b4bf8832",
   "metadata": {
    "editable": true
   },
   "source": [
    "$$\n",
    "v_{\\mathrm{ext}}(\\boldsymbol{r}_i) = - \\sum_j \\frac{e^2 Z_j}{| \\boldsymbol{r}_i - \\boldsymbol{R}_j|}\n",
    "$$"
   ]
  },
  {
   "cell_type": "markdown",
   "id": "b2b49dd9",
   "metadata": {
    "editable": true
   },
   "source": [
    "where $\\boldsymbol{R}$ is the (static) positions of the ions and $Z_j$ their\n",
    "charge."
   ]
  },
  {
   "cell_type": "markdown",
   "id": "cbfda2d0",
   "metadata": {
    "editable": true
   },
   "source": [
    "## The one-body density\n",
    "The one-body reduced density matrix of a many-body system at zero\n",
    "temperature gives direct access to many observables, such as the charge density,\n",
    "kinetic energy and occupation numbers. In a coordinate representation it is defined as\n",
    "as the expectation value of the number operator"
   ]
  },
  {
   "cell_type": "markdown",
   "id": "dd826799",
   "metadata": {
    "editable": true
   },
   "source": [
    "$$\n",
    "\\hat{n}(\\boldsymbol{r})=\\sum_{i=1}^N\\delta(\\boldsymbol{r}-\\boldsymbol{r}_i),\n",
    "$$"
   ]
  },
  {
   "cell_type": "markdown",
   "id": "9a6c4d6b",
   "metadata": {
    "editable": true
   },
   "source": [
    "resulting in"
   ]
  },
  {
   "cell_type": "markdown",
   "id": "860fab01",
   "metadata": {
    "editable": true
   },
   "source": [
    "$$\n",
    "n(\\boldsymbol{r})=\\frac{\\langle \\Psi \\vert \\hat{n}(\\boldsymbol{r}) \\vert \\Psi \\rangle}{\\langle \\Psi\\vert \\Psi \\rangle}.\n",
    "$$"
   ]
  },
  {
   "cell_type": "markdown",
   "id": "00120b17",
   "metadata": {
    "editable": true
   },
   "source": [
    "Here $\\Psi$ can be any state. In the equations that follow we assume it has been normalized properly."
   ]
  },
  {
   "cell_type": "markdown",
   "id": "15762857",
   "metadata": {
    "editable": true
   },
   "source": [
    "## One-body density\n",
    "\n",
    "The one-body or just electronic density here, is thus obtained by integrating out all electron\n",
    "degrees of freedom except one, that is (setting $\\boldsymbol{r}=\\boldsymbol{r}_1$)"
   ]
  },
  {
   "cell_type": "markdown",
   "id": "ca898a5b",
   "metadata": {
    "editable": true
   },
   "source": [
    "$$\n",
    "n(\\boldsymbol{r})=n(\\boldsymbol{r}_1) = \\int d^3 \\boldsymbol{r}_2 \\cdots d^3 \\boldsymbol{r}_N\n",
    "\t\t\\left| \\Psi (\\boldsymbol{r}_1 \\cdots \\boldsymbol{r}_n) \\right|^2.\n",
    "$$"
   ]
  },
  {
   "cell_type": "markdown",
   "id": "d8986815",
   "metadata": {
    "editable": true
   },
   "source": [
    "If $\\Psi$ is a single reference Slater determinant defined in terms of\n",
    "the single-particle functions $\\psi_i$, then we have"
   ]
  },
  {
   "cell_type": "markdown",
   "id": "7a2c9d73",
   "metadata": {
    "editable": true
   },
   "source": [
    "$$\n",
    "n(\\boldsymbol{r})=\\sum_{i=1}^N\\vert \\psi_i(\\boldsymbol{r})\\vert^2.\n",
    "$$"
   ]
  },
  {
   "cell_type": "markdown",
   "id": "4dc5ecd1",
   "metadata": {
    "editable": true
   },
   "source": [
    "## More general definitions\n",
    "\n",
    "In an $N$-particle quantum system with wavefunction\n",
    "$\\Psi(x_1,\\dots,x_N)$, the one-body reduced density matrix\n",
    "$\\rho^{(1)}$ is obtained by tracing out (integrating over) $N-1$\n",
    "particles. It is defined as"
   ]
  },
  {
   "cell_type": "markdown",
   "id": "e365cdc7",
   "metadata": {
    "editable": true
   },
   "source": [
    "$$\n",
    "\\rho^{(1)}(x';x) = N\\int dx_2,dx_3\\cdots dx_N,\\Psi^*(x_2,\\dots,x_N, x’),\\Psi(x_2,\\dots,x_N, x).\n",
    "$$"
   ]
  },
  {
   "cell_type": "markdown",
   "id": "f9ea3846",
   "metadata": {
    "editable": true
   },
   "source": [
    "Here $x$ denotes the combined spatial and spin coordinates of a single particle."
   ]
  },
  {
   "cell_type": "markdown",
   "id": "f8681290",
   "metadata": {
    "editable": true
   },
   "source": [
    "## What does the one-body density represents\n",
    "\n",
    "Intuitively, $\\rho^{(1)}(x’,x)$ gives the amplitude for a particle at $x$ to be found at $x’$.\n",
    "Its diagonal"
   ]
  },
  {
   "cell_type": "markdown",
   "id": "26e617e6",
   "metadata": {
    "editable": true
   },
   "source": [
    "$$\n",
    "n(x)=\\rho^{(1)}(x,x)\n",
    "$$"
   ]
  },
  {
   "cell_type": "markdown",
   "id": "5a50fdb9",
   "metadata": {
    "editable": true
   },
   "source": [
    "is the one-body density (the probability density of finding a particle at $x$) . The one-body density matrix is hermitian, and for fermions it is often normalized such that"
   ]
  },
  {
   "cell_type": "markdown",
   "id": "789fddbc",
   "metadata": {
    "editable": true
   },
   "source": [
    "$$\n",
    "\\int n(x)dx = N.\n",
    "$$"
   ]
  },
  {
   "cell_type": "markdown",
   "id": "19adf045",
   "metadata": {
    "editable": true
   },
   "source": [
    "## Two-body density matrix in many-fermion systems\n",
    "\n",
    "Two-body density matrix:"
   ]
  },
  {
   "cell_type": "markdown",
   "id": "b9e630ff",
   "metadata": {
    "editable": true
   },
   "source": [
    "$$\n",
    "\\rho^{(2)}(x_1,x_2,y_1,y_2) = \\frac{N(N-1)}{2}\\int dx_3\\cdots dx_N,\\Psi^*(x_3,\\dots,x_N,,y_1,y_2),\\Psi(x_3,\\dots,x_N,,x_1,x_2).\n",
    "$$"
   ]
  },
  {
   "cell_type": "markdown",
   "id": "946b7b03",
   "metadata": {
    "editable": true
   },
   "source": [
    "This two-body reduced density matrix is a function of two coordinate pairs $(x_1,x_2)$ and $(y_1,y_2)$. Its diagonal part"
   ]
  },
  {
   "cell_type": "markdown",
   "id": "e2fe5b7a",
   "metadata": {
    "editable": true
   },
   "source": [
    "$$\n",
    "\\rho^{(2)}(x_1,x_2)\\equiv \\rho^{(2)}(x_1,x_2,x_1,x_2)\n",
    "$$"
   ]
  },
  {
   "cell_type": "markdown",
   "id": "f9954a19",
   "metadata": {
    "editable": true
   },
   "source": [
    "gives the joint probability density of finding one particle at $x_1$ and another at $x_2$.\n",
    "\n",
    "The factor $N(N-1)/2$ ensures proper normalization (since there are $N(N-1)/2$ distinct pairs)."
   ]
  },
  {
   "cell_type": "markdown",
   "id": "903bbe6c",
   "metadata": {
    "editable": true
   },
   "source": [
    "## In other words\n",
    "\n",
    "In words, $\\rho^{(2)}(x_1,x_2)$ is essentially the two-particle\n",
    "distribution function. It encodes two-body correlations and contains\n",
    "all information needed to compute expectation values of any\n",
    "two-particle operators . (For example, the expectation of an\n",
    "interaction $\\sum_{i<j}V(x_i,x_j)$ can be obtained from $\\rho^{(2)}$.)"
   ]
  },
  {
   "cell_type": "markdown",
   "id": "10e32b3d",
   "metadata": {
    "editable": true
   },
   "source": [
    "## Antisymmetry and the Pauli principle in fermionic systems\n",
    "\n",
    "Fermions (like electrons) have wavefunctions that are antisymmetric under exchange of any two particles. Mathematically,"
   ]
  },
  {
   "cell_type": "markdown",
   "id": "cc2ac5a4",
   "metadata": {
    "editable": true
   },
   "source": [
    "$$\n",
    "\\Psi(\\dots,x_i,\\dots,x_j,\\dots) = -,\\Psi(\\dots,x_j,\\dots,x_i,\\dots),\n",
    "$$"
   ]
  },
  {
   "cell_type": "markdown",
   "id": "8fc8c004",
   "metadata": {
    "editable": true
   },
   "source": [
    "for $i\\neq j$.\n",
    "\n",
    "This antisymmetry has important consequences for the density matrices:\n",
    "it enforces the Pauli exclusion principle, which forbids two identical\n",
    "fermions from occupying the same quantum state. In particular, if\n",
    "$x_1$ and $x_2$ represent the same single-particle state (including\n",
    "spin), then $\\Psi(\\dots,x_1,x_2,\\dots)=0$, implying that the two-body\n",
    "density $\\rho^{(2)}(x_1,x_2)$ vanishes when $x_1=x_2$ (no probability\n",
    "for two fermions to be at the same point with the same spin)."
   ]
  },
  {
   "cell_type": "markdown",
   "id": "283958d8",
   "metadata": {
    "editable": true
   },
   "source": [
    "## More on the antisymmetry\n",
    "\n",
    "More generally, the antisymmetry imposes that the two-body density matrix changes sign upon exchanging the two particles’ coordinates:"
   ]
  },
  {
   "cell_type": "markdown",
   "id": "927ce05e",
   "metadata": {
    "editable": true
   },
   "source": [
    "$$\n",
    "\\rho^{(2)}(x_1,x_2; y_1,y_2) = -\\rho^{(2)}(x_2,x_1; y_1,y_2),\n",
    "$$"
   ]
  },
  {
   "cell_type": "markdown",
   "id": "3768b2f9",
   "metadata": {
    "editable": true
   },
   "source": [
    "(and similarly for exchanging $y_1\\leftrightarrow y_2$ in the bra indices).\n",
    "\n",
    "This property leads to exchange effects in any fermionic two-body\n",
    "quantity. For example, the one-body density matrix of a fermionic\n",
    "system cannot have an eigenvalue larger than 1, reflecting the fact\n",
    "that each single-particle state can be occupied by at most one fermion\n",
    "(for spin-$\\tfrac{1}{2}$ particles, one per spin state) . In fact, for\n",
    "a single Slater determinant state, $\\rho^{(1)}$ is a\n",
    "projector onto the subspace of occupied orbitals, with eigenvalues 1\n",
    "or 0 only."
   ]
  },
  {
   "cell_type": "markdown",
   "id": "b4784859",
   "metadata": {
    "editable": true
   },
   "source": [
    "## Identical fermions\n",
    "\n",
    "Antisymmetry also means that identical fermions avoid each other in\n",
    "phase space beyond just classical repulsion – even non-interacting\n",
    "fermions exhibit an effective repulsion due to the Pauli\n",
    "principle. This is evident in the pair distribution: for two fermions\n",
    "with the same spin, the probability of finding them at the same\n",
    "location (or very close) is suppressed, whereas for opposite-spin\n",
    "fermions the Pauli exclusion does not act (they can occupy the same\n",
    "spatial position since their spin state is different) . In a\n",
    "single-determinant state, electrons of opposite spin are uncorrelated\n",
    "in the absence of interactions, while same-spin electrons show a\n",
    "reduced two-body density at short distances due to antisymmetry\n",
    ". These effects must be reflected in the two-body density matrix."
   ]
  },
  {
   "cell_type": "markdown",
   "id": "5368aecf",
   "metadata": {
    "editable": true
   },
   "source": [
    "## Factorization in the non-interacting (Slater determinant) case\n",
    "\n",
    "A Slater determinant is a many-fermion wavefunction that is a single\n",
    "antisymmetrized product of one-particle orbitals. It represents a\n",
    "system of $N$ non-interacting (or mean-field) fermions occupying $N$\n",
    "orthonormal spin-orbitals. For such a state, the $N$-body wavefunction\n",
    "factorizes in terms of single-particle orbitals except for the overall\n",
    "antisymmetrization. Importantly, for a Slater determinant, the\n",
    "two-body reduced density matrix is completely determined by the\n",
    "one-body density matrix .\n",
    "In other words, there are no two-particle\n",
    "correlations beyond the statistical (exchange) effects, so\n",
    "$\\rho^{(2)}$ can be expressed in terms of $\\rho^{(1)}$ alone. The\n",
    "explicit form is obtained by applying the Slater determinant expansion\n",
    "or using Wick’s theorem for fermion creation/annihilation\n",
    "operators. The result is"
   ]
  },
  {
   "cell_type": "markdown",
   "id": "ce872953",
   "metadata": {
    "editable": true
   },
   "source": [
    "$$\n",
    "\\rho^{(2)}(x_1,x_2; y_1,y_2) = \\rho^{(1)}(x_1; y_1)\\,\\rho^{(1)}(x_2; y_2)-\\rho^{(1)}(x_1; y_2)\\rho^{(1)}(x_2; y_1).\n",
    "$$"
   ]
  },
  {
   "cell_type": "markdown",
   "id": "ab0916df",
   "metadata": {
    "editable": true
   },
   "source": [
    "## Factorization of two-body density matrices\n",
    "\n",
    "This is the factorization of the two-body density matrix in a\n",
    "single-determinant (Hartree–Fock) state, often written symbolically as\n",
    "$\\rho^{(2)} = \\rho^{(1)}\\otimes\\rho^{(1)} - \\rho^{(1)} \\wedge\n",
    "\\rho^{(1)}$ (the second term representing the exchange\n",
    "antisymmetrization). The above expression (sometimes called the\n",
    "Hartree–Fock approximation for $\\rho^{(2)}$) is in fact exact for any\n",
    "Slater determinant state. Each term has a clear meaning:"
   ]
  },
  {
   "cell_type": "markdown",
   "id": "e0b26b23",
   "metadata": {
    "editable": true
   },
   "source": [
    "$$\n",
    "\\rho^{(1)}(x_1;y_1)\\rho^{(1)}(x_2;y_2)\n",
    "$$"
   ]
  },
  {
   "cell_type": "markdown",
   "id": "1e6764d0",
   "metadata": {
    "editable": true
   },
   "source": [
    "is the naive product of\n",
    "one-body densities (as if the particles were independent), while"
   ]
  },
  {
   "cell_type": "markdown",
   "id": "98c07113",
   "metadata": {
    "editable": true
   },
   "source": [
    "$$\n",
    "\\rho^{(1)}(x_1;y_2)\\rho^{(1)}(x_2;y_1)\n",
    "$$"
   ]
  },
  {
   "cell_type": "markdown",
   "id": "e4b6a828",
   "metadata": {
    "editable": true
   },
   "source": [
    "is the exchange term that\n",
    "subtracts out the contribution from exchanging two identical fermions.\n",
    "This exchange term is essential to satisfy the antisymmetry of the\n",
    "wavefunction."
   ]
  },
  {
   "cell_type": "markdown",
   "id": "d9db9857",
   "metadata": {
    "editable": true
   },
   "source": [
    "## The diagonal term\n",
    "\n",
    "Taking the diagonal $y_1=x_1$ and $y_2=x_2$ in the above formula\n",
    "yields the factorization for the two-body density (pair density) in a\n",
    "Slater determinant:"
   ]
  },
  {
   "cell_type": "markdown",
   "id": "2e22809f",
   "metadata": {
    "editable": true
   },
   "source": [
    "$$\n",
    "\\rho^{(2)}(x_1,x_2) \\;=\\; \\rho^{(1)}(x_1;x_1)\\,\\rho^{(1)}(x_2;x_2)\\;-\\;|\\rho^{(1)}(x_1;x_2)|^2\\,.\n",
    "$$"
   ]
  },
  {
   "cell_type": "markdown",
   "id": "71218b2d",
   "metadata": {
    "editable": true
   },
   "source": [
    "In this form, $\\rho^{(1)}(x;x)=n(x)$ is the ordinary one-body density\n",
    "at $x$, so the first term is $n(x_1)n(x_2)$ (the product of\n",
    "densities), and the second term subtracts the overlap probability\n",
    "$|\\rho^{(1)}(x_1;x_2)|^2$. For a Slater determinant,\n",
    "$\\rho^{(1)}(x_1;x_2)=\\sum_{i\\in\\text{occ}}\\phi_i^*(x_2)\\phi_i(x_1)$ is\n",
    "the projector onto the occupied orbitals, so $|\\rho^{(1)}(x_1;x_2)|^2$\n",
    "acts as an exchange correction ensuring, for example, that if\n",
    "$x_1=x_2$ (same position and spin), then\n",
    "$\\rho^{(2)}(x_1,x_2)=n(x_1)n(x_1)-|\\rho^{(1)}(x_1;x_1)|^2 = n(x_1)^2 -\n",
    "n(x_1)^2 = 0$, consistent with Pauli exclusion. Thus, in a\n",
    "non-interacting fermion system (Hartree–Fock state), the two-body\n",
    "density almost factorizes as a product of one-body densities, except\n",
    "for the crucial antisymmetric exchange term."
   ]
  },
  {
   "cell_type": "markdown",
   "id": "4a74ba8a",
   "metadata": {
    "editable": true
   },
   "source": [
    "## Exchange terms and correlation corrections\n",
    "\n",
    "The exchange term"
   ]
  },
  {
   "cell_type": "markdown",
   "id": "d5faa5b3",
   "metadata": {
    "editable": true
   },
   "source": [
    "$$\n",
    "-\\rho^{(1)}(x_1;y_2)\\rho^{(1)}(x_2;y_1),\n",
    "$$"
   ]
  },
  {
   "cell_type": "markdown",
   "id": "804dca9f",
   "metadata": {
    "editable": true
   },
   "source": [
    "in the Slater determinant formula is a direct consequence of\n",
    "Fermi–Dirac statistics. It does not appear for distinguishable\n",
    "particles or bosons in a product state (where $\\rho^{(2)}$ would\n",
    "simply factorize as $\\rho^{(1)}\\rho^{(1)}$). In a fermionic system,\n",
    "this term ensures that $\\rho^{(2)}$ obeys the required antisymmetry\n",
    "and exclusion principle. One immediate effect is the reduction of\n",
    "$\\rho^{(2)}(x_1,x_2)$ below the uncorrelated product $n(x_1)n(x_2)$\n",
    "when $x_1$ and $x_2$ are **close** or identical – this reduction for\n",
    "same-spin fermions is the exchange hole mentioned earlier . In the\n",
    "case of a single Slater determinant (the non-interacting or mean-field\n",
    "case), exchange is the only source of two-particle correlation, and it\n",
    "is fully accounted for by the one-body density matrix.\n",
    "Indeed, for a\n",
    "Slater determinant, the equation for the two-body density is exact and no additional\n",
    "terms are needed."
   ]
  },
  {
   "cell_type": "markdown",
   "id": "a28e81b3",
   "metadata": {
    "editable": true
   },
   "source": [
    "## Summarizing densities\n",
    "\n",
    "In summary, the two-body density matrix can be written as a product of\n",
    "one-body density matrices only under very restricted conditions:\n",
    "essentially when the system’s wavefunction is a single Slater\n",
    "determinant (or an uncorrelated product state). In the idealized\n",
    "Hartree product (fully factorized wavefunction) one would have\n",
    "$\\rho^{(2)}(x_1,x_2)=n(x_1)n(x_2)$, but a Hartree product is not\n",
    "antisymmetric and thus not a valid fermionic state . The physically\n",
    "allowed closest scenario is a single Slater determinant, in which\n",
    "$\\rho^{(2)}$ takes the Hartree–Fock form above – a quasi-factorization\n",
    "that includes the $-\\rho^{(1)}(x_1;y_2)\\rho^{(1)}(x_2;y_1)$ exchange\n",
    "correction enforcing antisymmetry. Beyond that, for real interacting\n",
    "fermion systems, two-body density matrices generally cannot be exactly\n",
    "factorized into one-body pieces; additional two-particle exchange and\n",
    "correlation terms must be included to accurately describe the\n",
    "physics. Such terms ensure that both the Pauli principle and\n",
    "interaction-induced correlations are respected in\n",
    "$\\rho^{(2)}$."
   ]
  },
  {
   "cell_type": "markdown",
   "id": "e6fa2d5b",
   "metadata": {
    "editable": true
   },
   "source": [
    "## Hohenberg-Kohn theory\n",
    "\n",
    "Assume we found a solution for our Hamiltonian of interest with\n",
    "ground state energy $E_0$ and a certain electronic density\n",
    "$n(\\boldsymbol{r})$. The strength of the Coulomb interaction and the mass of an\n",
    "electron are constants of nature, so the only input that can possibly\n",
    "influence the electronic density $n(\\boldsymbol{r})$ and the energy $E_0$ of our\n",
    "ground state is our choice of potential $v_{\\mathrm{ext}}(\\boldsymbol{r})$. In other words, the\n",
    "ground state energy is a {\\em functional} of the input potential,"
   ]
  },
  {
   "cell_type": "markdown",
   "id": "bc02f1cd",
   "metadata": {
    "editable": true
   },
   "source": [
    "$$\n",
    "E_0 [v_{\\mathrm{ext}}(\\boldsymbol{r})] = \\mathcal{F}_E[ v_{\\mathrm{ext}}(\\boldsymbol{r}) ].\n",
    "$$"
   ]
  },
  {
   "cell_type": "markdown",
   "id": "13d617b8",
   "metadata": {
    "editable": true
   },
   "source": [
    "We have dropped the spin degrees of freedom here."
   ]
  },
  {
   "cell_type": "markdown",
   "id": "4c8607a8",
   "metadata": {
    "editable": true
   },
   "source": [
    "## Energy functional\n",
    "A functional is nothing else than a function whose input is another\n",
    "function; in this case the functional $\\mathcal{F}$ takes as input the\n",
    "electric potential generated by the ions and outputs the ground state\n",
    "energy based on thr Born-Oppenheimer approximation.\n",
    "\n",
    "At first this results seems counterintuitive. After all, the ground\n",
    "state energy clearly contains the kinetic energy $T$, the interaction\n",
    "energy $U$ and the potential energy. Only the latter term \n",
    "explicitly depends on the potential. We can thus write the ground\n",
    "state energy in terms of a separate functional for the kinetic and\n",
    "interaction energy, and the potential energy"
   ]
  },
  {
   "cell_type": "markdown",
   "id": "2e2f8cfc",
   "metadata": {
    "editable": true
   },
   "source": [
    "## How to find the functional\n",
    "Knowing this functional, for any given potential $V(\\boldsymbol{r})$ we minimize\n",
    "the right hand side by checking all possible electronic density\n",
    "distributions.\n",
    "\n",
    "There are only two minor problems. We don't know what this functional\n",
    "looks like. And even if we did, we don't know how to find the right\n",
    "electronic density."
   ]
  },
  {
   "cell_type": "markdown",
   "id": "570cca6f",
   "metadata": {
    "editable": true
   },
   "source": [
    "## Approximating the functional\n",
    "\n",
    "The unknown functional $\\mathcal{F}[n(\\boldsymbol{r})]$ should describe the\n",
    "kinetic and interaction energy of a system described by\n",
    "for example the Born-Oppenheimer approximation. Even though we cannot find its exact\n",
    "shape, we can look at its shape in some limiting cases that we can\n",
    "solve.\n",
    "\n",
    "We know that a free homogeneous electron gas (HEG) with density $n$ has a\n",
    "ground state energy of"
   ]
  },
  {
   "cell_type": "markdown",
   "id": "a4055421",
   "metadata": {
    "editable": true
   },
   "source": [
    "$$\n",
    "E_0 = \\frac{3 \\hbar^2 \\left( 3 \\pi^2 \\right)^{2/3}}{10 m} n_0^{5/3}.\n",
    "$$"
   ]
  },
  {
   "cell_type": "markdown",
   "id": "4df8923e",
   "metadata": {
    "editable": true
   },
   "source": [
    "## Using the results from the HEG\n",
    "\n",
    "For a slowly varying electronic density, we can approximate the\n",
    "kinetic energy contribution to the full functional\n",
    "$\\mathcal{F}[n(\\boldsymbol{r})]$ as the energy evaluated\n",
    "at each point separately,"
   ]
  },
  {
   "cell_type": "markdown",
   "id": "213017c2",
   "metadata": {
    "editable": true
   },
   "source": [
    "$$\n",
    "\\mathcal{T}_0 [n(\\boldsymbol{r})] =\n",
    "\t \\frac{3 \\hbar^2 \\left( 3 \\pi^2 \\right)^{2/3}}{10 m} \\int  d^3\\boldsymbol{r} ( n(\\boldsymbol{r}) )^{5/3}.\n",
    "$$"
   ]
  },
  {
   "cell_type": "markdown",
   "id": "9356b6b7",
   "metadata": {
    "editable": true
   },
   "source": [
    "## Hartree term to the energy\n",
    "\n",
    "We have also earlier derived that the simplest \n",
    "energy contribution from Coulomb interactions is given by the Hartree\n",
    "term"
   ]
  },
  {
   "cell_type": "markdown",
   "id": "3169d9a5",
   "metadata": {
    "editable": true
   },
   "source": [
    "$$\n",
    "\\mathcal{U}_{\\mathrm{H}} [n(\\boldsymbol{r})] = \n",
    "\t\t\\frac{e^2}{2} \\int d^3\\boldsymbol{r} d^3\\boldsymbol{r}' \\, \\frac{n(\\boldsymbol{r}) n(\\boldsymbol{r}')}{|\\boldsymbol{r} - \\boldsymbol{r}'|}.\n",
    "$$"
   ]
  },
  {
   "cell_type": "markdown",
   "id": "c37191b7",
   "metadata": {
    "editable": true
   },
   "source": [
    "## Final functional\n",
    "\n",
    "It is natural to write out the full functional as containing the\n",
    "homogeneous electron gas term and the Hartree term. The remaining\n",
    "terms, though still unknown, should be small. This unknown part is\n",
    "conventionally called the {\\em exchange-correlation potential}\n",
    "$E_{xc}[n(\\boldsymbol{r})]$. The full Hohenberg-Kohn functional, including the\n",
    "potential energy, is thus"
   ]
  },
  {
   "cell_type": "markdown",
   "id": "75062f47",
   "metadata": {
    "editable": true
   },
   "source": [
    "$$\n",
    "\\mathcal{E}_{\\mathrm{HK}}[n(\\boldsymbol{r})] = \n",
    "\t\t\\mathcal{T}_0 [n(\\boldsymbol{r})]\n",
    "\t\t + \\int d^3 \\boldsymbol{r} v_{\\mathrm{ext}}(r) n(\\boldsymbol{r})\n",
    "\t\t + \\mathcal{U}_{\\mathrm{H}} [n(\\boldsymbol{r})]\n",
    "\t\t + E_{xc} [ n(\\boldsymbol{r})].\n",
    "$$"
   ]
  },
  {
   "cell_type": "markdown",
   "id": "496c0715",
   "metadata": {
    "editable": true
   },
   "source": [
    "## Many-Electron Problem and  Hohenberg–Kohn Theorems: Theorem I\n",
    "\n",
    "For any many-electron system in an external potential"
   ]
  },
  {
   "cell_type": "markdown",
   "id": "20e65a72",
   "metadata": {
    "editable": true
   },
   "source": [
    "$$\n",
    "V_{\\rm ext}(\\mathbf{r}),\n",
    "$$"
   ]
  },
  {
   "cell_type": "markdown",
   "id": "9e80a65e",
   "metadata": {
    "editable": true
   },
   "source": [
    "the potential is uniquely determined (up to an additive constant) by the ground-state electron density"
   ]
  },
  {
   "cell_type": "markdown",
   "id": "6a6fa6c4",
   "metadata": {
    "editable": true
   },
   "source": [
    "$$\n",
    "n(\\mathbf{r}).\n",
    "$$"
   ]
  },
  {
   "cell_type": "markdown",
   "id": "ef625d06",
   "metadata": {
    "editable": true
   },
   "source": [
    "Equivalently, the mapping"
   ]
  },
  {
   "cell_type": "markdown",
   "id": "779f6b4a",
   "metadata": {
    "editable": true
   },
   "source": [
    "$$\n",
    "V_{\\rm ext}(\\mathbf{r}) \\mapsto n(\\mathbf{r}),\n",
    "$$"
   ]
  },
  {
   "cell_type": "markdown",
   "id": "fd2b9b74",
   "metadata": {
    "editable": true
   },
   "source": [
    "is one-to-one (for non-degenerate ground states) . This means no two\n",
    "different external potentials can yield the same ground-state\n",
    "density. As a corollary, the ground-state density $n(\\mathbf{r})$\n",
    "uniquely determines the full Hamiltonian (up to constant shift in\n",
    "energy) and thus all properties of the system ."
   ]
  },
  {
   "cell_type": "markdown",
   "id": "d0e81cbf",
   "metadata": {
    "editable": true
   },
   "source": [
    "## Many-Electron Problem and  Hohenberg–Kohn Theorems: Theorem II\n",
    "\n",
    "There exists a universal functional $F[n]$ such that for any $N$-electron density $n(\\mathbf{r})$, the energy can be written as"
   ]
  },
  {
   "cell_type": "markdown",
   "id": "ee2a4b1a",
   "metadata": {
    "editable": true
   },
   "source": [
    "$$\n",
    "E[n] = F[n] + \\int d^3r\\,V_{\\rm ext}(\\mathbf{r})\\,n(\\mathbf{r}),\n",
    "$$"
   ]
  },
  {
   "cell_type": "markdown",
   "id": "b1507f5f",
   "metadata": {
    "editable": true
   },
   "source": [
    "and the true ground-state density minimizes this energy functional. In other words,"
   ]
  },
  {
   "cell_type": "markdown",
   "id": "600bc7ea",
   "metadata": {
    "editable": true
   },
   "source": [
    "$$\n",
    "F[n] = T[n] + V_{\\rm int}[n],\n",
    "$$"
   ]
  },
  {
   "cell_type": "markdown",
   "id": "a33b24c7",
   "metadata": {
    "editable": true
   },
   "source": [
    "is a universal functional (the same for all systems, independent of $V_{\\rm ext}$), and for the correct ground-state density $n_0(\\mathbf{r})$, $E[n_0]$ is the global minimum of $E[n]$ . The minimum value equals the ground-state energy $E_0$."
   ]
  },
  {
   "cell_type": "markdown",
   "id": "66725f82",
   "metadata": {
    "editable": true
   },
   "source": [
    "## Many-Electron Problem and  Hohenberg–Kohn Theorems: corollary\n",
    "\n",
    "The functional $E[n]$ is sufficient to obtain the exact ground-state\n",
    "energy and density . Excited states, however, are not obtained from\n",
    "this ground-state functional and must be accessed by other means\n",
    "(e.g. time-dependent DFT or other methods)."
   ]
  },
  {
   "cell_type": "markdown",
   "id": "086c6538",
   "metadata": {
    "editable": true
   },
   "source": [
    "## Discussion: Consequences of HK Theorems\n",
    "\n",
    "DFT exists in principle: the first theorem establishes that the\n",
    "ground-state density is as fundamental as the wavefunction – it\n",
    "encapsulates all the information needed to determine the system’s\n",
    "Hamiltonian and thus all ground-state observables. This is a\n",
    "remarkable reduction: instead of a complicated wavefunction $\\Psi$, we\n",
    "can work with $n(\\mathbf{r})$."
   ]
  },
  {
   "cell_type": "markdown",
   "id": "ac65a1a5",
   "metadata": {
    "editable": true
   },
   "source": [
    "## Discussion: Consequences of HK Theorems\n",
    "\n",
    "Energy as a functional of density: the second theorem guarantees an\n",
    "energy functional $E[n]$ exists. However, the theorems themselves do\n",
    "not provide an explicit form for"
   ]
  },
  {
   "cell_type": "markdown",
   "id": "70873296",
   "metadata": {
    "editable": true
   },
   "source": [
    "$$\n",
    "F[n] = T[n] + V_{\\rm int}[n].\n",
    "$$"
   ]
  },
  {
   "cell_type": "markdown",
   "id": "71f1ee2d",
   "metadata": {
    "editable": true
   },
   "source": [
    "They\n",
    "are existence theorems. The challenge of DFT (and much the what we do in many-body physics)\n",
    "is how to approximate $F[n]$ in practice, especially the many-body\n",
    "terms hidden in it."
   ]
  },
  {
   "cell_type": "markdown",
   "id": "2c8d4279",
   "metadata": {
    "editable": true
   },
   "source": [
    "## Variational principle\n",
    "\n",
    "Given the second theorem, one can variationally obtain the ground\n",
    "state: if we had the exact $E[n]$ functional, minimizing $E[n]$ with\n",
    "respect to $n(\\mathbf{r})$ (subject to $\\int n(\\mathbf{r}) d^3r = N$)\n",
    "yields the true ground-state density and energy. In formal terms,"
   ]
  },
  {
   "cell_type": "markdown",
   "id": "e650cc39",
   "metadata": {
    "editable": true
   },
   "source": [
    "$$\n",
    "\\delta {E[n] - \\mu(\\int n - N)} / \\delta n(\\mathbf{r}) = 0,\n",
    "$$"
   ]
  },
  {
   "cell_type": "markdown",
   "id": "ddff4625",
   "metadata": {
    "editable": true
   },
   "source": [
    "leads to\n",
    "a condition"
   ]
  },
  {
   "cell_type": "markdown",
   "id": "e82adce3",
   "metadata": {
    "editable": true
   },
   "source": [
    "$$\n",
    "\\frac{\\delta E[n]}{\\delta n(\\mathbf{r})}\\big|_{n=n_0} =\\mu,\n",
    "$$"
   ]
  },
  {
   "cell_type": "markdown",
   "id": "6a77e05a",
   "metadata": {
    "editable": true
   },
   "source": [
    "with a constant Fermi level $\\mu$ for the ground state."
   ]
  },
  {
   "cell_type": "markdown",
   "id": "99b4ef49",
   "metadata": {
    "editable": true
   },
   "source": [
    "## Proof of the first theorem, I\n",
    "\n",
    "It is  instructive to see why two different potentials cannot give the same density.\n",
    "Suppose"
   ]
  },
  {
   "cell_type": "markdown",
   "id": "3a3d5533",
   "metadata": {
    "editable": true
   },
   "source": [
    "$$\n",
    "V_{\\rm ext}^{(1)}(\\mathbf{r}),\n",
    "$$"
   ]
  },
  {
   "cell_type": "markdown",
   "id": "c7469ae8",
   "metadata": {
    "editable": true
   },
   "source": [
    "and"
   ]
  },
  {
   "cell_type": "markdown",
   "id": "eb2081ed",
   "metadata": {
    "editable": true
   },
   "source": [
    "$$\n",
    "V_{\\rm ext}^{(2)}(\\mathbf{r}),\n",
    "$$"
   ]
  },
  {
   "cell_type": "markdown",
   "id": "46d958c7",
   "metadata": {
    "editable": true
   },
   "source": [
    "yield the same ground-state density $n(\\mathbf{r})$ but different ground-state wavefunctions\n",
    "$\\Psi^{(1)}$ and $\\Psi^{(2)}$."
   ]
  },
  {
   "cell_type": "markdown",
   "id": "5272d23d",
   "metadata": {
    "editable": true
   },
   "source": [
    "## Proof of the first theorem, II\n",
    "\n",
    "Let $E^{(1)}$ and $E^{(2)}$ be their ground-state energies. Without loss of generality, assume $E^{(1)} < E^{(2)}$.\n",
    "\n",
    "Then, using $\\Psi^{(2)}$ in Hamiltonian 1 gives"
   ]
  },
  {
   "cell_type": "markdown",
   "id": "44f1d4c4",
   "metadata": {
    "editable": true
   },
   "source": [
    "$$\n",
    "E^{(1)} < \\langle \\Psi^{(2)}|\\hat{H}^{(1)}|\\Psi^{(2)}\\rangle = \\langle \\Psi^{(2)}|\\hat{H}^{(2)}|\\Psi^{(2)}\\rangle + \\int [V_{\\rm ext}^{(1)}(\\mathbf{r})-V_{\\rm ext}^{(2)}(\\mathbf{r})],n(\\mathbf{r}),d^3r = E^{(2)} + \\int [V_{\\rm ext}^{(1)}-V_{\\rm ext}^{(2)}] n(\\mathbf{r}).\n",
    "$$"
   ]
  },
  {
   "cell_type": "markdown",
   "id": "e9905444",
   "metadata": {
    "editable": true
   },
   "source": [
    "Similarly, exchanging $1$ with $2$ leads to"
   ]
  },
  {
   "cell_type": "markdown",
   "id": "135ca13f",
   "metadata": {
    "editable": true
   },
   "source": [
    "$$\n",
    "E^{(2)} < E^{(1)} + \\int [V_{\\rm ext}^{(2)}-V_{\\rm ext}^{(1)}] n(\\mathbf{r}).\n",
    "$$"
   ]
  },
  {
   "cell_type": "markdown",
   "id": "bced2b18",
   "metadata": {
    "editable": true
   },
   "source": [
    "## Proof of the first theorem, III\n",
    "\n",
    "Adding these two inequalities yields"
   ]
  },
  {
   "cell_type": "markdown",
   "id": "c23abb57",
   "metadata": {
    "editable": true
   },
   "source": [
    "$$\n",
    "E^{(1)} + E^{(2)} < E^{(1)} + E^{(2)},\n",
    "$$"
   ]
  },
  {
   "cell_type": "markdown",
   "id": "f2f60518",
   "metadata": {
    "editable": true
   },
   "source": [
    "a contradiction.\n",
    "Thus $V_{\\rm ext}^{(1)}$ and $V_{\\rm ext}^{(2)}$ cannot produce the\n",
    "same $n(\\mathbf{r})$. This proves the uniqueness.\n",
    "\n",
    "Not every arbitrary $n(\\mathbf{r})$ is a valid ground-state density of\n",
    "some physical $V_{\\rm ext}$ (this is the issue of\n",
    "$v$-representability). The theorems assume $n(\\mathbf{r})$ comes from\n",
    "some ground state of a Hamiltonian. Modern proofs (Levy–Lieb\n",
    "constrained search) circumvent some $v$-representability issues by\n",
    "considering minimization over all wavefunctions yielding a density\n",
    "$n$."
   ]
  },
  {
   "cell_type": "markdown",
   "id": "866ad860",
   "metadata": {
    "editable": true
   },
   "source": [
    "## Proof of the first theorem, implications\n",
    "\n",
    "The ground-state energy can be obtained in principle by minimizing\n",
    "$E[n]$. However, without an expression for $F[n]$, one cannot perform\n",
    "this minimization in practice. Enter the Kohn–Sham approach (to be\n",
    "discussed later) which provides a clever way to approximate $F[n]$\n",
    "using orbitals."
   ]
  },
  {
   "cell_type": "markdown",
   "id": "93107083",
   "metadata": {
    "editable": true
   },
   "source": [
    "## Kohn-Sham equation\n",
    "\n",
    "We replaced an intractable problem with the task of minimizing an unknown\n",
    "functional $\\mathcal{F}[n(\\boldsymbol{r})]$ over infinitely many possible\n",
    "electronic densities $n(\\boldsymbol{r})$. In the previous section we already gave\n",
    "some first suggestions for the functional. But once we found it, how\n",
    "to find the right electronic density $n(\\boldsymbol{r})$?\n",
    "\n",
    "Because the correct density minimizes the functional, we can find the\n",
    "functional by setting it's derivative to zero,"
   ]
  },
  {
   "cell_type": "markdown",
   "id": "1cd33a55",
   "metadata": {
    "editable": true
   },
   "source": [
    "$$\n",
    "\\frac{\\delta \\mathcal{F}[n(\\boldsymbol{r})] }{\\delta n(\\boldsymbol{r})} = 0.\n",
    "$$"
   ]
  },
  {
   "cell_type": "markdown",
   "id": "266381ff",
   "metadata": {
    "editable": true
   },
   "source": [
    "## Kohn-Sham equations\n",
    "Using the functional Eq(insert), we write\n",
    "out\n",
    "\n",
    "<!-- \\footnote{There is a small subtlety included in this equation: the -->\n",
    "<!-- kinetic component of the functional $\\mathcal{T} [n(\\boldsymbol{r})]$ should not -->\n",
    "<!-- be the one obtained for the free homogeneous noninteracting electron -->\n",
    "<!-- gas, but the one for a noninteracting gas subject -->\n",
    "<!-- to the Kohn-Sham potential.} -->"
   ]
  },
  {
   "cell_type": "markdown",
   "id": "ee7a5d24",
   "metadata": {
    "editable": true
   },
   "source": [
    "$$\n",
    "\\frac{\\delta \\mathcal{T}[n(\\boldsymbol{r})] }{\\delta n(\\boldsymbol{r})}\n",
    "\t+ v_{\\mathrm{ext}}(\\boldsymbol{r})\n",
    "\t+ \\int \\frac{n(\\boldsymbol{r}')}{|\\boldsymbol{r}-\\boldsymbol{r}'|}d^3 \\boldsymbol{r}'\n",
    "\t+ \\frac{\\delta E_{xc} [n(\\boldsymbol{r})] }{\\delta n(\\boldsymbol{r})}\n",
    "\t=0.\n",
    "$$"
   ]
  },
  {
   "cell_type": "markdown",
   "id": "7fe18fbb",
   "metadata": {
    "editable": true
   },
   "source": [
    "## The equations\n",
    "The idea of Kohn and Sham was to treat this as if it\n",
    "is a single-particle problem. The first term represents the\n",
    "kinetic energy, and the remaining terms form the Kohn-Sham potential"
   ]
  },
  {
   "cell_type": "markdown",
   "id": "baeb56b4",
   "metadata": {
    "editable": true
   },
   "source": [
    "$$\n",
    "V_{\\mathrm{KS}}(\\boldsymbol{r}) = V(\\boldsymbol{r})\n",
    "\t+ \\int \\frac{n(\\boldsymbol{r}')}{|\\boldsymbol{r}-\\boldsymbol{r}'|}d^3 \\boldsymbol{r}'\n",
    "\t+ \\frac{\\delta E_{xc} [n(\\boldsymbol{r})] }{\\delta n(\\boldsymbol{r})}.\n",
    "$$"
   ]
  },
  {
   "cell_type": "markdown",
   "id": "1633a8a3",
   "metadata": {
    "editable": true
   },
   "source": [
    "The Kohn-Sham equation is the single-particle Schr\\\"{o}dinger\n",
    "equation with the potential given by the last equation,"
   ]
  },
  {
   "cell_type": "markdown",
   "id": "5edc46b7",
   "metadata": {
    "editable": true
   },
   "source": [
    "$$\n",
    "\\left( - \\frac{\\hbar^2}{2m} \\frac{\\partial^2}{\\partial \\boldsymbol{r}^2} + V_{\\mathrm{KS}}(\\boldsymbol{r}) \\right) \\psi_i(\\boldsymbol{r}) = \\epsilon_i \\psi_i (\\boldsymbol{r}).\n",
    "$$"
   ]
  },
  {
   "cell_type": "markdown",
   "id": "d26631d7",
   "metadata": {
    "editable": true
   },
   "source": [
    "## Numerical solution\n",
    "\n",
    "The Kohn-Sham equations have to be solved numerically. As with our\n",
    "discussions of Hartree-Fock theory, this is tractable because the\n",
    "equations are just given by a set of coupled differential\n",
    "equation. The electronic density is obtained by occupying the $N$\n",
    "solutions $\\psi_i(\\boldsymbol{r})$ with the lowest energy,"
   ]
  },
  {
   "cell_type": "markdown",
   "id": "aee5e9c6",
   "metadata": {
    "editable": true
   },
   "source": [
    "$$\n",
    "n(\\boldsymbol{r}) = \\sum_{i=1}^N |\\psi_i (\\boldsymbol{r}) |^2.\n",
    "$$"
   ]
  },
  {
   "cell_type": "markdown",
   "id": "c3706708",
   "metadata": {
    "editable": true
   },
   "source": [
    "Now the electronic density obtained this way can be used to calculate\n",
    "a new Kohn-Sham potential. We\n",
    "continue this iterative procedure until we reach convergence."
   ]
  }
 ],
 "metadata": {},
 "nbformat": 4,
 "nbformat_minor": 5
}
