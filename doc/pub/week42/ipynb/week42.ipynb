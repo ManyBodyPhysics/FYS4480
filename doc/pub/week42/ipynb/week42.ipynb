{
 "cells": [
  {
   "cell_type": "markdown",
   "id": "94194d31",
   "metadata": {
    "editable": true
   },
   "source": [
    "<!-- HTML file automatically generated from DocOnce source (https://github.com/doconce/doconce/)\n",
    "doconce format html week42.do.txt --no_mako -->\n",
    "<!-- dom:TITLE: Week 42: Hartree-Fock theory in second quantization and diagrammatic representation. Stability of Hartree-Fock theory -->"
   ]
  },
  {
   "cell_type": "markdown",
   "id": "23f235df",
   "metadata": {
    "editable": true
   },
   "source": [
    "# Week 42: Hartree-Fock theory in second quantization and diagrammatic representation. Stability of Hartree-Fock theory\n",
    "**Morten Hjorth-Jensen**, Department of Physics and Center for Computing in Science Education, University of Oslo, Norway and Department of Physics and Astronomy and Facility for Rare Isotope Beams, Michigan State University, USA\n",
    "\n",
    "Date: **October 14-18**"
   ]
  },
  {
   "cell_type": "markdown",
   "id": "58f5615f",
   "metadata": {
    "editable": true
   },
   "source": [
    "## Week 42, October 14-18, 2024\n",
    "**Topics to be covered.**\n",
    "\n",
    "1. Thursday:\n",
    "\n",
    "  * The first lecture is about the finalization of the calculation of the ground state energy of the homogeneous electron gas in three dimensions\n",
    "\n",
    "  * Start density functional theory\n",
    "\n",
    "  * Discussions of first midterm\n",
    "<!-- * [Video of lecture TBA](https://youtu.be/) -->\n",
    "\n",
    "2. Friday:\n",
    "\n",
    "  * Density functional theory\n",
    "\n",
    "  * Discussions of  first midterm\n",
    "\n",
    "* Lecture Material: These slides and handwritten notes\n",
    "\n",
    "* First midterm set at <https://github.com/ManyBodyPhysics/FYS4480/blob/master/doc/Exercises/2024/FirstMidterm2024.pdf>"
   ]
  },
  {
   "cell_type": "markdown",
   "id": "21d1c609",
   "metadata": {
    "editable": true
   },
   "source": [
    "## Hartree-Fock ground state energy for the  electron gas in three dimensions\n",
    "\n",
    "We consider a system of electrons in infinite matter, the so-called electron gas. This is a homogeneous system and the one-particle states are given by plane wave function normalized to a volume $V$ \n",
    "for a box with length $L$ (the limit $L\\rightarrow \\infty$ is to be taken after we have computed various expectation values)"
   ]
  },
  {
   "cell_type": "markdown",
   "id": "790bce24",
   "metadata": {
    "editable": true
   },
   "source": [
    "$$\n",
    "\\psi_{\\mathbf{k}\\sigma}(\\mathbf{r})= \\frac{1}{\\sqrt{V}}\\exp{(i\\mathbf{kr})}\\xi_{\\sigma}\n",
    "$$"
   ]
  },
  {
   "cell_type": "markdown",
   "id": "be62992b",
   "metadata": {
    "editable": true
   },
   "source": [
    "where $\\mathbf{k}$ is the wave number and  $\\xi_{\\sigma}$ is a spin function for either spin up or down"
   ]
  },
  {
   "cell_type": "markdown",
   "id": "3dbb4c94",
   "metadata": {
    "editable": true
   },
   "source": [
    "$$\n",
    "\\xi_{\\sigma=+1/2}=\\left(\\begin{array}{c} 1 \\\\ 0 \\end{array}\\right) \\hspace{0.5cm}\n",
    "\\xi_{\\sigma=-1/2}=\\left(\\begin{array}{c} 0 \\\\ 1 \\end{array}\\right).\n",
    "$$"
   ]
  },
  {
   "cell_type": "markdown",
   "id": "77db9f06",
   "metadata": {
    "editable": true
   },
   "source": [
    "## Periodic boundary conditions\n",
    "\n",
    "We assume that we have periodic boundary conditions which limit the allowed wave numbers to"
   ]
  },
  {
   "cell_type": "markdown",
   "id": "658f5dff",
   "metadata": {
    "editable": true
   },
   "source": [
    "$$\n",
    "k_i=\\frac{2\\pi n_i}{L}\\hspace{0.5cm} i=x,y,z \\hspace{0.5cm} n_i=0,\\pm 1,\\pm 2, \\dots\n",
    "$$"
   ]
  },
  {
   "cell_type": "markdown",
   "id": "055cb73a",
   "metadata": {
    "editable": true
   },
   "source": [
    "We assume first that the particles interact via a central, symmetric and translationally invariant\n",
    "interaction  $V(r_{12})$ with\n",
    "$r_{12}=|\\mathbf{r}_1-\\mathbf{r}_2|$.  The interaction is spin independent."
   ]
  },
  {
   "cell_type": "markdown",
   "id": "76551108",
   "metadata": {
    "editable": true
   },
   "source": [
    "## Total Hamiltonian\n",
    "\n",
    "The total Hamiltonian consists then of kinetic and potential energy"
   ]
  },
  {
   "cell_type": "markdown",
   "id": "61ec4a54",
   "metadata": {
    "editable": true
   },
   "source": [
    "$$\n",
    "\\hat{H} = \\hat{T}+\\hat{V}.\n",
    "$$"
   ]
  },
  {
   "cell_type": "markdown",
   "id": "6313fd23",
   "metadata": {
    "editable": true
   },
   "source": [
    "The operator for the kinetic energy is given by"
   ]
  },
  {
   "cell_type": "markdown",
   "id": "d35702b1",
   "metadata": {
    "editable": true
   },
   "source": [
    "$$\n",
    "\\hat{T}=\\sum_{\\mathbf{k}\\sigma}\\frac{\\hbar^2k^2}{2m}a_{\\mathbf{k}\\sigma}^{\\dagger}a_{\\mathbf{k}\\sigma}.\n",
    "$$"
   ]
  },
  {
   "cell_type": "markdown",
   "id": "0cc74993",
   "metadata": {
    "editable": true
   },
   "source": [
    "## Exercise 1: Express interaction using creation and annihilation operators\n",
    "\n",
    "Find the expression for the interaction\n",
    "$\\hat{V}$ expressed with creation and annihilation operators.\n",
    "\n",
    "The expression for the interaction\n",
    "has to be written in  $k$ space, even though $V$ depends only on the relative distance. It means that you need to set up the Fourier transform $\\langle \\mathbf{k}_i\\mathbf{k}_j| V | \\mathbf{k}_m\\mathbf{k}_n\\rangle$.\n",
    "\n",
    "A general two-body interaction element is given by (not using anti-symmetrized matrix elements)"
   ]
  },
  {
   "cell_type": "markdown",
   "id": "23861168",
   "metadata": {
    "editable": true
   },
   "source": [
    "$$\n",
    "\\hat{V} = \\frac{1}{2} \\sum_{pqrs} \\langle pq \\hat{v} \\vert rs\\rangle a_p^\\dagger a_q^\\dagger a_s a_r ,\n",
    "$$"
   ]
  },
  {
   "cell_type": "markdown",
   "id": "77bf530b",
   "metadata": {
    "editable": true
   },
   "source": [
    "where $\\hat{v}$ is assumed to depend only on the relative distance between two interacting particles, that is\n",
    "$\\hat{v} = v(\\vec r_1, \\vec r_2) = v(|\\vec r_1 - \\vec r_2|) = v(r)$, with $r = |\\vec r_1 - \\vec r_2|$)."
   ]
  },
  {
   "cell_type": "markdown",
   "id": "1694d5a2",
   "metadata": {
    "editable": true
   },
   "source": [
    "## With spin degrees of freedom\n",
    "\n",
    "In our case we have, writing out explicitely the spin degrees of freedom as well"
   ]
  },
  {
   "cell_type": "markdown",
   "id": "6b47ba40",
   "metadata": {
    "editable": true
   },
   "source": [
    "<!-- Equation labels as ordinary links -->\n",
    "<div id=\"_auto1\"></div>\n",
    "\n",
    "$$\n",
    "\\begin{equation}\n",
    "\\hat{V} = \\frac{1}{2} \\sum_{\\substack{\\sigma_p \\sigma_q \\\\ \\sigma_r \\sigma_s}}\n",
    "\\sum_{\\substack{\\mathbf{k}_p \\mathbf{k}_q \\\\ \\mathbf{k}_r \\mathbf{k}_s}}\n",
    "\\langle \\mathbf{k}_p \\sigma_p, \\mathbf{k}_q \\sigma_2\\vert v \\vert \\mathbf{k}_r \\sigma_3, \\mathbf{k}_s \\sigma_s\\rangle\n",
    "a_{\\mathbf{k}_p \\sigma_p}^\\dagger a_{\\mathbf{k}_q \\sigma_q}^\\dagger a_{\\mathbf{k}_s \\sigma_s} a_{\\mathbf{k}_r \\sigma_r} .\n",
    "\\label{_auto1} \\tag{1}\n",
    "\\end{equation}\n",
    "$$"
   ]
  },
  {
   "cell_type": "markdown",
   "id": "c9846a44",
   "metadata": {
    "editable": true
   },
   "source": [
    "## Plane waves\n",
    "\n",
    "Inserting plane waves as eigenstates we can rewrite the matrix element as"
   ]
  },
  {
   "cell_type": "markdown",
   "id": "05bb7fd6",
   "metadata": {
    "editable": true
   },
   "source": [
    "$$\n",
    "\\langle \\mathbf{k}_p \\sigma_p, \\mathbf{k}_q \\sigma_q\\vert \\hat{v} \\vert \\mathbf{k}_r \\sigma_r, \\mathbf{k}_s \\sigma_s\\rangle =\n",
    "\\frac{1}{V^2} \\delta_{\\sigma_p \\sigma_r} \\delta_{\\sigma_q \\sigma_s}\n",
    "\\int\\int \\exp{-i(\\mathbf{k}_p \\cdot \\mathbf{r}_p)} \\exp{-i( \\mathbf{k}_q \\cdot \\mathbf{r}_q)} \\hat{v}(r) \\exp{i(\\mathbf{k}_r \\cdot \\mathbf{r}_p)} \\exp{i( \\mathbf{k}_s \\cdot \\mathbf{r}_q)} d\\mathbf{r}_p d\\mathbf{r}_q ,\n",
    "$$"
   ]
  },
  {
   "cell_type": "markdown",
   "id": "79bad758",
   "metadata": {
    "editable": true
   },
   "source": [
    "where we have used the orthogonality properties of the spin functions. We change now the variables of integration\n",
    "by defining $\\mathbf{r} = \\mathbf{r}_p - \\mathbf{r}_q$, which gives $\\mathbf{r}_p = \\mathbf{r} + \\mathbf{r}_q$ and $d^3 \\mathbf{r} = d^3 \\mathbf{r}_p$."
   ]
  },
  {
   "cell_type": "markdown",
   "id": "32d1dfb7",
   "metadata": {
    "editable": true
   },
   "source": [
    "## Integration limits\n",
    "\n",
    "The limits are not changed since they are from $-\\infty$ to  $\\infty$ for all integrals. This results in"
   ]
  },
  {
   "cell_type": "markdown",
   "id": "ef831ed9",
   "metadata": {
    "editable": true
   },
   "source": [
    "$$\n",
    "\\begin{align*}\n",
    "\\langle \\mathbf{k}_p \\sigma_p, \\mathbf{k}_q \\sigma_q\\vert \\hat{v} \\vert \\mathbf{k}_r \\sigma_r, \\mathbf{k}_s \\sigma_s\\rangle\n",
    "&= \\frac{1}{V^2} \\delta_{\\sigma_p \\sigma_r} \\delta_{\\sigma_q \\sigma_s} \\int\\exp{i (\\mathbf{k}_s - \\mathbf{k}_q) \\cdot \\mathbf{r}_q} \\int v(r) \\exp{i(\\mathbf{k}_r - \\mathbf{k}_p) \\cdot ( \\mathbf{r} + \\mathbf{r}_q)} d\\mathbf{r} d\\mathbf{r}_q \\\\\n",
    "&= \\frac{1}{V^2} \\delta_{\\sigma_p \\sigma_r} \\delta_{\\sigma_q \\sigma_s} \\int v(r) \\exp{i\\left[(\\mathbf{k}_r - \\mathbf{k}_p) \\cdot \\mathbf{r}\\right]}\n",
    "\\int \\exp{i\\left[(\\mathbf{k}_s - \\mathbf{k}_q + \\mathbf{k}_r - \\mathbf{k}_p) \\cdot \\mathbf{r}_q\\right]} d\\mathbf{r}_q d\\mathbf{r} .\n",
    "\\end{align*}\n",
    "$$"
   ]
  },
  {
   "cell_type": "markdown",
   "id": "3c702a54",
   "metadata": {
    "editable": true
   },
   "source": [
    "## Recognizing integral\n",
    "\n",
    "We recognize the integral over $\\mathbf{r}_q$ as a $\\delta$-function, resulting in"
   ]
  },
  {
   "cell_type": "markdown",
   "id": "f7668236",
   "metadata": {
    "editable": true
   },
   "source": [
    "$$\n",
    "\\langle \\mathbf{k}_p \\sigma_p, \\mathbf{k}_q \\sigma_q\\vert \\hat{v} \\vert \\mathbf{k}_r \\sigma_r, \\mathbf{k}_s \\sigma_s\\rangle =\n",
    "\\frac{1}{V} \\delta_{\\sigma_p \\sigma_r} \\delta_{\\sigma_q \\sigma_s} \\delta_{(\\mathbf{k}_p + \\mathbf{k}_q),(\\mathbf{k}_r + \\mathbf{k}_s)} \\int v(r) \\exp{i\\left[(\\mathbf{k}_r - \\mathbf{k}_p) \\cdot \\mathbf{r}\\right]} d^3r .\n",
    "$$"
   ]
  },
  {
   "cell_type": "markdown",
   "id": "b1bc111a",
   "metadata": {
    "editable": true
   },
   "source": [
    "For this equation to be different from zero, we must have conservation of momenta, we need to satisfy\n",
    "$\\mathbf{k}_p + \\mathbf{k}_q = \\mathbf{k}_r + \\mathbf{k}_s$."
   ]
  },
  {
   "cell_type": "markdown",
   "id": "7cf83df0",
   "metadata": {
    "editable": true
   },
   "source": [
    "## Conservation of momentum\n",
    "\n",
    "We can use the conservation of momenta to remove one of the summation variables resulting in"
   ]
  },
  {
   "cell_type": "markdown",
   "id": "db52c128",
   "metadata": {
    "editable": true
   },
   "source": [
    "$$\n",
    "\\hat{V} =\n",
    "\\frac{1}{2V} \\sum_{\\sigma \\sigma'} \\sum_{\\mathbf{k}_p \\mathbf{k}_q \\mathbf{k}_r} \\left[ \\int v(r) \\exp{i\\left[(\\mathbf{k}_r - \\mathbf{k}_p) \\cdot \\mathbf{r}\\right]} d^3r \\right]\n",
    "a_{\\mathbf{k}_p \\sigma}^\\dagger a_{\\mathbf{k}_q \\sigma'}^\\dagger a_{\\mathbf{k}_p + \\mathbf{k}_q - \\mathbf{k}_r, \\sigma'} a_{\\mathbf{k}_r \\sigma},\n",
    "$$"
   ]
  },
  {
   "cell_type": "markdown",
   "id": "e194a3bf",
   "metadata": {
    "editable": true
   },
   "source": [
    "which can be rewritten as"
   ]
  },
  {
   "cell_type": "markdown",
   "id": "975ae1f1",
   "metadata": {
    "editable": true
   },
   "source": [
    "<!-- Equation labels as ordinary links -->\n",
    "<div id=\"eq:V\"></div>\n",
    "\n",
    "$$\n",
    "\\begin{equation}\n",
    "\\hat{V} =\n",
    "\\frac{1}{2V} \\sum_{\\sigma \\sigma'} \\sum_{\\mathbf{k} \\mathbf{p} \\mathbf{q}} \\left[ \\int v(r) \\exp{-i( \\mathbf{q} \\cdot \\mathbf{r})} d\\mathbf{r} \\right]\n",
    "a_{\\mathbf{k} + \\mathbf{q}, \\sigma}^\\dagger a_{\\mathbf{p} - \\mathbf{q}, \\sigma'}^\\dagger a_{\\mathbf{p} \\sigma'} a_{\\mathbf{k} \\sigma},\n",
    "\\label{eq:V} \\tag{2}\n",
    "\\end{equation}\n",
    "$$"
   ]
  },
  {
   "cell_type": "markdown",
   "id": "fb3ff2e5",
   "metadata": {
    "editable": true
   },
   "source": [
    "## Some definitions\n",
    "\n",
    "In the last equation we defined\n",
    "the quantities\n",
    "$\\mathbf{p} = \\mathbf{k}_p + \\mathbf{k}_q - \\mathbf{k}_r$, $\\mathbf{k} = \\mathbf{k}_r$ og $\\mathbf{q} = \\mathbf{k}_p - \\mathbf{k}_r$."
   ]
  },
  {
   "cell_type": "markdown",
   "id": "2121b8b3",
   "metadata": {
    "editable": true
   },
   "source": [
    "## Reference energy\n",
    "\n",
    "Let us now compute the expectation value of the reference energy using the expressions for the kinetic energy operator and the interaction.\n",
    "We need to compute $\\langle \\Phi_0\\vert \\hat{H} \\vert \\Phi_0\\rangle = \\langle \\Phi_0\\vert \\hat{T} \\vert \\Phi_0\\rangle + \\langle \\Phi_0\\vert \\hat{V} \\vert \\Phi_0\\rangle$, where $\\vert \\Phi_0\\rangle$ is our reference Slater determinant, constructed from filling all single-particle states up to the Fermi level.\n",
    "Let us start with the kinetic energy first"
   ]
  },
  {
   "cell_type": "markdown",
   "id": "45597398",
   "metadata": {
    "editable": true
   },
   "source": [
    "$$\n",
    "\\langle \\Phi_0\\vert \\hat{T} \\vert \\Phi_0\\rangle \n",
    "= \\langle \\Phi_0\\vert \\left( \\sum_{\\mathbf{p} \\sigma} \\frac{\\hbar^2 p^2}{2m} a_{\\mathbf{p} \\sigma}^\\dagger a_{\\mathbf{p} \\sigma} \\right) \\vert \\Phi_0\\rangle \\\\\n",
    "= \\sum_{\\mathbf{p} \\sigma} \\frac{\\hbar^2 p^2}{2m} \\langle \\Phi_0\\vert a_{\\mathbf{p} \\sigma}^\\dagger a_{\\mathbf{p} \\sigma} \\vert \\Phi_0\\rangle .\n",
    "$$"
   ]
  },
  {
   "cell_type": "markdown",
   "id": "9a3a329e",
   "metadata": {
    "editable": true
   },
   "source": [
    "## Kinetic  energy\n",
    "\n",
    "From the possible contractions using Wick's theorem, it is straightforward to convince oneself that the expression for the kinetic energy becomes"
   ]
  },
  {
   "cell_type": "markdown",
   "id": "18fbf276",
   "metadata": {
    "editable": true
   },
   "source": [
    "$$\n",
    "\\langle \\Phi_0\\vert \\hat{T} \\vert \\Phi_0\\rangle = \\sum_{\\mathbf{i} \\leq F} \\frac{\\hbar^2 k_i^2}{m} = \\frac{V}{(2\\pi)^3} \\frac{\\hbar^2}{m} \\int_0^{k_F} k^2 d\\mathbf{k}.\n",
    "$$"
   ]
  },
  {
   "cell_type": "markdown",
   "id": "77eab8a4",
   "metadata": {
    "editable": true
   },
   "source": [
    "The sum of the spin degrees of freedom results in  a factor of two only if we deal with identical spin $1/2$ fermions. \n",
    "Changing to spherical coordinates, the integral over the momenta $k$ results in the final expression"
   ]
  },
  {
   "cell_type": "markdown",
   "id": "14a39415",
   "metadata": {
    "editable": true
   },
   "source": [
    "$$\n",
    "\\langle \\Phi_0\\vert \\hat{T} \\vert \\Phi_0\\rangle = \\frac{V}{(2\\pi)^3} \\left( 4\\pi \\int_0^{k_F} k^4 d\\mathbf{k} \\right) = \\frac{4\\pi V}{(2\\pi)^3} \\frac{1}{5} k_F^5 = \\frac{4\\pi V}{5(2\\pi)^3} k_F^5 = \\frac{\\hbar^2 V}{10\\pi^2 m} k_F^5 .\n",
    "$$"
   ]
  },
  {
   "cell_type": "markdown",
   "id": "70330d7b",
   "metadata": {
    "editable": true
   },
   "source": [
    "## Density of states\n",
    "\n",
    "The density of states in momentum space is given by $2V/(2\\pi)^3$, where we have included the degeneracy due to the spin degrees of freedom.\n",
    "The volume is given by  $4\\pi k_F^3/3$, and the number of particles becomes"
   ]
  },
  {
   "cell_type": "markdown",
   "id": "5997124d",
   "metadata": {
    "editable": true
   },
   "source": [
    "$$\n",
    "N = \\frac{2V}{(2\\pi)^3} \\frac{4}{3} \\pi k_F^3 = \\frac{V}{3\\pi^2} k_F^3 \\quad \\Rightarrow \\quad\n",
    "k_F = \\left( \\frac{3\\pi^2 N}{V} \\right)^{1/3}.\n",
    "$$"
   ]
  },
  {
   "cell_type": "markdown",
   "id": "dbc30cdf",
   "metadata": {
    "editable": true
   },
   "source": [
    "This gives us"
   ]
  },
  {
   "cell_type": "markdown",
   "id": "3eb1f6cf",
   "metadata": {
    "editable": true
   },
   "source": [
    "<!-- Equation labels as ordinary links -->\n",
    "<div id=\"eq:T_forventning\"></div>\n",
    "\n",
    "$$\n",
    "\\begin{equation}\n",
    "\\langle \\Phi_0\\vert \\hat{T} \\vert \\Phi_0\\rangle =\n",
    "\\frac{\\hbar^2 V}{10\\pi^2 m} \\left( \\frac{3\\pi^2 N}{V} \\right)^{5/3} =\n",
    "\\frac{\\hbar^2 (3\\pi^2)^{5/3} N}{10\\pi^2 m} \\rho^{2/3} ,\n",
    "\\label{eq:T_forventning} \\tag{3}\n",
    "\\end{equation}\n",
    "$$"
   ]
  },
  {
   "cell_type": "markdown",
   "id": "766c8d6e",
   "metadata": {
    "editable": true
   },
   "source": [
    "## Potential energy\n",
    "\n",
    "We are now ready to calculate the expectation value of the potential energy"
   ]
  },
  {
   "cell_type": "markdown",
   "id": "22c39213",
   "metadata": {
    "editable": true
   },
   "source": [
    "$$\n",
    "\\begin{align*}\n",
    "\\langle \\Phi_0\\vert \\hat{V} \\vert \\Phi_0\\rangle \n",
    "&= \\langle \\Phi_0\\vert \\left( \\frac{1}{2V} \\sum_{\\sigma \\sigma'} \\sum_{\\mathbf{k} \\mathbf{p} \\mathbf{q} } \\left[ \\int v(r) \\exp{-i (\\mathbf{q} \\cdot \\mathbf{r})} d\\mathbf{r} \\right] a_{\\mathbf{k} + \\mathbf{q}, \\sigma}^\\dagger a_{\\mathbf{p} - \\mathbf{q}, \\sigma'}^\\dagger a_{\\mathbf{p} \\sigma'} a_{\\mathbf{k} \\sigma} \\right) \\vert \\Phi_0\\rangle \\\\\n",
    "&= \\frac{1}{2V} \\sum_{\\sigma \\sigma'} \\sum_{\\mathbf{k} \\mathbf{p} \\mathbf{q}} \\left[ \\int v(r) \\exp{-i (\\mathbf{q} \\cdot \\mathbf{r})} d\\mathbf{r} \\right]\\langle \\Phi_0\\vert a_{\\mathbf{k} + \\mathbf{q}, \\sigma}^\\dagger a_{\\mathbf{p} - \\mathbf{q}, \\sigma'}^\\dagger a_{\\mathbf{p} \\sigma'} a_{\\mathbf{k} \\sigma} \\vert \\Phi_0\\rangle .\n",
    "\\end{align*}\n",
    "$$"
   ]
  },
  {
   "cell_type": "markdown",
   "id": "4ee00c30",
   "metadata": {
    "editable": true
   },
   "source": [
    "## Non-zero term\n",
    "\n",
    "The only contractions which result in non-zero results are those that involve states below the Fermi level, that is \n",
    "$k \\leq k_F$, $p \\leq k_F$, $|\\mathbf{p} - \\mathbf{q}| < \\mathbf{k}_F$ and $|\\mathbf{k} + \\mathbf{q}| \\leq k_F$. Due to momentum conservation we must also have $\\mathbf{k} + \\mathbf{q} = \\mathbf{p}$, $\\mathbf{p} - \\mathbf{q} = \\mathbf{k}$ and  $\\sigma = \\sigma'$ or  $\\mathbf{k} + \\mathbf{q} = \\mathbf{k}$ and $\\mathbf{p} - \\mathbf{q} = \\mathbf{p}$. \n",
    "Summarizing, we must have"
   ]
  },
  {
   "cell_type": "markdown",
   "id": "9d15c1de",
   "metadata": {
    "editable": true
   },
   "source": [
    "$$\n",
    "\\mathbf{k} + \\mathbf{q} = \\mathbf{p} \\quad \\text{and} \\quad \\sigma = \\sigma', \\qquad\n",
    "\\text{or} \\qquad\n",
    "\\mathbf{q} = \\mathbf{0} .\n",
    "$$"
   ]
  },
  {
   "cell_type": "markdown",
   "id": "3778a1a3",
   "metadata": {
    "editable": true
   },
   "source": [
    "## Direct and exchange terms\n",
    "\n",
    "We obtain then"
   ]
  },
  {
   "cell_type": "markdown",
   "id": "b134286e",
   "metadata": {
    "editable": true
   },
   "source": [
    "$$\n",
    "\\langle \\Phi_0\\vert \\hat{V} \\vert \\Phi_0\\rangle =\n",
    "\\frac{1}{2V} \\left( \\sum_{\\sigma \\sigma'} \\sum_{\\mathbf{q} \\mathbf{p} \\leq F} \\left[ \\int v(r) d\\mathbf{r} \\right] - \\sum_{\\sigma}\n",
    "\\sum_{\\mathbf{q} \\mathbf{p} \\leq F} \\left[ \\int v(r) \\exp{-i (\\mathbf{q} \\cdot \\mathbf{r})} d\\mathbf{r} \\right] \\right).\n",
    "$$"
   ]
  },
  {
   "cell_type": "markdown",
   "id": "b19be0b2",
   "metadata": {
    "editable": true
   },
   "source": [
    "The first term is the so-called direct term while the second term is the exchange term."
   ]
  },
  {
   "cell_type": "markdown",
   "id": "3eb2d8e8",
   "metadata": {
    "editable": true
   },
   "source": [
    "## Potential energy\n",
    "\n",
    "We can rewrite this equation as (and this applies to any potential which depends only on the relative distance between particles)"
   ]
  },
  {
   "cell_type": "markdown",
   "id": "959d2162",
   "metadata": {
    "editable": true
   },
   "source": [
    "<!-- Equation labels as ordinary links -->\n",
    "<div id=\"eq:V_b\"></div>\n",
    "\n",
    "$$\n",
    "\\begin{equation}\n",
    "\\langle \\Phi_0\\vert \\hat{V} \\vert \\Phi_0\\rangle =\n",
    "\\frac{1}{2V} \\left( N^2 \\left[ \\int v(r) d\\mathbf{r} \\right] - N \\sum_{\\mathbf{q}} \\left[ \\int v(r) \\exp{-i (\\mathbf{q}\\cdot \\mathbf{r})} d\\mathbf{r} \\right] \\right),\n",
    "\\label{eq:V_b} \\tag{4}\n",
    "\\end{equation}\n",
    "$$"
   ]
  },
  {
   "cell_type": "markdown",
   "id": "9eb12462",
   "metadata": {
    "editable": true
   },
   "source": [
    "where we have used the fact that a sum like $\\sum_{\\sigma}\\sum_{\\mathbf{k}}$ equals the number of particles. Using the fact that the density is given by\n",
    "$\\rho = N/V$, with $V$ being our volume, we can rewrite the last equation as"
   ]
  },
  {
   "cell_type": "markdown",
   "id": "785ae2f3",
   "metadata": {
    "editable": true
   },
   "source": [
    "$$\n",
    "\\langle \\Phi_0\\vert \\hat{V} \\vert \\Phi_0\\rangle =\n",
    "\\frac{1}{2} \\left( \\rho N \\left[ \\int v(r) d\\mathbf{r} \\right] - \\rho\\sum_{\\mathbf{q}} \\left[ \\int v(r) \\exp{-i (\\mathbf{q}\\cdot \\mathbf{r})} d\\mathbf{r} \\right] \\right).\n",
    "$$"
   ]
  },
  {
   "cell_type": "markdown",
   "id": "57bc8cdd",
   "metadata": {
    "editable": true
   },
   "source": [
    "## Interaction part\n",
    "\n",
    "For the electron gas\n",
    "the interaction part of the Hamiltonian operator is given by"
   ]
  },
  {
   "cell_type": "markdown",
   "id": "d4e301a3",
   "metadata": {
    "editable": true
   },
   "source": [
    "$$\n",
    "\\hat{H}_I=\\hat{H}_{el}+\\hat{H}_{b}+\\hat{H}_{el-b},\n",
    "$$"
   ]
  },
  {
   "cell_type": "markdown",
   "id": "ad54f530",
   "metadata": {
    "editable": true
   },
   "source": [
    "with the electronic part"
   ]
  },
  {
   "cell_type": "markdown",
   "id": "1d16f836",
   "metadata": {
    "editable": true
   },
   "source": [
    "$$\n",
    "\\hat{H}_{el}=\\sum_{i=1}^N\\frac{p_i^2}{2m}+\\frac{e^2}{2}\\sum_{i\\ne j}\\frac{e^{-\\mu |\\mathbf{r}_i-\\mathbf{r}_j|}}{|\\mathbf{r}_i-\\mathbf{r}_j|},\n",
    "$$"
   ]
  },
  {
   "cell_type": "markdown",
   "id": "8da986f0",
   "metadata": {
    "editable": true
   },
   "source": [
    "where we have introduced an explicit convergence factor\n",
    "(the limit $\\mu\\rightarrow 0$ is performed after having calculated the various integrals)."
   ]
  },
  {
   "cell_type": "markdown",
   "id": "b640d578",
   "metadata": {
    "editable": true
   },
   "source": [
    "## Positive background\n",
    "\n",
    "Correspondingly, we have"
   ]
  },
  {
   "cell_type": "markdown",
   "id": "e6798ca2",
   "metadata": {
    "editable": true
   },
   "source": [
    "$$\n",
    "\\hat{H}_{b}=\\frac{e^2}{2}\\int\\int d\\mathbf{r}d\\mathbf{r}'\\frac{n(\\mathbf{r})n(\\mathbf{r}')e^{-\\mu |\\mathbf{r}-\\mathbf{r}'|}}{|\\mathbf{r}-\\mathbf{r}'|},\n",
    "$$"
   ]
  },
  {
   "cell_type": "markdown",
   "id": "9ea78baa",
   "metadata": {
    "editable": true
   },
   "source": [
    "which is the energy contribution from the positive background charge with density\n",
    "$n(\\mathbf{r})=N/V$. Finally,"
   ]
  },
  {
   "cell_type": "markdown",
   "id": "1bec1629",
   "metadata": {
    "editable": true
   },
   "source": [
    "$$\n",
    "\\hat{H}_{el-b}=-\\frac{e^2}{2}\\sum_{i=1}^N\\int d\\mathbf{r}\\frac{n(\\mathbf{r})e^{-\\mu |\\mathbf{r}-\\mathbf{x}_i|}}{|\\mathbf{r}-\\mathbf{x}_i|},\n",
    "$$"
   ]
  },
  {
   "cell_type": "markdown",
   "id": "b30e216b",
   "metadata": {
    "editable": true
   },
   "source": [
    "is the interaction between the electrons and the positive background."
   ]
  },
  {
   "cell_type": "markdown",
   "id": "b34d35c7",
   "metadata": {
    "editable": true
   },
   "source": [
    "## Positive charge contribution\n",
    "\n",
    "We can show that"
   ]
  },
  {
   "cell_type": "markdown",
   "id": "43ef96db",
   "metadata": {
    "editable": true
   },
   "source": [
    "$$\n",
    "\\hat{H}_{b}=\\frac{e^2}{2}\\frac{N^2}{V}\\frac{4\\pi}{\\mu^2},\n",
    "$$"
   ]
  },
  {
   "cell_type": "markdown",
   "id": "91db2c65",
   "metadata": {
    "editable": true
   },
   "source": [
    "and"
   ]
  },
  {
   "cell_type": "markdown",
   "id": "76c52784",
   "metadata": {
    "editable": true
   },
   "source": [
    "$$\n",
    "\\hat{H}_{el-b}=-e^2\\frac{N^2}{V}\\frac{4\\pi}{\\mu^2}.\n",
    "$$"
   ]
  },
  {
   "cell_type": "markdown",
   "id": "c100b3ed",
   "metadata": {
    "editable": true
   },
   "source": [
    "## Thermodynamic limit\n",
    "\n",
    "For the electron gas and a Coulomb interaction, these two terms are cancelled (in the thermodynamic limit) by the contribution from the direct term arising\n",
    "from the repulsive electron-electron interaction. What remains then  when computing the reference energy is only the kinetic energy contribution and the contribution from the exchange term.  For other interactions, like nuclear forces with a short range part and no infinite range, we need to compute both the direct term and the exchange term. \n",
    "\n",
    "We can show that the final Hamiltonian can be written as"
   ]
  },
  {
   "cell_type": "markdown",
   "id": "1a9ed5eb",
   "metadata": {
    "editable": true
   },
   "source": [
    "$$\n",
    "H=H_{0}+H_{I},\n",
    "$$"
   ]
  },
  {
   "cell_type": "markdown",
   "id": "a6e66d9d",
   "metadata": {
    "editable": true
   },
   "source": [
    "with"
   ]
  },
  {
   "cell_type": "markdown",
   "id": "bd5677d8",
   "metadata": {
    "editable": true
   },
   "source": [
    "$$\n",
    "H_{0}={\\displaystyle\\sum_{\\mathbf{k}\\sigma}}\n",
    "\\frac{\\hbar^{2}k^{2}}{2m}a_{\\mathbf{k}\\sigma}^{\\dagger}\n",
    "a_{\\mathbf{k}\\sigma},\n",
    "$$"
   ]
  },
  {
   "cell_type": "markdown",
   "id": "4474cd29",
   "metadata": {
    "editable": true
   },
   "source": [
    "and"
   ]
  },
  {
   "cell_type": "markdown",
   "id": "9dedf777",
   "metadata": {
    "editable": true
   },
   "source": [
    "$$\n",
    "H_{I}=\\frac{e^{2}}{2V}{\\displaystyle\\sum_{\\sigma_{1}\\sigma_{2}}}{\\displaystyle\\sum_{\\mathbf{q}\\neq 0,\\mathbf{k},\\mathbf{p}}}\\frac{4\\pi}{q^{2}}\n",
    "a_{\\mathbf{k}+\\mathbf{q},\\sigma_{1}}^{\\dagger}\n",
    "a_{\\mathbf{p}-\\mathbf{q},\\sigma_{2}}^{\\dagger}\n",
    "a_{\\mathbf{p}\\sigma_{2}}a_{\\mathbf{k}\\sigma_{1}}.\n",
    "$$"
   ]
  },
  {
   "cell_type": "markdown",
   "id": "9ead1517",
   "metadata": {
    "editable": true
   },
   "source": [
    "## Ground state energy\n",
    "Calculate $E_0/N=\\langle \\Phi_{0}\\vert H\\vert \\Phi_{0}\\rangle/N$ for for this system to first order in the interaction. Show that, by using"
   ]
  },
  {
   "cell_type": "markdown",
   "id": "12345ab3",
   "metadata": {
    "editable": true
   },
   "source": [
    "$$\n",
    "\\rho= \\frac{k_F^3}{3\\pi^2}=\\frac{3}{4\\pi r_0^3},\n",
    "$$"
   ]
  },
  {
   "cell_type": "markdown",
   "id": "d45855b7",
   "metadata": {
    "editable": true
   },
   "source": [
    "with $\\rho=N/V$, $r_0$\n",
    "being the radius of a sphere representing the volume an electron occupies \n",
    "and the Bohr radius $a_0=\\hbar^2/e^2m$, \n",
    "that the energy per electron can be written as"
   ]
  },
  {
   "cell_type": "markdown",
   "id": "2eaf1593",
   "metadata": {
    "editable": true
   },
   "source": [
    "$$\n",
    "E_0/N=\\frac{e^2}{2a_0}\\left[\\frac{2.21}{r_s^2}-\\frac{0.916}{r_s}\\right].\n",
    "$$"
   ]
  },
  {
   "cell_type": "markdown",
   "id": "78325e40",
   "metadata": {
    "editable": true
   },
   "source": [
    "Here we have defined\n",
    "$r_s=r_0/a_0$ to be a dimensionless quantity."
   ]
  },
  {
   "cell_type": "markdown",
   "id": "65c8470e",
   "metadata": {
    "editable": true
   },
   "source": [
    "## Exercise 2: plot of energy\n",
    "\n",
    "Plot your results. Why is this system stable?\n",
    "Calculate thermodynamical quantities like the pressure, given by"
   ]
  },
  {
   "cell_type": "markdown",
   "id": "7bec12ee",
   "metadata": {
    "editable": true
   },
   "source": [
    "$$\n",
    "P=-\\left(\\frac{\\partial E}{\\partial V}\\right)_N,\n",
    "$$"
   ]
  },
  {
   "cell_type": "markdown",
   "id": "72f0445f",
   "metadata": {
    "editable": true
   },
   "source": [
    "and the bulk modulus"
   ]
  },
  {
   "cell_type": "markdown",
   "id": "dff9796e",
   "metadata": {
    "editable": true
   },
   "source": [
    "$$\n",
    "B=-V\\left(\\frac{\\partial P}{\\partial V}\\right)_N,\n",
    "$$"
   ]
  },
  {
   "cell_type": "markdown",
   "id": "dcb7f9b6",
   "metadata": {
    "editable": true
   },
   "source": [
    "and comment your results."
   ]
  },
  {
   "cell_type": "markdown",
   "id": "24962957",
   "metadata": {
    "editable": true
   },
   "source": [
    "## Density functional theory\n",
    "\n",
    "Hohenberg and Kohn proved that the total energy of a system including\n",
    "that of the many-body effects of electrons (exchange and correlation)\n",
    "in the presence of static external potential (for example, the atomic\n",
    "nuclei) is a unique functional of the charge density. The minimum\n",
    "value of the total energy functional is the ground state energy of the\n",
    "system. The electronic charge density which yields this minimum is\n",
    "then the exact single particle ground state energy.\n",
    "\n",
    "In Hartree-Fock theory one works with large basis sets. This poses a\n",
    "problem for large systems. An alternative to the HF methods is\n",
    "DFT. DFT takes into account electron correlations but is less\n",
    "demanding computationally than full scale diagonalization or Monte\n",
    "Carlo methods."
   ]
  },
  {
   "cell_type": "markdown",
   "id": "774331de",
   "metadata": {
    "editable": true
   },
   "source": [
    "## Functional of density\n",
    "\n",
    "The electronic energy $E$ is said to be a functional of the\n",
    "electronic density, $E[\\rho]$, in the sense that for a given function\n",
    "$\\rho(r)$, there is a single corresponding energy. The\n",
    "Hohenberg-Kohn theorem confirms that such a functional exists,\n",
    "but does not tell us the form of the functional. As shown by Kohn and\n",
    "Sham, the exact ground-state energy $E$ of an $N$-electron system can\n",
    "be written as"
   ]
  },
  {
   "cell_type": "markdown",
   "id": "4044112e",
   "metadata": {
    "editable": true
   },
   "source": [
    "## More reading\n",
    "1. R. van Leeuwen: Density functional approach to the many-body problem: key concepts and exact functionals, Adv. Quant. Chem. \\textbf{43}, 25 (2003). (Mathematical foundations of DFT)\n",
    "\n",
    "2. R. M. Dreizler and E. K. U. Gross: Density functional theory: An approach to the quantum many-body problem. (Introductory book)\n",
    "\n",
    "3. W. Koch and M. C. Holthausen: A chemist's guide to density functional theory. (Introductory book, less formal than Dreizler/Gross)\n",
    "\n",
    "4. E. H. Lieb: Density functionals for Coulomb systems, Int. J. Quant. Chem. \\textbf{24}, 243-277 (1983). (Mathematical analysis of DFT)"
   ]
  }
 ],
 "metadata": {},
 "nbformat": 4,
 "nbformat_minor": 5
}
