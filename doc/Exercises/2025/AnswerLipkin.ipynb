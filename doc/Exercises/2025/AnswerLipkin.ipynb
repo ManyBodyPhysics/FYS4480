{
 "cells": [
  {
   "cell_type": "markdown",
   "id": "fd9d55fd",
   "metadata": {
    "editable": true
   },
   "source": [
    "<!-- HTML file automatically generated from DocOnce source (https://github.com/doconce/doconce/)\n",
    "doconce format html lipkin.do.txt  -->\n",
    "<!-- dom:TITLE: Solution to exercises week 37 and 38, Lipkin model -->"
   ]
  },
  {
   "cell_type": "markdown",
   "id": "84a33d6b",
   "metadata": {
    "editable": true
   },
   "source": [
    "# Solution to exercises week 37 and 38, Lipkin model\n",
    "**Morten Hjorth-Jensen**, Department of Physics, University of Oslo\n",
    "\n",
    "Date: **March 5, 2025**"
   ]
  },
  {
   "cell_type": "markdown",
   "id": "75f85326",
   "metadata": {
    "editable": true
   },
   "source": [
    "## Lipkin model\n",
    "\n",
    "We will study a schematic model (the Lipkin model, see Nuclear\n",
    "Physics **62** (1965) 188), for the interaction among  $2$ and more \n",
    "fermions that can occupy two different energy levels.\n",
    "\n",
    "In project 1 we consider a two-fermion case and a four-fermion case.\n",
    "\n",
    "For four fermions, the case we consider in the examples  here, each levels has\n",
    "degeneration $d=4$, leading to different total spin values.  The two\n",
    "levels have quantum numbers $\\sigma=\\pm 1$, with the upper level\n",
    "having $2\\sigma=+1$ and energy $\\varepsilon_{1}= \\varepsilon/2$. The\n",
    "lower level has $2\\sigma=-1$ and energy\n",
    "$\\varepsilon_{2}=-\\varepsilon/2$. That is, the lowest single-particle\n",
    "level has negative spin projection (or spin down), while the upper\n",
    "level has spin up.  In addition, the substates of each level are\n",
    "characterized by the quantum numbers $p=1,2,3,4$."
   ]
  },
  {
   "cell_type": "markdown",
   "id": "0b68d2ce",
   "metadata": {
    "editable": true
   },
   "source": [
    "## Four fermion case\n",
    "\n",
    "We define the single-particle states (for the four fermion case which we will work on here)"
   ]
  },
  {
   "cell_type": "markdown",
   "id": "0a7939a7",
   "metadata": {
    "editable": true
   },
   "source": [
    "$$\n",
    "\\vert u_{\\sigma =-1,p}\\rangle=a_{-p}^{\\dagger}\\vert 0\\rangle\n",
    "\\hspace{1cm}\n",
    "\\vert u_{\\sigma =1,p}\\rangle=a_{+p}^{\\dagger}\\vert 0\\rangle.\n",
    "$$"
   ]
  },
  {
   "cell_type": "markdown",
   "id": "4d3c4d32",
   "metadata": {
    "editable": true
   },
   "source": [
    "The single-particle states span an orthonormal basis."
   ]
  },
  {
   "cell_type": "markdown",
   "id": "d34647f6",
   "metadata": {
    "editable": true
   },
   "source": [
    "## Hamiltonian\n",
    "\n",
    "The Hamiltonian of the system is given by"
   ]
  },
  {
   "cell_type": "markdown",
   "id": "fe43806e",
   "metadata": {
    "editable": true
   },
   "source": [
    "$$\n",
    "\\begin{array}{ll}\n",
    "\\hat{H}=&\\hat{H}_{0}+\\hat{H}_{1}+\\hat{H}_{2}\\\\\n",
    "&\\\\\n",
    "\\hat{H}_{0}=&\\frac{1}{2}\\varepsilon\\sum_{\\sigma ,p}\\sigma\n",
    "a_{\\sigma,p}^{\\dagger}a_{\\sigma ,p}\\\\\n",
    "&\\\\\n",
    "\\hat{H}_{1}=&\\frac{1}{2}V\\sum_{\\sigma ,p,p'}\n",
    "a_{\\sigma,p}^{\\dagger}a_{\\sigma ,p'}^{\\dagger}\n",
    "a_{-\\sigma ,p'}a_{-\\sigma ,p}\\\\\n",
    "&\\\\\n",
    "\\hat{H}_{2}=&\\frac{1}{2}W\\sum_{\\sigma ,p,p'}\n",
    "a_{\\sigma,p}^{\\dagger}a_{-\\sigma ,p'}^{\\dagger}\n",
    "a_{\\sigma ,p'}a_{-\\sigma ,p}\\\\\n",
    "&\\\\\n",
    "\\end{array}\n",
    "$$"
   ]
  },
  {
   "cell_type": "markdown",
   "id": "faadb7b7",
   "metadata": {
    "editable": true
   },
   "source": [
    "where $V$ and $W$ are constants. The operator \n",
    "$H_{1}$ can move pairs of fermions\n",
    "while $H_{2}$ is a spin-exchange term. The latter\n",
    "moves a pair of fermions from a state $(p\\sigma ,p' -\\sigma)$ to a state\n",
    "$(p-\\sigma ,p'\\sigma)$."
   ]
  },
  {
   "cell_type": "markdown",
   "id": "55016095",
   "metadata": {
    "editable": true
   },
   "source": [
    "## Quasispin operators\n",
    "\n",
    "We are going to rewrite the above Hamiltonian in terms of so-called  quasispin operators"
   ]
  },
  {
   "cell_type": "markdown",
   "id": "5d79939f",
   "metadata": {
    "editable": true
   },
   "source": [
    "$$\n",
    "\\begin{array}{ll}\n",
    "\\hat{J}_{+}=&\\sum_{p}\n",
    "a_{p+}^{\\dagger}a_{p-}\\\\\n",
    "&\\\\\n",
    "\\hat{J}_{-}=&\\sum_{p}\n",
    "a_{p-}^{\\dagger}a_{p+}\\\\\n",
    "&\\\\\n",
    "\\hat{J}_{z}=&\\frac{1}{2}\\sum_{p\\sigma}\\sigma\n",
    "a_{p\\sigma}^{\\dagger}a_{p\\sigma}\\\\\n",
    "&\\\\\n",
    "\\hat{J}^{2}=&J_{+}J_{-}+J_{z}^{2}-J_{z}\\\\\n",
    "&\\\\\n",
    "\\end{array}\n",
    "$$"
   ]
  },
  {
   "cell_type": "markdown",
   "id": "b55ce28f",
   "metadata": {
    "editable": true
   },
   "source": [
    "We show here that these operators obey the commutation relations for angular momentum."
   ]
  },
  {
   "cell_type": "markdown",
   "id": "9b8187a1",
   "metadata": {
    "editable": true
   },
   "source": [
    "## Including the number operator\n",
    "\n",
    "We can in turn express $\\hat{H}$ in terms of the above quasispin operators and the number operator"
   ]
  },
  {
   "cell_type": "markdown",
   "id": "c2b44c07",
   "metadata": {
    "editable": true
   },
   "source": [
    "$$\n",
    "\\hat{N}=\\sum_{p\\sigma}\n",
    "a_{p\\sigma}^{\\dagger}a_{p\\sigma}.\n",
    "$$"
   ]
  },
  {
   "cell_type": "markdown",
   "id": "1273eba2",
   "metadata": {
    "editable": true
   },
   "source": [
    "We have the following quasispin operators"
   ]
  },
  {
   "cell_type": "markdown",
   "id": "11233407",
   "metadata": {
    "editable": true
   },
   "source": [
    "<!-- Equation labels as ordinary links -->\n",
    "<div id=\"eq:Jpm\"></div>\n",
    "\n",
    "$$\n",
    "\\begin{equation}\n",
    "J_{\\pm} = \\sum_p a_{p\\pm}^\\dagger a_{p\\mp},\n",
    "\\label{eq:Jpm} \\tag{1} \n",
    "\\end{equation}\n",
    "$$"
   ]
  },
  {
   "cell_type": "markdown",
   "id": "0ca09ac4",
   "metadata": {
    "editable": true
   },
   "source": [
    "<!-- Equation labels as ordinary links -->\n",
    "<div id=\"eq:Jz\"></div>\n",
    "\n",
    "$$\n",
    "\\begin{equation} \n",
    "J_{z} = \\frac{1}{2}\\sum_{p,\\sigma} \\sigma a_{p\\sigma}^\\dagger a_{p\\sigma},\n",
    "\\label{eq:Jz} \\tag{2} \n",
    "\\end{equation}\n",
    "$$"
   ]
  },
  {
   "cell_type": "markdown",
   "id": "eb054b61",
   "metadata": {
    "editable": true
   },
   "source": [
    "<!-- Equation labels as ordinary links -->\n",
    "<div id=\"eq:J2\"></div>\n",
    "\n",
    "$$\n",
    "\\begin{equation} \n",
    "J^{2} = J_+ J_- + J_z^2 - J_z,\n",
    "\\label{eq:J2} \\tag{3}\n",
    "\\end{equation}\n",
    "$$"
   ]
  },
  {
   "cell_type": "markdown",
   "id": "584fe952",
   "metadata": {
    "editable": true
   },
   "source": [
    "and we want to compute the commutators"
   ]
  },
  {
   "cell_type": "markdown",
   "id": "53e3f9ef",
   "metadata": {
    "editable": true
   },
   "source": [
    "$$\n",
    "[J_z,J_\\pm], \\quad [J_+,J_-], \\quad [J^2,J_\\pm] \\quad \\text{og} \\quad \n",
    "[J^2,J_z].\n",
    "$$"
   ]
  },
  {
   "cell_type": "markdown",
   "id": "003623cd",
   "metadata": {
    "editable": true
   },
   "source": [
    "## Angular momentum magics I\n",
    "Let us start with the first one and inserting for  $J_z$ and $J_\\pm$ given by the equations ([2](#eq:Jz)) and ([1](#eq:Jpm)), respectively, we obtain"
   ]
  },
  {
   "cell_type": "markdown",
   "id": "cc12ae25",
   "metadata": {
    "editable": true
   },
   "source": [
    "$$\n",
    "\\begin{align*}\n",
    "[J_z,J_\\pm] &= J_z J_\\pm - J_\\pm J_z \\\\\n",
    "%\n",
    "&= \\left( \\frac{1}{2}\\sum_{p,\\sigma} \\sigma a_{p\\sigma}^\\dagger a_{p\\sigma} \\right)\n",
    "\\left( \\sum_{p'} a_{p'\\pm}^\\dagger a_{p'\\mp} \\right) -\n",
    "\\left( \\sum_{p'} a_{p'\\pm}^\\dagger a_{p'\\mp} \\right)\n",
    "\\left( \\frac{1}{2}\\sum_{p,\\sigma} \\sigma a_{p\\sigma}^\\dagger a_{p\\sigma} \\right) \\\\\n",
    "&= \\frac{1}{2} \\sum_{p,p',\\sigma} \\sigma \\left( a_{p\\sigma}^\\dagger a_{p\\sigma} a_{p'\\pm}^\\dagger a_{p'\\mp} - a_{p'\\pm}^\\dagger a_{p'\\mp} a_{p\\sigma}^\\dagger a_{p\\sigma} \\right).\n",
    "\\end{align*}\n",
    "$$"
   ]
  },
  {
   "cell_type": "markdown",
   "id": "ea771fd0",
   "metadata": {
    "editable": true
   },
   "source": [
    "## Angular momentum magics II\n",
    "\n",
    "Using the commutation relations for the creation and annihilation operators"
   ]
  },
  {
   "cell_type": "markdown",
   "id": "46877db1",
   "metadata": {
    "editable": true
   },
   "source": [
    "<!-- Equation labels as ordinary links -->\n",
    "<div id=\"eq:al,ak\"></div>\n",
    "\n",
    "$$\n",
    "\\begin{equation}\n",
    "\\{ a_l,a_k \\} = 0, \\label{eq:al,ak} \\tag{4} \n",
    "\\end{equation}\n",
    "$$"
   ]
  },
  {
   "cell_type": "markdown",
   "id": "1619a67a",
   "metadata": {
    "editable": true
   },
   "source": [
    "<!-- Equation labels as ordinary links -->\n",
    "<div id=\"eq:ald,akd\"></div>\n",
    "\n",
    "$$\n",
    "\\begin{equation} \n",
    "\\{ a_l^\\dagger , a_k^\\dagger \\} = 0, \\label{eq:ald,akd} \\tag{5} \n",
    "\\end{equation}\n",
    "$$"
   ]
  },
  {
   "cell_type": "markdown",
   "id": "9cf84c9c",
   "metadata": {
    "editable": true
   },
   "source": [
    "<!-- Equation labels as ordinary links -->\n",
    "<div id=\"eq:ald,ak\"></div>\n",
    "\n",
    "$$\n",
    "\\begin{equation} \n",
    "\\{ a_l^\\dagger , a_k \\} = \\delta_{lk}, \\label{eq:ald,ak} \\tag{6}\n",
    "\\end{equation}\n",
    "$$"
   ]
  },
  {
   "cell_type": "markdown",
   "id": "4755a221",
   "metadata": {
    "editable": true
   },
   "source": [
    "in order to move the operators in the right product to be in the same order as those in the lefthand product"
   ]
  },
  {
   "cell_type": "markdown",
   "id": "e7fd2c00",
   "metadata": {
    "editable": true
   },
   "source": [
    "$$\n",
    "\\begin{align*}\n",
    "[J_z,J_\\pm] &= \\frac{1}{2} \\sum_{p,p',\\sigma} \\sigma \\left(\n",
    "a_{p\\sigma}^\\dagger a_{p\\sigma} a_{p'\\pm}^\\dagger a_{p'\\mp} -\n",
    "a_{p'\\pm}^\\dagger \\left( \\delta_{p' p} \\delta_{\\mp \\sigma} - a_{p\\sigma}^\\dagger a_{p'\\mp} \\right) a_{p\\sigma} \\right) \\\\\n",
    "&= \\frac{1}{2} \\sum_{p,p',\\sigma} \\sigma \\left(\n",
    "a_{p\\sigma}^\\dagger a_{p\\sigma} a_{p'\\pm}^\\dagger a_{p'\\mp} -\n",
    "a_{p'\\pm}^\\dagger \\delta_{p' p} \\delta_{\\mp \\sigma} a_{p\\sigma} +\n",
    "a_{p'\\pm}^\\dagger a_{p\\sigma}^\\dagger a_{p'\\mp} a_{p\\sigma} \\right). \\\\\n",
    "\\end{align*}\n",
    "$$"
   ]
  },
  {
   "cell_type": "markdown",
   "id": "d04d8a97",
   "metadata": {
    "editable": true
   },
   "source": [
    "## Angular momentum magics III\n",
    "It  results in"
   ]
  },
  {
   "cell_type": "markdown",
   "id": "e9f4eace",
   "metadata": {
    "editable": true
   },
   "source": [
    "$$\n",
    "\\begin{align*}\n",
    "[J_z,J_\\pm]\n",
    "&= \\frac{1}{2} \\sum_{p,p',\\sigma} \\sigma \\left(\n",
    "a_{p\\sigma}^\\dagger a_{p\\sigma} a_{p'\\pm}^\\dagger a_{p'\\mp} -\n",
    "a_{p'\\pm}^\\dagger \\delta_{pp'} \\delta_{\\mp \\sigma} a_{p\\sigma} +\n",
    "a_{p\\sigma}^\\dagger a_{p'\\pm}^\\dagger a_{p\\sigma} a_{p'\\mp} \\right) \\\\\n",
    "&= \\frac{1}{2} \\sum_{p,p',\\sigma} \\sigma \\left(\n",
    "a_{p\\sigma}^\\dagger a_{p\\sigma} a_{p'\\pm}^\\dagger a_{p'\\mp} -\n",
    "a_{p'\\pm}^\\dagger \\delta_{pp'} \\delta_{\\mp \\sigma} a_{p\\sigma} +\n",
    "a_{p\\sigma}^\\dagger \\left( \\delta_{pp'} \\delta_{\\pm \\sigma} - a_{p\\sigma} a_{p'\\pm}^\\dagger \\right) a_{p'\\mp} \\right) \\\\\n",
    "&= \\frac{1}{2} \\sum_{p,p',\\sigma} \\sigma \\left(\n",
    "a_{p\\sigma}^\\dagger \\delta_{pp'} \\delta_{\\pm \\sigma} a_{p'\\mp} -\n",
    "a_{p'\\pm}^\\dagger \\delta_{pp'} \\delta_{\\mp \\sigma} a_{p\\sigma} \\right). \\\\\n",
    "\\end{align*}\n",
    "$$"
   ]
  },
  {
   "cell_type": "markdown",
   "id": "aa30a4fb",
   "metadata": {
    "editable": true
   },
   "source": [
    "## Angular momentum magics IV\n",
    "\n",
    "The last equality leads to"
   ]
  },
  {
   "cell_type": "markdown",
   "id": "77411bd8",
   "metadata": {
    "editable": true
   },
   "source": [
    "$$\n",
    "\\begin{align*}\n",
    "[J_z,J_\\pm] &= \\frac{1}{2} \\sum_p \\left(\n",
    "(\\pm 1) a_{p\\pm}^\\dagger a_{p\\mp} - (\\mp 1)\n",
    "a_{p\\pm}^\\dagger a_{p\\mp} \\right) =\n",
    "\\pm \\frac{1}{2} \\sum_p \\left(\n",
    "a_{p\\pm}^\\dagger a_{p\\mp} + (\\pm 1)\n",
    "a_{p\\pm}^\\dagger a_{p\\mp} \\right) \\\\\n",
    "&= \\pm \\sum_p a_{p\\pm}^\\dagger a_{p\\mp} = \\pm J_\\pm,\n",
    "\\end{align*}\n",
    "$$"
   ]
  },
  {
   "cell_type": "markdown",
   "id": "e35c9668",
   "metadata": {
    "editable": true
   },
   "source": [
    "where the last results follows from comparing with Eq. ([1](#eq:Jpm))."
   ]
  },
  {
   "cell_type": "markdown",
   "id": "314c187b",
   "metadata": {
    "editable": true
   },
   "source": [
    "## Angular momentum magics V\n",
    "\n",
    "We can then continue with the next commutation relation, using Eq. ([1](#eq:Jpm)),"
   ]
  },
  {
   "cell_type": "markdown",
   "id": "9545b5e0",
   "metadata": {
    "editable": true
   },
   "source": [
    "$$\n",
    "\\begin{align*}\n",
    "[J_+,J_-] &= J_+ J_- - J_- J_+ \\\\\n",
    "&= \\left( \\sum_p a_{p'+}^\\dagger a_{p-} \\right)\n",
    "\\left( \\sum_{p'} a_{p'-}^\\dagger a_{p'+} \\right) -\n",
    "\\left( \\sum_{p'} a_{p'-}^\\dagger a_{p'+} \\right)\n",
    "\\left( \\sum_p a_{p+}^\\dagger a_{p-} \\right) \\\\\n",
    "&= \\sum_{p,p'} \\left(\n",
    "a_{p'+}^\\dagger a_{p-} a_{p'-}^\\dagger a_{p'+} -\n",
    "a_{p'-}^\\dagger a_{p'+} a_{p+}^\\dagger a_{p-} \\right) \\\\\n",
    "&= \\sum_{p,p'} \\left(\n",
    "a_{p'+}^\\dagger a_{p-} a_{p'-}^\\dagger a_{p'+} -\n",
    "a_{p'-}^\\dagger \\left( \\delta_{++} \\delta_{pp'} -\n",
    "a_{p+}^\\dagger a_{p'+} \\right) a_{p-} \\right) \\\\\n",
    "&= \\sum_{p,p'} \\left(\n",
    "a_{p'+}^\\dagger a_{p-} a_{p'-}^\\dagger a_{p'+} -\n",
    "a_{p'-}^\\dagger \\delta_{pp'} a_{p-} +\n",
    "a_{p'-}^\\dagger a_{p+}^\\dagger a_{p'+} a_{p-} \\right) \\\\\n",
    "&= \\sum_{p,p'} \\left(\n",
    "a_{p'+}^\\dagger a_{p-} a_{p'-}^\\dagger a_{p'+} -\n",
    "a_{p'-}^\\dagger \\delta_{pp'} a_{p-} +\n",
    "a_{p+}^\\dagger a_{p'-}^\\dagger a_{p-} a_{p'+} \\right) \\\\\n",
    "&= \\sum_{p,p'} \\left(\n",
    "a_{p'+}^\\dagger a_{p-} a_{p'-}^\\dagger a_{p'+} -\n",
    "a_{p'-}^\\dagger \\delta_{pp'} a_{p-} +\n",
    "a_{p+}^\\dagger \\left( \\delta_{--} \\delta_{pp'} -\n",
    "a_{p-} a_{p'-}^\\dagger \\right) a_{p'+} \\right) \\\\\n",
    "&= \\sum_{p,p'} \\left(\n",
    "a_{p+}^\\dagger \\delta_{pp'} a_{p'+} -\n",
    "a_{p'-}^\\dagger \\delta_{pp'} a_{p-} \\right), \\\\\n",
    "\\end{align*}\n",
    "$$"
   ]
  },
  {
   "cell_type": "markdown",
   "id": "e43819d1",
   "metadata": {
    "editable": true
   },
   "source": [
    "## Angular momentum magics VI\n",
    "\n",
    "Which results in"
   ]
  },
  {
   "cell_type": "markdown",
   "id": "a1e747b6",
   "metadata": {
    "editable": true
   },
   "source": [
    "$$\n",
    "[J_+,J_-] = \\sum_p \\left(\n",
    "a_{p+}^\\dagger a_{p+} -\n",
    "a_{p-}^\\dagger a_{p-} \\right) = 2J_z,\n",
    "$$"
   ]
  },
  {
   "cell_type": "markdown",
   "id": "d46a0b07",
   "metadata": {
    "editable": true
   },
   "source": [
    "It is straightforward to show that"
   ]
  },
  {
   "cell_type": "markdown",
   "id": "93700f17",
   "metadata": {
    "editable": true
   },
   "source": [
    "$$\n",
    "[J^2, J_\\pm] = [J_+ J_- + J_z^2 - J_z, J_\\pm] =\n",
    "[J_+ J_-, J_\\pm] + [J_z^2, J_\\pm] - [J_z, J_\\pm].\n",
    "$$"
   ]
  },
  {
   "cell_type": "markdown",
   "id": "88b519eb",
   "metadata": {
    "editable": true
   },
   "source": [
    "## Angular momentum magics VII\n",
    "\n",
    "Using the relations"
   ]
  },
  {
   "cell_type": "markdown",
   "id": "1a2431b6",
   "metadata": {
    "editable": true
   },
   "source": [
    "<!-- Equation labels as ordinary links -->\n",
    "<div id=\"eq:ab,c\"></div>\n",
    "\n",
    "$$\n",
    "\\begin{equation}\n",
    "[AB,C] = A[B,C] + [A,C]B, \\label{eq:ab,c} \\tag{7} \n",
    "\\end{equation}\n",
    "$$"
   ]
  },
  {
   "cell_type": "markdown",
   "id": "212cca4f",
   "metadata": {
    "editable": true
   },
   "source": [
    "<!-- Equation labels as ordinary links -->\n",
    "<div id=\"eq:a,bc\"></div>\n",
    "\n",
    "$$\n",
    "\\begin{equation} \n",
    "[A,BC] = [A,B]C + B[A,C], \\label{eq:a,bc} \\tag{8}\n",
    "\\end{equation}\n",
    "$$"
   ]
  },
  {
   "cell_type": "markdown",
   "id": "040abfdc",
   "metadata": {
    "editable": true
   },
   "source": [
    "we obtain"
   ]
  },
  {
   "cell_type": "markdown",
   "id": "870d409d",
   "metadata": {
    "editable": true
   },
   "source": [
    "$$\n",
    "[J^2, J_\\pm] =\n",
    "J_+ [J_-,J_\\pm] + [J_+,J_\\pm] J_- + J_z [J_z,J_\\pm] + [J_z,J_\\pm] J_z - [J_z,J_\\pm].\n",
    "$$"
   ]
  },
  {
   "cell_type": "markdown",
   "id": "479eb52c",
   "metadata": {
    "editable": true
   },
   "source": [
    "## Angular momentum magics VIII\n",
    "\n",
    "Finally, from the above it follows that"
   ]
  },
  {
   "cell_type": "markdown",
   "id": "39ee4472",
   "metadata": {
    "editable": true
   },
   "source": [
    "$$\n",
    "\\begin{align*}\n",
    "[J^2, J_+] &= -2J_+ J_z + J_z [J_z,J_+] + [J_z,J_+] J_z - [J_z,J_+] \\\\\n",
    "&= -2J_+ J_z + J_z J_+ + J_+ J_z - J_+ \\\\\n",
    "&= -2J_+ J_z + J_+ + J_+ J_z + J_+ J_z - J_+ = 0,\n",
    "\\end{align*}\n",
    "$$"
   ]
  },
  {
   "cell_type": "markdown",
   "id": "5f37cdf9",
   "metadata": {
    "editable": true
   },
   "source": [
    "and"
   ]
  },
  {
   "cell_type": "markdown",
   "id": "772815f2",
   "metadata": {
    "editable": true
   },
   "source": [
    "$$\n",
    "\\begin{align*}\n",
    "[J^2, J_-] &= 2J_z J_- + J_z [J_z,J_-] + [J_z,J_-] J_z - [J_z,J_-] \\\\\n",
    "&= 2J_z J_- - J_z J_- - J_- J_z + J_- \\\\\n",
    "&= J_z J_- - (J_z J_- + J_-) + J_- = 0.\n",
    "\\end{align*}\n",
    "$$"
   ]
  },
  {
   "cell_type": "markdown",
   "id": "24ce79c8",
   "metadata": {
    "editable": true
   },
   "source": [
    "## Angular momentum magics IX\n",
    "\n",
    "Our last commutator is given by"
   ]
  },
  {
   "cell_type": "markdown",
   "id": "c7a435e0",
   "metadata": {
    "editable": true
   },
   "source": [
    "$$\n",
    "\\begin{align*}\n",
    "[J^2,J_z] &= [J_+ J_- + J_z^2 - J_z, J_z] \\\\\n",
    "&= [J_+ J_-, J_z] + [J_z^2, J_z] - [J_z, J_z] \\\\\n",
    "&= J_+ [J_-, J_z] + [J_+,J_z] J_- \\\\\n",
    "&= J_+ J_- - J_+ J_- = 0\n",
    "\\end{align*}\n",
    "$$"
   ]
  },
  {
   "cell_type": "markdown",
   "id": "2e65ab9a",
   "metadata": {
    "editable": true
   },
   "source": [
    "## Angular momentum magics X\n",
    "\n",
    "Summing up we have"
   ]
  },
  {
   "cell_type": "markdown",
   "id": "5bc85627",
   "metadata": {
    "editable": true
   },
   "source": [
    "<!-- Equation labels as ordinary links -->\n",
    "<div id=\"eq:kJzJpm\"></div>\n",
    "\n",
    "$$\n",
    "\\begin{equation}\n",
    "[J_z, J_\\pm] = \\pm J_\\pm, \\label{eq:kJzJpm} \\tag{9} \n",
    "\\end{equation}\n",
    "$$"
   ]
  },
  {
   "cell_type": "markdown",
   "id": "574d14e9",
   "metadata": {
    "editable": true
   },
   "source": [
    "<!-- Equation labels as ordinary links -->\n",
    "<div id=\"eq:kJpJm\"></div>\n",
    "\n",
    "$$\n",
    "\\begin{equation} \n",
    "[J_+, J_-] = 2J_z, \\label{eq:kJpJm} \\tag{10} \n",
    "\\end{equation}\n",
    "$$"
   ]
  },
  {
   "cell_type": "markdown",
   "id": "3f252b3e",
   "metadata": {
    "editable": true
   },
   "source": [
    "<!-- Equation labels as ordinary links -->\n",
    "<div id=\"eq:kJ2Jpm\"></div>\n",
    "\n",
    "$$\n",
    "\\begin{equation} \n",
    "[J^2, J_\\pm] = 0, \\label{eq:kJ2Jpm} \\tag{11} \n",
    "\\end{equation}\n",
    "$$"
   ]
  },
  {
   "cell_type": "markdown",
   "id": "e8288963",
   "metadata": {
    "editable": true
   },
   "source": [
    "<!-- Equation labels as ordinary links -->\n",
    "<div id=\"eq:kJ2Jz\"></div>\n",
    "\n",
    "$$\n",
    "\\begin{equation} \n",
    "[J^2,J_z] = 0, \\label{eq:kJ2Jz} \\tag{12}\n",
    "\\end{equation}\n",
    "$$"
   ]
  },
  {
   "cell_type": "markdown",
   "id": "3a0705d3",
   "metadata": {
    "editable": true
   },
   "source": [
    "which are the standard commutation relations for angular (or orbital) momentum $L_\\pm$, $L_z$ og $L^2$."
   ]
  },
  {
   "cell_type": "markdown",
   "id": "7c089150",
   "metadata": {
    "editable": true
   },
   "source": [
    "## Rewriting the Hamiltonian\n",
    "\n",
    "We wrote the above Hamiltonian as"
   ]
  },
  {
   "cell_type": "markdown",
   "id": "bfd07b43",
   "metadata": {
    "editable": true
   },
   "source": [
    "$$\n",
    "H = H_0 + H_1 +H_2,\n",
    "$$"
   ]
  },
  {
   "cell_type": "markdown",
   "id": "61c6c3ef",
   "metadata": {
    "editable": true
   },
   "source": [
    "with"
   ]
  },
  {
   "cell_type": "markdown",
   "id": "38291893",
   "metadata": {
    "editable": true
   },
   "source": [
    "$$\n",
    "H_0 = \\frac{1}{2} \\varepsilon \\sum_{p\\sigma}\\sigma a_{p\\sigma}^{\\dagger}a_{p\\sigma},\n",
    "$$"
   ]
  },
  {
   "cell_type": "markdown",
   "id": "41555598",
   "metadata": {
    "editable": true
   },
   "source": [
    "and"
   ]
  },
  {
   "cell_type": "markdown",
   "id": "64208988",
   "metadata": {
    "editable": true
   },
   "source": [
    "$$\n",
    "H_1 = \\frac{1}{2} V \\sum_{p,p',\\sigma} a_{p\\sigma}^\\dagger a_{p'\\sigma}^\\dagger a_{p'-\\sigma} a_{p-\\sigma},\n",
    "$$"
   ]
  },
  {
   "cell_type": "markdown",
   "id": "c93fb96f",
   "metadata": {
    "editable": true
   },
   "source": [
    "and"
   ]
  },
  {
   "cell_type": "markdown",
   "id": "7265d869",
   "metadata": {
    "editable": true
   },
   "source": [
    "$$\n",
    "H_{2} = \\frac{1}{2} W \\sum_{p,p',\\sigma}a_{p\\sigma}^\\dagger a_{p'-\\sigma}^\\dagger a_{p'\\sigma}a_{p-\\sigma}.\n",
    "$$"
   ]
  },
  {
   "cell_type": "markdown",
   "id": "47d7f4c4",
   "metadata": {
    "editable": true
   },
   "source": [
    "## Hamiltonian and angular momentum  magics I\n",
    "\n",
    "We will now rewrite the Hamiltonian in terms of the above quasi-spin operators and the number operator"
   ]
  },
  {
   "cell_type": "markdown",
   "id": "624b1a03",
   "metadata": {
    "editable": true
   },
   "source": [
    "<!-- Equation labels as ordinary links -->\n",
    "<div id=\"eq:N\"></div>\n",
    "\n",
    "$$\n",
    "\\begin{equation}\n",
    "N = \\sum_{p,\\sigma} a_{p\\sigma}^\\dagger a_{p\\sigma}.\n",
    "\\label{eq:N} \\tag{13}\n",
    "\\end{equation}\n",
    "$$"
   ]
  },
  {
   "cell_type": "markdown",
   "id": "4c5f47eb",
   "metadata": {
    "editable": true
   },
   "source": [
    "Going through each term of the Hamiltonian and using the expressions for the quasi-spin operators we obtain"
   ]
  },
  {
   "cell_type": "markdown",
   "id": "0a1191e1",
   "metadata": {
    "editable": true
   },
   "source": [
    "<!-- Equation labels as ordinary links -->\n",
    "<div id=\"eq:H0ny\"></div>\n",
    "\n",
    "$$\n",
    "\\begin{equation}\n",
    "H_0 = \\varepsilon J_z.\n",
    "\\label{eq:H0ny} \\tag{14}\n",
    "\\end{equation}\n",
    "$$"
   ]
  },
  {
   "cell_type": "markdown",
   "id": "1c7113ef",
   "metadata": {
    "editable": true
   },
   "source": [
    "## Hamiltonian and angular momentum  magics II\n",
    "\n",
    "Moving over to $H_1$ and using the anti-commutation relations ([4](#eq:al,ak)) through ([6](#eq:ald,ak)) we obtain"
   ]
  },
  {
   "cell_type": "markdown",
   "id": "a0b89b48",
   "metadata": {
    "editable": true
   },
   "source": [
    "$$\n",
    "\\begin{align*}\n",
    "H_1 &= \\frac{1}{2} V \\sum_{p,p',\\sigma}\n",
    "a_{p\\sigma}^\\dagger a_{p'\\sigma}^\\dagger a_{p'-\\sigma} a_{p-\\sigma} \\\\\n",
    "&= \\frac{1}{2} V \\sum_{p,p',\\sigma}\n",
    "-a_{p\\sigma}^\\dagger a_{p'\\sigma}^\\dagger a_{p-\\sigma} a_{p'-\\sigma} \\\\\n",
    "&= \\frac{1}{2} V \\sum_{p,p',\\sigma}\n",
    "-a_{p\\sigma}^\\dagger \\left( \\delta_{pp'} \\delta_{\\sigma -\\sigma} - a_{p-\\sigma} a_{p'\\sigma}^\\dagger \\right) a_{p'-\\sigma} \\\\\n",
    "&= \\frac{1}{2} V \\sum_{p,p',\\sigma}\n",
    "a_{p\\sigma}^\\dagger a_{p-\\sigma} a_{p'\\sigma}^\\dagger a_{p'-\\sigma} \\\\\n",
    "\\end{align*}\n",
    "$$"
   ]
  },
  {
   "cell_type": "markdown",
   "id": "86f0afe0",
   "metadata": {
    "editable": true
   },
   "source": [
    "## Hamiltonian and angular momentum  magics III\n",
    "\n",
    "Rewriting the sum  over $\\sigma$ we arrive at"
   ]
  },
  {
   "cell_type": "markdown",
   "id": "8723b9b3",
   "metadata": {
    "editable": true
   },
   "source": [
    "$$\n",
    "\\begin{align*}\n",
    "H_1 &= \\frac{1}{2} V\\sum_{p,p'}\n",
    "a_{p+}^\\dagger a_{p-} a_{p'+}^\\dagger a_{p'-} +\n",
    "a_{p-}^\\dagger a_{p+} a_{p'-}^\\dagger a_{p'+} \\\\\n",
    "&= \\frac{1}{2} V \\left[ \\sum_p \\left( a_{p+}^\\dagger a_{p-} \\right)\n",
    "\\sum_{p'} \\left( a_{p'+}^\\dagger a_{p'-} \\right) +\n",
    "\\sum_p \\left( a_{p-}^\\dagger a_{p+} \\right)\n",
    "\\sum_{p'} \\left( a_{p'-}^\\dagger a_{p'+} \\right) \\right] \\\\\n",
    "&= \\frac{1}{2} V \\left[ J_+ J_+ + J_- J_- \\right] = \\frac{1}{2} V \\left[ J_+^2 + J_-^2 \\right] ,\n",
    "\\end{align*}\n",
    "$$"
   ]
  },
  {
   "cell_type": "markdown",
   "id": "63f4bea7",
   "metadata": {
    "editable": true
   },
   "source": [
    "which leads to"
   ]
  },
  {
   "cell_type": "markdown",
   "id": "bbac6665",
   "metadata": {
    "editable": true
   },
   "source": [
    "<!-- Equation labels as ordinary links -->\n",
    "<div id=\"eq:H1ny\"></div>\n",
    "\n",
    "$$\n",
    "\\begin{equation}\n",
    "H_1 = \\frac{1}{2} V \\left( J_+^2 + J_-^2 \\right).\n",
    "\\label{eq:H1ny} \\tag{15}\n",
    "\\end{equation}\n",
    "$$"
   ]
  },
  {
   "cell_type": "markdown",
   "id": "cba02d6b",
   "metadata": {
    "editable": true
   },
   "source": [
    "## Hamiltonian and angular momentum  magics IV\n",
    "\n",
    "Finally, we rewrite the last term"
   ]
  },
  {
   "cell_type": "markdown",
   "id": "b41a95c9",
   "metadata": {
    "editable": true
   },
   "source": [
    "$$\n",
    "\\begin{align*}\n",
    "H_2 &= \\frac{1}{2} W \\sum_{p,p',\\sigma}\n",
    "a_{p\\sigma}^\\dagger a_{p'-\\sigma}^\\dagger a_{p'\\sigma} a_{p-\\sigma} \\\\\n",
    "&= \\frac{1}{2} W \\sum_{p,p',\\sigma}\n",
    "-a_{p\\sigma}^\\dagger a_{p'-\\sigma}^\\dagger a_{p-\\sigma} a_{p'\\sigma} \\\\\n",
    "&= \\frac{1}{2} W \\sum_{p,p',\\sigma}\n",
    "-a_{p\\sigma}^\\dagger \\left( \\delta_{pp'} \\delta_{-\\sigma -\\sigma} -\n",
    "a_{p-\\sigma} a_{p'-\\sigma}^\\dagger \\right) a_{p'\\sigma} \\\\\n",
    "&= \\frac{1}{2} W \\sum_{p,p',\\sigma}\n",
    "-a_{p\\sigma}^\\dagger \\delta_{pp'} a_{p'\\sigma} +\n",
    "a_{p\\sigma}^\\dagger a_{p-\\sigma} a_{p'-\\sigma}^\\dagger a_{p'\\sigma} \\\\\n",
    "&= \\frac{1}{2} W \\left( -\\sum_{p,\\sigma}\n",
    "a_{p\\sigma}^\\dagger a_{p\\sigma} +\n",
    "\\sum_{p,p',\\sigma} a_{p\\sigma}^\\dagger a_{p-\\sigma} a_{p'-\\sigma}^\\dagger a_{p'\\sigma} \\right) \\\\\n",
    "\\end{align*}\n",
    "$$"
   ]
  },
  {
   "cell_type": "markdown",
   "id": "fb860073",
   "metadata": {
    "editable": true
   },
   "source": [
    "## Hamiltonian and angular momentum  magics V\n",
    "\n",
    "Using the expression for the number operator we obtain"
   ]
  },
  {
   "cell_type": "markdown",
   "id": "ba107ff3",
   "metadata": {
    "editable": true
   },
   "source": [
    "$$\n",
    "\\begin{align*}\n",
    "\\sum_{p,p',\\sigma} a_{p\\sigma}^\\dagger a_{p-\\sigma} a_{p'-\\sigma}^\\dagger a_{p'\\sigma}\n",
    "&= \\sum_{p,p'} a_{p+}^\\dagger a_{p-} a_{p'-}^\\dagger a_{p'+} +\n",
    "a_{p-}^\\dagger a_{p+} a_{p'+}^\\dagger a_{p'-} \\\\\n",
    "&= \\sum_p \\left( a_{p+}^\\dagger a_{p-} \\right)\n",
    "\\sum_{p'} \\left( a_{p'-}^\\dagger a_{p'+} \\right) +\n",
    "\\sum_p \\left( a_{p-}^\\dagger a_{p+} \\right)\n",
    "\\sum_{p'} \\left( a_{p'+}^\\dagger a_{p'-} \\right) \\\\\n",
    "&= J_+ J_- + J_- J_+,\n",
    "\\end{align*}\n",
    "$$"
   ]
  },
  {
   "cell_type": "markdown",
   "id": "ec43314b",
   "metadata": {
    "editable": true
   },
   "source": [
    "resulting in"
   ]
  },
  {
   "cell_type": "markdown",
   "id": "5ae35f43",
   "metadata": {
    "editable": true
   },
   "source": [
    "<!-- Equation labels as ordinary links -->\n",
    "<div id=\"eq:H2ny\"></div>\n",
    "\n",
    "$$\n",
    "\\begin{equation}\n",
    "H_2 = \\frac{1}{2} W \\left( -N + J_+ J_- + J_- J_+ \\right).\n",
    "\\label{eq:H2ny} \\tag{16}\n",
    "\\end{equation}\n",
    "$$"
   ]
  },
  {
   "cell_type": "markdown",
   "id": "a0b4f384",
   "metadata": {
    "editable": true
   },
   "source": [
    "We have thus expressed the Hamiltonian in term of the quasi-spin operators.\n",
    "Below, we will show how we can rewrite these expressions in terms of Pauli $X$, $Y$ and $Z$ matrices."
   ]
  },
  {
   "cell_type": "markdown",
   "id": "6708e471",
   "metadata": {
    "editable": true
   },
   "source": [
    "## Commutation relations for the Hamiltonian\n",
    "\n",
    "The above expressions can in turn be used to show that the Hamiltonian\n",
    "commutes with the various quasi-spin operators. This leads to quantum\n",
    "numbers which are conserved.  Let us first show that $[H,J^2]=0$,\n",
    "which means that $J$ is a so-called *good* quantum number and that the\n",
    "total spin is a conserved quantum number.\n",
    "\n",
    "We have"
   ]
  },
  {
   "cell_type": "markdown",
   "id": "d356b1cd",
   "metadata": {
    "editable": true
   },
   "source": [
    "$$\n",
    "\\begin{align*}\n",
    "[H,J^2] &= [H_0 + H_1 + H_2,J^2] \\\\\n",
    "&= [H_0,J^2] + [H_1,J^2] + [H_2,J^2] \\\\\n",
    "&= \\varepsilon [J_z,J^2] + \\frac{1}{2} V [J_+^2 + J_-^2,J^2] +\n",
    "\\frac{1}{2} W [-N + J_+ J_- + J_- J_+,J^2]. \\\\\n",
    "\\end{align*}\n",
    "$$"
   ]
  },
  {
   "cell_type": "markdown",
   "id": "f9320732",
   "metadata": {
    "editable": true
   },
   "source": [
    "## Hamiltonian and commutators\n",
    "\n",
    "We have previously shown that"
   ]
  },
  {
   "cell_type": "markdown",
   "id": "b0332d8f",
   "metadata": {
    "editable": true
   },
   "source": [
    "$$\n",
    "[H,J^2] = \\frac{1}{2} V \\left( [J_+^2,J^2] + [J_-^2,J^2] \\right) +\n",
    "\\frac{1}{2} W \\left( -[N,J^2] + [J_+ J_-,J^2] + [J_- J_+, J^2] \\right)\n",
    "$$"
   ]
  },
  {
   "cell_type": "markdown",
   "id": "d47fd174",
   "metadata": {
    "editable": true
   },
   "source": [
    "Using that $[J_\\pm,J^2] = 0$, it follows that $[J_\\pm^2,J^2] = 0$. We can then see that $[J_+ J_-,J^2] = 0$ and $[J_- J_+, J^2] = 0$ which leads to"
   ]
  },
  {
   "cell_type": "markdown",
   "id": "1241f784",
   "metadata": {
    "editable": true
   },
   "source": [
    "$$\n",
    "\\begin{align*}\n",
    "[H,J^2] &= -\\frac{1}{2} W [N,J^2] \\\\\n",
    "&= \\frac{1}{2} W \\left( -[N,J_+ J_-] - [N,J_z^2] + [N,J_z] \\right) \\\\\n",
    "&= \\frac{1}{2} W \\left( -[N,J_+]J_- - J_+[N,J_-] - [N,J_z]J_z - J_z[N,J_z] + [N,J_z] \\right).\n",
    "\\end{align*}\n",
    "$$"
   ]
  },
  {
   "cell_type": "markdown",
   "id": "7c0bb1b9",
   "metadata": {
    "editable": true
   },
   "source": [
    "## Including the number operator\n",
    "\n",
    "Combining with the number operator we have"
   ]
  },
  {
   "cell_type": "markdown",
   "id": "245d362e",
   "metadata": {
    "editable": true
   },
   "source": [
    "$$\n",
    "\\begin{align*}\n",
    "[N,J_\\pm] &= N J_\\pm - J_\\pm N \\\\\n",
    "&= \\left( \\sum_{p,\\sigma} a_{p\\sigma}^\\dagger a_{p\\sigma} \\right)\n",
    "\\left( \\sum_{p'} a_{p'\\pm}^\\dagger a_{p'\\mp} \\right) -\n",
    "\\left( \\sum_{p'} a_{p'\\pm}^\\dagger a_{p'\\mp} \\right)\n",
    "\\left( \\sum_{p,\\sigma} a_{p\\sigma}^\\dagger a_{p\\sigma} \\right) \\\\\n",
    "&= \\sum_{p,p',\\sigma}\n",
    "a_{p\\sigma}^\\dagger a_{p\\sigma} a_{p'\\pm}^\\dagger a_{p'\\mp} -\n",
    "a_{p'\\pm}^\\dagger a_{p'\\mp} a_{p\\sigma}^\\dagger a_{p\\sigma} \\\\\n",
    "&= \\sum_{p,p',\\sigma}\n",
    "a_{p\\sigma}^\\dagger a_{p\\sigma} a_{p'\\pm}^\\dagger a_{p'\\mp} -\n",
    "a_{p'\\pm}^\\dagger \\left( \\delta_{\\mp \\sigma} \\delta_{pp'} - a_{p\\sigma}^\\dagger a_{p'\\mp} \\right) a_{p\\sigma} \\\\\n",
    "&= \\sum_{p,p',\\sigma}\n",
    "a_{p\\sigma}^\\dagger a_{p\\sigma} a_{p'\\pm}^\\dagger a_{p'\\mp} -\n",
    "a_{p'\\pm}^\\dagger \\delta_{\\mp \\sigma} \\delta_{pp'} a_{p\\sigma} +\n",
    "a_{p'\\pm}^\\dagger a_{p\\sigma}^\\dagger a_{p'\\mp} a_{p\\sigma} \\\\\n",
    "&= \\sum_{p,p',\\sigma}\n",
    "a_{p\\sigma}^\\dagger a_{p\\sigma} a_{p'\\pm}^\\dagger a_{p'\\mp} +\n",
    "a_{p\\sigma}^\\dagger a_{p'\\pm}^\\dagger a_{p\\sigma} a_{p'\\mp} -\n",
    "\\sum_{p} a_{p\\pm}^\\dagger  a_{p\\mp} \\\\\n",
    "&= \\sum_{p,p',\\sigma}\n",
    "a_{p\\sigma}^\\dagger a_{p\\sigma} a_{p'\\pm}^\\dagger a_{p'\\mp} +\n",
    "a_{p\\sigma}^\\dagger \\left( \\delta_{pp'} \\delta_{\\pm \\sigma} -\n",
    "a_{p\\sigma} a_{p'\\pm}^\\dagger \\right) a_{p'\\mp} -\n",
    "\\sum_{p} a_{p\\pm}^\\dagger  a_{p\\mp} \\\\\n",
    "&= \\sum_p a_{p\\pm}^\\dagger a_{p\\mp} -\n",
    "\\sum_{p} a_{p\\pm}^\\dagger  a_{p\\mp} = 0. \\\\\n",
    "\\end{align*}\n",
    "$$"
   ]
  },
  {
   "cell_type": "markdown",
   "id": "0e2840e5",
   "metadata": {
    "editable": true
   },
   "source": [
    "## Hamiltonian and angular momentum commutators\n",
    "\n",
    "We obtain then"
   ]
  },
  {
   "cell_type": "markdown",
   "id": "87b13a64",
   "metadata": {
    "editable": true
   },
   "source": [
    "$$\n",
    "\\begin{align*}\n",
    "[N,J_z] &= N J_z - J_z N \\\\\n",
    "&= \\left( \\sum_{p,\\sigma} a_{p\\sigma}^\\dagger a_{p\\sigma} \\right)\n",
    "\\left( \\frac{1}{2}\\sum_{p',\\sigma} \\sigma a_{p'\\sigma}^\\dagger a_{p'\\sigma} \\right) -\n",
    "\\left( \\frac{1}{2}\\sum_{p',\\sigma} \\sigma a_{p'\\sigma}^\\dagger a_{p'\\sigma} \\right)\n",
    "\\left( \\sum_{p,\\sigma} a_{p\\sigma}^\\dagger a_{p\\sigma} \\right) \\\\\n",
    "&= \\sum_{p,p',\\sigma} \n",
    "\\sigma a_{p\\sigma}^\\dagger a_{p\\sigma} a_{p'\\sigma}^\\dagger a_{p'\\sigma} -\n",
    "\\sigma a_{p'\\sigma}^\\dagger a_{p'\\sigma} a_{p\\sigma}^\\dagger a_{p\\sigma} = 0,\n",
    "\\end{align*}\n",
    "$$"
   ]
  },
  {
   "cell_type": "markdown",
   "id": "a89b5c9b",
   "metadata": {
    "editable": true
   },
   "source": [
    "which leads to"
   ]
  },
  {
   "cell_type": "markdown",
   "id": "948a73ce",
   "metadata": {
    "editable": true
   },
   "source": [
    "<!-- Equation labels as ordinary links -->\n",
    "<div id=\"eq:kHJ2\"></div>\n",
    "\n",
    "$$\n",
    "\\begin{equation}\n",
    "[H,J^2] = 0,\n",
    "\\label{eq:kHJ2} \\tag{17}\n",
    "\\end{equation}\n",
    "$$"
   ]
  },
  {
   "cell_type": "markdown",
   "id": "2a22ae98",
   "metadata": {
    "editable": true
   },
   "source": [
    "and $J$ is a good quantum number."
   ]
  },
  {
   "cell_type": "markdown",
   "id": "b0618166",
   "metadata": {
    "editable": true
   },
   "source": [
    "## Constructing the Hamiltonian matrix for $J=2$\n",
    "\n",
    "We start with the state (unique) where all spins point down"
   ]
  },
  {
   "cell_type": "markdown",
   "id": "6bfca5c5",
   "metadata": {
    "editable": true
   },
   "source": [
    "<!-- Equation labels as ordinary links -->\n",
    "<div id=\"eq:2,-2\"></div>\n",
    "\n",
    "$$\n",
    "\\begin{equation}\n",
    "\\vert 2,-2\\rangle = a_{1-}^{\\dagger} a_{2-}^{\\dagger}\n",
    "a_{3-}^{\\dagger} a_{4-}^{\\dagger} \\vert 0\\rangle\n",
    "\\label{eq:2,-2} \\tag{18}\n",
    "\\end{equation}\n",
    "$$"
   ]
  },
  {
   "cell_type": "markdown",
   "id": "fc59df5a",
   "metadata": {
    "editable": true
   },
   "source": [
    "which is a state with  $J_z = -2$ and $J = 2$. (we label the states as $\\vert J,J_z\\rangle$). For $J = 2$ we have the spin projections $J_z = -2,-1,0,1,2$.\n",
    "We can use the lowering and raising operators for spin in order to define the other states"
   ]
  },
  {
   "cell_type": "markdown",
   "id": "44886a40",
   "metadata": {
    "editable": true
   },
   "source": [
    "<!-- Equation labels as ordinary links -->\n",
    "<div id=\"eq:J+ket\"></div>\n",
    "\n",
    "$$\n",
    "\\begin{equation}\n",
    "J_+ \\vert J,J_z\\rangle = \\sqrt{J(J+1) - J_z(J_z + 1)} \\vert J,J_z + 1\\rangle,\n",
    "\\label{eq:J+ket} \\tag{19} \n",
    "\\end{equation}\n",
    "$$"
   ]
  },
  {
   "cell_type": "markdown",
   "id": "0d4e752d",
   "metadata": {
    "editable": true
   },
   "source": [
    "<!-- Equation labels as ordinary links -->\n",
    "<div id=\"eq:J-ket\"></div>\n",
    "\n",
    "$$\n",
    "\\begin{equation} \n",
    "J_- \\vert J,J_z\\rangle = \\sqrt{J(J+1) - J_z(J_z - 1)} \\vert J,J_z - 1\\rangle.\n",
    "\\label{eq:J-ket} \\tag{20}\n",
    "\\end{equation}\n",
    "$$"
   ]
  },
  {
   "cell_type": "markdown",
   "id": "efbb7c16",
   "metadata": {
    "editable": true
   },
   "source": [
    "## Constructing the Hamiltonian matrix for the other states\n",
    "\n",
    "We can then construct all other states with $J=2$ using the raising operator\n",
    "$J_+$ on $\\vert 2,-2\\rangle$"
   ]
  },
  {
   "cell_type": "markdown",
   "id": "62bf225d",
   "metadata": {
    "editable": true
   },
   "source": [
    "$$\n",
    "J_+ \\vert 2,-2\\rangle = \\sqrt{2(2+1) - (-2)(-2+1)} \\vert 2,-2+1\\rangle =\\sqrt{6 - 2} \\vert 2,-1\\rangle = 2\\vert 2,-1\\rangle,\n",
    "$$"
   ]
  },
  {
   "cell_type": "markdown",
   "id": "35db803d",
   "metadata": {
    "editable": true
   },
   "source": [
    "which gives"
   ]
  },
  {
   "cell_type": "markdown",
   "id": "4af7f3f8",
   "metadata": {
    "editable": true
   },
   "source": [
    "<!-- Equation labels as ordinary links -->\n",
    "<div id=\"_auto1\"></div>\n",
    "\n",
    "$$\n",
    "\\begin{equation}\n",
    "\\vert 2,-1\\rangle = \\frac{1}{2} J_+ \\vert 2,-2\\rangle \\notag \n",
    "\\label{_auto1} \\tag{21}\n",
    "\\end{equation}\n",
    "$$"
   ]
  },
  {
   "cell_type": "markdown",
   "id": "649e99c5",
   "metadata": {
    "editable": true
   },
   "source": [
    "<!-- Equation labels as ordinary links -->\n",
    "<div id=\"_auto2\"></div>\n",
    "\n",
    "$$\n",
    "\\begin{equation} \n",
    "= \\frac{1}{2} \\sum_p a_{p+}^\\dagger a_{p-} a_{1-}^{\\dagger} a_{2-}^{\\dagger}\n",
    "a_{3-}^{\\dagger} a_{4-}^{\\dagger} \\vert 0\\rangle \\notag \n",
    "\\label{_auto2} \\tag{22}\n",
    "\\end{equation}\n",
    "$$"
   ]
  },
  {
   "cell_type": "markdown",
   "id": "134a1d68",
   "metadata": {
    "editable": true
   },
   "source": [
    "<!-- Equation labels as ordinary links -->\n",
    "<div id=\"eq:2,-1\"></div>\n",
    "\n",
    "$$\n",
    "\\begin{equation} \n",
    "= \\frac{1}{2} \\left(\n",
    "a_{1+}^{\\dagger} a_{2-}^{\\dagger} a_{3-}^{\\dagger} a_{4-}^{\\dagger} +\n",
    "a_{1-}^{\\dagger} a_{2+}^{\\dagger} a_{3-}^{\\dagger} a_{4-}^{\\dagger} +\n",
    "a_{1-}^{\\dagger} a_{2-}^{\\dagger} a_{3+}^{\\dagger} a_{4-}^{\\dagger} +\n",
    "a_{1-}^{\\dagger} a_{2-}^{\\dagger} a_{3-}^{\\dagger} a_{4+}^{\\dagger}\n",
    "\\right) \\vert 0\\rangle. \\label{eq:2,-1} \\tag{23}\n",
    "\\end{equation}\n",
    "$$"
   ]
  },
  {
   "cell_type": "markdown",
   "id": "aaad1159",
   "metadata": {
    "editable": true
   },
   "source": [
    "## Constructing the Hamiltonian matrix\n",
    "\n",
    "We can construct all the other states in the same way. That is"
   ]
  },
  {
   "cell_type": "markdown",
   "id": "f9d2b240",
   "metadata": {
    "editable": true
   },
   "source": [
    "$$\n",
    "J_+ \\vert 2,-1\\rangle = \\sqrt{2(2+1) - (-1)(-1+1)} \\vert 2,-1+1\\rangle = \\sqrt{6} \\vert 2,0\\rangle,\n",
    "$$"
   ]
  },
  {
   "cell_type": "markdown",
   "id": "6283e6d6",
   "metadata": {
    "editable": true
   },
   "source": [
    "which results in"
   ]
  },
  {
   "cell_type": "markdown",
   "id": "acc96d82",
   "metadata": {
    "editable": true
   },
   "source": [
    "<!-- Equation labels as ordinary links -->\n",
    "<div id=\"eq:2,0\"></div>\n",
    "\n",
    "$$\n",
    "\\begin{equation}\n",
    "\\begin{aligned}\n",
    "\\vert 2,0\\rangle &= \\frac{1}{\\sqrt{6}} \\left(\n",
    "a_{1+}^{\\dagger} a_{2+}^{\\dagger} a_{3-}^{\\dagger} a_{4-}^{\\dagger} +\n",
    "a_{1+}^{\\dagger} a_{2-}^{\\dagger} a_{3+}^{\\dagger} a_{4-}^{\\dagger} +\n",
    "a_{1+}^{\\dagger} a_{2-}^{\\dagger} a_{3-}^{\\dagger} a_{4+}^{\\dagger} +\n",
    "a_{1-}^{\\dagger} a_{2+}^{\\dagger} a_{3+}^{\\dagger} a_{4-}^{\\dagger} + \\right. \\\\\n",
    "&\\quad\\,\\, \\left.\n",
    "a_{1-}^{\\dagger} a_{2+}^{\\dagger} a_{3-}^{\\dagger} a_{4+}^{\\dagger} +\n",
    "a_{1-}^{\\dagger} a_{2-}^{\\dagger} a_{3+}^{\\dagger} a_{4+}^{\\dagger} \\right) \\vert 0\\rangle\n",
    "\\end{aligned}\n",
    "\\label{eq:2,0} \\tag{24}\n",
    "\\end{equation}\n",
    "$$"
   ]
  },
  {
   "cell_type": "markdown",
   "id": "bdec336a",
   "metadata": {
    "editable": true
   },
   "source": [
    "## Constructing the Hamiltonian matrix, last two states\n",
    "\n",
    "The two remaining states are"
   ]
  },
  {
   "cell_type": "markdown",
   "id": "37a254e8",
   "metadata": {
    "editable": true
   },
   "source": [
    "<!-- Equation labels as ordinary links -->\n",
    "<div id=\"eq:2,1\"></div>\n",
    "\n",
    "$$\n",
    "\\begin{equation}\n",
    "\\vert2,1\\rangle  = \\frac{1}{2} \\left(\n",
    "a_{1+}^{\\dagger} a_{2+}^{\\dagger} a_{3+}^{\\dagger} a_{4-}^{\\dagger} +\n",
    "a_{1+}^{\\dagger} a_{2+}^{\\dagger} a_{3-}^{\\dagger} a_{4+}^{\\dagger} +\n",
    "a_{1+}^{\\dagger} a_{2-}^{\\dagger} a_{3+}^{\\dagger} a_{4+}^{\\dagger} +\n",
    "a_{1-}^{\\dagger} a_{2+}^{\\dagger} a_{3+}^{\\dagger} a_{4+}^{\\dagger}\n",
    " \\right).\n",
    "\\label{eq:2,1} \\tag{25}\n",
    "\\end{equation}\n",
    "$$"
   ]
  },
  {
   "cell_type": "markdown",
   "id": "c2239e6f",
   "metadata": {
    "editable": true
   },
   "source": [
    "and"
   ]
  },
  {
   "cell_type": "markdown",
   "id": "046327d9",
   "metadata": {
    "editable": true
   },
   "source": [
    "<!-- Equation labels as ordinary links -->\n",
    "<div id=\"eq:2,2\"></div>\n",
    "\n",
    "$$\n",
    "\\begin{equation}\n",
    "\\vert 2,2\\rangle  = a_{1+}^{\\dagger} a_{2+}^{\\dagger} a_{3+}^{\\dagger} a_{4+}^{\\dagger} \\vert 0\\rangle.\n",
    "\\label{eq:2,2} \\tag{26}\n",
    "\\end{equation}\n",
    "$$"
   ]
  },
  {
   "cell_type": "markdown",
   "id": "3da8ff31",
   "metadata": {
    "editable": true
   },
   "source": [
    "## Final Hamiltonian matrix\n",
    "These five states can in turn be used as computational basis states in\n",
    "order to define the Hamiltonian matrix to be diagonalized.\n",
    "The matrix elements are given by $\\langle J,J_z \\vert H \\vert J',J_z' \\rangle$.\n",
    "The\n",
    "Hamiltonian is hermitian and we obtain after all this labor of ours"
   ]
  },
  {
   "cell_type": "markdown",
   "id": "bce7b526",
   "metadata": {
    "editable": true
   },
   "source": [
    "<!-- Equation labels as ordinary links -->\n",
    "<div id=\"eq:HJ=2\"></div>\n",
    "\n",
    "$$\n",
    "\\begin{equation}\n",
    "H_{J = 2} =\n",
    "\\begin{bmatrix}\n",
    "-2\\varepsilon & 0 & \\sqrt{6}V & 0 & 0 \\\\\n",
    "0 & -\\varepsilon + 3W & 0 & 3V & 0 \\\\\n",
    "\\sqrt{6}V & 0 & 4W & 0 & \\sqrt{6}V \\\\\n",
    "0 & 3V & 0 & \\varepsilon + 3W & 0 \\\\\n",
    "0 & 0 & \\sqrt{6}V & 0 & 2\\varepsilon\n",
    "\\end{bmatrix}\n",
    "\\label{eq:HJ=2} \\tag{27}\n",
    "\\end{equation}\n",
    "$$"
   ]
  },
  {
   "cell_type": "markdown",
   "id": "6b305b7a",
   "metadata": {
    "editable": true
   },
   "source": [
    "## Comparing with standard diagonalization\n",
    "We can now select a set of parameters and diagonalize the above matrix. We select $\\epsilon = 2$, $V = -1/3$, $W = -1/4$ and our matrix becoes"
   ]
  },
  {
   "cell_type": "markdown",
   "id": "e1d09037",
   "metadata": {
    "editable": true
   },
   "source": [
    "$$\n",
    "H_{J=2}^{(1)} =\n",
    "\\begin{bmatrix}\n",
    "-4 & 0 & -\\sqrt{6}/3 & 0 & 0 \\\\\n",
    "0 & -2 - 3/4 & 0 & -1 & 0 \\\\\n",
    "-\\sqrt{6}/3 & 0 & -1 & 0 & -\\sqrt{6}/3 \\\\\n",
    "0 & -1 & 0 & 2 + -3/4 & 0 \\\\\n",
    "0 & 0 & -\\sqrt{6}/3 & 0 & 4\n",
    "\\end{bmatrix},\n",
    "$$"
   ]
  },
  {
   "cell_type": "markdown",
   "id": "48c746ea",
   "metadata": {
    "editable": true
   },
   "source": [
    "which gives the eigenvalue"
   ]
  },
  {
   "cell_type": "markdown",
   "id": "f2238502",
   "metadata": {
    "editable": true
   },
   "source": [
    "$$\n",
    "D = \\begin{bmatrix}\n",
    "-4.21288 &  0 &  0 &  0 &  0 \\\\\n",
    "0 & -2.98607  & 0  & 0  & 0 \\\\\n",
    "0 &  0 & -0.91914  & 0  & 0 \\\\\n",
    "0 &  0 & 0   & 1.48607  & 0 \\\\\n",
    "0 &  0  & 0  & 0  & 4.13201\n",
    "\\end{bmatrix}.\n",
    "$$"
   ]
  },
  {
   "cell_type": "markdown",
   "id": "eb52961f",
   "metadata": {
    "editable": true
   },
   "source": [
    "The lowest state has an admixture of basis states given by"
   ]
  },
  {
   "cell_type": "markdown",
   "id": "e04388e9",
   "metadata": {
    "editable": true
   },
   "source": [
    "$$\n",
    "\\vert \\psi_0\\rangle = 0.96735\\vert2,-2\\rangle + 0.25221\\vert 2,0\\rangle + 0.02507\\vert 2,2\\rangle,\n",
    "$$"
   ]
  },
  {
   "cell_type": "markdown",
   "id": "3bceac5b",
   "metadata": {
    "editable": true
   },
   "source": [
    "with energy $E_0 = -4.21288$."
   ]
  },
  {
   "cell_type": "markdown",
   "id": "37ae1211",
   "metadata": {
    "editable": true
   },
   "source": [
    "## Comparing with standard diagonalization, other parameters\n",
    "\n",
    "We can now change the parameters to\n",
    "$\\varepsilon = 2$, $V = -4/3$, $W = -1$. Our matrix reads then"
   ]
  },
  {
   "cell_type": "markdown",
   "id": "cf134310",
   "metadata": {
    "editable": true
   },
   "source": [
    "$$\n",
    "H_{J=2}^{(2)} =\n",
    "\\begin{bmatrix}\n",
    "-4 & 0 & -4\\sqrt{6}/3 & 0 & 0 \\\\\n",
    "0 & -5 & 0 & -4 & 0 \\\\\n",
    "-4\\sqrt{6}/3 & 0 & -4 & 0 & -4\\sqrt{6}/3 \\\\\n",
    "0 & -4 & 0 & -1 & 0 \\\\\n",
    "0 & 0 & -4\\sqrt{6}/3 & 0 & 4\n",
    "\\end{bmatrix},\n",
    "$$"
   ]
  },
  {
   "cell_type": "markdown",
   "id": "c61ced46",
   "metadata": {
    "editable": true
   },
   "source": [
    "with the following eigenvalues"
   ]
  },
  {
   "cell_type": "markdown",
   "id": "220fa3fc",
   "metadata": {
    "editable": true
   },
   "source": [
    "$$\n",
    "D = \\begin{bmatrix}\n",
    "-7.75122 &  0 &  0 &  0  & 0 \\\\\n",
    "0 & -7.47214  & 0  & 0  & 0 \\\\\n",
    "0 &  0  & -1.55581 &  0  & 0 \\\\\n",
    "0 &  0  & 0  & 1.47214  & 0 \\\\\n",
    "0 &  0  & 0  & 0  & 5.30704\n",
    "\\end{bmatrix}.\n",
    "$$"
   ]
  },
  {
   "cell_type": "markdown",
   "id": "d2f986b9",
   "metadata": {
    "editable": true
   },
   "source": [
    "The new ground state (lowest state) has the following admixture of computational basis states"
   ]
  },
  {
   "cell_type": "markdown",
   "id": "659f50ea",
   "metadata": {
    "editable": true
   },
   "source": [
    "$$\n",
    "\\vert \\psi_0\\rangle = 0.64268\\vert 2,-2\\rangle + 0.73816\\vert 2,0\\rangle + 0.20515 \\vert 2,2\\rangle,\n",
    "$$"
   ]
  },
  {
   "cell_type": "markdown",
   "id": "9c88f810",
   "metadata": {
    "editable": true
   },
   "source": [
    "with energy $E_0 = -7.75122$."
   ]
  },
  {
   "cell_type": "markdown",
   "id": "e1cbbbd4",
   "metadata": {
    "editable": true
   },
   "source": [
    "## Analysis\n",
    "For the first set of parameters, the likelihood for observing the\n",
    "system in the computational basis state $\\vert 2,-2 \\rangle$ is rather\n",
    "large. This is expected since the interaction matrix elements are\n",
    "smaller than the single-particle energies.  For the second case, with\n",
    "larger matrix elements, we see a much stronger mixing of the other\n",
    "states, again as expected due to the ratio of the interaction matrix\n",
    "elements and the single-particle energies."
   ]
  }
 ],
 "metadata": {},
 "nbformat": 4,
 "nbformat_minor": 5
}
